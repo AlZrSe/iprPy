{
 "cells": [
  {
   "cell_type": "markdown",
   "metadata": {},
   "source": [
    "# dislocation_SDVPN Calculation\n",
    "\n",
    "**Lucas M. Hale**, [lucas.hale@nist.gov](mailto:lucas.hale@nist.gov?Subject=ipr-demo), *Materials Science and Engineering Division, NIST*.\n",
    "\n",
    "**Chandler A. Becker**, [chandler.becker@nist.gov](mailto:chandler.becker@nist.gov?Subject=ipr-demo), *Office of Data and Informatics, NIST*.\n",
    "\n",
    "**Zachary T. Trautt**, [zachary.trautt@nist.gov](mailto:zachary.trautt@nist.gov?Subject=ipr-demo), *Materials Measurement Science Division, NIST*.\n",
    "\n",
    "Version: 2018-09-24\n",
    "\n",
    "[Disclaimers](http://www.nist.gov/public_affairs/disclaimer.cfm)\n",
    "\n",
    "## Introduction\n",
    "\n",
    "The __dislocation_SDVPN__ calculation predicts a dislocation's planar spreading using the semidiscrete variational Peierls-Nabarro method.  The solution finds the disregistry (difference in displacement above and below the slip plane) that minimizes the dislocation's energy.  The energy term consists of two primary components: an elastic component due to the dislocation interacting with itself, and a misfit component arising from the formation of a generalized stacking fault along the dislocation's spreading.\n",
    "\n",
    "__Disclaimer #1__: The calculation method solves the problem using a 2D generalized stacking fault energy map.  Better results may be possible by measuring a full 3D map, but that would require adding a new calculation for the 3D variation.\n",
    "\n",
    "__Disclaimer #2__: The implemented method is suited for dislocations with planar spreading. It is not suited for dislocations that spread on multiple atomic planes, like the a/2<111> bcc screw dislocation.\n",
    "\n",
    "__Disclaimer #3__: While the solution is taken at discrete points that (typically) correspond to atomic sites, the underlying method is still a continuum solution that does not fully account for the atomic nature of the dislocation."
   ]
  },
  {
   "cell_type": "markdown",
   "metadata": {},
   "source": [
    "## Method and Theory\n",
    "\n",
    "This calculation method is a wrapper around the atomman.defect.SDVPN class.  More details on the method and theory can be found in the [associated tutorial within the atomman documentation](https://www.ctcms.nist.gov/potentials/atomman/tutorial/04.4._Semidiscrete_Variational_Peierls-Nabarro.html)."
   ]
  },
  {
   "cell_type": "markdown",
   "metadata": {},
   "source": [
    "## Demonstration"
   ]
  },
  {
   "cell_type": "markdown",
   "metadata": {},
   "source": [
    "### 1. Setup"
   ]
  },
  {
   "cell_type": "markdown",
   "metadata": {},
   "source": [
    "#### 1.1 Library imports"
   ]
  },
  {
   "cell_type": "markdown",
   "metadata": {},
   "source": [
    "Import libraries needed by the calculation. The external libraries used are:\n",
    "\n",
    "- [numpy](http://www.numpy.org/)\n",
    "\n",
    "- [scipy](https://scipy.org/scipylib/)\n",
    "\n",
    "- [matplotlib](https://matplotlib.org/)\n",
    "\n",
    "- [DataModelDict](https://github.com/usnistgov/DataModelDict)\n",
    "\n",
    "- [atomman](https://github.com/usnistgov/atomman)\n",
    "\n",
    "- [iprPy](https://github.com/usnistgov/iprPy)"
   ]
  },
  {
   "cell_type": "code",
   "execution_count": 1,
   "metadata": {},
   "outputs": [
    {
     "name": "stdout",
     "output_type": "stream",
     "text": [
      "Notebook last executed on 2018-09-24 using iprPy version 0.8.2\n"
     ]
    }
   ],
   "source": [
    "# Standard library imports\n",
    "from __future__ import division, absolute_import, print_function\n",
    "import os\n",
    "import sys\n",
    "import uuid\n",
    "import glob\n",
    "import shutil\n",
    "import random\n",
    "import datetime\n",
    "from copy import deepcopy\n",
    "\n",
    "# http://www.numpy.org/\n",
    "import numpy as np \n",
    "\n",
    "# https://matplotlib.org/\n",
    "import matplotlib.pyplot as plt\n",
    "%matplotlib inline\n",
    "\n",
    "# https://github.com/usnistgov/DataModelDict \n",
    "from DataModelDict import DataModelDict as DM\n",
    "\n",
    "# https://github.com/usnistgov/atomman \n",
    "import atomman as am\n",
    "import atomman.lammps as lmp\n",
    "import atomman.unitconvert as uc\n",
    "\n",
    "# https://github.com/usnistgov/iprPy\n",
    "import iprPy\n",
    "\n",
    "print('Notebook last executed on', datetime.date.today(), 'using iprPy version', iprPy.__version__)"
   ]
  },
  {
   "cell_type": "markdown",
   "metadata": {},
   "source": [
    "#### 1.2. Default calculation setup"
   ]
  },
  {
   "cell_type": "code",
   "execution_count": 2,
   "metadata": {},
   "outputs": [],
   "source": [
    "# Specify calculation style\n",
    "calc_style = 'dislocation_SDVPN'\n",
    "\n",
    "# If workingdir is already set, then do nothing (already in correct folder)\n",
    "try:\n",
    "    workingdir = workingdir\n",
    "\n",
    "# Change to workingdir if not already there\n",
    "except:\n",
    "    workingdir = os.path.join(os.getcwd(), 'calculationfiles', calc_style)\n",
    "    if not os.path.isdir(workingdir):\n",
    "        os.mkdir(workingdir)\n",
    "    os.chdir(workingdir)\n",
    "\n",
    "# Default iprPy library directory\n",
    "librarydir = os.path.join(iprPy.rootdir, '..', 'library')"
   ]
  },
  {
   "cell_type": "markdown",
   "metadata": {},
   "source": [
    "### 2. Assign values for the calculation's run parameters"
   ]
  },
  {
   "cell_type": "markdown",
   "metadata": {},
   "source": [
    "#### 2.1 Specify the prototype unit cell system\n",
    "\n",
    "Simple input parameters:\n",
    "\n",
    "- __prototype_name__ gives the name of the crystal_prototype reference record in the iprPy library to use for ucell. \n",
    "\n",
    "- __box_parameters__ defines the box parameters to scale ucell to. This is a list of either three or six floats\n",
    "    - __[a, b, c]__ are the orthogonal lattice parameters in length units.\n",
    "    - __[a, b, c, alpha, beta, gamma]__ are the triclinic lattice parameters in length units and angles in degrees.\n",
    "\n",
    "Derived parameters:\n",
    "\n",
    "- __prototype_path__ gives the path to the crystal_prototype reference record to use. (Here, it is derived from lib_directory and prototype_name).\n",
    "\n",
    "- __ucell__ is an atomman.System representing a fundamental unit cell of the system. (Here, it is loaded from prototype_path file, then scaled using box_parameters)."
   ]
  },
  {
   "cell_type": "code",
   "execution_count": 3,
   "metadata": {},
   "outputs": [
    {
     "name": "stdout",
     "output_type": "stream",
     "text": [
      "avect =  [ 3.520,  0.000,  0.000]\n",
      "bvect =  [ 0.000,  3.520,  0.000]\n",
      "cvect =  [ 0.000,  0.000,  3.520]\n",
      "origin = [ 0.000,  0.000,  0.000]\n",
      "natoms = 4\n",
      "natypes = 1\n",
      "symbols = ('Ni',)\n",
      "pbc = [ True  True  True]\n",
      "     id |   atype |  pos[0] |  pos[1] |  pos[2]\n",
      "      0 |       1 |   0.000 |   0.000 |   0.000\n",
      "      1 |       1 |   0.000 |   1.760 |   1.760\n",
      "      2 |       1 |   1.760 |   0.000 |   1.760\n",
      "      3 |       1 |   1.760 |   1.760 |   0.000\n"
     ]
    }
   ],
   "source": [
    "prototype_name = 'A1--Cu--fcc'\n",
    "symbols = ['Ni']\n",
    "box_parameters = uc.set_in_units([3.52, 3.52, 3.52], 'angstrom')\n",
    "\n",
    "# Define load_file using librarydir and prototype_name\n",
    "load_file = os.path.join(librarydir, 'crystal_prototype', prototype_name+'.json')\n",
    "\n",
    "# Define load_style and load_options for crystal_prototype records\n",
    "load_style = 'system_model'\n",
    "load_options = {}\n",
    "\n",
    "# Create ucell by loading prototype record\n",
    "ucell = am.load(load_style, load_file, symbols=symbols, **load_options)\n",
    "\n",
    "# Rescale ucell using box_parameters\n",
    "ucell.box_set(a=box_parameters[0], b=box_parameters[1], c=box_parameters[2], scale=True)\n",
    "\n",
    "print(ucell)"
   ]
  },
  {
   "cell_type": "markdown",
   "metadata": {},
   "source": [
    "#### 2.2 Specify material elastic constants\n",
    "\n",
    "Simple input parameters:\n",
    "\n",
    "- __C_dict__ is a dictionary containing the unique elastic constants for the potential and crystal structure defined above. \n",
    "\n",
    "Derived parameters\n",
    "\n",
    "- __C__ is an atomman.ElasticConstants object built from C_dict."
   ]
  },
  {
   "cell_type": "code",
   "execution_count": 4,
   "metadata": {},
   "outputs": [],
   "source": [
    "C_dict = {}\n",
    "C_dict['C11'] = uc.set_in_units(247.86, 'GPa')\n",
    "C_dict['C12'] = uc.set_in_units(147.83, 'GPa')\n",
    "C_dict['C44'] = uc.set_in_units(124.84, 'GPa')\n",
    "\n",
    "# -------------- Derived parameters -------------- #\n",
    "# Build ElasticConstants object from C_dict terms\n",
    "C = am.ElasticConstants(**C_dict)"
   ]
  },
  {
   "cell_type": "markdown",
   "metadata": {},
   "source": [
    "#### 2.3 Specify the defect parameters\n",
    "\n",
    "- __gammasurface_file__ gives the path to a data model file containing 2D gamma surface results.  This can be a calc_stacking_fault_map_2D record.\n",
    "\n",
    "- __dislocation_name__ gives the name of the dislocation_monopole reference record in the iprPy library to use for potential. \n",
    "\n",
    "- __dislocation_file__ gives the path to a dislocation_monopole reference containing defect input parameters. Here, this is built automatically using dislocation_name and librarydir.\n",
    "\n",
    "- __dislocation_kwargs__ is a dictionary containing parameters for generating the defect. Values are extracted from the dislocation_model record and uniquely define a type of stacking fault. Included keywords are:\n",
    "\n",
    "    - __burgers__ is the crystallographic Burgers vector for the dislocation\n",
    "    \n",
    "    - __a_uvw, b_uvw, c_uvw__ specifies how to orient the system by defining the crystal vectors of ucell to place along the three system box vectors.\n",
    "    \n",
    "    - __atomshift__ is a 3D vector rigid-body shift to apply to atoms in the system. The atomshift vector is relative to the rotated unit cell's box vectors.\n",
    "    \n",
    "    - __stroh_m__ a Cartesian unit vector used by the Stroh method to define the created dislocation's orientation and type. This vector is in the dislocation's slip plane and perpendicular to the dislocation's line direction. Default value is \\[0, 1, 0\\], i.e. along the y-axis. \n",
    "    \n",
    "    - __stroh_n__ a Cartesian unit vector used by the Stroh method to define the created dislocation's orientation and type. This vector is normal to the dislocation's slip plane. Default value is \\[0, 0, 1\\], i.e. along the z-axis.\n",
    "    \n",
    "    - __lineboxvector__ the system box vector, 'a', 'b', or 'c', along which the dislocation line is placed parallel to. Default value is 'a'."
   ]
  },
  {
   "cell_type": "code",
   "execution_count": 5,
   "metadata": {},
   "outputs": [
    {
     "name": "stderr",
     "output_type": "stream",
     "text": [
      "c:\\users\\lmh1\\documents\\python-packages\\atomman\\atomman\\lammps\\normalize.py:60: FutureWarning: `rcond` parameter will change to the default of machine precision times ``max(M, N)`` where M and N are the input matrix dimensions.\n",
      "To use the future default and silence this warning we advise to pass `rcond=None`, to keep using the old, explicitly pass `rcond=-1`.\n",
      "  transformation = np.linalg.lstsq(vects, system.box.vects)[0].T\n"
     ]
    }
   ],
   "source": [
    "gammasurface_file = '../stacking_fault_map_2D/gamma.json'\n",
    "\n",
    "#dislocation_name = 'A1--Cu--fcc--a-2-110--0-screw--{111}'\n",
    "dislocation_name = 'A1--Cu--fcc--a-2-110--90-edge--{111}'\n",
    "\n",
    "# Define dislocation_fi;e using librarydir and dislocation_name\n",
    "dislocation_file = os.path.join(librarydir, 'dislocation_monopole', dislocation_name+'.json')\n",
    "\n",
    "# Create dictionary of input parameters related to the defect\n",
    "inputs = {'ucell':ucell, 'dislocation_file':dislocation_file, 'gammasurface_file': gammasurface_file}\n",
    "    \n",
    "# Call input interpret functions\n",
    "iprPy.input.interpret('dislocationmonopole', inputs)\n",
    "iprPy.input.interpret('atomman_systemmanipulate', inputs)\n",
    "iprPy.input.interpret('atomman_gammasurface', inputs)\n",
    "\n",
    "# Show inputs\n",
    "inputs\n",
    "\n",
    "axes = inputs['transformationmatrix']"
   ]
  },
  {
   "cell_type": "markdown",
   "metadata": {},
   "source": [
    "#### 2.4 Specify calculation-specific run parameters\n",
    "\n",
    "- __xmax__: The maximum value of the x-coordinates to use for the points where the disregistry is evaluated.  The solution is centered around x=0, therefore this also corresponds to the minimum value of x used.  The set of x-coordinates used is fully defined by giving at least two of xmax, xstep and xnum.\n",
    "\n",
    "- __xstep__: The step size (delta x) value between the x-coordinates used to evaluate the disregistry.  The set of x-coordinates used is fully defined by giving at least two of xmax, xstep and xnum.\n",
    "\n",
    "- __xnum__: The total number of x-coordinates at which to evaluate the disregistry.  The set of x-coordinates used is fully defined by giving at least two of xmax, xstep and xnum.\n",
    "\n",
    "- __minimize_style__: The scipy.optimize.minimize method style to use when solving for the disregistry.  Default value is 'Powell', which seems to do decently well for this problem.\n",
    "\n",
    "- __minimize_options__: Allows for the specification of the options dictionary used by scipy.optimize.minimize. This is given as \"key value key value...\".\n",
    "\n",
    "- __minimize_cycles__: Specifies the number of times to run the minimization in succession.  The minimization algorithms used by the underlying scipy code often benefit from restarting and rerunning the minimized configuration to achive a better fit.  Default value is 10.\n",
    "\n",
    "- __cutofflongrange__: The radial cutoff (in distance units) to use for the long-range elastic energy.  The long-range elastic energy is configuration-independent, so this value changes the dislocation's energy but not the computed disregistry profile. Default value is 1000 Angstroms.\n",
    "\n",
    "- __tau_xy__: Shear stress (in units of pressure) to apply to the system. Default value is 0 GPa.\n",
    "\n",
    "- __tau_yy__: Normal stress (in units of pressure) to apply to the system. Default value is 0 GPa.\n",
    "\n",
    "- __tau_yz__: Shear stress (in units of pressure) to apply to the system. Default value is 0 GPa.\n",
    "\n",
    "- __alpha__: Coefficient(s) (in pressure/length units) of the non-local energy correction term to use.  Default value is 0.0, meaning this correction is not applied.\n",
    "\n",
    "- __beta_xx, beta_yy, beta_zz, beta_xy, beta_xz, beta_yz__: Components of the surface energy coefficient tensor (in units pressure-length) to use. Default value is 0.0 GPa-Angstrom for all, meaning this correction is not applied.\n",
    "\n",
    "- __cdiffelastic, cdiffsurface, cdiffstress__: Booleans indicating how the dislocation density (derivative of disregistry) is computed within the elastic, surface and stress terms, respectively. If True, central difference is used, otherwise only the change between the current and previous points is used. Default values are True for cdiffsurface, and False for the other two.\n",
    "\n",
    "- __halfwidth__: The arctan disregistry halfwidth (in length units) to use for creating the initial disregistry guess.\n",
    "\n",
    "- __normalizedisreg__: Boolean indicating how the disregistry profile is handled.  If True (default), the disregistry is scaled such that the minimum x value has a disregistry of 0 and the maximum x value has a disregistry equal to the dislocation's Burgers vector.  Note that the disregistry for these endpoints is fixed, so if you use False the initial disregistry should be close to the final solution.\n",
    "\n",
    "- __fullstress__: Boolean indicating which of two stress formulas to use.  True uses the original full formulation, while False uses a newer, simpler representation.  Default value is True."
   ]
  },
  {
   "cell_type": "code",
   "execution_count": 6,
   "metadata": {},
   "outputs": [],
   "source": [
    "xmax = None\n",
    "xstep = 1/5\n",
    "xnum = 200\n",
    "\n",
    "minimize_style = 'Powell'\n",
    "minimize_options = {}\n",
    "minimize_options['disp'] = True # will display convergence info\n",
    "minimize_options['xtol'] = 1e-6 # smaller convergence tolerance than default\n",
    "minimize_options['ftol'] = 1e-6 # smaller convergence tolerance than default\n",
    "#minimize_options['maxiter'] = 2 # for testing purposes\n",
    "minimize_numcycles = 10\n",
    "\n",
    "cutofflongrange = uc.set_in_units(1000, 'angstrom')\n",
    "halfwidth = uc.set_in_units(5, 'angstrom')"
   ]
  },
  {
   "cell_type": "markdown",
   "metadata": {},
   "source": [
    "### 3. Define calculation function(s)"
   ]
  },
  {
   "cell_type": "markdown",
   "metadata": {},
   "source": [
    "#### 3.1 peierlsnabarro()"
   ]
  },
  {
   "cell_type": "code",
   "execution_count": 7,
   "metadata": {},
   "outputs": [],
   "source": [
    "def peierlsnabarro(alat, C, axes, burgers, gamma, m=[0,1,0], n=[0,0,1],\n",
    "                   cutofflongrange=uc.set_in_units(1000, 'angstrom'),\n",
    "                   tau=np.zeros((3,3)), alpha=[0.0], beta=np.zeros((3,3)),\n",
    "                   cdiffelastic=False, cdiffsurface=True, cdiffstress=False,\n",
    "                   fullstress=True,\n",
    "                   halfwidth=uc.set_in_units(1, 'angstrom'),\n",
    "                   normalizedisreg=True,\n",
    "                   xnum=None, xmax=None, xstep=None,\n",
    "                   min_method='Powell', min_options={}, min_cycles=10):\n",
    "    \"\"\"\n",
    "    Solves a Peierls-Nabarro dislocation model.\n",
    "    \"\"\"\n",
    "\n",
    "    # Solve Stroh method for dislocation\n",
    "    stroh = am.defect.Stroh(C, burgers, axes=axes, m=m, n=n)\n",
    "    Kij = stroh.K_tensor\n",
    "\n",
    "    # Transform burgers to axes\n",
    "    T = am.tools.axes_check(axes)\n",
    "    b = T.dot(burgers)\n",
    "\n",
    "    # Transform b, axes and Kij to PN solution orientation\n",
    "    mnu = np.array([m, n, np.cross(m, n)])\n",
    "    axes = mnu.dot(axes)\n",
    "    Kij = mnu.dot(Kij).dot(mnu.T)    \n",
    "    b = mnu.dot(b)\n",
    "\n",
    "    # Scale xmax and xstep by alat\n",
    "    if xmax is not None:\n",
    "        xmax *= alat\n",
    "    if xstep is not None:\n",
    "        xstep *= alat\n",
    "    \n",
    "    # Generate initial disregistry guess\n",
    "    x, idisreg = am.defect.pn_arctan_disregistry(xmax=xmax, xstep=xstep, xnum=xnum,\n",
    "                                                 burgers=b, halfwidth=halfwidth,\n",
    "                                                 normalize=normalizedisreg)\n",
    "    \n",
    "    # Minimize disregistry\n",
    "    cycle = 1\n",
    "    pnsolution = am.defect.SDVPN(x, idisreg, gamma, axes, Kij,\n",
    "                                tau=tau, alpha=alpha, beta=beta,\n",
    "                                cutofflongrange=cutofflongrange,\n",
    "                                burgers=b,\n",
    "                                fullstress=fullstress,\n",
    "                                cdiffelastic=cdiffelastic,\n",
    "                                cdiffsurface=cdiffsurface,\n",
    "                                cdiffstress=cdiffstress,\n",
    "                                min_method=min_method,\n",
    "                                min_options=min_options)\n",
    "\n",
    "    # Retrieve initial and first minimization solution energies\n",
    "    minimization_energies = []\n",
    "    minimization_energies.append(pnsolution.total_energy(x, idisreg))\n",
    "    minimization_energies.append(pnsolution.total_energy())\n",
    "\n",
    "    # Repeat minimize if min_cycles > 1\n",
    "    while cycle < min_cycles:\n",
    "        cycle += 1\n",
    "        pnsolution.solve()\n",
    "        minimization_energies.append(pnsolution.total_energy())\n",
    "\n",
    "    # Initialize results dict\n",
    "    results_dict = {}\n",
    "    results_dict['SDVPN_solution'] = pnsolution\n",
    "    results_dict['minimization_energies'] = minimization_energies\n",
    "    \n",
    "    return results_dict\n",
    "\n"
   ]
  },
  {
   "cell_type": "markdown",
   "metadata": {},
   "source": [
    "### 4. Run calculation function(s)"
   ]
  },
  {
   "cell_type": "code",
   "execution_count": 8,
   "metadata": {},
   "outputs": [
    {
     "name": "stdout",
     "output_type": "stream",
     "text": [
      "Optimization terminated successfully.\n",
      "         Current function value: 4.934821\n",
      "         Iterations: 21\n",
      "         Function evaluations: 248485\n",
      "Optimization terminated successfully.\n",
      "         Current function value: 4.934816\n",
      "         Iterations: 1\n",
      "         Function evaluations: 12432\n",
      "Optimization terminated successfully.\n",
      "         Current function value: 4.934815\n",
      "         Iterations: 1\n",
      "         Function evaluations: 12782\n",
      "Optimization terminated successfully.\n",
      "         Current function value: 4.934815\n",
      "         Iterations: 1\n",
      "         Function evaluations: 12737\n",
      "Optimization terminated successfully.\n",
      "         Current function value: 4.934815\n",
      "         Iterations: 1\n",
      "         Function evaluations: 12722\n",
      "Optimization terminated successfully.\n",
      "         Current function value: 4.934815\n",
      "         Iterations: 1\n",
      "         Function evaluations: 12673\n",
      "Optimization terminated successfully.\n",
      "         Current function value: 4.934814\n",
      "         Iterations: 1\n",
      "         Function evaluations: 12824\n",
      "Optimization terminated successfully.\n",
      "         Current function value: 4.934814\n",
      "         Iterations: 1\n",
      "         Function evaluations: 12782\n",
      "Optimization terminated successfully.\n",
      "         Current function value: 4.934814\n",
      "         Iterations: 1\n",
      "         Function evaluations: 12922\n",
      "Optimization terminated successfully.\n",
      "         Current function value: 4.934814\n",
      "         Iterations: 1\n",
      "         Function evaluations: 12794\n"
     ]
    }
   ],
   "source": [
    "results_dict = peierlsnabarro(ucell.box.a, C, axes, inputs['burgersvector'], inputs['gamma'],\n",
    "                              m = inputs['stroh_m'],\n",
    "                              n = inputs['stroh_n'],\n",
    "                              cutofflongrange = cutofflongrange,\n",
    "                              #tau = tau,    \n",
    "                              #alpha = alpha,\n",
    "                              #beta = beta,\n",
    "                              #cdiffelastic = cdiffelastic,\n",
    "                              #cdiffsurface = cdiffsurface,\n",
    "                              #cdiffstress = cdiffstress,\n",
    "                              #fullstress = fullstress,\n",
    "                              halfwidth = halfwidth,\n",
    "                              #normalizedisreg = normalizedisreg,\n",
    "                              xnum = xnum,\n",
    "                              xstep = xstep,\n",
    "                              xmax = xmax,\n",
    "                              min_method = minimize_style,\n",
    "                              min_options = minimize_options,\n",
    "                              min_cycles = minimize_numcycles)"
   ]
  },
  {
   "cell_type": "code",
   "execution_count": 9,
   "metadata": {},
   "outputs": [
    {
     "data": {
      "text/plain": [
       "dict_keys(['SDVPN_solution', 'minimization_energies'])"
      ]
     },
     "execution_count": 9,
     "metadata": {},
     "output_type": "execute_result"
    }
   ],
   "source": [
    "results_dict.keys()"
   ]
  },
  {
   "cell_type": "markdown",
   "metadata": {},
   "source": [
    "### 5. Report results"
   ]
  },
  {
   "cell_type": "markdown",
   "metadata": {},
   "source": [
    "#### 5.1 Define units for outputting values\n",
    "\n",
    "- __length_unit__ is the unit of length to display results in.\n",
    "- __energy_per_length_unit__ is the unit of energy per length to display dislocation energies in."
   ]
  },
  {
   "cell_type": "code",
   "execution_count": 10,
   "metadata": {},
   "outputs": [],
   "source": [
    "length_unit = 'angstrom'\n",
    "energy_per_length_unit = 'eV/angstrom'"
   ]
  },
  {
   "cell_type": "markdown",
   "metadata": {},
   "source": [
    "#### 5.2 Solution\n",
    "\n",
    "SDVPN_solution in the results dictionary is an am.Defect.SDVPN object which contains the final disregistry information."
   ]
  },
  {
   "cell_type": "code",
   "execution_count": 11,
   "metadata": {},
   "outputs": [
    {
     "data": {
      "image/png": "[encoded data removed]",
      "text/plain": [
       "<matplotlib.figure.Figure at 0x5acff60>"
      ]
     },
     "metadata": {},
     "output_type": "display_data"
    }
   ],
   "source": [
    "x = uc.get_in_units(results_dict['SDVPN_solution'].x, length_unit)\n",
    "disreg = uc.get_in_units(results_dict['SDVPN_solution'].disregistry, length_unit)\n",
    "\n",
    "plt.plot(x, disreg)\n",
    "plt.show()"
   ]
  },
  {
   "cell_type": "markdown",
   "metadata": {},
   "source": [
    "#### 5.3 Minimum energy per cycle\n",
    "\n",
    "minimization_energies in the results dict lists the total computed dislocation energy for the initial disregistry and after each minimization run."
   ]
  },
  {
   "cell_type": "code",
   "execution_count": 12,
   "metadata": {},
   "outputs": [
    {
     "name": "stdout",
     "output_type": "stream",
     "text": [
      "Total dislocation energy per minimization run (in eV/angstrom):\n",
      "0 5.34312789781401\n",
      "1 4.9348205067953845\n",
      "2 4.934816041927582\n",
      "3 4.934815359974682\n",
      "4 4.934815037305844\n",
      "5 4.934814788171262\n",
      "6 4.934814558636293\n",
      "7 4.934814337173051\n",
      "8 4.934814121496241\n",
      "9 4.93481391125507\n",
      "10 4.934813706448307\n"
     ]
    }
   ],
   "source": [
    "print('Total dislocation energy per minimization run (in %s):' % energy_per_length_unit)\n",
    "for i, E_total in enumerate(results_dict['minimization_energies']):\n",
    "    print(i, uc.get_in_units(E_total, energy_per_length_unit))"
   ]
  }
 ],
 "metadata": {
  "kernelspec": {
   "display_name": "Python 3",
   "language": "python",
   "name": "python3"
  },
  "language_info": {
   "codemirror_mode": {
    "name": "ipython",
    "version": 3
   },
   "file_extension": ".py",
   "mimetype": "text/x-python",
   "name": "python",
   "nbconvert_exporter": "python",
   "pygments_lexer": "ipython3",
   "version": "3.6.4"
  }
 },
 "nbformat": 4,
 "nbformat_minor": 2
}
