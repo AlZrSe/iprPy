{
 "cells": [
  {
   "cell_type": "markdown",
   "metadata": {},
   "source": [
    "# relax_static Calculation\n",
    "\n",
    "**Lucas M. Hale**, [lucas.hale@nist.gov](mailto:lucas.hale@nist.gov?Subject=ipr-demo), *Materials Science and Engineering Division, NIST*.\n",
    "\n",
    "**Chandler A. Becker**, [chandler.becker@nist.gov](mailto:chandler.becker@nist.gov?Subject=ipr-demo), *Office of Data and Informatics, NIST*.\n",
    "\n",
    "**Zachary T. Trautt**, [zachary.trautt@nist.gov](mailto:zachary.trautt@nist.gov?Subject=ipr-demo), *Materials Measurement Science Division, NIST*.\n",
    "\n",
    "Version: 2018-06-24\n",
    "\n",
    "[Disclaimers](http://www.nist.gov/public_affairs/disclaimer.cfm) \n",
    "\n",
    "## Introduction\n",
    "\n",
    "The relax_static calculation uses static energy/force minimizations to relax the atomic positions and box dimensions of a system to a specified pressure.\n",
    "\n",
    "__Version notes__: This calculation and elastic_constants_static replace the previous LAMMPS_ELASTIC calculation style.\n",
    "\n",
    "__Disclaimer #1__: The minimization algorithm will drive the system to a local minimum, which may not be the global minimum.  There is no guarantee that the resulting structure is dynamically stable, and it is possible that the relaxation of certain dimensions may be constrained to move together during the minimization preventing a full relaxation."
   ]
  },
  {
   "cell_type": "markdown",
   "metadata": {},
   "source": [
    "## Method and Theory\n",
    "\n",
    "This method uses the LAMMPS minimization plus box_relax commands to simultaneously relax both the atomic positions and the system's box dimensions towards a local minimum.  The LAMMPS documentation of the box_relax command notes that the complete minimization algorithm is not well defined which may prevent a complete relaxation during a single run.  To overcome this limitation, the calculation script continuously restarts the minimization until the box dimensions from one run to the next remain within a specified tolerance."
   ]
  },
  {
   "cell_type": "markdown",
   "metadata": {},
   "source": [
    "## Demonstration"
   ]
  },
  {
   "cell_type": "markdown",
   "metadata": {},
   "source": [
    "### 1. Setup"
   ]
  },
  {
   "cell_type": "markdown",
   "metadata": {},
   "source": [
    "#### 1.1. Library imports"
   ]
  },
  {
   "cell_type": "markdown",
   "metadata": {},
   "source": [
    "Import libraries needed by the calculation. The external libraries used are:\n",
    "\n",
    "- [numpy](http://www.numpy.org/)\n",
    "\n",
    "- [DataModelDict](https://github.com/usnistgov/DataModelDict)\n",
    "\n",
    "- [atomman](https://github.com/usnistgov/atomman)\n",
    "\n",
    "- [iprPy](https://github.com/usnistgov/iprPy)"
   ]
  },
  {
   "cell_type": "code",
   "execution_count": null,
   "metadata": {},
   "outputs": [],
   "source": [
    "# Standard library imports\n",
    "from __future__ import division, absolute_import, print_function\n",
    "import os\n",
    "import sys\n",
    "import uuid\n",
    "import shutil\n",
    "import datetime\n",
    "from copy import deepcopy\n",
    "\n",
    "# http://www.numpy.org/\n",
    "import numpy as np  \n",
    "\n",
    "# https://github.com/usnistgov/DataModelDict \n",
    "from DataModelDict import DataModelDict as DM\n",
    "\n",
    "# https://github.com/usnistgov/atomman \n",
    "import atomman as am\n",
    "import atomman.lammps as lmp\n",
    "import atomman.unitconvert as uc\n",
    "\n",
    "# https://github.com/usnistgov/iprPy\n",
    "import iprPy\n",
    "print('iprPy version', iprPy.__version__)"
   ]
  },
  {
   "cell_type": "markdown",
   "metadata": {},
   "source": [
    "#### 1.2. Default calculation setup"
   ]
  },
  {
   "cell_type": "code",
   "execution_count": null,
   "metadata": {},
   "outputs": [],
   "source": [
    "# Specify calculation style\n",
    "calc_style = 'relax_static'\n",
    "\n",
    "# If workingdir is already set, then do nothing (already in correct folder)\n",
    "try:\n",
    "    workingdir = workingdir\n",
    "\n",
    "# Change to workingdir if not already there\n",
    "except:\n",
    "    workingdir = os.path.join(os.getcwd(), 'calculationfiles', calc_style)\n",
    "    if not os.path.isdir(workingdir):\n",
    "        os.mkdir(workingdir)\n",
    "    os.chdir(workingdir)\n",
    "\n",
    "# Default iprPy library directory\n",
    "librarydir = os.path.join(iprPy.rootdir, '..', 'library')"
   ]
  },
  {
   "cell_type": "markdown",
   "metadata": {},
   "source": [
    "### 2. Assign values for the calculation's run parameters"
   ]
  },
  {
   "cell_type": "markdown",
   "metadata": {},
   "source": [
    "#### 2.1. Specify system-specific paths\n",
    "\n",
    "- __lammps_command__ is the LAMMPS command to use (required).\n",
    "\n",
    "- __mpi_command__ MPI command for running LAMMPS in parallel. A value of None will run simulations serially."
   ]
  },
  {
   "cell_type": "code",
   "execution_count": null,
   "metadata": {},
   "outputs": [],
   "source": [
    "lammps_command = 'lmp_serial'\n",
    "mpi_command = None"
   ]
  },
  {
   "cell_type": "markdown",
   "metadata": {},
   "source": [
    "#### 2.2. Load interatomic potential\n",
    "\n",
    "- __potential_name__ gives the name of the potential_LAMMPS reference record in the iprPy library to use for the calculation.  \n",
    "\n",
    "- __potential_file__ gives the path to the potential_LAMMPS reference record to use.  Here, this parameter is automatically generated using potential_name and librarydir.\n",
    "\n",
    "- __potential_dir__ gives the path for the folder containing the artifacts associated with the potential (i.e. eam.alloy file).  Here, this parameter is automatically generated using potential_name and librarydir.\n",
    "\n",
    "- __potential__ is an atomman.lammps.Potential object (required).  Here, this parameter is automatically generated from potential_file and potential_dir."
   ]
  },
  {
   "cell_type": "code",
   "execution_count": null,
   "metadata": {},
   "outputs": [],
   "source": [
    "potential_name = '1999--Mishin-Y--Ni--LAMMPS--ipr1'\n",
    "\n",
    "# Define potential_file and potential_dir using librarydir and potential_name\n",
    "potential_file = os.path.join(librarydir, 'potential_LAMMPS', potential_name) + '.json'\n",
    "potential_dir = os.path.join(librarydir, 'potential_LAMMPS', potential_name)\n",
    "\n",
    "# Initialize Potential object using potential_file and potential_dir.\n",
    "potential = lmp.Potential(potential_file, potential_dir)\n",
    "print('Successfully loaded potential', potential)"
   ]
  },
  {
   "cell_type": "markdown",
   "metadata": {},
   "source": [
    "#### 2.3. Load initial unit cell system\n",
    "\n",
    "- __prototype_name__ gives the name of the crystal_prototype reference record in the iprPy library to load. \n",
    "\n",
    "- __symbols__ is a list of the potential's elemental model symbols to associate with the unique atom types of the loaded system. \n",
    "\n",
    "- __box_parameters__ is a list of the a, b, c lattice constants to assign to the loaded file.\n",
    "\n",
    "- __load_file__ gives the path to the atomic configuration file to load for the ucell system.  Here, this is generated automatically using prototype_name and librarydir.\n",
    "\n",
    "- __load_style__ specifies the format of load_file.  Here, this is automatically set for crystal_prototype records.\n",
    "\n",
    "- __load_options__ specifies any other keyword options for properly loading the load_file.  Here, this is automatically set for crystal_prototype records.\n",
    "\n",
    "- __ucell__ is an atomman.System representing a fundamental unit cell of the system (required).  Here, this is generated using the load_* parameters and symbols."
   ]
  },
  {
   "cell_type": "code",
   "execution_count": null,
   "metadata": {},
   "outputs": [],
   "source": [
    "prototype_name = 'A1--Cu--fcc'\n",
    "symbols = ['Ni']\n",
    "box_parameters = uc.set_in_units([3.5, 3.5, 3.5], 'angstrom')\n",
    "\n",
    "# Define load_file using librarydir and prototype_name\n",
    "load_file = os.path.join(librarydir, 'crystal_prototype', prototype_name+'.json')\n",
    "\n",
    "# Define load_style and load_options for crystal_prototype records\n",
    "load_style = 'system_model'\n",
    "load_options = {}\n",
    "\n",
    "# Create ucell by loading prototype record\n",
    "ucell = am.load(load_style, load_file, symbols=symbols, **load_options)\n",
    "\n",
    "# Rescale ucell using box_parameters\n",
    "ucell.box_set(a=box_parameters[0], b=box_parameters[1], c=box_parameters[2], scale=True)\n",
    "\n",
    "print(ucell)"
   ]
  },
  {
   "cell_type": "markdown",
   "metadata": {},
   "source": [
    "#### 2.4. Modify system\n",
    "\n",
    "- __sizemults__ list of three integers specifying how many times the ucell vectors of $a$, $b$ and $c$ are replicated in creating system.\n",
    "\n",
    "- __system__ is an atomman.System to perform the scan on (required). "
   ]
  },
  {
   "cell_type": "code",
   "execution_count": null,
   "metadata": {},
   "outputs": [],
   "source": [
    "sizemults = [3, 3, 3]\n",
    "\n",
    "# Generate system by supersizing ucell\n",
    "system = ucell.supersize(*sizemults)\n",
    "print('# of atoms in system =', system.natoms)"
   ]
  },
  {
   "cell_type": "markdown",
   "metadata": {},
   "source": [
    "#### 2.5. Specify calculation-specific run parameters\n",
    "\n",
    "- __pressure_xx__ gives the xx component of the pressure to equilibriate the system to.\n",
    "\n",
    "- __pressure_yy__ gives the yy component of the pressure to equilibriate the system to.\n",
    "\n",
    "- __pressure_zz__ gives the zz component of the pressure to equilibriate the system to.\n",
    "\n",
    "- __pressure_xy__ gives the xy component of the pressure to equilibriate the system to.\n",
    "\n",
    "- __pressure_xz__ gives the xz component of the pressure to equilibriate the system to.\n",
    "\n",
    "- __pressure_yz__ gives the yz component of the pressure to equilibriate the system to.\n",
    "\n",
    "- __displacementkick__ specifies a multiplier for a random shift of atomic positions to apply prior to relaxation.  This is in length units.\n",
    "\n",
    "- __energytolerance__ is the energy tolerance to use during the minimizations. This is unitless.\n",
    "\n",
    "- __forcetolerance__ is the force tolerance to use during the minimizations. This is in energy/length units.\n",
    "\n",
    "- __maxiterations__ is the maximum number of minimization iterations to use.\n",
    "\n",
    "- __maxevaluations__ is the maximum number of minimization evaluations to use.\n",
    "\n",
    "- __maxatommotion__ is the largest distance that an atom is allowed to move during a minimization iteration. This is in length units.\n",
    "\n",
    "- __maxcycles__ is the maximum number of minimization runs (cycles) to perform.\n",
    "\n",
    "- __cycletolerance__ is the relative tolerance to use in identifying if the lattice constants have converged from one cycle to the next. "
   ]
  },
  {
   "cell_type": "code",
   "execution_count": null,
   "metadata": {},
   "outputs": [],
   "source": [
    "pressure_xx = uc.set_in_units(0.0, 'GPa')\n",
    "pressure_yy = uc.set_in_units(0.0, 'GPa')\n",
    "pressure_zz = uc.set_in_units(0.0, 'GPa')\n",
    "pressure_xy = uc.set_in_units(0.0, 'GPa')\n",
    "pressure_xz = uc.set_in_units(0.0, 'GPa')\n",
    "pressure_yz = uc.set_in_units(0.0, 'GPa')\n",
    "displacementkick = uc.set_in_units(0.00001, 'angstrom')\n",
    "energytolerance = 1e-8\n",
    "forcetolerance = uc.set_in_units(0.0, 'eV/angstrom')\n",
    "maxiterations = 10000\n",
    "maxevaluations = 100000\n",
    "maxatommotion = uc.set_in_units(0.01, 'angstrom')\n",
    "maxcycles = 100\n",
    "cycletolerance = 1e-7"
   ]
  },
  {
   "cell_type": "markdown",
   "metadata": {},
   "source": [
    "### 3. Define calculation function(s) and generate template LAMMPS script(s)"
   ]
  },
  {
   "cell_type": "markdown",
   "metadata": {},
   "source": [
    "#### 3.1. minbox.template"
   ]
  },
  {
   "cell_type": "code",
   "execution_count": null,
   "metadata": {},
   "outputs": [],
   "source": [
    "with open('minbox.template', 'w') as f:\n",
    "    f.write(\"\"\"# LAMMPS input script that performs an energy minimization and box relaxation\n",
    "\n",
    "box tilt large\n",
    "\n",
    "<atomman_system_info>\n",
    "\n",
    "change_box all triclinic\n",
    "\n",
    "<atomman_pair_info>\n",
    "\n",
    "thermo_style custom step lx ly lz xy xz yz pxx pyy pzz pxy pxz pyz pe\n",
    "thermo_modify format float %.13e\n",
    "\n",
    "compute peatom all pe/atom\n",
    "\n",
    "dump dumpit all custom <maxeval> *.dump id type x y z c_peatom\n",
    "dump_modify dumpit format <dump_modify_format>\n",
    "\n",
    "fix boxrelax all box/relax x <p_xx> y <p_yy> z <p_zz> xy <p_xy> xz <p_xz> yz <p_yz>\n",
    "\n",
    "min_modify dmax <dmax>\n",
    "\n",
    "minimize <etol> <ftol> <maxiter> <maxeval>\"\"\")"
   ]
  },
  {
   "cell_type": "markdown",
   "metadata": {},
   "source": [
    "#### 3.2. relax_static()"
   ]
  },
  {
   "cell_type": "code",
   "execution_count": null,
   "metadata": {},
   "outputs": [],
   "source": [
    "def relax_static(lammps_command, system, potential, mpi_command=None,\n",
    "                 p_xx=0.0, p_yy=0.0, p_zz=0.0, p_xy=0.0, p_xz=0.0, p_yz=0.0,\n",
    "                 dispmult=0.0, etol=0.0, ftol=0.0,  maxiter=10000,\n",
    "                 maxeval=100000, dmax=uc.set_in_units(0.01, 'angstrom'),\n",
    "                 maxcycles=100, ctol=1e-10):\n",
    "    \"\"\"\n",
    "    Repeatedly runs the ELASTIC example distributed with LAMMPS until box\n",
    "    dimensions converge within a tolerance.\n",
    "    \n",
    "    Parameters\n",
    "    ----------\n",
    "    lammps_command :str\n",
    "        Command for running LAMMPS.\n",
    "    system : atomman.System\n",
    "        The system to perform the calculation on.\n",
    "    potential : atomman.lammps.Potential\n",
    "        The LAMMPS implemented potential to use.\n",
    "    mpi_command : str, optional\n",
    "        The MPI command for running LAMMPS in parallel.  If not given, LAMMPS\n",
    "        will run serially.\n",
    "    p_xx : float, optional\n",
    "        The value to relax the x tensile pressure component to (default is\n",
    "        0.0).\n",
    "    p_yy : float, optional\n",
    "        The value to relax the y tensile pressure component to (default is\n",
    "        0.0).\n",
    "    p_zz : float, optional\n",
    "        The value to relax the z tensile pressure component to (default is\n",
    "        0.0).\n",
    "    p_xy : float, optional\n",
    "        The value to relax the xy shear pressure component to (default is\n",
    "        0.0).\n",
    "    p_xz : float, optional\n",
    "        The value to relax the xz shear pressure component to (default is\n",
    "        0.0).\n",
    "    p_yz : float, optional\n",
    "        The value to relax the yz shear pressure component to (default is\n",
    "        0.0).\n",
    "    dispmult : float, optional\n",
    "        Multiplier for applying a random displacement to all atomic positions\n",
    "        prior to relaxing. Default value is 0.0.\n",
    "    etol : float, optional\n",
    "        The energy tolerance for the structure minimization. This value is\n",
    "        unitless. (Default is 0.0).\n",
    "    ftol : float, optional\n",
    "        The force tolerance for the structure minimization. This value is in\n",
    "        units of force. (Default is 0.0).\n",
    "    maxiter : int, optional\n",
    "        The maximum number of minimization iterations to use (default is 10000).\n",
    "    maxeval : int, optional\n",
    "        The maximum number of minimization evaluations to use (default is \n",
    "        100000).\n",
    "    dmax : float, optional\n",
    "        The maximum distance in length units that any atom is allowed to relax\n",
    "        in any direction during a single minimization iteration (default is\n",
    "        0.01 Angstroms).\n",
    "    pressure_unit : str, optional\n",
    "        The unit of pressure to calculate the elastic constants in (default is\n",
    "        'GPa').\n",
    "    maxcycles : int, optional\n",
    "        The maximum number of times the minimization algorithm is called.\n",
    "        Default value is 100.\n",
    "    ctol : float, optional\n",
    "        The relative tolerance used to determine if the lattice constants have\n",
    "        converged (default is 1e-10).\n",
    "    \n",
    "    Returns\n",
    "    -------\n",
    "    dict\n",
    "        Dictionary of results consisting of keys:\n",
    "        \n",
    "        - **'relaxed_system'** (*float*) - The relaxed system.\n",
    "        - **'E_coh'** (*float*) - The cohesive energy of the relaxed system.\n",
    "        - **'measured_pxx'** (*float*) - The measured x tensile pressure of the\n",
    "          relaxed system.\n",
    "        - **'measured_pyy'** (*float*) - The measured y tensile pressure of the\n",
    "          relaxed system.\n",
    "        - **'measured_pzz'** (*float*) - The measured z tensile pressure of the\n",
    "          relaxed system.\n",
    "        - **'measured_pxy'** (*float*) - The measured xy shear pressure of the\n",
    "          relaxed system.\n",
    "        - **'measured_pxz'** (*float*) - The measured xz shear pressure of the\n",
    "          relaxed system.\n",
    "        - **'measured_pyz'** (*float*) - The measured yz shear pressure of the\n",
    "          relaxed system.\n",
    "    \"\"\"\n",
    "    \n",
    "    # Get lammps units\n",
    "    lammps_units = lmp.style.unit(potential.units)\n",
    "    \n",
    "    # Get lammps version date\n",
    "    lammps_date = lmp.checkversion(lammps_command)['date']\n",
    "    \n",
    "    # Save initial configuration as a dump file\n",
    "    system.dump('atom_dump', f='initial.dump')\n",
    "    \n",
    "    # Apply small random distortions to atoms\n",
    "    system.atoms.pos += dispmult * np.random.rand(*system.atoms.pos.shape) - dispmult / 2\n",
    "    \n",
    "    # Initialize parameters\n",
    "    old_vects = system.box.vects\n",
    "    converged = False\n",
    "    \n",
    "    # Run minimizations up to maxcycles times\n",
    "    for cycle in range(maxcycles):\n",
    "        old_system = deepcopy(system)\n",
    "        \n",
    "        # Define lammps variables\n",
    "        lammps_variables = {}\n",
    "        system_info = system.dump('atom_data', f='init.dat',\n",
    "                                  units=potential.units,\n",
    "                                  atom_style=potential.atom_style)\n",
    "        lammps_variables['atomman_system_info'] = system_info\n",
    "        lammps_variables['atomman_pair_info'] = potential.pair_info(system.symbols)\n",
    "        lammps_variables['p_xx'] = uc.get_in_units(p_xx, lammps_units['pressure'])\n",
    "        lammps_variables['p_yy'] = uc.get_in_units(p_yy, lammps_units['pressure'])\n",
    "        lammps_variables['p_zz'] = uc.get_in_units(p_zz, lammps_units['pressure'])\n",
    "        lammps_variables['p_xy'] = uc.get_in_units(p_xy, lammps_units['pressure'])\n",
    "        lammps_variables['p_xz'] = uc.get_in_units(p_xz, lammps_units['pressure'])\n",
    "        lammps_variables['p_yz'] = uc.get_in_units(p_yz, lammps_units['pressure'])\n",
    "        lammps_variables['etol'] = etol\n",
    "        lammps_variables['ftol'] = uc.get_in_units(ftol, lammps_units['force'])\n",
    "        lammps_variables['maxiter'] = maxiter\n",
    "        lammps_variables['maxeval'] = maxeval\n",
    "        lammps_variables['dmax'] = uc.get_in_units(dmax, lammps_units['length'])\n",
    "        \n",
    "        # Set dump_modify_format based on lammps_date\n",
    "        if lammps_date < datetime.date(2016, 8, 3):\n",
    "            lammps_variables['dump_modify_format'] = '\"%d %d %.13e %.13e %.13e %.13e\"'\n",
    "        else:\n",
    "            lammps_variables['dump_modify_format'] = 'float %.13e'\n",
    "        \n",
    "        # Write lammps input script\n",
    "        template_file = 'minbox.template'\n",
    "        lammps_script = 'minbox.in'\n",
    "        with open(template_file) as f:\n",
    "            template = f.read()\n",
    "        with open(lammps_script, 'w') as f:\n",
    "            f.write(iprPy.tools.filltemplate(template, lammps_variables, '<', '>'))\n",
    "        \n",
    "        # Run LAMMPS and extract thermo data\n",
    "        logfile = 'log-' + str(cycle) + '.lammps'\n",
    "        output = lmp.run(lammps_command, lammps_script, mpi_command, logfile=logfile)\n",
    "        thermo = output.simulations[0]['thermo']\n",
    "        \n",
    "        # Clean up dump files\n",
    "        os.remove('0.dump')\n",
    "        last_dump_file = str(thermo.Step.values[-1]) + '.dump'\n",
    "        renamed_dump_file = 'relax_static-' + str(cycle) + '.dump'\n",
    "        shutil.move(last_dump_file, renamed_dump_file)\n",
    "        \n",
    "        # Load relaxed system\n",
    "        system = am.load('atom_dump', renamed_dump_file, symbols=system.symbols)\n",
    "        \n",
    "        # Test if box dimensions have converged\n",
    "        if np.allclose(old_vects, system.box.vects, rtol=ctol, atol=0):\n",
    "            converged = True\n",
    "            break\n",
    "        else:\n",
    "            old_vects = system.box.vects\n",
    "    \n",
    "    # Check for convergence\n",
    "    if converged is False:\n",
    "        raise RuntimeError('Failed to converge after ' + str(maxcycles) + ' cycles')\n",
    "    \n",
    "    # Zero out near-zero tilt factors\n",
    "    lx = system.box.lx\n",
    "    ly = system.box.ly\n",
    "    lz = system.box.lz\n",
    "    xy = system.box.xy\n",
    "    xz = system.box.xz\n",
    "    yz = system.box.yz\n",
    "    if np.isclose(xy/ly, 0.0, rtol=0.0, atol=1e-10):\n",
    "        xy = 0.0\n",
    "    if np.isclose(xz/lz, 0.0, rtol=0.0, atol=1e-10):\n",
    "        xz = 0.0\n",
    "    if np.isclose(yz/lz, 0.0, rtol=0.0, atol=1e-10):\n",
    "        yz = 0.0\n",
    "    system.box.set(lx=lx, ly=ly, lz=lz, xy=xy, xz=xz, yz=yz)\n",
    "    system.wrap()\n",
    "    \n",
    "    # Build results_dict\n",
    "    results_dict = {}\n",
    "    results_dict['dumpfile_initial'] = 'initial.dump'\n",
    "    results_dict['symbols_initial'] = system.symbols\n",
    "    results_dict['dumpfile_final'] = renamed_dump_file\n",
    "    results_dict['symbols_final'] = system.symbols\n",
    "    results_dict['E_coh'] = uc.set_in_units(thermo.PotEng.values[-1] / system.natoms,\n",
    "                                       lammps_units['energy'])\n",
    "                                       \n",
    "    results_dict['lx'] = uc.set_in_units(lx, lammps_units['length'])\n",
    "    results_dict['ly'] = uc.set_in_units(ly, lammps_units['length'])\n",
    "    results_dict['lz'] = uc.set_in_units(lz, lammps_units['length'])\n",
    "    results_dict['xy'] = uc.set_in_units(xy, lammps_units['length'])\n",
    "    results_dict['xz'] = uc.set_in_units(xz, lammps_units['length'])\n",
    "    results_dict['yz'] = uc.set_in_units(yz, lammps_units['length'])\n",
    "    \n",
    "    results_dict['measured_pxx'] = uc.set_in_units(thermo.Pxx.values[-1],\n",
    "                                                   lammps_units['pressure'])\n",
    "    results_dict['measured_pyy'] = uc.set_in_units(thermo.Pyy.values[-1],\n",
    "                                                   lammps_units['pressure'])\n",
    "    results_dict['measured_pzz'] = uc.set_in_units(thermo.Pzz.values[-1],\n",
    "                                                   lammps_units['pressure'])\n",
    "    results_dict['measured_pxy'] = uc.set_in_units(thermo.Pxy.values[-1],\n",
    "                                                   lammps_units['pressure'])\n",
    "    results_dict['measured_pxz'] = uc.set_in_units(thermo.Pxz.values[-1],\n",
    "                                                   lammps_units['pressure'])\n",
    "    results_dict['measured_pyz'] = uc.set_in_units(thermo.Pyz.values[-1],\n",
    "                                                   lammps_units['pressure'])\n",
    "    \n",
    "    return results_dict\n",
    "\n"
   ]
  },
  {
   "cell_type": "markdown",
   "metadata": {},
   "source": [
    "### 4. Run calculation function(s)"
   ]
  },
  {
   "cell_type": "code",
   "execution_count": null,
   "metadata": {},
   "outputs": [],
   "source": [
    "results_dict = relax_static(lammps_command, system, potential,\n",
    "                            mpi_command = mpi_command,\n",
    "                            p_xx = pressure_xx, \n",
    "                            p_yy = pressure_yy, \n",
    "                            p_zz = pressure_zz,\n",
    "                            p_xy = pressure_xy, \n",
    "                            p_xz = pressure_xz, \n",
    "                            p_yz = pressure_yz,                            \n",
    "                            dispmult = displacementkick,\n",
    "                            etol = energytolerance,\n",
    "                            ftol = forcetolerance,\n",
    "                            maxiter = maxiterations,\n",
    "                            maxeval = maxevaluations,\n",
    "                            dmax = maxatommotion,\n",
    "                            maxcycles = maxcycles,\n",
    "                            ctol = cycletolerance)"
   ]
  },
  {
   "cell_type": "code",
   "execution_count": null,
   "metadata": {},
   "outputs": [],
   "source": [
    "results_dict.keys()"
   ]
  },
  {
   "cell_type": "markdown",
   "metadata": {},
   "source": [
    "### 5. Report results"
   ]
  },
  {
   "cell_type": "markdown",
   "metadata": {},
   "source": [
    "#### 5.1. Define units for outputting values\n",
    "\n",
    "- __length_unit__ is the unit of length to display values in.\n",
    "- __energy_unit__ is the unit of energy to display values in.\n",
    "- __pressure_unit__ is the unit of pressure to display values in."
   ]
  },
  {
   "cell_type": "code",
   "execution_count": null,
   "metadata": {},
   "outputs": [],
   "source": [
    "length_unit = 'angstrom'\n",
    "energy_unit = 'eV'\n",
    "pressure_unit = 'GPa'"
   ]
  },
  {
   "cell_type": "markdown",
   "metadata": {},
   "source": [
    "#### 5.2. Print Ecoh and lattice constants of relaxed ucell"
   ]
  },
  {
   "cell_type": "code",
   "execution_count": null,
   "metadata": {},
   "outputs": [],
   "source": [
    "print('Ecoh =', uc.get_in_units(results_dict['E_coh'], energy_unit), energy_unit)\n",
    "\n",
    "box = am.Box(lx=results_dict['lx'], ly=results_dict['ly'], lz=results_dict['lz'],\n",
    "             xy=results_dict['xy'], xz=results_dict['xz'], yz=results_dict['yz'])\n",
    "\n",
    "print('a =', uc.get_in_units(box.a / sizemults[0], length_unit), length_unit)\n",
    "print('b =', uc.get_in_units(box.b / sizemults[1], length_unit), length_unit) \n",
    "print('c =', uc.get_in_units(box.c / sizemults[2], length_unit), length_unit) \n",
    "print('alpha =', box.alpha)\n",
    "print('beta = ', box.beta)\n",
    "print('gamma =', box.gamma)"
   ]
  },
  {
   "cell_type": "markdown",
   "metadata": {},
   "source": [
    "#### 5.3. Check final system pressures"
   ]
  },
  {
   "cell_type": "code",
   "execution_count": null,
   "metadata": {},
   "outputs": [],
   "source": [
    "print('Pxx =', uc.get_in_units(results_dict['measured_pxx'], pressure_unit), pressure_unit)\n",
    "print('Pyy =', uc.get_in_units(results_dict['measured_pyy'], pressure_unit), pressure_unit)\n",
    "print('Pzz =', uc.get_in_units(results_dict['measured_pzz'], pressure_unit), pressure_unit)\n",
    "print('Pyz =', uc.get_in_units(results_dict['measured_pyz'], pressure_unit), pressure_unit)\n",
    "print('Pxz =', uc.get_in_units(results_dict['measured_pxz'], pressure_unit), pressure_unit)\n",
    "print('Pxy =', uc.get_in_units(results_dict['measured_pxy'], pressure_unit), pressure_unit)"
   ]
  },
  {
   "cell_type": "markdown",
   "metadata": {},
   "source": [
    "#### 5.4. Show relaxed atomic configuration"
   ]
  },
  {
   "cell_type": "code",
   "execution_count": null,
   "metadata": {},
   "outputs": [],
   "source": [
    "finalsystem = am.load('atom_dump', results_dict['dumpfile_final'],\n",
    "                      symbols=results_dict['symbols_final'])\n",
    "print(finalsystem)"
   ]
  }
 ],
 "metadata": {
  "kernelspec": {
   "display_name": "Python 3",
   "language": "python",
   "name": "python3"
  },
  "language_info": {
   "codemirror_mode": {
    "name": "ipython",
    "version": 3
   },
   "file_extension": ".py",
   "mimetype": "text/x-python",
   "name": "python",
   "nbconvert_exporter": "python",
   "pygments_lexer": "ipython3",
   "version": "3.6.4"
  }
 },
 "nbformat": 4,
 "nbformat_minor": 2
}
