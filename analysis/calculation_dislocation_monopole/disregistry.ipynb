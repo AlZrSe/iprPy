{
 "cells": [
  {
   "cell_type": "markdown",
   "metadata": {
    "deletable": true,
    "editable": true
   },
   "source": [
    "# Compute dislocation disregistry vectors for calculation_dislocation_monopoles\n",
    "\n",
    "This Notebook is designed for reading finished calculation_dislocation_monopoles records and generating disregistry profiles"
   ]
  },
  {
   "cell_type": "markdown",
   "metadata": {
    "deletable": true,
    "editable": true
   },
   "source": [
    "#### Library imports"
   ]
  },
  {
   "cell_type": "code",
   "execution_count": 1,
   "metadata": {
    "collapsed": false,
    "deletable": true,
    "editable": true
   },
   "outputs": [],
   "source": [
    "# Standard Python libraries\n",
    "from __future__ import print_function\n",
    "import glob\n",
    "import os\n",
    "from collections import OrderedDict\n",
    "from copy import deepcopy\n",
    "\n",
    "from IPython.core.display import display, HTML\n",
    "\n",
    "# pandas.pydata.org\n",
    "import pandas as pd\n",
    "\n",
    "# http://www.numpy.org/\n",
    "import numpy as np\n",
    "\n",
    "# https://github.com/usnistgov/DataModelDict\n",
    "from DataModelDict import DataModelDict as DM\n",
    "\n",
    "# https://github.com/usnistgov/atomman\n",
    "import atomman as am\n",
    "import atomman.unitconvert as uc\n",
    "\n",
    "# https://github.com/usnistgov/iprPy\n",
    "import iprPy"
   ]
  },
  {
   "cell_type": "markdown",
   "metadata": {
    "deletable": true,
    "editable": true
   },
   "source": [
    "#### Plotting library imports"
   ]
  },
  {
   "cell_type": "code",
   "execution_count": 2,
   "metadata": {
    "collapsed": false,
    "deletable": true,
    "editable": true
   },
   "outputs": [],
   "source": [
    "%matplotlib inline\n",
    "import matplotlib as mpl\n",
    "import matplotlib.pyplot as plt\n",
    "mpl.rc('font',family='Times New Roman')\n",
    "mpl.rc('lines',linewidth=3)"
   ]
  },
  {
   "cell_type": "markdown",
   "metadata": {
    "deletable": true,
    "editable": true
   },
   "source": [
    "## 1. Read Calculation Data\n",
    "\n",
    "This section reads in raw data from a database. "
   ]
  },
  {
   "cell_type": "markdown",
   "metadata": {
    "deletable": true,
    "editable": true
   },
   "source": [
    "## 1. Raw Data\n",
    "\n",
    "This section reads in or generates the raw_data associated with the calculation. "
   ]
  },
  {
   "cell_type": "markdown",
   "metadata": {
    "deletable": true,
    "editable": true
   },
   "source": [
    "### 1.1 Initialize database"
   ]
  },
  {
   "cell_type": "markdown",
   "metadata": {
    "deletable": true,
    "editable": true
   },
   "source": [
    "- __dbasename__ is used here to predefine different dbase settings\n",
    "- __dbase__ is the iprPy.Database object to use for accessing a database"
   ]
  },
  {
   "cell_type": "code",
   "execution_count": 3,
   "metadata": {
    "collapsed": false,
    "deletable": true,
    "editable": true
   },
   "outputs": [],
   "source": [
    "dbasename = 'test'\n",
    "\n",
    "# 'local' is a local directory\n",
    "if   dbasename == 'local':\n",
    "    dbase = iprPy.Database('local',   host='C:\\Users\\lmh1\\Documents\\calculations\\ipr\\library')\n",
    "\n",
    "# 'test' is a local directory for testing \n",
    "elif   dbasename == 'test':\n",
    "    dbase = iprPy.Database('local',   host='C:\\Users\\lmh1\\Documents\\calculations\\ipr\\library_test')\n",
    "    \n",
    "# 'curator' is a local MDCS curator\n",
    "elif dbasename == 'curator':\n",
    "    dbase = iprPy.Database('curator', host='http://127.0.0.1:8000/', \n",
    "                                      user='admin', \n",
    "                                      pswd='admin')\n",
    "\n",
    "# 'iprhub' is the remote MDCS curator at iprhub\n",
    "elif dbasename == 'iprhub':\n",
    "    dbase = iprPy.Database('curator', host='https://iprhub.nist.gov/', \n",
    "                                      user='lmh1',\n",
    "                                      pswd='C:/users/lmh1/documents/iprhub/iprhub_password.txt',\n",
    "                                      cert='C:/users/lmh1/documents/iprhub/iprhub-ca.pem')\n",
    "else:\n",
    "    raise ValueError('unknown dbasename ' + dbasename)"
   ]
  },
  {
   "cell_type": "markdown",
   "metadata": {
    "deletable": true,
    "editable": true
   },
   "source": [
    "### 1.2 Access records"
   ]
  },
  {
   "cell_type": "code",
   "execution_count": 4,
   "metadata": {
    "collapsed": false,
    "deletable": true,
    "editable": true
   },
   "outputs": [
    {
     "name": "stdout",
     "output_type": "stream",
     "text": [
      "19 prototype records loaded\n"
     ]
    }
   ],
   "source": [
    "proto_df = dbase.get_records_df(style='crystal_prototype')\n",
    "print(str(len(proto_df)) + ' prototype records loaded')"
   ]
  },
  {
   "cell_type": "code",
   "execution_count": 5,
   "metadata": {
    "collapsed": false,
    "deletable": true,
    "editable": true
   },
   "outputs": [
    {
     "name": "stdout",
     "output_type": "stream",
     "text": [
      "149 potential records loaded\n"
     ]
    }
   ],
   "source": [
    "pot_df = dbase.get_records_df(style='potential_LAMMPS')\n",
    "print(str(len(pot_df)) + ' potential records loaded')"
   ]
  },
  {
   "cell_type": "code",
   "execution_count": 6,
   "metadata": {
    "collapsed": false,
    "deletable": true,
    "editable": true
   },
   "outputs": [
    {
     "name": "stdout",
     "output_type": "stream",
     "text": [
      "10 calculation records loaded\n"
     ]
    }
   ],
   "source": [
    "raw_df = dbase.get_records_df(style='calculation_dislocation_monopole')\n",
    "print(str(len(raw_df)) + ' calculation records loaded')"
   ]
  },
  {
   "cell_type": "markdown",
   "metadata": {
    "deletable": true,
    "editable": true
   },
   "source": [
    "### 1.3 Check errors"
   ]
  },
  {
   "cell_type": "code",
   "execution_count": 7,
   "metadata": {
    "collapsed": false,
    "deletable": true,
    "editable": true
   },
   "outputs": [
    {
     "name": "stdout",
     "output_type": "stream",
     "text": [
      "Traceback (most recent call last):\r\n",
      "  File \"calc_dislocation_monopole.py\", line 478, in <module>\r\n",
      "    main(*sys.argv[1:])\r\n",
      "  File \"calc_dislocation_monopole.py\", line 60, in main\r\n",
      "    bwidth = input_dict['boundarywidth'])\r\n",
      "  File \"calc_dislocation_monopole.py\", line 184, in dislocationmonopole\r\n",
      "    system_disl = am.load('atom_dump', relaxed['dumpfile'])[0]\r\n",
      "  File \"c:\\users\\lmh1\\documents\\python-packages\\atomman\\atomman\\core\\load.py\", line 24, in load\r\n",
      "    system = am.lammps.atom_dump.load(input, prop_info)\r\n",
      "  File \"c:\\users\\lmh1\\documents\\python-packages\\atomman\\atomman\\lammps\\atom_dump.py\", line 205, in load\r\n",
      "    raise ValueError('Failed to properly load dump file '+str(data)[:50])\r\n",
      "ValueError: Failed to properly load dump file 20000.dump\r\n",
      "\n",
      "\n"
     ]
    }
   ],
   "source": [
    "if 'error' in raw_df:\n",
    "    for error in np.unique(raw_df[pd.notnull(raw_df.error)].error):\n",
    "        print(error)\n",
    "        print()"
   ]
  },
  {
   "cell_type": "markdown",
   "metadata": {
    "deletable": true,
    "editable": true
   },
   "source": [
    "## 2. Process Data\n",
    "\n",
    "This section processes and refines the data."
   ]
  },
  {
   "cell_type": "markdown",
   "metadata": {
    "deletable": true,
    "editable": true
   },
   "source": [
    "### 2.1 Identify composition\n",
    "\n",
    "We need to identify the composition of each calculation so that we can collect duplicates and filter out artificial compounds."
   ]
  },
  {
   "cell_type": "markdown",
   "metadata": {
    "deletable": true,
    "editable": true
   },
   "source": [
    "- __counts__ is a dictionary counting the number of times each atype appears in a crystal prototype's unit cell (i.e. the number of symmetry equivalent sites)"
   ]
  },
  {
   "cell_type": "code",
   "execution_count": 8,
   "metadata": {
    "collapsed": true,
    "deletable": true,
    "editable": true
   },
   "outputs": [],
   "source": [
    "counts = {}\n",
    "for i, prototype in proto_df.iterrows():\n",
    "    model = DM(dbase.get_record(name=prototype.id, style='crystal_prototype').content)\n",
    "    counts[prototype.id] = np.unique(model.finds('component'), return_counts=True)[1]"
   ]
  },
  {
   "cell_type": "markdown",
   "metadata": {
    "deletable": true,
    "editable": true
   },
   "source": [
    "- __comp_refine()__ takes a list of symbols and count of how many times each symbol appears in a structure and generates a composition string.__comp_refine__ takes a list of symbols and count of how many times each symbol appears in a structure and generates a composition string."
   ]
  },
  {
   "cell_type": "code",
   "execution_count": 9,
   "metadata": {
    "collapsed": true,
    "deletable": true,
    "editable": true
   },
   "outputs": [],
   "source": [
    "def comp_refine(symbols, counts):\n",
    "    \"\"\"Takes a list of symbols and count of how many times each symbol appears and generates a composition string.\"\"\"\n",
    "    primes = [2,3,5,7,11,13,17,19,23,29,31,37,41,43,47]\n",
    "    \n",
    "    sym_dict = {}\n",
    "    for i in xrange(len(symbols)):\n",
    "        sym_dict[symbols[i]] = counts[i]\n",
    "    \n",
    "    for prime in primes:\n",
    "        if max(sym_dict.values()) < prime:\n",
    "            break\n",
    "        \n",
    "        while True:\n",
    "            breaktime = False\n",
    "            for value in sym_dict.values():\n",
    "                if value % prime != 0:\n",
    "                    breaktime = True\n",
    "                    break\n",
    "            if breaktime:\n",
    "                break\n",
    "            for key in sym_dict:\n",
    "                sym_dict[key] /= prime\n",
    "    \n",
    "    composition=''\n",
    "    for key in sorted(sym_dict):\n",
    "        if sym_dict[key] > 0:\n",
    "            composition += key\n",
    "            if sym_dict[key] != 1:\n",
    "                composition += str(sym_dict[key])\n",
    "            \n",
    "    return composition       "
   ]
  },
  {
   "cell_type": "code",
   "execution_count": 10,
   "metadata": {
    "collapsed": false,
    "deletable": true,
    "editable": true
   },
   "outputs": [],
   "source": [
    "compositions = []\n",
    "for i, calc in raw_df.iterrows():\n",
    "    compositions.append(comp_refine(calc.symbols, counts[calc.family]))\n",
    "raw_df = raw_df.assign(composition=compositions)"
   ]
  },
  {
   "cell_type": "markdown",
   "metadata": {
    "deletable": true,
    "editable": true
   },
   "source": [
    "### 2.2 Identify current ipr potentials "
   ]
  },
  {
   "cell_type": "code",
   "execution_count": 11,
   "metadata": {
    "collapsed": true,
    "deletable": true,
    "editable": true
   },
   "outputs": [],
   "source": [
    "# Extract versionstyle and versionnumber from potential implementation ids\n",
    "versionstyle = []\n",
    "versionnumber = []\n",
    "for name in pot_df['id'].values:\n",
    "    version = name.split('--')[-1]\n",
    "    try:\n",
    "        versionnumber.append(int(version[-1]))\n",
    "    except:\n",
    "        versionnumber.append(np.nan)\n",
    "        versionstyle.append(version)\n",
    "    else:\n",
    "        versionstyle.append(version[:-1])\n",
    "\n",
    "pot_df['versionstyle'] = versionstyle\n",
    "pot_df['versionnumber'] = versionnumber\n",
    "\n",
    "# Loop through unique potential id's\n",
    "includeid = []\n",
    "for pot_id in np.unique(pot_df.pot_id.values):\n",
    "    check_df = pot_df[pot_df.pot_id == pot_id]\n",
    "    check_df = check_df[check_df.versionstyle == 'ipr']\n",
    "    check_df = check_df[check_df.versionnumber == check_df.versionnumber.max()]\n",
    "    if len(check_df) == 1:\n",
    "        includeid.append(check_df['id'].values[0])\n",
    "    elif len(check_df) > 1:\n",
    "        raise ValueError('Bad currentIPR check for '+pot_id)\n",
    "\n",
    "# Identify current IPR potentials\n",
    "raw_df['currentIPR'] = raw_df.potential_LAMMPS_id.isin(includeid)"
   ]
  },
  {
   "cell_type": "markdown",
   "metadata": {
    "deletable": true,
    "editable": true
   },
   "source": [
    "### 2.4 Remove unwanted calculations\n",
    "\n",
    "Here is where we filter out unwanted entries (i.e. rows).\n",
    "\n",
    "- __df__ is the dataframe during/after processing and refining"
   ]
  },
  {
   "cell_type": "code",
   "execution_count": 12,
   "metadata": {
    "collapsed": false,
    "deletable": true,
    "editable": true
   },
   "outputs": [
    {
     "data": {
      "text/plain": [
       "Index([u'C', u'K_tensor', u'LAMMPS_version', u'annealtemperature', u'calc_key',\n",
       "       u'calc_script', u'dislocation_id', u'dislocation_key',\n",
       "       u'energytolerance', u'error', u'family', u'forcetolerance',\n",
       "       u'iprPy_version', u'load_file', u'load_options', u'load_style',\n",
       "       u'maxatommotion', u'maxevaluations', u'maxiterations',\n",
       "       u'potential_LAMMPS_id', u'potential_LAMMPS_key', u'potential_id',\n",
       "       u'potential_key', u'preln', u'sizemults', u'status', u'symbols',\n",
       "       u'composition', u'currentIPR'],\n",
       "      dtype='object')"
      ]
     },
     "execution_count": 12,
     "metadata": {},
     "output_type": "execute_result"
    }
   ],
   "source": [
    "raw_df.keys()"
   ]
  },
  {
   "cell_type": "code",
   "execution_count": 13,
   "metadata": {
    "collapsed": false,
    "deletable": true,
    "editable": true
   },
   "outputs": [
    {
     "name": "stdout",
     "output_type": "stream",
     "text": [
      "7 records after filtering\n"
     ]
    }
   ],
   "source": [
    "df = deepcopy(raw_df)\n",
    "\n",
    "# Ignore unfinished or error calculations\n",
    "df = df[df.status == 'finished']\n",
    "\n",
    "# Ignore any implementations that are not current IPR implementations\n",
    "df = df[df.currentIPR == True]\n",
    "\n",
    "# Ignore false compounds (where # of unique symbols != # of symbols)\n",
    "df = df[df.symbols.apply(lambda x: len(np.unique(x))) == df.symbols.apply(lambda x: len(x))] \n",
    "\n",
    "# Ignore duplicate compounds\n",
    "ignore = set()\n",
    "for i in xrange(len(df)):\n",
    "    trunc = df.iloc[i+1:]\n",
    "    matches = trunc.calc_key[  (trunc.potential_id == df.iloc[i].potential_id) \n",
    "                             & (trunc.family == df.iloc[i].family) \n",
    "                             & (trunc.composition == df.iloc[i].composition)\n",
    "                             & (trunc.dislocation_id == df.iloc[i].dislocation_id)\n",
    "                            ].tolist()\n",
    "    ignore = ignore.union(matches)\n",
    "df = df[~df.calc_key.isin(ignore)]\n",
    "\n",
    "df.reset_index(drop=True, inplace=True)\n",
    "print(str(len(df)) + ' records after filtering')"
   ]
  },
  {
   "cell_type": "code",
   "execution_count": 14,
   "metadata": {
    "collapsed": false
   },
   "outputs": [
    {
     "data": {
      "text/html": [
       "<div>\n",
       "<table border=\"1\" class=\"dataframe\">\n",
       "  <thead>\n",
       "    <tr style=\"text-align: right;\">\n",
       "      <th></th>\n",
       "      <th>C</th>\n",
       "      <th>K_tensor</th>\n",
       "      <th>LAMMPS_version</th>\n",
       "      <th>annealtemperature</th>\n",
       "      <th>calc_key</th>\n",
       "      <th>calc_script</th>\n",
       "      <th>dislocation_id</th>\n",
       "      <th>dislocation_key</th>\n",
       "      <th>energytolerance</th>\n",
       "      <th>error</th>\n",
       "      <th>...</th>\n",
       "      <th>potential_LAMMPS_id</th>\n",
       "      <th>potential_LAMMPS_key</th>\n",
       "      <th>potential_id</th>\n",
       "      <th>potential_key</th>\n",
       "      <th>preln</th>\n",
       "      <th>sizemults</th>\n",
       "      <th>status</th>\n",
       "      <th>symbols</th>\n",
       "      <th>composition</th>\n",
       "      <th>currentIPR</th>\n",
       "    </tr>\n",
       "  </thead>\n",
       "  <tbody>\n",
       "    <tr>\n",
       "      <th>0</th>\n",
       "      <td>[[ 25.01604698  24.63956983  24.63956983   0. ...</td>\n",
       "      <td>[[2.19088876966, 0.0366922556283, 0.0], [0.036...</td>\n",
       "      <td>27 Aug 2016-ICMS</td>\n",
       "      <td>50.0</td>\n",
       "      <td>13cc96e0-20dd-48d5-982c-8f1a1314e19e</td>\n",
       "      <td>calc_dislocation_monopole</td>\n",
       "      <td>A2--W--bcc--110-edge</td>\n",
       "      <td>9ef42bdc-ffdf-4f5e-b560-0852921c6f19</td>\n",
       "      <td>0.0</td>\n",
       "      <td>NaN</td>\n",
       "      <td>...</td>\n",
       "      <td>2015--Wilson-S-R--Na--LAMMPS--ipr1</td>\n",
       "      <td>f055d705-2973-499b-a1b8-9060226f99a8</td>\n",
       "      <td>2015--Wilson-S-R--Na</td>\n",
       "      <td>5f0a7080-5a72-49a2-885e-8083f47a144b</td>\n",
       "      <td>0.756618</td>\n",
       "      <td>[[-40, 40], [-28, 28], [0, 2]]</td>\n",
       "      <td>finished</td>\n",
       "      <td>[Na]</td>\n",
       "      <td>Na</td>\n",
       "      <td>True</td>\n",
       "    </tr>\n",
       "    <tr>\n",
       "      <th>1</th>\n",
       "      <td>[[ 1.50620904  0.94127279  0.94127279  0.     ...</td>\n",
       "      <td>[[0.768301734775, -0.0542457582668, 0.0], [-0....</td>\n",
       "      <td>27 Aug 2016-ICMS</td>\n",
       "      <td>0.0</td>\n",
       "      <td>4a47f125-6f43-4af3-a484-a3c762ba1193</td>\n",
       "      <td>calc_dislocation_monopole</td>\n",
       "      <td>A1--Cu--fcc--110-screw</td>\n",
       "      <td>fbb42787-440e-46cb-bce3-584857257907</td>\n",
       "      <td>0.0</td>\n",
       "      <td>NaN</td>\n",
       "      <td>...</td>\n",
       "      <td>2009--Purja-Pun-G-P--Ni-Al--LAMMPS--ipr1</td>\n",
       "      <td>702b81e2-b380-4659-ada4-368a6d0170d7</td>\n",
       "      <td>2009--Purja-Pun-G-P--Ni-Al</td>\n",
       "      <td>d71da5f1-db8a-46ad-a78d-c026768200af</td>\n",
       "      <td>0.233592</td>\n",
       "      <td>[[-28, 28], [-40, 40], [0, 2]]</td>\n",
       "      <td>finished</td>\n",
       "      <td>[Ni]</td>\n",
       "      <td>Ni</td>\n",
       "      <td>True</td>\n",
       "    </tr>\n",
       "    <tr>\n",
       "      <th>2</th>\n",
       "      <td>[[ 0.71017966  0.38408271  0.38408271  0.     ...</td>\n",
       "      <td>[[0.275151035241, -0.00305980288187, 0.0], [-0...</td>\n",
       "      <td>27 Aug 2016-ICMS</td>\n",
       "      <td>0.0</td>\n",
       "      <td>726bd0c7-a726-413e-a575-e98fdc8ba263</td>\n",
       "      <td>calc_dislocation_monopole</td>\n",
       "      <td>A1--Cu--fcc--110-screw</td>\n",
       "      <td>fbb42787-440e-46cb-bce3-584857257907</td>\n",
       "      <td>0.0</td>\n",
       "      <td>NaN</td>\n",
       "      <td>...</td>\n",
       "      <td>2009--Purja-Pun-G-P--Ni-Al--LAMMPS--ipr1</td>\n",
       "      <td>702b81e2-b380-4659-ada4-368a6d0170d7</td>\n",
       "      <td>2009--Purja-Pun-G-P--Ni-Al</td>\n",
       "      <td>d71da5f1-db8a-46ad-a78d-c026768200af</td>\n",
       "      <td>0.117032</td>\n",
       "      <td>[[-28, 28], [-40, 40], [0, 2]]</td>\n",
       "      <td>finished</td>\n",
       "      <td>[Al]</td>\n",
       "      <td>Al</td>\n",
       "      <td>True</td>\n",
       "    </tr>\n",
       "    <tr>\n",
       "      <th>3</th>\n",
       "      <td>[[ 25.01604698  24.63956983  24.63956983   0. ...</td>\n",
       "      <td>[[1.54141120732, 0.0, -0.291517242376], [0.0, ...</td>\n",
       "      <td>27 Aug 2016-ICMS</td>\n",
       "      <td>50.0</td>\n",
       "      <td>8dfed487-57a0-42a2-90a4-70d5d19d768d</td>\n",
       "      <td>calc_dislocation_monopole</td>\n",
       "      <td>A2--W--bcc--112-edge</td>\n",
       "      <td>92aef361-9849-47be-9d61-e331921f1319</td>\n",
       "      <td>0.0</td>\n",
       "      <td>NaN</td>\n",
       "      <td>...</td>\n",
       "      <td>2015--Wilson-S-R--Na--LAMMPS--ipr1</td>\n",
       "      <td>f055d705-2973-499b-a1b8-9060226f99a8</td>\n",
       "      <td>2015--Wilson-S-R--Na</td>\n",
       "      <td>5f0a7080-5a72-49a2-885e-8083f47a144b</td>\n",
       "      <td>0.532323</td>\n",
       "      <td>[[-40, 40], [-49, 49], [0, 2]]</td>\n",
       "      <td>finished</td>\n",
       "      <td>[Na]</td>\n",
       "      <td>Na</td>\n",
       "      <td>True</td>\n",
       "    </tr>\n",
       "    <tr>\n",
       "      <th>4</th>\n",
       "      <td>[[ 25.01604698  24.63956983  24.63956983   0. ...</td>\n",
       "      <td>[[1.58895208281, 0.0, 0.0], [0.0, 1.5889520828...</td>\n",
       "      <td>27 Aug 2016-ICMS</td>\n",
       "      <td>50.0</td>\n",
       "      <td>a9423510-b5fd-4b38-9e7d-fbcea29d2714</td>\n",
       "      <td>calc_dislocation_monopole</td>\n",
       "      <td>A2--W--bcc--111-screw</td>\n",
       "      <td>17d4954d-4832-4997-9a39-fa084c64c105</td>\n",
       "      <td>0.0</td>\n",
       "      <td>NaN</td>\n",
       "      <td>...</td>\n",
       "      <td>2015--Wilson-S-R--Na--LAMMPS--ipr1</td>\n",
       "      <td>f055d705-2973-499b-a1b8-9060226f99a8</td>\n",
       "      <td>2015--Wilson-S-R--Na</td>\n",
       "      <td>5f0a7080-5a72-49a2-885e-8083f47a144b</td>\n",
       "      <td>0.158229</td>\n",
       "      <td>[[-28, 28], [-49, 49], [0, 2]]</td>\n",
       "      <td>finished</td>\n",
       "      <td>[Na]</td>\n",
       "      <td>Na</td>\n",
       "      <td>True</td>\n",
       "    </tr>\n",
       "    <tr>\n",
       "      <th>5</th>\n",
       "      <td>[[ 0.71017966  0.38408271  0.38408271  0.     ...</td>\n",
       "      <td>[[0.275057707183, 0.0, 0.0], [0.0, 0.277038442...</td>\n",
       "      <td>27 Aug 2016-ICMS</td>\n",
       "      <td>0.0</td>\n",
       "      <td>c647ab62-f92c-4be1-9123-1a6b7a90a7e5</td>\n",
       "      <td>calc_dislocation_monopole</td>\n",
       "      <td>A1--Cu--fcc--111-edge</td>\n",
       "      <td>d59f2382-17e5-4fbd-b398-407c75e6009a</td>\n",
       "      <td>0.0</td>\n",
       "      <td>NaN</td>\n",
       "      <td>...</td>\n",
       "      <td>2009--Purja-Pun-G-P--Ni-Al--LAMMPS--ipr1</td>\n",
       "      <td>702b81e2-b380-4659-ada4-368a6d0170d7</td>\n",
       "      <td>2009--Purja-Pun-G-P--Ni-Al</td>\n",
       "      <td>d71da5f1-db8a-46ad-a78d-c026768200af</td>\n",
       "      <td>0.179512</td>\n",
       "      <td>[[-49, 49], [-40, 40], [0, 2]]</td>\n",
       "      <td>finished</td>\n",
       "      <td>[Al]</td>\n",
       "      <td>Al</td>\n",
       "      <td>True</td>\n",
       "    </tr>\n",
       "    <tr>\n",
       "      <th>6</th>\n",
       "      <td>[[ 1.50620904  0.94127279  0.94127279  0.     ...</td>\n",
       "      <td>[[0.759621803049, 0.0, 0.0], [0.0, 0.780164175...</td>\n",
       "      <td>27 Aug 2016-ICMS</td>\n",
       "      <td>0.0</td>\n",
       "      <td>c7d7b508-af76-4357-8935-8311c154accc</td>\n",
       "      <td>calc_dislocation_monopole</td>\n",
       "      <td>A1--Cu--fcc--111-edge</td>\n",
       "      <td>d59f2382-17e5-4fbd-b398-407c75e6009a</td>\n",
       "      <td>0.0</td>\n",
       "      <td>NaN</td>\n",
       "      <td>...</td>\n",
       "      <td>2009--Purja-Pun-G-P--Ni-Al--LAMMPS--ipr1</td>\n",
       "      <td>702b81e2-b380-4659-ada4-368a6d0170d7</td>\n",
       "      <td>2009--Purja-Pun-G-P--Ni-Al</td>\n",
       "      <td>d71da5f1-db8a-46ad-a78d-c026768200af</td>\n",
       "      <td>0.374492</td>\n",
       "      <td>[[-49, 49], [-40, 40], [0, 2]]</td>\n",
       "      <td>finished</td>\n",
       "      <td>[Ni]</td>\n",
       "      <td>Ni</td>\n",
       "      <td>True</td>\n",
       "    </tr>\n",
       "  </tbody>\n",
       "</table>\n",
       "<p>7 rows × 29 columns</p>\n",
       "</div>"
      ],
      "text/plain": [
       "                                                   C  \\\n",
       "0  [[ 25.01604698  24.63956983  24.63956983   0. ...   \n",
       "1  [[ 1.50620904  0.94127279  0.94127279  0.     ...   \n",
       "2  [[ 0.71017966  0.38408271  0.38408271  0.     ...   \n",
       "3  [[ 25.01604698  24.63956983  24.63956983   0. ...   \n",
       "4  [[ 25.01604698  24.63956983  24.63956983   0. ...   \n",
       "5  [[ 0.71017966  0.38408271  0.38408271  0.     ...   \n",
       "6  [[ 1.50620904  0.94127279  0.94127279  0.     ...   \n",
       "\n",
       "                                            K_tensor    LAMMPS_version  \\\n",
       "0  [[2.19088876966, 0.0366922556283, 0.0], [0.036...  27 Aug 2016-ICMS   \n",
       "1  [[0.768301734775, -0.0542457582668, 0.0], [-0....  27 Aug 2016-ICMS   \n",
       "2  [[0.275151035241, -0.00305980288187, 0.0], [-0...  27 Aug 2016-ICMS   \n",
       "3  [[1.54141120732, 0.0, -0.291517242376], [0.0, ...  27 Aug 2016-ICMS   \n",
       "4  [[1.58895208281, 0.0, 0.0], [0.0, 1.5889520828...  27 Aug 2016-ICMS   \n",
       "5  [[0.275057707183, 0.0, 0.0], [0.0, 0.277038442...  27 Aug 2016-ICMS   \n",
       "6  [[0.759621803049, 0.0, 0.0], [0.0, 0.780164175...  27 Aug 2016-ICMS   \n",
       "\n",
       "   annealtemperature                              calc_key  \\\n",
       "0               50.0  13cc96e0-20dd-48d5-982c-8f1a1314e19e   \n",
       "1                0.0  4a47f125-6f43-4af3-a484-a3c762ba1193   \n",
       "2                0.0  726bd0c7-a726-413e-a575-e98fdc8ba263   \n",
       "3               50.0  8dfed487-57a0-42a2-90a4-70d5d19d768d   \n",
       "4               50.0  a9423510-b5fd-4b38-9e7d-fbcea29d2714   \n",
       "5                0.0  c647ab62-f92c-4be1-9123-1a6b7a90a7e5   \n",
       "6                0.0  c7d7b508-af76-4357-8935-8311c154accc   \n",
       "\n",
       "                 calc_script          dislocation_id  \\\n",
       "0  calc_dislocation_monopole    A2--W--bcc--110-edge   \n",
       "1  calc_dislocation_monopole  A1--Cu--fcc--110-screw   \n",
       "2  calc_dislocation_monopole  A1--Cu--fcc--110-screw   \n",
       "3  calc_dislocation_monopole    A2--W--bcc--112-edge   \n",
       "4  calc_dislocation_monopole   A2--W--bcc--111-screw   \n",
       "5  calc_dislocation_monopole   A1--Cu--fcc--111-edge   \n",
       "6  calc_dislocation_monopole   A1--Cu--fcc--111-edge   \n",
       "\n",
       "                        dislocation_key  energytolerance error    ...      \\\n",
       "0  9ef42bdc-ffdf-4f5e-b560-0852921c6f19              0.0   NaN    ...       \n",
       "1  fbb42787-440e-46cb-bce3-584857257907              0.0   NaN    ...       \n",
       "2  fbb42787-440e-46cb-bce3-584857257907              0.0   NaN    ...       \n",
       "3  92aef361-9849-47be-9d61-e331921f1319              0.0   NaN    ...       \n",
       "4  17d4954d-4832-4997-9a39-fa084c64c105              0.0   NaN    ...       \n",
       "5  d59f2382-17e5-4fbd-b398-407c75e6009a              0.0   NaN    ...       \n",
       "6  d59f2382-17e5-4fbd-b398-407c75e6009a              0.0   NaN    ...       \n",
       "\n",
       "                        potential_LAMMPS_id  \\\n",
       "0        2015--Wilson-S-R--Na--LAMMPS--ipr1   \n",
       "1  2009--Purja-Pun-G-P--Ni-Al--LAMMPS--ipr1   \n",
       "2  2009--Purja-Pun-G-P--Ni-Al--LAMMPS--ipr1   \n",
       "3        2015--Wilson-S-R--Na--LAMMPS--ipr1   \n",
       "4        2015--Wilson-S-R--Na--LAMMPS--ipr1   \n",
       "5  2009--Purja-Pun-G-P--Ni-Al--LAMMPS--ipr1   \n",
       "6  2009--Purja-Pun-G-P--Ni-Al--LAMMPS--ipr1   \n",
       "\n",
       "                   potential_LAMMPS_key                potential_id  \\\n",
       "0  f055d705-2973-499b-a1b8-9060226f99a8        2015--Wilson-S-R--Na   \n",
       "1  702b81e2-b380-4659-ada4-368a6d0170d7  2009--Purja-Pun-G-P--Ni-Al   \n",
       "2  702b81e2-b380-4659-ada4-368a6d0170d7  2009--Purja-Pun-G-P--Ni-Al   \n",
       "3  f055d705-2973-499b-a1b8-9060226f99a8        2015--Wilson-S-R--Na   \n",
       "4  f055d705-2973-499b-a1b8-9060226f99a8        2015--Wilson-S-R--Na   \n",
       "5  702b81e2-b380-4659-ada4-368a6d0170d7  2009--Purja-Pun-G-P--Ni-Al   \n",
       "6  702b81e2-b380-4659-ada4-368a6d0170d7  2009--Purja-Pun-G-P--Ni-Al   \n",
       "\n",
       "                          potential_key     preln  \\\n",
       "0  5f0a7080-5a72-49a2-885e-8083f47a144b  0.756618   \n",
       "1  d71da5f1-db8a-46ad-a78d-c026768200af  0.233592   \n",
       "2  d71da5f1-db8a-46ad-a78d-c026768200af  0.117032   \n",
       "3  5f0a7080-5a72-49a2-885e-8083f47a144b  0.532323   \n",
       "4  5f0a7080-5a72-49a2-885e-8083f47a144b  0.158229   \n",
       "5  d71da5f1-db8a-46ad-a78d-c026768200af  0.179512   \n",
       "6  d71da5f1-db8a-46ad-a78d-c026768200af  0.374492   \n",
       "\n",
       "                        sizemults    status  symbols  composition currentIPR  \n",
       "0  [[-40, 40], [-28, 28], [0, 2]]  finished     [Na]           Na       True  \n",
       "1  [[-28, 28], [-40, 40], [0, 2]]  finished     [Ni]           Ni       True  \n",
       "2  [[-28, 28], [-40, 40], [0, 2]]  finished     [Al]           Al       True  \n",
       "3  [[-40, 40], [-49, 49], [0, 2]]  finished     [Na]           Na       True  \n",
       "4  [[-28, 28], [-49, 49], [0, 2]]  finished     [Na]           Na       True  \n",
       "5  [[-49, 49], [-40, 40], [0, 2]]  finished     [Al]           Al       True  \n",
       "6  [[-49, 49], [-40, 40], [0, 2]]  finished     [Ni]           Ni       True  \n",
       "\n",
       "[7 rows x 29 columns]"
      ]
     },
     "execution_count": 14,
     "metadata": {},
     "output_type": "execute_result"
    }
   ],
   "source": [
    "df"
   ]
  },
  {
   "cell_type": "markdown",
   "metadata": {
    "deletable": true,
    "editable": true
   },
   "source": [
    "## 3. Fetch calculations to analyse\n",
    "\n",
    "This section selects which calculations to analyse"
   ]
  },
  {
   "cell_type": "code",
   "execution_count": 15,
   "metadata": {
    "collapsed": true,
    "deletable": true,
    "editable": true
   },
   "outputs": [],
   "source": [
    "Aledge_df = df[(df.composition=='Al') & (df.dislocation_id =='A1--Cu--fcc--111-edge')]\n",
    "if not os.path.isdir('Al_edge'):\n",
    "    os.mkdir('Al_edge')\n",
    "for calc_key in Aledge_df.calc_key.values:\n",
    "    tar = dbase.get_tar(name=calc_key)\n",
    "    tar.extractall('Al_edge')     "
   ]
  },
  {
   "cell_type": "code",
   "execution_count": 16,
   "metadata": {
    "collapsed": true,
    "deletable": true,
    "editable": true
   },
   "outputs": [],
   "source": [
    "Alscrew_df = df[(df.composition=='Al') & (df.dislocation_id =='A1--Cu--fcc--110-screw')]\n",
    "if not os.path.isdir('Al_screw'):\n",
    "    os.mkdir('Al_screw')\n",
    "for calc_key in Alscrew_df.calc_key.values:\n",
    "    tar = dbase.get_tar(name=calc_key)\n",
    "    tar.extractall('Al_screw')     "
   ]
  },
  {
   "cell_type": "markdown",
   "metadata": {
    "collapsed": true,
    "deletable": true,
    "editable": true
   },
   "source": [
    "## 4. Calculate disregistry"
   ]
  },
  {
   "cell_type": "code",
   "execution_count": 18,
   "metadata": {
    "collapsed": false,
    "deletable": true,
    "editable": true
   },
   "outputs": [
    {
     "name": "stdout",
     "output_type": "stream",
     "text": [
      "c647ab62-f92c-4be1-9123-1a6b7a90a7e5\n"
     ]
    }
   ],
   "source": [
    "root_dir = 'Al_edge'\n",
    "x_values = OrderedDict()\n",
    "disregistry_values = OrderedDict()\n",
    "for calc_dir in glob.iglob(os.path.join(root_dir, '*')):\n",
    "    calc_key = os.path.basename(calc_dir)\n",
    "    print(calc_key)\n",
    "    \n",
    "    # Load dump systems\n",
    "    basesystem = am.load('atom_dump', os.path.join(calc_dir, 'base.dump'))[0]\n",
    "    dislsystem = am.load('atom_dump', os.path.join(calc_dir, 'disl.dump'))[0]\n",
    "    \n",
    "    # Compute disregistry\n",
    "    x, disregistry = am.defect.disregistry(basesystem, dislsystem)\n",
    "    x_values[calc_key] = x\n",
    "    disregistry_values[calc_key] = disregistry"
   ]
  },
  {
   "cell_type": "markdown",
   "metadata": {},
   "source": [
    "## plot"
   ]
  },
  {
   "cell_type": "code",
   "execution_count": 19,
   "metadata": {
    "collapsed": false
   },
   "outputs": [
    {
     "name": "stdout",
     "output_type": "stream",
     "text": [
      "c647ab62-f92c-4be1-9123-1a6b7a90a7e5\n"
     ]
    },
    {
     "data": {
      "image/png": "[encoded data removed]",
      "text/plain": [
       "<matplotlib.figure.Figure at 0xdfeae80>"
      ]
     },
     "metadata": {},
     "output_type": "display_data"
    }
   ],
   "source": [
    "for calc_key in x_values:\n",
    "    print(calc_key)\n",
    "    fig = plt.figure(figsize=(12,8))\n",
    "    plt.plot(-x_values[calc_key], disregistry_values[calc_key], 'o')\n",
    "    plt.xlim(-50, 50)\n",
    "    plt.show()"
   ]
  },
  {
   "cell_type": "code",
   "execution_count": null,
   "metadata": {
    "collapsed": true
   },
   "outputs": [],
   "source": []
  }
 ],
 "metadata": {
  "kernelspec": {
   "display_name": "Python 2",
   "language": "python",
   "name": "python2"
  },
  "language_info": {
   "codemirror_mode": {
    "name": "ipython",
    "version": 2
   },
   "file_extension": ".py",
   "mimetype": "text/x-python",
   "name": "python",
   "nbconvert_exporter": "python",
   "pygments_lexer": "ipython2",
   "version": "2.7.13"
  }
 },
 "nbformat": 4,
 "nbformat_minor": 0
}
