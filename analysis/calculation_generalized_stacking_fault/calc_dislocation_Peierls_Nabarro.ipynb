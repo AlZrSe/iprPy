{
 "cells": [
  {
   "cell_type": "code",
   "execution_count": 1,
   "metadata": {
    "collapsed": false,
    "deletable": true,
    "editable": true
   },
   "outputs": [],
   "source": [
    "# Standard Python libraries\n",
    "from __future__ import print_function, division\n",
    "from collections import OrderedDict\n",
    "import warnings\n",
    "import os\n",
    "import sys\n",
    "import uuid\n",
    "\n",
    "# http://www.numpy.org/\n",
    "import numpy as np\n",
    "\n",
    "# http://pandas.pydata.org/\n",
    "import pandas as pd\n",
    "\n",
    "# https://scipy.org/\n",
    "from scipy.interpolate import griddata, RectBivariateSpline, Rbf\n",
    "from scipy.optimize import minimize, minimize_scalar\n",
    "\n",
    "# http://matplotlib.org/\n",
    "import matplotlib.pyplot as plt\n",
    "from matplotlib import cm\n",
    "\n",
    "# https://github.com/usnistgov/atomman\n",
    "import atomman as am\n",
    "import atomman.unitconvert as uc\n",
    "import atomman.defect.peierlsnabarro as pn\n",
    "\n",
    "# https://github.com/usnistgov/iprPy\n",
    "import iprPy"
   ]
  },
  {
   "cell_type": "code",
   "execution_count": 2,
   "metadata": {
    "collapsed": true,
    "deletable": true,
    "editable": true
   },
   "outputs": [],
   "source": [
    "# Define calc_style and record_style\n",
    "calc_style = 'dislocation_Peierls_Nabarro'\n",
    "record_style = 'calculation_dislocation_Peierls_Nabarro'"
   ]
  },
  {
   "cell_type": "code",
   "execution_count": 3,
   "metadata": {
    "collapsed": true,
    "deletable": true,
    "editable": true
   },
   "outputs": [],
   "source": [
    "inputfile = \"\"\"\n",
    "#Run script for dislocation_Peierls_Nabarro.py\n",
    "\n",
    "#Initial system configuration to load\n",
    "load_file                   Ercolessi_Al/1/78017ce9-6336-4c86-b6ad-a53e62510e68.xml\n",
    "load_style                  system_model\n",
    "load_options                key relaxed-atomic-system\n",
    "symbols                     \n",
    "box_parameters              \n",
    "\n",
    "#System manipulations\n",
    "x_axis                      \n",
    "y_axis                      \n",
    "z_axis                      \n",
    "\n",
    "#Defect parameters\n",
    "dislocation_model           A1--Cu--fcc--111-edge.json\n",
    "gammasurface_model          Ercolessi_Al/1/4bce5619-5de9-4f09-888f-fd3050447ec7.xml\n",
    "\n",
    "#Elastic constants parameters \n",
    "elasticconstants_model      Ercolessi_Al/1/78017ce9-6336-4c86-b6ad-a53e62510e68.xml\n",
    "bulk_modulus\n",
    "poisson\n",
    "\n",
    "#Units that input/output values are in\n",
    "length_unit                 \n",
    "pressure_unit               \n",
    "energy_unit                 \n",
    "force_unit                  \n",
    "\n",
    "#Run parameters\n",
    "xmax                         10 nm\n",
    "xstep\n",
    "xnum                         101\n",
    "minimize_style               Powell\n",
    "minimize_steps               \n",
    "cutoffelastic\n",
    "tau_xz\n",
    "tau_yz\n",
    "tau_zz\n",
    "alpha\n",
    "beta\n",
    "cdiffelastic\n",
    "cdiffgradient\n",
    "halfwidth\n",
    "\n",
    "\"\"\"\n",
    "with open('calc_dislocation_Peierls_Nabarro.in', 'w') as f:\n",
    "    f.write(inputfile)\n",
    "    \n",
    "args = ['calc_dislocation_Peierls_Nabarro.in']"
   ]
  },
  {
   "cell_type": "code",
   "execution_count": 4,
   "metadata": {
    "collapsed": false,
    "deletable": true,
    "editable": true
   },
   "outputs": [
    {
     "data": {
      "text/plain": [
       "{'dislocation_model': 'A1--Cu--fcc--111-edge.json',\n",
       " 'elasticconstants_model': 'Ercolessi_Al/1/78017ce9-6336-4c86-b6ad-a53e62510e68.xml',\n",
       " 'gammasurface_model': 'Ercolessi_Al/1/4bce5619-5de9-4f09-888f-fd3050447ec7.xml',\n",
       " 'load_file': 'Ercolessi_Al/1/78017ce9-6336-4c86-b6ad-a53e62510e68.xml',\n",
       " 'load_options': 'key relaxed-atomic-system',\n",
       " 'load_style': 'system_model',\n",
       " 'minimize_style': 'Powell',\n",
       " 'xmax': '10 nm',\n",
       " 'xnum': '101'}"
      ]
     },
     "execution_count": 4,
     "metadata": {},
     "output_type": "execute_result"
    }
   ],
   "source": [
    "# Read input file in as dictionary\n",
    "with open(args[0]) as f:\n",
    "    input_dict = iprPy.tools.parseinput(f, allsingular=True)\n",
    "    \n",
    "input_dict"
   ]
  },
  {
   "cell_type": "code",
   "execution_count": 5,
   "metadata": {
    "collapsed": true,
    "deletable": true,
    "editable": true
   },
   "outputs": [],
   "source": [
    "def process_input(input_dict, UUID=None, build=True):\n",
    "    \"\"\"\n",
    "    Processes str input parameters, assigns default values if needed, and\n",
    "    generates new, more complex terms as used by the calculation.\n",
    "    \n",
    "    Parameters\n",
    "    ----------\n",
    "    input_dict :  dict\n",
    "        Dictionary containing the calculation input parameters with string\n",
    "        values.  The allowed keys depends on the calculation style.\n",
    "    UUID : str, optional\n",
    "        Unique identifier to use for the calculation instance.  If not \n",
    "        given and a 'UUID' key is not in input_dict, then a random UUID4 \n",
    "        hash tag will be assigned.\n",
    "    build : bool, optional\n",
    "        Indicates if all complex terms are to be built.  A value of False\n",
    "        allows for default values to be assigned even if some inputs \n",
    "        required by the calculation are incomplete.  (Default is True.)\n",
    "    \"\"\"\n",
    "    \n",
    "    # Set calculation UUID\n",
    "    if UUID is not None: \n",
    "        input_dict['calc_key'] = UUID\n",
    "    else: \n",
    "        input_dict['calc_key'] = input_dict.get('calc_key', str(uuid.uuid4()))\n",
    "    \n",
    "    # Set default input/output units\n",
    "    iprPy.input.units(input_dict)\n",
    "    \n",
    "    # These are calculation-specific default strings\n",
    "    input_dict['minimize_style'] = input_dict.get('minimize_style', 'Powell')\n",
    "    \n",
    "    # These are calculation-specific default booleans\n",
    "    input_dict['cdiffelastic'] = iprPy.input.boolean(input_dict.get('cdiffelastic', False))\n",
    "    input_dict['cdiffgradient'] = iprPy.input.boolean(input_dict.get('cdiffgradient', True))\n",
    "    input_dict['fullstress'] = iprPy.input.boolean(input_dict.get('fullstress', True))\n",
    "    \n",
    "    # These are calculation-specific default integers\n",
    "    if 'xnum' in input_dict:\n",
    "        input_dict['xnum'] = int(input_dict['xnum'])\n",
    "    else:\n",
    "        input_dict['xnum'] = None\n",
    "    if 'minimize_steps' in input_dict:\n",
    "        input_dict['minimize_steps'] = int(input_dict['minimize_steps'])\n",
    "    else:\n",
    "        input_dict['minimize_steps'] = None\n",
    "    \n",
    "    # These are calculation-specific default unitless floats\n",
    "    input_dict['beta'] = float(input_dict.get('beta', 0.0))\n",
    "    \n",
    "    # These are calculation-specific default floats with units\n",
    "    input_dict['tau_xz'] = iprPy.input.value(input_dict, 'tau_xz',\n",
    "                                    default_unit=input_dict['pressure_unit'],\n",
    "                                    default_term='0.0 GPa')\n",
    "    input_dict['tau_yz'] = iprPy.input.value(input_dict, 'tau_yz',\n",
    "                                    default_unit=input_dict['pressure_unit'],\n",
    "                                    default_term='0.0 GPa')\n",
    "    input_dict['tau_zz'] = iprPy.input.value(input_dict, 'tau_zz',\n",
    "                                    default_unit=input_dict['pressure_unit'],\n",
    "                                    default_term='0.0 GPa')\n",
    "    if 'xstep' in input_dict:\n",
    "        input_dict['xstep'] = iprPy.input.value(input_dict, 'xstep',\n",
    "                                    default_unit=input_dict['length_unit'])\n",
    "    else:\n",
    "        input_dict['xstep'] = None\n",
    "    if 'xmax' in input_dict:\n",
    "        input_dict['xmax'] = iprPy.input.value(input_dict, 'xmax',\n",
    "                                    default_unit=input_dict['length_unit'])\n",
    "    else:\n",
    "        input_dict['xmax'] = None\n",
    "    if 'halfwidth' in input_dict:\n",
    "        input_dict['halfwidth'] = iprPy.input.value(input_dict, 'halfwidth',\n",
    "                                    default_unit=input_dict['length_unit'])\n",
    "    else:\n",
    "        input_dict['halfwidth'] = None\n",
    "    if 'cutoffelastic' in input_dict:\n",
    "        input_dict['cutoffelastic'] = iprPy.input.value(input_dict, 'cutoffelastic',\n",
    "                                    default_unit=input_dict['length_unit'])\n",
    "    else:\n",
    "        input_dict['cutoffelastic'] = None\n",
    "    \n",
    "    # Process stress terms\n",
    "    txz = input_dict['tau_xz']\n",
    "    tyz = input_dict['tau_yz']\n",
    "    tzz = input_dict['tau_zz']\n",
    "    input_dict['tau'] = np.array([[0.0, 0.0, txz],\n",
    "                                  [0.0, 0.0, tyz],\n",
    "                                  [txz, tyz, tzz]])\n",
    "    \n",
    "    # Process alpha term\n",
    "    alpha = input_dict.get('alpha', '0.0').split()\n",
    "    for i in range(len(alpha)):\n",
    "        alpha[i] = float(alpha[i])\n",
    "    input_dict['alpha'] = alpha\n",
    "    \n",
    "    # Load ucell system\n",
    "    iprPy.input.systemload(input_dict, build=build)\n",
    "    \n",
    "    # Load dislocation parameters\n",
    "    iprPy.input.dislocationmonopole(input_dict)\n",
    "    \n",
    "    # Load system manipulate to process parameters without building\n",
    "    iprPy.input.systemmanipulate(input_dict, build=False)\n",
    "    \n",
    "    # Load elastic constants\n",
    "    iprPy.input.elasticconstants(input_dict, build=build)\n",
    "    \n",
    "    # Load gamma surface\n",
    "    iprPy.input.gammasurface(input_dict, build=build)"
   ]
  },
  {
   "cell_type": "code",
   "execution_count": 6,
   "metadata": {
    "collapsed": false,
    "deletable": true,
    "editable": true
   },
   "outputs": [
    {
     "data": {
      "text/plain": [
       "{'C': <atomman.core.ElasticConstants.ElasticConstants at 0x9957e48>,\n",
       " 'alpha': [0.0],\n",
       " 'atomshift': u' 0.00 0.25 0.00',\n",
       " 'axes': array([[ 1.,  0., -1.],\n",
       "        [ 1.,  1.,  1.],\n",
       "        [ 1., -2.,  1.]]),\n",
       " 'beta': 0.0,\n",
       " 'boundarywidth': 12.096219999989998,\n",
       " 'box_parameters': None,\n",
       " 'burgersvector': array([ 2.01603667,  0.        , -2.01603667]),\n",
       " 'calc_key': '6d77fecc-89db-451c-9030-35d31b9aa788',\n",
       " 'cdiffelastic': False,\n",
       " 'cdiffgradient': True,\n",
       " 'cutoffelastic': None,\n",
       " 'dislocation_boundaryshape': 'circle',\n",
       " 'dislocation_boundarywidth': 3.0,\n",
       " 'dislocation_burgersvector': u' 0.5  0.0 -0.5',\n",
       " 'dislocation_model': DataModelDict([(u'key',\n",
       "                 u'd59f2382-17e5-4fbd-b398-407c75e6009a'),\n",
       "                (u'id', u'A1--Cu--fcc--111-edge'),\n",
       "                (u'character', u'edge'),\n",
       "                (u'Burgers-vector', u'a/2[ 1, 0,-1]'),\n",
       "                (u'slip-plane', [1L, 1L, 1L]),\n",
       "                (u'line-direction', [1L, -2L, 1L]),\n",
       "                (u'system-family', u'A1--Cu--fcc'),\n",
       "                (u'calculation-parameter',\n",
       "                 DataModelDict([(u'x_axis', u' 1  0 -1'),\n",
       "                                (u'y_axis', u' 1  1  1'),\n",
       "                                (u'z_axis', u' 1 -2  1'),\n",
       "                                (u'atomshift', u' 0.00 0.25 0.00'),\n",
       "                                (u'burgersvector', u' 0.5  0.0 -0.5')]))]),\n",
       " 'elasticconstants_model': 'Ercolessi_Al/1/78017ce9-6336-4c86-b6ad-a53e62510e68.xml',\n",
       " 'energy_unit': 'eV',\n",
       " 'force_unit': 'eV/angstrom',\n",
       " 'fullstress': True,\n",
       " 'gamma': <atomman.defect.GammaSurface.GammaSurface at 0x9957d68>,\n",
       " 'gammasurface_model': 'Ercolessi_Al/1/4bce5619-5de9-4f09-888f-fd3050447ec7.xml',\n",
       " 'halfwidth': None,\n",
       " 'initialsystem': None,\n",
       " 'length_unit': 'angstrom',\n",
       " 'load_file': 'Ercolessi_Al/1/78017ce9-6336-4c86-b6ad-a53e62510e68.xml',\n",
       " 'load_options': 'key relaxed-atomic-system',\n",
       " 'load_style': 'system_model',\n",
       " 'minimize_steps': None,\n",
       " 'minimize_style': 'Powell',\n",
       " 'pressure_unit': 'GPa',\n",
       " 'sizemults': [[0, 1], [0, 1], [0, 1]],\n",
       " 'symbols': [u'Al'],\n",
       " 'system_family': u'A1--Cu--fcc',\n",
       " 'tau': array([[ 0.,  0.,  0.],\n",
       "        [ 0.,  0.,  0.],\n",
       "        [ 0.,  0.,  0.]]),\n",
       " 'tau_xz': 0.0,\n",
       " 'tau_yz': 0.0,\n",
       " 'tau_zz': 0.0,\n",
       " 'ucell': <atomman.core.System.System at 0xda6a828>,\n",
       " 'x_axis': u' 1  0 -1',\n",
       " 'xmax': 100.0,\n",
       " 'xnum': 101,\n",
       " 'xstep': None,\n",
       " 'y_axis': u' 1  1  1',\n",
       " 'z_axis': u' 1 -2  1'}"
      ]
     },
     "execution_count": 6,
     "metadata": {},
     "output_type": "execute_result"
    }
   ],
   "source": [
    "process_input(input_dict, *args[1:])\n",
    "\n",
    "input_dict"
   ]
  },
  {
   "cell_type": "code",
   "execution_count": 7,
   "metadata": {
    "collapsed": true,
    "deletable": true,
    "editable": true
   },
   "outputs": [],
   "source": [
    "def peierlsnabarro(C, axes, burgers, gamma, cutoffelastic=None, \n",
    "                   tau=np.zeros((3,3)), alpha=0.0, beta=0.0,\n",
    "                   cdiffelastic=False, cdiffgradient=True,\n",
    "                   fullstress=True, halfwidth=None,\n",
    "                   xnum=None, xmax=None, xstep=None, \n",
    "                   min_method='Powell', min_steps=None):\n",
    "    \"\"\"\n",
    "    Solves a Peierls-Nabarro dislocation model.\n",
    "    \"\"\"\n",
    "    \n",
    "    # Solve Stroh method for dislocation\n",
    "    stroh = am.defect.Stroh(C, burgers, axes=axes)\n",
    "    Kij = stroh.K_tensor\n",
    "    \n",
    "    # Transform burgers to axes\n",
    "    T = am.tools.axes_check(axes)\n",
    "    b = T.dot(burgers)\n",
    "    \n",
    "    # Generate x coordinates and dx\n",
    "    x, dx = pn.xgenerate(xmax=xmax, step=xstep, num=xnum)\n",
    "    \n",
    "    # Identify optimum arctan halfwidth\n",
    "    if halfwidth is None:\n",
    "        def E_disl_halfwidth(h, x, b, gamma, axes, Kij):\n",
    "            disreg = pn.disregistry(x, b, halfwidth=h)\n",
    "            return pn.total_energy(x, disreg, gamma, axes, Kij)\n",
    "        res = minimize_scalar(E_disl_halfwidth, args=(x, b, gamma, axes, Kij),\n",
    "                              method='bounded', bounds=[0.1, 100])\n",
    "        halfwidth = res.x \n",
    "        print('Initial halfwidth =', halfwidth)\n",
    "    \n",
    "    # Generate initial disregistry guess\n",
    "    idisreg = pn.disregistry(x, b, halfwidth)\n",
    "    \n",
    "    # Minimize disregistry\n",
    "    fdisreg = pn.minimize_disregistry(x, idisreg, gamma, axes, Kij,\n",
    "                                      tau=tau, alpha=alpha, beta=beta,\n",
    "                                      cutoffelastic=cutoffelastic, burgers=b,\n",
    "                                      fullstress=fullstress, \n",
    "                                      cdiffelastic=cdiffelastic, cdiffgradient=cdiffgradient,\n",
    "                                      min_method=min_method, min_steps=min_steps)\n",
    "    \n",
    "    # Compile disregistry results\n",
    "    disreg_data = OrderedDict()\n",
    "    disreg_data['x'] = x\n",
    "    disreg_data['idisreg[0]'] = idisreg[:,0]\n",
    "    disreg_data['idisreg[1]'] = idisreg[:,1]\n",
    "    disreg_data['idisreg[2]'] = idisreg[:,2]\n",
    "    \n",
    "    idensity = np.zeros_like(idisreg)\n",
    "    idensity[1:] = pn.disldensity(x, idisreg)\n",
    "    disreg_data['idensity[0]'] = idensity[:,0]\n",
    "    disreg_data['idensity[1]'] = idensity[:,1]\n",
    "    disreg_data['idensity[2]'] = idensity[:,2]\n",
    "    \n",
    "    disreg_data['fdisreg[0]'] = fdisreg[:,0]\n",
    "    disreg_data['fdisreg[1]'] = fdisreg[:,1]\n",
    "    disreg_data['fdisreg[2]'] = fdisreg[:,2]\n",
    "    \n",
    "    fdensity = np.zeros_like(fdisreg)\n",
    "    fdensity[1:] = pn.disldensity(x, fdisreg)\n",
    "    disreg_data['fdensity[0]'] = fdensity[:,0]\n",
    "    disreg_data['fdensity[1]'] = fdensity[:,1]\n",
    "    disreg_data['fdensity[2]'] = fdensity[:,2]\n",
    "    \n",
    "    disreg_data = pd.DataFrame(disreg_data)\n",
    "    \n",
    "    # Initialize results dict\n",
    "    results_dict = {}    \n",
    "    results_dict['stroh_Kij'] = Kij\n",
    "    results_dict['deltax'] = dx\n",
    "    results_dict['halfwidth_0'] = halfwidth\n",
    "    results_dict['E_misfit'] = pn.misfit_energy(x, fdisreg, gamma, axes)\n",
    "    results_dict['E_elastic'] = pn.elastic_energy(x, fdisreg, Kij, cutoff=cutoffelastic, \n",
    "                                                  burgers=b, cdiff=cdiffelastic)\n",
    "    results_dict['E_stress'] = pn.stress_energy(x, fdisreg, tau=tau, full=fullstress)\n",
    "    results_dict['E_gradient'] = pn.gradient_energy(x, fdisreg, beta=beta, cdiff=cdiffgradient)\n",
    "    results_dict['E_nonlocal'] = pn.nonlocal_energy(x, fdisreg, alpha=alpha)\n",
    "    results_dict['E_total'] = pn.total_energy(x, fdisreg, gamma, axes, Kij,\n",
    "                                              tau=tau, alpha=alpha, beta=beta,\n",
    "                                              cutoffelastic=cutoffelastic, burgers=b,\n",
    "                                              fullstress=fullstress, \n",
    "                                              cdiffelastic=cdiffelastic, cdiffgradient=cdiffgradient)\n",
    "    results_dict['disreg_data'] = disreg_data   \n",
    "    \n",
    "    return results_dict"
   ]
  },
  {
   "cell_type": "code",
   "execution_count": 8,
   "metadata": {
    "collapsed": false,
    "deletable": true,
    "editable": true
   },
   "outputs": [
    {
     "name": "stdout",
     "output_type": "stream",
     "text": [
      "Initial halfwidth = 2.18691272365\n"
     ]
    },
    {
     "data": {
      "text/plain": [
       "['E_misfit',\n",
       " 'deltax',\n",
       " 'E_nonlocal',\n",
       " 'stroh_Kij',\n",
       " 'E_total',\n",
       " 'E_elastic',\n",
       " 'E_gradient',\n",
       " 'E_stress',\n",
       " 'disreg_data',\n",
       " 'halfwidth_0']"
      ]
     },
     "execution_count": 8,
     "metadata": {},
     "output_type": "execute_result"
    }
   ],
   "source": [
    "results_dict = peierlsnabarro(input_dict['C'], \n",
    "                              input_dict['axes'], \n",
    "                              input_dict['burgersvector'],\n",
    "                              input_dict['gamma'], \n",
    "                              cutoffelastic=input_dict['cutoffelastic'], \n",
    "                              tau=input_dict['tau'], \n",
    "                              alpha=input_dict['alpha'], \n",
    "                              beta=input_dict['beta'],\n",
    "                              cdiffelastic=input_dict['cdiffelastic'], \n",
    "                              cdiffgradient=input_dict['cdiffgradient'],\n",
    "                              fullstress=input_dict['fullstress'], \n",
    "                              halfwidth=input_dict['halfwidth'],\n",
    "                              xnum=input_dict['xnum'],\n",
    "                              xstep=input_dict['xstep'],\n",
    "                              xmax=input_dict['xmax'],\n",
    "                              min_method=input_dict['minimize_style'],\n",
    "                              min_steps=input_dict['minimize_steps'])\n",
    "\n",
    "results_dict.keys()"
   ]
  },
  {
   "cell_type": "code",
   "execution_count": 9,
   "metadata": {
    "collapsed": false,
    "deletable": true,
    "editable": true
   },
   "outputs": [
    {
     "name": "stdout",
     "output_type": "stream",
     "text": [
      "deltax = 2.0 Angstrom\n"
     ]
    }
   ],
   "source": [
    "print('deltax =', uc.get_in_units(results_dict['deltax'], 'Angstrom'), 'Angstrom')"
   ]
  },
  {
   "cell_type": "code",
   "execution_count": 10,
   "metadata": {
    "collapsed": false,
    "deletable": true,
    "editable": true
   },
   "outputs": [
    {
     "name": "stdout",
     "output_type": "stream",
     "text": [
      "halfwidth_0 = 2.18691272365 Angstrom\n"
     ]
    }
   ],
   "source": [
    "print('halfwidth_0 =', uc.get_in_units(results_dict['halfwidth_0'], 'Angstrom'), 'Angstrom')"
   ]
  },
  {
   "cell_type": "code",
   "execution_count": 11,
   "metadata": {
    "collapsed": false,
    "deletable": true,
    "editable": true
   },
   "outputs": [
    {
     "name": "stdout",
     "output_type": "stream",
     "text": [
      "[[ 48.50216663   0.           0.        ]\n",
      " [  0.          49.01295244  -1.3446728 ]\n",
      " [  0.          -1.3446728   32.04532906]]\n"
     ]
    }
   ],
   "source": [
    "print(uc.get_in_units(results_dict['stroh_Kij'], 'GPa'))"
   ]
  },
  {
   "cell_type": "code",
   "execution_count": 12,
   "metadata": {
    "collapsed": false,
    "deletable": true,
    "editable": true
   },
   "outputs": [
    {
     "name": "stdout",
     "output_type": "stream",
     "text": [
      "E_total =    -0.214085473873 eV/Angstrom\n",
      "E_elastic =  -0.403548926641 eV/Angstrom\n",
      "E_misfit =   0.189463452768 eV/Angstrom\n",
      "E_stress =   -0.0 eV/Angstrom\n",
      "E_gradient = 0.0 eV/Angstrom\n",
      "E_nonlocal = 0.0 eV/Angstrom\n"
     ]
    }
   ],
   "source": [
    "print('E_total =   ', uc.get_in_units(results_dict['E_total'], 'eV/Angstrom'), 'eV/Angstrom')\n",
    "print('E_elastic = ', uc.get_in_units(results_dict['E_elastic'], 'eV/Angstrom'), 'eV/Angstrom')\n",
    "print('E_misfit =  ', uc.get_in_units(results_dict['E_misfit'], 'eV/Angstrom'), 'eV/Angstrom')\n",
    "print('E_stress =  ', uc.get_in_units(results_dict['E_stress'], 'eV/Angstrom'), 'eV/Angstrom')\n",
    "print('E_gradient =', uc.get_in_units(results_dict['E_gradient'], 'eV/Angstrom'), 'eV/Angstrom')\n",
    "print('E_nonlocal =', uc.get_in_units(results_dict['E_nonlocal'], 'eV/Angstrom'), 'eV/Angstrom')"
   ]
  },
  {
   "cell_type": "code",
   "execution_count": 19,
   "metadata": {
    "collapsed": false,
    "deletable": true,
    "editable": true
   },
   "outputs": [
    {
     "data": {
      "image/png": "[encoded data removed]",
      "text/plain": [
       "<matplotlib.figure.Figure at 0x153af240>"
      ]
     },
     "metadata": {},
     "output_type": "display_data"
    }
   ],
   "source": [
    "fig, ax = plt.subplots(ncols=2, figsize=(16,6))\n",
    "ax[0].plot(results_dict['disreg_data'].x, results_dict['disreg_data']['idisreg[0]'])\n",
    "ax[0].plot(results_dict['disreg_data'].x, results_dict['disreg_data']['fdisreg[0]'])\n",
    "ax[0].set_xlim(-50, 50)\n",
    "ax[1].plot(results_dict['disreg_data'].x, results_dict['disreg_data']['idisreg[2]'])\n",
    "ax[1].plot(results_dict['disreg_data'].x, results_dict['disreg_data']['fdisreg[2]'])\n",
    "ax[1].set_xlim(-50, 50)\n",
    "plt.show()\n"
   ]
  },
  {
   "cell_type": "code",
   "execution_count": 21,
   "metadata": {
    "collapsed": false,
    "deletable": true,
    "editable": true
   },
   "outputs": [
    {
     "data": {
      "image/png": "[encoded data removed]",
      "text/plain": [
       "<matplotlib.figure.Figure at 0x15f19128>"
      ]
     },
     "metadata": {},
     "output_type": "display_data"
    }
   ],
   "source": [
    "fig, ax = plt.subplots(ncols=2, figsize=(16,6))\n",
    "ax[0].plot(results_dict['disreg_data'].x, results_dict['disreg_data']['idensity[0]'])\n",
    "ax[0].plot(results_dict['disreg_data'].x, results_dict['disreg_data']['fdensity[0]'])\n",
    "ax[0].set_xlim(-50, 50)\n",
    "ax[1].plot(results_dict['disreg_data'].x, results_dict['disreg_data']['idensity[2]'])\n",
    "ax[1].plot(results_dict['disreg_data'].x, results_dict['disreg_data']['fdensity[2]'])\n",
    "ax[1].set_xlim(-50, 50)\n",
    "plt.show()"
   ]
  }
 ],
 "metadata": {
  "kernelspec": {
   "display_name": "Python 2",
   "language": "python",
   "name": "python2"
  },
  "language_info": {
   "codemirror_mode": {
    "name": "ipython",
    "version": 2
   },
   "file_extension": ".py",
   "mimetype": "text/x-python",
   "name": "python",
   "nbconvert_exporter": "python",
   "pygments_lexer": "ipython2",
   "version": "2.7.13"
  }
 },
 "nbformat": 4,
 "nbformat_minor": 2
}
