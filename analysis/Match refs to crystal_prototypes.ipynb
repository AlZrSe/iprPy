{
 "cells": [
  {
   "cell_type": "markdown",
   "metadata": {},
   "source": [
    "# Match refs to crystal_prototypes\n",
    "\n",
    "This Notebook builds a spreadsheet of identified matches between the downloaded reference structures and the listed crystal_prototypes.\n",
    "\n",
    "**NOTE**: The matches are not guaranteed to be completely accurate and some may be missing, incorrect."
   ]
  },
  {
   "cell_type": "markdown",
   "metadata": {},
   "source": [
    "**Library imports**"
   ]
  },
  {
   "cell_type": "code",
   "execution_count": 1,
   "metadata": {},
   "outputs": [
    {
     "name": "stdout",
     "output_type": "stream",
     "text": [
      "iprPy version 0.8.a\n"
     ]
    }
   ],
   "source": [
    "# Standard Python libraries\n",
    "from __future__ import (absolute_import, print_function,\n",
    "                        division, unicode_literals)\n",
    "import os\n",
    "import glob\n",
    "\n",
    "# http://www.numpy.org/\n",
    "import numpy as np\n",
    "\n",
    "# https://pandas.pydata.org/\n",
    "import pandas as pd\n",
    "\n",
    "# https://github.com/usnistgov/DataModelDict\n",
    "from DataModelDict import DataModelDict as DM\n",
    "\n",
    "# https://github.com/usnistgov/atomman\n",
    "import atomman as am\n",
    "import atomman.unitconvert as uc\n",
    "\n",
    "# https://github.com/usnistgov/iprPy\n",
    "import iprPy\n",
    "import iprPy.highthroughput as htp\n",
    "print('iprPy version', iprPy.__version__)"
   ]
  },
  {
   "cell_type": "markdown",
   "metadata": {},
   "source": [
    "## 1. Access information"
   ]
  },
  {
   "cell_type": "markdown",
   "metadata": {},
   "source": [
    "**Load database**"
   ]
  },
  {
   "cell_type": "code",
   "execution_count": 2,
   "metadata": {},
   "outputs": [],
   "source": [
    "database = htp.get_database('master')"
   ]
  },
  {
   "cell_type": "markdown",
   "metadata": {},
   "source": [
    "**Get calculation_crystal_space_group results**"
   ]
  },
  {
   "cell_type": "code",
   "execution_count": 3,
   "metadata": {},
   "outputs": [],
   "source": [
    "crystal_space_group_df = database.get_records_df(style='calculation_crystal_space_group', full=True, flat=True)"
   ]
  },
  {
   "cell_type": "markdown",
   "metadata": {},
   "source": [
    "## 2. Match prototypes to references"
   ]
  },
  {
   "cell_type": "markdown",
   "metadata": {},
   "source": [
    "**Parse out results for prototypes and reference structures**"
   ]
  },
  {
   "cell_type": "code",
   "execution_count": 4,
   "metadata": {},
   "outputs": [],
   "source": [
    "prototype_df = crystal_space_group_df[crystal_space_group_df.family+'.xml'==crystal_space_group_df.load_file]\n",
    "reference_df = crystal_space_group_df[crystal_space_group_df.family+'.poscar'==crystal_space_group_df.load_file]"
   ]
  },
  {
   "cell_type": "markdown",
   "metadata": {},
   "source": [
    "**Sort by space group and pearson (natoms/cell)**"
   ]
  },
  {
   "cell_type": "code",
   "execution_count": 5,
   "metadata": {},
   "outputs": [],
   "source": [
    "match_df = []\n",
    "for reference in reference_df.itertuples():\n",
    "    match_dict = {}\n",
    "    match_dict['reference'] = reference.family\n",
    "    match_dict['site'], match_dict['number'] = reference.family.split('-')\n",
    "    match_dict['number'] = int(match_dict['number'])\n",
    "    matches = prototype_df[(\n",
    "                            (reference.pearson_symbol == prototype_df.pearson_symbol)\n",
    "                           &(reference.spacegroup_number == prototype_df.spacegroup_number)\n",
    "                          # &(reference.wykoff_letters == prototype_df.wykoff_letters)\n",
    "                          )]\n",
    "    if len(matches) == 1:\n",
    "        match_dict['prototype'] = matches.iloc[0].family\n",
    "        match_dict['ref_wykoff'] = reference.wykoff_letters\n",
    "    elif len(matches) == 0:\n",
    "        match_dict['prototype'] = np.nan\n",
    "    else:\n",
    "        match_dict['prototype'] = 'multiple'\n",
    "    match_df.append(match_dict)\n",
    "match_df = pd.DataFrame(match_df)"
   ]
  },
  {
   "cell_type": "markdown",
   "metadata": {},
   "source": [
    "**Check that wykoff positions are symmetrically equivalent**"
   ]
  },
  {
   "cell_type": "code",
   "execution_count": 6,
   "metadata": {},
   "outputs": [],
   "source": [
    "match_df.loc[(match_df.prototype=='A1--Cu--fcc') & (~match_df.ref_wykoff.isin(['a', 'b'])),\n",
    "             'prototype'] = np.nan\n",
    "match_df.loc[(match_df.prototype=='A2--W--bcc') & (~match_df.ref_wykoff.isin(['a'])),\n",
    "             'prototype'] = np.nan\n",
    "match_df.loc[(match_df.prototype=='A3--Mg--hcp') & (~match_df.ref_wykoff.isin(['b', 'c', 'd'])),\n",
    "             'prototype'] = np.nan\n",
    "match_df.loc[(match_df.prototype==\"A3'--alpha-La--double-hcp\") & (~match_df.ref_wykoff.isin(['a b', 'a c', 'a d'])),\n",
    "             'prototype'] = np.nan\n",
    "match_df.loc[(match_df.prototype=='A4--C--dc') & (~match_df.ref_wykoff.isin(['a', 'b'])),\n",
    "             'prototype'] = np.nan\n",
    "match_df.loc[(match_df.prototype=='A5--beta-Sn') & (~match_df.ref_wykoff.isin(['a', 'b'])),\n",
    "             'prototype'] = np.nan\n",
    "match_df.loc[(match_df.prototype=='A6--In--bct') & (~match_df.ref_wykoff.isin(['a', 'b'])),\n",
    "             'prototype'] = np.nan\n",
    "match_df.loc[(match_df.prototype=='A7--alpha-As') & (~match_df.ref_wykoff.isin(['c'])),\n",
    "             'prototype'] = np.nan\n",
    "match_df.loc[(match_df.prototype=='Ah--alpha-Po--sc') & (~match_df.ref_wykoff.isin(['a', 'b'])),\n",
    "             'prototype'] = np.nan\n",
    "match_df.loc[(match_df.prototype=='A15--beta-W') & (~match_df.ref_wykoff.isin(['a c', 'a d'])),\n",
    "             'prototype'] = np.nan"
   ]
  },
  {
   "cell_type": "markdown",
   "metadata": {},
   "source": [
    "## 3. Simplify and save"
   ]
  },
  {
   "cell_type": "code",
   "execution_count": 7,
   "metadata": {},
   "outputs": [],
   "source": [
    "match_df = match_df.sort_values(['site', 'number']).reset_index()[['reference', 'prototype']]"
   ]
  },
  {
   "cell_type": "code",
   "execution_count": 8,
   "metadata": {},
   "outputs": [],
   "source": [
    "match_df.to_csv('reference_prototype_match.csv', index=False)"
   ]
  }
 ],
 "metadata": {
  "kernelspec": {
   "display_name": "Python 3",
   "language": "python",
   "name": "python3"
  },
  "language_info": {
   "codemirror_mode": {
    "name": "ipython",
    "version": 3
   },
   "file_extension": ".py",
   "mimetype": "text/x-python",
   "name": "python",
   "nbconvert_exporter": "python",
   "pygments_lexer": "ipython3",
   "version": "3.6.4"
  }
 },
 "nbformat": 4,
 "nbformat_minor": 2
}
