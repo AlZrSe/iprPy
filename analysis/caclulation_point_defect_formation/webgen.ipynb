{
 "cells": [
  {
   "cell_type": "markdown",
   "metadata": {
    "deletable": true,
    "editable": true
   },
   "source": [
    "# Generate webpage content for calculation_point_defect_formation records\n",
    "\n",
    "This Notebook is designed for reading finished calculation_point_defect_formation records and generating the associated webpage content."
   ]
  },
  {
   "cell_type": "markdown",
   "metadata": {
    "deletable": true,
    "editable": true
   },
   "source": [
    "#### Library imports"
   ]
  },
  {
   "cell_type": "code",
   "execution_count": 1,
   "metadata": {
    "collapsed": false,
    "deletable": true,
    "editable": true
   },
   "outputs": [],
   "source": [
    "# Standard Python libraries\n",
    "from __future__ import print_function\n",
    "import glob\n",
    "import os\n",
    "from collections import OrderedDict\n",
    "from copy import deepcopy\n",
    "\n",
    "from IPython.core.display import display, HTML\n",
    "\n",
    "# pandas.pydata.org\n",
    "import pandas as pd\n",
    "\n",
    "# http://www.numpy.org/\n",
    "import numpy as np\n",
    "\n",
    "# https://github.com/usnistgov/DataModelDict\n",
    "from DataModelDict import DataModelDict as DM\n",
    "\n",
    "# https://github.com/usnistgov/atomman\n",
    "import atomman as am\n",
    "import atomman.unitconvert as uc\n",
    "\n",
    "# https://github.com/usnistgov/iprPy\n",
    "import iprPy"
   ]
  },
  {
   "cell_type": "markdown",
   "metadata": {
    "deletable": true,
    "editable": true
   },
   "source": [
    "#### Plotting library imports"
   ]
  },
  {
   "cell_type": "code",
   "execution_count": 2,
   "metadata": {
    "collapsed": false,
    "deletable": true,
    "editable": true
   },
   "outputs": [
    {
     "name": "stdout",
     "output_type": "stream",
     "text": [
      "bokeh version = 0.12.4\n"
     ]
    },
    {
     "data": {
      "text/html": [
       "\n",
       "    <div class=\"bk-root\">\n",
       "        <a href=\"http://bokeh.pydata.org\" target=\"_blank\" class=\"bk-logo bk-logo-small bk-logo-notebook\"></a>\n",
       "        <span id=\"f12ccd35-94ed-43c9-a038-1c8332711009\">Loading BokehJS ...</span>\n",
       "    </div>"
      ]
     },
     "metadata": {},
     "output_type": "display_data"
    },
    {
     "data": {
      "application/javascript": [
       "\n",
       "(function(global) {\n",
       "  function now() {\n",
       "    return new Date();\n",
       "  }\n",
       "\n",
       "  var force = true;\n",
       "\n",
       "  if (typeof (window._bokeh_onload_callbacks) === \"undefined\" || force === true) {\n",
       "    window._bokeh_onload_callbacks = [];\n",
       "    window._bokeh_is_loading = undefined;\n",
       "  }\n",
       "\n",
       "\n",
       "  \n",
       "  if (typeof (window._bokeh_timeout) === \"undefined\" || force === true) {\n",
       "    window._bokeh_timeout = Date.now() + 5000;\n",
       "    window._bokeh_failed_load = false;\n",
       "  }\n",
       "\n",
       "  var NB_LOAD_WARNING = {'data': {'text/html':\n",
       "     \"<div style='background-color: #fdd'>\\n\"+\n",
       "     \"<p>\\n\"+\n",
       "     \"BokehJS does not appear to have successfully loaded. If loading BokehJS from CDN, this \\n\"+\n",
       "     \"may be due to a slow or bad network connection. Possible fixes:\\n\"+\n",
       "     \"</p>\\n\"+\n",
       "     \"<ul>\\n\"+\n",
       "     \"<li>re-rerun `output_notebook()` to attempt to load from CDN again, or</li>\\n\"+\n",
       "     \"<li>use INLINE resources instead, as so:</li>\\n\"+\n",
       "     \"</ul>\\n\"+\n",
       "     \"<code>\\n\"+\n",
       "     \"from bokeh.resources import INLINE\\n\"+\n",
       "     \"output_notebook(resources=INLINE)\\n\"+\n",
       "     \"</code>\\n\"+\n",
       "     \"</div>\"}};\n",
       "\n",
       "  function display_loaded() {\n",
       "    if (window.Bokeh !== undefined) {\n",
       "      document.getElementById(\"f12ccd35-94ed-43c9-a038-1c8332711009\").textContent = \"BokehJS successfully loaded.\";\n",
       "    } else if (Date.now() < window._bokeh_timeout) {\n",
       "      setTimeout(display_loaded, 100)\n",
       "    }\n",
       "  }\n",
       "\n",
       "  function run_callbacks() {\n",
       "    window._bokeh_onload_callbacks.forEach(function(callback) { callback() });\n",
       "    delete window._bokeh_onload_callbacks\n",
       "    console.info(\"Bokeh: all callbacks have finished\");\n",
       "  }\n",
       "\n",
       "  function load_libs(js_urls, callback) {\n",
       "    window._bokeh_onload_callbacks.push(callback);\n",
       "    if (window._bokeh_is_loading > 0) {\n",
       "      console.log(\"Bokeh: BokehJS is being loaded, scheduling callback at\", now());\n",
       "      return null;\n",
       "    }\n",
       "    if (js_urls == null || js_urls.length === 0) {\n",
       "      run_callbacks();\n",
       "      return null;\n",
       "    }\n",
       "    console.log(\"Bokeh: BokehJS not loaded, scheduling load and callback at\", now());\n",
       "    window._bokeh_is_loading = js_urls.length;\n",
       "    for (var i = 0; i < js_urls.length; i++) {\n",
       "      var url = js_urls[i];\n",
       "      var s = document.createElement('script');\n",
       "      s.src = url;\n",
       "      s.async = false;\n",
       "      s.onreadystatechange = s.onload = function() {\n",
       "        window._bokeh_is_loading--;\n",
       "        if (window._bokeh_is_loading === 0) {\n",
       "          console.log(\"Bokeh: all BokehJS libraries loaded\");\n",
       "          run_callbacks()\n",
       "        }\n",
       "      };\n",
       "      s.onerror = function() {\n",
       "        console.warn(\"failed to load library \" + url);\n",
       "      };\n",
       "      console.log(\"Bokeh: injecting script tag for BokehJS library: \", url);\n",
       "      document.getElementsByTagName(\"head\")[0].appendChild(s);\n",
       "    }\n",
       "  };var element = document.getElementById(\"f12ccd35-94ed-43c9-a038-1c8332711009\");\n",
       "  if (element == null) {\n",
       "    console.log(\"Bokeh: ERROR: autoload.js configured with elementid 'f12ccd35-94ed-43c9-a038-1c8332711009' but no matching script tag was found. \")\n",
       "    return false;\n",
       "  }\n",
       "\n",
       "  var js_urls = [\"https://cdn.pydata.org/bokeh/release/bokeh-0.12.4.min.js\", \"https://cdn.pydata.org/bokeh/release/bokeh-widgets-0.12.4.min.js\"];\n",
       "\n",
       "  var inline_js = [\n",
       "    function(Bokeh) {\n",
       "      Bokeh.set_log_level(\"info\");\n",
       "    },\n",
       "    \n",
       "    function(Bokeh) {\n",
       "      \n",
       "      document.getElementById(\"f12ccd35-94ed-43c9-a038-1c8332711009\").textContent = \"BokehJS is loading...\";\n",
       "    },\n",
       "    function(Bokeh) {\n",
       "      console.log(\"Bokeh: injecting CSS: https://cdn.pydata.org/bokeh/release/bokeh-0.12.4.min.css\");\n",
       "      Bokeh.embed.inject_css(\"https://cdn.pydata.org/bokeh/release/bokeh-0.12.4.min.css\");\n",
       "      console.log(\"Bokeh: injecting CSS: https://cdn.pydata.org/bokeh/release/bokeh-widgets-0.12.4.min.css\");\n",
       "      Bokeh.embed.inject_css(\"https://cdn.pydata.org/bokeh/release/bokeh-widgets-0.12.4.min.css\");\n",
       "    }\n",
       "  ];\n",
       "\n",
       "  function run_inline_js() {\n",
       "    \n",
       "    if ((window.Bokeh !== undefined) || (force === true)) {\n",
       "      for (var i = 0; i < inline_js.length; i++) {\n",
       "        inline_js[i](window.Bokeh);\n",
       "      }if (force === true) {\n",
       "        display_loaded();\n",
       "      }} else if (Date.now() < window._bokeh_timeout) {\n",
       "      setTimeout(run_inline_js, 100);\n",
       "    } else if (!window._bokeh_failed_load) {\n",
       "      console.log(\"Bokeh: BokehJS failed to load within specified timeout.\");\n",
       "      window._bokeh_failed_load = true;\n",
       "    } else if (force !== true) {\n",
       "      var cell = $(document.getElementById(\"f12ccd35-94ed-43c9-a038-1c8332711009\")).parents('.cell').data().cell;\n",
       "      cell.output_area.append_execute_result(NB_LOAD_WARNING)\n",
       "    }\n",
       "\n",
       "  }\n",
       "\n",
       "  if (window._bokeh_is_loading === 0) {\n",
       "    console.log(\"Bokeh: BokehJS loaded, going straight to plotting\");\n",
       "    run_inline_js();\n",
       "  } else {\n",
       "    load_libs(js_urls, function() {\n",
       "      console.log(\"Bokeh: BokehJS plotting callback run at\", now());\n",
       "      run_inline_js();\n",
       "    });\n",
       "  }\n",
       "}(this));"
      ]
     },
     "metadata": {},
     "output_type": "display_data"
    }
   ],
   "source": [
    "# https://bokeh.pydata.org/\n",
    "import bokeh\n",
    "from bokeh.plotting import figure, output_file, show\n",
    "from bokeh.embed import components\n",
    "from bokeh.resources import Resources, CDN\n",
    "from bokeh.io import output_notebook\n",
    "from bokeh.models import Range1d\n",
    "print('bokeh version =', bokeh.__version__)\n",
    "output_notebook()"
   ]
  },
  {
   "cell_type": "markdown",
   "metadata": {
    "deletable": true,
    "editable": true
   },
   "source": [
    "## 1. Read Calculation Data\n",
    "\n",
    "This section reads in raw data from a database. "
   ]
  },
  {
   "cell_type": "markdown",
   "metadata": {
    "deletable": true,
    "editable": true
   },
   "source": [
    "## 1. Raw Data\n",
    "\n",
    "This section reads in or generates the raw_data associated with the calculation. "
   ]
  },
  {
   "cell_type": "markdown",
   "metadata": {
    "deletable": true,
    "editable": true
   },
   "source": [
    "### 1.1 Initialize database"
   ]
  },
  {
   "cell_type": "markdown",
   "metadata": {
    "deletable": true,
    "editable": true
   },
   "source": [
    "- __dbasename__ is used here to predefine different dbase settings\n",
    "- __dbase__ is the iprPy.Database object to use for accessing a database"
   ]
  },
  {
   "cell_type": "code",
   "execution_count": 3,
   "metadata": {
    "collapsed": true,
    "deletable": true,
    "editable": true
   },
   "outputs": [],
   "source": [
    "dbasename = 'test'\n",
    "\n",
    "# 'local' is a local directory\n",
    "if   dbasename == 'local':\n",
    "    dbase = iprPy.Database('local',   host='C:\\Users\\lmh1\\Documents\\calculations\\ipr\\library')\n",
    "\n",
    "# 'test' is a local directory for testing \n",
    "if   dbasename == 'test':\n",
    "    dbase = iprPy.Database('local',   host='C:\\Users\\lmh1\\Documents\\calculations\\ipr\\library_test')\n",
    "    \n",
    "# 'curator' is a local MDCS curator\n",
    "elif dbasename == 'curator':\n",
    "    dbase = iprPy.Database('curator', host='http://127.0.0.1:8000/', \n",
    "                                      user='admin', \n",
    "                                      pswd='admin')\n",
    "\n",
    "# 'iprhub' is the remote MDCS curator at iprhub\n",
    "elif dbasename == 'iprhub':\n",
    "    dbase = iprPy.Database('curator', host='https://iprhub.nist.gov/', \n",
    "                                      user='lmh1',\n",
    "                                      pswd='C:/users/lmh1/documents/iprhub/iprhub_password.txt',\n",
    "                                      cert='C:/users/lmh1/documents/iprhub/iprhub-ca.pem')\n",
    "else:\n",
    "    raise ValueError('unknown dbasename ' + dbasename)"
   ]
  },
  {
   "cell_type": "markdown",
   "metadata": {
    "deletable": true,
    "editable": true
   },
   "source": [
    "### 1.2 Access records"
   ]
  },
  {
   "cell_type": "code",
   "execution_count": 4,
   "metadata": {
    "collapsed": false,
    "deletable": true,
    "editable": true
   },
   "outputs": [
    {
     "name": "stdout",
     "output_type": "stream",
     "text": [
      "19 prototype records loaded\n"
     ]
    }
   ],
   "source": [
    "proto_df = dbase.get_records_df(style='crystal_prototype')\n",
    "print(str(len(proto_df)) + ' prototype records loaded')"
   ]
  },
  {
   "cell_type": "code",
   "execution_count": 5,
   "metadata": {
    "collapsed": false,
    "deletable": true,
    "editable": true
   },
   "outputs": [
    {
     "name": "stdout",
     "output_type": "stream",
     "text": [
      "149 potential records loaded\n"
     ]
    }
   ],
   "source": [
    "pot_df = dbase.get_records_df(style='potential_LAMMPS')\n",
    "print(str(len(pot_df)) + ' potential records loaded')"
   ]
  },
  {
   "cell_type": "code",
   "execution_count": 6,
   "metadata": {
    "collapsed": false,
    "deletable": true,
    "editable": true
   },
   "outputs": [
    {
     "name": "stdout",
     "output_type": "stream",
     "text": [
      "54 calculation records loaded\n"
     ]
    }
   ],
   "source": [
    "raw_df = dbase.get_records_df(style='calculation_point_defect_formation')\n",
    "print(str(len(raw_df)) + ' calculation records loaded')"
   ]
  },
  {
   "cell_type": "markdown",
   "metadata": {
    "deletable": true,
    "editable": true
   },
   "source": [
    "### 1.3 Check errors"
   ]
  },
  {
   "cell_type": "code",
   "execution_count": 7,
   "metadata": {
    "collapsed": false,
    "deletable": true,
    "editable": true
   },
   "outputs": [],
   "source": [
    "if 'error' in raw_df:\n",
    "    for error in np.unique(raw_df[pd.notnull(raw_df.error)].error):\n",
    "        print(error)\n",
    "        print()"
   ]
  },
  {
   "cell_type": "markdown",
   "metadata": {
    "deletable": true,
    "editable": true
   },
   "source": [
    "## 2. Process Data\n",
    "\n",
    "This section processes and refines the data."
   ]
  },
  {
   "cell_type": "markdown",
   "metadata": {
    "deletable": true,
    "editable": true
   },
   "source": [
    "### 2.1 Identify composition\n",
    "\n",
    "We need to identify the composition of each calculation so that we can collect duplicates and filter out artificial compounds."
   ]
  },
  {
   "cell_type": "markdown",
   "metadata": {
    "deletable": true,
    "editable": true
   },
   "source": [
    "- __counts__ is a dictionary counting the number of times each atype appears in a crystal prototype's unit cell (i.e. the number of symmetry equivalent sites)"
   ]
  },
  {
   "cell_type": "code",
   "execution_count": 8,
   "metadata": {
    "collapsed": true,
    "deletable": true,
    "editable": true
   },
   "outputs": [],
   "source": [
    "counts = {}\n",
    "for i, prototype in proto_df.iterrows():\n",
    "    model = DM(dbase.get_record(name=prototype.id).content)\n",
    "    counts[prototype.id] = np.unique(model.finds('component'), return_counts=True)[1]"
   ]
  },
  {
   "cell_type": "markdown",
   "metadata": {
    "deletable": true,
    "editable": true
   },
   "source": [
    "- __comp_refine()__ takes a list of symbols and count of how many times each symbol appears in a structure and generates a composition string.__comp_refine__ takes a list of symbols and count of how many times each symbol appears in a structure and generates a composition string."
   ]
  },
  {
   "cell_type": "code",
   "execution_count": 9,
   "metadata": {
    "collapsed": true,
    "deletable": true,
    "editable": true
   },
   "outputs": [],
   "source": [
    "def comp_refine(symbols, counts):\n",
    "    \"\"\"Takes a list of symbols and count of how many times each symbol appears and generates a composition string.\"\"\"\n",
    "    primes = [2,3,5,7,11,13,17,19,23,29,31,37,41,43,47]\n",
    "    \n",
    "    sym_dict = {}\n",
    "    for i in xrange(len(symbols)):\n",
    "        sym_dict[symbols[i]] = counts[i]\n",
    "    \n",
    "    for prime in primes:\n",
    "        if max(sym_dict.values()) < prime:\n",
    "            break\n",
    "        \n",
    "        while True:\n",
    "            breaktime = False\n",
    "            for value in sym_dict.values():\n",
    "                if value % prime != 0:\n",
    "                    breaktime = True\n",
    "                    break\n",
    "            if breaktime:\n",
    "                break\n",
    "            for key in sym_dict:\n",
    "                sym_dict[key] /= prime\n",
    "    \n",
    "    composition=''\n",
    "    for key in sorted(sym_dict):\n",
    "        if sym_dict[key] > 0:\n",
    "            composition += key\n",
    "            if sym_dict[key] != 1:\n",
    "                composition += str(sym_dict[key])\n",
    "            \n",
    "    return composition       "
   ]
  },
  {
   "cell_type": "code",
   "execution_count": 10,
   "metadata": {
    "collapsed": false,
    "deletable": true,
    "editable": true
   },
   "outputs": [],
   "source": [
    "compositions = []\n",
    "for i, calc in raw_df.iterrows():\n",
    "    compositions.append(comp_refine(calc.symbols, counts[calc.family]))\n",
    "raw_df = raw_df.assign(composition=compositions)"
   ]
  },
  {
   "cell_type": "markdown",
   "metadata": {
    "deletable": true,
    "editable": true
   },
   "source": [
    "### 2.2 Identify current ipr potentials "
   ]
  },
  {
   "cell_type": "code",
   "execution_count": 11,
   "metadata": {
    "collapsed": true,
    "deletable": true,
    "editable": true
   },
   "outputs": [],
   "source": [
    "# Extract versionstyle and versionnumber from potential implementation ids\n",
    "versionstyle = []\n",
    "versionnumber = []\n",
    "for name in pot_df['id'].values:\n",
    "    version = name.split('--')[-1]\n",
    "    try:\n",
    "        versionnumber.append(int(version[-1]))\n",
    "    except:\n",
    "        versionnumber.append(np.nan)\n",
    "        versionstyle.append(version)\n",
    "    else:\n",
    "        versionstyle.append(version[:-1])\n",
    "\n",
    "pot_df['versionstyle'] = versionstyle\n",
    "pot_df['versionnumber'] = versionnumber\n",
    "\n",
    "# Loop through unique potential id's\n",
    "includeid = []\n",
    "for pot_id in np.unique(pot_df.pot_id.values):\n",
    "    check_df = pot_df[pot_df.pot_id == pot_id]\n",
    "    check_df = check_df[check_df.versionstyle == 'ipr']\n",
    "    check_df = check_df[check_df.versionnumber == check_df.versionnumber.max()]\n",
    "    if len(check_df) == 1:\n",
    "        includeid.append(check_df['id'].values[0])\n",
    "    elif len(check_df) > 1:\n",
    "        raise ValueError('Bad currentIPR check for '+pot_id)\n",
    "\n",
    "# Identify current IPR potentials\n",
    "raw_df['currentIPR'] = raw_df.potential_LAMMPS_id.isin(includeid)"
   ]
  },
  {
   "cell_type": "markdown",
   "metadata": {
    "deletable": true,
    "editable": true
   },
   "source": [
    "### 2.4 Remove unwanted calculations\n",
    "\n",
    "Here is where we filter out unwanted entries (i.e. rows).\n",
    "\n",
    "- __df__ is the dataframe during/after processing and refining"
   ]
  },
  {
   "cell_type": "code",
   "execution_count": 12,
   "metadata": {
    "collapsed": false,
    "deletable": true,
    "editable": true
   },
   "outputs": [
    {
     "data": {
      "text/plain": [
       "Index([u'E_f', u'LAMMPS_version', u'calc_key', u'calc_script',\n",
       "       u'centrosummation', u'db_vect_shift', u'energytolerance', u'family',\n",
       "       u'forcetolerance', u'iprPy_version', u'load_file', u'load_options',\n",
       "       u'load_style', u'maxatommotion', u'maxevaluations', u'maxiterations',\n",
       "       u'natoms', u'pointdefect_id', u'pointdefect_key', u'position_shift',\n",
       "       u'potential_LAMMPS_id', u'potential_LAMMPS_key', u'potential_id',\n",
       "       u'potential_key', u'reconfigured', u'sizemults', u'status', u'symbols',\n",
       "       u'composition', u'currentIPR'],\n",
       "      dtype='object')"
      ]
     },
     "execution_count": 12,
     "metadata": {},
     "output_type": "execute_result"
    }
   ],
   "source": [
    "raw_df.keys()"
   ]
  },
  {
   "cell_type": "code",
   "execution_count": 23,
   "metadata": {
    "collapsed": false,
    "deletable": true,
    "editable": true
   },
   "outputs": [
    {
     "name": "stdout",
     "output_type": "stream",
     "text": [
      "36 records after filtering\n"
     ]
    }
   ],
   "source": [
    "df = deepcopy(raw_df)\n",
    "\n",
    "# Ignore unfinished or error calculations\n",
    "df = df[df.status == 'finished']\n",
    "\n",
    "# Ignore any implementations that are not current IPR implementations\n",
    "df = df[df.currentIPR == True]\n",
    "\n",
    "# Ignore false compounds (where # of unique symbols != # of symbols)\n",
    "df = df[df.symbols.apply(lambda x: len(np.unique(x))) == df.symbols.apply(lambda x: len(x))] \n",
    "\n",
    "# Ignore duplicate compounds\n",
    "ignore = set()\n",
    "for i in xrange(len(df)):\n",
    "    trunc = df.iloc[i+1:]\n",
    "    matches = trunc.calc_key[  (trunc.potential_id == df.iloc[i].potential_id) \n",
    "                             & (trunc.family == df.iloc[i].family) \n",
    "                             & (trunc.composition == df.iloc[i].composition)\n",
    "                             & (trunc.pointdefect_id == df.iloc[i].pointdefect_id)\n",
    "                             & np.isclose(trunc.E_f, df.iloc[i].E_f, atol=1e-6, rtol=0.0)\n",
    "                            ].tolist()\n",
    "    ignore = ignore.union(matches)\n",
    "df = df[~df.calc_key.isin(ignore)]\n",
    "\n",
    "df.reset_index(drop=True, inplace=True)\n",
    "print(str(len(df)) + ' records after filtering')"
   ]
  },
  {
   "cell_type": "markdown",
   "metadata": {
    "deletable": true,
    "editable": true
   },
   "source": [
    "### 2.5 Filter out extra data\n",
    "\n",
    "Here, we limit the DataFrame to only the data that we care about (i.e. columns).\n",
    "\n",
    "- __headers__ gives the list of data columns from raw_data to include in and how they should be renamed in data."
   ]
  },
  {
   "cell_type": "code",
   "execution_count": 24,
   "metadata": {
    "collapsed": false,
    "deletable": true,
    "editable": true
   },
   "outputs": [
    {
     "data": {
      "text/html": [
       "<div>\n",
       "<table border=\"1\" class=\"dataframe\">\n",
       "  <thead>\n",
       "    <tr style=\"text-align: right;\">\n",
       "      <th></th>\n",
       "      <th>potential</th>\n",
       "      <th>family</th>\n",
       "      <th>composition</th>\n",
       "      <th>pointdefect</th>\n",
       "      <th>E_f</th>\n",
       "      <th>reconfigured</th>\n",
       "    </tr>\n",
       "  </thead>\n",
       "  <tbody>\n",
       "    <tr>\n",
       "      <th>0</th>\n",
       "      <td>2009--Purja-Pun-G-P--Ni-Al</td>\n",
       "      <td>A1--Cu--fcc</td>\n",
       "      <td>Al</td>\n",
       "      <td>A1--Cu--fcc--100-dumbbell</td>\n",
       "      <td>2.586203</td>\n",
       "      <td>False</td>\n",
       "    </tr>\n",
       "    <tr>\n",
       "      <th>1</th>\n",
       "      <td>2009--Purja-Pun-G-P--Ni-Al</td>\n",
       "      <td>A1--Cu--fcc</td>\n",
       "      <td>Al</td>\n",
       "      <td>A1--Cu--fcc--110-dumbbell</td>\n",
       "      <td>2.906438</td>\n",
       "      <td>False</td>\n",
       "    </tr>\n",
       "    <tr>\n",
       "      <th>2</th>\n",
       "      <td>2009--Purja-Pun-G-P--Ni-Al</td>\n",
       "      <td>A1--Cu--fcc</td>\n",
       "      <td>Ni</td>\n",
       "      <td>A1--Cu--fcc--2nn-divacancy</td>\n",
       "      <td>3.125092</td>\n",
       "      <td>False</td>\n",
       "    </tr>\n",
       "    <tr>\n",
       "      <th>3</th>\n",
       "      <td>2009--Purja-Pun-G-P--Ni-Al</td>\n",
       "      <td>A1--Cu--fcc</td>\n",
       "      <td>Al</td>\n",
       "      <td>A1--Cu--fcc--tetrahedral-interstitial</td>\n",
       "      <td>3.089378</td>\n",
       "      <td>False</td>\n",
       "    </tr>\n",
       "    <tr>\n",
       "      <th>4</th>\n",
       "      <td>2015--Wilson-S-R--Na</td>\n",
       "      <td>A2--W--bcc</td>\n",
       "      <td>Na</td>\n",
       "      <td>A2--W--bcc--111-dumbbell</td>\n",
       "      <td>5.009829</td>\n",
       "      <td>False</td>\n",
       "    </tr>\n",
       "    <tr>\n",
       "      <th>5</th>\n",
       "      <td>2015--Wilson-S-R--Na</td>\n",
       "      <td>A2--W--bcc</td>\n",
       "      <td>Na</td>\n",
       "      <td>A2--W--bcc--100-dumbbell</td>\n",
       "      <td>0.486915</td>\n",
       "      <td>True</td>\n",
       "    </tr>\n",
       "    <tr>\n",
       "      <th>6</th>\n",
       "      <td>2015--Wilson-S-R--Na</td>\n",
       "      <td>A2--W--bcc</td>\n",
       "      <td>Na</td>\n",
       "      <td>A2--W--bcc--110-dumbbell</td>\n",
       "      <td>5.499671</td>\n",
       "      <td>False</td>\n",
       "    </tr>\n",
       "    <tr>\n",
       "      <th>7</th>\n",
       "      <td>2015--Wilson-S-R--Na</td>\n",
       "      <td>A2--W--bcc</td>\n",
       "      <td>Na</td>\n",
       "      <td>A2--W--bcc--vacancy</td>\n",
       "      <td>0.365644</td>\n",
       "      <td>False</td>\n",
       "    </tr>\n",
       "    <tr>\n",
       "      <th>8</th>\n",
       "      <td>2015--Wilson-S-R--Na</td>\n",
       "      <td>A2--W--bcc</td>\n",
       "      <td>Na</td>\n",
       "      <td>A2--W--bcc--1nn-divacancy</td>\n",
       "      <td>9.680817</td>\n",
       "      <td>False</td>\n",
       "    </tr>\n",
       "    <tr>\n",
       "      <th>9</th>\n",
       "      <td>2009--Purja-Pun-G-P--Ni-Al</td>\n",
       "      <td>A1--Cu--fcc</td>\n",
       "      <td>Al</td>\n",
       "      <td>A1--Cu--fcc--111-dumbbell</td>\n",
       "      <td>3.001311</td>\n",
       "      <td>False</td>\n",
       "    </tr>\n",
       "    <tr>\n",
       "      <th>10</th>\n",
       "      <td>2009--Purja-Pun-G-P--Ni-Al</td>\n",
       "      <td>A1--Cu--fcc</td>\n",
       "      <td>Ni</td>\n",
       "      <td>A1--Cu--fcc--vacancy</td>\n",
       "      <td>1.571367</td>\n",
       "      <td>False</td>\n",
       "    </tr>\n",
       "    <tr>\n",
       "      <th>11</th>\n",
       "      <td>2015--Wilson-S-R--Na</td>\n",
       "      <td>A2--W--bcc</td>\n",
       "      <td>Na</td>\n",
       "      <td>A2--W--bcc--octahedral-interstitial</td>\n",
       "      <td>0.633291</td>\n",
       "      <td>True</td>\n",
       "    </tr>\n",
       "    <tr>\n",
       "      <th>12</th>\n",
       "      <td>2015--Wilson-S-R--Na</td>\n",
       "      <td>A2--W--bcc</td>\n",
       "      <td>Na</td>\n",
       "      <td>A2--W--bcc--vacancy</td>\n",
       "      <td>4.437329</td>\n",
       "      <td>False</td>\n",
       "    </tr>\n",
       "    <tr>\n",
       "      <th>13</th>\n",
       "      <td>2009--Purja-Pun-G-P--Ni-Al</td>\n",
       "      <td>A1--Cu--fcc</td>\n",
       "      <td>Ni</td>\n",
       "      <td>A1--Cu--fcc--crowdion-interstitial</td>\n",
       "      <td>4.283838</td>\n",
       "      <td>False</td>\n",
       "    </tr>\n",
       "    <tr>\n",
       "      <th>14</th>\n",
       "      <td>2015--Wilson-S-R--Na</td>\n",
       "      <td>A2--W--bcc</td>\n",
       "      <td>Na</td>\n",
       "      <td>A2--W--bcc--110-dumbbell</td>\n",
       "      <td>0.525846</td>\n",
       "      <td>False</td>\n",
       "    </tr>\n",
       "    <tr>\n",
       "      <th>15</th>\n",
       "      <td>2009--Purja-Pun-G-P--Ni-Al</td>\n",
       "      <td>A1--Cu--fcc</td>\n",
       "      <td>Al</td>\n",
       "      <td>A1--Cu--fcc--crowdion-interstitial</td>\n",
       "      <td>2.899777</td>\n",
       "      <td>False</td>\n",
       "    </tr>\n",
       "    <tr>\n",
       "      <th>16</th>\n",
       "      <td>2009--Purja-Pun-G-P--Ni-Al</td>\n",
       "      <td>A1--Cu--fcc</td>\n",
       "      <td>Ni</td>\n",
       "      <td>A1--Cu--fcc--octahedral-interstitial</td>\n",
       "      <td>4.309433</td>\n",
       "      <td>False</td>\n",
       "    </tr>\n",
       "    <tr>\n",
       "      <th>17</th>\n",
       "      <td>2015--Wilson-S-R--Na</td>\n",
       "      <td>A2--W--bcc</td>\n",
       "      <td>Na</td>\n",
       "      <td>A2--W--bcc--100-dumbbell</td>\n",
       "      <td>5.009829</td>\n",
       "      <td>True</td>\n",
       "    </tr>\n",
       "    <tr>\n",
       "      <th>18</th>\n",
       "      <td>2015--Wilson-S-R--Na</td>\n",
       "      <td>A2--W--bcc</td>\n",
       "      <td>Na</td>\n",
       "      <td>A2--W--bcc--tetrahedral-interstitial</td>\n",
       "      <td>5.880355</td>\n",
       "      <td>False</td>\n",
       "    </tr>\n",
       "    <tr>\n",
       "      <th>19</th>\n",
       "      <td>2015--Wilson-S-R--Na</td>\n",
       "      <td>A2--W--bcc</td>\n",
       "      <td>Na</td>\n",
       "      <td>A2--W--bcc--111-dumbbell</td>\n",
       "      <td>0.486915</td>\n",
       "      <td>False</td>\n",
       "    </tr>\n",
       "    <tr>\n",
       "      <th>20</th>\n",
       "      <td>2015--Wilson-S-R--Na</td>\n",
       "      <td>A2--W--bcc</td>\n",
       "      <td>Na</td>\n",
       "      <td>A2--W--bcc--tetrahedral-interstitial</td>\n",
       "      <td>0.486915</td>\n",
       "      <td>True</td>\n",
       "    </tr>\n",
       "    <tr>\n",
       "      <th>21</th>\n",
       "      <td>2015--Wilson-S-R--Na</td>\n",
       "      <td>A2--W--bcc</td>\n",
       "      <td>Na</td>\n",
       "      <td>A2--W--bcc--crowdion-interstitial</td>\n",
       "      <td>0.486982</td>\n",
       "      <td>False</td>\n",
       "    </tr>\n",
       "    <tr>\n",
       "      <th>22</th>\n",
       "      <td>2015--Wilson-S-R--Na</td>\n",
       "      <td>A2--W--bcc</td>\n",
       "      <td>Na</td>\n",
       "      <td>A2--W--bcc--octahedral-interstitial</td>\n",
       "      <td>5.008255</td>\n",
       "      <td>True</td>\n",
       "    </tr>\n",
       "    <tr>\n",
       "      <th>23</th>\n",
       "      <td>2009--Purja-Pun-G-P--Ni-Al</td>\n",
       "      <td>A1--Cu--fcc</td>\n",
       "      <td>Ni</td>\n",
       "      <td>A1--Cu--fcc--1nn-divacancy</td>\n",
       "      <td>2.975356</td>\n",
       "      <td>False</td>\n",
       "    </tr>\n",
       "    <tr>\n",
       "      <th>24</th>\n",
       "      <td>2009--Purja-Pun-G-P--Ni-Al</td>\n",
       "      <td>A1--Cu--fcc</td>\n",
       "      <td>Al</td>\n",
       "      <td>A1--Cu--fcc--1nn-divacancy</td>\n",
       "      <td>1.361453</td>\n",
       "      <td>False</td>\n",
       "    </tr>\n",
       "    <tr>\n",
       "      <th>25</th>\n",
       "      <td>2009--Purja-Pun-G-P--Ni-Al</td>\n",
       "      <td>A1--Cu--fcc</td>\n",
       "      <td>Ni</td>\n",
       "      <td>A1--Cu--fcc--tetrahedral-interstitial</td>\n",
       "      <td>4.430902</td>\n",
       "      <td>False</td>\n",
       "    </tr>\n",
       "    <tr>\n",
       "      <th>26</th>\n",
       "      <td>2009--Purja-Pun-G-P--Ni-Al</td>\n",
       "      <td>A1--Cu--fcc</td>\n",
       "      <td>Ni</td>\n",
       "      <td>A1--Cu--fcc--111-dumbbell</td>\n",
       "      <td>4.218501</td>\n",
       "      <td>False</td>\n",
       "    </tr>\n",
       "    <tr>\n",
       "      <th>27</th>\n",
       "      <td>2009--Purja-Pun-G-P--Ni-Al</td>\n",
       "      <td>A1--Cu--fcc</td>\n",
       "      <td>Al</td>\n",
       "      <td>A1--Cu--fcc--2nn-divacancy</td>\n",
       "      <td>1.377990</td>\n",
       "      <td>False</td>\n",
       "    </tr>\n",
       "    <tr>\n",
       "      <th>28</th>\n",
       "      <td>2015--Wilson-S-R--Na</td>\n",
       "      <td>A2--W--bcc</td>\n",
       "      <td>Na</td>\n",
       "      <td>A2--W--bcc--2nn-divacancy</td>\n",
       "      <td>0.670571</td>\n",
       "      <td>False</td>\n",
       "    </tr>\n",
       "    <tr>\n",
       "      <th>29</th>\n",
       "      <td>2009--Purja-Pun-G-P--Ni-Al</td>\n",
       "      <td>A1--Cu--fcc</td>\n",
       "      <td>Al</td>\n",
       "      <td>A1--Cu--fcc--octahedral-interstitial</td>\n",
       "      <td>2.786985</td>\n",
       "      <td>False</td>\n",
       "    </tr>\n",
       "    <tr>\n",
       "      <th>30</th>\n",
       "      <td>2009--Purja-Pun-G-P--Ni-Al</td>\n",
       "      <td>A1--Cu--fcc</td>\n",
       "      <td>Ni</td>\n",
       "      <td>A1--Cu--fcc--100-dumbbell</td>\n",
       "      <td>3.950914</td>\n",
       "      <td>False</td>\n",
       "    </tr>\n",
       "    <tr>\n",
       "      <th>31</th>\n",
       "      <td>2015--Wilson-S-R--Na</td>\n",
       "      <td>A2--W--bcc</td>\n",
       "      <td>Na</td>\n",
       "      <td>A2--W--bcc--1nn-divacancy</td>\n",
       "      <td>0.728992</td>\n",
       "      <td>False</td>\n",
       "    </tr>\n",
       "    <tr>\n",
       "      <th>32</th>\n",
       "      <td>2009--Purja-Pun-G-P--Ni-Al</td>\n",
       "      <td>A1--Cu--fcc</td>\n",
       "      <td>Al</td>\n",
       "      <td>A1--Cu--fcc--vacancy</td>\n",
       "      <td>0.675330</td>\n",
       "      <td>False</td>\n",
       "    </tr>\n",
       "    <tr>\n",
       "      <th>33</th>\n",
       "      <td>2015--Wilson-S-R--Na</td>\n",
       "      <td>A2--W--bcc</td>\n",
       "      <td>Na</td>\n",
       "      <td>A2--W--bcc--crowdion-interstitial</td>\n",
       "      <td>5.008255</td>\n",
       "      <td>False</td>\n",
       "    </tr>\n",
       "    <tr>\n",
       "      <th>34</th>\n",
       "      <td>2009--Purja-Pun-G-P--Ni-Al</td>\n",
       "      <td>A1--Cu--fcc</td>\n",
       "      <td>Ni</td>\n",
       "      <td>A1--Cu--fcc--110-dumbbell</td>\n",
       "      <td>4.283308</td>\n",
       "      <td>False</td>\n",
       "    </tr>\n",
       "    <tr>\n",
       "      <th>35</th>\n",
       "      <td>2015--Wilson-S-R--Na</td>\n",
       "      <td>A2--W--bcc</td>\n",
       "      <td>Na</td>\n",
       "      <td>A2--W--bcc--2nn-divacancy</td>\n",
       "      <td>7.937457</td>\n",
       "      <td>False</td>\n",
       "    </tr>\n",
       "  </tbody>\n",
       "</table>\n",
       "</div>"
      ],
      "text/plain": [
       "                     potential       family composition  \\\n",
       "0   2009--Purja-Pun-G-P--Ni-Al  A1--Cu--fcc          Al   \n",
       "1   2009--Purja-Pun-G-P--Ni-Al  A1--Cu--fcc          Al   \n",
       "2   2009--Purja-Pun-G-P--Ni-Al  A1--Cu--fcc          Ni   \n",
       "3   2009--Purja-Pun-G-P--Ni-Al  A1--Cu--fcc          Al   \n",
       "4         2015--Wilson-S-R--Na   A2--W--bcc          Na   \n",
       "5         2015--Wilson-S-R--Na   A2--W--bcc          Na   \n",
       "6         2015--Wilson-S-R--Na   A2--W--bcc          Na   \n",
       "7         2015--Wilson-S-R--Na   A2--W--bcc          Na   \n",
       "8         2015--Wilson-S-R--Na   A2--W--bcc          Na   \n",
       "9   2009--Purja-Pun-G-P--Ni-Al  A1--Cu--fcc          Al   \n",
       "10  2009--Purja-Pun-G-P--Ni-Al  A1--Cu--fcc          Ni   \n",
       "11        2015--Wilson-S-R--Na   A2--W--bcc          Na   \n",
       "12        2015--Wilson-S-R--Na   A2--W--bcc          Na   \n",
       "13  2009--Purja-Pun-G-P--Ni-Al  A1--Cu--fcc          Ni   \n",
       "14        2015--Wilson-S-R--Na   A2--W--bcc          Na   \n",
       "15  2009--Purja-Pun-G-P--Ni-Al  A1--Cu--fcc          Al   \n",
       "16  2009--Purja-Pun-G-P--Ni-Al  A1--Cu--fcc          Ni   \n",
       "17        2015--Wilson-S-R--Na   A2--W--bcc          Na   \n",
       "18        2015--Wilson-S-R--Na   A2--W--bcc          Na   \n",
       "19        2015--Wilson-S-R--Na   A2--W--bcc          Na   \n",
       "20        2015--Wilson-S-R--Na   A2--W--bcc          Na   \n",
       "21        2015--Wilson-S-R--Na   A2--W--bcc          Na   \n",
       "22        2015--Wilson-S-R--Na   A2--W--bcc          Na   \n",
       "23  2009--Purja-Pun-G-P--Ni-Al  A1--Cu--fcc          Ni   \n",
       "24  2009--Purja-Pun-G-P--Ni-Al  A1--Cu--fcc          Al   \n",
       "25  2009--Purja-Pun-G-P--Ni-Al  A1--Cu--fcc          Ni   \n",
       "26  2009--Purja-Pun-G-P--Ni-Al  A1--Cu--fcc          Ni   \n",
       "27  2009--Purja-Pun-G-P--Ni-Al  A1--Cu--fcc          Al   \n",
       "28        2015--Wilson-S-R--Na   A2--W--bcc          Na   \n",
       "29  2009--Purja-Pun-G-P--Ni-Al  A1--Cu--fcc          Al   \n",
       "30  2009--Purja-Pun-G-P--Ni-Al  A1--Cu--fcc          Ni   \n",
       "31        2015--Wilson-S-R--Na   A2--W--bcc          Na   \n",
       "32  2009--Purja-Pun-G-P--Ni-Al  A1--Cu--fcc          Al   \n",
       "33        2015--Wilson-S-R--Na   A2--W--bcc          Na   \n",
       "34  2009--Purja-Pun-G-P--Ni-Al  A1--Cu--fcc          Ni   \n",
       "35        2015--Wilson-S-R--Na   A2--W--bcc          Na   \n",
       "\n",
       "                              pointdefect       E_f reconfigured  \n",
       "0               A1--Cu--fcc--100-dumbbell  2.586203        False  \n",
       "1               A1--Cu--fcc--110-dumbbell  2.906438        False  \n",
       "2              A1--Cu--fcc--2nn-divacancy  3.125092        False  \n",
       "3   A1--Cu--fcc--tetrahedral-interstitial  3.089378        False  \n",
       "4                A2--W--bcc--111-dumbbell  5.009829        False  \n",
       "5                A2--W--bcc--100-dumbbell  0.486915         True  \n",
       "6                A2--W--bcc--110-dumbbell  5.499671        False  \n",
       "7                     A2--W--bcc--vacancy  0.365644        False  \n",
       "8               A2--W--bcc--1nn-divacancy  9.680817        False  \n",
       "9               A1--Cu--fcc--111-dumbbell  3.001311        False  \n",
       "10                   A1--Cu--fcc--vacancy  1.571367        False  \n",
       "11    A2--W--bcc--octahedral-interstitial  0.633291         True  \n",
       "12                    A2--W--bcc--vacancy  4.437329        False  \n",
       "13     A1--Cu--fcc--crowdion-interstitial  4.283838        False  \n",
       "14               A2--W--bcc--110-dumbbell  0.525846        False  \n",
       "15     A1--Cu--fcc--crowdion-interstitial  2.899777        False  \n",
       "16   A1--Cu--fcc--octahedral-interstitial  4.309433        False  \n",
       "17               A2--W--bcc--100-dumbbell  5.009829         True  \n",
       "18   A2--W--bcc--tetrahedral-interstitial  5.880355        False  \n",
       "19               A2--W--bcc--111-dumbbell  0.486915        False  \n",
       "20   A2--W--bcc--tetrahedral-interstitial  0.486915         True  \n",
       "21      A2--W--bcc--crowdion-interstitial  0.486982        False  \n",
       "22    A2--W--bcc--octahedral-interstitial  5.008255         True  \n",
       "23             A1--Cu--fcc--1nn-divacancy  2.975356        False  \n",
       "24             A1--Cu--fcc--1nn-divacancy  1.361453        False  \n",
       "25  A1--Cu--fcc--tetrahedral-interstitial  4.430902        False  \n",
       "26              A1--Cu--fcc--111-dumbbell  4.218501        False  \n",
       "27             A1--Cu--fcc--2nn-divacancy  1.377990        False  \n",
       "28              A2--W--bcc--2nn-divacancy  0.670571        False  \n",
       "29   A1--Cu--fcc--octahedral-interstitial  2.786985        False  \n",
       "30              A1--Cu--fcc--100-dumbbell  3.950914        False  \n",
       "31              A2--W--bcc--1nn-divacancy  0.728992        False  \n",
       "32                   A1--Cu--fcc--vacancy  0.675330        False  \n",
       "33      A2--W--bcc--crowdion-interstitial  5.008255        False  \n",
       "34              A1--Cu--fcc--110-dumbbell  4.283308        False  \n",
       "35              A2--W--bcc--2nn-divacancy  7.937457        False  "
      ]
     },
     "execution_count": 24,
     "metadata": {},
     "output_type": "execute_result"
    }
   ],
   "source": [
    "#                        raw names       new names\n",
    "headers = OrderedDict([ ('potential_id', 'potential'  ),\n",
    "                        ('family',       'family'     ),\n",
    "                        ('composition',  'composition'),\n",
    "                        ('pointdefect_id',   'pointdefect'),\n",
    "                        ('E_f',     'E_f'),\n",
    "                        ('reconfigured', 'reconfigured'),\n",
    "                      ])\n",
    "\n",
    "df = pd.DataFrame(df, columns=headers.keys())\n",
    "df.rename(columns=headers, inplace=True)\n",
    "df"
   ]
  },
  {
   "cell_type": "markdown",
   "metadata": {
    "deletable": true,
    "editable": true
   },
   "source": [
    "## 3. HTML Tables\n",
    "\n",
    "This section takes the processed data and generates per_potential html tables."
   ]
  },
  {
   "cell_type": "code",
   "execution_count": 15,
   "metadata": {
    "collapsed": true,
    "deletable": true,
    "editable": true
   },
   "outputs": [],
   "source": [
    "table_style_file = 'webtablestyle.html'"
   ]
  },
  {
   "cell_type": "code",
   "execution_count": 16,
   "metadata": {
    "collapsed": true,
    "deletable": true,
    "editable": true
   },
   "outputs": [],
   "source": [
    "#with open(table_style_file) as f:\n",
    "#    table_style = f.read() \n",
    "table_style=''"
   ]
  },
  {
   "cell_type": "code",
   "execution_count": 27,
   "metadata": {
    "collapsed": false,
    "deletable": true,
    "editable": true
   },
   "outputs": [],
   "source": [
    "def gen_ptd_table(df, potential, composition):\n",
    "    \n",
    "    headers = OrderedDict([ ('pointdefect', 'Point Defect'),\n",
    "                            ('E_f', '<i>E<sub>f</sub></i> (eV)'),\n",
    "                            ('reconfigured', 'Reconfigured'),\n",
    "                            ])\n",
    "    def float_fmt(value):\n",
    "        return '%8.4f' % value\n",
    "    \n",
    "    html = ''\n",
    "    \n",
    "    pc_df = df[(df.potential==potential) & (df.composition==composition)]\n",
    "    \n",
    "    for family in np.unique(pc_df.family):\n",
    "        table_df = pc_df[(pc_df.family==family)].sort_values('E_f')\n",
    "        table_df = pd.DataFrame(table_df, columns=headers.keys())\n",
    "\n",
    "        table_df.E_f = uc.get_in_units(table_df.E_f, 'eV')\n",
    "        names = []\n",
    "        for pointdefect in table_df.pointdefect:\n",
    "            names.append(pointdefect.replace(family+'--', ''))\n",
    "        table_df.pointdefect = names\n",
    "    \n",
    "        table_df.rename(columns=headers, inplace=True)\n",
    "        table_df.reset_index(drop=True, inplace=True)\n",
    "    \n",
    "        html += family + ' (' + composition + ')\\n'\n",
    "        html += table_df.to_html(index=False, float_format=float_fmt, escape=False, classes='datatable')\n",
    "        \n",
    "    return html    \n",
    "\n",
    "class ContentSelect(object):\n",
    "    \n",
    "    class Option(object):\n",
    "        \n",
    "        def __init__(self, value, data):\n",
    "            self.__value = value\n",
    "            self.__data = data\n",
    "            \n",
    "        @property\n",
    "        def value(self):\n",
    "            return self.__value\n",
    "    \n",
    "        @property\n",
    "        def data(self):\n",
    "            return self.__data\n",
    "    \n",
    "    def __init__(self, elementID, valuename='value', functionname='showSelect', selectID='pick'):\n",
    "        self.__options = []\n",
    "        self.__elementID = elementID\n",
    "        self.__valuename = valuename\n",
    "        self.__functionname = functionname\n",
    "        self.__selectID = selectID\n",
    "        \n",
    "    def addoption(self, value, data):\n",
    "        self.__options.append(self.Option(value, data))\n",
    "        \n",
    "    def genselect(self):\n",
    "        html = '<select id=\"%s\" onchange=\"%s()\">\\n' % (self.__selectID, self.__functionname)\n",
    "        for i, option in enumerate(self.__options):\n",
    "            if i > 0:\n",
    "                html += '  <option>%s</option>\\n' % (option.value)\n",
    "            else:\n",
    "                html += '  <option selected>%s</option>\\n' % (option.value)       \n",
    "        html += '</select>\\n'\n",
    "        \n",
    "        return html\n",
    "\n",
    "    def genswitch(self):\n",
    "        html = '<script>\\n'\n",
    "        html += 'function %s() {\\n' % self.__functionname\n",
    "        html += '  var text;\\n'\n",
    "        html += '  var %s = document.getElementById(\"%s\").value;\\n' % (self.__valuename, self.__selectID)\n",
    "        html += '  switch(%s) {\\n' % (self.__valuename)\n",
    "        for option in self.__options:\n",
    "            html += '    case \"%s\":\\n' % option.value\n",
    "            html += \"      text = '%s';\\n\" % option.data.replace('\\n', '\\\\n')\n",
    "            html += '      break;\\n'\n",
    "        html += '  }\\n' \n",
    "        html += '  document.getElementById(\"%s\").innerHTML = text;\\n' % self.__elementID\n",
    "        html += '}\\n'\n",
    "        html += '</script>\\n'\n",
    "        \n",
    "        return html\n",
    "    \n",
    "    def gendiv(self):\n",
    "        html = '<div id=\"%s\">' % self.__elementID\n",
    "        html += self.__options[0].data\n",
    "        html += '</div>\\n'\n",
    "        \n",
    "        return html"
   ]
  },
  {
   "cell_type": "code",
   "execution_count": 29,
   "metadata": {
    "collapsed": false,
    "deletable": true,
    "editable": true
   },
   "outputs": [
    {
     "data": {
      "text/html": [
       "A1--Cu--fcc (Ni)\n",
       "<table border=\"1\" class=\"dataframe datatable\">\n",
       "  <thead>\n",
       "    <tr style=\"text-align: right;\">\n",
       "      <th>Point Defect</th>\n",
       "      <th><i>E<sub>f</sub></i> (eV)</th>\n",
       "      <th>Reconfigured</th>\n",
       "    </tr>\n",
       "  </thead>\n",
       "  <tbody>\n",
       "    <tr>\n",
       "      <td>vacancy</td>\n",
       "      <td>1.5714</td>\n",
       "      <td>False</td>\n",
       "    </tr>\n",
       "    <tr>\n",
       "      <td>1nn-divacancy</td>\n",
       "      <td>2.9754</td>\n",
       "      <td>False</td>\n",
       "    </tr>\n",
       "    <tr>\n",
       "      <td>2nn-divacancy</td>\n",
       "      <td>3.1251</td>\n",
       "      <td>False</td>\n",
       "    </tr>\n",
       "    <tr>\n",
       "      <td>100-dumbbell</td>\n",
       "      <td>3.9509</td>\n",
       "      <td>False</td>\n",
       "    </tr>\n",
       "    <tr>\n",
       "      <td>111-dumbbell</td>\n",
       "      <td>4.2185</td>\n",
       "      <td>False</td>\n",
       "    </tr>\n",
       "    <tr>\n",
       "      <td>110-dumbbell</td>\n",
       "      <td>4.2833</td>\n",
       "      <td>False</td>\n",
       "    </tr>\n",
       "    <tr>\n",
       "      <td>crowdion-interstitial</td>\n",
       "      <td>4.2838</td>\n",
       "      <td>False</td>\n",
       "    </tr>\n",
       "    <tr>\n",
       "      <td>octahedral-interstitial</td>\n",
       "      <td>4.3094</td>\n",
       "      <td>False</td>\n",
       "    </tr>\n",
       "    <tr>\n",
       "      <td>tetrahedral-interstitial</td>\n",
       "      <td>4.4309</td>\n",
       "      <td>False</td>\n",
       "    </tr>\n",
       "  </tbody>\n",
       "</table>"
      ],
      "text/plain": [
       "<IPython.core.display.HTML object>"
      ]
     },
     "metadata": {},
     "output_type": "display_data"
    }
   ],
   "source": [
    "display(HTML(gen_ptd_table(df, '2009--Purja-Pun-G-P--Ni-Al', 'Ni')))"
   ]
  },
  {
   "cell_type": "code",
   "execution_count": 22,
   "metadata": {
    "collapsed": true,
    "deletable": true,
    "editable": true
   },
   "outputs": [],
   "source": [
    "test = ContentSelect('test')"
   ]
  },
  {
   "cell_type": "code",
   "execution_count": 23,
   "metadata": {
    "collapsed": true,
    "deletable": true,
    "editable": true
   },
   "outputs": [],
   "source": [
    "for i in xrange(5):\n",
    "    test.addoption(df.iloc[i].family, '<i>C<sub>ij</sub></i> (GPa) = ' + gen_Cij_table(df.iloc[i]))"
   ]
  },
  {
   "cell_type": "code",
   "execution_count": 24,
   "metadata": {
    "collapsed": false,
    "deletable": true,
    "editable": true
   },
   "outputs": [
    {
     "name": "stdout",
     "output_type": "stream",
     "text": [
      "<select id=\"pick\" onchange=\"showSelect()\">\n",
      "  <option selected>B3--ZnS--cubic-zinc-blende</option>\n",
      "  <option>A7--alpha-As</option>\n",
      "  <option>A3'--alpha-La--double-hcp</option>\n",
      "  <option>A5--beta-Sn</option>\n",
      "  <option>C1--CaF2--fluorite</option>\n",
      "</select>\n",
      "<div id=\"test\"><i>C<sub>ij</sub></i> (GPa) = <table border=\"1\" class=\"dataframe datatable\">\n",
      "  <thead>\n",
      "    <tr style=\"text-align: right;\">\n",
      "      <th></th>\n",
      "      <th>1</th>\n",
      "      <th>2</th>\n",
      "      <th>3</th>\n",
      "      <th>4</th>\n",
      "      <th>5</th>\n",
      "      <th>6</th>\n",
      "    </tr>\n",
      "  </thead>\n",
      "  <tbody>\n",
      "    <tr>\n",
      "      <th>1</th>\n",
      "      <td>24.36</td>\n",
      "      <td>53.32</td>\n",
      "      <td>53.32</td>\n",
      "      <td>0.00</td>\n",
      "      <td>0.00</td>\n",
      "      <td>0.00</td>\n",
      "    </tr>\n",
      "    <tr>\n",
      "      <th>2</th>\n",
      "      <td>53.32</td>\n",
      "      <td>24.36</td>\n",
      "      <td>53.32</td>\n",
      "      <td>0.00</td>\n",
      "      <td>0.00</td>\n",
      "      <td>0.00</td>\n",
      "    </tr>\n",
      "    <tr>\n",
      "      <th>3</th>\n",
      "      <td>53.32</td>\n",
      "      <td>53.32</td>\n",
      "      <td>24.36</td>\n",
      "      <td>0.00</td>\n",
      "      <td>0.00</td>\n",
      "      <td>0.00</td>\n",
      "    </tr>\n",
      "    <tr>\n",
      "      <th>4</th>\n",
      "      <td>0.00</td>\n",
      "      <td>0.00</td>\n",
      "      <td>0.00</td>\n",
      "      <td>38.69</td>\n",
      "      <td>0.00</td>\n",
      "      <td>0.00</td>\n",
      "    </tr>\n",
      "    <tr>\n",
      "      <th>5</th>\n",
      "      <td>0.00</td>\n",
      "      <td>0.00</td>\n",
      "      <td>0.00</td>\n",
      "      <td>0.00</td>\n",
      "      <td>38.69</td>\n",
      "      <td>0.00</td>\n",
      "    </tr>\n",
      "    <tr>\n",
      "      <th>6</th>\n",
      "      <td>0.00</td>\n",
      "      <td>0.00</td>\n",
      "      <td>0.00</td>\n",
      "      <td>0.00</td>\n",
      "      <td>0.00</td>\n",
      "      <td>38.69</td>\n",
      "    </tr>\n",
      "  </tbody>\n",
      "</table></div>\n",
      "<script>\n",
      "function showSelect() {\n",
      "  var text;\n",
      "  var value = document.getElementById(\"pick\").value;\n",
      "  switch(value) {\n",
      "    case \"B3--ZnS--cubic-zinc-blende\":\n",
      "      text = '<i>C<sub>ij</sub></i> (GPa) = <table border=\"1\" class=\"dataframe datatable\">\\n  <thead>\\n    <tr style=\"text-align: right;\">\\n      <th></th>\\n      <th>1</th>\\n      <th>2</th>\\n      <th>3</th>\\n      <th>4</th>\\n      <th>5</th>\\n      <th>6</th>\\n    </tr>\\n  </thead>\\n  <tbody>\\n    <tr>\\n      <th>1</th>\\n      <td>24.36</td>\\n      <td>53.32</td>\\n      <td>53.32</td>\\n      <td>0.00</td>\\n      <td>0.00</td>\\n      <td>0.00</td>\\n    </tr>\\n    <tr>\\n      <th>2</th>\\n      <td>53.32</td>\\n      <td>24.36</td>\\n      <td>53.32</td>\\n      <td>0.00</td>\\n      <td>0.00</td>\\n      <td>0.00</td>\\n    </tr>\\n    <tr>\\n      <th>3</th>\\n      <td>53.32</td>\\n      <td>53.32</td>\\n      <td>24.36</td>\\n      <td>0.00</td>\\n      <td>0.00</td>\\n      <td>0.00</td>\\n    </tr>\\n    <tr>\\n      <th>4</th>\\n      <td>0.00</td>\\n      <td>0.00</td>\\n      <td>0.00</td>\\n      <td>38.69</td>\\n      <td>0.00</td>\\n      <td>0.00</td>\\n    </tr>\\n    <tr>\\n      <th>5</th>\\n      <td>0.00</td>\\n      <td>0.00</td>\\n      <td>0.00</td>\\n      <td>0.00</td>\\n      <td>38.69</td>\\n      <td>0.00</td>\\n    </tr>\\n    <tr>\\n      <th>6</th>\\n      <td>0.00</td>\\n      <td>0.00</td>\\n      <td>0.00</td>\\n      <td>0.00</td>\\n      <td>0.00</td>\\n      <td>38.69</td>\\n    </tr>\\n  </tbody>\\n</table>';\n",
      "      break;\n",
      "    case \"A7--alpha-As\":\n",
      "      text = '<i>C<sub>ij</sub></i> (GPa) = <table border=\"1\" class=\"dataframe datatable\">\\n  <thead>\\n    <tr style=\"text-align: right;\">\\n      <th></th>\\n      <th>1</th>\\n      <th>2</th>\\n      <th>3</th>\\n      <th>4</th>\\n      <th>5</th>\\n      <th>6</th>\\n    </tr>\\n  </thead>\\n  <tbody>\\n    <tr>\\n      <th>1</th>\\n      <td>378.67</td>\\n      <td>157.98</td>\\n      <td>172.85</td>\\n      <td>0.00</td>\\n      <td>0.00</td>\\n      <td>0.00</td>\\n    </tr>\\n    <tr>\\n      <th>2</th>\\n      <td>157.98</td>\\n      <td>378.67</td>\\n      <td>172.85</td>\\n      <td>0.00</td>\\n      <td>0.00</td>\\n      <td>0.00</td>\\n    </tr>\\n    <tr>\\n      <th>3</th>\\n      <td>172.85</td>\\n      <td>172.85</td>\\n      <td>363.79</td>\\n      <td>0.00</td>\\n      <td>0.00</td>\\n      <td>0.00</td>\\n    </tr>\\n    <tr>\\n      <th>4</th>\\n      <td>0.00</td>\\n      <td>0.00</td>\\n      <td>0.00</td>\\n      <td>125.22</td>\\n      <td>0.00</td>\\n      <td>0.00</td>\\n    </tr>\\n    <tr>\\n      <th>5</th>\\n      <td>0.00</td>\\n      <td>0.00</td>\\n      <td>0.00</td>\\n      <td>0.00</td>\\n      <td>125.22</td>\\n      <td>0.00</td>\\n    </tr>\\n    <tr>\\n      <th>6</th>\\n      <td>0.00</td>\\n      <td>0.00</td>\\n      <td>0.00</td>\\n      <td>0.00</td>\\n      <td>0.00</td>\\n      <td>110.35</td>\\n    </tr>\\n  </tbody>\\n</table>';\n",
      "      break;\n",
      "    case \"A3'--alpha-La--double-hcp\":\n",
      "      text = '<i>C<sub>ij</sub></i> (GPa) = <table border=\"1\" class=\"dataframe datatable\">\\n  <thead>\\n    <tr style=\"text-align: right;\">\\n      <th></th>\\n      <th>1</th>\\n      <th>2</th>\\n      <th>3</th>\\n      <th>4</th>\\n      <th>5</th>\\n      <th>6</th>\\n    </tr>\\n  </thead>\\n  <tbody>\\n    <tr>\\n      <th>1</th>\\n      <td>117.54</td>\\n      <td>58.21</td>\\n      <td>52.13</td>\\n      <td>0.00</td>\\n      <td>0.00</td>\\n      <td>0.00</td>\\n    </tr>\\n    <tr>\\n      <th>2</th>\\n      <td>58.21</td>\\n      <td>117.54</td>\\n      <td>52.13</td>\\n      <td>0.00</td>\\n      <td>0.00</td>\\n      <td>0.00</td>\\n    </tr>\\n    <tr>\\n      <th>3</th>\\n      <td>52.13</td>\\n      <td>52.13</td>\\n      <td>92.88</td>\\n      <td>0.00</td>\\n      <td>0.00</td>\\n      <td>0.00</td>\\n    </tr>\\n    <tr>\\n      <th>4</th>\\n      <td>0.00</td>\\n      <td>0.00</td>\\n      <td>0.00</td>\\n      <td>20.42</td>\\n      <td>0.00</td>\\n      <td>0.00</td>\\n    </tr>\\n    <tr>\\n      <th>5</th>\\n      <td>0.00</td>\\n      <td>0.00</td>\\n      <td>0.00</td>\\n      <td>0.00</td>\\n      <td>20.42</td>\\n      <td>0.00</td>\\n    </tr>\\n    <tr>\\n      <th>6</th>\\n      <td>0.00</td>\\n      <td>0.00</td>\\n      <td>0.00</td>\\n      <td>0.00</td>\\n      <td>0.00</td>\\n      <td>29.71</td>\\n    </tr>\\n  </tbody>\\n</table>';\n",
      "      break;\n",
      "    case \"A5--beta-Sn\":\n",
      "      text = '<i>C<sub>ij</sub></i> (GPa) = <table border=\"1\" class=\"dataframe datatable\">\\n  <thead>\\n    <tr style=\"text-align: right;\">\\n      <th></th>\\n      <th>1</th>\\n      <th>2</th>\\n      <th>3</th>\\n      <th>4</th>\\n      <th>5</th>\\n      <th>6</th>\\n    </tr>\\n  </thead>\\n  <tbody>\\n    <tr>\\n      <th>1</th>\\n      <td>688.50</td>\\n      <td>280.70</td>\\n      <td>296.09</td>\\n      <td>0.00</td>\\n      <td>0.00</td>\\n      <td>0.00</td>\\n    </tr>\\n    <tr>\\n      <th>2</th>\\n      <td>280.70</td>\\n      <td>688.50</td>\\n      <td>296.09</td>\\n      <td>0.00</td>\\n      <td>0.00</td>\\n      <td>0.00</td>\\n    </tr>\\n    <tr>\\n      <th>3</th>\\n      <td>296.09</td>\\n      <td>296.09</td>\\n      <td>474.23</td>\\n      <td>0.00</td>\\n      <td>0.00</td>\\n      <td>0.00</td>\\n    </tr>\\n    <tr>\\n      <th>4</th>\\n      <td>0.00</td>\\n      <td>0.00</td>\\n      <td>0.00</td>\\n      <td>44.09</td>\\n      <td>0.00</td>\\n      <td>0.00</td>\\n    </tr>\\n    <tr>\\n      <th>5</th>\\n      <td>0.00</td>\\n      <td>0.00</td>\\n      <td>0.00</td>\\n      <td>0.00</td>\\n      <td>44.09</td>\\n      <td>0.00</td>\\n    </tr>\\n    <tr>\\n      <th>6</th>\\n      <td>0.00</td>\\n      <td>0.00</td>\\n      <td>0.00</td>\\n      <td>0.00</td>\\n      <td>0.00</td>\\n      <td>-62.26</td>\\n    </tr>\\n  </tbody>\\n</table>';\n",
      "      break;\n",
      "    case \"C1--CaF2--fluorite\":\n",
      "      text = '<i>C<sub>ij</sub></i> (GPa) = <table border=\"1\" class=\"dataframe datatable\">\\n  <thead>\\n    <tr style=\"text-align: right;\">\\n      <th></th>\\n      <th>1</th>\\n      <th>2</th>\\n      <th>3</th>\\n      <th>4</th>\\n      <th>5</th>\\n      <th>6</th>\\n    </tr>\\n  </thead>\\n  <tbody>\\n    <tr>\\n      <th>1</th>\\n      <td>140.56</td>\\n      <td>83.92</td>\\n      <td>83.92</td>\\n      <td>0.00</td>\\n      <td>0.00</td>\\n      <td>0.00</td>\\n    </tr>\\n    <tr>\\n      <th>2</th>\\n      <td>83.92</td>\\n      <td>140.56</td>\\n      <td>83.92</td>\\n      <td>0.00</td>\\n      <td>0.00</td>\\n      <td>0.00</td>\\n    </tr>\\n    <tr>\\n      <th>3</th>\\n      <td>83.92</td>\\n      <td>83.92</td>\\n      <td>140.56</td>\\n      <td>0.00</td>\\n      <td>0.00</td>\\n      <td>0.00</td>\\n    </tr>\\n    <tr>\\n      <th>4</th>\\n      <td>0.00</td>\\n      <td>0.00</td>\\n      <td>0.00</td>\\n      <td>25.92</td>\\n      <td>0.00</td>\\n      <td>0.00</td>\\n    </tr>\\n    <tr>\\n      <th>5</th>\\n      <td>0.00</td>\\n      <td>0.00</td>\\n      <td>0.00</td>\\n      <td>0.00</td>\\n      <td>25.92</td>\\n      <td>0.00</td>\\n    </tr>\\n    <tr>\\n      <th>6</th>\\n      <td>0.00</td>\\n      <td>0.00</td>\\n      <td>0.00</td>\\n      <td>0.00</td>\\n      <td>0.00</td>\\n      <td>25.92</td>\\n    </tr>\\n  </tbody>\\n</table>';\n",
      "      break;\n",
      "  }\n",
      "  document.getElementById(\"test\").innerHTML = text;\n",
      "}\n",
      "</script>\n",
      "\n"
     ]
    }
   ],
   "source": [
    "print(test.genselect()+test.gendiv()+test.genswitch())"
   ]
  },
  {
   "cell_type": "code",
   "execution_count": 25,
   "metadata": {
    "collapsed": false,
    "deletable": true,
    "editable": true
   },
   "outputs": [
    {
     "data": {
      "text/html": [
       "<select id=\"pick\" onchange=\"showSelect()\">\n",
       "  <option selected>B3--ZnS--cubic-zinc-blende</option>\n",
       "  <option>A7--alpha-As</option>\n",
       "  <option>A3'--alpha-La--double-hcp</option>\n",
       "  <option>A5--beta-Sn</option>\n",
       "  <option>C1--CaF2--fluorite</option>\n",
       "</select>\n",
       "<div id=\"test\"><i>C<sub>ij</sub></i> (GPa) = <table border=\"1\" class=\"dataframe datatable\">\n",
       "  <thead>\n",
       "    <tr style=\"text-align: right;\">\n",
       "      <th></th>\n",
       "      <th>1</th>\n",
       "      <th>2</th>\n",
       "      <th>3</th>\n",
       "      <th>4</th>\n",
       "      <th>5</th>\n",
       "      <th>6</th>\n",
       "    </tr>\n",
       "  </thead>\n",
       "  <tbody>\n",
       "    <tr>\n",
       "      <th>1</th>\n",
       "      <td>24.36</td>\n",
       "      <td>53.32</td>\n",
       "      <td>53.32</td>\n",
       "      <td>0.00</td>\n",
       "      <td>0.00</td>\n",
       "      <td>0.00</td>\n",
       "    </tr>\n",
       "    <tr>\n",
       "      <th>2</th>\n",
       "      <td>53.32</td>\n",
       "      <td>24.36</td>\n",
       "      <td>53.32</td>\n",
       "      <td>0.00</td>\n",
       "      <td>0.00</td>\n",
       "      <td>0.00</td>\n",
       "    </tr>\n",
       "    <tr>\n",
       "      <th>3</th>\n",
       "      <td>53.32</td>\n",
       "      <td>53.32</td>\n",
       "      <td>24.36</td>\n",
       "      <td>0.00</td>\n",
       "      <td>0.00</td>\n",
       "      <td>0.00</td>\n",
       "    </tr>\n",
       "    <tr>\n",
       "      <th>4</th>\n",
       "      <td>0.00</td>\n",
       "      <td>0.00</td>\n",
       "      <td>0.00</td>\n",
       "      <td>38.69</td>\n",
       "      <td>0.00</td>\n",
       "      <td>0.00</td>\n",
       "    </tr>\n",
       "    <tr>\n",
       "      <th>5</th>\n",
       "      <td>0.00</td>\n",
       "      <td>0.00</td>\n",
       "      <td>0.00</td>\n",
       "      <td>0.00</td>\n",
       "      <td>38.69</td>\n",
       "      <td>0.00</td>\n",
       "    </tr>\n",
       "    <tr>\n",
       "      <th>6</th>\n",
       "      <td>0.00</td>\n",
       "      <td>0.00</td>\n",
       "      <td>0.00</td>\n",
       "      <td>0.00</td>\n",
       "      <td>0.00</td>\n",
       "      <td>38.69</td>\n",
       "    </tr>\n",
       "  </tbody>\n",
       "</table></div>\n",
       "<script>\n",
       "function showSelect() {\n",
       "  var text;\n",
       "  var value = document.getElementById(\"pick\").value;\n",
       "  switch(value) {\n",
       "    case \"B3--ZnS--cubic-zinc-blende\":\n",
       "      text = '<i>C<sub>ij</sub></i> (GPa) = <table border=\"1\" class=\"dataframe datatable\">\\n  <thead>\\n    <tr style=\"text-align: right;\">\\n      <th></th>\\n      <th>1</th>\\n      <th>2</th>\\n      <th>3</th>\\n      <th>4</th>\\n      <th>5</th>\\n      <th>6</th>\\n    </tr>\\n  </thead>\\n  <tbody>\\n    <tr>\\n      <th>1</th>\\n      <td>24.36</td>\\n      <td>53.32</td>\\n      <td>53.32</td>\\n      <td>0.00</td>\\n      <td>0.00</td>\\n      <td>0.00</td>\\n    </tr>\\n    <tr>\\n      <th>2</th>\\n      <td>53.32</td>\\n      <td>24.36</td>\\n      <td>53.32</td>\\n      <td>0.00</td>\\n      <td>0.00</td>\\n      <td>0.00</td>\\n    </tr>\\n    <tr>\\n      <th>3</th>\\n      <td>53.32</td>\\n      <td>53.32</td>\\n      <td>24.36</td>\\n      <td>0.00</td>\\n      <td>0.00</td>\\n      <td>0.00</td>\\n    </tr>\\n    <tr>\\n      <th>4</th>\\n      <td>0.00</td>\\n      <td>0.00</td>\\n      <td>0.00</td>\\n      <td>38.69</td>\\n      <td>0.00</td>\\n      <td>0.00</td>\\n    </tr>\\n    <tr>\\n      <th>5</th>\\n      <td>0.00</td>\\n      <td>0.00</td>\\n      <td>0.00</td>\\n      <td>0.00</td>\\n      <td>38.69</td>\\n      <td>0.00</td>\\n    </tr>\\n    <tr>\\n      <th>6</th>\\n      <td>0.00</td>\\n      <td>0.00</td>\\n      <td>0.00</td>\\n      <td>0.00</td>\\n      <td>0.00</td>\\n      <td>38.69</td>\\n    </tr>\\n  </tbody>\\n</table>';\n",
       "      break;\n",
       "    case \"A7--alpha-As\":\n",
       "      text = '<i>C<sub>ij</sub></i> (GPa) = <table border=\"1\" class=\"dataframe datatable\">\\n  <thead>\\n    <tr style=\"text-align: right;\">\\n      <th></th>\\n      <th>1</th>\\n      <th>2</th>\\n      <th>3</th>\\n      <th>4</th>\\n      <th>5</th>\\n      <th>6</th>\\n    </tr>\\n  </thead>\\n  <tbody>\\n    <tr>\\n      <th>1</th>\\n      <td>378.67</td>\\n      <td>157.98</td>\\n      <td>172.85</td>\\n      <td>0.00</td>\\n      <td>0.00</td>\\n      <td>0.00</td>\\n    </tr>\\n    <tr>\\n      <th>2</th>\\n      <td>157.98</td>\\n      <td>378.67</td>\\n      <td>172.85</td>\\n      <td>0.00</td>\\n      <td>0.00</td>\\n      <td>0.00</td>\\n    </tr>\\n    <tr>\\n      <th>3</th>\\n      <td>172.85</td>\\n      <td>172.85</td>\\n      <td>363.79</td>\\n      <td>0.00</td>\\n      <td>0.00</td>\\n      <td>0.00</td>\\n    </tr>\\n    <tr>\\n      <th>4</th>\\n      <td>0.00</td>\\n      <td>0.00</td>\\n      <td>0.00</td>\\n      <td>125.22</td>\\n      <td>0.00</td>\\n      <td>0.00</td>\\n    </tr>\\n    <tr>\\n      <th>5</th>\\n      <td>0.00</td>\\n      <td>0.00</td>\\n      <td>0.00</td>\\n      <td>0.00</td>\\n      <td>125.22</td>\\n      <td>0.00</td>\\n    </tr>\\n    <tr>\\n      <th>6</th>\\n      <td>0.00</td>\\n      <td>0.00</td>\\n      <td>0.00</td>\\n      <td>0.00</td>\\n      <td>0.00</td>\\n      <td>110.35</td>\\n    </tr>\\n  </tbody>\\n</table>';\n",
       "      break;\n",
       "    case \"A3'--alpha-La--double-hcp\":\n",
       "      text = '<i>C<sub>ij</sub></i> (GPa) = <table border=\"1\" class=\"dataframe datatable\">\\n  <thead>\\n    <tr style=\"text-align: right;\">\\n      <th></th>\\n      <th>1</th>\\n      <th>2</th>\\n      <th>3</th>\\n      <th>4</th>\\n      <th>5</th>\\n      <th>6</th>\\n    </tr>\\n  </thead>\\n  <tbody>\\n    <tr>\\n      <th>1</th>\\n      <td>117.54</td>\\n      <td>58.21</td>\\n      <td>52.13</td>\\n      <td>0.00</td>\\n      <td>0.00</td>\\n      <td>0.00</td>\\n    </tr>\\n    <tr>\\n      <th>2</th>\\n      <td>58.21</td>\\n      <td>117.54</td>\\n      <td>52.13</td>\\n      <td>0.00</td>\\n      <td>0.00</td>\\n      <td>0.00</td>\\n    </tr>\\n    <tr>\\n      <th>3</th>\\n      <td>52.13</td>\\n      <td>52.13</td>\\n      <td>92.88</td>\\n      <td>0.00</td>\\n      <td>0.00</td>\\n      <td>0.00</td>\\n    </tr>\\n    <tr>\\n      <th>4</th>\\n      <td>0.00</td>\\n      <td>0.00</td>\\n      <td>0.00</td>\\n      <td>20.42</td>\\n      <td>0.00</td>\\n      <td>0.00</td>\\n    </tr>\\n    <tr>\\n      <th>5</th>\\n      <td>0.00</td>\\n      <td>0.00</td>\\n      <td>0.00</td>\\n      <td>0.00</td>\\n      <td>20.42</td>\\n      <td>0.00</td>\\n    </tr>\\n    <tr>\\n      <th>6</th>\\n      <td>0.00</td>\\n      <td>0.00</td>\\n      <td>0.00</td>\\n      <td>0.00</td>\\n      <td>0.00</td>\\n      <td>29.71</td>\\n    </tr>\\n  </tbody>\\n</table>';\n",
       "      break;\n",
       "    case \"A5--beta-Sn\":\n",
       "      text = '<i>C<sub>ij</sub></i> (GPa) = <table border=\"1\" class=\"dataframe datatable\">\\n  <thead>\\n    <tr style=\"text-align: right;\">\\n      <th></th>\\n      <th>1</th>\\n      <th>2</th>\\n      <th>3</th>\\n      <th>4</th>\\n      <th>5</th>\\n      <th>6</th>\\n    </tr>\\n  </thead>\\n  <tbody>\\n    <tr>\\n      <th>1</th>\\n      <td>688.50</td>\\n      <td>280.70</td>\\n      <td>296.09</td>\\n      <td>0.00</td>\\n      <td>0.00</td>\\n      <td>0.00</td>\\n    </tr>\\n    <tr>\\n      <th>2</th>\\n      <td>280.70</td>\\n      <td>688.50</td>\\n      <td>296.09</td>\\n      <td>0.00</td>\\n      <td>0.00</td>\\n      <td>0.00</td>\\n    </tr>\\n    <tr>\\n      <th>3</th>\\n      <td>296.09</td>\\n      <td>296.09</td>\\n      <td>474.23</td>\\n      <td>0.00</td>\\n      <td>0.00</td>\\n      <td>0.00</td>\\n    </tr>\\n    <tr>\\n      <th>4</th>\\n      <td>0.00</td>\\n      <td>0.00</td>\\n      <td>0.00</td>\\n      <td>44.09</td>\\n      <td>0.00</td>\\n      <td>0.00</td>\\n    </tr>\\n    <tr>\\n      <th>5</th>\\n      <td>0.00</td>\\n      <td>0.00</td>\\n      <td>0.00</td>\\n      <td>0.00</td>\\n      <td>44.09</td>\\n      <td>0.00</td>\\n    </tr>\\n    <tr>\\n      <th>6</th>\\n      <td>0.00</td>\\n      <td>0.00</td>\\n      <td>0.00</td>\\n      <td>0.00</td>\\n      <td>0.00</td>\\n      <td>-62.26</td>\\n    </tr>\\n  </tbody>\\n</table>';\n",
       "      break;\n",
       "    case \"C1--CaF2--fluorite\":\n",
       "      text = '<i>C<sub>ij</sub></i> (GPa) = <table border=\"1\" class=\"dataframe datatable\">\\n  <thead>\\n    <tr style=\"text-align: right;\">\\n      <th></th>\\n      <th>1</th>\\n      <th>2</th>\\n      <th>3</th>\\n      <th>4</th>\\n      <th>5</th>\\n      <th>6</th>\\n    </tr>\\n  </thead>\\n  <tbody>\\n    <tr>\\n      <th>1</th>\\n      <td>140.56</td>\\n      <td>83.92</td>\\n      <td>83.92</td>\\n      <td>0.00</td>\\n      <td>0.00</td>\\n      <td>0.00</td>\\n    </tr>\\n    <tr>\\n      <th>2</th>\\n      <td>83.92</td>\\n      <td>140.56</td>\\n      <td>83.92</td>\\n      <td>0.00</td>\\n      <td>0.00</td>\\n      <td>0.00</td>\\n    </tr>\\n    <tr>\\n      <th>3</th>\\n      <td>83.92</td>\\n      <td>83.92</td>\\n      <td>140.56</td>\\n      <td>0.00</td>\\n      <td>0.00</td>\\n      <td>0.00</td>\\n    </tr>\\n    <tr>\\n      <th>4</th>\\n      <td>0.00</td>\\n      <td>0.00</td>\\n      <td>0.00</td>\\n      <td>25.92</td>\\n      <td>0.00</td>\\n      <td>0.00</td>\\n    </tr>\\n    <tr>\\n      <th>5</th>\\n      <td>0.00</td>\\n      <td>0.00</td>\\n      <td>0.00</td>\\n      <td>0.00</td>\\n      <td>25.92</td>\\n      <td>0.00</td>\\n    </tr>\\n    <tr>\\n      <th>6</th>\\n      <td>0.00</td>\\n      <td>0.00</td>\\n      <td>0.00</td>\\n      <td>0.00</td>\\n      <td>0.00</td>\\n      <td>25.92</td>\\n    </tr>\\n  </tbody>\\n</table>';\n",
       "      break;\n",
       "  }\n",
       "  document.getElementById(\"test\").innerHTML = text;\n",
       "}\n",
       "</script>\n"
      ],
      "text/plain": [
       "<IPython.core.display.HTML object>"
      ]
     },
     "metadata": {},
     "output_type": "display_data"
    }
   ],
   "source": [
    "display(HTML(test.genselect()+test.gendiv()+test.genswitch()))"
   ]
  },
  {
   "cell_type": "code",
   "execution_count": 26,
   "metadata": {
    "collapsed": false,
    "deletable": true,
    "editable": true
   },
   "outputs": [
    {
     "data": {
      "text/html": [
       "<style>\n",
       "    .datatable {\n",
       "        border: 1px solid black; \n",
       "        border-collapse: collapse; \n",
       "        padding: 5px; \n",
       "        text-align: right;\n",
       "    } \n",
       "    .datatable td {\n",
       "        border: 1px solid black; \n",
       "        border-collapse: collapse; \n",
       "        font: \"Courier New\", monospace; \n",
       "        font-size: 12px; \n",
       "        padding: 5px; \n",
       "        text-align: right;\n",
       "        width: 45px;\n",
       "    }\n",
       "    .datatable td:nth-child(1) {\n",
       "        width: 135px;\n",
       "        text-align: left;\n",
       "    }\n",
       "    .datatable th {\n",
       "        border: 1px solid black; \n",
       "        border-collapse: collapse; \n",
       "        font: \"Courier New\", monospace; \n",
       "        font-size: 12px; \n",
       "        padding: 5px; \n",
       "        text-align: left;\n",
       "    }\n",
       "</style><table border=\"1\" class=\"dataframe datatable\">\n",
       "  <thead>\n",
       "    <tr style=\"text-align: right;\">\n",
       "      <th></th>\n",
       "      <th>1</th>\n",
       "      <th>2</th>\n",
       "      <th>3</th>\n",
       "      <th>4</th>\n",
       "      <th>5</th>\n",
       "      <th>6</th>\n",
       "    </tr>\n",
       "  </thead>\n",
       "  <tbody>\n",
       "    <tr>\n",
       "      <th>1</th>\n",
       "      <td>24.36</td>\n",
       "      <td>53.32</td>\n",
       "      <td>53.32</td>\n",
       "      <td>0.00</td>\n",
       "      <td>0.00</td>\n",
       "      <td>0.00</td>\n",
       "    </tr>\n",
       "    <tr>\n",
       "      <th>2</th>\n",
       "      <td>53.32</td>\n",
       "      <td>24.36</td>\n",
       "      <td>53.32</td>\n",
       "      <td>0.00</td>\n",
       "      <td>0.00</td>\n",
       "      <td>0.00</td>\n",
       "    </tr>\n",
       "    <tr>\n",
       "      <th>3</th>\n",
       "      <td>53.32</td>\n",
       "      <td>53.32</td>\n",
       "      <td>24.36</td>\n",
       "      <td>0.00</td>\n",
       "      <td>0.00</td>\n",
       "      <td>0.00</td>\n",
       "    </tr>\n",
       "    <tr>\n",
       "      <th>4</th>\n",
       "      <td>0.00</td>\n",
       "      <td>0.00</td>\n",
       "      <td>0.00</td>\n",
       "      <td>38.69</td>\n",
       "      <td>0.00</td>\n",
       "      <td>0.00</td>\n",
       "    </tr>\n",
       "    <tr>\n",
       "      <th>5</th>\n",
       "      <td>0.00</td>\n",
       "      <td>0.00</td>\n",
       "      <td>0.00</td>\n",
       "      <td>0.00</td>\n",
       "      <td>38.69</td>\n",
       "      <td>0.00</td>\n",
       "    </tr>\n",
       "    <tr>\n",
       "      <th>6</th>\n",
       "      <td>0.00</td>\n",
       "      <td>0.00</td>\n",
       "      <td>0.00</td>\n",
       "      <td>0.00</td>\n",
       "      <td>0.00</td>\n",
       "      <td>38.69</td>\n",
       "    </tr>\n",
       "  </tbody>\n",
       "</table>"
      ],
      "text/plain": [
       "<IPython.core.display.HTML object>"
      ]
     },
     "metadata": {},
     "output_type": "display_data"
    }
   ],
   "source": [
    "display(HTML(table_style+gen_Cij_table(df.iloc[0])))"
   ]
  },
  {
   "cell_type": "code",
   "execution_count": 32,
   "metadata": {
    "collapsed": false,
    "deletable": true,
    "editable": true
   },
   "outputs": [
    {
     "data": {
      "text/html": [
       "<style>\n",
       "    .datatable {\n",
       "        border: 1px solid black; \n",
       "        border-collapse: collapse; \n",
       "        padding: 5px; \n",
       "        text-align: right;\n",
       "    } \n",
       "    .datatable td {\n",
       "        border: 1px solid black; \n",
       "        border-collapse: collapse; \n",
       "        font: \"Courier New\", monospace; \n",
       "        font-size: 12px; \n",
       "        padding: 5px; \n",
       "        text-align: right;\n",
       "        width: 45px;\n",
       "    }\n",
       "    .datatable td:nth-child(1) {\n",
       "        width: 135px;\n",
       "        text-align: left;\n",
       "    }\n",
       "    .datatable th {\n",
       "        border: 1px solid black; \n",
       "        border-collapse: collapse; \n",
       "        font: \"Courier New\", monospace; \n",
       "        font-size: 12px; \n",
       "        padding: 5px; \n",
       "        text-align: left;\n",
       "    }\n",
       "</style><table border=\"1\" class=\"dataframe datatable\">\n",
       "  <thead>\n",
       "    <tr style=\"text-align: right;\">\n",
       "      <th>prototype</th>\n",
       "      <th>calculation</th>\n",
       "      <th><i>E</i><sub>coh</sub> (eV)</th>\n",
       "      <th><i>a</i><sub>0</sub> (&Aring;)</th>\n",
       "      <th><i>b</i><sub>0</sub> (&Aring;)</th>\n",
       "      <th><i>c</i><sub>0</sub> (&Aring;)</th>\n",
       "    </tr>\n",
       "  </thead>\n",
       "  <tbody>\n",
       "    <tr>\n",
       "      <td>L1_2--AuCu3</td>\n",
       "      <td>calc_LAMMPS_ELASTIC</td>\n",
       "      <td>-4.6315</td>\n",
       "      <td>3.5332</td>\n",
       "      <td>3.5332</td>\n",
       "      <td>3.5332</td>\n",
       "    </tr>\n",
       "    <tr>\n",
       "      <td>L1_2--AuCu3</td>\n",
       "      <td>calc_refine_structure</td>\n",
       "      <td>-4.6315</td>\n",
       "      <td>3.5332</td>\n",
       "      <td>3.5332</td>\n",
       "      <td>3.5332</td>\n",
       "    </tr>\n",
       "    <tr>\n",
       "      <td>D0_3--BiF3</td>\n",
       "      <td>calc_refine_structure</td>\n",
       "      <td>-4.5988</td>\n",
       "      <td>5.5425</td>\n",
       "      <td>5.5425</td>\n",
       "      <td>5.5425</td>\n",
       "    </tr>\n",
       "    <tr>\n",
       "      <td>D0_3--BiF3</td>\n",
       "      <td>calc_LAMMPS_ELASTIC</td>\n",
       "      <td>-4.5988</td>\n",
       "      <td>5.5425</td>\n",
       "      <td>5.5425</td>\n",
       "      <td>5.5425</td>\n",
       "    </tr>\n",
       "    <tr>\n",
       "      <td>A15--Cr3Si</td>\n",
       "      <td>calc_refine_structure</td>\n",
       "      <td>-4.5532</td>\n",
       "      <td>4.4363</td>\n",
       "      <td>4.4363</td>\n",
       "      <td>4.4363</td>\n",
       "    </tr>\n",
       "    <tr>\n",
       "      <td>A15--Cr3Si</td>\n",
       "      <td>calc_LAMMPS_ELASTIC</td>\n",
       "      <td>-4.5532</td>\n",
       "      <td>4.4363</td>\n",
       "      <td>4.4363</td>\n",
       "      <td>4.4363</td>\n",
       "    </tr>\n",
       "  </tbody>\n",
       "</table>"
      ],
      "text/plain": [
       "<IPython.core.display.HTML object>"
      ]
     },
     "metadata": {},
     "output_type": "display_data"
    }
   ],
   "source": [
    "display(HTML(table_style+gen_struct_table(df, '2009--Purja-Pun-G-P--Ni-Al', 'AlNi3')))"
   ]
  },
  {
   "cell_type": "code",
   "execution_count": 28,
   "metadata": {
    "collapsed": false,
    "deletable": true,
    "editable": true
   },
   "outputs": [
    {
     "ename": "NameError",
     "evalue": "name 'killit' is not defined",
     "output_type": "error",
     "traceback": [
      "\u001b[1;31m---------------------------------------------------------------------------\u001b[0m",
      "\u001b[1;31mNameError\u001b[0m                                 Traceback (most recent call last)",
      "\u001b[1;32m<ipython-input-28-f49e11ee9c73>\u001b[0m in \u001b[0;36m<module>\u001b[1;34m()\u001b[0m\n\u001b[1;32m----> 1\u001b[1;33m \u001b[0mkillit\u001b[0m\u001b[1;33m\u001b[0m\u001b[0m\n\u001b[0m",
      "\u001b[1;31mNameError\u001b[0m: name 'killit' is not defined"
     ]
    }
   ],
   "source": [
    "killit"
   ]
  },
  {
   "cell_type": "code",
   "execution_count": null,
   "metadata": {
    "collapsed": false,
    "deletable": true,
    "editable": true
   },
   "outputs": [],
   "source": [
    "t = test.iloc[0]"
   ]
  },
  {
   "cell_type": "code",
   "execution_count": null,
   "metadata": {
    "collapsed": false,
    "deletable": true,
    "editable": true
   },
   "outputs": [],
   "source": [
    "2**0.5/2"
   ]
  },
  {
   "cell_type": "code",
   "execution_count": null,
   "metadata": {
    "collapsed": false,
    "deletable": true,
    "editable": true
   },
   "outputs": [],
   "source": [
    "t.clat/t.alat"
   ]
  },
  {
   "cell_type": "markdown",
   "metadata": {
    "deletable": true,
    "editable": true
   },
   "source": [
    "### 3.1 Parameters"
   ]
  },
  {
   "cell_type": "code",
   "execution_count": null,
   "metadata": {
    "collapsed": true,
    "deletable": true,
    "editable": true
   },
   "outputs": [],
   "source": [
    "per_potential_directory = 'C:\\\\Users\\\\lmh1\\\\Documents\\\\website\\\\per_potential'"
   ]
  },
  {
   "cell_type": "markdown",
   "metadata": {
    "deletable": true,
    "editable": true
   },
   "source": [
    "### 3.2 Data conversion parameters"
   ]
  },
  {
   "cell_type": "markdown",
   "metadata": {
    "deletable": true,
    "editable": true
   },
   "source": [
    "__headers__ gives the list of data columns from data to include in and how they should be renamed in html_data."
   ]
  },
  {
   "cell_type": "code",
   "execution_count": null,
   "metadata": {
    "collapsed": true,
    "deletable": true,
    "editable": true
   },
   "outputs": [],
   "source": [
    "headers = OrderedDict([\n",
    "        ('prototype',   'prototype'),\n",
    "        ('Ecoh (eV)',   '<i>E</i><sub>coh</sub> (eV)'),\n",
    "        ('a (A)',       '<i>a</i><sub>0</sub> (&Aring;)'),\n",
    "        ('b (A)',       '<i>b</i><sub>0</sub> (&Aring;)'),\n",
    "        ('c (A)',       '<i>c</i><sub>0</sub> (&Aring;)'),\n",
    "        ('C11 (GPa)',   '<i>C</i><sub>11</sub> (GPa)'),\n",
    "        ('C22 (GPa)',   '<i>C</i><sub>22</sub> (GPa)'),\n",
    "        ('C33 (GPa)',   '<i>C</i><sub>33</sub> (GPa)'),\n",
    "        ('C12 (GPa)',   '<i>C</i><sub>12</sub> (GPa)'),\n",
    "        ('C13 (GPa)',   '<i>C</i><sub>13</sub> (GPa)'),\n",
    "        ('C23 (GPa)',   '<i>C</i><sub>23</sub> (GPa)'),\n",
    "        ('C44 (GPa)',   '<i>C</i><sub>44</sub> (GPa)'),\n",
    "        ('C55 (GPa)',   '<i>C</i><sub>55</sub> (GPa)'),\n",
    "        ('C66 (GPa)',   '<i>C</i><sub>66</sub> (GPa)') ])"
   ]
  },
  {
   "cell_type": "markdown",
   "metadata": {
    "deletable": true,
    "editable": true
   },
   "source": [
    "__formating__ gives the c-style print format to use for the indivdual floating point terms"
   ]
  },
  {
   "cell_type": "code",
   "execution_count": null,
   "metadata": {
    "collapsed": true,
    "deletable": true,
    "editable": true
   },
   "outputs": [],
   "source": [
    "l_const_format = '{:.4f}'\n",
    "eng_coh_format = '{:.4f}'\n",
    "e_const_format = '{:.2f}'\n",
    "\n",
    "def formatter(style, value):\n",
    "    if pd.notnull(value):\n",
    "        return style.format(value)\n",
    "    else:\n",
    "        return ''\n",
    "\n",
    "formatters = {'<i>E</i><sub>coh</sub> (eV)':    lambda x: formatter(eng_coh_format, x),\n",
    "              '<i>a</i><sub>0</sub> (&Aring;)': lambda x: formatter(l_const_format, x),\n",
    "              '<i>b</i><sub>0</sub> (&Aring;)': lambda x: formatter(l_const_format, x),\n",
    "              '<i>c</i><sub>0</sub> (&Aring;)': lambda x: formatter(l_const_format, x),\n",
    "              '<i>C</i><sub>11</sub> (GPa)':    lambda x: formatter(e_const_format, x),\n",
    "              '<i>C</i><sub>22</sub> (GPa)':    lambda x: formatter(e_const_format, x),\n",
    "              '<i>C</i><sub>33</sub> (GPa)':    lambda x: formatter(e_const_format, x),\n",
    "              '<i>C</i><sub>12</sub> (GPa)':    lambda x: formatter(e_const_format, x),\n",
    "              '<i>C</i><sub>13</sub> (GPa)':    lambda x: formatter(e_const_format, x),\n",
    "              '<i>C</i><sub>23</sub> (GPa)':    lambda x: formatter(e_const_format, x),\n",
    "              '<i>C</i><sub>44</sub> (GPa)':    lambda x: formatter(e_const_format, x),\n",
    "              '<i>C</i><sub>55</sub> (GPa)':    lambda x: formatter(e_const_format, x),\n",
    "              '<i>C</i><sub>66</sub> (GPa)':    lambda x: formatter(e_const_format, x)}"
   ]
  },
  {
   "cell_type": "markdown",
   "metadata": {
    "deletable": true,
    "editable": true
   },
   "source": [
    "### 3.3 Other HTML content \n",
    "\n",
    "Here is where additional content of the resulting html file is collected."
   ]
  },
  {
   "cell_type": "code",
   "execution_count": null,
   "metadata": {
    "collapsed": true,
    "deletable": true,
    "editable": true
   },
   "outputs": [],
   "source": [
    "html_style = \"\"\"\n",
    "<style>\n",
    "    .datatable {\n",
    "        border: 1px solid black; \n",
    "        border-collapse: collapse; \n",
    "        padding: 5px; \n",
    "        text-align: right;\n",
    "\n",
    "    } \n",
    "    .datatable td {\n",
    "        border: 1px solid black; \n",
    "        border-collapse: collapse; \n",
    "        font: \"Courier New\", monospace; \n",
    "        font-size: 12px; \n",
    "        padding: 5px; \n",
    "        text-align: right;\n",
    "        width: 45px;\n",
    "    }\n",
    "    .datatable td:nth-child(1) {\n",
    "        width: 135px;\n",
    "        text-align: left;\n",
    "    }\n",
    "    .datatable th {\n",
    "        border: 1px solid black; \n",
    "        border-collapse: collapse; \n",
    "        font: \"Courier New\", monospace; \n",
    "        font-size: 12px; \n",
    "        padding: 5px; \n",
    "        text-align: left;\n",
    "    }\n",
    "</style>\n",
    "\"\"\""
   ]
  },
  {
   "cell_type": "code",
   "execution_count": null,
   "metadata": {
    "collapsed": true,
    "deletable": true,
    "editable": true
   },
   "outputs": [],
   "source": [
    "html_info = \"\"\"\n",
    "<h2>Static Crystal Structure Predictions</h2>\n",
    "<p>\n",
    "    The properties listed here are obtained from static calculations for given \n",
    "    crystal structures. The values were obtained using an algorithm that takes \n",
    "    an initial estimate for the lattice constants and evaluates the cohesive \n",
    "    energy and virial pressures for the structure. Elastic constants are calculated \n",
    "    using the changes in the virial pressures due to the application of small strains \n",
    "    (1e-5). The pressure values and elastic compliances are used to obtain a new lattice \n",
    "    parameter guess by linearly extrapolating to zero pressure. This process is repeated \n",
    "    until the lattice constants from one iteration to the next are within a relative \n",
    "    tolerance of 1e-10. The elastic constants shown coincide with the final iteration.\n",
    "</p><p>\n",
    "    Initial estimates for the lattice constants correspond to all the energy minima \n",
    "    identified in the cohesive energy vs interatomic spacing plots. This means that \n",
    "    it is possible that some potentials have multiple refined results for the same \n",
    "    crystal structure. Having multiple energy minimums for a structure does not \n",
    "    necessarily make the potential 'bad' as unwanted configurations may be unstable or \n",
    "    correspond to conditions that may not be relevant to the problem of interest \n",
    "    (eg. very high strains).\n",
    "</p><p>\n",
    "    More information about the calculation used can be found on the \n",
    "    <a href=\"http://www.ctcms.nist.gov/potentials/tools.html\">Tools</a> page.\n",
    "</p><p>\n",
    "    <a href=\"http://www.nist.gov/public_affairs/disclaimer.cfm\">NIST disclaimer</a>\n",
    "</p><p>\n",
    "    <b>Disclaimer:</b> These values are meant to be guidelines for comparing \n",
    "    potentials, not the absolute values for any potential's properties. The \n",
    "    presence of any structures in this list does not guarantee that those \n",
    "    structures are stable as only the box dimensions are changed, not the \n",
    "    relative positions of the atoms in the cell. Also, the lowest energy \n",
    "    structure may not be included in this list. Variations in the values may \n",
    "    occur for fully relaxed configurations, different small strain values, \n",
    "    different simulation software and different implementations of the \n",
    "    interatomic potential. The algorithm used works best when the interatomic \n",
    "    potential's elastic constants vary smoothly with changes in volume.\n",
    "</p><p>\n",
    "    <b>Version Information:</b> As property calculation methods are developed and updated, there \n",
    "    may be changes in the calculated values. Updates to the calculation methods \n",
    "    that affect the values will be documented and archival versions of this page \n",
    "    will be made available as a record. \n",
    "    <ul><li>\n",
    "        2016-09-28. Values for simple compounds added. All identified energy minima \n",
    "        for each structure are listed. The existing elemental data was regenerated. Most values are \n",
    "        consistent with before, but some differences have been noted. Specifically, variations are \n",
    "        seen with some values for potentials where the elastic constants don't vary smoothly near \n",
    "        the equilibrium state. Additionally, the inclusion of some high-energy structures has \n",
    "        changed based on new criteria for identifying when structures have relaxed to another structure.        \n",
    "    </li><li>\n",
    "        2016-04-07. Values for elemental crystal structures added. Only values for the \n",
    "        global energy minimum of each unique structure given.\n",
    "    </li></ul>\n",
    "</p>\n",
    "<hr/>\n",
    "\"\"\""
   ]
  },
  {
   "cell_type": "code",
   "execution_count": null,
   "metadata": {
    "collapsed": true,
    "deletable": true,
    "editable": true
   },
   "outputs": [],
   "source": [
    "html_note = '*<i>Multiple values for the same structure are due to multiple energy minima. More information in calculation description.</i>'"
   ]
  },
  {
   "cell_type": "markdown",
   "metadata": {
    "deletable": true,
    "editable": true
   },
   "source": [
    "### 3.4 Code"
   ]
  },
  {
   "cell_type": "code",
   "execution_count": null,
   "metadata": {
    "collapsed": false,
    "deletable": true,
    "editable": true
   },
   "outputs": [],
   "source": [
    "for potential in np.unique(data.potential):\n",
    "    potential_data = data[data.potential==potential]\n",
    "    \n",
    "    html = html_style + html_info\n",
    "    \n",
    "    #Check that a directory exists for the potential\n",
    "    if not os.path.isdir(os.path.join(per_potential_directory, potential)):\n",
    "        os.makedirs(os.path.join(per_potential_directory, potential))\n",
    "    \n",
    "    for composition in np.unique(potential_data.composition):\n",
    "        composition_data = potential_data[potential_data.composition == composition]\n",
    "        html += '<h3>0K Crystal Structure Properties for ' + composition + '</h3>\\n'\n",
    "        \n",
    "        html_data = pd.DataFrame(potential_data[potential_data.composition==composition], columns=headers.keys())\n",
    "        html_data.rename(columns=headers, inplace=True)\n",
    "        html_data.reset_index(drop=True, inplace=True)\n",
    "        \n",
    "        prototypes, pcounts = np.unique(html_data.prototype, return_counts=True)\n",
    "        note = False\n",
    "        for prototype, pcount in zip(prototypes, pcounts):\n",
    "            if pcount > 1:\n",
    "                print potential, composition, prototype\n",
    "                html_data.prototype.loc[html_data.prototype==prototype] = prototype+'*'\n",
    "                note = True\n",
    "        \n",
    "        html_data.sort_values('<i>E</i><sub>coh</sub> (eV)', inplace=True)\n",
    "        \n",
    "        html += html_data.to_html(index=False, escape=False, formatters=formatters, classes='datatable') +'\\n'\n",
    "        \n",
    "        if note:\n",
    "            html += html_note\n",
    "        html += '<hr/>\\n'\n",
    "        \n",
    "    with open(os.path.join(per_potential_directory, potential, 'struct.info'), 'w') as html_file:\n",
    "        html_file.write(html)"
   ]
  },
  {
   "cell_type": "markdown",
   "metadata": {
    "deletable": true,
    "editable": true
   },
   "source": [
    "## 4. Comparison Plots"
   ]
  },
  {
   "cell_type": "code",
   "execution_count": null,
   "metadata": {
    "collapsed": true,
    "deletable": true,
    "editable": true
   },
   "outputs": [],
   "source": []
  }
 ],
 "metadata": {
  "kernelspec": {
   "display_name": "Python 2",
   "language": "python",
   "name": "python2"
  },
  "language_info": {
   "codemirror_mode": {
    "name": "ipython",
    "version": 2
   },
   "file_extension": ".py",
   "mimetype": "text/x-python",
   "name": "python",
   "nbconvert_exporter": "python",
   "pygments_lexer": "ipython2",
   "version": "2.7.13"
  }
 },
 "nbformat": 4,
 "nbformat_minor": 0
}
