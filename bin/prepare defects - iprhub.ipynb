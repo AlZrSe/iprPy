{
 "cells": [
  {
   "cell_type": "markdown",
   "metadata": {
    "deletable": true,
    "editable": true
   },
   "source": [
    "# Prepare defects for iprhub"
   ]
  },
  {
   "cell_type": "markdown",
   "metadata": {
    "deletable": true,
    "editable": true
   },
   "source": [
    "This Notebook is for preparing all of the material defect calculations for the data on iprhub. It is being done here as I'm calling each defect calculation's prepare function directly and passing in only one calculation-refine-structure record per potential, crystal prototype, composition."
   ]
  },
  {
   "cell_type": "markdown",
   "metadata": {
    "deletable": true,
    "editable": true
   },
   "source": [
    "Load Python packages"
   ]
  },
  {
   "cell_type": "code",
   "execution_count": 1,
   "metadata": {
    "collapsed": true,
    "deletable": true,
    "editable": true
   },
   "outputs": [],
   "source": [
    "#Standard library imports\n",
    "from __future__ import print_function, division\n",
    "import os\n",
    "import sys\n",
    "import glob\n",
    "import uuid\n",
    "import shutil\n",
    "\n",
    "#http://www.numpy.org/\n",
    "import numpy as np\n",
    "\n",
    "#http://pandas.pydata.org/\n",
    "import pandas as pd\n",
    "\n",
    "from DataModelDict import DataModelDict as DM\n",
    "\n",
    "#https://github.com/usnistgov/atomman\n",
    "import atomman as am\n",
    "import atomman.lammps as lmp\n",
    "import atomman.unitconvert as uc\n",
    "\n",
    "#https://github.com/usnistgov/iprPy\n",
    "import iprPy"
   ]
  },
  {
   "cell_type": "markdown",
   "metadata": {
    "deletable": true,
    "editable": true
   },
   "source": [
    "## Get records from database"
   ]
  },
  {
   "cell_type": "markdown",
   "metadata": {
    "deletable": true,
    "editable": true
   },
   "source": [
    "Load local copy of iprhub calculations"
   ]
  },
  {
   "cell_type": "code",
   "execution_count": 2,
   "metadata": {
    "collapsed": true,
    "deletable": true,
    "editable": true
   },
   "outputs": [],
   "source": [
    "dbase = iprPy.Database('local', 'C:\\\\Users\\\\lmh1\\\\Documents\\\\calculations\\\\ipr\\\\library')"
   ]
  },
  {
   "cell_type": "markdown",
   "metadata": {
    "deletable": true,
    "editable": true
   },
   "source": [
    "Build dataframe of all calculation-system-relax records"
   ]
  },
  {
   "cell_type": "code",
   "execution_count": 3,
   "metadata": {
    "collapsed": false,
    "deletable": true,
    "editable": true
   },
   "outputs": [
    {
     "name": "stdout",
     "output_type": "stream",
     "text": [
      "76830 records loaded\n"
     ]
    }
   ],
   "source": [
    "record_df = []\n",
    "for record in dbase.iget_records(style='calculation-system-relax'):\n",
    "    record_df.append(record.todict(full=False))\n",
    "record_df = pd.DataFrame(record_df)\n",
    "print(len(record_df), 'records loaded')"
   ]
  },
  {
   "cell_type": "markdown",
   "metadata": {
    "deletable": true,
    "editable": true
   },
   "source": [
    "## Select which records to use"
   ]
  },
  {
   "cell_type": "markdown",
   "metadata": {
    "deletable": true,
    "editable": true
   },
   "source": [
    "Define data selection limiting conditions"
   ]
  },
  {
   "cell_type": "code",
   "execution_count": 4,
   "metadata": {
    "collapsed": false,
    "deletable": true,
    "editable": true
   },
   "outputs": [],
   "source": [
    "# Limit to calc_refine_structure \n",
    "condition1 = record_df.calc_script == 'calc_refine_structure'\n",
    "\n",
    "# Limit to only one strainrange\n",
    "condition2 = np.isclose(record_df.strainrange, 1e-7, rtol=0, atol=1e-9)\n",
    "\n",
    "# Limit to only the prototypes that have defect models (currently)\n",
    "condition3 = record_df.prototype.isin(['A1--Cu--fcc', 'A2--W--bcc'])\n",
    "\n",
    "# Limit to only calculations that successfully finished\n",
    "condition4 = record_df.status == 'finished'\n",
    "\n",
    "# Limit to only zero pressure runs\n",
    "condition5 = np.isclose(record_df.pressure_xx, 0.0, rtol=0, atol=1e-9)\n",
    "condition6 = np.isclose(record_df.pressure_yy, 0.0, rtol=0, atol=1e-9)\n",
    "condition7 = np.isclose(record_df.pressure_zz, 0.0, rtol=0, atol=1e-9)\n",
    "\n",
    "# Limit to only runs with 3x3x3 supercells\n",
    "condition8 = np.empty(len(record_df), dtype=bool)\n",
    "for i in xrange(len(record_df)):\n",
    "    condition8[i] = np.allclose(record_df.iloc[i].sizemults, np.array([[0,3],[0,3],[0,3]]))"
   ]
  },
  {
   "cell_type": "markdown",
   "metadata": {
    "deletable": true,
    "editable": true
   },
   "source": [
    "Apply limiters "
   ]
  },
  {
   "cell_type": "code",
   "execution_count": 5,
   "metadata": {
    "collapsed": false,
    "deletable": true,
    "editable": true
   },
   "outputs": [
    {
     "name": "stdout",
     "output_type": "stream",
     "text": [
      "426 calculations after limiting conditions\n"
     ]
    }
   ],
   "source": [
    "starting_record_df = record_df[(condition1 & condition2 & condition3 & condition4 & \n",
    "                                condition5 & condition6 & condition7 & condition8)]\n",
    "print(len(starting_record_df), 'calculations after limiting conditions')"
   ]
  },
  {
   "cell_type": "markdown",
   "metadata": {
    "deletable": true,
    "editable": true
   },
   "source": [
    "Make list of selected records"
   ]
  },
  {
   "cell_type": "code",
   "execution_count": 6,
   "metadata": {
    "collapsed": false,
    "deletable": true,
    "editable": true
   },
   "outputs": [],
   "source": [
    "records = []\n",
    "for record_key in starting_record_df.calc_key.tolist():\n",
    "    records.append(dbase.get_record(name=record_key))"
   ]
  },
  {
   "cell_type": "markdown",
   "metadata": {
    "deletable": true,
    "editable": true
   },
   "source": [
    "## Prepare defect calculations"
   ]
  },
  {
   "cell_type": "markdown",
   "metadata": {
    "deletable": true,
    "editable": true
   },
   "source": [
    "### Prepare surface_energy"
   ]
  },
  {
   "cell_type": "markdown",
   "metadata": {
    "deletable": true,
    "editable": true
   },
   "source": [
    "Define prepare function variables"
   ]
  },
  {
   "cell_type": "code",
   "execution_count": 25,
   "metadata": {
    "collapsed": true,
    "deletable": true,
    "editable": true
   },
   "outputs": [],
   "source": [
    "#Specify calculation style\n",
    "calculation_style = 'surface_energy'\n",
    "\n",
    "#Specify run directory for the prepared calculations\n",
    "run_directory = 'C:\\\\Users\\\\lmh1\\\\Documents\\\\calculations\\\\ipr\\\\torun\\\\iprhub-local\\\\1'\n",
    "\n",
    "#Define any additional prepare parameters\n",
    "input_params = {}\n",
    "input_params['lammps_command'] = 'lmp_serial'\n",
    "input_params['sizemults'] =      '5 5 5'"
   ]
  },
  {
   "cell_type": "markdown",
   "metadata": {
    "deletable": true,
    "editable": true
   },
   "source": [
    "Call prepare function"
   ]
  },
  {
   "cell_type": "code",
   "execution_count": 27,
   "metadata": {
    "collapsed": true,
    "deletable": true,
    "editable": true
   },
   "outputs": [],
   "source": [
    "calc = iprPy.Calculation(calculation_style)\n",
    "calc.prepare(dbase, run_directory, parent_records=records, **input_params)"
   ]
  },
  {
   "cell_type": "markdown",
   "metadata": {
    "deletable": true,
    "editable": true
   },
   "source": [
    "### Prepare stacking_fault"
   ]
  },
  {
   "cell_type": "markdown",
   "metadata": {
    "deletable": true,
    "editable": true
   },
   "source": [
    "Define prepare function variables"
   ]
  },
  {
   "cell_type": "code",
   "execution_count": 7,
   "metadata": {
    "collapsed": true,
    "deletable": true,
    "editable": true
   },
   "outputs": [],
   "source": [
    "#Specify calculation style\n",
    "calculation_style = 'stacking_fault_multi'\n",
    "\n",
    "#Specify run directory for the prepared calculations\n",
    "run_directory = 'C:\\\\Users\\\\lmh1\\\\Documents\\\\calculations\\\\ipr\\\\torun\\\\iprhub-local\\\\4'\n",
    "\n",
    "#Define any additional prepare parameters\n",
    "input_params = {}\n",
    "input_params['lammps_command'] =           'lmp_serial'\n",
    "input_params['sizemults'] =                '3 3 9'\n",
    "input_params['stackingfault_numshifts1'] = '51'\n",
    "input_params['stackingfault_numshifts2'] = '51'\n",
    "input_params['keepatomfiles'] =            'False'\n"
   ]
  },
  {
   "cell_type": "markdown",
   "metadata": {
    "deletable": true,
    "editable": true
   },
   "source": [
    "Call prepare function"
   ]
  },
  {
   "cell_type": "code",
   "execution_count": 27,
   "metadata": {
    "collapsed": true,
    "deletable": true,
    "editable": true
   },
   "outputs": [],
   "source": [
    "calc = iprPy.Calculation(calculation_style)\n",
    "calc.prepare(dbase, run_directory, parent_records=records, **input_params)"
   ]
  },
  {
   "cell_type": "code",
   "execution_count": null,
   "metadata": {
    "collapsed": true,
    "deletable": true,
    "editable": true
   },
   "outputs": [],
   "source": []
  }
 ],
 "metadata": {
  "kernelspec": {
   "display_name": "Python 2",
   "language": "python",
   "name": "python2"
  },
  "language_info": {
   "codemirror_mode": {
    "name": "ipython",
    "version": 2
   },
   "file_extension": ".py",
   "mimetype": "text/x-python",
   "name": "python",
   "nbconvert_exporter": "python",
   "pygments_lexer": "ipython2",
   "version": "2.7.13"
  }
 },
 "nbformat": 4,
 "nbformat_minor": 2
}
