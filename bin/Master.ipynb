{
 "cells": [
  {
   "cell_type": "markdown",
   "metadata": {},
   "source": [
    "# Master"
   ]
  },
  {
   "cell_type": "markdown",
   "metadata": {},
   "source": [
    "This is meant as a master workflow manager for the prepare and runner calculations."
   ]
  },
  {
   "cell_type": "markdown",
   "metadata": {},
   "source": [
    "## Initial Setup"
   ]
  },
  {
   "cell_type": "markdown",
   "metadata": {},
   "source": [
    "#### Load Python packages"
   ]
  },
  {
   "cell_type": "code",
   "execution_count": 1,
   "metadata": {
    "collapsed": true
   },
   "outputs": [],
   "source": [
    "#Standard library imports\n",
    "from __future__ import print_function, division\n",
    "import os\n",
    "import sys\n",
    "import glob\n",
    "import uuid\n",
    "import shutil\n",
    "\n",
    "#http://www.numpy.org/\n",
    "import numpy as np\n",
    "\n",
    "#http://pandas.pydata.org/\n",
    "import pandas as pd\n",
    "\n",
    "from DataModelDict import DataModelDict as DM\n",
    "\n",
    "#https://github.com/usnistgov/atomman\n",
    "import atomman as am\n",
    "import atomman.lammps as lmp\n",
    "import atomman.unitconvert as uc\n",
    "\n",
    "#https://github.com/usnistgov/iprPy\n",
    "import iprPy"
   ]
  },
  {
   "cell_type": "markdown",
   "metadata": {},
   "source": [
    "#### Verify modules loaded"
   ]
  },
  {
   "cell_type": "code",
   "execution_count": 13,
   "metadata": {
    "collapsed": false
   },
   "outputs": [
    {
     "name": "stdout",
     "output_type": "stream",
     "text": [
      "calculations that passed import:\n",
      " dynamic_relax\n",
      " surface_energy\n",
      " E_vs_r_scan\n",
      " dislocation_monopole\n",
      " stacking_fault\n",
      " refine_structure\n",
      " stacking_fault_multi\n",
      " point_defect_formation\n",
      " LAMMPS_ELASTIC\n",
      "calculations that failed import:\n",
      " bain_transformation\n",
      " bcc_grain_boundary\n",
      " crss\n",
      " dislocation_vacancy\n",
      " dynamic_elastic\n",
      "\n",
      "records that passed import:\n",
      " calculation-cohesive-energy-relation\n",
      " stacking-fault\n",
      " calculation-generalized-stacking-fault\n",
      " calculation-dynamic-relax\n",
      " free-surface\n",
      " calculation-system-relax\n",
      " dislocation-monopole\n",
      " calculation-grain-boundary-search\n",
      " crystal-prototype\n",
      " calculation-surface-energy\n",
      " LAMMPS-potential\n",
      " calculation-dislocation-monopole\n",
      "records that failed import:\n",
      "\n",
      "databases that passed import:\n",
      " local\n",
      " curator\n",
      "databases that failed import:\n",
      "\n"
     ]
    }
   ],
   "source": [
    "iprPy.check_modules()"
   ]
  },
  {
   "cell_type": "markdown",
   "metadata": {},
   "source": [
    "## Define database and run directories"
   ]
  },
  {
   "cell_type": "code",
   "execution_count": 3,
   "metadata": {
    "collapsed": false
   },
   "outputs": [],
   "source": [
    "#Choose database to access\n",
    "database = 'test'\n",
    "\n",
    "#Define database and run_directory parameters based on the chosen database\n",
    "if database == 'test':\n",
    "    dbase = iprPy.Database('local', 'C:\\\\Users\\\\lmh1\\\\Documents\\\\calculations\\\\ipr\\\\library_test')\n",
    "    run_directory1 = 'C:\\\\Users\\\\lmh1\\\\Documents\\\\calculations\\\\ipr\\\\torun\\\\test\\\\1'\n",
    "    run_directory2 = 'C:\\\\Users\\\\lmh1\\\\Documents\\\\calculations\\\\ipr\\\\torun\\\\test\\\\2'\n",
    "    run_directory3 = 'C:\\\\Users\\\\lmh1\\\\Documents\\\\calculations\\\\ipr\\\\torun\\\\test\\\\3'\n",
    "    run_directory4 = 'C:\\\\Users\\\\lmh1\\\\Documents\\\\calculations\\\\ipr\\\\torun\\\\test\\\\4'\n",
    "    \n",
    "elif database == 'iprhub-local':\n",
    "    dbase = iprPy.Database('local', 'C:\\\\Users\\\\lmh1\\\\Documents\\\\calculations\\\\ipr\\\\library')\n",
    "    run_directory1 = 'C:\\\\Users\\\\lmh1\\\\Documents\\\\calculations\\\\ipr\\\\torun\\\\iprhub-local\\\\1'\n",
    "    run_directory2 = 'C:\\\\Users\\\\lmh1\\\\Documents\\\\calculations\\\\ipr\\\\torun\\\\iprhub-local\\\\2'\n",
    "    run_directory3 = 'C:\\\\Users\\\\lmh1\\\\Documents\\\\calculations\\\\ipr\\\\torun\\\\iprhub-local\\\\3'\n",
    "    run_directory4 = 'C:\\\\Users\\\\lmh1\\\\Documents\\\\calculations\\\\ipr\\\\torun\\\\iprhub-local\\\\4'\n",
    "    \n",
    "elif database == 'iprhub':\n",
    "    dbase = iprPy.Database('curator', 'https://iprhub.nist.gov/', user='lmh1', \n",
    "                            pswd='C:/users/lmh1/documents/iprhub/iprhub_password.txt',\n",
    "                            cert='C:/users/lmh1/documents/iprhub/iprhub-ca.pem')\n",
    "    run_directory1 = 'C:\\\\Users\\\\lmh1\\\\Documents\\\\calculations\\\\ipr\\\\torun\\\\iprhub\\\\1'\n",
    "    run_directory2 = 'C:\\\\Users\\\\lmh1\\\\Documents\\\\calculations\\\\ipr\\\\torun\\\\iprhub\\\\2'\n",
    "    run_directory3 = 'C:\\\\Users\\\\lmh1\\\\Documents\\\\calculations\\\\ipr\\\\torun\\\\iprhub\\\\3'\n",
    "    run_directory4 = 'C:\\\\Users\\\\lmh1\\\\Documents\\\\calculations\\\\ipr\\\\torun\\\\iprhub\\\\4'"
   ]
  },
  {
   "cell_type": "markdown",
   "metadata": {},
   "source": [
    "## Initial scan"
   ]
  },
  {
   "cell_type": "code",
   "execution_count": 4,
   "metadata": {
    "collapsed": true
   },
   "outputs": [],
   "source": [
    "calculation_style = 'E_vs_r_scan'\n",
    "record_style =      'calculation-cohesive-energy-relation'"
   ]
  },
  {
   "cell_type": "code",
   "execution_count": 5,
   "metadata": {
    "collapsed": false
   },
   "outputs": [
    {
     "name": "stdout",
     "output_type": "stream",
     "text": [
      "In database:\n",
      "iprPy.Database (local) at C:\\Users\\lmh1\\Documents\\calculations\\ipr\\library_test\n",
      "- 19 of style calculation-cohesive-energy-relation\n",
      " - 19 are complete\n",
      " - 0 still to run\n",
      " - 0 issued errors\n"
     ]
    }
   ],
   "source": [
    "iprPy.highthroughput.check(dbase=dbase, record_style=record_style)"
   ]
  },
  {
   "cell_type": "markdown",
   "metadata": {},
   "source": [
    "#### Prepare"
   ]
  },
  {
   "cell_type": "markdown",
   "metadata": {},
   "source": [
    "Define prepare function variables"
   ]
  },
  {
   "cell_type": "code",
   "execution_count": 6,
   "metadata": {
    "collapsed": true
   },
   "outputs": [],
   "source": [
    "#Specify run directory for the prepared calculations\n",
    "run_directory = run_directory1\n",
    "\n",
    "#Define any additional prepare parameters\n",
    "input_params = {}\n",
    "input_params['lammps_command'] = 'lmp_serial'\n",
    "input_params['potential_name'] = '1999--Mishin-Y--Al'"
   ]
  },
  {
   "cell_type": "markdown",
   "metadata": {},
   "source": [
    "Call prepare"
   ]
  },
  {
   "cell_type": "code",
   "execution_count": 8,
   "metadata": {
    "collapsed": false
   },
   "outputs": [],
   "source": [
    "calc = iprPy.Calculation(calculation_style)\n",
    "calc.prepare(dbase, run_directory, **input_params)"
   ]
  },
  {
   "cell_type": "code",
   "execution_count": 9,
   "metadata": {
    "collapsed": false,
    "deletable": true,
    "editable": true
   },
   "outputs": [
    {
     "name": "stdout",
     "output_type": "stream",
     "text": [
      "In database:\n",
      "iprPy.Database (local) at C:\\Users\\lmh1\\Documents\\calculations\\ipr\\library_test\n",
      "- 38 of style calculation-cohesive-energy-relation\n",
      " - 19 are complete\n",
      " - 19 still to run\n",
      " - 0 issued errors\n"
     ]
    }
   ],
   "source": [
    "iprPy.highthroughput.check(dbase=dbase, record_style=record_style)"
   ]
  },
  {
   "cell_type": "markdown",
   "metadata": {},
   "source": [
    "#### Run"
   ]
  },
  {
   "cell_type": "code",
   "execution_count": 11,
   "metadata": {
    "collapsed": true
   },
   "outputs": [],
   "source": [
    "iprPy.highthroughput.runner(dbase, run_directory)"
   ]
  },
  {
   "cell_type": "code",
   "execution_count": 12,
   "metadata": {
    "collapsed": false,
    "deletable": true,
    "editable": true
   },
   "outputs": [
    {
     "name": "stdout",
     "output_type": "stream",
     "text": [
      "In database:\n",
      "iprPy.Database (local) at C:\\Users\\lmh1\\Documents\\calculations\\ipr\\library_test\n",
      "- 38 of style calculation-cohesive-energy-relation\n",
      " - 38 are complete\n",
      " - 0 still to run\n",
      " - 0 issued errors\n"
     ]
    }
   ],
   "source": [
    "iprPy.highthroughput.check(dbase=dbase, record_style=record_style)"
   ]
  },
  {
   "cell_type": "markdown",
   "metadata": {},
   "source": [
    "## Refine Crystal Structure"
   ]
  },
  {
   "cell_type": "code",
   "execution_count": 14,
   "metadata": {
    "collapsed": true,
    "deletable": true,
    "editable": true
   },
   "outputs": [],
   "source": [
    "calculation_style = 'refine_structure'\n",
    "record_style =      'calculation-system-relax'"
   ]
  },
  {
   "cell_type": "code",
   "execution_count": 15,
   "metadata": {
    "collapsed": false,
    "deletable": true,
    "editable": true
   },
   "outputs": [
    {
     "name": "stdout",
     "output_type": "stream",
     "text": [
      "In database:\n",
      "iprPy.Database (local) at C:\\Users\\lmh1\\Documents\\calculations\\ipr\\library_test\n",
      "- 76 of style calculation-system-relax\n",
      " - 74 are complete\n",
      " - 0 still to run\n",
      " - 2 issued errors\n"
     ]
    }
   ],
   "source": [
    "iprPy.highthroughput.check(dbase=dbase, record_style=record_style)"
   ]
  },
  {
   "cell_type": "markdown",
   "metadata": {},
   "source": [
    "#### Prepare"
   ]
  },
  {
   "cell_type": "markdown",
   "metadata": {
    "deletable": true,
    "editable": true
   },
   "source": [
    "Define prepare function variables"
   ]
  },
  {
   "cell_type": "code",
   "execution_count": 19,
   "metadata": {
    "collapsed": true,
    "deletable": true,
    "editable": true
   },
   "outputs": [],
   "source": [
    "#Specify run directory for the prepared calculations\n",
    "run_directory = run_directory1\n",
    "\n",
    "#Define any additional prepare parameters\n",
    "input_params = {}\n",
    "input_params['lammps_command'] = 'lmp_serial'\n",
    "input_params['strainrange'] = '1e-8'"
   ]
  },
  {
   "cell_type": "markdown",
   "metadata": {
    "deletable": true,
    "editable": true
   },
   "source": [
    "Call prepare"
   ]
  },
  {
   "cell_type": "code",
   "execution_count": 20,
   "metadata": {
    "collapsed": false,
    "deletable": true,
    "editable": true
   },
   "outputs": [],
   "source": [
    "calc = iprPy.Calculation(calculation_style)\n",
    "calc.prepare(dbase, run_directory, **input_params)"
   ]
  },
  {
   "cell_type": "code",
   "execution_count": 21,
   "metadata": {
    "collapsed": false,
    "deletable": true,
    "editable": true
   },
   "outputs": [
    {
     "name": "stdout",
     "output_type": "stream",
     "text": [
      "In database:\n",
      "iprPy.Database (local) at C:\\Users\\lmh1\\Documents\\calculations\\ipr\\library_test\n",
      "- 95 of style calculation-system-relax\n",
      " - 74 are complete\n",
      " - 19 still to run\n",
      " - 2 issued errors\n"
     ]
    }
   ],
   "source": [
    "iprPy.highthroughput.check(dbase=dbase, record_style=record_style)"
   ]
  },
  {
   "cell_type": "markdown",
   "metadata": {},
   "source": [
    "## Select records"
   ]
  },
  {
   "cell_type": "code",
   "execution_count": 22,
   "metadata": {
    "collapsed": false
   },
   "outputs": [
    {
     "name": "stdout",
     "output_type": "stream",
     "text": [
      "95 records loaded\n"
     ]
    }
   ],
   "source": [
    "record_df = []\n",
    "for record in dbase.iget_records(style='calculation-system-relax'):\n",
    "    record_df.append(record.todict(full=False))\n",
    "record_df = pd.DataFrame(record_df)\n",
    "print(len(record_df), 'records loaded')"
   ]
  },
  {
   "cell_type": "markdown",
   "metadata": {},
   "source": [
    "Define data selection limiting conditions"
   ]
  },
  {
   "cell_type": "code",
   "execution_count": 23,
   "metadata": {
    "collapsed": true
   },
   "outputs": [],
   "source": [
    "# Limit to calc_refine_structure \n",
    "condition1 = record_df.calc_script == 'calc_refine_structure'\n",
    "\n",
    "# Limit to only one strainrange\n",
    "condition2 = np.isclose(record_df.strainrange, 1e-8, rtol=0, atol=1e-9)\n",
    "\n",
    "# Limit to only the prototypes that have defect models (currently)\n",
    "condition3 = record_df.prototype.isin(['A1--Cu--fcc', 'A2--W--bcc'])\n",
    "\n",
    "# Limit to only calculations that successfully finished\n",
    "condition4 = record_df.status == 'finished'\n",
    "\n",
    "# Limit to only zero pressure runs\n",
    "condition5 = np.isclose(record_df.pressure_xx, 0.0, rtol=0, atol=1e-9)\n",
    "condition6 = np.isclose(record_df.pressure_yy, 0.0, rtol=0, atol=1e-9)\n",
    "condition7 = np.isclose(record_df.pressure_zz, 0.0, rtol=0, atol=1e-9)\n",
    "\n",
    "# Limit to only runs with 3x3x3 supercells\n",
    "condition8 = np.empty(len(record_df), dtype=bool)\n",
    "for i in xrange(len(record_df)):\n",
    "    condition8[i] = np.allclose(record_df.iloc[i].sizemults, np.array([[0,3],[0,3],[0,3]]))"
   ]
  },
  {
   "cell_type": "markdown",
   "metadata": {},
   "source": [
    "Apply limiters "
   ]
  },
  {
   "cell_type": "code",
   "execution_count": 24,
   "metadata": {
    "collapsed": false
   },
   "outputs": [
    {
     "name": "stdout",
     "output_type": "stream",
     "text": [
      "4 calculations after limiting conditions\n"
     ]
    }
   ],
   "source": [
    "starting_record_df = record_df[(condition1 & \n",
    "                                condition2 & \n",
    "                                condition3 &\n",
    "                                #condition4 & \n",
    "                                condition5 & \n",
    "                                condition6 & \n",
    "                                condition7 & \n",
    "                                condition8\n",
    "                               )]\n",
    "print(len(starting_record_df), 'calculations after limiting conditions')"
   ]
  },
  {
   "cell_type": "markdown",
   "metadata": {},
   "source": [
    "Make list of selected records"
   ]
  },
  {
   "cell_type": "code",
   "execution_count": 25,
   "metadata": {
    "collapsed": true
   },
   "outputs": [],
   "source": [
    "records = []\n",
    "for record_key in starting_record_df.calc_key.tolist():\n",
    "    records.append(dbase.get_record(name=record_key))"
   ]
  },
  {
   "cell_type": "markdown",
   "metadata": {},
   "source": [
    "## Surface Energy"
   ]
  },
  {
   "cell_type": "code",
   "execution_count": 28,
   "metadata": {
    "collapsed": true,
    "deletable": true,
    "editable": true
   },
   "outputs": [],
   "source": [
    "calculation_style = 'surface_energy'\n",
    "record_style =      'calculation-surface-energy'"
   ]
  },
  {
   "cell_type": "code",
   "execution_count": 29,
   "metadata": {
    "collapsed": false,
    "deletable": true,
    "editable": true
   },
   "outputs": [
    {
     "name": "stdout",
     "output_type": "stream",
     "text": [
      "In database:\n",
      "iprPy.Database (local) at C:\\Users\\lmh1\\Documents\\calculations\\ipr\\library_test\n",
      "- 24 of style calculation-surface-energy\n",
      " - 24 are complete\n",
      " - 0 still to run\n",
      " - 0 issued errors\n"
     ]
    }
   ],
   "source": [
    "iprPy.highthroughput.check(dbase=dbase, record_style=record_style)"
   ]
  },
  {
   "cell_type": "markdown",
   "metadata": {
    "deletable": true,
    "editable": true
   },
   "source": [
    "#### Prepare"
   ]
  },
  {
   "cell_type": "markdown",
   "metadata": {
    "deletable": true,
    "editable": true
   },
   "source": [
    "Define prepare function variables"
   ]
  },
  {
   "cell_type": "code",
   "execution_count": 30,
   "metadata": {
    "collapsed": true,
    "deletable": true,
    "editable": true
   },
   "outputs": [],
   "source": [
    "#Specify run directory for the prepared calculations\n",
    "run_directory = run_directory1\n",
    "\n",
    "#Define any additional prepare parameters\n",
    "input_params = {}\n",
    "input_params['lammps_command'] = 'lmp_serial'\n",
    "input_params['sizemults'] =      '5 5 5'"
   ]
  },
  {
   "cell_type": "markdown",
   "metadata": {
    "deletable": true,
    "editable": true
   },
   "source": [
    "Call prepare"
   ]
  },
  {
   "cell_type": "code",
   "execution_count": 31,
   "metadata": {
    "collapsed": false,
    "deletable": true,
    "editable": true
   },
   "outputs": [],
   "source": [
    "calc = iprPy.Calculation(calculation_style)\n",
    "calc.prepare(dbase, run_directory, parent_records=records, **input_params)"
   ]
  },
  {
   "cell_type": "code",
   "execution_count": 32,
   "metadata": {
    "collapsed": false,
    "deletable": true,
    "editable": true
   },
   "outputs": [
    {
     "name": "stdout",
     "output_type": "stream",
     "text": [
      "In database:\n",
      "iprPy.Database (local) at C:\\Users\\lmh1\\Documents\\calculations\\ipr\\library_test\n",
      "- 30 of style calculation-surface-energy\n",
      " - 24 are complete\n",
      " - 6 still to run\n",
      " - 0 issued errors\n"
     ]
    }
   ],
   "source": [
    "iprPy.highthroughput.check(dbase=dbase, record_style=record_style)"
   ]
  },
  {
   "cell_type": "markdown",
   "metadata": {
    "deletable": true,
    "editable": true
   },
   "source": [
    "## Stacking Fault"
   ]
  },
  {
   "cell_type": "code",
   "execution_count": 33,
   "metadata": {
    "collapsed": true,
    "deletable": true,
    "editable": true
   },
   "outputs": [],
   "source": [
    "calculation_style = 'stacking_fault_multi'\n",
    "record_style =      'calculation-generalized-stacking-fault'"
   ]
  },
  {
   "cell_type": "code",
   "execution_count": 34,
   "metadata": {
    "collapsed": false,
    "deletable": true,
    "editable": true
   },
   "outputs": [
    {
     "name": "stdout",
     "output_type": "stream",
     "text": [
      "In database:\n",
      "iprPy.Database (local) at C:\\Users\\lmh1\\Documents\\calculations\\ipr\\library_test\n",
      "- 1 of style calculation-generalized-stacking-fault\n",
      " - 1 are complete\n",
      " - 0 still to run\n",
      " - 0 issued errors\n"
     ]
    }
   ],
   "source": [
    "iprPy.highthroughput.check(dbase=dbase, record_style=record_style)"
   ]
  },
  {
   "cell_type": "markdown",
   "metadata": {
    "deletable": true,
    "editable": true
   },
   "source": [
    "#### Prepare"
   ]
  },
  {
   "cell_type": "markdown",
   "metadata": {
    "deletable": true,
    "editable": true
   },
   "source": [
    "Define prepare function variables"
   ]
  },
  {
   "cell_type": "code",
   "execution_count": 35,
   "metadata": {
    "collapsed": true,
    "deletable": true,
    "editable": true
   },
   "outputs": [],
   "source": [
    "#Specify run directory for the prepared calculations\n",
    "run_directory = run_directory1\n",
    "\n",
    "#Define any additional prepare parameters\n",
    "input_params = {}\n",
    "input_params['lammps_command'] =           'lmp_serial'\n",
    "input_params['sizemults'] =                '3 3 9'\n",
    "input_params['stackingfault_numshifts1'] = '51'\n",
    "input_params['stackingfault_numshifts2'] = '51'\n",
    "input_params['keepatomfiles'] =            'False'"
   ]
  },
  {
   "cell_type": "markdown",
   "metadata": {
    "deletable": true,
    "editable": true
   },
   "source": [
    "Call prepare"
   ]
  },
  {
   "cell_type": "code",
   "execution_count": 36,
   "metadata": {
    "collapsed": false,
    "deletable": true,
    "editable": true
   },
   "outputs": [],
   "source": [
    "calc = iprPy.Calculation(calculation_style)\n",
    "calc.prepare(dbase, run_directory, parent_records=records, **input_params)"
   ]
  },
  {
   "cell_type": "code",
   "execution_count": 37,
   "metadata": {
    "collapsed": false,
    "deletable": true,
    "editable": true
   },
   "outputs": [
    {
     "name": "stdout",
     "output_type": "stream",
     "text": [
      "In database:\n",
      "iprPy.Database (local) at C:\\Users\\lmh1\\Documents\\calculations\\ipr\\library_test\n",
      "- 7 of style calculation-generalized-stacking-fault\n",
      " - 1 are complete\n",
      " - 6 still to run\n",
      " - 0 issued errors\n"
     ]
    }
   ],
   "source": [
    "iprPy.highthroughput.check(dbase=dbase, record_style=record_style)"
   ]
  },
  {
   "cell_type": "markdown",
   "metadata": {
    "deletable": true,
    "editable": true
   },
   "source": [
    "## Dislocation Monopole"
   ]
  },
  {
   "cell_type": "code",
   "execution_count": 38,
   "metadata": {
    "collapsed": true,
    "deletable": true,
    "editable": true
   },
   "outputs": [],
   "source": [
    "calculation_style = 'dislocation_monopole'\n",
    "record_style =      'calculation-dislocation-monopole'"
   ]
  },
  {
   "cell_type": "code",
   "execution_count": 39,
   "metadata": {
    "collapsed": false,
    "deletable": true,
    "editable": true
   },
   "outputs": [
    {
     "name": "stdout",
     "output_type": "stream",
     "text": [
      "In database:\n",
      "iprPy.Database (local) at C:\\Users\\lmh1\\Documents\\calculations\\ipr\\library_test\n",
      "- 1 of style calculation-dislocation-monopole\n",
      " - 0 are complete\n",
      " - 1 still to run\n",
      " - 0 issued errors\n"
     ]
    }
   ],
   "source": [
    "iprPy.highthroughput.check(dbase=dbase, record_style=record_style)"
   ]
  },
  {
   "cell_type": "markdown",
   "metadata": {
    "deletable": true,
    "editable": true
   },
   "source": [
    "#### Prepare"
   ]
  },
  {
   "cell_type": "markdown",
   "metadata": {
    "deletable": true,
    "editable": true
   },
   "source": [
    "Define prepare function variables"
   ]
  },
  {
   "cell_type": "code",
   "execution_count": 40,
   "metadata": {
    "collapsed": true,
    "deletable": true,
    "editable": true
   },
   "outputs": [],
   "source": [
    "#Specify run directory for the prepared calculations\n",
    "run_directory = run_directory1\n",
    "\n",
    "#Define any additional prepare parameters\n",
    "input_params = {}\n",
    "input_params['lammps_command'] =    'lmp_mpi'\n",
    "input_params['mpi_command'] =       'mpiexec -localonly 4'\n",
    "input_params['dislocation_name'] =  'A1--Cu--fcc--111-edge'\n",
    "input_params['sizemults'] =         '-49 49 -40 40 0 2'\n",
    "input_params['annealtemperature'] = '50'"
   ]
  },
  {
   "cell_type": "markdown",
   "metadata": {
    "deletable": true,
    "editable": true
   },
   "source": [
    "Call prepare"
   ]
  },
  {
   "cell_type": "code",
   "execution_count": 41,
   "metadata": {
    "collapsed": false,
    "deletable": true,
    "editable": true
   },
   "outputs": [],
   "source": [
    "calc = iprPy.Calculation(calculation_style)\n",
    "calc.prepare(dbase, run_directory, parent_records=records, **input_params)"
   ]
  },
  {
   "cell_type": "code",
   "execution_count": 42,
   "metadata": {
    "collapsed": false,
    "deletable": true,
    "editable": true
   },
   "outputs": [
    {
     "name": "stdout",
     "output_type": "stream",
     "text": [
      "In database:\n",
      "iprPy.Database (local) at C:\\Users\\lmh1\\Documents\\calculations\\ipr\\library_test\n",
      "- 2 of style calculation-dislocation-monopole\n",
      " - 0 are complete\n",
      " - 2 still to run\n",
      " - 0 issued errors\n"
     ]
    }
   ],
   "source": [
    "iprPy.highthroughput.check(dbase=dbase, record_style=record_style)"
   ]
  },
  {
   "cell_type": "code",
   "execution_count": 43,
   "metadata": {
    "collapsed": true
   },
   "outputs": [],
   "source": [
    "iprPy.highthroughput.runner(dbase, run_directory)"
   ]
  },
  {
   "cell_type": "code",
   "execution_count": null,
   "metadata": {
    "collapsed": true
   },
   "outputs": [],
   "source": []
  }
 ],
 "metadata": {
  "kernelspec": {
   "display_name": "Python 2",
   "language": "python",
   "name": "python2"
  },
  "language_info": {
   "codemirror_mode": {
    "name": "ipython",
    "version": 2
   },
   "file_extension": ".py",
   "mimetype": "text/x-python",
   "name": "python",
   "nbconvert_exporter": "python",
   "pygments_lexer": "ipython2",
   "version": "2.7.13"
  }
 },
 "nbformat": 4,
 "nbformat_minor": 2
}
