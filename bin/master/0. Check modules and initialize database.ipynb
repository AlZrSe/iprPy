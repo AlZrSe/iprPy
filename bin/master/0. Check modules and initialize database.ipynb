{
 "cells": [
  {
   "cell_type": "markdown",
   "metadata": {},
   "source": [
    "# Check modules and initialize database\n",
    "\n",
    "This Notebook sets up iprPy for highthroughput calculations by:\n",
    "\n",
    "1. Showing which iprPy modules are loaded and which issued errors.\n",
    "\n",
    "2. Allow for access to a database to be defined.\n",
    "\n",
    "3. Specify local directories where calculations will be placed/performed.\n",
    "\n",
    "4. Upload reference library records to the database"
   ]
  },
  {
   "cell_type": "markdown",
   "metadata": {},
   "source": [
    "**Library imports**"
   ]
  },
  {
   "cell_type": "code",
   "execution_count": 1,
   "metadata": {},
   "outputs": [
    {
     "name": "stdout",
     "output_type": "stream",
     "text": [
      "iprPy version 0.8.0\n"
     ]
    }
   ],
   "source": [
    "# Standard Python libraries\n",
    "from __future__ import (print_function, division, absolute_import,\n",
    "                        unicode_literals)\n",
    "\n",
    "# https://github.com/usnistgov/iprPy\n",
    "import iprPy\n",
    "print('iprPy version', iprPy.__version__)"
   ]
  },
  {
   "cell_type": "markdown",
   "metadata": {},
   "source": [
    "## 1. Show loaded modules of iprPy\n",
    "\n",
    "The check_modules() function will list all the included modular components of iprPy and if they successfully loaded (didn't issue an error during loading). If an error was issued for a given module, it will be listed."
   ]
  },
  {
   "cell_type": "code",
   "execution_count": 2,
   "metadata": {},
   "outputs": [
    {
     "name": "stdout",
     "output_type": "stream",
     "text": [
      "input.interpret styles that passed import:\n",
      "- atomman_elasticconstants\n",
      "- atomman_gammasurface\n",
      "- atomman_peierlsnabarro\n",
      "- atomman_systemload\n",
      "- atomman_systemmanipulate\n",
      "- dislocationmonopole\n",
      "- freesurface\n",
      "- lammps_commands\n",
      "- lammps_minimize\n",
      "- lammps_potential\n",
      "- pointdefect\n",
      "- stackingfaultpart1\n",
      "- stackingfaultpart2\n",
      "- units\n",
      "input.interpret styles that failed import:\n",
      "\n",
      "input.buildcombos styles that passed import:\n",
      "- atomicarchive\n",
      "- atomicparent\n",
      "- atomicreference\n",
      "- crystalprototype\n",
      "- defect\n",
      "- interatomicpotential\n",
      "input.buildcombos styles that failed import:\n",
      "\n",
      "record styles that passed import:\n",
      "- calculation_crystal_space_group\n",
      "- calculation_elastic_constants_static\n",
      "- calculation_E_vs_r_scan\n",
      "- calculation_point_defect_static\n",
      "- calculation_relax_box\n",
      "- calculation_relax_dynamic\n",
      "- calculation_relax_static\n",
      "- calculation_stacking_fault_map_2D\n",
      "- calculation_surface_energy_static\n",
      "- crystal_prototype\n",
      "- free_surface\n",
      "- point_defect\n",
      "- potential_LAMMPS\n",
      "- stacking_fault\n",
      "record styles that failed import:\n",
      "- calculation_dislocation_monopole: <class 'NotImplementedError'>: Needs updating\n",
      "- calculation_dislocation_SDVPN: <class 'NotImplementedError'>: Needs updating\n",
      "- calculation_stacking_fault_static: <class 'NotImplementedError'>: Needs updating\n",
      "- dislocation_monopole: <class 'NotImplementedError'>: Needs updating\n",
      "\n",
      "calculation styles that passed import:\n",
      "- crystal_space_group\n",
      "- elastic_constants_static\n",
      "- E_vs_r_scan\n",
      "- point_defect_static\n",
      "- relax_box\n",
      "- relax_dynamic\n",
      "- relax_static\n",
      "- stacking_fault_map_2D\n",
      "- surface_energy_static\n",
      "calculation styles that failed import:\n",
      "- dislocation_monopole: <class 'NotImplementedError'>: Needs updating\n",
      "- dislocation_SDVPN: <class 'NotImplementedError'>: Needs updating\n",
      "- stacking_fault_static: <class 'NotImplementedError'>: Needs updating\n",
      "\n",
      "database styles that passed import:\n",
      "- local\n",
      "database styles that failed import:\n",
      "- curator: <class 'ModuleNotFoundError'>: No module named 'mdcs'\n",
      "\n"
     ]
    }
   ],
   "source": [
    "iprPy.check_modules()"
   ]
  },
  {
   "cell_type": "markdown",
   "metadata": {},
   "source": [
    "## 2. Define database and run directory access"
   ]
  },
  {
   "cell_type": "markdown",
   "metadata": {},
   "source": [
    "The **set_database()** function allows for database access information to be saved under a simple name."
   ]
  },
  {
   "cell_type": "code",
   "execution_count": 3,
   "metadata": {},
   "outputs": [
    {
     "name": "stdout",
     "output_type": "stream",
     "text": [
      "Enter any other database parameters as key, value\n",
      "Exit by leaving key blank\n",
      "key: \n"
     ]
    }
   ],
   "source": [
    "# Define local-style database called master\n",
    "iprPy.set_database(name='master', style='local', host='C:\\\\Users\\\\lmh1\\\\Documents\\\\calculations\\\\ipr\\\\master')"
   ]
  },
  {
   "cell_type": "markdown",
   "metadata": {},
   "source": [
    "Similarly, the **set_run_directory()** function allows for a local run directory to be saved under a simple name. For best functionality, each run_directory should be for a unique database and number of cores."
   ]
  },
  {
   "cell_type": "code",
   "execution_count": 4,
   "metadata": {},
   "outputs": [],
   "source": [
    "# Define running directories for up to four cores\n",
    "iprPy.set_run_directory(name='master_1', path='C:\\\\Users\\\\lmh1\\\\Documents\\\\calculations\\\\ipr\\\\torun\\\\master\\\\1')\n",
    "iprPy.set_run_directory(name='master_2', path='C:\\\\Users\\\\lmh1\\\\Documents\\\\calculations\\\\ipr\\\\torun\\\\master\\\\2')\n",
    "iprPy.set_run_directory(name='master_3', path='C:\\\\Users\\\\lmh1\\\\Documents\\\\calculations\\\\ipr\\\\torun\\\\master\\\\3')\n",
    "iprPy.set_run_directory(name='master_4', path='C:\\\\Users\\\\lmh1\\\\Documents\\\\calculations\\\\ipr\\\\torun\\\\master\\\\4')"
   ]
  },
  {
   "cell_type": "code",
   "execution_count": 5,
   "metadata": {},
   "outputs": [
    {
     "name": "stdout",
     "output_type": "stream",
     "text": [
      "database style local at C:\\Users\\lmh1\\Documents\\calculations\\ipr\\master\n",
      "database = <iprPy.database.local.Local.Local object at 0x000000002B3F76A0>\n",
      "isinstance(database, iprPy.database.Database) -> True\n"
     ]
    }
   ],
   "source": [
    "database = iprPy.load_database('master')\n",
    "print(database)\n",
    "print('database =', repr(database))\n",
    "print('isinstance(database, iprPy.database.Database) ->', isinstance(database, iprPy.database.Database))"
   ]
  },
  {
   "cell_type": "code",
   "execution_count": 6,
   "metadata": {},
   "outputs": [
    {
     "data": {
      "text/plain": [
       "'C:\\\\Users\\\\lmh1\\\\Documents\\\\calculations\\\\ipr\\\\torun\\\\master\\\\1'"
      ]
     },
     "execution_count": 6,
     "metadata": {},
     "output_type": "execute_result"
    }
   ],
   "source": [
    "# Calling load_run_directory will retrieve the path\n",
    "iprPy.load_run_directory('master_1')"
   ]
  },
  {
   "cell_type": "markdown",
   "metadata": {},
   "source": [
    "## 3. Build database by copying reference records in"
   ]
  },
  {
   "cell_type": "code",
   "execution_count": 7,
   "metadata": {},
   "outputs": [],
   "source": [
    "database.build_refs()"
   ]
  },
  {
   "cell_type": "markdown",
   "metadata": {},
   "source": [
    "## 4. Check records that are uploaded"
   ]
  },
  {
   "cell_type": "code",
   "execution_count": 8,
   "metadata": {},
   "outputs": [
    {
     "name": "stdout",
     "output_type": "stream",
     "text": [
      "Select record_style:\n",
      "1 calculation_crystal_space_group\n",
      "2 calculation_elastic_constants_static\n",
      "3 calculation_E_vs_r_scan\n",
      "4 calculation_point_defect_static\n",
      "5 calculation_relax_box\n",
      "6 calculation_relax_dynamic\n",
      "7 calculation_relax_static\n",
      "8 calculation_stacking_fault_map_2D\n",
      "9 calculation_surface_energy_static\n",
      "10 crystal_prototype\n",
      "11 free_surface\n",
      "12 point_defect\n",
      "13 potential_LAMMPS\n",
      "14 stacking_fault\n",
      ": 13\n",
      "\n",
      "In database style local at C:\\Users\\lmh1\\Documents\\calculations\\ipr\\master :\n",
      "- 201 of style potential_LAMMPS\n"
     ]
    }
   ],
   "source": [
    "database.check_records()"
   ]
  },
  {
   "cell_type": "code",
   "execution_count": 9,
   "metadata": {},
   "outputs": [
    {
     "name": "stdout",
     "output_type": "stream",
     "text": [
      "In database style local at C:\\Users\\lmh1\\Documents\\calculations\\ipr\\master :\n",
      "- 19 of style crystal_prototype\n"
     ]
    }
   ],
   "source": [
    "database.check_records('crystal_prototype')"
   ]
  },
  {
   "cell_type": "markdown",
   "metadata": {},
   "source": [
    "## 5. \"Forgetting\" database information\n",
    "\n",
    "The unset_database() and unset_run_directory() functions will remove the saved settings for the databases. **NOTE:** Only the stored access information is removed as the records in a database and files in a run_directory will remain."
   ]
  },
  {
   "cell_type": "code",
   "execution_count": 10,
   "metadata": {},
   "outputs": [],
   "source": [
    "# Clear out existing definitions\n",
    "#iprPy.unset_database(name='master')\n",
    "#iprPy.unset_run_directory(name='master_1')\n",
    "#iprPy.unset_run_directory(name='master_2')\n",
    "#iprPy.unset_run_directory(name='master_3')\n",
    "#iprPy.unset_run_directory(name='master_4')"
   ]
  }
 ],
 "metadata": {
  "kernelspec": {
   "display_name": "Python 3",
   "language": "python",
   "name": "python3"
  },
  "language_info": {
   "codemirror_mode": {
    "name": "ipython",
    "version": 3
   },
   "file_extension": ".py",
   "mimetype": "text/x-python",
   "name": "python",
   "nbconvert_exporter": "python",
   "pygments_lexer": "ipython3",
   "version": "3.6.4"
  }
 },
 "nbformat": 4,
 "nbformat_minor": 2
}
