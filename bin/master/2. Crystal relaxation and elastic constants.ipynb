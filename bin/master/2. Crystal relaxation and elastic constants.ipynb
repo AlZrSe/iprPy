{
 "cells": [
  {
   "cell_type": "markdown",
   "metadata": {},
   "source": [
    "# Crystal relaxation and elastic constants\n",
    "\n",
    "This Notebook generates"
   ]
  },
  {
   "cell_type": "markdown",
   "metadata": {},
   "source": [
    "**Library imports**"
   ]
  },
  {
   "cell_type": "code",
   "execution_count": 47,
   "metadata": {},
   "outputs": [
    {
     "name": "stdout",
     "output_type": "stream",
     "text": [
      "iprPy version 0.8.a\n"
     ]
    }
   ],
   "source": [
    "# Standard Python libraries\n",
    "from __future__ import (absolute_import, print_function,\n",
    "                        division, unicode_literals)\n",
    "\n",
    "# http://www.numpy.org/\n",
    "import numpy as np\n",
    "\n",
    "from IPython.core.display import display, HTML\n",
    "\n",
    "# https://pandas.pydata.org/\n",
    "import pandas as pd\n",
    "\n",
    "# https://github.com/usnistgov/atomman\n",
    "import atomman.unitconvert as uc\n",
    "\n",
    "# https://github.com/usnistgov/iprPy\n",
    "import iprPy\n",
    "print('iprPy version', iprPy.__version__)"
   ]
  },
  {
   "cell_type": "markdown",
   "metadata": {},
   "source": [
    "## 0. Access database "
   ]
  },
  {
   "cell_type": "markdown",
   "metadata": {},
   "source": [
    "### Load database"
   ]
  },
  {
   "cell_type": "code",
   "execution_count": 2,
   "metadata": {},
   "outputs": [],
   "source": [
    "database = iprPy.load_database('master')"
   ]
  },
  {
   "cell_type": "markdown",
   "metadata": {},
   "source": [
    "### Copy references from library, if needed"
   ]
  },
  {
   "cell_type": "code",
   "execution_count": 3,
   "metadata": {},
   "outputs": [
    {
     "name": "stdout",
     "output_type": "stream",
     "text": [
      "In database style local at C:\\Users\\lmh1\\Documents\\calculations\\ipr\\master :\n",
      "- 19 of style crystal_prototype\n",
      "In database style local at C:\\Users\\lmh1\\Documents\\calculations\\ipr\\master :\n",
      "- 5 of style dislocation_monopole\n",
      "In database style local at C:\\Users\\lmh1\\Documents\\calculations\\ipr\\master :\n",
      "- 6 of style free_surface\n",
      "In database style local at C:\\Users\\lmh1\\Documents\\calculations\\ipr\\master :\n",
      "- 38 of style point_defect\n",
      "In database style local at C:\\Users\\lmh1\\Documents\\calculations\\ipr\\master :\n",
      "- 184 of style potential_LAMMPS\n",
      "In database style local at C:\\Users\\lmh1\\Documents\\calculations\\ipr\\master :\n",
      "- 3 of style stacking_fault\n"
     ]
    }
   ],
   "source": [
    "database.build_refs()\n",
    "for style in ['crystal_prototype', 'dislocation_monopole', 'free_surface', 'point_defect', 'potential_LAMMPS', 'stacking_fault']:\n",
    "    database.check_records(style)"
   ]
  },
  {
   "cell_type": "markdown",
   "metadata": {},
   "source": [
    "## 1. E_vs_r_scan calculation"
   ]
  },
  {
   "cell_type": "code",
   "execution_count": 4,
   "metadata": {},
   "outputs": [],
   "source": [
    "calculation = iprPy.load_calculation('E_vs_r_scan')\n",
    "run_directory = iprPy.load_run_directory('master_1')"
   ]
  },
  {
   "cell_type": "markdown",
   "metadata": {},
   "source": [
    "### Write input script"
   ]
  },
  {
   "cell_type": "code",
   "execution_count": 5,
   "metadata": {},
   "outputs": [],
   "source": [
    "input_script = \"\"\"\n",
    "# Commands and executables\n",
    "lammps_command              lmp_mpi\n",
    "mpi_command                 \n",
    "\n",
    "# Build load information based on prototype records\n",
    "buildcombos                 crystalprototype load_file prototype\n",
    "prototype_potential_name    2004--Zhou-X-W--Al--LAMMPS--ipr2\n",
    "\n",
    "# System manipulations\n",
    "x_axis                      \n",
    "y_axis                      \n",
    "z_axis                      \n",
    "atomshift                   \n",
    "sizemults                   3 3 3\n",
    "\n",
    "# Units that input/output values are in\n",
    "length_unit                 \n",
    "pressure_unit               \n",
    "energy_unit                 \n",
    "force_unit                  \n",
    "\n",
    "# Run parameters\n",
    "minimum_r                   2.0\n",
    "maximum_r                   6.0\n",
    "number_of_steps_r           200  \n",
    "\"\"\"\n",
    "with open('input_script.in', 'w') as f:\n",
    "    f.write(input_script)"
   ]
  },
  {
   "cell_type": "markdown",
   "metadata": {},
   "source": [
    "### Prepare calculations"
   ]
  },
  {
   "cell_type": "code",
   "execution_count": 6,
   "metadata": {},
   "outputs": [
    {
     "name": "stdout",
     "output_type": "stream",
     "text": [
      "In database style local at C:\\Users\\lmh1\\Documents\\calculations\\ipr\\master :\n",
      "- 10 of style calculation_E_vs_r_scan\n",
      " - 10 are complete\n",
      " - 0 still to run\n",
      " - 0 issued errors\n"
     ]
    }
   ],
   "source": [
    "with open('input_script.in') as f:\n",
    "    input_dict = iprPy.input.parse(f, singularkeys=calculation.singularkeys)\n",
    "    \n",
    "database.prepare(run_directory, calculation, **input_dict)\n",
    "database.check_records(calculation.record_style)"
   ]
  },
  {
   "cell_type": "markdown",
   "metadata": {},
   "source": [
    "### Run calculations"
   ]
  },
  {
   "cell_type": "code",
   "execution_count": 7,
   "metadata": {},
   "outputs": [
    {
     "name": "stdout",
     "output_type": "stream",
     "text": [
      "Runner started with pid 11172\n",
      "No simulations left to run\n",
      "In database style local at C:\\Users\\lmh1\\Documents\\calculations\\ipr\\master :\n",
      "- 10 of style calculation_E_vs_r_scan\n",
      " - 10 are complete\n",
      " - 0 still to run\n",
      " - 0 issued errors\n"
     ]
    }
   ],
   "source": [
    "database.runner(run_directory)\n",
    "database.check_records(calculation.record_style)"
   ]
  },
  {
   "cell_type": "markdown",
   "metadata": {},
   "source": [
    "## 2. relax_box calculation"
   ]
  },
  {
   "cell_type": "code",
   "execution_count": 8,
   "metadata": {},
   "outputs": [],
   "source": [
    "calculation = iprPy.load_calculation('relax_box')\n",
    "run_directory = iprPy.load_run_directory('master_1')"
   ]
  },
  {
   "cell_type": "markdown",
   "metadata": {},
   "source": [
    "### Write input script"
   ]
  },
  {
   "cell_type": "code",
   "execution_count": 9,
   "metadata": {},
   "outputs": [],
   "source": [
    "input_script = \"\"\"\n",
    "# Commands and executables\n",
    "lammps_command              lmp_mpi\n",
    "mpi_command                 \n",
    "\n",
    "# Build load information based on reference structures\n",
    "buildcombos                 atomicreference load_file reference\n",
    "reference_potential_name    2004--Zhou-X-W--Al--LAMMPS--ipr2\n",
    "\n",
    "# Build load information from E_vs_r_scan results\n",
    "buildcombos                 atomicparent load_file parent\n",
    "parent_record               calculation_E_vs_r_scan              \n",
    "parent_load_key             minimum-atomic-system\n",
    "\n",
    "# System manipulations\n",
    "x_axis                      \n",
    "y_axis                      \n",
    "z_axis                      \n",
    "atomshift                   \n",
    "sizemults                   3 3 3\n",
    "\n",
    "# Units that input/output values are in\n",
    "length_unit                 \n",
    "pressure_unit               \n",
    "energy_unit                 \n",
    "force_unit                  \n",
    "\n",
    "# Run parameters\n",
    "strainrange                 1e-6\n",
    "\"\"\"\n",
    "with open('input_script.in', 'w') as f:\n",
    "    f.write(input_script)"
   ]
  },
  {
   "cell_type": "markdown",
   "metadata": {},
   "source": [
    "### Prepare calculations"
   ]
  },
  {
   "cell_type": "code",
   "execution_count": 10,
   "metadata": {},
   "outputs": [
    {
     "name": "stdout",
     "output_type": "stream",
     "text": [
      "In database style local at C:\\Users\\lmh1\\Documents\\calculations\\ipr\\master :\n",
      "- 13 of style calculation_relax_box\n",
      " - 11 are complete\n",
      " - 0 still to run\n",
      " - 2 issued errors\n"
     ]
    }
   ],
   "source": [
    "with open('input_script.in') as f:\n",
    "    input_dict = iprPy.input.parse(f, singularkeys=calculation.singularkeys)\n",
    "    \n",
    "database.prepare(run_directory, calculation, **input_dict)\n",
    "database.check_records(calculation.record_style)"
   ]
  },
  {
   "cell_type": "markdown",
   "metadata": {},
   "source": [
    "### Run calculations"
   ]
  },
  {
   "cell_type": "code",
   "execution_count": 11,
   "metadata": {},
   "outputs": [
    {
     "name": "stdout",
     "output_type": "stream",
     "text": [
      "Runner started with pid 11172\n",
      "No simulations left to run\n",
      "In database style local at C:\\Users\\lmh1\\Documents\\calculations\\ipr\\master :\n",
      "- 13 of style calculation_relax_box\n",
      " - 11 are complete\n",
      " - 0 still to run\n",
      " - 2 issued errors\n"
     ]
    }
   ],
   "source": [
    "database.runner(run_directory)\n",
    "database.check_records(calculation.record_style)"
   ]
  },
  {
   "cell_type": "code",
   "execution_count": 12,
   "metadata": {},
   "outputs": [
    {
     "name": "stdout",
     "output_type": "stream",
     "text": [
      "b'Traceback (most recent call last):\r\n",
      "  File \"calc_relax_box.py\", line 455, in <module>\r\n",
      "    main(*sys.argv[1:])\r\n",
      "  File \"calc_relax_box.py\", line 54, in main\r\n",
      "    strainrange = input_dict[\\'strainrange\\'])\r\n",
      "  File \"calc_relax_box.py\", line 145, in relax_box\r\n",
      "    strainrange=strainrange, cycle=cycle)\r\n",
      "  File \"calc_relax_box.py\", line 364, in calc_cij\r\n",
      "    raise RuntimeError(\\'Divergence of box dimensions to <= 0\\')\r\n",
      "RuntimeError: Divergence of box dimensions to <= 0\r\n",
      "'\n"
     ]
    }
   ],
   "source": [
    "results_df = database.get_records_df(style=calculation.record_style)\n",
    "for error in np.unique(results_df[results_df.status=='error'].error):\n",
    "    print(error)"
   ]
  },
  {
   "cell_type": "markdown",
   "metadata": {},
   "source": [
    "## 3. relax_dynamic calculation"
   ]
  },
  {
   "cell_type": "code",
   "execution_count": 13,
   "metadata": {},
   "outputs": [],
   "source": [
    "calculation = iprPy.load_calculation('relax_dynamic')\n",
    "run_directory = iprPy.load_run_directory('master_4')"
   ]
  },
  {
   "cell_type": "markdown",
   "metadata": {},
   "source": [
    "### Write input script"
   ]
  },
  {
   "cell_type": "code",
   "execution_count": 14,
   "metadata": {},
   "outputs": [],
   "source": [
    "input_script = \"\"\"\n",
    "# Commands and executables\n",
    "lammps_command              lmp_mpi\n",
    "mpi_command                 mpiexec -localonly 4\n",
    "\n",
    "# Build load information based on reference structures\n",
    "buildcombos                 atomicreference load_file reference\n",
    "reference_potential_name    2004--Zhou-X-W--Al--LAMMPS--ipr2\n",
    "\n",
    "# Build load information from E_vs_r_scan results\n",
    "buildcombos                 atomicparent load_file parent\n",
    "parent_record               calculation_E_vs_r_scan              \n",
    "parent_load_key             minimum-atomic-system\n",
    "\n",
    "# System manipulations\n",
    "x_axis                      \n",
    "y_axis                      \n",
    "z_axis                      \n",
    "atomshift                   \n",
    "sizemults                   10 10 10\n",
    "\n",
    "# Units that input/output values are in\n",
    "length_unit                 \n",
    "pressure_unit               \n",
    "energy_unit                 \n",
    "force_unit                  \n",
    "\n",
    "# Run parameters\n",
    "temperature                 0.0\n",
    "pressure_xx                 \n",
    "pressure_yy                 \n",
    "pressure_zz                 \n",
    "pressure_xy                 \n",
    "pressure_xz                 \n",
    "pressure_yz                 \n",
    "integrator                  nph+l\n",
    "thermosteps                 1000\n",
    "dumpsteps                   \n",
    "runsteps                    10000\n",
    "equilsteps                  0\n",
    "randomseed                  \n",
    "\"\"\"\n",
    "with open('input_script.in', 'w') as f:\n",
    "    f.write(input_script)"
   ]
  },
  {
   "cell_type": "markdown",
   "metadata": {},
   "source": [
    "### Prepare calculations"
   ]
  },
  {
   "cell_type": "code",
   "execution_count": 15,
   "metadata": {},
   "outputs": [
    {
     "name": "stdout",
     "output_type": "stream",
     "text": [
      "In database style local at C:\\Users\\lmh1\\Documents\\calculations\\ipr\\master :\n",
      "- 13 of style calculation_relax_dynamic\n",
      " - 13 are complete\n",
      " - 0 still to run\n",
      " - 0 issued errors\n"
     ]
    }
   ],
   "source": [
    "with open('input_script.in') as f:\n",
    "    input_dict = iprPy.input.parse(f, singularkeys=calculation.singularkeys)\n",
    "    \n",
    "database.prepare(run_directory, calculation, **input_dict)\n",
    "database.check_records(calculation.record_style)"
   ]
  },
  {
   "cell_type": "markdown",
   "metadata": {},
   "source": [
    "### Run calculations"
   ]
  },
  {
   "cell_type": "code",
   "execution_count": 16,
   "metadata": {},
   "outputs": [
    {
     "name": "stdout",
     "output_type": "stream",
     "text": [
      "Runner started with pid 11172\n",
      "No simulations left to run\n",
      "In database style local at C:\\Users\\lmh1\\Documents\\calculations\\ipr\\master :\n",
      "- 13 of style calculation_relax_dynamic\n",
      " - 13 are complete\n",
      " - 0 still to run\n",
      " - 0 issued errors\n"
     ]
    }
   ],
   "source": [
    "database.runner(run_directory)\n",
    "database.check_records(calculation.record_style)"
   ]
  },
  {
   "cell_type": "code",
   "execution_count": 17,
   "metadata": {},
   "outputs": [],
   "source": [
    "results_df = database.get_records_df(style=calculation.record_style)\n",
    "for error in np.unique(results_df[results_df.status=='error'].error):\n",
    "    print(error)"
   ]
  },
  {
   "cell_type": "markdown",
   "metadata": {},
   "source": [
    "## 4. relax_static calculation"
   ]
  },
  {
   "cell_type": "code",
   "execution_count": 18,
   "metadata": {},
   "outputs": [],
   "source": [
    "calculation = iprPy.load_calculation('relax_static')\n",
    "run_directory = iprPy.load_run_directory('master_1')"
   ]
  },
  {
   "cell_type": "markdown",
   "metadata": {},
   "source": [
    "### Write input script"
   ]
  },
  {
   "cell_type": "code",
   "execution_count": 19,
   "metadata": {},
   "outputs": [],
   "source": [
    "input_script = \"\"\"\n",
    "# Commands and executables\n",
    "lammps_command              lmp_mpi\n",
    "mpi_command                 \n",
    "\n",
    "# Build load information based on reference structures\n",
    "buildcombos                 atomicreference load_file reference\n",
    "reference_potential_name    2004--Zhou-X-W--Al--LAMMPS--ipr2\n",
    "\n",
    "# Build load information from E_vs_r_scan results\n",
    "buildcombos                 atomicparent load_file parent\n",
    "parent_record               calculation_E_vs_r_scan              \n",
    "parent_load_key             minimum-atomic-system\n",
    "\n",
    "# Build load information from relax_dynamic results\n",
    "buildcombos                 atomicarchive load_file archive\n",
    "archive_record              calculation_relax_dynamic\n",
    "archive_load_key            final-system\n",
    "\n",
    "# System manipulations\n",
    "x_axis                      \n",
    "y_axis                      \n",
    "z_axis                      \n",
    "atomshift                   \n",
    "sizemults                   1 1 1\n",
    "\n",
    "# Units that input/output values are in\n",
    "length_unit                 \n",
    "pressure_unit               \n",
    "energy_unit                 \n",
    "force_unit                  \n",
    "\n",
    "# Run parameters\n",
    "energytolerance             0.0\n",
    "forcetolerance              1e-10 eV/angstrom\n",
    "maxiterations               10000\n",
    "maxevaluations              100000\n",
    "maxatommotion               0.01 angstrom\n",
    "maxcycles                   100\n",
    "cycletolerance              1e-10\n",
    "\"\"\"\n",
    "with open('input_script.in', 'w') as f:\n",
    "    f.write(input_script)"
   ]
  },
  {
   "cell_type": "markdown",
   "metadata": {},
   "source": [
    "### Prepare calculations"
   ]
  },
  {
   "cell_type": "code",
   "execution_count": 20,
   "metadata": {},
   "outputs": [
    {
     "name": "stdout",
     "output_type": "stream",
     "text": [
      "In database style local at C:\\Users\\lmh1\\Documents\\calculations\\ipr\\master :\n",
      "- 26 of style calculation_relax_static\n",
      " - 25 are complete\n",
      " - 0 still to run\n",
      " - 1 issued errors\n"
     ]
    }
   ],
   "source": [
    "with open('input_script.in') as f:\n",
    "    input_dict = iprPy.input.parse(f, singularkeys=calculation.singularkeys)\n",
    "    \n",
    "database.prepare(run_directory, calculation, **input_dict)\n",
    "database.check_records(calculation.record_style)"
   ]
  },
  {
   "cell_type": "markdown",
   "metadata": {},
   "source": [
    "### Run calculations"
   ]
  },
  {
   "cell_type": "code",
   "execution_count": 21,
   "metadata": {},
   "outputs": [
    {
     "name": "stdout",
     "output_type": "stream",
     "text": [
      "Runner started with pid 11172\n",
      "No simulations left to run\n",
      "In database style local at C:\\Users\\lmh1\\Documents\\calculations\\ipr\\master :\n",
      "- 26 of style calculation_relax_static\n",
      " - 25 are complete\n",
      " - 0 still to run\n",
      " - 1 issued errors\n"
     ]
    }
   ],
   "source": [
    "database.runner(run_directory)\n",
    "database.check_records(calculation.record_style)"
   ]
  },
  {
   "cell_type": "code",
   "execution_count": 22,
   "metadata": {},
   "outputs": [
    {
     "name": "stdout",
     "output_type": "stream",
     "text": [
      "b'Traceback (most recent call last):\r\n",
      "  File \"calc_relax_static.py\", line 369, in <module>\r\n",
      "    main(*sys.argv[1:])\r\n",
      "  File \"calc_relax_static.py\", line 43, in main\r\n",
      "    process_input(input_dict, *args[1:])\r\n",
      "  File \"calc_relax_static.py\", line 366, in process_input\r\n",
      "    iprPy.input.interpret(\\'atomman_systemmanipulate\\', input_dict, build=build)\r\n",
      "  File \"c:\\\\users\\\\lmh1\\\\documents\\\\python-packages\\\\iprpy\\\\iprPy\\\\input\\\\interpret.py\", line 14, in interpret\r\n",
      "    loaded[style](input_dict, build=build, **kwargs)\r\n",
      "  File \"c:\\\\users\\\\lmh1\\\\documents\\\\python-packages\\\\iprpy\\\\iprPy\\\\input\\\\interpret_functions\\\\atomman_systemmanipulate.py\", line 136, in atomman_systemmanipulate\r\n",
      "    initialsystem = ucell.rotate(axes)\r\n",
      "  File \"c:\\\\users\\\\lmh1\\\\documents\\\\python-packages\\\\atomman\\\\atomman\\\\core\\\\System.py\", line 661, in rotate\r\n",
      "    \\'atoms expected, \\' + str(len(aindex[0])) + \\' found\\')\r\n",
      "ValueError: Filtering failed: 2000atoms expected, 1729 found\r\n",
      "'\n"
     ]
    }
   ],
   "source": [
    "results_df = database.get_records_df(style=calculation.record_style)\n",
    "for error in np.unique(results_df[results_df.status=='error'].error):\n",
    "    print(error)"
   ]
  },
  {
   "cell_type": "markdown",
   "metadata": {},
   "source": [
    "## 5. crystal_space_group calculation"
   ]
  },
  {
   "cell_type": "code",
   "execution_count": 23,
   "metadata": {},
   "outputs": [],
   "source": [
    "calculation = iprPy.load_calculation('crystal_space_group')\n",
    "run_directory = iprPy.load_run_directory('master_1')"
   ]
  },
  {
   "cell_type": "markdown",
   "metadata": {},
   "source": [
    "### Write input script"
   ]
  },
  {
   "cell_type": "code",
   "execution_count": 24,
   "metadata": {},
   "outputs": [],
   "source": [
    "input_script = \"\"\"\n",
    "\n",
    "# Build load information based on prototype records\n",
    "buildcombos                 crystalprototype load_file\n",
    "\n",
    "# Build load information based on reference structures\n",
    "buildcombos                 atomicreference load_file ref\n",
    "ref_elements                Al\n",
    "\n",
    "# Build load information from relax_static results\n",
    "buildcombos                 atomicarchive load_file relax_static\n",
    "relax_static_record         calculation_relax_static\n",
    "relax_static_load_key       final-system\n",
    "\n",
    "# Build load information from relax_box results\n",
    "buildcombos                 atomicarchive load_file relax_box\n",
    "relax_box_record            calculation_relax_box\n",
    "relax_box_load_key          final-system\n",
    "\n",
    "# Units that input/output values are in\n",
    "length_unit                 \n",
    "pressure_unit               \n",
    "energy_unit                 \n",
    "force_unit                  \n",
    "\n",
    "# Run parameters\n",
    "symmetryprecision           \n",
    "primitivecell               \n",
    "idealcell                   \n",
    "\"\"\"\n",
    "with open('input_script.in', 'w') as f:\n",
    "    f.write(input_script)"
   ]
  },
  {
   "cell_type": "markdown",
   "metadata": {},
   "source": [
    "### Prepare calculations"
   ]
  },
  {
   "cell_type": "code",
   "execution_count": 25,
   "metadata": {},
   "outputs": [
    {
     "name": "stdout",
     "output_type": "stream",
     "text": [
      "In database style local at C:\\Users\\lmh1\\Documents\\calculations\\ipr\\master :\n",
      "- 58 of style calculation_crystal_space_group\n",
      " - 0 are complete\n",
      " - 58 still to run\n",
      " - 0 issued errors\n"
     ]
    }
   ],
   "source": [
    "with open('input_script.in') as f:\n",
    "    input_dict = iprPy.input.parse(f, singularkeys=calculation.singularkeys)\n",
    "    \n",
    "database.prepare(run_directory, calculation, **input_dict)\n",
    "database.check_records(calculation.record_style)"
   ]
  },
  {
   "cell_type": "markdown",
   "metadata": {},
   "source": [
    "### Run calculations"
   ]
  },
  {
   "cell_type": "code",
   "execution_count": 26,
   "metadata": {},
   "outputs": [
    {
     "name": "stdout",
     "output_type": "stream",
     "text": [
      "Runner started with pid 11172\n",
      "No simulations left to run\n",
      "In database style local at C:\\Users\\lmh1\\Documents\\calculations\\ipr\\master :\n",
      "- 58 of style calculation_crystal_space_group\n",
      " - 58 are complete\n",
      " - 0 still to run\n",
      " - 0 issued errors\n"
     ]
    }
   ],
   "source": [
    "database.runner(run_directory)\n",
    "database.check_records(calculation.record_style)"
   ]
  },
  {
   "cell_type": "code",
   "execution_count": 27,
   "metadata": {},
   "outputs": [],
   "source": [
    "results_df = database.get_records_df(style=calculation.record_style)\n",
    "for error in np.unique(results_df[results_df.status=='error'].error):\n",
    "    print(error)"
   ]
  },
  {
   "cell_type": "markdown",
   "metadata": {},
   "source": [
    "## 6. Analyze"
   ]
  },
  {
   "cell_type": "markdown",
   "metadata": {},
   "source": [
    "### Get parent records"
   ]
  },
  {
   "cell_type": "code",
   "execution_count": 36,
   "metadata": {},
   "outputs": [],
   "source": [
    "relax_box_df = database.get_records_df(style='calculation_relax_box', full=True, flat=True)\n",
    "relax_static_df = database.get_records_df(style='calculation_relax_static', full=True, flat=True)\n",
    "relax_dynamic_df = database.get_records_df(style='calculation_relax_dynamic', full=True, flat=True)\n",
    "crystal_space_group_df = database.get_records_df(style='calculation_crystal_space_group', full=True, flat=True) "
   ]
  },
  {
   "cell_type": "markdown",
   "metadata": {},
   "source": [
    "### Split into reference, prototype and results"
   ]
  },
  {
   "cell_type": "code",
   "execution_count": 29,
   "metadata": {},
   "outputs": [],
   "source": [
    "reference_df = crystal_space_group_df[(crystal_space_group_df.family+'.poscar'==crystal_space_group_df.load_file)]\n",
    "prototype_df = crystal_space_group_df[(crystal_space_group_df.family+'.json'==crystal_space_group_df.load_file)]\n",
    "reference_index = reference_df.index\n",
    "prototype_index = prototype_df.index\n",
    "relaxed_index = crystal_space_group_df.index.difference(reference_index.union(prototype_index))\n",
    "relaxed_df = crystal_space_group_df.iloc[relaxed_index]\n",
    "\n",
    "reference_df = reference_df.reset_index()\n",
    "prototype_df = prototype_df.reset_index()\n",
    "relaxed_df = relaxed_df.reset_index()"
   ]
  },
  {
   "cell_type": "markdown",
   "metadata": {},
   "source": [
    "### Indentify structures that transformed"
   ]
  },
  {
   "cell_type": "code",
   "execution_count": 30,
   "metadata": {},
   "outputs": [],
   "source": [
    "match_df = pd.read_csv('reference_prototype_match.csv')"
   ]
  },
  {
   "cell_type": "code",
   "execution_count": 31,
   "metadata": {},
   "outputs": [],
   "source": [
    "results_df = []\n",
    "for series in relaxed_df.itertuples():\n",
    "    results_dict = {}\n",
    "    results_dict['key'] = series.key\n",
    "    results_dict['family'] = series.family\n",
    "    results_dict['a (Å)'] = series.a\n",
    "    results_dict['b (Å)'] = series.b\n",
    "    results_dict['c (Å)'] = series.c\n",
    "    results_dict['alpha'] = series.alpha\n",
    "    results_dict['beta'] = series.beta\n",
    "    results_dict['gamma'] = series.gamma\n",
    "    \n",
    "    try:\n",
    "        family_series = reference_df[reference_df.family == series.family].iloc[0]\n",
    "    except:\n",
    "        family_series = prototype_df[prototype_df.family == series.family].iloc[0]\n",
    "        results_dict['prototype'] = series.family\n",
    "    else:\n",
    "        prototype = match_df[match_df.reference==series.family].prototype.values[0]\n",
    "        if prototype != 'multiple':\n",
    "            results_dict['prototype'] = prototype\n",
    "    \n",
    "    results_dict['transformed'] = not (family_series.spacegroup_number == series.spacegroup_number\n",
    "                                       and family_series.pearson_symbol == series.pearson_symbol)\n",
    "    \n",
    "    for parent in database.get_parent_records(name=series.key):\n",
    "        parent_dict = parent.todict()\n",
    "        if parent_dict['key'] in relax_box_df.key.tolist():\n",
    "            results_dict['method'] = 'box'\n",
    "            results_dict['E_cohesive (eV)'] = parent_dict['E_cohesive']\n",
    "            results_dict['potential_LAMMPS_id'] = parent_dict['potential_LAMMPS_id']\n",
    "            continue\n",
    "        elif parent_dict['key'] in relax_dynamic_df.key.tolist():\n",
    "            results_dict['method'] = 'dynamic'\n",
    "        elif parent_dict['key'] in relax_static_df.key.tolist():\n",
    "            if 'relaxation' not in results_dict:\n",
    "                results_dict['method'] = 'static'\n",
    "            results_dict['E_cohesive (eV)'] = parent_dict['E_cohesive']\n",
    "            results_dict['potential_LAMMPS_id'] = parent_dict['potential_LAMMPS_id']\n",
    "    \n",
    "    results_df.append(results_dict)\n",
    "results_df = pd.DataFrame(results_df).sort_values('E_cohesive (eV)')"
   ]
  },
  {
   "cell_type": "markdown",
   "metadata": {},
   "source": [
    "### Filter out transformed and duplicate structures"
   ]
  },
  {
   "cell_type": "code",
   "execution_count": 32,
   "metadata": {},
   "outputs": [],
   "source": [
    "filtered_df = results_df[results_df.transformed == False].reset_index()\n",
    "\n",
    "skipindex = set()\n",
    "nresults = len(filtered_df)\n",
    "for i in range(nresults):\n",
    "    iseries = filtered_df.iloc[i]\n",
    "    for j in range(i+1, nresults):\n",
    "        jseries = filtered_df.iloc[j]\n",
    "        if (np.isclose(iseries['E_cohesive (eV)'], jseries['E_cohesive (eV)'], rtol=0.0, atol=0.001)\n",
    "            and np.isclose(iseries['a (Å)'], jseries['a (Å)'], rtol=0.0, atol=0.001)\n",
    "            and np.isclose(iseries['b (Å)'], jseries['b (Å)'], rtol=0.0, atol=0.001)\n",
    "            and np.isclose(iseries['c (Å)'], jseries['c (Å)'], rtol=0.0, atol=0.001)):\n",
    "            \n",
    "            if iseries.method == 'dynamic' or iseries.method == jseries.method:\n",
    "                skipindex.add(j)\n",
    "            elif jseries.method == 'dynamic':\n",
    "                skipindex.add(i)\n",
    "            elif iseries.method == 'static':\n",
    "                skipindex.add(j)\n",
    "            elif jseries.method == 'static':\n",
    "                skipindex.add(i)\n",
    "            else:\n",
    "                raise ValueError('oops!')\n",
    "            \n",
    "filtered_df = filtered_df.iloc[filtered_df.index.difference(skipindex)]"
   ]
  },
  {
   "cell_type": "code",
   "execution_count": 33,
   "metadata": {},
   "outputs": [
    {
     "data": {
      "text/html": [
       "<table border=\"1\" class=\"dataframe\">\n",
       "  <thead>\n",
       "    <tr style=\"text-align: right;\">\n",
       "      <th>prototype</th>\n",
       "      <th>method</th>\n",
       "      <th>E_cohesive (eV)</th>\n",
       "      <th>a (Å)</th>\n",
       "      <th>b (Å)</th>\n",
       "      <th>c (Å)</th>\n",
       "      <th>alpha</th>\n",
       "      <th>beta</th>\n",
       "      <th>gamma</th>\n",
       "    </tr>\n",
       "  </thead>\n",
       "  <tbody>\n",
       "    <tr>\n",
       "      <td>A1--Cu--fcc</td>\n",
       "      <td>dynamic</td>\n",
       "      <td>-3.580002</td>\n",
       "      <td>4.050200</td>\n",
       "      <td>4.050200</td>\n",
       "      <td>4.050200</td>\n",
       "      <td>90.0</td>\n",
       "      <td>90.0</td>\n",
       "      <td>90.0</td>\n",
       "    </tr>\n",
       "    <tr>\n",
       "      <td>A3--Mg--hcp</td>\n",
       "      <td>dynamic</td>\n",
       "      <td>-3.578845</td>\n",
       "      <td>2.831200</td>\n",
       "      <td>2.831200</td>\n",
       "      <td>4.893291</td>\n",
       "      <td>90.0</td>\n",
       "      <td>90.0</td>\n",
       "      <td>120.0</td>\n",
       "    </tr>\n",
       "    <tr>\n",
       "      <td>A3'--alpha-La--double-hcp</td>\n",
       "      <td>dynamic</td>\n",
       "      <td>-3.577534</td>\n",
       "      <td>2.839117</td>\n",
       "      <td>2.839117</td>\n",
       "      <td>9.658255</td>\n",
       "      <td>90.0</td>\n",
       "      <td>90.0</td>\n",
       "      <td>120.0</td>\n",
       "    </tr>\n",
       "    <tr>\n",
       "      <td>A15--beta-W</td>\n",
       "      <td>dynamic</td>\n",
       "      <td>-3.563638</td>\n",
       "      <td>5.173408</td>\n",
       "      <td>5.173408</td>\n",
       "      <td>5.173408</td>\n",
       "      <td>90.0</td>\n",
       "      <td>90.0</td>\n",
       "      <td>90.0</td>\n",
       "    </tr>\n",
       "    <tr>\n",
       "      <td>A2--W--bcc</td>\n",
       "      <td>static</td>\n",
       "      <td>-3.546300</td>\n",
       "      <td>3.309992</td>\n",
       "      <td>3.309992</td>\n",
       "      <td>3.309992</td>\n",
       "      <td>90.0</td>\n",
       "      <td>90.0</td>\n",
       "      <td>90.0</td>\n",
       "    </tr>\n",
       "    <tr>\n",
       "      <td>A5--beta-Sn</td>\n",
       "      <td>static</td>\n",
       "      <td>-3.465649</td>\n",
       "      <td>5.273533</td>\n",
       "      <td>5.273533</td>\n",
       "      <td>2.807452</td>\n",
       "      <td>90.0</td>\n",
       "      <td>90.0</td>\n",
       "      <td>90.0</td>\n",
       "    </tr>\n",
       "    <tr>\n",
       "      <td>Ah--alpha-Po--sc</td>\n",
       "      <td>static</td>\n",
       "      <td>-3.435405</td>\n",
       "      <td>2.716499</td>\n",
       "      <td>2.716499</td>\n",
       "      <td>2.716499</td>\n",
       "      <td>90.0</td>\n",
       "      <td>90.0</td>\n",
       "      <td>90.0</td>\n",
       "    </tr>\n",
       "    <tr>\n",
       "      <td>A4--C--dc</td>\n",
       "      <td>static</td>\n",
       "      <td>-3.025113</td>\n",
       "      <td>5.662937</td>\n",
       "      <td>5.662937</td>\n",
       "      <td>5.662937</td>\n",
       "      <td>90.0</td>\n",
       "      <td>90.0</td>\n",
       "      <td>90.0</td>\n",
       "    </tr>\n",
       "  </tbody>\n",
       "</table>"
      ],
      "text/plain": [
       "<IPython.core.display.HTML object>"
      ]
     },
     "metadata": {},
     "output_type": "display_data"
    }
   ],
   "source": [
    "show_df = filtered_df[filtered_df.potential_LAMMPS_id == '2004--Zhou-X-W--Al--LAMMPS--ipr2']\n",
    "show_df = show_df[['prototype', 'method', 'E_cohesive (eV)', 'a (Å)', 'b (Å)', 'c (Å)', 'alpha', 'beta', 'gamma']]\n",
    "display(HTML(show_df.to_html(index=False)))"
   ]
  },
  {
   "cell_type": "markdown",
   "metadata": {},
   "source": [
    "## 7. elastic_constants_static calculation"
   ]
  },
  {
   "cell_type": "code",
   "execution_count": 34,
   "metadata": {},
   "outputs": [],
   "source": [
    "calculation = iprPy.load_calculation('elastic_constants_static')\n",
    "run_directory = iprPy.load_run_directory('master_1')"
   ]
  },
  {
   "cell_type": "markdown",
   "metadata": {},
   "source": [
    "### Manually prepare calculation"
   ]
  },
  {
   "cell_type": "code",
   "execution_count": 35,
   "metadata": {},
   "outputs": [
    {
     "data": {
      "text/plain": [
       "[<iprPy.record.calculation_crystal_space_group.CalculationCrystalSpaceGroup.CalculationCrystalSpaceGroup at 0x2ed60f28>,\n",
       " <iprPy.record.calculation_crystal_space_group.CalculationCrystalSpaceGroup.CalculationCrystalSpaceGroup at 0x2b5e5908>,\n",
       " <iprPy.record.calculation_crystal_space_group.CalculationCrystalSpaceGroup.CalculationCrystalSpaceGroup at 0x2b63fcf8>,\n",
       " <iprPy.record.calculation_crystal_space_group.CalculationCrystalSpaceGroup.CalculationCrystalSpaceGroup at 0x2ed60d68>,\n",
       " <iprPy.record.calculation_crystal_space_group.CalculationCrystalSpaceGroup.CalculationCrystalSpaceGroup at 0x2b5e5198>,\n",
       " <iprPy.record.calculation_crystal_space_group.CalculationCrystalSpaceGroup.CalculationCrystalSpaceGroup at 0x2b5e5588>,\n",
       " <iprPy.record.calculation_crystal_space_group.CalculationCrystalSpaceGroup.CalculationCrystalSpaceGroup at 0x2b6437f0>,\n",
       " <iprPy.record.calculation_crystal_space_group.CalculationCrystalSpaceGroup.CalculationCrystalSpaceGroup at 0x2b5e52b0>]"
      ]
     },
     "execution_count": 35,
     "metadata": {},
     "output_type": "execute_result"
    }
   ],
   "source": [
    "database.get_records(name=filtered_df.key)"
   ]
  },
  {
   "cell_type": "code",
   "execution_count": 64,
   "metadata": {},
   "outputs": [],
   "source": [
    "input_dict = {}\n",
    "input_dict['lammps_command'] = 'lmp_mpi'\n",
    "input_dict['strainrange'] = ['1e-5', '1e-6', '1e-7', '1e-8']\n",
    "input_dict['sizemults'] = '3 3 3'\n",
    "records, record_df = database.get_records(name=filtered_df.key, return_df=True)\n",
    "    \n",
    "keys = ['potential_file','potential_content','potential_dir', 'load_file','load_content', 'load_style',\n",
    "        'family','load_options','symbols', 'box_parameters']\n",
    "for key in keys:\n",
    "    input_dict[key] = []\n",
    "\n",
    "for i, record_info in record_df.iterrows():\n",
    "    record = records[i]\n",
    "    \n",
    "    for parent in database.get_parent_records(record=record):\n",
    "        parent_dict = parent.todict()\n",
    "        if 'potential_LAMMPS_id' in parent_dict:\n",
    "            potential = database.get_record(name=parent_dict['potential_LAMMPS_id'])\n",
    "            break\n",
    "    \n",
    "    input_dict['potential_file'].append(potential.name + '.json')\n",
    "    input_dict['potential_content'].append(potential.content.json(indent=4))\n",
    "    input_dict['potential_dir'].append(potential.name)\n",
    "    input_dict['load_file'].append(record.name + '.json')\n",
    "    input_dict['load_content'].append(record.content.json(indent=4))\n",
    "    input_dict['load_style'].append('system_model')\n",
    "    input_dict['family'].append('')\n",
    "    input_dict['load_options'].append('key unit-cell-atomic-system')\n",
    "    input_dict['symbols'].append('')\n",
    "    input_dict['box_parameters'].append('')"
   ]
  },
  {
   "cell_type": "code",
   "execution_count": 65,
   "metadata": {},
   "outputs": [
    {
     "name": "stdout",
     "output_type": "stream",
     "text": [
      "In database style local at C:\\Users\\lmh1\\Documents\\calculations\\ipr\\master :\n",
      "- 32 of style calculation_elastic_constants_static\n",
      " - 8 are complete\n",
      " - 24 still to run\n",
      " - 0 issued errors\n"
     ]
    }
   ],
   "source": [
    "database.prepare(run_directory, calculation, **input_dict)\n",
    "database.check_records(calculation.record_style)"
   ]
  },
  {
   "cell_type": "code",
   "execution_count": 66,
   "metadata": {},
   "outputs": [
    {
     "name": "stdout",
     "output_type": "stream",
     "text": [
      "Runner started with pid 11172\n",
      "No simulations left to run\n",
      "In database style local at C:\\Users\\lmh1\\Documents\\calculations\\ipr\\master :\n",
      "- 32 of style calculation_elastic_constants_static\n",
      " - 32 are complete\n",
      " - 0 still to run\n",
      " - 0 issued errors\n"
     ]
    }
   ],
   "source": [
    "database.runner(run_directory)\n",
    "database.check_records(calculation.record_style)"
   ]
  },
  {
   "cell_type": "code",
   "execution_count": 76,
   "metadata": {},
   "outputs": [
    {
     "name": "stdout",
     "output_type": "stream",
     "text": [
      "1e-05  -30.73   -5.51  -14.72\n",
      "1e-08  106.99   60.48   28.30\n",
      "1e-07  106.99   60.48   28.30\n",
      "1e-06 -1154.93   17.31 -401.84\n"
     ]
    }
   ],
   "source": [
    "elastic_df = database.get_records_df(style=calculation.record_style)\n",
    "\n",
    "for elastic_series in elastic_df[elastic_df.family==\"A1--Cu--fcc\"].itertuples():\n",
    "    print('%s %7.2f %7.2f %7.2f' % (elastic_series.strainrange,\n",
    "                                    uc.get_in_units(elastic_series.C.Cij[0,0], 'GPa'),\n",
    "                                    uc.get_in_units(elastic_series.C.Cij[0,1], 'GPa'),\n",
    "                                    uc.get_in_units(elastic_series.C.Cij[3,3], 'GPa')))"
   ]
  },
  {
   "cell_type": "code",
   "execution_count": 52,
   "metadata": {},
   "outputs": [
    {
     "name": "stdout",
     "output_type": "stream",
     "text": [
      "8 records found for calculation_elastic_constants_static\n",
      "Delete records? (must type yes): yes\n",
      "8 records successfully deleted\n"
     ]
    }
   ],
   "source": [
    "database.destroy_records('calculation_elastic_constants_static')"
   ]
  },
  {
   "cell_type": "code",
   "execution_count": null,
   "metadata": {},
   "outputs": [],
   "source": []
  }
 ],
 "metadata": {
  "kernelspec": {
   "display_name": "Python 3",
   "language": "python",
   "name": "python3"
  },
  "language_info": {
   "codemirror_mode": {
    "name": "ipython",
    "version": 3
   },
   "file_extension": ".py",
   "mimetype": "text/x-python",
   "name": "python",
   "nbconvert_exporter": "python",
   "pygments_lexer": "ipython3",
   "version": "3.6.4"
  }
 },
 "nbformat": 4,
 "nbformat_minor": 2
}
