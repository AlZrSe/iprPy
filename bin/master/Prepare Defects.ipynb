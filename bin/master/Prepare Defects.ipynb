{
 "cells": [
  {
   "cell_type": "markdown",
   "metadata": {
    "deletable": true,
    "editable": true
   },
   "source": [
    "# Prepare Defects"
   ]
  },
  {
   "cell_type": "markdown",
   "metadata": {
    "deletable": true,
    "editable": true
   },
   "source": [
    "This Notebook is used to prepare the surface_energy, point_defect_formation, stacking_fault_multi, and dislocation_monopole calculation. These are being prepared from a Notebook for the following reasons\n",
    "\n",
    "- The prepare functions are being called directly to save time.  All the defect calculations take calculation_system_relax records as parent records.  By using the prepare functions, the list of calculation_system_relax records only has to be built once as opposed to once per defect calculation. \n",
    "- Calculations are only being prepared for the preferred crystal structure(s) of elements, i.e. only fcc defects for Au and only bcc defects for W. This requires calling each prepare function multiple times, but reduces the total number of calculations that need to be prepared. "
   ]
  },
  {
   "cell_type": "markdown",
   "metadata": {
    "deletable": true,
    "editable": true
   },
   "source": [
    "## 1. Import Python packages"
   ]
  },
  {
   "cell_type": "code",
   "execution_count": 1,
   "metadata": {
    "collapsed": true,
    "deletable": true,
    "editable": true
   },
   "outputs": [],
   "source": [
    "#Standard library imports\n",
    "from __future__ import print_function, division\n",
    "import os\n",
    "import sys\n",
    "import glob\n",
    "import uuid\n",
    "import shutil\n",
    "\n",
    "#http://www.numpy.org/\n",
    "import numpy as np\n",
    "\n",
    "#http://pandas.pydata.org/\n",
    "import pandas as pd\n",
    "\n",
    "from DataModelDict import DataModelDict as DM\n",
    "\n",
    "#https://github.com/usnistgov/atomman\n",
    "import atomman as am\n",
    "import atomman.lammps as lmp\n",
    "import atomman.unitconvert as uc\n",
    "\n",
    "#https://github.com/usnistgov/iprPy\n",
    "import iprPy"
   ]
  },
  {
   "cell_type": "markdown",
   "metadata": {},
   "source": [
    "## 2. Input parameters\n",
    "\n",
    "- **database** (*str*) - The name of the database to interact with (defined [here](#databases)).\n",
    "\n",
    "- **run_terms** (*dict*) - Defines the commands and directories to use for each number of processors on which this computer can run.\n",
    "    \n",
    "    - **lammps_command** (*str*) -The LAMMPS executable to use.\n",
    "    - **mpi_command** (*str*) - The MPI command to call when LAMMPS is executed.\n",
    "    - **run_directory** (*str*) - The run_directory to prepare the calculations in (defined with databases below)."
   ]
  },
  {
   "cell_type": "code",
   "execution_count": 2,
   "metadata": {
    "collapsed": true
   },
   "outputs": [],
   "source": [
    "database = 'iprhub'\n",
    "\n",
    "run_terms = {}\n",
    "\n",
    "# Define serial run terms\n",
    "run_terms[1] = {}\n",
    "run_terms[1]['lammps_command'] = 'lmp_mpi'\n",
    "run_terms[1]['mpi_command'] = ''\n",
    "\n",
    "# Define 2 core run terms\n",
    "run_terms[2] = {}\n",
    "run_terms[2]['lammps_command'] = 'lmp_mpi'\n",
    "run_terms[2]['mpi_command'] = 'mpiexec -localonly 2'\n",
    "\n",
    "# Define 3 core run terms\n",
    "run_terms[3] = {}\n",
    "run_terms[3]['lammps_command'] = 'lmp_mpi'\n",
    "run_terms[3]['mpi_command'] = 'mpiexec -localonly 3'\n",
    "\n",
    "# Define 4 core run terms\n",
    "run_terms[4] = {}\n",
    "run_terms[4]['lammps_command'] = 'lmp_mpi'\n",
    "run_terms[4]['mpi_command'] = 'mpiexec -localonly 4'"
   ]
  },
  {
   "cell_type": "markdown",
   "metadata": {
    "deletable": true,
    "editable": true
   },
   "source": [
    "### Define databases and run directories <a id=\"databases\"></a>\n",
    "\n",
    "These are specific to the computer this Notebook is running on and the databases that are being accessed."
   ]
  },
  {
   "cell_type": "code",
   "execution_count": 3,
   "metadata": {
    "collapsed": true,
    "deletable": true,
    "editable": true
   },
   "outputs": [],
   "source": [
    "# 'local' is a local directory\n",
    "if database == 'local':\n",
    "    dbase = iprPy.Database('local', \n",
    "                           host='C:\\\\Users\\\\lmh1\\\\Documents\\\\calculations\\\\ipr\\\\library')\n",
    "    \n",
    "    run_terms[1]['run_directory'] = 'C:\\\\Users\\\\lmh1\\\\Documents\\\\calculations\\\\ipr\\\\torun\\\\local\\\\1'\n",
    "    run_terms[2]['run_directory'] = 'C:\\\\Users\\\\lmh1\\\\Documents\\\\calculations\\\\ipr\\\\torun\\\\local\\\\2'\n",
    "    run_terms[3]['run_directory'] = 'C:\\\\Users\\\\lmh1\\\\Documents\\\\calculations\\\\ipr\\\\torun\\\\local\\\\3'\n",
    "    run_terms[4]['run_directory'] = 'C:\\\\Users\\\\lmh1\\\\Documents\\\\calculations\\\\ipr\\\\torun\\\\local\\\\4'\n",
    "\n",
    "# 'test' is a local directory for testing\n",
    "elif database == 'test':\n",
    "    dbase = iprPy.Database('local', \n",
    "                           host='C:\\\\Users\\\\lmh1\\\\Documents\\\\calculations\\\\ipr\\\\library_test')\n",
    "    \n",
    "    run_terms[1]['run_directory'] = 'C:\\\\Users\\\\lmh1\\\\Documents\\\\calculations\\\\ipr\\\\torun\\\\test\\\\1'\n",
    "    run_terms[2]['run_directory'] = 'C:\\\\Users\\\\lmh1\\\\Documents\\\\calculations\\\\ipr\\\\torun\\\\test\\\\2'\n",
    "    run_terms[3]['run_directory'] = 'C:\\\\Users\\\\lmh1\\\\Documents\\\\calculations\\\\ipr\\\\torun\\\\test\\\\3'\n",
    "    run_terms[4]['run_directory'] = 'C:\\\\Users\\\\lmh1\\\\Documents\\\\calculations\\\\ipr\\\\torun\\\\test\\\\4'\n",
    "\n",
    "# 'curator' is a local MDCS curator\n",
    "elif database == 'curator':\n",
    "    dbase = iprPy.Database('curator', \n",
    "                           host='https://iprhub.nist.gov/', \n",
    "                           user='admin', pswd='admin')\n",
    "    \n",
    "    run_terms[1]['run_directory'] = 'C:\\\\Users\\\\lmh1\\\\Documents\\\\calculations\\\\ipr\\\\torun\\\\curator\\\\1'\n",
    "    run_terms[2]['run_directory'] = 'C:\\\\Users\\\\lmh1\\\\Documents\\\\calculations\\\\ipr\\\\torun\\\\curator\\\\2'\n",
    "    run_terms[3]['run_directory'] = 'C:\\\\Users\\\\lmh1\\\\Documents\\\\calculations\\\\ipr\\\\torun\\\\curator\\\\3'\n",
    "    run_terms[4]['run_directory'] = 'C:\\\\Users\\\\lmh1\\\\Documents\\\\calculations\\\\ipr\\\\torun\\\\curator\\\\4'\n",
    "\n",
    "# 'iprhub' is the remote MDCS curator at iprhub\n",
    "elif database == 'iprhub':\n",
    "    dbase = iprPy.Database('curator', \n",
    "                           host='https://iprhub.nist.gov/', \n",
    "                           user='lmh1', \n",
    "                           pswd='C:/users/lmh1/documents/iprhub/iprhub_password.txt',\n",
    "                           cert='C:/users/lmh1/documents/iprhub/iprhub-ca.pem')\n",
    "    \n",
    "    run_terms[1]['run_directory'] = 'C:\\\\Users\\\\lmh1\\\\Documents\\\\calculations\\\\ipr\\\\torun\\\\iprhub\\\\1'\n",
    "    run_terms[2]['run_directory'] = 'C:\\\\Users\\\\lmh1\\\\Documents\\\\calculations\\\\ipr\\\\torun\\\\iprhub\\\\2'\n",
    "    run_terms[3]['run_directory'] = 'C:\\\\Users\\\\lmh1\\\\Documents\\\\calculations\\\\ipr\\\\torun\\\\iprhub\\\\3'\n",
    "    run_terms[4]['run_directory'] = 'C:\\\\Users\\\\lmh1\\\\Documents\\\\calculations\\\\ipr\\\\torun\\\\iprhub\\\\4'"
   ]
  },
  {
   "cell_type": "markdown",
   "metadata": {},
   "source": [
    "## 3. Setup"
   ]
  },
  {
   "cell_type": "markdown",
   "metadata": {},
   "source": [
    "### Sort element symbols by primary crystal prototype(s)"
   ]
  },
  {
   "cell_type": "code",
   "execution_count": 4,
   "metadata": {
    "collapsed": true
   },
   "outputs": [],
   "source": [
    "symbols = {}\n",
    "symbols['A1--Cu--fcc'] = ['Ne', 'Al', 'AlS', 'Ar', 'Ca', 'Fe', 'FeS', 'Ni', 'Cu', 'CuS', \n",
    "                          'Kr', 'Sr', 'Rh', 'Pd', 'Ag', 'Xe', 'Ir', 'Pt', 'Au', 'Pb', \n",
    "                          'Ac', 'Ce', 'Yb', 'Th']\n",
    "symbols['A2--W--bcc'] = ['Li', 'Na', 'K', 'V', 'Cr', 'Fe', 'FeS', 'Rb', 'Nb', 'Mo', \n",
    "                         'Cs', 'Ba', 'Ta', 'W', 'Eu']\n",
    "symbols['A3--Mg--hcp'] = ['H', 'He', 'Be', 'Mg', 'MgS', 'Sc', 'Ti', 'Co', 'Zn', 'Y', \n",
    "                          'Zr', 'Tc', 'Ru', 'Cd', 'Hf', 'Re', 'Os' 'Tl', 'Gd', 'Tb', \n",
    "                          'Dy', 'Ho', 'Er', 'Tm', 'Lu']\n",
    "symbols['A4--C--dc'] = ['C', 'Si', 'SiS', 'Ge', 'Sn']"
   ]
  },
  {
   "cell_type": "markdown",
   "metadata": {
    "deletable": true,
    "editable": true
   },
   "source": [
    "### Build dataframes of records for each primary crystal prototype"
   ]
  },
  {
   "cell_type": "code",
   "execution_count": 5,
   "metadata": {
    "collapsed": false,
    "deletable": true,
    "editable": true
   },
   "outputs": [
    {
     "name": "stdout",
     "output_type": "stream",
     "text": [
      "17532 total calculation_system_relax records\n"
     ]
    }
   ],
   "source": [
    "calculation_system_relax_df = dbase.get_records_df(style='calculation_system_relax', full=False, flat=True)\n",
    "print(len(calculation_system_relax_df), 'total calculation_system_relax records')"
   ]
  },
  {
   "cell_type": "code",
   "execution_count": 6,
   "metadata": {
    "collapsed": false
   },
   "outputs": [
    {
     "name": "stdout",
     "output_type": "stream",
     "text": [
      "320 primary fcc records loaded\n"
     ]
    }
   ],
   "source": [
    "fcc_df = calculation_system_relax_df[calculation_system_relax_df.family=='A1--Cu--fcc']\n",
    "fcc_df = fcc_df[fcc_df.symbols.isin(symbols['A1--Cu--fcc'])]\n",
    "\n",
    "fcc_records = dbase.get_records(name=fcc_df.calc_key.tolist())\n",
    "print(len(fcc_records), 'primary fcc records loaded')"
   ]
  },
  {
   "cell_type": "code",
   "execution_count": 7,
   "metadata": {
    "collapsed": false,
    "deletable": true,
    "editable": true
   },
   "outputs": [
    {
     "name": "stdout",
     "output_type": "stream",
     "text": [
      "128 primary bcc records loaded\n"
     ]
    }
   ],
   "source": [
    "bcc_df = calculation_system_relax_df[calculation_system_relax_df.family=='A2--W--bcc']\n",
    "bcc_df = bcc_df[bcc_df.symbols.isin(symbols['A2--W--bcc'])]\n",
    "\n",
    "bcc_records = dbase.get_records(name=bcc_df.calc_key.tolist())\n",
    "print(len(bcc_records), 'primary bcc records loaded')"
   ]
  },
  {
   "cell_type": "code",
   "execution_count": 8,
   "metadata": {
    "collapsed": false,
    "deletable": true,
    "editable": true
   },
   "outputs": [
    {
     "name": "stdout",
     "output_type": "stream",
     "text": [
      "104 primary hcp records loaded\n"
     ]
    }
   ],
   "source": [
    "hcp_df = calculation_system_relax_df[calculation_system_relax_df.family=='A3--Mg--hcp']\n",
    "hcp_df = hcp_df[hcp_df.symbols.isin(symbols['A3--Mg--hcp'])]\n",
    "\n",
    "hcp_records = dbase.get_records(name=hcp_df.calc_key.tolist())\n",
    "print(len(hcp_records), 'primary hcp records loaded')"
   ]
  },
  {
   "cell_type": "code",
   "execution_count": 9,
   "metadata": {
    "collapsed": false,
    "deletable": true,
    "editable": true
   },
   "outputs": [
    {
     "name": "stdout",
     "output_type": "stream",
     "text": [
      "6 primary dc records loaded\n"
     ]
    }
   ],
   "source": [
    "dc_df = calculation_system_relax_df[calculation_system_relax_df.family=='A4--C--dc']\n",
    "dc_df = dc_df[dc_df.symbols.isin(symbols['A4--C--dc'])]\n",
    "\n",
    "dc_records = dbase.get_records(name=dc_df.calc_key.tolist())\n",
    "print(len(dc_records), 'primary dc records loaded')"
   ]
  },
  {
   "cell_type": "code",
   "execution_count": 10,
   "metadata": {
    "collapsed": false
   },
   "outputs": [
    {
     "name": "stdout",
     "output_type": "stream",
     "text": [
      "558 primary records loaded\n"
     ]
    }
   ],
   "source": [
    "primary_records = fcc_records + bcc_records + hcp_records + dc_records\n",
    "print(len(primary_records), 'primary records loaded')"
   ]
  },
  {
   "cell_type": "markdown",
   "metadata": {
    "deletable": true,
    "editable": true
   },
   "source": [
    "## 4. surface_energy"
   ]
  },
  {
   "cell_type": "markdown",
   "metadata": {
    "deletable": true,
    "editable": true
   },
   "source": [
    "### Define calculation-specific parameters\n",
    "\n",
    "- **n** (*int*) - The number of processors to use for this style of calculation.\n",
    "- **sizemults** (*str*) - Space-delimited string of size multipliers to use for the systems."
   ]
  },
  {
   "cell_type": "code",
   "execution_count": 11,
   "metadata": {
    "collapsed": true,
    "deletable": true,
    "editable": true
   },
   "outputs": [],
   "source": [
    "n = 1\n",
    "sizemults = '5 5 10'"
   ]
  },
  {
   "cell_type": "code",
   "execution_count": 12,
   "metadata": {
    "collapsed": true
   },
   "outputs": [],
   "source": [
    "run_directory = run_terms[n]['run_directory']\n",
    "\n",
    "input_dict = {}\n",
    "input_dict['calculation_style'] = 'surface_energy'\n",
    "input_dict['lammps_command'] = run_terms[n]['lammps_command']\n",
    "input_dict['mpi_command'] = run_terms[n]['mpi_command']\n",
    "input_dict['sizemults'] = sizemults\n",
    "input_dict['parent_records'] = primary_records"
   ]
  },
  {
   "cell_type": "markdown",
   "metadata": {
    "deletable": true,
    "editable": true
   },
   "source": [
    "Call prepare function"
   ]
  },
  {
   "cell_type": "code",
   "execution_count": 13,
   "metadata": {
    "collapsed": false,
    "deletable": true,
    "editable": true
   },
   "outputs": [
    {
     "name": "stderr",
     "output_type": "stream",
     "text": [
      "c:\\users\\lmh1\\documents\\python-packages\\atomman\\atomman\\core\\ElasticConstants.py:93: RuntimeWarning: divide by zero encountered in true_divide\n",
      "  value[np.isclose(value/value.max(), 0.0, atol=1e-9)] = 0.0\n",
      "c:\\users\\lmh1\\documents\\python-packages\\atomman\\atomman\\core\\ElasticConstants.py:93: RuntimeWarning: invalid value encountered in true_divide\n",
      "  value[np.isclose(value/value.max(), 0.0, atol=1e-9)] = 0.0\n"
     ]
    }
   ],
   "source": [
    "iprPy.highthroughput.prepare(dbase, run_directory, input_dict=input_dict)"
   ]
  },
  {
   "cell_type": "markdown",
   "metadata": {
    "deletable": true,
    "editable": true
   },
   "source": [
    "## 5. stacking_fault_multi"
   ]
  },
  {
   "cell_type": "markdown",
   "metadata": {
    "deletable": true,
    "editable": true
   },
   "source": [
    "### Define calculation-specific parameters\n",
    "\n",
    "- **n** (*int*) - The number of processors to use for this style of calculation.\n",
    "- **sizemults** (*str*) - Space-delimited string of size multipliers to use for the systems.\n",
    "- **numshifts1** (*int*) - Number of steps to measure along the first shift vector.\n",
    "- **numshifts2** (*int*) - Number of steps to measure along the second shift vector."
   ]
  },
  {
   "cell_type": "code",
   "execution_count": 17,
   "metadata": {
    "collapsed": true,
    "deletable": true,
    "editable": true
   },
   "outputs": [],
   "source": [
    "n = 1\n",
    "sizemults = '5 5 10'\n",
    "numshifts1 = 51 \n",
    "numshifts2 = 51"
   ]
  },
  {
   "cell_type": "code",
   "execution_count": 18,
   "metadata": {
    "collapsed": true
   },
   "outputs": [],
   "source": [
    "run_directory = run_terms[n]['run_directory']\n",
    "\n",
    "input_dict = {}\n",
    "input_dict['calculation_style'] = 'stacking_fault_multi'\n",
    "input_dict['lammps_command'] = run_terms[n]['lammps_command']\n",
    "input_dict['mpi_command'] = run_terms[n]['mpi_command']\n",
    "input_dict['sizemults'] = sizemults\n",
    "input_dict['stackingfault_numshifts1'] = str(numshifts1)\n",
    "input_dict['stackingfault_numshifts2'] = str(numshifts2)\n",
    "input_dict['parent_records'] = primary_records"
   ]
  },
  {
   "cell_type": "markdown",
   "metadata": {
    "deletable": true,
    "editable": true
   },
   "source": [
    "Call prepare function"
   ]
  },
  {
   "cell_type": "code",
   "execution_count": 19,
   "metadata": {
    "collapsed": true,
    "deletable": true,
    "editable": true
   },
   "outputs": [],
   "source": [
    "iprPy.highthroughput.prepare(dbase, run_directory, input_dict=input_dict)"
   ]
  },
  {
   "cell_type": "markdown",
   "metadata": {
    "deletable": true,
    "editable": true
   },
   "source": [
    "## 6. point_defect_static"
   ]
  },
  {
   "cell_type": "markdown",
   "metadata": {
    "deletable": true,
    "editable": true
   },
   "source": [
    "### Define calculation-specific parameters\n",
    "\n",
    "- **n** (*int*) - The number of processors to use for this style of calculation.\n",
    "- **sizemults** (*str*) - Space-delimited string of size multipliers to use for the systems."
   ]
  },
  {
   "cell_type": "code",
   "execution_count": 14,
   "metadata": {
    "collapsed": true
   },
   "outputs": [],
   "source": [
    "n = 1\n",
    "sizemults = '10 10 10'"
   ]
  },
  {
   "cell_type": "code",
   "execution_count": 15,
   "metadata": {
    "collapsed": true
   },
   "outputs": [],
   "source": [
    "run_directory = run_terms[n]['run_directory']\n",
    "\n",
    "input_dict = {}\n",
    "input_dict['calculation_style'] = 'point_defect_static'\n",
    "input_dict['lammps_command'] = run_terms[n]['lammps_command']\n",
    "input_dict['mpi_command'] = run_terms[n]['mpi_command']\n",
    "input_dict['sizemults'] = sizemults\n",
    "input_dict['parent_records'] = primary_records"
   ]
  },
  {
   "cell_type": "markdown",
   "metadata": {
    "deletable": true,
    "editable": true
   },
   "source": [
    "Call prepare function"
   ]
  },
  {
   "cell_type": "code",
   "execution_count": 16,
   "metadata": {
    "collapsed": true,
    "deletable": true,
    "editable": true
   },
   "outputs": [],
   "source": [
    "iprPy.highthroughput.prepare(dbase, run_directory, input_dict=input_dict)"
   ]
  },
  {
   "cell_type": "markdown",
   "metadata": {
    "deletable": true,
    "editable": true
   },
   "source": [
    "## 7. dislocation_monopole"
   ]
  },
  {
   "cell_type": "markdown",
   "metadata": {
    "deletable": true,
    "editable": true
   },
   "source": [
    "### Define calculation-specific parameters\n",
    "\n",
    "- **n** (*int*) - The number of processors to use for this style of calculation.\n",
    "- **sizemults** (*dict*) - Space-delimited string of size multipliers to use for each dislocation type.\n",
    "- **annealtemperature** (*float*) - Temperature at which to anneal the system."
   ]
  },
  {
   "cell_type": "code",
   "execution_count": 20,
   "metadata": {
    "collapsed": true
   },
   "outputs": [],
   "source": [
    "n = 4\n",
    "\n",
    "sizemults = {}\n",
    "sizemults['A1--Cu--fcc--110-screw'] = '-28 28 -40 40 0 2'\n",
    "sizemults['A1--Cu--fcc--111-edge'] = '-49 49 -40 40 0 2'\n",
    "sizemults['A2--W--bcc--110-edge'] = '-40 40 -28 28 0 2'\n",
    "sizemults['A2--W--bcc--111-screw'] = '-28 28 -49 49 0 2'\n",
    "sizemults['A2--W--bcc--112-edge'] = '-40 40 -49 49 0 2'\n",
    "\n",
    "annealtemperature = 50"
   ]
  },
  {
   "cell_type": "markdown",
   "metadata": {},
   "source": [
    "Call prepare"
   ]
  },
  {
   "cell_type": "code",
   "execution_count": 21,
   "metadata": {
    "collapsed": false
   },
   "outputs": [],
   "source": [
    "run_directory = run_terms[n]['run_directory']\n",
    "\n",
    "for dislocation_name in sizemults.keys():\n",
    "    input_dict = {}\n",
    "    input_dict['calculation_style'] = 'dislocation_monopole'\n",
    "    input_dict['lammps_command'] = run_terms[n]['lammps_command']\n",
    "    input_dict['mpi_command'] = run_terms[n]['mpi_command']\n",
    "    input_dict['annealtemperature'] = str(annealtemperature)\n",
    "    input_dict['parent_records'] = primary_records\n",
    "    input_dict['dislocation_name'] = dislocation_name\n",
    "    input_dict['sizemults'] = sizemults[dislocation_name]\n",
    "    \n",
    "    iprPy.highthroughput.prepare(dbase, run_directory, input_dict=input_dict)"
   ]
  }
 ],
 "metadata": {
  "kernelspec": {
   "display_name": "Python 2",
   "language": "python",
   "name": "python2"
  },
  "language_info": {
   "codemirror_mode": {
    "name": "ipython",
    "version": 2
   },
   "file_extension": ".py",
   "mimetype": "text/x-python",
   "name": "python",
   "nbconvert_exporter": "python",
   "pygments_lexer": "ipython2",
   "version": "2.7.13"
  }
 },
 "nbformat": 4,
 "nbformat_minor": 2
}
