{
 "cells": [
  {
   "cell_type": "markdown",
   "metadata": {},
   "source": [
    "# Reference atomic structures\n",
    "\n",
    "This Notebook gets reference atomic crystal structures from various external sites and compares them to known crystal prototype structures."
   ]
  },
  {
   "cell_type": "markdown",
   "metadata": {},
   "source": [
    "**Library imports**"
   ]
  },
  {
   "cell_type": "code",
   "execution_count": 1,
   "metadata": {},
   "outputs": [
    {
     "name": "stdout",
     "output_type": "stream",
     "text": [
      "iprPy version 0.8.0\n"
     ]
    }
   ],
   "source": [
    "# Standard Python libraries\n",
    "from __future__ import (print_function, division, absolute_import,\n",
    "                        unicode_literals)\n",
    "import os\n",
    "import glob\n",
    "\n",
    "# http://www.numpy.org/\n",
    "import numpy as np\n",
    "\n",
    "# https://pandas.pydata.org/\n",
    "import pandas as pd\n",
    "\n",
    "# https://github.com/usnistgov/atomman\n",
    "import atomman as am\n",
    "import atomman.lammps as lmp\n",
    "\n",
    "# https://github.com/usnistgov/iprPy\n",
    "import iprPy\n",
    "print('iprPy version', iprPy.__version__)"
   ]
  },
  {
   "cell_type": "markdown",
   "metadata": {},
   "source": [
    "## 1. Build unique sets of elements from included potentials"
   ]
  },
  {
   "cell_type": "markdown",
   "metadata": {},
   "source": [
    "### Load database"
   ]
  },
  {
   "cell_type": "code",
   "execution_count": 2,
   "metadata": {},
   "outputs": [],
   "source": [
    "database = iprPy.load_database('master')\n",
    "run_directory = iprPy.load_database('master_1')"
   ]
  },
  {
   "cell_type": "markdown",
   "metadata": {},
   "source": [
    "### Get all elements lists from potentials"
   ]
  },
  {
   "cell_type": "code",
   "execution_count": 3,
   "metadata": {},
   "outputs": [],
   "source": [
    "elements_set = set()\n",
    "for potential_record in database.get_records(style='potential_LAMMPS'):\n",
    "    potential = lmp.Potential(potential_record.content)\n",
    "    elements = potential.elements()\n",
    "    elements.sort()\n",
    "    elements_set.add(' '.join(elements))"
   ]
  },
  {
   "cell_type": "markdown",
   "metadata": {},
   "source": [
    "## 2. Fetch Materials Project reference structures"
   ]
  },
  {
   "cell_type": "markdown",
   "metadata": {},
   "source": [
    "### Define get_mp_structures() function"
   ]
  },
  {
   "cell_type": "code",
   "execution_count": 4,
   "metadata": {},
   "outputs": [],
   "source": [
    "def get_mp_structures(elements, api_key=None, lib_directory=None):\n",
    "    \"\"\"\n",
    "    Accesses the Materials Project and downloads all structures for a list of\n",
    "    elements as poscar files.\n",
    "    \n",
    "    Parameters\n",
    "    ----------\n",
    "    elements : list\n",
    "        A list of element symbols.\n",
    "    api_key : str, optional\n",
    "        The user's Materials Project API key. If not given, will use \"MAPI_KEY\"\n",
    "        environment variable\n",
    "    lib_directory : str\n",
    "        Path to the lib_directory to save the poscar files to.  Default uses\n",
    "        the iprPy library/dft_structures directory.\n",
    "    \"\"\"\n",
    "    # Function-specific imports\n",
    "    import pymatgen as pmg\n",
    "    from pymatgen.ext.matproj import MPRester\n",
    "    \n",
    "    # Define subset generator\n",
    "    def subsets(fullset):\n",
    "        for i, item in enumerate(fullset):\n",
    "            yield [item]\n",
    "            if len(fullset) > 1:\n",
    "                for subset in subsets(fullset[i+1:]):\n",
    "                    yield [item] + subset\n",
    "    \n",
    "    # Handle lib_directory\n",
    "    if lib_directory is None:\n",
    "        lib_directory = os.path.join(os.path.dirname(iprPy.rootdir), 'library', 'ref')\n",
    "    lib_directory = os.path.abspath(lib_directory)\n",
    "    \n",
    "    elements.sort()\n",
    "    \n",
    "    # Open connection to Materials Project\n",
    "    with MPRester(api_key) as m:\n",
    "        \n",
    "        # Loop over subsets of elements\n",
    "        for subelements in subsets(elements):\n",
    "            \n",
    "            # Set comp_directory\n",
    "            elements_string = '-'.join(subelements)\n",
    "            comp_directory = os.path.join(lib_directory, elements_string)\n",
    "            if not os.path.isdir(comp_directory):\n",
    "                os.makedirs(comp_directory)\n",
    "            \n",
    "            # Build list of downloaded entries\n",
    "            have = []\n",
    "            for fname in glob.iglob(os.path.join(comp_directory, 'mp-*.poscar')):\n",
    "                have.append(os.path.splitext(os.path.basename(fname))[0])\n",
    "            #print('Have', len(have), elements_string, 'records')\n",
    "            \n",
    "            # Query MP for all entries corresponding to the elements\n",
    "            entries = m.query({\"elements\": subelements}, [\"material_id\"])\n",
    "            \n",
    "            # Add entries to the list if not there\n",
    "            missing = []\n",
    "            for entry in entries:\n",
    "                if entry['material_id'] not in have and entry['material_id'] not in missing:\n",
    "                    missing.append(entry['material_id'])\n",
    "            #print('Missing', len(missing), elements_string, 'records')\n",
    "            \n",
    "            # Download missing entries\n",
    "            entries = m.query({\"material_id\": {\"$in\": missing}}, ['material_id', 'cif'])\n",
    "            \n",
    "            # Convert cif to poscar and save\n",
    "            for entry in entries:\n",
    "                struct = pmg.Structure.from_str(entry['cif'], fmt='cif')\n",
    "                struct = pmg.symmetry.analyzer.SpacegroupAnalyzer(struct).get_conventional_standard_structure()\n",
    "                system = am.load('pymatgen_Structure', struct)\n",
    "                system = system.normalize()\n",
    "                structure_file = os.path.join(comp_directory, entry['material_id']+'.poscar')\n",
    "                system.dump('poscar', f=structure_file)\n",
    "                print('Added', entry['material_id'])"
   ]
  },
  {
   "cell_type": "markdown",
   "metadata": {},
   "source": [
    "### Get reference structures"
   ]
  },
  {
   "cell_type": "code",
   "execution_count": 6,
   "metadata": {},
   "outputs": [
    {
     "ename": "KeyboardInterrupt",
     "evalue": "",
     "output_type": "error",
     "traceback": [
      "\u001b[1;31m---------------------------------------------------------------------------\u001b[0m",
      "\u001b[1;31mTypeError\u001b[0m                                 Traceback (most recent call last)",
      "\u001b[1;32m~\\AppData\\Local\\Continuum\\anaconda3\\lib\\site-packages\\urllib3\\connectionpool.py\u001b[0m in \u001b[0;36m_make_request\u001b[1;34m(self, conn, method, url, timeout, chunked, **httplib_request_kw)\u001b[0m\n\u001b[0;32m    379\u001b[0m             \u001b[1;32mtry\u001b[0m\u001b[1;33m:\u001b[0m  \u001b[1;31m# Python 2.7, use buffering of HTTP responses\u001b[0m\u001b[1;33m\u001b[0m\u001b[0m\n\u001b[1;32m--> 380\u001b[1;33m                 \u001b[0mhttplib_response\u001b[0m \u001b[1;33m=\u001b[0m \u001b[0mconn\u001b[0m\u001b[1;33m.\u001b[0m\u001b[0mgetresponse\u001b[0m\u001b[1;33m(\u001b[0m\u001b[0mbuffering\u001b[0m\u001b[1;33m=\u001b[0m\u001b[1;32mTrue\u001b[0m\u001b[1;33m)\u001b[0m\u001b[1;33m\u001b[0m\u001b[0m\n\u001b[0m\u001b[0;32m    381\u001b[0m             \u001b[1;32mexcept\u001b[0m \u001b[0mTypeError\u001b[0m\u001b[1;33m:\u001b[0m  \u001b[1;31m# Python 2.6 and older, Python 3\u001b[0m\u001b[1;33m\u001b[0m\u001b[0m\n",
      "\u001b[1;31mTypeError\u001b[0m: getresponse() got an unexpected keyword argument 'buffering'",
      "\nDuring handling of the above exception, another exception occurred:\n",
      "\u001b[1;31mKeyboardInterrupt\u001b[0m                         Traceback (most recent call last)",
      "\u001b[1;32m<ipython-input-6-d18db5dede1a>\u001b[0m in \u001b[0;36m<module>\u001b[1;34m()\u001b[0m\n\u001b[0;32m      5\u001b[0m \u001b[1;33m\u001b[0m\u001b[0m\n\u001b[0;32m      6\u001b[0m \u001b[1;32mfor\u001b[0m \u001b[0melements\u001b[0m \u001b[1;32min\u001b[0m \u001b[0melements_set\u001b[0m\u001b[1;33m:\u001b[0m\u001b[1;33m\u001b[0m\u001b[0m\n\u001b[1;32m----> 7\u001b[1;33m     \u001b[0mget_mp_structures\u001b[0m\u001b[1;33m(\u001b[0m\u001b[0melements\u001b[0m\u001b[1;33m.\u001b[0m\u001b[0msplit\u001b[0m\u001b[1;33m(\u001b[0m\u001b[1;33m)\u001b[0m\u001b[1;33m,\u001b[0m \u001b[0mapi_key\u001b[0m\u001b[1;33m=\u001b[0m\u001b[0mmp_api_key\u001b[0m\u001b[1;33m)\u001b[0m\u001b[1;33m\u001b[0m\u001b[0m\n\u001b[0m",
      "\u001b[1;32m<ipython-input-4-47fcffdfcb77>\u001b[0m in \u001b[0;36mget_mp_structures\u001b[1;34m(elements, api_key, lib_directory)\u001b[0m\n\u001b[0;32m     53\u001b[0m \u001b[1;33m\u001b[0m\u001b[0m\n\u001b[0;32m     54\u001b[0m             \u001b[1;31m# Query MP for all entries corresponding to the elements\u001b[0m\u001b[1;33m\u001b[0m\u001b[1;33m\u001b[0m\u001b[0m\n\u001b[1;32m---> 55\u001b[1;33m             \u001b[0mentries\u001b[0m \u001b[1;33m=\u001b[0m \u001b[0mm\u001b[0m\u001b[1;33m.\u001b[0m\u001b[0mquery\u001b[0m\u001b[1;33m(\u001b[0m\u001b[1;33m{\u001b[0m\u001b[1;34m\"elements\"\u001b[0m\u001b[1;33m:\u001b[0m \u001b[0msubelements\u001b[0m\u001b[1;33m}\u001b[0m\u001b[1;33m,\u001b[0m \u001b[1;33m[\u001b[0m\u001b[1;34m\"material_id\"\u001b[0m\u001b[1;33m]\u001b[0m\u001b[1;33m)\u001b[0m\u001b[1;33m\u001b[0m\u001b[0m\n\u001b[0m\u001b[0;32m     56\u001b[0m \u001b[1;33m\u001b[0m\u001b[0m\n\u001b[0;32m     57\u001b[0m             \u001b[1;31m# Add entries to the list if not there\u001b[0m\u001b[1;33m\u001b[0m\u001b[1;33m\u001b[0m\u001b[0m\n",
      "\u001b[1;32m~\\AppData\\Local\\Continuum\\anaconda3\\lib\\site-packages\\pymatgen\\ext\\matproj.py\u001b[0m in \u001b[0;36mquery\u001b[1;34m(self, criteria, properties, mp_decode)\u001b[0m\n\u001b[0;32m    695\u001b[0m                    \"properties\": json.dumps(properties)}\n\u001b[0;32m    696\u001b[0m         return self._make_request(\"/query\", payload=payload, method=\"POST\",\n\u001b[1;32m--> 697\u001b[1;33m                                   mp_decode=mp_decode)\n\u001b[0m\u001b[0;32m    698\u001b[0m \u001b[1;33m\u001b[0m\u001b[0m\n\u001b[0;32m    699\u001b[0m     def submit_structures(self, structures, authors, projects=None,\n",
      "\u001b[1;32m~\\AppData\\Local\\Continuum\\anaconda3\\lib\\site-packages\\pymatgen\\ext\\matproj.py\u001b[0m in \u001b[0;36m_make_request\u001b[1;34m(self, sub_url, payload, method, mp_decode)\u001b[0m\n\u001b[0;32m    135\u001b[0m         \u001b[1;32mtry\u001b[0m\u001b[1;33m:\u001b[0m\u001b[1;33m\u001b[0m\u001b[0m\n\u001b[0;32m    136\u001b[0m             \u001b[1;32mif\u001b[0m \u001b[0mmethod\u001b[0m \u001b[1;33m==\u001b[0m \u001b[1;34m\"POST\"\u001b[0m\u001b[1;33m:\u001b[0m\u001b[1;33m\u001b[0m\u001b[0m\n\u001b[1;32m--> 137\u001b[1;33m                 \u001b[0mresponse\u001b[0m \u001b[1;33m=\u001b[0m \u001b[0mself\u001b[0m\u001b[1;33m.\u001b[0m\u001b[0msession\u001b[0m\u001b[1;33m.\u001b[0m\u001b[0mpost\u001b[0m\u001b[1;33m(\u001b[0m\u001b[0murl\u001b[0m\u001b[1;33m,\u001b[0m \u001b[0mdata\u001b[0m\u001b[1;33m=\u001b[0m\u001b[0mpayload\u001b[0m\u001b[1;33m,\u001b[0m \u001b[0mverify\u001b[0m\u001b[1;33m=\u001b[0m\u001b[1;32mTrue\u001b[0m\u001b[1;33m)\u001b[0m\u001b[1;33m\u001b[0m\u001b[0m\n\u001b[0m\u001b[0;32m    138\u001b[0m             \u001b[1;32melse\u001b[0m\u001b[1;33m:\u001b[0m\u001b[1;33m\u001b[0m\u001b[0m\n\u001b[0;32m    139\u001b[0m                 \u001b[0mresponse\u001b[0m \u001b[1;33m=\u001b[0m \u001b[0mself\u001b[0m\u001b[1;33m.\u001b[0m\u001b[0msession\u001b[0m\u001b[1;33m.\u001b[0m\u001b[0mget\u001b[0m\u001b[1;33m(\u001b[0m\u001b[0murl\u001b[0m\u001b[1;33m,\u001b[0m \u001b[0mparams\u001b[0m\u001b[1;33m=\u001b[0m\u001b[0mpayload\u001b[0m\u001b[1;33m,\u001b[0m \u001b[0mverify\u001b[0m\u001b[1;33m=\u001b[0m\u001b[1;32mTrue\u001b[0m\u001b[1;33m)\u001b[0m\u001b[1;33m\u001b[0m\u001b[0m\n",
      "\u001b[1;32m~\\AppData\\Local\\Continuum\\anaconda3\\lib\\site-packages\\requests\\sessions.py\u001b[0m in \u001b[0;36mpost\u001b[1;34m(self, url, data, json, **kwargs)\u001b[0m\n\u001b[0;32m    553\u001b[0m         \"\"\"\n\u001b[0;32m    554\u001b[0m \u001b[1;33m\u001b[0m\u001b[0m\n\u001b[1;32m--> 555\u001b[1;33m         \u001b[1;32mreturn\u001b[0m \u001b[0mself\u001b[0m\u001b[1;33m.\u001b[0m\u001b[0mrequest\u001b[0m\u001b[1;33m(\u001b[0m\u001b[1;34m'POST'\u001b[0m\u001b[1;33m,\u001b[0m \u001b[0murl\u001b[0m\u001b[1;33m,\u001b[0m \u001b[0mdata\u001b[0m\u001b[1;33m=\u001b[0m\u001b[0mdata\u001b[0m\u001b[1;33m,\u001b[0m \u001b[0mjson\u001b[0m\u001b[1;33m=\u001b[0m\u001b[0mjson\u001b[0m\u001b[1;33m,\u001b[0m \u001b[1;33m**\u001b[0m\u001b[0mkwargs\u001b[0m\u001b[1;33m)\u001b[0m\u001b[1;33m\u001b[0m\u001b[0m\n\u001b[0m\u001b[0;32m    556\u001b[0m \u001b[1;33m\u001b[0m\u001b[0m\n\u001b[0;32m    557\u001b[0m     \u001b[1;32mdef\u001b[0m \u001b[0mput\u001b[0m\u001b[1;33m(\u001b[0m\u001b[0mself\u001b[0m\u001b[1;33m,\u001b[0m \u001b[0murl\u001b[0m\u001b[1;33m,\u001b[0m \u001b[0mdata\u001b[0m\u001b[1;33m=\u001b[0m\u001b[1;32mNone\u001b[0m\u001b[1;33m,\u001b[0m \u001b[1;33m**\u001b[0m\u001b[0mkwargs\u001b[0m\u001b[1;33m)\u001b[0m\u001b[1;33m:\u001b[0m\u001b[1;33m\u001b[0m\u001b[0m\n",
      "\u001b[1;32m~\\AppData\\Local\\Continuum\\anaconda3\\lib\\site-packages\\requests\\sessions.py\u001b[0m in \u001b[0;36mrequest\u001b[1;34m(self, method, url, params, data, headers, cookies, files, auth, timeout, allow_redirects, proxies, hooks, stream, verify, cert, json)\u001b[0m\n\u001b[0;32m    506\u001b[0m         }\n\u001b[0;32m    507\u001b[0m         \u001b[0msend_kwargs\u001b[0m\u001b[1;33m.\u001b[0m\u001b[0mupdate\u001b[0m\u001b[1;33m(\u001b[0m\u001b[0msettings\u001b[0m\u001b[1;33m)\u001b[0m\u001b[1;33m\u001b[0m\u001b[0m\n\u001b[1;32m--> 508\u001b[1;33m         \u001b[0mresp\u001b[0m \u001b[1;33m=\u001b[0m \u001b[0mself\u001b[0m\u001b[1;33m.\u001b[0m\u001b[0msend\u001b[0m\u001b[1;33m(\u001b[0m\u001b[0mprep\u001b[0m\u001b[1;33m,\u001b[0m \u001b[1;33m**\u001b[0m\u001b[0msend_kwargs\u001b[0m\u001b[1;33m)\u001b[0m\u001b[1;33m\u001b[0m\u001b[0m\n\u001b[0m\u001b[0;32m    509\u001b[0m \u001b[1;33m\u001b[0m\u001b[0m\n\u001b[0;32m    510\u001b[0m         \u001b[1;32mreturn\u001b[0m \u001b[0mresp\u001b[0m\u001b[1;33m\u001b[0m\u001b[0m\n",
      "\u001b[1;32m~\\AppData\\Local\\Continuum\\anaconda3\\lib\\site-packages\\requests\\sessions.py\u001b[0m in \u001b[0;36msend\u001b[1;34m(self, request, **kwargs)\u001b[0m\n\u001b[0;32m    616\u001b[0m \u001b[1;33m\u001b[0m\u001b[0m\n\u001b[0;32m    617\u001b[0m         \u001b[1;31m# Send the request\u001b[0m\u001b[1;33m\u001b[0m\u001b[1;33m\u001b[0m\u001b[0m\n\u001b[1;32m--> 618\u001b[1;33m         \u001b[0mr\u001b[0m \u001b[1;33m=\u001b[0m \u001b[0madapter\u001b[0m\u001b[1;33m.\u001b[0m\u001b[0msend\u001b[0m\u001b[1;33m(\u001b[0m\u001b[0mrequest\u001b[0m\u001b[1;33m,\u001b[0m \u001b[1;33m**\u001b[0m\u001b[0mkwargs\u001b[0m\u001b[1;33m)\u001b[0m\u001b[1;33m\u001b[0m\u001b[0m\n\u001b[0m\u001b[0;32m    619\u001b[0m \u001b[1;33m\u001b[0m\u001b[0m\n\u001b[0;32m    620\u001b[0m         \u001b[1;31m# Total elapsed time of the request (approximately)\u001b[0m\u001b[1;33m\u001b[0m\u001b[1;33m\u001b[0m\u001b[0m\n",
      "\u001b[1;32m~\\AppData\\Local\\Continuum\\anaconda3\\lib\\site-packages\\requests\\adapters.py\u001b[0m in \u001b[0;36msend\u001b[1;34m(self, request, stream, timeout, verify, cert, proxies)\u001b[0m\n\u001b[0;32m    438\u001b[0m                     \u001b[0mdecode_content\u001b[0m\u001b[1;33m=\u001b[0m\u001b[1;32mFalse\u001b[0m\u001b[1;33m,\u001b[0m\u001b[1;33m\u001b[0m\u001b[0m\n\u001b[0;32m    439\u001b[0m                     \u001b[0mretries\u001b[0m\u001b[1;33m=\u001b[0m\u001b[0mself\u001b[0m\u001b[1;33m.\u001b[0m\u001b[0mmax_retries\u001b[0m\u001b[1;33m,\u001b[0m\u001b[1;33m\u001b[0m\u001b[0m\n\u001b[1;32m--> 440\u001b[1;33m                     \u001b[0mtimeout\u001b[0m\u001b[1;33m=\u001b[0m\u001b[0mtimeout\u001b[0m\u001b[1;33m\u001b[0m\u001b[0m\n\u001b[0m\u001b[0;32m    441\u001b[0m                 )\n\u001b[0;32m    442\u001b[0m \u001b[1;33m\u001b[0m\u001b[0m\n",
      "\u001b[1;32m~\\AppData\\Local\\Continuum\\anaconda3\\lib\\site-packages\\urllib3\\connectionpool.py\u001b[0m in \u001b[0;36murlopen\u001b[1;34m(self, method, url, body, headers, retries, redirect, assert_same_host, timeout, pool_timeout, release_conn, chunked, body_pos, **response_kw)\u001b[0m\n\u001b[0;32m    599\u001b[0m                                                   \u001b[0mtimeout\u001b[0m\u001b[1;33m=\u001b[0m\u001b[0mtimeout_obj\u001b[0m\u001b[1;33m,\u001b[0m\u001b[1;33m\u001b[0m\u001b[0m\n\u001b[0;32m    600\u001b[0m                                                   \u001b[0mbody\u001b[0m\u001b[1;33m=\u001b[0m\u001b[0mbody\u001b[0m\u001b[1;33m,\u001b[0m \u001b[0mheaders\u001b[0m\u001b[1;33m=\u001b[0m\u001b[0mheaders\u001b[0m\u001b[1;33m,\u001b[0m\u001b[1;33m\u001b[0m\u001b[0m\n\u001b[1;32m--> 601\u001b[1;33m                                                   chunked=chunked)\n\u001b[0m\u001b[0;32m    602\u001b[0m \u001b[1;33m\u001b[0m\u001b[0m\n\u001b[0;32m    603\u001b[0m             \u001b[1;31m# If we're going to release the connection in ``finally:``, then\u001b[0m\u001b[1;33m\u001b[0m\u001b[1;33m\u001b[0m\u001b[0m\n",
      "\u001b[1;32m~\\AppData\\Local\\Continuum\\anaconda3\\lib\\site-packages\\urllib3\\connectionpool.py\u001b[0m in \u001b[0;36m_make_request\u001b[1;34m(self, conn, method, url, timeout, chunked, **httplib_request_kw)\u001b[0m\n\u001b[0;32m    381\u001b[0m             \u001b[1;32mexcept\u001b[0m \u001b[0mTypeError\u001b[0m\u001b[1;33m:\u001b[0m  \u001b[1;31m# Python 2.6 and older, Python 3\u001b[0m\u001b[1;33m\u001b[0m\u001b[0m\n\u001b[0;32m    382\u001b[0m                 \u001b[1;32mtry\u001b[0m\u001b[1;33m:\u001b[0m\u001b[1;33m\u001b[0m\u001b[0m\n\u001b[1;32m--> 383\u001b[1;33m                     \u001b[0mhttplib_response\u001b[0m \u001b[1;33m=\u001b[0m \u001b[0mconn\u001b[0m\u001b[1;33m.\u001b[0m\u001b[0mgetresponse\u001b[0m\u001b[1;33m(\u001b[0m\u001b[1;33m)\u001b[0m\u001b[1;33m\u001b[0m\u001b[0m\n\u001b[0m\u001b[0;32m    384\u001b[0m                 \u001b[1;32mexcept\u001b[0m \u001b[0mException\u001b[0m \u001b[1;32mas\u001b[0m \u001b[0me\u001b[0m\u001b[1;33m:\u001b[0m\u001b[1;33m\u001b[0m\u001b[0m\n\u001b[0;32m    385\u001b[0m                     \u001b[1;31m# Remove the TypeError from the exception chain in Python 3;\u001b[0m\u001b[1;33m\u001b[0m\u001b[1;33m\u001b[0m\u001b[0m\n",
      "\u001b[1;32m~\\AppData\\Local\\Continuum\\anaconda3\\lib\\http\\client.py\u001b[0m in \u001b[0;36mgetresponse\u001b[1;34m(self)\u001b[0m\n\u001b[0;32m   1329\u001b[0m         \u001b[1;32mtry\u001b[0m\u001b[1;33m:\u001b[0m\u001b[1;33m\u001b[0m\u001b[0m\n\u001b[0;32m   1330\u001b[0m             \u001b[1;32mtry\u001b[0m\u001b[1;33m:\u001b[0m\u001b[1;33m\u001b[0m\u001b[0m\n\u001b[1;32m-> 1331\u001b[1;33m                 \u001b[0mresponse\u001b[0m\u001b[1;33m.\u001b[0m\u001b[0mbegin\u001b[0m\u001b[1;33m(\u001b[0m\u001b[1;33m)\u001b[0m\u001b[1;33m\u001b[0m\u001b[0m\n\u001b[0m\u001b[0;32m   1332\u001b[0m             \u001b[1;32mexcept\u001b[0m \u001b[0mConnectionError\u001b[0m\u001b[1;33m:\u001b[0m\u001b[1;33m\u001b[0m\u001b[0m\n\u001b[0;32m   1333\u001b[0m                 \u001b[0mself\u001b[0m\u001b[1;33m.\u001b[0m\u001b[0mclose\u001b[0m\u001b[1;33m(\u001b[0m\u001b[1;33m)\u001b[0m\u001b[1;33m\u001b[0m\u001b[0m\n",
      "\u001b[1;32m~\\AppData\\Local\\Continuum\\anaconda3\\lib\\http\\client.py\u001b[0m in \u001b[0;36mbegin\u001b[1;34m(self)\u001b[0m\n\u001b[0;32m    295\u001b[0m         \u001b[1;31m# read until we get a non-100 response\u001b[0m\u001b[1;33m\u001b[0m\u001b[1;33m\u001b[0m\u001b[0m\n\u001b[0;32m    296\u001b[0m         \u001b[1;32mwhile\u001b[0m \u001b[1;32mTrue\u001b[0m\u001b[1;33m:\u001b[0m\u001b[1;33m\u001b[0m\u001b[0m\n\u001b[1;32m--> 297\u001b[1;33m             \u001b[0mversion\u001b[0m\u001b[1;33m,\u001b[0m \u001b[0mstatus\u001b[0m\u001b[1;33m,\u001b[0m \u001b[0mreason\u001b[0m \u001b[1;33m=\u001b[0m \u001b[0mself\u001b[0m\u001b[1;33m.\u001b[0m\u001b[0m_read_status\u001b[0m\u001b[1;33m(\u001b[0m\u001b[1;33m)\u001b[0m\u001b[1;33m\u001b[0m\u001b[0m\n\u001b[0m\u001b[0;32m    298\u001b[0m             \u001b[1;32mif\u001b[0m \u001b[0mstatus\u001b[0m \u001b[1;33m!=\u001b[0m \u001b[0mCONTINUE\u001b[0m\u001b[1;33m:\u001b[0m\u001b[1;33m\u001b[0m\u001b[0m\n\u001b[0;32m    299\u001b[0m                 \u001b[1;32mbreak\u001b[0m\u001b[1;33m\u001b[0m\u001b[0m\n",
      "\u001b[1;32m~\\AppData\\Local\\Continuum\\anaconda3\\lib\\http\\client.py\u001b[0m in \u001b[0;36m_read_status\u001b[1;34m(self)\u001b[0m\n\u001b[0;32m    256\u001b[0m \u001b[1;33m\u001b[0m\u001b[0m\n\u001b[0;32m    257\u001b[0m     \u001b[1;32mdef\u001b[0m \u001b[0m_read_status\u001b[0m\u001b[1;33m(\u001b[0m\u001b[0mself\u001b[0m\u001b[1;33m)\u001b[0m\u001b[1;33m:\u001b[0m\u001b[1;33m\u001b[0m\u001b[0m\n\u001b[1;32m--> 258\u001b[1;33m         \u001b[0mline\u001b[0m \u001b[1;33m=\u001b[0m \u001b[0mstr\u001b[0m\u001b[1;33m(\u001b[0m\u001b[0mself\u001b[0m\u001b[1;33m.\u001b[0m\u001b[0mfp\u001b[0m\u001b[1;33m.\u001b[0m\u001b[0mreadline\u001b[0m\u001b[1;33m(\u001b[0m\u001b[0m_MAXLINE\u001b[0m \u001b[1;33m+\u001b[0m \u001b[1;36m1\u001b[0m\u001b[1;33m)\u001b[0m\u001b[1;33m,\u001b[0m \u001b[1;34m\"iso-8859-1\"\u001b[0m\u001b[1;33m)\u001b[0m\u001b[1;33m\u001b[0m\u001b[0m\n\u001b[0m\u001b[0;32m    259\u001b[0m         \u001b[1;32mif\u001b[0m \u001b[0mlen\u001b[0m\u001b[1;33m(\u001b[0m\u001b[0mline\u001b[0m\u001b[1;33m)\u001b[0m \u001b[1;33m>\u001b[0m \u001b[0m_MAXLINE\u001b[0m\u001b[1;33m:\u001b[0m\u001b[1;33m\u001b[0m\u001b[0m\n\u001b[0;32m    260\u001b[0m             \u001b[1;32mraise\u001b[0m \u001b[0mLineTooLong\u001b[0m\u001b[1;33m(\u001b[0m\u001b[1;34m\"status line\"\u001b[0m\u001b[1;33m)\u001b[0m\u001b[1;33m\u001b[0m\u001b[0m\n",
      "\u001b[1;32m~\\AppData\\Local\\Continuum\\anaconda3\\lib\\socket.py\u001b[0m in \u001b[0;36mreadinto\u001b[1;34m(self, b)\u001b[0m\n\u001b[0;32m    584\u001b[0m         \u001b[1;32mwhile\u001b[0m \u001b[1;32mTrue\u001b[0m\u001b[1;33m:\u001b[0m\u001b[1;33m\u001b[0m\u001b[0m\n\u001b[0;32m    585\u001b[0m             \u001b[1;32mtry\u001b[0m\u001b[1;33m:\u001b[0m\u001b[1;33m\u001b[0m\u001b[0m\n\u001b[1;32m--> 586\u001b[1;33m                 \u001b[1;32mreturn\u001b[0m \u001b[0mself\u001b[0m\u001b[1;33m.\u001b[0m\u001b[0m_sock\u001b[0m\u001b[1;33m.\u001b[0m\u001b[0mrecv_into\u001b[0m\u001b[1;33m(\u001b[0m\u001b[0mb\u001b[0m\u001b[1;33m)\u001b[0m\u001b[1;33m\u001b[0m\u001b[0m\n\u001b[0m\u001b[0;32m    587\u001b[0m             \u001b[1;32mexcept\u001b[0m \u001b[0mtimeout\u001b[0m\u001b[1;33m:\u001b[0m\u001b[1;33m\u001b[0m\u001b[0m\n\u001b[0;32m    588\u001b[0m                 \u001b[0mself\u001b[0m\u001b[1;33m.\u001b[0m\u001b[0m_timeout_occurred\u001b[0m \u001b[1;33m=\u001b[0m \u001b[1;32mTrue\u001b[0m\u001b[1;33m\u001b[0m\u001b[0m\n",
      "\u001b[1;32m~\\AppData\\Local\\Continuum\\anaconda3\\lib\\site-packages\\urllib3\\contrib\\pyopenssl.py\u001b[0m in \u001b[0;36mrecv_into\u001b[1;34m(self, *args, **kwargs)\u001b[0m\n\u001b[0;32m    278\u001b[0m     \u001b[1;32mdef\u001b[0m \u001b[0mrecv_into\u001b[0m\u001b[1;33m(\u001b[0m\u001b[0mself\u001b[0m\u001b[1;33m,\u001b[0m \u001b[1;33m*\u001b[0m\u001b[0margs\u001b[0m\u001b[1;33m,\u001b[0m \u001b[1;33m**\u001b[0m\u001b[0mkwargs\u001b[0m\u001b[1;33m)\u001b[0m\u001b[1;33m:\u001b[0m\u001b[1;33m\u001b[0m\u001b[0m\n\u001b[0;32m    279\u001b[0m         \u001b[1;32mtry\u001b[0m\u001b[1;33m:\u001b[0m\u001b[1;33m\u001b[0m\u001b[0m\n\u001b[1;32m--> 280\u001b[1;33m             \u001b[1;32mreturn\u001b[0m \u001b[0mself\u001b[0m\u001b[1;33m.\u001b[0m\u001b[0mconnection\u001b[0m\u001b[1;33m.\u001b[0m\u001b[0mrecv_into\u001b[0m\u001b[1;33m(\u001b[0m\u001b[1;33m*\u001b[0m\u001b[0margs\u001b[0m\u001b[1;33m,\u001b[0m \u001b[1;33m**\u001b[0m\u001b[0mkwargs\u001b[0m\u001b[1;33m)\u001b[0m\u001b[1;33m\u001b[0m\u001b[0m\n\u001b[0m\u001b[0;32m    281\u001b[0m         \u001b[1;32mexcept\u001b[0m \u001b[0mOpenSSL\u001b[0m\u001b[1;33m.\u001b[0m\u001b[0mSSL\u001b[0m\u001b[1;33m.\u001b[0m\u001b[0mSysCallError\u001b[0m \u001b[1;32mas\u001b[0m \u001b[0me\u001b[0m\u001b[1;33m:\u001b[0m\u001b[1;33m\u001b[0m\u001b[0m\n\u001b[0;32m    282\u001b[0m             \u001b[1;32mif\u001b[0m \u001b[0mself\u001b[0m\u001b[1;33m.\u001b[0m\u001b[0msuppress_ragged_eofs\u001b[0m \u001b[1;32mand\u001b[0m \u001b[0me\u001b[0m\u001b[1;33m.\u001b[0m\u001b[0margs\u001b[0m \u001b[1;33m==\u001b[0m \u001b[1;33m(\u001b[0m\u001b[1;33m-\u001b[0m\u001b[1;36m1\u001b[0m\u001b[1;33m,\u001b[0m \u001b[1;34m'Unexpected EOF'\u001b[0m\u001b[1;33m)\u001b[0m\u001b[1;33m:\u001b[0m\u001b[1;33m\u001b[0m\u001b[0m\n",
      "\u001b[1;32m~\\AppData\\Local\\Continuum\\anaconda3\\lib\\site-packages\\OpenSSL\\SSL.py\u001b[0m in \u001b[0;36mrecv_into\u001b[1;34m(self, buffer, nbytes, flags)\u001b[0m\n\u001b[0;32m   1712\u001b[0m             \u001b[0mresult\u001b[0m \u001b[1;33m=\u001b[0m \u001b[0m_lib\u001b[0m\u001b[1;33m.\u001b[0m\u001b[0mSSL_peek\u001b[0m\u001b[1;33m(\u001b[0m\u001b[0mself\u001b[0m\u001b[1;33m.\u001b[0m\u001b[0m_ssl\u001b[0m\u001b[1;33m,\u001b[0m \u001b[0mbuf\u001b[0m\u001b[1;33m,\u001b[0m \u001b[0mnbytes\u001b[0m\u001b[1;33m)\u001b[0m\u001b[1;33m\u001b[0m\u001b[0m\n\u001b[0;32m   1713\u001b[0m         \u001b[1;32melse\u001b[0m\u001b[1;33m:\u001b[0m\u001b[1;33m\u001b[0m\u001b[0m\n\u001b[1;32m-> 1714\u001b[1;33m             \u001b[0mresult\u001b[0m \u001b[1;33m=\u001b[0m \u001b[0m_lib\u001b[0m\u001b[1;33m.\u001b[0m\u001b[0mSSL_read\u001b[0m\u001b[1;33m(\u001b[0m\u001b[0mself\u001b[0m\u001b[1;33m.\u001b[0m\u001b[0m_ssl\u001b[0m\u001b[1;33m,\u001b[0m \u001b[0mbuf\u001b[0m\u001b[1;33m,\u001b[0m \u001b[0mnbytes\u001b[0m\u001b[1;33m)\u001b[0m\u001b[1;33m\u001b[0m\u001b[0m\n\u001b[0m\u001b[0;32m   1715\u001b[0m         \u001b[0mself\u001b[0m\u001b[1;33m.\u001b[0m\u001b[0m_raise_ssl_error\u001b[0m\u001b[1;33m(\u001b[0m\u001b[0mself\u001b[0m\u001b[1;33m.\u001b[0m\u001b[0m_ssl\u001b[0m\u001b[1;33m,\u001b[0m \u001b[0mresult\u001b[0m\u001b[1;33m)\u001b[0m\u001b[1;33m\u001b[0m\u001b[0m\n\u001b[0;32m   1716\u001b[0m \u001b[1;33m\u001b[0m\u001b[0m\n",
      "\u001b[1;31mKeyboardInterrupt\u001b[0m: "
     ]
    }
   ],
   "source": [
    "mp_api_key_location = 'C:\\\\users\\\\lmh1\\\\Documents\\\\Materials Project\\\\API key.txt'\n",
    "\n",
    "with open(mp_api_key_location) as f:\n",
    "    mp_api_key = f.read()\n",
    "\n",
    "for elements in elements_set:\n",
    "    get_mp_structures(elements.split(), api_key=mp_api_key)"
   ]
  },
  {
   "cell_type": "markdown",
   "metadata": {},
   "source": [
    "## 3. Fetch OQMD reference structures"
   ]
  },
  {
   "cell_type": "markdown",
   "metadata": {},
   "source": [
    "### Define get_oqmd_structures() function"
   ]
  },
  {
   "cell_type": "code",
   "execution_count": 7,
   "metadata": {},
   "outputs": [],
   "source": [
    "def get_oqmd_structures(elements, lib_directory=None):\n",
    "    \"\"\"\n",
    "    Accesses the Materials Project and downloads all structures for a list of\n",
    "    elements as poscar files.\n",
    "    \n",
    "    Parameters\n",
    "    ----------\n",
    "    elements : list\n",
    "        A list of element symbols.\n",
    "    lib_directory : str\n",
    "        Path to the lib_directory to save the poscar files to.  Default uses\n",
    "        the iprPy library/dft_structures directory.\n",
    "    \"\"\"\n",
    "    # Function-specific imports\n",
    "    import requests\n",
    "    \n",
    "    # Define subset generator\n",
    "    def subsets(fullset):\n",
    "        for i, item in enumerate(fullset):\n",
    "            yield [item]\n",
    "            if len(fullset) > 1:\n",
    "                for subset in subsets(fullset[i+1:]):\n",
    "                    yield [item] + subset\n",
    "    \n",
    "    # Get default lib_directory\n",
    "    if lib_directory is None:\n",
    "        lib_directory = os.path.join(os.path.dirname(iprPy.rootdir), 'library', 'ref')\n",
    "    lib_directory = os.path.abspath(lib_directory)\n",
    "    \n",
    "    # Set comp_directory\n",
    "    elements.sort()\n",
    "    have = []\n",
    "    for subelements in subsets(elements):\n",
    "        elements_string = '-'.join(subelements)\n",
    "        comp_directory = os.path.join(lib_directory, elements_string)\n",
    "        if not os.path.isdir(comp_directory):\n",
    "            os.makedirs(comp_directory)\n",
    "        \n",
    "        # Build list of downloaded entries\n",
    "        for fname in glob.iglob(os.path.join(comp_directory, 'oqmd-*.poscar')):\n",
    "            have.append(os.path.splitext(os.path.basename(fname))[0])\n",
    "    #print('Have', len(have), 'records')\n",
    "    \n",
    "    # Build list of missing OQMD entries\n",
    "    elements_string = '-'.join(elements)\n",
    "    \n",
    "    composition_r = requests.get('http://oqmd.org/materials/composition/' + elements_string)\n",
    "    composition_html = composition_r.text\n",
    "    \n",
    "    missing = []\n",
    "    count = 0\n",
    "    while True:\n",
    "        count += 1\n",
    "        try:\n",
    "            start = composition_html.index('href=\"/materials/entry/') + len('href=\"/materials/entry/')\n",
    "        except:\n",
    "            break\n",
    "        else:\n",
    "            end = start + composition_html[start:].index('\">')\n",
    "            entry_number = composition_html[start:end]\n",
    "            composition_html = composition_html[end+2:]\n",
    "            entry_id = 'oqmd-'+entry_number\n",
    "            if entry_id not in have and entry_id not in missing:\n",
    "                missing.append(entry_id)\n",
    "        if count > 100:\n",
    "            raise ValueError('Loop likely infinite')\n",
    "    #print('Missing', len(missing), 'records')\n",
    "    \n",
    "    # Download missing entries\n",
    "    for entry_id in missing:\n",
    "        entry_number = entry_id.replace('oqmd-', '')\n",
    "        entry_r = requests.get('http://oqmd.org/materials/entry/' + entry_number)\n",
    "        entry_html = entry_r.text\n",
    "        \n",
    "        start = entry_html.index('href=\"/materials/structure/') + len('href=\"/materials/structure/')\n",
    "        end = start + entry_html[start:].index('\">')\n",
    "        structure_number = entry_html[start:end]\n",
    "        \n",
    "        try:\n",
    "            structure_url = 'http://oqmd.org/materials/export/conventional/poscar/' + structure_number\n",
    "            structure_r = requests.get(structure_url)\n",
    "            structure_r.raise_for_status()\n",
    "        except:\n",
    "            try:\n",
    "                structure_url = 'http://oqmd.org/materials/export/primitive/poscar/' + structure_number\n",
    "                structure_r = requests.get(structure_url)\n",
    "                structure_r.raise_for_status()\n",
    "            except:\n",
    "                continue\n",
    "        \n",
    "        # Save poscar\n",
    "        poscar = structure_r.text\n",
    "        system = am.load('poscar', poscar)\n",
    "        system = system.normalize()\n",
    "        elements_string = '-'.join(system.symbols)\n",
    "        structure_file = os.path.join(lib_directory, elements_string, entry_id + '.poscar')\n",
    "        \n",
    "        with open(structure_file, 'w') as f:\n",
    "            f.write(poscar)\n",
    "        print('Added', entry_id)"
   ]
  },
  {
   "cell_type": "markdown",
   "metadata": {},
   "source": [
    "### Get reference structures"
   ]
  },
  {
   "cell_type": "code",
   "execution_count": 8,
   "metadata": {},
   "outputs": [
    {
     "name": "stdout",
     "output_type": "stream",
     "text": [
      "Failed: C H O\n",
      "Failed: Al Cu Fe Mg Si\n",
      "Added oqmd-10260\n",
      "Added oqmd-20106\n",
      "Added oqmd-300994\n",
      "Added oqmd-311536\n",
      "Added oqmd-302817\n",
      "Added oqmd-307103\n",
      "Added oqmd-313359\n",
      "Failed: Ni Ti V\n",
      "Failed: Cd Hg S Se Te Zn\n",
      "Added oqmd-3167\n",
      "Added oqmd-20737\n",
      "Added oqmd-3721\n",
      "Added oqmd-358132\n",
      "Added oqmd-306404\n",
      "Added oqmd-352803\n",
      "Added oqmd-300866\n",
      "Added oqmd-301423\n",
      "Added oqmd-311408\n",
      "Added oqmd-311965\n",
      "Failed: meta_TWIP\n",
      "Added oqmd-647437\n",
      "Added oqmd-26737\n",
      "Added oqmd-15976\n",
      "Added oqmd-15977\n",
      "Added oqmd-304812\n",
      "Added oqmd-298224\n",
      "Added oqmd-22454\n",
      "Added oqmd-308758\n",
      "Added oqmd-304353\n",
      "Added oqmd-314895\n",
      "Added oqmd-5286\n",
      "Added oqmd-2065\n",
      "Added oqmd-5012\n",
      "Added oqmd-2392\n",
      "Added oqmd-3214\n",
      "Added oqmd-24931\n",
      "Added oqmd-3213\n",
      "Added oqmd-11536\n",
      "Added oqmd-11535\n",
      "Added oqmd-6967\n",
      "Added oqmd-24787\n",
      "Added oqmd-3448\n",
      "Added oqmd-24290\n",
      "Added oqmd-3447\n",
      "Added oqmd-6968\n",
      "Added oqmd-5346\n",
      "Added oqmd-3971\n",
      "Added oqmd-676672\n",
      "Failed: C Fe Ti\n",
      "Added oqmd-299733\n",
      "Added oqmd-303985\n",
      "Added oqmd-310275\n",
      "Added oqmd-305561\n",
      "Added oqmd-314527\n",
      "Added oqmd-30265\n",
      "Added oqmd-30266\n",
      "Added oqmd-312528\n",
      "Added oqmd-301986\n",
      "Added oqmd-308925\n",
      "Added oqmd-306683\n",
      "Added oqmd-298390\n",
      "Failed: Al Nb Ti\n",
      "Added oqmd-7248\n",
      "Added oqmd-312571\n",
      "Added oqmd-305426\n",
      "Added oqmd-299460\n",
      "Added oqmd-310002\n",
      "Added oqmd-302029\n",
      "Added oqmd-7519\n",
      "Added oqmd-9303\n",
      "Added oqmd-9302\n",
      "Added oqmd-17349\n",
      "Added oqmd-9301\n",
      "Added oqmd-17350\n",
      "Added oqmd-5714\n",
      "Added oqmd-302557\n",
      "Added oqmd-313099\n",
      "Added oqmd-1007045\n",
      "Added oqmd-306963\n",
      "Added oqmd-301185\n",
      "Added oqmd-311727\n",
      "Added oqmd-5764\n",
      "Added oqmd-717362\n",
      "Added oqmd-717360\n",
      "Added oqmd-22408\n",
      "Added oqmd-22407\n",
      "Added oqmd-3484\n",
      "Added oqmd-717361\n",
      "Added oqmd-18979\n",
      "Added oqmd-78173\n",
      "Added oqmd-18984\n",
      "Added oqmd-10215\n",
      "Added oqmd-78174\n",
      "Added oqmd-15748\n",
      "Added oqmd-691768\n",
      "Added oqmd-9288\n",
      "Added oqmd-691764\n",
      "Added oqmd-9287\n"
     ]
    }
   ],
   "source": [
    "for elements in elements_set:\n",
    "    try:\n",
    "        get_oqmd_structures(elements.split())\n",
    "    except:\n",
    "        print('Failed:', elements)"
   ]
  },
  {
   "cell_type": "markdown",
   "metadata": {},
   "source": [
    "## 4. Run crystal_space_group calculations on the reference structures"
   ]
  },
  {
   "cell_type": "code",
   "execution_count": 9,
   "metadata": {},
   "outputs": [
    {
     "name": "stdout",
     "output_type": "stream",
     "text": [
      "In database style local at C:\\Users\\lmh1\\Documents\\calculations\\ipr\\master :\n",
      "- 1823 of style calculation_crystal_space_group\n",
      " - 0 are complete\n",
      " - 1823 still to run\n",
      " - 0 issued errors\n"
     ]
    }
   ],
   "source": [
    "calculation = iprPy.load_calculation('crystal_space_group')\n",
    "\n",
    "input_dict = {}\n",
    "input_dict['buildcombos'] = ['crystalprototype load_file', \n",
    "                             'atomicreference load_file']\n",
    "\n",
    "database.prepare(run_directory, calculation, **input_dict)\n",
    "database.check_records(calculation.record_style)"
   ]
  },
  {
   "cell_type": "code",
   "execution_count": 10,
   "metadata": {},
   "outputs": [
    {
     "name": "stdout",
     "output_type": "stream",
     "text": [
      "Runner started with pid 3012\n",
      "No simulations left to run\n"
     ]
    }
   ],
   "source": [
    "database.runner(run_directory)"
   ]
  },
  {
   "cell_type": "code",
   "execution_count": 11,
   "metadata": {},
   "outputs": [
    {
     "name": "stdout",
     "output_type": "stream",
     "text": [
      "In database style local at C:\\Users\\lmh1\\Documents\\calculations\\ipr\\master :\n",
      "- 1823 of style calculation_crystal_space_group\n",
      " - 1823 are complete\n",
      " - 0 still to run\n",
      " - 0 issued errors\n"
     ]
    }
   ],
   "source": [
    "database.check_records(calculation.record_style)"
   ]
  },
  {
   "cell_type": "markdown",
   "metadata": {},
   "source": [
    "## 5. Match prototypes to references"
   ]
  },
  {
   "cell_type": "markdown",
   "metadata": {},
   "source": [
    "### Get results and split into reference and prototype"
   ]
  },
  {
   "cell_type": "code",
   "execution_count": 12,
   "metadata": {},
   "outputs": [],
   "source": [
    "results_df = database.get_records_df(style=calculation.record_style, full=True, flat=True)\n"
   ]
  },
  {
   "cell_type": "code",
   "execution_count": 13,
   "metadata": {},
   "outputs": [],
   "source": [
    "reference_df = results_df[results_df.family+'.poscar'==results_df.load_file].reset_index()\n",
    "prototype_df = results_df[results_df.family+'.json'==results_df.load_file].reset_index()"
   ]
  },
  {
   "cell_type": "markdown",
   "metadata": {},
   "source": [
    "### Match based on space group information"
   ]
  },
  {
   "cell_type": "code",
   "execution_count": 14,
   "metadata": {},
   "outputs": [],
   "source": [
    "try:\n",
    "    match_df = pd.read_csv('reference_prototype_match.csv')\n",
    "except:\n",
    "    match_df = pd.DataFrame()\n",
    "\n",
    "if len(reference_df) != len(match_df):\n",
    "    # Match based on Pearson symbol and space group number\n",
    "    match_df = []\n",
    "    for reference in reference_df.itertuples():\n",
    "        match_dict = {}\n",
    "        match_dict['reference'] = reference.family\n",
    "        match_dict['site'], match_dict['number'] = reference.family.split('-')\n",
    "        match_dict['number'] = int(match_dict['number'])\n",
    "        matches = prototype_df[((reference.pearson_symbol == prototype_df.pearson_symbol)\n",
    "                               &(reference.spacegroup_number == prototype_df.spacegroup_number))]\n",
    "        if len(matches) == 1:\n",
    "            match_dict['prototype'] = matches.iloc[0].family\n",
    "            match_dict['ref_wykoff'] = reference.wykoff_letters\n",
    "        elif len(matches) == 0:\n",
    "            match_dict['prototype'] = np.nan\n",
    "        else:\n",
    "            match_dict['prototype'] = 'multiple'\n",
    "        match_df.append(match_dict)\n",
    "    match_df = pd.DataFrame(match_df)\n",
    "\n",
    "    # Check known equivalent Wykoff sites for prototypes\n",
    "    match_df.loc[(match_df.prototype=='A1--Cu--fcc') & (~match_df.ref_wykoff.isin(['a', 'b'])),\n",
    "                 'prototype'] = np.nan\n",
    "    match_df.loc[(match_df.prototype=='A2--W--bcc') & (~match_df.ref_wykoff.isin(['a'])),\n",
    "                 'prototype'] = np.nan\n",
    "    match_df.loc[(match_df.prototype=='A3--Mg--hcp') & (~match_df.ref_wykoff.isin(['b', 'c', 'd'])),\n",
    "                 'prototype'] = np.nan\n",
    "    match_df.loc[(match_df.prototype==\"A3'--alpha-La--double-hcp\") & (~match_df.ref_wykoff.isin(['a b', 'a c', 'a d'])),\n",
    "                 'prototype'] = np.nan\n",
    "    match_df.loc[(match_df.prototype=='A4--C--dc') & (~match_df.ref_wykoff.isin(['a', 'b'])),\n",
    "                 'prototype'] = np.nan\n",
    "    match_df.loc[(match_df.prototype=='A5--beta-Sn') & (~match_df.ref_wykoff.isin(['a', 'b'])),\n",
    "                 'prototype'] = np.nan\n",
    "    match_df.loc[(match_df.prototype=='A6--In--bct') & (~match_df.ref_wykoff.isin(['a', 'b'])),\n",
    "                 'prototype'] = np.nan\n",
    "    match_df.loc[(match_df.prototype=='A7--alpha-As') & (~match_df.ref_wykoff.isin(['c'])),\n",
    "                 'prototype'] = np.nan\n",
    "    match_df.loc[(match_df.prototype=='Ah--alpha-Po--sc') & (~match_df.ref_wykoff.isin(['a', 'b'])),\n",
    "                 'prototype'] = np.nan\n",
    "    match_df.loc[(match_df.prototype=='A15--beta-W') & (~match_df.ref_wykoff.isin(['a c', 'a d'])),\n",
    "                 'prototype'] = np.nan\n",
    "\n",
    "    match_df = match_df.sort_values(['site', 'number']).reset_index()[['reference', 'prototype']]\n",
    "    match_df.to_csv('reference_prototype_match.csv', index=False)"
   ]
  },
  {
   "cell_type": "code",
   "execution_count": null,
   "metadata": {},
   "outputs": [],
   "source": []
  }
 ],
 "metadata": {
  "kernelspec": {
   "display_name": "Python 3",
   "language": "python",
   "name": "python3"
  },
  "language_info": {
   "codemirror_mode": {
    "name": "ipython",
    "version": 3
   },
   "file_extension": ".py",
   "mimetype": "text/x-python",
   "name": "python",
   "nbconvert_exporter": "python",
   "pygments_lexer": "ipython3",
   "version": "3.6.4"
  }
 },
 "nbformat": 4,
 "nbformat_minor": 2
}
