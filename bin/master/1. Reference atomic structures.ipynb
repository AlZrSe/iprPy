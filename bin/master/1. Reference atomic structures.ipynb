{
 "cells": [
  {
   "cell_type": "markdown",
   "metadata": {},
   "source": [
    "# Reference atomic structures\n",
    "\n",
    "This Notebook gets reference atomic crystal structures from various external sites and compares them to known crystal prototype structures."
   ]
  },
  {
   "cell_type": "markdown",
   "metadata": {},
   "source": [
    "**Library imports**"
   ]
  },
  {
   "cell_type": "code",
   "execution_count": 1,
   "metadata": {},
   "outputs": [
    {
     "name": "stdout",
     "output_type": "stream",
     "text": [
      "iprPy version 0.8.1\n"
     ]
    }
   ],
   "source": [
    "# Standard Python libraries\n",
    "from __future__ import (print_function, division, absolute_import,\n",
    "                        unicode_literals)\n",
    "import os\n",
    "import glob\n",
    "\n",
    "# http://www.numpy.org/\n",
    "import numpy as np\n",
    "\n",
    "# https://pandas.pydata.org/\n",
    "import pandas as pd\n",
    "\n",
    "# https://github.com/usnistgov/atomman\n",
    "import atomman as am\n",
    "import atomman.lammps as lmp\n",
    "\n",
    "# https://github.com/usnistgov/iprPy\n",
    "import iprPy\n",
    "print('iprPy version', iprPy.__version__)"
   ]
  },
  {
   "cell_type": "markdown",
   "metadata": {},
   "source": [
    "## 1. Build unique sets of elements from included potentials"
   ]
  },
  {
   "cell_type": "markdown",
   "metadata": {},
   "source": [
    "### Load database"
   ]
  },
  {
   "cell_type": "code",
   "execution_count": 2,
   "metadata": {},
   "outputs": [],
   "source": [
    "database = iprPy.load_database('demo')"
   ]
  },
  {
   "cell_type": "markdown",
   "metadata": {},
   "source": [
    "### Option #1: Get all elements lists from potentials"
   ]
  },
  {
   "cell_type": "code",
   "execution_count": 9,
   "metadata": {},
   "outputs": [],
   "source": [
    "elements_set = set()\n",
    "for potential_record in database.get_records(style='potential_LAMMPS'):\n",
    "    potential = lmp.Potential(potential_record.content)\n",
    "    elements = potential.elements()\n",
    "    elements.sort()\n",
    "    elements_set.add(' '.join(elements))"
   ]
  },
  {
   "cell_type": "markdown",
   "metadata": {},
   "source": [
    "### Option #2: Only get elements lists for certain systems"
   ]
  },
  {
   "cell_type": "code",
   "execution_count": 3,
   "metadata": {},
   "outputs": [],
   "source": [
    "elements_set = set()\n",
    "elements_set.add('Ag')"
   ]
  },
  {
   "cell_type": "markdown",
   "metadata": {},
   "source": [
    "## 2. Fetch Materials Project reference structures"
   ]
  },
  {
   "cell_type": "markdown",
   "metadata": {},
   "source": [
    "### Define get_mp_structures() function"
   ]
  },
  {
   "cell_type": "code",
   "execution_count": 4,
   "metadata": {},
   "outputs": [],
   "source": [
    "def get_mp_structures(elements, api_key=None, lib_directory=None):\n",
    "    \"\"\"\n",
    "    Accesses the Materials Project and downloads all structures for a list of\n",
    "    elements as poscar files.\n",
    "    \n",
    "    Parameters\n",
    "    ----------\n",
    "    elements : list\n",
    "        A list of element symbols.\n",
    "    api_key : str, optional\n",
    "        The user's Materials Project API key. If not given, will use \"MAPI_KEY\"\n",
    "        environment variable\n",
    "    lib_directory : str\n",
    "        Path to the lib_directory to save the poscar files to.  Default uses\n",
    "        the iprPy library/dft_structures directory.\n",
    "    \"\"\"\n",
    "    # Function-specific imports\n",
    "    import pymatgen as pmg\n",
    "    from pymatgen.ext.matproj import MPRester\n",
    "    \n",
    "    # Define subset generator\n",
    "    def subsets(fullset):\n",
    "        for i, item in enumerate(fullset):\n",
    "            yield [item]\n",
    "            if len(fullset) > 1:\n",
    "                for subset in subsets(fullset[i+1:]):\n",
    "                    yield [item] + subset\n",
    "    \n",
    "    # Handle lib_directory\n",
    "    if lib_directory is None:\n",
    "        lib_directory = os.path.join(os.path.dirname(iprPy.rootdir), 'library', 'ref')\n",
    "    lib_directory = os.path.abspath(lib_directory)\n",
    "    \n",
    "    elements.sort()\n",
    "    \n",
    "    # Open connection to Materials Project\n",
    "    with MPRester(api_key) as m:\n",
    "        \n",
    "        # Loop over subsets of elements\n",
    "        for subelements in subsets(elements):\n",
    "            \n",
    "            # Set comp_directory\n",
    "            elements_string = '-'.join(subelements)\n",
    "            comp_directory = os.path.join(lib_directory, elements_string)\n",
    "            if not os.path.isdir(comp_directory):\n",
    "                os.makedirs(comp_directory)\n",
    "            \n",
    "            # Build list of downloaded entries\n",
    "            have = []\n",
    "            for fname in glob.iglob(os.path.join(comp_directory, 'mp-*.poscar')):\n",
    "                have.append(os.path.splitext(os.path.basename(fname))[0])\n",
    "            #print('Have', len(have), elements_string, 'records')\n",
    "            \n",
    "            # Query MP for all entries corresponding to the elements\n",
    "            entries = m.query({\"elements\": subelements}, [\"material_id\"])\n",
    "            \n",
    "            # Add entries to the list if not there\n",
    "            missing = []\n",
    "            for entry in entries:\n",
    "                if entry['material_id'] not in have and entry['material_id'] not in missing:\n",
    "                    missing.append(entry['material_id'])\n",
    "            #print('Missing', len(missing), elements_string, 'records')\n",
    "            \n",
    "            # Download missing entries\n",
    "            entries = m.query({\"material_id\": {\"$in\": missing}}, ['material_id', 'cif'])\n",
    "            \n",
    "            # Convert cif to poscar and save\n",
    "            for entry in entries:\n",
    "                struct = pmg.Structure.from_str(entry['cif'], fmt='cif')\n",
    "                struct = pmg.symmetry.analyzer.SpacegroupAnalyzer(struct).get_conventional_standard_structure()\n",
    "                system = am.load('pymatgen_Structure', struct)\n",
    "                system = system.normalize()\n",
    "                structure_file = os.path.join(comp_directory, entry['material_id']+'.poscar')\n",
    "                system.dump('poscar', f=structure_file)\n",
    "                print('Added', entry['material_id'])"
   ]
  },
  {
   "cell_type": "markdown",
   "metadata": {},
   "source": [
    "### Get reference structures"
   ]
  },
  {
   "cell_type": "markdown",
   "metadata": {},
   "source": [
    "Specify personal Materials Project API key"
   ]
  },
  {
   "cell_type": "code",
   "execution_count": 5,
   "metadata": {},
   "outputs": [],
   "source": [
    "mp_api_key_location = 'C:\\\\users\\\\lmh1\\\\Documents\\\\Materials Project\\\\API key.txt'\n",
    "\n",
    "with open(mp_api_key_location) as f:\n",
    "    mp_api_key = f.read()"
   ]
  },
  {
   "cell_type": "code",
   "execution_count": 6,
   "metadata": {},
   "outputs": [
    {
     "name": "stderr",
     "output_type": "stream",
     "text": [
      "C:\\Users\\lmh1\\AppData\\Local\\Continuum\\anaconda3\\lib\\site-packages\\pymatgen\\io\\cif.py:44: UserWarning: Please install optional dependency pybtex if youwant to extract references from CIF files.\n",
      "  warnings.warn(\"Please install optional dependency pybtex if you\"\n"
     ]
    },
    {
     "name": "stdout",
     "output_type": "stream",
     "text": [
      "Added mp-10597\n",
      "Added mp-124\n",
      "Added mp-8566\n",
      "Added mp-989737\n"
     ]
    }
   ],
   "source": [
    "for elements in elements_set:\n",
    "    get_mp_structures(elements.split(), api_key=mp_api_key)"
   ]
  },
  {
   "cell_type": "markdown",
   "metadata": {},
   "source": [
    "## 3. Fetch OQMD reference structures"
   ]
  },
  {
   "cell_type": "markdown",
   "metadata": {},
   "source": [
    "### Define get_oqmd_structures() function"
   ]
  },
  {
   "cell_type": "code",
   "execution_count": 7,
   "metadata": {},
   "outputs": [],
   "source": [
    "def get_oqmd_structures(elements, lib_directory=None):\n",
    "    \"\"\"\n",
    "    Accesses the Materials Project and downloads all structures for a list of\n",
    "    elements as poscar files.\n",
    "    \n",
    "    Parameters\n",
    "    ----------\n",
    "    elements : list\n",
    "        A list of element symbols.\n",
    "    lib_directory : str\n",
    "        Path to the lib_directory to save the poscar files to.  Default uses\n",
    "        the iprPy library/dft_structures directory.\n",
    "    \"\"\"\n",
    "    # Function-specific imports\n",
    "    import requests\n",
    "    \n",
    "    # Define subset generator\n",
    "    def subsets(fullset):\n",
    "        for i, item in enumerate(fullset):\n",
    "            yield [item]\n",
    "            if len(fullset) > 1:\n",
    "                for subset in subsets(fullset[i+1:]):\n",
    "                    yield [item] + subset\n",
    "    \n",
    "    # Get default lib_directory\n",
    "    if lib_directory is None:\n",
    "        lib_directory = os.path.join(os.path.dirname(iprPy.rootdir), 'library', 'ref')\n",
    "    lib_directory = os.path.abspath(lib_directory)\n",
    "    \n",
    "    # Set comp_directory\n",
    "    elements.sort()\n",
    "    have = []\n",
    "    for subelements in subsets(elements):\n",
    "        elements_string = '-'.join(subelements)\n",
    "        comp_directory = os.path.join(lib_directory, elements_string)\n",
    "        if not os.path.isdir(comp_directory):\n",
    "            os.makedirs(comp_directory)\n",
    "        \n",
    "        # Build list of downloaded entries\n",
    "        for fname in glob.iglob(os.path.join(comp_directory, 'oqmd-*.poscar')):\n",
    "            have.append(os.path.splitext(os.path.basename(fname))[0])\n",
    "    #print('Have', len(have), 'records')\n",
    "    \n",
    "    # Build list of missing OQMD entries\n",
    "    elements_string = '-'.join(elements)\n",
    "    \n",
    "    composition_r = requests.get('http://oqmd.org/materials/composition/' + elements_string)\n",
    "    composition_html = composition_r.text\n",
    "    \n",
    "    missing = []\n",
    "    count = 0\n",
    "    while True:\n",
    "        count += 1\n",
    "        try:\n",
    "            start = composition_html.index('href=\"/materials/entry/') + len('href=\"/materials/entry/')\n",
    "        except:\n",
    "            break\n",
    "        else:\n",
    "            end = start + composition_html[start:].index('\">')\n",
    "            entry_number = composition_html[start:end]\n",
    "            composition_html = composition_html[end+2:]\n",
    "            entry_id = 'oqmd-'+entry_number\n",
    "            if entry_id not in have and entry_id not in missing:\n",
    "                missing.append(entry_id)\n",
    "        if count > 100:\n",
    "            raise ValueError('Loop likely infinite')\n",
    "    #print('Missing', len(missing), 'records')\n",
    "    \n",
    "    # Download missing entries\n",
    "    for entry_id in missing:\n",
    "        entry_number = entry_id.replace('oqmd-', '')\n",
    "        entry_r = requests.get('http://oqmd.org/materials/entry/' + entry_number)\n",
    "        entry_html = entry_r.text\n",
    "        \n",
    "        start = entry_html.index('href=\"/materials/structure/') + len('href=\"/materials/structure/')\n",
    "        end = start + entry_html[start:].index('\">')\n",
    "        structure_number = entry_html[start:end]\n",
    "        \n",
    "        try:\n",
    "            structure_url = 'http://oqmd.org/materials/export/conventional/poscar/' + structure_number\n",
    "            structure_r = requests.get(structure_url)\n",
    "            structure_r.raise_for_status()\n",
    "        except:\n",
    "            try:\n",
    "                structure_url = 'http://oqmd.org/materials/export/primitive/poscar/' + structure_number\n",
    "                structure_r = requests.get(structure_url)\n",
    "                structure_r.raise_for_status()\n",
    "            except:\n",
    "                continue\n",
    "        \n",
    "        # Save poscar\n",
    "        poscar = structure_r.text\n",
    "        system = am.load('poscar', poscar)\n",
    "        system = system.normalize()\n",
    "        elements_string = '-'.join(system.symbols)\n",
    "        structure_file = os.path.join(lib_directory, elements_string, entry_id + '.poscar')\n",
    "        \n",
    "        with open(structure_file, 'w') as f:\n",
    "            f.write(poscar)\n",
    "        print('Added', entry_id)"
   ]
  },
  {
   "cell_type": "markdown",
   "metadata": {},
   "source": [
    "### Get reference structures"
   ]
  },
  {
   "cell_type": "code",
   "execution_count": 8,
   "metadata": {},
   "outputs": [
    {
     "name": "stdout",
     "output_type": "stream",
     "text": [
      "Added oqmd-11876\n",
      "Added oqmd-676271\n",
      "Added oqmd-10125\n",
      "Added oqmd-1215660\n",
      "Added oqmd-1216016\n",
      "Added oqmd-1215214\n",
      "Added oqmd-1215125\n",
      "Added oqmd-1214591\n",
      "Added oqmd-1214858\n",
      "Added oqmd-1214769\n",
      "Added oqmd-1215838\n",
      "Added oqmd-1214947\n",
      "Added oqmd-1215036\n",
      "Added oqmd-1215571\n",
      "Added oqmd-1214680\n",
      "Added oqmd-1215482\n",
      "Added oqmd-1215927\n"
     ]
    }
   ],
   "source": [
    "for elements in elements_set:\n",
    "    try:\n",
    "        get_oqmd_structures(elements.split())\n",
    "    except:\n",
    "        print('Failed:', elements)"
   ]
  },
  {
   "cell_type": "markdown",
   "metadata": {},
   "source": [
    "## 4. Run crystal_space_group calculations on the reference structures"
   ]
  },
  {
   "cell_type": "code",
   "execution_count": 9,
   "metadata": {},
   "outputs": [],
   "source": [
    "calculation = iprPy.load_calculation('crystal_space_group')\n",
    "run_directory = iprPy.load_run_directory('demo_1')"
   ]
  },
  {
   "cell_type": "code",
   "execution_count": 10,
   "metadata": {},
   "outputs": [],
   "source": [
    "input_script = \"\"\"\n",
    "\n",
    "# Build load information based on prototype records\n",
    "buildcombos                 crystalprototype load_file proto\n",
    "\n",
    "# Build load information based on reference structures\n",
    "buildcombos                 atomicreference load_file ref\n",
    "\n",
    "# Specify reference buildcombos limiters (only build for element sets listed)\n",
    "ref_elements                Ag\n",
    "\n",
    "# Units that input/output values are in\n",
    "length_unit                 \n",
    "pressure_unit               \n",
    "energy_unit                 \n",
    "force_unit                  \n",
    "\n",
    "# Run parameters\n",
    "symmetryprecision           \n",
    "primitivecell               \n",
    "idealcell                   \n",
    "\"\"\"\n",
    "with open('input_script.in', 'w') as f:\n",
    "    f.write(input_script)"
   ]
  },
  {
   "cell_type": "code",
   "execution_count": 11,
   "metadata": {},
   "outputs": [
    {
     "name": "stdout",
     "output_type": "stream",
     "text": [
      "In database style local at C:\\Users\\lmh1\\Documents\\calculations\\ipr\\demo :\n",
      "- 40 of style calculation_crystal_space_group\n",
      " - 0 are complete\n",
      " - 40 still to run\n",
      " - 0 issued errors\n"
     ]
    }
   ],
   "source": [
    "calculation = iprPy.load_calculation('crystal_space_group')\n",
    "\n",
    "with open('input_script.in') as f:\n",
    "    input_dict = iprPy.input.parse(f, singularkeys=calculation.singularkeys)\n",
    "    \n",
    "database.prepare(run_directory, calculation, **input_dict)\n",
    "database.check_records(calculation.record_style)"
   ]
  },
  {
   "cell_type": "code",
   "execution_count": 12,
   "metadata": {},
   "outputs": [
    {
     "name": "stdout",
     "output_type": "stream",
     "text": [
      "Runner started with pid 8528\n",
      "No simulations left to run\n",
      "In database style local at C:\\Users\\lmh1\\Documents\\calculations\\ipr\\demo :\n",
      "- 40 of style calculation_crystal_space_group\n",
      " - 40 are complete\n",
      " - 0 still to run\n",
      " - 0 issued errors\n"
     ]
    }
   ],
   "source": [
    "database.runner(run_directory)\n",
    "database.check_records(calculation.record_style)"
   ]
  },
  {
   "cell_type": "markdown",
   "metadata": {},
   "source": [
    "## 5. Match prototypes to references"
   ]
  },
  {
   "cell_type": "markdown",
   "metadata": {},
   "source": [
    "### Get results and split into reference and prototype"
   ]
  },
  {
   "cell_type": "code",
   "execution_count": 13,
   "metadata": {},
   "outputs": [],
   "source": [
    "results_df = database.get_records_df(style=calculation.record_style, full=True, flat=True)"
   ]
  },
  {
   "cell_type": "code",
   "execution_count": 14,
   "metadata": {},
   "outputs": [],
   "source": [
    "reference_df = results_df[results_df.family+'.poscar'==results_df.load_file].reset_index()\n",
    "prototype_df = results_df[results_df.family+'.json'==results_df.load_file].reset_index()"
   ]
  },
  {
   "cell_type": "markdown",
   "metadata": {},
   "source": [
    "### Match based on space group information"
   ]
  },
  {
   "cell_type": "code",
   "execution_count": 17,
   "metadata": {},
   "outputs": [],
   "source": [
    "try:\n",
    "    match_df = pd.read_csv('reference_prototype_match.csv')\n",
    "except:\n",
    "    match_df = pd.DataFrame()\n",
    "\n",
    "if len(reference_df) != len(match_df):\n",
    "    # Match based on Pearson symbol and space group number\n",
    "    match_df = []\n",
    "    for reference in reference_df.itertuples():\n",
    "        match_dict = {}\n",
    "        match_dict['reference'] = reference.family\n",
    "        match_dict['site'], match_dict['number'] = reference.family.split('-')\n",
    "        match_dict['number'] = int(match_dict['number'])\n",
    "        matches = prototype_df[((reference.pearson_symbol == prototype_df.pearson_symbol)\n",
    "                               &(reference.spacegroup_number == prototype_df.spacegroup_number))]\n",
    "        if len(matches) == 1:\n",
    "            match_dict['prototype'] = matches.iloc[0].family\n",
    "            match_dict['ref_wykoff'] = reference.wykoff_letters\n",
    "        elif len(matches) == 0:\n",
    "            match_dict['prototype'] = np.nan\n",
    "        else:\n",
    "            match_dict['prototype'] = 'multiple'\n",
    "        match_df.append(match_dict)\n",
    "    match_df = pd.DataFrame(match_df)\n",
    "\n",
    "    # Check known equivalent Wykoff sites for prototypes\n",
    "    match_df.loc[(match_df.prototype=='A1--Cu--fcc') & (~match_df.ref_wykoff.isin(['a', 'b'])),\n",
    "                 'prototype'] = np.nan\n",
    "    match_df.loc[(match_df.prototype=='A2--W--bcc') & (~match_df.ref_wykoff.isin(['a'])),\n",
    "                 'prototype'] = np.nan\n",
    "    match_df.loc[(match_df.prototype=='A3--Mg--hcp') & (~match_df.ref_wykoff.isin(['b', 'c', 'd'])),\n",
    "                 'prototype'] = np.nan\n",
    "    match_df.loc[(match_df.prototype==\"A3'--alpha-La--double-hcp\") & (~match_df.ref_wykoff.isin(['a b', 'a c', 'a d'])),\n",
    "                 'prototype'] = np.nan\n",
    "    match_df.loc[(match_df.prototype=='A4--C--dc') & (~match_df.ref_wykoff.isin(['a', 'b'])),\n",
    "                 'prototype'] = np.nan\n",
    "    match_df.loc[(match_df.prototype=='A5--beta-Sn') & (~match_df.ref_wykoff.isin(['a', 'b'])),\n",
    "                 'prototype'] = np.nan\n",
    "    match_df.loc[(match_df.prototype=='A6--In--bct') & (~match_df.ref_wykoff.isin(['a', 'b'])),\n",
    "                 'prototype'] = np.nan\n",
    "    match_df.loc[(match_df.prototype=='A7--alpha-As') & (~match_df.ref_wykoff.isin(['c'])),\n",
    "                 'prototype'] = np.nan\n",
    "    match_df.loc[(match_df.prototype=='Ah--alpha-Po--sc') & (~match_df.ref_wykoff.isin(['a', 'b'])),\n",
    "                 'prototype'] = np.nan\n",
    "    match_df.loc[(match_df.prototype=='A15--beta-W') & (~match_df.ref_wykoff.isin(['a c', 'a d'])),\n",
    "                 'prototype'] = np.nan\n",
    "\n",
    "    # Sort and remove excess information\n",
    "    match_df = match_df.sort_values(['site', 'number']).reset_index()[['reference', 'prototype']]\n",
    "    \n",
    "    # Identify reference compositions\n",
    "    refdir = os.path.join(iprPy.rootdir, '..', 'library', 'ref')\n",
    "    match_df['composition'] = [np.nan for i in range(len(match_df))]\n",
    "    for fname in glob.iglob(os.path.join(refdir, '*', '*.poscar')):\n",
    "        reference = os.path.splitext(os.path.basename(fname))[0]\n",
    "        with open(fname) as f:\n",
    "            lines = f.readlines()\n",
    "            symbols = lines[5].split()\n",
    "            counts = list(np.array(lines[6].split(), dtype=int))\n",
    "            composition = iprPy.analysis.composition(symbols, counts)\n",
    "            match_df.loc[match_df.reference==reference, 'composition'] = composition\n",
    "    \n",
    "    # Save\n",
    "    match_df.to_csv('reference_prototype_match.csv', index=False)"
   ]
  },
  {
   "cell_type": "code",
   "execution_count": 18,
   "metadata": {},
   "outputs": [
    {
     "data": {
      "text/html": [
       "<div>\n",
       "<style scoped>\n",
       "    .dataframe tbody tr th:only-of-type {\n",
       "        vertical-align: middle;\n",
       "    }\n",
       "\n",
       "    .dataframe tbody tr th {\n",
       "        vertical-align: top;\n",
       "    }\n",
       "\n",
       "    .dataframe thead th {\n",
       "        text-align: right;\n",
       "    }\n",
       "</style>\n",
       "<table border=\"1\" class=\"dataframe\">\n",
       "  <thead>\n",
       "    <tr style=\"text-align: right;\">\n",
       "      <th></th>\n",
       "      <th>reference</th>\n",
       "      <th>prototype</th>\n",
       "      <th>composition</th>\n",
       "    </tr>\n",
       "  </thead>\n",
       "  <tbody>\n",
       "    <tr>\n",
       "      <th>0</th>\n",
       "      <td>mp-124</td>\n",
       "      <td>A1--Cu--fcc</td>\n",
       "      <td>Ag</td>\n",
       "    </tr>\n",
       "    <tr>\n",
       "      <th>1</th>\n",
       "      <td>mp-8566</td>\n",
       "      <td>A3'--alpha-La--double-hcp</td>\n",
       "      <td>Ag</td>\n",
       "    </tr>\n",
       "    <tr>\n",
       "      <th>2</th>\n",
       "      <td>mp-10597</td>\n",
       "      <td>A3--Mg--hcp</td>\n",
       "      <td>Ag</td>\n",
       "    </tr>\n",
       "    <tr>\n",
       "      <th>3</th>\n",
       "      <td>mp-989737</td>\n",
       "      <td>NaN</td>\n",
       "      <td>Ag</td>\n",
       "    </tr>\n",
       "    <tr>\n",
       "      <th>4</th>\n",
       "      <td>oqmd-10125</td>\n",
       "      <td>A3--Mg--hcp</td>\n",
       "      <td>Ag</td>\n",
       "    </tr>\n",
       "    <tr>\n",
       "      <th>5</th>\n",
       "      <td>oqmd-11876</td>\n",
       "      <td>A3'--alpha-La--double-hcp</td>\n",
       "      <td>Ag</td>\n",
       "    </tr>\n",
       "    <tr>\n",
       "      <th>6</th>\n",
       "      <td>oqmd-676271</td>\n",
       "      <td>A1--Cu--fcc</td>\n",
       "      <td>Ag</td>\n",
       "    </tr>\n",
       "    <tr>\n",
       "      <th>7</th>\n",
       "      <td>oqmd-1214591</td>\n",
       "      <td>NaN</td>\n",
       "      <td>Ag</td>\n",
       "    </tr>\n",
       "    <tr>\n",
       "      <th>8</th>\n",
       "      <td>oqmd-1214680</td>\n",
       "      <td>NaN</td>\n",
       "      <td>Ag</td>\n",
       "    </tr>\n",
       "    <tr>\n",
       "      <th>9</th>\n",
       "      <td>oqmd-1214769</td>\n",
       "      <td>NaN</td>\n",
       "      <td>Ag</td>\n",
       "    </tr>\n",
       "    <tr>\n",
       "      <th>10</th>\n",
       "      <td>oqmd-1214858</td>\n",
       "      <td>NaN</td>\n",
       "      <td>Ag</td>\n",
       "    </tr>\n",
       "    <tr>\n",
       "      <th>11</th>\n",
       "      <td>oqmd-1214947</td>\n",
       "      <td>multiple</td>\n",
       "      <td>Ag</td>\n",
       "    </tr>\n",
       "    <tr>\n",
       "      <th>12</th>\n",
       "      <td>oqmd-1215036</td>\n",
       "      <td>NaN</td>\n",
       "      <td>Ag</td>\n",
       "    </tr>\n",
       "    <tr>\n",
       "      <th>13</th>\n",
       "      <td>oqmd-1215125</td>\n",
       "      <td>A2--W--bcc</td>\n",
       "      <td>Ag</td>\n",
       "    </tr>\n",
       "    <tr>\n",
       "      <th>14</th>\n",
       "      <td>oqmd-1215214</td>\n",
       "      <td>NaN</td>\n",
       "      <td>Ag</td>\n",
       "    </tr>\n",
       "    <tr>\n",
       "      <th>15</th>\n",
       "      <td>oqmd-1215482</td>\n",
       "      <td>A4--C--dc</td>\n",
       "      <td>Ag</td>\n",
       "    </tr>\n",
       "    <tr>\n",
       "      <th>16</th>\n",
       "      <td>oqmd-1215571</td>\n",
       "      <td>A5--beta-Sn</td>\n",
       "      <td>Ag</td>\n",
       "    </tr>\n",
       "    <tr>\n",
       "      <th>17</th>\n",
       "      <td>oqmd-1215660</td>\n",
       "      <td>A6--In--bct</td>\n",
       "      <td>Ag</td>\n",
       "    </tr>\n",
       "    <tr>\n",
       "      <th>18</th>\n",
       "      <td>oqmd-1215838</td>\n",
       "      <td>NaN</td>\n",
       "      <td>Ag</td>\n",
       "    </tr>\n",
       "    <tr>\n",
       "      <th>19</th>\n",
       "      <td>oqmd-1215927</td>\n",
       "      <td>NaN</td>\n",
       "      <td>Ag</td>\n",
       "    </tr>\n",
       "    <tr>\n",
       "      <th>20</th>\n",
       "      <td>oqmd-1216016</td>\n",
       "      <td>NaN</td>\n",
       "      <td>Ag</td>\n",
       "    </tr>\n",
       "  </tbody>\n",
       "</table>\n",
       "</div>"
      ],
      "text/plain": [
       "       reference                  prototype composition\n",
       "0         mp-124                A1--Cu--fcc          Ag\n",
       "1        mp-8566  A3'--alpha-La--double-hcp          Ag\n",
       "2       mp-10597                A3--Mg--hcp          Ag\n",
       "3      mp-989737                        NaN          Ag\n",
       "4     oqmd-10125                A3--Mg--hcp          Ag\n",
       "5     oqmd-11876  A3'--alpha-La--double-hcp          Ag\n",
       "6    oqmd-676271                A1--Cu--fcc          Ag\n",
       "7   oqmd-1214591                        NaN          Ag\n",
       "8   oqmd-1214680                        NaN          Ag\n",
       "9   oqmd-1214769                        NaN          Ag\n",
       "10  oqmd-1214858                        NaN          Ag\n",
       "11  oqmd-1214947                   multiple          Ag\n",
       "12  oqmd-1215036                        NaN          Ag\n",
       "13  oqmd-1215125                 A2--W--bcc          Ag\n",
       "14  oqmd-1215214                        NaN          Ag\n",
       "15  oqmd-1215482                  A4--C--dc          Ag\n",
       "16  oqmd-1215571                A5--beta-Sn          Ag\n",
       "17  oqmd-1215660                A6--In--bct          Ag\n",
       "18  oqmd-1215838                        NaN          Ag\n",
       "19  oqmd-1215927                        NaN          Ag\n",
       "20  oqmd-1216016                        NaN          Ag"
      ]
     },
     "execution_count": 18,
     "metadata": {},
     "output_type": "execute_result"
    }
   ],
   "source": [
    "match_df"
   ]
  }
 ],
 "metadata": {
  "kernelspec": {
   "display_name": "Python 3",
   "language": "python",
   "name": "python3"
  },
  "language_info": {
   "codemirror_mode": {
    "name": "ipython",
    "version": 3
   },
   "file_extension": ".py",
   "mimetype": "text/x-python",
   "name": "python",
   "nbconvert_exporter": "python",
   "pygments_lexer": "ipython3",
   "version": "3.6.4"
  }
 },
 "nbformat": 4,
 "nbformat_minor": 2
}
