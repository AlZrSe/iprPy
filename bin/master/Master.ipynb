{
 "cells": [
  {
   "cell_type": "markdown",
   "metadata": {
    "deletable": true,
    "editable": true
   },
   "source": [
    "# Master Workflow Manager (Single Potential)"
   ]
  },
  {
   "cell_type": "markdown",
   "metadata": {
    "deletable": true,
    "editable": true
   },
   "source": [
    "This is meant as a master workflow manager for setting up, running, and analyzing all implemented calculations for a single potential.  It is meant for helping evaluate the properties of a single potential and to serve as a guide for the steps in running the calculations across multiple potentials. "
   ]
  },
  {
   "cell_type": "markdown",
   "metadata": {
    "deletable": true,
    "editable": true
   },
   "source": [
    "## 1. Import Python packages\n",
    "\n",
    "Calculation imports "
   ]
  },
  {
   "cell_type": "code",
   "execution_count": 72,
   "metadata": {
    "collapsed": true,
    "deletable": true,
    "editable": true
   },
   "outputs": [],
   "source": [
    "# Standard library imports\n",
    "from __future__ import print_function, division\n",
    "import os\n",
    "import sys\n",
    "import glob\n",
    "import uuid\n",
    "import shutil\n",
    "from math import floor\n",
    "\n",
    "# http://www.numpy.org/\n",
    "import numpy as np\n",
    "\n",
    "# http://pandas.pydata.org/\n",
    "import pandas as pd\n",
    "\n",
    "# http://ipython.org/\n",
    "from IPython.display import display, HTML \n",
    "\n",
    "# https://github.com/usnistgov/DataModelDict\n",
    "from DataModelDict import DataModelDict as DM\n",
    "\n",
    "# https://github.com/usnistgov/atomman\n",
    "import atomman as am\n",
    "import atomman.lammps as lmp\n",
    "import atomman.unitconvert as uc\n",
    "\n",
    "# https://github.com/usnistgov/iprPy\n",
    "import iprPy"
   ]
  },
  {
   "cell_type": "markdown",
   "metadata": {},
   "source": [
    "Plotting imports"
   ]
  },
  {
   "cell_type": "code",
   "execution_count": 2,
   "metadata": {
    "collapsed": false
   },
   "outputs": [
    {
     "name": "stdout",
     "output_type": "stream",
     "text": [
      "bokeh version 0.12.4\n"
     ]
    },
    {
     "data": {
      "text/html": [
       "\n",
       "    <div class=\"bk-root\">\n",
       "        <a href=\"http://bokeh.pydata.org\" target=\"_blank\" class=\"bk-logo bk-logo-small bk-logo-notebook\"></a>\n",
       "        <span id=\"6f64f652-be75-4987-8ec1-dfac98f62bed\">Loading BokehJS ...</span>\n",
       "    </div>"
      ]
     },
     "metadata": {},
     "output_type": "display_data"
    },
    {
     "data": {
      "application/javascript": [
       "\n",
       "(function(global) {\n",
       "  function now() {\n",
       "    return new Date();\n",
       "  }\n",
       "\n",
       "  var force = true;\n",
       "\n",
       "  if (typeof (window._bokeh_onload_callbacks) === \"undefined\" || force === true) {\n",
       "    window._bokeh_onload_callbacks = [];\n",
       "    window._bokeh_is_loading = undefined;\n",
       "  }\n",
       "\n",
       "\n",
       "  \n",
       "  if (typeof (window._bokeh_timeout) === \"undefined\" || force === true) {\n",
       "    window._bokeh_timeout = Date.now() + 5000;\n",
       "    window._bokeh_failed_load = false;\n",
       "  }\n",
       "\n",
       "  var NB_LOAD_WARNING = {'data': {'text/html':\n",
       "     \"<div style='background-color: #fdd'>\\n\"+\n",
       "     \"<p>\\n\"+\n",
       "     \"BokehJS does not appear to have successfully loaded. If loading BokehJS from CDN, this \\n\"+\n",
       "     \"may be due to a slow or bad network connection. Possible fixes:\\n\"+\n",
       "     \"</p>\\n\"+\n",
       "     \"<ul>\\n\"+\n",
       "     \"<li>re-rerun `output_notebook()` to attempt to load from CDN again, or</li>\\n\"+\n",
       "     \"<li>use INLINE resources instead, as so:</li>\\n\"+\n",
       "     \"</ul>\\n\"+\n",
       "     \"<code>\\n\"+\n",
       "     \"from bokeh.resources import INLINE\\n\"+\n",
       "     \"output_notebook(resources=INLINE)\\n\"+\n",
       "     \"</code>\\n\"+\n",
       "     \"</div>\"}};\n",
       "\n",
       "  function display_loaded() {\n",
       "    if (window.Bokeh !== undefined) {\n",
       "      document.getElementById(\"6f64f652-be75-4987-8ec1-dfac98f62bed\").textContent = \"BokehJS successfully loaded.\";\n",
       "    } else if (Date.now() < window._bokeh_timeout) {\n",
       "      setTimeout(display_loaded, 100)\n",
       "    }\n",
       "  }\n",
       "\n",
       "  function run_callbacks() {\n",
       "    window._bokeh_onload_callbacks.forEach(function(callback) { callback() });\n",
       "    delete window._bokeh_onload_callbacks\n",
       "    console.info(\"Bokeh: all callbacks have finished\");\n",
       "  }\n",
       "\n",
       "  function load_libs(js_urls, callback) {\n",
       "    window._bokeh_onload_callbacks.push(callback);\n",
       "    if (window._bokeh_is_loading > 0) {\n",
       "      console.log(\"Bokeh: BokehJS is being loaded, scheduling callback at\", now());\n",
       "      return null;\n",
       "    }\n",
       "    if (js_urls == null || js_urls.length === 0) {\n",
       "      run_callbacks();\n",
       "      return null;\n",
       "    }\n",
       "    console.log(\"Bokeh: BokehJS not loaded, scheduling load and callback at\", now());\n",
       "    window._bokeh_is_loading = js_urls.length;\n",
       "    for (var i = 0; i < js_urls.length; i++) {\n",
       "      var url = js_urls[i];\n",
       "      var s = document.createElement('script');\n",
       "      s.src = url;\n",
       "      s.async = false;\n",
       "      s.onreadystatechange = s.onload = function() {\n",
       "        window._bokeh_is_loading--;\n",
       "        if (window._bokeh_is_loading === 0) {\n",
       "          console.log(\"Bokeh: all BokehJS libraries loaded\");\n",
       "          run_callbacks()\n",
       "        }\n",
       "      };\n",
       "      s.onerror = function() {\n",
       "        console.warn(\"failed to load library \" + url);\n",
       "      };\n",
       "      console.log(\"Bokeh: injecting script tag for BokehJS library: \", url);\n",
       "      document.getElementsByTagName(\"head\")[0].appendChild(s);\n",
       "    }\n",
       "  };var element = document.getElementById(\"6f64f652-be75-4987-8ec1-dfac98f62bed\");\n",
       "  if (element == null) {\n",
       "    console.log(\"Bokeh: ERROR: autoload.js configured with elementid '6f64f652-be75-4987-8ec1-dfac98f62bed' but no matching script tag was found. \")\n",
       "    return false;\n",
       "  }\n",
       "\n",
       "  var js_urls = [\"https://cdn.pydata.org/bokeh/release/bokeh-0.12.4.min.js\", \"https://cdn.pydata.org/bokeh/release/bokeh-widgets-0.12.4.min.js\"];\n",
       "\n",
       "  var inline_js = [\n",
       "    function(Bokeh) {\n",
       "      Bokeh.set_log_level(\"info\");\n",
       "    },\n",
       "    \n",
       "    function(Bokeh) {\n",
       "      \n",
       "      document.getElementById(\"6f64f652-be75-4987-8ec1-dfac98f62bed\").textContent = \"BokehJS is loading...\";\n",
       "    },\n",
       "    function(Bokeh) {\n",
       "      console.log(\"Bokeh: injecting CSS: https://cdn.pydata.org/bokeh/release/bokeh-0.12.4.min.css\");\n",
       "      Bokeh.embed.inject_css(\"https://cdn.pydata.org/bokeh/release/bokeh-0.12.4.min.css\");\n",
       "      console.log(\"Bokeh: injecting CSS: https://cdn.pydata.org/bokeh/release/bokeh-widgets-0.12.4.min.css\");\n",
       "      Bokeh.embed.inject_css(\"https://cdn.pydata.org/bokeh/release/bokeh-widgets-0.12.4.min.css\");\n",
       "    }\n",
       "  ];\n",
       "\n",
       "  function run_inline_js() {\n",
       "    \n",
       "    if ((window.Bokeh !== undefined) || (force === true)) {\n",
       "      for (var i = 0; i < inline_js.length; i++) {\n",
       "        inline_js[i](window.Bokeh);\n",
       "      }if (force === true) {\n",
       "        display_loaded();\n",
       "      }} else if (Date.now() < window._bokeh_timeout) {\n",
       "      setTimeout(run_inline_js, 100);\n",
       "    } else if (!window._bokeh_failed_load) {\n",
       "      console.log(\"Bokeh: BokehJS failed to load within specified timeout.\");\n",
       "      window._bokeh_failed_load = true;\n",
       "    } else if (force !== true) {\n",
       "      var cell = $(document.getElementById(\"6f64f652-be75-4987-8ec1-dfac98f62bed\")).parents('.cell').data().cell;\n",
       "      cell.output_area.append_execute_result(NB_LOAD_WARNING)\n",
       "    }\n",
       "\n",
       "  }\n",
       "\n",
       "  if (window._bokeh_is_loading === 0) {\n",
       "    console.log(\"Bokeh: BokehJS loaded, going straight to plotting\");\n",
       "    run_inline_js();\n",
       "  } else {\n",
       "    load_libs(js_urls, function() {\n",
       "      console.log(\"Bokeh: BokehJS plotting callback run at\", now());\n",
       "      run_inline_js();\n",
       "    });\n",
       "  }\n",
       "}(this));"
      ]
     },
     "metadata": {},
     "output_type": "display_data"
    }
   ],
   "source": [
    "import bokeh\n",
    "from bokeh.plotting import figure, output_file, show\n",
    "from bokeh.embed import components\n",
    "from bokeh.resources import Resources\n",
    "from bokeh.io import output_notebook\n",
    "print('bokeh version', bokeh.__version__)\n",
    "output_notebook()"
   ]
  },
  {
   "cell_type": "markdown",
   "metadata": {},
   "source": [
    "## 2. Input parameters\n",
    "\n",
    "### Specify run parameters\n",
    "\n",
    "- **potential** (*str*) - The potential to investigate.\n",
    "- **family** (*str*) - The family name (i.e. crystal prototype) corresponding to the primary crystal structure to examine.\n",
    "- **database** (*str*) - The name of the database to interact with (defined [here](#databases)).\n",
    "- **run_terms** (*dict*) - Defines the commands and directories to use for each number of processors on which this computer can run.\n",
    "    \n",
    "    - **lammps_command** (*str*) -The LAMMPS executable to use.\n",
    "    - **mpi_command** (*str*) - The MPI command to call when LAMMPS is executed.\n",
    "    - **run_directory** (*str*) - The run_directory to prepare the calculations in (defined with databases below)."
   ]
  },
  {
   "cell_type": "code",
   "execution_count": 3,
   "metadata": {
    "collapsed": true
   },
   "outputs": [],
   "source": [
    "potential = '2009--Purja-Pun-G-P--Ni-Al'\n",
    "family = 'A1--Cu--fcc'\n",
    "database = 'test'\n",
    "\n",
    "run_terms = {}\n",
    "\n",
    "# Define serial run terms\n",
    "run_terms[1] = {}\n",
    "run_terms[1]['lammps_command'] = 'lmp_mpi'\n",
    "run_terms[1]['mpi_command'] = ''\n",
    "\n",
    "# Define 2 core run terms\n",
    "run_terms[2] = {}\n",
    "run_terms[2]['lammps_command'] = 'lmp_mpi'\n",
    "run_terms[2]['mpi_command'] = 'mpiexec -localonly 2'\n",
    "\n",
    "# Define 3 core run terms\n",
    "run_terms[3] = {}\n",
    "run_terms[3]['lammps_command'] = 'lmp_mpi'\n",
    "run_terms[3]['mpi_command'] = 'mpiexec -localonly 3'\n",
    "\n",
    "# Define 4 core run terms\n",
    "run_terms[4] = {}\n",
    "run_terms[4]['lammps_command'] = 'lmp_mpi'\n",
    "run_terms[4]['mpi_command'] = 'mpiexec -localonly 4'"
   ]
  },
  {
   "cell_type": "markdown",
   "metadata": {
    "deletable": true,
    "editable": true
   },
   "source": [
    "### Define databases and run directories <a id=\"databases\"></a>\n",
    "\n",
    "These are specific to the computer this Notebook is running on and the databases that are being accessed."
   ]
  },
  {
   "cell_type": "code",
   "execution_count": 4,
   "metadata": {
    "collapsed": false,
    "deletable": true,
    "editable": true
   },
   "outputs": [],
   "source": [
    "# 'local' is a local directory\n",
    "if database == 'local':\n",
    "    dbase = iprPy.Database('local', \n",
    "                           host='C:\\\\Users\\\\lmh1\\\\Documents\\\\calculations\\\\ipr\\\\library')\n",
    "    \n",
    "    run_terms[1]['run_directory'] = 'C:\\\\Users\\\\lmh1\\\\Documents\\\\calculations\\\\ipr\\\\torun\\\\local\\\\1'\n",
    "    run_terms[2]['run_directory'] = 'C:\\\\Users\\\\lmh1\\\\Documents\\\\calculations\\\\ipr\\\\torun\\\\local\\\\2'\n",
    "    run_terms[3]['run_directory'] = 'C:\\\\Users\\\\lmh1\\\\Documents\\\\calculations\\\\ipr\\\\torun\\\\local\\\\3'\n",
    "    run_terms[4]['run_directory'] = 'C:\\\\Users\\\\lmh1\\\\Documents\\\\calculations\\\\ipr\\\\torun\\\\local\\\\4'\n",
    "\n",
    "# 'test' is a local directory for testing\n",
    "elif database == 'test':\n",
    "    dbase = iprPy.Database('local', \n",
    "                           host='C:\\\\Users\\\\lmh1\\\\Documents\\\\calculations\\\\ipr\\\\library_test')\n",
    "    \n",
    "    run_terms[1]['run_directory'] = 'C:\\\\Users\\\\lmh1\\\\Documents\\\\calculations\\\\ipr\\\\torun\\\\test\\\\1'\n",
    "    run_terms[2]['run_directory'] = 'C:\\\\Users\\\\lmh1\\\\Documents\\\\calculations\\\\ipr\\\\torun\\\\test\\\\2'\n",
    "    run_terms[3]['run_directory'] = 'C:\\\\Users\\\\lmh1\\\\Documents\\\\calculations\\\\ipr\\\\torun\\\\test\\\\3'\n",
    "    run_terms[4]['run_directory'] = 'C:\\\\Users\\\\lmh1\\\\Documents\\\\calculations\\\\ipr\\\\torun\\\\test\\\\4'\n",
    "\n",
    "# 'curator' is a local MDCS curator\n",
    "elif database == 'curator':\n",
    "    dbase = iprPy.Database('curator', \n",
    "                           host='https://iprhub.nist.gov/', \n",
    "                           user='admin', pswd='admin')\n",
    "    \n",
    "    run_terms[1]['run_directory'] = 'C:\\\\Users\\\\lmh1\\\\Documents\\\\calculations\\\\ipr\\\\torun\\\\curator\\\\1'\n",
    "    run_terms[2]['run_directory'] = 'C:\\\\Users\\\\lmh1\\\\Documents\\\\calculations\\\\ipr\\\\torun\\\\curator\\\\2'\n",
    "    run_terms[3]['run_directory'] = 'C:\\\\Users\\\\lmh1\\\\Documents\\\\calculations\\\\ipr\\\\torun\\\\curator\\\\3'\n",
    "    run_terms[4]['run_directory'] = 'C:\\\\Users\\\\lmh1\\\\Documents\\\\calculations\\\\ipr\\\\torun\\\\curator\\\\4'\n",
    "\n",
    "# 'iprhub' is the remote MDCS curator at iprhub\n",
    "elif database == 'iprhub':\n",
    "    dbase = iprPy.Database('curator', \n",
    "                           host='https://iprhub.nist.gov/', \n",
    "                           user='lmh1', \n",
    "                           pswd='C:/users/lmh1/documents/iprhub/iprhub_password.txt',\n",
    "                           cert='C:/users/lmh1/documents/iprhub/iprhub-ca.pem')\n",
    "    \n",
    "    run_terms[1]['run_directory'] = 'C:\\\\Users\\\\lmh1\\\\Documents\\\\calculations\\\\ipr\\\\torun\\\\iprhub\\\\1'\n",
    "    run_terms[2]['run_directory'] = 'C:\\\\Users\\\\lmh1\\\\Documents\\\\calculations\\\\ipr\\\\torun\\\\iprhub\\\\2'\n",
    "    run_terms[3]['run_directory'] = 'C:\\\\Users\\\\lmh1\\\\Documents\\\\calculations\\\\ipr\\\\torun\\\\iprhub\\\\3'\n",
    "    run_terms[4]['run_directory'] = 'C:\\\\Users\\\\lmh1\\\\Documents\\\\calculations\\\\ipr\\\\torun\\\\iprhub\\\\4'"
   ]
  },
  {
   "cell_type": "markdown",
   "metadata": {
    "deletable": true,
    "editable": true
   },
   "source": [
    "## 3. Setup"
   ]
  },
  {
   "cell_type": "markdown",
   "metadata": {
    "deletable": true,
    "editable": true
   },
   "source": [
    "### Verify iprPy modules loaded"
   ]
  },
  {
   "cell_type": "code",
   "execution_count": 5,
   "metadata": {
    "collapsed": false,
    "deletable": true,
    "editable": true
   },
   "outputs": [
    {
     "name": "stdout",
     "output_type": "stream",
     "text": [
      "calculations that passed import:\n",
      " point_defect_static\n",
      " dynamic_relax\n",
      " surface_energy\n",
      " E_vs_r_scan\n",
      " dislocation_monopole\n",
      " stacking_fault\n",
      " refine_structure\n",
      " stacking_fault_multi\n",
      " LAMMPS_ELASTIC\n",
      "calculations that failed import:\n",
      "\n",
      "records that passed import:\n",
      " calculation_cohesive_energy_relation\n",
      " stacking_fault\n",
      " point_defect\n",
      " calculation_system_relax\n",
      " calculation_dislocation_monopole\n",
      " calculation_point_defect_formation\n",
      " dislocation_monopole\n",
      " calculation_generalized_stacking_fault\n",
      " free_surface\n",
      " crystal_prototype\n",
      " calculation_dynamic_relax\n",
      " calculation_surface_energy\n",
      " calculation_stacking_fault\n",
      " potential_LAMMPS\n",
      "records that failed import:\n",
      "\n",
      "databases that passed import:\n",
      " local\n",
      " curator\n",
      "databases that failed import:\n",
      "\n"
     ]
    }
   ],
   "source": [
    "iprPy.check_modules()"
   ]
  },
  {
   "cell_type": "markdown",
   "metadata": {},
   "source": [
    "### Build database reference records"
   ]
  },
  {
   "cell_type": "code",
   "execution_count": 6,
   "metadata": {
    "collapsed": true
   },
   "outputs": [],
   "source": [
    "iprPy.highthroughput.build(dbase)"
   ]
  },
  {
   "cell_type": "code",
   "execution_count": 7,
   "metadata": {
    "collapsed": true
   },
   "outputs": [],
   "source": [
    "crystal_prototype_df = dbase.get_records_df(style='crystal_prototype')\n",
    "\n",
    "counts = {}\n",
    "for i, prototype in crystal_prototype_df.iterrows():\n",
    "    model = DM(dbase.get_record(name=prototype.id).content)\n",
    "    counts[prototype.id] = np.unique(model.finds('component'), return_counts=True)[1]"
   ]
  },
  {
   "cell_type": "markdown",
   "metadata": {},
   "source": [
    "### Define functions and resources"
   ]
  },
  {
   "cell_type": "markdown",
   "metadata": {},
   "source": [
    "**comp_refine** generates a composition string based on symbols and unique sites of prototypes"
   ]
  },
  {
   "cell_type": "code",
   "execution_count": 8,
   "metadata": {
    "collapsed": true
   },
   "outputs": [],
   "source": [
    "def comp_refine(symbols, counts):\n",
    "    \"\"\"Takes a list of symbols and count of how many times each symbol appears and generates a composition string.\"\"\"\n",
    "    primes = [2,3,5,7,11,13,17,19,23,29,31,37,41,43,47]\n",
    "    \n",
    "    sym_dict = {}\n",
    "    for i in xrange(len(symbols)):\n",
    "        sym_dict[symbols[i]] = counts[i]\n",
    "    \n",
    "    for prime in primes:\n",
    "        if max(sym_dict.values()) < prime:\n",
    "            break\n",
    "        \n",
    "        while True:\n",
    "            breaktime = False\n",
    "            for value in sym_dict.values():\n",
    "                if value % prime != 0:\n",
    "                    breaktime = True\n",
    "                    break\n",
    "            if breaktime:\n",
    "                break\n",
    "            for key in sym_dict:\n",
    "                sym_dict[key] /= prime\n",
    "    \n",
    "    composition=''\n",
    "    for key in sorted(sym_dict):\n",
    "        if sym_dict[key] > 0:\n",
    "            composition += key\n",
    "            if sym_dict[key] != 1:\n",
    "                composition += str(int(sym_dict[key]))\n",
    "            \n",
    "    return composition   "
   ]
  },
  {
   "cell_type": "markdown",
   "metadata": {},
   "source": [
    "**plot_gen** generates the bokeh E vs. r plots."
   ]
  },
  {
   "cell_type": "code",
   "execution_count": 21,
   "metadata": {
    "collapsed": true
   },
   "outputs": [],
   "source": [
    "def plot_gen(df, composition, colors, dashes):\n",
    "    \n",
    "    ymin = floor(df.min().min())\n",
    "    if ymin < -10: ymin = -10\n",
    "    \n",
    "    p = figure(title='Cohesive Energy vs. Interatomic Spacing for ' + composition,\n",
    "               plot_width = 800,\n",
    "               plot_height = 600,\n",
    "               x_range = [2, 6],\n",
    "               y_range = [ymin, 0],              \n",
    "               x_axis_label='r (A)', \n",
    "               y_axis_label='Cohesive Energy (eV/atom)')\n",
    "   \n",
    "    for prototype, values in df.iteritems():\n",
    "        if prototype != 'r':\n",
    "            p.line(df.r, values, \n",
    "                   legend=prototype, \n",
    "                   line_color=colors[prototype], \n",
    "                   line_dash=dashes[prototype], \n",
    "                   line_width = 2)            \n",
    "    \n",
    "    p.legend.location = \"bottom_right\"    \n",
    "    return p  \n",
    "\n",
    "max_string_length = 16\n",
    "\n",
    "line_color = {\n",
    "   #elemental\n",
    "    'A1--Cu--fcc':                'black',\n",
    "    'A2--W--bcc':                 'blue',\n",
    "    'A3--Mg--hcp':                'red',\n",
    "    'A3\\'--alpha-La':             'cyan',\n",
    "    'A4--C--dc':                  'magenta',\n",
    "    'A5--beta-Sn':                '#EAC117',\n",
    "    'A6--In--bct':                'orange',\n",
    "    'A7--alpha-As':               'gray',\n",
    "    'A15--beta-W':                'green',\n",
    "    'Ah--alpha-Po--sc':           'brown',\n",
    "   #1:1\n",
    "    'B1--NaCl':                   'black',\n",
    "    'B2--CsCl':                   'blue',\n",
    "    'B3--ZnS':                    'red',\n",
    "    'L1_0--AuCu':                 'cyan',\n",
    "   #1:2\n",
    "    'C1--CaF2':                   'black',\n",
    "   #1:3\n",
    "    'A15--Cr3Si':                 'black',\n",
    "    'D0_3--BiF3':                 'blue',\n",
    "    'L1_2--AuCu3':                'red',\n",
    "   #1:1:2\n",
    "    'L2_1--AlCu2Mn':              'red'\n",
    "}\n",
    "\n",
    "line_dash = {\n",
    "   #elemental\n",
    "    'A1--Cu--fcc':                'solid',\n",
    "    'A2--W--bcc':                 'solid',\n",
    "    'A3--Mg--hcp':                'dashed',\n",
    "    'A3\\'--alpha-La':             'dashdot',\n",
    "    'A4--C--dc':                  'solid',\n",
    "    'A5--beta-Sn':                'solid',\n",
    "    'A6--In--bct':                'solid',\n",
    "    'A7--alpha-As':               'solid',\n",
    "    'A15--beta-W':                'solid',\n",
    "    'Ah--alpha-Po--sc':           'solid',\n",
    "   #1:1\n",
    "    'B1--NaCl':                   'solid',\n",
    "    'B2--CsCl':                   'solid',\n",
    "    'B3--ZnS':                    'solid',\n",
    "    'L1_0--AuCu':                 'solid',\n",
    "   #1:2\n",
    "    'C1--CaF2':                   'solid',\n",
    "   #1:3\n",
    "    'A15--Cr3Si':                 'solid',\n",
    "    'D0_3--BiF3':                 'solid',\n",
    "    'L1_2--AuCu3':                'solid',\n",
    "   #1:1:2\n",
    "    'L2_1--AlCu2Mn':              'solid'\n",
    "}"
   ]
  },
  {
   "cell_type": "markdown",
   "metadata": {
    "deletable": true,
    "editable": true
   },
   "source": [
    "## 4. E_vs_r_scan"
   ]
  },
  {
   "cell_type": "code",
   "execution_count": 10,
   "metadata": {
    "collapsed": true,
    "deletable": true,
    "editable": true
   },
   "outputs": [],
   "source": [
    "n = 1\n",
    "calculation_style = 'E_vs_r_scan'\n",
    "record_style = 'calculation_cohesive_energy_relation'"
   ]
  },
  {
   "cell_type": "markdown",
   "metadata": {
    "deletable": true,
    "editable": true
   },
   "source": [
    "### Prepare"
   ]
  },
  {
   "cell_type": "code",
   "execution_count": 11,
   "metadata": {
    "collapsed": false,
    "deletable": true,
    "editable": true
   },
   "outputs": [],
   "source": [
    "run_directory = run_terms[n]['run_directory']\n",
    "\n",
    "input_dict = {}\n",
    "input_dict['calculation_style'] = calculation_style\n",
    "input_dict['lammps_command'] = run_terms[n]['lammps_command']\n",
    "input_dict['mpi_command'] = run_terms[n]['mpi_command']\n",
    "input_dict['potential_name'] = potential\n",
    "\n",
    "iprPy.highthroughput.prepare(dbase, run_directory, input_dict=input_dict)"
   ]
  },
  {
   "cell_type": "markdown",
   "metadata": {
    "deletable": true,
    "editable": true
   },
   "source": [
    "### Run"
   ]
  },
  {
   "cell_type": "code",
   "execution_count": 12,
   "metadata": {
    "collapsed": true,
    "deletable": true,
    "editable": true
   },
   "outputs": [],
   "source": [
    "iprPy.highthroughput.runner(dbase, run_directory)"
   ]
  },
  {
   "cell_type": "markdown",
   "metadata": {},
   "source": [
    "### Analyze"
   ]
  },
  {
   "cell_type": "markdown",
   "metadata": {},
   "source": [
    "Fetch records"
   ]
  },
  {
   "cell_type": "code",
   "execution_count": 13,
   "metadata": {
    "collapsed": false
   },
   "outputs": [
    {
     "name": "stdout",
     "output_type": "stream",
     "text": [
      "60 records found\n"
     ]
    }
   ],
   "source": [
    "results_df = dbase.get_records_df(style=record_style, full=True, flat=False)\n",
    "results_df = results_df[results_df.potential_id == potential]\n",
    "results_df = results_df[results_df.calc_script == 'calc_'+calculation_style]\n",
    "\n",
    "print(len(results_df), 'records found')"
   ]
  },
  {
   "cell_type": "markdown",
   "metadata": {},
   "source": [
    "Check errors"
   ]
  },
  {
   "cell_type": "code",
   "execution_count": 14,
   "metadata": {
    "collapsed": false
   },
   "outputs": [
    {
     "name": "stdout",
     "output_type": "stream",
     "text": [
      "0 issued errors\n"
     ]
    }
   ],
   "source": [
    "error_df = results_df[results_df.status=='error']\n",
    "print(len(error_df), 'issued errors')\n",
    "\n",
    "if len(error_df) > 0:\n",
    "    for error in np.unique(error_df.error.values):\n",
    "        print(error)    "
   ]
  },
  {
   "cell_type": "markdown",
   "metadata": {},
   "source": [
    "Define composition"
   ]
  },
  {
   "cell_type": "code",
   "execution_count": 15,
   "metadata": {
    "collapsed": true
   },
   "outputs": [],
   "source": [
    "compositions = []\n",
    "for i, calc in results_df.iterrows():\n",
    "    compositions.append(comp_refine(calc.symbols, counts[calc.family]))\n",
    "results_df = results_df.assign(composition=compositions)"
   ]
  },
  {
   "cell_type": "markdown",
   "metadata": {},
   "source": [
    "Generate plots"
   ]
  },
  {
   "cell_type": "code",
   "execution_count": 23,
   "metadata": {
    "collapsed": false,
    "scrolled": true
   },
   "outputs": [
    {
     "data": {
      "text/html": [
       "\n",
       "\n",
       "    <div class=\"bk-root\">\n",
       "        <div class=\"bk-plotdiv\" id=\"fb2f2d0c-742c-429a-bc5f-005dea4b6029\"></div>\n",
       "    </div>\n",
       "<script type=\"text/javascript\">\n",
       "  \n",
       "  (function(global) {\n",
       "    function now() {\n",
       "      return new Date();\n",
       "    }\n",
       "  \n",
       "    var force = false;\n",
       "  \n",
       "    if (typeof (window._bokeh_onload_callbacks) === \"undefined\" || force === true) {\n",
       "      window._bokeh_onload_callbacks = [];\n",
       "      window._bokeh_is_loading = undefined;\n",
       "    }\n",
       "  \n",
       "  \n",
       "    \n",
       "    if (typeof (window._bokeh_timeout) === \"undefined\" || force === true) {\n",
       "      window._bokeh_timeout = Date.now() + 0;\n",
       "      window._bokeh_failed_load = false;\n",
       "    }\n",
       "  \n",
       "    var NB_LOAD_WARNING = {'data': {'text/html':\n",
       "       \"<div style='background-color: #fdd'>\\n\"+\n",
       "       \"<p>\\n\"+\n",
       "       \"BokehJS does not appear to have successfully loaded. If loading BokehJS from CDN, this \\n\"+\n",
       "       \"may be due to a slow or bad network connection. Possible fixes:\\n\"+\n",
       "       \"</p>\\n\"+\n",
       "       \"<ul>\\n\"+\n",
       "       \"<li>re-rerun `output_notebook()` to attempt to load from CDN again, or</li>\\n\"+\n",
       "       \"<li>use INLINE resources instead, as so:</li>\\n\"+\n",
       "       \"</ul>\\n\"+\n",
       "       \"<code>\\n\"+\n",
       "       \"from bokeh.resources import INLINE\\n\"+\n",
       "       \"output_notebook(resources=INLINE)\\n\"+\n",
       "       \"</code>\\n\"+\n",
       "       \"</div>\"}};\n",
       "  \n",
       "    function display_loaded() {\n",
       "      if (window.Bokeh !== undefined) {\n",
       "        document.getElementById(\"fb2f2d0c-742c-429a-bc5f-005dea4b6029\").textContent = \"BokehJS successfully loaded.\";\n",
       "      } else if (Date.now() < window._bokeh_timeout) {\n",
       "        setTimeout(display_loaded, 100)\n",
       "      }\n",
       "    }\n",
       "  \n",
       "    function run_callbacks() {\n",
       "      window._bokeh_onload_callbacks.forEach(function(callback) { callback() });\n",
       "      delete window._bokeh_onload_callbacks\n",
       "      console.info(\"Bokeh: all callbacks have finished\");\n",
       "    }\n",
       "  \n",
       "    function load_libs(js_urls, callback) {\n",
       "      window._bokeh_onload_callbacks.push(callback);\n",
       "      if (window._bokeh_is_loading > 0) {\n",
       "        console.log(\"Bokeh: BokehJS is being loaded, scheduling callback at\", now());\n",
       "        return null;\n",
       "      }\n",
       "      if (js_urls == null || js_urls.length === 0) {\n",
       "        run_callbacks();\n",
       "        return null;\n",
       "      }\n",
       "      console.log(\"Bokeh: BokehJS not loaded, scheduling load and callback at\", now());\n",
       "      window._bokeh_is_loading = js_urls.length;\n",
       "      for (var i = 0; i < js_urls.length; i++) {\n",
       "        var url = js_urls[i];\n",
       "        var s = document.createElement('script');\n",
       "        s.src = url;\n",
       "        s.async = false;\n",
       "        s.onreadystatechange = s.onload = function() {\n",
       "          window._bokeh_is_loading--;\n",
       "          if (window._bokeh_is_loading === 0) {\n",
       "            console.log(\"Bokeh: all BokehJS libraries loaded\");\n",
       "            run_callbacks()\n",
       "          }\n",
       "        };\n",
       "        s.onerror = function() {\n",
       "          console.warn(\"failed to load library \" + url);\n",
       "        };\n",
       "        console.log(\"Bokeh: injecting script tag for BokehJS library: \", url);\n",
       "        document.getElementsByTagName(\"head\")[0].appendChild(s);\n",
       "      }\n",
       "    };var element = document.getElementById(\"fb2f2d0c-742c-429a-bc5f-005dea4b6029\");\n",
       "    if (element == null) {\n",
       "      console.log(\"Bokeh: ERROR: autoload.js configured with elementid 'fb2f2d0c-742c-429a-bc5f-005dea4b6029' but no matching script tag was found. \")\n",
       "      return false;\n",
       "    }\n",
       "  \n",
       "    var js_urls = [];\n",
       "  \n",
       "    var inline_js = [\n",
       "      function(Bokeh) {\n",
       "        (function() {\n",
       "          var fn = function() {\n",
       "            var docs_json = {\"878d862e-8f05-4875-be7f-c53002993e3c\":{\"roots\":{\"references\":[{\"attributes\":{\"line_alpha\":{\"value\":0.1},\"line_color\":{\"value\":\"#1f77b4\"},\"line_width\":{\"value\":2},\"x\":{\"field\":\"x\"},\"y\":{\"field\":\"y\"}},\"id\":\"e304628f-3552-4aa7-ac40-dea5f5898f48\",\"type\":\"Line\"},{\"attributes\":{\"callback\":null,\"column_names\":[\"y\",\"x\"],\"data\":{\"x\":{\"__ndarray__\":\"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\",\"dtype\":\"float64\",\"shape\":[200]},\"y\":{\"__ndarray__\":\"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\",\"dtype\":\"float64\",\"shape\":[200]}}},\"id\":\"65189f04-c234-44d9-adca-d0e6c5e64437\",\"type\":\"ColumnDataSource\"},{\"attributes\":{\"label\":{\"value\":\"A3'--alpha-La\"},\"renderers\":[{\"id\":\"6d5da364-f62c-4441-b446-b8047048a4a2\",\"type\":\"GlyphRenderer\"}]},\"id\":\"011e49e6-b0ea-469a-b5c8-d9b89c44afc9\",\"type\":\"LegendItem\"},{\"attributes\":{},\"id\":\"e690ebcd-c3b4-4785-8f2b-82834427f5b4\",\"type\":\"BasicTickFormatter\"},{\"attributes\":{\"items\":[{\"id\":\"8f045cf8-4ffc-41b1-97e7-278a2bc5e30b\",\"type\":\"LegendItem\"},{\"id\":\"b7ad8f05-9c15-40ee-b909-8eea5262b33a\",\"type\":\"LegendItem\"},{\"id\":\"b0fe5afb-d9d9-4552-83a1-b328c21463ac\",\"type\":\"LegendItem\"},{\"id\":\"011e49e6-b0ea-469a-b5c8-d9b89c44afc9\",\"type\":\"LegendItem\"},{\"id\":\"560f9bc9-c9ef-41ae-936c-ae8e5c27d112\",\"type\":\"LegendItem\"},{\"id\":\"4e0f93e5-add6-44b4-807a-b74999d4d44f\",\"type\":\"LegendItem\"},{\"id\":\"d4a15a7b-bc4d-45fa-88e8-35aa7fe6ad3c\",\"type\":\"LegendItem\"},{\"id\":\"af214935-a791-4b30-9be6-cd2029bb525d\",\"type\":\"LegendItem\"},{\"id\":\"d01b7e6a-b512-43fa-81ae-263d085f820e\",\"type\":\"LegendItem\"},{\"id\":\"ed2b72d0-0b84-41de-b7d4-b1ce9ba47c40\",\"type\":\"LegendItem\"}],\"location\":\"bottom_right\",\"plot\":{\"id\":\"7b0441c1-903f-40cd-a0d1-f4226c90fa78\",\"subtype\":\"Figure\",\"type\":\"Plot\"}},\"id\":\"974960ab-eebf-4e23-9dc5-79ec38d4480f\",\"type\":\"Legend\"},{\"attributes\":{\"plot\":{\"id\":\"7b0441c1-903f-40cd-a0d1-f4226c90fa78\",\"subtype\":\"Figure\",\"type\":\"Plot\"}},\"id\":\"b8c28cc7-e3fe-4bc9-8794-1025638b1a48\",\"type\":\"ResetTool\"},{\"attributes\":{\"line_color\":{\"value\":\"blue\"},\"line_width\":{\"value\":2},\"x\":{\"field\":\"x\"},\"y\":{\"field\":\"y\"}},\"id\":\"857cdbf7-fcd2-40f8-b89b-d9efa7eed076\",\"type\":\"Line\"},{\"attributes\":{\"line_color\":{\"value\":\"green\"},\"line_width\":{\"value\":2},\"x\":{\"field\":\"x\"},\"y\":{\"field\":\"y\"}},\"id\":\"6cae5f4c-420b-4b28-8599-6068638da35f\",\"type\":\"Line\"},{\"attributes\":{\"axis_label\":\"Cohesive Energy (eV/atom)\",\"formatter\":{\"id\":\"e690ebcd-c3b4-4785-8f2b-82834427f5b4\",\"type\":\"BasicTickFormatter\"},\"plot\":{\"id\":\"7b0441c1-903f-40cd-a0d1-f4226c90fa78\",\"subtype\":\"Figure\",\"type\":\"Plot\"},\"ticker\":{\"id\":\"a7002c76-21c9-463d-8ac9-244cb1cedceb\",\"type\":\"BasicTicker\"}},\"id\":\"3bdda5ab-3b4a-44a6-b079-0c02c42e28de\",\"type\":\"LinearAxis\"},{\"attributes\":{},\"id\":\"a7002c76-21c9-463d-8ac9-244cb1cedceb\",\"type\":\"BasicTicker\"},{\"attributes\":{\"data_source\":{\"id\":\"65189f04-c234-44d9-adca-d0e6c5e64437\",\"type\":\"ColumnDataSource\"},\"glyph\":{\"id\":\"d9f59ced-70bf-4880-ac96-32e28f90c4a3\",\"type\":\"Line\"},\"hover_glyph\":null,\"nonselection_glyph\":{\"id\":\"f63897f9-6f4c-4252-a509-fe9aa700a3df\",\"type\":\"Line\"},\"selection_glyph\":null},\"id\":\"14897ee6-59d3-4d3a-a472-c2eb67d68285\",\"type\":\"GlyphRenderer\"},{\"attributes\":{\"data_source\":{\"id\":\"532fba33-656a-4d56-a347-6620d4449fe5\",\"type\":\"ColumnDataSource\"},\"glyph\":{\"id\":\"60fd1eb3-3c38-4913-a299-c339c15cfa3b\",\"type\":\"Line\"},\"hover_glyph\":null,\"nonselection_glyph\":{\"id\":\"892ec4da-76dc-43d0-b98e-a032515f71a6\",\"type\":\"Line\"},\"selection_glyph\":null},\"id\":\"550d23a7-a818-4ebf-bbbb-39c5f94f9f41\",\"type\":\"GlyphRenderer\"},{\"attributes\":{\"label\":{\"value\":\"A6--In--bct\"},\"renderers\":[{\"id\":\"47f7a500-0fb0-4792-b383-0125f55391b1\",\"type\":\"GlyphRenderer\"}]},\"id\":\"af214935-a791-4b30-9be6-cd2029bb525d\",\"type\":\"LegendItem\"},{\"attributes\":{\"label\":{\"value\":\"A3--Mg--hcp\"},\"renderers\":[{\"id\":\"550d23a7-a818-4ebf-bbbb-39c5f94f9f41\",\"type\":\"GlyphRenderer\"}]},\"id\":\"560f9bc9-c9ef-41ae-936c-ae8e5c27d112\",\"type\":\"LegendItem\"},{\"attributes\":{\"line_alpha\":{\"value\":0.1},\"line_color\":{\"value\":\"#1f77b4\"},\"line_width\":{\"value\":2},\"x\":{\"field\":\"x\"},\"y\":{\"field\":\"y\"}},\"id\":\"4b27dd1d-5c44-41f9-94fd-236f6eac9720\",\"type\":\"Line\"},{\"attributes\":{\"data_source\":{\"id\":\"16153001-66d8-4caf-a52b-c88a5bb72fdd\",\"type\":\"ColumnDataSource\"},\"glyph\":{\"id\":\"92bf9c56-2be6-45c9-8eba-656972100fad\",\"type\":\"Line\"},\"hover_glyph\":null,\"nonselection_glyph\":{\"id\":\"2a56632f-f472-4257-8b8e-cfab9d06e68f\",\"type\":\"Line\"},\"selection_glyph\":null},\"id\":\"47f7a500-0fb0-4792-b383-0125f55391b1\",\"type\":\"GlyphRenderer\"},{\"attributes\":{\"callback\":null,\"column_names\":[\"y\",\"x\"],\"data\":{\"x\":{\"__ndarray__\":\"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\",\"dtype\":\"float64\",\"shape\":[200]},\"y\":{\"__ndarray__\":\"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\",\"dtype\":\"float64\",\"shape\":[200]}}},\"id\":\"8e031f72-957f-433c-a72d-756a4b0ce26b\",\"type\":\"ColumnDataSource\"},{\"attributes\":{\"label\":{\"value\":\"A1--Cu--fcc\"},\"renderers\":[{\"id\":\"25c24772-68f9-4511-80bc-a922fa6a6055\",\"type\":\"GlyphRenderer\"}]},\"id\":\"8f045cf8-4ffc-41b1-97e7-278a2bc5e30b\",\"type\":\"LegendItem\"},{\"attributes\":{\"data_source\":{\"id\":\"c1d3e212-9224-46a1-96de-efdc2a84b9d6\",\"type\":\"ColumnDataSource\"},\"glyph\":{\"id\":\"57d23b0e-e912-45a4-8c75-d4f6626e873c\",\"type\":\"Line\"},\"hover_glyph\":null,\"nonselection_glyph\":{\"id\":\"d2a6b863-1c2e-4435-9d0b-cd093fcd66ab\",\"type\":\"Line\"},\"selection_glyph\":null},\"id\":\"3f46a8eb-6e32-454f-8db2-019700377831\",\"type\":\"GlyphRenderer\"},{\"attributes\":{\"plot\":{\"id\":\"7b0441c1-903f-40cd-a0d1-f4226c90fa78\",\"subtype\":\"Figure\",\"type\":\"Plot\"}},\"id\":\"dd35d7b8-c7ba-4c31-9c16-b8f9549b4f2b\",\"type\":\"WheelZoomTool\"},{\"attributes\":{\"dimension\":1,\"plot\":{\"id\":\"7b0441c1-903f-40cd-a0d1-f4226c90fa78\",\"subtype\":\"Figure\",\"type\":\"Plot\"},\"ticker\":{\"id\":\"a7002c76-21c9-463d-8ac9-244cb1cedceb\",\"type\":\"BasicTicker\"}},\"id\":\"4b1163c5-872a-48ca-b3a2-68773cf07d8d\",\"type\":\"Grid\"},{\"attributes\":{\"line_color\":{\"value\":\"gray\"},\"line_width\":{\"value\":2},\"x\":{\"field\":\"x\"},\"y\":{\"field\":\"y\"}},\"id\":\"57d23b0e-e912-45a4-8c75-d4f6626e873c\",\"type\":\"Line\"},{\"attributes\":{\"line_color\":{\"value\":\"#EAC117\"},\"line_width\":{\"value\":2},\"x\":{\"field\":\"x\"},\"y\":{\"field\":\"y\"}},\"id\":\"d9f59ced-70bf-4880-ac96-32e28f90c4a3\",\"type\":\"Line\"},{\"attributes\":{\"plot\":{\"id\":\"7b0441c1-903f-40cd-a0d1-f4226c90fa78\",\"subtype\":\"Figure\",\"type\":\"Plot\"}},\"id\":\"aecf9eb9-bfe3-471d-8a90-ce4516195d9b\",\"type\":\"PanTool\"},{\"attributes\":{\"active_drag\":\"auto\",\"active_scroll\":\"auto\",\"active_tap\":\"auto\",\"tools\":[{\"id\":\"aecf9eb9-bfe3-471d-8a90-ce4516195d9b\",\"type\":\"PanTool\"},{\"id\":\"dd35d7b8-c7ba-4c31-9c16-b8f9549b4f2b\",\"type\":\"WheelZoomTool\"},{\"id\":\"13b87b19-3891-4636-83de-ad558cbf655d\",\"type\":\"BoxZoomTool\"},{\"id\":\"e38dfc58-dd72-4f33-91a9-b1266ad30f7d\",\"type\":\"SaveTool\"},{\"id\":\"b8c28cc7-e3fe-4bc9-8794-1025638b1a48\",\"type\":\"ResetTool\"},{\"id\":\"d6ca2060-7f41-40be-8a19-971b022e7537\",\"type\":\"HelpTool\"}]},\"id\":\"5f6baff1-e26a-4e56-864d-b5a538819c36\",\"type\":\"Toolbar\"},{\"attributes\":{\"label\":{\"value\":\"A15--beta-W\"},\"renderers\":[{\"id\":\"5f545554-ba51-474d-a294-7f1013a76e94\",\"type\":\"GlyphRenderer\"}]},\"id\":\"b7ad8f05-9c15-40ee-b909-8eea5262b33a\",\"type\":\"LegendItem\"},{\"attributes\":{\"callback\":null,\"end\":0,\"start\":-4.0},\"id\":\"155c7c41-29cb-4e53-80eb-80ec54c461f1\",\"type\":\"Range1d\"},{\"attributes\":{\"label\":{\"value\":\"A2--W--bcc\"},\"renderers\":[{\"id\":\"351301ae-e288-45f8-90da-c3d692f59c78\",\"type\":\"GlyphRenderer\"}]},\"id\":\"b0fe5afb-d9d9-4552-83a1-b328c21463ac\",\"type\":\"LegendItem\"},{\"attributes\":{\"plot\":{\"id\":\"7b0441c1-903f-40cd-a0d1-f4226c90fa78\",\"subtype\":\"Figure\",\"type\":\"Plot\"}},\"id\":\"d6ca2060-7f41-40be-8a19-971b022e7537\",\"type\":\"HelpTool\"},{\"attributes\":{\"below\":[{\"id\":\"f8049345-fa8c-455d-8321-f61b1b539b3c\",\"type\":\"LinearAxis\"}],\"left\":[{\"id\":\"3bdda5ab-3b4a-44a6-b079-0c02c42e28de\",\"type\":\"LinearAxis\"}],\"plot_width\":800,\"renderers\":[{\"id\":\"f8049345-fa8c-455d-8321-f61b1b539b3c\",\"type\":\"LinearAxis\"},{\"id\":\"f6a69823-dd08-49ef-a4f8-78e5dbc5fff2\",\"type\":\"Grid\"},{\"id\":\"3bdda5ab-3b4a-44a6-b079-0c02c42e28de\",\"type\":\"LinearAxis\"},{\"id\":\"4b1163c5-872a-48ca-b3a2-68773cf07d8d\",\"type\":\"Grid\"},{\"id\":\"02c4f7d3-f4a2-4445-aca4-e2fee198ded9\",\"type\":\"BoxAnnotation\"},{\"id\":\"974960ab-eebf-4e23-9dc5-79ec38d4480f\",\"type\":\"Legend\"},{\"id\":\"25c24772-68f9-4511-80bc-a922fa6a6055\",\"type\":\"GlyphRenderer\"},{\"id\":\"5f545554-ba51-474d-a294-7f1013a76e94\",\"type\":\"GlyphRenderer\"},{\"id\":\"351301ae-e288-45f8-90da-c3d692f59c78\",\"type\":\"GlyphRenderer\"},{\"id\":\"6d5da364-f62c-4441-b446-b8047048a4a2\",\"type\":\"GlyphRenderer\"},{\"id\":\"550d23a7-a818-4ebf-bbbb-39c5f94f9f41\",\"type\":\"GlyphRenderer\"},{\"id\":\"1cd0fb39-2978-40ea-b938-054bc7eca599\",\"type\":\"GlyphRenderer\"},{\"id\":\"14897ee6-59d3-4d3a-a472-c2eb67d68285\",\"type\":\"GlyphRenderer\"},{\"id\":\"47f7a500-0fb0-4792-b383-0125f55391b1\",\"type\":\"GlyphRenderer\"},{\"id\":\"3f46a8eb-6e32-454f-8db2-019700377831\",\"type\":\"GlyphRenderer\"},{\"id\":\"544d0376-7608-4fdc-9dac-123813e20f7d\",\"type\":\"GlyphRenderer\"}],\"title\":{\"id\":\"9b6a259c-efe0-477f-9b3c-7f435a3de38c\",\"type\":\"Title\"},\"tool_events\":{\"id\":\"bac65aaa-310c-4749-ad72-a8777c953f26\",\"type\":\"ToolEvents\"},\"toolbar\":{\"id\":\"5f6baff1-e26a-4e56-864d-b5a538819c36\",\"type\":\"Toolbar\"},\"x_range\":{\"id\":\"1d5d6ead-3538-4e22-90da-e6400e10332b\",\"type\":\"Range1d\"},\"y_range\":{\"id\":\"155c7c41-29cb-4e53-80eb-80ec54c461f1\",\"type\":\"Range1d\"}},\"id\":\"7b0441c1-903f-40cd-a0d1-f4226c90fa78\",\"subtype\":\"Figure\",\"type\":\"Plot\"},{\"attributes\":{\"axis_label\":\"r (A)\",\"formatter\":{\"id\":\"c27724ce-eece-4b21-a420-6d34b1e24446\",\"type\":\"BasicTickFormatter\"},\"plot\":{\"id\":\"7b0441c1-903f-40cd-a0d1-f4226c90fa78\",\"subtype\":\"Figure\",\"type\":\"Plot\"},\"ticker\":{\"id\":\"5210db95-3901-41f7-8c15-6b569101e83c\",\"type\":\"BasicTicker\"}},\"id\":\"f8049345-fa8c-455d-8321-f61b1b539b3c\",\"type\":\"LinearAxis\"},{\"attributes\":{\"line_color\":{\"value\":\"orange\"},\"line_width\":{\"value\":2},\"x\":{\"field\":\"x\"},\"y\":{\"field\":\"y\"}},\"id\":\"92bf9c56-2be6-45c9-8eba-656972100fad\",\"type\":\"Line\"},{\"attributes\":{\"data_source\":{\"id\":\"f072f0e9-4d6f-4a84-a599-4db455b50838\",\"type\":\"ColumnDataSource\"},\"glyph\":{\"id\":\"28ebdfdd-8b4a-44ee-9784-aec243f1a4d1\",\"type\":\"Line\"},\"hover_glyph\":null,\"nonselection_glyph\":{\"id\":\"59d4bfab-7a9a-4675-8bc2-f0ebd03e8e8c\",\"type\":\"Line\"},\"selection_glyph\":null},\"id\":\"6d5da364-f62c-4441-b446-b8047048a4a2\",\"type\":\"GlyphRenderer\"},{\"attributes\":{},\"id\":\"bac65aaa-310c-4749-ad72-a8777c953f26\",\"type\":\"ToolEvents\"},{\"attributes\":{\"data_source\":{\"id\":\"7cf12b1b-18cf-4a5e-a834-331a36663065\",\"type\":\"ColumnDataSource\"},\"glyph\":{\"id\":\"857cdbf7-fcd2-40f8-b89b-d9efa7eed076\",\"type\":\"Line\"},\"hover_glyph\":null,\"nonselection_glyph\":{\"id\":\"d1c358bc-6f54-4746-bc0e-0490231aecb7\",\"type\":\"Line\"},\"selection_glyph\":null},\"id\":\"351301ae-e288-45f8-90da-c3d692f59c78\",\"type\":\"GlyphRenderer\"},{\"attributes\":{\"data_source\":{\"id\":\"647d0e04-ec05-43d9-9a86-bc3ff58679cd\",\"type\":\"ColumnDataSource\"},\"glyph\":{\"id\":\"49bc4306-fc38-4219-bce2-0bccf4259e2e\",\"type\":\"Line\"},\"hover_glyph\":null,\"nonselection_glyph\":{\"id\":\"7b037f7f-6693-433f-bc39-fd166c03d343\",\"type\":\"Line\"},\"selection_glyph\":null},\"id\":\"544d0376-7608-4fdc-9dac-123813e20f7d\",\"type\":\"GlyphRenderer\"},{\"attributes\":{\"line_alpha\":{\"value\":0.1},\"line_color\":{\"value\":\"#1f77b4\"},\"line_dash\":[6],\"line_width\":{\"value\":2},\"x\":{\"field\":\"x\"},\"y\":{\"field\":\"y\"}},\"id\":\"892ec4da-76dc-43d0-b98e-a032515f71a6\",\"type\":\"Line\"},{\"attributes\":{\"line_alpha\":{\"value\":0.1},\"line_color\":{\"value\":\"#1f77b4\"},\"line_width\":{\"value\":2},\"x\":{\"field\":\"x\"},\"y\":{\"field\":\"y\"}},\"id\":\"d1c358bc-6f54-4746-bc0e-0490231aecb7\",\"type\":\"Line\"},{\"attributes\":{\"data_source\":{\"id\":\"86274b79-87e9-4805-8500-b97acd2ef0d9\",\"type\":\"ColumnDataSource\"},\"glyph\":{\"id\":\"1ddf68a3-061b-44a0-8add-1225104c94f6\",\"type\":\"Line\"},\"hover_glyph\":null,\"nonselection_glyph\":{\"id\":\"4b27dd1d-5c44-41f9-94fd-236f6eac9720\",\"type\":\"Line\"},\"selection_glyph\":null},\"id\":\"25c24772-68f9-4511-80bc-a922fa6a6055\",\"type\":\"GlyphRenderer\"},{\"attributes\":{\"line_width\":{\"value\":2},\"x\":{\"field\":\"x\"},\"y\":{\"field\":\"y\"}},\"id\":\"1ddf68a3-061b-44a0-8add-1225104c94f6\",\"type\":\"Line\"},{\"attributes\":{\"line_alpha\":{\"value\":0.1},\"line_color\":{\"value\":\"#1f77b4\"},\"line_width\":{\"value\":2},\"x\":{\"field\":\"x\"},\"y\":{\"field\":\"y\"}},\"id\":\"d2a6b863-1c2e-4435-9d0b-cd093fcd66ab\",\"type\":\"Line\"},{\"attributes\":{\"line_alpha\":{\"value\":0.1},\"line_color\":{\"value\":\"#1f77b4\"},\"line_width\":{\"value\":2},\"x\":{\"field\":\"x\"},\"y\":{\"field\":\"y\"}},\"id\":\"f63897f9-6f4c-4252-a509-fe9aa700a3df\",\"type\":\"Line\"},{\"attributes\":{\"callback\":null,\"column_names\":[\"y\",\"x\"],\"data\":{\"x\":{\"__ndarray__\":\"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\",\"dtype\":\"float64\",\"shape\":[200]},\"y\":{\"__ndarray__\":\"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\",\"dtype\":\"float64\",\"shape\":[200]}}},\"id\":\"532fba33-656a-4d56-a347-6620d4449fe5\",\"type\":\"ColumnDataSource\"},{\"attributes\":{\"label\":{\"value\":\"A7--alpha-As\"},\"renderers\":[{\"id\":\"3f46a8eb-6e32-454f-8db2-019700377831\",\"type\":\"GlyphRenderer\"}]},\"id\":\"d01b7e6a-b512-43fa-81ae-263d085f820e\",\"type\":\"LegendItem\"},{\"attributes\":{\"label\":{\"value\":\"A4--C--dc\"},\"renderers\":[{\"id\":\"1cd0fb39-2978-40ea-b938-054bc7eca599\",\"type\":\"GlyphRenderer\"}]},\"id\":\"4e0f93e5-add6-44b4-807a-b74999d4d44f\",\"type\":\"LegendItem\"},{\"attributes\":{\"callback\":null,\"end\":6,\"start\":2},\"id\":\"1d5d6ead-3538-4e22-90da-e6400e10332b\",\"type\":\"Range1d\"},{\"attributes\":{\"line_alpha\":{\"value\":0.1},\"line_color\":{\"value\":\"#1f77b4\"},\"line_width\":{\"value\":2},\"x\":{\"field\":\"x\"},\"y\":{\"field\":\"y\"}},\"id\":\"bd1ac80f-9484-4a1e-b991-32d97bd3f520\",\"type\":\"Line\"},{\"attributes\":{\"line_color\":{\"value\":\"cyan\"},\"line_dash\":[6,4,2,4],\"line_width\":{\"value\":2},\"x\":{\"field\":\"x\"},\"y\":{\"field\":\"y\"}},\"id\":\"28ebdfdd-8b4a-44ee-9784-aec243f1a4d1\",\"type\":\"Line\"},{\"attributes\":{\"overlay\":{\"id\":\"02c4f7d3-f4a2-4445-aca4-e2fee198ded9\",\"type\":\"BoxAnnotation\"},\"plot\":{\"id\":\"7b0441c1-903f-40cd-a0d1-f4226c90fa78\",\"subtype\":\"Figure\",\"type\":\"Plot\"}},\"id\":\"13b87b19-3891-4636-83de-ad558cbf655d\",\"type\":\"BoxZoomTool\"},{\"attributes\":{\"callback\":null,\"column_names\":[\"y\",\"x\"],\"data\":{\"x\":{\"__ndarray__\":\"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\",\"dtype\":\"float64\",\"shape\":[200]},\"y\":{\"__ndarray__\":\"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\",\"dtype\":\"float64\",\"shape\":[200]}}},\"id\":\"c1d3e212-9224-46a1-96de-efdc2a84b9d6\",\"type\":\"ColumnDataSource\"},{\"attributes\":{\"callback\":null,\"column_names\":[\"y\",\"x\"],\"data\":{\"x\":{\"__ndarray__\":\"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\",\"dtype\":\"float64\",\"shape\":[200]},\"y\":{\"__ndarray__\":\"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\",\"dtype\":\"float64\",\"shape\":[200]}}},\"id\":\"647d0e04-ec05-43d9-9a86-bc3ff58679cd\",\"type\":\"ColumnDataSource\"},{\"attributes\":{\"callback\":null,\"column_names\":[\"y\",\"x\"],\"data\":{\"x\":{\"__ndarray__\":\"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\",\"dtype\":\"float64\",\"shape\":[200]},\"y\":{\"__ndarray__\":\"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\",\"dtype\":\"float64\",\"shape\":[200]}}},\"id\":\"7cf12b1b-18cf-4a5e-a834-331a36663065\",\"type\":\"ColumnDataSource\"},{\"attributes\":{\"callback\":null,\"column_names\":[\"y\",\"x\"],\"data\":{\"x\":{\"__ndarray__\":\"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\",\"dtype\":\"float64\",\"shape\":[200]},\"y\":{\"__ndarray__\":\"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\",\"dtype\":\"float64\",\"shape\":[200]}}},\"id\":\"4d38d3df-3010-416f-9020-028bdca6378a\",\"type\":\"ColumnDataSource\"},{\"attributes\":{\"plot\":null,\"text\":\"Cohesive Energy vs. Interatomic Spacing for Al\"},\"id\":\"9b6a259c-efe0-477f-9b3c-7f435a3de38c\",\"type\":\"Title\"},{\"attributes\":{\"line_color\":{\"value\":\"red\"},\"line_dash\":[6],\"line_width\":{\"value\":2},\"x\":{\"field\":\"x\"},\"y\":{\"field\":\"y\"}},\"id\":\"60fd1eb3-3c38-4913-a299-c339c15cfa3b\",\"type\":\"Line\"},{\"attributes\":{\"label\":{\"value\":\"A5--beta-Sn\"},\"renderers\":[{\"id\":\"14897ee6-59d3-4d3a-a472-c2eb67d68285\",\"type\":\"GlyphRenderer\"}]},\"id\":\"d4a15a7b-bc4d-45fa-88e8-35aa7fe6ad3c\",\"type\":\"LegendItem\"},{\"attributes\":{\"label\":{\"value\":\"Ah--alpha-Po--sc\"},\"renderers\":[{\"id\":\"544d0376-7608-4fdc-9dac-123813e20f7d\",\"type\":\"GlyphRenderer\"}]},\"id\":\"ed2b72d0-0b84-41de-b7d4-b1ce9ba47c40\",\"type\":\"LegendItem\"},{\"attributes\":{\"line_color\":{\"value\":\"brown\"},\"line_width\":{\"value\":2},\"x\":{\"field\":\"x\"},\"y\":{\"field\":\"y\"}},\"id\":\"49bc4306-fc38-4219-bce2-0bccf4259e2e\",\"type\":\"Line\"},{\"attributes\":{\"line_color\":{\"value\":\"magenta\"},\"line_width\":{\"value\":2},\"x\":{\"field\":\"x\"},\"y\":{\"field\":\"y\"}},\"id\":\"928f272b-e8c5-4626-ad96-61af0b27ef94\",\"type\":\"Line\"},{\"attributes\":{\"plot\":{\"id\":\"7b0441c1-903f-40cd-a0d1-f4226c90fa78\",\"subtype\":\"Figure\",\"type\":\"Plot\"}},\"id\":\"e38dfc58-dd72-4f33-91a9-b1266ad30f7d\",\"type\":\"SaveTool\"},{\"attributes\":{\"line_alpha\":{\"value\":0.1},\"line_color\":{\"value\":\"#1f77b4\"},\"line_width\":{\"value\":2},\"x\":{\"field\":\"x\"},\"y\":{\"field\":\"y\"}},\"id\":\"7b037f7f-6693-433f-bc39-fd166c03d343\",\"type\":\"Line\"},{\"attributes\":{\"line_alpha\":{\"value\":0.1},\"line_color\":{\"value\":\"#1f77b4\"},\"line_width\":{\"value\":2},\"x\":{\"field\":\"x\"},\"y\":{\"field\":\"y\"}},\"id\":\"2a56632f-f472-4257-8b8e-cfab9d06e68f\",\"type\":\"Line\"},{\"attributes\":{},\"id\":\"5210db95-3901-41f7-8c15-6b569101e83c\",\"type\":\"BasicTicker\"},{\"attributes\":{\"bottom_units\":\"screen\",\"fill_alpha\":{\"value\":0.5},\"fill_color\":{\"value\":\"lightgrey\"},\"left_units\":\"screen\",\"level\":\"overlay\",\"line_alpha\":{\"value\":1.0},\"line_color\":{\"value\":\"black\"},\"line_dash\":[4,4],\"line_width\":{\"value\":2},\"plot\":null,\"render_mode\":\"css\",\"right_units\":\"screen\",\"top_units\":\"screen\"},\"id\":\"02c4f7d3-f4a2-4445-aca4-e2fee198ded9\",\"type\":\"BoxAnnotation\"},{\"attributes\":{\"line_alpha\":{\"value\":0.1},\"line_color\":{\"value\":\"#1f77b4\"},\"line_dash\":[6,4,2,4],\"line_width\":{\"value\":2},\"x\":{\"field\":\"x\"},\"y\":{\"field\":\"y\"}},\"id\":\"59d4bfab-7a9a-4675-8bc2-f0ebd03e8e8c\",\"type\":\"Line\"},{\"attributes\":{\"data_source\":{\"id\":\"8e031f72-957f-433c-a72d-756a4b0ce26b\",\"type\":\"ColumnDataSource\"},\"glyph\":{\"id\":\"928f272b-e8c5-4626-ad96-61af0b27ef94\",\"type\":\"Line\"},\"hover_glyph\":null,\"nonselection_glyph\":{\"id\":\"e304628f-3552-4aa7-ac40-dea5f5898f48\",\"type\":\"Line\"},\"selection_glyph\":null},\"id\":\"1cd0fb39-2978-40ea-b938-054bc7eca599\",\"type\":\"GlyphRenderer\"},{\"attributes\":{},\"id\":\"c27724ce-eece-4b21-a420-6d34b1e24446\",\"type\":\"BasicTickFormatter\"},{\"attributes\":{\"plot\":{\"id\":\"7b0441c1-903f-40cd-a0d1-f4226c90fa78\",\"subtype\":\"Figure\",\"type\":\"Plot\"},\"ticker\":{\"id\":\"5210db95-3901-41f7-8c15-6b569101e83c\",\"type\":\"BasicTicker\"}},\"id\":\"f6a69823-dd08-49ef-a4f8-78e5dbc5fff2\",\"type\":\"Grid\"},{\"attributes\":{\"callback\":null,\"column_names\":[\"y\",\"x\"],\"data\":{\"x\":{\"__ndarray__\":\"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\",\"dtype\":\"float64\",\"shape\":[200]},\"y\":{\"__ndarray__\":\"86235ju7FUA4EeCQSoATQD8WXVrraBFAu0jwnHXhDkBOWuTg9CYLQCQnDLSGmgdATpmzxTE0BEAMzpTnUuwAQO+VvhPJffs/djJIqhtZ9T+INurKbODuP+PyUwcpleM/j3W6llq70T9h/WTfUfyjv4UZEtv1itW/8J79CEa647+VX9tBlCTsvxw4t6PhBPK/BRSLb2m19b9zX1v7eSL5v79MWYgzSvy/qla7XTss/78UOkwRu+UAwCY5rGbTFQLAVdHEV/UoA8DZprM4wSEEwLfEeVzRAgXAWvyfsJ/OBcAfhpHrVIcGwHds0vWcLgfAUFrjRKHFB8CHNuAzAU0IwCKTeJ/DxAjAFqPhta4sCcBY6RN04IQJwCRukENNzgnA267vn5IKCsCckaA5tTsKwO61HtdzYwrAkVXCMSeDCsDI6aZfx5sKwGHiTjXMrQrAoogLGyO5CsCgQcicwL0KwJpqVNqVuwrAr9EjW8yyCsCHgPuliqMKwPD6IwfzjQrA2sex+UFyCsDdohn35FAKwKBOriaBKgrAMZjnGcP/CcB+nX97CdEJwHfqLeCcngnAn2uZdrxoCcBHToCNpi8JwA1OkMul8wjA7wXliBi1CMAEo8uAc3QIwDx5fQpBMgjA37KHbQjvB8D30KcoJ6sHwPDoqCK+ZgfA0i6tis8hB8D+9zmmLtwGwH3iXwCYlQbA5L71Cb5NBsA24tN0UAQGwDr47Mf4uAXAZCfkemJrBcByNsH1UBsFwDqUz5i3yATAFhOjxcpzBMCQ4x3zAR0EwFycrSsJxQPAN+e756dsA8BVVHF1oBQDwJ3f/piXvQLAU6CujBNoAsB15nAQZBQCwFqmaYYbwgHA+UvxX6FwAcBcdY3Sjx8BwMSHZg/CzgDAMBvm10B+AMBFLxcVKS4AwPruHIMCvf+/BvtabGge/79s0EBCcoD+v3x5LAol4/2/1twgMZZG/b9NIHFQ5qr8v1D7p6k8EPy/nH9ensN2+78DOtdbpt76v2DUDMMMSPq/x8WJixiz+b8devtx4x/5v1pGGwd+jvi/4fNXH+/+97+sxZPSNXH3v2Zf//Jz5fa/7EM5Ye9b9r/3SOIC6tT1v1x9Q5WhUPW/RyjKzVDP9L9oATEzL1H0v0szfQ1v1vO/ioLCLDlf87/uN/gUp+vyv6lh8Ni8e/K/H2moa2QP8r8TdPbba6bxv46tyoaJQPG/kMnPgYnd8L+wEtBOT33wv4IrWgq6H/C/64/NI0+J7783bzJ+7tfuv/1ftVgWK+6/8VKRl5CC7b9InJ9ZK97sv6118DO2Pey/3Co8vwWh67/e4Kqk9Afrv0hyRnBacuq/xvv20wrg6b9kG73f1VDpvwZIuzeIxOi/SA2RSus66L+uESGFxbPnvw19yYbaLue/KXrpUuur5r/LnROAtirmv9D12sP6quW/NhEQn5gs5b9oGqmKiq/kvwpCW/nJM+S/GZC9wE6547+rJ3k6D0Djv2b8f2MAyOK/685j+BVR4r9jc6WNQtvhv341HqZ3ZuG/asF4xaXy4L8EVDB/vH/gv0dXVIOqDeC/UT2PTLs437/FnKrMhVfevzAkNdmMd92/fmWmmLCY3L81dniRIrvbv7nHhVQ+39q/4BFLal8F2r8goI7u4C3Zv+yoK4UdWdi/dKmuT2+H1795SdngL7nWv55Z3S647tW/4/80hmAo1b/CxJ4XdmbUv6H3mY34qNO/aTlhVMTv0r/vM0fFtDrSv/ZsV0CkidG/uSz0HWzc0L9l/3Wg5DLQv0mnCtfJGc+/vxqj/IXUzb8R/mtvp5XMv5DUDcHVXMu/EuwbkbYpyr9NlH/m7fvIv5il9MEe08e/J2sr7+uuxr8Lh5ot+Y7Fv79vUsbscsS/SjEcqnFaw7/Q4wIyOkXCv1xBwKADM8G/0ZiHgJojwL8o+P3cvy2+vxucU6SfGby/Vj7gzg8Lur+TRzWungK4v6+1F6g8Aba/2/zu9kkItL8tis2ooBmyv1wTixmYN7C/atzoi/3JrL9OIAoPD0qpv4cKUmVQ9qW/854m0tLVor9NDC1EqN6fvzfWCb9vkZq/NlWrIwbNlb9Rh4YW25aRvxC4b+Rp4Iu/Yq2fJBGshb8ynhhWfIKAvw==\",\"dtype\":\"float64\",\"shape\":[200]}}},\"id\":\"f072f0e9-4d6f-4a84-a599-4db455b50838\",\"type\":\"ColumnDataSource\"},{\"attributes\":{\"callback\":null,\"column_names\":[\"y\",\"x\"],\"data\":{\"x\":{\"__ndarray__\":\"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\",\"dtype\":\"float64\",\"shape\":[200]},\"y\":{\"__ndarray__\":\"msMksQ5lEUD/T/FNLcMOQKHvK9I/8QpAineL3YJJB0AnwnemT8UDQMMky1wKYgBA0IiCIrE9+j8mSG5G/vjzP/k/gf+y+Os/mJvmHSid4D/Gp4jv+qTHP7nI8mVzfMC/00BpVBH92r/h+YypsD7mv6Ls+ebmau6/AyeMxMQF87/1kS16fZP2v3oUgeEs3/m/1dGuHNbo/L8S2kOuyrH/v8d3YXAeHgHAEvSEr+9FAsBx+h7NUlMDwONn0LDxSATANyO0M8YoBcAVoUmtRfQFwMemLdC6rAbAaOgfxn1TB8CqLuxI2OkHwIkiXv7vcAjAOEupRo7pCMDPw7axrVMJwDjNN3TurgnAMt7mgC/7CcCNzt+lAjkKwF3W3OTraQrA2AkjP/yPCsAIvQBi66wKwJuTfWC6wQrAs9fG2OvOCsBQ9iThkNQKwHvwutNv0grArHXgDnvICsDQY8sa57YKwHR8S1QMngrACnq30Wd+CsDWLswrilgKwDjV7vknLQrAPJjuUw/9CcDOV+uIFMkJwL1KwHbRkQnAooGEsLZXCcCnCS0LLBsJwHhqvNuQ3AjA4PE29EecCMANDl4YsVoIwOYxRv4YGAjArbn6NqTUB8DfG2P8b5AHwKMQLvyWSwfA6rMgKRwGB8AxoYqp0L8GwPym7IZoeAbAUWypAZEvBsDntJ7S+uQFwISE5ZVjmAXA/oP6eZ5JBcBJQDelofgEwBwbPj2FpQTAciL6JoVQBMA3eDkeBvoDwFvsuRqQogPALMhcm8NKA8DhAKEcTfMCwNLNaN3SnALAR2JUuuVHAsDhx4TNo/QBwIeINi6FogHA3OuGpBdRAcAqei4nDwABwGM44O88rwDAVqAuNHdeAMCo2RpLqw0AwI3vasa9ef+/8jjDEFXY/r/S3EykWzf+v4nDI38Al/2/hNgIQWL3/L9nJmCRp1j8v95u5Fr8uvu/0SpFD44e+7/yK0/HiIP6v7FA0CEV6vm/EK8ht1ZS+b+vgSHIa7z4v930gU2IKPi/9RecD/mW97/itWwbAQj3v12SzFPVe/a/fU6DR5ry9b+ebue6Y2z1v2n0Lv5C6fS/IYmL4khp9L8fBTPIeuzzv+LphynVcvO/nn7OHE788r8gznht1ojyv4fI/cNfGPK/BtpH/vmq8b/qKb+xuEDxv2zu8Oqi2fC/0AXwFLF18L9C2ks1yhTwvyPX2DiLbe+/jLP7X/m27r/nPuDmmgXuv86U3zolWe2/ggKMbUyx7L+HD2Poxg3sv5mpxPlObuu/+3IwtqLS6r+s2I+/gjrqv2bAJTKwpem/R8X01+4T6b9le0DMBYXovyeYX3G5+Oe/5H3CBstu578ud+k7+ubmvwbtUuwcYea/d90GRBzd5b8V/n/a31rlv99i6SNN2uS/ZJgYnEdb5L9P9L7vsN3jv1LQN+tpYeO/QfFUyF3m4r/+fOKjf2ziv+h8wozB8+G/JgT/XRR84b/pYg3TZwXhv/hM0Ziqj+C/vt3OWsoa4L+v9Z6vZ03fvxvrXw3AZt6/ocZC/syB3b/Ff2/zxZ7cv5vx7oThvdu/p533Z1Xf2r///W5lVgPav9MaPkwYKtm/efTfGdFT2L9P7KvM0YDXv66Tu+92sda/2Y17k/Dl1b+f7QPORB7Vv1z3J0p3WtS/fE92z4qa079EVTUzgd7Sv5fCRklbJtK/Hcb71xhy0b+aXZ4YtcHQv4xe5ZUQFdC/n/2dmP7Xzr8kXmlIqIzNvxto0jrCR8y/GECPBe8Iy79ueARy0M/Jv22cwGIInMi/t71dFTptx7+b1uTWC0PGv5O0Rj8pHcW/7ukTGkb7w7/1/CUIIt3Cv0djSeqMwsG/CxxmHWyrwL9+u83IgC+/vyn8aYtYD72/ib4Zw/T2ur/SARcpRue4v1vKKNag4ba/rGNLhL7ntL+TwVm5uPuyvyFcGtj4H7G/5BTbQjqurr8qL6jxpkerv0AbbutZEai/O4I06d4Ppb9m12FU10aiv0sjvmJ4cZ+/UjLEpn3Nmr9VqBQClqGWvyRF3jVM65K/gJjiWYVMj7/4W8XES5mJv7D6lBMvr4S/hX15Ugt/gL/Da/IIq/F5v6MVp1rwF3S/R5RzjNedbr+bWXnshupmvw==\",\"dtype\":\"float64\",\"shape\":[200]}}},\"id\":\"16153001-66d8-4caf-a52b-c88a5bb72fdd\",\"type\":\"ColumnDataSource\"},{\"attributes\":{\"data_source\":{\"id\":\"4d38d3df-3010-416f-9020-028bdca6378a\",\"type\":\"ColumnDataSource\"},\"glyph\":{\"id\":\"6cae5f4c-420b-4b28-8599-6068638da35f\",\"type\":\"Line\"},\"hover_glyph\":null,\"nonselection_glyph\":{\"id\":\"bd1ac80f-9484-4a1e-b991-32d97bd3f520\",\"type\":\"Line\"},\"selection_glyph\":null},\"id\":\"5f545554-ba51-474d-a294-7f1013a76e94\",\"type\":\"GlyphRenderer\"},{\"attributes\":{\"callback\":null,\"column_names\":[\"y\",\"x\"],\"data\":{\"x\":{\"__ndarray__\":\"AAAAAAAAAEChZcdzKikAQELLjudUUgBA4jBWW397AECDlh3PqaQAQCT85ELUzQBAxWGstv72AEBmx3MqKSABQAYtO55TSQFAp5ICEn5yAUBI+MmFqJsBQOldkfnSxAFAisNYbf3tAUAqKSDhJxcCQMuO51RSQAJAbPSuyHxpAkANWnY8p5ICQK6/PbDRuwJATiUFJPzkAkDvisyXJg4DQJDwkwtRNwNAMVZbf3tgA0DSuyLzpYkDQHIh6mbQsgNAE4ex2vrbA0C07HhOJQUEQFVSQMJPLgRA9rcHNnpXBECWHc+ppIAEQDeDlh3PqQRA2OhdkfnSBEB5TiUFJPwEQBq07HhOJQVAuhm07HhOBUBbf3tgo3cFQPzkQtTNoAVAnUoKSPjJBUA+sNG7IvMFQN4VmS9NHAZAgHtgo3dFBkAg4ScXom4GQMFG74rMlwZAYqy2/vbABkACEn5yIeoGQKR3ReZLEwdARN0MWnY8B0DlQtTNoGUHQIaom0HLjgdAJg5jtfW3B0DIcyopIOEHQGjZ8ZxKCghACT+5EHUzCECqpICEn1wIQEoKSPjJhQhA7G8PbPSuCECM1dbfHtgIQC07nlNJAQlAzqBlx3MqCUBuBi07nlMJQBBs9K7IfAlAsNG7IvOlCUBRN4OWHc8JQPKcSgpI+AlAkgISfnIhCkA0aNnxnEoKQNTNoGXHcwpAdTNo2fGcCkAWmS9NHMYKQLb+9sBG7wpAWGS+NHEYC0D4yYWom0ELQJkvTRzGagtAOpUUkPCTC0Da+tsDG70LQHxgo3dF5gtAHMZq628PDEC9KzJfmjgMQF6R+dLEYQxA//bARu+KDECgXIi6GbQMQEDCTy5E3QxA4ScXom4GDUCCjd4VmS8NQCPzpYnDWA1AxFht/e2BDUBkvjRxGKsNQAUk/ORC1A1AponDWG39DUBH74rMlyYOQOhUUkDCTw5AiLoZtOx4DkApIOEnF6IOQMqFqJtByw5Aa+tvD2z0DkAMUTeDlh0PQKy2/vbARg9ATRzGautvD0DugY3eFZkPQI/nVFJAwg9AME0cxmrrD0Bo2fGcSgoQQDiM1dbfHhBACT+5EHUzEEDa8ZxKCkgQQKqkgISfXBBAeldkvjRxEEBKCkj4yYUQQBu9KzJfmhBA7G8PbPSuEEC8IvOlicMQQIzV1t8e2BBAXIi6GbTsEEAtO55TSQERQP7tgY3eFRFAzqBlx3MqEUCeU0kBCT8RQG4GLTueUxFAP7kQdTNoEUAQbPSuyHwRQOAe2OhdkRFAsNG7IvOlEUCAhJ9ciLoRQFE3g5YdzxFAIupm0LLjEUDynEoKSPgRQMJPLkTdDBJAkgISfnIhEkBjtfW3BzYSQDRo2fGcShJABBu9KzJfEkDUzaBlx3MSQKSAhJ9ciBJAdTNo2fGcEkBG5ksTh7ESQBaZL00cxhJA5ksTh7HaEkC2/vbARu8SQIex2vrbAxNAWGS+NHEYE0AoF6JuBi0TQPjJhaibQRNAyHxp4jBWE0CZL00cxmoTQGriMFZbfxNAOpUUkPCTE0AKSPjJhagTQNr62wMbvRNAq62/PbDRE0B8YKN3ReYTQEwTh7Ha+hNAHMZq628PFEDteE4lBSQUQL0rMl+aOBRAjt4VmS9NFEBekfnSxGEUQC5E3QxadhRA//bARu+KFEDPqaSAhJ8UQKBciLoZtBRAcA9s9K7IFEBAwk8uRN0UQBF1M2jZ8RRA4ScXom4GFUCy2vrbAxsVQIKN3hWZLxVAUkDCTy5EFUAj86WJw1gVQPOlicNYbRVAxFht/e2BFUCUC1E3g5YVQGS+NHEYqxVANXEYq62/FUAFJPzkQtQVQNbW3x7Y6BVAponDWG39FUB2PKeSAhIWQEfvisyXJhZAF6JuBi07FkDoVFJAwk8WQLgHNnpXZBZAiLoZtOx4FkBZbf3tgY0WQCkg4ScXohZA+tLEYay2FkDKhaibQcsWQJo4jNXW3xZAa+tvD2z0FkA7nlNJAQkXQAxRN4OWHRdA3AMbvSsyF0Cstv72wEYXQH1p4jBWWxdATRzGautvF0Aez6mkgIQXQO6Bjd4VmRdAvjRxGKutF0CP51RSQMIXQGCaOIzV1hdAME0cxmrrF0AAAAAAAAAYQA==\",\"dtype\":\"float64\",\"shape\":[200]},\"y\":{\"__ndarray__\":\"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\",\"dtype\":\"float64\",\"shape\":[200]}}},\"id\":\"86274b79-87e9-4805-8500-b97acd2ef0d9\",\"type\":\"ColumnDataSource\"}],\"root_ids\":[\"7b0441c1-903f-40cd-a0d1-f4226c90fa78\"]},\"title\":\"Bokeh Application\",\"version\":\"0.12.4\"}};\n",
       "            var render_items = [{\"docid\":\"878d862e-8f05-4875-be7f-c53002993e3c\",\"elementid\":\"fb2f2d0c-742c-429a-bc5f-005dea4b6029\",\"modelid\":\"7b0441c1-903f-40cd-a0d1-f4226c90fa78\"}];\n",
       "            \n",
       "            Bokeh.embed.embed_items(docs_json, render_items);\n",
       "          };\n",
       "          if (document.readyState != \"loading\") fn();\n",
       "          else document.addEventListener(\"DOMContentLoaded\", fn);\n",
       "        })();\n",
       "      },\n",
       "      function(Bokeh) {\n",
       "      }\n",
       "    ];\n",
       "  \n",
       "    function run_inline_js() {\n",
       "      \n",
       "      if ((window.Bokeh !== undefined) || (force === true)) {\n",
       "        for (var i = 0; i < inline_js.length; i++) {\n",
       "          inline_js[i](window.Bokeh);\n",
       "        }if (force === true) {\n",
       "          display_loaded();\n",
       "        }} else if (Date.now() < window._bokeh_timeout) {\n",
       "        setTimeout(run_inline_js, 100);\n",
       "      } else if (!window._bokeh_failed_load) {\n",
       "        console.log(\"Bokeh: BokehJS failed to load within specified timeout.\");\n",
       "        window._bokeh_failed_load = true;\n",
       "      } else if (force !== true) {\n",
       "        var cell = $(document.getElementById(\"fb2f2d0c-742c-429a-bc5f-005dea4b6029\")).parents('.cell').data().cell;\n",
       "        cell.output_area.append_execute_result(NB_LOAD_WARNING)\n",
       "      }\n",
       "  \n",
       "    }\n",
       "  \n",
       "    if (window._bokeh_is_loading === 0) {\n",
       "      console.log(\"Bokeh: BokehJS loaded, going straight to plotting\");\n",
       "      run_inline_js();\n",
       "    } else {\n",
       "      load_libs(js_urls, function() {\n",
       "        console.log(\"Bokeh: BokehJS plotting callback run at\", now());\n",
       "        run_inline_js();\n",
       "      });\n",
       "    }\n",
       "  }(this));\n",
       "</script>"
      ]
     },
     "metadata": {},
     "output_type": "display_data"
    },
    {
     "data": {
      "text/html": [
       "\n",
       "\n",
       "    <div class=\"bk-root\">\n",
       "        <div class=\"bk-plotdiv\" id=\"80f98dc6-319c-449a-b37f-f40c0265efac\"></div>\n",
       "    </div>\n",
       "<script type=\"text/javascript\">\n",
       "  \n",
       "  (function(global) {\n",
       "    function now() {\n",
       "      return new Date();\n",
       "    }\n",
       "  \n",
       "    var force = false;\n",
       "  \n",
       "    if (typeof (window._bokeh_onload_callbacks) === \"undefined\" || force === true) {\n",
       "      window._bokeh_onload_callbacks = [];\n",
       "      window._bokeh_is_loading = undefined;\n",
       "    }\n",
       "  \n",
       "  \n",
       "    \n",
       "    if (typeof (window._bokeh_timeout) === \"undefined\" || force === true) {\n",
       "      window._bokeh_timeout = Date.now() + 0;\n",
       "      window._bokeh_failed_load = false;\n",
       "    }\n",
       "  \n",
       "    var NB_LOAD_WARNING = {'data': {'text/html':\n",
       "       \"<div style='background-color: #fdd'>\\n\"+\n",
       "       \"<p>\\n\"+\n",
       "       \"BokehJS does not appear to have successfully loaded. If loading BokehJS from CDN, this \\n\"+\n",
       "       \"may be due to a slow or bad network connection. Possible fixes:\\n\"+\n",
       "       \"</p>\\n\"+\n",
       "       \"<ul>\\n\"+\n",
       "       \"<li>re-rerun `output_notebook()` to attempt to load from CDN again, or</li>\\n\"+\n",
       "       \"<li>use INLINE resources instead, as so:</li>\\n\"+\n",
       "       \"</ul>\\n\"+\n",
       "       \"<code>\\n\"+\n",
       "       \"from bokeh.resources import INLINE\\n\"+\n",
       "       \"output_notebook(resources=INLINE)\\n\"+\n",
       "       \"</code>\\n\"+\n",
       "       \"</div>\"}};\n",
       "  \n",
       "    function display_loaded() {\n",
       "      if (window.Bokeh !== undefined) {\n",
       "        document.getElementById(\"80f98dc6-319c-449a-b37f-f40c0265efac\").textContent = \"BokehJS successfully loaded.\";\n",
       "      } else if (Date.now() < window._bokeh_timeout) {\n",
       "        setTimeout(display_loaded, 100)\n",
       "      }\n",
       "    }\n",
       "  \n",
       "    function run_callbacks() {\n",
       "      window._bokeh_onload_callbacks.forEach(function(callback) { callback() });\n",
       "      delete window._bokeh_onload_callbacks\n",
       "      console.info(\"Bokeh: all callbacks have finished\");\n",
       "    }\n",
       "  \n",
       "    function load_libs(js_urls, callback) {\n",
       "      window._bokeh_onload_callbacks.push(callback);\n",
       "      if (window._bokeh_is_loading > 0) {\n",
       "        console.log(\"Bokeh: BokehJS is being loaded, scheduling callback at\", now());\n",
       "        return null;\n",
       "      }\n",
       "      if (js_urls == null || js_urls.length === 0) {\n",
       "        run_callbacks();\n",
       "        return null;\n",
       "      }\n",
       "      console.log(\"Bokeh: BokehJS not loaded, scheduling load and callback at\", now());\n",
       "      window._bokeh_is_loading = js_urls.length;\n",
       "      for (var i = 0; i < js_urls.length; i++) {\n",
       "        var url = js_urls[i];\n",
       "        var s = document.createElement('script');\n",
       "        s.src = url;\n",
       "        s.async = false;\n",
       "        s.onreadystatechange = s.onload = function() {\n",
       "          window._bokeh_is_loading--;\n",
       "          if (window._bokeh_is_loading === 0) {\n",
       "            console.log(\"Bokeh: all BokehJS libraries loaded\");\n",
       "            run_callbacks()\n",
       "          }\n",
       "        };\n",
       "        s.onerror = function() {\n",
       "          console.warn(\"failed to load library \" + url);\n",
       "        };\n",
       "        console.log(\"Bokeh: injecting script tag for BokehJS library: \", url);\n",
       "        document.getElementsByTagName(\"head\")[0].appendChild(s);\n",
       "      }\n",
       "    };var element = document.getElementById(\"80f98dc6-319c-449a-b37f-f40c0265efac\");\n",
       "    if (element == null) {\n",
       "      console.log(\"Bokeh: ERROR: autoload.js configured with elementid '80f98dc6-319c-449a-b37f-f40c0265efac' but no matching script tag was found. \")\n",
       "      return false;\n",
       "    }\n",
       "  \n",
       "    var js_urls = [];\n",
       "  \n",
       "    var inline_js = [\n",
       "      function(Bokeh) {\n",
       "        (function() {\n",
       "          var fn = function() {\n",
       "            var docs_json = {\"b240fa0a-175d-49f2-a420-c174350772aa\":{\"roots\":{\"references\":[{\"attributes\":{\"data_source\":{\"id\":\"a172e1d3-2cb0-4dd7-877f-fafcb4432838\",\"type\":\"ColumnDataSource\"},\"glyph\":{\"id\":\"d55eafcd-d8df-468c-a44e-fef34628dad0\",\"type\":\"Line\"},\"hover_glyph\":null,\"nonselection_glyph\":{\"id\":\"5bde22d8-14e1-48e5-beec-104804ad43df\",\"type\":\"Line\"},\"selection_glyph\":null},\"id\":\"8a8c4345-a0a0-4d83-8f80-8e525940fbf6\",\"type\":\"GlyphRenderer\"},{\"attributes\":{\"axis_label\":\"r (A)\",\"formatter\":{\"id\":\"e49e66f0-51e9-449f-806f-1accecd9b29c\",\"type\":\"BasicTickFormatter\"},\"plot\":{\"id\":\"80ba8b28-3fb0-4f8f-9d6c-5e288bc89252\",\"subtype\":\"Figure\",\"type\":\"Plot\"},\"ticker\":{\"id\":\"562eaef8-2077-4339-9019-95f2754d5d79\",\"type\":\"BasicTicker\"}},\"id\":\"b6cb1a92-71db-444d-a817-813e40a0a28f\",\"type\":\"LinearAxis\"},{\"attributes\":{},\"id\":\"3345de0a-a6a1-4b3f-9da3-1228d1fb61cb\",\"type\":\"BasicTickFormatter\"},{\"attributes\":{\"callback\":null,\"end\":6,\"start\":2},\"id\":\"84508a67-1d23-40a5-97e4-578a5227e809\",\"type\":\"Range1d\"},{\"attributes\":{\"callback\":null,\"end\":0,\"start\":-4.0},\"id\":\"cbe7f85b-1eae-4815-a2d9-c1b9638a9b7e\",\"type\":\"Range1d\"},{\"attributes\":{\"bottom_units\":\"screen\",\"fill_alpha\":{\"value\":0.5},\"fill_color\":{\"value\":\"lightgrey\"},\"left_units\":\"screen\",\"level\":\"overlay\",\"line_alpha\":{\"value\":1.0},\"line_color\":{\"value\":\"black\"},\"line_dash\":[4,4],\"line_width\":{\"value\":2},\"plot\":null,\"render_mode\":\"css\",\"right_units\":\"screen\",\"top_units\":\"screen\"},\"id\":\"59dc0e24-4ba9-4acc-8a1c-5573e3d9de53\",\"type\":\"BoxAnnotation\"},{\"attributes\":{\"plot\":{\"id\":\"80ba8b28-3fb0-4f8f-9d6c-5e288bc89252\",\"subtype\":\"Figure\",\"type\":\"Plot\"},\"ticker\":{\"id\":\"562eaef8-2077-4339-9019-95f2754d5d79\",\"type\":\"BasicTicker\"}},\"id\":\"77d25473-d1dc-43ac-8c60-6058a15b1b2b\",\"type\":\"Grid\"},{\"attributes\":{\"below\":[{\"id\":\"b6cb1a92-71db-444d-a817-813e40a0a28f\",\"type\":\"LinearAxis\"}],\"left\":[{\"id\":\"096ae11d-06cd-48c9-addc-fa1715b48fc8\",\"type\":\"LinearAxis\"}],\"plot_width\":800,\"renderers\":[{\"id\":\"b6cb1a92-71db-444d-a817-813e40a0a28f\",\"type\":\"LinearAxis\"},{\"id\":\"77d25473-d1dc-43ac-8c60-6058a15b1b2b\",\"type\":\"Grid\"},{\"id\":\"096ae11d-06cd-48c9-addc-fa1715b48fc8\",\"type\":\"LinearAxis\"},{\"id\":\"2070e7af-3c52-4867-b8f0-a518fde99571\",\"type\":\"Grid\"},{\"id\":\"59dc0e24-4ba9-4acc-8a1c-5573e3d9de53\",\"type\":\"BoxAnnotation\"},{\"id\":\"0cda656c-3133-4a19-881f-5b6c8de1a71c\",\"type\":\"Legend\"},{\"id\":\"8a8c4345-a0a0-4d83-8f80-8e525940fbf6\",\"type\":\"GlyphRenderer\"}],\"title\":{\"id\":\"0073f6f6-048c-4bc5-8b35-5522d79e9dbf\",\"type\":\"Title\"},\"tool_events\":{\"id\":\"2f918ae8-80c7-4808-9eec-539ab74cfcf4\",\"type\":\"ToolEvents\"},\"toolbar\":{\"id\":\"3ad20507-0d26-4d77-ab8c-d5f1bb10383c\",\"type\":\"Toolbar\"},\"x_range\":{\"id\":\"84508a67-1d23-40a5-97e4-578a5227e809\",\"type\":\"Range1d\"},\"y_range\":{\"id\":\"cbe7f85b-1eae-4815-a2d9-c1b9638a9b7e\",\"type\":\"Range1d\"}},\"id\":\"80ba8b28-3fb0-4f8f-9d6c-5e288bc89252\",\"subtype\":\"Figure\",\"type\":\"Plot\"},{\"attributes\":{\"axis_label\":\"Cohesive Energy (eV/atom)\",\"formatter\":{\"id\":\"3345de0a-a6a1-4b3f-9da3-1228d1fb61cb\",\"type\":\"BasicTickFormatter\"},\"plot\":{\"id\":\"80ba8b28-3fb0-4f8f-9d6c-5e288bc89252\",\"subtype\":\"Figure\",\"type\":\"Plot\"},\"ticker\":{\"id\":\"0818f328-8044-4626-81fb-420cedd10fe9\",\"type\":\"BasicTicker\"}},\"id\":\"096ae11d-06cd-48c9-addc-fa1715b48fc8\",\"type\":\"LinearAxis\"},{\"attributes\":{\"plot\":{\"id\":\"80ba8b28-3fb0-4f8f-9d6c-5e288bc89252\",\"subtype\":\"Figure\",\"type\":\"Plot\"}},\"id\":\"ffca2bcc-7b1c-45f7-ad7e-87102364e3e8\",\"type\":\"SaveTool\"},{\"attributes\":{\"plot\":{\"id\":\"80ba8b28-3fb0-4f8f-9d6c-5e288bc89252\",\"subtype\":\"Figure\",\"type\":\"Plot\"}},\"id\":\"8a7b8227-982b-4ced-aec6-a13cf2fb5df6\",\"type\":\"PanTool\"},{\"attributes\":{},\"id\":\"e49e66f0-51e9-449f-806f-1accecd9b29c\",\"type\":\"BasicTickFormatter\"},{\"attributes\":{\"overlay\":{\"id\":\"59dc0e24-4ba9-4acc-8a1c-5573e3d9de53\",\"type\":\"BoxAnnotation\"},\"plot\":{\"id\":\"80ba8b28-3fb0-4f8f-9d6c-5e288bc89252\",\"subtype\":\"Figure\",\"type\":\"Plot\"}},\"id\":\"00a5f7f9-0e59-4b84-9b46-f5afb55fa1f4\",\"type\":\"BoxZoomTool\"},{\"attributes\":{\"plot\":{\"id\":\"80ba8b28-3fb0-4f8f-9d6c-5e288bc89252\",\"subtype\":\"Figure\",\"type\":\"Plot\"}},\"id\":\"d680634f-7f5b-4f0c-974d-73c855d9e074\",\"type\":\"WheelZoomTool\"},{\"attributes\":{\"plot\":{\"id\":\"80ba8b28-3fb0-4f8f-9d6c-5e288bc89252\",\"subtype\":\"Figure\",\"type\":\"Plot\"}},\"id\":\"b52c84a5-8c21-4508-ad34-aea0f18f2ede\",\"type\":\"HelpTool\"},{\"attributes\":{\"items\":[{\"id\":\"d7e57baf-7334-4682-8586-828483fe46dc\",\"type\":\"LegendItem\"}],\"location\":\"bottom_right\",\"plot\":{\"id\":\"80ba8b28-3fb0-4f8f-9d6c-5e288bc89252\",\"subtype\":\"Figure\",\"type\":\"Plot\"}},\"id\":\"0cda656c-3133-4a19-881f-5b6c8de1a71c\",\"type\":\"Legend\"},{\"attributes\":{\"line_alpha\":{\"value\":0.1},\"line_color\":{\"value\":\"#1f77b4\"},\"line_width\":{\"value\":2},\"x\":{\"field\":\"x\"},\"y\":{\"field\":\"y\"}},\"id\":\"5bde22d8-14e1-48e5-beec-104804ad43df\",\"type\":\"Line\"},{\"attributes\":{},\"id\":\"562eaef8-2077-4339-9019-95f2754d5d79\",\"type\":\"BasicTicker\"},{\"attributes\":{\"line_width\":{\"value\":2},\"x\":{\"field\":\"x\"},\"y\":{\"field\":\"y\"}},\"id\":\"d55eafcd-d8df-468c-a44e-fef34628dad0\",\"type\":\"Line\"},{\"attributes\":{\"active_drag\":\"auto\",\"active_scroll\":\"auto\",\"active_tap\":\"auto\",\"tools\":[{\"id\":\"8a7b8227-982b-4ced-aec6-a13cf2fb5df6\",\"type\":\"PanTool\"},{\"id\":\"d680634f-7f5b-4f0c-974d-73c855d9e074\",\"type\":\"WheelZoomTool\"},{\"id\":\"00a5f7f9-0e59-4b84-9b46-f5afb55fa1f4\",\"type\":\"BoxZoomTool\"},{\"id\":\"ffca2bcc-7b1c-45f7-ad7e-87102364e3e8\",\"type\":\"SaveTool\"},{\"id\":\"c5c10ed4-0cb4-4469-871c-2182fa5b4cee\",\"type\":\"ResetTool\"},{\"id\":\"b52c84a5-8c21-4508-ad34-aea0f18f2ede\",\"type\":\"HelpTool\"}]},\"id\":\"3ad20507-0d26-4d77-ab8c-d5f1bb10383c\",\"type\":\"Toolbar\"},{\"attributes\":{\"plot\":null,\"text\":\"Cohesive Energy vs. Interatomic Spacing for Al2Ni\"},\"id\":\"0073f6f6-048c-4bc5-8b35-5522d79e9dbf\",\"type\":\"Title\"},{\"attributes\":{},\"id\":\"2f918ae8-80c7-4808-9eec-539ab74cfcf4\",\"type\":\"ToolEvents\"},{\"attributes\":{\"plot\":{\"id\":\"80ba8b28-3fb0-4f8f-9d6c-5e288bc89252\",\"subtype\":\"Figure\",\"type\":\"Plot\"}},\"id\":\"c5c10ed4-0cb4-4469-871c-2182fa5b4cee\",\"type\":\"ResetTool\"},{\"attributes\":{\"dimension\":1,\"plot\":{\"id\":\"80ba8b28-3fb0-4f8f-9d6c-5e288bc89252\",\"subtype\":\"Figure\",\"type\":\"Plot\"},\"ticker\":{\"id\":\"0818f328-8044-4626-81fb-420cedd10fe9\",\"type\":\"BasicTicker\"}},\"id\":\"2070e7af-3c52-4867-b8f0-a518fde99571\",\"type\":\"Grid\"},{\"attributes\":{\"label\":{\"value\":\"C1--CaF2\"},\"renderers\":[{\"id\":\"8a8c4345-a0a0-4d83-8f80-8e525940fbf6\",\"type\":\"GlyphRenderer\"}]},\"id\":\"d7e57baf-7334-4682-8586-828483fe46dc\",\"type\":\"LegendItem\"},{\"attributes\":{},\"id\":\"0818f328-8044-4626-81fb-420cedd10fe9\",\"type\":\"BasicTicker\"},{\"attributes\":{\"callback\":null,\"column_names\":[\"y\",\"x\"],\"data\":{\"x\":{\"__ndarray__\":\"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\",\"dtype\":\"float64\",\"shape\":[200]},\"y\":{\"__ndarray__\":\"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\",\"dtype\":\"float64\",\"shape\":[200]}}},\"id\":\"a172e1d3-2cb0-4dd7-877f-fafcb4432838\",\"type\":\"ColumnDataSource\"}],\"root_ids\":[\"80ba8b28-3fb0-4f8f-9d6c-5e288bc89252\"]},\"title\":\"Bokeh Application\",\"version\":\"0.12.4\"}};\n",
       "            var render_items = [{\"docid\":\"b240fa0a-175d-49f2-a420-c174350772aa\",\"elementid\":\"80f98dc6-319c-449a-b37f-f40c0265efac\",\"modelid\":\"80ba8b28-3fb0-4f8f-9d6c-5e288bc89252\"}];\n",
       "            \n",
       "            Bokeh.embed.embed_items(docs_json, render_items);\n",
       "          };\n",
       "          if (document.readyState != \"loading\") fn();\n",
       "          else document.addEventListener(\"DOMContentLoaded\", fn);\n",
       "        })();\n",
       "      },\n",
       "      function(Bokeh) {\n",
       "      }\n",
       "    ];\n",
       "  \n",
       "    function run_inline_js() {\n",
       "      \n",
       "      if ((window.Bokeh !== undefined) || (force === true)) {\n",
       "        for (var i = 0; i < inline_js.length; i++) {\n",
       "          inline_js[i](window.Bokeh);\n",
       "        }if (force === true) {\n",
       "          display_loaded();\n",
       "        }} else if (Date.now() < window._bokeh_timeout) {\n",
       "        setTimeout(run_inline_js, 100);\n",
       "      } else if (!window._bokeh_failed_load) {\n",
       "        console.log(\"Bokeh: BokehJS failed to load within specified timeout.\");\n",
       "        window._bokeh_failed_load = true;\n",
       "      } else if (force !== true) {\n",
       "        var cell = $(document.getElementById(\"80f98dc6-319c-449a-b37f-f40c0265efac\")).parents('.cell').data().cell;\n",
       "        cell.output_area.append_execute_result(NB_LOAD_WARNING)\n",
       "      }\n",
       "  \n",
       "    }\n",
       "  \n",
       "    if (window._bokeh_is_loading === 0) {\n",
       "      console.log(\"Bokeh: BokehJS loaded, going straight to plotting\");\n",
       "      run_inline_js();\n",
       "    } else {\n",
       "      load_libs(js_urls, function() {\n",
       "        console.log(\"Bokeh: BokehJS plotting callback run at\", now());\n",
       "        run_inline_js();\n",
       "      });\n",
       "    }\n",
       "  }(this));\n",
       "</script>"
      ]
     },
     "metadata": {},
     "output_type": "display_data"
    },
    {
     "data": {
      "text/html": [
       "\n",
       "\n",
       "    <div class=\"bk-root\">\n",
       "        <div class=\"bk-plotdiv\" id=\"1669afa7-3730-4a17-9ec1-1e4db0c21c5b\"></div>\n",
       "    </div>\n",
       "<script type=\"text/javascript\">\n",
       "  \n",
       "  (function(global) {\n",
       "    function now() {\n",
       "      return new Date();\n",
       "    }\n",
       "  \n",
       "    var force = false;\n",
       "  \n",
       "    if (typeof (window._bokeh_onload_callbacks) === \"undefined\" || force === true) {\n",
       "      window._bokeh_onload_callbacks = [];\n",
       "      window._bokeh_is_loading = undefined;\n",
       "    }\n",
       "  \n",
       "  \n",
       "    \n",
       "    if (typeof (window._bokeh_timeout) === \"undefined\" || force === true) {\n",
       "      window._bokeh_timeout = Date.now() + 0;\n",
       "      window._bokeh_failed_load = false;\n",
       "    }\n",
       "  \n",
       "    var NB_LOAD_WARNING = {'data': {'text/html':\n",
       "       \"<div style='background-color: #fdd'>\\n\"+\n",
       "       \"<p>\\n\"+\n",
       "       \"BokehJS does not appear to have successfully loaded. If loading BokehJS from CDN, this \\n\"+\n",
       "       \"may be due to a slow or bad network connection. Possible fixes:\\n\"+\n",
       "       \"</p>\\n\"+\n",
       "       \"<ul>\\n\"+\n",
       "       \"<li>re-rerun `output_notebook()` to attempt to load from CDN again, or</li>\\n\"+\n",
       "       \"<li>use INLINE resources instead, as so:</li>\\n\"+\n",
       "       \"</ul>\\n\"+\n",
       "       \"<code>\\n\"+\n",
       "       \"from bokeh.resources import INLINE\\n\"+\n",
       "       \"output_notebook(resources=INLINE)\\n\"+\n",
       "       \"</code>\\n\"+\n",
       "       \"</div>\"}};\n",
       "  \n",
       "    function display_loaded() {\n",
       "      if (window.Bokeh !== undefined) {\n",
       "        document.getElementById(\"1669afa7-3730-4a17-9ec1-1e4db0c21c5b\").textContent = \"BokehJS successfully loaded.\";\n",
       "      } else if (Date.now() < window._bokeh_timeout) {\n",
       "        setTimeout(display_loaded, 100)\n",
       "      }\n",
       "    }\n",
       "  \n",
       "    function run_callbacks() {\n",
       "      window._bokeh_onload_callbacks.forEach(function(callback) { callback() });\n",
       "      delete window._bokeh_onload_callbacks\n",
       "      console.info(\"Bokeh: all callbacks have finished\");\n",
       "    }\n",
       "  \n",
       "    function load_libs(js_urls, callback) {\n",
       "      window._bokeh_onload_callbacks.push(callback);\n",
       "      if (window._bokeh_is_loading > 0) {\n",
       "        console.log(\"Bokeh: BokehJS is being loaded, scheduling callback at\", now());\n",
       "        return null;\n",
       "      }\n",
       "      if (js_urls == null || js_urls.length === 0) {\n",
       "        run_callbacks();\n",
       "        return null;\n",
       "      }\n",
       "      console.log(\"Bokeh: BokehJS not loaded, scheduling load and callback at\", now());\n",
       "      window._bokeh_is_loading = js_urls.length;\n",
       "      for (var i = 0; i < js_urls.length; i++) {\n",
       "        var url = js_urls[i];\n",
       "        var s = document.createElement('script');\n",
       "        s.src = url;\n",
       "        s.async = false;\n",
       "        s.onreadystatechange = s.onload = function() {\n",
       "          window._bokeh_is_loading--;\n",
       "          if (window._bokeh_is_loading === 0) {\n",
       "            console.log(\"Bokeh: all BokehJS libraries loaded\");\n",
       "            run_callbacks()\n",
       "          }\n",
       "        };\n",
       "        s.onerror = function() {\n",
       "          console.warn(\"failed to load library \" + url);\n",
       "        };\n",
       "        console.log(\"Bokeh: injecting script tag for BokehJS library: \", url);\n",
       "        document.getElementsByTagName(\"head\")[0].appendChild(s);\n",
       "      }\n",
       "    };var element = document.getElementById(\"1669afa7-3730-4a17-9ec1-1e4db0c21c5b\");\n",
       "    if (element == null) {\n",
       "      console.log(\"Bokeh: ERROR: autoload.js configured with elementid '1669afa7-3730-4a17-9ec1-1e4db0c21c5b' but no matching script tag was found. \")\n",
       "      return false;\n",
       "    }\n",
       "  \n",
       "    var js_urls = [];\n",
       "  \n",
       "    var inline_js = [\n",
       "      function(Bokeh) {\n",
       "        (function() {\n",
       "          var fn = function() {\n",
       "            var docs_json = {\"42b344ae-d1f9-4785-bd75-73fc98d7e6a6\":{\"roots\":{\"references\":[{\"attributes\":{\"bottom_units\":\"screen\",\"fill_alpha\":{\"value\":0.5},\"fill_color\":{\"value\":\"lightgrey\"},\"left_units\":\"screen\",\"level\":\"overlay\",\"line_alpha\":{\"value\":1.0},\"line_color\":{\"value\":\"black\"},\"line_dash\":[4,4],\"line_width\":{\"value\":2},\"plot\":null,\"render_mode\":\"css\",\"right_units\":\"screen\",\"top_units\":\"screen\"},\"id\":\"081047e2-080b-4005-9a8e-065c3626591f\",\"type\":\"BoxAnnotation\"},{\"attributes\":{\"dimension\":1,\"plot\":{\"id\":\"c6381e4a-e779-468f-9d6a-133fcda12798\",\"subtype\":\"Figure\",\"type\":\"Plot\"},\"ticker\":{\"id\":\"09edbf5d-2c4d-44f4-8ef7-14b77f47d5eb\",\"type\":\"BasicTicker\"}},\"id\":\"1828b683-4eb3-4cad-b408-c4d9a8fe3bb9\",\"type\":\"Grid\"},{\"attributes\":{\"label\":{\"value\":\"L1_2--AuCu3\"},\"renderers\":[{\"id\":\"ef7952f4-6bbd-4b7b-8e01-721a339e0e69\",\"type\":\"GlyphRenderer\"}]},\"id\":\"64d787dd-d03a-47a7-8cda-c8acaa85d476\",\"type\":\"LegendItem\"},{\"attributes\":{\"callback\":null,\"end\":6,\"start\":2},\"id\":\"ef8bc2bc-1273-4f3e-a2aa-8a5b41353b35\",\"type\":\"Range1d\"},{\"attributes\":{\"below\":[{\"id\":\"0efeec4c-6b91-47c1-8ab3-fc5f76388a81\",\"type\":\"LinearAxis\"}],\"left\":[{\"id\":\"c8d2e269-861d-466b-8238-089160b7df7a\",\"type\":\"LinearAxis\"}],\"plot_width\":800,\"renderers\":[{\"id\":\"0efeec4c-6b91-47c1-8ab3-fc5f76388a81\",\"type\":\"LinearAxis\"},{\"id\":\"e02f5d42-2af1-4a93-bb65-4f44bf11430e\",\"type\":\"Grid\"},{\"id\":\"c8d2e269-861d-466b-8238-089160b7df7a\",\"type\":\"LinearAxis\"},{\"id\":\"1828b683-4eb3-4cad-b408-c4d9a8fe3bb9\",\"type\":\"Grid\"},{\"id\":\"081047e2-080b-4005-9a8e-065c3626591f\",\"type\":\"BoxAnnotation\"},{\"id\":\"7d78ac6f-9b58-4327-ba34-68e9880720e5\",\"type\":\"Legend\"},{\"id\":\"7aa9f16b-7a32-40da-b9d3-950bf46f1c33\",\"type\":\"GlyphRenderer\"},{\"id\":\"387e2b31-e88b-4ee0-bf50-90791cbb46fd\",\"type\":\"GlyphRenderer\"},{\"id\":\"ef7952f4-6bbd-4b7b-8e01-721a339e0e69\",\"type\":\"GlyphRenderer\"}],\"title\":{\"id\":\"2ab3e42b-543a-4375-867a-ff4ce6afcb96\",\"type\":\"Title\"},\"tool_events\":{\"id\":\"8dafb945-a44d-479f-8d79-3ef05a065fa6\",\"type\":\"ToolEvents\"},\"toolbar\":{\"id\":\"15e733d7-b92a-4cee-b705-0a50dc6ab3eb\",\"type\":\"Toolbar\"},\"x_range\":{\"id\":\"ef8bc2bc-1273-4f3e-a2aa-8a5b41353b35\",\"type\":\"Range1d\"},\"y_range\":{\"id\":\"74cc605d-d1c6-446c-a239-52aa8b94b020\",\"type\":\"Range1d\"}},\"id\":\"c6381e4a-e779-468f-9d6a-133fcda12798\",\"subtype\":\"Figure\",\"type\":\"Plot\"},{\"attributes\":{\"plot\":{\"id\":\"c6381e4a-e779-468f-9d6a-133fcda12798\",\"subtype\":\"Figure\",\"type\":\"Plot\"}},\"id\":\"3fc04678-ae5e-448e-bce4-40118a454283\",\"type\":\"HelpTool\"},{\"attributes\":{\"line_color\":{\"value\":\"blue\"},\"line_width\":{\"value\":2},\"x\":{\"field\":\"x\"},\"y\":{\"field\":\"y\"}},\"id\":\"d9ddddbc-2195-48ab-9edc-9af02329acc8\",\"type\":\"Line\"},{\"attributes\":{\"label\":{\"value\":\"A15--Cr3Si\"},\"renderers\":[{\"id\":\"7aa9f16b-7a32-40da-b9d3-950bf46f1c33\",\"type\":\"GlyphRenderer\"}]},\"id\":\"30e96317-5d09-43db-8190-b951fa590479\",\"type\":\"LegendItem\"},{\"attributes\":{\"data_source\":{\"id\":\"744d36aa-8942-427d-8694-ab5b8475354d\",\"type\":\"ColumnDataSource\"},\"glyph\":{\"id\":\"d9ddddbc-2195-48ab-9edc-9af02329acc8\",\"type\":\"Line\"},\"hover_glyph\":null,\"nonselection_glyph\":{\"id\":\"9c034caf-b7aa-4cf1-b356-762e0e1f9ce6\",\"type\":\"Line\"},\"selection_glyph\":null},\"id\":\"387e2b31-e88b-4ee0-bf50-90791cbb46fd\",\"type\":\"GlyphRenderer\"},{\"attributes\":{\"plot\":null,\"text\":\"Cohesive Energy vs. Interatomic Spacing for Al3Ni\"},\"id\":\"2ab3e42b-543a-4375-867a-ff4ce6afcb96\",\"type\":\"Title\"},{\"attributes\":{\"plot\":{\"id\":\"c6381e4a-e779-468f-9d6a-133fcda12798\",\"subtype\":\"Figure\",\"type\":\"Plot\"}},\"id\":\"0eaee255-fa13-4454-9a29-8d4cea65eac1\",\"type\":\"ResetTool\"},{\"attributes\":{\"items\":[{\"id\":\"30e96317-5d09-43db-8190-b951fa590479\",\"type\":\"LegendItem\"},{\"id\":\"3acb8248-a868-46e0-bccb-ef7e28d2d591\",\"type\":\"LegendItem\"},{\"id\":\"64d787dd-d03a-47a7-8cda-c8acaa85d476\",\"type\":\"LegendItem\"}],\"location\":\"bottom_right\",\"plot\":{\"id\":\"c6381e4a-e779-468f-9d6a-133fcda12798\",\"subtype\":\"Figure\",\"type\":\"Plot\"}},\"id\":\"7d78ac6f-9b58-4327-ba34-68e9880720e5\",\"type\":\"Legend\"},{\"attributes\":{},\"id\":\"5fe09705-0530-4e73-b259-c61f2149c676\",\"type\":\"BasicTickFormatter\"},{\"attributes\":{\"callback\":null,\"column_names\":[\"y\",\"x\"],\"data\":{\"x\":{\"__ndarray__\":\"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\",\"dtype\":\"float64\",\"shape\":[200]},\"y\":{\"__ndarray__\":\"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\",\"dtype\":\"float64\",\"shape\":[200]}}},\"id\":\"48a0a9ad-c4b4-4af8-aa7c-0d7928301a2f\",\"type\":\"ColumnDataSource\"},{\"attributes\":{},\"id\":\"8dafb945-a44d-479f-8d79-3ef05a065fa6\",\"type\":\"ToolEvents\"},{\"attributes\":{\"plot\":{\"id\":\"c6381e4a-e779-468f-9d6a-133fcda12798\",\"subtype\":\"Figure\",\"type\":\"Plot\"}},\"id\":\"89211862-2c47-4e87-b097-72d912c0db64\",\"type\":\"SaveTool\"},{\"attributes\":{\"callback\":null,\"column_names\":[\"y\",\"x\"],\"data\":{\"x\":{\"__ndarray__\":\"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\",\"dtype\":\"float64\",\"shape\":[200]},\"y\":{\"__ndarray__\":\"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\",\"dtype\":\"float64\",\"shape\":[200]}}},\"id\":\"d65eb813-6cc7-466a-a7ea-55368e4da3d5\",\"type\":\"ColumnDataSource\"},{\"attributes\":{\"label\":{\"value\":\"D0_3--BiF3\"},\"renderers\":[{\"id\":\"387e2b31-e88b-4ee0-bf50-90791cbb46fd\",\"type\":\"GlyphRenderer\"}]},\"id\":\"3acb8248-a868-46e0-bccb-ef7e28d2d591\",\"type\":\"LegendItem\"},{\"attributes\":{\"data_source\":{\"id\":\"d65eb813-6cc7-466a-a7ea-55368e4da3d5\",\"type\":\"ColumnDataSource\"},\"glyph\":{\"id\":\"c0644ba4-37b1-4d99-8957-28f18b8bd128\",\"type\":\"Line\"},\"hover_glyph\":null,\"nonselection_glyph\":{\"id\":\"3a33df40-8688-47ea-9b4c-8c6b41064a3d\",\"type\":\"Line\"},\"selection_glyph\":null},\"id\":\"7aa9f16b-7a32-40da-b9d3-950bf46f1c33\",\"type\":\"GlyphRenderer\"},{\"attributes\":{\"overlay\":{\"id\":\"081047e2-080b-4005-9a8e-065c3626591f\",\"type\":\"BoxAnnotation\"},\"plot\":{\"id\":\"c6381e4a-e779-468f-9d6a-133fcda12798\",\"subtype\":\"Figure\",\"type\":\"Plot\"}},\"id\":\"555281d4-c835-43e0-aac5-36635dec30d8\",\"type\":\"BoxZoomTool\"},{\"attributes\":{\"active_drag\":\"auto\",\"active_scroll\":\"auto\",\"active_tap\":\"auto\",\"tools\":[{\"id\":\"1e946ec7-f412-41a5-b386-18b7903854b1\",\"type\":\"PanTool\"},{\"id\":\"e8e56e48-f9e8-4f64-84ba-52a1812752f3\",\"type\":\"WheelZoomTool\"},{\"id\":\"555281d4-c835-43e0-aac5-36635dec30d8\",\"type\":\"BoxZoomTool\"},{\"id\":\"89211862-2c47-4e87-b097-72d912c0db64\",\"type\":\"SaveTool\"},{\"id\":\"0eaee255-fa13-4454-9a29-8d4cea65eac1\",\"type\":\"ResetTool\"},{\"id\":\"3fc04678-ae5e-448e-bce4-40118a454283\",\"type\":\"HelpTool\"}]},\"id\":\"15e733d7-b92a-4cee-b705-0a50dc6ab3eb\",\"type\":\"Toolbar\"},{\"attributes\":{\"line_width\":{\"value\":2},\"x\":{\"field\":\"x\"},\"y\":{\"field\":\"y\"}},\"id\":\"c0644ba4-37b1-4d99-8957-28f18b8bd128\",\"type\":\"Line\"},{\"attributes\":{\"axis_label\":\"Cohesive Energy (eV/atom)\",\"formatter\":{\"id\":\"cfc748f4-f9d2-4390-85d2-b096a7bfe6e8\",\"type\":\"BasicTickFormatter\"},\"plot\":{\"id\":\"c6381e4a-e779-468f-9d6a-133fcda12798\",\"subtype\":\"Figure\",\"type\":\"Plot\"},\"ticker\":{\"id\":\"09edbf5d-2c4d-44f4-8ef7-14b77f47d5eb\",\"type\":\"BasicTicker\"}},\"id\":\"c8d2e269-861d-466b-8238-089160b7df7a\",\"type\":\"LinearAxis\"},{\"attributes\":{},\"id\":\"cfc748f4-f9d2-4390-85d2-b096a7bfe6e8\",\"type\":\"BasicTickFormatter\"},{\"attributes\":{\"line_alpha\":{\"value\":0.1},\"line_color\":{\"value\":\"#1f77b4\"},\"line_width\":{\"value\":2},\"x\":{\"field\":\"x\"},\"y\":{\"field\":\"y\"}},\"id\":\"2b579338-4629-4c53-add8-7bfc9912b7f8\",\"type\":\"Line\"},{\"attributes\":{\"line_alpha\":{\"value\":0.1},\"line_color\":{\"value\":\"#1f77b4\"},\"line_width\":{\"value\":2},\"x\":{\"field\":\"x\"},\"y\":{\"field\":\"y\"}},\"id\":\"3a33df40-8688-47ea-9b4c-8c6b41064a3d\",\"type\":\"Line\"},{\"attributes\":{},\"id\":\"09edbf5d-2c4d-44f4-8ef7-14b77f47d5eb\",\"type\":\"BasicTicker\"},{\"attributes\":{\"line_color\":{\"value\":\"red\"},\"line_width\":{\"value\":2},\"x\":{\"field\":\"x\"},\"y\":{\"field\":\"y\"}},\"id\":\"4e3bedea-1f2c-4a24-9a6e-874a01f9a530\",\"type\":\"Line\"},{\"attributes\":{\"axis_label\":\"r (A)\",\"formatter\":{\"id\":\"5fe09705-0530-4e73-b259-c61f2149c676\",\"type\":\"BasicTickFormatter\"},\"plot\":{\"id\":\"c6381e4a-e779-468f-9d6a-133fcda12798\",\"subtype\":\"Figure\",\"type\":\"Plot\"},\"ticker\":{\"id\":\"0b78b994-31b8-4b64-8a61-9dd0bf1ebdc9\",\"type\":\"BasicTicker\"}},\"id\":\"0efeec4c-6b91-47c1-8ab3-fc5f76388a81\",\"type\":\"LinearAxis\"},{\"attributes\":{\"callback\":null,\"end\":0,\"start\":-4.0},\"id\":\"74cc605d-d1c6-446c-a239-52aa8b94b020\",\"type\":\"Range1d\"},{\"attributes\":{},\"id\":\"0b78b994-31b8-4b64-8a61-9dd0bf1ebdc9\",\"type\":\"BasicTicker\"},{\"attributes\":{\"callback\":null,\"column_names\":[\"y\",\"x\"],\"data\":{\"x\":{\"__ndarray__\":\"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\",\"dtype\":\"float64\",\"shape\":[200]},\"y\":{\"__ndarray__\":\"6DBtebko9T8TLgHJQ+rqP8UtBH/pbdk/a3/Iy8PFhb8m9giKE5XYv5mW3fo6Mue/XBtUNuKU8L8+GW1g8Cr1vwJlWnwqbfm/TDIbyapo/b8e/K47YpEAwPJwv3jUTQLAqMqEJg/pA8An+EniDGMFwMmwaucqvAbAg0pn3PrzB8AGGSFVagoJwK4APOKqAArA1ldMwpjYCsCCLp2UYZQLwArtA2pGNgzAQMjEX83ADMAD2ibGqzYNwN0eFH4Omg3ArAItcrvsDcBBndDSwC8OwA3TEZToYw7A/nHLU/OJDsCgF1jNl6IOwPng7/iZrg7AQhC2YN+uDsCiifwTVKQOwAQz+3O5jw7AGDbRXvNxDsBXXrhzPUwOwI59SFHWHw7AG01kD6/tDcAVtwCZF7YNwMYuVRD/eA3ApSFNQss2DcB7d5KX2PAMwBOdnaZIqQzAW9SBYx5iDMBie7c+cBwMwLIVEG0Y2AvAPvoXFTmUC8A00g7gyU8LwMU6s2n5CQvA5uUACFzCCsDwiQ6F6XgKwJaoDbK4LQrA83KwE83gCcCc2+Z+BpIJwDGSoS8wQQnAKYvx+RjuCMAAfpHpspgIwAO0wTYsQQjADzGPSPbnB8BFrpXkso0HwDdUVLwdMwfAeVmVM+bYBsASPaZte38GwGlN6eIPJwbAU0zy+8LPBcCl8K+Iq3kFwKC3ya/gJAXAINeyp33RBMDCBLvDjX8EwHrO8/QHLwTA2jmmCqTfA8BTdzk51pADwNmaWPwjQgPA9JMc4hHzAsD15k6REaMCwEc3d3K2UQLA1yBiCcL+AcASWqXtDaoBwHvmfPh+UwHAeUM6+hH7AMCWceFl3qAAwHn5epgZRQDAo6RLbSvQ/7/9XNKAcRT/v7NEWE3mV/6/ZF05wW6b/b8Am39q49/8vxIs+b36Jfy/kT00rDVu+7/SgbDQ+rj6v2DsdmudBvq/49NHa2JX+b+cKaP1g6v4v+aScKwxA/i/wtaTYpNe9795GXYO0732vyJohPQSIfa/zHb0n2mI9b/B67004fP0v0onBId4Y/S/EfuplCTX87+qQtVc0k7zv6VHFlZ1yvK/4geC5AdK8r/5tvMAf83xv9fp7E7QVPG/buinKOjf8L8zhyZBqW7wv5lnhEbwAPC/OxFdmygt778BLwBgzl7uv4jvjr5rlu2/aaB74ZHT7L9ltoAb0RXsv9nj7fS6XOu/vuMMAwuo6r/raP16oPfpv21I3W1XS+m/PEIMjg6j6L9zX2NLt/7nv0S/vW5CXue/6lyhcJrB5r95rvl+oijmv1+o7ME1k+W/V3MTOicB5b/jooS5QnLkv5JiDRRP5uO/nKpoiwhd47+6+yO/Jdbiv/KT0LNtUeK/DihoHMTO4b+aGkiaMU7hv+ZjRa/lz+C/VksHby9U4L8J8Dmb2bbfv0qDlUzqy96/0gtxQR7o3b+1avxqsgvdv3iqjVF2Nty/rSAfzuxn278/ihwGaJ/avzZCDRsm3Nm/gB3QKWkd2b+cI4ITiGLYv7BR8Zv4qte/PPKq4FT21r/RgHd+XkTWv+P3kvz8lNW/X3EwxS7o1L+DnhCFAz7UvyIREEKdltO/bjNj9zTy0r+LK8zKP1HSvy7Pen9TtNG/xgWPFAUc0b8lsk/+2ojQv1wPMix79s+/CYRIDtDmzr+GFxiMueLNvx4uxDjB6cy/PA07e/v6y7+xXrFHFxXLv7zsdf1YNsq/4SVrd+hcyb/fxCYOHofIvyXLDRy1s8e/8xEaCvPhxr8kwfhTuhHGv2s0N/6DQ8W/kfI75D14xL/cDwZqErHDv5tHZSsm78K/m8Ix6VUzwr8uSiXfD37BvxpdmMBDz8C/m/PR4GsmwL8oPHpfRgW/v5hUS5GVxb2/SHWJlFqLvL+wE6mZOlS7v2zJPdIWHrq/rwohSirnuL+gTkL4Ga63v67ADEQBcra/OfKGAHMytb8JVFZ5be+zv0TyYogpqbK/yOabwTlgsb8D5F9ZpBWwv2rKh4rtla2/IIUuy60Dq7+H9I96k3aov3MwM4tC8qW/K1s1Y6R8o78e4YuIkR2hv1PHDSFCvJ2/x2gU1wCPmb83ltTyzMOVvzC5j21WZ5K/27zDS2UCj78iZqBiYCWKvw==\",\"dtype\":\"float64\",\"shape\":[200]}}},\"id\":\"744d36aa-8942-427d-8694-ab5b8475354d\",\"type\":\"ColumnDataSource\"},{\"attributes\":{\"data_source\":{\"id\":\"48a0a9ad-c4b4-4af8-aa7c-0d7928301a2f\",\"type\":\"ColumnDataSource\"},\"glyph\":{\"id\":\"4e3bedea-1f2c-4a24-9a6e-874a01f9a530\",\"type\":\"Line\"},\"hover_glyph\":null,\"nonselection_glyph\":{\"id\":\"2b579338-4629-4c53-add8-7bfc9912b7f8\",\"type\":\"Line\"},\"selection_glyph\":null},\"id\":\"ef7952f4-6bbd-4b7b-8e01-721a339e0e69\",\"type\":\"GlyphRenderer\"},{\"attributes\":{\"plot\":{\"id\":\"c6381e4a-e779-468f-9d6a-133fcda12798\",\"subtype\":\"Figure\",\"type\":\"Plot\"}},\"id\":\"1e946ec7-f412-41a5-b386-18b7903854b1\",\"type\":\"PanTool\"},{\"attributes\":{\"plot\":{\"id\":\"c6381e4a-e779-468f-9d6a-133fcda12798\",\"subtype\":\"Figure\",\"type\":\"Plot\"}},\"id\":\"e8e56e48-f9e8-4f64-84ba-52a1812752f3\",\"type\":\"WheelZoomTool\"},{\"attributes\":{\"plot\":{\"id\":\"c6381e4a-e779-468f-9d6a-133fcda12798\",\"subtype\":\"Figure\",\"type\":\"Plot\"},\"ticker\":{\"id\":\"0b78b994-31b8-4b64-8a61-9dd0bf1ebdc9\",\"type\":\"BasicTicker\"}},\"id\":\"e02f5d42-2af1-4a93-bb65-4f44bf11430e\",\"type\":\"Grid\"},{\"attributes\":{\"line_alpha\":{\"value\":0.1},\"line_color\":{\"value\":\"#1f77b4\"},\"line_width\":{\"value\":2},\"x\":{\"field\":\"x\"},\"y\":{\"field\":\"y\"}},\"id\":\"9c034caf-b7aa-4cf1-b356-762e0e1f9ce6\",\"type\":\"Line\"}],\"root_ids\":[\"c6381e4a-e779-468f-9d6a-133fcda12798\"]},\"title\":\"Bokeh Application\",\"version\":\"0.12.4\"}};\n",
       "            var render_items = [{\"docid\":\"42b344ae-d1f9-4785-bd75-73fc98d7e6a6\",\"elementid\":\"1669afa7-3730-4a17-9ec1-1e4db0c21c5b\",\"modelid\":\"c6381e4a-e779-468f-9d6a-133fcda12798\"}];\n",
       "            \n",
       "            Bokeh.embed.embed_items(docs_json, render_items);\n",
       "          };\n",
       "          if (document.readyState != \"loading\") fn();\n",
       "          else document.addEventListener(\"DOMContentLoaded\", fn);\n",
       "        })();\n",
       "      },\n",
       "      function(Bokeh) {\n",
       "      }\n",
       "    ];\n",
       "  \n",
       "    function run_inline_js() {\n",
       "      \n",
       "      if ((window.Bokeh !== undefined) || (force === true)) {\n",
       "        for (var i = 0; i < inline_js.length; i++) {\n",
       "          inline_js[i](window.Bokeh);\n",
       "        }if (force === true) {\n",
       "          display_loaded();\n",
       "        }} else if (Date.now() < window._bokeh_timeout) {\n",
       "        setTimeout(run_inline_js, 100);\n",
       "      } else if (!window._bokeh_failed_load) {\n",
       "        console.log(\"Bokeh: BokehJS failed to load within specified timeout.\");\n",
       "        window._bokeh_failed_load = true;\n",
       "      } else if (force !== true) {\n",
       "        var cell = $(document.getElementById(\"1669afa7-3730-4a17-9ec1-1e4db0c21c5b\")).parents('.cell').data().cell;\n",
       "        cell.output_area.append_execute_result(NB_LOAD_WARNING)\n",
       "      }\n",
       "  \n",
       "    }\n",
       "  \n",
       "    if (window._bokeh_is_loading === 0) {\n",
       "      console.log(\"Bokeh: BokehJS loaded, going straight to plotting\");\n",
       "      run_inline_js();\n",
       "    } else {\n",
       "      load_libs(js_urls, function() {\n",
       "        console.log(\"Bokeh: BokehJS plotting callback run at\", now());\n",
       "        run_inline_js();\n",
       "      });\n",
       "    }\n",
       "  }(this));\n",
       "</script>"
      ]
     },
     "metadata": {},
     "output_type": "display_data"
    },
    {
     "data": {
      "text/html": [
       "\n",
       "\n",
       "    <div class=\"bk-root\">\n",
       "        <div class=\"bk-plotdiv\" id=\"97044eeb-ccde-41d3-8b4b-b9dfd45ba062\"></div>\n",
       "    </div>\n",
       "<script type=\"text/javascript\">\n",
       "  \n",
       "  (function(global) {\n",
       "    function now() {\n",
       "      return new Date();\n",
       "    }\n",
       "  \n",
       "    var force = false;\n",
       "  \n",
       "    if (typeof (window._bokeh_onload_callbacks) === \"undefined\" || force === true) {\n",
       "      window._bokeh_onload_callbacks = [];\n",
       "      window._bokeh_is_loading = undefined;\n",
       "    }\n",
       "  \n",
       "  \n",
       "    \n",
       "    if (typeof (window._bokeh_timeout) === \"undefined\" || force === true) {\n",
       "      window._bokeh_timeout = Date.now() + 0;\n",
       "      window._bokeh_failed_load = false;\n",
       "    }\n",
       "  \n",
       "    var NB_LOAD_WARNING = {'data': {'text/html':\n",
       "       \"<div style='background-color: #fdd'>\\n\"+\n",
       "       \"<p>\\n\"+\n",
       "       \"BokehJS does not appear to have successfully loaded. If loading BokehJS from CDN, this \\n\"+\n",
       "       \"may be due to a slow or bad network connection. Possible fixes:\\n\"+\n",
       "       \"</p>\\n\"+\n",
       "       \"<ul>\\n\"+\n",
       "       \"<li>re-rerun `output_notebook()` to attempt to load from CDN again, or</li>\\n\"+\n",
       "       \"<li>use INLINE resources instead, as so:</li>\\n\"+\n",
       "       \"</ul>\\n\"+\n",
       "       \"<code>\\n\"+\n",
       "       \"from bokeh.resources import INLINE\\n\"+\n",
       "       \"output_notebook(resources=INLINE)\\n\"+\n",
       "       \"</code>\\n\"+\n",
       "       \"</div>\"}};\n",
       "  \n",
       "    function display_loaded() {\n",
       "      if (window.Bokeh !== undefined) {\n",
       "        document.getElementById(\"97044eeb-ccde-41d3-8b4b-b9dfd45ba062\").textContent = \"BokehJS successfully loaded.\";\n",
       "      } else if (Date.now() < window._bokeh_timeout) {\n",
       "        setTimeout(display_loaded, 100)\n",
       "      }\n",
       "    }\n",
       "  \n",
       "    function run_callbacks() {\n",
       "      window._bokeh_onload_callbacks.forEach(function(callback) { callback() });\n",
       "      delete window._bokeh_onload_callbacks\n",
       "      console.info(\"Bokeh: all callbacks have finished\");\n",
       "    }\n",
       "  \n",
       "    function load_libs(js_urls, callback) {\n",
       "      window._bokeh_onload_callbacks.push(callback);\n",
       "      if (window._bokeh_is_loading > 0) {\n",
       "        console.log(\"Bokeh: BokehJS is being loaded, scheduling callback at\", now());\n",
       "        return null;\n",
       "      }\n",
       "      if (js_urls == null || js_urls.length === 0) {\n",
       "        run_callbacks();\n",
       "        return null;\n",
       "      }\n",
       "      console.log(\"Bokeh: BokehJS not loaded, scheduling load and callback at\", now());\n",
       "      window._bokeh_is_loading = js_urls.length;\n",
       "      for (var i = 0; i < js_urls.length; i++) {\n",
       "        var url = js_urls[i];\n",
       "        var s = document.createElement('script');\n",
       "        s.src = url;\n",
       "        s.async = false;\n",
       "        s.onreadystatechange = s.onload = function() {\n",
       "          window._bokeh_is_loading--;\n",
       "          if (window._bokeh_is_loading === 0) {\n",
       "            console.log(\"Bokeh: all BokehJS libraries loaded\");\n",
       "            run_callbacks()\n",
       "          }\n",
       "        };\n",
       "        s.onerror = function() {\n",
       "          console.warn(\"failed to load library \" + url);\n",
       "        };\n",
       "        console.log(\"Bokeh: injecting script tag for BokehJS library: \", url);\n",
       "        document.getElementsByTagName(\"head\")[0].appendChild(s);\n",
       "      }\n",
       "    };var element = document.getElementById(\"97044eeb-ccde-41d3-8b4b-b9dfd45ba062\");\n",
       "    if (element == null) {\n",
       "      console.log(\"Bokeh: ERROR: autoload.js configured with elementid '97044eeb-ccde-41d3-8b4b-b9dfd45ba062' but no matching script tag was found. \")\n",
       "      return false;\n",
       "    }\n",
       "  \n",
       "    var js_urls = [];\n",
       "  \n",
       "    var inline_js = [\n",
       "      function(Bokeh) {\n",
       "        (function() {\n",
       "          var fn = function() {\n",
       "            var docs_json = {\"cc15741e-5a3a-407a-ab76-202495f630f4\":{\"roots\":{\"references\":[{\"attributes\":{\"data_source\":{\"id\":\"3e6a411f-a3ca-4b0c-b2e4-bd6f757acc6c\",\"type\":\"ColumnDataSource\"},\"glyph\":{\"id\":\"bfc67efa-858d-4d43-9b05-7ca293f333c0\",\"type\":\"Line\"},\"hover_glyph\":null,\"nonselection_glyph\":{\"id\":\"0c32cb1a-a9ed-412c-82a7-2dabad0ea167\",\"type\":\"Line\"},\"selection_glyph\":null},\"id\":\"56a0d606-c6da-4c54-bc18-266a27d1182d\",\"type\":\"GlyphRenderer\"},{\"attributes\":{\"line_color\":{\"value\":\"cyan\"},\"line_width\":{\"value\":2},\"x\":{\"field\":\"x\"},\"y\":{\"field\":\"y\"}},\"id\":\"65937ce9-5cf2-4548-98f9-6635092e0474\",\"type\":\"Line\"},{\"attributes\":{\"plot\":{\"id\":\"52a614d6-7a10-4f17-aa0d-921bfb3fb156\",\"subtype\":\"Figure\",\"type\":\"Plot\"}},\"id\":\"344ee87e-e795-4777-a80c-bd64a9d8d517\",\"type\":\"ResetTool\"},{\"attributes\":{},\"id\":\"bbed2ff0-9fa6-4ba3-a411-a87bfa1450d6\",\"type\":\"BasicTicker\"},{\"attributes\":{\"plot\":{\"id\":\"52a614d6-7a10-4f17-aa0d-921bfb3fb156\",\"subtype\":\"Figure\",\"type\":\"Plot\"},\"ticker\":{\"id\":\"ffdf1a44-b994-4352-af78-0032646e3b4f\",\"type\":\"BasicTicker\"}},\"id\":\"5b48f3d1-d5c4-44c5-afe8-b45dc0aafb18\",\"type\":\"Grid\"},{\"attributes\":{\"callback\":null,\"column_names\":[\"y\",\"x\"],\"data\":{\"x\":{\"__ndarray__\":\"AAAAAAAAAEChZcdzKikAQELLjudUUgBA4jBWW397AECDlh3PqaQAQCT85ELUzQBAxWGstv72AEBmx3MqKSABQAYtO55TSQFAp5ICEn5yAUBI+MmFqJsBQOldkfnSxAFAisNYbf3tAUAqKSDhJxcCQMuO51RSQAJAbPSuyHxpAkANWnY8p5ICQK6/PbDRuwJATiUFJPzkAkDvisyXJg4DQJDwkwtRNwNAMVZbf3tgA0DSuyLzpYkDQHIh6mbQsgNAE4ex2vrbA0C07HhOJQUEQFVSQMJPLgRA9rcHNnpXBECWHc+ppIAEQDeDlh3PqQRA2OhdkfnSBEB5TiUFJPwEQBq07HhOJQVAuhm07HhOBUBbf3tgo3cFQPzkQtTNoAVAnUoKSPjJBUA+sNG7IvMFQN4VmS9NHAZAgHtgo3dFBkAg4ScXom4GQMFG74rMlwZAYqy2/vbABkACEn5yIeoGQKR3ReZLEwdARN0MWnY8B0DlQtTNoGUHQIaom0HLjgdAJg5jtfW3B0DIcyopIOEHQGjZ8ZxKCghACT+5EHUzCECqpICEn1wIQEoKSPjJhQhA7G8PbPSuCECM1dbfHtgIQC07nlNJAQlAzqBlx3MqCUBuBi07nlMJQBBs9K7IfAlAsNG7IvOlCUBRN4OWHc8JQPKcSgpI+AlAkgISfnIhCkA0aNnxnEoKQNTNoGXHcwpAdTNo2fGcCkAWmS9NHMYKQLb+9sBG7wpAWGS+NHEYC0D4yYWom0ELQJkvTRzGagtAOpUUkPCTC0Da+tsDG70LQHxgo3dF5gtAHMZq628PDEC9KzJfmjgMQF6R+dLEYQxA//bARu+KDECgXIi6GbQMQEDCTy5E3QxA4ScXom4GDUCCjd4VmS8NQCPzpYnDWA1AxFht/e2BDUBkvjRxGKsNQAUk/ORC1A1AponDWG39DUBH74rMlyYOQOhUUkDCTw5AiLoZtOx4DkApIOEnF6IOQMqFqJtByw5Aa+tvD2z0DkAMUTeDlh0PQKy2/vbARg9ATRzGautvD0DugY3eFZkPQI/nVFJAwg9AME0cxmrrD0Bo2fGcSgoQQDiM1dbfHhBACT+5EHUzEEDa8ZxKCkgQQKqkgISfXBBAeldkvjRxEEBKCkj4yYUQQBu9KzJfmhBA7G8PbPSuEEC8IvOlicMQQIzV1t8e2BBAXIi6GbTsEEAtO55TSQERQP7tgY3eFRFAzqBlx3MqEUCeU0kBCT8RQG4GLTueUxFAP7kQdTNoEUAQbPSuyHwRQOAe2OhdkRFAsNG7IvOlEUCAhJ9ciLoRQFE3g5YdzxFAIupm0LLjEUDynEoKSPgRQMJPLkTdDBJAkgISfnIhEkBjtfW3BzYSQDRo2fGcShJABBu9KzJfEkDUzaBlx3MSQKSAhJ9ciBJAdTNo2fGcEkBG5ksTh7ESQBaZL00cxhJA5ksTh7HaEkC2/vbARu8SQIex2vrbAxNAWGS+NHEYE0AoF6JuBi0TQPjJhaibQRNAyHxp4jBWE0CZL00cxmoTQGriMFZbfxNAOpUUkPCTE0AKSPjJhagTQNr62wMbvRNAq62/PbDRE0B8YKN3ReYTQEwTh7Ha+hNAHMZq628PFEDteE4lBSQUQL0rMl+aOBRAjt4VmS9NFEBekfnSxGEUQC5E3QxadhRA//bARu+KFEDPqaSAhJ8UQKBciLoZtBRAcA9s9K7IFEBAwk8uRN0UQBF1M2jZ8RRA4ScXom4GFUCy2vrbAxsVQIKN3hWZLxVAUkDCTy5EFUAj86WJw1gVQPOlicNYbRVAxFht/e2BFUCUC1E3g5YVQGS+NHEYqxVANXEYq62/FUAFJPzkQtQVQNbW3x7Y6BVAponDWG39FUB2PKeSAhIWQEfvisyXJhZAF6JuBi07FkDoVFJAwk8WQLgHNnpXZBZAiLoZtOx4FkBZbf3tgY0WQCkg4ScXohZA+tLEYay2FkDKhaibQcsWQJo4jNXW3xZAa+tvD2z0FkA7nlNJAQkXQAxRN4OWHRdA3AMbvSsyF0Cstv72wEYXQH1p4jBWWxdATRzGautvF0Aez6mkgIQXQO6Bjd4VmRdAvjRxGKutF0CP51RSQMIXQGCaOIzV1hdAME0cxmrrF0AAAAAAAAAYQA==\",\"dtype\":\"float64\",\"shape\":[200]},\"y\":{\"__ndarray__\":\"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\",\"dtype\":\"float64\",\"shape\":[200]}}},\"id\":\"d1b89280-24b2-46d6-a2a5-b569f7b35d3f\",\"type\":\"ColumnDataSource\"},{\"attributes\":{\"line_color\":{\"value\":\"red\"},\"line_width\":{\"value\":2},\"x\":{\"field\":\"x\"},\"y\":{\"field\":\"y\"}},\"id\":\"1216a788-9239-42fc-a4d4-0385264f1c47\",\"type\":\"Line\"},{\"attributes\":{\"plot\":{\"id\":\"52a614d6-7a10-4f17-aa0d-921bfb3fb156\",\"subtype\":\"Figure\",\"type\":\"Plot\"}},\"id\":\"c986310b-6439-4293-99d3-86c0d0c8c93b\",\"type\":\"SaveTool\"},{\"attributes\":{\"label\":{\"value\":\"L1_0--AuCu\"},\"renderers\":[{\"id\":\"acf2bdbc-06e3-458f-9ca2-6b8a6972089b\",\"type\":\"GlyphRenderer\"},{\"id\":\"078eef1d-8904-49e6-9d50-c3e3da4a5ea4\",\"type\":\"GlyphRenderer\"}]},\"id\":\"e56ef2ac-8701-46d8-b9fd-03ed410f1f39\",\"type\":\"LegendItem\"},{\"attributes\":{\"plot\":{\"id\":\"52a614d6-7a10-4f17-aa0d-921bfb3fb156\",\"subtype\":\"Figure\",\"type\":\"Plot\"}},\"id\":\"cf923beb-e3b0-47ec-9127-3bb7b883ccc7\",\"type\":\"WheelZoomTool\"},{\"attributes\":{\"callback\":null,\"end\":0,\"start\":-5.0},\"id\":\"014ed84d-dcd6-4d84-923d-6ef7132c605d\",\"type\":\"Range1d\"},{\"attributes\":{\"callback\":null,\"column_names\":[\"y\",\"x\"],\"data\":{\"x\":{\"__ndarray__\":\"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\",\"dtype\":\"float64\",\"shape\":[200]},\"y\":{\"__ndarray__\":\"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\",\"dtype\":\"float64\",\"shape\":[200]}}},\"id\":\"8b54ec22-4038-4394-bdff-50e2ee96c9b9\",\"type\":\"ColumnDataSource\"},{\"attributes\":{},\"id\":\"ffdf1a44-b994-4352-af78-0032646e3b4f\",\"type\":\"BasicTicker\"},{\"attributes\":{\"label\":{\"value\":\"B1--NaCl\"},\"renderers\":[{\"id\":\"9557abaf-4e58-4519-a1fd-f414c88d1137\",\"type\":\"GlyphRenderer\"},{\"id\":\"5a000d4a-6ad6-4ff5-a023-fd8f1ee3240f\",\"type\":\"GlyphRenderer\"}]},\"id\":\"bff223f3-7e33-449a-a0b3-8e2c0c79178e\",\"type\":\"LegendItem\"},{\"attributes\":{\"line_alpha\":{\"value\":0.1},\"line_color\":{\"value\":\"#1f77b4\"},\"line_width\":{\"value\":2},\"x\":{\"field\":\"x\"},\"y\":{\"field\":\"y\"}},\"id\":\"a48801ef-eddf-49df-8eb7-4c31a3b430a5\",\"type\":\"Line\"},{\"attributes\":{\"label\":{\"value\":\"B2--CsCl\"},\"renderers\":[{\"id\":\"512634d0-2bcc-448f-9c80-67cba48a87a0\",\"type\":\"GlyphRenderer\"},{\"id\":\"6e4a01e8-f490-4326-8857-286463ca6eba\",\"type\":\"GlyphRenderer\"}]},\"id\":\"25b22a04-ee12-458c-9664-307cded46c9e\",\"type\":\"LegendItem\"},{\"attributes\":{\"line_width\":{\"value\":2},\"x\":{\"field\":\"x\"},\"y\":{\"field\":\"y\"}},\"id\":\"f6e40114-081f-4a76-a6a7-758b9f1301a6\",\"type\":\"Line\"},{\"attributes\":{\"line_color\":{\"value\":\"cyan\"},\"line_width\":{\"value\":2},\"x\":{\"field\":\"x\"},\"y\":{\"field\":\"y\"}},\"id\":\"05c86c28-2256-442b-9250-e21b1f6594b6\",\"type\":\"Line\"},{\"attributes\":{},\"id\":\"cd2ec9b7-6877-412b-92e2-f93f5f56a6f3\",\"type\":\"ToolEvents\"},{\"attributes\":{\"data_source\":{\"id\":\"72e7f9fa-b839-4726-a5d9-f6ecd219cc99\",\"type\":\"ColumnDataSource\"},\"glyph\":{\"id\":\"36e37faf-e85d-4082-bf8e-abae22c6e0e3\",\"type\":\"Line\"},\"hover_glyph\":null,\"nonselection_glyph\":{\"id\":\"1c84f86f-2d8b-4509-a33a-f61f45cac8ff\",\"type\":\"Line\"},\"selection_glyph\":null},\"id\":\"512634d0-2bcc-448f-9c80-67cba48a87a0\",\"type\":\"GlyphRenderer\"},{\"attributes\":{\"axis_label\":\"Cohesive Energy (eV/atom)\",\"formatter\":{\"id\":\"5293fb70-2e0d-40ca-b17e-93c77eb56501\",\"type\":\"BasicTickFormatter\"},\"plot\":{\"id\":\"52a614d6-7a10-4f17-aa0d-921bfb3fb156\",\"subtype\":\"Figure\",\"type\":\"Plot\"},\"ticker\":{\"id\":\"bbed2ff0-9fa6-4ba3-a411-a87bfa1450d6\",\"type\":\"BasicTicker\"}},\"id\":\"b56c2a97-7e43-485c-9253-c19a3d6b584e\",\"type\":\"LinearAxis\"},{\"attributes\":{\"axis_label\":\"r (A)\",\"formatter\":{\"id\":\"b1bdd51c-f585-45b4-852d-c1f11303e287\",\"type\":\"BasicTickFormatter\"},\"plot\":{\"id\":\"52a614d6-7a10-4f17-aa0d-921bfb3fb156\",\"subtype\":\"Figure\",\"type\":\"Plot\"},\"ticker\":{\"id\":\"ffdf1a44-b994-4352-af78-0032646e3b4f\",\"type\":\"BasicTicker\"}},\"id\":\"fa41d289-45bc-4419-a13e-77104af2a663\",\"type\":\"LinearAxis\"},{\"attributes\":{\"line_alpha\":{\"value\":0.1},\"line_color\":{\"value\":\"#1f77b4\"},\"line_width\":{\"value\":2},\"x\":{\"field\":\"x\"},\"y\":{\"field\":\"y\"}},\"id\":\"e38d310f-9642-4b2b-884b-2c6b5636f2a5\",\"type\":\"Line\"},{\"attributes\":{\"line_width\":{\"value\":2},\"x\":{\"field\":\"x\"},\"y\":{\"field\":\"y\"}},\"id\":\"9ed6fd43-617f-4549-b802-3ce377ba3abf\",\"type\":\"Line\"},{\"attributes\":{\"line_alpha\":{\"value\":0.1},\"line_color\":{\"value\":\"#1f77b4\"},\"line_width\":{\"value\":2},\"x\":{\"field\":\"x\"},\"y\":{\"field\":\"y\"}},\"id\":\"015d7d28-eda5-4b93-a18a-1afedda3079c\",\"type\":\"Line\"},{\"attributes\":{\"data_source\":{\"id\":\"ccaeb58f-1396-4851-b141-ad2d5bcd4610\",\"type\":\"ColumnDataSource\"},\"glyph\":{\"id\":\"05c86c28-2256-442b-9250-e21b1f6594b6\",\"type\":\"Line\"},\"hover_glyph\":null,\"nonselection_glyph\":{\"id\":\"e38d310f-9642-4b2b-884b-2c6b5636f2a5\",\"type\":\"Line\"},\"selection_glyph\":null},\"id\":\"acf2bdbc-06e3-458f-9ca2-6b8a6972089b\",\"type\":\"GlyphRenderer\"},{\"attributes\":{\"callback\":null,\"column_names\":[\"y\",\"x\"],\"data\":{\"x\":{\"__ndarray__\":\"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\",\"dtype\":\"float64\",\"shape\":[200]},\"y\":{\"__ndarray__\":\"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\",\"dtype\":\"float64\",\"shape\":[200]}}},\"id\":\"ccaeb58f-1396-4851-b141-ad2d5bcd4610\",\"type\":\"ColumnDataSource\"},{\"attributes\":{\"line_color\":{\"value\":\"blue\"},\"line_width\":{\"value\":2},\"x\":{\"field\":\"x\"},\"y\":{\"field\":\"y\"}},\"id\":\"409284f3-012c-4416-b940-3ed0abcbbdfb\",\"type\":\"Line\"},{\"attributes\":{\"plot\":null,\"text\":\"Cohesive Energy vs. Interatomic Spacing for AlNi\"},\"id\":\"f408ecdd-6796-42cf-af4f-09a14ef1122b\",\"type\":\"Title\"},{\"attributes\":{\"line_alpha\":{\"value\":0.1},\"line_color\":{\"value\":\"#1f77b4\"},\"line_width\":{\"value\":2},\"x\":{\"field\":\"x\"},\"y\":{\"field\":\"y\"}},\"id\":\"e2a27fd9-953d-4ca7-84d1-37e321943b33\",\"type\":\"Line\"},{\"attributes\":{\"overlay\":{\"id\":\"0cc94922-9bb1-409f-8358-a786c9f73a82\",\"type\":\"BoxAnnotation\"},\"plot\":{\"id\":\"52a614d6-7a10-4f17-aa0d-921bfb3fb156\",\"subtype\":\"Figure\",\"type\":\"Plot\"}},\"id\":\"2dd5943f-8c2a-49dd-8b6f-d01db609d575\",\"type\":\"BoxZoomTool\"},{\"attributes\":{\"callback\":null,\"column_names\":[\"y\",\"x\"],\"data\":{\"x\":{\"__ndarray__\":\"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\",\"dtype\":\"float64\",\"shape\":[200]},\"y\":{\"__ndarray__\":\"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\",\"dtype\":\"float64\",\"shape\":[200]}}},\"id\":\"7eb28856-bb89-4d25-a3c3-34558ca2e4c4\",\"type\":\"ColumnDataSource\"},{\"attributes\":{\"line_color\":{\"value\":\"red\"},\"line_width\":{\"value\":2},\"x\":{\"field\":\"x\"},\"y\":{\"field\":\"y\"}},\"id\":\"bfc67efa-858d-4d43-9b05-7ca293f333c0\",\"type\":\"Line\"},{\"attributes\":{\"callback\":null,\"column_names\":[\"y\",\"x\"],\"data\":{\"x\":{\"__ndarray__\":\"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\",\"dtype\":\"float64\",\"shape\":[200]},\"y\":{\"__ndarray__\":\"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\",\"dtype\":\"float64\",\"shape\":[200]}}},\"id\":\"3e6a411f-a3ca-4b0c-b2e4-bd6f757acc6c\",\"type\":\"ColumnDataSource\"},{\"attributes\":{\"data_source\":{\"id\":\"ae8955f3-60ce-450e-9e74-46b8f8cb8641\",\"type\":\"ColumnDataSource\"},\"glyph\":{\"id\":\"409284f3-012c-4416-b940-3ed0abcbbdfb\",\"type\":\"Line\"},\"hover_glyph\":null,\"nonselection_glyph\":{\"id\":\"ed09a2d1-cd54-4faa-b89b-755370e93f59\",\"type\":\"Line\"},\"selection_glyph\":null},\"id\":\"6e4a01e8-f490-4326-8857-286463ca6eba\",\"type\":\"GlyphRenderer\"},{\"attributes\":{\"line_alpha\":{\"value\":0.1},\"line_color\":{\"value\":\"#1f77b4\"},\"line_width\":{\"value\":2},\"x\":{\"field\":\"x\"},\"y\":{\"field\":\"y\"}},\"id\":\"2e393ef2-f47a-4870-92c4-d6ff9e086367\",\"type\":\"Line\"},{\"attributes\":{\"label\":{\"value\":\"B3--ZnS\"},\"renderers\":[{\"id\":\"56a0d606-c6da-4c54-bc18-266a27d1182d\",\"type\":\"GlyphRenderer\"},{\"id\":\"94a8e58c-8bc3-45db-a144-8017406ebef9\",\"type\":\"GlyphRenderer\"}]},\"id\":\"7aff3f67-f8aa-4fd8-83f7-a58cfe19f9d4\",\"type\":\"LegendItem\"},{\"attributes\":{},\"id\":\"b1bdd51c-f585-45b4-852d-c1f11303e287\",\"type\":\"BasicTickFormatter\"},{\"attributes\":{\"callback\":null,\"end\":6,\"start\":2},\"id\":\"3e6cfa15-6c06-4c16-ba74-6245d59b78d5\",\"type\":\"Range1d\"},{\"attributes\":{\"callback\":null,\"column_names\":[\"y\",\"x\"],\"data\":{\"x\":{\"__ndarray__\":\"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\",\"dtype\":\"float64\",\"shape\":[200]},\"y\":{\"__ndarray__\":\"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\",\"dtype\":\"float64\",\"shape\":[200]}}},\"id\":\"ae8955f3-60ce-450e-9e74-46b8f8cb8641\",\"type\":\"ColumnDataSource\"},{\"attributes\":{\"bottom_units\":\"screen\",\"fill_alpha\":{\"value\":0.5},\"fill_color\":{\"value\":\"lightgrey\"},\"left_units\":\"screen\",\"level\":\"overlay\",\"line_alpha\":{\"value\":1.0},\"line_color\":{\"value\":\"black\"},\"line_dash\":[4,4],\"line_width\":{\"value\":2},\"plot\":null,\"render_mode\":\"css\",\"right_units\":\"screen\",\"top_units\":\"screen\"},\"id\":\"0cc94922-9bb1-409f-8358-a786c9f73a82\",\"type\":\"BoxAnnotation\"},{\"attributes\":{\"plot\":{\"id\":\"52a614d6-7a10-4f17-aa0d-921bfb3fb156\",\"subtype\":\"Figure\",\"type\":\"Plot\"}},\"id\":\"8d7c5728-de07-49be-858a-b90e323e12a9\",\"type\":\"PanTool\"},{\"attributes\":{\"active_drag\":\"auto\",\"active_scroll\":\"auto\",\"active_tap\":\"auto\",\"tools\":[{\"id\":\"8d7c5728-de07-49be-858a-b90e323e12a9\",\"type\":\"PanTool\"},{\"id\":\"cf923beb-e3b0-47ec-9127-3bb7b883ccc7\",\"type\":\"WheelZoomTool\"},{\"id\":\"2dd5943f-8c2a-49dd-8b6f-d01db609d575\",\"type\":\"BoxZoomTool\"},{\"id\":\"c986310b-6439-4293-99d3-86c0d0c8c93b\",\"type\":\"SaveTool\"},{\"id\":\"344ee87e-e795-4777-a80c-bd64a9d8d517\",\"type\":\"ResetTool\"},{\"id\":\"c4c3e63a-4d02-47ed-84d2-1a362e637b54\",\"type\":\"HelpTool\"}]},\"id\":\"83479a08-c625-410b-a767-bf9b465d7ef8\",\"type\":\"Toolbar\"},{\"attributes\":{},\"id\":\"5293fb70-2e0d-40ca-b17e-93c77eb56501\",\"type\":\"BasicTickFormatter\"},{\"attributes\":{\"data_source\":{\"id\":\"7eb28856-bb89-4d25-a3c3-34558ca2e4c4\",\"type\":\"ColumnDataSource\"},\"glyph\":{\"id\":\"65937ce9-5cf2-4548-98f9-6635092e0474\",\"type\":\"Line\"},\"hover_glyph\":null,\"nonselection_glyph\":{\"id\":\"015d7d28-eda5-4b93-a18a-1afedda3079c\",\"type\":\"Line\"},\"selection_glyph\":null},\"id\":\"078eef1d-8904-49e6-9d50-c3e3da4a5ea4\",\"type\":\"GlyphRenderer\"},{\"attributes\":{\"plot\":{\"id\":\"52a614d6-7a10-4f17-aa0d-921bfb3fb156\",\"subtype\":\"Figure\",\"type\":\"Plot\"}},\"id\":\"c4c3e63a-4d02-47ed-84d2-1a362e637b54\",\"type\":\"HelpTool\"},{\"attributes\":{\"data_source\":{\"id\":\"2245ff40-f265-4361-b35d-5daa2b813a67\",\"type\":\"ColumnDataSource\"},\"glyph\":{\"id\":\"f6e40114-081f-4a76-a6a7-758b9f1301a6\",\"type\":\"Line\"},\"hover_glyph\":null,\"nonselection_glyph\":{\"id\":\"e2a27fd9-953d-4ca7-84d1-37e321943b33\",\"type\":\"Line\"},\"selection_glyph\":null},\"id\":\"5a000d4a-6ad6-4ff5-a023-fd8f1ee3240f\",\"type\":\"GlyphRenderer\"},{\"attributes\":{\"data_source\":{\"id\":\"8b54ec22-4038-4394-bdff-50e2ee96c9b9\",\"type\":\"ColumnDataSource\"},\"glyph\":{\"id\":\"9ed6fd43-617f-4549-b802-3ce377ba3abf\",\"type\":\"Line\"},\"hover_glyph\":null,\"nonselection_glyph\":{\"id\":\"2e393ef2-f47a-4870-92c4-d6ff9e086367\",\"type\":\"Line\"},\"selection_glyph\":null},\"id\":\"9557abaf-4e58-4519-a1fd-f414c88d1137\",\"type\":\"GlyphRenderer\"},{\"attributes\":{\"data_source\":{\"id\":\"d1b89280-24b2-46d6-a2a5-b569f7b35d3f\",\"type\":\"ColumnDataSource\"},\"glyph\":{\"id\":\"1216a788-9239-42fc-a4d4-0385264f1c47\",\"type\":\"Line\"},\"hover_glyph\":null,\"nonselection_glyph\":{\"id\":\"a48801ef-eddf-49df-8eb7-4c31a3b430a5\",\"type\":\"Line\"},\"selection_glyph\":null},\"id\":\"94a8e58c-8bc3-45db-a144-8017406ebef9\",\"type\":\"GlyphRenderer\"},{\"attributes\":{\"callback\":null,\"column_names\":[\"y\",\"x\"],\"data\":{\"x\":{\"__ndarray__\":\"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\",\"dtype\":\"float64\",\"shape\":[200]},\"y\":{\"__ndarray__\":\"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\",\"dtype\":\"float64\",\"shape\":[200]}}},\"id\":\"2245ff40-f265-4361-b35d-5daa2b813a67\",\"type\":\"ColumnDataSource\"},{\"attributes\":{\"items\":[{\"id\":\"bff223f3-7e33-449a-a0b3-8e2c0c79178e\",\"type\":\"LegendItem\"},{\"id\":\"25b22a04-ee12-458c-9664-307cded46c9e\",\"type\":\"LegendItem\"},{\"id\":\"7aff3f67-f8aa-4fd8-83f7-a58cfe19f9d4\",\"type\":\"LegendItem\"},{\"id\":\"e56ef2ac-8701-46d8-b9fd-03ed410f1f39\",\"type\":\"LegendItem\"}],\"location\":\"bottom_right\",\"plot\":{\"id\":\"52a614d6-7a10-4f17-aa0d-921bfb3fb156\",\"subtype\":\"Figure\",\"type\":\"Plot\"}},\"id\":\"29c490fb-2c34-4915-87ea-4e63f7eabd3a\",\"type\":\"Legend\"},{\"attributes\":{\"callback\":null,\"column_names\":[\"y\",\"x\"],\"data\":{\"x\":{\"__ndarray__\":\"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\",\"dtype\":\"float64\",\"shape\":[200]},\"y\":{\"__ndarray__\":\"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\",\"dtype\":\"float64\",\"shape\":[200]}}},\"id\":\"72e7f9fa-b839-4726-a5d9-f6ecd219cc99\",\"type\":\"ColumnDataSource\"},{\"attributes\":{\"below\":[{\"id\":\"fa41d289-45bc-4419-a13e-77104af2a663\",\"type\":\"LinearAxis\"}],\"left\":[{\"id\":\"b56c2a97-7e43-485c-9253-c19a3d6b584e\",\"type\":\"LinearAxis\"}],\"plot_width\":800,\"renderers\":[{\"id\":\"fa41d289-45bc-4419-a13e-77104af2a663\",\"type\":\"LinearAxis\"},{\"id\":\"5b48f3d1-d5c4-44c5-afe8-b45dc0aafb18\",\"type\":\"Grid\"},{\"id\":\"b56c2a97-7e43-485c-9253-c19a3d6b584e\",\"type\":\"LinearAxis\"},{\"id\":\"bec230c2-501b-4c02-a59e-24199f65f8fa\",\"type\":\"Grid\"},{\"id\":\"0cc94922-9bb1-409f-8358-a786c9f73a82\",\"type\":\"BoxAnnotation\"},{\"id\":\"29c490fb-2c34-4915-87ea-4e63f7eabd3a\",\"type\":\"Legend\"},{\"id\":\"9557abaf-4e58-4519-a1fd-f414c88d1137\",\"type\":\"GlyphRenderer\"},{\"id\":\"5a000d4a-6ad6-4ff5-a023-fd8f1ee3240f\",\"type\":\"GlyphRenderer\"},{\"id\":\"512634d0-2bcc-448f-9c80-67cba48a87a0\",\"type\":\"GlyphRenderer\"},{\"id\":\"6e4a01e8-f490-4326-8857-286463ca6eba\",\"type\":\"GlyphRenderer\"},{\"id\":\"56a0d606-c6da-4c54-bc18-266a27d1182d\",\"type\":\"GlyphRenderer\"},{\"id\":\"94a8e58c-8bc3-45db-a144-8017406ebef9\",\"type\":\"GlyphRenderer\"},{\"id\":\"acf2bdbc-06e3-458f-9ca2-6b8a6972089b\",\"type\":\"GlyphRenderer\"},{\"id\":\"078eef1d-8904-49e6-9d50-c3e3da4a5ea4\",\"type\":\"GlyphRenderer\"}],\"title\":{\"id\":\"f408ecdd-6796-42cf-af4f-09a14ef1122b\",\"type\":\"Title\"},\"tool_events\":{\"id\":\"cd2ec9b7-6877-412b-92e2-f93f5f56a6f3\",\"type\":\"ToolEvents\"},\"toolbar\":{\"id\":\"83479a08-c625-410b-a767-bf9b465d7ef8\",\"type\":\"Toolbar\"},\"x_range\":{\"id\":\"3e6cfa15-6c06-4c16-ba74-6245d59b78d5\",\"type\":\"Range1d\"},\"y_range\":{\"id\":\"014ed84d-dcd6-4d84-923d-6ef7132c605d\",\"type\":\"Range1d\"}},\"id\":\"52a614d6-7a10-4f17-aa0d-921bfb3fb156\",\"subtype\":\"Figure\",\"type\":\"Plot\"},{\"attributes\":{\"line_alpha\":{\"value\":0.1},\"line_color\":{\"value\":\"#1f77b4\"},\"line_width\":{\"value\":2},\"x\":{\"field\":\"x\"},\"y\":{\"field\":\"y\"}},\"id\":\"0c32cb1a-a9ed-412c-82a7-2dabad0ea167\",\"type\":\"Line\"},{\"attributes\":{\"line_alpha\":{\"value\":0.1},\"line_color\":{\"value\":\"#1f77b4\"},\"line_width\":{\"value\":2},\"x\":{\"field\":\"x\"},\"y\":{\"field\":\"y\"}},\"id\":\"1c84f86f-2d8b-4509-a33a-f61f45cac8ff\",\"type\":\"Line\"},{\"attributes\":{\"line_alpha\":{\"value\":0.1},\"line_color\":{\"value\":\"#1f77b4\"},\"line_width\":{\"value\":2},\"x\":{\"field\":\"x\"},\"y\":{\"field\":\"y\"}},\"id\":\"ed09a2d1-cd54-4faa-b89b-755370e93f59\",\"type\":\"Line\"},{\"attributes\":{\"dimension\":1,\"plot\":{\"id\":\"52a614d6-7a10-4f17-aa0d-921bfb3fb156\",\"subtype\":\"Figure\",\"type\":\"Plot\"},\"ticker\":{\"id\":\"bbed2ff0-9fa6-4ba3-a411-a87bfa1450d6\",\"type\":\"BasicTicker\"}},\"id\":\"bec230c2-501b-4c02-a59e-24199f65f8fa\",\"type\":\"Grid\"},{\"attributes\":{\"line_color\":{\"value\":\"blue\"},\"line_width\":{\"value\":2},\"x\":{\"field\":\"x\"},\"y\":{\"field\":\"y\"}},\"id\":\"36e37faf-e85d-4082-bf8e-abae22c6e0e3\",\"type\":\"Line\"}],\"root_ids\":[\"52a614d6-7a10-4f17-aa0d-921bfb3fb156\"]},\"title\":\"Bokeh Application\",\"version\":\"0.12.4\"}};\n",
       "            var render_items = [{\"docid\":\"cc15741e-5a3a-407a-ab76-202495f630f4\",\"elementid\":\"97044eeb-ccde-41d3-8b4b-b9dfd45ba062\",\"modelid\":\"52a614d6-7a10-4f17-aa0d-921bfb3fb156\"}];\n",
       "            \n",
       "            Bokeh.embed.embed_items(docs_json, render_items);\n",
       "          };\n",
       "          if (document.readyState != \"loading\") fn();\n",
       "          else document.addEventListener(\"DOMContentLoaded\", fn);\n",
       "        })();\n",
       "      },\n",
       "      function(Bokeh) {\n",
       "      }\n",
       "    ];\n",
       "  \n",
       "    function run_inline_js() {\n",
       "      \n",
       "      if ((window.Bokeh !== undefined) || (force === true)) {\n",
       "        for (var i = 0; i < inline_js.length; i++) {\n",
       "          inline_js[i](window.Bokeh);\n",
       "        }if (force === true) {\n",
       "          display_loaded();\n",
       "        }} else if (Date.now() < window._bokeh_timeout) {\n",
       "        setTimeout(run_inline_js, 100);\n",
       "      } else if (!window._bokeh_failed_load) {\n",
       "        console.log(\"Bokeh: BokehJS failed to load within specified timeout.\");\n",
       "        window._bokeh_failed_load = true;\n",
       "      } else if (force !== true) {\n",
       "        var cell = $(document.getElementById(\"97044eeb-ccde-41d3-8b4b-b9dfd45ba062\")).parents('.cell').data().cell;\n",
       "        cell.output_area.append_execute_result(NB_LOAD_WARNING)\n",
       "      }\n",
       "  \n",
       "    }\n",
       "  \n",
       "    if (window._bokeh_is_loading === 0) {\n",
       "      console.log(\"Bokeh: BokehJS loaded, going straight to plotting\");\n",
       "      run_inline_js();\n",
       "    } else {\n",
       "      load_libs(js_urls, function() {\n",
       "        console.log(\"Bokeh: BokehJS plotting callback run at\", now());\n",
       "        run_inline_js();\n",
       "      });\n",
       "    }\n",
       "  }(this));\n",
       "</script>"
      ]
     },
     "metadata": {},
     "output_type": "display_data"
    },
    {
     "data": {
      "text/html": [
       "\n",
       "\n",
       "    <div class=\"bk-root\">\n",
       "        <div class=\"bk-plotdiv\" id=\"4d2161e3-2af0-4fec-a0af-8e33b2c094df\"></div>\n",
       "    </div>\n",
       "<script type=\"text/javascript\">\n",
       "  \n",
       "  (function(global) {\n",
       "    function now() {\n",
       "      return new Date();\n",
       "    }\n",
       "  \n",
       "    var force = false;\n",
       "  \n",
       "    if (typeof (window._bokeh_onload_callbacks) === \"undefined\" || force === true) {\n",
       "      window._bokeh_onload_callbacks = [];\n",
       "      window._bokeh_is_loading = undefined;\n",
       "    }\n",
       "  \n",
       "  \n",
       "    \n",
       "    if (typeof (window._bokeh_timeout) === \"undefined\" || force === true) {\n",
       "      window._bokeh_timeout = Date.now() + 0;\n",
       "      window._bokeh_failed_load = false;\n",
       "    }\n",
       "  \n",
       "    var NB_LOAD_WARNING = {'data': {'text/html':\n",
       "       \"<div style='background-color: #fdd'>\\n\"+\n",
       "       \"<p>\\n\"+\n",
       "       \"BokehJS does not appear to have successfully loaded. If loading BokehJS from CDN, this \\n\"+\n",
       "       \"may be due to a slow or bad network connection. Possible fixes:\\n\"+\n",
       "       \"</p>\\n\"+\n",
       "       \"<ul>\\n\"+\n",
       "       \"<li>re-rerun `output_notebook()` to attempt to load from CDN again, or</li>\\n\"+\n",
       "       \"<li>use INLINE resources instead, as so:</li>\\n\"+\n",
       "       \"</ul>\\n\"+\n",
       "       \"<code>\\n\"+\n",
       "       \"from bokeh.resources import INLINE\\n\"+\n",
       "       \"output_notebook(resources=INLINE)\\n\"+\n",
       "       \"</code>\\n\"+\n",
       "       \"</div>\"}};\n",
       "  \n",
       "    function display_loaded() {\n",
       "      if (window.Bokeh !== undefined) {\n",
       "        document.getElementById(\"4d2161e3-2af0-4fec-a0af-8e33b2c094df\").textContent = \"BokehJS successfully loaded.\";\n",
       "      } else if (Date.now() < window._bokeh_timeout) {\n",
       "        setTimeout(display_loaded, 100)\n",
       "      }\n",
       "    }\n",
       "  \n",
       "    function run_callbacks() {\n",
       "      window._bokeh_onload_callbacks.forEach(function(callback) { callback() });\n",
       "      delete window._bokeh_onload_callbacks\n",
       "      console.info(\"Bokeh: all callbacks have finished\");\n",
       "    }\n",
       "  \n",
       "    function load_libs(js_urls, callback) {\n",
       "      window._bokeh_onload_callbacks.push(callback);\n",
       "      if (window._bokeh_is_loading > 0) {\n",
       "        console.log(\"Bokeh: BokehJS is being loaded, scheduling callback at\", now());\n",
       "        return null;\n",
       "      }\n",
       "      if (js_urls == null || js_urls.length === 0) {\n",
       "        run_callbacks();\n",
       "        return null;\n",
       "      }\n",
       "      console.log(\"Bokeh: BokehJS not loaded, scheduling load and callback at\", now());\n",
       "      window._bokeh_is_loading = js_urls.length;\n",
       "      for (var i = 0; i < js_urls.length; i++) {\n",
       "        var url = js_urls[i];\n",
       "        var s = document.createElement('script');\n",
       "        s.src = url;\n",
       "        s.async = false;\n",
       "        s.onreadystatechange = s.onload = function() {\n",
       "          window._bokeh_is_loading--;\n",
       "          if (window._bokeh_is_loading === 0) {\n",
       "            console.log(\"Bokeh: all BokehJS libraries loaded\");\n",
       "            run_callbacks()\n",
       "          }\n",
       "        };\n",
       "        s.onerror = function() {\n",
       "          console.warn(\"failed to load library \" + url);\n",
       "        };\n",
       "        console.log(\"Bokeh: injecting script tag for BokehJS library: \", url);\n",
       "        document.getElementsByTagName(\"head\")[0].appendChild(s);\n",
       "      }\n",
       "    };var element = document.getElementById(\"4d2161e3-2af0-4fec-a0af-8e33b2c094df\");\n",
       "    if (element == null) {\n",
       "      console.log(\"Bokeh: ERROR: autoload.js configured with elementid '4d2161e3-2af0-4fec-a0af-8e33b2c094df' but no matching script tag was found. \")\n",
       "      return false;\n",
       "    }\n",
       "  \n",
       "    var js_urls = [];\n",
       "  \n",
       "    var inline_js = [\n",
       "      function(Bokeh) {\n",
       "        (function() {\n",
       "          var fn = function() {\n",
       "            var docs_json = {\"0ed39a90-19b1-4e12-affc-097fbf61af31\":{\"roots\":{\"references\":[{\"attributes\":{\"plot\":{\"id\":\"8cf12e4c-1223-46a6-84a7-4ccb3353cbb7\",\"subtype\":\"Figure\",\"type\":\"Plot\"}},\"id\":\"550ec87b-3493-4ac5-94e5-bdb9ec8524af\",\"type\":\"SaveTool\"},{\"attributes\":{\"overlay\":{\"id\":\"35f973fc-1389-43d5-a641-9e6fcbe09bd1\",\"type\":\"BoxAnnotation\"},\"plot\":{\"id\":\"8cf12e4c-1223-46a6-84a7-4ccb3353cbb7\",\"subtype\":\"Figure\",\"type\":\"Plot\"}},\"id\":\"9b27e6f2-a5b0-49ff-8f15-5e6e6b57deb1\",\"type\":\"BoxZoomTool\"},{\"attributes\":{\"bottom_units\":\"screen\",\"fill_alpha\":{\"value\":0.5},\"fill_color\":{\"value\":\"lightgrey\"},\"left_units\":\"screen\",\"level\":\"overlay\",\"line_alpha\":{\"value\":1.0},\"line_color\":{\"value\":\"black\"},\"line_dash\":[4,4],\"line_width\":{\"value\":2},\"plot\":null,\"render_mode\":\"css\",\"right_units\":\"screen\",\"top_units\":\"screen\"},\"id\":\"35f973fc-1389-43d5-a641-9e6fcbe09bd1\",\"type\":\"BoxAnnotation\"},{\"attributes\":{\"dimension\":1,\"plot\":{\"id\":\"8cf12e4c-1223-46a6-84a7-4ccb3353cbb7\",\"subtype\":\"Figure\",\"type\":\"Plot\"},\"ticker\":{\"id\":\"7c4fd93f-238e-46b1-b23c-5d914e94f7e3\",\"type\":\"BasicTicker\"}},\"id\":\"547bdca1-0708-4855-910a-0f68bcc4b0b9\",\"type\":\"Grid\"},{\"attributes\":{\"plot\":null,\"text\":\"Cohesive Energy vs. Interatomic Spacing for AlNi2\"},\"id\":\"7b8aa23e-58ce-4095-ab90-48216b570f51\",\"type\":\"Title\"},{\"attributes\":{},\"id\":\"8bc5f51e-e80e-41f9-9f6d-fe3163c3392b\",\"type\":\"BasicTicker\"},{\"attributes\":{\"below\":[{\"id\":\"5ff2b8cf-1d83-468c-8864-3da5e0f0a46c\",\"type\":\"LinearAxis\"}],\"left\":[{\"id\":\"14f7789f-343e-4af5-8313-ba68ac191fb2\",\"type\":\"LinearAxis\"}],\"plot_width\":800,\"renderers\":[{\"id\":\"5ff2b8cf-1d83-468c-8864-3da5e0f0a46c\",\"type\":\"LinearAxis\"},{\"id\":\"d17a3c90-c8da-420c-b6e5-acacd76cf25b\",\"type\":\"Grid\"},{\"id\":\"14f7789f-343e-4af5-8313-ba68ac191fb2\",\"type\":\"LinearAxis\"},{\"id\":\"547bdca1-0708-4855-910a-0f68bcc4b0b9\",\"type\":\"Grid\"},{\"id\":\"35f973fc-1389-43d5-a641-9e6fcbe09bd1\",\"type\":\"BoxAnnotation\"},{\"id\":\"93499e58-2a06-4b83-b089-66e9ac1d6e3e\",\"type\":\"Legend\"},{\"id\":\"402d9e34-70f4-498e-804d-afef3783241d\",\"type\":\"GlyphRenderer\"}],\"title\":{\"id\":\"7b8aa23e-58ce-4095-ab90-48216b570f51\",\"type\":\"Title\"},\"tool_events\":{\"id\":\"498bc63b-831d-4a26-bf73-0c8c50bf2385\",\"type\":\"ToolEvents\"},\"toolbar\":{\"id\":\"46554600-fed8-43e5-918a-1d297b7faf1a\",\"type\":\"Toolbar\"},\"x_range\":{\"id\":\"bbf1d8a9-ddb1-4ac3-a859-2ff9b82c0e8e\",\"type\":\"Range1d\"},\"y_range\":{\"id\":\"85a37a4b-8ab0-4545-98ee-cd55b43866a4\",\"type\":\"Range1d\"}},\"id\":\"8cf12e4c-1223-46a6-84a7-4ccb3353cbb7\",\"subtype\":\"Figure\",\"type\":\"Plot\"},{\"attributes\":{\"axis_label\":\"Cohesive Energy (eV/atom)\",\"formatter\":{\"id\":\"4dc7633a-f4bd-490d-95c8-f8eb6d415b47\",\"type\":\"BasicTickFormatter\"},\"plot\":{\"id\":\"8cf12e4c-1223-46a6-84a7-4ccb3353cbb7\",\"subtype\":\"Figure\",\"type\":\"Plot\"},\"ticker\":{\"id\":\"7c4fd93f-238e-46b1-b23c-5d914e94f7e3\",\"type\":\"BasicTicker\"}},\"id\":\"14f7789f-343e-4af5-8313-ba68ac191fb2\",\"type\":\"LinearAxis\"},{\"attributes\":{},\"id\":\"c1cbe011-9ebb-445f-b204-086476ca5bbb\",\"type\":\"BasicTickFormatter\"},{\"attributes\":{\"plot\":{\"id\":\"8cf12e4c-1223-46a6-84a7-4ccb3353cbb7\",\"subtype\":\"Figure\",\"type\":\"Plot\"}},\"id\":\"838a47d9-7378-49bf-b3b1-b492f9d84654\",\"type\":\"ResetTool\"},{\"attributes\":{\"axis_label\":\"r (A)\",\"formatter\":{\"id\":\"c1cbe011-9ebb-445f-b204-086476ca5bbb\",\"type\":\"BasicTickFormatter\"},\"plot\":{\"id\":\"8cf12e4c-1223-46a6-84a7-4ccb3353cbb7\",\"subtype\":\"Figure\",\"type\":\"Plot\"},\"ticker\":{\"id\":\"8bc5f51e-e80e-41f9-9f6d-fe3163c3392b\",\"type\":\"BasicTicker\"}},\"id\":\"5ff2b8cf-1d83-468c-8864-3da5e0f0a46c\",\"type\":\"LinearAxis\"},{\"attributes\":{\"active_drag\":\"auto\",\"active_scroll\":\"auto\",\"active_tap\":\"auto\",\"tools\":[{\"id\":\"5e0c136c-956a-46e9-af16-48f7524953ce\",\"type\":\"PanTool\"},{\"id\":\"1fb5aac7-8436-45a8-990e-a750df74f098\",\"type\":\"WheelZoomTool\"},{\"id\":\"9b27e6f2-a5b0-49ff-8f15-5e6e6b57deb1\",\"type\":\"BoxZoomTool\"},{\"id\":\"550ec87b-3493-4ac5-94e5-bdb9ec8524af\",\"type\":\"SaveTool\"},{\"id\":\"838a47d9-7378-49bf-b3b1-b492f9d84654\",\"type\":\"ResetTool\"},{\"id\":\"ca608a27-3b65-4228-9d8f-afa509fef668\",\"type\":\"HelpTool\"}]},\"id\":\"46554600-fed8-43e5-918a-1d297b7faf1a\",\"type\":\"Toolbar\"},{\"attributes\":{\"plot\":{\"id\":\"8cf12e4c-1223-46a6-84a7-4ccb3353cbb7\",\"subtype\":\"Figure\",\"type\":\"Plot\"}},\"id\":\"ca608a27-3b65-4228-9d8f-afa509fef668\",\"type\":\"HelpTool\"},{\"attributes\":{\"line_width\":{\"value\":2},\"x\":{\"field\":\"x\"},\"y\":{\"field\":\"y\"}},\"id\":\"2d044b48-81a4-4010-91ea-45b5bac7f2da\",\"type\":\"Line\"},{\"attributes\":{\"label\":{\"value\":\"C1--CaF2\"},\"renderers\":[{\"id\":\"402d9e34-70f4-498e-804d-afef3783241d\",\"type\":\"GlyphRenderer\"}]},\"id\":\"a60a347b-fd5b-46dc-a26c-e05ced987d2d\",\"type\":\"LegendItem\"},{\"attributes\":{},\"id\":\"4dc7633a-f4bd-490d-95c8-f8eb6d415b47\",\"type\":\"BasicTickFormatter\"},{\"attributes\":{\"line_alpha\":{\"value\":0.1},\"line_color\":{\"value\":\"#1f77b4\"},\"line_width\":{\"value\":2},\"x\":{\"field\":\"x\"},\"y\":{\"field\":\"y\"}},\"id\":\"998d2c5e-7372-437a-b7d4-5e346fcad572\",\"type\":\"Line\"},{\"attributes\":{\"plot\":{\"id\":\"8cf12e4c-1223-46a6-84a7-4ccb3353cbb7\",\"subtype\":\"Figure\",\"type\":\"Plot\"}},\"id\":\"1fb5aac7-8436-45a8-990e-a750df74f098\",\"type\":\"WheelZoomTool\"},{\"attributes\":{},\"id\":\"498bc63b-831d-4a26-bf73-0c8c50bf2385\",\"type\":\"ToolEvents\"},{\"attributes\":{\"callback\":null,\"end\":6,\"start\":2},\"id\":\"bbf1d8a9-ddb1-4ac3-a859-2ff9b82c0e8e\",\"type\":\"Range1d\"},{\"attributes\":{\"plot\":{\"id\":\"8cf12e4c-1223-46a6-84a7-4ccb3353cbb7\",\"subtype\":\"Figure\",\"type\":\"Plot\"},\"ticker\":{\"id\":\"8bc5f51e-e80e-41f9-9f6d-fe3163c3392b\",\"type\":\"BasicTicker\"}},\"id\":\"d17a3c90-c8da-420c-b6e5-acacd76cf25b\",\"type\":\"Grid\"},{\"attributes\":{\"plot\":{\"id\":\"8cf12e4c-1223-46a6-84a7-4ccb3353cbb7\",\"subtype\":\"Figure\",\"type\":\"Plot\"}},\"id\":\"5e0c136c-956a-46e9-af16-48f7524953ce\",\"type\":\"PanTool\"},{\"attributes\":{\"callback\":null,\"end\":0,\"start\":-5.0},\"id\":\"85a37a4b-8ab0-4545-98ee-cd55b43866a4\",\"type\":\"Range1d\"},{\"attributes\":{\"items\":[{\"id\":\"a60a347b-fd5b-46dc-a26c-e05ced987d2d\",\"type\":\"LegendItem\"}],\"location\":\"bottom_right\",\"plot\":{\"id\":\"8cf12e4c-1223-46a6-84a7-4ccb3353cbb7\",\"subtype\":\"Figure\",\"type\":\"Plot\"}},\"id\":\"93499e58-2a06-4b83-b089-66e9ac1d6e3e\",\"type\":\"Legend\"},{\"attributes\":{\"data_source\":{\"id\":\"5c7e70a1-74d1-4f5a-a3e6-736d9571582a\",\"type\":\"ColumnDataSource\"},\"glyph\":{\"id\":\"2d044b48-81a4-4010-91ea-45b5bac7f2da\",\"type\":\"Line\"},\"hover_glyph\":null,\"nonselection_glyph\":{\"id\":\"998d2c5e-7372-437a-b7d4-5e346fcad572\",\"type\":\"Line\"},\"selection_glyph\":null},\"id\":\"402d9e34-70f4-498e-804d-afef3783241d\",\"type\":\"GlyphRenderer\"},{\"attributes\":{\"callback\":null,\"column_names\":[\"y\",\"x\"],\"data\":{\"x\":{\"__ndarray__\":\"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\",\"dtype\":\"float64\",\"shape\":[200]},\"y\":{\"__ndarray__\":\"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\",\"dtype\":\"float64\",\"shape\":[200]}}},\"id\":\"5c7e70a1-74d1-4f5a-a3e6-736d9571582a\",\"type\":\"ColumnDataSource\"},{\"attributes\":{},\"id\":\"7c4fd93f-238e-46b1-b23c-5d914e94f7e3\",\"type\":\"BasicTicker\"}],\"root_ids\":[\"8cf12e4c-1223-46a6-84a7-4ccb3353cbb7\"]},\"title\":\"Bokeh Application\",\"version\":\"0.12.4\"}};\n",
       "            var render_items = [{\"docid\":\"0ed39a90-19b1-4e12-affc-097fbf61af31\",\"elementid\":\"4d2161e3-2af0-4fec-a0af-8e33b2c094df\",\"modelid\":\"8cf12e4c-1223-46a6-84a7-4ccb3353cbb7\"}];\n",
       "            \n",
       "            Bokeh.embed.embed_items(docs_json, render_items);\n",
       "          };\n",
       "          if (document.readyState != \"loading\") fn();\n",
       "          else document.addEventListener(\"DOMContentLoaded\", fn);\n",
       "        })();\n",
       "      },\n",
       "      function(Bokeh) {\n",
       "      }\n",
       "    ];\n",
       "  \n",
       "    function run_inline_js() {\n",
       "      \n",
       "      if ((window.Bokeh !== undefined) || (force === true)) {\n",
       "        for (var i = 0; i < inline_js.length; i++) {\n",
       "          inline_js[i](window.Bokeh);\n",
       "        }if (force === true) {\n",
       "          display_loaded();\n",
       "        }} else if (Date.now() < window._bokeh_timeout) {\n",
       "        setTimeout(run_inline_js, 100);\n",
       "      } else if (!window._bokeh_failed_load) {\n",
       "        console.log(\"Bokeh: BokehJS failed to load within specified timeout.\");\n",
       "        window._bokeh_failed_load = true;\n",
       "      } else if (force !== true) {\n",
       "        var cell = $(document.getElementById(\"4d2161e3-2af0-4fec-a0af-8e33b2c094df\")).parents('.cell').data().cell;\n",
       "        cell.output_area.append_execute_result(NB_LOAD_WARNING)\n",
       "      }\n",
       "  \n",
       "    }\n",
       "  \n",
       "    if (window._bokeh_is_loading === 0) {\n",
       "      console.log(\"Bokeh: BokehJS loaded, going straight to plotting\");\n",
       "      run_inline_js();\n",
       "    } else {\n",
       "      load_libs(js_urls, function() {\n",
       "        console.log(\"Bokeh: BokehJS plotting callback run at\", now());\n",
       "        run_inline_js();\n",
       "      });\n",
       "    }\n",
       "  }(this));\n",
       "</script>"
      ]
     },
     "metadata": {},
     "output_type": "display_data"
    },
    {
     "data": {
      "text/html": [
       "\n",
       "\n",
       "    <div class=\"bk-root\">\n",
       "        <div class=\"bk-plotdiv\" id=\"bdddcb46-38bb-482e-bf5b-c7b3acdbfab2\"></div>\n",
       "    </div>\n",
       "<script type=\"text/javascript\">\n",
       "  \n",
       "  (function(global) {\n",
       "    function now() {\n",
       "      return new Date();\n",
       "    }\n",
       "  \n",
       "    var force = false;\n",
       "  \n",
       "    if (typeof (window._bokeh_onload_callbacks) === \"undefined\" || force === true) {\n",
       "      window._bokeh_onload_callbacks = [];\n",
       "      window._bokeh_is_loading = undefined;\n",
       "    }\n",
       "  \n",
       "  \n",
       "    \n",
       "    if (typeof (window._bokeh_timeout) === \"undefined\" || force === true) {\n",
       "      window._bokeh_timeout = Date.now() + 0;\n",
       "      window._bokeh_failed_load = false;\n",
       "    }\n",
       "  \n",
       "    var NB_LOAD_WARNING = {'data': {'text/html':\n",
       "       \"<div style='background-color: #fdd'>\\n\"+\n",
       "       \"<p>\\n\"+\n",
       "       \"BokehJS does not appear to have successfully loaded. If loading BokehJS from CDN, this \\n\"+\n",
       "       \"may be due to a slow or bad network connection. Possible fixes:\\n\"+\n",
       "       \"</p>\\n\"+\n",
       "       \"<ul>\\n\"+\n",
       "       \"<li>re-rerun `output_notebook()` to attempt to load from CDN again, or</li>\\n\"+\n",
       "       \"<li>use INLINE resources instead, as so:</li>\\n\"+\n",
       "       \"</ul>\\n\"+\n",
       "       \"<code>\\n\"+\n",
       "       \"from bokeh.resources import INLINE\\n\"+\n",
       "       \"output_notebook(resources=INLINE)\\n\"+\n",
       "       \"</code>\\n\"+\n",
       "       \"</div>\"}};\n",
       "  \n",
       "    function display_loaded() {\n",
       "      if (window.Bokeh !== undefined) {\n",
       "        document.getElementById(\"bdddcb46-38bb-482e-bf5b-c7b3acdbfab2\").textContent = \"BokehJS successfully loaded.\";\n",
       "      } else if (Date.now() < window._bokeh_timeout) {\n",
       "        setTimeout(display_loaded, 100)\n",
       "      }\n",
       "    }\n",
       "  \n",
       "    function run_callbacks() {\n",
       "      window._bokeh_onload_callbacks.forEach(function(callback) { callback() });\n",
       "      delete window._bokeh_onload_callbacks\n",
       "      console.info(\"Bokeh: all callbacks have finished\");\n",
       "    }\n",
       "  \n",
       "    function load_libs(js_urls, callback) {\n",
       "      window._bokeh_onload_callbacks.push(callback);\n",
       "      if (window._bokeh_is_loading > 0) {\n",
       "        console.log(\"Bokeh: BokehJS is being loaded, scheduling callback at\", now());\n",
       "        return null;\n",
       "      }\n",
       "      if (js_urls == null || js_urls.length === 0) {\n",
       "        run_callbacks();\n",
       "        return null;\n",
       "      }\n",
       "      console.log(\"Bokeh: BokehJS not loaded, scheduling load and callback at\", now());\n",
       "      window._bokeh_is_loading = js_urls.length;\n",
       "      for (var i = 0; i < js_urls.length; i++) {\n",
       "        var url = js_urls[i];\n",
       "        var s = document.createElement('script');\n",
       "        s.src = url;\n",
       "        s.async = false;\n",
       "        s.onreadystatechange = s.onload = function() {\n",
       "          window._bokeh_is_loading--;\n",
       "          if (window._bokeh_is_loading === 0) {\n",
       "            console.log(\"Bokeh: all BokehJS libraries loaded\");\n",
       "            run_callbacks()\n",
       "          }\n",
       "        };\n",
       "        s.onerror = function() {\n",
       "          console.warn(\"failed to load library \" + url);\n",
       "        };\n",
       "        console.log(\"Bokeh: injecting script tag for BokehJS library: \", url);\n",
       "        document.getElementsByTagName(\"head\")[0].appendChild(s);\n",
       "      }\n",
       "    };var element = document.getElementById(\"bdddcb46-38bb-482e-bf5b-c7b3acdbfab2\");\n",
       "    if (element == null) {\n",
       "      console.log(\"Bokeh: ERROR: autoload.js configured with elementid 'bdddcb46-38bb-482e-bf5b-c7b3acdbfab2' but no matching script tag was found. \")\n",
       "      return false;\n",
       "    }\n",
       "  \n",
       "    var js_urls = [];\n",
       "  \n",
       "    var inline_js = [\n",
       "      function(Bokeh) {\n",
       "        (function() {\n",
       "          var fn = function() {\n",
       "            var docs_json = {\"0ffa2952-5354-4f4c-9181-ba8cb2a8ffbf\":{\"roots\":{\"references\":[{\"attributes\":{\"axis_label\":\"Cohesive Energy (eV/atom)\",\"formatter\":{\"id\":\"44535444-e316-4415-a2b1-c73fe74c7340\",\"type\":\"BasicTickFormatter\"},\"plot\":{\"id\":\"75ef2596-b6cd-4ca6-b3b1-9ed4fdec27c9\",\"subtype\":\"Figure\",\"type\":\"Plot\"},\"ticker\":{\"id\":\"4ebd736e-cc36-40a6-a60f-d2ff0220f05f\",\"type\":\"BasicTicker\"}},\"id\":\"6ae92393-a9f8-4557-931b-9dfc11e295ad\",\"type\":\"LinearAxis\"},{\"attributes\":{\"bottom_units\":\"screen\",\"fill_alpha\":{\"value\":0.5},\"fill_color\":{\"value\":\"lightgrey\"},\"left_units\":\"screen\",\"level\":\"overlay\",\"line_alpha\":{\"value\":1.0},\"line_color\":{\"value\":\"black\"},\"line_dash\":[4,4],\"line_width\":{\"value\":2},\"plot\":null,\"render_mode\":\"css\",\"right_units\":\"screen\",\"top_units\":\"screen\"},\"id\":\"4570179b-7eb0-4ad3-bd6f-94fb2cbd293f\",\"type\":\"BoxAnnotation\"},{\"attributes\":{\"line_alpha\":{\"value\":0.1},\"line_color\":{\"value\":\"#1f77b4\"},\"line_width\":{\"value\":2},\"x\":{\"field\":\"x\"},\"y\":{\"field\":\"y\"}},\"id\":\"43bc1b04-9050-4be8-8e9e-ca40a8282284\",\"type\":\"Line\"},{\"attributes\":{\"callback\":null,\"end\":0,\"start\":-5.0},\"id\":\"2525c894-17c3-46f1-8104-326300b88145\",\"type\":\"Range1d\"},{\"attributes\":{\"label\":{\"value\":\"A15--Cr3Si\"},\"renderers\":[{\"id\":\"3ae9ae2d-f2d4-4e59-8cb0-a018af5edf3d\",\"type\":\"GlyphRenderer\"}]},\"id\":\"6efcfcf5-73d2-491f-92b9-d469ce720129\",\"type\":\"LegendItem\"},{\"attributes\":{\"plot\":{\"id\":\"75ef2596-b6cd-4ca6-b3b1-9ed4fdec27c9\",\"subtype\":\"Figure\",\"type\":\"Plot\"}},\"id\":\"cdb9e614-4100-4715-9226-37e10355a1a6\",\"type\":\"HelpTool\"},{\"attributes\":{},\"id\":\"44535444-e316-4415-a2b1-c73fe74c7340\",\"type\":\"BasicTickFormatter\"},{\"attributes\":{\"plot\":null,\"text\":\"Cohesive Energy vs. Interatomic Spacing for AlNi3\"},\"id\":\"60018172-5fce-425d-8f4a-c14a3af2c623\",\"type\":\"Title\"},{\"attributes\":{\"line_color\":{\"value\":\"blue\"},\"line_width\":{\"value\":2},\"x\":{\"field\":\"x\"},\"y\":{\"field\":\"y\"}},\"id\":\"946687e2-255a-44ec-8046-82d2d02b20cb\",\"type\":\"Line\"},{\"attributes\":{\"overlay\":{\"id\":\"4570179b-7eb0-4ad3-bd6f-94fb2cbd293f\",\"type\":\"BoxAnnotation\"},\"plot\":{\"id\":\"75ef2596-b6cd-4ca6-b3b1-9ed4fdec27c9\",\"subtype\":\"Figure\",\"type\":\"Plot\"}},\"id\":\"14ee96cd-3475-4e03-8b36-fe460b26aea9\",\"type\":\"BoxZoomTool\"},{\"attributes\":{},\"id\":\"f7835b2a-9b93-4976-a77f-fa9c2de566cd\",\"type\":\"BasicTicker\"},{\"attributes\":{\"line_alpha\":{\"value\":0.1},\"line_color\":{\"value\":\"#1f77b4\"},\"line_width\":{\"value\":2},\"x\":{\"field\":\"x\"},\"y\":{\"field\":\"y\"}},\"id\":\"ca406463-ce20-4257-8071-146c9ee83406\",\"type\":\"Line\"},{\"attributes\":{},\"id\":\"ffe0ef19-5dfa-4a89-b30e-c753868dfd3d\",\"type\":\"BasicTickFormatter\"},{\"attributes\":{\"plot\":{\"id\":\"75ef2596-b6cd-4ca6-b3b1-9ed4fdec27c9\",\"subtype\":\"Figure\",\"type\":\"Plot\"}},\"id\":\"896b6138-dd3e-40b8-811f-4d6b21508af3\",\"type\":\"ResetTool\"},{\"attributes\":{},\"id\":\"4ebd736e-cc36-40a6-a60f-d2ff0220f05f\",\"type\":\"BasicTicker\"},{\"attributes\":{\"items\":[{\"id\":\"6efcfcf5-73d2-491f-92b9-d469ce720129\",\"type\":\"LegendItem\"},{\"id\":\"f74b52a2-b4dc-45da-822c-f4d89cf7eeae\",\"type\":\"LegendItem\"},{\"id\":\"326b3dfc-37a8-43c9-b050-82c251ba988d\",\"type\":\"LegendItem\"}],\"location\":\"bottom_right\",\"plot\":{\"id\":\"75ef2596-b6cd-4ca6-b3b1-9ed4fdec27c9\",\"subtype\":\"Figure\",\"type\":\"Plot\"}},\"id\":\"d60048e5-430f-4f91-9354-18c1c4a9845b\",\"type\":\"Legend\"},{\"attributes\":{\"data_source\":{\"id\":\"5a1e9eac-68ff-41f1-a471-1cadc07cadaa\",\"type\":\"ColumnDataSource\"},\"glyph\":{\"id\":\"946687e2-255a-44ec-8046-82d2d02b20cb\",\"type\":\"Line\"},\"hover_glyph\":null,\"nonselection_glyph\":{\"id\":\"43bc1b04-9050-4be8-8e9e-ca40a8282284\",\"type\":\"Line\"},\"selection_glyph\":null},\"id\":\"0fa6cd5f-3fdf-40e1-ab89-4bf5d96ff3f3\",\"type\":\"GlyphRenderer\"},{\"attributes\":{\"callback\":null,\"column_names\":[\"y\",\"x\"],\"data\":{\"x\":{\"__ndarray__\":\"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\",\"dtype\":\"float64\",\"shape\":[200]},\"y\":{\"__ndarray__\":\"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\",\"dtype\":\"float64\",\"shape\":[200]}}},\"id\":\"c5c9bceb-c12d-4da1-a961-1f6cad86a8ef\",\"type\":\"ColumnDataSource\"},{\"attributes\":{\"active_drag\":\"auto\",\"active_scroll\":\"auto\",\"active_tap\":\"auto\",\"tools\":[{\"id\":\"3ef11fd2-c0c4-4b3d-9337-2d8df9cd3352\",\"type\":\"PanTool\"},{\"id\":\"7df81829-8e51-4dac-a1d8-c49797a6ec57\",\"type\":\"WheelZoomTool\"},{\"id\":\"14ee96cd-3475-4e03-8b36-fe460b26aea9\",\"type\":\"BoxZoomTool\"},{\"id\":\"0e786b1e-b8ce-4321-bacd-43b8280fba10\",\"type\":\"SaveTool\"},{\"id\":\"896b6138-dd3e-40b8-811f-4d6b21508af3\",\"type\":\"ResetTool\"},{\"id\":\"cdb9e614-4100-4715-9226-37e10355a1a6\",\"type\":\"HelpTool\"}]},\"id\":\"772bf902-39d1-47d5-992d-48dd1ac6486b\",\"type\":\"Toolbar\"},{\"attributes\":{\"plot\":{\"id\":\"75ef2596-b6cd-4ca6-b3b1-9ed4fdec27c9\",\"subtype\":\"Figure\",\"type\":\"Plot\"},\"ticker\":{\"id\":\"f7835b2a-9b93-4976-a77f-fa9c2de566cd\",\"type\":\"BasicTicker\"}},\"id\":\"b970c55f-9418-442d-8120-8a3bec9e65a7\",\"type\":\"Grid\"},{\"attributes\":{\"below\":[{\"id\":\"e9d58aa2-0524-4886-af41-3e026c4a35d9\",\"type\":\"LinearAxis\"}],\"left\":[{\"id\":\"6ae92393-a9f8-4557-931b-9dfc11e295ad\",\"type\":\"LinearAxis\"}],\"plot_width\":800,\"renderers\":[{\"id\":\"e9d58aa2-0524-4886-af41-3e026c4a35d9\",\"type\":\"LinearAxis\"},{\"id\":\"b970c55f-9418-442d-8120-8a3bec9e65a7\",\"type\":\"Grid\"},{\"id\":\"6ae92393-a9f8-4557-931b-9dfc11e295ad\",\"type\":\"LinearAxis\"},{\"id\":\"d2a4ab09-b762-403b-a789-4a915f49497c\",\"type\":\"Grid\"},{\"id\":\"4570179b-7eb0-4ad3-bd6f-94fb2cbd293f\",\"type\":\"BoxAnnotation\"},{\"id\":\"d60048e5-430f-4f91-9354-18c1c4a9845b\",\"type\":\"Legend\"},{\"id\":\"3ae9ae2d-f2d4-4e59-8cb0-a018af5edf3d\",\"type\":\"GlyphRenderer\"},{\"id\":\"0fa6cd5f-3fdf-40e1-ab89-4bf5d96ff3f3\",\"type\":\"GlyphRenderer\"},{\"id\":\"bbe8759d-7d0b-4ede-9e58-ecea7a40b05e\",\"type\":\"GlyphRenderer\"}],\"title\":{\"id\":\"60018172-5fce-425d-8f4a-c14a3af2c623\",\"type\":\"Title\"},\"tool_events\":{\"id\":\"62a17a4e-aa75-4326-a450-dc0b4957ddac\",\"type\":\"ToolEvents\"},\"toolbar\":{\"id\":\"772bf902-39d1-47d5-992d-48dd1ac6486b\",\"type\":\"Toolbar\"},\"x_range\":{\"id\":\"91b1c8df-633e-45e7-98ae-66ac38fc0e87\",\"type\":\"Range1d\"},\"y_range\":{\"id\":\"2525c894-17c3-46f1-8104-326300b88145\",\"type\":\"Range1d\"}},\"id\":\"75ef2596-b6cd-4ca6-b3b1-9ed4fdec27c9\",\"subtype\":\"Figure\",\"type\":\"Plot\"},{\"attributes\":{\"callback\":null,\"column_names\":[\"y\",\"x\"],\"data\":{\"x\":{\"__ndarray__\":\"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\",\"dtype\":\"float64\",\"shape\":[200]},\"y\":{\"__ndarray__\":\"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\",\"dtype\":\"float64\",\"shape\":[200]}}},\"id\":\"f7982004-af44-41e1-bc08-003dc3d98032\",\"type\":\"ColumnDataSource\"},{\"attributes\":{\"line_alpha\":{\"value\":0.1},\"line_color\":{\"value\":\"#1f77b4\"},\"line_width\":{\"value\":2},\"x\":{\"field\":\"x\"},\"y\":{\"field\":\"y\"}},\"id\":\"f9c5576b-cc98-42db-a9ce-9b6d88af4517\",\"type\":\"Line\"},{\"attributes\":{\"callback\":null,\"column_names\":[\"y\",\"x\"],\"data\":{\"x\":{\"__ndarray__\":\"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\",\"dtype\":\"float64\",\"shape\":[200]},\"y\":{\"__ndarray__\":\"QS4EttHU9b8OGUyLkb38v7LLCLQ3eAHAxOJYhOw5BMDRA4GeuKgGwNR/24j/ywjAPYEuf4msCsD9xU5dBlMMwLYsCtnVxw3AlDKu5wISD8BNGO6TqhoQwKK/evnqmRDAsZWiF5EHEcCtX+8KHWQRwMY0EGd4sBHA12pyeKntEcAPIJmdwhwSwEkEe3vqPhLAAkPXL3lVEsAIqLDpzGESwJTt/DQeZRLAz06FBYpgEsBHNFJ5ElUSwIEqHn+fQxLAHhZw+PwsEsBWOA4gyBESwMbwsPKD8hHABvR7853PEcAjP1K9cKkRwNuNb9tGgBHALRNZgl1UEcAQ52Em5iURwMXH/V4M9RDA32zquAbCEMDVGKWaIY0QwF0cA/6vVhDAHpChbeUeEMB3vds/bMsPwHuabxjqVQ/A76JNp1bdDsAEDNd2wGIOwE3ggP8R6A3AaZLpUT5vDcDWST71VvkMwBzyumQ6hgzABg7k8goVDMCfvi0+zqQLwLTzs3nUNAvACsz87N/ECsDzVjhcG1UKwJiK4x7U5QnAqm58WlJ3CcCctZgN0wkJwCjDZuB8nQjAU9g8TF0yCMA+JHguaMgHwCzYvh5qXwfAwgHlFiD3BsCPp94YQo8GwJeyFUySJwbAOEKee9q/BcALVlYi41cFwB9aJjp+7wTAa+c6ZYqGBMArbFmp8hwEwNyXDyStsgPAqcvGMbVHA8CoUf8ICdwCwFRZjv2ubwLAsba2RbYCAsCHuB/cNpUBwMnn0k5RJwHA9gZEhC65AMBQUtt//0oAwGFDi2z6uf+/XucAeNDe/r9+IeDo+wT+v6ABNqfjLP2/Hbhjt/JW/L/Q+IzZmIP7v+BVLoZLs/q/id+6OoDm+b/AuiiNnR35vz8BogfzWPi/Bkda8LiY978YuF8xEd32vxDp+UwQJva/gKjIibtz9b+gJgnWDcb0v+Myt+n+HPS/EkJC/oV487/NHBG0mtjyv+/tDbMzPfK/CWybLUam8b8LYshYyRPxv52Qd3WzhfC/1motW/H377/i8cbUFO3uvxdmgHOw6u2/Kxom+qDw7L9ZSnM6wf7rvz/gIWfqFOu/8lAQVPQy6r8sTxuitVjpv5CjVlQChui/HIw1/p+657/B3pZlS/bmv/7qMe++OOa/T6BvlrKB5b8EMA3S29Dkv5oQ7XPtJeS/VZ7Q+ZeA4791bwfEkODiv0Bou7+RReK/xv61tWWv4b8qkqa+5R3hv8dCCP/pkOC/yFd2tEsI4L+GOpWJ1wffv3xgst9UB96/GyC8wMkO3b/WE/NF6B3cv6HECvdZNNu/WyO7B8BR2r+1WfxgtXXZv3H8CwHRn9i/u0/EIanP17+cr9jl3QTXv85MLPwuP9a/sKuJ9JJ+1b86par4RsPUv5bxIlvSDdS/q+7/8/de078CXycBlbfSv+v8pBR0GNK/q43aSSKC0b+OU1vLxPTQvyPQ3bsOcNC/aqk+mcTmz7/9i0BX2PvOv5UQ6RCBHc6/Um8rB+JJzb9JZpcdO3/MvxF6tT/2u8u/pocQQrj+yr9VfXUsbUbKv4NI4XhIksm/cIO5YavhyL+MuEmM+zPIv4Hn/2pLiMe/8UOJ9endxr/Rv3ibyzTGv/YaRk+AjcW/3bpENyHpxL9HQXnJIknEv3H0kkwbr8O/zs1oPn8cw79Te63SXZLCvzbBgb0YEcK/MTQpVCeYwb/FKpDVdSbBv4J+T6TfusC/TmblJm5TwL97z+mHHNy/v5XCOnEVEr+/yLJy9Z1Gvr8oxxfFAXm9v86UcRDyqby/lP7y9Tfbu79Eii13OA+7v7/DuxRqSLq/PLYU6siIub/dsUoLfdG4v3wjuUOfIri/Q0xz1kx7t7+GMVjK49m2v/mt3SJNPLa/HyLV/0agtb+ztWqsoQO1vxwAsKpdZLS/r/sY5tbAs7+dit+kcxezv+5kM6/lZrK/49G4DFKusb9ME9uWR+2wv/p//8erI7C/roiGi3Ojrr/013DDNvCsv6UF5iojMKu/eHQJOvNmqb8OMRzRoZmnvy/IEJdWzqW/Dz1gLysMpL8e8YP9zlqiv6osERz8waC/+CHVN9qRnr+zwU4rq+qbv+HlEa4tlpm/nxyel5yUl79oZnL48umVvw==\",\"dtype\":\"float64\",\"shape\":[200]}}},\"id\":\"5a1e9eac-68ff-41f1-a471-1cadc07cadaa\",\"type\":\"ColumnDataSource\"},{\"attributes\":{\"plot\":{\"id\":\"75ef2596-b6cd-4ca6-b3b1-9ed4fdec27c9\",\"subtype\":\"Figure\",\"type\":\"Plot\"}},\"id\":\"3ef11fd2-c0c4-4b3d-9337-2d8df9cd3352\",\"type\":\"PanTool\"},{\"attributes\":{\"plot\":{\"id\":\"75ef2596-b6cd-4ca6-b3b1-9ed4fdec27c9\",\"subtype\":\"Figure\",\"type\":\"Plot\"}},\"id\":\"7df81829-8e51-4dac-a1d8-c49797a6ec57\",\"type\":\"WheelZoomTool\"},{\"attributes\":{\"data_source\":{\"id\":\"f7982004-af44-41e1-bc08-003dc3d98032\",\"type\":\"ColumnDataSource\"},\"glyph\":{\"id\":\"f085b01d-63f0-4331-9fd3-b994a7afeeb7\",\"type\":\"Line\"},\"hover_glyph\":null,\"nonselection_glyph\":{\"id\":\"f9c5576b-cc98-42db-a9ce-9b6d88af4517\",\"type\":\"Line\"},\"selection_glyph\":null},\"id\":\"3ae9ae2d-f2d4-4e59-8cb0-a018af5edf3d\",\"type\":\"GlyphRenderer\"},{\"attributes\":{\"plot\":{\"id\":\"75ef2596-b6cd-4ca6-b3b1-9ed4fdec27c9\",\"subtype\":\"Figure\",\"type\":\"Plot\"}},\"id\":\"0e786b1e-b8ce-4321-bacd-43b8280fba10\",\"type\":\"SaveTool\"},{\"attributes\":{\"axis_label\":\"r (A)\",\"formatter\":{\"id\":\"ffe0ef19-5dfa-4a89-b30e-c753868dfd3d\",\"type\":\"BasicTickFormatter\"},\"plot\":{\"id\":\"75ef2596-b6cd-4ca6-b3b1-9ed4fdec27c9\",\"subtype\":\"Figure\",\"type\":\"Plot\"},\"ticker\":{\"id\":\"f7835b2a-9b93-4976-a77f-fa9c2de566cd\",\"type\":\"BasicTicker\"}},\"id\":\"e9d58aa2-0524-4886-af41-3e026c4a35d9\",\"type\":\"LinearAxis\"},{\"attributes\":{\"data_source\":{\"id\":\"c5c9bceb-c12d-4da1-a961-1f6cad86a8ef\",\"type\":\"ColumnDataSource\"},\"glyph\":{\"id\":\"0caab14a-28e8-4da1-821d-08b2d58e6822\",\"type\":\"Line\"},\"hover_glyph\":null,\"nonselection_glyph\":{\"id\":\"ca406463-ce20-4257-8071-146c9ee83406\",\"type\":\"Line\"},\"selection_glyph\":null},\"id\":\"bbe8759d-7d0b-4ede-9e58-ecea7a40b05e\",\"type\":\"GlyphRenderer\"},{\"attributes\":{\"dimension\":1,\"plot\":{\"id\":\"75ef2596-b6cd-4ca6-b3b1-9ed4fdec27c9\",\"subtype\":\"Figure\",\"type\":\"Plot\"},\"ticker\":{\"id\":\"4ebd736e-cc36-40a6-a60f-d2ff0220f05f\",\"type\":\"BasicTicker\"}},\"id\":\"d2a4ab09-b762-403b-a789-4a915f49497c\",\"type\":\"Grid\"},{\"attributes\":{\"line_color\":{\"value\":\"red\"},\"line_width\":{\"value\":2},\"x\":{\"field\":\"x\"},\"y\":{\"field\":\"y\"}},\"id\":\"0caab14a-28e8-4da1-821d-08b2d58e6822\",\"type\":\"Line\"},{\"attributes\":{\"callback\":null,\"end\":6,\"start\":2},\"id\":\"91b1c8df-633e-45e7-98ae-66ac38fc0e87\",\"type\":\"Range1d\"},{\"attributes\":{},\"id\":\"62a17a4e-aa75-4326-a450-dc0b4957ddac\",\"type\":\"ToolEvents\"},{\"attributes\":{\"line_width\":{\"value\":2},\"x\":{\"field\":\"x\"},\"y\":{\"field\":\"y\"}},\"id\":\"f085b01d-63f0-4331-9fd3-b994a7afeeb7\",\"type\":\"Line\"},{\"attributes\":{\"label\":{\"value\":\"D0_3--BiF3\"},\"renderers\":[{\"id\":\"0fa6cd5f-3fdf-40e1-ab89-4bf5d96ff3f3\",\"type\":\"GlyphRenderer\"}]},\"id\":\"f74b52a2-b4dc-45da-822c-f4d89cf7eeae\",\"type\":\"LegendItem\"},{\"attributes\":{\"label\":{\"value\":\"L1_2--AuCu3\"},\"renderers\":[{\"id\":\"bbe8759d-7d0b-4ede-9e58-ecea7a40b05e\",\"type\":\"GlyphRenderer\"}]},\"id\":\"326b3dfc-37a8-43c9-b050-82c251ba988d\",\"type\":\"LegendItem\"}],\"root_ids\":[\"75ef2596-b6cd-4ca6-b3b1-9ed4fdec27c9\"]},\"title\":\"Bokeh Application\",\"version\":\"0.12.4\"}};\n",
       "            var render_items = [{\"docid\":\"0ffa2952-5354-4f4c-9181-ba8cb2a8ffbf\",\"elementid\":\"bdddcb46-38bb-482e-bf5b-c7b3acdbfab2\",\"modelid\":\"75ef2596-b6cd-4ca6-b3b1-9ed4fdec27c9\"}];\n",
       "            \n",
       "            Bokeh.embed.embed_items(docs_json, render_items);\n",
       "          };\n",
       "          if (document.readyState != \"loading\") fn();\n",
       "          else document.addEventListener(\"DOMContentLoaded\", fn);\n",
       "        })();\n",
       "      },\n",
       "      function(Bokeh) {\n",
       "      }\n",
       "    ];\n",
       "  \n",
       "    function run_inline_js() {\n",
       "      \n",
       "      if ((window.Bokeh !== undefined) || (force === true)) {\n",
       "        for (var i = 0; i < inline_js.length; i++) {\n",
       "          inline_js[i](window.Bokeh);\n",
       "        }if (force === true) {\n",
       "          display_loaded();\n",
       "        }} else if (Date.now() < window._bokeh_timeout) {\n",
       "        setTimeout(run_inline_js, 100);\n",
       "      } else if (!window._bokeh_failed_load) {\n",
       "        console.log(\"Bokeh: BokehJS failed to load within specified timeout.\");\n",
       "        window._bokeh_failed_load = true;\n",
       "      } else if (force !== true) {\n",
       "        var cell = $(document.getElementById(\"bdddcb46-38bb-482e-bf5b-c7b3acdbfab2\")).parents('.cell').data().cell;\n",
       "        cell.output_area.append_execute_result(NB_LOAD_WARNING)\n",
       "      }\n",
       "  \n",
       "    }\n",
       "  \n",
       "    if (window._bokeh_is_loading === 0) {\n",
       "      console.log(\"Bokeh: BokehJS loaded, going straight to plotting\");\n",
       "      run_inline_js();\n",
       "    } else {\n",
       "      load_libs(js_urls, function() {\n",
       "        console.log(\"Bokeh: BokehJS plotting callback run at\", now());\n",
       "        run_inline_js();\n",
       "      });\n",
       "    }\n",
       "  }(this));\n",
       "</script>"
      ]
     },
     "metadata": {},
     "output_type": "display_data"
    },
    {
     "data": {
      "text/html": [
       "\n",
       "\n",
       "    <div class=\"bk-root\">\n",
       "        <div class=\"bk-plotdiv\" id=\"227bc79a-0651-45a1-a665-cb135dc73019\"></div>\n",
       "    </div>\n",
       "<script type=\"text/javascript\">\n",
       "  \n",
       "  (function(global) {\n",
       "    function now() {\n",
       "      return new Date();\n",
       "    }\n",
       "  \n",
       "    var force = false;\n",
       "  \n",
       "    if (typeof (window._bokeh_onload_callbacks) === \"undefined\" || force === true) {\n",
       "      window._bokeh_onload_callbacks = [];\n",
       "      window._bokeh_is_loading = undefined;\n",
       "    }\n",
       "  \n",
       "  \n",
       "    \n",
       "    if (typeof (window._bokeh_timeout) === \"undefined\" || force === true) {\n",
       "      window._bokeh_timeout = Date.now() + 0;\n",
       "      window._bokeh_failed_load = false;\n",
       "    }\n",
       "  \n",
       "    var NB_LOAD_WARNING = {'data': {'text/html':\n",
       "       \"<div style='background-color: #fdd'>\\n\"+\n",
       "       \"<p>\\n\"+\n",
       "       \"BokehJS does not appear to have successfully loaded. If loading BokehJS from CDN, this \\n\"+\n",
       "       \"may be due to a slow or bad network connection. Possible fixes:\\n\"+\n",
       "       \"</p>\\n\"+\n",
       "       \"<ul>\\n\"+\n",
       "       \"<li>re-rerun `output_notebook()` to attempt to load from CDN again, or</li>\\n\"+\n",
       "       \"<li>use INLINE resources instead, as so:</li>\\n\"+\n",
       "       \"</ul>\\n\"+\n",
       "       \"<code>\\n\"+\n",
       "       \"from bokeh.resources import INLINE\\n\"+\n",
       "       \"output_notebook(resources=INLINE)\\n\"+\n",
       "       \"</code>\\n\"+\n",
       "       \"</div>\"}};\n",
       "  \n",
       "    function display_loaded() {\n",
       "      if (window.Bokeh !== undefined) {\n",
       "        document.getElementById(\"227bc79a-0651-45a1-a665-cb135dc73019\").textContent = \"BokehJS successfully loaded.\";\n",
       "      } else if (Date.now() < window._bokeh_timeout) {\n",
       "        setTimeout(display_loaded, 100)\n",
       "      }\n",
       "    }\n",
       "  \n",
       "    function run_callbacks() {\n",
       "      window._bokeh_onload_callbacks.forEach(function(callback) { callback() });\n",
       "      delete window._bokeh_onload_callbacks\n",
       "      console.info(\"Bokeh: all callbacks have finished\");\n",
       "    }\n",
       "  \n",
       "    function load_libs(js_urls, callback) {\n",
       "      window._bokeh_onload_callbacks.push(callback);\n",
       "      if (window._bokeh_is_loading > 0) {\n",
       "        console.log(\"Bokeh: BokehJS is being loaded, scheduling callback at\", now());\n",
       "        return null;\n",
       "      }\n",
       "      if (js_urls == null || js_urls.length === 0) {\n",
       "        run_callbacks();\n",
       "        return null;\n",
       "      }\n",
       "      console.log(\"Bokeh: BokehJS not loaded, scheduling load and callback at\", now());\n",
       "      window._bokeh_is_loading = js_urls.length;\n",
       "      for (var i = 0; i < js_urls.length; i++) {\n",
       "        var url = js_urls[i];\n",
       "        var s = document.createElement('script');\n",
       "        s.src = url;\n",
       "        s.async = false;\n",
       "        s.onreadystatechange = s.onload = function() {\n",
       "          window._bokeh_is_loading--;\n",
       "          if (window._bokeh_is_loading === 0) {\n",
       "            console.log(\"Bokeh: all BokehJS libraries loaded\");\n",
       "            run_callbacks()\n",
       "          }\n",
       "        };\n",
       "        s.onerror = function() {\n",
       "          console.warn(\"failed to load library \" + url);\n",
       "        };\n",
       "        console.log(\"Bokeh: injecting script tag for BokehJS library: \", url);\n",
       "        document.getElementsByTagName(\"head\")[0].appendChild(s);\n",
       "      }\n",
       "    };var element = document.getElementById(\"227bc79a-0651-45a1-a665-cb135dc73019\");\n",
       "    if (element == null) {\n",
       "      console.log(\"Bokeh: ERROR: autoload.js configured with elementid '227bc79a-0651-45a1-a665-cb135dc73019' but no matching script tag was found. \")\n",
       "      return false;\n",
       "    }\n",
       "  \n",
       "    var js_urls = [];\n",
       "  \n",
       "    var inline_js = [\n",
       "      function(Bokeh) {\n",
       "        (function() {\n",
       "          var fn = function() {\n",
       "            var docs_json = {\"96668e93-71bb-4e42-b9b2-d4822e81383c\":{\"roots\":{\"references\":[{\"attributes\":{\"callback\":null,\"column_names\":[\"y\",\"x\"],\"data\":{\"x\":{\"__ndarray__\":\"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\",\"dtype\":\"float64\",\"shape\":[200]},\"y\":{\"__ndarray__\":\"NacVNnWDXD8k6+q5Ms3fv8E/jYu8he6/L3sXgsfw9b8GzN+07AX8v88zrA9vxQDAYKDE9+5DA8BiCRA1gIIFwNDYI6gthQfAB0LwNhZQCcASpaN6becKwK/8cT1TTwzAIuNwDb2LDcDNwlgWbKAOwL2yYyrikA/AYsUHBCswEMDOt4Kr04gQwJreclaw0xDA7h65B+sREcBRs6bfl0QRwMZbCMS1bBHAFkyh8S6LEcBvgp2G2aARwCCwWgh4rhHAvot56bm0EcDZIkkQPLQRwOS8x2GJrRHAxOMQUhuhEcDzRx55Wo8RwE+VxyyfeBHAwNNRXjJdEcDp+BFvUj0RwBljOkA6GRHAdy3N4iTxEMBiSejwUMUQwNQEuxcElhDAfH46NY1jEMBGFUbdPS4QwGQrltDK7A/AMtLSgKF4D8AEYHahlAAPwLEW5rEzhQ7AjQf+TQgHDsAfR05wlYYNwIt3141WBA3A51GQi76ADMAsW8qWNvwLwHg3KeccdwvA0/Gza8PxCsCo0rJkbmwKwMv28IZT5wnA5snVb55iCcDFfbLKdd4IwKi1SUP8WgjAR9zSGlHYB8AWec/DkFYHwMrjXYPV1QbAUoSoGzhWBsAbHvB60NcFwPoFEUm2WgXAFcjJBgDfBMBGCRoBwmQEwOI4xlwO7APA2bWlO/V0A8COuczehP8CwI/rrsbJiwLAoAoc0s4ZAsBOs1FanakBwMCUzE09OwHAzHDkSrXOAMDPN8G1CmQAwH7HB6CD9v+/tZd0nLso/7894DHUwV7+vwtIou2YmP2/UkQi2kHW/L8qRnlruxf8v6l92m8BXfu/M+VnOwym+r/rTFBr0PL5vyFSrNo+Q/m/iGHJuUSX+L87IJfEy+73vyl1ZpG6Sfe/HsK38fSn9r+/FsthXAn2v0GL2IDQbfW/O8o6ji/V9L/A+NbpVj/0v30KA5MjrPO/4RigpHIb87+yjanLIY3yvwdT67YPAfK//ZWwfhx38b9GRw8CKu/wv08EjDscafC/wIkoFbPJ779JfojflcTuv7BYRIW4wu2/OURPrvjD7L/BUFo1Osjrvxzo/E9nz+q/CJGJmnDZ6b8bJIwVTebov0Tpig/69ee/lpNB+noI57+larc62R3mv9JqGd0jNuW/KCTTQW9R5L9Va9LE1G/jv0QXGUFykeK/pWKqt2m24b+mPTL74N7gv9WwX5sAC+C/rm3sXOh13r8+jULI0t3cvxlfT8AdTtu/ErJVQivH2b9kBY6NXEnYv/0tAj8N1da/ccmFlqdq1b/MC1GtkArUv3FNxZMMtdK/qUQ5RVdq0b8DxVLd7SrQvwraU//97s2//gXRPK+gy7/O0Aaog2nJv04OX88mSce/qBceJ4FAxb8sbKjsEVHDv6fAZuagfMG/PL8oW52Jv78E0MeI2FW8v1ir5ZfHX7m/VhYBKGmotr/eJDhW4S+0v8OJFoOY9bG/LTXlJgPwr78Cm4/gwGmsv39ME//0Uam/5YXnUJWgpr+hsVxV61Gkv1ffMcnCX6K/denfaCvCoL8YGD2m1OCev+uniHIew5y/FDO3g5sZm7+SzUqpY9OZv4HpnH584Ji/mv+4kP8xmL8AstDqNbqXv4gNmVKwbJe/BFvLCWA+l79TYujEsSWXv2KEVk2rGpe/Eu+HpgsXl78KnbBQbRaXv2wggcBpFpe/bCCBwGkWl79sIIHAaRaXv2wggcBpFpe/bCCBwGkWl79sIIHAaRaXv2wggcBpFpe/bCCBwGkWl79sIIHAaRaXv2wggcBpFpe/bCCBwGkWl79sIIHAaRaXv2wggcBpFpe/bCCBwGkWl79sIIHAaRaXv2wggcBpFpe/bCCBwGkWl79sIIHAaRaXv2wggcBpFpe/bCCBwGkWl79sIIHAaRaXv2wggcBpFpe/bCCBwGkWl79sIIHAaRaXv2wggcBpFpe/bCCBwGkWl79sIIHAaRaXv2wggcBpFpe/bCCBwGkWl79sIIHAaRaXv2wggcBpFpe/bCCBwGkWl79sIIHAaRaXv2wggcBpFpe/bCCBwGkWl79sIIHAaRaXv2wggcBpFpe/bCCBwGkWl79sIIHAaRaXv2wggcBpFpe/bCCBwGkWl79sIIHAaRaXvw==\",\"dtype\":\"float64\",\"shape\":[200]}}},\"id\":\"9ca2f4df-e2de-4f86-9862-c1e6f1e2ff24\",\"type\":\"ColumnDataSource\"},{\"attributes\":{\"plot\":{\"id\":\"526bc7f0-c03f-4a45-af38-3a4ffebfb6cc\",\"subtype\":\"Figure\",\"type\":\"Plot\"}},\"id\":\"be8e2ad0-6fb9-4540-a7c8-ce11beede5b5\",\"type\":\"SaveTool\"},{\"attributes\":{\"overlay\":{\"id\":\"52f39e48-752a-4ba1-a293-ac3208d45ef3\",\"type\":\"BoxAnnotation\"},\"plot\":{\"id\":\"526bc7f0-c03f-4a45-af38-3a4ffebfb6cc\",\"subtype\":\"Figure\",\"type\":\"Plot\"}},\"id\":\"1c1fb1f7-a40c-45a3-8f0f-38f9c266a050\",\"type\":\"BoxZoomTool\"},{\"attributes\":{\"label\":{\"value\":\"A1--Cu--fcc\"},\"renderers\":[{\"id\":\"795f4037-5984-47b1-b696-65179304065f\",\"type\":\"GlyphRenderer\"}]},\"id\":\"11915164-391e-4f05-86fc-f948a27502ac\",\"type\":\"LegendItem\"},{\"attributes\":{\"line_alpha\":{\"value\":0.1},\"line_color\":{\"value\":\"#1f77b4\"},\"line_width\":{\"value\":2},\"x\":{\"field\":\"x\"},\"y\":{\"field\":\"y\"}},\"id\":\"d3dff8f5-0339-4498-89e9-90af1b4f935c\",\"type\":\"Line\"},{\"attributes\":{\"line_color\":{\"value\":\"brown\"},\"line_width\":{\"value\":2},\"x\":{\"field\":\"x\"},\"y\":{\"field\":\"y\"}},\"id\":\"2d4dc6fd-e735-4e5e-9288-543526444f38\",\"type\":\"Line\"},{\"attributes\":{\"plot\":{\"id\":\"526bc7f0-c03f-4a45-af38-3a4ffebfb6cc\",\"subtype\":\"Figure\",\"type\":\"Plot\"}},\"id\":\"98ce3887-04d9-4d65-99ca-6cb14ec623c7\",\"type\":\"ResetTool\"},{\"attributes\":{\"label\":{\"value\":\"A6--In--bct\"},\"renderers\":[{\"id\":\"0130ace3-c8a3-4266-99ca-1a0a807729f0\",\"type\":\"GlyphRenderer\"}]},\"id\":\"71765165-0660-4ab4-9efa-24a32622284e\",\"type\":\"LegendItem\"},{\"attributes\":{\"bottom_units\":\"screen\",\"fill_alpha\":{\"value\":0.5},\"fill_color\":{\"value\":\"lightgrey\"},\"left_units\":\"screen\",\"level\":\"overlay\",\"line_alpha\":{\"value\":1.0},\"line_color\":{\"value\":\"black\"},\"line_dash\":[4,4],\"line_width\":{\"value\":2},\"plot\":null,\"render_mode\":\"css\",\"right_units\":\"screen\",\"top_units\":\"screen\"},\"id\":\"52f39e48-752a-4ba1-a293-ac3208d45ef3\",\"type\":\"BoxAnnotation\"},{\"attributes\":{\"callback\":null,\"column_names\":[\"y\",\"x\"],\"data\":{\"x\":{\"__ndarray__\":\"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\",\"dtype\":\"float64\",\"shape\":[200]},\"y\":{\"__ndarray__\":\"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\",\"dtype\":\"float64\",\"shape\":[200]}}},\"id\":\"5e7d5058-73d8-4001-a17f-5cf3ba10c69d\",\"type\":\"ColumnDataSource\"},{\"attributes\":{\"plot\":{\"id\":\"526bc7f0-c03f-4a45-af38-3a4ffebfb6cc\",\"subtype\":\"Figure\",\"type\":\"Plot\"},\"ticker\":{\"id\":\"0613e706-bc63-4f0c-9be3-ae9aa0177456\",\"type\":\"BasicTicker\"}},\"id\":\"7382e849-2801-4914-91bd-6fc9a0031dd0\",\"type\":\"Grid\"},{\"attributes\":{\"label\":{\"value\":\"Ah--alpha-Po--sc\"},\"renderers\":[{\"id\":\"a8542e26-5f53-4215-a582-e4e08a119a7e\",\"type\":\"GlyphRenderer\"}]},\"id\":\"4ac72200-d6de-4564-9fa6-c85cb968aa7c\",\"type\":\"LegendItem\"},{\"attributes\":{\"line_color\":{\"value\":\"orange\"},\"line_width\":{\"value\":2},\"x\":{\"field\":\"x\"},\"y\":{\"field\":\"y\"}},\"id\":\"c167bea2-28ac-43ec-993f-8e0844b99001\",\"type\":\"Line\"},{\"attributes\":{\"below\":[{\"id\":\"9cf95988-79c6-466d-9503-4794a8101440\",\"type\":\"LinearAxis\"}],\"left\":[{\"id\":\"2bbab3f8-3fe2-4009-bd39-1fbbc835f600\",\"type\":\"LinearAxis\"}],\"plot_width\":800,\"renderers\":[{\"id\":\"9cf95988-79c6-466d-9503-4794a8101440\",\"type\":\"LinearAxis\"},{\"id\":\"7382e849-2801-4914-91bd-6fc9a0031dd0\",\"type\":\"Grid\"},{\"id\":\"2bbab3f8-3fe2-4009-bd39-1fbbc835f600\",\"type\":\"LinearAxis\"},{\"id\":\"3af2e18e-77f4-49ca-8a58-ec157fe1ecb8\",\"type\":\"Grid\"},{\"id\":\"52f39e48-752a-4ba1-a293-ac3208d45ef3\",\"type\":\"BoxAnnotation\"},{\"id\":\"bd3daf5b-3e56-44c4-a0f6-1afd55e52251\",\"type\":\"Legend\"},{\"id\":\"795f4037-5984-47b1-b696-65179304065f\",\"type\":\"GlyphRenderer\"},{\"id\":\"50e4de1a-06a5-4b4c-8b47-e06d7cc8da9d\",\"type\":\"GlyphRenderer\"},{\"id\":\"2b25d31b-56f0-4f91-88df-75d62dc34b36\",\"type\":\"GlyphRenderer\"},{\"id\":\"fef3da76-699e-4491-b9fb-1fad55f029a0\",\"type\":\"GlyphRenderer\"},{\"id\":\"6c52d7be-0e12-42c0-bd5c-91663c0874dd\",\"type\":\"GlyphRenderer\"},{\"id\":\"c69bad56-5ee1-4710-bc3d-1256acedf922\",\"type\":\"GlyphRenderer\"},{\"id\":\"38b0b0fe-1c97-4411-8bf2-cbd62611551e\",\"type\":\"GlyphRenderer\"},{\"id\":\"0130ace3-c8a3-4266-99ca-1a0a807729f0\",\"type\":\"GlyphRenderer\"},{\"id\":\"49dba33a-0891-42db-9774-0d957bcab958\",\"type\":\"GlyphRenderer\"},{\"id\":\"a8542e26-5f53-4215-a582-e4e08a119a7e\",\"type\":\"GlyphRenderer\"}],\"title\":{\"id\":\"53042dfa-04e7-4fdb-b06d-42e586db1420\",\"type\":\"Title\"},\"tool_events\":{\"id\":\"b5c3a4b3-593c-4504-8887-53fdd5c09ea6\",\"type\":\"ToolEvents\"},\"toolbar\":{\"id\":\"c03ae115-0564-4d9a-9c88-aa26c96abac2\",\"type\":\"Toolbar\"},\"x_range\":{\"id\":\"d5c101b2-f950-41c2-b4a3-9b692acd03fc\",\"type\":\"Range1d\"},\"y_range\":{\"id\":\"7e3ddf7c-7e77-4b25-9f7d-0affd8143843\",\"type\":\"Range1d\"}},\"id\":\"526bc7f0-c03f-4a45-af38-3a4ffebfb6cc\",\"subtype\":\"Figure\",\"type\":\"Plot\"},{\"attributes\":{\"callback\":null,\"column_names\":[\"y\",\"x\"],\"data\":{\"x\":{\"__ndarray__\":\"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\",\"dtype\":\"float64\",\"shape\":[200]},\"y\":{\"__ndarray__\":\"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\",\"dtype\":\"float64\",\"shape\":[200]}}},\"id\":\"6eed1193-f303-4fdb-a33d-bd552dee3646\",\"type\":\"ColumnDataSource\"},{\"attributes\":{\"data_source\":{\"id\":\"6eed1193-f303-4fdb-a33d-bd552dee3646\",\"type\":\"ColumnDataSource\"},\"glyph\":{\"id\":\"6a0bd385-1f24-4c11-912d-bbab4dcc943b\",\"type\":\"Line\"},\"hover_glyph\":null,\"nonselection_glyph\":{\"id\":\"ba1382e0-d9f0-4ff7-bb41-16a3530e1105\",\"type\":\"Line\"},\"selection_glyph\":null},\"id\":\"38b0b0fe-1c97-4411-8bf2-cbd62611551e\",\"type\":\"GlyphRenderer\"},{\"attributes\":{\"line_alpha\":{\"value\":0.1},\"line_color\":{\"value\":\"#1f77b4\"},\"line_width\":{\"value\":2},\"x\":{\"field\":\"x\"},\"y\":{\"field\":\"y\"}},\"id\":\"7ff16e6c-6c79-4e91-99a4-31e8dc426e9e\",\"type\":\"Line\"},{\"attributes\":{\"items\":[{\"id\":\"11915164-391e-4f05-86fc-f948a27502ac\",\"type\":\"LegendItem\"},{\"id\":\"ac68f921-2565-4e47-85ba-98734612de12\",\"type\":\"LegendItem\"},{\"id\":\"63287b7e-76e2-4e96-98e4-8828747c23b3\",\"type\":\"LegendItem\"},{\"id\":\"a97060e0-3b30-4618-8ae1-db54a38f860d\",\"type\":\"LegendItem\"},{\"id\":\"e8a59924-8dfe-4959-8a9f-e84b4c903954\",\"type\":\"LegendItem\"},{\"id\":\"2207ccb2-6666-4403-80a7-61a157cdb4f8\",\"type\":\"LegendItem\"},{\"id\":\"5fb949b3-dddf-479b-a5f4-373dc662a88e\",\"type\":\"LegendItem\"},{\"id\":\"71765165-0660-4ab4-9efa-24a32622284e\",\"type\":\"LegendItem\"},{\"id\":\"42a77d53-e36a-469a-91d1-26ea80dee593\",\"type\":\"LegendItem\"},{\"id\":\"4ac72200-d6de-4564-9fa6-c85cb968aa7c\",\"type\":\"LegendItem\"}],\"location\":\"bottom_right\",\"plot\":{\"id\":\"526bc7f0-c03f-4a45-af38-3a4ffebfb6cc\",\"subtype\":\"Figure\",\"type\":\"Plot\"}},\"id\":\"bd3daf5b-3e56-44c4-a0f6-1afd55e52251\",\"type\":\"Legend\"},{\"attributes\":{\"line_alpha\":{\"value\":0.1},\"line_color\":{\"value\":\"#1f77b4\"},\"line_width\":{\"value\":2},\"x\":{\"field\":\"x\"},\"y\":{\"field\":\"y\"}},\"id\":\"c0f31cb9-324b-4434-828f-0499be6e1f32\",\"type\":\"Line\"},{\"attributes\":{\"label\":{\"value\":\"A5--beta-Sn\"},\"renderers\":[{\"id\":\"38b0b0fe-1c97-4411-8bf2-cbd62611551e\",\"type\":\"GlyphRenderer\"}]},\"id\":\"5fb949b3-dddf-479b-a5f4-373dc662a88e\",\"type\":\"LegendItem\"},{\"attributes\":{\"dimension\":1,\"plot\":{\"id\":\"526bc7f0-c03f-4a45-af38-3a4ffebfb6cc\",\"subtype\":\"Figure\",\"type\":\"Plot\"},\"ticker\":{\"id\":\"0cf9bbe2-6093-475c-ba42-7b08ba8df0b8\",\"type\":\"BasicTicker\"}},\"id\":\"3af2e18e-77f4-49ca-8a58-ec157fe1ecb8\",\"type\":\"Grid\"},{\"attributes\":{\"label\":{\"value\":\"A7--alpha-As\"},\"renderers\":[{\"id\":\"49dba33a-0891-42db-9774-0d957bcab958\",\"type\":\"GlyphRenderer\"}]},\"id\":\"42a77d53-e36a-469a-91d1-26ea80dee593\",\"type\":\"LegendItem\"},{\"attributes\":{\"line_color\":{\"value\":\"red\"},\"line_dash\":[6],\"line_width\":{\"value\":2},\"x\":{\"field\":\"x\"},\"y\":{\"field\":\"y\"}},\"id\":\"8b594f53-27d4-4849-a10d-c55110038111\",\"type\":\"Line\"},{\"attributes\":{\"data_source\":{\"id\":\"ee386221-d5f7-4edc-a65d-5f55c7ab4d6b\",\"type\":\"ColumnDataSource\"},\"glyph\":{\"id\":\"10116aa9-fada-4eb2-b30e-094e33348522\",\"type\":\"Line\"},\"hover_glyph\":null,\"nonselection_glyph\":{\"id\":\"d3dff8f5-0339-4498-89e9-90af1b4f935c\",\"type\":\"Line\"},\"selection_glyph\":null},\"id\":\"c69bad56-5ee1-4710-bc3d-1256acedf922\",\"type\":\"GlyphRenderer\"},{\"attributes\":{\"plot\":{\"id\":\"526bc7f0-c03f-4a45-af38-3a4ffebfb6cc\",\"subtype\":\"Figure\",\"type\":\"Plot\"}},\"id\":\"b750fa2f-0e8c-4825-8a57-0cde65072902\",\"type\":\"WheelZoomTool\"},{\"attributes\":{\"label\":{\"value\":\"A3--Mg--hcp\"},\"renderers\":[{\"id\":\"6c52d7be-0e12-42c0-bd5c-91663c0874dd\",\"type\":\"GlyphRenderer\"}]},\"id\":\"e8a59924-8dfe-4959-8a9f-e84b4c903954\",\"type\":\"LegendItem\"},{\"attributes\":{\"data_source\":{\"id\":\"9a456583-5074-4000-9d4a-a410f3610ab0\",\"type\":\"ColumnDataSource\"},\"glyph\":{\"id\":\"07f138f4-65ff-4b61-8973-06113baa1be4\",\"type\":\"Line\"},\"hover_glyph\":null,\"nonselection_glyph\":{\"id\":\"bc6627c2-f634-4243-bc8d-39aabd9d9094\",\"type\":\"Line\"},\"selection_glyph\":null},\"id\":\"795f4037-5984-47b1-b696-65179304065f\",\"type\":\"GlyphRenderer\"},{\"attributes\":{\"data_source\":{\"id\":\"9ffeef2d-ef99-4b01-9b37-1fabfc645b32\",\"type\":\"ColumnDataSource\"},\"glyph\":{\"id\":\"2d4dc6fd-e735-4e5e-9288-543526444f38\",\"type\":\"Line\"},\"hover_glyph\":null,\"nonselection_glyph\":{\"id\":\"9b4645ab-05b1-4a24-97a0-915b54e7e359\",\"type\":\"Line\"},\"selection_glyph\":null},\"id\":\"a8542e26-5f53-4215-a582-e4e08a119a7e\",\"type\":\"GlyphRenderer\"},{\"attributes\":{},\"id\":\"b5c3a4b3-593c-4504-8887-53fdd5c09ea6\",\"type\":\"ToolEvents\"},{\"attributes\":{\"active_drag\":\"auto\",\"active_scroll\":\"auto\",\"active_tap\":\"auto\",\"tools\":[{\"id\":\"a667c906-1c4e-4366-942e-32e0afb5b5d4\",\"type\":\"PanTool\"},{\"id\":\"b750fa2f-0e8c-4825-8a57-0cde65072902\",\"type\":\"WheelZoomTool\"},{\"id\":\"1c1fb1f7-a40c-45a3-8f0f-38f9c266a050\",\"type\":\"BoxZoomTool\"},{\"id\":\"be8e2ad0-6fb9-4540-a7c8-ce11beede5b5\",\"type\":\"SaveTool\"},{\"id\":\"98ce3887-04d9-4d65-99ca-6cb14ec623c7\",\"type\":\"ResetTool\"},{\"id\":\"2254d217-bbf5-4a3b-93f6-b7972ca22e64\",\"type\":\"HelpTool\"}]},\"id\":\"c03ae115-0564-4d9a-9c88-aa26c96abac2\",\"type\":\"Toolbar\"},{\"attributes\":{\"line_alpha\":{\"value\":0.1},\"line_color\":{\"value\":\"#1f77b4\"},\"line_width\":{\"value\":2},\"x\":{\"field\":\"x\"},\"y\":{\"field\":\"y\"}},\"id\":\"54caf55d-8f44-4f33-a5bc-ffde3bdaef87\",\"type\":\"Line\"},{\"attributes\":{\"label\":{\"value\":\"A4--C--dc\"},\"renderers\":[{\"id\":\"c69bad56-5ee1-4710-bc3d-1256acedf922\",\"type\":\"GlyphRenderer\"}]},\"id\":\"2207ccb2-6666-4403-80a7-61a157cdb4f8\",\"type\":\"LegendItem\"},{\"attributes\":{\"line_color\":{\"value\":\"cyan\"},\"line_dash\":[6,4,2,4],\"line_width\":{\"value\":2},\"x\":{\"field\":\"x\"},\"y\":{\"field\":\"y\"}},\"id\":\"755a4e46-29d6-46d3-8b8b-239db862eb74\",\"type\":\"Line\"},{\"attributes\":{},\"id\":\"daede01f-f419-4099-8f85-ccd17ce5ebec\",\"type\":\"BasicTickFormatter\"},{\"attributes\":{\"callback\":null,\"column_names\":[\"y\",\"x\"],\"data\":{\"x\":{\"__ndarray__\":\"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\",\"dtype\":\"float64\",\"shape\":[200]},\"y\":{\"__ndarray__\":\"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\",\"dtype\":\"float64\",\"shape\":[200]}}},\"id\":\"9a456583-5074-4000-9d4a-a410f3610ab0\",\"type\":\"ColumnDataSource\"},{\"attributes\":{\"label\":{\"value\":\"A15--beta-W\"},\"renderers\":[{\"id\":\"50e4de1a-06a5-4b4c-8b47-e06d7cc8da9d\",\"type\":\"GlyphRenderer\"}]},\"id\":\"ac68f921-2565-4e47-85ba-98734612de12\",\"type\":\"LegendItem\"},{\"attributes\":{\"line_alpha\":{\"value\":0.1},\"line_color\":{\"value\":\"#1f77b4\"},\"line_width\":{\"value\":2},\"x\":{\"field\":\"x\"},\"y\":{\"field\":\"y\"}},\"id\":\"bc6627c2-f634-4243-bc8d-39aabd9d9094\",\"type\":\"Line\"},{\"attributes\":{},\"id\":\"0cf9bbe2-6093-475c-ba42-7b08ba8df0b8\",\"type\":\"BasicTicker\"},{\"attributes\":{\"line_alpha\":{\"value\":0.1},\"line_color\":{\"value\":\"#1f77b4\"},\"line_width\":{\"value\":2},\"x\":{\"field\":\"x\"},\"y\":{\"field\":\"y\"}},\"id\":\"9b4645ab-05b1-4a24-97a0-915b54e7e359\",\"type\":\"Line\"},{\"attributes\":{\"line_color\":{\"value\":\"green\"},\"line_width\":{\"value\":2},\"x\":{\"field\":\"x\"},\"y\":{\"field\":\"y\"}},\"id\":\"466482d5-e7b3-4d34-bbae-dc20eda68bf0\",\"type\":\"Line\"},{\"attributes\":{\"callback\":null,\"column_names\":[\"y\",\"x\"],\"data\":{\"x\":{\"__ndarray__\":\"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\",\"dtype\":\"float64\",\"shape\":[200]},\"y\":{\"__ndarray__\":\"6qST7j37aL8v7rnMxLvfv/DvnjJYT+6/OPYsruLA9b9q/7XzXsT7v+duOw64nQDAwcI7WHIXA8DC2PBvj1MFwNiAIsIbVgfAXntKPgwjCcDqpYHwQL4KwHa39dByKwzAfb/reSpuDcDXOP/evIkOwOrpeXtHgQ/AzWiB/9UrEMD3FnHexYcQwEJNEAOl1RDAUamDU44WEcBLuqI7iUsRwLPlnouKdRHAaInEQXWVEcBwbndIG6wRwAfqnik+uhHAbik7u4/AEcBhN6HEsr8RwBQq7587uBHASMuE2LCqEcASxqjFi5cRwPdCGSM5fxHA/wx8xRliEcCaoHxIhUARwPP/+NLNGhHA1gyvKULxEMA5zXiSL8QQwKOC6MvjkxDArlpQTK5gEMBKokEx3SoQwHPqGOJ15Q/AqJaf0RxxD8C7yrnyNfkOwKgWYChBfg7AD7ztcbcADsCnTY7JCoENwPPhy+yl/wzAEyW1Dex8DMAGrQFyOPkLwDTevwTedAvAmDYu2ibwCsAvwlSmU2sKwE82MXmb5gnA1RTdGy5iCcCHfzfINt4IwLuma8PcWgjABK/ix0PYB8BrKOdwjFYHwAFlsqbU1QbAWYyXDjhWBsA7HfB60NcFwPoFEUm2WgXAFcjJBgDfBMBkCBoBwmQEwAI4xlwO7APA+LSlO/V0A8COuczehP8CwI/rrsbJiwLAoAoc0s4ZAsBOs1FanakBwMCUzE09OwHArXHkSrXOAMCvOMG1CmQAwH7HB6CD9v+/tZd0nLso/7973jHUwV7+v0lGou2YmP2/UkQi2kHW/L9nRHlruxf8v2x/2m8BXfu/cONnOwym+r/rTFBr0PL5vyFSrNo+Q/m/BF7JuUSX+L+2HJfEy+73vyl1ZpG6Sfe/HsK38fSn9r+/FsthXAn2v0GL2IDQbfW/eMg6ji/V9L/99tbpVj/0v7oIA5MjrPO/4RigpHIb87+yjanLIY3yv0RR67YPAfK//ZWwfhx38b9GRw8CKu/wv08EjDscafC/wIkoFbPJ77+VfYjflcTuv/1XRIW4wu2/hUNPrvjD7L8MUFo1Osjrv8Ln/E9nz+q/VZCJmnDZ6b9nI4wVTebovzboig/69ee/4pJB+noI57/yabc62R3mvx5qGd0jNuW/dSPTQW9R5L+hatLE1G/jv48WGUFykeK/8GGqt2m24b/yPDL74N7gv3uwX5sAC+C/RWzsXOh13r/Vi0LI0t3cv2NeT8AdTtu/XbFVQivH2b+wBI6NXEnYv5QsAj8N1da/vciFlqdq1b8ZC1GtkArUv71MxZMMtdK/QUM5RVdq0b+aw1Ld7SrQv6LYU//97s2/LwPRPK+gy79mzwaog2nJv+UMX88mSce/PxYeJ4FAxb/DaqjsEVHDvz+/ZuagfMG/a7woW52Jv781zceI2FW8v8+o5ZfHX7m/FhQBKGmotr+eIjhW4S+0v8yHFoOY9bG/zTHlJgPwr7/CmI/gwGmsv65JE//0Uam/NoTnUJWgpr9gr1xV61GkvzfeMcnCX6K/VOjfaCvCoL/XFT2m1OCev6uliHIew5y/8zG3g5sZm79zzEqpY9OZv2LonH584Ji/ef64kP8xmL/gsNDqNbqXv4gNmVKwbJe/41nLCWA+l79TYujEsSWXv/+AVk2rGpe/Eu+HpgsXl7+qmbBQbRaXv2wggcBpFpe/bCCBwGkWl79sIIHAaRaXv2wggcBpFpe/bCCBwGkWl79sIIHAaRaXv2wggcBpFpe/bCCBwGkWl79sIIHAaRaXv2wggcBpFpe/bCCBwGkWl79sIIHAaRaXv2wggcBpFpe/bCCBwGkWl79sIIHAaRaXv2wggcBpFpe/bCCBwGkWl79sIIHAaRaXv2wggcBpFpe/bCCBwGkWl79sIIHAaRaXv2wggcBpFpe/bCCBwGkWl79sIIHAaRaXv2wggcBpFpe/bCCBwGkWl79sIIHAaRaXv2wggcBpFpe/bCCBwGkWl79sIIHAaRaXv2wggcBpFpe/bCCBwGkWl79sIIHAaRaXv2wggcBpFpe/bCCBwGkWl79sIIHAaRaXv2wggcBpFpe/bCCBwGkWl79sIIHAaRaXv2wggcBpFpe/bCCBwGkWl79sIIHAaRaXvw==\",\"dtype\":\"float64\",\"shape\":[200]}}},\"id\":\"222a118c-435d-420e-b3d0-c47bbdc4730e\",\"type\":\"ColumnDataSource\"},{\"attributes\":{\"line_alpha\":{\"value\":0.1},\"line_color\":{\"value\":\"#1f77b4\"},\"line_dash\":[6,4,2,4],\"line_width\":{\"value\":2},\"x\":{\"field\":\"x\"},\"y\":{\"field\":\"y\"}},\"id\":\"11ed54ed-5bab-4b6a-bf9e-ad10fcc9b84d\",\"type\":\"Line\"},{\"attributes\":{\"line_color\":{\"value\":\"#EAC117\"},\"line_width\":{\"value\":2},\"x\":{\"field\":\"x\"},\"y\":{\"field\":\"y\"}},\"id\":\"6a0bd385-1f24-4c11-912d-bbab4dcc943b\",\"type\":\"Line\"},{\"attributes\":{\"line_color\":{\"value\":\"blue\"},\"line_width\":{\"value\":2},\"x\":{\"field\":\"x\"},\"y\":{\"field\":\"y\"}},\"id\":\"8a8ff829-36d7-4738-8054-e968e271f6b8\",\"type\":\"Line\"},{\"attributes\":{\"plot\":null,\"text\":\"Cohesive Energy vs. Interatomic Spacing for Ni\"},\"id\":\"53042dfa-04e7-4fdb-b06d-42e586db1420\",\"type\":\"Title\"},{\"attributes\":{\"label\":{\"value\":\"A3'--alpha-La\"},\"renderers\":[{\"id\":\"fef3da76-699e-4491-b9fb-1fad55f029a0\",\"type\":\"GlyphRenderer\"}]},\"id\":\"a97060e0-3b30-4618-8ae1-db54a38f860d\",\"type\":\"LegendItem\"},{\"attributes\":{\"callback\":null,\"end\":6,\"start\":2},\"id\":\"d5c101b2-f950-41c2-b4a3-9b692acd03fc\",\"type\":\"Range1d\"},{\"attributes\":{\"line_width\":{\"value\":2},\"x\":{\"field\":\"x\"},\"y\":{\"field\":\"y\"}},\"id\":\"07f138f4-65ff-4b61-8973-06113baa1be4\",\"type\":\"Line\"},{\"attributes\":{},\"id\":\"73a39534-e109-4cc7-88be-cc53f625da6e\",\"type\":\"BasicTickFormatter\"},{\"attributes\":{\"data_source\":{\"id\":\"ddca6e67-9b1e-4675-a429-44b6d7de55ad\",\"type\":\"ColumnDataSource\"},\"glyph\":{\"id\":\"466482d5-e7b3-4d34-bbae-dc20eda68bf0\",\"type\":\"Line\"},\"hover_glyph\":null,\"nonselection_glyph\":{\"id\":\"7ff16e6c-6c79-4e91-99a4-31e8dc426e9e\",\"type\":\"Line\"},\"selection_glyph\":null},\"id\":\"50e4de1a-06a5-4b4c-8b47-e06d7cc8da9d\",\"type\":\"GlyphRenderer\"},{\"attributes\":{\"label\":{\"value\":\"A2--W--bcc\"},\"renderers\":[{\"id\":\"2b25d31b-56f0-4f91-88df-75d62dc34b36\",\"type\":\"GlyphRenderer\"}]},\"id\":\"63287b7e-76e2-4e96-98e4-8828747c23b3\",\"type\":\"LegendItem\"},{\"attributes\":{\"axis_label\":\"r (A)\",\"formatter\":{\"id\":\"73a39534-e109-4cc7-88be-cc53f625da6e\",\"type\":\"BasicTickFormatter\"},\"plot\":{\"id\":\"526bc7f0-c03f-4a45-af38-3a4ffebfb6cc\",\"subtype\":\"Figure\",\"type\":\"Plot\"},\"ticker\":{\"id\":\"0613e706-bc63-4f0c-9be3-ae9aa0177456\",\"type\":\"BasicTicker\"}},\"id\":\"9cf95988-79c6-466d-9503-4794a8101440\",\"type\":\"LinearAxis\"},{\"attributes\":{\"line_color\":{\"value\":\"magenta\"},\"line_width\":{\"value\":2},\"x\":{\"field\":\"x\"},\"y\":{\"field\":\"y\"}},\"id\":\"10116aa9-fada-4eb2-b30e-094e33348522\",\"type\":\"Line\"},{\"attributes\":{\"data_source\":{\"id\":\"222a118c-435d-420e-b3d0-c47bbdc4730e\",\"type\":\"ColumnDataSource\"},\"glyph\":{\"id\":\"755a4e46-29d6-46d3-8b8b-239db862eb74\",\"type\":\"Line\"},\"hover_glyph\":null,\"nonselection_glyph\":{\"id\":\"11ed54ed-5bab-4b6a-bf9e-ad10fcc9b84d\",\"type\":\"Line\"},\"selection_glyph\":null},\"id\":\"fef3da76-699e-4491-b9fb-1fad55f029a0\",\"type\":\"GlyphRenderer\"},{\"attributes\":{\"callback\":null,\"column_names\":[\"y\",\"x\"],\"data\":{\"x\":{\"__ndarray__\":\"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\",\"dtype\":\"float64\",\"shape\":[200]},\"y\":{\"__ndarray__\":\"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\",\"dtype\":\"float64\",\"shape\":[200]}}},\"id\":\"9ffeef2d-ef99-4b01-9b37-1fabfc645b32\",\"type\":\"ColumnDataSource\"},{\"attributes\":{\"data_source\":{\"id\":\"0b120043-9899-4eec-b3dc-07a754988738\",\"type\":\"ColumnDataSource\"},\"glyph\":{\"id\":\"c167bea2-28ac-43ec-993f-8e0844b99001\",\"type\":\"Line\"},\"hover_glyph\":null,\"nonselection_glyph\":{\"id\":\"58f073bb-033a-48f4-a1d6-0691dd7317e7\",\"type\":\"Line\"},\"selection_glyph\":null},\"id\":\"0130ace3-c8a3-4266-99ca-1a0a807729f0\",\"type\":\"GlyphRenderer\"},{\"attributes\":{\"data_source\":{\"id\":\"9ca2f4df-e2de-4f86-9862-c1e6f1e2ff24\",\"type\":\"ColumnDataSource\"},\"glyph\":{\"id\":\"8b594f53-27d4-4849-a10d-c55110038111\",\"type\":\"Line\"},\"hover_glyph\":null,\"nonselection_glyph\":{\"id\":\"04d4c204-9292-4a4f-8f33-125cc5812ad4\",\"type\":\"Line\"},\"selection_glyph\":null},\"id\":\"6c52d7be-0e12-42c0-bd5c-91663c0874dd\",\"type\":\"GlyphRenderer\"},{\"attributes\":{\"axis_label\":\"Cohesive Energy (eV/atom)\",\"formatter\":{\"id\":\"daede01f-f419-4099-8f85-ccd17ce5ebec\",\"type\":\"BasicTickFormatter\"},\"plot\":{\"id\":\"526bc7f0-c03f-4a45-af38-3a4ffebfb6cc\",\"subtype\":\"Figure\",\"type\":\"Plot\"},\"ticker\":{\"id\":\"0cf9bbe2-6093-475c-ba42-7b08ba8df0b8\",\"type\":\"BasicTicker\"}},\"id\":\"2bbab3f8-3fe2-4009-bd39-1fbbc835f600\",\"type\":\"LinearAxis\"},{\"attributes\":{\"data_source\":{\"id\":\"4c5a1663-81d1-450e-94c1-d9fa3b8e3c3b\",\"type\":\"ColumnDataSource\"},\"glyph\":{\"id\":\"8a8ff829-36d7-4738-8054-e968e271f6b8\",\"type\":\"Line\"},\"hover_glyph\":null,\"nonselection_glyph\":{\"id\":\"54caf55d-8f44-4f33-a5bc-ffde3bdaef87\",\"type\":\"Line\"},\"selection_glyph\":null},\"id\":\"2b25d31b-56f0-4f91-88df-75d62dc34b36\",\"type\":\"GlyphRenderer\"},{\"attributes\":{\"line_alpha\":{\"value\":0.1},\"line_color\":{\"value\":\"#1f77b4\"},\"line_width\":{\"value\":2},\"x\":{\"field\":\"x\"},\"y\":{\"field\":\"y\"}},\"id\":\"58f073bb-033a-48f4-a1d6-0691dd7317e7\",\"type\":\"Line\"},{\"attributes\":{},\"id\":\"0613e706-bc63-4f0c-9be3-ae9aa0177456\",\"type\":\"BasicTicker\"},{\"attributes\":{\"data_source\":{\"id\":\"5e7d5058-73d8-4001-a17f-5cf3ba10c69d\",\"type\":\"ColumnDataSource\"},\"glyph\":{\"id\":\"82ae58d1-e647-4466-8658-fe85ade3f43e\",\"type\":\"Line\"},\"hover_glyph\":null,\"nonselection_glyph\":{\"id\":\"c0f31cb9-324b-4434-828f-0499be6e1f32\",\"type\":\"Line\"},\"selection_glyph\":null},\"id\":\"49dba33a-0891-42db-9774-0d957bcab958\",\"type\":\"GlyphRenderer\"},{\"attributes\":{\"callback\":null,\"column_names\":[\"y\",\"x\"],\"data\":{\"x\":{\"__ndarray__\":\"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\",\"dtype\":\"float64\",\"shape\":[200]},\"y\":{\"__ndarray__\":\"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\",\"dtype\":\"float64\",\"shape\":[200]}}},\"id\":\"ee386221-d5f7-4edc-a65d-5f55c7ab4d6b\",\"type\":\"ColumnDataSource\"},{\"attributes\":{\"callback\":null,\"column_names\":[\"y\",\"x\"],\"data\":{\"x\":{\"__ndarray__\":\"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\",\"dtype\":\"float64\",\"shape\":[200]},\"y\":{\"__ndarray__\":\"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\",\"dtype\":\"float64\",\"shape\":[200]}}},\"id\":\"4c5a1663-81d1-450e-94c1-d9fa3b8e3c3b\",\"type\":\"ColumnDataSource\"},{\"attributes\":{\"callback\":null,\"end\":0,\"start\":-5.0},\"id\":\"7e3ddf7c-7e77-4b25-9f7d-0affd8143843\",\"type\":\"Range1d\"},{\"attributes\":{\"callback\":null,\"column_names\":[\"y\",\"x\"],\"data\":{\"x\":{\"__ndarray__\":\"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\",\"dtype\":\"float64\",\"shape\":[200]},\"y\":{\"__ndarray__\":\"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\",\"dtype\":\"float64\",\"shape\":[200]}}},\"id\":\"0b120043-9899-4eec-b3dc-07a754988738\",\"type\":\"ColumnDataSource\"},{\"attributes\":{\"line_color\":{\"value\":\"gray\"},\"line_width\":{\"value\":2},\"x\":{\"field\":\"x\"},\"y\":{\"field\":\"y\"}},\"id\":\"82ae58d1-e647-4466-8658-fe85ade3f43e\",\"type\":\"Line\"},{\"attributes\":{\"plot\":{\"id\":\"526bc7f0-c03f-4a45-af38-3a4ffebfb6cc\",\"subtype\":\"Figure\",\"type\":\"Plot\"}},\"id\":\"2254d217-bbf5-4a3b-93f6-b7972ca22e64\",\"type\":\"HelpTool\"},{\"attributes\":{\"line_alpha\":{\"value\":0.1},\"line_color\":{\"value\":\"#1f77b4\"},\"line_dash\":[6],\"line_width\":{\"value\":2},\"x\":{\"field\":\"x\"},\"y\":{\"field\":\"y\"}},\"id\":\"04d4c204-9292-4a4f-8f33-125cc5812ad4\",\"type\":\"Line\"},{\"attributes\":{\"line_alpha\":{\"value\":0.1},\"line_color\":{\"value\":\"#1f77b4\"},\"line_width\":{\"value\":2},\"x\":{\"field\":\"x\"},\"y\":{\"field\":\"y\"}},\"id\":\"ba1382e0-d9f0-4ff7-bb41-16a3530e1105\",\"type\":\"Line\"},{\"attributes\":{\"callback\":null,\"column_names\":[\"y\",\"x\"],\"data\":{\"x\":{\"__ndarray__\":\"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\",\"dtype\":\"float64\",\"shape\":[200]},\"y\":{\"__ndarray__\":\"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\",\"dtype\":\"float64\",\"shape\":[200]}}},\"id\":\"ddca6e67-9b1e-4675-a429-44b6d7de55ad\",\"type\":\"ColumnDataSource\"},{\"attributes\":{\"plot\":{\"id\":\"526bc7f0-c03f-4a45-af38-3a4ffebfb6cc\",\"subtype\":\"Figure\",\"type\":\"Plot\"}},\"id\":\"a667c906-1c4e-4366-942e-32e0afb5b5d4\",\"type\":\"PanTool\"}],\"root_ids\":[\"526bc7f0-c03f-4a45-af38-3a4ffebfb6cc\"]},\"title\":\"Bokeh Application\",\"version\":\"0.12.4\"}};\n",
       "            var render_items = [{\"docid\":\"96668e93-71bb-4e42-b9b2-d4822e81383c\",\"elementid\":\"227bc79a-0651-45a1-a665-cb135dc73019\",\"modelid\":\"526bc7f0-c03f-4a45-af38-3a4ffebfb6cc\"}];\n",
       "            \n",
       "            Bokeh.embed.embed_items(docs_json, render_items);\n",
       "          };\n",
       "          if (document.readyState != \"loading\") fn();\n",
       "          else document.addEventListener(\"DOMContentLoaded\", fn);\n",
       "        })();\n",
       "      },\n",
       "      function(Bokeh) {\n",
       "      }\n",
       "    ];\n",
       "  \n",
       "    function run_inline_js() {\n",
       "      \n",
       "      if ((window.Bokeh !== undefined) || (force === true)) {\n",
       "        for (var i = 0; i < inline_js.length; i++) {\n",
       "          inline_js[i](window.Bokeh);\n",
       "        }if (force === true) {\n",
       "          display_loaded();\n",
       "        }} else if (Date.now() < window._bokeh_timeout) {\n",
       "        setTimeout(run_inline_js, 100);\n",
       "      } else if (!window._bokeh_failed_load) {\n",
       "        console.log(\"Bokeh: BokehJS failed to load within specified timeout.\");\n",
       "        window._bokeh_failed_load = true;\n",
       "      } else if (force !== true) {\n",
       "        var cell = $(document.getElementById(\"227bc79a-0651-45a1-a665-cb135dc73019\")).parents('.cell').data().cell;\n",
       "        cell.output_area.append_execute_result(NB_LOAD_WARNING)\n",
       "      }\n",
       "  \n",
       "    }\n",
       "  \n",
       "    if (window._bokeh_is_loading === 0) {\n",
       "      console.log(\"Bokeh: BokehJS loaded, going straight to plotting\");\n",
       "      run_inline_js();\n",
       "    } else {\n",
       "      load_libs(js_urls, function() {\n",
       "        console.log(\"Bokeh: BokehJS plotting callback run at\", now());\n",
       "        run_inline_js();\n",
       "      });\n",
       "    }\n",
       "  }(this));\n",
       "</script>"
      ]
     },
     "metadata": {},
     "output_type": "display_data"
    }
   ],
   "source": [
    "# Loop over all compositions\n",
    "for composition in np.unique(results_df.composition):\n",
    "    composition_df = results_df[results_df.composition==composition]\n",
    "    \n",
    "    #Ignore false compounds (ones where number of unique symbols != number of symbols)\n",
    "    composition_df = composition_df[(composition_df.symbols.apply(lambda x: len(np.unique(x))) \n",
    "                                     == composition_df.symbols.apply(lambda x: len(x)))] \n",
    "    \n",
    "    #Extract plot values\n",
    "    plot_df = {}\n",
    "    columns = []\n",
    "    plot_df['r'] = uc.get_in_units(composition_df.iloc[0].e_vs_r_plot.r, 'angstrom')\n",
    "    for i, v in composition_df.iterrows():\n",
    "        if len(v.family) > max_string_length:\n",
    "            name = '--'.join(v.family.split('--')[:-1])\n",
    "        else:\n",
    "            name = v.family\n",
    "        plot_df[name] = uc.get_in_units(v.e_vs_r_plot.E_coh, 'eV')\n",
    "        columns.append(name)\n",
    "    \n",
    "    plot_df = pd.DataFrame(plot_df, columns=['r'] + sorted(columns))\n",
    "    \n",
    "    #Construct plot\n",
    "    plot = plot_gen(plot_df, composition, line_color, line_dash)\n",
    "    show(plot)"
   ]
  },
  {
   "cell_type": "markdown",
   "metadata": {
    "deletable": true,
    "editable": true
   },
   "source": [
    "## 4. refine_structure and/or LAMMPS_ELASTIC"
   ]
  },
  {
   "cell_type": "code",
   "execution_count": 77,
   "metadata": {
    "collapsed": true,
    "deletable": true,
    "editable": true
   },
   "outputs": [],
   "source": [
    "n = 1\n",
    "#calculation_style = 'refine_structure'\n",
    "calculation_style = 'LAMMPS_ELASTIC'\n",
    "record_style = 'calculation_system_relax'"
   ]
  },
  {
   "cell_type": "markdown",
   "metadata": {
    "deletable": true,
    "editable": true
   },
   "source": [
    "### Prepare"
   ]
  },
  {
   "cell_type": "code",
   "execution_count": 34,
   "metadata": {
    "collapsed": false,
    "deletable": true,
    "editable": true
   },
   "outputs": [],
   "source": [
    "run_directory = run_terms[n]['run_directory']\n",
    "\n",
    "input_dict = {}\n",
    "input_dict['calculation_style'] = calculation_style\n",
    "input_dict['lammps_command'] = run_terms[n]['lammps_command']\n",
    "input_dict['mpi_command'] = run_terms[n]['mpi_command']\n",
    "input_dict['potential_name'] = potential\n",
    "input_dict['strainrange'] = '1e-8'\n",
    "\n",
    "iprPy.highthroughput.prepare(dbase, run_directory, input_dict=input_dict)"
   ]
  },
  {
   "cell_type": "markdown",
   "metadata": {
    "deletable": true,
    "editable": true
   },
   "source": [
    "### Run"
   ]
  },
  {
   "cell_type": "code",
   "execution_count": 36,
   "metadata": {
    "collapsed": false
   },
   "outputs": [],
   "source": [
    "iprPy.highthroughput.runner(dbase, run_directory)"
   ]
  },
  {
   "cell_type": "markdown",
   "metadata": {
    "deletable": true,
    "editable": true
   },
   "source": [
    "### Analyze"
   ]
  },
  {
   "cell_type": "markdown",
   "metadata": {
    "deletable": true,
    "editable": true
   },
   "source": [
    "Fetch records"
   ]
  },
  {
   "cell_type": "code",
   "execution_count": 78,
   "metadata": {
    "collapsed": false,
    "deletable": true,
    "editable": true
   },
   "outputs": [
    {
     "name": "stdout",
     "output_type": "stream",
     "text": [
      "60 records found\n"
     ]
    }
   ],
   "source": [
    "results_df = dbase.get_records_df(style=record_style, full=True, flat=False)\n",
    "results_df = results_df[results_df.potential_id == potential]\n",
    "results_df = results_df[results_df.calc_script == 'calc_'+calculation_style]\n",
    "\n",
    "print(len(results_df), 'records found')"
   ]
  },
  {
   "cell_type": "markdown",
   "metadata": {
    "deletable": true,
    "editable": true
   },
   "source": [
    "Check errors"
   ]
  },
  {
   "cell_type": "code",
   "execution_count": 79,
   "metadata": {
    "collapsed": false,
    "deletable": true,
    "editable": true
   },
   "outputs": [
    {
     "name": "stdout",
     "output_type": "stream",
     "text": [
      "2 issued errors\n",
      "Traceback (most recent call last):\n",
      "  File \"calc_LAMMPS_ELASTIC.py\", line 450, in <module>\n",
      "    main(*sys.argv[1:])\n",
      "  File \"calc_LAMMPS_ELASTIC.py\", line 58, in main\n",
      "    pressure_unit = input_dict['pressure_unit'])\n",
      "  File \"calc_LAMMPS_ELASTIC.py\", line 170, in lammps_ELASTIC_refine\n",
      "    dmax=dmax, pressure_unit=pressure_unit)\n",
      "  File \"calc_LAMMPS_ELASTIC.py\", line 333, in lammps_ELASTIC\n",
      "    output = lmp.run(lammps_command, 'in.elastic', mpi_command)\n",
      "  File \"c:\\users\\lmh1\\documents\\python-packages\\atomman\\atomman\\lammps\\run.py\", line 98, in run\n",
      "    raise ValueError('Invalid LAMMPS input: \\n%s' % lines[-2])\n",
      "ValueError: Invalid LAMMPS input: \n",
      "ERROR: Did not assign all restart atoms correctly (../read_restart.cpp:513)\n"
     ]
    }
   ],
   "source": [
    "error_df = results_df[results_df.status=='error']\n",
    "print(len(error_df), 'issued errors')\n",
    "\n",
    "if len(error_df) > 0:\n",
    "    for error in np.unique(error_df.error.values):\n",
    "        print(error)    "
   ]
  },
  {
   "cell_type": "markdown",
   "metadata": {
    "deletable": true,
    "editable": true
   },
   "source": [
    "Define composition"
   ]
  },
  {
   "cell_type": "code",
   "execution_count": 80,
   "metadata": {
    "collapsed": true,
    "deletable": true,
    "editable": true
   },
   "outputs": [],
   "source": [
    "compositions = []\n",
    "for i, calc in results_df.iterrows():\n",
    "    compositions.append(comp_refine(calc.symbols, counts[calc.family]))\n",
    "results_df = results_df.assign(composition=compositions)"
   ]
  },
  {
   "cell_type": "markdown",
   "metadata": {},
   "source": [
    "#### Display $E_{coh}$ and lattice constants"
   ]
  },
  {
   "cell_type": "code",
   "execution_count": 81,
   "metadata": {
    "collapsed": false,
    "scrolled": false
   },
   "outputs": [
    {
     "name": "stdout",
     "output_type": "stream",
     "text": [
      "Al\n"
     ]
    },
    {
     "data": {
      "text/html": [
       "<table border=\"1\" class=\"dataframe\">\n",
       "  <thead>\n",
       "    <tr style=\"text-align: right;\">\n",
       "      <th>family</th>\n",
       "      <th>Ecoh (eV/atom)</th>\n",
       "      <th>a (A)</th>\n",
       "      <th>b (A)</th>\n",
       "      <th>c (A)</th>\n",
       "    </tr>\n",
       "  </thead>\n",
       "  <tbody>\n",
       "    <tr>\n",
       "      <td>L1_0--AuCu</td>\n",
       "      <td>-3.360000</td>\n",
       "      <td>4.050000</td>\n",
       "      <td>4.050000</td>\n",
       "      <td>4.050000</td>\n",
       "    </tr>\n",
       "    <tr>\n",
       "      <td>D0_3--BiF3</td>\n",
       "      <td>-3.360000</td>\n",
       "      <td>8.100000</td>\n",
       "      <td>5.727565</td>\n",
       "      <td>5.727565</td>\n",
       "    </tr>\n",
       "    <tr>\n",
       "      <td>A6--In--bct</td>\n",
       "      <td>-3.360000</td>\n",
       "      <td>2.863782</td>\n",
       "      <td>2.863782</td>\n",
       "      <td>4.050000</td>\n",
       "    </tr>\n",
       "    <tr>\n",
       "      <td>L1_2--AuCu3</td>\n",
       "      <td>-3.360000</td>\n",
       "      <td>4.050000</td>\n",
       "      <td>4.050000</td>\n",
       "      <td>4.050000</td>\n",
       "    </tr>\n",
       "    <tr>\n",
       "      <td>A1--Cu--fcc</td>\n",
       "      <td>-3.360000</td>\n",
       "      <td>4.050000</td>\n",
       "      <td>4.050000</td>\n",
       "      <td>4.050000</td>\n",
       "    </tr>\n",
       "    <tr>\n",
       "      <td>B2--CsCl</td>\n",
       "      <td>-3.360000</td>\n",
       "      <td>2.863782</td>\n",
       "      <td>2.863782</td>\n",
       "      <td>4.050000</td>\n",
       "    </tr>\n",
       "    <tr>\n",
       "      <td>L2_1--AlCu2Mn--heusler</td>\n",
       "      <td>-3.360000</td>\n",
       "      <td>8.100000</td>\n",
       "      <td>5.727565</td>\n",
       "      <td>5.727565</td>\n",
       "    </tr>\n",
       "    <tr>\n",
       "      <td>A4--C--dc</td>\n",
       "      <td>-3.349106</td>\n",
       "      <td>2.852026</td>\n",
       "      <td>9.470456</td>\n",
       "      <td>4.939854</td>\n",
       "    </tr>\n",
       "    <tr>\n",
       "      <td>A15--Cr3Si</td>\n",
       "      <td>-3.346935</td>\n",
       "      <td>5.146685</td>\n",
       "      <td>5.146685</td>\n",
       "      <td>5.146685</td>\n",
       "    </tr>\n",
       "    <tr>\n",
       "      <td>A15--beta-W</td>\n",
       "      <td>-3.346935</td>\n",
       "      <td>5.146685</td>\n",
       "      <td>5.146685</td>\n",
       "      <td>5.146685</td>\n",
       "    </tr>\n",
       "    <tr>\n",
       "      <td>A3'--alpha-La--double-hcp</td>\n",
       "      <td>-3.343863</td>\n",
       "      <td>2.845808</td>\n",
       "      <td>4.929084</td>\n",
       "      <td>9.534411</td>\n",
       "    </tr>\n",
       "    <tr>\n",
       "      <td>A5--beta-Sn</td>\n",
       "      <td>-3.332214</td>\n",
       "      <td>4.882845</td>\n",
       "      <td>4.944483</td>\n",
       "      <td>2.819112</td>\n",
       "    </tr>\n",
       "    <tr>\n",
       "      <td>A3--Mg--hcp</td>\n",
       "      <td>-3.332214</td>\n",
       "      <td>2.819112</td>\n",
       "      <td>4.882845</td>\n",
       "      <td>4.944483</td>\n",
       "    </tr>\n",
       "    <tr>\n",
       "      <td>A7--alpha-As</td>\n",
       "      <td>-3.325449</td>\n",
       "      <td>4.924512</td>\n",
       "      <td>7.357492</td>\n",
       "      <td>5.645018</td>\n",
       "    </tr>\n",
       "    <tr>\n",
       "      <td>B3--ZnS--cubic-zinc-blende</td>\n",
       "      <td>-3.316678</td>\n",
       "      <td>2.902951</td>\n",
       "      <td>9.401157</td>\n",
       "      <td>4.989663</td>\n",
       "    </tr>\n",
       "    <tr>\n",
       "      <td>A2--W--bcc</td>\n",
       "      <td>-3.303732</td>\n",
       "      <td>3.590989</td>\n",
       "      <td>3.590989</td>\n",
       "      <td>2.765116</td>\n",
       "    </tr>\n",
       "    <tr>\n",
       "      <td>C1--CaF2--fluorite</td>\n",
       "      <td>-3.073207</td>\n",
       "      <td>6.091423</td>\n",
       "      <td>6.091423</td>\n",
       "      <td>6.091423</td>\n",
       "    </tr>\n",
       "    <tr>\n",
       "      <td>Ah--alpha-Po--sc</td>\n",
       "      <td>-2.961407</td>\n",
       "      <td>2.740675</td>\n",
       "      <td>2.740675</td>\n",
       "      <td>2.740675</td>\n",
       "    </tr>\n",
       "    <tr>\n",
       "      <td>B1--NaCl--rock-salt</td>\n",
       "      <td>-2.961407</td>\n",
       "      <td>5.481350</td>\n",
       "      <td>5.481350</td>\n",
       "      <td>5.481350</td>\n",
       "    </tr>\n",
       "  </tbody>\n",
       "</table>"
      ],
      "text/plain": [
       "<IPython.core.display.HTML object>"
      ]
     },
     "metadata": {},
     "output_type": "display_data"
    },
    {
     "name": "stdout",
     "output_type": "stream",
     "text": [
      "Al2Ni\n"
     ]
    },
    {
     "data": {
      "text/html": [
       "<table border=\"1\" class=\"dataframe\">\n",
       "  <thead>\n",
       "    <tr style=\"text-align: right;\">\n",
       "      <th>family</th>\n",
       "      <th>Ecoh (eV/atom)</th>\n",
       "      <th>a (A)</th>\n",
       "      <th>b (A)</th>\n",
       "      <th>c (A)</th>\n",
       "    </tr>\n",
       "  </thead>\n",
       "  <tbody>\n",
       "    <tr>\n",
       "      <td>L2_1--AlCu2Mn--heusler</td>\n",
       "      <td>-4.510871</td>\n",
       "      <td>5.663980</td>\n",
       "      <td>5.663980</td>\n",
       "      <td>5.663980</td>\n",
       "    </tr>\n",
       "    <tr>\n",
       "      <td>C1--CaF2--fluorite</td>\n",
       "      <td>-3.914698</td>\n",
       "      <td>5.638257</td>\n",
       "      <td>5.638257</td>\n",
       "      <td>5.638257</td>\n",
       "    </tr>\n",
       "    <tr>\n",
       "      <td>L2_1--AlCu2Mn--heusler</td>\n",
       "      <td>-3.890008</td>\n",
       "      <td>7.599177</td>\n",
       "      <td>5.370156</td>\n",
       "      <td>5.370156</td>\n",
       "    </tr>\n",
       "    <tr>\n",
       "      <td>L2_1--AlCu2Mn--heusler</td>\n",
       "      <td>-3.836009</td>\n",
       "      <td>5.989147</td>\n",
       "      <td>5.989147</td>\n",
       "      <td>5.989147</td>\n",
       "    </tr>\n",
       "  </tbody>\n",
       "</table>"
      ],
      "text/plain": [
       "<IPython.core.display.HTML object>"
      ]
     },
     "metadata": {},
     "output_type": "display_data"
    },
    {
     "name": "stdout",
     "output_type": "stream",
     "text": [
      "Al3Ni\n"
     ]
    },
    {
     "data": {
      "text/html": [
       "<table border=\"1\" class=\"dataframe\">\n",
       "  <thead>\n",
       "    <tr style=\"text-align: right;\">\n",
       "      <th>family</th>\n",
       "      <th>Ecoh (eV/atom)</th>\n",
       "      <th>a (A)</th>\n",
       "      <th>b (A)</th>\n",
       "      <th>c (A)</th>\n",
       "    </tr>\n",
       "  </thead>\n",
       "  <tbody>\n",
       "    <tr>\n",
       "      <td>L1_2--AuCu3</td>\n",
       "      <td>-3.893110</td>\n",
       "      <td>3.801488</td>\n",
       "      <td>3.801488</td>\n",
       "      <td>3.801488</td>\n",
       "    </tr>\n",
       "    <tr>\n",
       "      <td>D0_3--BiF3</td>\n",
       "      <td>-3.890008</td>\n",
       "      <td>7.599177</td>\n",
       "      <td>5.370156</td>\n",
       "      <td>5.370156</td>\n",
       "    </tr>\n",
       "    <tr>\n",
       "      <td>A15--Cr3Si</td>\n",
       "      <td>-3.838810</td>\n",
       "      <td>4.840376</td>\n",
       "      <td>4.840376</td>\n",
       "      <td>4.840376</td>\n",
       "    </tr>\n",
       "  </tbody>\n",
       "</table>"
      ],
      "text/plain": [
       "<IPython.core.display.HTML object>"
      ]
     },
     "metadata": {},
     "output_type": "display_data"
    },
    {
     "name": "stdout",
     "output_type": "stream",
     "text": [
      "AlNi\n"
     ]
    },
    {
     "data": {
      "text/html": [
       "<table border=\"1\" class=\"dataframe\">\n",
       "  <thead>\n",
       "    <tr style=\"text-align: right;\">\n",
       "      <th>family</th>\n",
       "      <th>Ecoh (eV/atom)</th>\n",
       "      <th>a (A)</th>\n",
       "      <th>b (A)</th>\n",
       "      <th>c (A)</th>\n",
       "    </tr>\n",
       "  </thead>\n",
       "  <tbody>\n",
       "    <tr>\n",
       "      <td>L1_0--AuCu</td>\n",
       "      <td>-4.510871</td>\n",
       "      <td>4.005039</td>\n",
       "      <td>4.005039</td>\n",
       "      <td>2.831990</td>\n",
       "    </tr>\n",
       "    <tr>\n",
       "      <td>L1_0--AuCu</td>\n",
       "      <td>-4.510871</td>\n",
       "      <td>4.005039</td>\n",
       "      <td>4.005039</td>\n",
       "      <td>2.831990</td>\n",
       "    </tr>\n",
       "    <tr>\n",
       "      <td>B2--CsCl</td>\n",
       "      <td>-4.510871</td>\n",
       "      <td>2.831990</td>\n",
       "      <td>2.831990</td>\n",
       "      <td>2.831990</td>\n",
       "    </tr>\n",
       "    <tr>\n",
       "      <td>B2--CsCl</td>\n",
       "      <td>-4.510871</td>\n",
       "      <td>2.831990</td>\n",
       "      <td>2.831990</td>\n",
       "      <td>2.831990</td>\n",
       "    </tr>\n",
       "    <tr>\n",
       "      <td>B3--ZnS--cubic-zinc-blende</td>\n",
       "      <td>-4.328486</td>\n",
       "      <td>4.639766</td>\n",
       "      <td>7.787041</td>\n",
       "      <td>2.678770</td>\n",
       "    </tr>\n",
       "    <tr>\n",
       "      <td>B3--ZnS--cubic-zinc-blende</td>\n",
       "      <td>-4.328486</td>\n",
       "      <td>2.678770</td>\n",
       "      <td>4.639766</td>\n",
       "      <td>7.787041</td>\n",
       "    </tr>\n",
       "    <tr>\n",
       "      <td>B1--NaCl--rock-salt</td>\n",
       "      <td>NaN</td>\n",
       "      <td>NaN</td>\n",
       "      <td>NaN</td>\n",
       "      <td>NaN</td>\n",
       "    </tr>\n",
       "    <tr>\n",
       "      <td>B1--NaCl--rock-salt</td>\n",
       "      <td>NaN</td>\n",
       "      <td>NaN</td>\n",
       "      <td>NaN</td>\n",
       "      <td>NaN</td>\n",
       "    </tr>\n",
       "  </tbody>\n",
       "</table>"
      ],
      "text/plain": [
       "<IPython.core.display.HTML object>"
      ]
     },
     "metadata": {},
     "output_type": "display_data"
    },
    {
     "name": "stdout",
     "output_type": "stream",
     "text": [
      "AlNi2\n"
     ]
    },
    {
     "data": {
      "text/html": [
       "<table border=\"1\" class=\"dataframe\">\n",
       "  <thead>\n",
       "    <tr style=\"text-align: right;\">\n",
       "      <th>family</th>\n",
       "      <th>Ecoh (eV/atom)</th>\n",
       "      <th>a (A)</th>\n",
       "      <th>b (A)</th>\n",
       "      <th>c (A)</th>\n",
       "    </tr>\n",
       "  </thead>\n",
       "  <tbody>\n",
       "    <tr>\n",
       "      <td>L2_1--AlCu2Mn--heusler</td>\n",
       "      <td>-4.598788</td>\n",
       "      <td>5.542485</td>\n",
       "      <td>5.542485</td>\n",
       "      <td>5.542485</td>\n",
       "    </tr>\n",
       "    <tr>\n",
       "      <td>L2_1--AlCu2Mn--heusler</td>\n",
       "      <td>-4.598788</td>\n",
       "      <td>5.542485</td>\n",
       "      <td>5.542485</td>\n",
       "      <td>5.542485</td>\n",
       "    </tr>\n",
       "    <tr>\n",
       "      <td>L2_1--AlCu2Mn--heusler</td>\n",
       "      <td>-4.510871</td>\n",
       "      <td>5.663980</td>\n",
       "      <td>5.663980</td>\n",
       "      <td>5.663980</td>\n",
       "    </tr>\n",
       "    <tr>\n",
       "      <td>C1--CaF2--fluorite</td>\n",
       "      <td>-4.139251</td>\n",
       "      <td>5.421433</td>\n",
       "      <td>5.421433</td>\n",
       "      <td>5.421433</td>\n",
       "    </tr>\n",
       "  </tbody>\n",
       "</table>"
      ],
      "text/plain": [
       "<IPython.core.display.HTML object>"
      ]
     },
     "metadata": {},
     "output_type": "display_data"
    },
    {
     "name": "stdout",
     "output_type": "stream",
     "text": [
      "AlNi3\n"
     ]
    },
    {
     "data": {
      "text/html": [
       "<table border=\"1\" class=\"dataframe\">\n",
       "  <thead>\n",
       "    <tr style=\"text-align: right;\">\n",
       "      <th>family</th>\n",
       "      <th>Ecoh (eV/atom)</th>\n",
       "      <th>a (A)</th>\n",
       "      <th>b (A)</th>\n",
       "      <th>c (A)</th>\n",
       "    </tr>\n",
       "  </thead>\n",
       "  <tbody>\n",
       "    <tr>\n",
       "      <td>L1_2--AuCu3</td>\n",
       "      <td>-4.631478</td>\n",
       "      <td>3.533170</td>\n",
       "      <td>3.533170</td>\n",
       "      <td>3.533170</td>\n",
       "    </tr>\n",
       "    <tr>\n",
       "      <td>D0_3--BiF3</td>\n",
       "      <td>-4.598788</td>\n",
       "      <td>5.542485</td>\n",
       "      <td>5.542485</td>\n",
       "      <td>5.542485</td>\n",
       "    </tr>\n",
       "    <tr>\n",
       "      <td>A15--Cr3Si</td>\n",
       "      <td>-4.553162</td>\n",
       "      <td>4.436320</td>\n",
       "      <td>4.436320</td>\n",
       "      <td>4.436320</td>\n",
       "    </tr>\n",
       "  </tbody>\n",
       "</table>"
      ],
      "text/plain": [
       "<IPython.core.display.HTML object>"
      ]
     },
     "metadata": {},
     "output_type": "display_data"
    },
    {
     "name": "stdout",
     "output_type": "stream",
     "text": [
      "Ni\n"
     ]
    },
    {
     "data": {
      "text/html": [
       "<table border=\"1\" class=\"dataframe\">\n",
       "  <thead>\n",
       "    <tr style=\"text-align: right;\">\n",
       "      <th>family</th>\n",
       "      <th>Ecoh (eV/atom)</th>\n",
       "      <th>a (A)</th>\n",
       "      <th>b (A)</th>\n",
       "      <th>c (A)</th>\n",
       "    </tr>\n",
       "  </thead>\n",
       "  <tbody>\n",
       "    <tr>\n",
       "      <td>L2_1--AlCu2Mn--heusler</td>\n",
       "      <td>-4.450000</td>\n",
       "      <td>4.978032</td>\n",
       "      <td>4.978032</td>\n",
       "      <td>7.040000</td>\n",
       "    </tr>\n",
       "    <tr>\n",
       "      <td>A1--Cu--fcc</td>\n",
       "      <td>-4.450000</td>\n",
       "      <td>3.520000</td>\n",
       "      <td>3.520000</td>\n",
       "      <td>3.520000</td>\n",
       "    </tr>\n",
       "    <tr>\n",
       "      <td>A6--In--bct</td>\n",
       "      <td>-4.450000</td>\n",
       "      <td>2.489016</td>\n",
       "      <td>2.489016</td>\n",
       "      <td>3.520000</td>\n",
       "    </tr>\n",
       "    <tr>\n",
       "      <td>D0_3--BiF3</td>\n",
       "      <td>-4.450000</td>\n",
       "      <td>4.978032</td>\n",
       "      <td>4.978032</td>\n",
       "      <td>7.040000</td>\n",
       "    </tr>\n",
       "    <tr>\n",
       "      <td>L1_0--AuCu</td>\n",
       "      <td>-4.450000</td>\n",
       "      <td>3.520000</td>\n",
       "      <td>3.520000</td>\n",
       "      <td>3.520000</td>\n",
       "    </tr>\n",
       "    <tr>\n",
       "      <td>L1_2--AuCu3</td>\n",
       "      <td>-4.450000</td>\n",
       "      <td>3.520000</td>\n",
       "      <td>3.520000</td>\n",
       "      <td>3.520000</td>\n",
       "    </tr>\n",
       "    <tr>\n",
       "      <td>A3'--alpha-La--double-hcp</td>\n",
       "      <td>-4.438704</td>\n",
       "      <td>2.485424</td>\n",
       "      <td>4.304881</td>\n",
       "      <td>8.164521</td>\n",
       "    </tr>\n",
       "    <tr>\n",
       "      <td>A4--C--dc</td>\n",
       "      <td>-4.435272</td>\n",
       "      <td>2.480519</td>\n",
       "      <td>8.162225</td>\n",
       "      <td>4.314772</td>\n",
       "    </tr>\n",
       "    <tr>\n",
       "      <td>B3--ZnS--cubic-zinc-blende</td>\n",
       "      <td>-4.435272</td>\n",
       "      <td>2.480519</td>\n",
       "      <td>8.162225</td>\n",
       "      <td>4.314772</td>\n",
       "    </tr>\n",
       "    <tr>\n",
       "      <td>A3--Mg--hcp</td>\n",
       "      <td>-4.427868</td>\n",
       "      <td>2.481888</td>\n",
       "      <td>4.298757</td>\n",
       "      <td>4.104809</td>\n",
       "    </tr>\n",
       "    <tr>\n",
       "      <td>A5--beta-Sn</td>\n",
       "      <td>-4.427868</td>\n",
       "      <td>4.298757</td>\n",
       "      <td>4.104809</td>\n",
       "      <td>2.481889</td>\n",
       "    </tr>\n",
       "    <tr>\n",
       "      <td>A15--beta-W</td>\n",
       "      <td>-4.419322</td>\n",
       "      <td>4.434224</td>\n",
       "      <td>4.434224</td>\n",
       "      <td>4.434224</td>\n",
       "    </tr>\n",
       "    <tr>\n",
       "      <td>A15--Cr3Si</td>\n",
       "      <td>-4.419322</td>\n",
       "      <td>4.434224</td>\n",
       "      <td>4.434224</td>\n",
       "      <td>4.434224</td>\n",
       "    </tr>\n",
       "    <tr>\n",
       "      <td>A7--alpha-As</td>\n",
       "      <td>-4.382714</td>\n",
       "      <td>3.915599</td>\n",
       "      <td>6.782016</td>\n",
       "      <td>4.795610</td>\n",
       "    </tr>\n",
       "    <tr>\n",
       "      <td>B2--CsCl</td>\n",
       "      <td>-4.382714</td>\n",
       "      <td>2.768747</td>\n",
       "      <td>2.768747</td>\n",
       "      <td>2.768747</td>\n",
       "    </tr>\n",
       "    <tr>\n",
       "      <td>A2--W--bcc</td>\n",
       "      <td>-4.382714</td>\n",
       "      <td>2.768747</td>\n",
       "      <td>2.768747</td>\n",
       "      <td>2.768747</td>\n",
       "    </tr>\n",
       "    <tr>\n",
       "      <td>C1--CaF2--fluorite</td>\n",
       "      <td>-3.929299</td>\n",
       "      <td>5.398574</td>\n",
       "      <td>5.398574</td>\n",
       "      <td>5.398574</td>\n",
       "    </tr>\n",
       "    <tr>\n",
       "      <td>B1--NaCl--rock-salt</td>\n",
       "      <td>-3.726400</td>\n",
       "      <td>4.793002</td>\n",
       "      <td>4.793002</td>\n",
       "      <td>4.793002</td>\n",
       "    </tr>\n",
       "    <tr>\n",
       "      <td>Ah--alpha-Po--sc</td>\n",
       "      <td>-3.726400</td>\n",
       "      <td>2.396501</td>\n",
       "      <td>2.396501</td>\n",
       "      <td>2.396501</td>\n",
       "    </tr>\n",
       "  </tbody>\n",
       "</table>"
      ],
      "text/plain": [
       "<IPython.core.display.HTML object>"
      ]
     },
     "metadata": {},
     "output_type": "display_data"
    }
   ],
   "source": [
    "# Unit conversions\n",
    "results_df['a (A)'] = uc.get_in_units(results_df.final_a, 'Angstrom')\n",
    "results_df['b (A)'] = uc.get_in_units(results_df.final_b, 'Angstrom')\n",
    "results_df['c (A)'] = uc.get_in_units(results_df.final_c, 'Angstrom')\n",
    "results_df['Ecoh (eV/atom)'] = uc.get_in_units(results_df.E_cohesive, 'eV')\n",
    "\n",
    "# Loop over all compositions\n",
    "for composition in np.unique(results_df.composition):\n",
    "    show_df = results_df[results_df.composition==composition]\n",
    "    \n",
    "    print(composition)\n",
    "    show_df = show_df[['family', 'Ecoh (eV/atom)', 'a (A)', 'b (A)', 'c (A)']].sort_values('Ecoh (eV/atom)')\n",
    "    display(HTML(show_df.to_html(index=False)))"
   ]
  },
  {
   "cell_type": "markdown",
   "metadata": {},
   "source": [
    "#### Display $C_{ij}$ for primary structure"
   ]
  },
  {
   "cell_type": "code",
   "execution_count": 83,
   "metadata": {
    "collapsed": false
   },
   "outputs": [
    {
     "name": "stdout",
     "output_type": "stream",
     "text": [
      "Cij (GPa) for Ni A1--Cu--fcc =\n",
      "[ 241.3213  150.8085  150.8085    0.0000    0.0000    0.0000]\n",
      "[ 150.8085  241.3213  150.8085    0.0000    0.0000    0.0000]\n",
      "[ 150.8085  150.8085  241.3213    0.0000    0.0000    0.0000]\n",
      "[   0.0000    0.0000    0.0000  127.3403    0.0000    0.0000]\n",
      "[   0.0000    0.0000    0.0000    0.0000  127.3403    0.0000]\n",
      "[   0.0000    0.0000    0.0000    0.0000    0.0000  127.3403]\n",
      "\n",
      "Cij (GPa) for Al A1--Cu--fcc =\n",
      "[ 113.7833   61.5368   61.5368    0.0000    0.0000    0.0000]\n",
      "[  61.5368  113.7833   61.5368    0.0000    0.0000    0.0000]\n",
      "[  61.5368   61.5368  113.7833    0.0000    0.0000    0.0000]\n",
      "[   0.0000    0.0000    0.0000   31.5984    0.0000    0.0000]\n",
      "[   0.0000    0.0000    0.0000    0.0000   31.5984    0.0000]\n",
      "[   0.0000    0.0000    0.0000    0.0000    0.0000   31.5984]\n",
      "\n"
     ]
    }
   ],
   "source": [
    "for i, series in results_df[results_df.family == family].iterrows():\n",
    "    C = series.C\n",
    "    Cij = uc.get_in_units(C.Cij, 'GPa')\n",
    "    print('Cij (GPa) for', series.composition, family, '=')\n",
    "    for Ci in Cij:\n",
    "        print('[%9.4f %9.4f %9.4f %9.4f %9.4f %9.4f]' % tuple(Ci))\n",
    "    print()\n",
    "    "
   ]
  },
  {
   "cell_type": "markdown",
   "metadata": {
    "deletable": true,
    "editable": true
   },
   "source": [
    "## 5. point_defect_static"
   ]
  },
  {
   "cell_type": "code",
   "execution_count": 84,
   "metadata": {
    "collapsed": true,
    "deletable": true,
    "editable": true
   },
   "outputs": [],
   "source": [
    "n = 1\n",
    "calculation_style = 'point_defect_static'\n",
    "record_style = 'calculation_point_defect_formation'\n",
    "sizemults = '10 10 10'\n",
    "parent_calculation_style = 'LAMMPS_ELASTIC'\n",
    "parent_record_style = 'calculation_system_relax'"
   ]
  },
  {
   "cell_type": "markdown",
   "metadata": {
    "deletable": true,
    "editable": true
   },
   "source": [
    "### Prepare"
   ]
  },
  {
   "cell_type": "markdown",
   "metadata": {
    "deletable": true,
    "editable": true
   },
   "source": [
    "Get parent records"
   ]
  },
  {
   "cell_type": "code",
   "execution_count": 85,
   "metadata": {
    "collapsed": false,
    "deletable": true,
    "editable": true
   },
   "outputs": [
    {
     "name": "stdout",
     "output_type": "stream",
     "text": [
      "2 parent records found\n"
     ]
    }
   ],
   "source": [
    "parent_df = dbase.get_records_df(style=parent_record_style, full=True, flat=False)\n",
    "parent_df = parent_df[parent_df.potential_id == potential]\n",
    "parent_df = parent_df[parent_df.calc_script == 'calc_'+parent_calculation_style]\n",
    "parent_df = parent_df[parent_df.family == family]\n",
    "parent_records = dbase.get_records(name=parent_df.calc_key.tolist())\n",
    "\n",
    "print(len(parent_records), 'parent records found')"
   ]
  },
  {
   "cell_type": "markdown",
   "metadata": {
    "deletable": true,
    "editable": true
   },
   "source": [
    "Define prepare function variables"
   ]
  },
  {
   "cell_type": "code",
   "execution_count": 86,
   "metadata": {
    "collapsed": true,
    "deletable": true,
    "editable": true
   },
   "outputs": [],
   "source": [
    "run_directory = run_terms[n]['run_directory']\n",
    "\n",
    "input_dict = {}\n",
    "input_dict['calculation_style'] = calculation_style\n",
    "input_dict['lammps_command'] = run_terms[n]['lammps_command']\n",
    "input_dict['mpi_command'] = run_terms[n]['mpi_command']\n",
    "input_dict['sizemults'] = sizemults\n",
    "input_dict['parent_records'] = parent_records"
   ]
  },
  {
   "cell_type": "markdown",
   "metadata": {
    "deletable": true,
    "editable": true
   },
   "source": [
    "Call prepare"
   ]
  },
  {
   "cell_type": "code",
   "execution_count": 87,
   "metadata": {
    "collapsed": false,
    "deletable": true,
    "editable": true
   },
   "outputs": [],
   "source": [
    "iprPy.highthroughput.prepare(dbase, run_directory, input_dict=input_dict)"
   ]
  },
  {
   "cell_type": "markdown",
   "metadata": {
    "deletable": true,
    "editable": true
   },
   "source": [
    "### Run"
   ]
  },
  {
   "cell_type": "code",
   "execution_count": 88,
   "metadata": {
    "collapsed": false,
    "deletable": true,
    "editable": true
   },
   "outputs": [],
   "source": [
    "iprPy.highthroughput.runner(dbase, run_directory)"
   ]
  },
  {
   "cell_type": "markdown",
   "metadata": {
    "deletable": true,
    "editable": true
   },
   "source": [
    "### Analyze"
   ]
  },
  {
   "cell_type": "markdown",
   "metadata": {
    "deletable": true,
    "editable": true
   },
   "source": [
    "Fetch records"
   ]
  },
  {
   "cell_type": "code",
   "execution_count": 89,
   "metadata": {
    "collapsed": false,
    "deletable": true,
    "editable": true
   },
   "outputs": [
    {
     "name": "stdout",
     "output_type": "stream",
     "text": [
      "18 records found\n"
     ]
    }
   ],
   "source": [
    "results_df = dbase.get_records_df(style=record_style, full=True, flat=False)\n",
    "results_df = results_df[results_df.potential_id == potential]\n",
    "results_df = results_df[results_df.calc_script == 'calc_'+calculation_style]\n",
    "results_df['parent_key'] = [os.path.splitext(parent_key)[0] for parent_key in results_df.load_file]\n",
    "results_df = results_df[results_df.parent_key.isin(parent_df.calc_key)]\n",
    "\n",
    "print(len(results_df), 'records found')"
   ]
  },
  {
   "cell_type": "markdown",
   "metadata": {
    "deletable": true,
    "editable": true
   },
   "source": [
    "Check errors"
   ]
  },
  {
   "cell_type": "code",
   "execution_count": 90,
   "metadata": {
    "collapsed": false,
    "deletable": true,
    "editable": true
   },
   "outputs": [
    {
     "name": "stdout",
     "output_type": "stream",
     "text": [
      "0 issued errors\n"
     ]
    }
   ],
   "source": [
    "error_df = results_df[results_df.status=='error']\n",
    "print(len(error_df), 'issued errors')\n",
    "\n",
    "if len(error_df) > 0:\n",
    "    for error in np.unique(error_df.error.values):\n",
    "        print(error)    "
   ]
  },
  {
   "cell_type": "markdown",
   "metadata": {
    "deletable": true,
    "editable": true
   },
   "source": [
    "Define composition"
   ]
  },
  {
   "cell_type": "code",
   "execution_count": 91,
   "metadata": {
    "collapsed": true,
    "deletable": true,
    "editable": true
   },
   "outputs": [],
   "source": [
    "compositions = []\n",
    "for i, calc in results_df.iterrows():\n",
    "    compositions.append(comp_refine(calc.symbols, counts[calc.family]))\n",
    "results_df = results_df.assign(composition=compositions)"
   ]
  },
  {
   "cell_type": "markdown",
   "metadata": {},
   "source": [
    "#### Display $E^{ptd}_f$"
   ]
  },
  {
   "cell_type": "code",
   "execution_count": 92,
   "metadata": {
    "collapsed": false,
    "deletable": true,
    "editable": true
   },
   "outputs": [
    {
     "name": "stdout",
     "output_type": "stream",
     "text": [
      "Al\n"
     ]
    },
    {
     "data": {
      "text/html": [
       "<table border=\"1\" class=\"dataframe\">\n",
       "  <thead>\n",
       "    <tr style=\"text-align: right;\">\n",
       "      <th>pointdefect_id</th>\n",
       "      <th>E_f (eV)</th>\n",
       "      <th>reconfigured</th>\n",
       "    </tr>\n",
       "  </thead>\n",
       "  <tbody>\n",
       "    <tr>\n",
       "      <td>A1--Cu--fcc--vacancy</td>\n",
       "      <td>0.675330</td>\n",
       "      <td>False</td>\n",
       "    </tr>\n",
       "    <tr>\n",
       "      <td>A1--Cu--fcc--1nn-divacancy</td>\n",
       "      <td>1.361453</td>\n",
       "      <td>False</td>\n",
       "    </tr>\n",
       "    <tr>\n",
       "      <td>A1--Cu--fcc--2nn-divacancy</td>\n",
       "      <td>1.377990</td>\n",
       "      <td>False</td>\n",
       "    </tr>\n",
       "    <tr>\n",
       "      <td>A1--Cu--fcc--100-dumbbell</td>\n",
       "      <td>2.586203</td>\n",
       "      <td>False</td>\n",
       "    </tr>\n",
       "    <tr>\n",
       "      <td>A1--Cu--fcc--octahedral-interstitial</td>\n",
       "      <td>2.786985</td>\n",
       "      <td>False</td>\n",
       "    </tr>\n",
       "    <tr>\n",
       "      <td>A1--Cu--fcc--crowdion-interstitial</td>\n",
       "      <td>2.899777</td>\n",
       "      <td>False</td>\n",
       "    </tr>\n",
       "    <tr>\n",
       "      <td>A1--Cu--fcc--110-dumbbell</td>\n",
       "      <td>2.906438</td>\n",
       "      <td>False</td>\n",
       "    </tr>\n",
       "    <tr>\n",
       "      <td>A1--Cu--fcc--111-dumbbell</td>\n",
       "      <td>3.001311</td>\n",
       "      <td>False</td>\n",
       "    </tr>\n",
       "    <tr>\n",
       "      <td>A1--Cu--fcc--tetrahedral-interstitial</td>\n",
       "      <td>3.089378</td>\n",
       "      <td>False</td>\n",
       "    </tr>\n",
       "  </tbody>\n",
       "</table>"
      ],
      "text/plain": [
       "<IPython.core.display.HTML object>"
      ]
     },
     "metadata": {},
     "output_type": "display_data"
    },
    {
     "name": "stdout",
     "output_type": "stream",
     "text": [
      "Ni\n"
     ]
    },
    {
     "data": {
      "text/html": [
       "<table border=\"1\" class=\"dataframe\">\n",
       "  <thead>\n",
       "    <tr style=\"text-align: right;\">\n",
       "      <th>pointdefect_id</th>\n",
       "      <th>E_f (eV)</th>\n",
       "      <th>reconfigured</th>\n",
       "    </tr>\n",
       "  </thead>\n",
       "  <tbody>\n",
       "    <tr>\n",
       "      <td>A1--Cu--fcc--vacancy</td>\n",
       "      <td>1.571367</td>\n",
       "      <td>False</td>\n",
       "    </tr>\n",
       "    <tr>\n",
       "      <td>A1--Cu--fcc--1nn-divacancy</td>\n",
       "      <td>2.975356</td>\n",
       "      <td>False</td>\n",
       "    </tr>\n",
       "    <tr>\n",
       "      <td>A1--Cu--fcc--2nn-divacancy</td>\n",
       "      <td>3.125092</td>\n",
       "      <td>False</td>\n",
       "    </tr>\n",
       "    <tr>\n",
       "      <td>A1--Cu--fcc--100-dumbbell</td>\n",
       "      <td>3.950914</td>\n",
       "      <td>False</td>\n",
       "    </tr>\n",
       "    <tr>\n",
       "      <td>A1--Cu--fcc--111-dumbbell</td>\n",
       "      <td>4.218501</td>\n",
       "      <td>False</td>\n",
       "    </tr>\n",
       "    <tr>\n",
       "      <td>A1--Cu--fcc--110-dumbbell</td>\n",
       "      <td>4.283308</td>\n",
       "      <td>False</td>\n",
       "    </tr>\n",
       "    <tr>\n",
       "      <td>A1--Cu--fcc--crowdion-interstitial</td>\n",
       "      <td>4.283838</td>\n",
       "      <td>False</td>\n",
       "    </tr>\n",
       "    <tr>\n",
       "      <td>A1--Cu--fcc--octahedral-interstitial</td>\n",
       "      <td>4.309433</td>\n",
       "      <td>False</td>\n",
       "    </tr>\n",
       "    <tr>\n",
       "      <td>A1--Cu--fcc--tetrahedral-interstitial</td>\n",
       "      <td>4.430902</td>\n",
       "      <td>False</td>\n",
       "    </tr>\n",
       "  </tbody>\n",
       "</table>"
      ],
      "text/plain": [
       "<IPython.core.display.HTML object>"
      ]
     },
     "metadata": {},
     "output_type": "display_data"
    }
   ],
   "source": [
    "# Unit conversions\n",
    "results_df['E_f (eV)'] = uc.get_in_units(results_df.E_f, 'eV')\n",
    "\n",
    "# Loop over all compositions\n",
    "for composition in np.unique(results_df.composition):\n",
    "    show_df = results_df[results_df.composition==composition]\n",
    "    \n",
    "    print(composition)\n",
    "    show_df = show_df[['pointdefect_id', 'E_f (eV)', 'reconfigured']].sort_values('E_f (eV)')\n",
    "    display(HTML(show_df.to_html(index=False)))"
   ]
  },
  {
   "cell_type": "markdown",
   "metadata": {
    "deletable": true,
    "editable": true
   },
   "source": [
    "## 6. surface_energy"
   ]
  },
  {
   "cell_type": "code",
   "execution_count": 42,
   "metadata": {
    "collapsed": true,
    "deletable": true,
    "editable": true
   },
   "outputs": [],
   "source": [
    "n = 1\n",
    "calculation_style = 'surface_energy'\n",
    "record_style = 'calculation_surface_energy'\n",
    "sizemults = '5 5 10'\n",
    "parent_calculation_style = 'LAMMPS_ELASTIC'\n",
    "parent_record_style = 'calculation_system_relax'"
   ]
  },
  {
   "cell_type": "markdown",
   "metadata": {
    "deletable": true,
    "editable": true
   },
   "source": [
    "### Prepare"
   ]
  },
  {
   "cell_type": "markdown",
   "metadata": {},
   "source": [
    "Get parent records"
   ]
  },
  {
   "cell_type": "code",
   "execution_count": 60,
   "metadata": {
    "collapsed": false
   },
   "outputs": [
    {
     "name": "stdout",
     "output_type": "stream",
     "text": [
      "2 parent records found\n"
     ]
    }
   ],
   "source": [
    "parent_df = dbase.get_records_df(style=parent_record_style, full=True, flat=False)\n",
    "parent_df = parent_df[parent_df.potential_id == potential]\n",
    "parent_df = parent_df[parent_df.calc_script == 'calc_'+parent_calculation_style]\n",
    "parent_df = parent_df[parent_df.family == family]\n",
    "parent_records = dbase.get_records(name=parent_df.calc_key.tolist())\n",
    "\n",
    "print(len(parent_records), 'parent records found')"
   ]
  },
  {
   "cell_type": "markdown",
   "metadata": {
    "deletable": true,
    "editable": true
   },
   "source": [
    "Define prepare function variables"
   ]
  },
  {
   "cell_type": "code",
   "execution_count": 61,
   "metadata": {
    "collapsed": true,
    "deletable": true,
    "editable": true
   },
   "outputs": [],
   "source": [
    "run_directory = run_terms[n]['run_directory']\n",
    "\n",
    "input_dict = {}\n",
    "input_dict['calculation_style'] = calculation_style\n",
    "input_dict['lammps_command'] = run_terms[n]['lammps_command']\n",
    "input_dict['mpi_command'] = run_terms[n]['mpi_command']\n",
    "input_dict['sizemults'] = sizemults\n",
    "input_dict['parent_records'] = parent_records"
   ]
  },
  {
   "cell_type": "markdown",
   "metadata": {
    "deletable": true,
    "editable": true
   },
   "source": [
    "Call prepare"
   ]
  },
  {
   "cell_type": "code",
   "execution_count": 62,
   "metadata": {
    "collapsed": false,
    "deletable": true,
    "editable": true
   },
   "outputs": [],
   "source": [
    "iprPy.highthroughput.prepare(dbase, run_directory, input_dict=input_dict)"
   ]
  },
  {
   "cell_type": "markdown",
   "metadata": {
    "deletable": true,
    "editable": true
   },
   "source": [
    "### Run"
   ]
  },
  {
   "cell_type": "code",
   "execution_count": 63,
   "metadata": {
    "collapsed": false,
    "deletable": true,
    "editable": true
   },
   "outputs": [],
   "source": [
    "iprPy.highthroughput.runner(dbase, run_directory)"
   ]
  },
  {
   "cell_type": "markdown",
   "metadata": {},
   "source": [
    "### Analyze"
   ]
  },
  {
   "cell_type": "markdown",
   "metadata": {
    "deletable": true,
    "editable": true
   },
   "source": [
    "Fetch records"
   ]
  },
  {
   "cell_type": "code",
   "execution_count": 64,
   "metadata": {
    "collapsed": false
   },
   "outputs": [
    {
     "name": "stdout",
     "output_type": "stream",
     "text": [
      "6 records found\n"
     ]
    }
   ],
   "source": [
    "results_df = dbase.get_records_df(style=record_style, full=True, flat=False)\n",
    "results_df = results_df[results_df.potential_id == potential]\n",
    "results_df = results_df[results_df.calc_script == 'calc_'+calculation_style]\n",
    "results_df['parent_key'] = [os.path.splitext(parent_key)[0] for parent_key in results_df.load_file]\n",
    "results_df = results_df[results_df.parent_key.isin(parent_df.calc_key)]\n",
    "\n",
    "print(len(results_df), 'records found')"
   ]
  },
  {
   "cell_type": "markdown",
   "metadata": {
    "deletable": true,
    "editable": true
   },
   "source": [
    "Check errors"
   ]
  },
  {
   "cell_type": "code",
   "execution_count": 65,
   "metadata": {
    "collapsed": false,
    "deletable": true,
    "editable": true
   },
   "outputs": [
    {
     "name": "stdout",
     "output_type": "stream",
     "text": [
      "0 issued errors\n"
     ]
    }
   ],
   "source": [
    "error_df = results_df[results_df.status=='error']\n",
    "print(len(error_df), 'issued errors')\n",
    "\n",
    "if len(error_df) > 0:\n",
    "    for error in np.unique(error_df.error.values):\n",
    "        print(error)    "
   ]
  },
  {
   "cell_type": "markdown",
   "metadata": {},
   "source": [
    "Define composition"
   ]
  },
  {
   "cell_type": "code",
   "execution_count": 66,
   "metadata": {
    "collapsed": true,
    "deletable": true,
    "editable": true
   },
   "outputs": [],
   "source": [
    "compositions = []\n",
    "for i, calc in results_df.iterrows():\n",
    "    compositions.append(comp_refine(calc.symbols, counts[calc.family]))\n",
    "results_df = results_df.assign(composition=compositions)"
   ]
  },
  {
   "cell_type": "markdown",
   "metadata": {},
   "source": [
    "#### Display $\\gamma_{fs}$"
   ]
  },
  {
   "cell_type": "code",
   "execution_count": 76,
   "metadata": {
    "collapsed": false
   },
   "outputs": [
    {
     "name": "stdout",
     "output_type": "stream",
     "text": [
      "Al\n"
     ]
    },
    {
     "data": {
      "text/html": [
       "<table border=\"1\" class=\"dataframe\">\n",
       "  <thead>\n",
       "    <tr style=\"text-align: right;\">\n",
       "      <th>surface_id</th>\n",
       "      <th>gamma_fs (mJ/m^2)</th>\n",
       "    </tr>\n",
       "  </thead>\n",
       "  <tbody>\n",
       "    <tr>\n",
       "      <td>A1--Cu--fcc--111</td>\n",
       "      <td>870.521179</td>\n",
       "    </tr>\n",
       "    <tr>\n",
       "      <td>A1--Cu--fcc--100</td>\n",
       "      <td>943.590331</td>\n",
       "    </tr>\n",
       "    <tr>\n",
       "      <td>A1--Cu--fcc--110</td>\n",
       "      <td>1006.026801</td>\n",
       "    </tr>\n",
       "  </tbody>\n",
       "</table>"
      ],
      "text/plain": [
       "<IPython.core.display.HTML object>"
      ]
     },
     "metadata": {},
     "output_type": "display_data"
    },
    {
     "name": "stdout",
     "output_type": "stream",
     "text": [
      "Ni\n"
     ]
    },
    {
     "data": {
      "text/html": [
       "<table border=\"1\" class=\"dataframe\">\n",
       "  <thead>\n",
       "    <tr style=\"text-align: right;\">\n",
       "      <th>surface_id</th>\n",
       "      <th>gamma_fs (mJ/m^2)</th>\n",
       "    </tr>\n",
       "  </thead>\n",
       "  <tbody>\n",
       "    <tr>\n",
       "      <td>A1--Cu--fcc--111</td>\n",
       "      <td>1759.096099</td>\n",
       "    </tr>\n",
       "    <tr>\n",
       "      <td>A1--Cu--fcc--100</td>\n",
       "      <td>1936.035517</td>\n",
       "    </tr>\n",
       "    <tr>\n",
       "      <td>A1--Cu--fcc--110</td>\n",
       "      <td>2087.076695</td>\n",
       "    </tr>\n",
       "  </tbody>\n",
       "</table>"
      ],
      "text/plain": [
       "<IPython.core.display.HTML object>"
      ]
     },
     "metadata": {},
     "output_type": "display_data"
    }
   ],
   "source": [
    "# Unit conversions\n",
    "results_df['gamma_fs (mJ/m^2)'] = uc.get_in_units(results_df.gamma_fs, 'mJ/m^2')\n",
    "\n",
    "# Loop over all compositions\n",
    "for composition in np.unique(results_df.composition):\n",
    "    show_df = results_df[results_df.composition==composition]\n",
    "    \n",
    "    print(composition)\n",
    "    show_df = show_df[['surface_id', 'gamma_fs (mJ/m^2)']].sort_values('gamma_fs (mJ/m^2)')\n",
    "    display(HTML(show_df.to_html(index=False)))"
   ]
  },
  {
   "cell_type": "markdown",
   "metadata": {
    "deletable": true,
    "editable": true
   },
   "source": [
    "## 7. Stacking Fault"
   ]
  },
  {
   "cell_type": "code",
   "execution_count": 93,
   "metadata": {
    "collapsed": true,
    "deletable": true,
    "editable": true
   },
   "outputs": [],
   "source": [
    "n = 1\n",
    "calculation_style = 'stacking_fault_multi'\n",
    "record_style = 'calculation_generalized_stacking_fault'\n",
    "sizemults = '5 5 10'\n",
    "numshifts1 = 51 \n",
    "numshifts2 = 51\n",
    "parent_calculation_style = 'LAMMPS_ELASTIC'\n",
    "parent_record_style = 'calculation_system_relax'"
   ]
  },
  {
   "cell_type": "markdown",
   "metadata": {
    "deletable": true,
    "editable": true
   },
   "source": [
    "### Prepare"
   ]
  },
  {
   "cell_type": "markdown",
   "metadata": {},
   "source": [
    "Get parent records"
   ]
  },
  {
   "cell_type": "code",
   "execution_count": 94,
   "metadata": {
    "collapsed": false,
    "deletable": true,
    "editable": true
   },
   "outputs": [
    {
     "name": "stdout",
     "output_type": "stream",
     "text": [
      "2 parent records found\n"
     ]
    }
   ],
   "source": [
    "parent_df = dbase.get_records_df(style=parent_record_style, full=True, flat=False)\n",
    "parent_df = parent_df[parent_df.potential_id == potential]\n",
    "parent_df = parent_df[parent_df.calc_script == 'calc_'+parent_calculation_style]\n",
    "parent_df = parent_df[parent_df.family == family]\n",
    "parent_records = dbase.get_records(name=parent_df.calc_key.tolist())\n",
    "\n",
    "print(len(parent_records), 'parent records found')"
   ]
  },
  {
   "cell_type": "markdown",
   "metadata": {
    "deletable": true,
    "editable": true
   },
   "source": [
    "Define prepare function variables"
   ]
  },
  {
   "cell_type": "code",
   "execution_count": 95,
   "metadata": {
    "collapsed": true,
    "deletable": true,
    "editable": true
   },
   "outputs": [],
   "source": [
    "run_directory = run_terms[n]['run_directory']\n",
    "\n",
    "input_dict = {}\n",
    "input_dict['calculation_style'] = calculation_style\n",
    "input_dict['lammps_command'] = run_terms[n]['lammps_command']\n",
    "input_dict['mpi_command'] = run_terms[n]['mpi_command']\n",
    "input_dict['sizemults'] = sizemults\n",
    "input_dict['stackingfault_numshifts1'] = str(numshifts1)\n",
    "input_dict['stackingfault_numshifts2'] = str(numshifts2)\n",
    "input_dict['parent_records'] = parent_records"
   ]
  },
  {
   "cell_type": "markdown",
   "metadata": {
    "deletable": true,
    "editable": true
   },
   "source": [
    "Call prepare"
   ]
  },
  {
   "cell_type": "code",
   "execution_count": 96,
   "metadata": {
    "collapsed": false,
    "deletable": true,
    "editable": true
   },
   "outputs": [],
   "source": [
    "iprPy.highthroughput.prepare(dbase, run_directory, input_dict=input_dict)"
   ]
  },
  {
   "cell_type": "markdown",
   "metadata": {},
   "source": [
    "### Run"
   ]
  },
  {
   "cell_type": "code",
   "execution_count": 97,
   "metadata": {
    "collapsed": false,
    "deletable": true,
    "editable": true
   },
   "outputs": [],
   "source": [
    "iprPy.highthroughput.runner(dbase, run_directory)"
   ]
  },
  {
   "cell_type": "markdown",
   "metadata": {},
   "source": [
    "### Analyze"
   ]
  },
  {
   "cell_type": "markdown",
   "metadata": {},
   "source": [
    "Fetch records"
   ]
  },
  {
   "cell_type": "code",
   "execution_count": 98,
   "metadata": {
    "collapsed": false,
    "deletable": true,
    "editable": true
   },
   "outputs": [
    {
     "name": "stdout",
     "output_type": "stream",
     "text": [
      "2 records found\n"
     ]
    }
   ],
   "source": [
    "results_df = dbase.get_records_df(style=record_style, full=True, flat=False)\n",
    "results_df = results_df[results_df.potential_id == potential]\n",
    "results_df = results_df[results_df.calc_script == 'calc_'+calculation_style]\n",
    "results_df['parent_key'] = [os.path.splitext(parent_key)[0] for parent_key in results_df.load_file]\n",
    "results_df = results_df[results_df.parent_key.isin(parent_df.calc_key)]\n",
    "\n",
    "print(len(results_df), 'records found')"
   ]
  },
  {
   "cell_type": "markdown",
   "metadata": {},
   "source": [
    "Check errors"
   ]
  },
  {
   "cell_type": "code",
   "execution_count": 99,
   "metadata": {
    "collapsed": false,
    "deletable": true,
    "editable": true
   },
   "outputs": [
    {
     "name": "stdout",
     "output_type": "stream",
     "text": [
      "0 issued errors\n"
     ]
    }
   ],
   "source": [
    "error_df = results_df[results_df.status=='error']\n",
    "print(len(error_df), 'issued errors')\n",
    "\n",
    "if len(error_df) > 0:\n",
    "    for error in np.unique(error_df.error.values):\n",
    "        print(error)    "
   ]
  },
  {
   "cell_type": "markdown",
   "metadata": {},
   "source": [
    "Define composition"
   ]
  },
  {
   "cell_type": "code",
   "execution_count": 100,
   "metadata": {
    "collapsed": true,
    "deletable": true,
    "editable": true
   },
   "outputs": [],
   "source": [
    "compositions = []\n",
    "for i, calc in results_df.iterrows():\n",
    "    compositions.append(comp_refine(calc.symbols, counts[calc.family]))\n",
    "results_df = results_df.assign(composition=compositions)"
   ]
  },
  {
   "cell_type": "markdown",
   "metadata": {},
   "source": [
    "Plot $\\gamma_{gsf}$"
   ]
  },
  {
   "cell_type": "code",
   "execution_count": 101,
   "metadata": {
    "collapsed": false,
    "scrolled": true
   },
   "outputs": [
    {
     "name": "stdout",
     "output_type": "stream",
     "text": [
      "Al\n"
     ]
    },
    {
     "data": {
      "text/html": [
       "\n",
       "\n",
       "    <div class=\"bk-root\">\n",
       "        <div class=\"bk-plotdiv\" id=\"109b189b-eb4f-4fee-8536-d7927c9dd2b2\"></div>\n",
       "    </div>\n",
       "<script type=\"text/javascript\">\n",
       "  \n",
       "  (function(global) {\n",
       "    function now() {\n",
       "      return new Date();\n",
       "    }\n",
       "  \n",
       "    var force = false;\n",
       "  \n",
       "    if (typeof (window._bokeh_onload_callbacks) === \"undefined\" || force === true) {\n",
       "      window._bokeh_onload_callbacks = [];\n",
       "      window._bokeh_is_loading = undefined;\n",
       "    }\n",
       "  \n",
       "  \n",
       "    \n",
       "    if (typeof (window._bokeh_timeout) === \"undefined\" || force === true) {\n",
       "      window._bokeh_timeout = Date.now() + 0;\n",
       "      window._bokeh_failed_load = false;\n",
       "    }\n",
       "  \n",
       "    var NB_LOAD_WARNING = {'data': {'text/html':\n",
       "       \"<div style='background-color: #fdd'>\\n\"+\n",
       "       \"<p>\\n\"+\n",
       "       \"BokehJS does not appear to have successfully loaded. If loading BokehJS from CDN, this \\n\"+\n",
       "       \"may be due to a slow or bad network connection. Possible fixes:\\n\"+\n",
       "       \"</p>\\n\"+\n",
       "       \"<ul>\\n\"+\n",
       "       \"<li>re-rerun `output_notebook()` to attempt to load from CDN again, or</li>\\n\"+\n",
       "       \"<li>use INLINE resources instead, as so:</li>\\n\"+\n",
       "       \"</ul>\\n\"+\n",
       "       \"<code>\\n\"+\n",
       "       \"from bokeh.resources import INLINE\\n\"+\n",
       "       \"output_notebook(resources=INLINE)\\n\"+\n",
       "       \"</code>\\n\"+\n",
       "       \"</div>\"}};\n",
       "  \n",
       "    function display_loaded() {\n",
       "      if (window.Bokeh !== undefined) {\n",
       "        document.getElementById(\"109b189b-eb4f-4fee-8536-d7927c9dd2b2\").textContent = \"BokehJS successfully loaded.\";\n",
       "      } else if (Date.now() < window._bokeh_timeout) {\n",
       "        setTimeout(display_loaded, 100)\n",
       "      }\n",
       "    }\n",
       "  \n",
       "    function run_callbacks() {\n",
       "      window._bokeh_onload_callbacks.forEach(function(callback) { callback() });\n",
       "      delete window._bokeh_onload_callbacks\n",
       "      console.info(\"Bokeh: all callbacks have finished\");\n",
       "    }\n",
       "  \n",
       "    function load_libs(js_urls, callback) {\n",
       "      window._bokeh_onload_callbacks.push(callback);\n",
       "      if (window._bokeh_is_loading > 0) {\n",
       "        console.log(\"Bokeh: BokehJS is being loaded, scheduling callback at\", now());\n",
       "        return null;\n",
       "      }\n",
       "      if (js_urls == null || js_urls.length === 0) {\n",
       "        run_callbacks();\n",
       "        return null;\n",
       "      }\n",
       "      console.log(\"Bokeh: BokehJS not loaded, scheduling load and callback at\", now());\n",
       "      window._bokeh_is_loading = js_urls.length;\n",
       "      for (var i = 0; i < js_urls.length; i++) {\n",
       "        var url = js_urls[i];\n",
       "        var s = document.createElement('script');\n",
       "        s.src = url;\n",
       "        s.async = false;\n",
       "        s.onreadystatechange = s.onload = function() {\n",
       "          window._bokeh_is_loading--;\n",
       "          if (window._bokeh_is_loading === 0) {\n",
       "            console.log(\"Bokeh: all BokehJS libraries loaded\");\n",
       "            run_callbacks()\n",
       "          }\n",
       "        };\n",
       "        s.onerror = function() {\n",
       "          console.warn(\"failed to load library \" + url);\n",
       "        };\n",
       "        console.log(\"Bokeh: injecting script tag for BokehJS library: \", url);\n",
       "        document.getElementsByTagName(\"head\")[0].appendChild(s);\n",
       "      }\n",
       "    };var element = document.getElementById(\"109b189b-eb4f-4fee-8536-d7927c9dd2b2\");\n",
       "    if (element == null) {\n",
       "      console.log(\"Bokeh: ERROR: autoload.js configured with elementid '109b189b-eb4f-4fee-8536-d7927c9dd2b2' but no matching script tag was found. \")\n",
       "      return false;\n",
       "    }\n",
       "  \n",
       "    var js_urls = [];\n",
       "  \n",
       "    var inline_js = [\n",
       "      function(Bokeh) {\n",
       "        (function() {\n",
       "          var fn = function() {\n",
       "            var docs_json = {\"3893b4fc-493c-4d2a-8511-125b9f8a6238\":{\"roots\":{\"references\":[{\"attributes\":{\"axis_label\":\"reduced coordinate\",\"formatter\":{\"id\":\"7c6bb45f-f1d7-498b-be01-a2adf6dc17c6\",\"type\":\"BasicTickFormatter\"},\"plot\":{\"id\":\"b744bafd-12ac-495e-b968-e9d57fe40803\",\"subtype\":\"Figure\",\"type\":\"Plot\"},\"ticker\":{\"id\":\"f29c2373-8275-4806-96d3-d9a4af062fba\",\"type\":\"BasicTicker\"}},\"id\":\"ed9c6bc6-d39a-4150-809a-248f9547eb42\",\"type\":\"LinearAxis\"},{\"attributes\":{\"line_alpha\":{\"value\":0.1},\"line_color\":{\"value\":\"#1f77b4\"},\"line_width\":{\"value\":2},\"x\":{\"field\":\"x\"},\"y\":{\"field\":\"y\"}},\"id\":\"7446148b-b4bb-4243-92e4-dee24541b9ac\",\"type\":\"Line\"},{\"attributes\":{\"bottom_units\":\"screen\",\"fill_alpha\":{\"value\":0.5},\"fill_color\":{\"value\":\"lightgrey\"},\"left_units\":\"screen\",\"level\":\"overlay\",\"line_alpha\":{\"value\":1.0},\"line_color\":{\"value\":\"black\"},\"line_dash\":[4,4],\"line_width\":{\"value\":2},\"plot\":null,\"render_mode\":\"css\",\"right_units\":\"screen\",\"top_units\":\"screen\"},\"id\":\"fc5609ee-26fe-4ae7-87c6-a78dc1552f33\",\"type\":\"BoxAnnotation\"},{\"attributes\":{\"callback\":null},\"id\":\"1eb429f4-bd02-4e7e-b74b-ff3a6dca71e8\",\"type\":\"DataRange1d\"},{\"attributes\":{\"axis_label\":\"Stacking Fault Energy (mJ/m^2)\",\"formatter\":{\"id\":\"5a3bc418-d378-407e-8674-fe6377af8c74\",\"type\":\"BasicTickFormatter\"},\"plot\":{\"id\":\"b744bafd-12ac-495e-b968-e9d57fe40803\",\"subtype\":\"Figure\",\"type\":\"Plot\"},\"ticker\":{\"id\":\"6b9061c7-98bb-4618-b833-41fb0a2bac94\",\"type\":\"BasicTicker\"}},\"id\":\"1ba9c22e-99c6-483c-8b43-2170d7d974b3\",\"type\":\"LinearAxis\"},{\"attributes\":{\"plot\":null,\"text\":\"Generalized Stacking Fault\"},\"id\":\"e3a5ce10-9d25-48f0-91a2-6c244a28c5ec\",\"type\":\"Title\"},{\"attributes\":{\"active_drag\":\"auto\",\"active_scroll\":\"auto\",\"active_tap\":\"auto\",\"tools\":[{\"id\":\"7d906903-3fcd-466e-8c5c-df015870f13e\",\"type\":\"PanTool\"},{\"id\":\"c583ee5f-8df2-480f-9db6-733a16b63fde\",\"type\":\"WheelZoomTool\"},{\"id\":\"9e532107-2f3b-48f9-8d25-a31472acbb4f\",\"type\":\"BoxZoomTool\"},{\"id\":\"9c3360a3-67e2-41a7-8899-d306665b3665\",\"type\":\"SaveTool\"},{\"id\":\"fcb7f852-b19c-4070-9a90-33e97dc2aaf9\",\"type\":\"ResetTool\"},{\"id\":\"793c86dc-b323-4b37-aa05-01d8c3d0d386\",\"type\":\"HelpTool\"}]},\"id\":\"85eaa077-aafc-4f7d-920f-be2df6752010\",\"type\":\"Toolbar\"},{\"attributes\":{\"callback\":null},\"id\":\"723aac81-07c6-4c5a-8440-4364063e71d8\",\"type\":\"DataRange1d\"},{\"attributes\":{},\"id\":\"f29c2373-8275-4806-96d3-d9a4af062fba\",\"type\":\"BasicTicker\"},{\"attributes\":{\"plot\":{\"id\":\"b744bafd-12ac-495e-b968-e9d57fe40803\",\"subtype\":\"Figure\",\"type\":\"Plot\"}},\"id\":\"7d906903-3fcd-466e-8c5c-df015870f13e\",\"type\":\"PanTool\"},{\"attributes\":{},\"id\":\"7c6bb45f-f1d7-498b-be01-a2adf6dc17c6\",\"type\":\"BasicTickFormatter\"},{\"attributes\":{\"dimension\":1,\"plot\":{\"id\":\"b744bafd-12ac-495e-b968-e9d57fe40803\",\"subtype\":\"Figure\",\"type\":\"Plot\"},\"ticker\":{\"id\":\"6b9061c7-98bb-4618-b833-41fb0a2bac94\",\"type\":\"BasicTicker\"}},\"id\":\"662e712e-0281-497b-995e-cfaee638bd48\",\"type\":\"Grid\"},{\"attributes\":{\"plot\":{\"id\":\"b744bafd-12ac-495e-b968-e9d57fe40803\",\"subtype\":\"Figure\",\"type\":\"Plot\"}},\"id\":\"c583ee5f-8df2-480f-9db6-733a16b63fde\",\"type\":\"WheelZoomTool\"},{\"attributes\":{\"data_source\":{\"id\":\"cebdd977-eb3c-48fa-8486-dfae9e222eba\",\"type\":\"ColumnDataSource\"},\"glyph\":{\"id\":\"6353922d-3b03-4819-a322-cca6dda3f159\",\"type\":\"Line\"},\"hover_glyph\":null,\"nonselection_glyph\":{\"id\":\"7446148b-b4bb-4243-92e4-dee24541b9ac\",\"type\":\"Line\"},\"selection_glyph\":null},\"id\":\"a9f0a38d-e8de-4d6a-9149-4355ca1bea65\",\"type\":\"GlyphRenderer\"},{\"attributes\":{\"overlay\":{\"id\":\"fc5609ee-26fe-4ae7-87c6-a78dc1552f33\",\"type\":\"BoxAnnotation\"},\"plot\":{\"id\":\"b744bafd-12ac-495e-b968-e9d57fe40803\",\"subtype\":\"Figure\",\"type\":\"Plot\"}},\"id\":\"9e532107-2f3b-48f9-8d25-a31472acbb4f\",\"type\":\"BoxZoomTool\"},{\"attributes\":{\"callback\":null,\"column_names\":[\"y\",\"x\"],\"data\":{\"x\":{\"__ndarray__\":\"AAAAAAAAAAB7FK5H4XqUP3sUrkfheqQ/uB6F61G4rj97FK5H4Xq0P5qZmZmZmbk/uB6F61G4vj/sUbgehevBP3sUrkfhesQ/CtejcD0Kxz+amZmZmZnJPylcj8L1KMw/uB6F61G4zj+kcD0K16PQP+xRuB6F69E/MzMzMzMz0z97FK5H4XrUP8P1KFyPwtU/CtejcD0K1z9SuB6F61HYP5qZmZmZmdk/4XoUrkfh2j8pXI/C9SjcP3E9CtejcN0/uB6F61G43j8AAAAAAADgP6RwPQrXo+A/SOF6FK5H4T/sUbgehevhP4/C9Shcj+I/MzMzMzMz4z/Xo3A9CtfjP3sUrkfheuQ/H4XrUbge5T/D9Shcj8LlP2dmZmZmZuY/CtejcD0K5z+uR+F6FK7nP1K4HoXrUeg/9ihcj8L16D+amZmZmZnpPz4K16NwPeo/4XoUrkfh6j+F61G4HoXrPylcj8L1KOw/zczMzMzM7D9xPQrXo3DtPxWuR+F6FO4/uB6F61G47j9cj8L1KFzvPwAAAAAAAPA/\",\"dtype\":\"float64\",\"shape\":[51]},\"y\":{\"__ndarray__\":\"AAAAAAAAAAD3BkyNYqr/P/c+T9muex9A3Lz93RZzMUDdU3oud3M+QBEsB11rR0dA3KwFZT1bUEBbeBm0Iq9VQGckQdhjgFtAWxCe+NrSYEBBuR3+YfZjQMRhG6/AGmdAhdB47Ac2akDS9wRRiUFtQAzHKdRaHHBAuzRAZTyLcUC5K172AOtyQDG7Bp4ON3RA3H/KPehndUCqJutTOHN2QBNkxtkITXdAyjnzvkPxd0C/MvbeHmV4QGR9fUZ3r3hAUeajUZTXeEDKiHPIQuR4QL7tplGU13hAZH19RneveEDH2T7fHmV4QMo5875D8XdApVzD2QhNd0CqJutTOHN2QG54xz3oZ3VAMbsGng43dEC5K172AOtyQLs0QGU8i3FADMcp1FoccEDS9wRRiUFtQIXQeOwHNmpAxGEbr8AaZ0BBuR3+YfZjQFsQnvja0mBAZyRB2GOAW0BbeBm0Iq9VQNysBWU9W1BAESwHXWtHR0DdU3oud3M+QNy8/d0WczFA9z5P2a57H0D3BkyNYqr/PwAAAAAAAAAA\",\"dtype\":\"float64\",\"shape\":[51]}}},\"id\":\"cebdd977-eb3c-48fa-8486-dfae9e222eba\",\"type\":\"ColumnDataSource\"},{\"attributes\":{},\"id\":\"5a3bc418-d378-407e-8674-fe6377af8c74\",\"type\":\"BasicTickFormatter\"},{\"attributes\":{},\"id\":\"6b9061c7-98bb-4618-b833-41fb0a2bac94\",\"type\":\"BasicTicker\"},{\"attributes\":{\"line_width\":{\"value\":2},\"x\":{\"field\":\"x\"},\"y\":{\"field\":\"y\"}},\"id\":\"6353922d-3b03-4819-a322-cca6dda3f159\",\"type\":\"Line\"},{\"attributes\":{\"plot\":{\"id\":\"b744bafd-12ac-495e-b968-e9d57fe40803\",\"subtype\":\"Figure\",\"type\":\"Plot\"}},\"id\":\"9c3360a3-67e2-41a7-8899-d306665b3665\",\"type\":\"SaveTool\"},{\"attributes\":{},\"id\":\"59f1fa74-f1a5-4498-b197-9009b71fc6ea\",\"type\":\"ToolEvents\"},{\"attributes\":{\"plot\":{\"id\":\"b744bafd-12ac-495e-b968-e9d57fe40803\",\"subtype\":\"Figure\",\"type\":\"Plot\"},\"ticker\":{\"id\":\"f29c2373-8275-4806-96d3-d9a4af062fba\",\"type\":\"BasicTicker\"}},\"id\":\"6bc04abc-01ba-476f-8734-4355706231f2\",\"type\":\"Grid\"},{\"attributes\":{\"plot\":{\"id\":\"b744bafd-12ac-495e-b968-e9d57fe40803\",\"subtype\":\"Figure\",\"type\":\"Plot\"}},\"id\":\"fcb7f852-b19c-4070-9a90-33e97dc2aaf9\",\"type\":\"ResetTool\"},{\"attributes\":{\"plot\":{\"id\":\"b744bafd-12ac-495e-b968-e9d57fe40803\",\"subtype\":\"Figure\",\"type\":\"Plot\"}},\"id\":\"793c86dc-b323-4b37-aa05-01d8c3d0d386\",\"type\":\"HelpTool\"},{\"attributes\":{\"below\":[{\"id\":\"ed9c6bc6-d39a-4150-809a-248f9547eb42\",\"type\":\"LinearAxis\"}],\"left\":[{\"id\":\"1ba9c22e-99c6-483c-8b43-2170d7d974b3\",\"type\":\"LinearAxis\"}],\"plot_width\":800,\"renderers\":[{\"id\":\"ed9c6bc6-d39a-4150-809a-248f9547eb42\",\"type\":\"LinearAxis\"},{\"id\":\"6bc04abc-01ba-476f-8734-4355706231f2\",\"type\":\"Grid\"},{\"id\":\"1ba9c22e-99c6-483c-8b43-2170d7d974b3\",\"type\":\"LinearAxis\"},{\"id\":\"662e712e-0281-497b-995e-cfaee638bd48\",\"type\":\"Grid\"},{\"id\":\"fc5609ee-26fe-4ae7-87c6-a78dc1552f33\",\"type\":\"BoxAnnotation\"},{\"id\":\"a9f0a38d-e8de-4d6a-9149-4355ca1bea65\",\"type\":\"GlyphRenderer\"}],\"title\":{\"id\":\"e3a5ce10-9d25-48f0-91a2-6c244a28c5ec\",\"type\":\"Title\"},\"tool_events\":{\"id\":\"59f1fa74-f1a5-4498-b197-9009b71fc6ea\",\"type\":\"ToolEvents\"},\"toolbar\":{\"id\":\"85eaa077-aafc-4f7d-920f-be2df6752010\",\"type\":\"Toolbar\"},\"x_range\":{\"id\":\"1eb429f4-bd02-4e7e-b74b-ff3a6dca71e8\",\"type\":\"DataRange1d\"},\"y_range\":{\"id\":\"723aac81-07c6-4c5a-8440-4364063e71d8\",\"type\":\"DataRange1d\"}},\"id\":\"b744bafd-12ac-495e-b968-e9d57fe40803\",\"subtype\":\"Figure\",\"type\":\"Plot\"}],\"root_ids\":[\"b744bafd-12ac-495e-b968-e9d57fe40803\"]},\"title\":\"Bokeh Application\",\"version\":\"0.12.4\"}};\n",
       "            var render_items = [{\"docid\":\"3893b4fc-493c-4d2a-8511-125b9f8a6238\",\"elementid\":\"109b189b-eb4f-4fee-8536-d7927c9dd2b2\",\"modelid\":\"b744bafd-12ac-495e-b968-e9d57fe40803\"}];\n",
       "            \n",
       "            Bokeh.embed.embed_items(docs_json, render_items);\n",
       "          };\n",
       "          if (document.readyState != \"loading\") fn();\n",
       "          else document.addEventListener(\"DOMContentLoaded\", fn);\n",
       "        })();\n",
       "      },\n",
       "      function(Bokeh) {\n",
       "      }\n",
       "    ];\n",
       "  \n",
       "    function run_inline_js() {\n",
       "      \n",
       "      if ((window.Bokeh !== undefined) || (force === true)) {\n",
       "        for (var i = 0; i < inline_js.length; i++) {\n",
       "          inline_js[i](window.Bokeh);\n",
       "        }if (force === true) {\n",
       "          display_loaded();\n",
       "        }} else if (Date.now() < window._bokeh_timeout) {\n",
       "        setTimeout(run_inline_js, 100);\n",
       "      } else if (!window._bokeh_failed_load) {\n",
       "        console.log(\"Bokeh: BokehJS failed to load within specified timeout.\");\n",
       "        window._bokeh_failed_load = true;\n",
       "      } else if (force !== true) {\n",
       "        var cell = $(document.getElementById(\"109b189b-eb4f-4fee-8536-d7927c9dd2b2\")).parents('.cell').data().cell;\n",
       "        cell.output_area.append_execute_result(NB_LOAD_WARNING)\n",
       "      }\n",
       "  \n",
       "    }\n",
       "  \n",
       "    if (window._bokeh_is_loading === 0) {\n",
       "      console.log(\"Bokeh: BokehJS loaded, going straight to plotting\");\n",
       "      run_inline_js();\n",
       "    } else {\n",
       "      load_libs(js_urls, function() {\n",
       "        console.log(\"Bokeh: BokehJS plotting callback run at\", now());\n",
       "        run_inline_js();\n",
       "      });\n",
       "    }\n",
       "  }(this));\n",
       "</script>"
      ]
     },
     "metadata": {},
     "output_type": "display_data"
    },
    {
     "data": {
      "text/html": [
       "\n",
       "\n",
       "    <div class=\"bk-root\">\n",
       "        <div class=\"bk-plotdiv\" id=\"d3592cb0-af2a-4206-99ce-1be0b75e5dc9\"></div>\n",
       "    </div>\n",
       "<script type=\"text/javascript\">\n",
       "  \n",
       "  (function(global) {\n",
       "    function now() {\n",
       "      return new Date();\n",
       "    }\n",
       "  \n",
       "    var force = false;\n",
       "  \n",
       "    if (typeof (window._bokeh_onload_callbacks) === \"undefined\" || force === true) {\n",
       "      window._bokeh_onload_callbacks = [];\n",
       "      window._bokeh_is_loading = undefined;\n",
       "    }\n",
       "  \n",
       "  \n",
       "    \n",
       "    if (typeof (window._bokeh_timeout) === \"undefined\" || force === true) {\n",
       "      window._bokeh_timeout = Date.now() + 0;\n",
       "      window._bokeh_failed_load = false;\n",
       "    }\n",
       "  \n",
       "    var NB_LOAD_WARNING = {'data': {'text/html':\n",
       "       \"<div style='background-color: #fdd'>\\n\"+\n",
       "       \"<p>\\n\"+\n",
       "       \"BokehJS does not appear to have successfully loaded. If loading BokehJS from CDN, this \\n\"+\n",
       "       \"may be due to a slow or bad network connection. Possible fixes:\\n\"+\n",
       "       \"</p>\\n\"+\n",
       "       \"<ul>\\n\"+\n",
       "       \"<li>re-rerun `output_notebook()` to attempt to load from CDN again, or</li>\\n\"+\n",
       "       \"<li>use INLINE resources instead, as so:</li>\\n\"+\n",
       "       \"</ul>\\n\"+\n",
       "       \"<code>\\n\"+\n",
       "       \"from bokeh.resources import INLINE\\n\"+\n",
       "       \"output_notebook(resources=INLINE)\\n\"+\n",
       "       \"</code>\\n\"+\n",
       "       \"</div>\"}};\n",
       "  \n",
       "    function display_loaded() {\n",
       "      if (window.Bokeh !== undefined) {\n",
       "        document.getElementById(\"d3592cb0-af2a-4206-99ce-1be0b75e5dc9\").textContent = \"BokehJS successfully loaded.\";\n",
       "      } else if (Date.now() < window._bokeh_timeout) {\n",
       "        setTimeout(display_loaded, 100)\n",
       "      }\n",
       "    }\n",
       "  \n",
       "    function run_callbacks() {\n",
       "      window._bokeh_onload_callbacks.forEach(function(callback) { callback() });\n",
       "      delete window._bokeh_onload_callbacks\n",
       "      console.info(\"Bokeh: all callbacks have finished\");\n",
       "    }\n",
       "  \n",
       "    function load_libs(js_urls, callback) {\n",
       "      window._bokeh_onload_callbacks.push(callback);\n",
       "      if (window._bokeh_is_loading > 0) {\n",
       "        console.log(\"Bokeh: BokehJS is being loaded, scheduling callback at\", now());\n",
       "        return null;\n",
       "      }\n",
       "      if (js_urls == null || js_urls.length === 0) {\n",
       "        run_callbacks();\n",
       "        return null;\n",
       "      }\n",
       "      console.log(\"Bokeh: BokehJS not loaded, scheduling load and callback at\", now());\n",
       "      window._bokeh_is_loading = js_urls.length;\n",
       "      for (var i = 0; i < js_urls.length; i++) {\n",
       "        var url = js_urls[i];\n",
       "        var s = document.createElement('script');\n",
       "        s.src = url;\n",
       "        s.async = false;\n",
       "        s.onreadystatechange = s.onload = function() {\n",
       "          window._bokeh_is_loading--;\n",
       "          if (window._bokeh_is_loading === 0) {\n",
       "            console.log(\"Bokeh: all BokehJS libraries loaded\");\n",
       "            run_callbacks()\n",
       "          }\n",
       "        };\n",
       "        s.onerror = function() {\n",
       "          console.warn(\"failed to load library \" + url);\n",
       "        };\n",
       "        console.log(\"Bokeh: injecting script tag for BokehJS library: \", url);\n",
       "        document.getElementsByTagName(\"head\")[0].appendChild(s);\n",
       "      }\n",
       "    };var element = document.getElementById(\"d3592cb0-af2a-4206-99ce-1be0b75e5dc9\");\n",
       "    if (element == null) {\n",
       "      console.log(\"Bokeh: ERROR: autoload.js configured with elementid 'd3592cb0-af2a-4206-99ce-1be0b75e5dc9' but no matching script tag was found. \")\n",
       "      return false;\n",
       "    }\n",
       "  \n",
       "    var js_urls = [];\n",
       "  \n",
       "    var inline_js = [\n",
       "      function(Bokeh) {\n",
       "        (function() {\n",
       "          var fn = function() {\n",
       "            var docs_json = {\"3b04b956-04eb-48ed-9729-c204c5b4a26a\":{\"roots\":{\"references\":[{\"attributes\":{\"data_source\":{\"id\":\"1db143ce-311a-4872-b69f-52a903c4e1c1\",\"type\":\"ColumnDataSource\"},\"glyph\":{\"id\":\"6104ec9e-79be-42ad-a5b8-b532b7a21792\",\"type\":\"Line\"},\"hover_glyph\":null,\"nonselection_glyph\":{\"id\":\"57db8bd0-d61c-4806-b8d2-3426c5e72b93\",\"type\":\"Line\"},\"selection_glyph\":null},\"id\":\"a825e4b3-931c-4d19-9b8b-cb90abbd8bcc\",\"type\":\"GlyphRenderer\"},{\"attributes\":{\"overlay\":{\"id\":\"b5497a71-2e2d-495a-b715-d4e8699c3411\",\"type\":\"BoxAnnotation\"},\"plot\":{\"id\":\"94eab500-ad15-4844-9f90-87b9dd038f12\",\"subtype\":\"Figure\",\"type\":\"Plot\"}},\"id\":\"51251f93-8088-4241-84f8-d494a9f5f3c3\",\"type\":\"BoxZoomTool\"},{\"attributes\":{},\"id\":\"6217bc8f-39d9-43dd-b278-eb5897abb2b2\",\"type\":\"BasicTicker\"},{\"attributes\":{\"line_alpha\":{\"value\":0.1},\"line_color\":{\"value\":\"#1f77b4\"},\"line_width\":{\"value\":2},\"x\":{\"field\":\"x\"},\"y\":{\"field\":\"y\"}},\"id\":\"57db8bd0-d61c-4806-b8d2-3426c5e72b93\",\"type\":\"Line\"},{\"attributes\":{},\"id\":\"679512e9-58c7-421a-8b27-f8295f33cc38\",\"type\":\"ToolEvents\"},{\"attributes\":{\"dimension\":1,\"plot\":{\"id\":\"94eab500-ad15-4844-9f90-87b9dd038f12\",\"subtype\":\"Figure\",\"type\":\"Plot\"},\"ticker\":{\"id\":\"6217bc8f-39d9-43dd-b278-eb5897abb2b2\",\"type\":\"BasicTicker\"}},\"id\":\"505f8036-6ed5-4249-85ff-ea88ba0493c2\",\"type\":\"Grid\"},{\"attributes\":{\"plot\":{\"id\":\"94eab500-ad15-4844-9f90-87b9dd038f12\",\"subtype\":\"Figure\",\"type\":\"Plot\"}},\"id\":\"6a8cb662-33ff-4a27-8631-7bdf93498746\",\"type\":\"ResetTool\"},{\"attributes\":{\"callback\":null},\"id\":\"76a86f82-4539-41c3-9672-e4576e7ee030\",\"type\":\"DataRange1d\"},{\"attributes\":{},\"id\":\"9225c3bf-25c9-4a8e-87ad-4adfb612ba6d\",\"type\":\"BasicTickFormatter\"},{\"attributes\":{\"plot\":{\"id\":\"94eab500-ad15-4844-9f90-87b9dd038f12\",\"subtype\":\"Figure\",\"type\":\"Plot\"}},\"id\":\"40953f85-2411-45bc-8119-a153f72a948e\",\"type\":\"PanTool\"},{\"attributes\":{\"plot\":{\"id\":\"94eab500-ad15-4844-9f90-87b9dd038f12\",\"subtype\":\"Figure\",\"type\":\"Plot\"}},\"id\":\"51c582be-a567-4bbc-90ea-8e07ee0e163c\",\"type\":\"SaveTool\"},{\"attributes\":{\"plot\":{\"id\":\"94eab500-ad15-4844-9f90-87b9dd038f12\",\"subtype\":\"Figure\",\"type\":\"Plot\"},\"ticker\":{\"id\":\"5ca45307-402a-41c8-b0d0-a471e5cb05ee\",\"type\":\"BasicTicker\"}},\"id\":\"373f1f69-663f-4e30-8f2d-795572bc5b4d\",\"type\":\"Grid\"},{\"attributes\":{\"callback\":null,\"column_names\":[\"y\",\"x\"],\"data\":{\"x\":{\"__ndarray__\":\"AAAAAAAAAAB7FK5H4XqUP3sUrkfheqQ/uB6F61G4rj97FK5H4Xq0P5qZmZmZmbk/uB6F61G4vj/sUbgehevBP3sUrkfhesQ/CtejcD0Kxz+amZmZmZnJPylcj8L1KMw/uB6F61G4zj+kcD0K16PQP+xRuB6F69E/MzMzMzMz0z97FK5H4XrUP8P1KFyPwtU/CtejcD0K1z9SuB6F61HYP5qZmZmZmdk/4XoUrkfh2j8pXI/C9SjcP3E9CtejcN0/uB6F61G43j8AAAAAAADgP6RwPQrXo+A/SOF6FK5H4T/sUbgehevhP4/C9Shcj+I/MzMzMzMz4z/Xo3A9CtfjP3sUrkfheuQ/H4XrUbge5T/D9Shcj8LlP2dmZmZmZuY/CtejcD0K5z+uR+F6FK7nP1K4HoXrUeg/9ihcj8L16D+amZmZmZnpPz4K16NwPeo/4XoUrkfh6j+F61G4HoXrPylcj8L1KOw/zczMzMzM7D9xPQrXo3DtPxWuR+F6FO4/uB6F61G47j9cj8L1KFzvPwAAAAAAAPA/\",\"dtype\":\"float64\",\"shape\":[51]},\"y\":{\"__ndarray__\":\"AAAAAAAAAACCsoQRILMWQCkS++151DRAoeqse9rLRECQq+gp4xlQQFtFRK7dzFVAGNBFXeIXW0BNoBBoC8BfQPwyttN4uWFAznGdIw8PY0DZW66rtPtjQEuTCULknGRAtP/p0lTqZEACHmEURb1kQBS5c05KEGRAZYacpEccY0DPEojpzVpiQMj2azReO2JAJxq1GIH6YkBpwzRy0bFkQKPrZWr8XGdANcpkYd0Ca0CsXlQhwq1vQLH5X6vxmnJAkBx5Bq6ydUDKiHPIQuR4QEY9TVmQ7ntA2bPrH8yyfkCSNB77LIuAQO4Wnfn4ZoFA6fRjfxjWgUAmpxIMBvmBQL9nws9R/oFA5SlQEIH/gUDqEmi5R/+BQNeSod4o/YFAoX7jK0b0gUCt1y6jxMmBQHfk3CLQWIFABybmPjRpgEDeEz+5sBR+QBZG3IrkunpA5uC5yUvfdkDCQBJpmahyQP1lSs7yp2xAgAwu/21eZEB0HZTORzdaQAMMaXM1NU1ANqIJV7tTOUDH6QyfsJoYQAAAAAAAAAAA\",\"dtype\":\"float64\",\"shape\":[51]}}},\"id\":\"1db143ce-311a-4872-b69f-52a903c4e1c1\",\"type\":\"ColumnDataSource\"},{\"attributes\":{\"plot\":null,\"text\":\"Generalized Stacking Fault\"},\"id\":\"949b4d3f-581d-40a1-a854-59dc1b279c76\",\"type\":\"Title\"},{\"attributes\":{\"active_drag\":\"auto\",\"active_scroll\":\"auto\",\"active_tap\":\"auto\",\"tools\":[{\"id\":\"40953f85-2411-45bc-8119-a153f72a948e\",\"type\":\"PanTool\"},{\"id\":\"2547058c-3a69-4c1a-b965-cc6054d7663b\",\"type\":\"WheelZoomTool\"},{\"id\":\"51251f93-8088-4241-84f8-d494a9f5f3c3\",\"type\":\"BoxZoomTool\"},{\"id\":\"51c582be-a567-4bbc-90ea-8e07ee0e163c\",\"type\":\"SaveTool\"},{\"id\":\"6a8cb662-33ff-4a27-8631-7bdf93498746\",\"type\":\"ResetTool\"},{\"id\":\"378fca55-048b-446c-99ad-eab92beb65c1\",\"type\":\"HelpTool\"}]},\"id\":\"a72c7e43-1c5c-48d1-b130-24933db4765e\",\"type\":\"Toolbar\"},{\"attributes\":{\"plot\":{\"id\":\"94eab500-ad15-4844-9f90-87b9dd038f12\",\"subtype\":\"Figure\",\"type\":\"Plot\"}},\"id\":\"2547058c-3a69-4c1a-b965-cc6054d7663b\",\"type\":\"WheelZoomTool\"},{\"attributes\":{\"axis_label\":\"reduced coordinate\",\"formatter\":{\"id\":\"554fecb2-283c-456d-af77-bf29d24c3185\",\"type\":\"BasicTickFormatter\"},\"plot\":{\"id\":\"94eab500-ad15-4844-9f90-87b9dd038f12\",\"subtype\":\"Figure\",\"type\":\"Plot\"},\"ticker\":{\"id\":\"5ca45307-402a-41c8-b0d0-a471e5cb05ee\",\"type\":\"BasicTicker\"}},\"id\":\"0a3ab976-5fec-423b-9bbb-e88e7d151513\",\"type\":\"LinearAxis\"},{\"attributes\":{\"plot\":{\"id\":\"94eab500-ad15-4844-9f90-87b9dd038f12\",\"subtype\":\"Figure\",\"type\":\"Plot\"}},\"id\":\"378fca55-048b-446c-99ad-eab92beb65c1\",\"type\":\"HelpTool\"},{\"attributes\":{\"axis_label\":\"Stacking Fault Energy (mJ/m^2)\",\"formatter\":{\"id\":\"9225c3bf-25c9-4a8e-87ad-4adfb612ba6d\",\"type\":\"BasicTickFormatter\"},\"plot\":{\"id\":\"94eab500-ad15-4844-9f90-87b9dd038f12\",\"subtype\":\"Figure\",\"type\":\"Plot\"},\"ticker\":{\"id\":\"6217bc8f-39d9-43dd-b278-eb5897abb2b2\",\"type\":\"BasicTicker\"}},\"id\":\"68592141-b4ca-48da-a055-65ad56f19d7d\",\"type\":\"LinearAxis\"},{\"attributes\":{},\"id\":\"5ca45307-402a-41c8-b0d0-a471e5cb05ee\",\"type\":\"BasicTicker\"},{\"attributes\":{},\"id\":\"554fecb2-283c-456d-af77-bf29d24c3185\",\"type\":\"BasicTickFormatter\"},{\"attributes\":{\"line_width\":{\"value\":2},\"x\":{\"field\":\"x\"},\"y\":{\"field\":\"y\"}},\"id\":\"6104ec9e-79be-42ad-a5b8-b532b7a21792\",\"type\":\"Line\"},{\"attributes\":{\"below\":[{\"id\":\"0a3ab976-5fec-423b-9bbb-e88e7d151513\",\"type\":\"LinearAxis\"}],\"left\":[{\"id\":\"68592141-b4ca-48da-a055-65ad56f19d7d\",\"type\":\"LinearAxis\"}],\"plot_width\":800,\"renderers\":[{\"id\":\"0a3ab976-5fec-423b-9bbb-e88e7d151513\",\"type\":\"LinearAxis\"},{\"id\":\"373f1f69-663f-4e30-8f2d-795572bc5b4d\",\"type\":\"Grid\"},{\"id\":\"68592141-b4ca-48da-a055-65ad56f19d7d\",\"type\":\"LinearAxis\"},{\"id\":\"505f8036-6ed5-4249-85ff-ea88ba0493c2\",\"type\":\"Grid\"},{\"id\":\"b5497a71-2e2d-495a-b715-d4e8699c3411\",\"type\":\"BoxAnnotation\"},{\"id\":\"a825e4b3-931c-4d19-9b8b-cb90abbd8bcc\",\"type\":\"GlyphRenderer\"}],\"title\":{\"id\":\"949b4d3f-581d-40a1-a854-59dc1b279c76\",\"type\":\"Title\"},\"tool_events\":{\"id\":\"679512e9-58c7-421a-8b27-f8295f33cc38\",\"type\":\"ToolEvents\"},\"toolbar\":{\"id\":\"a72c7e43-1c5c-48d1-b130-24933db4765e\",\"type\":\"Toolbar\"},\"x_range\":{\"id\":\"76a86f82-4539-41c3-9672-e4576e7ee030\",\"type\":\"DataRange1d\"},\"y_range\":{\"id\":\"dbc031af-a343-4e75-a668-111fd65622d4\",\"type\":\"DataRange1d\"}},\"id\":\"94eab500-ad15-4844-9f90-87b9dd038f12\",\"subtype\":\"Figure\",\"type\":\"Plot\"},{\"attributes\":{\"bottom_units\":\"screen\",\"fill_alpha\":{\"value\":0.5},\"fill_color\":{\"value\":\"lightgrey\"},\"left_units\":\"screen\",\"level\":\"overlay\",\"line_alpha\":{\"value\":1.0},\"line_color\":{\"value\":\"black\"},\"line_dash\":[4,4],\"line_width\":{\"value\":2},\"plot\":null,\"render_mode\":\"css\",\"right_units\":\"screen\",\"top_units\":\"screen\"},\"id\":\"b5497a71-2e2d-495a-b715-d4e8699c3411\",\"type\":\"BoxAnnotation\"},{\"attributes\":{\"callback\":null},\"id\":\"dbc031af-a343-4e75-a668-111fd65622d4\",\"type\":\"DataRange1d\"}],\"root_ids\":[\"94eab500-ad15-4844-9f90-87b9dd038f12\"]},\"title\":\"Bokeh Application\",\"version\":\"0.12.4\"}};\n",
       "            var render_items = [{\"docid\":\"3b04b956-04eb-48ed-9729-c204c5b4a26a\",\"elementid\":\"d3592cb0-af2a-4206-99ce-1be0b75e5dc9\",\"modelid\":\"94eab500-ad15-4844-9f90-87b9dd038f12\"}];\n",
       "            \n",
       "            Bokeh.embed.embed_items(docs_json, render_items);\n",
       "          };\n",
       "          if (document.readyState != \"loading\") fn();\n",
       "          else document.addEventListener(\"DOMContentLoaded\", fn);\n",
       "        })();\n",
       "      },\n",
       "      function(Bokeh) {\n",
       "      }\n",
       "    ];\n",
       "  \n",
       "    function run_inline_js() {\n",
       "      \n",
       "      if ((window.Bokeh !== undefined) || (force === true)) {\n",
       "        for (var i = 0; i < inline_js.length; i++) {\n",
       "          inline_js[i](window.Bokeh);\n",
       "        }if (force === true) {\n",
       "          display_loaded();\n",
       "        }} else if (Date.now() < window._bokeh_timeout) {\n",
       "        setTimeout(run_inline_js, 100);\n",
       "      } else if (!window._bokeh_failed_load) {\n",
       "        console.log(\"Bokeh: BokehJS failed to load within specified timeout.\");\n",
       "        window._bokeh_failed_load = true;\n",
       "      } else if (force !== true) {\n",
       "        var cell = $(document.getElementById(\"d3592cb0-af2a-4206-99ce-1be0b75e5dc9\")).parents('.cell').data().cell;\n",
       "        cell.output_area.append_execute_result(NB_LOAD_WARNING)\n",
       "      }\n",
       "  \n",
       "    }\n",
       "  \n",
       "    if (window._bokeh_is_loading === 0) {\n",
       "      console.log(\"Bokeh: BokehJS loaded, going straight to plotting\");\n",
       "      run_inline_js();\n",
       "    } else {\n",
       "      load_libs(js_urls, function() {\n",
       "        console.log(\"Bokeh: BokehJS plotting callback run at\", now());\n",
       "        run_inline_js();\n",
       "      });\n",
       "    }\n",
       "  }(this));\n",
       "</script>"
      ]
     },
     "metadata": {},
     "output_type": "display_data"
    },
    {
     "name": "stdout",
     "output_type": "stream",
     "text": [
      "Ni\n"
     ]
    },
    {
     "data": {
      "text/html": [
       "\n",
       "\n",
       "    <div class=\"bk-root\">\n",
       "        <div class=\"bk-plotdiv\" id=\"a62584eb-64a3-47cd-8dca-13b5b4a205ac\"></div>\n",
       "    </div>\n",
       "<script type=\"text/javascript\">\n",
       "  \n",
       "  (function(global) {\n",
       "    function now() {\n",
       "      return new Date();\n",
       "    }\n",
       "  \n",
       "    var force = false;\n",
       "  \n",
       "    if (typeof (window._bokeh_onload_callbacks) === \"undefined\" || force === true) {\n",
       "      window._bokeh_onload_callbacks = [];\n",
       "      window._bokeh_is_loading = undefined;\n",
       "    }\n",
       "  \n",
       "  \n",
       "    \n",
       "    if (typeof (window._bokeh_timeout) === \"undefined\" || force === true) {\n",
       "      window._bokeh_timeout = Date.now() + 0;\n",
       "      window._bokeh_failed_load = false;\n",
       "    }\n",
       "  \n",
       "    var NB_LOAD_WARNING = {'data': {'text/html':\n",
       "       \"<div style='background-color: #fdd'>\\n\"+\n",
       "       \"<p>\\n\"+\n",
       "       \"BokehJS does not appear to have successfully loaded. If loading BokehJS from CDN, this \\n\"+\n",
       "       \"may be due to a slow or bad network connection. Possible fixes:\\n\"+\n",
       "       \"</p>\\n\"+\n",
       "       \"<ul>\\n\"+\n",
       "       \"<li>re-rerun `output_notebook()` to attempt to load from CDN again, or</li>\\n\"+\n",
       "       \"<li>use INLINE resources instead, as so:</li>\\n\"+\n",
       "       \"</ul>\\n\"+\n",
       "       \"<code>\\n\"+\n",
       "       \"from bokeh.resources import INLINE\\n\"+\n",
       "       \"output_notebook(resources=INLINE)\\n\"+\n",
       "       \"</code>\\n\"+\n",
       "       \"</div>\"}};\n",
       "  \n",
       "    function display_loaded() {\n",
       "      if (window.Bokeh !== undefined) {\n",
       "        document.getElementById(\"a62584eb-64a3-47cd-8dca-13b5b4a205ac\").textContent = \"BokehJS successfully loaded.\";\n",
       "      } else if (Date.now() < window._bokeh_timeout) {\n",
       "        setTimeout(display_loaded, 100)\n",
       "      }\n",
       "    }\n",
       "  \n",
       "    function run_callbacks() {\n",
       "      window._bokeh_onload_callbacks.forEach(function(callback) { callback() });\n",
       "      delete window._bokeh_onload_callbacks\n",
       "      console.info(\"Bokeh: all callbacks have finished\");\n",
       "    }\n",
       "  \n",
       "    function load_libs(js_urls, callback) {\n",
       "      window._bokeh_onload_callbacks.push(callback);\n",
       "      if (window._bokeh_is_loading > 0) {\n",
       "        console.log(\"Bokeh: BokehJS is being loaded, scheduling callback at\", now());\n",
       "        return null;\n",
       "      }\n",
       "      if (js_urls == null || js_urls.length === 0) {\n",
       "        run_callbacks();\n",
       "        return null;\n",
       "      }\n",
       "      console.log(\"Bokeh: BokehJS not loaded, scheduling load and callback at\", now());\n",
       "      window._bokeh_is_loading = js_urls.length;\n",
       "      for (var i = 0; i < js_urls.length; i++) {\n",
       "        var url = js_urls[i];\n",
       "        var s = document.createElement('script');\n",
       "        s.src = url;\n",
       "        s.async = false;\n",
       "        s.onreadystatechange = s.onload = function() {\n",
       "          window._bokeh_is_loading--;\n",
       "          if (window._bokeh_is_loading === 0) {\n",
       "            console.log(\"Bokeh: all BokehJS libraries loaded\");\n",
       "            run_callbacks()\n",
       "          }\n",
       "        };\n",
       "        s.onerror = function() {\n",
       "          console.warn(\"failed to load library \" + url);\n",
       "        };\n",
       "        console.log(\"Bokeh: injecting script tag for BokehJS library: \", url);\n",
       "        document.getElementsByTagName(\"head\")[0].appendChild(s);\n",
       "      }\n",
       "    };var element = document.getElementById(\"a62584eb-64a3-47cd-8dca-13b5b4a205ac\");\n",
       "    if (element == null) {\n",
       "      console.log(\"Bokeh: ERROR: autoload.js configured with elementid 'a62584eb-64a3-47cd-8dca-13b5b4a205ac' but no matching script tag was found. \")\n",
       "      return false;\n",
       "    }\n",
       "  \n",
       "    var js_urls = [];\n",
       "  \n",
       "    var inline_js = [\n",
       "      function(Bokeh) {\n",
       "        (function() {\n",
       "          var fn = function() {\n",
       "            var docs_json = {\"62b7fe6e-926c-4f8a-a10c-1214d9c852d1\":{\"roots\":{\"references\":[{\"attributes\":{},\"id\":\"8af0df88-e32b-4feb-9bb3-650b37611fa2\",\"type\":\"BasicTicker\"},{\"attributes\":{\"line_width\":{\"value\":2},\"x\":{\"field\":\"x\"},\"y\":{\"field\":\"y\"}},\"id\":\"245ab4a9-7834-4795-9da3-3a64fea4f64c\",\"type\":\"Line\"},{\"attributes\":{\"plot\":{\"id\":\"6b018743-df85-4331-8759-7edbf8599e6a\",\"subtype\":\"Figure\",\"type\":\"Plot\"}},\"id\":\"2bbe3da6-77f7-44d0-8c0c-a467df82c79f\",\"type\":\"PanTool\"},{\"attributes\":{\"axis_label\":\"reduced coordinate\",\"formatter\":{\"id\":\"986ed330-2dd8-4243-bc0f-b4680a158c51\",\"type\":\"BasicTickFormatter\"},\"plot\":{\"id\":\"6b018743-df85-4331-8759-7edbf8599e6a\",\"subtype\":\"Figure\",\"type\":\"Plot\"},\"ticker\":{\"id\":\"8af0df88-e32b-4feb-9bb3-650b37611fa2\",\"type\":\"BasicTicker\"}},\"id\":\"66ef05a8-5b48-4452-bf6f-1c92c9fd03f9\",\"type\":\"LinearAxis\"},{\"attributes\":{\"line_alpha\":{\"value\":0.1},\"line_color\":{\"value\":\"#1f77b4\"},\"line_width\":{\"value\":2},\"x\":{\"field\":\"x\"},\"y\":{\"field\":\"y\"}},\"id\":\"6e5dc30e-6f68-473f-b937-ccb97298d7d1\",\"type\":\"Line\"},{\"attributes\":{\"plot\":{\"id\":\"6b018743-df85-4331-8759-7edbf8599e6a\",\"subtype\":\"Figure\",\"type\":\"Plot\"}},\"id\":\"292d3849-a58f-47df-9ff8-35201ed02ef7\",\"type\":\"ResetTool\"},{\"attributes\":{},\"id\":\"517f55ea-d040-4c26-9826-f4ed33f5880d\",\"type\":\"BasicTickFormatter\"},{\"attributes\":{\"plot\":{\"id\":\"6b018743-df85-4331-8759-7edbf8599e6a\",\"subtype\":\"Figure\",\"type\":\"Plot\"},\"ticker\":{\"id\":\"8af0df88-e32b-4feb-9bb3-650b37611fa2\",\"type\":\"BasicTicker\"}},\"id\":\"6814bc91-80b9-4293-8cc0-6ee558989a92\",\"type\":\"Grid\"},{\"attributes\":{\"callback\":null},\"id\":\"54d47fed-798c-4162-b557-4fab875f6c00\",\"type\":\"DataRange1d\"},{\"attributes\":{},\"id\":\"e55dbb23-f1bd-4c78-8d25-0cd57fba39fc\",\"type\":\"ToolEvents\"},{\"attributes\":{\"callback\":null,\"column_names\":[\"y\",\"x\"],\"data\":{\"x\":{\"__ndarray__\":\"AAAAAAAAAAB7FK5H4XqUP3sUrkfheqQ/uB6F61G4rj97FK5H4Xq0P5qZmZmZmbk/uB6F61G4vj/sUbgehevBP3sUrkfhesQ/CtejcD0Kxz+amZmZmZnJPylcj8L1KMw/uB6F61G4zj+kcD0K16PQP+xRuB6F69E/MzMzMzMz0z97FK5H4XrUP8P1KFyPwtU/CtejcD0K1z9SuB6F61HYP5qZmZmZmdk/4XoUrkfh2j8pXI/C9SjcP3E9CtejcN0/uB6F61G43j8AAAAAAADgP6RwPQrXo+A/SOF6FK5H4T/sUbgehevhP4/C9Shcj+I/MzMzMzMz4z/Xo3A9CtfjP3sUrkfheuQ/H4XrUbge5T/D9Shcj8LlP2dmZmZmZuY/CtejcD0K5z+uR+F6FK7nP1K4HoXrUeg/9ihcj8L16D+amZmZmZnpPz4K16NwPeo/4XoUrkfh6j+F61G4HoXrPylcj8L1KOw/zczMzMzM7D9xPQrXo3DtPxWuR+F6FO4/uB6F61G47j9cj8L1KFzvPwAAAAAAAPA/\",\"dtype\":\"float64\",\"shape\":[51]},\"y\":{\"__ndarray__\":\"AAAAAAAAAACk008TPv0QQF9I0XKt6DBAWCf7AGTfQkAIFED2KZdQQPTjJpzdjVlASqxcqRoUYkA37zT+MxloQNoKwyO7uG5AlOZ6vFXpckCxg7mhyqJ2QM04p+eid3pAWNrLZp1WfkCijlqDaReBQJGc1nIc+IJAPgaZrgDGhEDs9rK6aHqGQCfUZGRpD4hAR06tHdB/iUAsQoKBC8eKQBYvqzM64YtABtwyS2PLjED+BTaOY4ONQNsntWnEB45A9Xi6H5NXjkDqK2MOP3KOQPV4uh+TV45A2ye1acQHjkD+BTaOY4ONQAbcMktjy4xAFi+rMzrhi0AsQoKBC8eKQIpPrx3Qf4lAJ9RkZGkPiECH97C6aHqGQD4Gma4AxoRAkZzWchz4gkCijlqDaReBQFjay2adVn5AzTin56J3ekCxg7mhyqJ2QDb4lrxV6XJA2grDI7u4bkA37zT+MxloQEqsXKkaFGJA9OMmnN2NWUAIFED2KZdQQFgn+wBk30JAX0jRcq3oMECk008TPv0QQAAAAAAAAAAA\",\"dtype\":\"float64\",\"shape\":[51]}}},\"id\":\"193be088-9dc7-4141-97f1-98b9fc738891\",\"type\":\"ColumnDataSource\"},{\"attributes\":{\"bottom_units\":\"screen\",\"fill_alpha\":{\"value\":0.5},\"fill_color\":{\"value\":\"lightgrey\"},\"left_units\":\"screen\",\"level\":\"overlay\",\"line_alpha\":{\"value\":1.0},\"line_color\":{\"value\":\"black\"},\"line_dash\":[4,4],\"line_width\":{\"value\":2},\"plot\":null,\"render_mode\":\"css\",\"right_units\":\"screen\",\"top_units\":\"screen\"},\"id\":\"f29e0434-b3ea-4c79-8964-273f45eaa9e0\",\"type\":\"BoxAnnotation\"},{\"attributes\":{\"dimension\":1,\"plot\":{\"id\":\"6b018743-df85-4331-8759-7edbf8599e6a\",\"subtype\":\"Figure\",\"type\":\"Plot\"},\"ticker\":{\"id\":\"1dee27fd-6683-474a-bccf-946ab363f4bb\",\"type\":\"BasicTicker\"}},\"id\":\"18e3b033-0eb2-4944-a2bb-aa5386423c6a\",\"type\":\"Grid\"},{\"attributes\":{\"plot\":{\"id\":\"6b018743-df85-4331-8759-7edbf8599e6a\",\"subtype\":\"Figure\",\"type\":\"Plot\"}},\"id\":\"3c52fa49-2420-4047-b6cc-9f2fbfec0d4e\",\"type\":\"WheelZoomTool\"},{\"attributes\":{\"axis_label\":\"Stacking Fault Energy (mJ/m^2)\",\"formatter\":{\"id\":\"517f55ea-d040-4c26-9826-f4ed33f5880d\",\"type\":\"BasicTickFormatter\"},\"plot\":{\"id\":\"6b018743-df85-4331-8759-7edbf8599e6a\",\"subtype\":\"Figure\",\"type\":\"Plot\"},\"ticker\":{\"id\":\"1dee27fd-6683-474a-bccf-946ab363f4bb\",\"type\":\"BasicTicker\"}},\"id\":\"285dd698-66e1-4479-a56d-f4f73c5de40b\",\"type\":\"LinearAxis\"},{\"attributes\":{\"data_source\":{\"id\":\"193be088-9dc7-4141-97f1-98b9fc738891\",\"type\":\"ColumnDataSource\"},\"glyph\":{\"id\":\"245ab4a9-7834-4795-9da3-3a64fea4f64c\",\"type\":\"Line\"},\"hover_glyph\":null,\"nonselection_glyph\":{\"id\":\"6e5dc30e-6f68-473f-b937-ccb97298d7d1\",\"type\":\"Line\"},\"selection_glyph\":null},\"id\":\"e9111078-c005-4dd0-b4cb-366a3379481f\",\"type\":\"GlyphRenderer\"},{\"attributes\":{\"active_drag\":\"auto\",\"active_scroll\":\"auto\",\"active_tap\":\"auto\",\"tools\":[{\"id\":\"2bbe3da6-77f7-44d0-8c0c-a467df82c79f\",\"type\":\"PanTool\"},{\"id\":\"3c52fa49-2420-4047-b6cc-9f2fbfec0d4e\",\"type\":\"WheelZoomTool\"},{\"id\":\"c9a98376-8ca6-4b02-9c66-30521d720db2\",\"type\":\"BoxZoomTool\"},{\"id\":\"0f282ac8-2906-4b75-ad1f-20ddd094475f\",\"type\":\"SaveTool\"},{\"id\":\"292d3849-a58f-47df-9ff8-35201ed02ef7\",\"type\":\"ResetTool\"},{\"id\":\"2630ee34-9f4c-4fb1-a409-440567b45d71\",\"type\":\"HelpTool\"}]},\"id\":\"42d779a3-6675-43ab-acdd-9d83f9810ef5\",\"type\":\"Toolbar\"},{\"attributes\":{\"plot\":{\"id\":\"6b018743-df85-4331-8759-7edbf8599e6a\",\"subtype\":\"Figure\",\"type\":\"Plot\"}},\"id\":\"0f282ac8-2906-4b75-ad1f-20ddd094475f\",\"type\":\"SaveTool\"},{\"attributes\":{},\"id\":\"1dee27fd-6683-474a-bccf-946ab363f4bb\",\"type\":\"BasicTicker\"},{\"attributes\":{\"plot\":{\"id\":\"6b018743-df85-4331-8759-7edbf8599e6a\",\"subtype\":\"Figure\",\"type\":\"Plot\"}},\"id\":\"2630ee34-9f4c-4fb1-a409-440567b45d71\",\"type\":\"HelpTool\"},{\"attributes\":{},\"id\":\"986ed330-2dd8-4243-bc0f-b4680a158c51\",\"type\":\"BasicTickFormatter\"},{\"attributes\":{\"overlay\":{\"id\":\"f29e0434-b3ea-4c79-8964-273f45eaa9e0\",\"type\":\"BoxAnnotation\"},\"plot\":{\"id\":\"6b018743-df85-4331-8759-7edbf8599e6a\",\"subtype\":\"Figure\",\"type\":\"Plot\"}},\"id\":\"c9a98376-8ca6-4b02-9c66-30521d720db2\",\"type\":\"BoxZoomTool\"},{\"attributes\":{\"plot\":null,\"text\":\"Generalized Stacking Fault\"},\"id\":\"ee0cd943-fb8c-42a1-b28d-f8f7170ba1fa\",\"type\":\"Title\"},{\"attributes\":{\"callback\":null},\"id\":\"96586ced-b918-4355-add4-af11c944f601\",\"type\":\"DataRange1d\"},{\"attributes\":{\"below\":[{\"id\":\"66ef05a8-5b48-4452-bf6f-1c92c9fd03f9\",\"type\":\"LinearAxis\"}],\"left\":[{\"id\":\"285dd698-66e1-4479-a56d-f4f73c5de40b\",\"type\":\"LinearAxis\"}],\"plot_width\":800,\"renderers\":[{\"id\":\"66ef05a8-5b48-4452-bf6f-1c92c9fd03f9\",\"type\":\"LinearAxis\"},{\"id\":\"6814bc91-80b9-4293-8cc0-6ee558989a92\",\"type\":\"Grid\"},{\"id\":\"285dd698-66e1-4479-a56d-f4f73c5de40b\",\"type\":\"LinearAxis\"},{\"id\":\"18e3b033-0eb2-4944-a2bb-aa5386423c6a\",\"type\":\"Grid\"},{\"id\":\"f29e0434-b3ea-4c79-8964-273f45eaa9e0\",\"type\":\"BoxAnnotation\"},{\"id\":\"e9111078-c005-4dd0-b4cb-366a3379481f\",\"type\":\"GlyphRenderer\"}],\"title\":{\"id\":\"ee0cd943-fb8c-42a1-b28d-f8f7170ba1fa\",\"type\":\"Title\"},\"tool_events\":{\"id\":\"e55dbb23-f1bd-4c78-8d25-0cd57fba39fc\",\"type\":\"ToolEvents\"},\"toolbar\":{\"id\":\"42d779a3-6675-43ab-acdd-9d83f9810ef5\",\"type\":\"Toolbar\"},\"x_range\":{\"id\":\"96586ced-b918-4355-add4-af11c944f601\",\"type\":\"DataRange1d\"},\"y_range\":{\"id\":\"54d47fed-798c-4162-b557-4fab875f6c00\",\"type\":\"DataRange1d\"}},\"id\":\"6b018743-df85-4331-8759-7edbf8599e6a\",\"subtype\":\"Figure\",\"type\":\"Plot\"}],\"root_ids\":[\"6b018743-df85-4331-8759-7edbf8599e6a\"]},\"title\":\"Bokeh Application\",\"version\":\"0.12.4\"}};\n",
       "            var render_items = [{\"docid\":\"62b7fe6e-926c-4f8a-a10c-1214d9c852d1\",\"elementid\":\"a62584eb-64a3-47cd-8dca-13b5b4a205ac\",\"modelid\":\"6b018743-df85-4331-8759-7edbf8599e6a\"}];\n",
       "            \n",
       "            Bokeh.embed.embed_items(docs_json, render_items);\n",
       "          };\n",
       "          if (document.readyState != \"loading\") fn();\n",
       "          else document.addEventListener(\"DOMContentLoaded\", fn);\n",
       "        })();\n",
       "      },\n",
       "      function(Bokeh) {\n",
       "      }\n",
       "    ];\n",
       "  \n",
       "    function run_inline_js() {\n",
       "      \n",
       "      if ((window.Bokeh !== undefined) || (force === true)) {\n",
       "        for (var i = 0; i < inline_js.length; i++) {\n",
       "          inline_js[i](window.Bokeh);\n",
       "        }if (force === true) {\n",
       "          display_loaded();\n",
       "        }} else if (Date.now() < window._bokeh_timeout) {\n",
       "        setTimeout(run_inline_js, 100);\n",
       "      } else if (!window._bokeh_failed_load) {\n",
       "        console.log(\"Bokeh: BokehJS failed to load within specified timeout.\");\n",
       "        window._bokeh_failed_load = true;\n",
       "      } else if (force !== true) {\n",
       "        var cell = $(document.getElementById(\"a62584eb-64a3-47cd-8dca-13b5b4a205ac\")).parents('.cell').data().cell;\n",
       "        cell.output_area.append_execute_result(NB_LOAD_WARNING)\n",
       "      }\n",
       "  \n",
       "    }\n",
       "  \n",
       "    if (window._bokeh_is_loading === 0) {\n",
       "      console.log(\"Bokeh: BokehJS loaded, going straight to plotting\");\n",
       "      run_inline_js();\n",
       "    } else {\n",
       "      load_libs(js_urls, function() {\n",
       "        console.log(\"Bokeh: BokehJS plotting callback run at\", now());\n",
       "        run_inline_js();\n",
       "      });\n",
       "    }\n",
       "  }(this));\n",
       "</script>"
      ]
     },
     "metadata": {},
     "output_type": "display_data"
    },
    {
     "data": {
      "text/html": [
       "\n",
       "\n",
       "    <div class=\"bk-root\">\n",
       "        <div class=\"bk-plotdiv\" id=\"eb3806c4-7fae-4abd-a93c-192d4a56cacb\"></div>\n",
       "    </div>\n",
       "<script type=\"text/javascript\">\n",
       "  \n",
       "  (function(global) {\n",
       "    function now() {\n",
       "      return new Date();\n",
       "    }\n",
       "  \n",
       "    var force = false;\n",
       "  \n",
       "    if (typeof (window._bokeh_onload_callbacks) === \"undefined\" || force === true) {\n",
       "      window._bokeh_onload_callbacks = [];\n",
       "      window._bokeh_is_loading = undefined;\n",
       "    }\n",
       "  \n",
       "  \n",
       "    \n",
       "    if (typeof (window._bokeh_timeout) === \"undefined\" || force === true) {\n",
       "      window._bokeh_timeout = Date.now() + 0;\n",
       "      window._bokeh_failed_load = false;\n",
       "    }\n",
       "  \n",
       "    var NB_LOAD_WARNING = {'data': {'text/html':\n",
       "       \"<div style='background-color: #fdd'>\\n\"+\n",
       "       \"<p>\\n\"+\n",
       "       \"BokehJS does not appear to have successfully loaded. If loading BokehJS from CDN, this \\n\"+\n",
       "       \"may be due to a slow or bad network connection. Possible fixes:\\n\"+\n",
       "       \"</p>\\n\"+\n",
       "       \"<ul>\\n\"+\n",
       "       \"<li>re-rerun `output_notebook()` to attempt to load from CDN again, or</li>\\n\"+\n",
       "       \"<li>use INLINE resources instead, as so:</li>\\n\"+\n",
       "       \"</ul>\\n\"+\n",
       "       \"<code>\\n\"+\n",
       "       \"from bokeh.resources import INLINE\\n\"+\n",
       "       \"output_notebook(resources=INLINE)\\n\"+\n",
       "       \"</code>\\n\"+\n",
       "       \"</div>\"}};\n",
       "  \n",
       "    function display_loaded() {\n",
       "      if (window.Bokeh !== undefined) {\n",
       "        document.getElementById(\"eb3806c4-7fae-4abd-a93c-192d4a56cacb\").textContent = \"BokehJS successfully loaded.\";\n",
       "      } else if (Date.now() < window._bokeh_timeout) {\n",
       "        setTimeout(display_loaded, 100)\n",
       "      }\n",
       "    }\n",
       "  \n",
       "    function run_callbacks() {\n",
       "      window._bokeh_onload_callbacks.forEach(function(callback) { callback() });\n",
       "      delete window._bokeh_onload_callbacks\n",
       "      console.info(\"Bokeh: all callbacks have finished\");\n",
       "    }\n",
       "  \n",
       "    function load_libs(js_urls, callback) {\n",
       "      window._bokeh_onload_callbacks.push(callback);\n",
       "      if (window._bokeh_is_loading > 0) {\n",
       "        console.log(\"Bokeh: BokehJS is being loaded, scheduling callback at\", now());\n",
       "        return null;\n",
       "      }\n",
       "      if (js_urls == null || js_urls.length === 0) {\n",
       "        run_callbacks();\n",
       "        return null;\n",
       "      }\n",
       "      console.log(\"Bokeh: BokehJS not loaded, scheduling load and callback at\", now());\n",
       "      window._bokeh_is_loading = js_urls.length;\n",
       "      for (var i = 0; i < js_urls.length; i++) {\n",
       "        var url = js_urls[i];\n",
       "        var s = document.createElement('script');\n",
       "        s.src = url;\n",
       "        s.async = false;\n",
       "        s.onreadystatechange = s.onload = function() {\n",
       "          window._bokeh_is_loading--;\n",
       "          if (window._bokeh_is_loading === 0) {\n",
       "            console.log(\"Bokeh: all BokehJS libraries loaded\");\n",
       "            run_callbacks()\n",
       "          }\n",
       "        };\n",
       "        s.onerror = function() {\n",
       "          console.warn(\"failed to load library \" + url);\n",
       "        };\n",
       "        console.log(\"Bokeh: injecting script tag for BokehJS library: \", url);\n",
       "        document.getElementsByTagName(\"head\")[0].appendChild(s);\n",
       "      }\n",
       "    };var element = document.getElementById(\"eb3806c4-7fae-4abd-a93c-192d4a56cacb\");\n",
       "    if (element == null) {\n",
       "      console.log(\"Bokeh: ERROR: autoload.js configured with elementid 'eb3806c4-7fae-4abd-a93c-192d4a56cacb' but no matching script tag was found. \")\n",
       "      return false;\n",
       "    }\n",
       "  \n",
       "    var js_urls = [];\n",
       "  \n",
       "    var inline_js = [\n",
       "      function(Bokeh) {\n",
       "        (function() {\n",
       "          var fn = function() {\n",
       "            var docs_json = {\"f19c7a8c-1713-43d0-a1d3-8411e95aa0ac\":{\"roots\":{\"references\":[{\"attributes\":{},\"id\":\"6202dc81-db02-4b35-84e6-cbdbdd9a38ea\",\"type\":\"BasicTickFormatter\"},{\"attributes\":{},\"id\":\"a728d5f3-5580-4de4-af14-f274a85faaac\",\"type\":\"BasicTicker\"},{\"attributes\":{\"callback\":null},\"id\":\"3a71c2c3-4f24-4473-9f0e-fa422d226bef\",\"type\":\"DataRange1d\"},{\"attributes\":{\"callback\":null,\"column_names\":[\"y\",\"x\"],\"data\":{\"x\":{\"__ndarray__\":\"AAAAAAAAAAB7FK5H4XqUP3sUrkfheqQ/uB6F61G4rj97FK5H4Xq0P5qZmZmZmbk/uB6F61G4vj/sUbgehevBP3sUrkfhesQ/CtejcD0Kxz+amZmZmZnJPylcj8L1KMw/uB6F61G4zj+kcD0K16PQP+xRuB6F69E/MzMzMzMz0z97FK5H4XrUP8P1KFyPwtU/CtejcD0K1z9SuB6F61HYP5qZmZmZmdk/4XoUrkfh2j8pXI/C9SjcP3E9CtejcN0/uB6F61G43j8AAAAAAADgP6RwPQrXo+A/SOF6FK5H4T/sUbgehevhP4/C9Shcj+I/MzMzMzMz4z/Xo3A9CtfjP3sUrkfheuQ/H4XrUbge5T/D9Shcj8LlP2dmZmZmZuY/CtejcD0K5z+uR+F6FK7nP1K4HoXrUeg/9ihcj8L16D+amZmZmZnpPz4K16NwPeo/4XoUrkfh6j+F61G4HoXrPylcj8L1KOw/zczMzMzM7D9xPQrXo3DtPxWuR+F6FO4/uB6F61G47j9cj8L1KFzvPwAAAAAAAPA/\",\"dtype\":\"float64\",\"shape\":[51]},\"y\":{\"__ndarray__\":\"AAAAAAAAAACY6umj6JwnQFV9WXioh0VARP0VSgvDVUC8FuGqfx5hQECYp1j+TmdAFj4T0hbObECRklPq/JBwQOJpEnML/HFACGgK2IyUckDN/3JG61tyQASY0b+YZXFA/6WUSECpb0A/UhDeb7hrQOcePYBXiWdAxyvuorTRY0AMl90Gf11hQCmzLyMY+mBAOQLHDBpeY0DO/f5aXxFpQJHI4nt7LHFAOrV21feUd0C0hSY4SJJ/QJ9bUIfyZYRA8tCIKpJiiUDqK2MOP3KOQNjaiCCPopFATAkhEhTLk0CwKRTPZ5qVQOpUjgw9BJdAmHBLQ+8HmEC175aj3bCYQEZ7s6gbEZlAQR/i2gc5mUBE9Ur2QTGZQNFwPxUe+JhAbQpGMAaCmED58DSp8byXQPFwXh+KlpZA0mvkRR4ClUA5xZCCbv6SQClAX6inmJBAFRUlKpjai0ANgZdqeEiGQOaGR9Xt04BAwzOTTKOjd0Di1GlCMSFuQAe3Z5dEn2BAVBhwZEGOTEARztFwnjErQAAAAAAAAAAA\",\"dtype\":\"float64\",\"shape\":[51]}}},\"id\":\"ac185c03-f761-4713-84a2-9dd2d7aa4c60\",\"type\":\"ColumnDataSource\"},{\"attributes\":{\"plot\":{\"id\":\"3acfc3c9-1ac0-4ad2-af19-5af6d7cd591b\",\"subtype\":\"Figure\",\"type\":\"Plot\"}},\"id\":\"8a044ef3-2daa-421f-9f83-253e12ad19ba\",\"type\":\"WheelZoomTool\"},{\"attributes\":{\"line_width\":{\"value\":2},\"x\":{\"field\":\"x\"},\"y\":{\"field\":\"y\"}},\"id\":\"da69809b-53f5-4d18-b11b-689a8746908d\",\"type\":\"Line\"},{\"attributes\":{\"plot\":null,\"text\":\"Generalized Stacking Fault\"},\"id\":\"a8c9fbd8-14ee-46dd-b16e-f15b40419d4a\",\"type\":\"Title\"},{\"attributes\":{\"data_source\":{\"id\":\"ac185c03-f761-4713-84a2-9dd2d7aa4c60\",\"type\":\"ColumnDataSource\"},\"glyph\":{\"id\":\"da69809b-53f5-4d18-b11b-689a8746908d\",\"type\":\"Line\"},\"hover_glyph\":null,\"nonselection_glyph\":{\"id\":\"7885dbf5-2c71-4734-b5a0-07cd18a65f47\",\"type\":\"Line\"},\"selection_glyph\":null},\"id\":\"ced6de9a-f940-4b71-bcc2-5dada707218a\",\"type\":\"GlyphRenderer\"},{\"attributes\":{\"line_alpha\":{\"value\":0.1},\"line_color\":{\"value\":\"#1f77b4\"},\"line_width\":{\"value\":2},\"x\":{\"field\":\"x\"},\"y\":{\"field\":\"y\"}},\"id\":\"7885dbf5-2c71-4734-b5a0-07cd18a65f47\",\"type\":\"Line\"},{\"attributes\":{\"axis_label\":\"Stacking Fault Energy (mJ/m^2)\",\"formatter\":{\"id\":\"8479ac23-79ea-454b-8c48-0e0419cfd21e\",\"type\":\"BasicTickFormatter\"},\"plot\":{\"id\":\"3acfc3c9-1ac0-4ad2-af19-5af6d7cd591b\",\"subtype\":\"Figure\",\"type\":\"Plot\"},\"ticker\":{\"id\":\"9a1ba67c-cc8b-42b0-8cf7-2cf66727e18d\",\"type\":\"BasicTicker\"}},\"id\":\"99d177bf-853d-4fd8-85fd-c6b14beacc57\",\"type\":\"LinearAxis\"},{\"attributes\":{\"plot\":{\"id\":\"3acfc3c9-1ac0-4ad2-af19-5af6d7cd591b\",\"subtype\":\"Figure\",\"type\":\"Plot\"}},\"id\":\"7f467ac1-ecb0-44ac-ad41-3b0b8fe20d09\",\"type\":\"HelpTool\"},{\"attributes\":{\"active_drag\":\"auto\",\"active_scroll\":\"auto\",\"active_tap\":\"auto\",\"tools\":[{\"id\":\"71baabd9-6aef-47f0-9d24-5de508a100ae\",\"type\":\"PanTool\"},{\"id\":\"8a044ef3-2daa-421f-9f83-253e12ad19ba\",\"type\":\"WheelZoomTool\"},{\"id\":\"ba4ef3f5-d8e2-4cc1-933d-89a4c81ea138\",\"type\":\"BoxZoomTool\"},{\"id\":\"46b2f088-ed20-4ebb-8c1e-3db98559c86e\",\"type\":\"SaveTool\"},{\"id\":\"284c9ad1-ca81-486a-ad4d-49b5fd70c588\",\"type\":\"ResetTool\"},{\"id\":\"7f467ac1-ecb0-44ac-ad41-3b0b8fe20d09\",\"type\":\"HelpTool\"}]},\"id\":\"fcb15909-9b8b-41ce-aa74-26bfc2c8b9d5\",\"type\":\"Toolbar\"},{\"attributes\":{\"bottom_units\":\"screen\",\"fill_alpha\":{\"value\":0.5},\"fill_color\":{\"value\":\"lightgrey\"},\"left_units\":\"screen\",\"level\":\"overlay\",\"line_alpha\":{\"value\":1.0},\"line_color\":{\"value\":\"black\"},\"line_dash\":[4,4],\"line_width\":{\"value\":2},\"plot\":null,\"render_mode\":\"css\",\"right_units\":\"screen\",\"top_units\":\"screen\"},\"id\":\"f4b65c49-63d5-4c7c-bdcc-419fc79ac02b\",\"type\":\"BoxAnnotation\"},{\"attributes\":{\"callback\":null},\"id\":\"e73caf15-c482-4bfa-a9a2-e6b1acc2f2ad\",\"type\":\"DataRange1d\"},{\"attributes\":{},\"id\":\"faed5fae-a0bf-4d4f-9e70-23b97dea1a91\",\"type\":\"ToolEvents\"},{\"attributes\":{\"overlay\":{\"id\":\"f4b65c49-63d5-4c7c-bdcc-419fc79ac02b\",\"type\":\"BoxAnnotation\"},\"plot\":{\"id\":\"3acfc3c9-1ac0-4ad2-af19-5af6d7cd591b\",\"subtype\":\"Figure\",\"type\":\"Plot\"}},\"id\":\"ba4ef3f5-d8e2-4cc1-933d-89a4c81ea138\",\"type\":\"BoxZoomTool\"},{\"attributes\":{\"plot\":{\"id\":\"3acfc3c9-1ac0-4ad2-af19-5af6d7cd591b\",\"subtype\":\"Figure\",\"type\":\"Plot\"}},\"id\":\"46b2f088-ed20-4ebb-8c1e-3db98559c86e\",\"type\":\"SaveTool\"},{\"attributes\":{\"dimension\":1,\"plot\":{\"id\":\"3acfc3c9-1ac0-4ad2-af19-5af6d7cd591b\",\"subtype\":\"Figure\",\"type\":\"Plot\"},\"ticker\":{\"id\":\"9a1ba67c-cc8b-42b0-8cf7-2cf66727e18d\",\"type\":\"BasicTicker\"}},\"id\":\"dd612346-e451-4f16-8cc3-e73d9bdb4a4e\",\"type\":\"Grid\"},{\"attributes\":{\"plot\":{\"id\":\"3acfc3c9-1ac0-4ad2-af19-5af6d7cd591b\",\"subtype\":\"Figure\",\"type\":\"Plot\"}},\"id\":\"71baabd9-6aef-47f0-9d24-5de508a100ae\",\"type\":\"PanTool\"},{\"attributes\":{\"plot\":{\"id\":\"3acfc3c9-1ac0-4ad2-af19-5af6d7cd591b\",\"subtype\":\"Figure\",\"type\":\"Plot\"}},\"id\":\"284c9ad1-ca81-486a-ad4d-49b5fd70c588\",\"type\":\"ResetTool\"},{\"attributes\":{\"axis_label\":\"reduced coordinate\",\"formatter\":{\"id\":\"6202dc81-db02-4b35-84e6-cbdbdd9a38ea\",\"type\":\"BasicTickFormatter\"},\"plot\":{\"id\":\"3acfc3c9-1ac0-4ad2-af19-5af6d7cd591b\",\"subtype\":\"Figure\",\"type\":\"Plot\"},\"ticker\":{\"id\":\"a728d5f3-5580-4de4-af14-f274a85faaac\",\"type\":\"BasicTicker\"}},\"id\":\"c38e55c9-ff5c-439c-ba85-3df9e1213f29\",\"type\":\"LinearAxis\"},{\"attributes\":{},\"id\":\"8479ac23-79ea-454b-8c48-0e0419cfd21e\",\"type\":\"BasicTickFormatter\"},{\"attributes\":{},\"id\":\"9a1ba67c-cc8b-42b0-8cf7-2cf66727e18d\",\"type\":\"BasicTicker\"},{\"attributes\":{\"plot\":{\"id\":\"3acfc3c9-1ac0-4ad2-af19-5af6d7cd591b\",\"subtype\":\"Figure\",\"type\":\"Plot\"},\"ticker\":{\"id\":\"a728d5f3-5580-4de4-af14-f274a85faaac\",\"type\":\"BasicTicker\"}},\"id\":\"61d1d78b-63a6-4059-ae1f-ad8ce890e9c0\",\"type\":\"Grid\"},{\"attributes\":{\"below\":[{\"id\":\"c38e55c9-ff5c-439c-ba85-3df9e1213f29\",\"type\":\"LinearAxis\"}],\"left\":[{\"id\":\"99d177bf-853d-4fd8-85fd-c6b14beacc57\",\"type\":\"LinearAxis\"}],\"plot_width\":800,\"renderers\":[{\"id\":\"c38e55c9-ff5c-439c-ba85-3df9e1213f29\",\"type\":\"LinearAxis\"},{\"id\":\"61d1d78b-63a6-4059-ae1f-ad8ce890e9c0\",\"type\":\"Grid\"},{\"id\":\"99d177bf-853d-4fd8-85fd-c6b14beacc57\",\"type\":\"LinearAxis\"},{\"id\":\"dd612346-e451-4f16-8cc3-e73d9bdb4a4e\",\"type\":\"Grid\"},{\"id\":\"f4b65c49-63d5-4c7c-bdcc-419fc79ac02b\",\"type\":\"BoxAnnotation\"},{\"id\":\"ced6de9a-f940-4b71-bcc2-5dada707218a\",\"type\":\"GlyphRenderer\"}],\"title\":{\"id\":\"a8c9fbd8-14ee-46dd-b16e-f15b40419d4a\",\"type\":\"Title\"},\"tool_events\":{\"id\":\"faed5fae-a0bf-4d4f-9e70-23b97dea1a91\",\"type\":\"ToolEvents\"},\"toolbar\":{\"id\":\"fcb15909-9b8b-41ce-aa74-26bfc2c8b9d5\",\"type\":\"Toolbar\"},\"x_range\":{\"id\":\"3a71c2c3-4f24-4473-9f0e-fa422d226bef\",\"type\":\"DataRange1d\"},\"y_range\":{\"id\":\"e73caf15-c482-4bfa-a9a2-e6b1acc2f2ad\",\"type\":\"DataRange1d\"}},\"id\":\"3acfc3c9-1ac0-4ad2-af19-5af6d7cd591b\",\"subtype\":\"Figure\",\"type\":\"Plot\"}],\"root_ids\":[\"3acfc3c9-1ac0-4ad2-af19-5af6d7cd591b\"]},\"title\":\"Bokeh Application\",\"version\":\"0.12.4\"}};\n",
       "            var render_items = [{\"docid\":\"f19c7a8c-1713-43d0-a1d3-8411e95aa0ac\",\"elementid\":\"eb3806c4-7fae-4abd-a93c-192d4a56cacb\",\"modelid\":\"3acfc3c9-1ac0-4ad2-af19-5af6d7cd591b\"}];\n",
       "            \n",
       "            Bokeh.embed.embed_items(docs_json, render_items);\n",
       "          };\n",
       "          if (document.readyState != \"loading\") fn();\n",
       "          else document.addEventListener(\"DOMContentLoaded\", fn);\n",
       "        })();\n",
       "      },\n",
       "      function(Bokeh) {\n",
       "      }\n",
       "    ];\n",
       "  \n",
       "    function run_inline_js() {\n",
       "      \n",
       "      if ((window.Bokeh !== undefined) || (force === true)) {\n",
       "        for (var i = 0; i < inline_js.length; i++) {\n",
       "          inline_js[i](window.Bokeh);\n",
       "        }if (force === true) {\n",
       "          display_loaded();\n",
       "        }} else if (Date.now() < window._bokeh_timeout) {\n",
       "        setTimeout(run_inline_js, 100);\n",
       "      } else if (!window._bokeh_failed_load) {\n",
       "        console.log(\"Bokeh: BokehJS failed to load within specified timeout.\");\n",
       "        window._bokeh_failed_load = true;\n",
       "      } else if (force !== true) {\n",
       "        var cell = $(document.getElementById(\"eb3806c4-7fae-4abd-a93c-192d4a56cacb\")).parents('.cell').data().cell;\n",
       "        cell.output_area.append_execute_result(NB_LOAD_WARNING)\n",
       "      }\n",
       "  \n",
       "    }\n",
       "  \n",
       "    if (window._bokeh_is_loading === 0) {\n",
       "      console.log(\"Bokeh: BokehJS loaded, going straight to plotting\");\n",
       "      run_inline_js();\n",
       "    } else {\n",
       "      load_libs(js_urls, function() {\n",
       "        console.log(\"Bokeh: BokehJS plotting callback run at\", now());\n",
       "        run_inline_js();\n",
       "      });\n",
       "    }\n",
       "  }(this));\n",
       "</script>"
      ]
     },
     "metadata": {},
     "output_type": "display_data"
    }
   ],
   "source": [
    "# Loop over records\n",
    "for i, series in results_df.iterrows():\n",
    "    print(series.composition)\n",
    "    \n",
    "    plot_df = series.gsf_plot\n",
    "    plot_df['gamma_gsf (mJ/m^2)'] = uc.get_in_units(plot_df.energy, 'mJ/m^2')\n",
    "    \n",
    "    shift1_df = plot_df[np.isclose(plot_df.shift2, 0.0)]\n",
    "    p = figure(title='Generalized Stacking Fault',\n",
    "              plot_width = 800,\n",
    "              plot_height = 600,\n",
    "              x_axis_label = 'Reduced Coordinate',\n",
    "              y_axis_label = 'Stacking Fault Energy (mJ/m^2)')\n",
    "    p.line(shift1_df.shift1, shift1_df['gamma_gsf (mJ/m^2)'],\n",
    "          line_color='black', line_width=2)\n",
    "    show(p)\n",
    "    \n",
    "    shift2_df = plot_df[np.isclose(plot_df.shift1, 0.0)]    \n",
    "    p = figure(title='Generalized Stacking Fault',\n",
    "              plot_width = 800,\n",
    "              plot_height = 600,\n",
    "              x_axis_label = 'Reduced Coordinate',\n",
    "              y_axis_label = 'Stacking Fault Energy (mJ/m^2)')\n",
    "    p.line(shift2_df.shift2, shift2_df['gamma_gsf (mJ/m^2)'],\n",
    "          line_color='black', line_width=2)\n",
    "    show(p)    "
   ]
  },
  {
   "cell_type": "markdown",
   "metadata": {
    "deletable": true,
    "editable": true
   },
   "source": [
    "## 8. dislocation_monopole"
   ]
  },
  {
   "cell_type": "code",
   "execution_count": 102,
   "metadata": {
    "collapsed": true,
    "deletable": true,
    "editable": true
   },
   "outputs": [],
   "source": [
    "n = 4\n",
    "calculation_style = 'dislocation_monopole'\n",
    "record_style =      'calculation_dislocation_monopole'\n",
    "annealtemperature = 50\n",
    "parent_calculation_style = 'LAMMPS_ELASTIC'\n",
    "parent_record_style = 'calculation_system_relax'\n",
    "\n",
    "sizemults = {}\n",
    "sizemults['A1--Cu--fcc--110-screw'] = '-28 28 -40 40 0 2'\n",
    "sizemults['A1--Cu--fcc--111-edge'] = '-49 49 -40 40 0 2'\n",
    "sizemults['A2--W--bcc--110-edge'] = '-40 40 -28 28 0 2'\n",
    "sizemults['A2--W--bcc--111-screw'] = '-28 28 -49 49 0 2'\n",
    "sizemults['A2--W--bcc--112-edge'] = '-40 40 -49 49 0 2'"
   ]
  },
  {
   "cell_type": "markdown",
   "metadata": {
    "deletable": true,
    "editable": true
   },
   "source": [
    "### Prepare"
   ]
  },
  {
   "cell_type": "markdown",
   "metadata": {},
   "source": [
    "Get parent records"
   ]
  },
  {
   "cell_type": "code",
   "execution_count": 103,
   "metadata": {
    "collapsed": false,
    "deletable": true,
    "editable": true
   },
   "outputs": [
    {
     "name": "stdout",
     "output_type": "stream",
     "text": [
      "2 parent records found\n"
     ]
    }
   ],
   "source": [
    "parent_df = dbase.get_records_df(style=parent_record_style, full=True, flat=False)\n",
    "parent_df = parent_df[parent_df.potential_id == potential]\n",
    "parent_df = parent_df[parent_df.calc_script == 'calc_'+parent_calculation_style]\n",
    "parent_df = parent_df[parent_df.family == family]\n",
    "parent_records = dbase.get_records(name=parent_df.calc_key.tolist())\n",
    "\n",
    "print(len(parent_records), 'parent records found')"
   ]
  },
  {
   "cell_type": "markdown",
   "metadata": {
    "deletable": true,
    "editable": true
   },
   "source": [
    "Define prepare function variables and call prepare"
   ]
  },
  {
   "cell_type": "code",
   "execution_count": 104,
   "metadata": {
    "collapsed": true,
    "deletable": true,
    "editable": true
   },
   "outputs": [],
   "source": [
    "run_directory = run_terms[n]['run_directory']\n",
    "\n",
    "for dislocation_name in sizemults.keys():\n",
    "    input_dict = {}\n",
    "    input_dict['calculation_style'] = 'dislocation_monopole'\n",
    "    input_dict['lammps_command'] = run_terms[n]['lammps_command']\n",
    "    input_dict['mpi_command'] = run_terms[n]['mpi_command']\n",
    "    input_dict['annealtemperature'] = str(annealtemperature)\n",
    "    input_dict['parent_records'] = parent_records\n",
    "    input_dict['dislocation_name'] = dislocation_name\n",
    "    input_dict['sizemults'] = sizemults[dislocation_name]\n",
    "    \n",
    "    iprPy.highthroughput.prepare(dbase, run_directory, input_dict=input_dict)"
   ]
  },
  {
   "cell_type": "markdown",
   "metadata": {},
   "source": [
    "### Run"
   ]
  },
  {
   "cell_type": "code",
   "execution_count": 43,
   "metadata": {
    "collapsed": true,
    "deletable": true,
    "editable": true
   },
   "outputs": [],
   "source": [
    "iprPy.highthroughput.runner(dbase, run_directory)"
   ]
  },
  {
   "cell_type": "markdown",
   "metadata": {},
   "source": [
    "### Analyze"
   ]
  },
  {
   "cell_type": "markdown",
   "metadata": {},
   "source": [
    "Fetch records"
   ]
  },
  {
   "cell_type": "code",
   "execution_count": 98,
   "metadata": {
    "collapsed": false,
    "deletable": true,
    "editable": true
   },
   "outputs": [
    {
     "name": "stdout",
     "output_type": "stream",
     "text": [
      "2 records found\n"
     ]
    }
   ],
   "source": [
    "results_df = dbase.get_records_df(style=record_style, full=True, flat=False)\n",
    "results_df = results_df[results_df.potential_id == potential]\n",
    "results_df = results_df[results_df.calc_script == 'calc_'+calculation_style]\n",
    "results_df['parent_key'] = [os.path.splitext(parent_key)[0] for parent_key in results_df.load_file]\n",
    "results_df = results_df[results_df.parent_key.isin(parent_df.calc_key)]\n",
    "\n",
    "print(len(results_df), 'records found')"
   ]
  },
  {
   "cell_type": "markdown",
   "metadata": {
    "deletable": true,
    "editable": true
   },
   "source": [
    "Check errors"
   ]
  },
  {
   "cell_type": "code",
   "execution_count": 99,
   "metadata": {
    "collapsed": false,
    "deletable": true,
    "editable": true
   },
   "outputs": [
    {
     "name": "stdout",
     "output_type": "stream",
     "text": [
      "0 issued errors\n"
     ]
    }
   ],
   "source": [
    "error_df = results_df[results_df.status=='error']\n",
    "print(len(error_df), 'issued errors')\n",
    "\n",
    "if len(error_df) > 0:\n",
    "    for error in np.unique(error_df.error.values):\n",
    "        print(error)    "
   ]
  }
 ],
 "metadata": {
  "kernelspec": {
   "display_name": "Python 2",
   "language": "python",
   "name": "python2"
  },
  "language_info": {
   "codemirror_mode": {
    "name": "ipython",
    "version": 2
   },
   "file_extension": ".py",
   "mimetype": "text/x-python",
   "name": "python",
   "nbconvert_exporter": "python",
   "pygments_lexer": "ipython2",
   "version": "2.7.13"
  }
 },
 "nbformat": 4,
 "nbformat_minor": 2
}
