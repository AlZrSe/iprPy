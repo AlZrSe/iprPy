{
 "cells": [
  {
   "cell_type": "markdown",
   "metadata": {
    "deletable": true,
    "editable": true
   },
   "source": [
    "# Master Workflow Manager (Single Potential)"
   ]
  },
  {
   "cell_type": "markdown",
   "metadata": {
    "deletable": true,
    "editable": true
   },
   "source": [
    "This is meant as a master workflow manager for setting up, running, and analyzing all implemented calculations for a single potential.  It is meant for helping evaluate the properties of a single potential and to serve as a guide for the steps in running the calculations across multiple potentials. "
   ]
  },
  {
   "cell_type": "markdown",
   "metadata": {
    "deletable": true,
    "editable": true
   },
   "source": [
    "## 1. Import Python packages\n",
    "\n",
    "Calculation imports "
   ]
  },
  {
   "cell_type": "code",
   "execution_count": 1,
   "metadata": {
    "collapsed": false,
    "deletable": true,
    "editable": true
   },
   "outputs": [],
   "source": [
    "# Standard library imports\n",
    "from __future__ import print_function, division\n",
    "import os\n",
    "import sys\n",
    "import glob\n",
    "import uuid\n",
    "import shutil\n",
    "from math import floor\n",
    "\n",
    "# http://www.numpy.org/\n",
    "import numpy as np\n",
    "\n",
    "# http://pandas.pydata.org/\n",
    "import pandas as pd\n",
    "\n",
    "# http://ipython.org/\n",
    "from IPython.display import display, HTML \n",
    "\n",
    "# https://github.com/usnistgov/DataModelDict\n",
    "from DataModelDict import DataModelDict as DM\n",
    "\n",
    "# https://github.com/usnistgov/atomman\n",
    "import atomman as am\n",
    "import atomman.lammps as lmp\n",
    "import atomman.unitconvert as uc\n",
    "\n",
    "# https://github.com/usnistgov/iprPy\n",
    "import iprPy"
   ]
  },
  {
   "cell_type": "markdown",
   "metadata": {
    "deletable": true,
    "editable": true
   },
   "source": [
    "Plotting imports"
   ]
  },
  {
   "cell_type": "code",
   "execution_count": 2,
   "metadata": {
    "collapsed": false,
    "deletable": true,
    "editable": true
   },
   "outputs": [
    {
     "name": "stdout",
     "output_type": "stream",
     "text": [
      "bokeh version 0.12.4\n"
     ]
    },
    {
     "data": {
      "text/html": [
       "\n",
       "    <div class=\"bk-root\">\n",
       "        <a href=\"http://bokeh.pydata.org\" target=\"_blank\" class=\"bk-logo bk-logo-small bk-logo-notebook\"></a>\n",
       "        <span id=\"2ba0c8a4-6ecf-4c49-9bb1-0e0bddee7c5b\">Loading BokehJS ...</span>\n",
       "    </div>"
      ]
     },
     "metadata": {},
     "output_type": "display_data"
    },
    {
     "data": {
      "application/javascript": [
       "\n",
       "(function(global) {\n",
       "  function now() {\n",
       "    return new Date();\n",
       "  }\n",
       "\n",
       "  var force = true;\n",
       "\n",
       "  if (typeof (window._bokeh_onload_callbacks) === \"undefined\" || force === true) {\n",
       "    window._bokeh_onload_callbacks = [];\n",
       "    window._bokeh_is_loading = undefined;\n",
       "  }\n",
       "\n",
       "\n",
       "  \n",
       "  if (typeof (window._bokeh_timeout) === \"undefined\" || force === true) {\n",
       "    window._bokeh_timeout = Date.now() + 5000;\n",
       "    window._bokeh_failed_load = false;\n",
       "  }\n",
       "\n",
       "  var NB_LOAD_WARNING = {'data': {'text/html':\n",
       "     \"<div style='background-color: #fdd'>\\n\"+\n",
       "     \"<p>\\n\"+\n",
       "     \"BokehJS does not appear to have successfully loaded. If loading BokehJS from CDN, this \\n\"+\n",
       "     \"may be due to a slow or bad network connection. Possible fixes:\\n\"+\n",
       "     \"</p>\\n\"+\n",
       "     \"<ul>\\n\"+\n",
       "     \"<li>re-rerun `output_notebook()` to attempt to load from CDN again, or</li>\\n\"+\n",
       "     \"<li>use INLINE resources instead, as so:</li>\\n\"+\n",
       "     \"</ul>\\n\"+\n",
       "     \"<code>\\n\"+\n",
       "     \"from bokeh.resources import INLINE\\n\"+\n",
       "     \"output_notebook(resources=INLINE)\\n\"+\n",
       "     \"</code>\\n\"+\n",
       "     \"</div>\"}};\n",
       "\n",
       "  function display_loaded() {\n",
       "    if (window.Bokeh !== undefined) {\n",
       "      document.getElementById(\"2ba0c8a4-6ecf-4c49-9bb1-0e0bddee7c5b\").textContent = \"BokehJS successfully loaded.\";\n",
       "    } else if (Date.now() < window._bokeh_timeout) {\n",
       "      setTimeout(display_loaded, 100)\n",
       "    }\n",
       "  }\n",
       "\n",
       "  function run_callbacks() {\n",
       "    window._bokeh_onload_callbacks.forEach(function(callback) { callback() });\n",
       "    delete window._bokeh_onload_callbacks\n",
       "    console.info(\"Bokeh: all callbacks have finished\");\n",
       "  }\n",
       "\n",
       "  function load_libs(js_urls, callback) {\n",
       "    window._bokeh_onload_callbacks.push(callback);\n",
       "    if (window._bokeh_is_loading > 0) {\n",
       "      console.log(\"Bokeh: BokehJS is being loaded, scheduling callback at\", now());\n",
       "      return null;\n",
       "    }\n",
       "    if (js_urls == null || js_urls.length === 0) {\n",
       "      run_callbacks();\n",
       "      return null;\n",
       "    }\n",
       "    console.log(\"Bokeh: BokehJS not loaded, scheduling load and callback at\", now());\n",
       "    window._bokeh_is_loading = js_urls.length;\n",
       "    for (var i = 0; i < js_urls.length; i++) {\n",
       "      var url = js_urls[i];\n",
       "      var s = document.createElement('script');\n",
       "      s.src = url;\n",
       "      s.async = false;\n",
       "      s.onreadystatechange = s.onload = function() {\n",
       "        window._bokeh_is_loading--;\n",
       "        if (window._bokeh_is_loading === 0) {\n",
       "          console.log(\"Bokeh: all BokehJS libraries loaded\");\n",
       "          run_callbacks()\n",
       "        }\n",
       "      };\n",
       "      s.onerror = function() {\n",
       "        console.warn(\"failed to load library \" + url);\n",
       "      };\n",
       "      console.log(\"Bokeh: injecting script tag for BokehJS library: \", url);\n",
       "      document.getElementsByTagName(\"head\")[0].appendChild(s);\n",
       "    }\n",
       "  };var element = document.getElementById(\"2ba0c8a4-6ecf-4c49-9bb1-0e0bddee7c5b\");\n",
       "  if (element == null) {\n",
       "    console.log(\"Bokeh: ERROR: autoload.js configured with elementid '2ba0c8a4-6ecf-4c49-9bb1-0e0bddee7c5b' but no matching script tag was found. \")\n",
       "    return false;\n",
       "  }\n",
       "\n",
       "  var js_urls = [\"https://cdn.pydata.org/bokeh/release/bokeh-0.12.4.min.js\", \"https://cdn.pydata.org/bokeh/release/bokeh-widgets-0.12.4.min.js\"];\n",
       "\n",
       "  var inline_js = [\n",
       "    function(Bokeh) {\n",
       "      Bokeh.set_log_level(\"info\");\n",
       "    },\n",
       "    \n",
       "    function(Bokeh) {\n",
       "      \n",
       "      document.getElementById(\"2ba0c8a4-6ecf-4c49-9bb1-0e0bddee7c5b\").textContent = \"BokehJS is loading...\";\n",
       "    },\n",
       "    function(Bokeh) {\n",
       "      console.log(\"Bokeh: injecting CSS: https://cdn.pydata.org/bokeh/release/bokeh-0.12.4.min.css\");\n",
       "      Bokeh.embed.inject_css(\"https://cdn.pydata.org/bokeh/release/bokeh-0.12.4.min.css\");\n",
       "      console.log(\"Bokeh: injecting CSS: https://cdn.pydata.org/bokeh/release/bokeh-widgets-0.12.4.min.css\");\n",
       "      Bokeh.embed.inject_css(\"https://cdn.pydata.org/bokeh/release/bokeh-widgets-0.12.4.min.css\");\n",
       "    }\n",
       "  ];\n",
       "\n",
       "  function run_inline_js() {\n",
       "    \n",
       "    if ((window.Bokeh !== undefined) || (force === true)) {\n",
       "      for (var i = 0; i < inline_js.length; i++) {\n",
       "        inline_js[i](window.Bokeh);\n",
       "      }if (force === true) {\n",
       "        display_loaded();\n",
       "      }} else if (Date.now() < window._bokeh_timeout) {\n",
       "      setTimeout(run_inline_js, 100);\n",
       "    } else if (!window._bokeh_failed_load) {\n",
       "      console.log(\"Bokeh: BokehJS failed to load within specified timeout.\");\n",
       "      window._bokeh_failed_load = true;\n",
       "    } else if (force !== true) {\n",
       "      var cell = $(document.getElementById(\"2ba0c8a4-6ecf-4c49-9bb1-0e0bddee7c5b\")).parents('.cell').data().cell;\n",
       "      cell.output_area.append_execute_result(NB_LOAD_WARNING)\n",
       "    }\n",
       "\n",
       "  }\n",
       "\n",
       "  if (window._bokeh_is_loading === 0) {\n",
       "    console.log(\"Bokeh: BokehJS loaded, going straight to plotting\");\n",
       "    run_inline_js();\n",
       "  } else {\n",
       "    load_libs(js_urls, function() {\n",
       "      console.log(\"Bokeh: BokehJS plotting callback run at\", now());\n",
       "      run_inline_js();\n",
       "    });\n",
       "  }\n",
       "}(this));"
      ]
     },
     "metadata": {},
     "output_type": "display_data"
    }
   ],
   "source": [
    "import bokeh\n",
    "from bokeh.plotting import figure, output_file, show\n",
    "from bokeh.embed import components\n",
    "from bokeh.resources import Resources\n",
    "from bokeh.io import output_notebook\n",
    "print('bokeh version', bokeh.__version__)\n",
    "output_notebook()"
   ]
  },
  {
   "cell_type": "markdown",
   "metadata": {
    "deletable": true,
    "editable": true
   },
   "source": [
    "## 2. Input parameters\n",
    "\n",
    "### Specify run parameters\n",
    "\n",
    "- **potential** (*str*) - The potential to investigate.\n",
    "- **family** (*str*) - The family name (i.e. crystal prototype) corresponding to the primary crystal structure to examine.\n",
    "- **database** (*str*) - The name of the database to interact with (defined [here](#databases)).\n",
    "- **run_terms** (*dict*) - Defines the commands and directories to use for each number of processors on which this computer can run.\n",
    "    \n",
    "    - **lammps_command** (*str*) -The LAMMPS executable to use.\n",
    "    - **mpi_command** (*str*) - The MPI command to call when LAMMPS is executed.\n",
    "    - **run_directory** (*str*) - The run_directory to prepare the calculations in (defined with databases below)."
   ]
  },
  {
   "cell_type": "code",
   "execution_count": 3,
   "metadata": {
    "collapsed": true,
    "deletable": true,
    "editable": true
   },
   "outputs": [],
   "source": [
    "potential = '2017--Purja-Pun-G-P--Au'\n",
    "family = 'A1--Cu--fcc'\n",
    "database = 'test2'\n",
    "currentIPR = False\n",
    "lammps_command = 'C:\\\\Program Files\\\\LAMMPS 64-bit 20160902\\\\bin\\\\lmp_mpi'\n",
    "\n",
    "\n",
    "run_terms = {}\n",
    "\n",
    "# Define serial run terms\n",
    "run_terms[1] = {}\n",
    "run_terms[1]['lammps_command'] = lammps_command\n",
    "run_terms[1]['mpi_command'] = ''\n",
    "\n",
    "# Define 2 core run terms\n",
    "run_terms[2] = {}\n",
    "run_terms[2]['lammps_command'] = lammps_command\n",
    "run_terms[2]['mpi_command'] = 'mpiexec -localonly 2'\n",
    "\n",
    "# Define 3 core run terms\n",
    "run_terms[3] = {}\n",
    "run_terms[3]['lammps_command'] = lammps_command\n",
    "run_terms[3]['mpi_command'] = 'mpiexec -localonly 3'\n",
    "\n",
    "# Define 4 core run terms\n",
    "run_terms[4] = {}\n",
    "run_terms[4]['lammps_command'] = lammps_command\n",
    "run_terms[4]['mpi_command'] = 'mpiexec -localonly 4'"
   ]
  },
  {
   "cell_type": "markdown",
   "metadata": {
    "deletable": true,
    "editable": true
   },
   "source": [
    "### Define databases and run directories <a id=\"databases\"></a>\n",
    "\n",
    "These are specific to the computer this Notebook is running on and the databases that are being accessed."
   ]
  },
  {
   "cell_type": "code",
   "execution_count": 4,
   "metadata": {
    "collapsed": false,
    "deletable": true,
    "editable": true
   },
   "outputs": [],
   "source": [
    "# 'local' is a local directory\n",
    "if database == 'local':\n",
    "    dbase = iprPy.Database('local', \n",
    "                           host='C:\\\\Users\\\\lmh1\\\\Documents\\\\calculations\\\\ipr\\\\library')\n",
    "    \n",
    "    run_terms[1]['run_directory'] = 'C:\\\\Users\\\\lmh1\\\\Documents\\\\calculations\\\\ipr\\\\torun\\\\local\\\\1'\n",
    "    run_terms[2]['run_directory'] = 'C:\\\\Users\\\\lmh1\\\\Documents\\\\calculations\\\\ipr\\\\torun\\\\local\\\\2'\n",
    "    run_terms[3]['run_directory'] = 'C:\\\\Users\\\\lmh1\\\\Documents\\\\calculations\\\\ipr\\\\torun\\\\local\\\\3'\n",
    "    run_terms[4]['run_directory'] = 'C:\\\\Users\\\\lmh1\\\\Documents\\\\calculations\\\\ipr\\\\torun\\\\local\\\\4'\n",
    "\n",
    "# 'test' is a local directory for testing\n",
    "elif database == 'test':\n",
    "    dbase = iprPy.Database('local', \n",
    "                           host='C:\\\\Users\\\\lmh1\\\\Documents\\\\calculations\\\\ipr\\\\library_test')\n",
    "    \n",
    "    run_terms[1]['run_directory'] = 'C:\\\\Users\\\\lmh1\\\\Documents\\\\calculations\\\\ipr\\\\torun\\\\test\\\\1'\n",
    "    run_terms[2]['run_directory'] = 'C:\\\\Users\\\\lmh1\\\\Documents\\\\calculations\\\\ipr\\\\torun\\\\test\\\\2'\n",
    "    run_terms[3]['run_directory'] = 'C:\\\\Users\\\\lmh1\\\\Documents\\\\calculations\\\\ipr\\\\torun\\\\test\\\\3'\n",
    "    run_terms[4]['run_directory'] = 'C:\\\\Users\\\\lmh1\\\\Documents\\\\calculations\\\\ipr\\\\torun\\\\test\\\\4'\n",
    "\n",
    "# 'test2' is a local directory for testing\n",
    "elif database == 'test2':\n",
    "    dbase = iprPy.Database('local', \n",
    "                           host='C:\\\\Users\\\\lmh1\\\\Documents\\\\calculations\\\\ipr\\\\test2')\n",
    "    \n",
    "    run_terms[1]['run_directory'] = 'C:\\\\Users\\\\lmh1\\\\Documents\\\\calculations\\\\ipr\\\\torun\\\\test2\\\\1'\n",
    "    run_terms[2]['run_directory'] = 'C:\\\\Users\\\\lmh1\\\\Documents\\\\calculations\\\\ipr\\\\torun\\\\test2\\\\2'\n",
    "    run_terms[3]['run_directory'] = 'C:\\\\Users\\\\lmh1\\\\Documents\\\\calculations\\\\ipr\\\\torun\\\\test2\\\\3'\n",
    "    run_terms[4]['run_directory'] = 'C:\\\\Users\\\\lmh1\\\\Documents\\\\calculations\\\\ipr\\\\torun\\\\test2\\\\4'\n",
    "    \n",
    "# 'curator' is a local MDCS curator\n",
    "elif database == 'curator':\n",
    "    dbase = iprPy.Database('curator', \n",
    "                           host='https://iprhub.nist.gov/', \n",
    "                           user='admin', pswd='admin')\n",
    "    \n",
    "    run_terms[1]['run_directory'] = 'C:\\\\Users\\\\lmh1\\\\Documents\\\\calculations\\\\ipr\\\\torun\\\\curator\\\\1'\n",
    "    run_terms[2]['run_directory'] = 'C:\\\\Users\\\\lmh1\\\\Documents\\\\calculations\\\\ipr\\\\torun\\\\curator\\\\2'\n",
    "    run_terms[3]['run_directory'] = 'C:\\\\Users\\\\lmh1\\\\Documents\\\\calculations\\\\ipr\\\\torun\\\\curator\\\\3'\n",
    "    run_terms[4]['run_directory'] = 'C:\\\\Users\\\\lmh1\\\\Documents\\\\calculations\\\\ipr\\\\torun\\\\curator\\\\4'\n",
    "\n",
    "# 'iprhub' is the remote MDCS curator at iprhub\n",
    "elif database == 'iprhub':\n",
    "    dbase = iprPy.Database('curator', \n",
    "                           host='https://iprhub.nist.gov/', \n",
    "                           user='lmh1', \n",
    "                           pswd='C:/users/lmh1/documents/iprhub/iprhub_password.txt',\n",
    "                           cert='C:/users/lmh1/documents/iprhub/iprhub-ca.pem')\n",
    "    \n",
    "    run_terms[1]['run_directory'] = 'C:\\\\Users\\\\lmh1\\\\Documents\\\\calculations\\\\ipr\\\\torun\\\\iprhub\\\\1'\n",
    "    run_terms[2]['run_directory'] = 'C:\\\\Users\\\\lmh1\\\\Documents\\\\calculations\\\\ipr\\\\torun\\\\iprhub\\\\2'\n",
    "    run_terms[3]['run_directory'] = 'C:\\\\Users\\\\lmh1\\\\Documents\\\\calculations\\\\ipr\\\\torun\\\\iprhub\\\\3'\n",
    "    run_terms[4]['run_directory'] = 'C:\\\\Users\\\\lmh1\\\\Documents\\\\calculations\\\\ipr\\\\torun\\\\iprhub\\\\4'"
   ]
  },
  {
   "cell_type": "markdown",
   "metadata": {
    "deletable": true,
    "editable": true
   },
   "source": [
    "## 3. Setup"
   ]
  },
  {
   "cell_type": "markdown",
   "metadata": {
    "deletable": true,
    "editable": true
   },
   "source": [
    "### Verify iprPy modules loaded"
   ]
  },
  {
   "cell_type": "code",
   "execution_count": 5,
   "metadata": {
    "collapsed": false,
    "deletable": true,
    "editable": true
   },
   "outputs": [
    {
     "name": "stdout",
     "output_type": "stream",
     "text": [
      "calculations that passed import:\n",
      " point_defect_static\n",
      " dynamic_relax\n",
      " surface_energy\n",
      " E_vs_r_scan\n",
      " dislocation_monopole\n",
      " stacking_fault\n",
      " refine_structure\n",
      " point_defect_diffusion\n",
      " stacking_fault_multi\n",
      " LAMMPS_ELASTIC\n",
      "calculations that failed import:\n",
      "\n",
      "records that passed import:\n",
      " calculation_cohesive_energy_relation\n",
      " stacking_fault\n",
      " point_defect\n",
      " calculation_system_relax\n",
      " calculation_dislocation_monopole\n",
      " calculation_point_defect_formation\n",
      " calculation_point_defect_diffusion\n",
      " dislocation_monopole\n",
      " calculation_generalized_stacking_fault\n",
      " free_surface\n",
      " crystal_prototype\n",
      " calculation_dynamic_relax\n",
      " calculation_surface_energy\n",
      " calculation_stacking_fault\n",
      " potential_LAMMPS\n",
      "records that failed import:\n",
      "\n",
      "databases that passed import:\n",
      " local\n",
      " curator\n",
      "databases that failed import:\n",
      "\n"
     ]
    }
   ],
   "source": [
    "iprPy.check_modules()"
   ]
  },
  {
   "cell_type": "markdown",
   "metadata": {
    "deletable": true,
    "editable": true
   },
   "source": [
    "### Build database reference records"
   ]
  },
  {
   "cell_type": "code",
   "execution_count": 6,
   "metadata": {
    "collapsed": true,
    "deletable": true,
    "editable": true
   },
   "outputs": [],
   "source": [
    "iprPy.highthroughput.build(dbase)"
   ]
  },
  {
   "cell_type": "code",
   "execution_count": 7,
   "metadata": {
    "collapsed": true,
    "deletable": true,
    "editable": true
   },
   "outputs": [],
   "source": [
    "crystal_prototype_df = dbase.get_records_df(style='crystal_prototype')\n",
    "\n",
    "counts = {}\n",
    "for i, prototype in crystal_prototype_df.iterrows():\n",
    "    model = DM(dbase.get_record(name=prototype.id).content)\n",
    "    counts[prototype.id] = np.unique(model.finds('component'), return_counts=True)[1]"
   ]
  },
  {
   "cell_type": "markdown",
   "metadata": {
    "deletable": true,
    "editable": true
   },
   "source": [
    "### Define functions and resources"
   ]
  },
  {
   "cell_type": "markdown",
   "metadata": {
    "deletable": true,
    "editable": true
   },
   "source": [
    "**comp_refine** generates a composition string based on symbols and unique sites of prototypes"
   ]
  },
  {
   "cell_type": "code",
   "execution_count": 8,
   "metadata": {
    "collapsed": true,
    "deletable": true,
    "editable": true
   },
   "outputs": [],
   "source": [
    "def comp_refine(symbols, counts):\n",
    "    \"\"\"Takes a list of symbols and count of how many times each symbol appears and generates a composition string.\"\"\"\n",
    "    primes = [2,3,5,7,11,13,17,19,23,29,31,37,41,43,47]\n",
    "    \n",
    "    sym_dict = {}\n",
    "    for i in xrange(len(symbols)):\n",
    "        sym_dict[symbols[i]] = counts[i]\n",
    "    \n",
    "    for prime in primes:\n",
    "        if max(sym_dict.values()) < prime:\n",
    "            break\n",
    "        \n",
    "        while True:\n",
    "            breaktime = False\n",
    "            for value in sym_dict.values():\n",
    "                if value % prime != 0:\n",
    "                    breaktime = True\n",
    "                    break\n",
    "            if breaktime:\n",
    "                break\n",
    "            for key in sym_dict:\n",
    "                sym_dict[key] /= prime\n",
    "    \n",
    "    composition=''\n",
    "    for key in sorted(sym_dict):\n",
    "        if sym_dict[key] > 0:\n",
    "            composition += key\n",
    "            if sym_dict[key] != 1:\n",
    "                composition += str(int(sym_dict[key]))\n",
    "            \n",
    "    return composition   "
   ]
  },
  {
   "cell_type": "markdown",
   "metadata": {
    "deletable": true,
    "editable": true
   },
   "source": [
    "**plot_gen** generates the bokeh E vs. r plots."
   ]
  },
  {
   "cell_type": "code",
   "execution_count": 9,
   "metadata": {
    "collapsed": true,
    "deletable": true,
    "editable": true
   },
   "outputs": [],
   "source": [
    "def plot_gen(df, composition, colors, dashes):\n",
    "    \n",
    "    ymin = floor(df.min().min())\n",
    "    if ymin < -10: ymin = -10\n",
    "    \n",
    "    p = figure(title='Cohesive Energy vs. Interatomic Spacing for ' + composition,\n",
    "               plot_width = 800,\n",
    "               plot_height = 600,\n",
    "               x_range = [2, 6],\n",
    "               y_range = [ymin, 0],              \n",
    "               x_axis_label='r (A)', \n",
    "               y_axis_label='Cohesive Energy (eV/atom)')\n",
    "   \n",
    "    for prototype, values in df.iteritems():\n",
    "        if prototype != 'r':\n",
    "            p.line(df.r, values, \n",
    "                   legend=prototype, \n",
    "                   line_color=colors[prototype], \n",
    "                   line_dash=dashes[prototype], \n",
    "                   line_width = 2)            \n",
    "    \n",
    "    p.legend.location = \"bottom_right\"    \n",
    "    return p  \n",
    "\n",
    "max_string_length = 16\n",
    "\n",
    "line_color = {\n",
    "   #elemental\n",
    "    'A1--Cu--fcc':                'black',\n",
    "    'A2--W--bcc':                 'blue',\n",
    "    'A3--Mg--hcp':                'red',\n",
    "    'A3\\'--alpha-La':             'cyan',\n",
    "    'A4--C--dc':                  'magenta',\n",
    "    'A5--beta-Sn':                '#EAC117',\n",
    "    'A6--In--bct':                'orange',\n",
    "    'A7--alpha-As':               'gray',\n",
    "    'A15--beta-W':                'green',\n",
    "    'Ah--alpha-Po--sc':           'brown',\n",
    "   #1:1\n",
    "    'B1--NaCl':                   'black',\n",
    "    'B2--CsCl':                   'blue',\n",
    "    'B3--ZnS':                    'red',\n",
    "    'L1_0--AuCu':                 'cyan',\n",
    "   #1:2\n",
    "    'C1--CaF2':                   'black',\n",
    "   #1:3\n",
    "    'A15--Cr3Si':                 'black',\n",
    "    'D0_3--BiF3':                 'blue',\n",
    "    'L1_2--AuCu3':                'red',\n",
    "   #1:1:2\n",
    "    'L2_1--AlCu2Mn':              'red'\n",
    "}\n",
    "\n",
    "line_dash = {\n",
    "   #elemental\n",
    "    'A1--Cu--fcc':                'solid',\n",
    "    'A2--W--bcc':                 'solid',\n",
    "    'A3--Mg--hcp':                'dashed',\n",
    "    'A3\\'--alpha-La':             'dashdot',\n",
    "    'A4--C--dc':                  'solid',\n",
    "    'A5--beta-Sn':                'solid',\n",
    "    'A6--In--bct':                'solid',\n",
    "    'A7--alpha-As':               'solid',\n",
    "    'A15--beta-W':                'solid',\n",
    "    'Ah--alpha-Po--sc':           'solid',\n",
    "   #1:1\n",
    "    'B1--NaCl':                   'solid',\n",
    "    'B2--CsCl':                   'solid',\n",
    "    'B3--ZnS':                    'solid',\n",
    "    'L1_0--AuCu':                 'solid',\n",
    "   #1:2\n",
    "    'C1--CaF2':                   'solid',\n",
    "   #1:3\n",
    "    'A15--Cr3Si':                 'solid',\n",
    "    'D0_3--BiF3':                 'solid',\n",
    "    'L1_2--AuCu3':                'solid',\n",
    "   #1:1:2\n",
    "    'L2_1--AlCu2Mn':              'solid'\n",
    "}"
   ]
  },
  {
   "cell_type": "markdown",
   "metadata": {
    "deletable": true,
    "editable": true
   },
   "source": [
    "Create run directories if needed."
   ]
  },
  {
   "cell_type": "code",
   "execution_count": 10,
   "metadata": {
    "collapsed": false,
    "deletable": true,
    "editable": true
   },
   "outputs": [],
   "source": [
    "for n in run_terms:\n",
    "    run_term = run_terms[n]\n",
    "    if not os.path.isdir(run_term['run_directory']):\n",
    "        os.makedirs(run_term['run_directory'])"
   ]
  },
  {
   "cell_type": "markdown",
   "metadata": {
    "deletable": true,
    "editable": true
   },
   "source": [
    "## 4. E_vs_r_scan"
   ]
  },
  {
   "cell_type": "code",
   "execution_count": 11,
   "metadata": {
    "collapsed": true,
    "deletable": true,
    "editable": true
   },
   "outputs": [],
   "source": [
    "n = 1\n",
    "calculation_style = 'E_vs_r_scan'\n",
    "record_style = 'calculation_cohesive_energy_relation'"
   ]
  },
  {
   "cell_type": "markdown",
   "metadata": {
    "deletable": true,
    "editable": true
   },
   "source": [
    "### Prepare"
   ]
  },
  {
   "cell_type": "code",
   "execution_count": 12,
   "metadata": {
    "collapsed": false,
    "deletable": true,
    "editable": true
   },
   "outputs": [],
   "source": [
    "run_directory = run_terms[n]['run_directory']\n",
    "\n",
    "input_dict = {}\n",
    "input_dict['calculation_style'] = calculation_style\n",
    "input_dict['lammps_command'] = run_terms[n]['lammps_command']\n",
    "input_dict['mpi_command'] = run_terms[n]['mpi_command']\n",
    "input_dict['potential_name'] = potential\n",
    "input_dict['potential_currentIPR'] = currentIPR\n",
    "\n",
    "iprPy.highthroughput.prepare(dbase, run_directory, input_dict=input_dict)"
   ]
  },
  {
   "cell_type": "markdown",
   "metadata": {
    "deletable": true,
    "editable": true
   },
   "source": [
    "### Run"
   ]
  },
  {
   "cell_type": "code",
   "execution_count": 13,
   "metadata": {
    "collapsed": false,
    "deletable": true,
    "editable": true
   },
   "outputs": [],
   "source": [
    "iprPy.highthroughput.runner(dbase, run_directory)"
   ]
  },
  {
   "cell_type": "markdown",
   "metadata": {
    "deletable": true,
    "editable": true
   },
   "source": [
    "### Analyze"
   ]
  },
  {
   "cell_type": "markdown",
   "metadata": {
    "deletable": true,
    "editable": true
   },
   "source": [
    "Fetch records"
   ]
  },
  {
   "cell_type": "code",
   "execution_count": 14,
   "metadata": {
    "collapsed": false,
    "deletable": true,
    "editable": true
   },
   "outputs": [
    {
     "name": "stdout",
     "output_type": "stream",
     "text": [
      "19 records found\n"
     ]
    }
   ],
   "source": [
    "results_df = dbase.get_records_df(style=record_style, full=True, flat=False)\n",
    "results_df = results_df[results_df.potential_id == potential]\n",
    "results_df = results_df[results_df.calc_script == 'calc_'+calculation_style]\n",
    "\n",
    "print(len(results_df), 'records found')"
   ]
  },
  {
   "cell_type": "markdown",
   "metadata": {
    "deletable": true,
    "editable": true
   },
   "source": [
    "Check errors"
   ]
  },
  {
   "cell_type": "code",
   "execution_count": 15,
   "metadata": {
    "collapsed": false,
    "deletable": true,
    "editable": true
   },
   "outputs": [
    {
     "name": "stdout",
     "output_type": "stream",
     "text": [
      "0 issued errors\n"
     ]
    }
   ],
   "source": [
    "error_df = results_df[results_df.status=='error']\n",
    "print(len(error_df), 'issued errors')\n",
    "\n",
    "if len(error_df) > 0:\n",
    "    for error in np.unique(error_df.error.values):\n",
    "        print(error)    "
   ]
  },
  {
   "cell_type": "markdown",
   "metadata": {
    "deletable": true,
    "editable": true
   },
   "source": [
    "Define composition"
   ]
  },
  {
   "cell_type": "code",
   "execution_count": 16,
   "metadata": {
    "collapsed": true,
    "deletable": true,
    "editable": true
   },
   "outputs": [],
   "source": [
    "compositions = []\n",
    "for i, calc in results_df.iterrows():\n",
    "    compositions.append(comp_refine(calc.symbols, counts[calc.family]))\n",
    "results_df = results_df.assign(composition=compositions)"
   ]
  },
  {
   "cell_type": "markdown",
   "metadata": {
    "deletable": true,
    "editable": true
   },
   "source": [
    "Generate plots"
   ]
  },
  {
   "cell_type": "code",
   "execution_count": 17,
   "metadata": {
    "collapsed": false,
    "deletable": true,
    "editable": true,
    "scrolled": true
   },
   "outputs": [
    {
     "data": {
      "text/html": [
       "\n",
       "\n",
       "    <div class=\"bk-root\">\n",
       "        <div class=\"bk-plotdiv\" id=\"34556850-a4c6-4fc4-95bb-2c3df2b49dba\"></div>\n",
       "    </div>\n",
       "<script type=\"text/javascript\">\n",
       "  \n",
       "  (function(global) {\n",
       "    function now() {\n",
       "      return new Date();\n",
       "    }\n",
       "  \n",
       "    var force = false;\n",
       "  \n",
       "    if (typeof (window._bokeh_onload_callbacks) === \"undefined\" || force === true) {\n",
       "      window._bokeh_onload_callbacks = [];\n",
       "      window._bokeh_is_loading = undefined;\n",
       "    }\n",
       "  \n",
       "  \n",
       "    \n",
       "    if (typeof (window._bokeh_timeout) === \"undefined\" || force === true) {\n",
       "      window._bokeh_timeout = Date.now() + 0;\n",
       "      window._bokeh_failed_load = false;\n",
       "    }\n",
       "  \n",
       "    var NB_LOAD_WARNING = {'data': {'text/html':\n",
       "       \"<div style='background-color: #fdd'>\\n\"+\n",
       "       \"<p>\\n\"+\n",
       "       \"BokehJS does not appear to have successfully loaded. If loading BokehJS from CDN, this \\n\"+\n",
       "       \"may be due to a slow or bad network connection. Possible fixes:\\n\"+\n",
       "       \"</p>\\n\"+\n",
       "       \"<ul>\\n\"+\n",
       "       \"<li>re-rerun `output_notebook()` to attempt to load from CDN again, or</li>\\n\"+\n",
       "       \"<li>use INLINE resources instead, as so:</li>\\n\"+\n",
       "       \"</ul>\\n\"+\n",
       "       \"<code>\\n\"+\n",
       "       \"from bokeh.resources import INLINE\\n\"+\n",
       "       \"output_notebook(resources=INLINE)\\n\"+\n",
       "       \"</code>\\n\"+\n",
       "       \"</div>\"}};\n",
       "  \n",
       "    function display_loaded() {\n",
       "      if (window.Bokeh !== undefined) {\n",
       "        document.getElementById(\"34556850-a4c6-4fc4-95bb-2c3df2b49dba\").textContent = \"BokehJS successfully loaded.\";\n",
       "      } else if (Date.now() < window._bokeh_timeout) {\n",
       "        setTimeout(display_loaded, 100)\n",
       "      }\n",
       "    }\n",
       "  \n",
       "    function run_callbacks() {\n",
       "      window._bokeh_onload_callbacks.forEach(function(callback) { callback() });\n",
       "      delete window._bokeh_onload_callbacks\n",
       "      console.info(\"Bokeh: all callbacks have finished\");\n",
       "    }\n",
       "  \n",
       "    function load_libs(js_urls, callback) {\n",
       "      window._bokeh_onload_callbacks.push(callback);\n",
       "      if (window._bokeh_is_loading > 0) {\n",
       "        console.log(\"Bokeh: BokehJS is being loaded, scheduling callback at\", now());\n",
       "        return null;\n",
       "      }\n",
       "      if (js_urls == null || js_urls.length === 0) {\n",
       "        run_callbacks();\n",
       "        return null;\n",
       "      }\n",
       "      console.log(\"Bokeh: BokehJS not loaded, scheduling load and callback at\", now());\n",
       "      window._bokeh_is_loading = js_urls.length;\n",
       "      for (var i = 0; i < js_urls.length; i++) {\n",
       "        var url = js_urls[i];\n",
       "        var s = document.createElement('script');\n",
       "        s.src = url;\n",
       "        s.async = false;\n",
       "        s.onreadystatechange = s.onload = function() {\n",
       "          window._bokeh_is_loading--;\n",
       "          if (window._bokeh_is_loading === 0) {\n",
       "            console.log(\"Bokeh: all BokehJS libraries loaded\");\n",
       "            run_callbacks()\n",
       "          }\n",
       "        };\n",
       "        s.onerror = function() {\n",
       "          console.warn(\"failed to load library \" + url);\n",
       "        };\n",
       "        console.log(\"Bokeh: injecting script tag for BokehJS library: \", url);\n",
       "        document.getElementsByTagName(\"head\")[0].appendChild(s);\n",
       "      }\n",
       "    };var element = document.getElementById(\"34556850-a4c6-4fc4-95bb-2c3df2b49dba\");\n",
       "    if (element == null) {\n",
       "      console.log(\"Bokeh: ERROR: autoload.js configured with elementid '34556850-a4c6-4fc4-95bb-2c3df2b49dba' but no matching script tag was found. \")\n",
       "      return false;\n",
       "    }\n",
       "  \n",
       "    var js_urls = [];\n",
       "  \n",
       "    var inline_js = [\n",
       "      function(Bokeh) {\n",
       "        (function() {\n",
       "          var fn = function() {\n",
       "            var docs_json = {\"30ee7f88-e5c5-4af7-b824-3e9cabca732d\":{\"roots\":{\"references\":[{\"attributes\":{\"line_width\":{\"value\":2},\"x\":{\"field\":\"x\"},\"y\":{\"field\":\"y\"}},\"id\":\"57b6cfd3-6ff8-4e32-9f5d-17769572273b\",\"type\":\"Line\"},{\"attributes\":{\"label\":{\"value\":\"Ah--alpha-Po--sc\"},\"renderers\":[{\"id\":\"4a2b3fe5-21f5-4110-8100-760976868b0a\",\"type\":\"GlyphRenderer\"}]},\"id\":\"9311286a-0c3b-4778-a794-e53d1a834474\",\"type\":\"LegendItem\"},{\"attributes\":{\"label\":{\"value\":\"A15--beta-W\"},\"renderers\":[{\"id\":\"6844686a-7606-4aea-a5f8-9d47d4d6512d\",\"type\":\"GlyphRenderer\"}]},\"id\":\"1b5c99a9-b408-4f64-9bf3-4514b1e2168f\",\"type\":\"LegendItem\"},{\"attributes\":{\"data_source\":{\"id\":\"c032b08f-840a-4785-abb2-32ce8d4db61a\",\"type\":\"ColumnDataSource\"},\"glyph\":{\"id\":\"a9c6d566-f746-4cad-94b2-46373d375e7a\",\"type\":\"Line\"},\"hover_glyph\":null,\"nonselection_glyph\":{\"id\":\"fddb4cb5-b98f-4501-9f27-ea8a7e6cf539\",\"type\":\"Line\"},\"selection_glyph\":null},\"id\":\"6844686a-7606-4aea-a5f8-9d47d4d6512d\",\"type\":\"GlyphRenderer\"},{\"attributes\":{\"data_source\":{\"id\":\"92e3ad9a-2bc9-4faa-83c7-1d8084b74dec\",\"type\":\"ColumnDataSource\"},\"glyph\":{\"id\":\"1221e39c-9d29-4b98-a5d0-27e92928df77\",\"type\":\"Line\"},\"hover_glyph\":null,\"nonselection_glyph\":{\"id\":\"ad4a1a38-4b21-4a01-bd80-704db979755f\",\"type\":\"Line\"},\"selection_glyph\":null},\"id\":\"79e70393-11d8-48a9-a490-55fc6544d3c7\",\"type\":\"GlyphRenderer\"},{\"attributes\":{\"line_alpha\":{\"value\":0.1},\"line_color\":{\"value\":\"#1f77b4\"},\"line_width\":{\"value\":2},\"x\":{\"field\":\"x\"},\"y\":{\"field\":\"y\"}},\"id\":\"69a02e3d-d2cd-4c9d-afee-9ad875d6ff23\",\"type\":\"Line\"},{\"attributes\":{\"callback\":null,\"column_names\":[\"y\",\"x\"],\"data\":{\"x\":{\"__ndarray__\":\"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\",\"dtype\":\"float64\",\"shape\":[200]},\"y\":{\"__ndarray__\":\"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\",\"dtype\":\"float64\",\"shape\":[200]}}},\"id\":\"c032b08f-840a-4785-abb2-32ce8d4db61a\",\"type\":\"ColumnDataSource\"},{\"attributes\":{\"label\":{\"value\":\"A3--Mg--hcp\"},\"renderers\":[{\"id\":\"680dfc29-cd20-4f56-b736-817dc0bcef1a\",\"type\":\"GlyphRenderer\"}]},\"id\":\"c57e070c-6a0e-4035-abf1-09460059fc0c\",\"type\":\"LegendItem\"},{\"attributes\":{\"line_alpha\":{\"value\":0.1},\"line_color\":{\"value\":\"#1f77b4\"},\"line_width\":{\"value\":2},\"x\":{\"field\":\"x\"},\"y\":{\"field\":\"y\"}},\"id\":\"7225bd17-6db1-4a4c-bba6-c47aa1c87b56\",\"type\":\"Line\"},{\"attributes\":{\"line_color\":{\"value\":\"orange\"},\"line_width\":{\"value\":2},\"x\":{\"field\":\"x\"},\"y\":{\"field\":\"y\"}},\"id\":\"e03cab09-3dde-4b06-94de-ae2385434b74\",\"type\":\"Line\"},{\"attributes\":{\"label\":{\"value\":\"A2--W--bcc\"},\"renderers\":[{\"id\":\"2d70631f-cefa-4b5e-80e4-adf4e2500ed4\",\"type\":\"GlyphRenderer\"}]},\"id\":\"8a66064f-ca1c-4835-b6cd-f1f00d48d2f5\",\"type\":\"LegendItem\"},{\"attributes\":{\"label\":{\"value\":\"A6--In--bct\"},\"renderers\":[{\"id\":\"58406b79-4776-4a81-913d-14770bda10c1\",\"type\":\"GlyphRenderer\"}]},\"id\":\"8225e069-8d00-4059-b69c-97a04297c839\",\"type\":\"LegendItem\"},{\"attributes\":{\"line_alpha\":{\"value\":0.1},\"line_color\":{\"value\":\"#1f77b4\"},\"line_width\":{\"value\":2},\"x\":{\"field\":\"x\"},\"y\":{\"field\":\"y\"}},\"id\":\"fddb4cb5-b98f-4501-9f27-ea8a7e6cf539\",\"type\":\"Line\"},{\"attributes\":{\"callback\":null,\"column_names\":[\"y\",\"x\"],\"data\":{\"x\":{\"__ndarray__\":\"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\",\"dtype\":\"float64\",\"shape\":[200]},\"y\":{\"__ndarray__\":\"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\",\"dtype\":\"float64\",\"shape\":[200]}}},\"id\":\"8fca5ae4-f183-495c-9a40-9227ddf12ac2\",\"type\":\"ColumnDataSource\"},{\"attributes\":{\"bottom_units\":\"screen\",\"fill_alpha\":{\"value\":0.5},\"fill_color\":{\"value\":\"lightgrey\"},\"left_units\":\"screen\",\"level\":\"overlay\",\"line_alpha\":{\"value\":1.0},\"line_color\":{\"value\":\"black\"},\"line_dash\":[4,4],\"line_width\":{\"value\":2},\"plot\":null,\"render_mode\":\"css\",\"right_units\":\"screen\",\"top_units\":\"screen\"},\"id\":\"4fa2ad76-e7c3-4ebf-a345-867a5b31fd30\",\"type\":\"BoxAnnotation\"},{\"attributes\":{\"line_alpha\":{\"value\":0.1},\"line_color\":{\"value\":\"#1f77b4\"},\"line_width\":{\"value\":2},\"x\":{\"field\":\"x\"},\"y\":{\"field\":\"y\"}},\"id\":\"14ea5cd2-dafa-42b9-a15e-4e283aba40a1\",\"type\":\"Line\"},{\"attributes\":{\"label\":{\"value\":\"A1--Cu--fcc\"},\"renderers\":[{\"id\":\"c2ff0448-9e7c-4d50-ac00-19f9bff71734\",\"type\":\"GlyphRenderer\"}]},\"id\":\"e7300d68-fa02-4bf9-8ed8-233fcc0be880\",\"type\":\"LegendItem\"},{\"attributes\":{\"line_color\":{\"value\":\"gray\"},\"line_width\":{\"value\":2},\"x\":{\"field\":\"x\"},\"y\":{\"field\":\"y\"}},\"id\":\"b3c0ea9b-84b9-47b8-92bc-0d3e1bf14d23\",\"type\":\"Line\"},{\"attributes\":{\"line_alpha\":{\"value\":0.1},\"line_color\":{\"value\":\"#1f77b4\"},\"line_width\":{\"value\":2},\"x\":{\"field\":\"x\"},\"y\":{\"field\":\"y\"}},\"id\":\"59758c6c-1fde-4e7a-b8b9-b2139ce3483a\",\"type\":\"Line\"},{\"attributes\":{\"line_alpha\":{\"value\":0.1},\"line_color\":{\"value\":\"#1f77b4\"},\"line_width\":{\"value\":2},\"x\":{\"field\":\"x\"},\"y\":{\"field\":\"y\"}},\"id\":\"a8d42238-dbf3-4576-90e0-dea4d0e7d800\",\"type\":\"Line\"},{\"attributes\":{\"plot\":{\"id\":\"1b008e8a-cf81-4468-83b5-95df86a9a37b\",\"subtype\":\"Figure\",\"type\":\"Plot\"}},\"id\":\"9b72cf3d-0cd9-4782-9131-aa3bab0e11fa\",\"type\":\"WheelZoomTool\"},{\"attributes\":{\"line_alpha\":{\"value\":0.1},\"line_color\":{\"value\":\"#1f77b4\"},\"line_dash\":[6],\"line_width\":{\"value\":2},\"x\":{\"field\":\"x\"},\"y\":{\"field\":\"y\"}},\"id\":\"1c6c5600-5c35-42e7-afd4-5304a2714255\",\"type\":\"Line\"},{\"attributes\":{\"items\":[{\"id\":\"e7300d68-fa02-4bf9-8ed8-233fcc0be880\",\"type\":\"LegendItem\"},{\"id\":\"1b5c99a9-b408-4f64-9bf3-4514b1e2168f\",\"type\":\"LegendItem\"},{\"id\":\"8a66064f-ca1c-4835-b6cd-f1f00d48d2f5\",\"type\":\"LegendItem\"},{\"id\":\"6afa5471-919c-4638-a588-cbdf5cb187d4\",\"type\":\"LegendItem\"},{\"id\":\"c57e070c-6a0e-4035-abf1-09460059fc0c\",\"type\":\"LegendItem\"},{\"id\":\"994cdcb6-add5-4c96-8773-20f56881df51\",\"type\":\"LegendItem\"},{\"id\":\"3aa562b3-cb06-498c-9057-8ba3d866dfd6\",\"type\":\"LegendItem\"},{\"id\":\"8225e069-8d00-4059-b69c-97a04297c839\",\"type\":\"LegendItem\"},{\"id\":\"5a997a3e-7f21-4515-a04a-d5467b5f1c6e\",\"type\":\"LegendItem\"},{\"id\":\"9311286a-0c3b-4778-a794-e53d1a834474\",\"type\":\"LegendItem\"}],\"location\":\"bottom_right\",\"plot\":{\"id\":\"1b008e8a-cf81-4468-83b5-95df86a9a37b\",\"subtype\":\"Figure\",\"type\":\"Plot\"}},\"id\":\"59ad20dc-4b50-447d-b055-6bdc287212f2\",\"type\":\"Legend\"},{\"attributes\":{\"callback\":null,\"column_names\":[\"y\",\"x\"],\"data\":{\"x\":{\"__ndarray__\":\"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\",\"dtype\":\"float64\",\"shape\":[200]},\"y\":{\"__ndarray__\":\"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\",\"dtype\":\"float64\",\"shape\":[200]}}},\"id\":\"af5a9d82-8e48-4063-8974-d2038457bb0a\",\"type\":\"ColumnDataSource\"},{\"attributes\":{\"data_source\":{\"id\":\"2a961bd9-f5f8-48bf-b5ba-001079b423b8\",\"type\":\"ColumnDataSource\"},\"glyph\":{\"id\":\"e21a85eb-ac11-48e8-aac5-08a38f4b3952\",\"type\":\"Line\"},\"hover_glyph\":null,\"nonselection_glyph\":{\"id\":\"7225bd17-6db1-4a4c-bba6-c47aa1c87b56\",\"type\":\"Line\"},\"selection_glyph\":null},\"id\":\"83b7f84a-d7e4-4922-8d68-22755b0de6e9\",\"type\":\"GlyphRenderer\"},{\"attributes\":{\"label\":{\"value\":\"A4--C--dc\"},\"renderers\":[{\"id\":\"79e70393-11d8-48a9-a490-55fc6544d3c7\",\"type\":\"GlyphRenderer\"}]},\"id\":\"994cdcb6-add5-4c96-8773-20f56881df51\",\"type\":\"LegendItem\"},{\"attributes\":{},\"id\":\"088bdaa6-9e2d-4f81-9f2f-2d1c99f6221b\",\"type\":\"BasicTickFormatter\"},{\"attributes\":{},\"id\":\"1f863266-4606-4bd6-b6d0-e42bfe4ba957\",\"type\":\"BasicTickFormatter\"},{\"attributes\":{\"data_source\":{\"id\":\"6226564d-0852-42e2-9fb9-12cc5d6f7291\",\"type\":\"ColumnDataSource\"},\"glyph\":{\"id\":\"e7592d3a-6e20-4166-b465-c7227d779c19\",\"type\":\"Line\"},\"hover_glyph\":null,\"nonselection_glyph\":{\"id\":\"14ea5cd2-dafa-42b9-a15e-4e283aba40a1\",\"type\":\"Line\"},\"selection_glyph\":null},\"id\":\"2d70631f-cefa-4b5e-80e4-adf4e2500ed4\",\"type\":\"GlyphRenderer\"},{\"attributes\":{\"plot\":{\"id\":\"1b008e8a-cf81-4468-83b5-95df86a9a37b\",\"subtype\":\"Figure\",\"type\":\"Plot\"}},\"id\":\"a6ea7044-10f1-45cf-9365-f3e1013e1687\",\"type\":\"HelpTool\"},{\"attributes\":{},\"id\":\"da5da877-bc61-44e9-996e-d3a89046b060\",\"type\":\"ToolEvents\"},{\"attributes\":{\"line_color\":{\"value\":\"cyan\"},\"line_dash\":[6,4,2,4],\"line_width\":{\"value\":2},\"x\":{\"field\":\"x\"},\"y\":{\"field\":\"y\"}},\"id\":\"849c9a04-f6b8-4c20-9c05-e21f9b916535\",\"type\":\"Line\"},{\"attributes\":{\"line_color\":{\"value\":\"red\"},\"line_dash\":[6],\"line_width\":{\"value\":2},\"x\":{\"field\":\"x\"},\"y\":{\"field\":\"y\"}},\"id\":\"3aecfbb3-00f1-497b-915a-008b52d25e1e\",\"type\":\"Line\"},{\"attributes\":{\"axis_label\":\"Cohesive Energy (eV/atom)\",\"formatter\":{\"id\":\"088bdaa6-9e2d-4f81-9f2f-2d1c99f6221b\",\"type\":\"BasicTickFormatter\"},\"plot\":{\"id\":\"1b008e8a-cf81-4468-83b5-95df86a9a37b\",\"subtype\":\"Figure\",\"type\":\"Plot\"},\"ticker\":{\"id\":\"05d708f4-405e-4651-a3ec-a9dd4a617881\",\"type\":\"BasicTicker\"}},\"id\":\"8279878a-5b25-48ac-95a9-839991af084a\",\"type\":\"LinearAxis\"},{\"attributes\":{\"callback\":null,\"column_names\":[\"y\",\"x\"],\"data\":{\"x\":{\"__ndarray__\":\"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\",\"dtype\":\"float64\",\"shape\":[200]},\"y\":{\"__ndarray__\":\"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\",\"dtype\":\"float64\",\"shape\":[200]}}},\"id\":\"6226564d-0852-42e2-9fb9-12cc5d6f7291\",\"type\":\"ColumnDataSource\"},{\"attributes\":{\"label\":{\"value\":\"A3'--alpha-La\"},\"renderers\":[{\"id\":\"94e807e4-c034-4966-91db-01881a528e62\",\"type\":\"GlyphRenderer\"}]},\"id\":\"6afa5471-919c-4638-a588-cbdf5cb187d4\",\"type\":\"LegendItem\"},{\"attributes\":{\"data_source\":{\"id\":\"6e18245a-50d9-484b-ba25-ec18ea8e6eb0\",\"type\":\"ColumnDataSource\"},\"glyph\":{\"id\":\"57b6cfd3-6ff8-4e32-9f5d-17769572273b\",\"type\":\"Line\"},\"hover_glyph\":null,\"nonselection_glyph\":{\"id\":\"a8d42238-dbf3-4576-90e0-dea4d0e7d800\",\"type\":\"Line\"},\"selection_glyph\":null},\"id\":\"c2ff0448-9e7c-4d50-ac00-19f9bff71734\",\"type\":\"GlyphRenderer\"},{\"attributes\":{\"plot\":{\"id\":\"1b008e8a-cf81-4468-83b5-95df86a9a37b\",\"subtype\":\"Figure\",\"type\":\"Plot\"}},\"id\":\"36b63bd4-81e4-4b50-a5b4-63f051425e12\",\"type\":\"ResetTool\"},{\"attributes\":{\"plot\":{\"id\":\"1b008e8a-cf81-4468-83b5-95df86a9a37b\",\"subtype\":\"Figure\",\"type\":\"Plot\"}},\"id\":\"2667e734-31f4-4166-ac4e-938e666a8a41\",\"type\":\"PanTool\"},{\"attributes\":{\"line_color\":{\"value\":\"#EAC117\"},\"line_width\":{\"value\":2},\"x\":{\"field\":\"x\"},\"y\":{\"field\":\"y\"}},\"id\":\"e21a85eb-ac11-48e8-aac5-08a38f4b3952\",\"type\":\"Line\"},{\"attributes\":{\"line_color\":{\"value\":\"brown\"},\"line_width\":{\"value\":2},\"x\":{\"field\":\"x\"},\"y\":{\"field\":\"y\"}},\"id\":\"b3e1a811-0c0a-4ab0-92d0-2ec5dc898e9e\",\"type\":\"Line\"},{\"attributes\":{\"axis_label\":\"r (A)\",\"formatter\":{\"id\":\"1f863266-4606-4bd6-b6d0-e42bfe4ba957\",\"type\":\"BasicTickFormatter\"},\"plot\":{\"id\":\"1b008e8a-cf81-4468-83b5-95df86a9a37b\",\"subtype\":\"Figure\",\"type\":\"Plot\"},\"ticker\":{\"id\":\"dc1d52ed-ffae-4108-8eca-2aca30a6f417\",\"type\":\"BasicTicker\"}},\"id\":\"2c140785-589f-4d07-8197-4b2a38aa0d54\",\"type\":\"LinearAxis\"},{\"attributes\":{\"line_color\":{\"value\":\"green\"},\"line_width\":{\"value\":2},\"x\":{\"field\":\"x\"},\"y\":{\"field\":\"y\"}},\"id\":\"a9c6d566-f746-4cad-94b2-46373d375e7a\",\"type\":\"Line\"},{\"attributes\":{\"line_alpha\":{\"value\":0.1},\"line_color\":{\"value\":\"#1f77b4\"},\"line_dash\":[6,4,2,4],\"line_width\":{\"value\":2},\"x\":{\"field\":\"x\"},\"y\":{\"field\":\"y\"}},\"id\":\"0b50ff27-8f4f-44a4-9c01-82dd8dff1c3e\",\"type\":\"Line\"},{\"attributes\":{\"data_source\":{\"id\":\"af5a9d82-8e48-4063-8974-d2038457bb0a\",\"type\":\"ColumnDataSource\"},\"glyph\":{\"id\":\"b3c0ea9b-84b9-47b8-92bc-0d3e1bf14d23\",\"type\":\"Line\"},\"hover_glyph\":null,\"nonselection_glyph\":{\"id\":\"c20b214f-4e42-4e66-85d6-114fa32ca9d2\",\"type\":\"Line\"},\"selection_glyph\":null},\"id\":\"3bb8bea6-d6a8-4740-b445-c9889d10257d\",\"type\":\"GlyphRenderer\"},{\"attributes\":{\"data_source\":{\"id\":\"b6bf64e7-ac47-4312-9130-a6bdd89af6fc\",\"type\":\"ColumnDataSource\"},\"glyph\":{\"id\":\"b3e1a811-0c0a-4ab0-92d0-2ec5dc898e9e\",\"type\":\"Line\"},\"hover_glyph\":null,\"nonselection_glyph\":{\"id\":\"59758c6c-1fde-4e7a-b8b9-b2139ce3483a\",\"type\":\"Line\"},\"selection_glyph\":null},\"id\":\"4a2b3fe5-21f5-4110-8100-760976868b0a\",\"type\":\"GlyphRenderer\"},{\"attributes\":{\"dimension\":1,\"plot\":{\"id\":\"1b008e8a-cf81-4468-83b5-95df86a9a37b\",\"subtype\":\"Figure\",\"type\":\"Plot\"},\"ticker\":{\"id\":\"05d708f4-405e-4651-a3ec-a9dd4a617881\",\"type\":\"BasicTicker\"}},\"id\":\"47bada60-6363-4d0c-864a-8a6427ea7cf6\",\"type\":\"Grid\"},{\"attributes\":{\"callback\":null,\"column_names\":[\"y\",\"x\"],\"data\":{\"x\":{\"__ndarray__\":\"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\",\"dtype\":\"float64\",\"shape\":[200]},\"y\":{\"__ndarray__\":\"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\",\"dtype\":\"float64\",\"shape\":[200]}}},\"id\":\"b6bf64e7-ac47-4312-9130-a6bdd89af6fc\",\"type\":\"ColumnDataSource\"},{\"attributes\":{\"callback\":null,\"end\":6,\"start\":2},\"id\":\"7b5d40e8-3e4e-4b3c-a43d-df6c3b206959\",\"type\":\"Range1d\"},{\"attributes\":{\"line_alpha\":{\"value\":0.1},\"line_color\":{\"value\":\"#1f77b4\"},\"line_width\":{\"value\":2},\"x\":{\"field\":\"x\"},\"y\":{\"field\":\"y\"}},\"id\":\"ad4a1a38-4b21-4a01-bd80-704db979755f\",\"type\":\"Line\"},{\"attributes\":{\"label\":{\"value\":\"A7--alpha-As\"},\"renderers\":[{\"id\":\"3bb8bea6-d6a8-4740-b445-c9889d10257d\",\"type\":\"GlyphRenderer\"}]},\"id\":\"5a997a3e-7f21-4515-a04a-d5467b5f1c6e\",\"type\":\"LegendItem\"},{\"attributes\":{\"line_alpha\":{\"value\":0.1},\"line_color\":{\"value\":\"#1f77b4\"},\"line_width\":{\"value\":2},\"x\":{\"field\":\"x\"},\"y\":{\"field\":\"y\"}},\"id\":\"c20b214f-4e42-4e66-85d6-114fa32ca9d2\",\"type\":\"Line\"},{\"attributes\":{\"plot\":null,\"text\":\"Cohesive Energy vs. Interatomic Spacing for Au\"},\"id\":\"fce4c153-c8d9-40c6-b617-1d0bd8067bc9\",\"type\":\"Title\"},{\"attributes\":{\"data_source\":{\"id\":\"8fca5ae4-f183-495c-9a40-9227ddf12ac2\",\"type\":\"ColumnDataSource\"},\"glyph\":{\"id\":\"849c9a04-f6b8-4c20-9c05-e21f9b916535\",\"type\":\"Line\"},\"hover_glyph\":null,\"nonselection_glyph\":{\"id\":\"0b50ff27-8f4f-44a4-9c01-82dd8dff1c3e\",\"type\":\"Line\"},\"selection_glyph\":null},\"id\":\"94e807e4-c034-4966-91db-01881a528e62\",\"type\":\"GlyphRenderer\"},{\"attributes\":{\"data_source\":{\"id\":\"441211bd-f4b2-4a42-8edf-24e016c195ca\",\"type\":\"ColumnDataSource\"},\"glyph\":{\"id\":\"3aecfbb3-00f1-497b-915a-008b52d25e1e\",\"type\":\"Line\"},\"hover_glyph\":null,\"nonselection_glyph\":{\"id\":\"1c6c5600-5c35-42e7-afd4-5304a2714255\",\"type\":\"Line\"},\"selection_glyph\":null},\"id\":\"680dfc29-cd20-4f56-b736-817dc0bcef1a\",\"type\":\"GlyphRenderer\"},{\"attributes\":{\"label\":{\"value\":\"A5--beta-Sn\"},\"renderers\":[{\"id\":\"83b7f84a-d7e4-4922-8d68-22755b0de6e9\",\"type\":\"GlyphRenderer\"}]},\"id\":\"3aa562b3-cb06-498c-9057-8ba3d866dfd6\",\"type\":\"LegendItem\"},{\"attributes\":{\"active_drag\":\"auto\",\"active_scroll\":\"auto\",\"active_tap\":\"auto\",\"tools\":[{\"id\":\"2667e734-31f4-4166-ac4e-938e666a8a41\",\"type\":\"PanTool\"},{\"id\":\"9b72cf3d-0cd9-4782-9131-aa3bab0e11fa\",\"type\":\"WheelZoomTool\"},{\"id\":\"1d75795e-7da5-432e-a04b-7f1faa363990\",\"type\":\"BoxZoomTool\"},{\"id\":\"049b49cb-615a-4a65-8c95-2f0732dc758a\",\"type\":\"SaveTool\"},{\"id\":\"36b63bd4-81e4-4b50-a5b4-63f051425e12\",\"type\":\"ResetTool\"},{\"id\":\"a6ea7044-10f1-45cf-9365-f3e1013e1687\",\"type\":\"HelpTool\"}]},\"id\":\"f746c7a0-e5ba-47df-bbfa-13a2e5ddb65f\",\"type\":\"Toolbar\"},{\"attributes\":{\"callback\":null,\"column_names\":[\"y\",\"x\"],\"data\":{\"x\":{\"__ndarray__\":\"AAAAAAAAAEChZcdzKikAQELLjudUUgBA4jBWW397AECDlh3PqaQAQCT85ELUzQBAxWGstv72AEBmx3MqKSABQAYtO55TSQFAp5ICEn5yAUBI+MmFqJsBQOldkfnSxAFAisNYbf3tAUAqKSDhJxcCQMuO51RSQAJAbPSuyHxpAkANWnY8p5ICQK6/PbDRuwJATiUFJPzkAkDvisyXJg4DQJDwkwtRNwNAMVZbf3tgA0DSuyLzpYkDQHIh6mbQsgNAE4ex2vrbA0C07HhOJQUEQFVSQMJPLgRA9rcHNnpXBECWHc+ppIAEQDeDlh3PqQRA2OhdkfnSBEB5TiUFJPwEQBq07HhOJQVAuhm07HhOBUBbf3tgo3cFQPzkQtTNoAVAnUoKSPjJBUA+sNG7IvMFQN4VmS9NHAZAgHtgo3dFBkAg4ScXom4GQMFG74rMlwZAYqy2/vbABkACEn5yIeoGQKR3ReZLEwdARN0MWnY8B0DlQtTNoGUHQIaom0HLjgdAJg5jtfW3B0DIcyopIOEHQGjZ8ZxKCghACT+5EHUzCECqpICEn1wIQEoKSPjJhQhA7G8PbPSuCECM1dbfHtgIQC07nlNJAQlAzqBlx3MqCUBuBi07nlMJQBBs9K7IfAlAsNG7IvOlCUBRN4OWHc8JQPKcSgpI+AlAkgISfnIhCkA0aNnxnEoKQNTNoGXHcwpAdTNo2fGcCkAWmS9NHMYKQLb+9sBG7wpAWGS+NHEYC0D4yYWom0ELQJkvTRzGagtAOpUUkPCTC0Da+tsDG70LQHxgo3dF5gtAHMZq628PDEC9KzJfmjgMQF6R+dLEYQxA//bARu+KDECgXIi6GbQMQEDCTy5E3QxA4ScXom4GDUCCjd4VmS8NQCPzpYnDWA1AxFht/e2BDUBkvjRxGKsNQAUk/ORC1A1AponDWG39DUBH74rMlyYOQOhUUkDCTw5AiLoZtOx4DkApIOEnF6IOQMqFqJtByw5Aa+tvD2z0DkAMUTeDlh0PQKy2/vbARg9ATRzGautvD0DugY3eFZkPQI/nVFJAwg9AME0cxmrrD0Bo2fGcSgoQQDiM1dbfHhBACT+5EHUzEEDa8ZxKCkgQQKqkgISfXBBAeldkvjRxEEBKCkj4yYUQQBu9KzJfmhBA7G8PbPSuEEC8IvOlicMQQIzV1t8e2BBAXIi6GbTsEEAtO55TSQERQP7tgY3eFRFAzqBlx3MqEUCeU0kBCT8RQG4GLTueUxFAP7kQdTNoEUAQbPSuyHwRQOAe2OhdkRFAsNG7IvOlEUCAhJ9ciLoRQFE3g5YdzxFAIupm0LLjEUDynEoKSPgRQMJPLkTdDBJAkgISfnIhEkBjtfW3BzYSQDRo2fGcShJABBu9KzJfEkDUzaBlx3MSQKSAhJ9ciBJAdTNo2fGcEkBG5ksTh7ESQBaZL00cxhJA5ksTh7HaEkC2/vbARu8SQIex2vrbAxNAWGS+NHEYE0AoF6JuBi0TQPjJhaibQRNAyHxp4jBWE0CZL00cxmoTQGriMFZbfxNAOpUUkPCTE0AKSPjJhagTQNr62wMbvRNAq62/PbDRE0B8YKN3ReYTQEwTh7Ha+hNAHMZq628PFEDteE4lBSQUQL0rMl+aOBRAjt4VmS9NFEBekfnSxGEUQC5E3QxadhRA//bARu+KFEDPqaSAhJ8UQKBciLoZtBRAcA9s9K7IFEBAwk8uRN0UQBF1M2jZ8RRA4ScXom4GFUCy2vrbAxsVQIKN3hWZLxVAUkDCTy5EFUAj86WJw1gVQPOlicNYbRVAxFht/e2BFUCUC1E3g5YVQGS+NHEYqxVANXEYq62/FUAFJPzkQtQVQNbW3x7Y6BVAponDWG39FUB2PKeSAhIWQEfvisyXJhZAF6JuBi07FkDoVFJAwk8WQLgHNnpXZBZAiLoZtOx4FkBZbf3tgY0WQCkg4ScXohZA+tLEYay2FkDKhaibQcsWQJo4jNXW3xZAa+tvD2z0FkA7nlNJAQkXQAxRN4OWHRdA3AMbvSsyF0Cstv72wEYXQH1p4jBWWxdATRzGautvF0Aez6mkgIQXQO6Bjd4VmRdAvjRxGKutF0CP51RSQMIXQGCaOIzV1hdAME0cxmrrF0AAAAAAAAAYQA==\",\"dtype\":\"float64\",\"shape\":[200]},\"y\":{\"__ndarray__\":\"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\",\"dtype\":\"float64\",\"shape\":[200]}}},\"id\":\"92e3ad9a-2bc9-4faa-83c7-1d8084b74dec\",\"type\":\"ColumnDataSource\"},{\"attributes\":{},\"id\":\"dc1d52ed-ffae-4108-8eca-2aca30a6f417\",\"type\":\"BasicTicker\"},{\"attributes\":{\"overlay\":{\"id\":\"4fa2ad76-e7c3-4ebf-a345-867a5b31fd30\",\"type\":\"BoxAnnotation\"},\"plot\":{\"id\":\"1b008e8a-cf81-4468-83b5-95df86a9a37b\",\"subtype\":\"Figure\",\"type\":\"Plot\"}},\"id\":\"1d75795e-7da5-432e-a04b-7f1faa363990\",\"type\":\"BoxZoomTool\"},{\"attributes\":{\"callback\":null,\"end\":0,\"start\":-4.0},\"id\":\"94dfd46e-adb5-413a-a383-3c1be8603d11\",\"type\":\"Range1d\"},{\"attributes\":{\"plot\":{\"id\":\"1b008e8a-cf81-4468-83b5-95df86a9a37b\",\"subtype\":\"Figure\",\"type\":\"Plot\"},\"ticker\":{\"id\":\"dc1d52ed-ffae-4108-8eca-2aca30a6f417\",\"type\":\"BasicTicker\"}},\"id\":\"212201c9-1c76-4b18-b2d8-01271c408843\",\"type\":\"Grid\"},{\"attributes\":{\"line_color\":{\"value\":\"magenta\"},\"line_width\":{\"value\":2},\"x\":{\"field\":\"x\"},\"y\":{\"field\":\"y\"}},\"id\":\"1221e39c-9d29-4b98-a5d0-27e92928df77\",\"type\":\"Line\"},{\"attributes\":{\"plot\":{\"id\":\"1b008e8a-cf81-4468-83b5-95df86a9a37b\",\"subtype\":\"Figure\",\"type\":\"Plot\"}},\"id\":\"049b49cb-615a-4a65-8c95-2f0732dc758a\",\"type\":\"SaveTool\"},{\"attributes\":{},\"id\":\"05d708f4-405e-4651-a3ec-a9dd4a617881\",\"type\":\"BasicTicker\"},{\"attributes\":{\"line_color\":{\"value\":\"blue\"},\"line_width\":{\"value\":2},\"x\":{\"field\":\"x\"},\"y\":{\"field\":\"y\"}},\"id\":\"e7592d3a-6e20-4166-b465-c7227d779c19\",\"type\":\"Line\"},{\"attributes\":{\"callback\":null,\"column_names\":[\"y\",\"x\"],\"data\":{\"x\":{\"__ndarray__\":\"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\",\"dtype\":\"float64\",\"shape\":[200]},\"y\":{\"__ndarray__\":\"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\",\"dtype\":\"float64\",\"shape\":[200]}}},\"id\":\"2e1d9369-1fb5-4ecf-931b-74681669dcb7\",\"type\":\"ColumnDataSource\"},{\"attributes\":{\"callback\":null,\"column_names\":[\"y\",\"x\"],\"data\":{\"x\":{\"__ndarray__\":\"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\",\"dtype\":\"float64\",\"shape\":[200]},\"y\":{\"__ndarray__\":\"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\",\"dtype\":\"float64\",\"shape\":[200]}}},\"id\":\"6e18245a-50d9-484b-ba25-ec18ea8e6eb0\",\"type\":\"ColumnDataSource\"},{\"attributes\":{\"callback\":null,\"column_names\":[\"y\",\"x\"],\"data\":{\"x\":{\"__ndarray__\":\"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\",\"dtype\":\"float64\",\"shape\":[200]},\"y\":{\"__ndarray__\":\"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\",\"dtype\":\"float64\",\"shape\":[200]}}},\"id\":\"2a961bd9-f5f8-48bf-b5ba-001079b423b8\",\"type\":\"ColumnDataSource\"},{\"attributes\":{\"data_source\":{\"id\":\"2e1d9369-1fb5-4ecf-931b-74681669dcb7\",\"type\":\"ColumnDataSource\"},\"glyph\":{\"id\":\"e03cab09-3dde-4b06-94de-ae2385434b74\",\"type\":\"Line\"},\"hover_glyph\":null,\"nonselection_glyph\":{\"id\":\"69a02e3d-d2cd-4c9d-afee-9ad875d6ff23\",\"type\":\"Line\"},\"selection_glyph\":null},\"id\":\"58406b79-4776-4a81-913d-14770bda10c1\",\"type\":\"GlyphRenderer\"},{\"attributes\":{\"below\":[{\"id\":\"2c140785-589f-4d07-8197-4b2a38aa0d54\",\"type\":\"LinearAxis\"}],\"left\":[{\"id\":\"8279878a-5b25-48ac-95a9-839991af084a\",\"type\":\"LinearAxis\"}],\"plot_width\":800,\"renderers\":[{\"id\":\"2c140785-589f-4d07-8197-4b2a38aa0d54\",\"type\":\"LinearAxis\"},{\"id\":\"212201c9-1c76-4b18-b2d8-01271c408843\",\"type\":\"Grid\"},{\"id\":\"8279878a-5b25-48ac-95a9-839991af084a\",\"type\":\"LinearAxis\"},{\"id\":\"47bada60-6363-4d0c-864a-8a6427ea7cf6\",\"type\":\"Grid\"},{\"id\":\"4fa2ad76-e7c3-4ebf-a345-867a5b31fd30\",\"type\":\"BoxAnnotation\"},{\"id\":\"59ad20dc-4b50-447d-b055-6bdc287212f2\",\"type\":\"Legend\"},{\"id\":\"c2ff0448-9e7c-4d50-ac00-19f9bff71734\",\"type\":\"GlyphRenderer\"},{\"id\":\"6844686a-7606-4aea-a5f8-9d47d4d6512d\",\"type\":\"GlyphRenderer\"},{\"id\":\"2d70631f-cefa-4b5e-80e4-adf4e2500ed4\",\"type\":\"GlyphRenderer\"},{\"id\":\"94e807e4-c034-4966-91db-01881a528e62\",\"type\":\"GlyphRenderer\"},{\"id\":\"680dfc29-cd20-4f56-b736-817dc0bcef1a\",\"type\":\"GlyphRenderer\"},{\"id\":\"79e70393-11d8-48a9-a490-55fc6544d3c7\",\"type\":\"GlyphRenderer\"},{\"id\":\"83b7f84a-d7e4-4922-8d68-22755b0de6e9\",\"type\":\"GlyphRenderer\"},{\"id\":\"58406b79-4776-4a81-913d-14770bda10c1\",\"type\":\"GlyphRenderer\"},{\"id\":\"3bb8bea6-d6a8-4740-b445-c9889d10257d\",\"type\":\"GlyphRenderer\"},{\"id\":\"4a2b3fe5-21f5-4110-8100-760976868b0a\",\"type\":\"GlyphRenderer\"}],\"title\":{\"id\":\"fce4c153-c8d9-40c6-b617-1d0bd8067bc9\",\"type\":\"Title\"},\"tool_events\":{\"id\":\"da5da877-bc61-44e9-996e-d3a89046b060\",\"type\":\"ToolEvents\"},\"toolbar\":{\"id\":\"f746c7a0-e5ba-47df-bbfa-13a2e5ddb65f\",\"type\":\"Toolbar\"},\"x_range\":{\"id\":\"7b5d40e8-3e4e-4b3c-a43d-df6c3b206959\",\"type\":\"Range1d\"},\"y_range\":{\"id\":\"94dfd46e-adb5-413a-a383-3c1be8603d11\",\"type\":\"Range1d\"}},\"id\":\"1b008e8a-cf81-4468-83b5-95df86a9a37b\",\"subtype\":\"Figure\",\"type\":\"Plot\"},{\"attributes\":{\"callback\":null,\"column_names\":[\"y\",\"x\"],\"data\":{\"x\":{\"__ndarray__\":\"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\",\"dtype\":\"float64\",\"shape\":[200]},\"y\":{\"__ndarray__\":\"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\",\"dtype\":\"float64\",\"shape\":[200]}}},\"id\":\"441211bd-f4b2-4a42-8edf-24e016c195ca\",\"type\":\"ColumnDataSource\"}],\"root_ids\":[\"1b008e8a-cf81-4468-83b5-95df86a9a37b\"]},\"title\":\"Bokeh Application\",\"version\":\"0.12.4\"}};\n",
       "            var render_items = [{\"docid\":\"30ee7f88-e5c5-4af7-b824-3e9cabca732d\",\"elementid\":\"34556850-a4c6-4fc4-95bb-2c3df2b49dba\",\"modelid\":\"1b008e8a-cf81-4468-83b5-95df86a9a37b\"}];\n",
       "            \n",
       "            Bokeh.embed.embed_items(docs_json, render_items);\n",
       "          };\n",
       "          if (document.readyState != \"loading\") fn();\n",
       "          else document.addEventListener(\"DOMContentLoaded\", fn);\n",
       "        })();\n",
       "      },\n",
       "      function(Bokeh) {\n",
       "      }\n",
       "    ];\n",
       "  \n",
       "    function run_inline_js() {\n",
       "      \n",
       "      if ((window.Bokeh !== undefined) || (force === true)) {\n",
       "        for (var i = 0; i < inline_js.length; i++) {\n",
       "          inline_js[i](window.Bokeh);\n",
       "        }if (force === true) {\n",
       "          display_loaded();\n",
       "        }} else if (Date.now() < window._bokeh_timeout) {\n",
       "        setTimeout(run_inline_js, 100);\n",
       "      } else if (!window._bokeh_failed_load) {\n",
       "        console.log(\"Bokeh: BokehJS failed to load within specified timeout.\");\n",
       "        window._bokeh_failed_load = true;\n",
       "      } else if (force !== true) {\n",
       "        var cell = $(document.getElementById(\"34556850-a4c6-4fc4-95bb-2c3df2b49dba\")).parents('.cell').data().cell;\n",
       "        cell.output_area.append_execute_result(NB_LOAD_WARNING)\n",
       "      }\n",
       "  \n",
       "    }\n",
       "  \n",
       "    if (window._bokeh_is_loading === 0) {\n",
       "      console.log(\"Bokeh: BokehJS loaded, going straight to plotting\");\n",
       "      run_inline_js();\n",
       "    } else {\n",
       "      load_libs(js_urls, function() {\n",
       "        console.log(\"Bokeh: BokehJS plotting callback run at\", now());\n",
       "        run_inline_js();\n",
       "      });\n",
       "    }\n",
       "  }(this));\n",
       "</script>"
      ]
     },
     "metadata": {},
     "output_type": "display_data"
    }
   ],
   "source": [
    "# Loop over all compositions\n",
    "for composition in np.unique(results_df.composition):\n",
    "    composition_df = results_df[results_df.composition==composition]\n",
    "    \n",
    "    #Ignore false compounds (ones where number of unique symbols != number of symbols)\n",
    "    composition_df = composition_df[(composition_df.symbols.apply(lambda x: len(np.unique(x))) \n",
    "                                     == composition_df.symbols.apply(lambda x: len(x)))] \n",
    "    \n",
    "    #Extract plot values\n",
    "    plot_df = {}\n",
    "    columns = []\n",
    "    plot_df['r'] = uc.get_in_units(composition_df.iloc[0].e_vs_r_plot.r, 'angstrom')\n",
    "    for i, v in composition_df.iterrows():\n",
    "        if len(v.family) > max_string_length:\n",
    "            name = '--'.join(v.family.split('--')[:-1])\n",
    "        else:\n",
    "            name = v.family\n",
    "        plot_df[name] = uc.get_in_units(v.e_vs_r_plot.E_coh, 'eV')\n",
    "        columns.append(name)\n",
    "    \n",
    "    plot_df = pd.DataFrame(plot_df, columns=['r'] + sorted(columns))\n",
    "    \n",
    "    #Construct plot\n",
    "    plot = plot_gen(plot_df, composition, line_color, line_dash)\n",
    "    show(plot)"
   ]
  },
  {
   "cell_type": "markdown",
   "metadata": {
    "deletable": true,
    "editable": true
   },
   "source": [
    "## 4. refine_structure and/or LAMMPS_ELASTIC"
   ]
  },
  {
   "cell_type": "code",
   "execution_count": 18,
   "metadata": {
    "collapsed": true,
    "deletable": true,
    "editable": true
   },
   "outputs": [],
   "source": [
    "n = 1\n",
    "#calculation_style = 'refine_structure'\n",
    "calculation_style = 'LAMMPS_ELASTIC'\n",
    "record_style = 'calculation_system_relax'"
   ]
  },
  {
   "cell_type": "markdown",
   "metadata": {
    "deletable": true,
    "editable": true
   },
   "source": [
    "### Prepare"
   ]
  },
  {
   "cell_type": "code",
   "execution_count": 19,
   "metadata": {
    "collapsed": false,
    "deletable": true,
    "editable": true
   },
   "outputs": [],
   "source": [
    "run_directory = run_terms[n]['run_directory']\n",
    "\n",
    "input_dict = {}\n",
    "input_dict['calculation_style'] = calculation_style\n",
    "input_dict['lammps_command'] = run_terms[n]['lammps_command']\n",
    "input_dict['mpi_command'] = run_terms[n]['mpi_command']\n",
    "input_dict['potential_name'] = potential\n",
    "input_dict['strainrange'] = '1e-8'\n",
    "\n",
    "iprPy.highthroughput.prepare(dbase, run_directory, input_dict=input_dict)"
   ]
  },
  {
   "cell_type": "markdown",
   "metadata": {
    "deletable": true,
    "editable": true
   },
   "source": [
    "### Run"
   ]
  },
  {
   "cell_type": "code",
   "execution_count": 20,
   "metadata": {
    "collapsed": false,
    "deletable": true,
    "editable": true
   },
   "outputs": [],
   "source": [
    "iprPy.highthroughput.runner(dbase, run_directory)"
   ]
  },
  {
   "cell_type": "markdown",
   "metadata": {
    "deletable": true,
    "editable": true
   },
   "source": [
    "### Analyze"
   ]
  },
  {
   "cell_type": "markdown",
   "metadata": {
    "deletable": true,
    "editable": true
   },
   "source": [
    "Fetch records"
   ]
  },
  {
   "cell_type": "code",
   "execution_count": 21,
   "metadata": {
    "collapsed": false,
    "deletable": true,
    "editable": true
   },
   "outputs": [
    {
     "name": "stdout",
     "output_type": "stream",
     "text": [
      "19 records found\n"
     ]
    }
   ],
   "source": [
    "results_df = dbase.get_records_df(style=record_style, full=True, flat=False)\n",
    "results_df = results_df[results_df.potential_id == potential]\n",
    "results_df = results_df[results_df.calc_script == 'calc_'+calculation_style]\n",
    "\n",
    "print(len(results_df), 'records found')"
   ]
  },
  {
   "cell_type": "markdown",
   "metadata": {
    "deletable": true,
    "editable": true
   },
   "source": [
    "Check errors"
   ]
  },
  {
   "cell_type": "code",
   "execution_count": 22,
   "metadata": {
    "collapsed": false,
    "deletable": true,
    "editable": true
   },
   "outputs": [
    {
     "name": "stdout",
     "output_type": "stream",
     "text": [
      "2 issued errors\n",
      "Traceback (most recent call last):\r\n",
      "  File \"calc_LAMMPS_ELASTIC.py\", line 450, in <module>\r\n",
      "    main(*sys.argv[1:])\r\n",
      "  File \"calc_LAMMPS_ELASTIC.py\", line 58, in main\r\n",
      "    pressure_unit = input_dict['pressure_unit'])\r\n",
      "  File \"calc_LAMMPS_ELASTIC.py\", line 170, in lammps_ELASTIC_refine\r\n",
      "    dmax=dmax, pressure_unit=pressure_unit)\r\n",
      "  File \"calc_LAMMPS_ELASTIC.py\", line 333, in lammps_ELASTIC\r\n",
      "    output = lmp.run(lammps_command, 'in.elastic', mpi_command)\r\n",
      "  File \"c:\\users\\lmh1\\documents\\python-packages\\atomman\\atomman\\lammps\r",
      "un.py\", line 98, in run\r\n",
      "    raise ValueError('Invalid LAMMPS input: \n",
      "%s' % lines[-2])\r\n",
      "ValueError: Invalid LAMMPS input: \r\n",
      "ERROR: Did not assign all restart atoms correctly (../read_restart.cpp:513)\r\n",
      "\n"
     ]
    }
   ],
   "source": [
    "error_df = results_df[results_df.status=='error']\n",
    "print(len(error_df), 'issued errors')\n",
    "\n",
    "if len(error_df) > 0:\n",
    "    for error in np.unique(error_df.error.values):\n",
    "        print(error)    "
   ]
  },
  {
   "cell_type": "markdown",
   "metadata": {
    "deletable": true,
    "editable": true
   },
   "source": [
    "Define composition"
   ]
  },
  {
   "cell_type": "code",
   "execution_count": 23,
   "metadata": {
    "collapsed": true,
    "deletable": true,
    "editable": true
   },
   "outputs": [],
   "source": [
    "compositions = []\n",
    "for i, calc in results_df.iterrows():\n",
    "    compositions.append(comp_refine(calc.symbols, counts[calc.family]))\n",
    "results_df = results_df.assign(composition=compositions)"
   ]
  },
  {
   "cell_type": "markdown",
   "metadata": {
    "deletable": true,
    "editable": true
   },
   "source": [
    "#### Display $E_{coh}$ and lattice constants"
   ]
  },
  {
   "cell_type": "code",
   "execution_count": 24,
   "metadata": {
    "collapsed": false,
    "deletable": true,
    "editable": true,
    "scrolled": false
   },
   "outputs": [
    {
     "name": "stdout",
     "output_type": "stream",
     "text": [
      "Au\n"
     ]
    },
    {
     "data": {
      "text/html": [
       "<table border=\"1\" class=\"dataframe\">\n",
       "  <thead>\n",
       "    <tr style=\"text-align: right;\">\n",
       "      <th>family</th>\n",
       "      <th>Ecoh (eV/atom)</th>\n",
       "      <th>a (A)</th>\n",
       "      <th>b (A)</th>\n",
       "      <th>c (A)</th>\n",
       "    </tr>\n",
       "  </thead>\n",
       "  <tbody>\n",
       "    <tr>\n",
       "      <td>L1_2--AuCu3</td>\n",
       "      <td>-3.930000</td>\n",
       "      <td>4.077998</td>\n",
       "      <td>4.077998</td>\n",
       "      <td>4.077998</td>\n",
       "    </tr>\n",
       "    <tr>\n",
       "      <td>A1--Cu--fcc</td>\n",
       "      <td>-3.930000</td>\n",
       "      <td>4.077998</td>\n",
       "      <td>4.077998</td>\n",
       "      <td>4.077998</td>\n",
       "    </tr>\n",
       "    <tr>\n",
       "      <td>L2_1--AlCu2Mn--heusler</td>\n",
       "      <td>-3.930000</td>\n",
       "      <td>8.155996</td>\n",
       "      <td>5.767160</td>\n",
       "      <td>5.767160</td>\n",
       "    </tr>\n",
       "    <tr>\n",
       "      <td>A6--In--bct</td>\n",
       "      <td>-3.930000</td>\n",
       "      <td>2.883580</td>\n",
       "      <td>2.883580</td>\n",
       "      <td>4.077998</td>\n",
       "    </tr>\n",
       "    <tr>\n",
       "      <td>L1_0--AuCu</td>\n",
       "      <td>-3.930000</td>\n",
       "      <td>4.077998</td>\n",
       "      <td>4.077998</td>\n",
       "      <td>4.077998</td>\n",
       "    </tr>\n",
       "    <tr>\n",
       "      <td>D0_3--BiF3</td>\n",
       "      <td>-3.930000</td>\n",
       "      <td>5.767160</td>\n",
       "      <td>8.155996</td>\n",
       "      <td>5.767160</td>\n",
       "    </tr>\n",
       "    <tr>\n",
       "      <td>A5--beta-Sn</td>\n",
       "      <td>-3.925616</td>\n",
       "      <td>4.978956</td>\n",
       "      <td>4.698580</td>\n",
       "      <td>2.874601</td>\n",
       "    </tr>\n",
       "    <tr>\n",
       "      <td>A3--Mg--hcp</td>\n",
       "      <td>-3.923655</td>\n",
       "      <td>2.870562</td>\n",
       "      <td>4.971959</td>\n",
       "      <td>4.691743</td>\n",
       "    </tr>\n",
       "    <tr>\n",
       "      <td>A2--W--bcc</td>\n",
       "      <td>-3.876341</td>\n",
       "      <td>3.206938</td>\n",
       "      <td>3.206938</td>\n",
       "      <td>3.206938</td>\n",
       "    </tr>\n",
       "    <tr>\n",
       "      <td>B2--CsCl</td>\n",
       "      <td>-3.876341</td>\n",
       "      <td>3.206938</td>\n",
       "      <td>3.206938</td>\n",
       "      <td>3.206938</td>\n",
       "    </tr>\n",
       "    <tr>\n",
       "      <td>A15--Cr3Si</td>\n",
       "      <td>-3.839599</td>\n",
       "      <td>5.195697</td>\n",
       "      <td>5.195697</td>\n",
       "      <td>5.195697</td>\n",
       "    </tr>\n",
       "    <tr>\n",
       "      <td>A15--beta-W</td>\n",
       "      <td>-3.839599</td>\n",
       "      <td>5.195697</td>\n",
       "      <td>5.195697</td>\n",
       "      <td>5.195697</td>\n",
       "    </tr>\n",
       "    <tr>\n",
       "      <td>C1--CaF2--fluorite</td>\n",
       "      <td>-3.568162</td>\n",
       "      <td>6.177253</td>\n",
       "      <td>6.177253</td>\n",
       "      <td>6.177253</td>\n",
       "    </tr>\n",
       "    <tr>\n",
       "      <td>B1--NaCl--rock-salt</td>\n",
       "      <td>-3.525434</td>\n",
       "      <td>5.435379</td>\n",
       "      <td>5.435379</td>\n",
       "      <td>5.435379</td>\n",
       "    </tr>\n",
       "    <tr>\n",
       "      <td>Ah--alpha-Po--sc</td>\n",
       "      <td>-3.525434</td>\n",
       "      <td>2.717690</td>\n",
       "      <td>2.717690</td>\n",
       "      <td>2.717690</td>\n",
       "    </tr>\n",
       "    <tr>\n",
       "      <td>B3--ZnS--cubic-zinc-blende</td>\n",
       "      <td>-2.982273</td>\n",
       "      <td>5.974953</td>\n",
       "      <td>5.974953</td>\n",
       "      <td>5.974953</td>\n",
       "    </tr>\n",
       "    <tr>\n",
       "      <td>A4--C--dc</td>\n",
       "      <td>-2.982273</td>\n",
       "      <td>5.974953</td>\n",
       "      <td>5.974953</td>\n",
       "      <td>5.974953</td>\n",
       "    </tr>\n",
       "    <tr>\n",
       "      <td>A3'--alpha-La--double-hcp</td>\n",
       "      <td>NaN</td>\n",
       "      <td>NaN</td>\n",
       "      <td>NaN</td>\n",
       "      <td>NaN</td>\n",
       "    </tr>\n",
       "    <tr>\n",
       "      <td>A7--alpha-As</td>\n",
       "      <td>NaN</td>\n",
       "      <td>NaN</td>\n",
       "      <td>NaN</td>\n",
       "      <td>NaN</td>\n",
       "    </tr>\n",
       "  </tbody>\n",
       "</table>"
      ],
      "text/plain": [
       "<IPython.core.display.HTML object>"
      ]
     },
     "metadata": {},
     "output_type": "display_data"
    }
   ],
   "source": [
    "# Unit conversions\n",
    "results_df['a (A)'] = uc.get_in_units(results_df.final_a, 'Angstrom')\n",
    "results_df['b (A)'] = uc.get_in_units(results_df.final_b, 'Angstrom')\n",
    "results_df['c (A)'] = uc.get_in_units(results_df.final_c, 'Angstrom')\n",
    "results_df['Ecoh (eV/atom)'] = uc.get_in_units(results_df.E_cohesive, 'eV')\n",
    "\n",
    "# Loop over all compositions\n",
    "for composition in np.unique(results_df.composition):\n",
    "    show_df = results_df[results_df.composition==composition]\n",
    "    \n",
    "    print(composition)\n",
    "    show_df = show_df[['family', 'Ecoh (eV/atom)', 'a (A)', 'b (A)', 'c (A)']].sort_values('Ecoh (eV/atom)')\n",
    "    display(HTML(show_df.to_html(index=False)))"
   ]
  },
  {
   "cell_type": "markdown",
   "metadata": {
    "deletable": true,
    "editable": true
   },
   "source": [
    "#### Display $C_{ij}$ for primary structure"
   ]
  },
  {
   "cell_type": "code",
   "execution_count": 25,
   "metadata": {
    "collapsed": false,
    "deletable": true,
    "editable": true
   },
   "outputs": [
    {
     "name": "stdout",
     "output_type": "stream",
     "text": [
      "Cij (GPa) for Au A1--Cu--fcc =\n",
      "[ 205.3993  167.7876  167.7876    0.0000    0.0000    0.0000]\n",
      "[ 167.7876  205.3993  167.7876    0.0000    0.0000    0.0000]\n",
      "[ 167.7876  167.7876  205.3993    0.0000    0.0000    0.0000]\n",
      "[   0.0000    0.0000    0.0000   48.7762    0.0000    0.0000]\n",
      "[   0.0000    0.0000    0.0000    0.0000   48.7762    0.0000]\n",
      "[   0.0000    0.0000    0.0000    0.0000    0.0000   48.7762]\n",
      "\n"
     ]
    }
   ],
   "source": [
    "for i, series in results_df[results_df.family == family].iterrows():\n",
    "    C = series.C\n",
    "    Cij = uc.get_in_units(C.Cij, 'GPa')\n",
    "    print('Cij (GPa) for', series.composition, family, '=')\n",
    "    for Ci in Cij:\n",
    "        print('[%9.4f %9.4f %9.4f %9.4f %9.4f %9.4f]' % tuple(Ci))\n",
    "    print()\n",
    "    "
   ]
  },
  {
   "cell_type": "markdown",
   "metadata": {
    "deletable": true,
    "editable": true
   },
   "source": [
    "## 5. point_defect_static"
   ]
  },
  {
   "cell_type": "code",
   "execution_count": 26,
   "metadata": {
    "collapsed": true,
    "deletable": true,
    "editable": true
   },
   "outputs": [],
   "source": [
    "n = 1\n",
    "calculation_style = 'point_defect_static'\n",
    "record_style = 'calculation_point_defect_formation'\n",
    "sizemults = '10 10 10'\n",
    "parent_calculation_style = 'LAMMPS_ELASTIC'\n",
    "parent_record_style = 'calculation_system_relax'"
   ]
  },
  {
   "cell_type": "markdown",
   "metadata": {
    "deletable": true,
    "editable": true
   },
   "source": [
    "### Prepare"
   ]
  },
  {
   "cell_type": "markdown",
   "metadata": {
    "deletable": true,
    "editable": true
   },
   "source": [
    "Get parent records"
   ]
  },
  {
   "cell_type": "code",
   "execution_count": 27,
   "metadata": {
    "collapsed": false,
    "deletable": true,
    "editable": true
   },
   "outputs": [
    {
     "name": "stdout",
     "output_type": "stream",
     "text": [
      "1 parent records found\n"
     ]
    }
   ],
   "source": [
    "parent_df = dbase.get_records_df(style=parent_record_style, full=True, flat=False)\n",
    "parent_df = parent_df[parent_df.potential_id == potential]\n",
    "parent_df = parent_df[parent_df.calc_script == 'calc_'+parent_calculation_style]\n",
    "parent_df = parent_df[parent_df.family == family]\n",
    "parent_records = dbase.get_records(name=parent_df.calc_key.tolist())\n",
    "\n",
    "print(len(parent_records), 'parent records found')"
   ]
  },
  {
   "cell_type": "markdown",
   "metadata": {
    "deletable": true,
    "editable": true
   },
   "source": [
    "Define prepare function variables"
   ]
  },
  {
   "cell_type": "code",
   "execution_count": 28,
   "metadata": {
    "collapsed": true,
    "deletable": true,
    "editable": true
   },
   "outputs": [],
   "source": [
    "run_directory = run_terms[n]['run_directory']\n",
    "\n",
    "input_dict = {}\n",
    "input_dict['calculation_style'] = calculation_style\n",
    "input_dict['lammps_command'] = run_terms[n]['lammps_command']\n",
    "input_dict['mpi_command'] = run_terms[n]['mpi_command']\n",
    "input_dict['sizemults'] = sizemults\n",
    "input_dict['parent_records'] = parent_records"
   ]
  },
  {
   "cell_type": "markdown",
   "metadata": {
    "deletable": true,
    "editable": true
   },
   "source": [
    "Call prepare"
   ]
  },
  {
   "cell_type": "code",
   "execution_count": 29,
   "metadata": {
    "collapsed": false,
    "deletable": true,
    "editable": true
   },
   "outputs": [],
   "source": [
    "iprPy.highthroughput.prepare(dbase, run_directory, input_dict=input_dict)"
   ]
  },
  {
   "cell_type": "markdown",
   "metadata": {
    "deletable": true,
    "editable": true
   },
   "source": [
    "### Run"
   ]
  },
  {
   "cell_type": "code",
   "execution_count": 30,
   "metadata": {
    "collapsed": false,
    "deletable": true,
    "editable": true
   },
   "outputs": [],
   "source": [
    "iprPy.highthroughput.runner(dbase, run_directory)"
   ]
  },
  {
   "cell_type": "markdown",
   "metadata": {
    "deletable": true,
    "editable": true
   },
   "source": [
    "### Analyze"
   ]
  },
  {
   "cell_type": "markdown",
   "metadata": {
    "deletable": true,
    "editable": true
   },
   "source": [
    "Fetch records"
   ]
  },
  {
   "cell_type": "code",
   "execution_count": 31,
   "metadata": {
    "collapsed": false,
    "deletable": true,
    "editable": true
   },
   "outputs": [
    {
     "name": "stdout",
     "output_type": "stream",
     "text": [
      "9 records found\n"
     ]
    }
   ],
   "source": [
    "results_df = dbase.get_records_df(style=record_style, full=True, flat=False)\n",
    "results_df = results_df[results_df.potential_id == potential]\n",
    "results_df = results_df[results_df.calc_script == 'calc_'+calculation_style]\n",
    "results_df['parent_key'] = [os.path.splitext(parent_key)[0] for parent_key in results_df.load_file]\n",
    "results_df = results_df[results_df.parent_key.isin(parent_df.calc_key)]\n",
    "\n",
    "print(len(results_df), 'records found')"
   ]
  },
  {
   "cell_type": "markdown",
   "metadata": {
    "deletable": true,
    "editable": true
   },
   "source": [
    "Check errors"
   ]
  },
  {
   "cell_type": "code",
   "execution_count": 32,
   "metadata": {
    "collapsed": false,
    "deletable": true,
    "editable": true
   },
   "outputs": [
    {
     "name": "stdout",
     "output_type": "stream",
     "text": [
      "0 issued errors\n"
     ]
    }
   ],
   "source": [
    "error_df = results_df[results_df.status=='error']\n",
    "print(len(error_df), 'issued errors')\n",
    "\n",
    "if len(error_df) > 0:\n",
    "    for error in np.unique(error_df.error.values):\n",
    "        print(error)    "
   ]
  },
  {
   "cell_type": "markdown",
   "metadata": {
    "deletable": true,
    "editable": true
   },
   "source": [
    "Define composition"
   ]
  },
  {
   "cell_type": "code",
   "execution_count": 33,
   "metadata": {
    "collapsed": true,
    "deletable": true,
    "editable": true
   },
   "outputs": [],
   "source": [
    "compositions = []\n",
    "for i, calc in results_df.iterrows():\n",
    "    compositions.append(comp_refine(calc.symbols, counts[calc.family]))\n",
    "results_df = results_df.assign(composition=compositions)"
   ]
  },
  {
   "cell_type": "markdown",
   "metadata": {
    "deletable": true,
    "editable": true
   },
   "source": [
    "#### Display $E^{ptd}_f$"
   ]
  },
  {
   "cell_type": "code",
   "execution_count": 34,
   "metadata": {
    "collapsed": false,
    "deletable": true,
    "editable": true
   },
   "outputs": [
    {
     "name": "stdout",
     "output_type": "stream",
     "text": [
      "Au\n"
     ]
    },
    {
     "data": {
      "text/html": [
       "<table border=\"1\" class=\"dataframe\">\n",
       "  <thead>\n",
       "    <tr style=\"text-align: right;\">\n",
       "      <th>pointdefect_id</th>\n",
       "      <th>E_f (eV)</th>\n",
       "      <th>reconfigured</th>\n",
       "    </tr>\n",
       "  </thead>\n",
       "  <tbody>\n",
       "    <tr>\n",
       "      <td>A1--Cu--fcc--vacancy</td>\n",
       "      <td>0.882508</td>\n",
       "      <td>False</td>\n",
       "    </tr>\n",
       "    <tr>\n",
       "      <td>A1--Cu--fcc--1nn-divacancy</td>\n",
       "      <td>1.720512</td>\n",
       "      <td>False</td>\n",
       "    </tr>\n",
       "    <tr>\n",
       "      <td>A1--Cu--fcc--2nn-divacancy</td>\n",
       "      <td>1.776296</td>\n",
       "      <td>False</td>\n",
       "    </tr>\n",
       "    <tr>\n",
       "      <td>A1--Cu--fcc--100-dumbbell</td>\n",
       "      <td>3.012117</td>\n",
       "      <td>False</td>\n",
       "    </tr>\n",
       "    <tr>\n",
       "      <td>A1--Cu--fcc--111-dumbbell</td>\n",
       "      <td>3.012117</td>\n",
       "      <td>True</td>\n",
       "    </tr>\n",
       "    <tr>\n",
       "      <td>A1--Cu--fcc--tetrahedral-interstitial</td>\n",
       "      <td>3.012117</td>\n",
       "      <td>True</td>\n",
       "    </tr>\n",
       "    <tr>\n",
       "      <td>A1--Cu--fcc--octahedral-interstitial</td>\n",
       "      <td>3.169184</td>\n",
       "      <td>False</td>\n",
       "    </tr>\n",
       "    <tr>\n",
       "      <td>A1--Cu--fcc--crowdion-interstitial</td>\n",
       "      <td>3.261755</td>\n",
       "      <td>False</td>\n",
       "    </tr>\n",
       "    <tr>\n",
       "      <td>A1--Cu--fcc--110-dumbbell</td>\n",
       "      <td>3.261794</td>\n",
       "      <td>False</td>\n",
       "    </tr>\n",
       "  </tbody>\n",
       "</table>"
      ],
      "text/plain": [
       "<IPython.core.display.HTML object>"
      ]
     },
     "metadata": {},
     "output_type": "display_data"
    }
   ],
   "source": [
    "# Unit conversions\n",
    "results_df['E_f (eV)'] = uc.get_in_units(results_df.E_f, 'eV')\n",
    "\n",
    "# Loop over all compositions\n",
    "for composition in np.unique(results_df.composition):\n",
    "    show_df = results_df[results_df.composition==composition]\n",
    "    \n",
    "    print(composition)\n",
    "    show_df = show_df[['pointdefect_id', 'E_f (eV)', 'reconfigured']].sort_values('E_f (eV)')\n",
    "    display(HTML(show_df.to_html(index=False)))"
   ]
  },
  {
   "cell_type": "markdown",
   "metadata": {
    "deletable": true,
    "editable": true
   },
   "source": [
    "## 6. surface_energy"
   ]
  },
  {
   "cell_type": "code",
   "execution_count": 35,
   "metadata": {
    "collapsed": true,
    "deletable": true,
    "editable": true
   },
   "outputs": [],
   "source": [
    "n = 1\n",
    "calculation_style = 'surface_energy'\n",
    "record_style = 'calculation_surface_energy'\n",
    "sizemults = '5 5 10'\n",
    "parent_calculation_style = 'LAMMPS_ELASTIC'\n",
    "parent_record_style = 'calculation_system_relax'"
   ]
  },
  {
   "cell_type": "markdown",
   "metadata": {
    "deletable": true,
    "editable": true
   },
   "source": [
    "### Prepare"
   ]
  },
  {
   "cell_type": "markdown",
   "metadata": {
    "deletable": true,
    "editable": true
   },
   "source": [
    "Get parent records"
   ]
  },
  {
   "cell_type": "code",
   "execution_count": 36,
   "metadata": {
    "collapsed": false,
    "deletable": true,
    "editable": true
   },
   "outputs": [
    {
     "name": "stdout",
     "output_type": "stream",
     "text": [
      "1 parent records found\n"
     ]
    }
   ],
   "source": [
    "parent_df = dbase.get_records_df(style=parent_record_style, full=True, flat=False)\n",
    "parent_df = parent_df[parent_df.potential_id == potential]\n",
    "parent_df = parent_df[parent_df.calc_script == 'calc_'+parent_calculation_style]\n",
    "parent_df = parent_df[parent_df.family == family]\n",
    "parent_records = dbase.get_records(name=parent_df.calc_key.tolist())\n",
    "\n",
    "print(len(parent_records), 'parent records found')"
   ]
  },
  {
   "cell_type": "markdown",
   "metadata": {
    "deletable": true,
    "editable": true
   },
   "source": [
    "Define prepare function variables"
   ]
  },
  {
   "cell_type": "code",
   "execution_count": 37,
   "metadata": {
    "collapsed": true,
    "deletable": true,
    "editable": true
   },
   "outputs": [],
   "source": [
    "run_directory = run_terms[n]['run_directory']\n",
    "\n",
    "input_dict = {}\n",
    "input_dict['calculation_style'] = calculation_style\n",
    "input_dict['lammps_command'] = run_terms[n]['lammps_command']\n",
    "input_dict['mpi_command'] = run_terms[n]['mpi_command']\n",
    "input_dict['sizemults'] = sizemults\n",
    "input_dict['parent_records'] = parent_records"
   ]
  },
  {
   "cell_type": "markdown",
   "metadata": {
    "deletable": true,
    "editable": true
   },
   "source": [
    "Call prepare"
   ]
  },
  {
   "cell_type": "code",
   "execution_count": 38,
   "metadata": {
    "collapsed": false,
    "deletable": true,
    "editable": true
   },
   "outputs": [],
   "source": [
    "iprPy.highthroughput.prepare(dbase, run_directory, input_dict=input_dict)"
   ]
  },
  {
   "cell_type": "markdown",
   "metadata": {
    "deletable": true,
    "editable": true
   },
   "source": [
    "### Run"
   ]
  },
  {
   "cell_type": "code",
   "execution_count": 39,
   "metadata": {
    "collapsed": false,
    "deletable": true,
    "editable": true
   },
   "outputs": [],
   "source": [
    "iprPy.highthroughput.runner(dbase, run_directory)"
   ]
  },
  {
   "cell_type": "markdown",
   "metadata": {
    "deletable": true,
    "editable": true
   },
   "source": [
    "### Analyze"
   ]
  },
  {
   "cell_type": "markdown",
   "metadata": {
    "deletable": true,
    "editable": true
   },
   "source": [
    "Fetch records"
   ]
  },
  {
   "cell_type": "code",
   "execution_count": 40,
   "metadata": {
    "collapsed": false,
    "deletable": true,
    "editable": true
   },
   "outputs": [
    {
     "name": "stdout",
     "output_type": "stream",
     "text": [
      "3 records found\n"
     ]
    }
   ],
   "source": [
    "results_df = dbase.get_records_df(style=record_style, full=True, flat=False)\n",
    "results_df = results_df[results_df.potential_id == potential]\n",
    "results_df = results_df[results_df.calc_script == 'calc_'+calculation_style]\n",
    "results_df['parent_key'] = [os.path.splitext(parent_key)[0] for parent_key in results_df.load_file]\n",
    "results_df = results_df[results_df.parent_key.isin(parent_df.calc_key)]\n",
    "\n",
    "print(len(results_df), 'records found')"
   ]
  },
  {
   "cell_type": "markdown",
   "metadata": {
    "deletable": true,
    "editable": true
   },
   "source": [
    "Check errors"
   ]
  },
  {
   "cell_type": "code",
   "execution_count": 41,
   "metadata": {
    "collapsed": false,
    "deletable": true,
    "editable": true
   },
   "outputs": [
    {
     "name": "stdout",
     "output_type": "stream",
     "text": [
      "0 issued errors\n"
     ]
    }
   ],
   "source": [
    "error_df = results_df[results_df.status=='error']\n",
    "print(len(error_df), 'issued errors')\n",
    "\n",
    "if len(error_df) > 0:\n",
    "    for error in np.unique(error_df.error.values):\n",
    "        print(error)    "
   ]
  },
  {
   "cell_type": "markdown",
   "metadata": {
    "deletable": true,
    "editable": true
   },
   "source": [
    "Define composition"
   ]
  },
  {
   "cell_type": "code",
   "execution_count": 42,
   "metadata": {
    "collapsed": true,
    "deletable": true,
    "editable": true
   },
   "outputs": [],
   "source": [
    "compositions = []\n",
    "for i, calc in results_df.iterrows():\n",
    "    compositions.append(comp_refine(calc.symbols, counts[calc.family]))\n",
    "results_df = results_df.assign(composition=compositions)"
   ]
  },
  {
   "cell_type": "markdown",
   "metadata": {
    "deletable": true,
    "editable": true
   },
   "source": [
    "#### Display $\\gamma_{fs}$"
   ]
  },
  {
   "cell_type": "code",
   "execution_count": 43,
   "metadata": {
    "collapsed": false,
    "deletable": true,
    "editable": true
   },
   "outputs": [
    {
     "name": "stdout",
     "output_type": "stream",
     "text": [
      "Au\n"
     ]
    },
    {
     "data": {
      "text/html": [
       "<table border=\"1\" class=\"dataframe\">\n",
       "  <thead>\n",
       "    <tr style=\"text-align: right;\">\n",
       "      <th>surface_id</th>\n",
       "      <th>gamma_fs (mJ/m^2)</th>\n",
       "    </tr>\n",
       "  </thead>\n",
       "  <tbody>\n",
       "    <tr>\n",
       "      <td>A1--Cu--fcc--111</td>\n",
       "      <td>1289.008154</td>\n",
       "    </tr>\n",
       "    <tr>\n",
       "      <td>A1--Cu--fcc--100</td>\n",
       "      <td>1327.813524</td>\n",
       "    </tr>\n",
       "    <tr>\n",
       "      <td>A1--Cu--fcc--110</td>\n",
       "      <td>1418.657699</td>\n",
       "    </tr>\n",
       "  </tbody>\n",
       "</table>"
      ],
      "text/plain": [
       "<IPython.core.display.HTML object>"
      ]
     },
     "metadata": {},
     "output_type": "display_data"
    }
   ],
   "source": [
    "# Unit conversions\n",
    "results_df['gamma_fs (mJ/m^2)'] = uc.get_in_units(results_df.gamma_fs, 'mJ/m^2')\n",
    "\n",
    "# Loop over all compositions\n",
    "for composition in np.unique(results_df.composition):\n",
    "    show_df = results_df[results_df.composition==composition]\n",
    "    \n",
    "    print(composition)\n",
    "    show_df = show_df[['surface_id', 'gamma_fs (mJ/m^2)']].sort_values('gamma_fs (mJ/m^2)')\n",
    "    display(HTML(show_df.to_html(index=False)))"
   ]
  },
  {
   "cell_type": "markdown",
   "metadata": {
    "deletable": true,
    "editable": true
   },
   "source": [
    "## 7. Stacking Fault"
   ]
  },
  {
   "cell_type": "code",
   "execution_count": 44,
   "metadata": {
    "collapsed": true,
    "deletable": true,
    "editable": true
   },
   "outputs": [],
   "source": [
    "n = 1\n",
    "calculation_style = 'stacking_fault_multi'\n",
    "record_style = 'calculation_generalized_stacking_fault'\n",
    "sizemults = '5 5 10'\n",
    "numshifts1 = 51 \n",
    "numshifts2 = 51\n",
    "parent_calculation_style = 'LAMMPS_ELASTIC'\n",
    "parent_record_style = 'calculation_system_relax'"
   ]
  },
  {
   "cell_type": "markdown",
   "metadata": {
    "deletable": true,
    "editable": true
   },
   "source": [
    "### Prepare"
   ]
  },
  {
   "cell_type": "markdown",
   "metadata": {
    "deletable": true,
    "editable": true
   },
   "source": [
    "Get parent records"
   ]
  },
  {
   "cell_type": "code",
   "execution_count": 45,
   "metadata": {
    "collapsed": false,
    "deletable": true,
    "editable": true
   },
   "outputs": [
    {
     "name": "stdout",
     "output_type": "stream",
     "text": [
      "1 parent records found\n"
     ]
    }
   ],
   "source": [
    "parent_df = dbase.get_records_df(style=parent_record_style, full=True, flat=False)\n",
    "parent_df = parent_df[parent_df.potential_id == potential]\n",
    "parent_df = parent_df[parent_df.calc_script == 'calc_'+parent_calculation_style]\n",
    "parent_df = parent_df[parent_df.family == family]\n",
    "parent_records = dbase.get_records(name=parent_df.calc_key.tolist())\n",
    "\n",
    "print(len(parent_records), 'parent records found')"
   ]
  },
  {
   "cell_type": "markdown",
   "metadata": {
    "deletable": true,
    "editable": true
   },
   "source": [
    "Define prepare function variables"
   ]
  },
  {
   "cell_type": "code",
   "execution_count": 46,
   "metadata": {
    "collapsed": true,
    "deletable": true,
    "editable": true
   },
   "outputs": [],
   "source": [
    "run_directory = run_terms[n]['run_directory']\n",
    "\n",
    "input_dict = {}\n",
    "input_dict['calculation_style'] = calculation_style\n",
    "input_dict['lammps_command'] = run_terms[n]['lammps_command']\n",
    "input_dict['mpi_command'] = run_terms[n]['mpi_command']\n",
    "input_dict['sizemults'] = sizemults\n",
    "input_dict['stackingfault_numshifts1'] = str(numshifts1)\n",
    "input_dict['stackingfault_numshifts2'] = str(numshifts2)\n",
    "input_dict['parent_records'] = parent_records"
   ]
  },
  {
   "cell_type": "markdown",
   "metadata": {
    "deletable": true,
    "editable": true
   },
   "source": [
    "Call prepare"
   ]
  },
  {
   "cell_type": "code",
   "execution_count": 47,
   "metadata": {
    "collapsed": false,
    "deletable": true,
    "editable": true
   },
   "outputs": [],
   "source": [
    "iprPy.highthroughput.prepare(dbase, run_directory, input_dict=input_dict)"
   ]
  },
  {
   "cell_type": "markdown",
   "metadata": {
    "deletable": true,
    "editable": true
   },
   "source": [
    "### Run"
   ]
  },
  {
   "cell_type": "code",
   "execution_count": 48,
   "metadata": {
    "collapsed": false,
    "deletable": true,
    "editable": true
   },
   "outputs": [],
   "source": [
    "iprPy.highthroughput.runner(dbase, run_directory)"
   ]
  },
  {
   "cell_type": "markdown",
   "metadata": {
    "deletable": true,
    "editable": true
   },
   "source": [
    "### Analyze"
   ]
  },
  {
   "cell_type": "markdown",
   "metadata": {
    "deletable": true,
    "editable": true
   },
   "source": [
    "Fetch records"
   ]
  },
  {
   "cell_type": "code",
   "execution_count": 49,
   "metadata": {
    "collapsed": false,
    "deletable": true,
    "editable": true
   },
   "outputs": [
    {
     "name": "stdout",
     "output_type": "stream",
     "text": [
      "1 records found\n"
     ]
    }
   ],
   "source": [
    "results_df = dbase.get_records_df(style=record_style, full=True, flat=False)\n",
    "results_df = results_df[results_df.potential_id == potential]\n",
    "results_df = results_df[results_df.calc_script == 'calc_'+calculation_style]\n",
    "results_df['parent_key'] = [os.path.splitext(parent_key)[0] for parent_key in results_df.load_file]\n",
    "results_df = results_df[results_df.parent_key.isin(parent_df.calc_key)]\n",
    "\n",
    "print(len(results_df), 'records found')"
   ]
  },
  {
   "cell_type": "markdown",
   "metadata": {
    "deletable": true,
    "editable": true
   },
   "source": [
    "Check errors"
   ]
  },
  {
   "cell_type": "code",
   "execution_count": 50,
   "metadata": {
    "collapsed": false,
    "deletable": true,
    "editable": true
   },
   "outputs": [
    {
     "name": "stdout",
     "output_type": "stream",
     "text": [
      "0 issued errors\n"
     ]
    }
   ],
   "source": [
    "error_df = results_df[results_df.status=='error']\n",
    "print(len(error_df), 'issued errors')\n",
    "\n",
    "if len(error_df) > 0:\n",
    "    for error in np.unique(error_df.error.values):\n",
    "        print(error)    "
   ]
  },
  {
   "cell_type": "markdown",
   "metadata": {
    "deletable": true,
    "editable": true
   },
   "source": [
    "Define composition"
   ]
  },
  {
   "cell_type": "code",
   "execution_count": 51,
   "metadata": {
    "collapsed": true,
    "deletable": true,
    "editable": true
   },
   "outputs": [],
   "source": [
    "compositions = []\n",
    "for i, calc in results_df.iterrows():\n",
    "    compositions.append(comp_refine(calc.symbols, counts[calc.family]))\n",
    "results_df = results_df.assign(composition=compositions)"
   ]
  },
  {
   "cell_type": "markdown",
   "metadata": {
    "deletable": true,
    "editable": true
   },
   "source": [
    "Plot $\\gamma_{gsf}$"
   ]
  },
  {
   "cell_type": "code",
   "execution_count": 52,
   "metadata": {
    "collapsed": false,
    "deletable": true,
    "editable": true,
    "scrolled": true
   },
   "outputs": [
    {
     "name": "stdout",
     "output_type": "stream",
     "text": [
      "Au\n"
     ]
    },
    {
     "data": {
      "text/html": [
       "\n",
       "\n",
       "    <div class=\"bk-root\">\n",
       "        <div class=\"bk-plotdiv\" id=\"9745d2b1-bd5d-4e9e-826e-96dafc3b18b6\"></div>\n",
       "    </div>\n",
       "<script type=\"text/javascript\">\n",
       "  \n",
       "  (function(global) {\n",
       "    function now() {\n",
       "      return new Date();\n",
       "    }\n",
       "  \n",
       "    var force = false;\n",
       "  \n",
       "    if (typeof (window._bokeh_onload_callbacks) === \"undefined\" || force === true) {\n",
       "      window._bokeh_onload_callbacks = [];\n",
       "      window._bokeh_is_loading = undefined;\n",
       "    }\n",
       "  \n",
       "  \n",
       "    \n",
       "    if (typeof (window._bokeh_timeout) === \"undefined\" || force === true) {\n",
       "      window._bokeh_timeout = Date.now() + 0;\n",
       "      window._bokeh_failed_load = false;\n",
       "    }\n",
       "  \n",
       "    var NB_LOAD_WARNING = {'data': {'text/html':\n",
       "       \"<div style='background-color: #fdd'>\\n\"+\n",
       "       \"<p>\\n\"+\n",
       "       \"BokehJS does not appear to have successfully loaded. If loading BokehJS from CDN, this \\n\"+\n",
       "       \"may be due to a slow or bad network connection. Possible fixes:\\n\"+\n",
       "       \"</p>\\n\"+\n",
       "       \"<ul>\\n\"+\n",
       "       \"<li>re-rerun `output_notebook()` to attempt to load from CDN again, or</li>\\n\"+\n",
       "       \"<li>use INLINE resources instead, as so:</li>\\n\"+\n",
       "       \"</ul>\\n\"+\n",
       "       \"<code>\\n\"+\n",
       "       \"from bokeh.resources import INLINE\\n\"+\n",
       "       \"output_notebook(resources=INLINE)\\n\"+\n",
       "       \"</code>\\n\"+\n",
       "       \"</div>\"}};\n",
       "  \n",
       "    function display_loaded() {\n",
       "      if (window.Bokeh !== undefined) {\n",
       "        document.getElementById(\"9745d2b1-bd5d-4e9e-826e-96dafc3b18b6\").textContent = \"BokehJS successfully loaded.\";\n",
       "      } else if (Date.now() < window._bokeh_timeout) {\n",
       "        setTimeout(display_loaded, 100)\n",
       "      }\n",
       "    }\n",
       "  \n",
       "    function run_callbacks() {\n",
       "      window._bokeh_onload_callbacks.forEach(function(callback) { callback() });\n",
       "      delete window._bokeh_onload_callbacks\n",
       "      console.info(\"Bokeh: all callbacks have finished\");\n",
       "    }\n",
       "  \n",
       "    function load_libs(js_urls, callback) {\n",
       "      window._bokeh_onload_callbacks.push(callback);\n",
       "      if (window._bokeh_is_loading > 0) {\n",
       "        console.log(\"Bokeh: BokehJS is being loaded, scheduling callback at\", now());\n",
       "        return null;\n",
       "      }\n",
       "      if (js_urls == null || js_urls.length === 0) {\n",
       "        run_callbacks();\n",
       "        return null;\n",
       "      }\n",
       "      console.log(\"Bokeh: BokehJS not loaded, scheduling load and callback at\", now());\n",
       "      window._bokeh_is_loading = js_urls.length;\n",
       "      for (var i = 0; i < js_urls.length; i++) {\n",
       "        var url = js_urls[i];\n",
       "        var s = document.createElement('script');\n",
       "        s.src = url;\n",
       "        s.async = false;\n",
       "        s.onreadystatechange = s.onload = function() {\n",
       "          window._bokeh_is_loading--;\n",
       "          if (window._bokeh_is_loading === 0) {\n",
       "            console.log(\"Bokeh: all BokehJS libraries loaded\");\n",
       "            run_callbacks()\n",
       "          }\n",
       "        };\n",
       "        s.onerror = function() {\n",
       "          console.warn(\"failed to load library \" + url);\n",
       "        };\n",
       "        console.log(\"Bokeh: injecting script tag for BokehJS library: \", url);\n",
       "        document.getElementsByTagName(\"head\")[0].appendChild(s);\n",
       "      }\n",
       "    };var element = document.getElementById(\"9745d2b1-bd5d-4e9e-826e-96dafc3b18b6\");\n",
       "    if (element == null) {\n",
       "      console.log(\"Bokeh: ERROR: autoload.js configured with elementid '9745d2b1-bd5d-4e9e-826e-96dafc3b18b6' but no matching script tag was found. \")\n",
       "      return false;\n",
       "    }\n",
       "  \n",
       "    var js_urls = [];\n",
       "  \n",
       "    var inline_js = [\n",
       "      function(Bokeh) {\n",
       "        (function() {\n",
       "          var fn = function() {\n",
       "            var docs_json = {\"a0f2999d-128e-4bbb-a466-dce64fa0829c\":{\"roots\":{\"references\":[{\"attributes\":{\"data_source\":{\"id\":\"5c9d903f-4fab-43d1-a061-43f73bd2270d\",\"type\":\"ColumnDataSource\"},\"glyph\":{\"id\":\"98161d8c-0692-4c24-af4e-ae00bdd23ac8\",\"type\":\"Line\"},\"hover_glyph\":null,\"nonselection_glyph\":{\"id\":\"4badb060-3e7c-4a77-b1f3-38f3f4673dff\",\"type\":\"Line\"},\"selection_glyph\":null},\"id\":\"d0cec983-dd8c-45b0-b1a5-58181b58567b\",\"type\":\"GlyphRenderer\"},{\"attributes\":{\"plot\":{\"id\":\"8a895f83-6565-4033-9f37-1335685ef57f\",\"subtype\":\"Figure\",\"type\":\"Plot\"}},\"id\":\"0f1f3a67-7af2-47a8-8e43-0c734a0b8b8b\",\"type\":\"WheelZoomTool\"},{\"attributes\":{\"overlay\":{\"id\":\"afaabe77-69a3-4599-92fb-66ad64872d0e\",\"type\":\"BoxAnnotation\"},\"plot\":{\"id\":\"8a895f83-6565-4033-9f37-1335685ef57f\",\"subtype\":\"Figure\",\"type\":\"Plot\"}},\"id\":\"81528868-7f5b-43f8-8b30-5d1d52984e35\",\"type\":\"BoxZoomTool\"},{\"attributes\":{},\"id\":\"376f0f15-ae1b-45bc-84a8-702f0cd3f360\",\"type\":\"BasicTicker\"},{\"attributes\":{\"callback\":null,\"column_names\":[\"y\",\"x\"],\"data\":{\"x\":{\"__ndarray__\":\"AAAAAAAAAAB7FK5H4XqUP3sUrkfheqQ/uB6F61G4rj97FK5H4Xq0P5qZmZmZmbk/uB6F61G4vj/sUbgehevBP3sUrkfhesQ/CtejcD0Kxz+amZmZmZnJPylcj8L1KMw/uB6F61G4zj+kcD0K16PQP+xRuB6F69E/MzMzMzMz0z97FK5H4XrUP8P1KFyPwtU/CtejcD0K1z9SuB6F61HYP5qZmZmZmdk/4XoUrkfh2j8pXI/C9SjcP3E9CtejcN0/uB6F61G43j8AAAAAAADgP6RwPQrXo+A/SOF6FK5H4T/sUbgehevhP4/C9Shcj+I/MzMzMzMz4z/Xo3A9CtfjP3sUrkfheuQ/H4XrUbge5T/D9Shcj8LlP2dmZmZmZuY/CtejcD0K5z+uR+F6FK7nP1K4HoXrUeg/9ihcj8L16D+amZmZmZnpPz4K16NwPeo/4XoUrkfh6j+F61G4HoXrPylcj8L1KOw/zczMzMzM7D9xPQrXo3DtPxWuR+F6FO4/uB6F61G47j9cj8L1KFzvPwAAAAAAAPA/\",\"dtype\":\"float64\",\"shape\":[51]},\"y\":{\"__ndarray__\":\"AAAAAAAAAABypWBAyPb/P/gDsYo7qh9A4Mkre36JMUCtrWyJy4M+QGrSG59qM0dAHFqpbmArUEDript4LTJVQPSlgxn4iVpARR4A8hoIYED0pCcI0NJiQJKArCOel2VAB9eJsGJLaEAJamPeReVqQCTUu150Xm1A3evucbexb0AiURq/f+1wQACsNbd463FAxaY3wT/RckAbADbPSp1zQCIlAzLzTXRAQ37I3oThdEDSfTIxXlZ1QFW/F0oIq3VAqBZVhVbedUDwDsWYhu91QKgWVYVW3nVAVb8XSgirdUDSfTIxXlZ1QEN+yN6E4XRAIiUDMvNNdEAbADbPSp1zQLusNME/0XJAAKw1t3jrcUAiURq/f+1wQDry6HG3sW9AJNS7XnRebUAJamPeReVqQAfXibBiS2hAkoCsI56XZUD0pCcI0NJiQEUeAPIaCGBA9KWDGfiJWkDript4LTJVQBxaqW5gK1BAatIbn2ozR0CtrWyJy4M+QODJK3t+iTFA+AOxijuqH0BypWBAyPb/PwAAAAAAAAAA\",\"dtype\":\"float64\",\"shape\":[51]}}},\"id\":\"5c9d903f-4fab-43d1-a061-43f73bd2270d\",\"type\":\"ColumnDataSource\"},{\"attributes\":{},\"id\":\"ea7bea85-e28a-42c5-8a2e-4fbceec53a43\",\"type\":\"ToolEvents\"},{\"attributes\":{\"line_width\":{\"value\":2},\"x\":{\"field\":\"x\"},\"y\":{\"field\":\"y\"}},\"id\":\"98161d8c-0692-4c24-af4e-ae00bdd23ac8\",\"type\":\"Line\"},{\"attributes\":{\"callback\":null},\"id\":\"fadf350a-437c-4df6-b03a-99acc47a50c1\",\"type\":\"DataRange1d\"},{\"attributes\":{\"plot\":null,\"text\":\"Generalized Stacking Fault\"},\"id\":\"1b53f2e5-43af-4786-ab86-37d928dbfd03\",\"type\":\"Title\"},{\"attributes\":{\"active_drag\":\"auto\",\"active_scroll\":\"auto\",\"active_tap\":\"auto\",\"tools\":[{\"id\":\"451aff72-c07c-4595-905d-b18440808224\",\"type\":\"PanTool\"},{\"id\":\"0f1f3a67-7af2-47a8-8e43-0c734a0b8b8b\",\"type\":\"WheelZoomTool\"},{\"id\":\"81528868-7f5b-43f8-8b30-5d1d52984e35\",\"type\":\"BoxZoomTool\"},{\"id\":\"8e1193f2-f98e-4a97-87ac-5a73bbf09f1d\",\"type\":\"SaveTool\"},{\"id\":\"6e785082-aa15-43e2-a00e-707f0e10b7cf\",\"type\":\"ResetTool\"},{\"id\":\"7ec9aff2-b719-4ea8-b733-08068d63cd00\",\"type\":\"HelpTool\"}]},\"id\":\"e7e4ef0c-71ad-476b-9913-f9a24d179b00\",\"type\":\"Toolbar\"},{\"attributes\":{\"dimension\":1,\"plot\":{\"id\":\"8a895f83-6565-4033-9f37-1335685ef57f\",\"subtype\":\"Figure\",\"type\":\"Plot\"},\"ticker\":{\"id\":\"a338fccc-4f86-4a8b-8e02-c1e0153b9b25\",\"type\":\"BasicTicker\"}},\"id\":\"d3aec266-9d30-49d6-bd92-82e6122bf5c5\",\"type\":\"Grid\"},{\"attributes\":{\"plot\":{\"id\":\"8a895f83-6565-4033-9f37-1335685ef57f\",\"subtype\":\"Figure\",\"type\":\"Plot\"}},\"id\":\"7ec9aff2-b719-4ea8-b733-08068d63cd00\",\"type\":\"HelpTool\"},{\"attributes\":{\"line_alpha\":{\"value\":0.1},\"line_color\":{\"value\":\"#1f77b4\"},\"line_width\":{\"value\":2},\"x\":{\"field\":\"x\"},\"y\":{\"field\":\"y\"}},\"id\":\"4badb060-3e7c-4a77-b1f3-38f3f4673dff\",\"type\":\"Line\"},{\"attributes\":{\"bottom_units\":\"screen\",\"fill_alpha\":{\"value\":0.5},\"fill_color\":{\"value\":\"lightgrey\"},\"left_units\":\"screen\",\"level\":\"overlay\",\"line_alpha\":{\"value\":1.0},\"line_color\":{\"value\":\"black\"},\"line_dash\":[4,4],\"line_width\":{\"value\":2},\"plot\":null,\"render_mode\":\"css\",\"right_units\":\"screen\",\"top_units\":\"screen\"},\"id\":\"afaabe77-69a3-4599-92fb-66ad64872d0e\",\"type\":\"BoxAnnotation\"},{\"attributes\":{},\"id\":\"a338fccc-4f86-4a8b-8e02-c1e0153b9b25\",\"type\":\"BasicTicker\"},{\"attributes\":{\"axis_label\":\"Reduced Coordinate\",\"formatter\":{\"id\":\"2dda9205-3edb-4c82-9b86-6dfd7c12fc32\",\"type\":\"BasicTickFormatter\"},\"plot\":{\"id\":\"8a895f83-6565-4033-9f37-1335685ef57f\",\"subtype\":\"Figure\",\"type\":\"Plot\"},\"ticker\":{\"id\":\"376f0f15-ae1b-45bc-84a8-702f0cd3f360\",\"type\":\"BasicTicker\"}},\"id\":\"3f8b9c0b-631e-4160-b555-88d869c9f53e\",\"type\":\"LinearAxis\"},{\"attributes\":{},\"id\":\"2dda9205-3edb-4c82-9b86-6dfd7c12fc32\",\"type\":\"BasicTickFormatter\"},{\"attributes\":{\"callback\":null},\"id\":\"42d76839-ab68-453b-abaf-19a8fac0b564\",\"type\":\"DataRange1d\"},{\"attributes\":{},\"id\":\"dba953f9-1bee-436e-b2d0-ecf02900f805\",\"type\":\"BasicTickFormatter\"},{\"attributes\":{\"axis_label\":\"Stacking Fault Energy (mJ/m^2)\",\"formatter\":{\"id\":\"dba953f9-1bee-436e-b2d0-ecf02900f805\",\"type\":\"BasicTickFormatter\"},\"plot\":{\"id\":\"8a895f83-6565-4033-9f37-1335685ef57f\",\"subtype\":\"Figure\",\"type\":\"Plot\"},\"ticker\":{\"id\":\"a338fccc-4f86-4a8b-8e02-c1e0153b9b25\",\"type\":\"BasicTicker\"}},\"id\":\"d5a20070-85c8-48c9-b195-fb0307619ca9\",\"type\":\"LinearAxis\"},{\"attributes\":{\"plot\":{\"id\":\"8a895f83-6565-4033-9f37-1335685ef57f\",\"subtype\":\"Figure\",\"type\":\"Plot\"}},\"id\":\"451aff72-c07c-4595-905d-b18440808224\",\"type\":\"PanTool\"},{\"attributes\":{\"plot\":{\"id\":\"8a895f83-6565-4033-9f37-1335685ef57f\",\"subtype\":\"Figure\",\"type\":\"Plot\"},\"ticker\":{\"id\":\"376f0f15-ae1b-45bc-84a8-702f0cd3f360\",\"type\":\"BasicTicker\"}},\"id\":\"f53a4c20-2e84-4be9-9fc0-9a0a46bace6c\",\"type\":\"Grid\"},{\"attributes\":{\"plot\":{\"id\":\"8a895f83-6565-4033-9f37-1335685ef57f\",\"subtype\":\"Figure\",\"type\":\"Plot\"}},\"id\":\"6e785082-aa15-43e2-a00e-707f0e10b7cf\",\"type\":\"ResetTool\"},{\"attributes\":{\"plot\":{\"id\":\"8a895f83-6565-4033-9f37-1335685ef57f\",\"subtype\":\"Figure\",\"type\":\"Plot\"}},\"id\":\"8e1193f2-f98e-4a97-87ac-5a73bbf09f1d\",\"type\":\"SaveTool\"},{\"attributes\":{\"below\":[{\"id\":\"3f8b9c0b-631e-4160-b555-88d869c9f53e\",\"type\":\"LinearAxis\"}],\"left\":[{\"id\":\"d5a20070-85c8-48c9-b195-fb0307619ca9\",\"type\":\"LinearAxis\"}],\"plot_width\":800,\"renderers\":[{\"id\":\"3f8b9c0b-631e-4160-b555-88d869c9f53e\",\"type\":\"LinearAxis\"},{\"id\":\"f53a4c20-2e84-4be9-9fc0-9a0a46bace6c\",\"type\":\"Grid\"},{\"id\":\"d5a20070-85c8-48c9-b195-fb0307619ca9\",\"type\":\"LinearAxis\"},{\"id\":\"d3aec266-9d30-49d6-bd92-82e6122bf5c5\",\"type\":\"Grid\"},{\"id\":\"afaabe77-69a3-4599-92fb-66ad64872d0e\",\"type\":\"BoxAnnotation\"},{\"id\":\"d0cec983-dd8c-45b0-b1a5-58181b58567b\",\"type\":\"GlyphRenderer\"}],\"title\":{\"id\":\"1b53f2e5-43af-4786-ab86-37d928dbfd03\",\"type\":\"Title\"},\"tool_events\":{\"id\":\"ea7bea85-e28a-42c5-8a2e-4fbceec53a43\",\"type\":\"ToolEvents\"},\"toolbar\":{\"id\":\"e7e4ef0c-71ad-476b-9913-f9a24d179b00\",\"type\":\"Toolbar\"},\"x_range\":{\"id\":\"fadf350a-437c-4df6-b03a-99acc47a50c1\",\"type\":\"DataRange1d\"},\"y_range\":{\"id\":\"42d76839-ab68-453b-abaf-19a8fac0b564\",\"type\":\"DataRange1d\"}},\"id\":\"8a895f83-6565-4033-9f37-1335685ef57f\",\"subtype\":\"Figure\",\"type\":\"Plot\"}],\"root_ids\":[\"8a895f83-6565-4033-9f37-1335685ef57f\"]},\"title\":\"Bokeh Application\",\"version\":\"0.12.4\"}};\n",
       "            var render_items = [{\"docid\":\"a0f2999d-128e-4bbb-a466-dce64fa0829c\",\"elementid\":\"9745d2b1-bd5d-4e9e-826e-96dafc3b18b6\",\"modelid\":\"8a895f83-6565-4033-9f37-1335685ef57f\"}];\n",
       "            \n",
       "            Bokeh.embed.embed_items(docs_json, render_items);\n",
       "          };\n",
       "          if (document.readyState != \"loading\") fn();\n",
       "          else document.addEventListener(\"DOMContentLoaded\", fn);\n",
       "        })();\n",
       "      },\n",
       "      function(Bokeh) {\n",
       "      }\n",
       "    ];\n",
       "  \n",
       "    function run_inline_js() {\n",
       "      \n",
       "      if ((window.Bokeh !== undefined) || (force === true)) {\n",
       "        for (var i = 0; i < inline_js.length; i++) {\n",
       "          inline_js[i](window.Bokeh);\n",
       "        }if (force === true) {\n",
       "          display_loaded();\n",
       "        }} else if (Date.now() < window._bokeh_timeout) {\n",
       "        setTimeout(run_inline_js, 100);\n",
       "      } else if (!window._bokeh_failed_load) {\n",
       "        console.log(\"Bokeh: BokehJS failed to load within specified timeout.\");\n",
       "        window._bokeh_failed_load = true;\n",
       "      } else if (force !== true) {\n",
       "        var cell = $(document.getElementById(\"9745d2b1-bd5d-4e9e-826e-96dafc3b18b6\")).parents('.cell').data().cell;\n",
       "        cell.output_area.append_execute_result(NB_LOAD_WARNING)\n",
       "      }\n",
       "  \n",
       "    }\n",
       "  \n",
       "    if (window._bokeh_is_loading === 0) {\n",
       "      console.log(\"Bokeh: BokehJS loaded, going straight to plotting\");\n",
       "      run_inline_js();\n",
       "    } else {\n",
       "      load_libs(js_urls, function() {\n",
       "        console.log(\"Bokeh: BokehJS plotting callback run at\", now());\n",
       "        run_inline_js();\n",
       "      });\n",
       "    }\n",
       "  }(this));\n",
       "</script>"
      ]
     },
     "metadata": {},
     "output_type": "display_data"
    },
    {
     "data": {
      "text/html": [
       "\n",
       "\n",
       "    <div class=\"bk-root\">\n",
       "        <div class=\"bk-plotdiv\" id=\"20bc6a39-26cd-4657-8f87-1655fd8572a1\"></div>\n",
       "    </div>\n",
       "<script type=\"text/javascript\">\n",
       "  \n",
       "  (function(global) {\n",
       "    function now() {\n",
       "      return new Date();\n",
       "    }\n",
       "  \n",
       "    var force = false;\n",
       "  \n",
       "    if (typeof (window._bokeh_onload_callbacks) === \"undefined\" || force === true) {\n",
       "      window._bokeh_onload_callbacks = [];\n",
       "      window._bokeh_is_loading = undefined;\n",
       "    }\n",
       "  \n",
       "  \n",
       "    \n",
       "    if (typeof (window._bokeh_timeout) === \"undefined\" || force === true) {\n",
       "      window._bokeh_timeout = Date.now() + 0;\n",
       "      window._bokeh_failed_load = false;\n",
       "    }\n",
       "  \n",
       "    var NB_LOAD_WARNING = {'data': {'text/html':\n",
       "       \"<div style='background-color: #fdd'>\\n\"+\n",
       "       \"<p>\\n\"+\n",
       "       \"BokehJS does not appear to have successfully loaded. If loading BokehJS from CDN, this \\n\"+\n",
       "       \"may be due to a slow or bad network connection. Possible fixes:\\n\"+\n",
       "       \"</p>\\n\"+\n",
       "       \"<ul>\\n\"+\n",
       "       \"<li>re-rerun `output_notebook()` to attempt to load from CDN again, or</li>\\n\"+\n",
       "       \"<li>use INLINE resources instead, as so:</li>\\n\"+\n",
       "       \"</ul>\\n\"+\n",
       "       \"<code>\\n\"+\n",
       "       \"from bokeh.resources import INLINE\\n\"+\n",
       "       \"output_notebook(resources=INLINE)\\n\"+\n",
       "       \"</code>\\n\"+\n",
       "       \"</div>\"}};\n",
       "  \n",
       "    function display_loaded() {\n",
       "      if (window.Bokeh !== undefined) {\n",
       "        document.getElementById(\"20bc6a39-26cd-4657-8f87-1655fd8572a1\").textContent = \"BokehJS successfully loaded.\";\n",
       "      } else if (Date.now() < window._bokeh_timeout) {\n",
       "        setTimeout(display_loaded, 100)\n",
       "      }\n",
       "    }\n",
       "  \n",
       "    function run_callbacks() {\n",
       "      window._bokeh_onload_callbacks.forEach(function(callback) { callback() });\n",
       "      delete window._bokeh_onload_callbacks\n",
       "      console.info(\"Bokeh: all callbacks have finished\");\n",
       "    }\n",
       "  \n",
       "    function load_libs(js_urls, callback) {\n",
       "      window._bokeh_onload_callbacks.push(callback);\n",
       "      if (window._bokeh_is_loading > 0) {\n",
       "        console.log(\"Bokeh: BokehJS is being loaded, scheduling callback at\", now());\n",
       "        return null;\n",
       "      }\n",
       "      if (js_urls == null || js_urls.length === 0) {\n",
       "        run_callbacks();\n",
       "        return null;\n",
       "      }\n",
       "      console.log(\"Bokeh: BokehJS not loaded, scheduling load and callback at\", now());\n",
       "      window._bokeh_is_loading = js_urls.length;\n",
       "      for (var i = 0; i < js_urls.length; i++) {\n",
       "        var url = js_urls[i];\n",
       "        var s = document.createElement('script');\n",
       "        s.src = url;\n",
       "        s.async = false;\n",
       "        s.onreadystatechange = s.onload = function() {\n",
       "          window._bokeh_is_loading--;\n",
       "          if (window._bokeh_is_loading === 0) {\n",
       "            console.log(\"Bokeh: all BokehJS libraries loaded\");\n",
       "            run_callbacks()\n",
       "          }\n",
       "        };\n",
       "        s.onerror = function() {\n",
       "          console.warn(\"failed to load library \" + url);\n",
       "        };\n",
       "        console.log(\"Bokeh: injecting script tag for BokehJS library: \", url);\n",
       "        document.getElementsByTagName(\"head\")[0].appendChild(s);\n",
       "      }\n",
       "    };var element = document.getElementById(\"20bc6a39-26cd-4657-8f87-1655fd8572a1\");\n",
       "    if (element == null) {\n",
       "      console.log(\"Bokeh: ERROR: autoload.js configured with elementid '20bc6a39-26cd-4657-8f87-1655fd8572a1' but no matching script tag was found. \")\n",
       "      return false;\n",
       "    }\n",
       "  \n",
       "    var js_urls = [];\n",
       "  \n",
       "    var inline_js = [\n",
       "      function(Bokeh) {\n",
       "        (function() {\n",
       "          var fn = function() {\n",
       "            var docs_json = {\"8d6d96b7-b181-4839-a4d6-158553fd4ccc\":{\"roots\":{\"references\":[{\"attributes\":{\"bottom_units\":\"screen\",\"fill_alpha\":{\"value\":0.5},\"fill_color\":{\"value\":\"lightgrey\"},\"left_units\":\"screen\",\"level\":\"overlay\",\"line_alpha\":{\"value\":1.0},\"line_color\":{\"value\":\"black\"},\"line_dash\":[4,4],\"line_width\":{\"value\":2},\"plot\":null,\"render_mode\":\"css\",\"right_units\":\"screen\",\"top_units\":\"screen\"},\"id\":\"8d4bc274-b4a5-40b8-9fd5-e973d38cd049\",\"type\":\"BoxAnnotation\"},{\"attributes\":{\"callback\":null,\"column_names\":[\"y\",\"x\"],\"data\":{\"x\":{\"__ndarray__\":\"AAAAAAAAAAB7FK5H4XqUP3sUrkfheqQ/uB6F61G4rj97FK5H4Xq0P5qZmZmZmbk/uB6F61G4vj/sUbgehevBP3sUrkfhesQ/CtejcD0Kxz+amZmZmZnJPylcj8L1KMw/uB6F61G4zj+kcD0K16PQP+xRuB6F69E/MzMzMzMz0z97FK5H4XrUP8P1KFyPwtU/CtejcD0K1z9SuB6F61HYP5qZmZmZmdk/4XoUrkfh2j8pXI/C9SjcP3E9CtejcN0/uB6F61G43j8AAAAAAADgP6RwPQrXo+A/SOF6FK5H4T/sUbgehevhP4/C9Shcj+I/MzMzMzMz4z/Xo3A9CtfjP3sUrkfheuQ/H4XrUbge5T/D9Shcj8LlP2dmZmZmZuY/CtejcD0K5z+uR+F6FK7nP1K4HoXrUeg/9ihcj8L16D+amZmZmZnpPz4K16NwPeo/4XoUrkfh6j+F61G4HoXrPylcj8L1KOw/zczMzMzM7D9xPQrXo3DtPxWuR+F6FO4/uB6F61G47j9cj8L1KFzvPwAAAAAAAPA/\",\"dtype\":\"float64\",\"shape\":[51]},\"y\":{\"__ndarray__\":\"AAAAAAAAAACC2w4rhtgVQK682/j8bDNAI5yHl4wXQ0BpWuzjHzNNQIoQpIJsW1NAUIJyVFhcV0C8q6yRwlZaQP5ol7tKJ1xAW78gm1y9XEDNWYESzxBcQGVVoNrjIlpABSBtvdMKV0C42ptCaAlTQE84m2grOE1AXv7Jad0HRUDHB6nN++M+QItid+M4GD1ATKZLmzEHREAeZbHV10JQQDlB2VTbo1lABhKk//yfYkBZFsb8qgNpQIquPrrUiG9AGoCk62jwckDwDsWYhu91QPamXr38tXhAabvYum88e0CPD4A55np9QG6gE+gWZ39A876FCgx7gEDgjFGxxw+BQPrumHzzb4FAJy/mvISbgUBIT6H/y5KBQKy83uNxVYFAR61vhYTigEA2lyeYmTmAQJH6k0ZJuH5AZpyRh0WbfEBbeSvGmyR6QJQrDu3xW3dAEcBq6nNIdEDaLJy+EfVwQCJ4lQ3Y7mpAZM/4lcLrY0CtlYiKAqFaQA4895xjhk5AUwsLlp7dOkBpkXStEswZQAAAAAAAAAAA\",\"dtype\":\"float64\",\"shape\":[51]}}},\"id\":\"792dcb4b-b422-4137-b908-917efa956e2c\",\"type\":\"ColumnDataSource\"},{\"attributes\":{\"active_drag\":\"auto\",\"active_scroll\":\"auto\",\"active_tap\":\"auto\",\"tools\":[{\"id\":\"bec1495b-82e4-4d63-be3e-4f0e80664227\",\"type\":\"PanTool\"},{\"id\":\"7610115d-1406-4d01-b6d5-2fe0cbc0d9d3\",\"type\":\"WheelZoomTool\"},{\"id\":\"70d60fcb-ebed-4198-a6ea-158966e01161\",\"type\":\"BoxZoomTool\"},{\"id\":\"6e9537e6-f527-48c7-b7a9-7638ae861354\",\"type\":\"SaveTool\"},{\"id\":\"d786d728-cfee-433b-9b61-786c51711b81\",\"type\":\"ResetTool\"},{\"id\":\"704661ab-f87a-4de8-91ff-9ad644b166a5\",\"type\":\"HelpTool\"}]},\"id\":\"f524c2c4-d59e-48fc-a0c4-0d56e0c43152\",\"type\":\"Toolbar\"},{\"attributes\":{\"plot\":{\"id\":\"96928cd0-bb6e-407f-89dd-ae462ffd6c4b\",\"subtype\":\"Figure\",\"type\":\"Plot\"},\"ticker\":{\"id\":\"c9faa21e-2e2d-427a-aefd-7e36a357ba64\",\"type\":\"BasicTicker\"}},\"id\":\"273b6df1-05f2-4e4a-b108-1286c78d5d4d\",\"type\":\"Grid\"},{\"attributes\":{},\"id\":\"c9faa21e-2e2d-427a-aefd-7e36a357ba64\",\"type\":\"BasicTicker\"},{\"attributes\":{},\"id\":\"3b9b1ff5-6832-4c04-8e90-580b50ddb6df\",\"type\":\"BasicTickFormatter\"},{\"attributes\":{\"below\":[{\"id\":\"25d47f92-7037-4bab-b453-5e0a631bd19e\",\"type\":\"LinearAxis\"}],\"left\":[{\"id\":\"4479db19-89af-47ab-92dc-1eab2e7919c8\",\"type\":\"LinearAxis\"}],\"plot_width\":800,\"renderers\":[{\"id\":\"25d47f92-7037-4bab-b453-5e0a631bd19e\",\"type\":\"LinearAxis\"},{\"id\":\"273b6df1-05f2-4e4a-b108-1286c78d5d4d\",\"type\":\"Grid\"},{\"id\":\"4479db19-89af-47ab-92dc-1eab2e7919c8\",\"type\":\"LinearAxis\"},{\"id\":\"eb640998-bfcf-4e74-b975-94299093a0d4\",\"type\":\"Grid\"},{\"id\":\"8d4bc274-b4a5-40b8-9fd5-e973d38cd049\",\"type\":\"BoxAnnotation\"},{\"id\":\"dc846b26-1d3d-45c7-a070-4c909a07a608\",\"type\":\"GlyphRenderer\"}],\"title\":{\"id\":\"8b8bd002-a8b4-4ab7-9337-529bab72bb70\",\"type\":\"Title\"},\"tool_events\":{\"id\":\"a90cd050-ad38-4876-9eaf-2050260e3b4b\",\"type\":\"ToolEvents\"},\"toolbar\":{\"id\":\"f524c2c4-d59e-48fc-a0c4-0d56e0c43152\",\"type\":\"Toolbar\"},\"x_range\":{\"id\":\"86c976e2-099a-4c27-bb94-d0d073f9e50d\",\"type\":\"DataRange1d\"},\"y_range\":{\"id\":\"8fd57503-b6f0-42eb-9fdb-76121c700aa2\",\"type\":\"DataRange1d\"}},\"id\":\"96928cd0-bb6e-407f-89dd-ae462ffd6c4b\",\"subtype\":\"Figure\",\"type\":\"Plot\"},{\"attributes\":{},\"id\":\"d71cdb4c-308d-48a7-bb81-a2ef2fd309a1\",\"type\":\"BasicTickFormatter\"},{\"attributes\":{\"callback\":null},\"id\":\"8fd57503-b6f0-42eb-9fdb-76121c700aa2\",\"type\":\"DataRange1d\"},{\"attributes\":{},\"id\":\"a90cd050-ad38-4876-9eaf-2050260e3b4b\",\"type\":\"ToolEvents\"},{\"attributes\":{\"plot\":null,\"text\":\"Generalized Stacking Fault\"},\"id\":\"8b8bd002-a8b4-4ab7-9337-529bab72bb70\",\"type\":\"Title\"},{\"attributes\":{\"line_width\":{\"value\":2},\"x\":{\"field\":\"x\"},\"y\":{\"field\":\"y\"}},\"id\":\"ff535005-0ab8-4eac-bbd2-ea0b57d40cac\",\"type\":\"Line\"},{\"attributes\":{\"plot\":{\"id\":\"96928cd0-bb6e-407f-89dd-ae462ffd6c4b\",\"subtype\":\"Figure\",\"type\":\"Plot\"}},\"id\":\"6e9537e6-f527-48c7-b7a9-7638ae861354\",\"type\":\"SaveTool\"},{\"attributes\":{},\"id\":\"886e96eb-31cc-41ef-b016-26b32e35537a\",\"type\":\"BasicTicker\"},{\"attributes\":{\"plot\":{\"id\":\"96928cd0-bb6e-407f-89dd-ae462ffd6c4b\",\"subtype\":\"Figure\",\"type\":\"Plot\"}},\"id\":\"bec1495b-82e4-4d63-be3e-4f0e80664227\",\"type\":\"PanTool\"},{\"attributes\":{\"axis_label\":\"Reduced Coordinate\",\"formatter\":{\"id\":\"d71cdb4c-308d-48a7-bb81-a2ef2fd309a1\",\"type\":\"BasicTickFormatter\"},\"plot\":{\"id\":\"96928cd0-bb6e-407f-89dd-ae462ffd6c4b\",\"subtype\":\"Figure\",\"type\":\"Plot\"},\"ticker\":{\"id\":\"c9faa21e-2e2d-427a-aefd-7e36a357ba64\",\"type\":\"BasicTicker\"}},\"id\":\"25d47f92-7037-4bab-b453-5e0a631bd19e\",\"type\":\"LinearAxis\"},{\"attributes\":{\"callback\":null},\"id\":\"86c976e2-099a-4c27-bb94-d0d073f9e50d\",\"type\":\"DataRange1d\"},{\"attributes\":{\"plot\":{\"id\":\"96928cd0-bb6e-407f-89dd-ae462ffd6c4b\",\"subtype\":\"Figure\",\"type\":\"Plot\"}},\"id\":\"704661ab-f87a-4de8-91ff-9ad644b166a5\",\"type\":\"HelpTool\"},{\"attributes\":{\"overlay\":{\"id\":\"8d4bc274-b4a5-40b8-9fd5-e973d38cd049\",\"type\":\"BoxAnnotation\"},\"plot\":{\"id\":\"96928cd0-bb6e-407f-89dd-ae462ffd6c4b\",\"subtype\":\"Figure\",\"type\":\"Plot\"}},\"id\":\"70d60fcb-ebed-4198-a6ea-158966e01161\",\"type\":\"BoxZoomTool\"},{\"attributes\":{\"data_source\":{\"id\":\"792dcb4b-b422-4137-b908-917efa956e2c\",\"type\":\"ColumnDataSource\"},\"glyph\":{\"id\":\"ff535005-0ab8-4eac-bbd2-ea0b57d40cac\",\"type\":\"Line\"},\"hover_glyph\":null,\"nonselection_glyph\":{\"id\":\"e19079d9-e503-4c3b-bd8c-cff203400a26\",\"type\":\"Line\"},\"selection_glyph\":null},\"id\":\"dc846b26-1d3d-45c7-a070-4c909a07a608\",\"type\":\"GlyphRenderer\"},{\"attributes\":{\"line_alpha\":{\"value\":0.1},\"line_color\":{\"value\":\"#1f77b4\"},\"line_width\":{\"value\":2},\"x\":{\"field\":\"x\"},\"y\":{\"field\":\"y\"}},\"id\":\"e19079d9-e503-4c3b-bd8c-cff203400a26\",\"type\":\"Line\"},{\"attributes\":{\"dimension\":1,\"plot\":{\"id\":\"96928cd0-bb6e-407f-89dd-ae462ffd6c4b\",\"subtype\":\"Figure\",\"type\":\"Plot\"},\"ticker\":{\"id\":\"886e96eb-31cc-41ef-b016-26b32e35537a\",\"type\":\"BasicTicker\"}},\"id\":\"eb640998-bfcf-4e74-b975-94299093a0d4\",\"type\":\"Grid\"},{\"attributes\":{\"plot\":{\"id\":\"96928cd0-bb6e-407f-89dd-ae462ffd6c4b\",\"subtype\":\"Figure\",\"type\":\"Plot\"}},\"id\":\"d786d728-cfee-433b-9b61-786c51711b81\",\"type\":\"ResetTool\"},{\"attributes\":{\"axis_label\":\"Stacking Fault Energy (mJ/m^2)\",\"formatter\":{\"id\":\"3b9b1ff5-6832-4c04-8e90-580b50ddb6df\",\"type\":\"BasicTickFormatter\"},\"plot\":{\"id\":\"96928cd0-bb6e-407f-89dd-ae462ffd6c4b\",\"subtype\":\"Figure\",\"type\":\"Plot\"},\"ticker\":{\"id\":\"886e96eb-31cc-41ef-b016-26b32e35537a\",\"type\":\"BasicTicker\"}},\"id\":\"4479db19-89af-47ab-92dc-1eab2e7919c8\",\"type\":\"LinearAxis\"},{\"attributes\":{\"plot\":{\"id\":\"96928cd0-bb6e-407f-89dd-ae462ffd6c4b\",\"subtype\":\"Figure\",\"type\":\"Plot\"}},\"id\":\"7610115d-1406-4d01-b6d5-2fe0cbc0d9d3\",\"type\":\"WheelZoomTool\"}],\"root_ids\":[\"96928cd0-bb6e-407f-89dd-ae462ffd6c4b\"]},\"title\":\"Bokeh Application\",\"version\":\"0.12.4\"}};\n",
       "            var render_items = [{\"docid\":\"8d6d96b7-b181-4839-a4d6-158553fd4ccc\",\"elementid\":\"20bc6a39-26cd-4657-8f87-1655fd8572a1\",\"modelid\":\"96928cd0-bb6e-407f-89dd-ae462ffd6c4b\"}];\n",
       "            \n",
       "            Bokeh.embed.embed_items(docs_json, render_items);\n",
       "          };\n",
       "          if (document.readyState != \"loading\") fn();\n",
       "          else document.addEventListener(\"DOMContentLoaded\", fn);\n",
       "        })();\n",
       "      },\n",
       "      function(Bokeh) {\n",
       "      }\n",
       "    ];\n",
       "  \n",
       "    function run_inline_js() {\n",
       "      \n",
       "      if ((window.Bokeh !== undefined) || (force === true)) {\n",
       "        for (var i = 0; i < inline_js.length; i++) {\n",
       "          inline_js[i](window.Bokeh);\n",
       "        }if (force === true) {\n",
       "          display_loaded();\n",
       "        }} else if (Date.now() < window._bokeh_timeout) {\n",
       "        setTimeout(run_inline_js, 100);\n",
       "      } else if (!window._bokeh_failed_load) {\n",
       "        console.log(\"Bokeh: BokehJS failed to load within specified timeout.\");\n",
       "        window._bokeh_failed_load = true;\n",
       "      } else if (force !== true) {\n",
       "        var cell = $(document.getElementById(\"20bc6a39-26cd-4657-8f87-1655fd8572a1\")).parents('.cell').data().cell;\n",
       "        cell.output_area.append_execute_result(NB_LOAD_WARNING)\n",
       "      }\n",
       "  \n",
       "    }\n",
       "  \n",
       "    if (window._bokeh_is_loading === 0) {\n",
       "      console.log(\"Bokeh: BokehJS loaded, going straight to plotting\");\n",
       "      run_inline_js();\n",
       "    } else {\n",
       "      load_libs(js_urls, function() {\n",
       "        console.log(\"Bokeh: BokehJS plotting callback run at\", now());\n",
       "        run_inline_js();\n",
       "      });\n",
       "    }\n",
       "  }(this));\n",
       "</script>"
      ]
     },
     "metadata": {},
     "output_type": "display_data"
    }
   ],
   "source": [
    "# Loop over records\n",
    "for i, series in results_df.iterrows():\n",
    "    try:\n",
    "        plot_df = series.gsf_plot\n",
    "        plot_df['gamma_gsf (mJ/m^2)'] = uc.get_in_units(plot_df.energy, 'mJ/m^2')\n",
    "    except:\n",
    "        continue\n",
    "    print(series.composition)    \n",
    "    \n",
    "    shift1_df = plot_df[np.isclose(plot_df.shift2, 0.0)]\n",
    "    p = figure(title='Generalized Stacking Fault',\n",
    "              plot_width = 800,\n",
    "              plot_height = 600,\n",
    "              x_axis_label = 'Reduced Coordinate',\n",
    "              y_axis_label = 'Stacking Fault Energy (mJ/m^2)')\n",
    "    p.line(shift1_df.shift1, shift1_df['gamma_gsf (mJ/m^2)'],\n",
    "          line_color='black', line_width=2)\n",
    "    show(p)\n",
    "    \n",
    "    shift2_df = plot_df[np.isclose(plot_df.shift1, 0.0)]    \n",
    "    p = figure(title='Generalized Stacking Fault',\n",
    "              plot_width = 800,\n",
    "              plot_height = 600,\n",
    "              x_axis_label = 'Reduced Coordinate',\n",
    "              y_axis_label = 'Stacking Fault Energy (mJ/m^2)')\n",
    "    p.line(shift2_df.shift2, shift2_df['gamma_gsf (mJ/m^2)'],\n",
    "          line_color='black', line_width=2)\n",
    "    show(p)    "
   ]
  },
  {
   "cell_type": "markdown",
   "metadata": {
    "deletable": true,
    "editable": true
   },
   "source": [
    "## 8. dislocation_monopole"
   ]
  },
  {
   "cell_type": "code",
   "execution_count": 53,
   "metadata": {
    "collapsed": true,
    "deletable": true,
    "editable": true
   },
   "outputs": [],
   "source": [
    "n = 4\n",
    "calculation_style = 'dislocation_monopole'\n",
    "record_style =      'calculation_dislocation_monopole'\n",
    "annealtemperature = 50\n",
    "parent_calculation_style = 'LAMMPS_ELASTIC'\n",
    "parent_record_style = 'calculation_system_relax'\n",
    "\n",
    "sizemults = {}\n",
    "sizemults['A1--Cu--fcc--110-screw'] = '-28 28 -40 40 0 2'\n",
    "sizemults['A1--Cu--fcc--111-edge'] = '-49 49 -40 40 0 2'\n",
    "sizemults['A2--W--bcc--110-edge'] = '-40 40 -28 28 0 2'\n",
    "sizemults['A2--W--bcc--111-screw'] = '-28 28 -49 49 0 2'\n",
    "sizemults['A2--W--bcc--112-edge'] = '-40 40 -49 49 0 2'"
   ]
  },
  {
   "cell_type": "markdown",
   "metadata": {
    "deletable": true,
    "editable": true
   },
   "source": [
    "### Prepare"
   ]
  },
  {
   "cell_type": "markdown",
   "metadata": {
    "deletable": true,
    "editable": true
   },
   "source": [
    "Get parent records"
   ]
  },
  {
   "cell_type": "code",
   "execution_count": 54,
   "metadata": {
    "collapsed": false,
    "deletable": true,
    "editable": true
   },
   "outputs": [
    {
     "name": "stdout",
     "output_type": "stream",
     "text": [
      "1 parent records found\n"
     ]
    }
   ],
   "source": [
    "parent_df = dbase.get_records_df(style=parent_record_style, full=True, flat=False)\n",
    "parent_df = parent_df[parent_df.potential_id == potential]\n",
    "parent_df = parent_df[parent_df.calc_script == 'calc_'+parent_calculation_style]\n",
    "parent_df = parent_df[parent_df.family == family]\n",
    "parent_records = dbase.get_records(name=parent_df.calc_key.tolist())\n",
    "\n",
    "print(len(parent_records), 'parent records found')"
   ]
  },
  {
   "cell_type": "markdown",
   "metadata": {
    "deletable": true,
    "editable": true
   },
   "source": [
    "Define prepare function variables and call prepare"
   ]
  },
  {
   "cell_type": "code",
   "execution_count": 55,
   "metadata": {
    "collapsed": true,
    "deletable": true,
    "editable": true
   },
   "outputs": [],
   "source": [
    "run_directory = run_terms[n]['run_directory']\n",
    "\n",
    "for dislocation_name in sizemults.keys():\n",
    "    input_dict = {}\n",
    "    input_dict['calculation_style'] = 'dislocation_monopole'\n",
    "    input_dict['lammps_command'] = run_terms[n]['lammps_command']\n",
    "    input_dict['mpi_command'] = run_terms[n]['mpi_command']\n",
    "    input_dict['annealtemperature'] = str(annealtemperature)\n",
    "    input_dict['parent_records'] = parent_records\n",
    "    input_dict['dislocation_name'] = dislocation_name\n",
    "    input_dict['sizemults'] = sizemults[dislocation_name]\n",
    "    \n",
    "    iprPy.highthroughput.prepare(dbase, run_directory, input_dict=input_dict)"
   ]
  },
  {
   "cell_type": "markdown",
   "metadata": {
    "deletable": true,
    "editable": true
   },
   "source": [
    "### Run"
   ]
  },
  {
   "cell_type": "code",
   "execution_count": 56,
   "metadata": {
    "collapsed": false,
    "deletable": true,
    "editable": true
   },
   "outputs": [],
   "source": [
    "iprPy.highthroughput.runner(dbase, run_directory)"
   ]
  },
  {
   "cell_type": "markdown",
   "metadata": {
    "deletable": true,
    "editable": true
   },
   "source": [
    "### Analyze"
   ]
  },
  {
   "cell_type": "markdown",
   "metadata": {
    "deletable": true,
    "editable": true
   },
   "source": [
    "Fetch records"
   ]
  },
  {
   "cell_type": "code",
   "execution_count": 57,
   "metadata": {
    "collapsed": false,
    "deletable": true,
    "editable": true
   },
   "outputs": [
    {
     "name": "stdout",
     "output_type": "stream",
     "text": [
      "2 records found\n"
     ]
    }
   ],
   "source": [
    "results_df = dbase.get_records_df(style=record_style, full=True, flat=False)\n",
    "results_df = results_df[results_df.potential_id == potential]\n",
    "results_df = results_df[results_df.calc_script == 'calc_'+calculation_style]\n",
    "results_df['parent_key'] = [os.path.splitext(parent_key)[0] for parent_key in results_df.load_file]\n",
    "results_df = results_df[results_df.parent_key.isin(parent_df.calc_key)]\n",
    "\n",
    "print(len(results_df), 'records found')"
   ]
  },
  {
   "cell_type": "markdown",
   "metadata": {
    "deletable": true,
    "editable": true
   },
   "source": [
    "Check errors"
   ]
  },
  {
   "cell_type": "code",
   "execution_count": 58,
   "metadata": {
    "collapsed": false,
    "deletable": true,
    "editable": true
   },
   "outputs": [
    {
     "name": "stdout",
     "output_type": "stream",
     "text": [
      "0 issued errors\n"
     ]
    }
   ],
   "source": [
    "error_df = results_df[results_df.status=='error']\n",
    "print(len(error_df), 'issued errors')\n",
    "if len(error_df) > 0:\n",
    "    for error in np.unique(error_df.error.values):\n",
    "        print(error)    "
   ]
  },
  {
   "cell_type": "code",
   "execution_count": 59,
   "metadata": {
    "collapsed": false,
    "deletable": true,
    "editable": true
   },
   "outputs": [
    {
     "data": {
      "text/html": [
       "<div>\n",
       "<table border=\"1\" class=\"dataframe\">\n",
       "  <thead>\n",
       "    <tr style=\"text-align: right;\">\n",
       "      <th></th>\n",
       "      <th>C</th>\n",
       "      <th>K_tensor</th>\n",
       "      <th>LAMMPS_version</th>\n",
       "      <th>annealtemperature</th>\n",
       "      <th>calc_key</th>\n",
       "      <th>calc_script</th>\n",
       "      <th>dislocation_id</th>\n",
       "      <th>dislocation_key</th>\n",
       "      <th>energytolerance</th>\n",
       "      <th>family</th>\n",
       "      <th>...</th>\n",
       "      <th>maxiterations</th>\n",
       "      <th>potential_LAMMPS_id</th>\n",
       "      <th>potential_LAMMPS_key</th>\n",
       "      <th>potential_id</th>\n",
       "      <th>potential_key</th>\n",
       "      <th>preln</th>\n",
       "      <th>sizemults</th>\n",
       "      <th>status</th>\n",
       "      <th>symbols</th>\n",
       "      <th>parent_key</th>\n",
       "    </tr>\n",
       "  </thead>\n",
       "  <tbody>\n",
       "    <tr>\n",
       "      <th>0</th>\n",
       "      <td>[[ 1.28200183  1.04724786  1.04724786  0.     ...</td>\n",
       "      <td>[[0.363708386616, 0.0, 0.0], [0.0, 0.362247352...</td>\n",
       "      <td>27 Aug 2016-ICMS</td>\n",
       "      <td>50.0</td>\n",
       "      <td>758ae784-ee7b-4f4e-9f9c-71402e41eee1</td>\n",
       "      <td>calc_dislocation_monopole</td>\n",
       "      <td>A1--Cu--fcc--111-edge</td>\n",
       "      <td>d59f2382-17e5-4fbd-b398-407c75e6009a</td>\n",
       "      <td>0.0</td>\n",
       "      <td>A1--Cu--fcc</td>\n",
       "      <td>...</td>\n",
       "      <td>10000</td>\n",
       "      <td>2017--Purja-Pun-G-P--Au--LAMMPS--test</td>\n",
       "      <td>8bfd0a48-8558-46f9-9d20-cd9e92cb83ae</td>\n",
       "      <td>2017--Purja-Pun-G-P--Au</td>\n",
       "      <td>ef908258-25d1-439e-8223-3bf4df924ed0</td>\n",
       "      <td>0.240662</td>\n",
       "      <td>[[-49, 49], [-40, 40], [0, 2]]</td>\n",
       "      <td>finished</td>\n",
       "      <td>[Au]</td>\n",
       "      <td>3bc5deae-2d52-49bd-89e7-f0ee84237d10</td>\n",
       "    </tr>\n",
       "    <tr>\n",
       "      <th>1</th>\n",
       "      <td>[[ 1.28200183  1.04724786  1.04724786  0.     ...</td>\n",
       "      <td>[[0.369362348353, -0.0119890488451, 0.0], [-0....</td>\n",
       "      <td>27 Aug 2016-ICMS</td>\n",
       "      <td>50.0</td>\n",
       "      <td>da1a3870-b7f9-4106-82b4-c6ebc81ff057</td>\n",
       "      <td>calc_dislocation_monopole</td>\n",
       "      <td>A1--Cu--fcc--110-screw</td>\n",
       "      <td>fbb42787-440e-46cb-bce3-584857257907</td>\n",
       "      <td>0.0</td>\n",
       "      <td>A1--Cu--fcc</td>\n",
       "      <td>...</td>\n",
       "      <td>10000</td>\n",
       "      <td>2017--Purja-Pun-G-P--Au--LAMMPS--test</td>\n",
       "      <td>8bfd0a48-8558-46f9-9d20-cd9e92cb83ae</td>\n",
       "      <td>2017--Purja-Pun-G-P--Au</td>\n",
       "      <td>ef908258-25d1-439e-8223-3bf4df924ed0</td>\n",
       "      <td>0.125082</td>\n",
       "      <td>[[-28, 28], [-40, 40], [0, 2]]</td>\n",
       "      <td>finished</td>\n",
       "      <td>[Au]</td>\n",
       "      <td>3bc5deae-2d52-49bd-89e7-f0ee84237d10</td>\n",
       "    </tr>\n",
       "  </tbody>\n",
       "</table>\n",
       "<p>2 rows × 27 columns</p>\n",
       "</div>"
      ],
      "text/plain": [
       "                                                   C  \\\n",
       "0  [[ 1.28200183  1.04724786  1.04724786  0.     ...   \n",
       "1  [[ 1.28200183  1.04724786  1.04724786  0.     ...   \n",
       "\n",
       "                                            K_tensor    LAMMPS_version  \\\n",
       "0  [[0.363708386616, 0.0, 0.0], [0.0, 0.362247352...  27 Aug 2016-ICMS   \n",
       "1  [[0.369362348353, -0.0119890488451, 0.0], [-0....  27 Aug 2016-ICMS   \n",
       "\n",
       "   annealtemperature                              calc_key  \\\n",
       "0               50.0  758ae784-ee7b-4f4e-9f9c-71402e41eee1   \n",
       "1               50.0  da1a3870-b7f9-4106-82b4-c6ebc81ff057   \n",
       "\n",
       "                 calc_script          dislocation_id  \\\n",
       "0  calc_dislocation_monopole   A1--Cu--fcc--111-edge   \n",
       "1  calc_dislocation_monopole  A1--Cu--fcc--110-screw   \n",
       "\n",
       "                        dislocation_key  energytolerance       family  \\\n",
       "0  d59f2382-17e5-4fbd-b398-407c75e6009a              0.0  A1--Cu--fcc   \n",
       "1  fbb42787-440e-46cb-bce3-584857257907              0.0  A1--Cu--fcc   \n",
       "\n",
       "                   ...                  maxiterations  \\\n",
       "0                  ...                          10000   \n",
       "1                  ...                          10000   \n",
       "\n",
       "                     potential_LAMMPS_id  \\\n",
       "0  2017--Purja-Pun-G-P--Au--LAMMPS--test   \n",
       "1  2017--Purja-Pun-G-P--Au--LAMMPS--test   \n",
       "\n",
       "                   potential_LAMMPS_key             potential_id  \\\n",
       "0  8bfd0a48-8558-46f9-9d20-cd9e92cb83ae  2017--Purja-Pun-G-P--Au   \n",
       "1  8bfd0a48-8558-46f9-9d20-cd9e92cb83ae  2017--Purja-Pun-G-P--Au   \n",
       "\n",
       "                          potential_key     preln  \\\n",
       "0  ef908258-25d1-439e-8223-3bf4df924ed0  0.240662   \n",
       "1  ef908258-25d1-439e-8223-3bf4df924ed0  0.125082   \n",
       "\n",
       "                        sizemults    status symbols  \\\n",
       "0  [[-49, 49], [-40, 40], [0, 2]]  finished    [Au]   \n",
       "1  [[-28, 28], [-40, 40], [0, 2]]  finished    [Au]   \n",
       "\n",
       "                             parent_key  \n",
       "0  3bc5deae-2d52-49bd-89e7-f0ee84237d10  \n",
       "1  3bc5deae-2d52-49bd-89e7-f0ee84237d10  \n",
       "\n",
       "[2 rows x 27 columns]"
      ]
     },
     "execution_count": 59,
     "metadata": {},
     "output_type": "execute_result"
    }
   ],
   "source": [
    "results_df"
   ]
  }
 ],
 "metadata": {
  "kernelspec": {
   "display_name": "Python 2",
   "language": "python",
   "name": "python2"
  },
  "language_info": {
   "codemirror_mode": {
    "name": "ipython",
    "version": 2
   },
   "file_extension": ".py",
   "mimetype": "text/x-python",
   "name": "python",
   "nbconvert_exporter": "python",
   "pygments_lexer": "ipython2",
   "version": "2.7.13"
  }
 },
 "nbformat": 4,
 "nbformat_minor": 2
}
