{
 "cells": [
  {
   "cell_type": "markdown",
   "metadata": {
    "deletable": true,
    "editable": true
   },
   "source": [
    "# Master Workflow Manager"
   ]
  },
  {
   "cell_type": "markdown",
   "metadata": {
    "deletable": true,
    "editable": true
   },
   "source": [
    "This is meant as a master workflow manager for setting up and running the implemented calculations. Alternatively everything could be handled using the inline commands."
   ]
  },
  {
   "cell_type": "markdown",
   "metadata": {
    "deletable": true,
    "editable": true
   },
   "source": [
    "## 1. Import Python packages\n",
    "\n",
    "Calculation imports "
   ]
  },
  {
   "cell_type": "code",
   "execution_count": 1,
   "metadata": {
    "collapsed": false,
    "deletable": true,
    "editable": true
   },
   "outputs": [
    {
     "name": "stdout",
     "output_type": "stream",
     "text": [
      "0.7.5\n"
     ]
    }
   ],
   "source": [
    "# Standard library imports\n",
    "from __future__ import print_function, division, absolute_import, unicode_literals\n",
    "import os\n",
    "import sys\n",
    "import glob\n",
    "import shutil\n",
    "\n",
    "# http://www.numpy.org/\n",
    "import numpy as np\n",
    "\n",
    "# http://pandas.pydata.org/\n",
    "import pandas as pd\n",
    "\n",
    "# https://github.com/usnistgov/atomman\n",
    "import atomman as am\n",
    "import atomman.lammps as lmp\n",
    "import atomman.unitconvert as uc\n",
    "\n",
    "# https://github.com/usnistgov/iprPy\n",
    "import iprPy\n",
    "import iprPy.highthroughput as htp\n",
    "print(iprPy.__version__)"
   ]
  },
  {
   "cell_type": "markdown",
   "metadata": {
    "deletable": true,
    "editable": true
   },
   "source": [
    "## 2. Database setup"
   ]
  },
  {
   "cell_type": "markdown",
   "metadata": {
    "deletable": true,
    "editable": true
   },
   "source": [
    "### 2.1 Define database and run directories\n",
    "\n",
    "Use set_database() and set_run_directory() to save settings for accessing databases and directories where prepared calculations are to be placed.  \n",
    "\n",
    "**NOTE:** These only have to be called once as the information is saved to a file!"
   ]
  },
  {
   "cell_type": "markdown",
   "metadata": {
    "deletable": true,
    "editable": true
   },
   "source": [
    "Parameters of set_database():\n",
    "\n",
    "- **name** : (*str*) The name to assign to the database.\n",
    "\n",
    "- **style** : (*str*) The database style.  Current options are 'local' for a local directory and 'curator' for an MDCS instance.\n",
    "\n",
    "- **host** : (*str*) The database host, either directory path or URL.\n",
    "\n",
    "All other necessary information will be asked for in prompts."
   ]
  },
  {
   "cell_type": "code",
   "execution_count": 5,
   "metadata": {
    "collapsed": false,
    "deletable": true,
    "editable": true
   },
   "outputs": [
    {
     "name": "stdout",
     "output_type": "stream",
     "text": [
      "Enter any other database parameters as key, value\n",
      "Exit by leaving key blank\n",
      "key: \n"
     ]
    }
   ],
   "source": [
    "# Define a local database called master\n",
    "htp.set_database('master', 'local', 'C:\\\\Users\\\\lmh1\\\\Documents\\\\calculations\\\\ipr\\\\master')"
   ]
  },
  {
   "cell_type": "markdown",
   "metadata": {
    "deletable": true,
    "editable": true
   },
   "source": [
    "Parameters of set_run_directory():\n",
    "\n",
    "- **name** : (*str*) The name to assign to the run directory.\n",
    "\n",
    "- **path** : (*str*) The directory path where prepared calculations are placed.\n",
    "\n",
    "**NOTE:** If you want to run calculations heterogeneously (i.e. some with more cores than others) it is recommended to make multiple run directories, one for each number of cores to be used."
   ]
  },
  {
   "cell_type": "code",
   "execution_count": 4,
   "metadata": {
    "collapsed": false,
    "deletable": true,
    "editable": true
   },
   "outputs": [],
   "source": [
    "# Set run directories for 1 to 4 cores\n",
    "htp.set_run_directory('master_1', 'C:\\\\Users\\\\lmh1\\\\Documents\\\\calculations\\\\ipr\\\\torun\\\\master\\\\1')\n",
    "htp.set_run_directory('master_2', 'C:\\\\Users\\\\lmh1\\\\Documents\\\\calculations\\\\ipr\\\\torun\\\\master\\\\2')\n",
    "htp.set_run_directory('master_3', 'C:\\\\Users\\\\lmh1\\\\Documents\\\\calculations\\\\ipr\\\\torun\\\\master\\\\3')\n",
    "htp.set_run_directory('master_4', 'C:\\\\Users\\\\lmh1\\\\Documents\\\\calculations\\\\ipr\\\\torun\\\\master\\\\4')"
   ]
  },
  {
   "cell_type": "markdown",
   "metadata": {
    "deletable": true,
    "editable": true
   },
   "source": [
    "### 2.2. Load database\n",
    "\n",
    "The get_database() function can then be used to get the saved database information and return a Database object."
   ]
  },
  {
   "cell_type": "code",
   "execution_count": 13,
   "metadata": {
    "collapsed": true
   },
   "outputs": [],
   "source": [
    "dbase = htp.get_database('master')"
   ]
  },
  {
   "cell_type": "code",
   "execution_count": 15,
   "metadata": {
    "collapsed": false
   },
   "outputs": [],
   "source": [
    "htp.build(dbase)"
   ]
  },
  {
   "cell_type": "markdown",
   "metadata": {
    "deletable": true,
    "editable": true
   },
   "source": [
    "## 2. Input parameters\n",
    "\n",
    "### Specify run parameters\n",
    "\n",
    "- **potential** (*str*) - The potential to investigate.\n",
    "- **family** (*str*) - The family name (i.e. crystal prototype) corresponding to the primary crystal structure to examine.\n",
    "- **database** (*str*) - The name of the database to interact with (defined [here](#databases)).\n",
    "- **run_terms** (*dict*) - Defines the commands and directories to use for each number of processors on which this computer can run.\n",
    "    \n",
    "    - **lammps_command** (*str*) -The LAMMPS executable to use.\n",
    "    - **mpi_command** (*str*) - The MPI command to call when LAMMPS is executed.\n",
    "    - **run_directory** (*str*) - The run_directory to prepare the calculations in (defined with databases below)."
   ]
  },
  {
   "cell_type": "code",
   "execution_count": 3,
   "metadata": {
    "collapsed": true,
    "deletable": true,
    "editable": true
   },
   "outputs": [],
   "source": [
    "potential = '2003--Han-S--Cs'\n",
    "family = 'A2--W--bcc'\n",
    "database = 'test2'\n",
    "currentIPR = False\n",
    "lammps_command = 'C:\\\\Program Files\\\\LAMMPS 64-bit 20160902\\\\bin\\\\lmp_mpi'\n",
    "\n",
    "\n",
    "run_terms = {}\n",
    "\n",
    "# Define serial run terms\n",
    "run_terms[1] = {}\n",
    "run_terms[1]['lammps_command'] = lammps_command\n",
    "run_terms[1]['mpi_command'] = ''\n",
    "\n",
    "# Define 2 core run terms\n",
    "run_terms[2] = {}\n",
    "run_terms[2]['lammps_command'] = lammps_command\n",
    "run_terms[2]['mpi_command'] = 'mpiexec -localonly 2'\n",
    "\n",
    "# Define 3 core run terms\n",
    "run_terms[3] = {}\n",
    "run_terms[3]['lammps_command'] = lammps_command\n",
    "run_terms[3]['mpi_command'] = 'mpiexec -localonly 3'\n",
    "\n",
    "# Define 4 core run terms\n",
    "run_terms[4] = {}\n",
    "run_terms[4]['lammps_command'] = lammps_command\n",
    "run_terms[4]['mpi_command'] = 'mpiexec -localonly 4'"
   ]
  },
  {
   "cell_type": "markdown",
   "metadata": {
    "deletable": true,
    "editable": true
   },
   "source": [
    "### Define databases and run directories <a id=\"databases\"></a>\n",
    "\n",
    "These are specific to the computer this Notebook is running on and the databases that are being accessed."
   ]
  },
  {
   "cell_type": "code",
   "execution_count": 4,
   "metadata": {
    "collapsed": false,
    "deletable": true,
    "editable": true
   },
   "outputs": [],
   "source": [
    "# 'local' is a local directory\n",
    "if database == 'local':\n",
    "    dbase = iprPy.Database('local', \n",
    "                           host='C:\\\\Users\\\\lmh1\\\\Documents\\\\calculations\\\\ipr\\\\library')\n",
    "    \n",
    "    run_terms[1]['run_directory'] = 'C:\\\\Users\\\\lmh1\\\\Documents\\\\calculations\\\\ipr\\\\torun\\\\local\\\\1'\n",
    "    run_terms[2]['run_directory'] = 'C:\\\\Users\\\\lmh1\\\\Documents\\\\calculations\\\\ipr\\\\torun\\\\local\\\\2'\n",
    "    run_terms[3]['run_directory'] = 'C:\\\\Users\\\\lmh1\\\\Documents\\\\calculations\\\\ipr\\\\torun\\\\local\\\\3'\n",
    "    run_terms[4]['run_directory'] = 'C:\\\\Users\\\\lmh1\\\\Documents\\\\calculations\\\\ipr\\\\torun\\\\local\\\\4'\n",
    "\n",
    "# 'test' is a local directory for testing\n",
    "elif database == 'test':\n",
    "    dbase = iprPy.Database('local', \n",
    "                           host='C:\\\\Users\\\\lmh1\\\\Documents\\\\calculations\\\\ipr\\\\library_test')\n",
    "    \n",
    "    run_terms[1]['run_directory'] = 'C:\\\\Users\\\\lmh1\\\\Documents\\\\calculations\\\\ipr\\\\torun\\\\test\\\\1'\n",
    "    run_terms[2]['run_directory'] = 'C:\\\\Users\\\\lmh1\\\\Documents\\\\calculations\\\\ipr\\\\torun\\\\test\\\\2'\n",
    "    run_terms[3]['run_directory'] = 'C:\\\\Users\\\\lmh1\\\\Documents\\\\calculations\\\\ipr\\\\torun\\\\test\\\\3'\n",
    "    run_terms[4]['run_directory'] = 'C:\\\\Users\\\\lmh1\\\\Documents\\\\calculations\\\\ipr\\\\torun\\\\test\\\\4'\n",
    "\n",
    "# 'test2' is a local directory for testing\n",
    "elif database == 'test2':\n",
    "    dbase = iprPy.Database('local', \n",
    "                           host='C:\\\\Users\\\\lmh1\\\\Documents\\\\calculations\\\\ipr\\\\test2')\n",
    "    \n",
    "    run_terms[1]['run_directory'] = 'C:\\\\Users\\\\lmh1\\\\Documents\\\\calculations\\\\ipr\\\\torun\\\\test2\\\\1'\n",
    "    run_terms[2]['run_directory'] = 'C:\\\\Users\\\\lmh1\\\\Documents\\\\calculations\\\\ipr\\\\torun\\\\test2\\\\2'\n",
    "    run_terms[3]['run_directory'] = 'C:\\\\Users\\\\lmh1\\\\Documents\\\\calculations\\\\ipr\\\\torun\\\\test2\\\\3'\n",
    "    run_terms[4]['run_directory'] = 'C:\\\\Users\\\\lmh1\\\\Documents\\\\calculations\\\\ipr\\\\torun\\\\test2\\\\4'\n",
    "    \n",
    "# 'curator' is a local MDCS curator\n",
    "elif database == 'curator':\n",
    "    dbase = iprPy.Database('curator', \n",
    "                           host='https://iprhub.nist.gov/', \n",
    "                           user='admin', pswd='admin')\n",
    "    \n",
    "    run_terms[1]['run_directory'] = 'C:\\\\Users\\\\lmh1\\\\Documents\\\\calculations\\\\ipr\\\\torun\\\\curator\\\\1'\n",
    "    run_terms[2]['run_directory'] = 'C:\\\\Users\\\\lmh1\\\\Documents\\\\calculations\\\\ipr\\\\torun\\\\curator\\\\2'\n",
    "    run_terms[3]['run_directory'] = 'C:\\\\Users\\\\lmh1\\\\Documents\\\\calculations\\\\ipr\\\\torun\\\\curator\\\\3'\n",
    "    run_terms[4]['run_directory'] = 'C:\\\\Users\\\\lmh1\\\\Documents\\\\calculations\\\\ipr\\\\torun\\\\curator\\\\4'\n",
    "\n",
    "# 'iprhub' is the remote MDCS curator at iprhub\n",
    "elif database == 'iprhub':\n",
    "    dbase = iprPy.Database('curator', \n",
    "                           host='https://iprhub.nist.gov/', \n",
    "                           user='lmh1', \n",
    "                           pswd='C:/users/lmh1/documents/iprhub/iprhub_password.txt',\n",
    "                           cert='C:/users/lmh1/documents/iprhub/iprhub-ca.pem')\n",
    "    \n",
    "    run_terms[1]['run_directory'] = 'C:\\\\Users\\\\lmh1\\\\Documents\\\\calculations\\\\ipr\\\\torun\\\\iprhub\\\\1'\n",
    "    run_terms[2]['run_directory'] = 'C:\\\\Users\\\\lmh1\\\\Documents\\\\calculations\\\\ipr\\\\torun\\\\iprhub\\\\2'\n",
    "    run_terms[3]['run_directory'] = 'C:\\\\Users\\\\lmh1\\\\Documents\\\\calculations\\\\ipr\\\\torun\\\\iprhub\\\\3'\n",
    "    run_terms[4]['run_directory'] = 'C:\\\\Users\\\\lmh1\\\\Documents\\\\calculations\\\\ipr\\\\torun\\\\iprhub\\\\4'"
   ]
  },
  {
   "cell_type": "markdown",
   "metadata": {
    "deletable": true,
    "editable": true
   },
   "source": [
    "## 3. Setup"
   ]
  },
  {
   "cell_type": "markdown",
   "metadata": {
    "deletable": true,
    "editable": true
   },
   "source": [
    "### Verify iprPy modules loaded"
   ]
  },
  {
   "cell_type": "code",
   "execution_count": 5,
   "metadata": {
    "collapsed": false,
    "deletable": true,
    "editable": true
   },
   "outputs": [
    {
     "name": "stdout",
     "output_type": "stream",
     "text": [
      "calculations that passed import:\n",
      " point_defect_static\n",
      " dynamic_relax\n",
      " surface_energy\n",
      " E_vs_r_scan\n",
      " dislocation_monopole\n",
      " stacking_fault\n",
      " refine_structure\n",
      " point_defect_diffusion\n",
      " stacking_fault_multi\n",
      " LAMMPS_ELASTIC\n",
      "calculations that failed import:\n",
      "\n",
      "records that passed import:\n",
      " calculation_cohesive_energy_relation\n",
      " stacking_fault\n",
      " point_defect\n",
      " calculation_system_relax\n",
      " calculation_dislocation_monopole\n",
      " calculation_point_defect_formation\n",
      " calculation_point_defect_diffusion\n",
      " dislocation_monopole\n",
      " calculation_generalized_stacking_fault\n",
      " free_surface\n",
      " crystal_prototype\n",
      " calculation_dynamic_relax\n",
      " calculation_surface_energy\n",
      " calculation_stacking_fault\n",
      " potential_LAMMPS\n",
      "records that failed import:\n",
      "\n",
      "databases that passed import:\n",
      " local\n",
      " curator\n",
      "databases that failed import:\n",
      "\n"
     ]
    }
   ],
   "source": [
    "iprPy.check_modules()"
   ]
  },
  {
   "cell_type": "markdown",
   "metadata": {
    "deletable": true,
    "editable": true
   },
   "source": [
    "### Build database reference records"
   ]
  },
  {
   "cell_type": "code",
   "execution_count": 6,
   "metadata": {
    "collapsed": true,
    "deletable": true,
    "editable": true
   },
   "outputs": [],
   "source": [
    "iprPy.highthroughput.build(dbase)"
   ]
  },
  {
   "cell_type": "code",
   "execution_count": 7,
   "metadata": {
    "collapsed": true,
    "deletable": true,
    "editable": true
   },
   "outputs": [],
   "source": [
    "crystal_prototype_df = dbase.get_records_df(style='crystal_prototype')\n",
    "\n",
    "counts = {}\n",
    "for i, prototype in crystal_prototype_df.iterrows():\n",
    "    model = DM(dbase.get_record(name=prototype.id).content)\n",
    "    counts[prototype.id] = np.unique(model.finds('component'), return_counts=True)[1]"
   ]
  },
  {
   "cell_type": "markdown",
   "metadata": {
    "deletable": true,
    "editable": true
   },
   "source": [
    "### Define functions and resources"
   ]
  },
  {
   "cell_type": "markdown",
   "metadata": {
    "deletable": true,
    "editable": true
   },
   "source": [
    "**comp_refine** generates a composition string based on symbols and unique sites of prototypes"
   ]
  },
  {
   "cell_type": "code",
   "execution_count": 8,
   "metadata": {
    "collapsed": true,
    "deletable": true,
    "editable": true
   },
   "outputs": [],
   "source": [
    "def comp_refine(symbols, counts):\n",
    "    \"\"\"Takes a list of symbols and count of how many times each symbol appears and generates a composition string.\"\"\"\n",
    "    primes = [2,3,5,7,11,13,17,19,23,29,31,37,41,43,47]\n",
    "    \n",
    "    sym_dict = {}\n",
    "    for i in xrange(len(symbols)):\n",
    "        sym_dict[symbols[i]] = counts[i]\n",
    "    \n",
    "    for prime in primes:\n",
    "        if max(sym_dict.values()) < prime:\n",
    "            break\n",
    "        \n",
    "        while True:\n",
    "            breaktime = False\n",
    "            for value in sym_dict.values():\n",
    "                if value % prime != 0:\n",
    "                    breaktime = True\n",
    "                    break\n",
    "            if breaktime:\n",
    "                break\n",
    "            for key in sym_dict:\n",
    "                sym_dict[key] /= prime\n",
    "    \n",
    "    composition=''\n",
    "    for key in sorted(sym_dict):\n",
    "        if sym_dict[key] > 0:\n",
    "            composition += key\n",
    "            if sym_dict[key] != 1:\n",
    "                composition += str(int(sym_dict[key]))\n",
    "            \n",
    "    return composition   "
   ]
  },
  {
   "cell_type": "markdown",
   "metadata": {
    "deletable": true,
    "editable": true
   },
   "source": [
    "**plot_gen** generates the bokeh E vs. r plots."
   ]
  },
  {
   "cell_type": "code",
   "execution_count": 9,
   "metadata": {
    "collapsed": true,
    "deletable": true,
    "editable": true
   },
   "outputs": [],
   "source": [
    "def plot_gen(df, composition, colors, dashes):\n",
    "    \n",
    "    ymin = floor(df.min().min())\n",
    "    if ymin < -10: ymin = -10\n",
    "    \n",
    "    p = figure(title='Cohesive Energy vs. Interatomic Spacing for ' + composition,\n",
    "               plot_width = 800,\n",
    "               plot_height = 600,\n",
    "               x_range = [2, 6],\n",
    "               y_range = [ymin, 0],              \n",
    "               x_axis_label='r (A)', \n",
    "               y_axis_label='Cohesive Energy (eV/atom)')\n",
    "   \n",
    "    for prototype, values in df.iteritems():\n",
    "        if prototype != 'r':\n",
    "            p.line(df.r, values, \n",
    "                   legend=prototype, \n",
    "                   line_color=colors[prototype], \n",
    "                   line_dash=dashes[prototype], \n",
    "                   line_width = 2)            \n",
    "    \n",
    "    p.legend.location = \"bottom_right\"    \n",
    "    return p  \n",
    "\n",
    "max_string_length = 16\n",
    "\n",
    "line_color = {\n",
    "   #elemental\n",
    "    'A1--Cu--fcc':                'black',\n",
    "    'A2--W--bcc':                 'blue',\n",
    "    'A3--Mg--hcp':                'red',\n",
    "    'A3\\'--alpha-La':             'cyan',\n",
    "    'A4--C--dc':                  'magenta',\n",
    "    'A5--beta-Sn':                '#EAC117',\n",
    "    'A6--In--bct':                'orange',\n",
    "    'A7--alpha-As':               'gray',\n",
    "    'A15--beta-W':                'green',\n",
    "    'Ah--alpha-Po--sc':           'brown',\n",
    "   #1:1\n",
    "    'B1--NaCl':                   'black',\n",
    "    'B2--CsCl':                   'blue',\n",
    "    'B3--ZnS':                    'red',\n",
    "    'L1_0--AuCu':                 'cyan',\n",
    "   #1:2\n",
    "    'C1--CaF2':                   'black',\n",
    "   #1:3\n",
    "    'A15--Cr3Si':                 'black',\n",
    "    'D0_3--BiF3':                 'blue',\n",
    "    'L1_2--AuCu3':                'red',\n",
    "   #1:1:2\n",
    "    'L2_1--AlCu2Mn':              'red'\n",
    "}\n",
    "\n",
    "line_dash = {\n",
    "   #elemental\n",
    "    'A1--Cu--fcc':                'solid',\n",
    "    'A2--W--bcc':                 'solid',\n",
    "    'A3--Mg--hcp':                'dashed',\n",
    "    'A3\\'--alpha-La':             'dashdot',\n",
    "    'A4--C--dc':                  'solid',\n",
    "    'A5--beta-Sn':                'solid',\n",
    "    'A6--In--bct':                'solid',\n",
    "    'A7--alpha-As':               'solid',\n",
    "    'A15--beta-W':                'solid',\n",
    "    'Ah--alpha-Po--sc':           'solid',\n",
    "   #1:1\n",
    "    'B1--NaCl':                   'solid',\n",
    "    'B2--CsCl':                   'solid',\n",
    "    'B3--ZnS':                    'solid',\n",
    "    'L1_0--AuCu':                 'solid',\n",
    "   #1:2\n",
    "    'C1--CaF2':                   'solid',\n",
    "   #1:3\n",
    "    'A15--Cr3Si':                 'solid',\n",
    "    'D0_3--BiF3':                 'solid',\n",
    "    'L1_2--AuCu3':                'solid',\n",
    "   #1:1:2\n",
    "    'L2_1--AlCu2Mn':              'solid'\n",
    "}"
   ]
  },
  {
   "cell_type": "markdown",
   "metadata": {
    "deletable": true,
    "editable": true
   },
   "source": [
    "Create run directories if needed."
   ]
  },
  {
   "cell_type": "code",
   "execution_count": 10,
   "metadata": {
    "collapsed": false,
    "deletable": true,
    "editable": true
   },
   "outputs": [],
   "source": [
    "for n in run_terms:\n",
    "    run_term = run_terms[n]\n",
    "    if not os.path.isdir(run_term['run_directory']):\n",
    "        os.makedirs(run_term['run_directory'])"
   ]
  },
  {
   "cell_type": "markdown",
   "metadata": {
    "deletable": true,
    "editable": true
   },
   "source": [
    "## 4. E_vs_r_scan"
   ]
  },
  {
   "cell_type": "code",
   "execution_count": 11,
   "metadata": {
    "collapsed": true,
    "deletable": true,
    "editable": true
   },
   "outputs": [],
   "source": [
    "n = 1\n",
    "calculation_style = 'E_vs_r_scan'\n",
    "record_style = 'calculation_cohesive_energy_relation'"
   ]
  },
  {
   "cell_type": "markdown",
   "metadata": {
    "deletable": true,
    "editable": true
   },
   "source": [
    "### Prepare"
   ]
  },
  {
   "cell_type": "code",
   "execution_count": 12,
   "metadata": {
    "collapsed": false,
    "deletable": true,
    "editable": true
   },
   "outputs": [],
   "source": [
    "run_directory = run_terms[n]['run_directory']\n",
    "\n",
    "input_dict = {}\n",
    "input_dict['calculation_style'] = calculation_style\n",
    "input_dict['lammps_command'] = run_terms[n]['lammps_command']\n",
    "input_dict['mpi_command'] = run_terms[n]['mpi_command']\n",
    "input_dict['potential_name'] = potential\n",
    "input_dict['potential_currentIPR'] = currentIPR\n",
    "\n",
    "iprPy.highthroughput.prepare(dbase, run_directory, input_dict=input_dict)"
   ]
  },
  {
   "cell_type": "markdown",
   "metadata": {
    "deletable": true,
    "editable": true
   },
   "source": [
    "### Run"
   ]
  },
  {
   "cell_type": "code",
   "execution_count": 13,
   "metadata": {
    "collapsed": false,
    "deletable": true,
    "editable": true
   },
   "outputs": [],
   "source": [
    "iprPy.highthroughput.runner(dbase, run_directory)"
   ]
  },
  {
   "cell_type": "markdown",
   "metadata": {
    "deletable": true,
    "editable": true
   },
   "source": [
    "### Analyze"
   ]
  },
  {
   "cell_type": "markdown",
   "metadata": {
    "deletable": true,
    "editable": true
   },
   "source": [
    "Fetch records"
   ]
  },
  {
   "cell_type": "code",
   "execution_count": 14,
   "metadata": {
    "collapsed": false,
    "deletable": true,
    "editable": true
   },
   "outputs": [
    {
     "name": "stdout",
     "output_type": "stream",
     "text": [
      "38 records found\n"
     ]
    }
   ],
   "source": [
    "results_df = dbase.get_records_df(style=record_style, full=True, flat=False)\n",
    "results_df = results_df[results_df.potential_id == potential]\n",
    "results_df = results_df[results_df.calc_script == 'calc_'+calculation_style]\n",
    "\n",
    "print(len(results_df), 'records found')"
   ]
  },
  {
   "cell_type": "markdown",
   "metadata": {
    "deletable": true,
    "editable": true
   },
   "source": [
    "Check errors"
   ]
  },
  {
   "cell_type": "code",
   "execution_count": 15,
   "metadata": {
    "collapsed": false,
    "deletable": true,
    "editable": true
   },
   "outputs": [
    {
     "name": "stdout",
     "output_type": "stream",
     "text": [
      "0 issued errors\n"
     ]
    }
   ],
   "source": [
    "error_df = results_df[results_df.status=='error']\n",
    "print(len(error_df), 'issued errors')\n",
    "\n",
    "if len(error_df) > 0:\n",
    "    for error in np.unique(error_df.error.values):\n",
    "        print(error)    "
   ]
  },
  {
   "cell_type": "markdown",
   "metadata": {
    "deletable": true,
    "editable": true
   },
   "source": [
    "Define composition"
   ]
  },
  {
   "cell_type": "code",
   "execution_count": 16,
   "metadata": {
    "collapsed": true,
    "deletable": true,
    "editable": true
   },
   "outputs": [],
   "source": [
    "compositions = []\n",
    "for i, calc in results_df.iterrows():\n",
    "    compositions.append(comp_refine(calc.symbols, counts[calc.family]))\n",
    "results_df = results_df.assign(composition=compositions)"
   ]
  },
  {
   "cell_type": "markdown",
   "metadata": {
    "deletable": true,
    "editable": true
   },
   "source": [
    "Generate plots"
   ]
  },
  {
   "cell_type": "code",
   "execution_count": 17,
   "metadata": {
    "collapsed": false,
    "deletable": true,
    "editable": true,
    "scrolled": true
   },
   "outputs": [
    {
     "data": {
      "text/html": [
       "\n",
       "\n",
       "    <div class=\"bk-root\">\n",
       "        <div class=\"bk-plotdiv\" id=\"8a054850-cffd-43c3-8928-30a41b7b4850\"></div>\n",
       "    </div>\n",
       "<script type=\"text/javascript\">\n",
       "  \n",
       "  (function(root) {\n",
       "    function now() {\n",
       "      return new Date();\n",
       "    }\n",
       "  \n",
       "    var force = false;\n",
       "  \n",
       "    if (typeof (root._bokeh_onload_callbacks) === \"undefined\" || force === true) {\n",
       "      root._bokeh_onload_callbacks = [];\n",
       "      root._bokeh_is_loading = undefined;\n",
       "    }\n",
       "  \n",
       "  \n",
       "    \n",
       "    if (typeof (root._bokeh_timeout) === \"undefined\" || force === true) {\n",
       "      root._bokeh_timeout = Date.now() + 0;\n",
       "      root._bokeh_failed_load = false;\n",
       "    }\n",
       "  \n",
       "    var NB_LOAD_WARNING = {'data': {'text/html':\n",
       "       \"<div style='background-color: #fdd'>\\n\"+\n",
       "       \"<p>\\n\"+\n",
       "       \"BokehJS does not appear to have successfully loaded. If loading BokehJS from CDN, this \\n\"+\n",
       "       \"may be due to a slow or bad network connection. Possible fixes:\\n\"+\n",
       "       \"</p>\\n\"+\n",
       "       \"<ul>\\n\"+\n",
       "       \"<li>re-rerun `output_notebook()` to attempt to load from CDN again, or</li>\\n\"+\n",
       "       \"<li>use INLINE resources instead, as so:</li>\\n\"+\n",
       "       \"</ul>\\n\"+\n",
       "       \"<code>\\n\"+\n",
       "       \"from bokeh.resources import INLINE\\n\"+\n",
       "       \"output_notebook(resources=INLINE)\\n\"+\n",
       "       \"</code>\\n\"+\n",
       "       \"</div>\"}};\n",
       "  \n",
       "    function display_loaded() {\n",
       "      if (root.Bokeh !== undefined) {\n",
       "        var el = document.getElementById(\"8a054850-cffd-43c3-8928-30a41b7b4850\");\n",
       "        if (el != null) {\n",
       "          el.textContent = \"BokehJS \" + Bokeh.version + \" successfully loaded.\";\n",
       "        }\n",
       "      } else if (Date.now() < root._bokeh_timeout) {\n",
       "        setTimeout(display_loaded, 100)\n",
       "      }\n",
       "    }\n",
       "  \n",
       "  \n",
       "    function run_callbacks() {\n",
       "      try {\n",
       "        root._bokeh_onload_callbacks.forEach(function(callback) { callback() });\n",
       "      }\n",
       "      finally {\n",
       "        delete root._bokeh_onload_callbacks\n",
       "      }\n",
       "      console.info(\"Bokeh: all callbacks have finished\");\n",
       "    }\n",
       "  \n",
       "    function load_libs(js_urls, callback) {\n",
       "      root._bokeh_onload_callbacks.push(callback);\n",
       "      if (root._bokeh_is_loading > 0) {\n",
       "        console.log(\"Bokeh: BokehJS is being loaded, scheduling callback at\", now());\n",
       "        return null;\n",
       "      }\n",
       "      if (js_urls == null || js_urls.length === 0) {\n",
       "        run_callbacks();\n",
       "        return null;\n",
       "      }\n",
       "      console.log(\"Bokeh: BokehJS not loaded, scheduling load and callback at\", now());\n",
       "      root._bokeh_is_loading = js_urls.length;\n",
       "      for (var i = 0; i < js_urls.length; i++) {\n",
       "        var url = js_urls[i];\n",
       "        var s = document.createElement('script');\n",
       "        s.src = url;\n",
       "        s.async = false;\n",
       "        s.onreadystatechange = s.onload = function() {\n",
       "          root._bokeh_is_loading--;\n",
       "          if (root._bokeh_is_loading === 0) {\n",
       "            console.log(\"Bokeh: all BokehJS libraries loaded\");\n",
       "            run_callbacks()\n",
       "          }\n",
       "        };\n",
       "        s.onerror = function() {\n",
       "          console.warn(\"failed to load library \" + url);\n",
       "        };\n",
       "        console.log(\"Bokeh: injecting script tag for BokehJS library: \", url);\n",
       "        document.getElementsByTagName(\"head\")[0].appendChild(s);\n",
       "      }\n",
       "    };var element = document.getElementById(\"8a054850-cffd-43c3-8928-30a41b7b4850\");\n",
       "    if (element == null) {\n",
       "      console.log(\"Bokeh: ERROR: autoload.js configured with elementid '8a054850-cffd-43c3-8928-30a41b7b4850' but no matching script tag was found. \")\n",
       "      return false;\n",
       "    }\n",
       "  \n",
       "    var js_urls = [];\n",
       "  \n",
       "    var inline_js = [\n",
       "      function(Bokeh) {\n",
       "        (function() {\n",
       "          var fn = function() {\n",
       "            var docs_json = {\"a8f6fea6-ee27-4f51-aa3a-45d46e8242df\":{\"roots\":{\"references\":[{\"attributes\":{\"data_source\":{\"id\":\"96e9ea1e-dae3-4b4d-afd2-e5065c201d6b\",\"type\":\"ColumnDataSource\"},\"glyph\":{\"id\":\"5eb2798a-50a9-4c61-9bcc-52d1666e245d\",\"type\":\"Line\"},\"hover_glyph\":null,\"muted_glyph\":null,\"nonselection_glyph\":{\"id\":\"5ee5a748-e0a6-4ae1-b67b-3238dfa4b988\",\"type\":\"Line\"},\"selection_glyph\":null,\"view\":{\"id\":\"cdf8d6b7-83d5-4e0e-9a34-ef4618468e95\",\"type\":\"CDSView\"}},\"id\":\"26bbc783-e111-4bbd-9b22-a3c7405cf950\",\"type\":\"GlyphRenderer\"},{\"attributes\":{},\"id\":\"8bfecef4-beed-4615-ad2e-1224aa07a76c\",\"type\":\"ResetTool\"},{\"attributes\":{\"callback\":null,\"column_names\":[\"y\",\"x\"],\"data\":{\"x\":{\"__ndarray__\":\"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\",\"dtype\":\"float64\",\"shape\":[200]},\"y\":{\"__ndarray__\":\"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\",\"dtype\":\"float64\",\"shape\":[200]}}},\"id\":\"b7fe39b4-44e8-4457-801c-a45a3dd2f27a\",\"type\":\"ColumnDataSource\"},{\"attributes\":{\"dimension\":1,\"plot\":{\"id\":\"b0a8a1b8-ac71-49bc-ae40-de5127e2c365\",\"subtype\":\"Figure\",\"type\":\"Plot\"},\"ticker\":{\"id\":\"8700e482-8ddb-4ceb-b146-66fae6a4abf7\",\"type\":\"BasicTicker\"}},\"id\":\"4c8053f2-5adf-4b7f-8ea7-e9371831713e\",\"type\":\"Grid\"},{\"attributes\":{\"callback\":null,\"column_names\":[\"y\",\"x\"],\"data\":{\"x\":{\"__ndarray__\":\"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\",\"dtype\":\"float64\",\"shape\":[200]},\"y\":{\"__ndarray__\":\"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\",\"dtype\":\"float64\",\"shape\":[200]}}},\"id\":\"2c8723b6-796c-426e-ba0b-ed400c62b8ee\",\"type\":\"ColumnDataSource\"},{\"attributes\":{\"callback\":null,\"end\":0,\"start\":-1.0},\"id\":\"a3d990c5-3521-446b-8517-c56590a888a1\",\"type\":\"Range1d\"},{\"attributes\":{},\"id\":\"8700e482-8ddb-4ceb-b146-66fae6a4abf7\",\"type\":\"BasicTicker\"},{\"attributes\":{\"source\":{\"id\":\"7e7ceaf7-34b3-4766-9b9b-4def89f643a9\",\"type\":\"ColumnDataSource\"}},\"id\":\"e77f2ce1-8a1d-41a7-be29-da4242f1cfb9\",\"type\":\"CDSView\"},{\"attributes\":{},\"id\":\"758f1697-d7bb-4df9-9ca1-55ed2a036eaf\",\"type\":\"HelpTool\"},{\"attributes\":{\"line_alpha\":{\"value\":0.1},\"line_color\":{\"value\":\"#1f77b4\"},\"line_width\":{\"value\":2},\"x\":{\"field\":\"x\"},\"y\":{\"field\":\"y\"}},\"id\":\"53fb1051-9bcc-4cd8-bdd7-69267f519df8\",\"type\":\"Line\"},{\"attributes\":{\"source\":{\"id\":\"57ccaf33-de4b-4f31-9f0e-1577324568a9\",\"type\":\"ColumnDataSource\"}},\"id\":\"fd3731e8-72ce-477e-bcec-1084e723d48e\",\"type\":\"CDSView\"},{\"attributes\":{\"source\":{\"id\":\"ac885b36-18d3-4876-8b7b-74e7e0b427c2\",\"type\":\"ColumnDataSource\"}},\"id\":\"106bb896-ea37-4f98-a555-82085c433655\",\"type\":\"CDSView\"},{\"attributes\":{\"data_source\":{\"id\":\"724970d2-0da7-4e8c-90b8-7d684c9fc255\",\"type\":\"ColumnDataSource\"},\"glyph\":{\"id\":\"4f368e07-662e-401c-afb1-f6ac1f35a06b\",\"type\":\"Line\"},\"hover_glyph\":null,\"muted_glyph\":null,\"nonselection_glyph\":{\"id\":\"281b3864-d78c-4daa-99ec-f2c910801f8a\",\"type\":\"Line\"},\"selection_glyph\":null,\"view\":{\"id\":\"472caa7a-d3a1-41f3-8944-61c0bb14f166\",\"type\":\"CDSView\"}},\"id\":\"87cd3504-e8ef-4ffc-b122-d9c151e8488d\",\"type\":\"GlyphRenderer\"},{\"attributes\":{\"line_alpha\":{\"value\":0.1},\"line_color\":{\"value\":\"#1f77b4\"},\"line_width\":{\"value\":2},\"x\":{\"field\":\"x\"},\"y\":{\"field\":\"y\"}},\"id\":\"b3d3d9b2-f156-46e9-bf4a-dff4b7f31973\",\"type\":\"Line\"},{\"attributes\":{\"callback\":null,\"column_names\":[\"y\",\"x\"],\"data\":{\"x\":{\"__ndarray__\":\"AAAAAAAAAEChZcdzKikAQELLjudUUgBA4jBWW397AECDlh3PqaQAQCT85ELUzQBAxWGstv72AEBmx3MqKSABQAYtO55TSQFAp5ICEn5yAUBI+MmFqJsBQOldkfnSxAFAisNYbf3tAUAqKSDhJxcCQMuO51RSQAJAbPSuyHxpAkANWnY8p5ICQK6/PbDRuwJATiUFJPzkAkDvisyXJg4DQJDwkwtRNwNAMVZbf3tgA0DSuyLzpYkDQHIh6mbQsgNAE4ex2vrbA0C07HhOJQUEQFVSQMJPLgRA9rcHNnpXBECWHc+ppIAEQDeDlh3PqQRA2OhdkfnSBEB5TiUFJPwEQBq07HhOJQVAuhm07HhOBUBbf3tgo3cFQPzkQtTNoAVAnUoKSPjJBUA+sNG7IvMFQN4VmS9NHAZAgHtgo3dFBkAg4ScXom4GQMFG74rMlwZAYqy2/vbABkACEn5yIeoGQKR3ReZLEwdARN0MWnY8B0DlQtTNoGUHQIaom0HLjgdAJg5jtfW3B0DIcyopIOEHQGjZ8ZxKCghACT+5EHUzCECqpICEn1wIQEoKSPjJhQhA7G8PbPSuCECM1dbfHtgIQC07nlNJAQlAzqBlx3MqCUBuBi07nlMJQBBs9K7IfAlAsNG7IvOlCUBRN4OWHc8JQPKcSgpI+AlAkgISfnIhCkA0aNnxnEoKQNTNoGXHcwpAdTNo2fGcCkAWmS9NHMYKQLb+9sBG7wpAWGS+NHEYC0D4yYWom0ELQJkvTRzGagtAOpUUkPCTC0Da+tsDG70LQHxgo3dF5gtAHMZq628PDEC9KzJfmjgMQF6R+dLEYQxA//bARu+KDECgXIi6GbQMQEDCTy5E3QxA4ScXom4GDUCCjd4VmS8NQCPzpYnDWA1AxFht/e2BDUBkvjRxGKsNQAUk/ORC1A1AponDWG39DUBH74rMlyYOQOhUUkDCTw5AiLoZtOx4DkApIOEnF6IOQMqFqJtByw5Aa+tvD2z0DkAMUTeDlh0PQKy2/vbARg9ATRzGautvD0DugY3eFZkPQI/nVFJAwg9AME0cxmrrD0Bo2fGcSgoQQDiM1dbfHhBACT+5EHUzEEDa8ZxKCkgQQKqkgISfXBBAeldkvjRxEEBKCkj4yYUQQBu9KzJfmhBA7G8PbPSuEEC8IvOlicMQQIzV1t8e2BBAXIi6GbTsEEAtO55TSQERQP7tgY3eFRFAzqBlx3MqEUCeU0kBCT8RQG4GLTueUxFAP7kQdTNoEUAQbPSuyHwRQOAe2OhdkRFAsNG7IvOlEUCAhJ9ciLoRQFE3g5YdzxFAIupm0LLjEUDynEoKSPgRQMJPLkTdDBJAkgISfnIhEkBjtfW3BzYSQDRo2fGcShJABBu9KzJfEkDUzaBlx3MSQKSAhJ9ciBJAdTNo2fGcEkBG5ksTh7ESQBaZL00cxhJA5ksTh7HaEkC2/vbARu8SQIex2vrbAxNAWGS+NHEYE0AoF6JuBi0TQPjJhaibQRNAyHxp4jBWE0CZL00cxmoTQGriMFZbfxNAOpUUkPCTE0AKSPjJhagTQNr62wMbvRNAq62/PbDRE0B8YKN3ReYTQEwTh7Ha+hNAHMZq628PFEDteE4lBSQUQL0rMl+aOBRAjt4VmS9NFEBekfnSxGEUQC5E3QxadhRA//bARu+KFEDPqaSAhJ8UQKBciLoZtBRAcA9s9K7IFEBAwk8uRN0UQBF1M2jZ8RRA4ScXom4GFUCy2vrbAxsVQIKN3hWZLxVAUkDCTy5EFUAj86WJw1gVQPOlicNYbRVAxFht/e2BFUCUC1E3g5YVQGS+NHEYqxVANXEYq62/FUAFJPzkQtQVQNbW3x7Y6BVAponDWG39FUB2PKeSAhIWQEfvisyXJhZAF6JuBi07FkDoVFJAwk8WQLgHNnpXZBZAiLoZtOx4FkBZbf3tgY0WQCkg4ScXohZA+tLEYay2FkDKhaibQcsWQJo4jNXW3xZAa+tvD2z0FkA7nlNJAQkXQAxRN4OWHRdA3AMbvSsyF0Cstv72wEYXQH1p4jBWWxdATRzGautvF0Aez6mkgIQXQO6Bjd4VmRdAvjRxGKutF0CP51RSQMIXQGCaOIzV1hdAME0cxmrrF0AAAAAAAAAYQA==\",\"dtype\":\"float64\",\"shape\":[200]},\"y\":{\"__ndarray__\":\"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\",\"dtype\":\"float64\",\"shape\":[200]}}},\"id\":\"57ccaf33-de4b-4f31-9f0e-1577324568a9\",\"type\":\"ColumnDataSource\"},{\"attributes\":{\"plot\":{\"id\":\"b0a8a1b8-ac71-49bc-ae40-de5127e2c365\",\"subtype\":\"Figure\",\"type\":\"Plot\"},\"ticker\":{\"id\":\"7322eb84-3d70-4c81-8b68-c39e025a6fe4\",\"type\":\"BasicTicker\"}},\"id\":\"a8f3bed6-e889-4711-9f69-070b4f9aded4\",\"type\":\"Grid\"},{\"attributes\":{\"callback\":null,\"column_names\":[\"y\",\"x\"],\"data\":{\"x\":{\"__ndarray__\":\"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\",\"dtype\":\"float64\",\"shape\":[200]},\"y\":{\"__ndarray__\":\"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\",\"dtype\":\"float64\",\"shape\":[200]}}},\"id\":\"724970d2-0da7-4e8c-90b8-7d684c9fc255\",\"type\":\"ColumnDataSource\"},{\"attributes\":{\"source\":{\"id\":\"96e9ea1e-dae3-4b4d-afd2-e5065c201d6b\",\"type\":\"ColumnDataSource\"}},\"id\":\"cdf8d6b7-83d5-4e0e-9a34-ef4618468e95\",\"type\":\"CDSView\"},{\"attributes\":{\"below\":[{\"id\":\"8ab56417-b6c4-4baf-8f6c-f726e20e749a\",\"type\":\"LinearAxis\"}],\"left\":[{\"id\":\"a0ad7ccc-c344-4323-9e70-1978a0f4080c\",\"type\":\"LinearAxis\"}],\"plot_width\":800,\"renderers\":[{\"id\":\"8ab56417-b6c4-4baf-8f6c-f726e20e749a\",\"type\":\"LinearAxis\"},{\"id\":\"a8f3bed6-e889-4711-9f69-070b4f9aded4\",\"type\":\"Grid\"},{\"id\":\"a0ad7ccc-c344-4323-9e70-1978a0f4080c\",\"type\":\"LinearAxis\"},{\"id\":\"4c8053f2-5adf-4b7f-8ea7-e9371831713e\",\"type\":\"Grid\"},{\"id\":\"95f5d173-3b0a-41f6-89f8-1703ba6336d3\",\"type\":\"BoxAnnotation\"},{\"id\":\"116a426f-ab4d-472e-bfd8-fb1d2959b16e\",\"type\":\"Legend\"},{\"id\":\"87cd3504-e8ef-4ffc-b122-d9c151e8488d\",\"type\":\"GlyphRenderer\"},{\"id\":\"8434cd5f-00e0-441d-809f-56ca0361bfc4\",\"type\":\"GlyphRenderer\"},{\"id\":\"0ad13b8d-9068-4b25-b530-8012dbc27cc5\",\"type\":\"GlyphRenderer\"},{\"id\":\"36a44aeb-8273-4547-8482-2e14cb791164\",\"type\":\"GlyphRenderer\"},{\"id\":\"399336e5-af68-4a88-8284-464e065f40c6\",\"type\":\"GlyphRenderer\"},{\"id\":\"dab9edab-98d9-4c86-b05f-27b2dbd23507\",\"type\":\"GlyphRenderer\"},{\"id\":\"87f0c0c0-d38b-471e-aa5a-6a77530bc930\",\"type\":\"GlyphRenderer\"},{\"id\":\"99a69cf1-23c0-42f1-a886-54de44909c03\",\"type\":\"GlyphRenderer\"},{\"id\":\"b667f01d-ec98-47ba-a7cc-2b96b28dd1e3\",\"type\":\"GlyphRenderer\"},{\"id\":\"4baf6b25-3e58-49a9-90ae-30d9abc6bd44\",\"type\":\"GlyphRenderer\"},{\"id\":\"22a96afd-a4d0-4635-b5ce-56d48b2ca4cd\",\"type\":\"GlyphRenderer\"},{\"id\":\"15f7c6f8-aa60-4f76-a913-e3b4964b28cb\",\"type\":\"GlyphRenderer\"},{\"id\":\"98519054-cd39-4ab4-95a2-1e2e5ff54fe1\",\"type\":\"GlyphRenderer\"},{\"id\":\"26bbc783-e111-4bbd-9b22-a3c7405cf950\",\"type\":\"GlyphRenderer\"},{\"id\":\"3578a79b-1f6c-4fe2-a98f-d9f805705d7f\",\"type\":\"GlyphRenderer\"},{\"id\":\"c6203f58-26b4-41eb-b1f7-6103d578f1da\",\"type\":\"GlyphRenderer\"},{\"id\":\"251bcf91-6781-40fa-8c58-911b8dbaa0dc\",\"type\":\"GlyphRenderer\"},{\"id\":\"4de1e696-32ea-4761-bec5-d1039bc11e56\",\"type\":\"GlyphRenderer\"},{\"id\":\"1da0f637-23f0-475b-ad39-c06dc9c505bc\",\"type\":\"GlyphRenderer\"},{\"id\":\"634ae56f-1ddc-4d50-9319-51236a16caca\",\"type\":\"GlyphRenderer\"}],\"title\":{\"id\":\"74f38d5b-c2c8-4cd8-9190-7a68af10eb42\",\"type\":\"Title\"},\"toolbar\":{\"id\":\"8125e7b4-b549-431d-8ca7-60902c0dacc4\",\"type\":\"Toolbar\"},\"x_range\":{\"id\":\"794d9486-34e3-4681-8eec-8eee90e2609e\",\"type\":\"Range1d\"},\"x_scale\":{\"id\":\"5d63df5f-784d-4528-9c30-c4dfd70eaec2\",\"type\":\"LinearScale\"},\"y_range\":{\"id\":\"a3d990c5-3521-446b-8517-c56590a888a1\",\"type\":\"Range1d\"},\"y_scale\":{\"id\":\"6c26474c-4db9-4c64-85d6-fe2b5261333f\",\"type\":\"LinearScale\"}},\"id\":\"b0a8a1b8-ac71-49bc-ae40-de5127e2c365\",\"subtype\":\"Figure\",\"type\":\"Plot\"},{\"attributes\":{\"callback\":null,\"column_names\":[\"y\",\"x\"],\"data\":{\"x\":{\"__ndarray__\":\"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\",\"dtype\":\"float64\",\"shape\":[200]},\"y\":{\"__ndarray__\":\"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\",\"dtype\":\"float64\",\"shape\":[200]}}},\"id\":\"da6e3273-745c-4110-a3e6-4a5e3326d15f\",\"type\":\"ColumnDataSource\"},{\"attributes\":{\"line_color\":{\"value\":\"gray\"},\"line_width\":{\"value\":2},\"x\":{\"field\":\"x\"},\"y\":{\"field\":\"y\"}},\"id\":\"732b3273-d2a0-47bf-af43-2cec5e2bb180\",\"type\":\"Line\"},{\"attributes\":{\"callback\":null,\"column_names\":[\"y\",\"x\"],\"data\":{\"x\":{\"__ndarray__\":\"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\",\"dtype\":\"float64\",\"shape\":[200]},\"y\":{\"__ndarray__\":\"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\",\"dtype\":\"float64\",\"shape\":[200]}}},\"id\":\"d883645c-ead7-4d42-af24-9a7b2b536c0b\",\"type\":\"ColumnDataSource\"},{\"attributes\":{\"line_color\":{\"value\":\"brown\"},\"line_width\":{\"value\":2},\"x\":{\"field\":\"x\"},\"y\":{\"field\":\"y\"}},\"id\":\"4f4584a4-f064-45fb-a1ff-22b1d2fdf7a0\",\"type\":\"Line\"},{\"attributes\":{\"source\":{\"id\":\"724970d2-0da7-4e8c-90b8-7d684c9fc255\",\"type\":\"ColumnDataSource\"}},\"id\":\"472caa7a-d3a1-41f3-8944-61c0bb14f166\",\"type\":\"CDSView\"},{\"attributes\":{\"source\":{\"id\":\"f2618eea-9272-4537-a19d-0dc9df32ff88\",\"type\":\"ColumnDataSource\"}},\"id\":\"7e4bc556-6ad5-483a-bb94-2bb1d8488bd6\",\"type\":\"CDSView\"},{\"attributes\":{\"line_color\":{\"value\":\"#EAC117\"},\"line_width\":{\"value\":2},\"x\":{\"field\":\"x\"},\"y\":{\"field\":\"y\"}},\"id\":\"5459f76a-093c-4759-ae51-5f6ade4a5c5b\",\"type\":\"Line\"},{\"attributes\":{\"data_source\":{\"id\":\"20de434b-aab6-42bf-b3f4-17382ba3e0a4\",\"type\":\"ColumnDataSource\"},\"glyph\":{\"id\":\"31c85617-4cd5-4885-93cf-27a13e4c156e\",\"type\":\"Line\"},\"hover_glyph\":null,\"muted_glyph\":null,\"nonselection_glyph\":{\"id\":\"cf8b4e87-90bc-4505-a9f0-72132b7a5c3c\",\"type\":\"Line\"},\"selection_glyph\":null,\"view\":{\"id\":\"462eaea6-0cd0-458e-b155-973ac2e46670\",\"type\":\"CDSView\"}},\"id\":\"0ad13b8d-9068-4b25-b530-8012dbc27cc5\",\"type\":\"GlyphRenderer\"},{\"attributes\":{\"source\":{\"id\":\"5a33e63c-a0c2-4722-a94b-ab1340f8e41e\",\"type\":\"ColumnDataSource\"}},\"id\":\"3ef06efe-7158-4bea-8ac4-15e41194334f\",\"type\":\"CDSView\"},{\"attributes\":{\"active_drag\":\"auto\",\"active_inspect\":\"auto\",\"active_scroll\":\"auto\",\"active_tap\":\"auto\",\"tools\":[{\"id\":\"e795a3ee-51c6-4dcf-8171-a394f8b0439c\",\"type\":\"PanTool\"},{\"id\":\"873521ea-56b0-463b-b68f-d85c61be0de5\",\"type\":\"WheelZoomTool\"},{\"id\":\"2f22ec14-7d3e-4991-afdc-3d40ab392d19\",\"type\":\"BoxZoomTool\"},{\"id\":\"8747faac-6c70-4c77-a91d-6cf9ee22d2d3\",\"type\":\"SaveTool\"},{\"id\":\"8bfecef4-beed-4615-ad2e-1224aa07a76c\",\"type\":\"ResetTool\"},{\"id\":\"758f1697-d7bb-4df9-9ca1-55ed2a036eaf\",\"type\":\"HelpTool\"}]},\"id\":\"8125e7b4-b549-431d-8ca7-60902c0dacc4\",\"type\":\"Toolbar\"},{\"attributes\":{\"source\":{\"id\":\"1730affd-4ee0-4cb6-8aab-ec6330b4b852\",\"type\":\"ColumnDataSource\"}},\"id\":\"f246f2f1-1528-4caa-ad7e-c27e4a1d11fa\",\"type\":\"CDSView\"},{\"attributes\":{\"callback\":null,\"column_names\":[\"y\",\"x\"],\"data\":{\"x\":{\"__ndarray__\":\"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\",\"dtype\":\"float64\",\"shape\":[200]},\"y\":{\"__ndarray__\":\"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\",\"dtype\":\"float64\",\"shape\":[200]}}},\"id\":\"5a33e63c-a0c2-4722-a94b-ab1340f8e41e\",\"type\":\"ColumnDataSource\"},{\"attributes\":{\"line_color\":{\"value\":\"red\"},\"line_dash\":[6],\"line_width\":{\"value\":2},\"x\":{\"field\":\"x\"},\"y\":{\"field\":\"y\"}},\"id\":\"6a5ca196-ab9f-47e1-b153-6171d650bd31\",\"type\":\"Line\"},{\"attributes\":{\"line_color\":{\"value\":\"orange\"},\"line_width\":{\"value\":2},\"x\":{\"field\":\"x\"},\"y\":{\"field\":\"y\"}},\"id\":\"47ca1be2-7797-46b2-9ee9-7687c9f2b3c1\",\"type\":\"Line\"},{\"attributes\":{\"line_alpha\":{\"value\":0.1},\"line_color\":{\"value\":\"#1f77b4\"},\"line_dash\":[6,4,2,4],\"line_width\":{\"value\":2},\"x\":{\"field\":\"x\"},\"y\":{\"field\":\"y\"}},\"id\":\"729a868f-5353-4533-a0ca-05b2c6a6c74c\",\"type\":\"Line\"},{\"attributes\":{\"callback\":null,\"column_names\":[\"y\",\"x\"],\"data\":{\"x\":{\"__ndarray__\":\"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\",\"dtype\":\"float64\",\"shape\":[200]},\"y\":{\"__ndarray__\":\"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\",\"dtype\":\"float64\",\"shape\":[200]}}},\"id\":\"7e7ceaf7-34b3-4766-9b9b-4def89f643a9\",\"type\":\"ColumnDataSource\"},{\"attributes\":{\"line_alpha\":{\"value\":0.1},\"line_color\":{\"value\":\"#1f77b4\"},\"line_dash\":[6],\"line_width\":{\"value\":2},\"x\":{\"field\":\"x\"},\"y\":{\"field\":\"y\"}},\"id\":\"dc9f4976-1eb7-45c4-93c1-b8e7ccb7b862\",\"type\":\"Line\"},{\"attributes\":{\"callback\":null,\"column_names\":[\"y\",\"x\"],\"data\":{\"x\":{\"__ndarray__\":\"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\",\"dtype\":\"float64\",\"shape\":[200]},\"y\":{\"__ndarray__\":\"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\",\"dtype\":\"float64\",\"shape\":[200]}}},\"id\":\"c5753326-3ddb-4fac-8517-977793701811\",\"type\":\"ColumnDataSource\"},{\"attributes\":{},\"id\":\"7322eb84-3d70-4c81-8b68-c39e025a6fe4\",\"type\":\"BasicTicker\"},{\"attributes\":{\"data_source\":{\"id\":\"e72ab031-b0e4-40b5-857b-3134c573fcc1\",\"type\":\"ColumnDataSource\"},\"glyph\":{\"id\":\"f11ed21f-d04c-4c8f-8713-b01077385e57\",\"type\":\"Line\"},\"hover_glyph\":null,\"muted_glyph\":null,\"nonselection_glyph\":{\"id\":\"05b9a48a-8e50-4eca-8b2a-f4a9e0181222\",\"type\":\"Line\"},\"selection_glyph\":null,\"view\":{\"id\":\"db360ad2-f904-4893-b02a-4be53ff3b791\",\"type\":\"CDSView\"}},\"id\":\"4de1e696-32ea-4761-bec5-d1039bc11e56\",\"type\":\"GlyphRenderer\"},{\"attributes\":{\"callback\":null,\"column_names\":[\"y\",\"x\"],\"data\":{\"x\":{\"__ndarray__\":\"AAAAAAAAAEChZcdzKikAQELLjudUUgBA4jBWW397AECDlh3PqaQAQCT85ELUzQBAxWGstv72AEBmx3MqKSABQAYtO55TSQFAp5ICEn5yAUBI+MmFqJsBQOldkfnSxAFAisNYbf3tAUAqKSDhJxcCQMuO51RSQAJAbPSuyHxpAkANWnY8p5ICQK6/PbDRuwJATiUFJPzkAkDvisyXJg4DQJDwkwtRNwNAMVZbf3tgA0DSuyLzpYkDQHIh6mbQsgNAE4ex2vrbA0C07HhOJQUEQFVSQMJPLgRA9rcHNnpXBECWHc+ppIAEQDeDlh3PqQRA2OhdkfnSBEB5TiUFJPwEQBq07HhOJQVAuhm07HhOBUBbf3tgo3cFQPzkQtTNoAVAnUoKSPjJBUA+sNG7IvMFQN4VmS9NHAZAgHtgo3dFBkAg4ScXom4GQMFG74rMlwZAYqy2/vbABkACEn5yIeoGQKR3ReZLEwdARN0MWnY8B0DlQtTNoGUHQIaom0HLjgdAJg5jtfW3B0DIcyopIOEHQGjZ8ZxKCghACT+5EHUzCECqpICEn1wIQEoKSPjJhQhA7G8PbPSuCECM1dbfHtgIQC07nlNJAQlAzqBlx3MqCUBuBi07nlMJQBBs9K7IfAlAsNG7IvOlCUBRN4OWHc8JQPKcSgpI+AlAkgISfnIhCkA0aNnxnEoKQNTNoGXHcwpAdTNo2fGcCkAWmS9NHMYKQLb+9sBG7wpAWGS+NHEYC0D4yYWom0ELQJkvTRzGagtAOpUUkPCTC0Da+tsDG70LQHxgo3dF5gtAHMZq628PDEC9KzJfmjgMQF6R+dLEYQxA//bARu+KDECgXIi6GbQMQEDCTy5E3QxA4ScXom4GDUCCjd4VmS8NQCPzpYnDWA1AxFht/e2BDUBkvjRxGKsNQAUk/ORC1A1AponDWG39DUBH74rMlyYOQOhUUkDCTw5AiLoZtOx4DkApIOEnF6IOQMqFqJtByw5Aa+tvD2z0DkAMUTeDlh0PQKy2/vbARg9ATRzGautvD0DugY3eFZkPQI/nVFJAwg9AME0cxmrrD0Bo2fGcSgoQQDiM1dbfHhBACT+5EHUzEEDa8ZxKCkgQQKqkgISfXBBAeldkvjRxEEBKCkj4yYUQQBu9KzJfmhBA7G8PbPSuEEC8IvOlicMQQIzV1t8e2BBAXIi6GbTsEEAtO55TSQERQP7tgY3eFRFAzqBlx3MqEUCeU0kBCT8RQG4GLTueUxFAP7kQdTNoEUAQbPSuyHwRQOAe2OhdkRFAsNG7IvOlEUCAhJ9ciLoRQFE3g5YdzxFAIupm0LLjEUDynEoKSPgRQMJPLkTdDBJAkgISfnIhEkBjtfW3BzYSQDRo2fGcShJABBu9KzJfEkDUzaBlx3MSQKSAhJ9ciBJAdTNo2fGcEkBG5ksTh7ESQBaZL00cxhJA5ksTh7HaEkC2/vbARu8SQIex2vrbAxNAWGS+NHEYE0AoF6JuBi0TQPjJhaibQRNAyHxp4jBWE0CZL00cxmoTQGriMFZbfxNAOpUUkPCTE0AKSPjJhagTQNr62wMbvRNAq62/PbDRE0B8YKN3ReYTQEwTh7Ha+hNAHMZq628PFEDteE4lBSQUQL0rMl+aOBRAjt4VmS9NFEBekfnSxGEUQC5E3QxadhRA//bARu+KFEDPqaSAhJ8UQKBciLoZtBRAcA9s9K7IFEBAwk8uRN0UQBF1M2jZ8RRA4ScXom4GFUCy2vrbAxsVQIKN3hWZLxVAUkDCTy5EFUAj86WJw1gVQPOlicNYbRVAxFht/e2BFUCUC1E3g5YVQGS+NHEYqxVANXEYq62/FUAFJPzkQtQVQNbW3x7Y6BVAponDWG39FUB2PKeSAhIWQEfvisyXJhZAF6JuBi07FkDoVFJAwk8WQLgHNnpXZBZAiLoZtOx4FkBZbf3tgY0WQCkg4ScXohZA+tLEYay2FkDKhaibQcsWQJo4jNXW3xZAa+tvD2z0FkA7nlNJAQkXQAxRN4OWHRdA3AMbvSsyF0Cstv72wEYXQH1p4jBWWxdATRzGautvF0Aez6mkgIQXQO6Bjd4VmRdAvjRxGKutF0CP51RSQMIXQGCaOIzV1hdAME0cxmrrF0AAAAAAAAAYQA==\",\"dtype\":\"float64\",\"shape\":[200]},\"y\":{\"__ndarray__\":\"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\",\"dtype\":\"float64\",\"shape\":[200]}}},\"id\":\"20de434b-aab6-42bf-b3f4-17382ba3e0a4\",\"type\":\"ColumnDataSource\"},{\"attributes\":{\"line_color\":{\"value\":\"green\"},\"line_width\":{\"value\":2},\"x\":{\"field\":\"x\"},\"y\":{\"field\":\"y\"}},\"id\":\"f134f4ef-a681-43f9-acc6-0b80588a9505\",\"type\":\"Line\"},{\"attributes\":{\"overlay\":{\"id\":\"95f5d173-3b0a-41f6-89f8-1703ba6336d3\",\"type\":\"BoxAnnotation\"}},\"id\":\"2f22ec14-7d3e-4991-afdc-3d40ab392d19\",\"type\":\"BoxZoomTool\"},{\"attributes\":{},\"id\":\"5d63df5f-784d-4528-9c30-c4dfd70eaec2\",\"type\":\"LinearScale\"},{\"attributes\":{\"line_alpha\":{\"value\":0.1},\"line_color\":{\"value\":\"#1f77b4\"},\"line_dash\":[6],\"line_width\":{\"value\":2},\"x\":{\"field\":\"x\"},\"y\":{\"field\":\"y\"}},\"id\":\"ee9fd47d-03f4-471d-ad39-ff0c7dcd194f\",\"type\":\"Line\"},{\"attributes\":{\"line_alpha\":{\"value\":0.1},\"line_color\":{\"value\":\"#1f77b4\"},\"line_dash\":[6,4,2,4],\"line_width\":{\"value\":2},\"x\":{\"field\":\"x\"},\"y\":{\"field\":\"y\"}},\"id\":\"045b4e8c-9aa7-4d5a-b5d5-a71553f70e5e\",\"type\":\"Line\"},{\"attributes\":{\"line_color\":{\"value\":\"green\"},\"line_width\":{\"value\":2},\"x\":{\"field\":\"x\"},\"y\":{\"field\":\"y\"}},\"id\":\"31c85617-4cd5-4885-93cf-27a13e4c156e\",\"type\":\"Line\"},{\"attributes\":{\"line_alpha\":{\"value\":0.1},\"line_color\":{\"value\":\"#1f77b4\"},\"line_width\":{\"value\":2},\"x\":{\"field\":\"x\"},\"y\":{\"field\":\"y\"}},\"id\":\"40051e21-2085-42b7-9be9-2dfd429f046a\",\"type\":\"Line\"},{\"attributes\":{\"data_source\":{\"id\":\"f2618eea-9272-4537-a19d-0dc9df32ff88\",\"type\":\"ColumnDataSource\"},\"glyph\":{\"id\":\"5860b164-8b7a-4b64-affa-b7da48630b1d\",\"type\":\"Line\"},\"hover_glyph\":null,\"muted_glyph\":null,\"nonselection_glyph\":{\"id\":\"b3d3d9b2-f156-46e9-bf4a-dff4b7f31973\",\"type\":\"Line\"},\"selection_glyph\":null,\"view\":{\"id\":\"7e4bc556-6ad5-483a-bb94-2bb1d8488bd6\",\"type\":\"CDSView\"}},\"id\":\"8434cd5f-00e0-441d-809f-56ca0361bfc4\",\"type\":\"GlyphRenderer\"},{\"attributes\":{\"bottom_units\":\"screen\",\"fill_alpha\":{\"value\":0.5},\"fill_color\":{\"value\":\"lightgrey\"},\"left_units\":\"screen\",\"level\":\"overlay\",\"line_alpha\":{\"value\":1.0},\"line_color\":{\"value\":\"black\"},\"line_dash\":[4,4],\"line_width\":{\"value\":2},\"plot\":null,\"render_mode\":\"css\",\"right_units\":\"screen\",\"top_units\":\"screen\"},\"id\":\"95f5d173-3b0a-41f6-89f8-1703ba6336d3\",\"type\":\"BoxAnnotation\"},{\"attributes\":{},\"id\":\"873521ea-56b0-463b-b68f-d85c61be0de5\",\"type\":\"WheelZoomTool\"},{\"attributes\":{\"source\":{\"id\":\"13c1af49-4bc8-4f11-88ec-e78246ce58c9\",\"type\":\"ColumnDataSource\"}},\"id\":\"7ff950ed-390f-4866-91ef-000b9dd1e7b6\",\"type\":\"CDSView\"},{\"attributes\":{\"line_color\":{\"value\":\"blue\"},\"line_width\":{\"value\":2},\"x\":{\"field\":\"x\"},\"y\":{\"field\":\"y\"}},\"id\":\"1277e43f-a4e5-4a7f-8b74-a612164f6df8\",\"type\":\"Line\"},{\"attributes\":{\"source\":{\"id\":\"c5753326-3ddb-4fac-8517-977793701811\",\"type\":\"ColumnDataSource\"}},\"id\":\"581c6458-6fa2-4a1d-afd3-8649c1ef48d3\",\"type\":\"CDSView\"},{\"attributes\":{\"source\":{\"id\":\"2c8723b6-796c-426e-ba0b-ed400c62b8ee\",\"type\":\"ColumnDataSource\"}},\"id\":\"4cf2425c-6e53-449b-9d66-cf48274bb138\",\"type\":\"CDSView\"},{\"attributes\":{\"data_source\":{\"id\":\"2c8723b6-796c-426e-ba0b-ed400c62b8ee\",\"type\":\"ColumnDataSource\"},\"glyph\":{\"id\":\"f134f4ef-a681-43f9-acc6-0b80588a9505\",\"type\":\"Line\"},\"hover_glyph\":null,\"muted_glyph\":null,\"nonselection_glyph\":{\"id\":\"40051e21-2085-42b7-9be9-2dfd429f046a\",\"type\":\"Line\"},\"selection_glyph\":null,\"view\":{\"id\":\"4cf2425c-6e53-449b-9d66-cf48274bb138\",\"type\":\"CDSView\"}},\"id\":\"36a44aeb-8273-4547-8482-2e14cb791164\",\"type\":\"GlyphRenderer\"},{\"attributes\":{\"line_alpha\":{\"value\":0.1},\"line_color\":{\"value\":\"#1f77b4\"},\"line_width\":{\"value\":2},\"x\":{\"field\":\"x\"},\"y\":{\"field\":\"y\"}},\"id\":\"1f97c911-4d1f-4501-a9b5-f6842a09fd9f\",\"type\":\"Line\"},{\"attributes\":{\"source\":{\"id\":\"da6e3273-745c-4110-a3e6-4a5e3326d15f\",\"type\":\"ColumnDataSource\"}},\"id\":\"73a1e783-09ff-427c-bc4c-86ca0ca6a4b5\",\"type\":\"CDSView\"},{\"attributes\":{\"label\":{\"value\":\"A15--beta-W\"},\"renderers\":[{\"id\":\"0ad13b8d-9068-4b25-b530-8012dbc27cc5\",\"type\":\"GlyphRenderer\"},{\"id\":\"36a44aeb-8273-4547-8482-2e14cb791164\",\"type\":\"GlyphRenderer\"}]},\"id\":\"184484c3-b17f-4519-a906-fa1947ac746b\",\"type\":\"LegendItem\"},{\"attributes\":{\"line_alpha\":{\"value\":0.1},\"line_color\":{\"value\":\"#1f77b4\"},\"line_width\":{\"value\":2},\"x\":{\"field\":\"x\"},\"y\":{\"field\":\"y\"}},\"id\":\"b0c6f14f-6445-418e-b5f6-05b5a7c91a8b\",\"type\":\"Line\"},{\"attributes\":{\"line_color\":{\"value\":\"#EAC117\"},\"line_width\":{\"value\":2},\"x\":{\"field\":\"x\"},\"y\":{\"field\":\"y\"}},\"id\":\"5eb2798a-50a9-4c61-9bcc-52d1666e245d\",\"type\":\"Line\"},{\"attributes\":{\"data_source\":{\"id\":\"c5753326-3ddb-4fac-8517-977793701811\",\"type\":\"ColumnDataSource\"},\"glyph\":{\"id\":\"6a5ca196-ab9f-47e1-b153-6171d650bd31\",\"type\":\"Line\"},\"hover_glyph\":null,\"muted_glyph\":null,\"nonselection_glyph\":{\"id\":\"dc9f4976-1eb7-45c4-93c1-b8e7ccb7b862\",\"type\":\"Line\"},\"selection_glyph\":null,\"view\":{\"id\":\"581c6458-6fa2-4a1d-afd3-8649c1ef48d3\",\"type\":\"CDSView\"}},\"id\":\"4baf6b25-3e58-49a9-90ae-30d9abc6bd44\",\"type\":\"GlyphRenderer\"},{\"attributes\":{\"callback\":null,\"column_names\":[\"y\",\"x\"],\"data\":{\"x\":{\"__ndarray__\":\"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\",\"dtype\":\"float64\",\"shape\":[200]},\"y\":{\"__ndarray__\":\"Mp8yQhKxL0Bwc9FHeq0tQCqu7CNwzCtA2GZ43B8LKkAAglpJL2coQA7CYHyt3iZAwIq5uLhvJUCgFejHhRgkQCALnkpi1yJAiDLQ+LmqIUD06qwL/JAgQDEz6b9sER9A+OrZzIUhHUAQD0MdLFAbQN0zfCh3mxlAu8UeXLIBGEB8K6PwdYEWQOAL94ezGRVAF10b5HjJE0BdafVTjI8SQBrT6jOMahFAcVBwsidZEEAyFHLhQbQOQOkFPK+M2AxAObQtQQAYC0D68PgqPHMJQBqCi+jq6QdAvHj2WPV5BkC10tvocSEFQNIsnvyV3gNArAJHY6mvAkAoaGfcAZMBQMhWfeIyhwBABphgBA0W/z962v9B5jv9P2dz1DVGf/s/OvEFDorf+T+2f/DDKVz4P9We8ZO29PY/UEk1zNmo9T+Ati05G3j0P/KIQtfgWfM/7O6xCb5J8j+fEqwNrUbxP6rvf86FT/A/tJWWrz3G7j+f4fKWmgDtP7txDPjUS+s/Frnjguul6T/LrlXEAg3oP93A8F/qf+Y/C5fl1lP+5D8EMYKBAYjjPwjexX7KHOI/lS+lObe84D8dcFCwSM/eP97tZGLUOtw/qX0KecW72T8WaBBH01HXP/vUX+6k/NQ/kzXRdxG70j9Ia5BkqIvQPwNX300x2sw/WJgGxrW8yD9kZbKFtr7EPxAwyCGg4MA/N7AzUchFuj+fNRuq6wuzP3+7GLUoKag/igUM0cCClT/7Y51LGu1wv1tUo7fU5Zy/+L/XC70+qr/m2biWx8CyvwUyPyYaH7i/UO8+z+g8vb/+l0EEbg7Bv64sdrDTYMO/bWuwMAWXxb8QQRUxTLLHvykFYX4Ns8m/iIYcx0CZy78nxkqT5GTNv6FwNJX/Fc+/208ib1BW0L82D6dWpxTRvzxtPpsdx9G/0MsouQJv0r9QuoIyqw3Tv8NEgOZwpNO/RaRT07I01L8wzxyV1b/Uv3iUtTFDR9W/KrV/MkrM1b8jUILixk/Wv582Dul40ta/9pOswfdU179E+ncO7NbXv89HsoGfV9i/HeNtO1jW2L/QoQhkZVLZv6497Y4wy9m/ZJEeUCNA2r9GRYo7pLDav93EdBYWHNu/ELigs9eB27/uNa/VROHbv4QIH/a0Ody/6phdrXuK3L8/MwfVGdPcv+a+EbqkE92/5ZCbc1BM3b/MNOEAVH3dvyRTCmDopt2/O3hHPkjJ3b+OmLs2seTdvwnOD+Zk+d2/lVIvPfAH3r+EDgrUUBHev7w2R9+PFt6/ce3tyrgY3r+HuAr51xjev+x/gXD7F96/iyODBjMX3r9q2S7ijxfev07kwQckGt6/iQLsXegf3r8T2k2tbinev6KMlDorN96/qF/Wxo1J3r98jfDeumDev+aGylxJfN6/3OaZC72b3r+u8buylr7ev674GzFU5N6/aLve2HAM379AmaXcZTbfv4KtI2iqYd+/uRPRz7ON3796t7+69bnfv0iWaEXi5d+/j0Q5DnUI4L9aLUtHPh3gvzyDbsoDMeC/2KbOOXxD4L+z896deVTgv1R7PEf/Y+C/HZxdkRVy4L8j9FDVxH7gvyokFGkViuC/YlS1iA+U4L9d9ixxu5zgv9sea2QhpOC/92wAokmq4L9a1WdnPK/gv9kbU/ABs+C/Gwz6dqK14L8CYWw0Jrfgvxxf5mCVt+C/nhgoNPi24L8STM/lVrXgv2/cs625suC/Us1GxCiv4L9OnWdirKrgv1voB4xMpeC/RBLTPxGf4L9Rba89Apjgv64AM3slkOC/qboWXICH4L8R4dJFGH7gv4DTNKDyc+C/QZfm1RRp4L+BO/lUhF3gv67mcY9GUeC/kWvZ+2BE4L/5KM4V2Tbgv+JrIxm0KOC/AUO65/YZ4L9ICy3Gpgrgv/2lJAKS9d+/7I3f1sXU37/pqga/87Lfv1/mHH8mkN+/cWFG7Whs37+ynOXyxUffv7z2Oo5IIt+/y9MF1Pv73r/WdUSw6tTev9Gsv5Ydrd6/h5TFXZ6E3r9JRBeNd1vev9FpIL+zMd6/W6FO+lgH3r9YSlqKZNzdv+DAO+TSsN2/w2Oqo6CE3b+E6FKNylfdv1ZlB5FNKt2/wcgciyb83L+EZmBrTM3cvw==\",\"dtype\":\"float64\",\"shape\":[200]}}},\"id\":\"ac885b36-18d3-4876-8b7b-74e7e0b427c2\",\"type\":\"ColumnDataSource\"},{\"attributes\":{\"callback\":null,\"end\":6,\"start\":2},\"id\":\"794d9486-34e3-4681-8eec-8eee90e2609e\",\"type\":\"Range1d\"},{\"attributes\":{\"callback\":null,\"column_names\":[\"y\",\"x\"],\"data\":{\"x\":{\"__ndarray__\":\"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\",\"dtype\":\"float64\",\"shape\":[200]},\"y\":{\"__ndarray__\":\"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\",\"dtype\":\"float64\",\"shape\":[200]}}},\"id\":\"55bfda02-bebf-41ac-ad61-8db81b766c52\",\"type\":\"ColumnDataSource\"},{\"attributes\":{\"plot\":null,\"text\":\"Cohesive Energy vs. Interatomic Spacing for Cs\"},\"id\":\"74f38d5b-c2c8-4cd8-9190-7a68af10eb42\",\"type\":\"Title\"},{\"attributes\":{\"label\":{\"value\":\"A7--alpha-As\"},\"renderers\":[{\"id\":\"251bcf91-6781-40fa-8c58-911b8dbaa0dc\",\"type\":\"GlyphRenderer\"},{\"id\":\"4de1e696-32ea-4761-bec5-d1039bc11e56\",\"type\":\"GlyphRenderer\"}]},\"id\":\"ef2babf0-9fd0-41d4-8dbf-02d4eddeb93e\",\"type\":\"LegendItem\"},{\"attributes\":{\"line_alpha\":{\"value\":0.1},\"line_color\":{\"value\":\"#1f77b4\"},\"line_width\":{\"value\":2},\"x\":{\"field\":\"x\"},\"y\":{\"field\":\"y\"}},\"id\":\"05b9a48a-8e50-4eca-8b2a-f4a9e0181222\",\"type\":\"Line\"},{\"attributes\":{\"source\":{\"id\":\"d883645c-ead7-4d42-af24-9a7b2b536c0b\",\"type\":\"ColumnDataSource\"}},\"id\":\"df3b17b1-1db7-4275-9258-ea8cfa054519\",\"type\":\"CDSView\"},{\"attributes\":{\"callback\":null,\"column_names\":[\"y\",\"x\"],\"data\":{\"x\":{\"__ndarray__\":\"AAAAAAAAAEChZcdzKikAQELLjudUUgBA4jBWW397AECDlh3PqaQAQCT85ELUzQBAxWGstv72AEBmx3MqKSABQAYtO55TSQFAp5ICEn5yAUBI+MmFqJsBQOldkfnSxAFAisNYbf3tAUAqKSDhJxcCQMuO51RSQAJAbPSuyHxpAkANWnY8p5ICQK6/PbDRuwJATiUFJPzkAkDvisyXJg4DQJDwkwtRNwNAMVZbf3tgA0DSuyLzpYkDQHIh6mbQsgNAE4ex2vrbA0C07HhOJQUEQFVSQMJPLgRA9rcHNnpXBECWHc+ppIAEQDeDlh3PqQRA2OhdkfnSBEB5TiUFJPwEQBq07HhOJQVAuhm07HhOBUBbf3tgo3cFQPzkQtTNoAVAnUoKSPjJBUA+sNG7IvMFQN4VmS9NHAZAgHtgo3dFBkAg4ScXom4GQMFG74rMlwZAYqy2/vbABkACEn5yIeoGQKR3ReZLEwdARN0MWnY8B0DlQtTNoGUHQIaom0HLjgdAJg5jtfW3B0DIcyopIOEHQGjZ8ZxKCghACT+5EHUzCECqpICEn1wIQEoKSPjJhQhA7G8PbPSuCECM1dbfHtgIQC07nlNJAQlAzqBlx3MqCUBuBi07nlMJQBBs9K7IfAlAsNG7IvOlCUBRN4OWHc8JQPKcSgpI+AlAkgISfnIhCkA0aNnxnEoKQNTNoGXHcwpAdTNo2fGcCkAWmS9NHMYKQLb+9sBG7wpAWGS+NHEYC0D4yYWom0ELQJkvTRzGagtAOpUUkPCTC0Da+tsDG70LQHxgo3dF5gtAHMZq628PDEC9KzJfmjgMQF6R+dLEYQxA//bARu+KDECgXIi6GbQMQEDCTy5E3QxA4ScXom4GDUCCjd4VmS8NQCPzpYnDWA1AxFht/e2BDUBkvjRxGKsNQAUk/ORC1A1AponDWG39DUBH74rMlyYOQOhUUkDCTw5AiLoZtOx4DkApIOEnF6IOQMqFqJtByw5Aa+tvD2z0DkAMUTeDlh0PQKy2/vbARg9ATRzGautvD0DugY3eFZkPQI/nVFJAwg9AME0cxmrrD0Bo2fGcSgoQQDiM1dbfHhBACT+5EHUzEEDa8ZxKCkgQQKqkgISfXBBAeldkvjRxEEBKCkj4yYUQQBu9KzJfmhBA7G8PbPSuEEC8IvOlicMQQIzV1t8e2BBAXIi6GbTsEEAtO55TSQERQP7tgY3eFRFAzqBlx3MqEUCeU0kBCT8RQG4GLTueUxFAP7kQdTNoEUAQbPSuyHwRQOAe2OhdkRFAsNG7IvOlEUCAhJ9ciLoRQFE3g5YdzxFAIupm0LLjEUDynEoKSPgRQMJPLkTdDBJAkgISfnIhEkBjtfW3BzYSQDRo2fGcShJABBu9KzJfEkDUzaBlx3MSQKSAhJ9ciBJAdTNo2fGcEkBG5ksTh7ESQBaZL00cxhJA5ksTh7HaEkC2/vbARu8SQIex2vrbAxNAWGS+NHEYE0AoF6JuBi0TQPjJhaibQRNAyHxp4jBWE0CZL00cxmoTQGriMFZbfxNAOpUUkPCTE0AKSPjJhagTQNr62wMbvRNAq62/PbDRE0B8YKN3ReYTQEwTh7Ha+hNAHMZq628PFEDteE4lBSQUQL0rMl+aOBRAjt4VmS9NFEBekfnSxGEUQC5E3QxadhRA//bARu+KFEDPqaSAhJ8UQKBciLoZtBRAcA9s9K7IFEBAwk8uRN0UQBF1M2jZ8RRA4ScXom4GFUCy2vrbAxsVQIKN3hWZLxVAUkDCTy5EFUAj86WJw1gVQPOlicNYbRVAxFht/e2BFUCUC1E3g5YVQGS+NHEYqxVANXEYq62/FUAFJPzkQtQVQNbW3x7Y6BVAponDWG39FUB2PKeSAhIWQEfvisyXJhZAF6JuBi07FkDoVFJAwk8WQLgHNnpXZBZAiLoZtOx4FkBZbf3tgY0WQCkg4ScXohZA+tLEYay2FkDKhaibQcsWQJo4jNXW3xZAa+tvD2z0FkA7nlNJAQkXQAxRN4OWHRdA3AMbvSsyF0Cstv72wEYXQH1p4jBWWxdATRzGautvF0Aez6mkgIQXQO6Bjd4VmRdAvjRxGKutF0CP51RSQMIXQGCaOIzV1hdAME0cxmrrF0AAAAAAAAAYQA==\",\"dtype\":\"float64\",\"shape\":[200]},\"y\":{\"__ndarray__\":\"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\",\"dtype\":\"float64\",\"shape\":[200]}}},\"id\":\"96e9ea1e-dae3-4b4d-afd2-e5065c201d6b\",\"type\":\"ColumnDataSource\"},{\"attributes\":{\"label\":{\"value\":\"A6--In--bct\"},\"renderers\":[{\"id\":\"3578a79b-1f6c-4fe2-a98f-d9f805705d7f\",\"type\":\"GlyphRenderer\"},{\"id\":\"c6203f58-26b4-41eb-b1f7-6103d578f1da\",\"type\":\"GlyphRenderer\"}]},\"id\":\"946d67db-397c-41b8-bdc7-d601b1173379\",\"type\":\"LegendItem\"},{\"attributes\":{\"label\":{\"value\":\"Ah--alpha-Po--sc\"},\"renderers\":[{\"id\":\"1da0f637-23f0-475b-ad39-c06dc9c505bc\",\"type\":\"GlyphRenderer\"},{\"id\":\"634ae56f-1ddc-4d50-9319-51236a16caca\",\"type\":\"GlyphRenderer\"}]},\"id\":\"313986e0-a57b-41f5-9386-fbaeed4e3636\",\"type\":\"LegendItem\"},{\"attributes\":{\"line_alpha\":{\"value\":0.1},\"line_color\":{\"value\":\"#1f77b4\"},\"line_width\":{\"value\":2},\"x\":{\"field\":\"x\"},\"y\":{\"field\":\"y\"}},\"id\":\"53cb1446-c8a0-4958-b545-db2283b332ff\",\"type\":\"Line\"},{\"attributes\":{\"line_alpha\":{\"value\":0.1},\"line_color\":{\"value\":\"#1f77b4\"},\"line_width\":{\"value\":2},\"x\":{\"field\":\"x\"},\"y\":{\"field\":\"y\"}},\"id\":\"5ee5a748-e0a6-4ae1-b67b-3238dfa4b988\",\"type\":\"Line\"},{\"attributes\":{\"line_color\":{\"value\":\"blue\"},\"line_width\":{\"value\":2},\"x\":{\"field\":\"x\"},\"y\":{\"field\":\"y\"}},\"id\":\"2833a862-8573-45fc-af84-de156381c5bc\",\"type\":\"Line\"},{\"attributes\":{\"line_alpha\":{\"value\":0.1},\"line_color\":{\"value\":\"#1f77b4\"},\"line_width\":{\"value\":2},\"x\":{\"field\":\"x\"},\"y\":{\"field\":\"y\"}},\"id\":\"281b3864-d78c-4daa-99ec-f2c910801f8a\",\"type\":\"Line\"},{\"attributes\":{\"data_source\":{\"id\":\"b7fe39b4-44e8-4457-801c-a45a3dd2f27a\",\"type\":\"ColumnDataSource\"},\"glyph\":{\"id\":\"4f4584a4-f064-45fb-a1ff-22b1d2fdf7a0\",\"type\":\"Line\"},\"hover_glyph\":null,\"muted_glyph\":null,\"nonselection_glyph\":{\"id\":\"02459cf6-50ac-409b-bbef-b768a382a71b\",\"type\":\"Line\"},\"selection_glyph\":null,\"view\":{\"id\":\"d5ab7d98-1ebf-45d9-a258-3d4267e94412\",\"type\":\"CDSView\"}},\"id\":\"1da0f637-23f0-475b-ad39-c06dc9c505bc\",\"type\":\"GlyphRenderer\"},{\"attributes\":{\"callback\":null,\"column_names\":[\"y\",\"x\"],\"data\":{\"x\":{\"__ndarray__\":\"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\",\"dtype\":\"float64\",\"shape\":[200]},\"y\":{\"__ndarray__\":\"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\",\"dtype\":\"float64\",\"shape\":[200]}}},\"id\":\"1730affd-4ee0-4cb6-8aab-ec6330b4b852\",\"type\":\"ColumnDataSource\"},{\"attributes\":{},\"id\":\"e795a3ee-51c6-4dcf-8171-a394f8b0439c\",\"type\":\"PanTool\"},{\"attributes\":{\"data_source\":{\"id\":\"dedb873d-4459-4b4f-9f13-f5f955079862\",\"type\":\"ColumnDataSource\"},\"glyph\":{\"id\":\"91049c97-8c7b-413d-ac0f-569758d50cde\",\"type\":\"Line\"},\"hover_glyph\":null,\"muted_glyph\":null,\"nonselection_glyph\":{\"id\":\"74b55d16-6c83-4569-8b9d-c126692b488e\",\"type\":\"Line\"},\"selection_glyph\":null,\"view\":{\"id\":\"b688224d-abbc-4b64-9d88-782ae1f946cb\",\"type\":\"CDSView\"}},\"id\":\"634ae56f-1ddc-4d50-9319-51236a16caca\",\"type\":\"GlyphRenderer\"},{\"attributes\":{\"line_color\":{\"value\":\"magenta\"},\"line_width\":{\"value\":2},\"x\":{\"field\":\"x\"},\"y\":{\"field\":\"y\"}},\"id\":\"5bc91bd2-938c-4624-bc67-71c80664b402\",\"type\":\"Line\"},{\"attributes\":{\"axis_label\":\"Cohesive Energy (eV/atom)\",\"formatter\":{\"id\":\"6abe7170-f2e5-4041-baee-eae840e3b66e\",\"type\":\"BasicTickFormatter\"},\"plot\":{\"id\":\"b0a8a1b8-ac71-49bc-ae40-de5127e2c365\",\"subtype\":\"Figure\",\"type\":\"Plot\"},\"ticker\":{\"id\":\"8700e482-8ddb-4ceb-b146-66fae6a4abf7\",\"type\":\"BasicTicker\"}},\"id\":\"a0ad7ccc-c344-4323-9e70-1978a0f4080c\",\"type\":\"LinearAxis\"},{\"attributes\":{\"source\":{\"id\":\"dedb873d-4459-4b4f-9f13-f5f955079862\",\"type\":\"ColumnDataSource\"}},\"id\":\"b688224d-abbc-4b64-9d88-782ae1f946cb\",\"type\":\"CDSView\"},{\"attributes\":{\"line_color\":{\"value\":\"orange\"},\"line_width\":{\"value\":2},\"x\":{\"field\":\"x\"},\"y\":{\"field\":\"y\"}},\"id\":\"acce3d68-89cd-49f7-b8d0-4dcfe9643039\",\"type\":\"Line\"},{\"attributes\":{},\"id\":\"6abe7170-f2e5-4041-baee-eae840e3b66e\",\"type\":\"BasicTickFormatter\"},{\"attributes\":{\"callback\":null,\"column_names\":[\"y\",\"x\"],\"data\":{\"x\":{\"__ndarray__\":\"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\",\"dtype\":\"float64\",\"shape\":[200]},\"y\":{\"__ndarray__\":\"Mp8yQhKxL0Bwc9FHeq0tQCqu7CNwzCtA2GZ43B8LKkAAglpJL2coQA7CYHyt3iZAwIq5uLhvJUCgFejHhRgkQCALnkpi1yJAiDLQ+LmqIUD06qwL/JAgQDEz6b9sER9A+OrZzIUhHUAQD0MdLFAbQN0zfCh3mxlAu8UeXLIBGEB8K6PwdYEWQOAL94ezGRVAF10b5HjJE0BdafVTjI8SQBrT6jOMahFAcVBwsidZEEAyFHLhQbQOQOkFPK+M2AxAObQtQQAYC0D68PgqPHMJQBqCi+jq6QdAvHj2WPV5BkC10tvocSEFQNIsnvyV3gNArAJHY6mvAkAoaGfcAZMBQMhWfeIyhwBABphgBA0W/z962v9B5jv9P2dz1DVGf/s/OvEFDorf+T+2f/DDKVz4P9We8ZO29PY/UEk1zNmo9T+Ati05G3j0P/KIQtfgWfM/7O6xCb5J8j+fEqwNrUbxP6rvf86FT/A/tJWWrz3G7j+f4fKWmgDtP7txDPjUS+s/Frnjguul6T/LrlXEAg3oP93A8F/qf+Y/C5fl1lP+5D8EMYKBAYjjPwjexX7KHOI/lS+lObe84D8dcFCwSM/eP97tZGLUOtw/qX0KecW72T8WaBBH01HXP/vUX+6k/NQ/kzXRdxG70j9Ia5BkqIvQPwNX300x2sw/WJgGxrW8yD9kZbKFtr7EPxAwyCGg4MA/N7AzUchFuj+fNRuq6wuzP3+7GLUoKag/igUM0cCClT/7Y51LGu1wv1tUo7fU5Zy/+L/XC70+qr/m2biWx8CyvwUyPyYaH7i/UO8+z+g8vb/+l0EEbg7Bv64sdrDTYMO/bWuwMAWXxb8QQRUxTLLHvykFYX4Ns8m/iIYcx0CZy78nxkqT5GTNv6FwNJX/Fc+/208ib1BW0L82D6dWpxTRvzxtPpsdx9G/0MsouQJv0r9QuoIyqw3Tv8NEgOZwpNO/RaRT07I01L8wzxyV1b/Uv3iUtTFDR9W/KrV/MkrM1b8jUILixk/Wv582Dul40ta/9pOswfdU179E+ncO7NbXv89HsoGfV9i/HeNtO1jW2L/QoQhkZVLZv6497Y4wy9m/ZJEeUCNA2r9GRYo7pLDav93EdBYWHNu/ELigs9eB27/uNa/VROHbv4QIH/a0Ody/6phdrXuK3L8/MwfVGdPcv+a+EbqkE92/5ZCbc1BM3b/MNOEAVH3dvyRTCmDopt2/O3hHPkjJ3b+OmLs2seTdvwnOD+Zk+d2/lVIvPfAH3r+EDgrUUBHev7w2R9+PFt6/ce3tyrgY3r+HuAr51xjev+x/gXD7F96/iyODBjMX3r9q2S7ijxfev07kwQckGt6/iQLsXegf3r8T2k2tbinev6KMlDorN96/qF/Wxo1J3r98jfDeumDev+aGylxJfN6/3OaZC72b3r+u8buylr7ev674GzFU5N6/aLve2HAM379AmaXcZTbfv4KtI2iqYd+/uRPRz7ON3796t7+69bnfv0iWaEXi5d+/j0Q5DnUI4L9aLUtHPh3gvzyDbsoDMeC/2KbOOXxD4L+z896deVTgv1R7PEf/Y+C/HZxdkRVy4L8j9FDVxH7gvyokFGkViuC/YlS1iA+U4L9d9ixxu5zgv9sea2QhpOC/92wAokmq4L9a1WdnPK/gv9kbU/ABs+C/Gwz6dqK14L8CYWw0Jrfgvxxf5mCVt+C/nhgoNPi24L8STM/lVrXgv2/cs625suC/Us1GxCiv4L9OnWdirKrgv1voB4xMpeC/RBLTPxGf4L9Rba89Apjgv64AM3slkOC/qboWXICH4L8R4dJFGH7gv4DTNKDyc+C/QZfm1RRp4L+BO/lUhF3gv67mcY9GUeC/kWvZ+2BE4L/5KM4V2Tbgv+JrIxm0KOC/AUO65/YZ4L9ICy3Gpgrgv/2lJAKS9d+/7I3f1sXU37/pqga/87Lfv1/mHH8mkN+/cWFG7Whs37+ynOXyxUffv7z2Oo5IIt+/y9MF1Pv73r/WdUSw6tTev9Gsv5Ydrd6/h5TFXZ6E3r9JRBeNd1vev9FpIL+zMd6/W6FO+lgH3r9YSlqKZNzdv+DAO+TSsN2/w2Oqo6CE3b+E6FKNylfdv1ZlB5FNKt2/wcgciyb83L+EZmBrTM3cvw==\",\"dtype\":\"float64\",\"shape\":[200]}}},\"id\":\"4998f70f-ab09-4c92-8a57-d2b84cea54c4\",\"type\":\"ColumnDataSource\"},{\"attributes\":{\"line_color\":{\"value\":\"red\"},\"line_dash\":[6],\"line_width\":{\"value\":2},\"x\":{\"field\":\"x\"},\"y\":{\"field\":\"y\"}},\"id\":\"d0656a12-0f1e-4394-8504-7917b807a9b7\",\"type\":\"Line\"},{\"attributes\":{\"data_source\":{\"id\":\"7e7ceaf7-34b3-4766-9b9b-4def89f643a9\",\"type\":\"ColumnDataSource\"},\"glyph\":{\"id\":\"5459f76a-093c-4759-ae51-5f6ade4a5c5b\",\"type\":\"Line\"},\"hover_glyph\":null,\"muted_glyph\":null,\"nonselection_glyph\":{\"id\":\"91258fc4-5c3b-4d60-9f34-a0fa7f2b8713\",\"type\":\"Line\"},\"selection_glyph\":null,\"view\":{\"id\":\"e77f2ce1-8a1d-41a7-be29-da4242f1cfb9\",\"type\":\"CDSView\"}},\"id\":\"98519054-cd39-4ab4-95a2-1e2e5ff54fe1\",\"type\":\"GlyphRenderer\"},{\"attributes\":{\"label\":{\"value\":\"A2--W--bcc\"},\"renderers\":[{\"id\":\"399336e5-af68-4a88-8284-464e065f40c6\",\"type\":\"GlyphRenderer\"},{\"id\":\"dab9edab-98d9-4c86-b05f-27b2dbd23507\",\"type\":\"GlyphRenderer\"}]},\"id\":\"d64a5574-0e3c-48c3-b278-4ef64977880e\",\"type\":\"LegendItem\"},{\"attributes\":{\"source\":{\"id\":\"b7fe39b4-44e8-4457-801c-a45a3dd2f27a\",\"type\":\"ColumnDataSource\"}},\"id\":\"d5ab7d98-1ebf-45d9-a258-3d4267e94412\",\"type\":\"CDSView\"},{\"attributes\":{\"data_source\":{\"id\":\"4998f70f-ab09-4c92-8a57-d2b84cea54c4\",\"type\":\"ColumnDataSource\"},\"glyph\":{\"id\":\"5bc91bd2-938c-4624-bc67-71c80664b402\",\"type\":\"Line\"},\"hover_glyph\":null,\"muted_glyph\":null,\"nonselection_glyph\":{\"id\":\"0c1fbe01-776d-4e13-aef7-13879e518f38\",\"type\":\"Line\"},\"selection_glyph\":null,\"view\":{\"id\":\"acce9bf7-0b42-4eeb-9f93-4c443fd810ee\",\"type\":\"CDSView\"}},\"id\":\"15f7c6f8-aa60-4f76-a913-e3b4964b28cb\",\"type\":\"GlyphRenderer\"},{\"attributes\":{\"line_color\":{\"value\":\"cyan\"},\"line_dash\":[6,4,2,4],\"line_width\":{\"value\":2},\"x\":{\"field\":\"x\"},\"y\":{\"field\":\"y\"}},\"id\":\"691570e3-5106-4203-bfec-4acb946d25e9\",\"type\":\"Line\"},{\"attributes\":{\"line_color\":{\"value\":\"brown\"},\"line_width\":{\"value\":2},\"x\":{\"field\":\"x\"},\"y\":{\"field\":\"y\"}},\"id\":\"91049c97-8c7b-413d-ac0f-569758d50cde\",\"type\":\"Line\"},{\"attributes\":{\"callback\":null,\"column_names\":[\"y\",\"x\"],\"data\":{\"x\":{\"__ndarray__\":\"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\",\"dtype\":\"float64\",\"shape\":[200]},\"y\":{\"__ndarray__\":\"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\",\"dtype\":\"float64\",\"shape\":[200]}}},\"id\":\"e72ab031-b0e4-40b5-857b-3134c573fcc1\",\"type\":\"ColumnDataSource\"},{\"attributes\":{\"callback\":null,\"column_names\":[\"y\",\"x\"],\"data\":{\"x\":{\"__ndarray__\":\"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\",\"dtype\":\"float64\",\"shape\":[200]},\"y\":{\"__ndarray__\":\"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\",\"dtype\":\"float64\",\"shape\":[200]}}},\"id\":\"13c1af49-4bc8-4f11-88ec-e78246ce58c9\",\"type\":\"ColumnDataSource\"},{\"attributes\":{\"line_alpha\":{\"value\":0.1},\"line_color\":{\"value\":\"#1f77b4\"},\"line_width\":{\"value\":2},\"x\":{\"field\":\"x\"},\"y\":{\"field\":\"y\"}},\"id\":\"3fe22e24-a32a-447f-b3a4-4df1deed1da2\",\"type\":\"Line\"},{\"attributes\":{\"data_source\":{\"id\":\"da6e3273-745c-4110-a3e6-4a5e3326d15f\",\"type\":\"ColumnDataSource\"},\"glyph\":{\"id\":\"691570e3-5106-4203-bfec-4acb946d25e9\",\"type\":\"Line\"},\"hover_glyph\":null,\"muted_glyph\":null,\"nonselection_glyph\":{\"id\":\"729a868f-5353-4533-a0ca-05b2c6a6c74c\",\"type\":\"Line\"},\"selection_glyph\":null,\"view\":{\"id\":\"73a1e783-09ff-427c-bc4c-86ca0ca6a4b5\",\"type\":\"CDSView\"}},\"id\":\"99a69cf1-23c0-42f1-a886-54de44909c03\",\"type\":\"GlyphRenderer\"},{\"attributes\":{\"line_alpha\":{\"value\":0.1},\"line_color\":{\"value\":\"#1f77b4\"},\"line_width\":{\"value\":2},\"x\":{\"field\":\"x\"},\"y\":{\"field\":\"y\"}},\"id\":\"74b55d16-6c83-4569-8b9d-c126692b488e\",\"type\":\"Line\"},{\"attributes\":{\"line_width\":{\"value\":2},\"x\":{\"field\":\"x\"},\"y\":{\"field\":\"y\"}},\"id\":\"5860b164-8b7a-4b64-affa-b7da48630b1d\",\"type\":\"Line\"},{\"attributes\":{\"data_source\":{\"id\":\"1730affd-4ee0-4cb6-8aab-ec6330b4b852\",\"type\":\"ColumnDataSource\"},\"glyph\":{\"id\":\"2833a862-8573-45fc-af84-de156381c5bc\",\"type\":\"Line\"},\"hover_glyph\":null,\"muted_glyph\":null,\"nonselection_glyph\":{\"id\":\"53fb1051-9bcc-4cd8-bdd7-69267f519df8\",\"type\":\"Line\"},\"selection_glyph\":null,\"view\":{\"id\":\"f246f2f1-1528-4caa-ad7e-c27e4a1d11fa\",\"type\":\"CDSView\"}},\"id\":\"399336e5-af68-4a88-8284-464e065f40c6\",\"type\":\"GlyphRenderer\"},{\"attributes\":{\"data_source\":{\"id\":\"5a33e63c-a0c2-4722-a94b-ab1340f8e41e\",\"type\":\"ColumnDataSource\"},\"glyph\":{\"id\":\"732b3273-d2a0-47bf-af43-2cec5e2bb180\",\"type\":\"Line\"},\"hover_glyph\":null,\"muted_glyph\":null,\"nonselection_glyph\":{\"id\":\"53cb1446-c8a0-4958-b545-db2283b332ff\",\"type\":\"Line\"},\"selection_glyph\":null,\"view\":{\"id\":\"3ef06efe-7158-4bea-8ac4-15e41194334f\",\"type\":\"CDSView\"}},\"id\":\"251bcf91-6781-40fa-8c58-911b8dbaa0dc\",\"type\":\"GlyphRenderer\"},{\"attributes\":{},\"id\":\"8747faac-6c70-4c77-a91d-6cf9ee22d2d3\",\"type\":\"SaveTool\"},{\"attributes\":{\"data_source\":{\"id\":\"0f7ff95f-224b-45d3-a27c-db77acafa0f7\",\"type\":\"ColumnDataSource\"},\"glyph\":{\"id\":\"acce3d68-89cd-49f7-b8d0-4dcfe9643039\",\"type\":\"Line\"},\"hover_glyph\":null,\"muted_glyph\":null,\"nonselection_glyph\":{\"id\":\"33776663-0e51-4e4c-8b1b-58292f486aee\",\"type\":\"Line\"},\"selection_glyph\":null,\"view\":{\"id\":\"3faaad1e-82ea-41d6-947a-4c8c30be6e6c\",\"type\":\"CDSView\"}},\"id\":\"c6203f58-26b4-41eb-b1f7-6103d578f1da\",\"type\":\"GlyphRenderer\"},{\"attributes\":{\"line_alpha\":{\"value\":0.1},\"line_color\":{\"value\":\"#1f77b4\"},\"line_width\":{\"value\":2},\"x\":{\"field\":\"x\"},\"y\":{\"field\":\"y\"}},\"id\":\"33776663-0e51-4e4c-8b1b-58292f486aee\",\"type\":\"Line\"},{\"attributes\":{\"source\":{\"id\":\"20de434b-aab6-42bf-b3f4-17382ba3e0a4\",\"type\":\"ColumnDataSource\"}},\"id\":\"462eaea6-0cd0-458e-b155-973ac2e46670\",\"type\":\"CDSView\"},{\"attributes\":{\"source\":{\"id\":\"0f7ff95f-224b-45d3-a27c-db77acafa0f7\",\"type\":\"ColumnDataSource\"}},\"id\":\"3faaad1e-82ea-41d6-947a-4c8c30be6e6c\",\"type\":\"CDSView\"},{\"attributes\":{\"callback\":null,\"column_names\":[\"y\",\"x\"],\"data\":{\"x\":{\"__ndarray__\":\"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\",\"dtype\":\"float64\",\"shape\":[200]},\"y\":{\"__ndarray__\":\"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\",\"dtype\":\"float64\",\"shape\":[200]}}},\"id\":\"dedb873d-4459-4b4f-9f13-f5f955079862\",\"type\":\"ColumnDataSource\"},{\"attributes\":{\"label\":{\"value\":\"A4--C--dc\"},\"renderers\":[{\"id\":\"22a96afd-a4d0-4635-b5ce-56d48b2ca4cd\",\"type\":\"GlyphRenderer\"},{\"id\":\"15f7c6f8-aa60-4f76-a913-e3b4964b28cb\",\"type\":\"GlyphRenderer\"}]},\"id\":\"c7556243-75ca-4283-aaf7-8c60dfff2461\",\"type\":\"LegendItem\"},{\"attributes\":{\"line_alpha\":{\"value\":0.1},\"line_color\":{\"value\":\"#1f77b4\"},\"line_width\":{\"value\":2},\"x\":{\"field\":\"x\"},\"y\":{\"field\":\"y\"}},\"id\":\"0c1fbe01-776d-4e13-aef7-13879e518f38\",\"type\":\"Line\"},{\"attributes\":{\"line_color\":{\"value\":\"magenta\"},\"line_width\":{\"value\":2},\"x\":{\"field\":\"x\"},\"y\":{\"field\":\"y\"}},\"id\":\"121ee964-523c-4b31-b817-e7a38b20235f\",\"type\":\"Line\"},{\"attributes\":{\"line_color\":{\"value\":\"cyan\"},\"line_dash\":[6,4,2,4],\"line_width\":{\"value\":2},\"x\":{\"field\":\"x\"},\"y\":{\"field\":\"y\"}},\"id\":\"74e81f74-494d-4685-ba1d-21a378c8cb18\",\"type\":\"Line\"},{\"attributes\":{},\"id\":\"6c26474c-4db9-4c64-85d6-fe2b5261333f\",\"type\":\"LinearScale\"},{\"attributes\":{\"line_width\":{\"value\":2},\"x\":{\"field\":\"x\"},\"y\":{\"field\":\"y\"}},\"id\":\"4f368e07-662e-401c-afb1-f6ac1f35a06b\",\"type\":\"Line\"},{\"attributes\":{\"line_alpha\":{\"value\":0.1},\"line_color\":{\"value\":\"#1f77b4\"},\"line_width\":{\"value\":2},\"x\":{\"field\":\"x\"},\"y\":{\"field\":\"y\"}},\"id\":\"02459cf6-50ac-409b-bbef-b768a382a71b\",\"type\":\"Line\"},{\"attributes\":{\"data_source\":{\"id\":\"57ccaf33-de4b-4f31-9f0e-1577324568a9\",\"type\":\"ColumnDataSource\"},\"glyph\":{\"id\":\"74e81f74-494d-4685-ba1d-21a378c8cb18\",\"type\":\"Line\"},\"hover_glyph\":null,\"muted_glyph\":null,\"nonselection_glyph\":{\"id\":\"045b4e8c-9aa7-4d5a-b5d5-a71553f70e5e\",\"type\":\"Line\"},\"selection_glyph\":null,\"view\":{\"id\":\"fd3731e8-72ce-477e-bcec-1084e723d48e\",\"type\":\"CDSView\"}},\"id\":\"87f0c0c0-d38b-471e-aa5a-6a77530bc930\",\"type\":\"GlyphRenderer\"},{\"attributes\":{\"items\":[{\"id\":\"acc83cb2-8a86-41ae-aa88-348025c38021\",\"type\":\"LegendItem\"},{\"id\":\"184484c3-b17f-4519-a906-fa1947ac746b\",\"type\":\"LegendItem\"},{\"id\":\"d64a5574-0e3c-48c3-b278-4ef64977880e\",\"type\":\"LegendItem\"},{\"id\":\"42dc0cf0-ae52-4a67-8733-f1ceabf554d0\",\"type\":\"LegendItem\"},{\"id\":\"802b7ee6-b572-4ef4-b7b9-60222481e178\",\"type\":\"LegendItem\"},{\"id\":\"c7556243-75ca-4283-aaf7-8c60dfff2461\",\"type\":\"LegendItem\"},{\"id\":\"ac11c25f-905a-440c-bfec-5e4742d7f7a9\",\"type\":\"LegendItem\"},{\"id\":\"946d67db-397c-41b8-bdc7-d601b1173379\",\"type\":\"LegendItem\"},{\"id\":\"ef2babf0-9fd0-41d4-8dbf-02d4eddeb93e\",\"type\":\"LegendItem\"},{\"id\":\"313986e0-a57b-41f5-9386-fbaeed4e3636\",\"type\":\"LegendItem\"}],\"location\":\"bottom_right\",\"plot\":{\"id\":\"b0a8a1b8-ac71-49bc-ae40-de5127e2c365\",\"subtype\":\"Figure\",\"type\":\"Plot\"}},\"id\":\"116a426f-ab4d-472e-bfd8-fb1d2959b16e\",\"type\":\"Legend\"},{\"attributes\":{\"callback\":null,\"column_names\":[\"y\",\"x\"],\"data\":{\"x\":{\"__ndarray__\":\"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\",\"dtype\":\"float64\",\"shape\":[200]},\"y\":{\"__ndarray__\":\"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\",\"dtype\":\"float64\",\"shape\":[200]}}},\"id\":\"f2618eea-9272-4537-a19d-0dc9df32ff88\",\"type\":\"ColumnDataSource\"},{\"attributes\":{\"data_source\":{\"id\":\"55bfda02-bebf-41ac-ad61-8db81b766c52\",\"type\":\"ColumnDataSource\"},\"glyph\":{\"id\":\"47ca1be2-7797-46b2-9ee9-7687c9f2b3c1\",\"type\":\"Line\"},\"hover_glyph\":null,\"muted_glyph\":null,\"nonselection_glyph\":{\"id\":\"1f97c911-4d1f-4501-a9b5-f6842a09fd9f\",\"type\":\"Line\"},\"selection_glyph\":null,\"view\":{\"id\":\"29663f6d-eb9f-4861-82dd-937e12933059\",\"type\":\"CDSView\"}},\"id\":\"3578a79b-1f6c-4fe2-a98f-d9f805705d7f\",\"type\":\"GlyphRenderer\"},{\"attributes\":{\"label\":{\"value\":\"A3--Mg--hcp\"},\"renderers\":[{\"id\":\"b667f01d-ec98-47ba-a7cc-2b96b28dd1e3\",\"type\":\"GlyphRenderer\"},{\"id\":\"4baf6b25-3e58-49a9-90ae-30d9abc6bd44\",\"type\":\"GlyphRenderer\"}]},\"id\":\"802b7ee6-b572-4ef4-b7b9-60222481e178\",\"type\":\"LegendItem\"},{\"attributes\":{\"data_source\":{\"id\":\"d883645c-ead7-4d42-af24-9a7b2b536c0b\",\"type\":\"ColumnDataSource\"},\"glyph\":{\"id\":\"d0656a12-0f1e-4394-8504-7917b807a9b7\",\"type\":\"Line\"},\"hover_glyph\":null,\"muted_glyph\":null,\"nonselection_glyph\":{\"id\":\"ee9fd47d-03f4-471d-ad39-ff0c7dcd194f\",\"type\":\"Line\"},\"selection_glyph\":null,\"view\":{\"id\":\"df3b17b1-1db7-4275-9258-ea8cfa054519\",\"type\":\"CDSView\"}},\"id\":\"b667f01d-ec98-47ba-a7cc-2b96b28dd1e3\",\"type\":\"GlyphRenderer\"},{\"attributes\":{\"source\":{\"id\":\"e72ab031-b0e4-40b5-857b-3134c573fcc1\",\"type\":\"ColumnDataSource\"}},\"id\":\"db360ad2-f904-4893-b02a-4be53ff3b791\",\"type\":\"CDSView\"},{\"attributes\":{\"label\":{\"value\":\"A3'--alpha-La\"},\"renderers\":[{\"id\":\"87f0c0c0-d38b-471e-aa5a-6a77530bc930\",\"type\":\"GlyphRenderer\"},{\"id\":\"99a69cf1-23c0-42f1-a886-54de44909c03\",\"type\":\"GlyphRenderer\"}]},\"id\":\"42dc0cf0-ae52-4a67-8733-f1ceabf554d0\",\"type\":\"LegendItem\"},{\"attributes\":{\"source\":{\"id\":\"4998f70f-ab09-4c92-8a57-d2b84cea54c4\",\"type\":\"ColumnDataSource\"}},\"id\":\"acce9bf7-0b42-4eeb-9f93-4c443fd810ee\",\"type\":\"CDSView\"},{\"attributes\":{\"label\":{\"value\":\"A1--Cu--fcc\"},\"renderers\":[{\"id\":\"87cd3504-e8ef-4ffc-b122-d9c151e8488d\",\"type\":\"GlyphRenderer\"},{\"id\":\"8434cd5f-00e0-441d-809f-56ca0361bfc4\",\"type\":\"GlyphRenderer\"}]},\"id\":\"acc83cb2-8a86-41ae-aa88-348025c38021\",\"type\":\"LegendItem\"},{\"attributes\":{},\"id\":\"d7d4c06e-da17-4027-a49a-3d336117ba04\",\"type\":\"BasicTickFormatter\"},{\"attributes\":{\"source\":{\"id\":\"55bfda02-bebf-41ac-ad61-8db81b766c52\",\"type\":\"ColumnDataSource\"}},\"id\":\"29663f6d-eb9f-4861-82dd-937e12933059\",\"type\":\"CDSView\"},{\"attributes\":{\"callback\":null,\"column_names\":[\"y\",\"x\"],\"data\":{\"x\":{\"__ndarray__\":\"AAAAAAAAAEChZcdzKikAQELLjudUUgBA4jBWW397AECDlh3PqaQAQCT85ELUzQBAxWGstv72AEBmx3MqKSABQAYtO55TSQFAp5ICEn5yAUBI+MmFqJsBQOldkfnSxAFAisNYbf3tAUAqKSDhJxcCQMuO51RSQAJAbPSuyHxpAkANWnY8p5ICQK6/PbDRuwJATiUFJPzkAkDvisyXJg4DQJDwkwtRNwNAMVZbf3tgA0DSuyLzpYkDQHIh6mbQsgNAE4ex2vrbA0C07HhOJQUEQFVSQMJPLgRA9rcHNnpXBECWHc+ppIAEQDeDlh3PqQRA2OhdkfnSBEB5TiUFJPwEQBq07HhOJQVAuhm07HhOBUBbf3tgo3cFQPzkQtTNoAVAnUoKSPjJBUA+sNG7IvMFQN4VmS9NHAZAgHtgo3dFBkAg4ScXom4GQMFG74rMlwZAYqy2/vbABkACEn5yIeoGQKR3ReZLEwdARN0MWnY8B0DlQtTNoGUHQIaom0HLjgdAJg5jtfW3B0DIcyopIOEHQGjZ8ZxKCghACT+5EHUzCECqpICEn1wIQEoKSPjJhQhA7G8PbPSuCECM1dbfHtgIQC07nlNJAQlAzqBlx3MqCUBuBi07nlMJQBBs9K7IfAlAsNG7IvOlCUBRN4OWHc8JQPKcSgpI+AlAkgISfnIhCkA0aNnxnEoKQNTNoGXHcwpAdTNo2fGcCkAWmS9NHMYKQLb+9sBG7wpAWGS+NHEYC0D4yYWom0ELQJkvTRzGagtAOpUUkPCTC0Da+tsDG70LQHxgo3dF5gtAHMZq628PDEC9KzJfmjgMQF6R+dLEYQxA//bARu+KDECgXIi6GbQMQEDCTy5E3QxA4ScXom4GDUCCjd4VmS8NQCPzpYnDWA1AxFht/e2BDUBkvjRxGKsNQAUk/ORC1A1AponDWG39DUBH74rMlyYOQOhUUkDCTw5AiLoZtOx4DkApIOEnF6IOQMqFqJtByw5Aa+tvD2z0DkAMUTeDlh0PQKy2/vbARg9ATRzGautvD0DugY3eFZkPQI/nVFJAwg9AME0cxmrrD0Bo2fGcSgoQQDiM1dbfHhBACT+5EHUzEEDa8ZxKCkgQQKqkgISfXBBAeldkvjRxEEBKCkj4yYUQQBu9KzJfmhBA7G8PbPSuEEC8IvOlicMQQIzV1t8e2BBAXIi6GbTsEEAtO55TSQERQP7tgY3eFRFAzqBlx3MqEUCeU0kBCT8RQG4GLTueUxFAP7kQdTNoEUAQbPSuyHwRQOAe2OhdkRFAsNG7IvOlEUCAhJ9ciLoRQFE3g5YdzxFAIupm0LLjEUDynEoKSPgRQMJPLkTdDBJAkgISfnIhEkBjtfW3BzYSQDRo2fGcShJABBu9KzJfEkDUzaBlx3MSQKSAhJ9ciBJAdTNo2fGcEkBG5ksTh7ESQBaZL00cxhJA5ksTh7HaEkC2/vbARu8SQIex2vrbAxNAWGS+NHEYE0AoF6JuBi0TQPjJhaibQRNAyHxp4jBWE0CZL00cxmoTQGriMFZbfxNAOpUUkPCTE0AKSPjJhagTQNr62wMbvRNAq62/PbDRE0B8YKN3ReYTQEwTh7Ha+hNAHMZq628PFEDteE4lBSQUQL0rMl+aOBRAjt4VmS9NFEBekfnSxGEUQC5E3QxadhRA//bARu+KFEDPqaSAhJ8UQKBciLoZtBRAcA9s9K7IFEBAwk8uRN0UQBF1M2jZ8RRA4ScXom4GFUCy2vrbAxsVQIKN3hWZLxVAUkDCTy5EFUAj86WJw1gVQPOlicNYbRVAxFht/e2BFUCUC1E3g5YVQGS+NHEYqxVANXEYq62/FUAFJPzkQtQVQNbW3x7Y6BVAponDWG39FUB2PKeSAhIWQEfvisyXJhZAF6JuBi07FkDoVFJAwk8WQLgHNnpXZBZAiLoZtOx4FkBZbf3tgY0WQCkg4ScXohZA+tLEYay2FkDKhaibQcsWQJo4jNXW3xZAa+tvD2z0FkA7nlNJAQkXQAxRN4OWHRdA3AMbvSsyF0Cstv72wEYXQH1p4jBWWxdATRzGautvF0Aez6mkgIQXQO6Bjd4VmRdAvjRxGKutF0CP51RSQMIXQGCaOIzV1hdAME0cxmrrF0AAAAAAAAAYQA==\",\"dtype\":\"float64\",\"shape\":[200]},\"y\":{\"__ndarray__\":\"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\",\"dtype\":\"float64\",\"shape\":[200]}}},\"id\":\"0f7ff95f-224b-45d3-a27c-db77acafa0f7\",\"type\":\"ColumnDataSource\"},{\"attributes\":{\"line_alpha\":{\"value\":0.1},\"line_color\":{\"value\":\"#1f77b4\"},\"line_width\":{\"value\":2},\"x\":{\"field\":\"x\"},\"y\":{\"field\":\"y\"}},\"id\":\"91258fc4-5c3b-4d60-9f34-a0fa7f2b8713\",\"type\":\"Line\"},{\"attributes\":{\"axis_label\":\"r (A)\",\"formatter\":{\"id\":\"d7d4c06e-da17-4027-a49a-3d336117ba04\",\"type\":\"BasicTickFormatter\"},\"plot\":{\"id\":\"b0a8a1b8-ac71-49bc-ae40-de5127e2c365\",\"subtype\":\"Figure\",\"type\":\"Plot\"},\"ticker\":{\"id\":\"7322eb84-3d70-4c81-8b68-c39e025a6fe4\",\"type\":\"BasicTicker\"}},\"id\":\"8ab56417-b6c4-4baf-8f6c-f726e20e749a\",\"type\":\"LinearAxis\"},{\"attributes\":{\"line_alpha\":{\"value\":0.1},\"line_color\":{\"value\":\"#1f77b4\"},\"line_width\":{\"value\":2},\"x\":{\"field\":\"x\"},\"y\":{\"field\":\"y\"}},\"id\":\"cf8b4e87-90bc-4505-a9f0-72132b7a5c3c\",\"type\":\"Line\"},{\"attributes\":{\"line_color\":{\"value\":\"gray\"},\"line_width\":{\"value\":2},\"x\":{\"field\":\"x\"},\"y\":{\"field\":\"y\"}},\"id\":\"f11ed21f-d04c-4c8f-8713-b01077385e57\",\"type\":\"Line\"},{\"attributes\":{\"data_source\":{\"id\":\"13c1af49-4bc8-4f11-88ec-e78246ce58c9\",\"type\":\"ColumnDataSource\"},\"glyph\":{\"id\":\"1277e43f-a4e5-4a7f-8b74-a612164f6df8\",\"type\":\"Line\"},\"hover_glyph\":null,\"muted_glyph\":null,\"nonselection_glyph\":{\"id\":\"b0c6f14f-6445-418e-b5f6-05b5a7c91a8b\",\"type\":\"Line\"},\"selection_glyph\":null,\"view\":{\"id\":\"7ff950ed-390f-4866-91ef-000b9dd1e7b6\",\"type\":\"CDSView\"}},\"id\":\"dab9edab-98d9-4c86-b05f-27b2dbd23507\",\"type\":\"GlyphRenderer\"},{\"attributes\":{\"label\":{\"value\":\"A5--beta-Sn\"},\"renderers\":[{\"id\":\"98519054-cd39-4ab4-95a2-1e2e5ff54fe1\",\"type\":\"GlyphRenderer\"},{\"id\":\"26bbc783-e111-4bbd-9b22-a3c7405cf950\",\"type\":\"GlyphRenderer\"}]},\"id\":\"ac11c25f-905a-440c-bfec-5e4742d7f7a9\",\"type\":\"LegendItem\"},{\"attributes\":{\"data_source\":{\"id\":\"ac885b36-18d3-4876-8b7b-74e7e0b427c2\",\"type\":\"ColumnDataSource\"},\"glyph\":{\"id\":\"121ee964-523c-4b31-b817-e7a38b20235f\",\"type\":\"Line\"},\"hover_glyph\":null,\"muted_glyph\":null,\"nonselection_glyph\":{\"id\":\"3fe22e24-a32a-447f-b3a4-4df1deed1da2\",\"type\":\"Line\"},\"selection_glyph\":null,\"view\":{\"id\":\"106bb896-ea37-4f98-a555-82085c433655\",\"type\":\"CDSView\"}},\"id\":\"22a96afd-a4d0-4635-b5ce-56d48b2ca4cd\",\"type\":\"GlyphRenderer\"}],\"root_ids\":[\"b0a8a1b8-ac71-49bc-ae40-de5127e2c365\"]},\"title\":\"Bokeh Application\",\"version\":\"0.12.7\"}};\n",
       "            var render_items = [{\"docid\":\"a8f6fea6-ee27-4f51-aa3a-45d46e8242df\",\"elementid\":\"8a054850-cffd-43c3-8928-30a41b7b4850\",\"modelid\":\"b0a8a1b8-ac71-49bc-ae40-de5127e2c365\"}];\n",
       "            \n",
       "            Bokeh.embed.embed_items(docs_json, render_items);\n",
       "          };\n",
       "          if (document.readyState != \"loading\") fn();\n",
       "          else document.addEventListener(\"DOMContentLoaded\", fn);\n",
       "        })();\n",
       "      },\n",
       "      function(Bokeh) {\n",
       "      }\n",
       "    ];\n",
       "  \n",
       "    function run_inline_js() {\n",
       "      \n",
       "      if ((root.Bokeh !== undefined) || (force === true)) {\n",
       "        for (var i = 0; i < inline_js.length; i++) {\n",
       "          inline_js[i].call(root, root.Bokeh);\n",
       "        }if (force === true) {\n",
       "          display_loaded();\n",
       "        }} else if (Date.now() < root._bokeh_timeout) {\n",
       "        setTimeout(run_inline_js, 100);\n",
       "      } else if (!root._bokeh_failed_load) {\n",
       "        console.log(\"Bokeh: BokehJS failed to load within specified timeout.\");\n",
       "        root._bokeh_failed_load = true;\n",
       "      } else if (force !== true) {\n",
       "        var cell = $(document.getElementById(\"8a054850-cffd-43c3-8928-30a41b7b4850\")).parents('.cell').data().cell;\n",
       "        cell.output_area.append_execute_result(NB_LOAD_WARNING)\n",
       "      }\n",
       "  \n",
       "    }\n",
       "  \n",
       "    if (root._bokeh_is_loading === 0) {\n",
       "      console.log(\"Bokeh: BokehJS loaded, going straight to plotting\");\n",
       "      run_inline_js();\n",
       "    } else {\n",
       "      load_libs(js_urls, function() {\n",
       "        console.log(\"Bokeh: BokehJS plotting callback run at\", now());\n",
       "        run_inline_js();\n",
       "      });\n",
       "    }\n",
       "  }(window));\n",
       "</script>"
      ]
     },
     "metadata": {},
     "output_type": "display_data"
    }
   ],
   "source": [
    "# Loop over all compositions\n",
    "for composition in np.unique(results_df.composition):\n",
    "    composition_df = results_df[results_df.composition==composition]\n",
    "    \n",
    "    #Ignore false compounds (ones where number of unique symbols != number of symbols)\n",
    "    composition_df = composition_df[(composition_df.symbols.apply(lambda x: len(np.unique(x))) \n",
    "                                     == composition_df.symbols.apply(lambda x: len(x)))] \n",
    "    \n",
    "    #Extract plot values\n",
    "    plot_df = {}\n",
    "    columns = []\n",
    "    plot_df['r'] = uc.get_in_units(composition_df.iloc[0].e_vs_r_plot.r, 'angstrom')\n",
    "    for i, v in composition_df.iterrows():\n",
    "        if len(v.family) > max_string_length:\n",
    "            name = '--'.join(v.family.split('--')[:-1])\n",
    "        else:\n",
    "            name = v.family\n",
    "        plot_df[name] = uc.get_in_units(v.e_vs_r_plot.E_coh, 'eV')\n",
    "        columns.append(name)\n",
    "    \n",
    "    plot_df = pd.DataFrame(plot_df, columns=['r'] + sorted(columns))\n",
    "    \n",
    "    #Construct plot\n",
    "    plot = plot_gen(plot_df, composition, line_color, line_dash)\n",
    "    show(plot)"
   ]
  },
  {
   "cell_type": "markdown",
   "metadata": {
    "deletable": true,
    "editable": true
   },
   "source": [
    "## 4. refine_structure and/or LAMMPS_ELASTIC"
   ]
  },
  {
   "cell_type": "code",
   "execution_count": 18,
   "metadata": {
    "collapsed": true,
    "deletable": true,
    "editable": true
   },
   "outputs": [],
   "source": [
    "n = 1\n",
    "#calculation_style = 'refine_structure'\n",
    "calculation_style = 'LAMMPS_ELASTIC'\n",
    "record_style = 'calculation_system_relax'"
   ]
  },
  {
   "cell_type": "markdown",
   "metadata": {
    "deletable": true,
    "editable": true
   },
   "source": [
    "### Prepare"
   ]
  },
  {
   "cell_type": "code",
   "execution_count": 19,
   "metadata": {
    "collapsed": false,
    "deletable": true,
    "editable": true
   },
   "outputs": [],
   "source": [
    "run_directory = run_terms[n]['run_directory']\n",
    "\n",
    "input_dict = {}\n",
    "input_dict['calculation_style'] = calculation_style\n",
    "input_dict['lammps_command'] = run_terms[n]['lammps_command']\n",
    "input_dict['mpi_command'] = run_terms[n]['mpi_command']\n",
    "input_dict['potential_name'] = potential\n",
    "input_dict['strainrange'] = '1e-8'\n",
    "\n",
    "iprPy.highthroughput.prepare(dbase, run_directory, input_dict=input_dict)"
   ]
  },
  {
   "cell_type": "markdown",
   "metadata": {
    "deletable": true,
    "editable": true
   },
   "source": [
    "### Run"
   ]
  },
  {
   "cell_type": "code",
   "execution_count": 20,
   "metadata": {
    "collapsed": false,
    "deletable": true,
    "editable": true
   },
   "outputs": [],
   "source": [
    "iprPy.highthroughput.runner(dbase, run_directory)"
   ]
  },
  {
   "cell_type": "markdown",
   "metadata": {
    "deletable": true,
    "editable": true
   },
   "source": [
    "### Analyze"
   ]
  },
  {
   "cell_type": "markdown",
   "metadata": {
    "deletable": true,
    "editable": true
   },
   "source": [
    "Fetch records"
   ]
  },
  {
   "cell_type": "code",
   "execution_count": 21,
   "metadata": {
    "collapsed": false,
    "deletable": true,
    "editable": true
   },
   "outputs": [
    {
     "name": "stdout",
     "output_type": "stream",
     "text": [
      "42 records found\n"
     ]
    }
   ],
   "source": [
    "results_df = dbase.get_records_df(style=record_style, full=True, flat=False)\n",
    "results_df = results_df[results_df.potential_id == potential]\n",
    "results_df = results_df[results_df.calc_script == 'calc_'+calculation_style]\n",
    "\n",
    "print(len(results_df), 'records found')"
   ]
  },
  {
   "cell_type": "markdown",
   "metadata": {
    "deletable": true,
    "editable": true
   },
   "source": [
    "Check errors"
   ]
  },
  {
   "cell_type": "code",
   "execution_count": 22,
   "metadata": {
    "collapsed": false,
    "deletable": true,
    "editable": true
   },
   "outputs": [
    {
     "name": "stdout",
     "output_type": "stream",
     "text": [
      "0 issued errors\n"
     ]
    }
   ],
   "source": [
    "error_df = results_df[results_df.status=='error']\n",
    "print(len(error_df), 'issued errors')\n",
    "\n",
    "if len(error_df) > 0:\n",
    "    for error in np.unique(error_df.error.values):\n",
    "        print(error)    "
   ]
  },
  {
   "cell_type": "markdown",
   "metadata": {
    "deletable": true,
    "editable": true
   },
   "source": [
    "Define composition"
   ]
  },
  {
   "cell_type": "code",
   "execution_count": 23,
   "metadata": {
    "collapsed": true,
    "deletable": true,
    "editable": true
   },
   "outputs": [],
   "source": [
    "compositions = []\n",
    "for i, calc in results_df.iterrows():\n",
    "    compositions.append(comp_refine(calc.symbols, counts[calc.family]))\n",
    "results_df = results_df.assign(composition=compositions)"
   ]
  },
  {
   "cell_type": "markdown",
   "metadata": {
    "deletable": true,
    "editable": true
   },
   "source": [
    "#### Display $E_{coh}$ and lattice constants"
   ]
  },
  {
   "cell_type": "code",
   "execution_count": 24,
   "metadata": {
    "collapsed": false,
    "deletable": true,
    "editable": true,
    "scrolled": false
   },
   "outputs": [
    {
     "name": "stdout",
     "output_type": "stream",
     "text": [
      "Cs\n"
     ]
    },
    {
     "data": {
      "text/html": [
       "<table border=\"1\" class=\"dataframe\">\n",
       "  <thead>\n",
       "    <tr style=\"text-align: right;\">\n",
       "      <th>family</th>\n",
       "      <th>Ecoh (eV/atom)</th>\n",
       "      <th>a (A)</th>\n",
       "      <th>b (A)</th>\n",
       "      <th>c (A)</th>\n",
       "    </tr>\n",
       "  </thead>\n",
       "  <tbody>\n",
       "    <tr>\n",
       "      <td>L2_1--AlCu2Mn--heusler</td>\n",
       "      <td>-0.788000</td>\n",
       "      <td>12.282000</td>\n",
       "      <td>12.282000</td>\n",
       "      <td>12.282000</td>\n",
       "    </tr>\n",
       "    <tr>\n",
       "      <td>B2--CsCl</td>\n",
       "      <td>-0.788000</td>\n",
       "      <td>6.141000</td>\n",
       "      <td>6.141000</td>\n",
       "      <td>6.141000</td>\n",
       "    </tr>\n",
       "    <tr>\n",
       "      <td>A3--Mg--hcp</td>\n",
       "      <td>-0.788000</td>\n",
       "      <td>6.141000</td>\n",
       "      <td>8.684685</td>\n",
       "      <td>8.684685</td>\n",
       "    </tr>\n",
       "    <tr>\n",
       "      <td>L1_2--AuCu3</td>\n",
       "      <td>-0.788000</td>\n",
       "      <td>8.684685</td>\n",
       "      <td>6.141000</td>\n",
       "      <td>8.684685</td>\n",
       "    </tr>\n",
       "    <tr>\n",
       "      <td>A1--Cu--fcc</td>\n",
       "      <td>-0.788000</td>\n",
       "      <td>8.684685</td>\n",
       "      <td>6.141000</td>\n",
       "      <td>8.684685</td>\n",
       "    </tr>\n",
       "    <tr>\n",
       "      <td>D0_3--BiF3</td>\n",
       "      <td>-0.788000</td>\n",
       "      <td>12.282000</td>\n",
       "      <td>12.282000</td>\n",
       "      <td>12.282000</td>\n",
       "    </tr>\n",
       "    <tr>\n",
       "      <td>A2--W--bcc</td>\n",
       "      <td>-0.788000</td>\n",
       "      <td>6.141000</td>\n",
       "      <td>6.141000</td>\n",
       "      <td>6.141000</td>\n",
       "    </tr>\n",
       "    <tr>\n",
       "      <td>L1_0--AuCu</td>\n",
       "      <td>-0.788000</td>\n",
       "      <td>8.684685</td>\n",
       "      <td>8.684685</td>\n",
       "      <td>6.141000</td>\n",
       "    </tr>\n",
       "    <tr>\n",
       "      <td>A7--alpha-As</td>\n",
       "      <td>-0.788000</td>\n",
       "      <td>8.684685</td>\n",
       "      <td>15.042316</td>\n",
       "      <td>10.636524</td>\n",
       "    </tr>\n",
       "    <tr>\n",
       "      <td>A2--W--bcc</td>\n",
       "      <td>-0.787967</td>\n",
       "      <td>6.138271</td>\n",
       "      <td>6.138271</td>\n",
       "      <td>6.138271</td>\n",
       "    </tr>\n",
       "    <tr>\n",
       "      <td>B2--CsCl</td>\n",
       "      <td>-0.787967</td>\n",
       "      <td>6.138271</td>\n",
       "      <td>6.138271</td>\n",
       "      <td>6.138271</td>\n",
       "    </tr>\n",
       "    <tr>\n",
       "      <td>D0_3--BiF3</td>\n",
       "      <td>-0.787967</td>\n",
       "      <td>12.276542</td>\n",
       "      <td>12.276542</td>\n",
       "      <td>12.276542</td>\n",
       "    </tr>\n",
       "    <tr>\n",
       "      <td>L2_1--AlCu2Mn--heusler</td>\n",
       "      <td>-0.787967</td>\n",
       "      <td>12.276542</td>\n",
       "      <td>12.276542</td>\n",
       "      <td>12.276542</td>\n",
       "    </tr>\n",
       "    <tr>\n",
       "      <td>B3--ZnS--cubic-zinc-blende</td>\n",
       "      <td>-0.783831</td>\n",
       "      <td>18.068932</td>\n",
       "      <td>5.279502</td>\n",
       "      <td>9.571353</td>\n",
       "    </tr>\n",
       "    <tr>\n",
       "      <td>A4--C--dc</td>\n",
       "      <td>-0.783831</td>\n",
       "      <td>9.571353</td>\n",
       "      <td>18.068932</td>\n",
       "      <td>5.279502</td>\n",
       "    </tr>\n",
       "    <tr>\n",
       "      <td>A6--In--bct</td>\n",
       "      <td>-0.777384</td>\n",
       "      <td>5.071121</td>\n",
       "      <td>5.071121</td>\n",
       "      <td>8.319232</td>\n",
       "    </tr>\n",
       "    <tr>\n",
       "      <td>A3'--alpha-La--double-hcp</td>\n",
       "      <td>-0.777384</td>\n",
       "      <td>5.071121</td>\n",
       "      <td>9.742992</td>\n",
       "      <td>17.320278</td>\n",
       "    </tr>\n",
       "    <tr>\n",
       "      <td>L1_0--AuCu</td>\n",
       "      <td>-0.776016</td>\n",
       "      <td>7.772138</td>\n",
       "      <td>7.772138</td>\n",
       "      <td>7.195732</td>\n",
       "    </tr>\n",
       "    <tr>\n",
       "      <td>A6--In--bct</td>\n",
       "      <td>-0.773890</td>\n",
       "      <td>5.255919</td>\n",
       "      <td>5.255919</td>\n",
       "      <td>7.889548</td>\n",
       "    </tr>\n",
       "    <tr>\n",
       "      <td>A15--beta-W</td>\n",
       "      <td>-0.773680</td>\n",
       "      <td>9.809010</td>\n",
       "      <td>9.809010</td>\n",
       "      <td>9.809010</td>\n",
       "    </tr>\n",
       "    <tr>\n",
       "      <td>A15--Cr3Si</td>\n",
       "      <td>-0.773680</td>\n",
       "      <td>9.809010</td>\n",
       "      <td>9.809010</td>\n",
       "      <td>9.809010</td>\n",
       "    </tr>\n",
       "    <tr>\n",
       "      <td>A15--Cr3Si</td>\n",
       "      <td>-0.773599</td>\n",
       "      <td>9.788771</td>\n",
       "      <td>9.788771</td>\n",
       "      <td>9.786048</td>\n",
       "    </tr>\n",
       "    <tr>\n",
       "      <td>A15--beta-W</td>\n",
       "      <td>-0.773599</td>\n",
       "      <td>9.788771</td>\n",
       "      <td>9.788771</td>\n",
       "      <td>9.786048</td>\n",
       "    </tr>\n",
       "    <tr>\n",
       "      <td>A3'--alpha-La--double-hcp</td>\n",
       "      <td>-0.772019</td>\n",
       "      <td>5.375791</td>\n",
       "      <td>9.311142</td>\n",
       "      <td>17.557258</td>\n",
       "    </tr>\n",
       "    <tr>\n",
       "      <td>A3--Mg--hcp</td>\n",
       "      <td>-0.772019</td>\n",
       "      <td>5.375791</td>\n",
       "      <td>9.311142</td>\n",
       "      <td>8.778629</td>\n",
       "    </tr>\n",
       "    <tr>\n",
       "      <td>A1--Cu--fcc</td>\n",
       "      <td>-0.772019</td>\n",
       "      <td>7.602516</td>\n",
       "      <td>7.602516</td>\n",
       "      <td>7.602516</td>\n",
       "    </tr>\n",
       "    <tr>\n",
       "      <td>L1_2--AuCu3</td>\n",
       "      <td>-0.772019</td>\n",
       "      <td>7.602516</td>\n",
       "      <td>7.602516</td>\n",
       "      <td>7.602516</td>\n",
       "    </tr>\n",
       "    <tr>\n",
       "      <td>A5--beta-Sn</td>\n",
       "      <td>-0.744933</td>\n",
       "      <td>9.404360</td>\n",
       "      <td>8.780586</td>\n",
       "      <td>5.069474</td>\n",
       "    </tr>\n",
       "    <tr>\n",
       "      <td>A5--beta-Sn</td>\n",
       "      <td>-0.725975</td>\n",
       "      <td>9.242050</td>\n",
       "      <td>9.243384</td>\n",
       "      <td>5.084485</td>\n",
       "    </tr>\n",
       "    <tr>\n",
       "      <td>B1--NaCl--rock-salt</td>\n",
       "      <td>-0.704749</td>\n",
       "      <td>9.656124</td>\n",
       "      <td>9.656124</td>\n",
       "      <td>9.656124</td>\n",
       "    </tr>\n",
       "    <tr>\n",
       "      <td>Ah--alpha-Po--sc</td>\n",
       "      <td>-0.704749</td>\n",
       "      <td>4.828062</td>\n",
       "      <td>4.828062</td>\n",
       "      <td>4.828062</td>\n",
       "    </tr>\n",
       "    <tr>\n",
       "      <td>B1--NaCl--rock-salt</td>\n",
       "      <td>-0.704672</td>\n",
       "      <td>9.673774</td>\n",
       "      <td>9.673774</td>\n",
       "      <td>9.673774</td>\n",
       "    </tr>\n",
       "    <tr>\n",
       "      <td>Ah--alpha-Po--sc</td>\n",
       "      <td>-0.704672</td>\n",
       "      <td>4.836887</td>\n",
       "      <td>4.836887</td>\n",
       "      <td>4.836887</td>\n",
       "    </tr>\n",
       "    <tr>\n",
       "      <td>C1--CaF2--fluorite</td>\n",
       "      <td>-0.686368</td>\n",
       "      <td>11.968323</td>\n",
       "      <td>11.968323</td>\n",
       "      <td>11.968323</td>\n",
       "    </tr>\n",
       "    <tr>\n",
       "      <td>C1--CaF2--fluorite</td>\n",
       "      <td>-0.686321</td>\n",
       "      <td>11.952705</td>\n",
       "      <td>11.952705</td>\n",
       "      <td>11.956713</td>\n",
       "    </tr>\n",
       "    <tr>\n",
       "      <td>A7--alpha-As</td>\n",
       "      <td>-0.675036</td>\n",
       "      <td>7.002919</td>\n",
       "      <td>12.129412</td>\n",
       "      <td>14.679269</td>\n",
       "    </tr>\n",
       "    <tr>\n",
       "      <td>A4--C--dc</td>\n",
       "      <td>-0.522411</td>\n",
       "      <td>11.948972</td>\n",
       "      <td>11.948972</td>\n",
       "      <td>11.948972</td>\n",
       "    </tr>\n",
       "    <tr>\n",
       "      <td>B3--ZnS--cubic-zinc-blende</td>\n",
       "      <td>-0.522411</td>\n",
       "      <td>11.948972</td>\n",
       "      <td>11.948972</td>\n",
       "      <td>11.948972</td>\n",
       "    </tr>\n",
       "    <tr>\n",
       "      <td>A4--C--dc</td>\n",
       "      <td>-0.522394</td>\n",
       "      <td>11.953932</td>\n",
       "      <td>11.953932</td>\n",
       "      <td>11.953932</td>\n",
       "    </tr>\n",
       "    <tr>\n",
       "      <td>B3--ZnS--cubic-zinc-blende</td>\n",
       "      <td>-0.522394</td>\n",
       "      <td>11.953932</td>\n",
       "      <td>11.953932</td>\n",
       "      <td>11.953932</td>\n",
       "    </tr>\n",
       "    <tr>\n",
       "      <td>A4--C--dc</td>\n",
       "      <td>-0.470227</td>\n",
       "      <td>10.236768</td>\n",
       "      <td>10.236768</td>\n",
       "      <td>10.244384</td>\n",
       "    </tr>\n",
       "    <tr>\n",
       "      <td>B3--ZnS--cubic-zinc-blende</td>\n",
       "      <td>-0.470227</td>\n",
       "      <td>10.236768</td>\n",
       "      <td>10.236768</td>\n",
       "      <td>10.244384</td>\n",
       "    </tr>\n",
       "  </tbody>\n",
       "</table>"
      ],
      "text/plain": [
       "<IPython.core.display.HTML object>"
      ]
     },
     "metadata": {},
     "output_type": "display_data"
    }
   ],
   "source": [
    "# Unit conversions\n",
    "results_df['a (A)'] = uc.get_in_units(results_df.final_a, 'Angstrom')\n",
    "results_df['b (A)'] = uc.get_in_units(results_df.final_b, 'Angstrom')\n",
    "results_df['c (A)'] = uc.get_in_units(results_df.final_c, 'Angstrom')\n",
    "results_df['Ecoh (eV/atom)'] = uc.get_in_units(results_df.E_cohesive, 'eV')\n",
    "\n",
    "# Loop over all compositions\n",
    "for composition in np.unique(results_df.composition):\n",
    "    show_df = results_df[results_df.composition==composition]\n",
    "    \n",
    "    print(composition)\n",
    "    show_df = show_df[['family', 'Ecoh (eV/atom)', 'a (A)', 'b (A)', 'c (A)']].sort_values('Ecoh (eV/atom)')\n",
    "    display(HTML(show_df.to_html(index=False)))"
   ]
  },
  {
   "cell_type": "markdown",
   "metadata": {
    "deletable": true,
    "editable": true
   },
   "source": [
    "#### Display $C_{ij}$ for primary structure"
   ]
  },
  {
   "cell_type": "code",
   "execution_count": 25,
   "metadata": {
    "collapsed": false,
    "deletable": true,
    "editable": true
   },
   "outputs": [
    {
     "name": "stdout",
     "output_type": "stream",
     "text": [
      "Cij (GPa) for Cs A2--W--bcc =\n",
      "[   2.5953    2.1627    2.1627    0.0000    0.0000    0.0000]\n",
      "[   2.1627    2.5953    2.1627    0.0000    0.0000    0.0000]\n",
      "[   2.1627    2.1627    2.5953    0.0000    0.0000    0.0000]\n",
      "[   0.0000    0.0000    0.0000    1.6007    0.0000    0.0000]\n",
      "[   0.0000    0.0000    0.0000    0.0000    1.6007    0.0000]\n",
      "[   0.0000    0.0000    0.0000    0.0000    0.0000    1.6007]\n",
      "\n",
      "Cij (GPa) for Cs A2--W--bcc =\n",
      "[3243.2081 1624.6831 1624.6831    0.0000    0.0000    0.0000]\n",
      "[1624.6831 3243.2081 1624.6831    0.0000    0.0000    0.0000]\n",
      "[1624.6831 1624.6831 3243.2081    0.0000    0.0000    0.0000]\n",
      "[   0.0000    0.0000    0.0000 1624.1226    0.0000    0.0000]\n",
      "[   0.0000    0.0000    0.0000    0.0000 1624.1226    0.0000]\n",
      "[   0.0000    0.0000    0.0000    0.0000    0.0000 1624.1226]\n",
      "\n"
     ]
    }
   ],
   "source": [
    "for i, series in results_df[results_df.family == family].iterrows():\n",
    "    C = series.C\n",
    "    Cij = uc.get_in_units(C.Cij, 'GPa')\n",
    "    print('Cij (GPa) for', series.composition, family, '=')\n",
    "    for Ci in Cij:\n",
    "        print('[%9.4f %9.4f %9.4f %9.4f %9.4f %9.4f]' % tuple(Ci))\n",
    "    print()\n",
    "    "
   ]
  },
  {
   "cell_type": "markdown",
   "metadata": {
    "deletable": true,
    "editable": true
   },
   "source": [
    "## 5. point_defect_static"
   ]
  },
  {
   "cell_type": "code",
   "execution_count": 26,
   "metadata": {
    "collapsed": true,
    "deletable": true,
    "editable": true
   },
   "outputs": [],
   "source": [
    "n = 1\n",
    "calculation_style = 'point_defect_static'\n",
    "record_style = 'calculation_point_defect_formation'\n",
    "sizemults = '10 10 10'\n",
    "parent_calculation_style = 'LAMMPS_ELASTIC'\n",
    "parent_record_style = 'calculation_system_relax'"
   ]
  },
  {
   "cell_type": "markdown",
   "metadata": {
    "deletable": true,
    "editable": true
   },
   "source": [
    "### Prepare"
   ]
  },
  {
   "cell_type": "markdown",
   "metadata": {
    "deletable": true,
    "editable": true
   },
   "source": [
    "Get parent records"
   ]
  },
  {
   "cell_type": "code",
   "execution_count": 27,
   "metadata": {
    "collapsed": false,
    "deletable": true,
    "editable": true
   },
   "outputs": [
    {
     "name": "stdout",
     "output_type": "stream",
     "text": [
      "2 parent records found\n"
     ]
    }
   ],
   "source": [
    "parent_df = dbase.get_records_df(style=parent_record_style, full=True, flat=False)\n",
    "parent_df = parent_df[parent_df.potential_id == potential]\n",
    "parent_df = parent_df[parent_df.calc_script == 'calc_'+parent_calculation_style]\n",
    "parent_df = parent_df[parent_df.family == family]\n",
    "parent_records = dbase.get_records(name=parent_df.calc_key.tolist())\n",
    "\n",
    "print(len(parent_records), 'parent records found')"
   ]
  },
  {
   "cell_type": "markdown",
   "metadata": {
    "deletable": true,
    "editable": true
   },
   "source": [
    "Define prepare function variables"
   ]
  },
  {
   "cell_type": "code",
   "execution_count": 28,
   "metadata": {
    "collapsed": true,
    "deletable": true,
    "editable": true
   },
   "outputs": [],
   "source": [
    "run_directory = run_terms[n]['run_directory']\n",
    "\n",
    "input_dict = {}\n",
    "input_dict['calculation_style'] = calculation_style\n",
    "input_dict['lammps_command'] = run_terms[n]['lammps_command']\n",
    "input_dict['mpi_command'] = run_terms[n]['mpi_command']\n",
    "input_dict['sizemults'] = sizemults\n",
    "input_dict['parent_records'] = parent_records"
   ]
  },
  {
   "cell_type": "markdown",
   "metadata": {
    "deletable": true,
    "editable": true
   },
   "source": [
    "Call prepare"
   ]
  },
  {
   "cell_type": "code",
   "execution_count": 29,
   "metadata": {
    "collapsed": false,
    "deletable": true,
    "editable": true
   },
   "outputs": [],
   "source": [
    "iprPy.highthroughput.prepare(dbase, run_directory, input_dict=input_dict)"
   ]
  },
  {
   "cell_type": "markdown",
   "metadata": {
    "deletable": true,
    "editable": true
   },
   "source": [
    "### Run"
   ]
  },
  {
   "cell_type": "code",
   "execution_count": 30,
   "metadata": {
    "collapsed": false,
    "deletable": true,
    "editable": true
   },
   "outputs": [],
   "source": [
    "iprPy.highthroughput.runner(dbase, run_directory)"
   ]
  },
  {
   "cell_type": "markdown",
   "metadata": {
    "deletable": true,
    "editable": true
   },
   "source": [
    "### Analyze"
   ]
  },
  {
   "cell_type": "markdown",
   "metadata": {
    "deletable": true,
    "editable": true
   },
   "source": [
    "Fetch records"
   ]
  },
  {
   "cell_type": "code",
   "execution_count": 31,
   "metadata": {
    "collapsed": false,
    "deletable": true,
    "editable": true
   },
   "outputs": [
    {
     "name": "stdout",
     "output_type": "stream",
     "text": [
      "18 records found\n"
     ]
    }
   ],
   "source": [
    "results_df = dbase.get_records_df(style=record_style, full=True, flat=False)\n",
    "results_df = results_df[results_df.potential_id == potential]\n",
    "results_df = results_df[results_df.calc_script == 'calc_'+calculation_style]\n",
    "results_df['parent_key'] = [os.path.splitext(parent_key)[0] for parent_key in results_df.load_file]\n",
    "results_df = results_df[results_df.parent_key.isin(parent_df.calc_key)]\n",
    "\n",
    "print(len(results_df), 'records found')"
   ]
  },
  {
   "cell_type": "markdown",
   "metadata": {
    "deletable": true,
    "editable": true
   },
   "source": [
    "Check errors"
   ]
  },
  {
   "cell_type": "code",
   "execution_count": 32,
   "metadata": {
    "collapsed": false,
    "deletable": true,
    "editable": true
   },
   "outputs": [
    {
     "name": "stdout",
     "output_type": "stream",
     "text": [
      "0 issued errors\n"
     ]
    }
   ],
   "source": [
    "error_df = results_df[results_df.status=='error']\n",
    "print(len(error_df), 'issued errors')\n",
    "\n",
    "if len(error_df) > 0:\n",
    "    for error in np.unique(error_df.error.values):\n",
    "        print(error)    "
   ]
  },
  {
   "cell_type": "markdown",
   "metadata": {
    "deletable": true,
    "editable": true
   },
   "source": [
    "Define composition"
   ]
  },
  {
   "cell_type": "code",
   "execution_count": 33,
   "metadata": {
    "collapsed": true,
    "deletable": true,
    "editable": true
   },
   "outputs": [],
   "source": [
    "compositions = []\n",
    "for i, calc in results_df.iterrows():\n",
    "    compositions.append(comp_refine(calc.symbols, counts[calc.family]))\n",
    "results_df = results_df.assign(composition=compositions)"
   ]
  },
  {
   "cell_type": "markdown",
   "metadata": {
    "deletable": true,
    "editable": true
   },
   "source": [
    "#### Display $E^{ptd}_f$"
   ]
  },
  {
   "cell_type": "code",
   "execution_count": 34,
   "metadata": {
    "collapsed": false,
    "deletable": true,
    "editable": true
   },
   "outputs": [
    {
     "name": "stdout",
     "output_type": "stream",
     "text": [
      "Cs\n"
     ]
    },
    {
     "data": {
      "text/html": [
       "<table border=\"1\" class=\"dataframe\">\n",
       "  <thead>\n",
       "    <tr style=\"text-align: right;\">\n",
       "      <th>pointdefect_id</th>\n",
       "      <th>E_f (eV)</th>\n",
       "      <th>reconfigured</th>\n",
       "    </tr>\n",
       "  </thead>\n",
       "  <tbody>\n",
       "    <tr>\n",
       "      <td>A2--W--bcc--vacancy</td>\n",
       "      <td>0.259718</td>\n",
       "      <td>False</td>\n",
       "    </tr>\n",
       "    <tr>\n",
       "      <td>A2--W--bcc--vacancy</td>\n",
       "      <td>0.273072</td>\n",
       "      <td>False</td>\n",
       "    </tr>\n",
       "    <tr>\n",
       "      <td>A2--W--bcc--111-dumbbell</td>\n",
       "      <td>0.432942</td>\n",
       "      <td>False</td>\n",
       "    </tr>\n",
       "    <tr>\n",
       "      <td>A2--W--bcc--crowdion-interstitial</td>\n",
       "      <td>0.433110</td>\n",
       "      <td>False</td>\n",
       "    </tr>\n",
       "    <tr>\n",
       "      <td>A2--W--bcc--tetrahedral-interstitial</td>\n",
       "      <td>0.453622</td>\n",
       "      <td>False</td>\n",
       "    </tr>\n",
       "    <tr>\n",
       "      <td>A2--W--bcc--110-dumbbell</td>\n",
       "      <td>0.461196</td>\n",
       "      <td>False</td>\n",
       "    </tr>\n",
       "    <tr>\n",
       "      <td>A2--W--bcc--100-dumbbell</td>\n",
       "      <td>0.468687</td>\n",
       "      <td>False</td>\n",
       "    </tr>\n",
       "    <tr>\n",
       "      <td>A2--W--bcc--octahedral-interstitial</td>\n",
       "      <td>0.469355</td>\n",
       "      <td>False</td>\n",
       "    </tr>\n",
       "    <tr>\n",
       "      <td>A2--W--bcc--1nn-divacancy</td>\n",
       "      <td>0.491226</td>\n",
       "      <td>False</td>\n",
       "    </tr>\n",
       "    <tr>\n",
       "      <td>A2--W--bcc--2nn-divacancy</td>\n",
       "      <td>0.492180</td>\n",
       "      <td>False</td>\n",
       "    </tr>\n",
       "    <tr>\n",
       "      <td>A2--W--bcc--1nn-divacancy</td>\n",
       "      <td>0.511581</td>\n",
       "      <td>False</td>\n",
       "    </tr>\n",
       "    <tr>\n",
       "      <td>A2--W--bcc--2nn-divacancy</td>\n",
       "      <td>0.520795</td>\n",
       "      <td>False</td>\n",
       "    </tr>\n",
       "    <tr>\n",
       "      <td>A2--W--bcc--crowdion-interstitial</td>\n",
       "      <td>0.575936</td>\n",
       "      <td>True</td>\n",
       "    </tr>\n",
       "    <tr>\n",
       "      <td>A2--W--bcc--111-dumbbell</td>\n",
       "      <td>0.581915</td>\n",
       "      <td>True</td>\n",
       "    </tr>\n",
       "    <tr>\n",
       "      <td>A2--W--bcc--octahedral-interstitial</td>\n",
       "      <td>0.621770</td>\n",
       "      <td>True</td>\n",
       "    </tr>\n",
       "    <tr>\n",
       "      <td>A2--W--bcc--100-dumbbell</td>\n",
       "      <td>0.622211</td>\n",
       "      <td>True</td>\n",
       "    </tr>\n",
       "    <tr>\n",
       "      <td>A2--W--bcc--tetrahedral-interstitial</td>\n",
       "      <td>0.679771</td>\n",
       "      <td>True</td>\n",
       "    </tr>\n",
       "    <tr>\n",
       "      <td>A2--W--bcc--110-dumbbell</td>\n",
       "      <td>0.722864</td>\n",
       "      <td>True</td>\n",
       "    </tr>\n",
       "  </tbody>\n",
       "</table>"
      ],
      "text/plain": [
       "<IPython.core.display.HTML object>"
      ]
     },
     "metadata": {},
     "output_type": "display_data"
    }
   ],
   "source": [
    "# Unit conversions\n",
    "results_df['E_f (eV)'] = uc.get_in_units(results_df.E_f, 'eV')\n",
    "\n",
    "# Loop over all compositions\n",
    "for composition in np.unique(results_df.composition):\n",
    "    show_df = results_df[results_df.composition==composition]\n",
    "    \n",
    "    print(composition)\n",
    "    show_df = show_df[['pointdefect_id', 'E_f (eV)', 'reconfigured']].sort_values('E_f (eV)')\n",
    "    display(HTML(show_df.to_html(index=False)))"
   ]
  },
  {
   "cell_type": "markdown",
   "metadata": {
    "deletable": true,
    "editable": true
   },
   "source": [
    "## 6. surface_energy"
   ]
  },
  {
   "cell_type": "code",
   "execution_count": 35,
   "metadata": {
    "collapsed": true,
    "deletable": true,
    "editable": true
   },
   "outputs": [],
   "source": [
    "n = 1\n",
    "calculation_style = 'surface_energy'\n",
    "record_style = 'calculation_surface_energy'\n",
    "sizemults = '5 5 10'\n",
    "parent_calculation_style = 'LAMMPS_ELASTIC'\n",
    "parent_record_style = 'calculation_system_relax'"
   ]
  },
  {
   "cell_type": "markdown",
   "metadata": {
    "deletable": true,
    "editable": true
   },
   "source": [
    "### Prepare"
   ]
  },
  {
   "cell_type": "markdown",
   "metadata": {
    "deletable": true,
    "editable": true
   },
   "source": [
    "Get parent records"
   ]
  },
  {
   "cell_type": "code",
   "execution_count": 36,
   "metadata": {
    "collapsed": false,
    "deletable": true,
    "editable": true
   },
   "outputs": [
    {
     "name": "stdout",
     "output_type": "stream",
     "text": [
      "2 parent records found\n"
     ]
    }
   ],
   "source": [
    "parent_df = dbase.get_records_df(style=parent_record_style, full=True, flat=False)\n",
    "parent_df = parent_df[parent_df.potential_id == potential]\n",
    "parent_df = parent_df[parent_df.calc_script == 'calc_'+parent_calculation_style]\n",
    "parent_df = parent_df[parent_df.family == family]\n",
    "parent_records = dbase.get_records(name=parent_df.calc_key.tolist())\n",
    "\n",
    "print(len(parent_records), 'parent records found')"
   ]
  },
  {
   "cell_type": "markdown",
   "metadata": {
    "deletable": true,
    "editable": true
   },
   "source": [
    "Define prepare function variables"
   ]
  },
  {
   "cell_type": "code",
   "execution_count": 37,
   "metadata": {
    "collapsed": true,
    "deletable": true,
    "editable": true
   },
   "outputs": [],
   "source": [
    "run_directory = run_terms[n]['run_directory']\n",
    "\n",
    "input_dict = {}\n",
    "input_dict['calculation_style'] = calculation_style\n",
    "input_dict['lammps_command'] = run_terms[n]['lammps_command']\n",
    "input_dict['mpi_command'] = run_terms[n]['mpi_command']\n",
    "input_dict['sizemults'] = sizemults\n",
    "input_dict['parent_records'] = parent_records"
   ]
  },
  {
   "cell_type": "markdown",
   "metadata": {
    "deletable": true,
    "editable": true
   },
   "source": [
    "Call prepare"
   ]
  },
  {
   "cell_type": "code",
   "execution_count": 38,
   "metadata": {
    "collapsed": false,
    "deletable": true,
    "editable": true
   },
   "outputs": [],
   "source": [
    "iprPy.highthroughput.prepare(dbase, run_directory, input_dict=input_dict)"
   ]
  },
  {
   "cell_type": "markdown",
   "metadata": {
    "deletable": true,
    "editable": true
   },
   "source": [
    "### Run"
   ]
  },
  {
   "cell_type": "code",
   "execution_count": 39,
   "metadata": {
    "collapsed": false,
    "deletable": true,
    "editable": true
   },
   "outputs": [],
   "source": [
    "iprPy.highthroughput.runner(dbase, run_directory)"
   ]
  },
  {
   "cell_type": "markdown",
   "metadata": {
    "deletable": true,
    "editable": true
   },
   "source": [
    "### Analyze"
   ]
  },
  {
   "cell_type": "markdown",
   "metadata": {
    "deletable": true,
    "editable": true
   },
   "source": [
    "Fetch records"
   ]
  },
  {
   "cell_type": "code",
   "execution_count": 40,
   "metadata": {
    "collapsed": false,
    "deletable": true,
    "editable": true
   },
   "outputs": [
    {
     "name": "stdout",
     "output_type": "stream",
     "text": [
      "6 records found\n"
     ]
    }
   ],
   "source": [
    "results_df = dbase.get_records_df(style=record_style, full=True, flat=False)\n",
    "results_df = results_df[results_df.potential_id == potential]\n",
    "results_df = results_df[results_df.calc_script == 'calc_'+calculation_style]\n",
    "results_df['parent_key'] = [os.path.splitext(parent_key)[0] for parent_key in results_df.load_file]\n",
    "results_df = results_df[results_df.parent_key.isin(parent_df.calc_key)]\n",
    "\n",
    "print(len(results_df), 'records found')"
   ]
  },
  {
   "cell_type": "markdown",
   "metadata": {
    "deletable": true,
    "editable": true
   },
   "source": [
    "Check errors"
   ]
  },
  {
   "cell_type": "code",
   "execution_count": 41,
   "metadata": {
    "collapsed": false,
    "deletable": true,
    "editable": true
   },
   "outputs": [
    {
     "name": "stdout",
     "output_type": "stream",
     "text": [
      "0 issued errors\n"
     ]
    }
   ],
   "source": [
    "error_df = results_df[results_df.status=='error']\n",
    "print(len(error_df), 'issued errors')\n",
    "\n",
    "if len(error_df) > 0:\n",
    "    for error in np.unique(error_df.error.values):\n",
    "        print(error)    "
   ]
  },
  {
   "cell_type": "markdown",
   "metadata": {
    "deletable": true,
    "editable": true
   },
   "source": [
    "Define composition"
   ]
  },
  {
   "cell_type": "code",
   "execution_count": 42,
   "metadata": {
    "collapsed": true,
    "deletable": true,
    "editable": true
   },
   "outputs": [],
   "source": [
    "compositions = []\n",
    "for i, calc in results_df.iterrows():\n",
    "    compositions.append(comp_refine(calc.symbols, counts[calc.family]))\n",
    "results_df = results_df.assign(composition=compositions)"
   ]
  },
  {
   "cell_type": "markdown",
   "metadata": {
    "deletable": true,
    "editable": true
   },
   "source": [
    "#### Display $\\gamma_{fs}$"
   ]
  },
  {
   "cell_type": "code",
   "execution_count": 43,
   "metadata": {
    "collapsed": false,
    "deletable": true,
    "editable": true
   },
   "outputs": [
    {
     "name": "stdout",
     "output_type": "stream",
     "text": [
      "Cs\n"
     ]
    },
    {
     "data": {
      "text/html": [
       "<table border=\"1\" class=\"dataframe\">\n",
       "  <thead>\n",
       "    <tr style=\"text-align: right;\">\n",
       "      <th>surface_id</th>\n",
       "      <th>gamma_fs (mJ/m^2)</th>\n",
       "    </tr>\n",
       "  </thead>\n",
       "  <tbody>\n",
       "    <tr>\n",
       "      <td>A2--W--bcc--110</td>\n",
       "      <td>51.229930</td>\n",
       "    </tr>\n",
       "    <tr>\n",
       "      <td>A2--W--bcc--110</td>\n",
       "      <td>51.485846</td>\n",
       "    </tr>\n",
       "    <tr>\n",
       "      <td>A2--W--bcc--100</td>\n",
       "      <td>59.971444</td>\n",
       "    </tr>\n",
       "    <tr>\n",
       "      <td>A2--W--bcc--100</td>\n",
       "      <td>60.231751</td>\n",
       "    </tr>\n",
       "    <tr>\n",
       "      <td>A2--W--bcc--111</td>\n",
       "      <td>65.864958</td>\n",
       "    </tr>\n",
       "    <tr>\n",
       "      <td>A2--W--bcc--111</td>\n",
       "      <td>67.170527</td>\n",
       "    </tr>\n",
       "  </tbody>\n",
       "</table>"
      ],
      "text/plain": [
       "<IPython.core.display.HTML object>"
      ]
     },
     "metadata": {},
     "output_type": "display_data"
    }
   ],
   "source": [
    "# Unit conversions\n",
    "results_df['gamma_fs (mJ/m^2)'] = uc.get_in_units(results_df.gamma_fs, 'mJ/m^2')\n",
    "\n",
    "# Loop over all compositions\n",
    "for composition in np.unique(results_df.composition):\n",
    "    show_df = results_df[results_df.composition==composition]\n",
    "    \n",
    "    print(composition)\n",
    "    show_df = show_df[['surface_id', 'gamma_fs (mJ/m^2)']].sort_values('gamma_fs (mJ/m^2)')\n",
    "    display(HTML(show_df.to_html(index=False)))"
   ]
  },
  {
   "cell_type": "markdown",
   "metadata": {
    "deletable": true,
    "editable": true
   },
   "source": [
    "## 7. Stacking Fault"
   ]
  },
  {
   "cell_type": "code",
   "execution_count": 44,
   "metadata": {
    "collapsed": true,
    "deletable": true,
    "editable": true
   },
   "outputs": [],
   "source": [
    "n = 1\n",
    "calculation_style = 'stacking_fault_multi'\n",
    "record_style = 'calculation_generalized_stacking_fault'\n",
    "sizemults = '5 5 10'\n",
    "numshifts1 = 51 \n",
    "numshifts2 = 51\n",
    "parent_calculation_style = 'LAMMPS_ELASTIC'\n",
    "parent_record_style = 'calculation_system_relax'"
   ]
  },
  {
   "cell_type": "markdown",
   "metadata": {
    "deletable": true,
    "editable": true
   },
   "source": [
    "### Prepare"
   ]
  },
  {
   "cell_type": "markdown",
   "metadata": {
    "deletable": true,
    "editable": true
   },
   "source": [
    "Get parent records"
   ]
  },
  {
   "cell_type": "code",
   "execution_count": 45,
   "metadata": {
    "collapsed": false,
    "deletable": true,
    "editable": true
   },
   "outputs": [
    {
     "name": "stdout",
     "output_type": "stream",
     "text": [
      "2 parent records found\n"
     ]
    }
   ],
   "source": [
    "parent_df = dbase.get_records_df(style=parent_record_style, full=True, flat=False)\n",
    "parent_df = parent_df[parent_df.potential_id == potential]\n",
    "parent_df = parent_df[parent_df.calc_script == 'calc_'+parent_calculation_style]\n",
    "parent_df = parent_df[parent_df.family == family]\n",
    "parent_records = dbase.get_records(name=parent_df.calc_key.tolist())\n",
    "\n",
    "print(len(parent_records), 'parent records found')"
   ]
  },
  {
   "cell_type": "markdown",
   "metadata": {
    "deletable": true,
    "editable": true
   },
   "source": [
    "Define prepare function variables"
   ]
  },
  {
   "cell_type": "code",
   "execution_count": 46,
   "metadata": {
    "collapsed": true,
    "deletable": true,
    "editable": true
   },
   "outputs": [],
   "source": [
    "run_directory = run_terms[n]['run_directory']\n",
    "\n",
    "input_dict = {}\n",
    "input_dict['calculation_style'] = calculation_style\n",
    "input_dict['lammps_command'] = run_terms[n]['lammps_command']\n",
    "input_dict['mpi_command'] = run_terms[n]['mpi_command']\n",
    "input_dict['sizemults'] = sizemults\n",
    "input_dict['stackingfault_numshifts1'] = str(numshifts1)\n",
    "input_dict['stackingfault_numshifts2'] = str(numshifts2)\n",
    "input_dict['parent_records'] = parent_records"
   ]
  },
  {
   "cell_type": "markdown",
   "metadata": {
    "deletable": true,
    "editable": true
   },
   "source": [
    "Call prepare"
   ]
  },
  {
   "cell_type": "code",
   "execution_count": 47,
   "metadata": {
    "collapsed": false,
    "deletable": true,
    "editable": true
   },
   "outputs": [],
   "source": [
    "iprPy.highthroughput.prepare(dbase, run_directory, input_dict=input_dict)"
   ]
  },
  {
   "cell_type": "markdown",
   "metadata": {
    "deletable": true,
    "editable": true
   },
   "source": [
    "### Run"
   ]
  },
  {
   "cell_type": "code",
   "execution_count": 48,
   "metadata": {
    "collapsed": false,
    "deletable": true,
    "editable": true
   },
   "outputs": [
    {
     "ename": "SystemExit",
     "evalue": "0",
     "output_type": "error",
     "traceback": [
      "An exception has occurred, use %tb to see the full traceback.\n",
      "\u001b[1;31mSystemExit\u001b[0m\u001b[1;31m:\u001b[0m 0\n"
     ]
    },
    {
     "name": "stderr",
     "output_type": "stream",
     "text": [
      "C:\\Users\\lmh1\\AppData\\Local\\Continuum\\Anaconda2\\lib\\site-packages\\IPython\\core\\interactiveshell.py:2889: UserWarning: To exit: use 'exit', 'quit', or Ctrl-D.\n",
      "  warn(\"To exit: use 'exit', 'quit', or Ctrl-D.\", stacklevel=1)\n"
     ]
    }
   ],
   "source": [
    "iprPy.highthroughput.runner(dbase, run_directory)"
   ]
  },
  {
   "cell_type": "markdown",
   "metadata": {
    "deletable": true,
    "editable": true
   },
   "source": [
    "### Analyze"
   ]
  },
  {
   "cell_type": "markdown",
   "metadata": {
    "deletable": true,
    "editable": true
   },
   "source": [
    "Fetch records"
   ]
  },
  {
   "cell_type": "code",
   "execution_count": null,
   "metadata": {
    "collapsed": false,
    "deletable": true,
    "editable": true
   },
   "outputs": [],
   "source": [
    "results_df = dbase.get_records_df(style=record_style, full=True, flat=False)\n",
    "results_df = results_df[results_df.potential_id == potential]\n",
    "results_df = results_df[results_df.calc_script == 'calc_'+calculation_style]\n",
    "results_df['parent_key'] = [os.path.splitext(parent_key)[0] for parent_key in results_df.load_file]\n",
    "results_df = results_df[results_df.parent_key.isin(parent_df.calc_key)]\n",
    "\n",
    "print(len(results_df), 'records found')"
   ]
  },
  {
   "cell_type": "markdown",
   "metadata": {
    "deletable": true,
    "editable": true
   },
   "source": [
    "Check errors"
   ]
  },
  {
   "cell_type": "code",
   "execution_count": null,
   "metadata": {
    "collapsed": false,
    "deletable": true,
    "editable": true
   },
   "outputs": [],
   "source": [
    "error_df = results_df[results_df.status=='error']\n",
    "print(len(error_df), 'issued errors')\n",
    "\n",
    "if len(error_df) > 0:\n",
    "    for error in np.unique(error_df.error.values):\n",
    "        print(error)    "
   ]
  },
  {
   "cell_type": "markdown",
   "metadata": {
    "deletable": true,
    "editable": true
   },
   "source": [
    "Define composition"
   ]
  },
  {
   "cell_type": "code",
   "execution_count": null,
   "metadata": {
    "collapsed": true,
    "deletable": true,
    "editable": true
   },
   "outputs": [],
   "source": [
    "compositions = []\n",
    "for i, calc in results_df.iterrows():\n",
    "    compositions.append(comp_refine(calc.symbols, counts[calc.family]))\n",
    "results_df = results_df.assign(composition=compositions)"
   ]
  },
  {
   "cell_type": "markdown",
   "metadata": {
    "deletable": true,
    "editable": true
   },
   "source": [
    "Plot $\\gamma_{gsf}$"
   ]
  },
  {
   "cell_type": "code",
   "execution_count": null,
   "metadata": {
    "collapsed": false,
    "deletable": true,
    "editable": true,
    "scrolled": true
   },
   "outputs": [],
   "source": [
    "# Loop over records\n",
    "for i, series in results_df.iterrows():\n",
    "    try:\n",
    "        plot_df = series.gsf_plot\n",
    "        plot_df['gamma_gsf (mJ/m^2)'] = uc.get_in_units(plot_df.energy, 'mJ/m^2')\n",
    "    except:\n",
    "        continue\n",
    "    print(series.composition)    \n",
    "    \n",
    "    shift1_df = plot_df[np.isclose(plot_df.shift2, 0.0)]\n",
    "    p = figure(title='Generalized Stacking Fault',\n",
    "              plot_width = 800,\n",
    "              plot_height = 600,\n",
    "              x_axis_label = 'Reduced Coordinate',\n",
    "              y_axis_label = 'Stacking Fault Energy (mJ/m^2)')\n",
    "    p.line(shift1_df.shift1, shift1_df['gamma_gsf (mJ/m^2)'],\n",
    "          line_color='black', line_width=2)\n",
    "    show(p)\n",
    "    \n",
    "    shift2_df = plot_df[np.isclose(plot_df.shift1, 0.0)]    \n",
    "    p = figure(title='Generalized Stacking Fault',\n",
    "              plot_width = 800,\n",
    "              plot_height = 600,\n",
    "              x_axis_label = 'Reduced Coordinate',\n",
    "              y_axis_label = 'Stacking Fault Energy (mJ/m^2)')\n",
    "    p.line(shift2_df.shift2, shift2_df['gamma_gsf (mJ/m^2)'],\n",
    "          line_color='black', line_width=2)\n",
    "    show(p)    "
   ]
  },
  {
   "cell_type": "markdown",
   "metadata": {
    "deletable": true,
    "editable": true
   },
   "source": [
    "## 8. dislocation_monopole"
   ]
  },
  {
   "cell_type": "code",
   "execution_count": null,
   "metadata": {
    "collapsed": true,
    "deletable": true,
    "editable": true
   },
   "outputs": [],
   "source": [
    "n = 4\n",
    "calculation_style = 'dislocation_monopole'\n",
    "record_style =      'calculation_dislocation_monopole'\n",
    "annealtemperature = 50\n",
    "parent_calculation_style = 'LAMMPS_ELASTIC'\n",
    "parent_record_style = 'calculation_system_relax'\n",
    "\n",
    "sizemults = {}\n",
    "sizemults['A1--Cu--fcc--110-screw'] = '-28 28 -40 40 0 2'\n",
    "sizemults['A1--Cu--fcc--111-edge'] = '-49 49 -40 40 0 2'\n",
    "sizemults['A2--W--bcc--110-edge'] = '-40 40 -28 28 0 2'\n",
    "sizemults['A2--W--bcc--111-screw'] = '-28 28 -49 49 0 2'\n",
    "sizemults['A2--W--bcc--112-edge'] = '-40 40 -49 49 0 2'"
   ]
  },
  {
   "cell_type": "markdown",
   "metadata": {
    "deletable": true,
    "editable": true
   },
   "source": [
    "### Prepare"
   ]
  },
  {
   "cell_type": "markdown",
   "metadata": {
    "deletable": true,
    "editable": true
   },
   "source": [
    "Get parent records"
   ]
  },
  {
   "cell_type": "code",
   "execution_count": null,
   "metadata": {
    "collapsed": false,
    "deletable": true,
    "editable": true
   },
   "outputs": [],
   "source": [
    "parent_df = dbase.get_records_df(style=parent_record_style, full=True, flat=False)\n",
    "parent_df = parent_df[parent_df.potential_id == potential]\n",
    "parent_df = parent_df[parent_df.calc_script == 'calc_'+parent_calculation_style]\n",
    "parent_df = parent_df[parent_df.family == family]\n",
    "parent_records = dbase.get_records(name=parent_df.calc_key.tolist())\n",
    "\n",
    "print(len(parent_records), 'parent records found')"
   ]
  },
  {
   "cell_type": "markdown",
   "metadata": {
    "deletable": true,
    "editable": true
   },
   "source": [
    "Define prepare function variables and call prepare"
   ]
  },
  {
   "cell_type": "code",
   "execution_count": null,
   "metadata": {
    "collapsed": true,
    "deletable": true,
    "editable": true
   },
   "outputs": [],
   "source": [
    "run_directory = run_terms[n]['run_directory']\n",
    "\n",
    "for dislocation_name in sizemults.keys():\n",
    "    input_dict = {}\n",
    "    input_dict['calculation_style'] = 'dislocation_monopole'\n",
    "    input_dict['lammps_command'] = run_terms[n]['lammps_command']\n",
    "    input_dict['mpi_command'] = run_terms[n]['mpi_command']\n",
    "    input_dict['annealtemperature'] = str(annealtemperature)\n",
    "    input_dict['parent_records'] = parent_records\n",
    "    input_dict['dislocation_name'] = dislocation_name\n",
    "    input_dict['sizemults'] = sizemults[dislocation_name]\n",
    "    \n",
    "    iprPy.highthroughput.prepare(dbase, run_directory, input_dict=input_dict)"
   ]
  },
  {
   "cell_type": "markdown",
   "metadata": {
    "deletable": true,
    "editable": true
   },
   "source": [
    "### Run"
   ]
  },
  {
   "cell_type": "code",
   "execution_count": null,
   "metadata": {
    "collapsed": false,
    "deletable": true,
    "editable": true
   },
   "outputs": [],
   "source": [
    "iprPy.highthroughput.runner(dbase, run_directory)"
   ]
  },
  {
   "cell_type": "markdown",
   "metadata": {
    "deletable": true,
    "editable": true
   },
   "source": [
    "### Analyze"
   ]
  },
  {
   "cell_type": "markdown",
   "metadata": {
    "deletable": true,
    "editable": true
   },
   "source": [
    "Fetch records"
   ]
  },
  {
   "cell_type": "code",
   "execution_count": null,
   "metadata": {
    "collapsed": false,
    "deletable": true,
    "editable": true
   },
   "outputs": [],
   "source": [
    "results_df = dbase.get_records_df(style=record_style, full=True, flat=False)\n",
    "results_df = results_df[results_df.potential_id == potential]\n",
    "results_df = results_df[results_df.calc_script == 'calc_'+calculation_style]\n",
    "results_df['parent_key'] = [os.path.splitext(parent_key)[0] for parent_key in results_df.load_file]\n",
    "results_df = results_df[results_df.parent_key.isin(parent_df.calc_key)]\n",
    "\n",
    "print(len(results_df), 'records found')"
   ]
  },
  {
   "cell_type": "markdown",
   "metadata": {
    "deletable": true,
    "editable": true
   },
   "source": [
    "Check errors"
   ]
  },
  {
   "cell_type": "code",
   "execution_count": null,
   "metadata": {
    "collapsed": false,
    "deletable": true,
    "editable": true
   },
   "outputs": [],
   "source": [
    "error_df = results_df[results_df.status=='error']\n",
    "print(len(error_df), 'issued errors')\n",
    "if len(error_df) > 0:\n",
    "    for error in np.unique(error_df.error.values):\n",
    "        print(error)    "
   ]
  },
  {
   "cell_type": "code",
   "execution_count": null,
   "metadata": {
    "collapsed": false,
    "deletable": true,
    "editable": true
   },
   "outputs": [],
   "source": [
    "results_df"
   ]
  },
  {
   "cell_type": "code",
   "execution_count": 6,
   "metadata": {
    "collapsed": true,
    "deletable": true,
    "editable": true
   },
   "outputs": [],
   "source": [
    "# Define subset generator\n",
    "def subsets(fullset):\n",
    "    for i, item in enumerate(fullset):\n",
    "        yield [item]\n",
    "        if len(fullset) > 1:\n",
    "            for subset in subsets(fullset[i+1:]):\n",
    "                yield [item] + subset"
   ]
  },
  {
   "cell_type": "code",
   "execution_count": 12,
   "metadata": {
    "collapsed": false,
    "deletable": true,
    "editable": true
   },
   "outputs": [
    {
     "ename": "KeyboardInterrupt",
     "evalue": "",
     "output_type": "error",
     "traceback": [
      "\u001b[1;31m---------------------------------------------------------------------------\u001b[0m",
      "\u001b[1;31mKeyboardInterrupt\u001b[0m                         Traceback (most recent call last)",
      "\u001b[1;32m<ipython-input-12-22ddc44192dd>\u001b[0m in \u001b[0;36m<module>\u001b[1;34m()\u001b[0m\n\u001b[0;32m      1\u001b[0m \u001b[0mcount\u001b[0m \u001b[1;33m=\u001b[0m \u001b[1;36m0\u001b[0m\u001b[1;33m\u001b[0m\u001b[0m\n\u001b[1;32m----> 2\u001b[1;33m \u001b[1;32mfor\u001b[0m \u001b[0ms\u001b[0m \u001b[1;32min\u001b[0m \u001b[0msubsets\u001b[0m\u001b[1;33m(\u001b[0m\u001b[0mrange\u001b[0m\u001b[1;33m(\u001b[0m\u001b[1;36m82\u001b[0m\u001b[1;33m)\u001b[0m\u001b[1;33m)\u001b[0m\u001b[1;33m:\u001b[0m\u001b[1;33m\u001b[0m\u001b[0m\n\u001b[0m\u001b[0;32m      3\u001b[0m     \u001b[0mcount\u001b[0m \u001b[1;33m+=\u001b[0m \u001b[1;36m1\u001b[0m\u001b[1;33m\u001b[0m\u001b[0m\n\u001b[0;32m      4\u001b[0m \u001b[0mprint\u001b[0m\u001b[1;33m(\u001b[0m\u001b[0mcount\u001b[0m\u001b[1;33m)\u001b[0m\u001b[1;33m\u001b[0m\u001b[0m\n\u001b[0;32m      5\u001b[0m \u001b[1;33m\u001b[0m\u001b[0m\n",
      "\u001b[1;32m<ipython-input-6-c4d725b9727e>\u001b[0m in \u001b[0;36msubsets\u001b[1;34m(fullset)\u001b[0m\n\u001b[0;32m      4\u001b[0m         \u001b[1;32myield\u001b[0m \u001b[1;33m[\u001b[0m\u001b[0mitem\u001b[0m\u001b[1;33m]\u001b[0m\u001b[1;33m\u001b[0m\u001b[0m\n\u001b[0;32m      5\u001b[0m         \u001b[1;32mif\u001b[0m \u001b[0mlen\u001b[0m\u001b[1;33m(\u001b[0m\u001b[0mfullset\u001b[0m\u001b[1;33m)\u001b[0m \u001b[1;33m>\u001b[0m \u001b[1;36m1\u001b[0m\u001b[1;33m:\u001b[0m\u001b[1;33m\u001b[0m\u001b[0m\n\u001b[1;32m----> 6\u001b[1;33m             \u001b[1;32mfor\u001b[0m \u001b[0msubset\u001b[0m \u001b[1;32min\u001b[0m \u001b[0msubsets\u001b[0m\u001b[1;33m(\u001b[0m\u001b[0mfullset\u001b[0m\u001b[1;33m[\u001b[0m\u001b[0mi\u001b[0m\u001b[1;33m+\u001b[0m\u001b[1;36m1\u001b[0m\u001b[1;33m:\u001b[0m\u001b[1;33m]\u001b[0m\u001b[1;33m)\u001b[0m\u001b[1;33m:\u001b[0m\u001b[1;33m\u001b[0m\u001b[0m\n\u001b[0m\u001b[0;32m      7\u001b[0m                 \u001b[1;32myield\u001b[0m \u001b[1;33m[\u001b[0m\u001b[0mitem\u001b[0m\u001b[1;33m]\u001b[0m \u001b[1;33m+\u001b[0m \u001b[0msubset\u001b[0m\u001b[1;33m\u001b[0m\u001b[0m\n",
      "\u001b[1;32m<ipython-input-6-c4d725b9727e>\u001b[0m in \u001b[0;36msubsets\u001b[1;34m(fullset)\u001b[0m\n\u001b[0;32m      4\u001b[0m         \u001b[1;32myield\u001b[0m \u001b[1;33m[\u001b[0m\u001b[0mitem\u001b[0m\u001b[1;33m]\u001b[0m\u001b[1;33m\u001b[0m\u001b[0m\n\u001b[0;32m      5\u001b[0m         \u001b[1;32mif\u001b[0m \u001b[0mlen\u001b[0m\u001b[1;33m(\u001b[0m\u001b[0mfullset\u001b[0m\u001b[1;33m)\u001b[0m \u001b[1;33m>\u001b[0m \u001b[1;36m1\u001b[0m\u001b[1;33m:\u001b[0m\u001b[1;33m\u001b[0m\u001b[0m\n\u001b[1;32m----> 6\u001b[1;33m             \u001b[1;32mfor\u001b[0m \u001b[0msubset\u001b[0m \u001b[1;32min\u001b[0m \u001b[0msubsets\u001b[0m\u001b[1;33m(\u001b[0m\u001b[0mfullset\u001b[0m\u001b[1;33m[\u001b[0m\u001b[0mi\u001b[0m\u001b[1;33m+\u001b[0m\u001b[1;36m1\u001b[0m\u001b[1;33m:\u001b[0m\u001b[1;33m]\u001b[0m\u001b[1;33m)\u001b[0m\u001b[1;33m:\u001b[0m\u001b[1;33m\u001b[0m\u001b[0m\n\u001b[0m\u001b[0;32m      7\u001b[0m                 \u001b[1;32myield\u001b[0m \u001b[1;33m[\u001b[0m\u001b[0mitem\u001b[0m\u001b[1;33m]\u001b[0m \u001b[1;33m+\u001b[0m \u001b[0msubset\u001b[0m\u001b[1;33m\u001b[0m\u001b[0m\n",
      "\u001b[1;32m<ipython-input-6-c4d725b9727e>\u001b[0m in \u001b[0;36msubsets\u001b[1;34m(fullset)\u001b[0m\n\u001b[0;32m      4\u001b[0m         \u001b[1;32myield\u001b[0m \u001b[1;33m[\u001b[0m\u001b[0mitem\u001b[0m\u001b[1;33m]\u001b[0m\u001b[1;33m\u001b[0m\u001b[0m\n\u001b[0;32m      5\u001b[0m         \u001b[1;32mif\u001b[0m \u001b[0mlen\u001b[0m\u001b[1;33m(\u001b[0m\u001b[0mfullset\u001b[0m\u001b[1;33m)\u001b[0m \u001b[1;33m>\u001b[0m \u001b[1;36m1\u001b[0m\u001b[1;33m:\u001b[0m\u001b[1;33m\u001b[0m\u001b[0m\n\u001b[1;32m----> 6\u001b[1;33m             \u001b[1;32mfor\u001b[0m \u001b[0msubset\u001b[0m \u001b[1;32min\u001b[0m \u001b[0msubsets\u001b[0m\u001b[1;33m(\u001b[0m\u001b[0mfullset\u001b[0m\u001b[1;33m[\u001b[0m\u001b[0mi\u001b[0m\u001b[1;33m+\u001b[0m\u001b[1;36m1\u001b[0m\u001b[1;33m:\u001b[0m\u001b[1;33m]\u001b[0m\u001b[1;33m)\u001b[0m\u001b[1;33m:\u001b[0m\u001b[1;33m\u001b[0m\u001b[0m\n\u001b[0m\u001b[0;32m      7\u001b[0m                 \u001b[1;32myield\u001b[0m \u001b[1;33m[\u001b[0m\u001b[0mitem\u001b[0m\u001b[1;33m]\u001b[0m \u001b[1;33m+\u001b[0m \u001b[0msubset\u001b[0m\u001b[1;33m\u001b[0m\u001b[0m\n",
      "\u001b[1;32m<ipython-input-6-c4d725b9727e>\u001b[0m in \u001b[0;36msubsets\u001b[1;34m(fullset)\u001b[0m\n\u001b[0;32m      4\u001b[0m         \u001b[1;32myield\u001b[0m \u001b[1;33m[\u001b[0m\u001b[0mitem\u001b[0m\u001b[1;33m]\u001b[0m\u001b[1;33m\u001b[0m\u001b[0m\n\u001b[0;32m      5\u001b[0m         \u001b[1;32mif\u001b[0m \u001b[0mlen\u001b[0m\u001b[1;33m(\u001b[0m\u001b[0mfullset\u001b[0m\u001b[1;33m)\u001b[0m \u001b[1;33m>\u001b[0m \u001b[1;36m1\u001b[0m\u001b[1;33m:\u001b[0m\u001b[1;33m\u001b[0m\u001b[0m\n\u001b[1;32m----> 6\u001b[1;33m             \u001b[1;32mfor\u001b[0m \u001b[0msubset\u001b[0m \u001b[1;32min\u001b[0m \u001b[0msubsets\u001b[0m\u001b[1;33m(\u001b[0m\u001b[0mfullset\u001b[0m\u001b[1;33m[\u001b[0m\u001b[0mi\u001b[0m\u001b[1;33m+\u001b[0m\u001b[1;36m1\u001b[0m\u001b[1;33m:\u001b[0m\u001b[1;33m]\u001b[0m\u001b[1;33m)\u001b[0m\u001b[1;33m:\u001b[0m\u001b[1;33m\u001b[0m\u001b[0m\n\u001b[0m\u001b[0;32m      7\u001b[0m                 \u001b[1;32myield\u001b[0m \u001b[1;33m[\u001b[0m\u001b[0mitem\u001b[0m\u001b[1;33m]\u001b[0m \u001b[1;33m+\u001b[0m \u001b[0msubset\u001b[0m\u001b[1;33m\u001b[0m\u001b[0m\n",
      "\u001b[1;32m<ipython-input-6-c4d725b9727e>\u001b[0m in \u001b[0;36msubsets\u001b[1;34m(fullset)\u001b[0m\n\u001b[0;32m      4\u001b[0m         \u001b[1;32myield\u001b[0m \u001b[1;33m[\u001b[0m\u001b[0mitem\u001b[0m\u001b[1;33m]\u001b[0m\u001b[1;33m\u001b[0m\u001b[0m\n\u001b[0;32m      5\u001b[0m         \u001b[1;32mif\u001b[0m \u001b[0mlen\u001b[0m\u001b[1;33m(\u001b[0m\u001b[0mfullset\u001b[0m\u001b[1;33m)\u001b[0m \u001b[1;33m>\u001b[0m \u001b[1;36m1\u001b[0m\u001b[1;33m:\u001b[0m\u001b[1;33m\u001b[0m\u001b[0m\n\u001b[1;32m----> 6\u001b[1;33m             \u001b[1;32mfor\u001b[0m \u001b[0msubset\u001b[0m \u001b[1;32min\u001b[0m \u001b[0msubsets\u001b[0m\u001b[1;33m(\u001b[0m\u001b[0mfullset\u001b[0m\u001b[1;33m[\u001b[0m\u001b[0mi\u001b[0m\u001b[1;33m+\u001b[0m\u001b[1;36m1\u001b[0m\u001b[1;33m:\u001b[0m\u001b[1;33m]\u001b[0m\u001b[1;33m)\u001b[0m\u001b[1;33m:\u001b[0m\u001b[1;33m\u001b[0m\u001b[0m\n\u001b[0m\u001b[0;32m      7\u001b[0m                 \u001b[1;32myield\u001b[0m \u001b[1;33m[\u001b[0m\u001b[0mitem\u001b[0m\u001b[1;33m]\u001b[0m \u001b[1;33m+\u001b[0m \u001b[0msubset\u001b[0m\u001b[1;33m\u001b[0m\u001b[0m\n",
      "\u001b[1;32m<ipython-input-6-c4d725b9727e>\u001b[0m in \u001b[0;36msubsets\u001b[1;34m(fullset)\u001b[0m\n\u001b[0;32m      4\u001b[0m         \u001b[1;32myield\u001b[0m \u001b[1;33m[\u001b[0m\u001b[0mitem\u001b[0m\u001b[1;33m]\u001b[0m\u001b[1;33m\u001b[0m\u001b[0m\n\u001b[0;32m      5\u001b[0m         \u001b[1;32mif\u001b[0m \u001b[0mlen\u001b[0m\u001b[1;33m(\u001b[0m\u001b[0mfullset\u001b[0m\u001b[1;33m)\u001b[0m \u001b[1;33m>\u001b[0m \u001b[1;36m1\u001b[0m\u001b[1;33m:\u001b[0m\u001b[1;33m\u001b[0m\u001b[0m\n\u001b[1;32m----> 6\u001b[1;33m             \u001b[1;32mfor\u001b[0m \u001b[0msubset\u001b[0m \u001b[1;32min\u001b[0m \u001b[0msubsets\u001b[0m\u001b[1;33m(\u001b[0m\u001b[0mfullset\u001b[0m\u001b[1;33m[\u001b[0m\u001b[0mi\u001b[0m\u001b[1;33m+\u001b[0m\u001b[1;36m1\u001b[0m\u001b[1;33m:\u001b[0m\u001b[1;33m]\u001b[0m\u001b[1;33m)\u001b[0m\u001b[1;33m:\u001b[0m\u001b[1;33m\u001b[0m\u001b[0m\n\u001b[0m\u001b[0;32m      7\u001b[0m                 \u001b[1;32myield\u001b[0m \u001b[1;33m[\u001b[0m\u001b[0mitem\u001b[0m\u001b[1;33m]\u001b[0m \u001b[1;33m+\u001b[0m \u001b[0msubset\u001b[0m\u001b[1;33m\u001b[0m\u001b[0m\n",
      "\u001b[1;32m<ipython-input-6-c4d725b9727e>\u001b[0m in \u001b[0;36msubsets\u001b[1;34m(fullset)\u001b[0m\n\u001b[0;32m      4\u001b[0m         \u001b[1;32myield\u001b[0m \u001b[1;33m[\u001b[0m\u001b[0mitem\u001b[0m\u001b[1;33m]\u001b[0m\u001b[1;33m\u001b[0m\u001b[0m\n\u001b[0;32m      5\u001b[0m         \u001b[1;32mif\u001b[0m \u001b[0mlen\u001b[0m\u001b[1;33m(\u001b[0m\u001b[0mfullset\u001b[0m\u001b[1;33m)\u001b[0m \u001b[1;33m>\u001b[0m \u001b[1;36m1\u001b[0m\u001b[1;33m:\u001b[0m\u001b[1;33m\u001b[0m\u001b[0m\n\u001b[1;32m----> 6\u001b[1;33m             \u001b[1;32mfor\u001b[0m \u001b[0msubset\u001b[0m \u001b[1;32min\u001b[0m \u001b[0msubsets\u001b[0m\u001b[1;33m(\u001b[0m\u001b[0mfullset\u001b[0m\u001b[1;33m[\u001b[0m\u001b[0mi\u001b[0m\u001b[1;33m+\u001b[0m\u001b[1;36m1\u001b[0m\u001b[1;33m:\u001b[0m\u001b[1;33m]\u001b[0m\u001b[1;33m)\u001b[0m\u001b[1;33m:\u001b[0m\u001b[1;33m\u001b[0m\u001b[0m\n\u001b[0m\u001b[0;32m      7\u001b[0m                 \u001b[1;32myield\u001b[0m \u001b[1;33m[\u001b[0m\u001b[0mitem\u001b[0m\u001b[1;33m]\u001b[0m \u001b[1;33m+\u001b[0m \u001b[0msubset\u001b[0m\u001b[1;33m\u001b[0m\u001b[0m\n",
      "\u001b[1;32m<ipython-input-6-c4d725b9727e>\u001b[0m in \u001b[0;36msubsets\u001b[1;34m(fullset)\u001b[0m\n\u001b[0;32m      4\u001b[0m         \u001b[1;32myield\u001b[0m \u001b[1;33m[\u001b[0m\u001b[0mitem\u001b[0m\u001b[1;33m]\u001b[0m\u001b[1;33m\u001b[0m\u001b[0m\n\u001b[0;32m      5\u001b[0m         \u001b[1;32mif\u001b[0m \u001b[0mlen\u001b[0m\u001b[1;33m(\u001b[0m\u001b[0mfullset\u001b[0m\u001b[1;33m)\u001b[0m \u001b[1;33m>\u001b[0m \u001b[1;36m1\u001b[0m\u001b[1;33m:\u001b[0m\u001b[1;33m\u001b[0m\u001b[0m\n\u001b[1;32m----> 6\u001b[1;33m             \u001b[1;32mfor\u001b[0m \u001b[0msubset\u001b[0m \u001b[1;32min\u001b[0m \u001b[0msubsets\u001b[0m\u001b[1;33m(\u001b[0m\u001b[0mfullset\u001b[0m\u001b[1;33m[\u001b[0m\u001b[0mi\u001b[0m\u001b[1;33m+\u001b[0m\u001b[1;36m1\u001b[0m\u001b[1;33m:\u001b[0m\u001b[1;33m]\u001b[0m\u001b[1;33m)\u001b[0m\u001b[1;33m:\u001b[0m\u001b[1;33m\u001b[0m\u001b[0m\n\u001b[0m\u001b[0;32m      7\u001b[0m                 \u001b[1;32myield\u001b[0m \u001b[1;33m[\u001b[0m\u001b[0mitem\u001b[0m\u001b[1;33m]\u001b[0m \u001b[1;33m+\u001b[0m \u001b[0msubset\u001b[0m\u001b[1;33m\u001b[0m\u001b[0m\n",
      "\u001b[1;32m<ipython-input-6-c4d725b9727e>\u001b[0m in \u001b[0;36msubsets\u001b[1;34m(fullset)\u001b[0m\n\u001b[0;32m      4\u001b[0m         \u001b[1;32myield\u001b[0m \u001b[1;33m[\u001b[0m\u001b[0mitem\u001b[0m\u001b[1;33m]\u001b[0m\u001b[1;33m\u001b[0m\u001b[0m\n\u001b[0;32m      5\u001b[0m         \u001b[1;32mif\u001b[0m \u001b[0mlen\u001b[0m\u001b[1;33m(\u001b[0m\u001b[0mfullset\u001b[0m\u001b[1;33m)\u001b[0m \u001b[1;33m>\u001b[0m \u001b[1;36m1\u001b[0m\u001b[1;33m:\u001b[0m\u001b[1;33m\u001b[0m\u001b[0m\n\u001b[1;32m----> 6\u001b[1;33m             \u001b[1;32mfor\u001b[0m \u001b[0msubset\u001b[0m \u001b[1;32min\u001b[0m \u001b[0msubsets\u001b[0m\u001b[1;33m(\u001b[0m\u001b[0mfullset\u001b[0m\u001b[1;33m[\u001b[0m\u001b[0mi\u001b[0m\u001b[1;33m+\u001b[0m\u001b[1;36m1\u001b[0m\u001b[1;33m:\u001b[0m\u001b[1;33m]\u001b[0m\u001b[1;33m)\u001b[0m\u001b[1;33m:\u001b[0m\u001b[1;33m\u001b[0m\u001b[0m\n\u001b[0m\u001b[0;32m      7\u001b[0m                 \u001b[1;32myield\u001b[0m \u001b[1;33m[\u001b[0m\u001b[0mitem\u001b[0m\u001b[1;33m]\u001b[0m \u001b[1;33m+\u001b[0m \u001b[0msubset\u001b[0m\u001b[1;33m\u001b[0m\u001b[0m\n",
      "\u001b[1;32m<ipython-input-6-c4d725b9727e>\u001b[0m in \u001b[0;36msubsets\u001b[1;34m(fullset)\u001b[0m\n\u001b[0;32m      4\u001b[0m         \u001b[1;32myield\u001b[0m \u001b[1;33m[\u001b[0m\u001b[0mitem\u001b[0m\u001b[1;33m]\u001b[0m\u001b[1;33m\u001b[0m\u001b[0m\n\u001b[0;32m      5\u001b[0m         \u001b[1;32mif\u001b[0m \u001b[0mlen\u001b[0m\u001b[1;33m(\u001b[0m\u001b[0mfullset\u001b[0m\u001b[1;33m)\u001b[0m \u001b[1;33m>\u001b[0m \u001b[1;36m1\u001b[0m\u001b[1;33m:\u001b[0m\u001b[1;33m\u001b[0m\u001b[0m\n\u001b[1;32m----> 6\u001b[1;33m             \u001b[1;32mfor\u001b[0m \u001b[0msubset\u001b[0m \u001b[1;32min\u001b[0m \u001b[0msubsets\u001b[0m\u001b[1;33m(\u001b[0m\u001b[0mfullset\u001b[0m\u001b[1;33m[\u001b[0m\u001b[0mi\u001b[0m\u001b[1;33m+\u001b[0m\u001b[1;36m1\u001b[0m\u001b[1;33m:\u001b[0m\u001b[1;33m]\u001b[0m\u001b[1;33m)\u001b[0m\u001b[1;33m:\u001b[0m\u001b[1;33m\u001b[0m\u001b[0m\n\u001b[0m\u001b[0;32m      7\u001b[0m                 \u001b[1;32myield\u001b[0m \u001b[1;33m[\u001b[0m\u001b[0mitem\u001b[0m\u001b[1;33m]\u001b[0m \u001b[1;33m+\u001b[0m \u001b[0msubset\u001b[0m\u001b[1;33m\u001b[0m\u001b[0m\n",
      "\u001b[1;32m<ipython-input-6-c4d725b9727e>\u001b[0m in \u001b[0;36msubsets\u001b[1;34m(fullset)\u001b[0m\n\u001b[0;32m      4\u001b[0m         \u001b[1;32myield\u001b[0m \u001b[1;33m[\u001b[0m\u001b[0mitem\u001b[0m\u001b[1;33m]\u001b[0m\u001b[1;33m\u001b[0m\u001b[0m\n\u001b[0;32m      5\u001b[0m         \u001b[1;32mif\u001b[0m \u001b[0mlen\u001b[0m\u001b[1;33m(\u001b[0m\u001b[0mfullset\u001b[0m\u001b[1;33m)\u001b[0m \u001b[1;33m>\u001b[0m \u001b[1;36m1\u001b[0m\u001b[1;33m:\u001b[0m\u001b[1;33m\u001b[0m\u001b[0m\n\u001b[1;32m----> 6\u001b[1;33m             \u001b[1;32mfor\u001b[0m \u001b[0msubset\u001b[0m \u001b[1;32min\u001b[0m \u001b[0msubsets\u001b[0m\u001b[1;33m(\u001b[0m\u001b[0mfullset\u001b[0m\u001b[1;33m[\u001b[0m\u001b[0mi\u001b[0m\u001b[1;33m+\u001b[0m\u001b[1;36m1\u001b[0m\u001b[1;33m:\u001b[0m\u001b[1;33m]\u001b[0m\u001b[1;33m)\u001b[0m\u001b[1;33m:\u001b[0m\u001b[1;33m\u001b[0m\u001b[0m\n\u001b[0m\u001b[0;32m      7\u001b[0m                 \u001b[1;32myield\u001b[0m \u001b[1;33m[\u001b[0m\u001b[0mitem\u001b[0m\u001b[1;33m]\u001b[0m \u001b[1;33m+\u001b[0m \u001b[0msubset\u001b[0m\u001b[1;33m\u001b[0m\u001b[0m\n",
      "\u001b[1;32m<ipython-input-6-c4d725b9727e>\u001b[0m in \u001b[0;36msubsets\u001b[1;34m(fullset)\u001b[0m\n\u001b[0;32m      4\u001b[0m         \u001b[1;32myield\u001b[0m \u001b[1;33m[\u001b[0m\u001b[0mitem\u001b[0m\u001b[1;33m]\u001b[0m\u001b[1;33m\u001b[0m\u001b[0m\n\u001b[0;32m      5\u001b[0m         \u001b[1;32mif\u001b[0m \u001b[0mlen\u001b[0m\u001b[1;33m(\u001b[0m\u001b[0mfullset\u001b[0m\u001b[1;33m)\u001b[0m \u001b[1;33m>\u001b[0m \u001b[1;36m1\u001b[0m\u001b[1;33m:\u001b[0m\u001b[1;33m\u001b[0m\u001b[0m\n\u001b[1;32m----> 6\u001b[1;33m             \u001b[1;32mfor\u001b[0m \u001b[0msubset\u001b[0m \u001b[1;32min\u001b[0m \u001b[0msubsets\u001b[0m\u001b[1;33m(\u001b[0m\u001b[0mfullset\u001b[0m\u001b[1;33m[\u001b[0m\u001b[0mi\u001b[0m\u001b[1;33m+\u001b[0m\u001b[1;36m1\u001b[0m\u001b[1;33m:\u001b[0m\u001b[1;33m]\u001b[0m\u001b[1;33m)\u001b[0m\u001b[1;33m:\u001b[0m\u001b[1;33m\u001b[0m\u001b[0m\n\u001b[0m\u001b[0;32m      7\u001b[0m                 \u001b[1;32myield\u001b[0m \u001b[1;33m[\u001b[0m\u001b[0mitem\u001b[0m\u001b[1;33m]\u001b[0m \u001b[1;33m+\u001b[0m \u001b[0msubset\u001b[0m\u001b[1;33m\u001b[0m\u001b[0m\n",
      "\u001b[1;32m<ipython-input-6-c4d725b9727e>\u001b[0m in \u001b[0;36msubsets\u001b[1;34m(fullset)\u001b[0m\n\u001b[0;32m      4\u001b[0m         \u001b[1;32myield\u001b[0m \u001b[1;33m[\u001b[0m\u001b[0mitem\u001b[0m\u001b[1;33m]\u001b[0m\u001b[1;33m\u001b[0m\u001b[0m\n\u001b[0;32m      5\u001b[0m         \u001b[1;32mif\u001b[0m \u001b[0mlen\u001b[0m\u001b[1;33m(\u001b[0m\u001b[0mfullset\u001b[0m\u001b[1;33m)\u001b[0m \u001b[1;33m>\u001b[0m \u001b[1;36m1\u001b[0m\u001b[1;33m:\u001b[0m\u001b[1;33m\u001b[0m\u001b[0m\n\u001b[1;32m----> 6\u001b[1;33m             \u001b[1;32mfor\u001b[0m \u001b[0msubset\u001b[0m \u001b[1;32min\u001b[0m \u001b[0msubsets\u001b[0m\u001b[1;33m(\u001b[0m\u001b[0mfullset\u001b[0m\u001b[1;33m[\u001b[0m\u001b[0mi\u001b[0m\u001b[1;33m+\u001b[0m\u001b[1;36m1\u001b[0m\u001b[1;33m:\u001b[0m\u001b[1;33m]\u001b[0m\u001b[1;33m)\u001b[0m\u001b[1;33m:\u001b[0m\u001b[1;33m\u001b[0m\u001b[0m\n\u001b[0m\u001b[0;32m      7\u001b[0m                 \u001b[1;32myield\u001b[0m \u001b[1;33m[\u001b[0m\u001b[0mitem\u001b[0m\u001b[1;33m]\u001b[0m \u001b[1;33m+\u001b[0m \u001b[0msubset\u001b[0m\u001b[1;33m\u001b[0m\u001b[0m\n",
      "\u001b[1;32m<ipython-input-6-c4d725b9727e>\u001b[0m in \u001b[0;36msubsets\u001b[1;34m(fullset)\u001b[0m\n\u001b[0;32m      4\u001b[0m         \u001b[1;32myield\u001b[0m \u001b[1;33m[\u001b[0m\u001b[0mitem\u001b[0m\u001b[1;33m]\u001b[0m\u001b[1;33m\u001b[0m\u001b[0m\n\u001b[0;32m      5\u001b[0m         \u001b[1;32mif\u001b[0m \u001b[0mlen\u001b[0m\u001b[1;33m(\u001b[0m\u001b[0mfullset\u001b[0m\u001b[1;33m)\u001b[0m \u001b[1;33m>\u001b[0m \u001b[1;36m1\u001b[0m\u001b[1;33m:\u001b[0m\u001b[1;33m\u001b[0m\u001b[0m\n\u001b[1;32m----> 6\u001b[1;33m             \u001b[1;32mfor\u001b[0m \u001b[0msubset\u001b[0m \u001b[1;32min\u001b[0m \u001b[0msubsets\u001b[0m\u001b[1;33m(\u001b[0m\u001b[0mfullset\u001b[0m\u001b[1;33m[\u001b[0m\u001b[0mi\u001b[0m\u001b[1;33m+\u001b[0m\u001b[1;36m1\u001b[0m\u001b[1;33m:\u001b[0m\u001b[1;33m]\u001b[0m\u001b[1;33m)\u001b[0m\u001b[1;33m:\u001b[0m\u001b[1;33m\u001b[0m\u001b[0m\n\u001b[0m\u001b[0;32m      7\u001b[0m                 \u001b[1;32myield\u001b[0m \u001b[1;33m[\u001b[0m\u001b[0mitem\u001b[0m\u001b[1;33m]\u001b[0m \u001b[1;33m+\u001b[0m \u001b[0msubset\u001b[0m\u001b[1;33m\u001b[0m\u001b[0m\n",
      "\u001b[1;32m<ipython-input-6-c4d725b9727e>\u001b[0m in \u001b[0;36msubsets\u001b[1;34m(fullset)\u001b[0m\n\u001b[0;32m      4\u001b[0m         \u001b[1;32myield\u001b[0m \u001b[1;33m[\u001b[0m\u001b[0mitem\u001b[0m\u001b[1;33m]\u001b[0m\u001b[1;33m\u001b[0m\u001b[0m\n\u001b[0;32m      5\u001b[0m         \u001b[1;32mif\u001b[0m \u001b[0mlen\u001b[0m\u001b[1;33m(\u001b[0m\u001b[0mfullset\u001b[0m\u001b[1;33m)\u001b[0m \u001b[1;33m>\u001b[0m \u001b[1;36m1\u001b[0m\u001b[1;33m:\u001b[0m\u001b[1;33m\u001b[0m\u001b[0m\n\u001b[1;32m----> 6\u001b[1;33m             \u001b[1;32mfor\u001b[0m \u001b[0msubset\u001b[0m \u001b[1;32min\u001b[0m \u001b[0msubsets\u001b[0m\u001b[1;33m(\u001b[0m\u001b[0mfullset\u001b[0m\u001b[1;33m[\u001b[0m\u001b[0mi\u001b[0m\u001b[1;33m+\u001b[0m\u001b[1;36m1\u001b[0m\u001b[1;33m:\u001b[0m\u001b[1;33m]\u001b[0m\u001b[1;33m)\u001b[0m\u001b[1;33m:\u001b[0m\u001b[1;33m\u001b[0m\u001b[0m\n\u001b[0m\u001b[0;32m      7\u001b[0m                 \u001b[1;32myield\u001b[0m \u001b[1;33m[\u001b[0m\u001b[0mitem\u001b[0m\u001b[1;33m]\u001b[0m \u001b[1;33m+\u001b[0m \u001b[0msubset\u001b[0m\u001b[1;33m\u001b[0m\u001b[0m\n",
      "\u001b[1;32m<ipython-input-6-c4d725b9727e>\u001b[0m in \u001b[0;36msubsets\u001b[1;34m(fullset)\u001b[0m\n\u001b[0;32m      4\u001b[0m         \u001b[1;32myield\u001b[0m \u001b[1;33m[\u001b[0m\u001b[0mitem\u001b[0m\u001b[1;33m]\u001b[0m\u001b[1;33m\u001b[0m\u001b[0m\n\u001b[0;32m      5\u001b[0m         \u001b[1;32mif\u001b[0m \u001b[0mlen\u001b[0m\u001b[1;33m(\u001b[0m\u001b[0mfullset\u001b[0m\u001b[1;33m)\u001b[0m \u001b[1;33m>\u001b[0m \u001b[1;36m1\u001b[0m\u001b[1;33m:\u001b[0m\u001b[1;33m\u001b[0m\u001b[0m\n\u001b[1;32m----> 6\u001b[1;33m             \u001b[1;32mfor\u001b[0m \u001b[0msubset\u001b[0m \u001b[1;32min\u001b[0m \u001b[0msubsets\u001b[0m\u001b[1;33m(\u001b[0m\u001b[0mfullset\u001b[0m\u001b[1;33m[\u001b[0m\u001b[0mi\u001b[0m\u001b[1;33m+\u001b[0m\u001b[1;36m1\u001b[0m\u001b[1;33m:\u001b[0m\u001b[1;33m]\u001b[0m\u001b[1;33m)\u001b[0m\u001b[1;33m:\u001b[0m\u001b[1;33m\u001b[0m\u001b[0m\n\u001b[0m\u001b[0;32m      7\u001b[0m                 \u001b[1;32myield\u001b[0m \u001b[1;33m[\u001b[0m\u001b[0mitem\u001b[0m\u001b[1;33m]\u001b[0m \u001b[1;33m+\u001b[0m \u001b[0msubset\u001b[0m\u001b[1;33m\u001b[0m\u001b[0m\n",
      "\u001b[1;32m<ipython-input-6-c4d725b9727e>\u001b[0m in \u001b[0;36msubsets\u001b[1;34m(fullset)\u001b[0m\n\u001b[0;32m      4\u001b[0m         \u001b[1;32myield\u001b[0m \u001b[1;33m[\u001b[0m\u001b[0mitem\u001b[0m\u001b[1;33m]\u001b[0m\u001b[1;33m\u001b[0m\u001b[0m\n\u001b[0;32m      5\u001b[0m         \u001b[1;32mif\u001b[0m \u001b[0mlen\u001b[0m\u001b[1;33m(\u001b[0m\u001b[0mfullset\u001b[0m\u001b[1;33m)\u001b[0m \u001b[1;33m>\u001b[0m \u001b[1;36m1\u001b[0m\u001b[1;33m:\u001b[0m\u001b[1;33m\u001b[0m\u001b[0m\n\u001b[1;32m----> 6\u001b[1;33m             \u001b[1;32mfor\u001b[0m \u001b[0msubset\u001b[0m \u001b[1;32min\u001b[0m \u001b[0msubsets\u001b[0m\u001b[1;33m(\u001b[0m\u001b[0mfullset\u001b[0m\u001b[1;33m[\u001b[0m\u001b[0mi\u001b[0m\u001b[1;33m+\u001b[0m\u001b[1;36m1\u001b[0m\u001b[1;33m:\u001b[0m\u001b[1;33m]\u001b[0m\u001b[1;33m)\u001b[0m\u001b[1;33m:\u001b[0m\u001b[1;33m\u001b[0m\u001b[0m\n\u001b[0m\u001b[0;32m      7\u001b[0m                 \u001b[1;32myield\u001b[0m \u001b[1;33m[\u001b[0m\u001b[0mitem\u001b[0m\u001b[1;33m]\u001b[0m \u001b[1;33m+\u001b[0m \u001b[0msubset\u001b[0m\u001b[1;33m\u001b[0m\u001b[0m\n",
      "\u001b[1;32m<ipython-input-6-c4d725b9727e>\u001b[0m in \u001b[0;36msubsets\u001b[1;34m(fullset)\u001b[0m\n\u001b[0;32m      4\u001b[0m         \u001b[1;32myield\u001b[0m \u001b[1;33m[\u001b[0m\u001b[0mitem\u001b[0m\u001b[1;33m]\u001b[0m\u001b[1;33m\u001b[0m\u001b[0m\n\u001b[0;32m      5\u001b[0m         \u001b[1;32mif\u001b[0m \u001b[0mlen\u001b[0m\u001b[1;33m(\u001b[0m\u001b[0mfullset\u001b[0m\u001b[1;33m)\u001b[0m \u001b[1;33m>\u001b[0m \u001b[1;36m1\u001b[0m\u001b[1;33m:\u001b[0m\u001b[1;33m\u001b[0m\u001b[0m\n\u001b[1;32m----> 6\u001b[1;33m             \u001b[1;32mfor\u001b[0m \u001b[0msubset\u001b[0m \u001b[1;32min\u001b[0m \u001b[0msubsets\u001b[0m\u001b[1;33m(\u001b[0m\u001b[0mfullset\u001b[0m\u001b[1;33m[\u001b[0m\u001b[0mi\u001b[0m\u001b[1;33m+\u001b[0m\u001b[1;36m1\u001b[0m\u001b[1;33m:\u001b[0m\u001b[1;33m]\u001b[0m\u001b[1;33m)\u001b[0m\u001b[1;33m:\u001b[0m\u001b[1;33m\u001b[0m\u001b[0m\n\u001b[0m\u001b[0;32m      7\u001b[0m                 \u001b[1;32myield\u001b[0m \u001b[1;33m[\u001b[0m\u001b[0mitem\u001b[0m\u001b[1;33m]\u001b[0m \u001b[1;33m+\u001b[0m \u001b[0msubset\u001b[0m\u001b[1;33m\u001b[0m\u001b[0m\n",
      "\u001b[1;32m<ipython-input-6-c4d725b9727e>\u001b[0m in \u001b[0;36msubsets\u001b[1;34m(fullset)\u001b[0m\n\u001b[0;32m      4\u001b[0m         \u001b[1;32myield\u001b[0m \u001b[1;33m[\u001b[0m\u001b[0mitem\u001b[0m\u001b[1;33m]\u001b[0m\u001b[1;33m\u001b[0m\u001b[0m\n\u001b[0;32m      5\u001b[0m         \u001b[1;32mif\u001b[0m \u001b[0mlen\u001b[0m\u001b[1;33m(\u001b[0m\u001b[0mfullset\u001b[0m\u001b[1;33m)\u001b[0m \u001b[1;33m>\u001b[0m \u001b[1;36m1\u001b[0m\u001b[1;33m:\u001b[0m\u001b[1;33m\u001b[0m\u001b[0m\n\u001b[1;32m----> 6\u001b[1;33m             \u001b[1;32mfor\u001b[0m \u001b[0msubset\u001b[0m \u001b[1;32min\u001b[0m \u001b[0msubsets\u001b[0m\u001b[1;33m(\u001b[0m\u001b[0mfullset\u001b[0m\u001b[1;33m[\u001b[0m\u001b[0mi\u001b[0m\u001b[1;33m+\u001b[0m\u001b[1;36m1\u001b[0m\u001b[1;33m:\u001b[0m\u001b[1;33m]\u001b[0m\u001b[1;33m)\u001b[0m\u001b[1;33m:\u001b[0m\u001b[1;33m\u001b[0m\u001b[0m\n\u001b[0m\u001b[0;32m      7\u001b[0m                 \u001b[1;32myield\u001b[0m \u001b[1;33m[\u001b[0m\u001b[0mitem\u001b[0m\u001b[1;33m]\u001b[0m \u001b[1;33m+\u001b[0m \u001b[0msubset\u001b[0m\u001b[1;33m\u001b[0m\u001b[0m\n",
      "\u001b[1;32m<ipython-input-6-c4d725b9727e>\u001b[0m in \u001b[0;36msubsets\u001b[1;34m(fullset)\u001b[0m\n\u001b[0;32m      4\u001b[0m         \u001b[1;32myield\u001b[0m \u001b[1;33m[\u001b[0m\u001b[0mitem\u001b[0m\u001b[1;33m]\u001b[0m\u001b[1;33m\u001b[0m\u001b[0m\n\u001b[0;32m      5\u001b[0m         \u001b[1;32mif\u001b[0m \u001b[0mlen\u001b[0m\u001b[1;33m(\u001b[0m\u001b[0mfullset\u001b[0m\u001b[1;33m)\u001b[0m \u001b[1;33m>\u001b[0m \u001b[1;36m1\u001b[0m\u001b[1;33m:\u001b[0m\u001b[1;33m\u001b[0m\u001b[0m\n\u001b[1;32m----> 6\u001b[1;33m             \u001b[1;32mfor\u001b[0m \u001b[0msubset\u001b[0m \u001b[1;32min\u001b[0m \u001b[0msubsets\u001b[0m\u001b[1;33m(\u001b[0m\u001b[0mfullset\u001b[0m\u001b[1;33m[\u001b[0m\u001b[0mi\u001b[0m\u001b[1;33m+\u001b[0m\u001b[1;36m1\u001b[0m\u001b[1;33m:\u001b[0m\u001b[1;33m]\u001b[0m\u001b[1;33m)\u001b[0m\u001b[1;33m:\u001b[0m\u001b[1;33m\u001b[0m\u001b[0m\n\u001b[0m\u001b[0;32m      7\u001b[0m                 \u001b[1;32myield\u001b[0m \u001b[1;33m[\u001b[0m\u001b[0mitem\u001b[0m\u001b[1;33m]\u001b[0m \u001b[1;33m+\u001b[0m \u001b[0msubset\u001b[0m\u001b[1;33m\u001b[0m\u001b[0m\n",
      "\u001b[1;32m<ipython-input-6-c4d725b9727e>\u001b[0m in \u001b[0;36msubsets\u001b[1;34m(fullset)\u001b[0m\n\u001b[0;32m      4\u001b[0m         \u001b[1;32myield\u001b[0m \u001b[1;33m[\u001b[0m\u001b[0mitem\u001b[0m\u001b[1;33m]\u001b[0m\u001b[1;33m\u001b[0m\u001b[0m\n\u001b[0;32m      5\u001b[0m         \u001b[1;32mif\u001b[0m \u001b[0mlen\u001b[0m\u001b[1;33m(\u001b[0m\u001b[0mfullset\u001b[0m\u001b[1;33m)\u001b[0m \u001b[1;33m>\u001b[0m \u001b[1;36m1\u001b[0m\u001b[1;33m:\u001b[0m\u001b[1;33m\u001b[0m\u001b[0m\n\u001b[1;32m----> 6\u001b[1;33m             \u001b[1;32mfor\u001b[0m \u001b[0msubset\u001b[0m \u001b[1;32min\u001b[0m \u001b[0msubsets\u001b[0m\u001b[1;33m(\u001b[0m\u001b[0mfullset\u001b[0m\u001b[1;33m[\u001b[0m\u001b[0mi\u001b[0m\u001b[1;33m+\u001b[0m\u001b[1;36m1\u001b[0m\u001b[1;33m:\u001b[0m\u001b[1;33m]\u001b[0m\u001b[1;33m)\u001b[0m\u001b[1;33m:\u001b[0m\u001b[1;33m\u001b[0m\u001b[0m\n\u001b[0m\u001b[0;32m      7\u001b[0m                 \u001b[1;32myield\u001b[0m \u001b[1;33m[\u001b[0m\u001b[0mitem\u001b[0m\u001b[1;33m]\u001b[0m \u001b[1;33m+\u001b[0m \u001b[0msubset\u001b[0m\u001b[1;33m\u001b[0m\u001b[0m\n",
      "\u001b[1;32m<ipython-input-6-c4d725b9727e>\u001b[0m in \u001b[0;36msubsets\u001b[1;34m(fullset)\u001b[0m\n\u001b[0;32m      4\u001b[0m         \u001b[1;32myield\u001b[0m \u001b[1;33m[\u001b[0m\u001b[0mitem\u001b[0m\u001b[1;33m]\u001b[0m\u001b[1;33m\u001b[0m\u001b[0m\n\u001b[0;32m      5\u001b[0m         \u001b[1;32mif\u001b[0m \u001b[0mlen\u001b[0m\u001b[1;33m(\u001b[0m\u001b[0mfullset\u001b[0m\u001b[1;33m)\u001b[0m \u001b[1;33m>\u001b[0m \u001b[1;36m1\u001b[0m\u001b[1;33m:\u001b[0m\u001b[1;33m\u001b[0m\u001b[0m\n\u001b[1;32m----> 6\u001b[1;33m             \u001b[1;32mfor\u001b[0m \u001b[0msubset\u001b[0m \u001b[1;32min\u001b[0m \u001b[0msubsets\u001b[0m\u001b[1;33m(\u001b[0m\u001b[0mfullset\u001b[0m\u001b[1;33m[\u001b[0m\u001b[0mi\u001b[0m\u001b[1;33m+\u001b[0m\u001b[1;36m1\u001b[0m\u001b[1;33m:\u001b[0m\u001b[1;33m]\u001b[0m\u001b[1;33m)\u001b[0m\u001b[1;33m:\u001b[0m\u001b[1;33m\u001b[0m\u001b[0m\n\u001b[0m\u001b[0;32m      7\u001b[0m                 \u001b[1;32myield\u001b[0m \u001b[1;33m[\u001b[0m\u001b[0mitem\u001b[0m\u001b[1;33m]\u001b[0m \u001b[1;33m+\u001b[0m \u001b[0msubset\u001b[0m\u001b[1;33m\u001b[0m\u001b[0m\n",
      "\u001b[1;32m<ipython-input-6-c4d725b9727e>\u001b[0m in \u001b[0;36msubsets\u001b[1;34m(fullset)\u001b[0m\n\u001b[0;32m      4\u001b[0m         \u001b[1;32myield\u001b[0m \u001b[1;33m[\u001b[0m\u001b[0mitem\u001b[0m\u001b[1;33m]\u001b[0m\u001b[1;33m\u001b[0m\u001b[0m\n\u001b[0;32m      5\u001b[0m         \u001b[1;32mif\u001b[0m \u001b[0mlen\u001b[0m\u001b[1;33m(\u001b[0m\u001b[0mfullset\u001b[0m\u001b[1;33m)\u001b[0m \u001b[1;33m>\u001b[0m \u001b[1;36m1\u001b[0m\u001b[1;33m:\u001b[0m\u001b[1;33m\u001b[0m\u001b[0m\n\u001b[1;32m----> 6\u001b[1;33m             \u001b[1;32mfor\u001b[0m \u001b[0msubset\u001b[0m \u001b[1;32min\u001b[0m \u001b[0msubsets\u001b[0m\u001b[1;33m(\u001b[0m\u001b[0mfullset\u001b[0m\u001b[1;33m[\u001b[0m\u001b[0mi\u001b[0m\u001b[1;33m+\u001b[0m\u001b[1;36m1\u001b[0m\u001b[1;33m:\u001b[0m\u001b[1;33m]\u001b[0m\u001b[1;33m)\u001b[0m\u001b[1;33m:\u001b[0m\u001b[1;33m\u001b[0m\u001b[0m\n\u001b[0m\u001b[0;32m      7\u001b[0m                 \u001b[1;32myield\u001b[0m \u001b[1;33m[\u001b[0m\u001b[0mitem\u001b[0m\u001b[1;33m]\u001b[0m \u001b[1;33m+\u001b[0m \u001b[0msubset\u001b[0m\u001b[1;33m\u001b[0m\u001b[0m\n",
      "\u001b[1;32m<ipython-input-6-c4d725b9727e>\u001b[0m in \u001b[0;36msubsets\u001b[1;34m(fullset)\u001b[0m\n\u001b[0;32m      4\u001b[0m         \u001b[1;32myield\u001b[0m \u001b[1;33m[\u001b[0m\u001b[0mitem\u001b[0m\u001b[1;33m]\u001b[0m\u001b[1;33m\u001b[0m\u001b[0m\n\u001b[0;32m      5\u001b[0m         \u001b[1;32mif\u001b[0m \u001b[0mlen\u001b[0m\u001b[1;33m(\u001b[0m\u001b[0mfullset\u001b[0m\u001b[1;33m)\u001b[0m \u001b[1;33m>\u001b[0m \u001b[1;36m1\u001b[0m\u001b[1;33m:\u001b[0m\u001b[1;33m\u001b[0m\u001b[0m\n\u001b[1;32m----> 6\u001b[1;33m             \u001b[1;32mfor\u001b[0m \u001b[0msubset\u001b[0m \u001b[1;32min\u001b[0m \u001b[0msubsets\u001b[0m\u001b[1;33m(\u001b[0m\u001b[0mfullset\u001b[0m\u001b[1;33m[\u001b[0m\u001b[0mi\u001b[0m\u001b[1;33m+\u001b[0m\u001b[1;36m1\u001b[0m\u001b[1;33m:\u001b[0m\u001b[1;33m]\u001b[0m\u001b[1;33m)\u001b[0m\u001b[1;33m:\u001b[0m\u001b[1;33m\u001b[0m\u001b[0m\n\u001b[0m\u001b[0;32m      7\u001b[0m                 \u001b[1;32myield\u001b[0m \u001b[1;33m[\u001b[0m\u001b[0mitem\u001b[0m\u001b[1;33m]\u001b[0m \u001b[1;33m+\u001b[0m \u001b[0msubset\u001b[0m\u001b[1;33m\u001b[0m\u001b[0m\n",
      "\u001b[1;32m<ipython-input-6-c4d725b9727e>\u001b[0m in \u001b[0;36msubsets\u001b[1;34m(fullset)\u001b[0m\n\u001b[0;32m      4\u001b[0m         \u001b[1;32myield\u001b[0m \u001b[1;33m[\u001b[0m\u001b[0mitem\u001b[0m\u001b[1;33m]\u001b[0m\u001b[1;33m\u001b[0m\u001b[0m\n\u001b[0;32m      5\u001b[0m         \u001b[1;32mif\u001b[0m \u001b[0mlen\u001b[0m\u001b[1;33m(\u001b[0m\u001b[0mfullset\u001b[0m\u001b[1;33m)\u001b[0m \u001b[1;33m>\u001b[0m \u001b[1;36m1\u001b[0m\u001b[1;33m:\u001b[0m\u001b[1;33m\u001b[0m\u001b[0m\n\u001b[1;32m----> 6\u001b[1;33m             \u001b[1;32mfor\u001b[0m \u001b[0msubset\u001b[0m \u001b[1;32min\u001b[0m \u001b[0msubsets\u001b[0m\u001b[1;33m(\u001b[0m\u001b[0mfullset\u001b[0m\u001b[1;33m[\u001b[0m\u001b[0mi\u001b[0m\u001b[1;33m+\u001b[0m\u001b[1;36m1\u001b[0m\u001b[1;33m:\u001b[0m\u001b[1;33m]\u001b[0m\u001b[1;33m)\u001b[0m\u001b[1;33m:\u001b[0m\u001b[1;33m\u001b[0m\u001b[0m\n\u001b[0m\u001b[0;32m      7\u001b[0m                 \u001b[1;32myield\u001b[0m \u001b[1;33m[\u001b[0m\u001b[0mitem\u001b[0m\u001b[1;33m]\u001b[0m \u001b[1;33m+\u001b[0m \u001b[0msubset\u001b[0m\u001b[1;33m\u001b[0m\u001b[0m\n",
      "\u001b[1;32m<ipython-input-6-c4d725b9727e>\u001b[0m in \u001b[0;36msubsets\u001b[1;34m(fullset)\u001b[0m\n\u001b[0;32m      4\u001b[0m         \u001b[1;32myield\u001b[0m \u001b[1;33m[\u001b[0m\u001b[0mitem\u001b[0m\u001b[1;33m]\u001b[0m\u001b[1;33m\u001b[0m\u001b[0m\n\u001b[0;32m      5\u001b[0m         \u001b[1;32mif\u001b[0m \u001b[0mlen\u001b[0m\u001b[1;33m(\u001b[0m\u001b[0mfullset\u001b[0m\u001b[1;33m)\u001b[0m \u001b[1;33m>\u001b[0m \u001b[1;36m1\u001b[0m\u001b[1;33m:\u001b[0m\u001b[1;33m\u001b[0m\u001b[0m\n\u001b[1;32m----> 6\u001b[1;33m             \u001b[1;32mfor\u001b[0m \u001b[0msubset\u001b[0m \u001b[1;32min\u001b[0m \u001b[0msubsets\u001b[0m\u001b[1;33m(\u001b[0m\u001b[0mfullset\u001b[0m\u001b[1;33m[\u001b[0m\u001b[0mi\u001b[0m\u001b[1;33m+\u001b[0m\u001b[1;36m1\u001b[0m\u001b[1;33m:\u001b[0m\u001b[1;33m]\u001b[0m\u001b[1;33m)\u001b[0m\u001b[1;33m:\u001b[0m\u001b[1;33m\u001b[0m\u001b[0m\n\u001b[0m\u001b[0;32m      7\u001b[0m                 \u001b[1;32myield\u001b[0m \u001b[1;33m[\u001b[0m\u001b[0mitem\u001b[0m\u001b[1;33m]\u001b[0m \u001b[1;33m+\u001b[0m \u001b[0msubset\u001b[0m\u001b[1;33m\u001b[0m\u001b[0m\n",
      "\u001b[1;32m<ipython-input-6-c4d725b9727e>\u001b[0m in \u001b[0;36msubsets\u001b[1;34m(fullset)\u001b[0m\n\u001b[0;32m      4\u001b[0m         \u001b[1;32myield\u001b[0m \u001b[1;33m[\u001b[0m\u001b[0mitem\u001b[0m\u001b[1;33m]\u001b[0m\u001b[1;33m\u001b[0m\u001b[0m\n\u001b[0;32m      5\u001b[0m         \u001b[1;32mif\u001b[0m \u001b[0mlen\u001b[0m\u001b[1;33m(\u001b[0m\u001b[0mfullset\u001b[0m\u001b[1;33m)\u001b[0m \u001b[1;33m>\u001b[0m \u001b[1;36m1\u001b[0m\u001b[1;33m:\u001b[0m\u001b[1;33m\u001b[0m\u001b[0m\n\u001b[1;32m----> 6\u001b[1;33m             \u001b[1;32mfor\u001b[0m \u001b[0msubset\u001b[0m \u001b[1;32min\u001b[0m \u001b[0msubsets\u001b[0m\u001b[1;33m(\u001b[0m\u001b[0mfullset\u001b[0m\u001b[1;33m[\u001b[0m\u001b[0mi\u001b[0m\u001b[1;33m+\u001b[0m\u001b[1;36m1\u001b[0m\u001b[1;33m:\u001b[0m\u001b[1;33m]\u001b[0m\u001b[1;33m)\u001b[0m\u001b[1;33m:\u001b[0m\u001b[1;33m\u001b[0m\u001b[0m\n\u001b[0m\u001b[0;32m      7\u001b[0m                 \u001b[1;32myield\u001b[0m \u001b[1;33m[\u001b[0m\u001b[0mitem\u001b[0m\u001b[1;33m]\u001b[0m \u001b[1;33m+\u001b[0m \u001b[0msubset\u001b[0m\u001b[1;33m\u001b[0m\u001b[0m\n",
      "\u001b[1;32m<ipython-input-6-c4d725b9727e>\u001b[0m in \u001b[0;36msubsets\u001b[1;34m(fullset)\u001b[0m\n\u001b[0;32m      4\u001b[0m         \u001b[1;32myield\u001b[0m \u001b[1;33m[\u001b[0m\u001b[0mitem\u001b[0m\u001b[1;33m]\u001b[0m\u001b[1;33m\u001b[0m\u001b[0m\n\u001b[0;32m      5\u001b[0m         \u001b[1;32mif\u001b[0m \u001b[0mlen\u001b[0m\u001b[1;33m(\u001b[0m\u001b[0mfullset\u001b[0m\u001b[1;33m)\u001b[0m \u001b[1;33m>\u001b[0m \u001b[1;36m1\u001b[0m\u001b[1;33m:\u001b[0m\u001b[1;33m\u001b[0m\u001b[0m\n\u001b[1;32m----> 6\u001b[1;33m             \u001b[1;32mfor\u001b[0m \u001b[0msubset\u001b[0m \u001b[1;32min\u001b[0m \u001b[0msubsets\u001b[0m\u001b[1;33m(\u001b[0m\u001b[0mfullset\u001b[0m\u001b[1;33m[\u001b[0m\u001b[0mi\u001b[0m\u001b[1;33m+\u001b[0m\u001b[1;36m1\u001b[0m\u001b[1;33m:\u001b[0m\u001b[1;33m]\u001b[0m\u001b[1;33m)\u001b[0m\u001b[1;33m:\u001b[0m\u001b[1;33m\u001b[0m\u001b[0m\n\u001b[0m\u001b[0;32m      7\u001b[0m                 \u001b[1;32myield\u001b[0m \u001b[1;33m[\u001b[0m\u001b[0mitem\u001b[0m\u001b[1;33m]\u001b[0m \u001b[1;33m+\u001b[0m \u001b[0msubset\u001b[0m\u001b[1;33m\u001b[0m\u001b[0m\n",
      "\u001b[1;32m<ipython-input-6-c4d725b9727e>\u001b[0m in \u001b[0;36msubsets\u001b[1;34m(fullset)\u001b[0m\n\u001b[0;32m      4\u001b[0m         \u001b[1;32myield\u001b[0m \u001b[1;33m[\u001b[0m\u001b[0mitem\u001b[0m\u001b[1;33m]\u001b[0m\u001b[1;33m\u001b[0m\u001b[0m\n\u001b[0;32m      5\u001b[0m         \u001b[1;32mif\u001b[0m \u001b[0mlen\u001b[0m\u001b[1;33m(\u001b[0m\u001b[0mfullset\u001b[0m\u001b[1;33m)\u001b[0m \u001b[1;33m>\u001b[0m \u001b[1;36m1\u001b[0m\u001b[1;33m:\u001b[0m\u001b[1;33m\u001b[0m\u001b[0m\n\u001b[1;32m----> 6\u001b[1;33m             \u001b[1;32mfor\u001b[0m \u001b[0msubset\u001b[0m \u001b[1;32min\u001b[0m \u001b[0msubsets\u001b[0m\u001b[1;33m(\u001b[0m\u001b[0mfullset\u001b[0m\u001b[1;33m[\u001b[0m\u001b[0mi\u001b[0m\u001b[1;33m+\u001b[0m\u001b[1;36m1\u001b[0m\u001b[1;33m:\u001b[0m\u001b[1;33m]\u001b[0m\u001b[1;33m)\u001b[0m\u001b[1;33m:\u001b[0m\u001b[1;33m\u001b[0m\u001b[0m\n\u001b[0m\u001b[0;32m      7\u001b[0m                 \u001b[1;32myield\u001b[0m \u001b[1;33m[\u001b[0m\u001b[0mitem\u001b[0m\u001b[1;33m]\u001b[0m \u001b[1;33m+\u001b[0m \u001b[0msubset\u001b[0m\u001b[1;33m\u001b[0m\u001b[0m\n",
      "\u001b[1;32m<ipython-input-6-c4d725b9727e>\u001b[0m in \u001b[0;36msubsets\u001b[1;34m(fullset)\u001b[0m\n\u001b[0;32m      4\u001b[0m         \u001b[1;32myield\u001b[0m \u001b[1;33m[\u001b[0m\u001b[0mitem\u001b[0m\u001b[1;33m]\u001b[0m\u001b[1;33m\u001b[0m\u001b[0m\n\u001b[0;32m      5\u001b[0m         \u001b[1;32mif\u001b[0m \u001b[0mlen\u001b[0m\u001b[1;33m(\u001b[0m\u001b[0mfullset\u001b[0m\u001b[1;33m)\u001b[0m \u001b[1;33m>\u001b[0m \u001b[1;36m1\u001b[0m\u001b[1;33m:\u001b[0m\u001b[1;33m\u001b[0m\u001b[0m\n\u001b[1;32m----> 6\u001b[1;33m             \u001b[1;32mfor\u001b[0m \u001b[0msubset\u001b[0m \u001b[1;32min\u001b[0m \u001b[0msubsets\u001b[0m\u001b[1;33m(\u001b[0m\u001b[0mfullset\u001b[0m\u001b[1;33m[\u001b[0m\u001b[0mi\u001b[0m\u001b[1;33m+\u001b[0m\u001b[1;36m1\u001b[0m\u001b[1;33m:\u001b[0m\u001b[1;33m]\u001b[0m\u001b[1;33m)\u001b[0m\u001b[1;33m:\u001b[0m\u001b[1;33m\u001b[0m\u001b[0m\n\u001b[0m\u001b[0;32m      7\u001b[0m                 \u001b[1;32myield\u001b[0m \u001b[1;33m[\u001b[0m\u001b[0mitem\u001b[0m\u001b[1;33m]\u001b[0m \u001b[1;33m+\u001b[0m \u001b[0msubset\u001b[0m\u001b[1;33m\u001b[0m\u001b[0m\n",
      "\u001b[1;32m<ipython-input-6-c4d725b9727e>\u001b[0m in \u001b[0;36msubsets\u001b[1;34m(fullset)\u001b[0m\n\u001b[0;32m      4\u001b[0m         \u001b[1;32myield\u001b[0m \u001b[1;33m[\u001b[0m\u001b[0mitem\u001b[0m\u001b[1;33m]\u001b[0m\u001b[1;33m\u001b[0m\u001b[0m\n\u001b[0;32m      5\u001b[0m         \u001b[1;32mif\u001b[0m \u001b[0mlen\u001b[0m\u001b[1;33m(\u001b[0m\u001b[0mfullset\u001b[0m\u001b[1;33m)\u001b[0m \u001b[1;33m>\u001b[0m \u001b[1;36m1\u001b[0m\u001b[1;33m:\u001b[0m\u001b[1;33m\u001b[0m\u001b[0m\n\u001b[1;32m----> 6\u001b[1;33m             \u001b[1;32mfor\u001b[0m \u001b[0msubset\u001b[0m \u001b[1;32min\u001b[0m \u001b[0msubsets\u001b[0m\u001b[1;33m(\u001b[0m\u001b[0mfullset\u001b[0m\u001b[1;33m[\u001b[0m\u001b[0mi\u001b[0m\u001b[1;33m+\u001b[0m\u001b[1;36m1\u001b[0m\u001b[1;33m:\u001b[0m\u001b[1;33m]\u001b[0m\u001b[1;33m)\u001b[0m\u001b[1;33m:\u001b[0m\u001b[1;33m\u001b[0m\u001b[0m\n\u001b[0m\u001b[0;32m      7\u001b[0m                 \u001b[1;32myield\u001b[0m \u001b[1;33m[\u001b[0m\u001b[0mitem\u001b[0m\u001b[1;33m]\u001b[0m \u001b[1;33m+\u001b[0m \u001b[0msubset\u001b[0m\u001b[1;33m\u001b[0m\u001b[0m\n",
      "\u001b[1;32m<ipython-input-6-c4d725b9727e>\u001b[0m in \u001b[0;36msubsets\u001b[1;34m(fullset)\u001b[0m\n\u001b[0;32m      4\u001b[0m         \u001b[1;32myield\u001b[0m \u001b[1;33m[\u001b[0m\u001b[0mitem\u001b[0m\u001b[1;33m]\u001b[0m\u001b[1;33m\u001b[0m\u001b[0m\n\u001b[0;32m      5\u001b[0m         \u001b[1;32mif\u001b[0m \u001b[0mlen\u001b[0m\u001b[1;33m(\u001b[0m\u001b[0mfullset\u001b[0m\u001b[1;33m)\u001b[0m \u001b[1;33m>\u001b[0m \u001b[1;36m1\u001b[0m\u001b[1;33m:\u001b[0m\u001b[1;33m\u001b[0m\u001b[0m\n\u001b[1;32m----> 6\u001b[1;33m             \u001b[1;32mfor\u001b[0m \u001b[0msubset\u001b[0m \u001b[1;32min\u001b[0m \u001b[0msubsets\u001b[0m\u001b[1;33m(\u001b[0m\u001b[0mfullset\u001b[0m\u001b[1;33m[\u001b[0m\u001b[0mi\u001b[0m\u001b[1;33m+\u001b[0m\u001b[1;36m1\u001b[0m\u001b[1;33m:\u001b[0m\u001b[1;33m]\u001b[0m\u001b[1;33m)\u001b[0m\u001b[1;33m:\u001b[0m\u001b[1;33m\u001b[0m\u001b[0m\n\u001b[0m\u001b[0;32m      7\u001b[0m                 \u001b[1;32myield\u001b[0m \u001b[1;33m[\u001b[0m\u001b[0mitem\u001b[0m\u001b[1;33m]\u001b[0m \u001b[1;33m+\u001b[0m \u001b[0msubset\u001b[0m\u001b[1;33m\u001b[0m\u001b[0m\n",
      "\u001b[1;32m<ipython-input-6-c4d725b9727e>\u001b[0m in \u001b[0;36msubsets\u001b[1;34m(fullset)\u001b[0m\n\u001b[0;32m      4\u001b[0m         \u001b[1;32myield\u001b[0m \u001b[1;33m[\u001b[0m\u001b[0mitem\u001b[0m\u001b[1;33m]\u001b[0m\u001b[1;33m\u001b[0m\u001b[0m\n\u001b[0;32m      5\u001b[0m         \u001b[1;32mif\u001b[0m \u001b[0mlen\u001b[0m\u001b[1;33m(\u001b[0m\u001b[0mfullset\u001b[0m\u001b[1;33m)\u001b[0m \u001b[1;33m>\u001b[0m \u001b[1;36m1\u001b[0m\u001b[1;33m:\u001b[0m\u001b[1;33m\u001b[0m\u001b[0m\n\u001b[1;32m----> 6\u001b[1;33m             \u001b[1;32mfor\u001b[0m \u001b[0msubset\u001b[0m \u001b[1;32min\u001b[0m \u001b[0msubsets\u001b[0m\u001b[1;33m(\u001b[0m\u001b[0mfullset\u001b[0m\u001b[1;33m[\u001b[0m\u001b[0mi\u001b[0m\u001b[1;33m+\u001b[0m\u001b[1;36m1\u001b[0m\u001b[1;33m:\u001b[0m\u001b[1;33m]\u001b[0m\u001b[1;33m)\u001b[0m\u001b[1;33m:\u001b[0m\u001b[1;33m\u001b[0m\u001b[0m\n\u001b[0m\u001b[0;32m      7\u001b[0m                 \u001b[1;32myield\u001b[0m \u001b[1;33m[\u001b[0m\u001b[0mitem\u001b[0m\u001b[1;33m]\u001b[0m \u001b[1;33m+\u001b[0m \u001b[0msubset\u001b[0m\u001b[1;33m\u001b[0m\u001b[0m\n",
      "\u001b[1;32m<ipython-input-6-c4d725b9727e>\u001b[0m in \u001b[0;36msubsets\u001b[1;34m(fullset)\u001b[0m\n\u001b[0;32m      4\u001b[0m         \u001b[1;32myield\u001b[0m \u001b[1;33m[\u001b[0m\u001b[0mitem\u001b[0m\u001b[1;33m]\u001b[0m\u001b[1;33m\u001b[0m\u001b[0m\n\u001b[0;32m      5\u001b[0m         \u001b[1;32mif\u001b[0m \u001b[0mlen\u001b[0m\u001b[1;33m(\u001b[0m\u001b[0mfullset\u001b[0m\u001b[1;33m)\u001b[0m \u001b[1;33m>\u001b[0m \u001b[1;36m1\u001b[0m\u001b[1;33m:\u001b[0m\u001b[1;33m\u001b[0m\u001b[0m\n\u001b[1;32m----> 6\u001b[1;33m             \u001b[1;32mfor\u001b[0m \u001b[0msubset\u001b[0m \u001b[1;32min\u001b[0m \u001b[0msubsets\u001b[0m\u001b[1;33m(\u001b[0m\u001b[0mfullset\u001b[0m\u001b[1;33m[\u001b[0m\u001b[0mi\u001b[0m\u001b[1;33m+\u001b[0m\u001b[1;36m1\u001b[0m\u001b[1;33m:\u001b[0m\u001b[1;33m]\u001b[0m\u001b[1;33m)\u001b[0m\u001b[1;33m:\u001b[0m\u001b[1;33m\u001b[0m\u001b[0m\n\u001b[0m\u001b[0;32m      7\u001b[0m                 \u001b[1;32myield\u001b[0m \u001b[1;33m[\u001b[0m\u001b[0mitem\u001b[0m\u001b[1;33m]\u001b[0m \u001b[1;33m+\u001b[0m \u001b[0msubset\u001b[0m\u001b[1;33m\u001b[0m\u001b[0m\n",
      "\u001b[1;32m<ipython-input-6-c4d725b9727e>\u001b[0m in \u001b[0;36msubsets\u001b[1;34m(fullset)\u001b[0m\n\u001b[0;32m      4\u001b[0m         \u001b[1;32myield\u001b[0m \u001b[1;33m[\u001b[0m\u001b[0mitem\u001b[0m\u001b[1;33m]\u001b[0m\u001b[1;33m\u001b[0m\u001b[0m\n\u001b[0;32m      5\u001b[0m         \u001b[1;32mif\u001b[0m \u001b[0mlen\u001b[0m\u001b[1;33m(\u001b[0m\u001b[0mfullset\u001b[0m\u001b[1;33m)\u001b[0m \u001b[1;33m>\u001b[0m \u001b[1;36m1\u001b[0m\u001b[1;33m:\u001b[0m\u001b[1;33m\u001b[0m\u001b[0m\n\u001b[1;32m----> 6\u001b[1;33m             \u001b[1;32mfor\u001b[0m \u001b[0msubset\u001b[0m \u001b[1;32min\u001b[0m \u001b[0msubsets\u001b[0m\u001b[1;33m(\u001b[0m\u001b[0mfullset\u001b[0m\u001b[1;33m[\u001b[0m\u001b[0mi\u001b[0m\u001b[1;33m+\u001b[0m\u001b[1;36m1\u001b[0m\u001b[1;33m:\u001b[0m\u001b[1;33m]\u001b[0m\u001b[1;33m)\u001b[0m\u001b[1;33m:\u001b[0m\u001b[1;33m\u001b[0m\u001b[0m\n\u001b[0m\u001b[0;32m      7\u001b[0m                 \u001b[1;32myield\u001b[0m \u001b[1;33m[\u001b[0m\u001b[0mitem\u001b[0m\u001b[1;33m]\u001b[0m \u001b[1;33m+\u001b[0m \u001b[0msubset\u001b[0m\u001b[1;33m\u001b[0m\u001b[0m\n",
      "\u001b[1;32m<ipython-input-6-c4d725b9727e>\u001b[0m in \u001b[0;36msubsets\u001b[1;34m(fullset)\u001b[0m\n\u001b[0;32m      4\u001b[0m         \u001b[1;32myield\u001b[0m \u001b[1;33m[\u001b[0m\u001b[0mitem\u001b[0m\u001b[1;33m]\u001b[0m\u001b[1;33m\u001b[0m\u001b[0m\n\u001b[0;32m      5\u001b[0m         \u001b[1;32mif\u001b[0m \u001b[0mlen\u001b[0m\u001b[1;33m(\u001b[0m\u001b[0mfullset\u001b[0m\u001b[1;33m)\u001b[0m \u001b[1;33m>\u001b[0m \u001b[1;36m1\u001b[0m\u001b[1;33m:\u001b[0m\u001b[1;33m\u001b[0m\u001b[0m\n\u001b[1;32m----> 6\u001b[1;33m             \u001b[1;32mfor\u001b[0m \u001b[0msubset\u001b[0m \u001b[1;32min\u001b[0m \u001b[0msubsets\u001b[0m\u001b[1;33m(\u001b[0m\u001b[0mfullset\u001b[0m\u001b[1;33m[\u001b[0m\u001b[0mi\u001b[0m\u001b[1;33m+\u001b[0m\u001b[1;36m1\u001b[0m\u001b[1;33m:\u001b[0m\u001b[1;33m]\u001b[0m\u001b[1;33m)\u001b[0m\u001b[1;33m:\u001b[0m\u001b[1;33m\u001b[0m\u001b[0m\n\u001b[0m\u001b[0;32m      7\u001b[0m                 \u001b[1;32myield\u001b[0m \u001b[1;33m[\u001b[0m\u001b[0mitem\u001b[0m\u001b[1;33m]\u001b[0m \u001b[1;33m+\u001b[0m \u001b[0msubset\u001b[0m\u001b[1;33m\u001b[0m\u001b[0m\n",
      "\u001b[1;32m<ipython-input-6-c4d725b9727e>\u001b[0m in \u001b[0;36msubsets\u001b[1;34m(fullset)\u001b[0m\n\u001b[0;32m      4\u001b[0m         \u001b[1;32myield\u001b[0m \u001b[1;33m[\u001b[0m\u001b[0mitem\u001b[0m\u001b[1;33m]\u001b[0m\u001b[1;33m\u001b[0m\u001b[0m\n\u001b[0;32m      5\u001b[0m         \u001b[1;32mif\u001b[0m \u001b[0mlen\u001b[0m\u001b[1;33m(\u001b[0m\u001b[0mfullset\u001b[0m\u001b[1;33m)\u001b[0m \u001b[1;33m>\u001b[0m \u001b[1;36m1\u001b[0m\u001b[1;33m:\u001b[0m\u001b[1;33m\u001b[0m\u001b[0m\n\u001b[1;32m----> 6\u001b[1;33m             \u001b[1;32mfor\u001b[0m \u001b[0msubset\u001b[0m \u001b[1;32min\u001b[0m \u001b[0msubsets\u001b[0m\u001b[1;33m(\u001b[0m\u001b[0mfullset\u001b[0m\u001b[1;33m[\u001b[0m\u001b[0mi\u001b[0m\u001b[1;33m+\u001b[0m\u001b[1;36m1\u001b[0m\u001b[1;33m:\u001b[0m\u001b[1;33m]\u001b[0m\u001b[1;33m)\u001b[0m\u001b[1;33m:\u001b[0m\u001b[1;33m\u001b[0m\u001b[0m\n\u001b[0m\u001b[0;32m      7\u001b[0m                 \u001b[1;32myield\u001b[0m \u001b[1;33m[\u001b[0m\u001b[0mitem\u001b[0m\u001b[1;33m]\u001b[0m \u001b[1;33m+\u001b[0m \u001b[0msubset\u001b[0m\u001b[1;33m\u001b[0m\u001b[0m\n",
      "\u001b[1;32m<ipython-input-6-c4d725b9727e>\u001b[0m in \u001b[0;36msubsets\u001b[1;34m(fullset)\u001b[0m\n\u001b[0;32m      4\u001b[0m         \u001b[1;32myield\u001b[0m \u001b[1;33m[\u001b[0m\u001b[0mitem\u001b[0m\u001b[1;33m]\u001b[0m\u001b[1;33m\u001b[0m\u001b[0m\n\u001b[0;32m      5\u001b[0m         \u001b[1;32mif\u001b[0m \u001b[0mlen\u001b[0m\u001b[1;33m(\u001b[0m\u001b[0mfullset\u001b[0m\u001b[1;33m)\u001b[0m \u001b[1;33m>\u001b[0m \u001b[1;36m1\u001b[0m\u001b[1;33m:\u001b[0m\u001b[1;33m\u001b[0m\u001b[0m\n\u001b[1;32m----> 6\u001b[1;33m             \u001b[1;32mfor\u001b[0m \u001b[0msubset\u001b[0m \u001b[1;32min\u001b[0m \u001b[0msubsets\u001b[0m\u001b[1;33m(\u001b[0m\u001b[0mfullset\u001b[0m\u001b[1;33m[\u001b[0m\u001b[0mi\u001b[0m\u001b[1;33m+\u001b[0m\u001b[1;36m1\u001b[0m\u001b[1;33m:\u001b[0m\u001b[1;33m]\u001b[0m\u001b[1;33m)\u001b[0m\u001b[1;33m:\u001b[0m\u001b[1;33m\u001b[0m\u001b[0m\n\u001b[0m\u001b[0;32m      7\u001b[0m                 \u001b[1;32myield\u001b[0m \u001b[1;33m[\u001b[0m\u001b[0mitem\u001b[0m\u001b[1;33m]\u001b[0m \u001b[1;33m+\u001b[0m \u001b[0msubset\u001b[0m\u001b[1;33m\u001b[0m\u001b[0m\n",
      "\u001b[1;32m<ipython-input-6-c4d725b9727e>\u001b[0m in \u001b[0;36msubsets\u001b[1;34m(fullset)\u001b[0m\n\u001b[0;32m      4\u001b[0m         \u001b[1;32myield\u001b[0m \u001b[1;33m[\u001b[0m\u001b[0mitem\u001b[0m\u001b[1;33m]\u001b[0m\u001b[1;33m\u001b[0m\u001b[0m\n\u001b[0;32m      5\u001b[0m         \u001b[1;32mif\u001b[0m \u001b[0mlen\u001b[0m\u001b[1;33m(\u001b[0m\u001b[0mfullset\u001b[0m\u001b[1;33m)\u001b[0m \u001b[1;33m>\u001b[0m \u001b[1;36m1\u001b[0m\u001b[1;33m:\u001b[0m\u001b[1;33m\u001b[0m\u001b[0m\n\u001b[1;32m----> 6\u001b[1;33m             \u001b[1;32mfor\u001b[0m \u001b[0msubset\u001b[0m \u001b[1;32min\u001b[0m \u001b[0msubsets\u001b[0m\u001b[1;33m(\u001b[0m\u001b[0mfullset\u001b[0m\u001b[1;33m[\u001b[0m\u001b[0mi\u001b[0m\u001b[1;33m+\u001b[0m\u001b[1;36m1\u001b[0m\u001b[1;33m:\u001b[0m\u001b[1;33m]\u001b[0m\u001b[1;33m)\u001b[0m\u001b[1;33m:\u001b[0m\u001b[1;33m\u001b[0m\u001b[0m\n\u001b[0m\u001b[0;32m      7\u001b[0m                 \u001b[1;32myield\u001b[0m \u001b[1;33m[\u001b[0m\u001b[0mitem\u001b[0m\u001b[1;33m]\u001b[0m \u001b[1;33m+\u001b[0m \u001b[0msubset\u001b[0m\u001b[1;33m\u001b[0m\u001b[0m\n",
      "\u001b[1;32m<ipython-input-6-c4d725b9727e>\u001b[0m in \u001b[0;36msubsets\u001b[1;34m(fullset)\u001b[0m\n\u001b[0;32m      4\u001b[0m         \u001b[1;32myield\u001b[0m \u001b[1;33m[\u001b[0m\u001b[0mitem\u001b[0m\u001b[1;33m]\u001b[0m\u001b[1;33m\u001b[0m\u001b[0m\n\u001b[0;32m      5\u001b[0m         \u001b[1;32mif\u001b[0m \u001b[0mlen\u001b[0m\u001b[1;33m(\u001b[0m\u001b[0mfullset\u001b[0m\u001b[1;33m)\u001b[0m \u001b[1;33m>\u001b[0m \u001b[1;36m1\u001b[0m\u001b[1;33m:\u001b[0m\u001b[1;33m\u001b[0m\u001b[0m\n\u001b[1;32m----> 6\u001b[1;33m             \u001b[1;32mfor\u001b[0m \u001b[0msubset\u001b[0m \u001b[1;32min\u001b[0m \u001b[0msubsets\u001b[0m\u001b[1;33m(\u001b[0m\u001b[0mfullset\u001b[0m\u001b[1;33m[\u001b[0m\u001b[0mi\u001b[0m\u001b[1;33m+\u001b[0m\u001b[1;36m1\u001b[0m\u001b[1;33m:\u001b[0m\u001b[1;33m]\u001b[0m\u001b[1;33m)\u001b[0m\u001b[1;33m:\u001b[0m\u001b[1;33m\u001b[0m\u001b[0m\n\u001b[0m\u001b[0;32m      7\u001b[0m                 \u001b[1;32myield\u001b[0m \u001b[1;33m[\u001b[0m\u001b[0mitem\u001b[0m\u001b[1;33m]\u001b[0m \u001b[1;33m+\u001b[0m \u001b[0msubset\u001b[0m\u001b[1;33m\u001b[0m\u001b[0m\n",
      "\u001b[1;32m<ipython-input-6-c4d725b9727e>\u001b[0m in \u001b[0;36msubsets\u001b[1;34m(fullset)\u001b[0m\n\u001b[0;32m      4\u001b[0m         \u001b[1;32myield\u001b[0m \u001b[1;33m[\u001b[0m\u001b[0mitem\u001b[0m\u001b[1;33m]\u001b[0m\u001b[1;33m\u001b[0m\u001b[0m\n\u001b[0;32m      5\u001b[0m         \u001b[1;32mif\u001b[0m \u001b[0mlen\u001b[0m\u001b[1;33m(\u001b[0m\u001b[0mfullset\u001b[0m\u001b[1;33m)\u001b[0m \u001b[1;33m>\u001b[0m \u001b[1;36m1\u001b[0m\u001b[1;33m:\u001b[0m\u001b[1;33m\u001b[0m\u001b[0m\n\u001b[1;32m----> 6\u001b[1;33m             \u001b[1;32mfor\u001b[0m \u001b[0msubset\u001b[0m \u001b[1;32min\u001b[0m \u001b[0msubsets\u001b[0m\u001b[1;33m(\u001b[0m\u001b[0mfullset\u001b[0m\u001b[1;33m[\u001b[0m\u001b[0mi\u001b[0m\u001b[1;33m+\u001b[0m\u001b[1;36m1\u001b[0m\u001b[1;33m:\u001b[0m\u001b[1;33m]\u001b[0m\u001b[1;33m)\u001b[0m\u001b[1;33m:\u001b[0m\u001b[1;33m\u001b[0m\u001b[0m\n\u001b[0m\u001b[0;32m      7\u001b[0m                 \u001b[1;32myield\u001b[0m \u001b[1;33m[\u001b[0m\u001b[0mitem\u001b[0m\u001b[1;33m]\u001b[0m \u001b[1;33m+\u001b[0m \u001b[0msubset\u001b[0m\u001b[1;33m\u001b[0m\u001b[0m\n",
      "\u001b[1;32m<ipython-input-6-c4d725b9727e>\u001b[0m in \u001b[0;36msubsets\u001b[1;34m(fullset)\u001b[0m\n\u001b[0;32m      4\u001b[0m         \u001b[1;32myield\u001b[0m \u001b[1;33m[\u001b[0m\u001b[0mitem\u001b[0m\u001b[1;33m]\u001b[0m\u001b[1;33m\u001b[0m\u001b[0m\n\u001b[0;32m      5\u001b[0m         \u001b[1;32mif\u001b[0m \u001b[0mlen\u001b[0m\u001b[1;33m(\u001b[0m\u001b[0mfullset\u001b[0m\u001b[1;33m)\u001b[0m \u001b[1;33m>\u001b[0m \u001b[1;36m1\u001b[0m\u001b[1;33m:\u001b[0m\u001b[1;33m\u001b[0m\u001b[0m\n\u001b[1;32m----> 6\u001b[1;33m             \u001b[1;32mfor\u001b[0m \u001b[0msubset\u001b[0m \u001b[1;32min\u001b[0m \u001b[0msubsets\u001b[0m\u001b[1;33m(\u001b[0m\u001b[0mfullset\u001b[0m\u001b[1;33m[\u001b[0m\u001b[0mi\u001b[0m\u001b[1;33m+\u001b[0m\u001b[1;36m1\u001b[0m\u001b[1;33m:\u001b[0m\u001b[1;33m]\u001b[0m\u001b[1;33m)\u001b[0m\u001b[1;33m:\u001b[0m\u001b[1;33m\u001b[0m\u001b[0m\n\u001b[0m\u001b[0;32m      7\u001b[0m                 \u001b[1;32myield\u001b[0m \u001b[1;33m[\u001b[0m\u001b[0mitem\u001b[0m\u001b[1;33m]\u001b[0m \u001b[1;33m+\u001b[0m \u001b[0msubset\u001b[0m\u001b[1;33m\u001b[0m\u001b[0m\n",
      "\u001b[1;32m<ipython-input-6-c4d725b9727e>\u001b[0m in \u001b[0;36msubsets\u001b[1;34m(fullset)\u001b[0m\n\u001b[0;32m      4\u001b[0m         \u001b[1;32myield\u001b[0m \u001b[1;33m[\u001b[0m\u001b[0mitem\u001b[0m\u001b[1;33m]\u001b[0m\u001b[1;33m\u001b[0m\u001b[0m\n\u001b[0;32m      5\u001b[0m         \u001b[1;32mif\u001b[0m \u001b[0mlen\u001b[0m\u001b[1;33m(\u001b[0m\u001b[0mfullset\u001b[0m\u001b[1;33m)\u001b[0m \u001b[1;33m>\u001b[0m \u001b[1;36m1\u001b[0m\u001b[1;33m:\u001b[0m\u001b[1;33m\u001b[0m\u001b[0m\n\u001b[1;32m----> 6\u001b[1;33m             \u001b[1;32mfor\u001b[0m \u001b[0msubset\u001b[0m \u001b[1;32min\u001b[0m \u001b[0msubsets\u001b[0m\u001b[1;33m(\u001b[0m\u001b[0mfullset\u001b[0m\u001b[1;33m[\u001b[0m\u001b[0mi\u001b[0m\u001b[1;33m+\u001b[0m\u001b[1;36m1\u001b[0m\u001b[1;33m:\u001b[0m\u001b[1;33m]\u001b[0m\u001b[1;33m)\u001b[0m\u001b[1;33m:\u001b[0m\u001b[1;33m\u001b[0m\u001b[0m\n\u001b[0m\u001b[0;32m      7\u001b[0m                 \u001b[1;32myield\u001b[0m \u001b[1;33m[\u001b[0m\u001b[0mitem\u001b[0m\u001b[1;33m]\u001b[0m \u001b[1;33m+\u001b[0m \u001b[0msubset\u001b[0m\u001b[1;33m\u001b[0m\u001b[0m\n",
      "\u001b[1;32m<ipython-input-6-c4d725b9727e>\u001b[0m in \u001b[0;36msubsets\u001b[1;34m(fullset)\u001b[0m\n\u001b[0;32m      4\u001b[0m         \u001b[1;32myield\u001b[0m \u001b[1;33m[\u001b[0m\u001b[0mitem\u001b[0m\u001b[1;33m]\u001b[0m\u001b[1;33m\u001b[0m\u001b[0m\n\u001b[0;32m      5\u001b[0m         \u001b[1;32mif\u001b[0m \u001b[0mlen\u001b[0m\u001b[1;33m(\u001b[0m\u001b[0mfullset\u001b[0m\u001b[1;33m)\u001b[0m \u001b[1;33m>\u001b[0m \u001b[1;36m1\u001b[0m\u001b[1;33m:\u001b[0m\u001b[1;33m\u001b[0m\u001b[0m\n\u001b[1;32m----> 6\u001b[1;33m             \u001b[1;32mfor\u001b[0m \u001b[0msubset\u001b[0m \u001b[1;32min\u001b[0m \u001b[0msubsets\u001b[0m\u001b[1;33m(\u001b[0m\u001b[0mfullset\u001b[0m\u001b[1;33m[\u001b[0m\u001b[0mi\u001b[0m\u001b[1;33m+\u001b[0m\u001b[1;36m1\u001b[0m\u001b[1;33m:\u001b[0m\u001b[1;33m]\u001b[0m\u001b[1;33m)\u001b[0m\u001b[1;33m:\u001b[0m\u001b[1;33m\u001b[0m\u001b[0m\n\u001b[0m\u001b[0;32m      7\u001b[0m                 \u001b[1;32myield\u001b[0m \u001b[1;33m[\u001b[0m\u001b[0mitem\u001b[0m\u001b[1;33m]\u001b[0m \u001b[1;33m+\u001b[0m \u001b[0msubset\u001b[0m\u001b[1;33m\u001b[0m\u001b[0m\n",
      "\u001b[1;32m<ipython-input-6-c4d725b9727e>\u001b[0m in \u001b[0;36msubsets\u001b[1;34m(fullset)\u001b[0m\n\u001b[0;32m      4\u001b[0m         \u001b[1;32myield\u001b[0m \u001b[1;33m[\u001b[0m\u001b[0mitem\u001b[0m\u001b[1;33m]\u001b[0m\u001b[1;33m\u001b[0m\u001b[0m\n\u001b[0;32m      5\u001b[0m         \u001b[1;32mif\u001b[0m \u001b[0mlen\u001b[0m\u001b[1;33m(\u001b[0m\u001b[0mfullset\u001b[0m\u001b[1;33m)\u001b[0m \u001b[1;33m>\u001b[0m \u001b[1;36m1\u001b[0m\u001b[1;33m:\u001b[0m\u001b[1;33m\u001b[0m\u001b[0m\n\u001b[1;32m----> 6\u001b[1;33m             \u001b[1;32mfor\u001b[0m \u001b[0msubset\u001b[0m \u001b[1;32min\u001b[0m \u001b[0msubsets\u001b[0m\u001b[1;33m(\u001b[0m\u001b[0mfullset\u001b[0m\u001b[1;33m[\u001b[0m\u001b[0mi\u001b[0m\u001b[1;33m+\u001b[0m\u001b[1;36m1\u001b[0m\u001b[1;33m:\u001b[0m\u001b[1;33m]\u001b[0m\u001b[1;33m)\u001b[0m\u001b[1;33m:\u001b[0m\u001b[1;33m\u001b[0m\u001b[0m\n\u001b[0m\u001b[0;32m      7\u001b[0m                 \u001b[1;32myield\u001b[0m \u001b[1;33m[\u001b[0m\u001b[0mitem\u001b[0m\u001b[1;33m]\u001b[0m \u001b[1;33m+\u001b[0m \u001b[0msubset\u001b[0m\u001b[1;33m\u001b[0m\u001b[0m\n",
      "\u001b[1;32m<ipython-input-6-c4d725b9727e>\u001b[0m in \u001b[0;36msubsets\u001b[1;34m(fullset)\u001b[0m\n\u001b[0;32m      4\u001b[0m         \u001b[1;32myield\u001b[0m \u001b[1;33m[\u001b[0m\u001b[0mitem\u001b[0m\u001b[1;33m]\u001b[0m\u001b[1;33m\u001b[0m\u001b[0m\n\u001b[0;32m      5\u001b[0m         \u001b[1;32mif\u001b[0m \u001b[0mlen\u001b[0m\u001b[1;33m(\u001b[0m\u001b[0mfullset\u001b[0m\u001b[1;33m)\u001b[0m \u001b[1;33m>\u001b[0m \u001b[1;36m1\u001b[0m\u001b[1;33m:\u001b[0m\u001b[1;33m\u001b[0m\u001b[0m\n\u001b[1;32m----> 6\u001b[1;33m             \u001b[1;32mfor\u001b[0m \u001b[0msubset\u001b[0m \u001b[1;32min\u001b[0m \u001b[0msubsets\u001b[0m\u001b[1;33m(\u001b[0m\u001b[0mfullset\u001b[0m\u001b[1;33m[\u001b[0m\u001b[0mi\u001b[0m\u001b[1;33m+\u001b[0m\u001b[1;36m1\u001b[0m\u001b[1;33m:\u001b[0m\u001b[1;33m]\u001b[0m\u001b[1;33m)\u001b[0m\u001b[1;33m:\u001b[0m\u001b[1;33m\u001b[0m\u001b[0m\n\u001b[0m\u001b[0;32m      7\u001b[0m                 \u001b[1;32myield\u001b[0m \u001b[1;33m[\u001b[0m\u001b[0mitem\u001b[0m\u001b[1;33m]\u001b[0m \u001b[1;33m+\u001b[0m \u001b[0msubset\u001b[0m\u001b[1;33m\u001b[0m\u001b[0m\n",
      "\u001b[1;32m<ipython-input-6-c4d725b9727e>\u001b[0m in \u001b[0;36msubsets\u001b[1;34m(fullset)\u001b[0m\n\u001b[0;32m      4\u001b[0m         \u001b[1;32myield\u001b[0m \u001b[1;33m[\u001b[0m\u001b[0mitem\u001b[0m\u001b[1;33m]\u001b[0m\u001b[1;33m\u001b[0m\u001b[0m\n\u001b[0;32m      5\u001b[0m         \u001b[1;32mif\u001b[0m \u001b[0mlen\u001b[0m\u001b[1;33m(\u001b[0m\u001b[0mfullset\u001b[0m\u001b[1;33m)\u001b[0m \u001b[1;33m>\u001b[0m \u001b[1;36m1\u001b[0m\u001b[1;33m:\u001b[0m\u001b[1;33m\u001b[0m\u001b[0m\n\u001b[1;32m----> 6\u001b[1;33m             \u001b[1;32mfor\u001b[0m \u001b[0msubset\u001b[0m \u001b[1;32min\u001b[0m \u001b[0msubsets\u001b[0m\u001b[1;33m(\u001b[0m\u001b[0mfullset\u001b[0m\u001b[1;33m[\u001b[0m\u001b[0mi\u001b[0m\u001b[1;33m+\u001b[0m\u001b[1;36m1\u001b[0m\u001b[1;33m:\u001b[0m\u001b[1;33m]\u001b[0m\u001b[1;33m)\u001b[0m\u001b[1;33m:\u001b[0m\u001b[1;33m\u001b[0m\u001b[0m\n\u001b[0m\u001b[0;32m      7\u001b[0m                 \u001b[1;32myield\u001b[0m \u001b[1;33m[\u001b[0m\u001b[0mitem\u001b[0m\u001b[1;33m]\u001b[0m \u001b[1;33m+\u001b[0m \u001b[0msubset\u001b[0m\u001b[1;33m\u001b[0m\u001b[0m\n",
      "\u001b[1;32m<ipython-input-6-c4d725b9727e>\u001b[0m in \u001b[0;36msubsets\u001b[1;34m(fullset)\u001b[0m\n\u001b[0;32m      4\u001b[0m         \u001b[1;32myield\u001b[0m \u001b[1;33m[\u001b[0m\u001b[0mitem\u001b[0m\u001b[1;33m]\u001b[0m\u001b[1;33m\u001b[0m\u001b[0m\n\u001b[0;32m      5\u001b[0m         \u001b[1;32mif\u001b[0m \u001b[0mlen\u001b[0m\u001b[1;33m(\u001b[0m\u001b[0mfullset\u001b[0m\u001b[1;33m)\u001b[0m \u001b[1;33m>\u001b[0m \u001b[1;36m1\u001b[0m\u001b[1;33m:\u001b[0m\u001b[1;33m\u001b[0m\u001b[0m\n\u001b[1;32m----> 6\u001b[1;33m             \u001b[1;32mfor\u001b[0m \u001b[0msubset\u001b[0m \u001b[1;32min\u001b[0m \u001b[0msubsets\u001b[0m\u001b[1;33m(\u001b[0m\u001b[0mfullset\u001b[0m\u001b[1;33m[\u001b[0m\u001b[0mi\u001b[0m\u001b[1;33m+\u001b[0m\u001b[1;36m1\u001b[0m\u001b[1;33m:\u001b[0m\u001b[1;33m]\u001b[0m\u001b[1;33m)\u001b[0m\u001b[1;33m:\u001b[0m\u001b[1;33m\u001b[0m\u001b[0m\n\u001b[0m\u001b[0;32m      7\u001b[0m                 \u001b[1;32myield\u001b[0m \u001b[1;33m[\u001b[0m\u001b[0mitem\u001b[0m\u001b[1;33m]\u001b[0m \u001b[1;33m+\u001b[0m \u001b[0msubset\u001b[0m\u001b[1;33m\u001b[0m\u001b[0m\n",
      "\u001b[1;32m<ipython-input-6-c4d725b9727e>\u001b[0m in \u001b[0;36msubsets\u001b[1;34m(fullset)\u001b[0m\n\u001b[0;32m      4\u001b[0m         \u001b[1;32myield\u001b[0m \u001b[1;33m[\u001b[0m\u001b[0mitem\u001b[0m\u001b[1;33m]\u001b[0m\u001b[1;33m\u001b[0m\u001b[0m\n\u001b[0;32m      5\u001b[0m         \u001b[1;32mif\u001b[0m \u001b[0mlen\u001b[0m\u001b[1;33m(\u001b[0m\u001b[0mfullset\u001b[0m\u001b[1;33m)\u001b[0m \u001b[1;33m>\u001b[0m \u001b[1;36m1\u001b[0m\u001b[1;33m:\u001b[0m\u001b[1;33m\u001b[0m\u001b[0m\n\u001b[1;32m----> 6\u001b[1;33m             \u001b[1;32mfor\u001b[0m \u001b[0msubset\u001b[0m \u001b[1;32min\u001b[0m \u001b[0msubsets\u001b[0m\u001b[1;33m(\u001b[0m\u001b[0mfullset\u001b[0m\u001b[1;33m[\u001b[0m\u001b[0mi\u001b[0m\u001b[1;33m+\u001b[0m\u001b[1;36m1\u001b[0m\u001b[1;33m:\u001b[0m\u001b[1;33m]\u001b[0m\u001b[1;33m)\u001b[0m\u001b[1;33m:\u001b[0m\u001b[1;33m\u001b[0m\u001b[0m\n\u001b[0m\u001b[0;32m      7\u001b[0m                 \u001b[1;32myield\u001b[0m \u001b[1;33m[\u001b[0m\u001b[0mitem\u001b[0m\u001b[1;33m]\u001b[0m \u001b[1;33m+\u001b[0m \u001b[0msubset\u001b[0m\u001b[1;33m\u001b[0m\u001b[0m\n",
      "\u001b[1;32m<ipython-input-6-c4d725b9727e>\u001b[0m in \u001b[0;36msubsets\u001b[1;34m(fullset)\u001b[0m\n\u001b[0;32m      4\u001b[0m         \u001b[1;32myield\u001b[0m \u001b[1;33m[\u001b[0m\u001b[0mitem\u001b[0m\u001b[1;33m]\u001b[0m\u001b[1;33m\u001b[0m\u001b[0m\n\u001b[0;32m      5\u001b[0m         \u001b[1;32mif\u001b[0m \u001b[0mlen\u001b[0m\u001b[1;33m(\u001b[0m\u001b[0mfullset\u001b[0m\u001b[1;33m)\u001b[0m \u001b[1;33m>\u001b[0m \u001b[1;36m1\u001b[0m\u001b[1;33m:\u001b[0m\u001b[1;33m\u001b[0m\u001b[0m\n\u001b[1;32m----> 6\u001b[1;33m             \u001b[1;32mfor\u001b[0m \u001b[0msubset\u001b[0m \u001b[1;32min\u001b[0m \u001b[0msubsets\u001b[0m\u001b[1;33m(\u001b[0m\u001b[0mfullset\u001b[0m\u001b[1;33m[\u001b[0m\u001b[0mi\u001b[0m\u001b[1;33m+\u001b[0m\u001b[1;36m1\u001b[0m\u001b[1;33m:\u001b[0m\u001b[1;33m]\u001b[0m\u001b[1;33m)\u001b[0m\u001b[1;33m:\u001b[0m\u001b[1;33m\u001b[0m\u001b[0m\n\u001b[0m\u001b[0;32m      7\u001b[0m                 \u001b[1;32myield\u001b[0m \u001b[1;33m[\u001b[0m\u001b[0mitem\u001b[0m\u001b[1;33m]\u001b[0m \u001b[1;33m+\u001b[0m \u001b[0msubset\u001b[0m\u001b[1;33m\u001b[0m\u001b[0m\n",
      "\u001b[1;32m<ipython-input-6-c4d725b9727e>\u001b[0m in \u001b[0;36msubsets\u001b[1;34m(fullset)\u001b[0m\n\u001b[0;32m      4\u001b[0m         \u001b[1;32myield\u001b[0m \u001b[1;33m[\u001b[0m\u001b[0mitem\u001b[0m\u001b[1;33m]\u001b[0m\u001b[1;33m\u001b[0m\u001b[0m\n\u001b[0;32m      5\u001b[0m         \u001b[1;32mif\u001b[0m \u001b[0mlen\u001b[0m\u001b[1;33m(\u001b[0m\u001b[0mfullset\u001b[0m\u001b[1;33m)\u001b[0m \u001b[1;33m>\u001b[0m \u001b[1;36m1\u001b[0m\u001b[1;33m:\u001b[0m\u001b[1;33m\u001b[0m\u001b[0m\n\u001b[1;32m----> 6\u001b[1;33m             \u001b[1;32mfor\u001b[0m \u001b[0msubset\u001b[0m \u001b[1;32min\u001b[0m \u001b[0msubsets\u001b[0m\u001b[1;33m(\u001b[0m\u001b[0mfullset\u001b[0m\u001b[1;33m[\u001b[0m\u001b[0mi\u001b[0m\u001b[1;33m+\u001b[0m\u001b[1;36m1\u001b[0m\u001b[1;33m:\u001b[0m\u001b[1;33m]\u001b[0m\u001b[1;33m)\u001b[0m\u001b[1;33m:\u001b[0m\u001b[1;33m\u001b[0m\u001b[0m\n\u001b[0m\u001b[0;32m      7\u001b[0m                 \u001b[1;32myield\u001b[0m \u001b[1;33m[\u001b[0m\u001b[0mitem\u001b[0m\u001b[1;33m]\u001b[0m \u001b[1;33m+\u001b[0m \u001b[0msubset\u001b[0m\u001b[1;33m\u001b[0m\u001b[0m\n",
      "\u001b[1;32m<ipython-input-6-c4d725b9727e>\u001b[0m in \u001b[0;36msubsets\u001b[1;34m(fullset)\u001b[0m\n\u001b[0;32m      4\u001b[0m         \u001b[1;32myield\u001b[0m \u001b[1;33m[\u001b[0m\u001b[0mitem\u001b[0m\u001b[1;33m]\u001b[0m\u001b[1;33m\u001b[0m\u001b[0m\n\u001b[0;32m      5\u001b[0m         \u001b[1;32mif\u001b[0m \u001b[0mlen\u001b[0m\u001b[1;33m(\u001b[0m\u001b[0mfullset\u001b[0m\u001b[1;33m)\u001b[0m \u001b[1;33m>\u001b[0m \u001b[1;36m1\u001b[0m\u001b[1;33m:\u001b[0m\u001b[1;33m\u001b[0m\u001b[0m\n\u001b[1;32m----> 6\u001b[1;33m             \u001b[1;32mfor\u001b[0m \u001b[0msubset\u001b[0m \u001b[1;32min\u001b[0m \u001b[0msubsets\u001b[0m\u001b[1;33m(\u001b[0m\u001b[0mfullset\u001b[0m\u001b[1;33m[\u001b[0m\u001b[0mi\u001b[0m\u001b[1;33m+\u001b[0m\u001b[1;36m1\u001b[0m\u001b[1;33m:\u001b[0m\u001b[1;33m]\u001b[0m\u001b[1;33m)\u001b[0m\u001b[1;33m:\u001b[0m\u001b[1;33m\u001b[0m\u001b[0m\n\u001b[0m\u001b[0;32m      7\u001b[0m                 \u001b[1;32myield\u001b[0m \u001b[1;33m[\u001b[0m\u001b[0mitem\u001b[0m\u001b[1;33m]\u001b[0m \u001b[1;33m+\u001b[0m \u001b[0msubset\u001b[0m\u001b[1;33m\u001b[0m\u001b[0m\n",
      "\u001b[1;32m<ipython-input-6-c4d725b9727e>\u001b[0m in \u001b[0;36msubsets\u001b[1;34m(fullset)\u001b[0m\n\u001b[0;32m      4\u001b[0m         \u001b[1;32myield\u001b[0m \u001b[1;33m[\u001b[0m\u001b[0mitem\u001b[0m\u001b[1;33m]\u001b[0m\u001b[1;33m\u001b[0m\u001b[0m\n\u001b[0;32m      5\u001b[0m         \u001b[1;32mif\u001b[0m \u001b[0mlen\u001b[0m\u001b[1;33m(\u001b[0m\u001b[0mfullset\u001b[0m\u001b[1;33m)\u001b[0m \u001b[1;33m>\u001b[0m \u001b[1;36m1\u001b[0m\u001b[1;33m:\u001b[0m\u001b[1;33m\u001b[0m\u001b[0m\n\u001b[1;32m----> 6\u001b[1;33m             \u001b[1;32mfor\u001b[0m \u001b[0msubset\u001b[0m \u001b[1;32min\u001b[0m \u001b[0msubsets\u001b[0m\u001b[1;33m(\u001b[0m\u001b[0mfullset\u001b[0m\u001b[1;33m[\u001b[0m\u001b[0mi\u001b[0m\u001b[1;33m+\u001b[0m\u001b[1;36m1\u001b[0m\u001b[1;33m:\u001b[0m\u001b[1;33m]\u001b[0m\u001b[1;33m)\u001b[0m\u001b[1;33m:\u001b[0m\u001b[1;33m\u001b[0m\u001b[0m\n\u001b[0m\u001b[0;32m      7\u001b[0m                 \u001b[1;32myield\u001b[0m \u001b[1;33m[\u001b[0m\u001b[0mitem\u001b[0m\u001b[1;33m]\u001b[0m \u001b[1;33m+\u001b[0m \u001b[0msubset\u001b[0m\u001b[1;33m\u001b[0m\u001b[0m\n",
      "\u001b[1;32m<ipython-input-6-c4d725b9727e>\u001b[0m in \u001b[0;36msubsets\u001b[1;34m(fullset)\u001b[0m\n\u001b[0;32m      4\u001b[0m         \u001b[1;32myield\u001b[0m \u001b[1;33m[\u001b[0m\u001b[0mitem\u001b[0m\u001b[1;33m]\u001b[0m\u001b[1;33m\u001b[0m\u001b[0m\n\u001b[0;32m      5\u001b[0m         \u001b[1;32mif\u001b[0m \u001b[0mlen\u001b[0m\u001b[1;33m(\u001b[0m\u001b[0mfullset\u001b[0m\u001b[1;33m)\u001b[0m \u001b[1;33m>\u001b[0m \u001b[1;36m1\u001b[0m\u001b[1;33m:\u001b[0m\u001b[1;33m\u001b[0m\u001b[0m\n\u001b[1;32m----> 6\u001b[1;33m             \u001b[1;32mfor\u001b[0m \u001b[0msubset\u001b[0m \u001b[1;32min\u001b[0m \u001b[0msubsets\u001b[0m\u001b[1;33m(\u001b[0m\u001b[0mfullset\u001b[0m\u001b[1;33m[\u001b[0m\u001b[0mi\u001b[0m\u001b[1;33m+\u001b[0m\u001b[1;36m1\u001b[0m\u001b[1;33m:\u001b[0m\u001b[1;33m]\u001b[0m\u001b[1;33m)\u001b[0m\u001b[1;33m:\u001b[0m\u001b[1;33m\u001b[0m\u001b[0m\n\u001b[0m\u001b[0;32m      7\u001b[0m                 \u001b[1;32myield\u001b[0m \u001b[1;33m[\u001b[0m\u001b[0mitem\u001b[0m\u001b[1;33m]\u001b[0m \u001b[1;33m+\u001b[0m \u001b[0msubset\u001b[0m\u001b[1;33m\u001b[0m\u001b[0m\n",
      "\u001b[1;32m<ipython-input-6-c4d725b9727e>\u001b[0m in \u001b[0;36msubsets\u001b[1;34m(fullset)\u001b[0m\n\u001b[0;32m      5\u001b[0m         \u001b[1;32mif\u001b[0m \u001b[0mlen\u001b[0m\u001b[1;33m(\u001b[0m\u001b[0mfullset\u001b[0m\u001b[1;33m)\u001b[0m \u001b[1;33m>\u001b[0m \u001b[1;36m1\u001b[0m\u001b[1;33m:\u001b[0m\u001b[1;33m\u001b[0m\u001b[0m\n\u001b[0;32m      6\u001b[0m             \u001b[1;32mfor\u001b[0m \u001b[0msubset\u001b[0m \u001b[1;32min\u001b[0m \u001b[0msubsets\u001b[0m\u001b[1;33m(\u001b[0m\u001b[0mfullset\u001b[0m\u001b[1;33m[\u001b[0m\u001b[0mi\u001b[0m\u001b[1;33m+\u001b[0m\u001b[1;36m1\u001b[0m\u001b[1;33m:\u001b[0m\u001b[1;33m]\u001b[0m\u001b[1;33m)\u001b[0m\u001b[1;33m:\u001b[0m\u001b[1;33m\u001b[0m\u001b[0m\n\u001b[1;32m----> 7\u001b[1;33m                 \u001b[1;32myield\u001b[0m \u001b[1;33m[\u001b[0m\u001b[0mitem\u001b[0m\u001b[1;33m]\u001b[0m \u001b[1;33m+\u001b[0m \u001b[0msubset\u001b[0m\u001b[1;33m\u001b[0m\u001b[0m\n\u001b[0m",
      "\u001b[1;31mKeyboardInterrupt\u001b[0m: "
     ]
    }
   ],
   "source": [
    "count = 0\n",
    "for s in subsets(range(82)):\n",
    "    count += 1\n",
    "print(count)\n",
    "    "
   ]
  },
  {
   "cell_type": "code",
   "execution_count": null,
   "metadata": {
    "collapsed": true,
    "deletable": true,
    "editable": true
   },
   "outputs": [],
   "source": []
  }
 ],
 "metadata": {
  "kernelspec": {
   "display_name": "Python 3",
   "language": "python",
   "name": "python3"
  },
  "language_info": {
   "codemirror_mode": {
    "name": "ipython",
    "version": 3
   },
   "file_extension": ".py",
   "mimetype": "text/x-python",
   "name": "python",
   "nbconvert_exporter": "python",
   "pygments_lexer": "ipython3",
   "version": "3.6.3"
  }
 },
 "nbformat": 4,
 "nbformat_minor": 2
}
