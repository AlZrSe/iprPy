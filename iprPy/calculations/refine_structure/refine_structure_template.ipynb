{
 "cells": [
  {
   "cell_type": "markdown",
   "metadata": {
    "deletable": true,
    "editable": true
   },
   "source": [
    "^fill^README.md^here^\n",
    "\n",
    "- - -"
   ]
  },
  {
   "cell_type": "markdown",
   "metadata": {
    "deletable": true,
    "editable": true
   },
   "source": [
    "^fill^theory.md^here^\n",
    "\n",
    "- - -"
   ]
  },
  {
   "cell_type": "markdown",
   "metadata": {
    "deletable": true,
    "editable": true
   },
   "source": [
    "## Demonstration"
   ]
  },
  {
   "cell_type": "markdown",
   "metadata": {
    "deletable": true,
    "editable": true
   },
   "source": [
    "### 1. Library imports"
   ]
  },
  {
   "cell_type": "markdown",
   "metadata": {
    "deletable": true,
    "editable": true
   },
   "source": [
    "Import libraries needed by the calculation. The external libraries used are:\n",
    "\n",
    "- [numpy](http://www.numpy.org/)\n",
    "\n",
    "- [DataModelDict](https://github.com/usnistgov/DataModelDict)\n",
    "\n",
    "- [atomman](https://github.com/usnistgov/atomman)\n",
    "\n",
    "- [iprPy](https://github.com/usnistgov/iprPy)"
   ]
  },
  {
   "cell_type": "code",
   "execution_count": 1,
   "metadata": {
    "collapsed": true,
    "deletable": true,
    "editable": true
   },
   "outputs": [],
   "source": [
    "# Standard library imports\n",
    "from __future__ import division, absolute_import, print_function\n",
    "import os\n",
    "import sys\n",
    "import uuid\n",
    "import shutil\n",
    "import datetime\n",
    "from copy import deepcopy\n",
    "\n",
    "# http://www.numpy.org/\n",
    "import numpy as np  \n",
    "\n",
    "# https://github.com/usnistgov/DataModelDict \n",
    "from DataModelDict import DataModelDict as DM\n",
    "\n",
    "# https://github.com/usnistgov/atomman \n",
    "import atomman as am\n",
    "import atomman.lammps as lmp\n",
    "import atomman.unitconvert as uc\n",
    "\n",
    "# https://github.com/usnistgov/iprPy\n",
    "import iprPy"
   ]
  },
  {
   "cell_type": "markdown",
   "metadata": {
    "deletable": true,
    "editable": true
   },
   "source": [
    "### 2. Assign values for the calculation's run parameters"
   ]
  },
  {
   "cell_type": "markdown",
   "metadata": {
    "deletable": true,
    "editable": true
   },
   "source": [
    "#### 2.0 Set the calculation's working directory"
   ]
  },
  {
   "cell_type": "code",
   "execution_count": 2,
   "metadata": {
    "collapsed": false,
    "deletable": true,
    "editable": true
   },
   "outputs": [],
   "source": [
    "calc_name = 'refine_structure'\n",
    "\n",
    "# Check current working directory\n",
    "cwd_name = os.path.basename(os.getcwd())\n",
    "\n",
    "# Change working directory if needed\n",
    "if cwd_name != calc_name:\n",
    "    if not os.path.isdir(calc_name):\n",
    "        os.mkdir(calc_name)\n",
    "    os.chdir(calc_name)"
   ]
  },
  {
   "cell_type": "markdown",
   "metadata": {
    "deletable": true,
    "editable": true
   },
   "source": [
    "#### 2.1 Specify system-specific paths\n",
    "\n",
    "- __lammps_command__ is the LAMMPS command to use (required).\n",
    "\n",
    "- __mpi_command__ MPI command for running LAMMPS in parallel. A value of None will run simulations serially.\n",
    "\n",
    "- __lib_directory__ defines the relative path to the iprPy library. This makes it easier to define paths to reference records later."
   ]
  },
  {
   "cell_type": "code",
   "execution_count": 3,
   "metadata": {
    "collapsed": true,
    "deletable": true,
    "editable": true
   },
   "outputs": [],
   "source": [
    "lammps_command = 'lmp_serial'\n",
    "mpi_command = None\n",
    "lib_directory = '../../../library'"
   ]
  },
  {
   "cell_type": "markdown",
   "metadata": {
    "deletable": true,
    "editable": true
   },
   "source": [
    "#### 2.2 Specify the prototype system\n",
    "\n",
    "- __system__ is an atomman.System to perform the scan on (required). \n",
    "\n",
    "- __ucell__ is an atomman.System representing a fundamental unit cell of the system (required).\n",
    "\n",
    "- __prototype_name__ gives the name of the crystal_prototype reference record in the iprPy library to use for ucell. \n",
    "\n",
    "- __prototype_path__ gives the path to the crystal_prototype reference record to use.\n",
    "\n",
    "- __box_parameters__ defines the initial guess box parameters to scale ucell and system by.\n",
    "\n",
    "- __sizemults__ list of three integers specifying how many times the ucell vectors of $a$, $b$ and $c$ are replicated in creating system."
   ]
  },
  {
   "cell_type": "code",
   "execution_count": 4,
   "metadata": {
    "collapsed": false,
    "deletable": true,
    "editable": true
   },
   "outputs": [
    {
     "name": "stdout",
     "output_type": "stream",
     "text": [
      "# of atoms in ucell = 4\n",
      "# of atoms in system = 108\n"
     ]
    }
   ],
   "source": [
    "prototype_name = 'A1--Cu--fcc'\n",
    "box_parameters = [3.5, 3.5, 3.5]\n",
    "sizemults = [3,3,3]\n",
    "\n",
    "# Define prototype_path using lib_directory and prototype_name\n",
    "prototype_path = os.path.abspath(os.path.join(lib_directory,\n",
    "                                              'crystal_prototype',\n",
    "                                              prototype_name+'.json'))\n",
    "\n",
    "# Create ucell by loading prototype record\n",
    "ucell = am.load('system_model', prototype_path)[0]\n",
    "print('# of atoms in ucell =', ucell.natoms)\n",
    "\n",
    "# Rescale ucell using box_parameters\n",
    "ucell.box_set(a=box_parameters[0], b=box_parameters[1], c=box_parameters[2], scale=True)\n",
    "\n",
    "# Generate system by supersizing ucell\n",
    "system = am.supersize(ucell, *sizemults)\n",
    "print('# of atoms in system =', system.natoms)"
   ]
  },
  {
   "cell_type": "markdown",
   "metadata": {
    "deletable": true,
    "editable": true
   },
   "source": [
    "#### 2.3 Specify the potenital and elemental symbols\n",
    "\n",
    "- __potential__ is the atomman.lammps.Potential representation of a LAMMPS implemented potential to use (required).\n",
    "\n",
    "- __symbols__ is a list of the elemental model symbols of potential to associate with the unique atom types of system (required).\n",
    "\n",
    "- __potential_name__ gives the name of the potential_LAMMPS reference record in the iprPy library to use for potential. \n",
    "\n",
    "- __potential_path__ gives the path to the potential_LAMMPS reference record to use.\n",
    "\n",
    "- __potential_dir_path__ gives the path for the folder containing the artifacts associated with the potential (i.e. eam.alloy file)\n",
    "\n"
   ]
  },
  {
   "cell_type": "code",
   "execution_count": 5,
   "metadata": {
    "collapsed": false,
    "deletable": true,
    "editable": true
   },
   "outputs": [
    {
     "name": "stdout",
     "output_type": "stream",
     "text": [
      "Successfully loaded potential 1999--Mishin-Y--Ni--LAMMPS--ipr1\n"
     ]
    }
   ],
   "source": [
    "potential_name = '1999--Mishin-Y--Ni--LAMMPS--ipr1'\n",
    "symbols = ['Ni']\n",
    "\n",
    "# Define potential_path and potential_dir_path using lib_directory and potential_name\n",
    "potential_dir_path = os.path.abspath(os.path.join(lib_directory, \n",
    "                                                  'potential_LAMMPS',\n",
    "                                                  potential_name))\n",
    "potential_path = potential_dir_path + '.json'\n",
    "\n",
    "# Create potential by loading potential_LAMMPS record\n",
    "with open(potential_path) as f:\n",
    "    potential = lmp.Potential(f, potential_dir_path)\n",
    "print('Successfully loaded potential', potential)"
   ]
  },
  {
   "cell_type": "markdown",
   "metadata": {
    "deletable": true,
    "editable": true
   },
   "source": [
    "#### 2.4 Specify calculation-specific run parameters\n",
    "\n",
    "- __strainrange__ specifies the $\\Delta \\epsilon$ strain range to use in estimating $C_{ij}$.\n",
    "\n",
    "- __pressure_xx__ gives the xx component of the pressure to equilibriate the system to.\n",
    "\n",
    "- __pressure_yy__ gives the yy component of the pressure to equilibriate the system to.\n",
    "\n",
    "- __pressure_zz__ gives the zz component of the pressure to equilibriate the system to.\n",
    "\n",
    "- __convergence_tol__ is the relative tolerance to use in identifying if the lattice constants have converged. \n",
    "\n",
    "- __divergence_scale__ is a factor for identifying if the lattice constants have diverged from the original guess. Divergence is identified if $a > a^0 d$ or $a < a^0 / d$, where d is divergence_scale."
   ]
  },
  {
   "cell_type": "code",
   "execution_count": 6,
   "metadata": {
    "collapsed": true,
    "deletable": true,
    "editable": true
   },
   "outputs": [],
   "source": [
    "strainrange = 1e-7\n",
    "pressure_xx = uc.set_in_units(0.0, 'GPa')\n",
    "pressure_yy = uc.set_in_units(0.0, 'GPa')\n",
    "pressure_zz = uc.set_in_units(0.0, 'GPa')\n",
    "convergence_tol = 1e-11\n",
    "divergence_scale = 3."
   ]
  },
  {
   "cell_type": "markdown",
   "metadata": {
    "deletable": true,
    "editable": true
   },
   "source": [
    "### 3. Define calculation function(s) and generate template LAMMPS script(s)"
   ]
  },
  {
   "cell_type": "markdown",
   "metadata": {
    "deletable": true,
    "editable": true
   },
   "source": [
    "#### 3.1 cij.template"
   ]
  },
  {
   "cell_type": "code",
   "execution_count": 7,
   "metadata": {
    "collapsed": true,
    "deletable": true,
    "editable": true
   },
   "outputs": [],
   "source": [
    "with open('cij.template', 'w') as f:\n",
    "    f.write(\"\"\"^fill^cij.template^here^\"\"\")"
   ]
  },
  {
   "cell_type": "markdown",
   "metadata": {
    "deletable": true,
    "editable": true
   },
   "source": [
    "#### 3.2 quick_a_Cij()"
   ]
  },
  {
   "cell_type": "code",
   "execution_count": 8,
   "metadata": {
    "collapsed": false,
    "deletable": true,
    "editable": true
   },
   "outputs": [],
   "source": [
    "^fill^calc_refine_structure.py(quick_a_Cij)^here^"
   ]
  },
  {
   "cell_type": "markdown",
   "metadata": {
    "deletable": true,
    "editable": true
   },
   "source": [
    "#### 3.3 calc_cij()"
   ]
  },
  {
   "cell_type": "code",
   "execution_count": 9,
   "metadata": {
    "collapsed": true,
    "deletable": true,
    "editable": true
   },
   "outputs": [],
   "source": [
    "^fill^calc_refine_structure.py(calc_cij)^here^"
   ]
  },
  {
   "cell_type": "markdown",
   "metadata": {
    "deletable": true,
    "editable": true
   },
   "source": [
    "### 4. Run calculation function(s)"
   ]
  },
  {
   "cell_type": "code",
   "execution_count": 10,
   "metadata": {
    "collapsed": false,
    "deletable": true,
    "editable": true
   },
   "outputs": [],
   "source": [
    "results_dict = quick_a_Cij(lammps_command, \n",
    "                           system, \n",
    "                           potential,\n",
    "                           symbols,\n",
    "                           mpi_command = mpi_command,\n",
    "                           ucell=ucell,\n",
    "                           p_xx = pressure_xx, \n",
    "                           p_yy = pressure_yy, \n",
    "                           p_zz = pressure_zz,\n",
    "                           strainrange = strainrange,\n",
    "                           tol=convergence_tol,\n",
    "                           diverge_scale=divergence_scale)"
   ]
  },
  {
   "cell_type": "code",
   "execution_count": 11,
   "metadata": {
    "collapsed": false,
    "deletable": true,
    "editable": true
   },
   "outputs": [
    {
     "data": {
      "text/plain": [
       "['stress',\n",
       " 'gamma_lat',\n",
       " 'a_lat',\n",
       " 'beta_lat',\n",
       " 'b_lat',\n",
       " 'E_coh',\n",
       " 'c_lat',\n",
       " 'C_elastic',\n",
       " 'alpha_lat',\n",
       " 'system_relaxed']"
      ]
     },
     "execution_count": 11,
     "metadata": {},
     "output_type": "execute_result"
    }
   ],
   "source": [
    "results_dict.keys()"
   ]
  },
  {
   "cell_type": "markdown",
   "metadata": {
    "deletable": true,
    "editable": true
   },
   "source": [
    "### 5. Report results"
   ]
  },
  {
   "cell_type": "markdown",
   "metadata": {
    "deletable": true,
    "editable": true
   },
   "source": [
    "#### 5.1 Define units for outputting values\n",
    "\n",
    "- __length_unit__ is the unit of length to display relaxed lattice constants in.\n",
    "- __energy_unit__ is the unit of energy to display cohesive energies in.\n",
    "- __pressure_unit__ is the unit of pressure to display Cij and relaxed stress state in."
   ]
  },
  {
   "cell_type": "code",
   "execution_count": 12,
   "metadata": {
    "collapsed": true,
    "deletable": true,
    "editable": true
   },
   "outputs": [],
   "source": [
    "length_unit = 'angstrom'\n",
    "energy_unit = 'eV'\n",
    "pressure_unit = 'GPa'"
   ]
  },
  {
   "cell_type": "markdown",
   "metadata": {
    "deletable": true,
    "editable": true
   },
   "source": [
    "#### 5.2 Print Ecoh and lattice constants of relaxed ucell"
   ]
  },
  {
   "cell_type": "code",
   "execution_count": 13,
   "metadata": {
    "collapsed": false,
    "deletable": true,
    "editable": true
   },
   "outputs": [
    {
     "name": "stdout",
     "output_type": "stream",
     "text": [
      "Ecoh = -4.44999999835 eV\n",
      "a = 3.51999943754 angstrom\n",
      "b = 3.51999943754 angstrom\n",
      "c = 3.51999943754 angstrom\n",
      "alpha = 90.0\n",
      "beta =  90.0\n",
      "gamma = 90.0\n"
     ]
    }
   ],
   "source": [
    "print('Ecoh =', uc.get_in_units(results_dict['E_coh'], energy_unit), energy_unit)\n",
    "print('a =',    uc.get_in_units(results_dict['a_lat'], length_unit), length_unit)\n",
    "print('b =',    uc.get_in_units(results_dict['b_lat'], length_unit), length_unit)\n",
    "print('c =',    uc.get_in_units(results_dict['c_lat'], length_unit), length_unit)\n",
    "print('alpha =', results_dict['alpha_lat'])\n",
    "print('beta = ', results_dict['beta_lat'])\n",
    "print('gamma =', results_dict['gamma_lat'])"
   ]
  },
  {
   "cell_type": "markdown",
   "metadata": {
    "deletable": true,
    "editable": true
   },
   "source": [
    "#### 5.3 Print Cij"
   ]
  },
  {
   "cell_type": "code",
   "execution_count": 14,
   "metadata": {
    "collapsed": false,
    "deletable": true,
    "editable": true
   },
   "outputs": [
    {
     "name": "stdout",
     "output_type": "stream",
     "text": [
      "Cij (GPa) =\n",
      "[ 247.8626  147.8285  147.8285    0.0000    0.0000    0.0000]\n",
      "[ 147.8285  247.8626  147.8285    0.0000    0.0000    0.0000]\n",
      "[ 147.8285  147.8285  247.8626    0.0000    0.0000    0.0000]\n",
      "[   0.0000    0.0000    0.0000  124.8381    0.0000    0.0000]\n",
      "[   0.0000    0.0000    0.0000    0.0000  124.8381    0.0000]\n",
      "[   0.0000    0.0000    0.0000    0.0000    0.0000  124.8381]\n"
     ]
    }
   ],
   "source": [
    "print('Cij ('+pressure_unit+') =')\n",
    "for Ci in uc.get_in_units(results_dict['C_elastic'].Cij, pressure_unit):\n",
    "    print('[%9.4f %9.4f %9.4f %9.4f %9.4f %9.4f]' % tuple(Ci))"
   ]
  },
  {
   "cell_type": "markdown",
   "metadata": {
    "deletable": true,
    "editable": true
   },
   "source": [
    "#### 5.4 Check stress state of relaxed system"
   ]
  },
  {
   "cell_type": "code",
   "execution_count": 15,
   "metadata": {
    "collapsed": false,
    "deletable": true,
    "editable": true
   },
   "outputs": [
    {
     "name": "stdout",
     "output_type": "stream",
     "text": [
      "stress (GPa) =\n",
      "[  -0.0000    0.0000    0.0000]\n",
      "[   0.0000   -0.0000    0.0000]\n",
      "[   0.0000    0.0000   -0.0000]\n"
     ]
    }
   ],
   "source": [
    "print('stress ('+pressure_unit+') =')\n",
    "for Si in uc.get_in_units(results_dict['stress'], pressure_unit):\n",
    "    print('[%9.4f %9.4f %9.4f]' % tuple(Si))"
   ]
  },
  {
   "cell_type": "markdown",
   "metadata": {
    "deletable": true,
    "editable": true
   },
   "source": [
    "#### 5.5 Show relaxed atomic configuration"
   ]
  },
  {
   "cell_type": "code",
   "execution_count": 16,
   "metadata": {
    "collapsed": false,
    "deletable": true,
    "editable": true
   },
   "outputs": [
    {
     "name": "stdout",
     "output_type": "stream",
     "text": [
      "avect =  [10.560,  0.000,  0.000]\n",
      "bvect =  [ 0.000, 10.560,  0.000]\n",
      "cvect =  [ 0.000,  0.000, 10.560]\n",
      "origin = [ 0.000,  0.000,  0.000]\n",
      "natoms = 108\n",
      "natypes = 1\n",
      "     id |   atype |  pos[0] |  pos[1] |  pos[2]\n",
      "      0 |       1 |   0.000 |   0.000 |   0.000\n",
      "      1 |       1 |   0.000 |   1.760 |   1.760\n",
      "      2 |       1 |   1.760 |   0.000 |   1.760\n",
      "      3 |       1 |   1.760 |   1.760 |   0.000\n",
      "      4 |       1 |   3.520 |   0.000 |   0.000\n",
      "      5 |       1 |   3.520 |   1.760 |   1.760\n",
      "      6 |       1 |   5.280 |   0.000 |   1.760\n",
      "      7 |       1 |   5.280 |   1.760 |   0.000\n",
      "      8 |       1 |   7.040 |   0.000 |   0.000\n",
      "      9 |       1 |   7.040 |   1.760 |   1.760\n",
      "     10 |       1 |   8.800 |   0.000 |   1.760\n",
      "     11 |       1 |   8.800 |   1.760 |   0.000\n",
      "     12 |       1 |   0.000 |   3.520 |   0.000\n",
      "     13 |       1 |   0.000 |   5.280 |   1.760\n",
      "     14 |       1 |   1.760 |   3.520 |   1.760\n",
      "     15 |       1 |   1.760 |   5.280 |   0.000\n",
      "     16 |       1 |   3.520 |   3.520 |   0.000\n",
      "     17 |       1 |   3.520 |   5.280 |   1.760\n",
      "     18 |       1 |   5.280 |   3.520 |   1.760\n",
      "     19 |       1 |   5.280 |   5.280 |   0.000\n",
      "     20 |       1 |   7.040 |   3.520 |   0.000\n",
      "     21 |       1 |   7.040 |   5.280 |   1.760\n",
      "     22 |       1 |   8.800 |   3.520 |   1.760\n",
      "     23 |       1 |   8.800 |   5.280 |   0.000\n",
      "     24 |       1 |   0.000 |   7.040 |   0.000\n",
      "     25 |       1 |   0.000 |   8.800 |   1.760\n",
      "     26 |       1 |   1.760 |   7.040 |   1.760\n",
      "     27 |       1 |   1.760 |   8.800 |   0.000\n",
      "     28 |       1 |   3.520 |   7.040 |   0.000\n",
      "     29 |       1 |   3.520 |   8.800 |   1.760\n",
      "     30 |       1 |   5.280 |   7.040 |   1.760\n",
      "     31 |       1 |   5.280 |   8.800 |   0.000\n",
      "     32 |       1 |   7.040 |   7.040 |   0.000\n",
      "     33 |       1 |   7.040 |   8.800 |   1.760\n",
      "     34 |       1 |   8.800 |   7.040 |   1.760\n",
      "     35 |       1 |   8.800 |   8.800 |   0.000\n",
      "     36 |       1 |   0.000 |   0.000 |   3.520\n",
      "     37 |       1 |   0.000 |   1.760 |   5.280\n",
      "     38 |       1 |   1.760 |   0.000 |   5.280\n",
      "     39 |       1 |   1.760 |   1.760 |   3.520\n",
      "     40 |       1 |   3.520 |   0.000 |   3.520\n",
      "     41 |       1 |   3.520 |   1.760 |   5.280\n",
      "     42 |       1 |   5.280 |   0.000 |   5.280\n",
      "     43 |       1 |   5.280 |   1.760 |   3.520\n",
      "     44 |       1 |   7.040 |   0.000 |   3.520\n",
      "     45 |       1 |   7.040 |   1.760 |   5.280\n",
      "     46 |       1 |   8.800 |   0.000 |   5.280\n",
      "     47 |       1 |   8.800 |   1.760 |   3.520\n",
      "     48 |       1 |   0.000 |   3.520 |   3.520\n",
      "     49 |       1 |   0.000 |   5.280 |   5.280\n",
      "     50 |       1 |   1.760 |   3.520 |   5.280\n",
      "     51 |       1 |   1.760 |   5.280 |   3.520\n",
      "     52 |       1 |   3.520 |   3.520 |   3.520\n",
      "     53 |       1 |   3.520 |   5.280 |   5.280\n",
      "     54 |       1 |   5.280 |   3.520 |   5.280\n",
      "     55 |       1 |   5.280 |   5.280 |   3.520\n",
      "     56 |       1 |   7.040 |   3.520 |   3.520\n",
      "     57 |       1 |   7.040 |   5.280 |   5.280\n",
      "     58 |       1 |   8.800 |   3.520 |   5.280\n",
      "     59 |       1 |   8.800 |   5.280 |   3.520\n",
      "     60 |       1 |   0.000 |   7.040 |   3.520\n",
      "     61 |       1 |   0.000 |   8.800 |   5.280\n",
      "     62 |       1 |   1.760 |   7.040 |   5.280\n",
      "     63 |       1 |   1.760 |   8.800 |   3.520\n",
      "     64 |       1 |   3.520 |   7.040 |   3.520\n",
      "     65 |       1 |   3.520 |   8.800 |   5.280\n",
      "     66 |       1 |   5.280 |   7.040 |   5.280\n",
      "     67 |       1 |   5.280 |   8.800 |   3.520\n",
      "     68 |       1 |   7.040 |   7.040 |   3.520\n",
      "     69 |       1 |   7.040 |   8.800 |   5.280\n",
      "     70 |       1 |   8.800 |   7.040 |   5.280\n",
      "     71 |       1 |   8.800 |   8.800 |   3.520\n",
      "     72 |       1 |   0.000 |   0.000 |   7.040\n",
      "     73 |       1 |   0.000 |   1.760 |   8.800\n",
      "     74 |       1 |   1.760 |   0.000 |   8.800\n",
      "     75 |       1 |   1.760 |   1.760 |   7.040\n",
      "     76 |       1 |   3.520 |   0.000 |   7.040\n",
      "     77 |       1 |   3.520 |   1.760 |   8.800\n",
      "     78 |       1 |   5.280 |   0.000 |   8.800\n",
      "     79 |       1 |   5.280 |   1.760 |   7.040\n",
      "     80 |       1 |   7.040 |   0.000 |   7.040\n",
      "     81 |       1 |   7.040 |   1.760 |   8.800\n",
      "     82 |       1 |   8.800 |   0.000 |   8.800\n",
      "     83 |       1 |   8.800 |   1.760 |   7.040\n",
      "     84 |       1 |   0.000 |   3.520 |   7.040\n",
      "     85 |       1 |   0.000 |   5.280 |   8.800\n",
      "     86 |       1 |   1.760 |   3.520 |   8.800\n",
      "     87 |       1 |   1.760 |   5.280 |   7.040\n",
      "     88 |       1 |   3.520 |   3.520 |   7.040\n",
      "     89 |       1 |   3.520 |   5.280 |   8.800\n",
      "     90 |       1 |   5.280 |   3.520 |   8.800\n",
      "     91 |       1 |   5.280 |   5.280 |   7.040\n",
      "     92 |       1 |   7.040 |   3.520 |   7.040\n",
      "     93 |       1 |   7.040 |   5.280 |   8.800\n",
      "     94 |       1 |   8.800 |   3.520 |   8.800\n",
      "     95 |       1 |   8.800 |   5.280 |   7.040\n",
      "     96 |       1 |   0.000 |   7.040 |   7.040\n",
      "     97 |       1 |   0.000 |   8.800 |   8.800\n",
      "     98 |       1 |   1.760 |   7.040 |   8.800\n",
      "     99 |       1 |   1.760 |   8.800 |   7.040\n",
      "    100 |       1 |   3.520 |   7.040 |   7.040\n",
      "    101 |       1 |   3.520 |   8.800 |   8.800\n",
      "    102 |       1 |   5.280 |   7.040 |   8.800\n",
      "    103 |       1 |   5.280 |   8.800 |   7.040\n",
      "    104 |       1 |   7.040 |   7.040 |   7.040\n",
      "    105 |       1 |   7.040 |   8.800 |   8.800\n",
      "    106 |       1 |   8.800 |   7.040 |   8.800\n",
      "    107 |       1 |   8.800 |   8.800 |   7.040\n"
     ]
    }
   ],
   "source": [
    "print(results_dict['system_relaxed'])"
   ]
  }
 ],
 "metadata": {
  "kernelspec": {
   "display_name": "Python 2",
   "language": "python",
   "name": "python2"
  },
  "language_info": {
   "codemirror_mode": {
    "name": "ipython",
    "version": 2
   },
   "file_extension": ".py",
   "mimetype": "text/x-python",
   "name": "python",
   "nbconvert_exporter": "python",
   "pygments_lexer": "ipython2",
   "version": "2.7.13"
  }
 },
 "nbformat": 4,
 "nbformat_minor": 2
}
