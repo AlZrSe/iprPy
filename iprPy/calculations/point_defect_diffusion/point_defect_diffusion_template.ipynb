{
 "cells": [
  {
   "cell_type": "markdown",
   "metadata": {
    "deletable": true,
    "editable": true
   },
   "source": [
    "^fill^README.md^here^\n",
    "\n",
    "- - -"
   ]
  },
  {
   "cell_type": "markdown",
   "metadata": {
    "deletable": true,
    "editable": true
   },
   "source": [
    "^fill^theory.md^here^\n",
    "\n",
    "- - -"
   ]
  },
  {
   "cell_type": "markdown",
   "metadata": {
    "deletable": true,
    "editable": true
   },
   "source": [
    "## Demonstration"
   ]
  },
  {
   "cell_type": "markdown",
   "metadata": {
    "deletable": true,
    "editable": true
   },
   "source": [
    "### 1. Library imports"
   ]
  },
  {
   "cell_type": "markdown",
   "metadata": {
    "deletable": true,
    "editable": true
   },
   "source": [
    "Import libraries needed by the calculation. The external libraries used are:\n",
    "\n",
    "- [numpy](http://www.numpy.org/)\n",
    "\n",
    "- [DataModelDict](https://github.com/usnistgov/DataModelDict)\n",
    "\n",
    "- [atomman](https://github.com/usnistgov/atomman)\n",
    "\n",
    "- [iprPy](https://github.com/usnistgov/iprPy)"
   ]
  },
  {
   "cell_type": "code",
   "execution_count": 1,
   "metadata": {
    "collapsed": true,
    "deletable": true,
    "editable": true
   },
   "outputs": [],
   "source": [
    "# Standard library imports\n",
    "from __future__ import division, absolute_import, print_function\n",
    "import os\n",
    "import sys\n",
    "import uuid\n",
    "import glob\n",
    "import shutil\n",
    "import datetime\n",
    "from copy import deepcopy\n",
    "\n",
    "# http://www.numpy.org/\n",
    "import numpy as np \n",
    "\n",
    "# https://github.com/usnistgov/DataModelDict \n",
    "from DataModelDict import DataModelDict as DM\n",
    "\n",
    "# https://github.com/usnistgov/atomman \n",
    "import atomman as am\n",
    "import atomman.lammps as lmp\n",
    "import atomman.unitconvert as uc\n",
    "\n",
    "# https://github.com/usnistgov/iprPy\n",
    "import iprPy"
   ]
  },
  {
   "cell_type": "markdown",
   "metadata": {
    "deletable": true,
    "editable": true
   },
   "source": [
    "### 2. Assign values for the calculation's run parameters"
   ]
  },
  {
   "cell_type": "markdown",
   "metadata": {
    "deletable": true,
    "editable": true
   },
   "source": [
    "#### 2.0 Set the calculation's working directory"
   ]
  },
  {
   "cell_type": "code",
   "execution_count": 2,
   "metadata": {
    "collapsed": false,
    "deletable": true,
    "editable": true
   },
   "outputs": [],
   "source": [
    "calc_name = 'point_defect_structure'\n",
    "\n",
    "# Check current working directory\n",
    "cwd_name = os.path.basename(os.getcwd())\n",
    "\n",
    "# Change working directory if needed\n",
    "if cwd_name != calc_name:\n",
    "    if not os.path.isdir(calc_name):\n",
    "        os.mkdir(calc_name)\n",
    "    os.chdir(calc_name)"
   ]
  },
  {
   "cell_type": "markdown",
   "metadata": {
    "deletable": true,
    "editable": true
   },
   "source": [
    "#### 2.1 Specify system-specific paths\n",
    "\n",
    "- __lammps_command__ (required) is the LAMMPS command to use.\n",
    "\n",
    "- __mpi_command__ MPI command for running LAMMPS in parallel. A value of None will run simulations serially.\n",
    "\n",
    "- __lib_directory__ defines the relative path to the iprPy library. This makes it easier to define paths to reference records later."
   ]
  },
  {
   "cell_type": "code",
   "execution_count": 3,
   "metadata": {
    "collapsed": true,
    "deletable": true,
    "editable": true
   },
   "outputs": [],
   "source": [
    "lammps_command = 'lmp_serial'\n",
    "mpi_command = None\n",
    "lib_directory = '../../../library'"
   ]
  },
  {
   "cell_type": "markdown",
   "metadata": {
    "deletable": true,
    "editable": true
   },
   "source": [
    "#### 2.2 Specify the prototype system\n",
    "\n",
    "- __system__ (required) is an atomman.System to perform the scan on. \n",
    "\n",
    "- __ucell__ (required) is an atomman.System representing a fundamental unit cell of the system.\n",
    "\n",
    "- __prototype_name__ gives the name of the crystal_prototype reference record in the iprPy library to use for ucell. \n",
    "\n",
    "- __prototype_path__ gives the path to the crystal_prototype reference record to use.\n",
    "\n",
    "- __box_parameters__ defines the initial guess box parameters to scale ucell and system by.\n",
    "\n",
    "- __sizemults__ list of three integers specifying how many times the ucell vectors of $a$, $b$ and $c$ are replicated in creating system."
   ]
  },
  {
   "cell_type": "code",
   "execution_count": 4,
   "metadata": {
    "collapsed": false,
    "deletable": true,
    "editable": true
   },
   "outputs": [
    {
     "name": "stdout",
     "output_type": "stream",
     "text": [
      "# of atoms in ucell = 4\n",
      "# of atoms in system = 500\n"
     ]
    }
   ],
   "source": [
    "prototype_name = 'A1--Cu--fcc'\n",
    "box_parameters = [3.52, 3.52, 3.52]\n",
    "sizemults = [5,5,5]\n",
    "\n",
    "# Define prototype_path using lib_directory and prototype_name\n",
    "prototype_path = os.path.abspath(os.path.join(lib_directory, 'crystal_prototype', prototype_name+'.json'))\n",
    "\n",
    "# Create ucell by loading prototype record\n",
    "ucell = am.load('system_model', prototype_path)[0]\n",
    "print('# of atoms in ucell =', ucell.natoms)\n",
    "\n",
    "# Rescale ucell using box_parameters\n",
    "ucell.box_set(a=box_parameters[0], b=box_parameters[1], c=box_parameters[2], scale=True)\n",
    "\n",
    "# Generate system by supersizing ucell\n",
    "system = am.supersize(ucell, *sizemults)\n",
    "print('# of atoms in system =', system.natoms)"
   ]
  },
  {
   "cell_type": "markdown",
   "metadata": {
    "deletable": true,
    "editable": true
   },
   "source": [
    "#### 2.3 Specify the potenital and elemental symbols\n",
    "\n",
    "- __potential__ (required) is the atomman.lammps.Potential representation of a LAMMPS implemented potential to use.\n",
    "\n",
    "- __symbols__ (required) is a list of the elemental model symbols of potential to associate with the unique atom types of system.\n",
    "\n",
    "- __potential_name__ gives the name of the potential_LAMMPS reference record in the iprPy library to use for potential. \n",
    "\n",
    "- __potential_path__ gives the path to the potential_LAMMPS reference record to use.\n",
    "\n",
    "- __potential_dir_path__ gives the path for the folder containing the artifacts associated with the potential (i.e. eam.alloy file)\n",
    "\n"
   ]
  },
  {
   "cell_type": "code",
   "execution_count": 5,
   "metadata": {
    "collapsed": false,
    "deletable": true,
    "editable": true
   },
   "outputs": [
    {
     "name": "stdout",
     "output_type": "stream",
     "text": [
      "Successfully loaded potential 1999--Mishin-Y--Ni--LAMMPS--ipr1\n"
     ]
    }
   ],
   "source": [
    "potential_name = '1999--Mishin-Y--Ni--LAMMPS--ipr1'\n",
    "symbols = ['Ni']\n",
    "\n",
    "# Define potential_path and potential_dir_path using lib_directory and potential_name\n",
    "potential_dir_path = os.path.abspath(os.path.join(lib_directory, 'potential_LAMMPS', potential_name))\n",
    "potential_path = potential_dir_path + '.json'\n",
    "\n",
    "# Create potential by loading LAMMPS-potential record\n",
    "with open(potential_path) as f:\n",
    "    potential = lmp.Potential(f, potential_dir_path)\n",
    "print('Successfully loaded potential', potential)"
   ]
  },
  {
   "cell_type": "markdown",
   "metadata": {
    "deletable": true,
    "editable": true
   },
   "source": [
    "#### 2.4 Specify the defect \n",
    "\n",
    "__2.4a Specify the defect model__\n",
    "\n",
    "- __pointdefect_model__ is a DataModelDict of a point-defect record.\n",
    "\n",
    "- __pointdefect_name__ gives the name of the point-defect reference record in the iprPy library to use for potential. \n",
    "\n",
    "- __pointdefect_path__ gives the path to the point-defect reference record to use."
   ]
  },
  {
   "cell_type": "code",
   "execution_count": 6,
   "metadata": {
    "collapsed": false,
    "deletable": true,
    "editable": true
   },
   "outputs": [
    {
     "name": "stdout",
     "output_type": "stream",
     "text": [
      "Successfully loaded defect parameters for A1--Cu--fcc--vacancy\n",
      "{\n",
      "    \"ptd_type\": \"v\", \n",
      "    \"pos\": \"0.0000000000000 0.0000000000000 0.0000000000000\", \n",
      "    \"scale\": true\n",
      "}\n"
     ]
    }
   ],
   "source": [
    "pointdefect_name = 'A1--Cu--fcc--vacancy'\n",
    "#pointdefect_name = 'A1--Cu--fcc--100-dumbbell'\n",
    "#pointdefect_name = 'A1--Cu--fcc--110-dumbbell'\n",
    "#pointdefect_name = 'A1--Cu--fcc--111-dumbbell'\n",
    "#pointdefect_name = 'A1--Cu--fcc--octahedral-interstitial'\n",
    "#pointdefect_name = 'A1--Cu--fcc--tetrahedral-interstitial'\n",
    "#pointdefect_name = 'A1--Cu--fcc--crowdion-interstitial'\n",
    "\n",
    "# Define pointdefect_path using lib_directory and pointdefect_name\n",
    "pointdefect_path = os.path.abspath(os.path.join(lib_directory, 'point_defect', pointdefect_name+'.json')) \n",
    "\n",
    "# Load pointdefect record as a DataModelDict\n",
    "with open(pointdefect_path) as f:\n",
    "    pointdefect_model = DM(f)\n",
    "\n",
    "print('Successfully loaded defect parameters for', pointdefect_model['point-defect']['id'])\n",
    "\n",
    "# Extract defect parameters    \n",
    "point_kwargs = pointdefect_model['point-defect']['calculation-parameter']\n",
    "print(point_kwargs.json(indent=4))"
   ]
  },
  {
   "cell_type": "markdown",
   "metadata": {
    "deletable": true,
    "editable": true
   },
   "source": [
    "__2.4b Specify the point defect parameters__\n",
    "\n",
    "- __point_kwargs__ (required) is a dictionary or list of dictonaries containing parameters for generating the defect. Values can either be extracted from a point-defect model (as done here), or defined independently. Allowed keywords are:\n",
    "\n",
    "    - __ptd_type__ indicates which defect type to generate: 'v' for vacancy, 'i' for interstitial, 's' for substitutional, or 'db' for dumbbell.\n",
    "    \n",
    "    - __atype__ is the atom type to assign to the defect atom ('i', 's', 'db' ptd_types).\n",
    "    \n",
    "    - __pos__ specifies the position for adding the defect atom (all ptd_types).\n",
    "    \n",
    "    - __ptd_id__ specifies the id of an atom in the initial system where the defect is to be added. Alternative to using pos ('v', 's', 'db' ptd_types).\n",
    "    \n",
    "    - __db_vect__ gives the vector associated with the dumbbell interstitial to generate ('db' ptd_type).\n",
    "    \n",
    "    - __scale__ indicates if pos and db_vect are in absolute (False) or box-relative (True) coordinates. Default is False.\n",
    "    \n",
    "    - __atol__ is the absolute tolerance for position-based searching. Default is 1e-3 angstroms."
   ]
  },
  {
   "cell_type": "code",
   "execution_count": 7,
   "metadata": {
    "collapsed": false,
    "deletable": true,
    "editable": true
   },
   "outputs": [
    {
     "name": "stdout",
     "output_type": "stream",
     "text": [
      "{\n",
      "    ptd_type : v\n",
      "    pos : [ 0.  0.  0.]\n",
      "    scale : False\n",
      "}\n"
     ]
    }
   ],
   "source": [
    "if not isinstance(point_kwargs, (list, tuple)):\n",
    "    point_kwargs = [point_kwargs]\n",
    "\n",
    "#Unscale vector parameters relative to ucell\n",
    "for i in xrange(len(point_kwargs)):\n",
    "    params = point_kwargs[i]\n",
    "    \n",
    "    scale = iprPy.input.boolean(params.get('scale', False))\n",
    "    \n",
    "    if 'atype' in params:\n",
    "        params['atype'] = int(params['atype'])\n",
    "\n",
    "    if 'pos' in params:\n",
    "        params['pos'] = np.array(params['pos'].strip().split(), dtype=float)\n",
    "        if scale is True:\n",
    "            params['pos'] = ucell.unscale(params['pos'])\n",
    "    if 'db_vect' in params:\n",
    "\n",
    "        params['db_vect'] = np.array(params['db_vect'].strip().split(), dtype=float)\n",
    "        if scale is True:\n",
    "            params['db_vect'] = ucell.unscale(params['db_vect'])\n",
    "\n",
    "    params['scale'] = False\n",
    "        \n",
    "for params in point_kwargs:\n",
    "    print('{')\n",
    "    for key, value in params.iteritems():\n",
    "        print('   ',key,':',value)\n",
    "    print('}')"
   ]
  },
  {
   "cell_type": "markdown",
   "metadata": {
    "deletable": true,
    "editable": true
   },
   "source": [
    "#### 2.5 Specify calculation-specific run parameters\n",
    "\n",
    "- __energytolerance__ is the energy tolerance to use during the minimizations. This is unitless.\n",
    "\n",
    "- __forcetolerance__ is the force tolerance to use during the minimizations. This is in energy/length units.\n",
    "\n",
    "- __maxiterations__ is the maximum number of minimization iterations to use.\n",
    "\n",
    "- __maxevaluations__ is the maximum number of minimization evaluations to use.\n",
    "\n",
    "- __maxatommotion__ is the largest distance that an atom is allowed to move during a minimization iteration. This is in length units."
   ]
  },
  {
   "cell_type": "code",
   "execution_count": 8,
   "metadata": {
    "collapsed": true,
    "deletable": true,
    "editable": true
   },
   "outputs": [],
   "source": [
    "energytolerance = 1e-8\n",
    "forcetolerance = uc.set_in_units(0.0, 'eV/angstrom')\n",
    "maxiterations = 10000\n",
    "maxevaluations = 100000\n",
    "maxatommotion = uc.set_in_units(0.01, 'angstrom')"
   ]
  },
  {
   "cell_type": "markdown",
   "metadata": {
    "deletable": true,
    "editable": true
   },
   "source": [
    "### 3. Define calculation function(s) and generate template LAMMPS script(s)"
   ]
  },
  {
   "cell_type": "markdown",
   "metadata": {
    "deletable": true,
    "editable": true
   },
   "source": [
    "#### 3.1 min.template"
   ]
  },
  {
   "cell_type": "code",
   "execution_count": 9,
   "metadata": {
    "collapsed": true,
    "deletable": true,
    "editable": true
   },
   "outputs": [],
   "source": [
    "with open('min.template', 'w') as f:\n",
    "    f.write(\"\"\"^fill^min.template^here^\"\"\")"
   ]
  },
  {
   "cell_type": "markdown",
   "metadata": {
    "deletable": true,
    "editable": true
   },
   "source": [
    "#### 3.2 pointdefect()"
   ]
  },
  {
   "cell_type": "code",
   "execution_count": 10,
   "metadata": {
    "collapsed": false,
    "deletable": true,
    "editable": true
   },
   "outputs": [],
   "source": [
    "^fill^calc_point_defect_static.py(pointdefect)^here^"
   ]
  },
  {
   "cell_type": "markdown",
   "metadata": {
    "deletable": true,
    "editable": true
   },
   "source": [
    "#### 3.3 check_ptd_config()"
   ]
  },
  {
   "cell_type": "code",
   "execution_count": 11,
   "metadata": {
    "collapsed": true,
    "deletable": true,
    "editable": true
   },
   "outputs": [],
   "source": [
    "^fill^calc_point_defect_static.py(check_ptd_config)^here^"
   ]
  },
  {
   "cell_type": "markdown",
   "metadata": {
    "deletable": true,
    "editable": true
   },
   "source": [
    "### 4. Run calculation function(s)"
   ]
  },
  {
   "cell_type": "markdown",
   "metadata": {
    "deletable": true,
    "editable": true
   },
   "source": [
    "#### 4.1 Generate point defect system and evaluate the energy"
   ]
  },
  {
   "cell_type": "code",
   "execution_count": 12,
   "metadata": {
    "collapsed": false,
    "deletable": true,
    "editable": true
   },
   "outputs": [],
   "source": [
    "results_dict = pointdefect(lammps_command, \n",
    "                           system, \n",
    "                           potential,\n",
    "                           symbols,\n",
    "                           point_kwargs,\n",
    "                           mpi_command = mpi_command,\n",
    "                           etol = energytolerance,\n",
    "                           ftol = forcetolerance,\n",
    "                           maxiter = maxiterations,\n",
    "                           maxeval = maxevaluations,\n",
    "                           dmax = maxatommotion)"
   ]
  },
  {
   "cell_type": "code",
   "execution_count": 13,
   "metadata": {
    "collapsed": false,
    "deletable": true,
    "editable": true
   },
   "outputs": [
    {
     "data": {
      "text/plain": [
       "['E_total_ptd',\n",
       " 'E_coh',\n",
       " 'system_ptd',\n",
       " 'dumpfile_ptd',\n",
       " 'system_base',\n",
       " 'E_ptd_f',\n",
       " 'E_total_base',\n",
       " 'dumpfile_base']"
      ]
     },
     "execution_count": 13,
     "metadata": {},
     "output_type": "execute_result"
    }
   ],
   "source": [
    "results_dict.keys()"
   ]
  },
  {
   "cell_type": "markdown",
   "metadata": {
    "deletable": true,
    "editable": true
   },
   "source": [
    "#### 4.2 Characterize if the defect has reconfigured"
   ]
  },
  {
   "cell_type": "code",
   "execution_count": 14,
   "metadata": {
    "collapsed": true,
    "deletable": true,
    "editable": true
   },
   "outputs": [],
   "source": [
    "cutoff = 1.05*ucell.box.a\n",
    "results_dict.update(check_ptd_config(results_dict['system_ptd'], \n",
    "                                     point_kwargs, \n",
    "                                     cutoff))"
   ]
  },
  {
   "cell_type": "code",
   "execution_count": 15,
   "metadata": {
    "collapsed": false,
    "deletable": true,
    "editable": true
   },
   "outputs": [
    {
     "data": {
      "text/plain": [
       "['has_reconfigured',\n",
       " 'E_total_ptd',\n",
       " 'E_coh',\n",
       " 'system_ptd',\n",
       " 'dumpfile_ptd',\n",
       " 'system_base',\n",
       " 'centrosummation',\n",
       " 'E_ptd_f',\n",
       " 'E_total_base',\n",
       " 'dumpfile_base']"
      ]
     },
     "execution_count": 15,
     "metadata": {},
     "output_type": "execute_result"
    }
   ],
   "source": [
    "results_dict.keys()"
   ]
  },
  {
   "cell_type": "markdown",
   "metadata": {
    "deletable": true,
    "editable": true
   },
   "source": [
    "### 5. Report results"
   ]
  },
  {
   "cell_type": "markdown",
   "metadata": {
    "deletable": true,
    "editable": true
   },
   "source": [
    "#### 5.1 Define units for outputting values\n",
    "\n",
    "- __length_unit__ is the unit of length to display relaxed lattice constants in.\n",
    "- __energy_unit__ is the unit of energy to display cohesive energies in."
   ]
  },
  {
   "cell_type": "code",
   "execution_count": 16,
   "metadata": {
    "collapsed": true,
    "deletable": true,
    "editable": true
   },
   "outputs": [],
   "source": [
    "length_unit = 'angstrom'\n",
    "energy_unit = 'eV'"
   ]
  },
  {
   "cell_type": "markdown",
   "metadata": {
    "deletable": true,
    "editable": true
   },
   "source": [
    "#### 5.2 Print $E_{coh}$ and $E_{ptd}^f$"
   ]
  },
  {
   "cell_type": "code",
   "execution_count": 17,
   "metadata": {
    "collapsed": false,
    "deletable": true,
    "editable": true
   },
   "outputs": [
    {
     "name": "stdout",
     "output_type": "stream",
     "text": [
      "Ecoh =   -4.44999999835 eV\n",
      "Eptd_f = 1.60000249825 eV\n"
     ]
    }
   ],
   "source": [
    "print('Ecoh =  ', uc.get_in_units(results_dict['E_coh'], energy_unit), energy_unit)\n",
    "print('Eptd_f =', uc.get_in_units(results_dict['E_ptd_f'], energy_unit), energy_unit)"
   ]
  },
  {
   "cell_type": "markdown",
   "metadata": {
    "deletable": true,
    "editable": true
   },
   "source": [
    "#### 5.3 Check configuration parameters"
   ]
  },
  {
   "cell_type": "code",
   "execution_count": 18,
   "metadata": {
    "collapsed": false,
    "deletable": true,
    "editable": true
   },
   "outputs": [
    {
     "name": "stdout",
     "output_type": "stream",
     "text": [
      "Has the system (likely) reconfigured? False\n",
      "centrosummation = [  1.67976425e-14   1.86517468e-14   1.95399252e-14] angstrom\n"
     ]
    }
   ],
   "source": [
    "print('Has the system (likely) reconfigured?', results_dict['has_reconfigured'])\n",
    "if 'centrosummation' in results_dict:\n",
    "    print('centrosummation =', uc.get_in_units(results_dict['centrosummation'], length_unit), length_unit)\n",
    "if 'position_shift' in results_dict:\n",
    "    print('position_shift = ', uc.get_in_units(results_dict['position_shift'], length_unit), length_unit)\n",
    "if 'db_vect_shift' in results_dict:\n",
    "    print('db_vect_shift =  ', uc.get_in_units(results_dict['db_vect_shift'], length_unit), length_unit)"
   ]
  }
 ],
 "metadata": {
  "kernelspec": {
   "display_name": "Python 2",
   "language": "python",
   "name": "python2"
  },
  "language_info": {
   "codemirror_mode": {
    "name": "ipython",
    "version": 2
   },
   "file_extension": ".py",
   "mimetype": "text/x-python",
   "name": "python",
   "nbconvert_exporter": "python",
   "pygments_lexer": "ipython2",
   "version": "2.7.13"
  }
 },
 "nbformat": 4,
 "nbformat_minor": 2
}
