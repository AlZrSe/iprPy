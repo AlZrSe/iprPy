{
 "cells": [
  {
   "cell_type": "markdown",
   "metadata": {
    "deletable": true,
    "editable": true
   },
   "source": [
    "^fill^README.md^here^\n",
    "\n",
    "- - -"
   ]
  },
  {
   "cell_type": "markdown",
   "metadata": {
    "deletable": true,
    "editable": true
   },
   "source": [
    "^fill^theory.md^here^\n",
    "\n",
    "- - -"
   ]
  },
  {
   "cell_type": "markdown",
   "metadata": {
    "deletable": true,
    "editable": true
   },
   "source": [
    "## Demonstration"
   ]
  },
  {
   "cell_type": "markdown",
   "metadata": {
    "deletable": true,
    "editable": true
   },
   "source": [
    "### 1. Library imports"
   ]
  },
  {
   "cell_type": "markdown",
   "metadata": {
    "deletable": true,
    "editable": true
   },
   "source": [
    "Import libraries needed by the calculation. The external libraries used are:\n",
    "\n",
    "- [numpy](http://www.numpy.org/)\n",
    "\n",
    "- [pandas](https://pandas.pydata.org/)\n",
    "\n",
    "- [DataModelDict](https://github.com/usnistgov/DataModelDict)\n",
    "\n",
    "- [atomman](https://github.com/usnistgov/atomman)\n",
    "\n",
    "- [iprPy](https://github.com/usnistgov/iprPy)"
   ]
  },
  {
   "cell_type": "code",
   "execution_count": 1,
   "metadata": {
    "collapsed": true,
    "deletable": true,
    "editable": true
   },
   "outputs": [],
   "source": [
    "# Standard library imports\n",
    "from __future__ import division, absolute_import, print_function\n",
    "import os\n",
    "import sys\n",
    "import uuid\n",
    "import shutil\n",
    "import datetime\n",
    "from copy import deepcopy\n",
    "\n",
    "# http://www.numpy.org/\n",
    "import numpy as np \n",
    "\n",
    "# https://pandas.pydata.org/\n",
    "import pandas as pd\n",
    "\n",
    "# https://github.com/usnistgov/DataModelDict \n",
    "from DataModelDict import DataModelDict as DM\n",
    "\n",
    "# https://github.com/usnistgov/atomman \n",
    "import atomman as am\n",
    "import atomman.lammps as lmp\n",
    "import atomman.unitconvert as uc\n",
    "\n",
    "# https://github.com/usnistgov/iprPy\n",
    "import iprPy"
   ]
  },
  {
   "cell_type": "markdown",
   "metadata": {
    "deletable": true,
    "editable": true
   },
   "source": [
    "Import plotting library for the Notebook"
   ]
  },
  {
   "cell_type": "code",
   "execution_count": 2,
   "metadata": {
    "collapsed": true,
    "deletable": true,
    "editable": true
   },
   "outputs": [],
   "source": [
    "import matplotlib.pyplot as plt\n",
    "from matplotlib import cm\n",
    "%matplotlib inline"
   ]
  },
  {
   "cell_type": "markdown",
   "metadata": {
    "deletable": true,
    "editable": true
   },
   "source": [
    "### 2. Assign values for the calculation's run parameters"
   ]
  },
  {
   "cell_type": "markdown",
   "metadata": {
    "deletable": true,
    "editable": true
   },
   "source": [
    "#### 2.0 Set the calculation's working directory"
   ]
  },
  {
   "cell_type": "code",
   "execution_count": 3,
   "metadata": {
    "collapsed": false,
    "deletable": true,
    "editable": true
   },
   "outputs": [],
   "source": [
    "calc_name = 'stacking_fault_multi'\n",
    "\n",
    "# Check current working directory\n",
    "cwd_name = os.path.basename(os.getcwd())\n",
    "\n",
    "# Change working directory if needed\n",
    "if cwd_name != calc_name:\n",
    "    if not os.path.isdir(calc_name):\n",
    "        os.mkdir(calc_name)\n",
    "    os.chdir(calc_name)"
   ]
  },
  {
   "cell_type": "markdown",
   "metadata": {
    "deletable": true,
    "editable": true
   },
   "source": [
    "#### 2.1 Specify system-specific paths\n",
    "\n",
    "Simple input parameters:\n",
    "\n",
    "- __lammps_command__ is the LAMMPS command to use.\n",
    "\n",
    "- __mpi_command__ MPI command for running LAMMPS in parallel. A value of None will run simulations serially.\n",
    "\n",
    "- __lib_directory__ defines the relative path to the iprPy library. This makes it easier to define paths to reference records later."
   ]
  },
  {
   "cell_type": "code",
   "execution_count": 4,
   "metadata": {
    "collapsed": true,
    "deletable": true,
    "editable": true
   },
   "outputs": [],
   "source": [
    "lammps_command = 'lmp_serial'\n",
    "mpi_command = None\n",
    "lib_directory = '../../../library'"
   ]
  },
  {
   "cell_type": "markdown",
   "metadata": {
    "deletable": true,
    "editable": true
   },
   "source": [
    "#### 2.2 Specify the potenital and elemental symbols\n",
    "\n",
    "Simple input parameters:\n",
    "\n",
    "- __potential_name__ gives the name of the potential_LAMMPS reference record in the iprPy library to use for potential. \n",
    "\n",
    "- __symbols__ is a list of the elemental model symbols of potential to associate with the unique atom types of system.\n",
    "\n",
    "Derived parameters:\n",
    "\n",
    "- __potential_dir_path__ gives the path for the folder containing the artifacts associated with the potential (i.e. eam.alloy file). If an empty string '' is given, the necessary artifacts are taken as being in the working directory. (Here, it is derived from lib_directory and potential_name.)\n",
    "\n",
    "- __potential_path__ gives the path to the potential_LAMMPS reference record to use. (Here, it is derived from lib_directory and potential_name.)\n",
    "\n",
    "- __potential__ is the atomman.lammps.Potential representation of a LAMMPS implemented potential to use. (Here, the class is implemented using potential_path and potential_dir_path.)"
   ]
  },
  {
   "cell_type": "code",
   "execution_count": 5,
   "metadata": {
    "collapsed": false,
    "deletable": true,
    "editable": true
   },
   "outputs": [
    {
     "name": "stdout",
     "output_type": "stream",
     "text": [
      "Successfully loaded potential 1999--Mishin-Y--Ni--LAMMPS--ipr1\n"
     ]
    }
   ],
   "source": [
    "potential_name = '1999--Mishin-Y--Ni--LAMMPS--ipr1'\n",
    "symbols = ['Ni']\n",
    "\n",
    "# -------------- Derived parameters -------------- #\n",
    "# Define potential_path and potential_dir_path using lib_directory and potential_name\n",
    "potential_dir_path = os.path.abspath(os.path.join(lib_directory, 'potential_LAMMPS', potential_name))\n",
    "potential_path = potential_dir_path + '.json'\n",
    "\n",
    "# Create potential by loading LAMMPS-potential record\n",
    "potential = lmp.Potential(potential_path, potential_dir_path)\n",
    "\n",
    "print('Successfully loaded potential', potential)"
   ]
  },
  {
   "cell_type": "markdown",
   "metadata": {
    "deletable": true,
    "editable": true
   },
   "source": [
    "#### 2.3 Specify the prototype unit cell system\n",
    "\n",
    "Simple input parameters:\n",
    "\n",
    "- __prototype_name__ gives the name of the crystal_prototype reference record in the iprPy library to use for ucell. \n",
    "\n",
    "- __box_parameters__ defines the box parameters to scale ucell to. This is a list of either three or six floats\n",
    "    - __[a, b, c]__ are the orthogonal lattice parameters in length units.\n",
    "    - __[a, b, c, alpha, beta, gamma]__ are the triclinic lattice parameters in length units and angles in degrees.\n",
    "\n",
    "Derived parameters:\n",
    "\n",
    "- __prototype_path__ gives the path to the crystal_prototype reference record to use. (Here, it is derived from lib_directory and prototype_name).\n",
    "\n",
    "- __ucell__ is an atomman.System representing a fundamental unit cell of the system. (Here, it is loaded from prototype_path file, then scaled using box_parameters)."
   ]
  },
  {
   "cell_type": "code",
   "execution_count": 6,
   "metadata": {
    "collapsed": false,
    "deletable": true,
    "editable": true
   },
   "outputs": [
    {
     "name": "stdout",
     "output_type": "stream",
     "text": [
      "avect =  [ 3.520,  0.000,  0.000]\n",
      "bvect =  [ 0.000,  3.520,  0.000]\n",
      "cvect =  [ 0.000,  0.000,  3.520]\n",
      "origin = [ 0.000,  0.000,  0.000]\n",
      "natoms = 4\n",
      "natypes = 1\n",
      "     id |   atype |  pos[0] |  pos[1] |  pos[2]\n",
      "      0 |       1 |   0.000 |   0.000 |   0.000\n",
      "      1 |       1 |   0.000 |   1.760 |   1.760\n",
      "      2 |       1 |   1.760 |   0.000 |   1.760\n",
      "      3 |       1 |   1.760 |   1.760 |   0.000\n"
     ]
    }
   ],
   "source": [
    "prototype_name = 'A1--Cu--fcc'\n",
    "box_parameters = uc.set_in_units([3.52, 3.52, 3.52], 'angstrom')\n",
    "\n",
    "# -------------- Derived parameters -------------- #\n",
    "# Define prototype_path using lib_directory and prototype_name\n",
    "prototype_path = os.path.abspath(os.path.join(lib_directory, 'crystal_prototype', prototype_name+'.json'))\n",
    "\n",
    "# Create ucell by loading prototype record\n",
    "ucell = am.load('system_model', prototype_path)[0]\n",
    "\n",
    "# Rescale ucell using box_parameters\n",
    "if len(box_parameters) == 3:\n",
    "    ucell.box_set(a=box_parameters[0], b=box_parameters[1], c=box_parameters[2], scale=True)\n",
    "elif len(box_parameters) == 6:\n",
    "    ucell.box_set(a=box_parameters[0], b=box_parameters[1], c=box_parameters[2], scale=True,\n",
    "                  alpha=box_parameters[3], beta=box_parameters[4], gamma=box_parameters[5])\n",
    "\n",
    "print(ucell)"
   ]
  },
  {
   "cell_type": "markdown",
   "metadata": {
    "deletable": true,
    "editable": true
   },
   "source": [
    "#### 2.4 Specify the defect \n",
    "\n",
    "Simple input parameters:\n",
    "\n",
    "- __stackingfault_name__ gives the name of the stacking_fault reference record in the iprPy library to use for potential. \n",
    "\n",
    "Derived parameters:\n",
    "\n",
    "- __stackingfault_path__ gives the path to the stacking_fault reference record to use. (Here, it is derived from lib_directory and stackingfault_name).\n",
    "\n",
    "- __stackingfault_model__ is a DataModelDict of a stacking_fault record. (Here, the stackingfault_path file is loaded as a DataModelDict.)\n",
    "\n",
    "- __stackingfault_kwargs__ is a dictionary containing parameters for generating the defect. Values are extracted from the stackingfault_model record and uniquely define a type of stacking fault. Included keywords are:\n",
    "\n",
    "    - __crystallographic-axes__ specifies how to orient the system. Subelements define each of the x-, y-, and z-axes.\n",
    "    \n",
    "    - __cutboxvector__ specifies which box vector to apply the free surface cut to.\n",
    "    \n",
    "    - __atomshift__ is a 3D vector rigid-body shift to apply to atoms in the system. The atomshift vector is relative to the rotated unit cell's box vectors.\n",
    "    \n",
    "    - __plane-position__ specifies the location to place the fault plane relative to the box vector being cut of the rotated unit cell. \n",
    "    \n",
    "    - __shift-vector-1, shift-vector-2__ are two non-parallel crystallographic shifting vectors within the fault plane."
   ]
  },
  {
   "cell_type": "code",
   "execution_count": 7,
   "metadata": {
    "collapsed": false,
    "deletable": true,
    "editable": true
   },
   "outputs": [
    {
     "name": "stdout",
     "output_type": "stream",
     "text": [
      "Successfully loaded defect record for A1--Cu--fcc--111sf\n",
      "{\n",
      "    \"x_axis\": \" 1 -1  0\", \n",
      "    \"y_axis\": \" 1  1 -2\", \n",
      "    \"z_axis\": \" 1  1  1\", \n",
      "    \"atomshift\": \" 0.01  0.01  0.01\", \n",
      "    \"cutboxvector\": \"c\", \n",
      "    \"faultpos\": 0.5, \n",
      "    \"shiftvector1\": \" 0.5 -0.5  0.0\", \n",
      "    \"shiftvector2\": \" 0.5  0.5 -1.0\"\n",
      "}\n"
     ]
    }
   ],
   "source": [
    "stackingfault_name = 'A1--Cu--fcc--111sf'\n",
    "\n",
    "# -------------- Derived parameters -------------- #\n",
    "# Define stackingfault_path using lib_directory and stackingfault_name\n",
    "stackingfault_path = os.path.abspath(os.path.join(lib_directory, 'stacking_fault', stackingfault_name+'.json')) \n",
    "\n",
    "# Load stacking-fault record as a DataModelDict\n",
    "with open(stackingfault_path) as f:\n",
    "    stackingfault_model = DM(f)\n",
    "\n",
    "print('Successfully loaded defect record for', stackingfault_model['stacking-fault']['id'])\n",
    "\n",
    "# Extract defect parameters    \n",
    "stackingfault_kwargs = stackingfault_model['stacking-fault']['calculation-parameter']\n",
    "\n",
    "print(stackingfault_kwargs.json(indent=4))"
   ]
  },
  {
   "cell_type": "markdown",
   "metadata": {
    "deletable": true,
    "editable": true
   },
   "source": [
    "#### 2.5 Generate the initial system\n",
    "\n",
    "Simple input parameters:\n",
    "\n",
    "- __sizemults__ list of three integers or three tuple pairs of integers specifying how many times (and in which direction) the ucell vectors of $a$, $b$ and $c$ are replicated in creating system.\n",
    "\n",
    "Defect model parameters:\n",
    "\n",
    "- __x_axis__ is the 3D crystal vector relative to ucell to align with the x-axis of system.\n",
    "\n",
    "- __y_axis__ is the 3D crystal vector relative to ucell to align with the y-axis of system.\n",
    "\n",
    "- __z_axis__ is the 3D crystal vector relative to ucell to align with the z-axis of system.\n",
    "\n",
    "- __atomshift__ is a 3D vector rigid-body shift to apply to atoms in the system. The atomshift vector is relative to the rotated unit cell's box vectors.\n",
    "\n",
    "Derived parameters:\n",
    "\n",
    "- __axes__ is a 3x3 array combining x_axis, y_axis and z_axis.\n",
    "\n",
    "- __shift__ is a 3D vector rigid-body shift to apply to atoms in the system. The shift vector is in absolute Cartesian units. (Here, it is derived from atomshift).\n",
    "\n",
    "- __system__ is the base atomman.System to use. (Here, it is derived by copying ucell, rotating according to axes, applying shift, then sizemults"
   ]
  },
  {
   "cell_type": "code",
   "execution_count": 8,
   "metadata": {
    "collapsed": false,
    "deletable": true,
    "editable": true
   },
   "outputs": [
    {
     "name": "stdout",
     "output_type": "stream",
     "text": [
      "# of atoms in system = 3000\n"
     ]
    }
   ],
   "source": [
    "sizemults = [5,5,5]\n",
    "\n",
    "# -------------- Defect parameters --------------- #\n",
    "x_axis = np.array(stackingfault_kwargs['x_axis'].split(), dtype=float)\n",
    "y_axis = np.array(stackingfault_kwargs['y_axis'].split(), dtype=float)\n",
    "z_axis = np.array(stackingfault_kwargs['z_axis'].split(), dtype=float)\n",
    "atomshift = np.array(stackingfault_kwargs['atomshift'].split(), dtype=float)\n",
    "\n",
    "# -------------- Derived parameters -------------- #\n",
    "# Copy ucell to initialsystem\n",
    "system = deepcopy(ucell)\n",
    "\n",
    "# Build axes from x_axis, y_axis and z_axis\n",
    "axes = np.array([x_axis, y_axis, z_axis])\n",
    "\n",
    "# Rotate using axes\n",
    "system = am.rotate_cubic(system, axes)\n",
    "\n",
    "# Convert atomshift to shift using the rotated system\n",
    "shift = (atomshift[0] * system.box.avect \n",
    "         + atomshift[1] * system.box.bvect \n",
    "         + atomshift[2] * system.box.cvect)\n",
    "\n",
    "# Apply shift\n",
    "system.atoms_prop(key='pos', value=system.atoms_prop(key='pos') + shift)\n",
    "\n",
    "# Apply sizemults\n",
    "system.supersize(*sizemults)\n",
    "\n",
    "print('# of atoms in system =', system.natoms)"
   ]
  },
  {
   "cell_type": "markdown",
   "metadata": {
    "deletable": true,
    "editable": true
   },
   "source": [
    "#### 2.6 Specify calculation-specific run parameters\n",
    "\n",
    "Simple input parameters:\n",
    "\n",
    "- __numshifts1__ is the number of shifts to take along shiftvector1.\n",
    "\n",
    "- __numshifts2__ is the number of shifts to take along shiftvector2.\n",
    "\n",
    "- __energytolerance__ is the energy tolerance to use during the minimizations. This is unitless.\n",
    "\n",
    "- __forcetolerance__ is the force tolerance to use during the minimizations. This is in energy/length units.\n",
    "\n",
    "- __maxiterations__ is the maximum number of minimization iterations to use.\n",
    "\n",
    "- __maxevaluations__ is the maximum number of minimization evaluations to use.\n",
    "\n",
    "- __maxatommotion__ is the largest distance that an atom is allowed to move during a minimization iteration. This is in length units.\n",
    "\n",
    "Defect model parameters\n",
    "\n",
    "- __cutboxvector__ defines which of the three system box vector boundaries ($a$, $b$, or $c$) the system will be cut along to create the free surface.\n",
    "\n",
    "- __planepos_ucell__ specifies the location to place the fault plane relative to the box vector being cut of the rotated unit cell.\n",
    "\n",
    "- __shiftvector1_crystal__ is a 3D crystal vector relative to ucell that defines one of the shiftvectors.\n",
    "\n",
    "- __shiftvector2_crystal__ is a 3D crystal vector relative to ucell that defines one of the shiftvectors.\n",
    "\n",
    "Derived parameters\n",
    "\n",
    "- __T__ is the transformation matrix associated with axes.\n",
    "\n",
    "- __shiftvector1__ is one of the shiftvectors in absolute Cartesian units. This is obtained by scaling shiftvector1_crystal by the unit cell box vectors, and then transforming to the defined axes.\n",
    "\n",
    "- __shiftvector2__ is one of the shiftvectors in absolute Cartesian units. This is obtained by scaling shiftvector2_crystal by the unit cell box vectors, and then transforming to the defined axes.\n",
    "\n",
    "- __planepos__ is the fractional position to place the fault plane relative to the full initial system. This is derived using planepos_ucell and sizemults such that the fault is placed in one of the middle cell replicas, and always in the same relative position within the cell replica."
   ]
  },
  {
   "cell_type": "code",
   "execution_count": 9,
   "metadata": {
    "collapsed": false,
    "deletable": true,
    "editable": true
   },
   "outputs": [],
   "source": [
    "numshifts1 = 11\n",
    "numshifts2 = 11\n",
    "\n",
    "energytolerance = 1e-8\n",
    "forcetolerance = uc.set_in_units(0.0, 'eV/angstrom')\n",
    "maxiterations = 10000\n",
    "maxevaluations = 100000\n",
    "maxatommotion = uc.set_in_units(0.01, 'angstrom')\n",
    "\n",
    "# -------------- Defect parameters --------------- #\n",
    "planepos_ucell = float(stackingfault_kwargs['faultpos'])\n",
    "cutboxvector = stackingfault_kwargs['cutboxvector']\n",
    "shiftvector1_crystal = np.array(stackingfault_kwargs['shiftvector1'].split(), dtype=float)\n",
    "shiftvector2_crystal = np.array(stackingfault_kwargs['shiftvector2'].split(), dtype=float)\n",
    "\n",
    "# -------------- Derived parameters -------------- #\n",
    "# Scale and transform the shiftvectors\n",
    "T = am.tools.axes_check(axes)\n",
    "shiftvector1 = T.dot(shiftvector1_crystal[0] * ucell.box.avect + \n",
    "                     shiftvector1_crystal[1] * ucell.box.bvect + \n",
    "                     shiftvector1_crystal[2] * ucell.box.cvect)\n",
    "\n",
    "shiftvector2 = T.dot(shiftvector2_crystal[0] * ucell.box.avect + \n",
    "                     shiftvector2_crystal[1] * ucell.box.bvect + \n",
    "                     shiftvector2_crystal[2] * ucell.box.cvect)\n",
    "\n",
    "# Define planepos shift function\n",
    "def shift_planepos(p, m):\n",
    "    \"\"\"This shifts planepos, p, based on system multiplier, m\"\"\"\n",
    "    # If m is odd, keep p=0.5 at 0.5 \n",
    "    if m % 2 == 1: \n",
    "        return (p + (m-1) * 0.5) / m        \n",
    "    # If m is even, keep p=0.0 at 0.5\n",
    "    else:          \n",
    "        return (2 * p + m) / (2 * m)\n",
    "\n",
    "# Convert planepos_ucell to planepos\n",
    "if   cutboxvector == 'a': m = sizemults[0]\n",
    "elif cutboxvector == 'b': m = sizemults[1]\n",
    "elif cutboxvector == 'c': m = sizemults[2]\n",
    "    \n",
    "if isinstance(m, (list, tuple)):\n",
    "    m = m[1] - m[0]\n",
    "    \n",
    "faultpos = shift_planepos(planepos_ucell, m)"
   ]
  },
  {
   "cell_type": "markdown",
   "metadata": {
    "deletable": true,
    "editable": true
   },
   "source": [
    "### 3. Define calculation function(s) and generate template LAMMPS script(s)"
   ]
  },
  {
   "cell_type": "markdown",
   "metadata": {
    "deletable": true,
    "editable": true
   },
   "source": [
    "#### 3.1 sfmin.template"
   ]
  },
  {
   "cell_type": "code",
   "execution_count": 10,
   "metadata": {
    "collapsed": true,
    "deletable": true,
    "editable": true
   },
   "outputs": [],
   "source": [
    "with open('sfmin.template', 'w') as f:\n",
    "    f.write(\"\"\"^fill^sfmin.template^here^\"\"\")"
   ]
  },
  {
   "cell_type": "markdown",
   "metadata": {
    "deletable": true,
    "editable": true
   },
   "source": [
    "#### 3.2 stackingfaultpoint()"
   ]
  },
  {
   "cell_type": "code",
   "execution_count": 11,
   "metadata": {
    "collapsed": false,
    "deletable": true,
    "editable": true
   },
   "outputs": [],
   "source": [
    "^fill^calc_stacking_fault_multi.py(stackingfaultpoint)^here^"
   ]
  },
  {
   "cell_type": "markdown",
   "metadata": {
    "deletable": true,
    "editable": true
   },
   "source": [
    "#### 3.3 stackingfaultworker()"
   ]
  },
  {
   "cell_type": "code",
   "execution_count": 12,
   "metadata": {
    "collapsed": true,
    "deletable": true,
    "editable": true
   },
   "outputs": [],
   "source": [
    "^fill^calc_stacking_fault_multi.py(stackingfaultworker)^here^"
   ]
  },
  {
   "cell_type": "markdown",
   "metadata": {
    "deletable": true,
    "editable": true
   },
   "source": [
    "#### 3.4 stackingfaultmap()"
   ]
  },
  {
   "cell_type": "code",
   "execution_count": 13,
   "metadata": {
    "collapsed": true,
    "deletable": true,
    "editable": true
   },
   "outputs": [],
   "source": [
    "^fill^calc_stacking_fault_multi.py(stackingfaultmap)^here^"
   ]
  },
  {
   "cell_type": "markdown",
   "metadata": {
    "deletable": true,
    "editable": true
   },
   "source": [
    "### 4. Run calculation function(s)"
   ]
  },
  {
   "cell_type": "code",
   "execution_count": 14,
   "metadata": {
    "collapsed": false,
    "deletable": true,
    "editable": true
   },
   "outputs": [],
   "source": [
    "results_dict = stackingfaultmap(lammps_command, \n",
    "                                system, \n",
    "                                potential,\n",
    "                                symbols,  \n",
    "                                shiftvector1, \n",
    "                                shiftvector2,\n",
    "                                mpi_command = mpi_command,\n",
    "                                numshifts1=numshifts1, \n",
    "                                numshifts2=numshifts2,\n",
    "                                cutboxvector = cutboxvector,\n",
    "                                faultpos = faultpos,\n",
    "                                etol = energytolerance,\n",
    "                                ftol = forcetolerance,\n",
    "                                maxiter = maxiterations,\n",
    "                                maxeval = maxevaluations,\n",
    "                                dmax = maxatommotion)"
   ]
  },
  {
   "cell_type": "code",
   "execution_count": 15,
   "metadata": {
    "collapsed": false,
    "deletable": true,
    "editable": true
   },
   "outputs": [
    {
     "data": {
      "text/plain": [
       "['shift2', 'E_gsf', 'shift1', 'A_fault', 'delta_disp']"
      ]
     },
     "execution_count": 15,
     "metadata": {},
     "output_type": "execute_result"
    }
   ],
   "source": [
    "results_dict.keys()"
   ]
  },
  {
   "cell_type": "markdown",
   "metadata": {
    "deletable": true,
    "editable": true
   },
   "source": [
    "### 5. Report results"
   ]
  },
  {
   "cell_type": "markdown",
   "metadata": {
    "deletable": true,
    "editable": true
   },
   "source": [
    "#### 5.1 Define units for outputting values\n",
    "\n",
    "- __length_unit__ is the unit of length to display results in.\n",
    "- __energy_unit__ is the unit of energy to display cohesive energies in.\n",
    "- __e_A_unit__ is the energy per area to report the surface energy in."
   ]
  },
  {
   "cell_type": "code",
   "execution_count": 16,
   "metadata": {
    "collapsed": true,
    "deletable": true,
    "editable": true
   },
   "outputs": [],
   "source": [
    "length_unit = 'angstrom'\n",
    "energy_unit = 'eV'\n",
    "\n",
    "#e_A_unit = energy_unit+'/'+length_unit+'^2'\n",
    "e_A_unit = 'mJ/m^2'"
   ]
  },
  {
   "cell_type": "markdown",
   "metadata": {
    "deletable": true,
    "editable": true
   },
   "source": [
    "#### 5.2 Print $A_{fault}$, $E_{gsf}$, and $\\Delta\\delta$"
   ]
  },
  {
   "cell_type": "code",
   "execution_count": 17,
   "metadata": {
    "collapsed": false,
    "deletable": true,
    "editable": true
   },
   "outputs": [
    {
     "name": "stdout",
     "output_type": "stream",
     "text": [
      "A_fault =  1073.04011631 angstrom^2\n"
     ]
    }
   ],
   "source": [
    "print('A_fault = ', uc.get_in_units(results_dict['A_fault'], length_unit+'^2'), length_unit+'^2')"
   ]
  },
  {
   "cell_type": "code",
   "execution_count": 18,
   "metadata": {
    "collapsed": false,
    "deletable": true,
    "editable": true
   },
   "outputs": [
    {
     "name": "stdout",
     "output_type": "stream",
     "text": [
      "E_gsf =  [    0.           120.87637239   411.169457     691.62388707   861.64330527\n",
      "   924.33783363   861.64330527   691.62388707   411.169457     120.87637239\n",
      "     0.           220.54010034   411.169457     790.22904431  1131.52787667\n",
      "  1303.35185675  1363.92118141  1303.35185675  1131.52787667   790.22904431\n",
      "   411.169457     220.54010034   350.37651541   510.84206753   861.64330527\n",
      "  1189.06473853  1363.92118142  1426.25731235  1363.92118139  1189.06473853\n",
      "   861.64330527   510.84206753   350.37651541   153.27188526   293.02173539\n",
      "   573.40255275   861.64330527  1056.68767291  1131.52787665  1056.68767291\n",
      "   861.64330527   573.40255275   293.02173539   153.27188526   293.02173539\n",
      "   301.01156327   350.37651541   399.05166518   411.169457     419.18835735\n",
      "   411.169457     399.05166518   350.37651541   301.01156327   293.02173539\n",
      "   924.33783363   861.64330527   691.62388707   411.169457     120.87637239\n",
      "     0.           120.87637239   411.169457     691.62388707   861.64330527\n",
      "   924.33783363  1363.92118139  1303.35185675  1131.52787667   790.22904431\n",
      "   411.169457     220.54010034   411.169457     790.22904431  1131.52787667\n",
      "  1303.35185675  1363.92118139  1426.25731232  1363.92118139  1189.06473853\n",
      "   861.64330527   510.84206753   350.37651541   510.84206753   861.64330527\n",
      "  1189.06473853  1363.92118141  1426.25731235  1131.52787665  1056.68767291\n",
      "   861.64330527   573.40255275   293.02173539   153.27188526   293.02173539\n",
      "   573.40255275   861.64330527  1056.68767291  1131.52787665   419.18835735\n",
      "   411.169457     399.05166518   350.37651541   301.01156327   293.02173539\n",
      "   301.01156327   350.37651541   399.05166518   411.169457     419.18835735\n",
      "     0.           120.87637239   411.169457     691.62388707   861.64330527\n",
      "   924.33783363   861.64330527   691.62388707   411.169457     120.87637239\n",
      "     0.        ] mJ/m^2\n"
     ]
    }
   ],
   "source": [
    "print('E_gsf = ', uc.get_in_units(results_dict['E_gsf'], e_A_unit), e_A_unit)"
   ]
  },
  {
   "cell_type": "code",
   "execution_count": 19,
   "metadata": {
    "collapsed": false,
    "deletable": true,
    "editable": true
   },
   "outputs": [
    {
     "name": "stdout",
     "output_type": "stream",
     "text": [
      "[ 0.   0.1  0.2  0.3  0.4  0.5  0.6  0.7  0.8  0.9  1.   0.   0.1  0.2  0.3\n",
      "  0.4  0.5  0.6  0.7  0.8  0.9  1.   0.   0.1  0.2  0.3  0.4  0.5  0.6  0.7\n",
      "  0.8  0.9  1.   0.   0.1  0.2  0.3  0.4  0.5  0.6  0.7  0.8  0.9  1.   0.\n",
      "  0.1  0.2  0.3  0.4  0.5  0.6  0.7  0.8  0.9  1.   0.   0.1  0.2  0.3  0.4\n",
      "  0.5  0.6  0.7  0.8  0.9  1.   0.   0.1  0.2  0.3  0.4  0.5  0.6  0.7  0.8\n",
      "  0.9  1.   0.   0.1  0.2  0.3  0.4  0.5  0.6  0.7  0.8  0.9  1.   0.   0.1\n",
      "  0.2  0.3  0.4  0.5  0.6  0.7  0.8  0.9  1.   0.   0.1  0.2  0.3  0.4  0.5\n",
      "  0.6  0.7  0.8  0.9  1.   0.   0.1  0.2  0.3  0.4  0.5  0.6  0.7  0.8  0.9\n",
      "  1. ]\n",
      "[ 0.   0.   0.   0.   0.   0.   0.   0.   0.   0.   0.   0.1  0.1  0.1  0.1\n",
      "  0.1  0.1  0.1  0.1  0.1  0.1  0.1  0.2  0.2  0.2  0.2  0.2  0.2  0.2  0.2\n",
      "  0.2  0.2  0.2  0.3  0.3  0.3  0.3  0.3  0.3  0.3  0.3  0.3  0.3  0.3  0.4\n",
      "  0.4  0.4  0.4  0.4  0.4  0.4  0.4  0.4  0.4  0.4  0.5  0.5  0.5  0.5  0.5\n",
      "  0.5  0.5  0.5  0.5  0.5  0.5  0.6  0.6  0.6  0.6  0.6  0.6  0.6  0.6  0.6\n",
      "  0.6  0.6  0.7  0.7  0.7  0.7  0.7  0.7  0.7  0.7  0.7  0.7  0.7  0.8  0.8\n",
      "  0.8  0.8  0.8  0.8  0.8  0.8  0.8  0.8  0.8  0.9  0.9  0.9  0.9  0.9  0.9\n",
      "  0.9  0.9  0.9  0.9  0.9  1.   1.   1.   1.   1.   1.   1.   1.   1.   1.\n",
      "  1. ]\n"
     ]
    }
   ],
   "source": [
    "print(results_dict['shift1'])\n",
    "print(results_dict['shift2'])"
   ]
  },
  {
   "cell_type": "code",
   "execution_count": 20,
   "metadata": {
    "collapsed": false,
    "deletable": true,
    "editable": true
   },
   "outputs": [],
   "source": [
    "x, y = np.meshgrid(np.linspace(0,1,numshifts1), np.linspace(0,1,numshifts2))"
   ]
  },
  {
   "cell_type": "code",
   "execution_count": 21,
   "metadata": {
    "collapsed": false,
    "deletable": true,
    "editable": true
   },
   "outputs": [
    {
     "ename": "ValueError",
     "evalue": "need more than 1 value to unpack",
     "output_type": "error",
     "traceback": [
      "\u001b[1;31m---------------------------------------------------------------------------\u001b[0m",
      "\u001b[1;31mValueError\u001b[0m                                Traceback (most recent call last)",
      "\u001b[1;32m<ipython-input-21-262ef4fce567>\u001b[0m in \u001b[0;36m<module>\u001b[1;34m()\u001b[0m\n\u001b[1;32m----> 1\u001b[1;33m \u001b[0mplt\u001b[0m\u001b[1;33m.\u001b[0m\u001b[0mpcolormesh\u001b[0m\u001b[1;33m(\u001b[0m\u001b[0mx\u001b[0m\u001b[1;33m,\u001b[0m \u001b[0my\u001b[0m\u001b[1;33m,\u001b[0m \u001b[0muc\u001b[0m\u001b[1;33m.\u001b[0m\u001b[0mget_in_units\u001b[0m\u001b[1;33m(\u001b[0m\u001b[0mresults_dict\u001b[0m\u001b[1;33m[\u001b[0m\u001b[1;34m'E_gsf'\u001b[0m\u001b[1;33m]\u001b[0m\u001b[1;33m,\u001b[0m \u001b[0me_A_unit\u001b[0m\u001b[1;33m)\u001b[0m\u001b[1;33m)\u001b[0m\u001b[1;33m\u001b[0m\u001b[0m\n\u001b[0m",
      "\u001b[1;32mC:\\Users\\lmh1\\AppData\\Local\\Continuum\\Anaconda2\\lib\\site-packages\\matplotlib\\pyplot.pyc\u001b[0m in \u001b[0;36mpcolormesh\u001b[1;34m(*args, **kwargs)\u001b[0m\n\u001b[0;32m   3243\u001b[0m                       mplDeprecation)\n\u001b[0;32m   3244\u001b[0m     \u001b[1;32mtry\u001b[0m\u001b[1;33m:\u001b[0m\u001b[1;33m\u001b[0m\u001b[0m\n\u001b[1;32m-> 3245\u001b[1;33m         \u001b[0mret\u001b[0m \u001b[1;33m=\u001b[0m \u001b[0max\u001b[0m\u001b[1;33m.\u001b[0m\u001b[0mpcolormesh\u001b[0m\u001b[1;33m(\u001b[0m\u001b[1;33m*\u001b[0m\u001b[0margs\u001b[0m\u001b[1;33m,\u001b[0m \u001b[1;33m**\u001b[0m\u001b[0mkwargs\u001b[0m\u001b[1;33m)\u001b[0m\u001b[1;33m\u001b[0m\u001b[0m\n\u001b[0m\u001b[0;32m   3246\u001b[0m     \u001b[1;32mfinally\u001b[0m\u001b[1;33m:\u001b[0m\u001b[1;33m\u001b[0m\u001b[0m\n\u001b[0;32m   3247\u001b[0m         \u001b[0max\u001b[0m\u001b[1;33m.\u001b[0m\u001b[0m_hold\u001b[0m \u001b[1;33m=\u001b[0m \u001b[0mwashold\u001b[0m\u001b[1;33m\u001b[0m\u001b[0m\n",
      "\u001b[1;32mC:\\Users\\lmh1\\AppData\\Local\\Continuum\\Anaconda2\\lib\\site-packages\\matplotlib\\__init__.pyc\u001b[0m in \u001b[0;36minner\u001b[1;34m(ax, *args, **kwargs)\u001b[0m\n\u001b[0;32m   1889\u001b[0m                     warnings.warn(msg % (label_namer, func.__name__),\n\u001b[0;32m   1890\u001b[0m                                   RuntimeWarning, stacklevel=2)\n\u001b[1;32m-> 1891\u001b[1;33m             \u001b[1;32mreturn\u001b[0m \u001b[0mfunc\u001b[0m\u001b[1;33m(\u001b[0m\u001b[0max\u001b[0m\u001b[1;33m,\u001b[0m \u001b[1;33m*\u001b[0m\u001b[0margs\u001b[0m\u001b[1;33m,\u001b[0m \u001b[1;33m**\u001b[0m\u001b[0mkwargs\u001b[0m\u001b[1;33m)\u001b[0m\u001b[1;33m\u001b[0m\u001b[0m\n\u001b[0m\u001b[0;32m   1892\u001b[0m         \u001b[0mpre_doc\u001b[0m \u001b[1;33m=\u001b[0m \u001b[0minner\u001b[0m\u001b[1;33m.\u001b[0m\u001b[0m__doc__\u001b[0m\u001b[1;33m\u001b[0m\u001b[0m\n\u001b[0;32m   1893\u001b[0m         \u001b[1;32mif\u001b[0m \u001b[0mpre_doc\u001b[0m \u001b[1;32mis\u001b[0m \u001b[0mNone\u001b[0m\u001b[1;33m:\u001b[0m\u001b[1;33m\u001b[0m\u001b[0m\n",
      "\u001b[1;32mC:\\Users\\lmh1\\AppData\\Local\\Continuum\\Anaconda2\\lib\\site-packages\\matplotlib\\axes\\_axes.pyc\u001b[0m in \u001b[0;36mpcolormesh\u001b[1;34m(self, *args, **kwargs)\u001b[0m\n\u001b[0;32m   5567\u001b[0m         \u001b[0mallmatch\u001b[0m \u001b[1;33m=\u001b[0m \u001b[1;33m(\u001b[0m\u001b[0mshading\u001b[0m \u001b[1;33m==\u001b[0m \u001b[1;34m'gouraud'\u001b[0m\u001b[1;33m)\u001b[0m\u001b[1;33m\u001b[0m\u001b[0m\n\u001b[0;32m   5568\u001b[0m \u001b[1;33m\u001b[0m\u001b[0m\n\u001b[1;32m-> 5569\u001b[1;33m         \u001b[0mX\u001b[0m\u001b[1;33m,\u001b[0m \u001b[0mY\u001b[0m\u001b[1;33m,\u001b[0m \u001b[0mC\u001b[0m \u001b[1;33m=\u001b[0m \u001b[0mself\u001b[0m\u001b[1;33m.\u001b[0m\u001b[0m_pcolorargs\u001b[0m\u001b[1;33m(\u001b[0m\u001b[1;34m'pcolormesh'\u001b[0m\u001b[1;33m,\u001b[0m \u001b[1;33m*\u001b[0m\u001b[0margs\u001b[0m\u001b[1;33m,\u001b[0m \u001b[0mallmatch\u001b[0m\u001b[1;33m=\u001b[0m\u001b[0mallmatch\u001b[0m\u001b[1;33m)\u001b[0m\u001b[1;33m\u001b[0m\u001b[0m\n\u001b[0m\u001b[0;32m   5570\u001b[0m         \u001b[0mNy\u001b[0m\u001b[1;33m,\u001b[0m \u001b[0mNx\u001b[0m \u001b[1;33m=\u001b[0m \u001b[0mX\u001b[0m\u001b[1;33m.\u001b[0m\u001b[0mshape\u001b[0m\u001b[1;33m\u001b[0m\u001b[0m\n\u001b[0;32m   5571\u001b[0m \u001b[1;33m\u001b[0m\u001b[0m\n",
      "\u001b[1;32mC:\\Users\\lmh1\\AppData\\Local\\Continuum\\Anaconda2\\lib\\site-packages\\matplotlib\\axes\\_axes.pyc\u001b[0m in \u001b[0;36m_pcolorargs\u001b[1;34m(funcname, *args, **kw)\u001b[0m\n\u001b[0;32m   5164\u001b[0m         \u001b[1;32mif\u001b[0m \u001b[0mlen\u001b[0m\u001b[1;33m(\u001b[0m\u001b[0margs\u001b[0m\u001b[1;33m)\u001b[0m \u001b[1;33m==\u001b[0m \u001b[1;36m3\u001b[0m\u001b[1;33m:\u001b[0m\u001b[1;33m\u001b[0m\u001b[0m\n\u001b[0;32m   5165\u001b[0m             \u001b[0mX\u001b[0m\u001b[1;33m,\u001b[0m \u001b[0mY\u001b[0m\u001b[1;33m,\u001b[0m \u001b[0mC\u001b[0m \u001b[1;33m=\u001b[0m \u001b[1;33m[\u001b[0m\u001b[0mnp\u001b[0m\u001b[1;33m.\u001b[0m\u001b[0masanyarray\u001b[0m\u001b[1;33m(\u001b[0m\u001b[0ma\u001b[0m\u001b[1;33m)\u001b[0m \u001b[1;32mfor\u001b[0m \u001b[0ma\u001b[0m \u001b[1;32min\u001b[0m \u001b[0margs\u001b[0m\u001b[1;33m]\u001b[0m\u001b[1;33m\u001b[0m\u001b[0m\n\u001b[1;32m-> 5166\u001b[1;33m             \u001b[0mnumRows\u001b[0m\u001b[1;33m,\u001b[0m \u001b[0mnumCols\u001b[0m \u001b[1;33m=\u001b[0m \u001b[0mC\u001b[0m\u001b[1;33m.\u001b[0m\u001b[0mshape\u001b[0m\u001b[1;33m\u001b[0m\u001b[0m\n\u001b[0m\u001b[0;32m   5167\u001b[0m         \u001b[1;32melse\u001b[0m\u001b[1;33m:\u001b[0m\u001b[1;33m\u001b[0m\u001b[0m\n\u001b[0;32m   5168\u001b[0m             raise TypeError(\n",
      "\u001b[1;31mValueError\u001b[0m: need more than 1 value to unpack"
     ]
    },
    {
     "data": {
      "image/png": "[encoded data removed]",
      "text/plain": [
       "<matplotlib.figure.Figure at 0x114fdd30>"
      ]
     },
     "metadata": {},
     "output_type": "display_data"
    }
   ],
   "source": [
    "plt.pcolormesh(x, y, uc.get_in_units(results_dict['E_gsf'], e_A_unit))"
   ]
  },
  {
   "cell_type": "code",
   "execution_count": null,
   "metadata": {
    "collapsed": true,
    "deletable": true,
    "editable": true
   },
   "outputs": [],
   "source": [
    "def meshsorter(x, y, z):\n",
    "    "
   ]
  }
 ],
 "metadata": {
  "kernelspec": {
   "display_name": "Python 2",
   "language": "python",
   "name": "python2"
  },
  "language_info": {
   "codemirror_mode": {
    "name": "ipython",
    "version": 2
   },
   "file_extension": ".py",
   "mimetype": "text/x-python",
   "name": "python",
   "nbconvert_exporter": "python",
   "pygments_lexer": "ipython2",
   "version": "2.7.13"
  }
 },
 "nbformat": 4,
 "nbformat_minor": 2
}
