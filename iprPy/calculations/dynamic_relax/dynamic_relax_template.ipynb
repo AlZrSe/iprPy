{
 "cells": [
  {
   "cell_type": "markdown",
   "metadata": {
    "deletable": true,
    "editable": true
   },
   "source": [
    "^fill^README.md^here^\n",
    "\n",
    "- - -"
   ]
  },
  {
   "cell_type": "markdown",
   "metadata": {
    "deletable": true,
    "editable": true
   },
   "source": [
    "^fill^theory.md^here^\n",
    "\n",
    "- - -"
   ]
  },
  {
   "cell_type": "markdown",
   "metadata": {
    "deletable": true,
    "editable": true
   },
   "source": [
    "## Demonstration"
   ]
  },
  {
   "cell_type": "markdown",
   "metadata": {
    "deletable": true,
    "editable": true
   },
   "source": [
    "### 1. Library imports"
   ]
  },
  {
   "cell_type": "markdown",
   "metadata": {
    "deletable": true,
    "editable": true
   },
   "source": [
    "Import libraries needed by the calculation. The external libraries used are:\n",
    "\n",
    "- [numpy](http://www.numpy.org/)\n",
    "\n",
    "- [DataModelDict](https://github.com/usnistgov/DataModelDict)\n",
    "\n",
    "- [atomman](https://github.com/usnistgov/atomman)\n",
    "\n",
    "- [iprPy](https://github.com/usnistgov/iprPy)"
   ]
  },
  {
   "cell_type": "code",
   "execution_count": 1,
   "metadata": {
    "collapsed": true,
    "deletable": true,
    "editable": true
   },
   "outputs": [],
   "source": [
    "# Standard library imports\n",
    "from __future__ import division, absolute_import, print_function\n",
    "import os\n",
    "import sys\n",
    "import uuid\n",
    "import random\n",
    "import datetime\n",
    "from copy import deepcopy\n",
    "\n",
    "# http://www.numpy.org/\n",
    "import numpy as np\n",
    "\n",
    "# https://github.com/usnistgov/DataModelDict \n",
    "from DataModelDict import DataModelDict as DM\n",
    "\n",
    "# https://github.com/usnistgov/atomman \n",
    "import atomman as am\n",
    "import atomman.lammps as lmp\n",
    "import atomman.unitconvert as uc\n",
    "\n",
    "# https://github.com/usnistgov/iprPy\n",
    "import iprPy"
   ]
  },
  {
   "cell_type": "markdown",
   "metadata": {
    "deletable": true,
    "editable": true
   },
   "source": [
    "### 2. Assign values for the calculation's run parameters"
   ]
  },
  {
   "cell_type": "markdown",
   "metadata": {
    "deletable": true,
    "editable": true
   },
   "source": [
    "#### 2.0 Set the calculation's working directory"
   ]
  },
  {
   "cell_type": "code",
   "execution_count": 2,
   "metadata": {
    "collapsed": false,
    "deletable": true,
    "editable": true
   },
   "outputs": [],
   "source": [
    "calc_name = 'dynamic_relax'\n",
    "\n",
    "# Check current working directory\n",
    "cwd_name = os.path.basename(os.getcwd())\n",
    "\n",
    "# Change working directory if needed\n",
    "if cwd_name != calc_name:\n",
    "    if not os.path.isdir(calc_name):\n",
    "        os.mkdir(calc_name)\n",
    "    os.chdir(calc_name)"
   ]
  },
  {
   "cell_type": "markdown",
   "metadata": {
    "deletable": true,
    "editable": true
   },
   "source": [
    "#### 2.1 Specify system-specific paths\n",
    "\n",
    "- __lammps_command__ is the LAMMPS command to use (required).\n",
    "\n",
    "- __mpi_command__ MPI command for running LAMMPS in parallel. A value of None will run simulations serially.\n",
    "\n",
    "- __lib_directory__ defines the relative path to the iprPy library. This makes it easier to define paths to reference records later."
   ]
  },
  {
   "cell_type": "code",
   "execution_count": 3,
   "metadata": {
    "collapsed": true,
    "deletable": true,
    "editable": true
   },
   "outputs": [],
   "source": [
    "lammps_command = 'lmp_mpi'\n",
    "mpi_command = 'mpiexec -localonly 4'\n",
    "lib_directory = '../../../library'"
   ]
  },
  {
   "cell_type": "markdown",
   "metadata": {
    "deletable": true,
    "editable": true
   },
   "source": [
    "#### 2.2 Specify the prototype system\n",
    "\n",
    "- __system__ is an atomman.System to perform the scan on (required). \n",
    "\n",
    "- __ucell__ is an atomman.System representing a fundamental unit cell of the system (required).\n",
    "\n",
    "- __prototype_name__ gives the name of the crystal_prototype reference record in the iprPy library to use for ucell. \n",
    "\n",
    "- __prototype_path__ gives the path to the crystal_prototype reference record to use.\n",
    "\n",
    "- __box_parameters__ defines the initial guess box parameters to scale ucell and system by.\n",
    "\n",
    "- __sizemults__ list of three integers specifying how many times the ucell vectors of $a$, $b$ and $c$ are replicated in creating system."
   ]
  },
  {
   "cell_type": "code",
   "execution_count": 4,
   "metadata": {
    "collapsed": false,
    "deletable": true,
    "editable": true
   },
   "outputs": [
    {
     "name": "stdout",
     "output_type": "stream",
     "text": [
      "# of atoms in ucell = 4\n",
      "# of atoms in system = 4000\n"
     ]
    }
   ],
   "source": [
    "prototype_name = 'A1--Cu--fcc'\n",
    "box_parameters = [3.5, 3.5, 3.5]\n",
    "sizemults = [10,10,10]\n",
    "\n",
    "# Define prototype_path using lib_directory and prototype_name\n",
    "prototype_path = os.path.abspath(os.path.join(lib_directory, 'crystal_prototype', prototype_name+'.json'))\n",
    "\n",
    "# Create ucell by loading prototype record\n",
    "ucell = am.load('system_model', prototype_path)[0]\n",
    "print('# of atoms in ucell =', ucell.natoms)\n",
    "\n",
    "# Rescale ucell using box_parameters\n",
    "ucell.box_set(a=box_parameters[0], b=box_parameters[1], c=box_parameters[2], scale=True)\n",
    "\n",
    "# Generate system by supersizing ucell\n",
    "system = am.supersize(ucell, *sizemults)\n",
    "print('# of atoms in system =', system.natoms)"
   ]
  },
  {
   "cell_type": "markdown",
   "metadata": {
    "deletable": true,
    "editable": true
   },
   "source": [
    "#### 2.3 Specify the potenital and elemental symbols\n",
    "\n",
    "- __potential__ is the atomman.lammps.Potential representation of a LAMMPS implemented potential to use (required).\n",
    "\n",
    "- __symbols__ is a list of the elemental model symbols of potential to associate with the unique atom types of system (required).\n",
    "\n",
    "- __potential_name__ gives the name of the potential_LAMMPS reference record in the iprPy library to use for potential. \n",
    "\n",
    "- __potential_path__ gives the path to the potential_LAMMPS reference record to use.\n",
    "\n",
    "- __potential_dir_path__ gives the path for the folder containing the artifacts associated with the potential (i.e. eam.alloy file)."
   ]
  },
  {
   "cell_type": "code",
   "execution_count": 5,
   "metadata": {
    "collapsed": false,
    "deletable": true,
    "editable": true
   },
   "outputs": [
    {
     "name": "stdout",
     "output_type": "stream",
     "text": [
      "Successfully loaded potential 1999--Mishin-Y--Ni--LAMMPS--ipr1\n"
     ]
    }
   ],
   "source": [
    "potential_name = '1999--Mishin-Y--Ni--LAMMPS--ipr1'\n",
    "symbols = ['Ni']\n",
    "\n",
    "# Define potential_path and potential_dir_path using lib_directory and potential_name\n",
    "potential_dir_path = os.path.abspath(os.path.join(lib_directory, 'potential_LAMMPS', potential_name))\n",
    "potential_path = potential_dir_path + '.json'\n",
    "\n",
    "# Create potential by loading LAMMPS-potential record\n",
    "potential = lmp.Potential(potential_path, potential_dir_path)\n",
    "print('Successfully loaded potential', potential)"
   ]
  },
  {
   "cell_type": "markdown",
   "metadata": {
    "deletable": true,
    "editable": true
   },
   "source": [
    "#### 2.4 Specify calculation-specific run parameters\n",
    "\n",
    "- __integrator__ specifies the integrator style to use. Default value is 'nph+l' for temperature = 0, and 'npt' otherwise.\n",
    "\n",
    "- __pressure_xx__ gives the xx component of the pressure to equilibriate the system to (npt, nph, and nph+l styles).\n",
    "\n",
    "- __pressure_yy__ gives the yy component of the pressure to equilibriate the system to (npt, nph, and nph+l styles).\n",
    "\n",
    "- __pressure_zz__ gives the zz component of the pressure to equilibriate the system to (npt, nph, and nph+l styles).\n",
    "\n",
    "- __temperature__ gives the temperature to equilibriate the system to (nvt, npt, nve+l, and nph+l styles).\n",
    "\n",
    "- __runsteps__ is the total number of integration timesteps to perform. Default value is 220000.\n",
    "  \n",
    "- __thermosteps__ specifies to output thermo values every this many timesteps. Default value is 100.\n",
    "    \n",
    "- __dumpsteps__ specifies to output dump files every this many timesteps. Default value is runsteps (only first and last steps are outputted as dump files).\n",
    "    \n",
    "- __equilsteps__ is the number of timesteps to equilibriate the system for. Only thermo values associated with timesteps greater than equilsteps will be included in the mean and standard deviation calculations. Default value is 20000. \n",
    "\n",
    "- __randomseed__ specifies a random number seed used to generate the initial atomic velocities and the Langevin thermostat fluctuations. Default value generates a new random integer every time."
   ]
  },
  {
   "cell_type": "code",
   "execution_count": 6,
   "metadata": {
    "collapsed": true,
    "deletable": true,
    "editable": true
   },
   "outputs": [],
   "source": [
    "integrator = 'npt'\n",
    "pressure_xx = uc.set_in_units(0.0, 'GPa')\n",
    "pressure_yy = uc.set_in_units(0.0, 'GPa')\n",
    "pressure_zz = uc.set_in_units(0.0, 'GPa')\n",
    "temperature = 300.0\n",
    "runsteps = 220000\n",
    "thermosteps = 100\n",
    "dumpsteps = runsteps\n",
    "equilsteps = 20000\n",
    "randomseed = None"
   ]
  },
  {
   "cell_type": "markdown",
   "metadata": {
    "deletable": true,
    "editable": true
   },
   "source": [
    "### 3. Define calculation function(s) and generate template LAMMPS script(s)"
   ]
  },
  {
   "cell_type": "markdown",
   "metadata": {
    "deletable": true,
    "editable": true
   },
   "source": [
    "#### 3.1 full_relax.template"
   ]
  },
  {
   "cell_type": "code",
   "execution_count": 7,
   "metadata": {
    "collapsed": true,
    "deletable": true,
    "editable": true
   },
   "outputs": [],
   "source": [
    "with open('full_relax.template', 'w') as f:\n",
    "    f.write(\"\"\"^fill^full_relax.template^here^\"\"\")"
   ]
  },
  {
   "cell_type": "markdown",
   "metadata": {
    "deletable": true,
    "editable": true
   },
   "source": [
    "#### 3.2 integrator_info()"
   ]
  },
  {
   "cell_type": "code",
   "execution_count": 8,
   "metadata": {
    "collapsed": true,
    "deletable": true,
    "editable": true
   },
   "outputs": [],
   "source": [
    "^fill^calc_dynamic_relax.py(integrator_info)^here^"
   ]
  },
  {
   "cell_type": "markdown",
   "metadata": {
    "deletable": true,
    "editable": true
   },
   "source": [
    "#### 3.3 full_relax()"
   ]
  },
  {
   "cell_type": "code",
   "execution_count": 9,
   "metadata": {
    "collapsed": true,
    "deletable": true,
    "editable": true
   },
   "outputs": [],
   "source": [
    "^fill^calc_dynamic_relax.py(full_relax)^here^"
   ]
  },
  {
   "cell_type": "markdown",
   "metadata": {
    "deletable": true,
    "editable": true
   },
   "source": [
    "### 4. Run calculation function(s)"
   ]
  },
  {
   "cell_type": "code",
   "execution_count": 10,
   "metadata": {
    "collapsed": false,
    "deletable": true,
    "editable": true
   },
   "outputs": [],
   "source": [
    "results_dict = full_relax(lammps_command, \n",
    "                          system, \n",
    "                          potential,\n",
    "                          symbols,\n",
    "                          mpi_command = mpi_command,\n",
    "                          ucell=ucell,\n",
    "                          p_xx=pressure_xx,\n",
    "                          p_yy=pressure_yy,\n",
    "                          p_zz=pressure_zz,\n",
    "                          temperature=temperature,\n",
    "                          integrator=integrator,\n",
    "                          runsteps=runsteps,\n",
    "                          thermosteps=thermosteps,\n",
    "                          dumpsteps=dumpsteps,\n",
    "                          equilsteps=equilsteps,\n",
    "                          randomseed=randomseed)"
   ]
  },
  {
   "cell_type": "code",
   "execution_count": 11,
   "metadata": {
    "collapsed": false,
    "deletable": true,
    "editable": true
   },
   "outputs": [
    {
     "data": {
      "text/plain": [
       "['E_coh_std',\n",
       " 'stress',\n",
       " 'gamma_lat',\n",
       " 'temp',\n",
       " 'stress_std',\n",
       " 'a_lat',\n",
       " 'beta_lat',\n",
       " 'b_lat',\n",
       " 'E_coh',\n",
       " 'c_lat',\n",
       " 'alpha_lat',\n",
       " 'c_lat_std',\n",
       " 'temp_std',\n",
       " 'nsamples',\n",
       " 'a_lat_std',\n",
       " 'system_relaxed',\n",
       " 'b_lat_std']"
      ]
     },
     "execution_count": 11,
     "metadata": {},
     "output_type": "execute_result"
    }
   ],
   "source": [
    "results_dict.keys()"
   ]
  },
  {
   "cell_type": "markdown",
   "metadata": {
    "deletable": true,
    "editable": true
   },
   "source": [
    "### 5. Report results"
   ]
  },
  {
   "cell_type": "markdown",
   "metadata": {
    "deletable": true,
    "editable": true
   },
   "source": [
    "#### 5.1 Define units for outputting values\n",
    "\n",
    "- __length_unit__ is the unit of length to display relaxed lattice constants in.\n",
    "- __energy_unit__ is the unit of energy to display cohesive energies in.\n",
    "- __pressure_unit__ is the unit of pressure to display Cij and relaxed stress state in."
   ]
  },
  {
   "cell_type": "code",
   "execution_count": 12,
   "metadata": {
    "collapsed": true,
    "deletable": true,
    "editable": true
   },
   "outputs": [],
   "source": [
    "length_unit = 'angstrom'\n",
    "energy_unit = 'eV'\n",
    "pressure_unit = 'GPa'"
   ]
  },
  {
   "cell_type": "markdown",
   "metadata": {
    "deletable": true,
    "editable": true
   },
   "source": [
    "#### 5.2 Display number of samples and number of atoms"
   ]
  },
  {
   "cell_type": "code",
   "execution_count": 13,
   "metadata": {
    "collapsed": false,
    "deletable": true,
    "editable": true
   },
   "outputs": [
    {
     "name": "stdout",
     "output_type": "stream",
     "text": [
      "# of samples =  2001\n",
      "# of atoms =    4000\n"
     ]
    }
   ],
   "source": [
    "print('# of samples = ', results_dict['nsamples'])\n",
    "print('# of atoms =   ', results_dict['system_relaxed'].natoms)"
   ]
  },
  {
   "cell_type": "markdown",
   "metadata": {
    "deletable": true,
    "editable": true
   },
   "source": [
    "#### 5.3 Print Ecoh and lattice constants of relaxed ucell"
   ]
  },
  {
   "cell_type": "code",
   "execution_count": 14,
   "metadata": {
    "collapsed": false,
    "deletable": true,
    "editable": true
   },
   "outputs": [
    {
     "name": "stdout",
     "output_type": "stream",
     "text": [
      "Ecoh =      -4.413040 eV\n",
      "std(Ecoh) =  0.000484 eV\n",
      "a =          3.532964 angstrom\n",
      "std(a) =     0.001598 angstrom\n",
      "b =          3.533034 angstrom\n",
      "std(b) =     0.001686 angstrom\n",
      "c =          3.533102 angstrom\n",
      "std(c) =     0.001813 angstrom\n",
      "alpha =     90.000000\n",
      "beta =      90.000000\n",
      "gamma =     90.000000\n"
     ]
    }
   ],
   "source": [
    "print('Ecoh =      %9.6f' % uc.get_in_units(results_dict['E_coh'], energy_unit), energy_unit)\n",
    "print('std(Ecoh) = %9.6f' % uc.get_in_units(results_dict['E_coh_std'], energy_unit), energy_unit)\n",
    "print('a =         %9.6f' % uc.get_in_units(results_dict['a_lat'], length_unit), length_unit)\n",
    "print('std(a) =    %9.6f' % uc.get_in_units(results_dict['a_lat_std'], energy_unit), length_unit)\n",
    "print('b =         %9.6f' % uc.get_in_units(results_dict['b_lat'], length_unit), length_unit)\n",
    "print('std(b) =    %9.6f' % uc.get_in_units(results_dict['b_lat_std'], energy_unit), length_unit)\n",
    "print('c =         %9.6f' % uc.get_in_units(results_dict['c_lat'], length_unit), length_unit)\n",
    "print('std(c) =    %9.6f' % uc.get_in_units(results_dict['c_lat_std'], energy_unit), length_unit)\n",
    "print('alpha =     %9.6f' % results_dict['alpha_lat'])\n",
    "print('beta =      %9.6f' % results_dict['beta_lat'])\n",
    "print('gamma =     %9.6f' % results_dict['gamma_lat'])"
   ]
  },
  {
   "cell_type": "markdown",
   "metadata": {
    "deletable": true,
    "editable": true
   },
   "source": [
    "#### 5.4 Check stress state of relaxed system"
   ]
  },
  {
   "cell_type": "code",
   "execution_count": 15,
   "metadata": {
    "collapsed": false,
    "deletable": true,
    "editable": true
   },
   "outputs": [
    {
     "name": "stdout",
     "output_type": "stream",
     "text": [
      "stress (GPa) =\n",
      "[   0.0007    0.0015    0.0006]\n",
      "[   0.0015    0.0011   -0.0004]\n",
      "[   0.0006   -0.0004    0.0007]\n",
      "\n",
      "std(stress) (GPa) =\n",
      "[   0.0879    0.0257    0.0245]\n",
      "[   0.0257    0.0915    0.0252]\n",
      "[   0.0245    0.0252    0.0932]\n"
     ]
    }
   ],
   "source": [
    "print('stress ('+pressure_unit+') =')\n",
    "for Si in uc.get_in_units(results_dict['stress'], pressure_unit):\n",
    "    print('[%9.4f %9.4f %9.4f]' % tuple(Si))\n",
    "print()\n",
    "print('std(stress) ('+pressure_unit+') =')\n",
    "for Si in uc.get_in_units(results_dict['stress_std'], pressure_unit):\n",
    "    print('[%9.4f %9.4f %9.4f]' % tuple(Si))"
   ]
  },
  {
   "cell_type": "markdown",
   "metadata": {
    "deletable": true,
    "editable": true
   },
   "source": [
    "#### 5.5 Check temperature state of relaxed system"
   ]
  },
  {
   "cell_type": "code",
   "execution_count": 16,
   "metadata": {
    "collapsed": false,
    "deletable": true,
    "editable": true
   },
   "outputs": [
    {
     "name": "stdout",
     "output_type": "stream",
     "text": [
      "T =      300.176572 K\n",
      "std(T) =  3.826057 K\n"
     ]
    }
   ],
   "source": [
    "print('T =      %9.6f K' % results_dict['temp'])\n",
    "print('std(T) = %9.6f K' % results_dict['temp_std'])"
   ]
  }
 ],
 "metadata": {
  "kernelspec": {
   "display_name": "Python 2",
   "language": "python",
   "name": "python2"
  },
  "language_info": {
   "codemirror_mode": {
    "name": "ipython",
    "version": 2
   },
   "file_extension": ".py",
   "mimetype": "text/x-python",
   "name": "python",
   "nbconvert_exporter": "python",
   "pygments_lexer": "ipython2",
   "version": "2.7.13"
  }
 },
 "nbformat": 4,
 "nbformat_minor": 2
}
