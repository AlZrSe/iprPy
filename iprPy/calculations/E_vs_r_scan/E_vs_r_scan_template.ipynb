{
 "cells": [
  {
   "cell_type": "markdown",
   "metadata": {
    "deletable": true,
    "editable": true
   },
   "source": [
    "^fill^README.md^here^\n",
    "\n",
    "- - -"
   ]
  },
  {
   "cell_type": "markdown",
   "metadata": {
    "deletable": true,
    "editable": true
   },
   "source": [
    "^fill^theory.md^here^\n",
    "\n",
    "- - -"
   ]
  },
  {
   "cell_type": "markdown",
   "metadata": {
    "deletable": true,
    "editable": true
   },
   "source": [
    "## Demonstration"
   ]
  },
  {
   "cell_type": "markdown",
   "metadata": {
    "deletable": true,
    "editable": true
   },
   "source": [
    "### 1. Library imports"
   ]
  },
  {
   "cell_type": "markdown",
   "metadata": {
    "deletable": true,
    "editable": true
   },
   "source": [
    "Import libraries needed by the calculation. The external libraries used are:\n",
    "\n",
    "- [numpy](http://www.numpy.org/)\n",
    "\n",
    "- [DataModelDict](https://github.com/usnistgov/DataModelDict)\n",
    "\n",
    "- [atomman](https://github.com/usnistgov/atomman)\n",
    "\n",
    "- [iprPy](https://github.com/usnistgov/iprPy)"
   ]
  },
  {
   "cell_type": "code",
   "execution_count": 1,
   "metadata": {
    "collapsed": false,
    "deletable": true,
    "editable": true
   },
   "outputs": [
    {
     "name": "stdout",
     "output_type": "stream",
     "text": [
      "iprPy version 0.7.2\n"
     ]
    }
   ],
   "source": [
    "# Standard library imports\n",
    "from __future__ import division, absolute_import, print_function\n",
    "import os\n",
    "import sys\n",
    "import uuid\n",
    "import shutil\n",
    "import datetime\n",
    "from copy import deepcopy\n",
    "\n",
    "# http://www.numpy.org/\n",
    "import numpy as np\n",
    "\n",
    "# https://github.com/usnistgov/DataModelDict \n",
    "from DataModelDict import DataModelDict as DM\n",
    "\n",
    "# https://github.com/usnistgov/atomman \n",
    "import atomman as am\n",
    "import atomman.lammps as lmp\n",
    "import atomman.unitconvert as uc\n",
    "\n",
    "# https://github.com/usnistgov/iprPy\n",
    "import iprPy\n",
    "print('iprPy version', iprPy.__version__)"
   ]
  },
  {
   "cell_type": "markdown",
   "metadata": {
    "deletable": true,
    "editable": true
   },
   "source": [
    "Import additional libraries for plotting. The external libraries used are:\n",
    "\n",
    "- [bokeh](http://bokeh.pydata.org/)"
   ]
  },
  {
   "cell_type": "code",
   "execution_count": 2,
   "metadata": {
    "collapsed": false,
    "deletable": true,
    "editable": true
   },
   "outputs": [
    {
     "name": "stdout",
     "output_type": "stream",
     "text": [
      "Bokeh version = 0.12.4\n"
     ]
    },
    {
     "data": {
      "text/html": [
       "\n",
       "    <div class=\"bk-root\">\n",
       "        <a href=\"http://bokeh.pydata.org\" target=\"_blank\" class=\"bk-logo bk-logo-small bk-logo-notebook\"></a>\n",
       "        <span id=\"617c1f71-66c4-4185-a2ba-8661513549fe\">Loading BokehJS ...</span>\n",
       "    </div>"
      ]
     },
     "metadata": {},
     "output_type": "display_data"
    },
    {
     "data": {
      "application/javascript": [
       "\n",
       "(function(global) {\n",
       "  function now() {\n",
       "    return new Date();\n",
       "  }\n",
       "\n",
       "  var force = true;\n",
       "\n",
       "  if (typeof (window._bokeh_onload_callbacks) === \"undefined\" || force === true) {\n",
       "    window._bokeh_onload_callbacks = [];\n",
       "    window._bokeh_is_loading = undefined;\n",
       "  }\n",
       "\n",
       "\n",
       "  \n",
       "  if (typeof (window._bokeh_timeout) === \"undefined\" || force === true) {\n",
       "    window._bokeh_timeout = Date.now() + 5000;\n",
       "    window._bokeh_failed_load = false;\n",
       "  }\n",
       "\n",
       "  var NB_LOAD_WARNING = {'data': {'text/html':\n",
       "     \"<div style='background-color: #fdd'>\\n\"+\n",
       "     \"<p>\\n\"+\n",
       "     \"BokehJS does not appear to have successfully loaded. If loading BokehJS from CDN, this \\n\"+\n",
       "     \"may be due to a slow or bad network connection. Possible fixes:\\n\"+\n",
       "     \"</p>\\n\"+\n",
       "     \"<ul>\\n\"+\n",
       "     \"<li>re-rerun `output_notebook()` to attempt to load from CDN again, or</li>\\n\"+\n",
       "     \"<li>use INLINE resources instead, as so:</li>\\n\"+\n",
       "     \"</ul>\\n\"+\n",
       "     \"<code>\\n\"+\n",
       "     \"from bokeh.resources import INLINE\\n\"+\n",
       "     \"output_notebook(resources=INLINE)\\n\"+\n",
       "     \"</code>\\n\"+\n",
       "     \"</div>\"}};\n",
       "\n",
       "  function display_loaded() {\n",
       "    if (window.Bokeh !== undefined) {\n",
       "      document.getElementById(\"617c1f71-66c4-4185-a2ba-8661513549fe\").textContent = \"BokehJS successfully loaded.\";\n",
       "    } else if (Date.now() < window._bokeh_timeout) {\n",
       "      setTimeout(display_loaded, 100)\n",
       "    }\n",
       "  }\n",
       "\n",
       "  function run_callbacks() {\n",
       "    window._bokeh_onload_callbacks.forEach(function(callback) { callback() });\n",
       "    delete window._bokeh_onload_callbacks\n",
       "    console.info(\"Bokeh: all callbacks have finished\");\n",
       "  }\n",
       "\n",
       "  function load_libs(js_urls, callback) {\n",
       "    window._bokeh_onload_callbacks.push(callback);\n",
       "    if (window._bokeh_is_loading > 0) {\n",
       "      console.log(\"Bokeh: BokehJS is being loaded, scheduling callback at\", now());\n",
       "      return null;\n",
       "    }\n",
       "    if (js_urls == null || js_urls.length === 0) {\n",
       "      run_callbacks();\n",
       "      return null;\n",
       "    }\n",
       "    console.log(\"Bokeh: BokehJS not loaded, scheduling load and callback at\", now());\n",
       "    window._bokeh_is_loading = js_urls.length;\n",
       "    for (var i = 0; i < js_urls.length; i++) {\n",
       "      var url = js_urls[i];\n",
       "      var s = document.createElement('script');\n",
       "      s.src = url;\n",
       "      s.async = false;\n",
       "      s.onreadystatechange = s.onload = function() {\n",
       "        window._bokeh_is_loading--;\n",
       "        if (window._bokeh_is_loading === 0) {\n",
       "          console.log(\"Bokeh: all BokehJS libraries loaded\");\n",
       "          run_callbacks()\n",
       "        }\n",
       "      };\n",
       "      s.onerror = function() {\n",
       "        console.warn(\"failed to load library \" + url);\n",
       "      };\n",
       "      console.log(\"Bokeh: injecting script tag for BokehJS library: \", url);\n",
       "      document.getElementsByTagName(\"head\")[0].appendChild(s);\n",
       "    }\n",
       "  };var element = document.getElementById(\"617c1f71-66c4-4185-a2ba-8661513549fe\");\n",
       "  if (element == null) {\n",
       "    console.log(\"Bokeh: ERROR: autoload.js configured with elementid '617c1f71-66c4-4185-a2ba-8661513549fe' but no matching script tag was found. \")\n",
       "    return false;\n",
       "  }\n",
       "\n",
       "  var js_urls = [\"https://cdn.pydata.org/bokeh/release/bokeh-0.12.4.min.js\", \"https://cdn.pydata.org/bokeh/release/bokeh-widgets-0.12.4.min.js\"];\n",
       "\n",
       "  var inline_js = [\n",
       "    function(Bokeh) {\n",
       "      Bokeh.set_log_level(\"info\");\n",
       "    },\n",
       "    \n",
       "    function(Bokeh) {\n",
       "      \n",
       "      document.getElementById(\"617c1f71-66c4-4185-a2ba-8661513549fe\").textContent = \"BokehJS is loading...\";\n",
       "    },\n",
       "    function(Bokeh) {\n",
       "      console.log(\"Bokeh: injecting CSS: https://cdn.pydata.org/bokeh/release/bokeh-0.12.4.min.css\");\n",
       "      Bokeh.embed.inject_css(\"https://cdn.pydata.org/bokeh/release/bokeh-0.12.4.min.css\");\n",
       "      console.log(\"Bokeh: injecting CSS: https://cdn.pydata.org/bokeh/release/bokeh-widgets-0.12.4.min.css\");\n",
       "      Bokeh.embed.inject_css(\"https://cdn.pydata.org/bokeh/release/bokeh-widgets-0.12.4.min.css\");\n",
       "    }\n",
       "  ];\n",
       "\n",
       "  function run_inline_js() {\n",
       "    \n",
       "    if ((window.Bokeh !== undefined) || (force === true)) {\n",
       "      for (var i = 0; i < inline_js.length; i++) {\n",
       "        inline_js[i](window.Bokeh);\n",
       "      }if (force === true) {\n",
       "        display_loaded();\n",
       "      }} else if (Date.now() < window._bokeh_timeout) {\n",
       "      setTimeout(run_inline_js, 100);\n",
       "    } else if (!window._bokeh_failed_load) {\n",
       "      console.log(\"Bokeh: BokehJS failed to load within specified timeout.\");\n",
       "      window._bokeh_failed_load = true;\n",
       "    } else if (force !== true) {\n",
       "      var cell = $(document.getElementById(\"617c1f71-66c4-4185-a2ba-8661513549fe\")).parents('.cell').data().cell;\n",
       "      cell.output_area.append_execute_result(NB_LOAD_WARNING)\n",
       "    }\n",
       "\n",
       "  }\n",
       "\n",
       "  if (window._bokeh_is_loading === 0) {\n",
       "    console.log(\"Bokeh: BokehJS loaded, going straight to plotting\");\n",
       "    run_inline_js();\n",
       "  } else {\n",
       "    load_libs(js_urls, function() {\n",
       "      console.log(\"Bokeh: BokehJS plotting callback run at\", now());\n",
       "      run_inline_js();\n",
       "    });\n",
       "  }\n",
       "}(this));"
      ]
     },
     "metadata": {},
     "output_type": "display_data"
    }
   ],
   "source": [
    "import glob\n",
    "from collections import OrderedDict\n",
    "from math import floor\n",
    "\n",
    "import bokeh\n",
    "print('Bokeh version =', bokeh.__version__)\n",
    "from bokeh.plotting import figure, output_file, show\n",
    "from bokeh.embed import components\n",
    "from bokeh.resources import Resources\n",
    "from bokeh.io import output_notebook\n",
    "output_notebook()"
   ]
  },
  {
   "cell_type": "markdown",
   "metadata": {
    "deletable": true,
    "editable": true
   },
   "source": [
    "### 2. Assign values for the calculation's run parameters"
   ]
  },
  {
   "cell_type": "markdown",
   "metadata": {
    "deletable": true,
    "editable": true
   },
   "source": [
    "#### 2.0 Set the calculation's working directory"
   ]
  },
  {
   "cell_type": "code",
   "execution_count": 3,
   "metadata": {
    "collapsed": false,
    "deletable": true,
    "editable": true
   },
   "outputs": [],
   "source": [
    "calc_name = 'E_vs_r_scan'\n",
    "\n",
    "# Check current working directory\n",
    "cwd_name = os.path.basename(os.getcwd())\n",
    "\n",
    "# Change working directory if needed\n",
    "if cwd_name != calc_name:\n",
    "    if not os.path.isdir(calc_name):\n",
    "        os.mkdir(calc_name)\n",
    "    os.chdir(calc_name)"
   ]
  },
  {
   "cell_type": "markdown",
   "metadata": {
    "deletable": true,
    "editable": true
   },
   "source": [
    "#### 2.1 Specify system-specific paths\n",
    "\n",
    "- __lammps_command__ is the LAMMPS command to use (required).\n",
    "\n",
    "- __mpi_command__ MPI command for running LAMMPS in parallel. A value of None will run simulations serially.\n",
    "\n",
    "- __lib_directory__ defines the relative path to the iprPy library. This makes it easier to define paths to reference records later."
   ]
  },
  {
   "cell_type": "code",
   "execution_count": 4,
   "metadata": {
    "collapsed": true,
    "deletable": true,
    "editable": true
   },
   "outputs": [],
   "source": [
    "lammps_command = 'lmp_serial'\n",
    "mpi_command = None\n",
    "lib_directory = '../../../library'"
   ]
  },
  {
   "cell_type": "markdown",
   "metadata": {
    "deletable": true,
    "editable": true
   },
   "source": [
    "#### 2.2 Specify the prototype system\n",
    "\n",
    "- __system__ is an atomman.System to perform the scan on (required). \n",
    "\n",
    "- __ucell__ is an atomman.System representing a fundamental unit cell of the system (required).\n",
    "\n",
    "- __prototype_name__ gives the name of the crystal_prototype reference record in the iprPy library to use for ucell. \n",
    "\n",
    "- __prototype_path__ gives the path to the crystal_prototype reference record to use.\n",
    "\n",
    "- __sizemults__ list of three integers specifying how many times the ucell vectors of $a$, $b$ and $c$ are replicated in creating system."
   ]
  },
  {
   "cell_type": "code",
   "execution_count": 5,
   "metadata": {
    "collapsed": false,
    "deletable": true,
    "editable": true
   },
   "outputs": [
    {
     "name": "stdout",
     "output_type": "stream",
     "text": [
      "# of atoms in ucell = 4\n",
      "# of atoms in system = 108\n"
     ]
    }
   ],
   "source": [
    "prototype_name = 'A1--Cu--fcc'\n",
    "sizemults = [3,3,3]\n",
    "\n",
    "# Define prototype_path using lib_directory and prototype_name\n",
    "prototype_path = os.path.abspath(os.path.join(lib_directory, 'crystal_prototype', prototype_name+'.json'))\n",
    "\n",
    "# Create ucell by loading prototype record\n",
    "ucell = am.load('system_model', prototype_path)[0]\n",
    "print('# of atoms in ucell =', ucell.natoms)\n",
    "\n",
    "# Generate system by supersizing ucell\n",
    "system = am.supersize(ucell, *sizemults)\n",
    "print('# of atoms in system =', system.natoms)"
   ]
  },
  {
   "cell_type": "markdown",
   "metadata": {
    "deletable": true,
    "editable": true
   },
   "source": [
    "#### 2.3 Specify the potenital and elemental symbols\n",
    "\n",
    "- __potential__ is the atomman.lammps.Potential representation of a LAMMPS implemented potential to use (required).\n",
    "\n",
    "- __symbols__ is a list of the elemental model symbols of potential to associate with the unique atom types of system (required).\n",
    "\n",
    "- __potential_name__ gives the name of the potential_LAMMPS reference record in the iprPy library to use for potential. \n",
    "\n",
    "- __potential_path__ gives the path to the potential_LAMMPS reference record to use.\n",
    "\n",
    "- __potential_dir_path__ gives the path for the folder containing the artifacts associated with the potential (i.e. eam.alloy file)\n",
    "\n"
   ]
  },
  {
   "cell_type": "code",
   "execution_count": 6,
   "metadata": {
    "collapsed": false,
    "deletable": true,
    "editable": true
   },
   "outputs": [
    {
     "name": "stdout",
     "output_type": "stream",
     "text": [
      "Successfully loaded potential 1999--Mishin-Y--Ni--LAMMPS--ipr1\n"
     ]
    }
   ],
   "source": [
    "potential_name = '1999--Mishin-Y--Ni--LAMMPS--ipr1'\n",
    "symbols = ['Ni']\n",
    "\n",
    "# Define potential_path and potential_dir_path using lib_directory and potential_name\n",
    "potential_dir_path = os.path.abspath(os.path.join(lib_directory, 'potential_LAMMPS', potential_name))\n",
    "potential_path = potential_dir_path + '.json'\n",
    "\n",
    "# Create potential by loading LAMMPS-potential record\n",
    "with open(potential_path) as f:\n",
    "    potential = lmp.Potential(f, potential_dir_path)\n",
    "print('Successfully loaded potential', potential)"
   ]
  },
  {
   "cell_type": "markdown",
   "metadata": {
    "deletable": true,
    "editable": true
   },
   "source": [
    "#### 2.4 Specify calculation-specific run parameters\n",
    "\n",
    "- __rmin__ is the minimum r spacing to use.\n",
    "- __rmax__ is the minimum r spacing to use.\n",
    "- __rsteps__ is the number of r spacing steps to evaluate."
   ]
  },
  {
   "cell_type": "code",
   "execution_count": 7,
   "metadata": {
    "collapsed": true,
    "deletable": true,
    "editable": true
   },
   "outputs": [],
   "source": [
    "rmin = uc.set_in_units(2.0, 'angstrom')\n",
    "rmax = uc.set_in_units(6.0, 'angstrom')\n",
    "rsteps = 200"
   ]
  },
  {
   "cell_type": "markdown",
   "metadata": {
    "deletable": true,
    "editable": true
   },
   "source": [
    "### 3. Define calculation function(s) and generate template LAMMPS script(s)"
   ]
  },
  {
   "cell_type": "markdown",
   "metadata": {
    "deletable": true,
    "editable": true
   },
   "source": [
    "#### 3.1 run0.template"
   ]
  },
  {
   "cell_type": "code",
   "execution_count": 8,
   "metadata": {
    "collapsed": true,
    "deletable": true,
    "editable": true
   },
   "outputs": [],
   "source": [
    "with open('run0.template', 'w') as f:\n",
    "    f.write(\"\"\"^fill^run0.template^here^\"\"\")"
   ]
  },
  {
   "cell_type": "markdown",
   "metadata": {
    "deletable": true,
    "editable": true
   },
   "source": [
    "#### 3.2 e_vs_r()"
   ]
  },
  {
   "cell_type": "code",
   "execution_count": 9,
   "metadata": {
    "collapsed": true,
    "deletable": true,
    "editable": true
   },
   "outputs": [],
   "source": [
    "^fill^calc_E_vs_r_scan.py(e_vs_r)^here^"
   ]
  },
  {
   "cell_type": "markdown",
   "metadata": {
    "deletable": true,
    "editable": true
   },
   "source": [
    "#### 3.3 r_a_ratio()"
   ]
  },
  {
   "cell_type": "code",
   "execution_count": 10,
   "metadata": {
    "collapsed": true,
    "deletable": true,
    "editable": true
   },
   "outputs": [],
   "source": [
    "^fill^calc_E_vs_r_scan.py(r_a_ratio)^here^"
   ]
  },
  {
   "cell_type": "markdown",
   "metadata": {
    "deletable": true,
    "editable": true
   },
   "source": [
    "### 4. Run calculation function(s)"
   ]
  },
  {
   "cell_type": "code",
   "execution_count": 11,
   "metadata": {
    "collapsed": false,
    "deletable": true,
    "editable": true
   },
   "outputs": [],
   "source": [
    "results_dict = e_vs_r(lammps_command, system, potential, symbols, \n",
    "                      mpi_command = mpi_command, \n",
    "                      ucell = ucell, \n",
    "                      rmin = rmin, \n",
    "                      rmax = rmax, \n",
    "                      rsteps = rsteps)"
   ]
  },
  {
   "cell_type": "code",
   "execution_count": 12,
   "metadata": {
    "collapsed": false,
    "deletable": true,
    "editable": true
   },
   "outputs": [
    {
     "data": {
      "text/plain": [
       "['min_cell', 'r_values', 'Ecoh_values', 'a_values']"
      ]
     },
     "execution_count": 12,
     "metadata": {},
     "output_type": "execute_result"
    }
   ],
   "source": [
    "results_dict.keys()"
   ]
  },
  {
   "cell_type": "markdown",
   "metadata": {
    "deletable": true,
    "editable": true
   },
   "source": [
    "### 5. Report results"
   ]
  },
  {
   "cell_type": "markdown",
   "metadata": {
    "deletable": true,
    "editable": true
   },
   "source": [
    "#### 5.1 Define units for outputting values\n",
    "\n",
    "- __length_unit__ is the unit of length to display r and a values in.\n",
    "- __energy_unit__ is the unit of energy to display cohesive energies in."
   ]
  },
  {
   "cell_type": "code",
   "execution_count": 13,
   "metadata": {
    "collapsed": true,
    "deletable": true,
    "editable": true
   },
   "outputs": [],
   "source": [
    "length_unit = 'angstrom'\n",
    "energy_unit = 'eV'"
   ]
  },
  {
   "cell_type": "markdown",
   "metadata": {
    "deletable": true,
    "editable": true
   },
   "source": [
    "#### 5.2 Plot Ecoh vs r"
   ]
  },
  {
   "cell_type": "code",
   "execution_count": 14,
   "metadata": {
    "collapsed": false,
    "deletable": true,
    "editable": true
   },
   "outputs": [
    {
     "data": {
      "text/html": [
       "\n",
       "\n",
       "    <div class=\"bk-root\">\n",
       "        <div class=\"bk-plotdiv\" id=\"9a0c06fd-b074-4199-afe8-402bcac65be0\"></div>\n",
       "    </div>\n",
       "<script type=\"text/javascript\">\n",
       "  \n",
       "  (function(global) {\n",
       "    function now() {\n",
       "      return new Date();\n",
       "    }\n",
       "  \n",
       "    var force = false;\n",
       "  \n",
       "    if (typeof (window._bokeh_onload_callbacks) === \"undefined\" || force === true) {\n",
       "      window._bokeh_onload_callbacks = [];\n",
       "      window._bokeh_is_loading = undefined;\n",
       "    }\n",
       "  \n",
       "  \n",
       "    \n",
       "    if (typeof (window._bokeh_timeout) === \"undefined\" || force === true) {\n",
       "      window._bokeh_timeout = Date.now() + 0;\n",
       "      window._bokeh_failed_load = false;\n",
       "    }\n",
       "  \n",
       "    var NB_LOAD_WARNING = {'data': {'text/html':\n",
       "       \"<div style='background-color: #fdd'>\\n\"+\n",
       "       \"<p>\\n\"+\n",
       "       \"BokehJS does not appear to have successfully loaded. If loading BokehJS from CDN, this \\n\"+\n",
       "       \"may be due to a slow or bad network connection. Possible fixes:\\n\"+\n",
       "       \"</p>\\n\"+\n",
       "       \"<ul>\\n\"+\n",
       "       \"<li>re-rerun `output_notebook()` to attempt to load from CDN again, or</li>\\n\"+\n",
       "       \"<li>use INLINE resources instead, as so:</li>\\n\"+\n",
       "       \"</ul>\\n\"+\n",
       "       \"<code>\\n\"+\n",
       "       \"from bokeh.resources import INLINE\\n\"+\n",
       "       \"output_notebook(resources=INLINE)\\n\"+\n",
       "       \"</code>\\n\"+\n",
       "       \"</div>\"}};\n",
       "  \n",
       "    function display_loaded() {\n",
       "      if (window.Bokeh !== undefined) {\n",
       "        document.getElementById(\"9a0c06fd-b074-4199-afe8-402bcac65be0\").textContent = \"BokehJS successfully loaded.\";\n",
       "      } else if (Date.now() < window._bokeh_timeout) {\n",
       "        setTimeout(display_loaded, 100)\n",
       "      }\n",
       "    }\n",
       "  \n",
       "    function run_callbacks() {\n",
       "      window._bokeh_onload_callbacks.forEach(function(callback) { callback() });\n",
       "      delete window._bokeh_onload_callbacks\n",
       "      console.info(\"Bokeh: all callbacks have finished\");\n",
       "    }\n",
       "  \n",
       "    function load_libs(js_urls, callback) {\n",
       "      window._bokeh_onload_callbacks.push(callback);\n",
       "      if (window._bokeh_is_loading > 0) {\n",
       "        console.log(\"Bokeh: BokehJS is being loaded, scheduling callback at\", now());\n",
       "        return null;\n",
       "      }\n",
       "      if (js_urls == null || js_urls.length === 0) {\n",
       "        run_callbacks();\n",
       "        return null;\n",
       "      }\n",
       "      console.log(\"Bokeh: BokehJS not loaded, scheduling load and callback at\", now());\n",
       "      window._bokeh_is_loading = js_urls.length;\n",
       "      for (var i = 0; i < js_urls.length; i++) {\n",
       "        var url = js_urls[i];\n",
       "        var s = document.createElement('script');\n",
       "        s.src = url;\n",
       "        s.async = false;\n",
       "        s.onreadystatechange = s.onload = function() {\n",
       "          window._bokeh_is_loading--;\n",
       "          if (window._bokeh_is_loading === 0) {\n",
       "            console.log(\"Bokeh: all BokehJS libraries loaded\");\n",
       "            run_callbacks()\n",
       "          }\n",
       "        };\n",
       "        s.onerror = function() {\n",
       "          console.warn(\"failed to load library \" + url);\n",
       "        };\n",
       "        console.log(\"Bokeh: injecting script tag for BokehJS library: \", url);\n",
       "        document.getElementsByTagName(\"head\")[0].appendChild(s);\n",
       "      }\n",
       "    };var element = document.getElementById(\"9a0c06fd-b074-4199-afe8-402bcac65be0\");\n",
       "    if (element == null) {\n",
       "      console.log(\"Bokeh: ERROR: autoload.js configured with elementid '9a0c06fd-b074-4199-afe8-402bcac65be0' but no matching script tag was found. \")\n",
       "      return false;\n",
       "    }\n",
       "  \n",
       "    var js_urls = [];\n",
       "  \n",
       "    var inline_js = [\n",
       "      function(Bokeh) {\n",
       "        (function() {\n",
       "          var fn = function() {\n",
       "            var docs_json = {\"5f5c3a06-5166-4ec6-9ec9-01be7ca9f249\":{\"roots\":{\"references\":[{\"attributes\":{\"plot\":{\"id\":\"358f5054-0592-46c8-a435-7049907dff55\",\"subtype\":\"Figure\",\"type\":\"Plot\"}},\"id\":\"9e749489-4745-4e39-aa31-11d3de7a8470\",\"type\":\"HelpTool\"},{\"attributes\":{\"plot\":{\"id\":\"358f5054-0592-46c8-a435-7049907dff55\",\"subtype\":\"Figure\",\"type\":\"Plot\"}},\"id\":\"c97c7ee2-3f9d-4f27-b53b-5af6c3b25d9d\",\"type\":\"ResetTool\"},{\"attributes\":{},\"id\":\"d16f3588-b29c-470a-bf28-ab4f8fa49794\",\"type\":\"BasicTicker\"},{\"attributes\":{\"below\":[{\"id\":\"5f4b34d3-4c38-4f97-974f-d352bf37f283\",\"type\":\"LinearAxis\"}],\"left\":[{\"id\":\"888988fd-06ce-4558-a8c5-f930a093bae9\",\"type\":\"LinearAxis\"}],\"plot_width\":800,\"renderers\":[{\"id\":\"5f4b34d3-4c38-4f97-974f-d352bf37f283\",\"type\":\"LinearAxis\"},{\"id\":\"9846ad26-ae01-42c9-b7ff-89de0698debb\",\"type\":\"Grid\"},{\"id\":\"888988fd-06ce-4558-a8c5-f930a093bae9\",\"type\":\"LinearAxis\"},{\"id\":\"5bc93552-6ef5-4b9f-8fec-3f3cc87c7653\",\"type\":\"Grid\"},{\"id\":\"1db062bd-599b-4da4-90e4-734fdc06e5c0\",\"type\":\"BoxAnnotation\"},{\"id\":\"3ccc5b3b-3080-4360-af03-3f012e8bed4b\",\"type\":\"GlyphRenderer\"}],\"title\":{\"id\":\"2a3f74f3-3adf-4f1e-9a04-96dcecc28891\",\"type\":\"Title\"},\"tool_events\":{\"id\":\"d7ea1acd-73fb-4336-a2cd-27808ce1ab63\",\"type\":\"ToolEvents\"},\"toolbar\":{\"id\":\"26aede42-5c3d-44ff-a35e-d338bbc4ca21\",\"type\":\"Toolbar\"},\"x_range\":{\"id\":\"74f891e8-0599-4b64-bf7c-0eba82167607\",\"type\":\"Range1d\"},\"y_range\":{\"id\":\"416cf79e-3666-44e6-b62c-4da48d6b25ea\",\"type\":\"Range1d\"}},\"id\":\"358f5054-0592-46c8-a435-7049907dff55\",\"subtype\":\"Figure\",\"type\":\"Plot\"},{\"attributes\":{\"axis_label\":\"r (angstrom)\",\"formatter\":{\"id\":\"6e25df2c-4693-412c-90eb-28f3c9e09c41\",\"type\":\"BasicTickFormatter\"},\"plot\":{\"id\":\"358f5054-0592-46c8-a435-7049907dff55\",\"subtype\":\"Figure\",\"type\":\"Plot\"},\"ticker\":{\"id\":\"d16f3588-b29c-470a-bf28-ab4f8fa49794\",\"type\":\"BasicTicker\"}},\"id\":\"5f4b34d3-4c38-4f97-974f-d352bf37f283\",\"type\":\"LinearAxis\"},{\"attributes\":{\"dimension\":1,\"plot\":{\"id\":\"358f5054-0592-46c8-a435-7049907dff55\",\"subtype\":\"Figure\",\"type\":\"Plot\"},\"ticker\":{\"id\":\"a3c71182-7553-46b9-996b-e0f5c14532b3\",\"type\":\"BasicTicker\"}},\"id\":\"5bc93552-6ef5-4b9f-8fec-3f3cc87c7653\",\"type\":\"Grid\"},{\"attributes\":{\"callback\":null,\"column_names\":[\"y\",\"x\"],\"data\":{\"x\":{\"__ndarray__\":\"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\",\"dtype\":\"float64\",\"shape\":[200]},\"y\":{\"__ndarray__\":\"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\",\"dtype\":\"float64\",\"shape\":[200]}}},\"id\":\"4801dfa0-faf3-45b5-b984-b7fe342be428\",\"type\":\"ColumnDataSource\"},{\"attributes\":{},\"id\":\"d7ea1acd-73fb-4336-a2cd-27808ce1ab63\",\"type\":\"ToolEvents\"},{\"attributes\":{\"overlay\":{\"id\":\"1db062bd-599b-4da4-90e4-734fdc06e5c0\",\"type\":\"BoxAnnotation\"},\"plot\":{\"id\":\"358f5054-0592-46c8-a435-7049907dff55\",\"subtype\":\"Figure\",\"type\":\"Plot\"}},\"id\":\"5665b2d8-4d18-42da-a872-4a02ea429ea1\",\"type\":\"BoxZoomTool\"},{\"attributes\":{\"plot\":{\"id\":\"358f5054-0592-46c8-a435-7049907dff55\",\"subtype\":\"Figure\",\"type\":\"Plot\"},\"ticker\":{\"id\":\"d16f3588-b29c-470a-bf28-ab4f8fa49794\",\"type\":\"BasicTicker\"}},\"id\":\"9846ad26-ae01-42c9-b7ff-89de0698debb\",\"type\":\"Grid\"},{\"attributes\":{\"line_alpha\":{\"value\":0.1},\"line_color\":{\"value\":\"#1f77b4\"},\"line_width\":{\"value\":2},\"x\":{\"field\":\"x\"},\"y\":{\"field\":\"y\"}},\"id\":\"113ab992-b62a-4a9b-91d8-2e7a3567c044\",\"type\":\"Line\"},{\"attributes\":{\"callback\":null,\"end\":6.0,\"start\":2.0},\"id\":\"74f891e8-0599-4b64-bf7c-0eba82167607\",\"type\":\"Range1d\"},{\"attributes\":{},\"id\":\"a3c71182-7553-46b9-996b-e0f5c14532b3\",\"type\":\"BasicTicker\"},{\"attributes\":{\"axis_label\":\"Cohesive Energy (eV/atom)\",\"formatter\":{\"id\":\"437b7136-0c24-4383-a397-4f7ff73d2cf7\",\"type\":\"BasicTickFormatter\"},\"plot\":{\"id\":\"358f5054-0592-46c8-a435-7049907dff55\",\"subtype\":\"Figure\",\"type\":\"Plot\"},\"ticker\":{\"id\":\"a3c71182-7553-46b9-996b-e0f5c14532b3\",\"type\":\"BasicTicker\"}},\"id\":\"888988fd-06ce-4558-a8c5-f930a093bae9\",\"type\":\"LinearAxis\"},{\"attributes\":{\"active_drag\":\"auto\",\"active_scroll\":\"auto\",\"active_tap\":\"auto\",\"tools\":[{\"id\":\"09660095-28e3-486d-9fb0-e5337e16ac95\",\"type\":\"PanTool\"},{\"id\":\"13c130ad-6ef2-4ed8-a74b-b87a238876b8\",\"type\":\"WheelZoomTool\"},{\"id\":\"5665b2d8-4d18-42da-a872-4a02ea429ea1\",\"type\":\"BoxZoomTool\"},{\"id\":\"e5a0d349-6bc7-4482-a0a6-f1addb986108\",\"type\":\"SaveTool\"},{\"id\":\"c97c7ee2-3f9d-4f27-b53b-5af6c3b25d9d\",\"type\":\"ResetTool\"},{\"id\":\"9e749489-4745-4e39-aa31-11d3de7a8470\",\"type\":\"HelpTool\"}]},\"id\":\"26aede42-5c3d-44ff-a35e-d338bbc4ca21\",\"type\":\"Toolbar\"},{\"attributes\":{\"plot\":{\"id\":\"358f5054-0592-46c8-a435-7049907dff55\",\"subtype\":\"Figure\",\"type\":\"Plot\"}},\"id\":\"e5a0d349-6bc7-4482-a0a6-f1addb986108\",\"type\":\"SaveTool\"},{\"attributes\":{\"plot\":{\"id\":\"358f5054-0592-46c8-a435-7049907dff55\",\"subtype\":\"Figure\",\"type\":\"Plot\"}},\"id\":\"13c130ad-6ef2-4ed8-a74b-b87a238876b8\",\"type\":\"WheelZoomTool\"},{\"attributes\":{\"line_color\":{\"value\":\"#1f77b4\"},\"line_width\":{\"value\":2},\"x\":{\"field\":\"x\"},\"y\":{\"field\":\"y\"}},\"id\":\"e8932833-cac9-4bce-aad5-d4248b6d1ec9\",\"type\":\"Line\"},{\"attributes\":{\"bottom_units\":\"screen\",\"fill_alpha\":{\"value\":0.5},\"fill_color\":{\"value\":\"lightgrey\"},\"left_units\":\"screen\",\"level\":\"overlay\",\"line_alpha\":{\"value\":1.0},\"line_color\":{\"value\":\"black\"},\"line_dash\":[4,4],\"line_width\":{\"value\":2},\"plot\":null,\"render_mode\":\"css\",\"right_units\":\"screen\",\"top_units\":\"screen\"},\"id\":\"1db062bd-599b-4da4-90e4-734fdc06e5c0\",\"type\":\"BoxAnnotation\"},{\"attributes\":{\"data_source\":{\"id\":\"4801dfa0-faf3-45b5-b984-b7fe342be428\",\"type\":\"ColumnDataSource\"},\"glyph\":{\"id\":\"e8932833-cac9-4bce-aad5-d4248b6d1ec9\",\"type\":\"Line\"},\"hover_glyph\":null,\"nonselection_glyph\":{\"id\":\"113ab992-b62a-4a9b-91d8-2e7a3567c044\",\"type\":\"Line\"},\"selection_glyph\":null},\"id\":\"3ccc5b3b-3080-4360-af03-3f012e8bed4b\",\"type\":\"GlyphRenderer\"},{\"attributes\":{},\"id\":\"6e25df2c-4693-412c-90eb-28f3c9e09c41\",\"type\":\"BasicTickFormatter\"},{\"attributes\":{},\"id\":\"437b7136-0c24-4383-a397-4f7ff73d2cf7\",\"type\":\"BasicTickFormatter\"},{\"attributes\":{\"callback\":null,\"end\":0,\"start\":-5.0},\"id\":\"416cf79e-3666-44e6-b62c-4da48d6b25ea\",\"type\":\"Range1d\"},{\"attributes\":{\"plot\":{\"id\":\"358f5054-0592-46c8-a435-7049907dff55\",\"subtype\":\"Figure\",\"type\":\"Plot\"}},\"id\":\"09660095-28e3-486d-9fb0-e5337e16ac95\",\"type\":\"PanTool\"},{\"attributes\":{\"plot\":null,\"text\":\"Cohesive Energy vs. Interatomic Spacing\"},\"id\":\"2a3f74f3-3adf-4f1e-9a04-96dcecc28891\",\"type\":\"Title\"}],\"root_ids\":[\"358f5054-0592-46c8-a435-7049907dff55\"]},\"title\":\"Bokeh Application\",\"version\":\"0.12.4\"}};\n",
       "            var render_items = [{\"docid\":\"5f5c3a06-5166-4ec6-9ec9-01be7ca9f249\",\"elementid\":\"9a0c06fd-b074-4199-afe8-402bcac65be0\",\"modelid\":\"358f5054-0592-46c8-a435-7049907dff55\"}];\n",
       "            \n",
       "            Bokeh.embed.embed_items(docs_json, render_items);\n",
       "          };\n",
       "          if (document.readyState != \"loading\") fn();\n",
       "          else document.addEventListener(\"DOMContentLoaded\", fn);\n",
       "        })();\n",
       "      },\n",
       "      function(Bokeh) {\n",
       "      }\n",
       "    ];\n",
       "  \n",
       "    function run_inline_js() {\n",
       "      \n",
       "      if ((window.Bokeh !== undefined) || (force === true)) {\n",
       "        for (var i = 0; i < inline_js.length; i++) {\n",
       "          inline_js[i](window.Bokeh);\n",
       "        }if (force === true) {\n",
       "          display_loaded();\n",
       "        }} else if (Date.now() < window._bokeh_timeout) {\n",
       "        setTimeout(run_inline_js, 100);\n",
       "      } else if (!window._bokeh_failed_load) {\n",
       "        console.log(\"Bokeh: BokehJS failed to load within specified timeout.\");\n",
       "        window._bokeh_failed_load = true;\n",
       "      } else if (force !== true) {\n",
       "        var cell = $(document.getElementById(\"9a0c06fd-b074-4199-afe8-402bcac65be0\")).parents('.cell').data().cell;\n",
       "        cell.output_area.append_execute_result(NB_LOAD_WARNING)\n",
       "      }\n",
       "  \n",
       "    }\n",
       "  \n",
       "    if (window._bokeh_is_loading === 0) {\n",
       "      console.log(\"Bokeh: BokehJS loaded, going straight to plotting\");\n",
       "      run_inline_js();\n",
       "    } else {\n",
       "      load_libs(js_urls, function() {\n",
       "        console.log(\"Bokeh: BokehJS plotting callback run at\", now());\n",
       "        run_inline_js();\n",
       "      });\n",
       "    }\n",
       "  }(this));\n",
       "</script>"
      ]
     },
     "metadata": {},
     "output_type": "display_data"
    }
   ],
   "source": [
    "Ecoh = uc.get_in_units(results_dict['Ecoh_values'], energy_unit)\n",
    "r = uc.get_in_units(results_dict['r_values'], length_unit)\n",
    "\n",
    "Emin = floor(Ecoh.min())\n",
    "if Emin < -10: \n",
    "    Emin = -10\n",
    "    \n",
    "plot = figure(title='Cohesive Energy vs. Interatomic Spacing',\n",
    "              plot_width = 800,\n",
    "              plot_height = 600,\n",
    "              x_range = [uc.get_in_units(rmin, 'angstrom'), uc.get_in_units(rmax, 'angstrom')],\n",
    "              y_range = [Emin, 0],              \n",
    "              x_axis_label='r ('+length_unit+')', \n",
    "              y_axis_label='Cohesive Energy ('+energy_unit+'/atom)')\n",
    "\n",
    "plot.line(r, Ecoh,line_width = 2)            \n",
    "plot.legend.location = \"bottom_right\"    \n",
    "\n",
    "show(plot)"
   ]
  },
  {
   "cell_type": "markdown",
   "metadata": {
    "deletable": true,
    "editable": true
   },
   "source": [
    "#### 5.3 List minimum energy configurations"
   ]
  },
  {
   "cell_type": "code",
   "execution_count": 15,
   "metadata": {
    "collapsed": false,
    "deletable": true,
    "editable": true
   },
   "outputs": [
    {
     "name": "stdout",
     "output_type": "stream",
     "text": [
      "Possible minimum near:\n",
      "a = 3.51066080308 angstrom\n",
      "b = 3.51066080308 angstrom\n",
      "c = 3.51066080308 angstrom\n",
      "\n",
      "Possible minimum near:\n",
      "a = 7.37665164695 angstrom\n",
      "b = 7.37665164695 angstrom\n",
      "c = 7.37665164695 angstrom\n",
      "\n"
     ]
    }
   ],
   "source": [
    "for mincell in results_dict['min_cell']:\n",
    "    print('Possible minimum near:')\n",
    "    print('a =', uc.get_in_units(mincell.box.a, length_unit), length_unit)\n",
    "    print('b =', uc.get_in_units(mincell.box.b, length_unit), length_unit)\n",
    "    print('c =', uc.get_in_units(mincell.box.c, length_unit), length_unit)\n",
    "    print()"
   ]
  }
 ],
 "metadata": {
  "kernelspec": {
   "display_name": "Python 2",
   "language": "python",
   "name": "python2"
  },
  "language_info": {
   "codemirror_mode": {
    "name": "ipython",
    "version": 2
   },
   "file_extension": ".py",
   "mimetype": "text/x-python",
   "name": "python",
   "nbconvert_exporter": "python",
   "pygments_lexer": "ipython2",
   "version": "2.7.13"
  }
 },
 "nbformat": 4,
 "nbformat_minor": 2
}
