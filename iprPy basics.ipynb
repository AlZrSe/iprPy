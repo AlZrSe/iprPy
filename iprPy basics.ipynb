{
 "cells": [
  {
   "cell_type": "markdown",
   "metadata": {},
   "source": [
    "#Demonstration of iprpy code design"
   ]
  },
  {
   "cell_type": "markdown",
   "metadata": {},
   "source": [
    "###Initial Imports"
   ]
  },
  {
   "cell_type": "code",
   "execution_count": 1,
   "metadata": {
    "collapsed": true
   },
   "outputs": [],
   "source": [
    "#standard library imports\n",
    "import sys\n",
    "\n",
    "#external library imports\n",
    "import numpy as np\n",
    "\n",
    "#custom library import\n",
    "#Need to specify path to the folder containing iprpy\n",
    "sys.path.append('IPR')\n",
    "import iprpy"
   ]
  },
  {
   "cell_type": "markdown",
   "metadata": {},
   "source": [
    "##Atom Class\n",
    "\n",
    "__Class Atom is used to hold per-atom properties.  The Atom always has an integer type, atype, and 3D position vector, pos.  Interacting with the per-atom properties is controlled by methods.__"
   ]
  },
  {
   "cell_type": "code",
   "execution_count": 2,
   "metadata": {
    "collapsed": true
   },
   "outputs": [],
   "source": [
    "atom1 = iprpy.Atom(atype = 1, pos = [1.23, 4.56, 7.89])"
   ]
  },
  {
   "cell_type": "markdown",
   "metadata": {},
   "source": [
    "__Accessing the values:__"
   ]
  },
  {
   "cell_type": "code",
   "execution_count": 3,
   "metadata": {
    "collapsed": false
   },
   "outputs": [
    {
     "name": "stdout",
     "output_type": "stream",
     "text": [
      "1\n",
      "[ 1.23  4.56  7.89]\n",
      "1.23\n",
      "4.56\n",
      "7.89\n"
     ]
    }
   ],
   "source": [
    "print atom1.atype()\n",
    "print atom1.pos()\n",
    "print atom1.pos(0)\n",
    "print atom1.pos(1)\n",
    "print atom1.pos(2)"
   ]
  },
  {
   "cell_type": "markdown",
   "metadata": {},
   "source": [
    "__The same methods can be used to set the per-atom properties:__"
   ]
  },
  {
   "cell_type": "code",
   "execution_count": 4,
   "metadata": {
    "collapsed": false
   },
   "outputs": [
    {
     "name": "stdout",
     "output_type": "stream",
     "text": [
      "4\n",
      "[-9.87 -6.54 -3.21]\n"
     ]
    }
   ],
   "source": [
    "atom1.atype(4)\n",
    "print atom1.atype()\n",
    "atom1.pos((-9.87, -6.54, -3.21))\n",
    "print atom1.pos()"
   ]
  },
  {
   "cell_type": "markdown",
   "metadata": {},
   "source": [
    "__While these are the only two properties the atom must have, others can be dynamically assigned and accessed using the prop() method.__"
   ]
  },
  {
   "cell_type": "code",
   "execution_count": 5,
   "metadata": {
    "collapsed": false
   },
   "outputs": [
    {
     "name": "stdout",
     "output_type": "stream",
     "text": [
      "None\n",
      "-1.9\n"
     ]
    }
   ],
   "source": [
    "#All non-defined property names return None\n",
    "print atom1.prop('charge')\n",
    "\n",
    "#Set the propery\n",
    "atom1.prop('charge', -1.9)\n",
    "\n",
    "#Now it's value is returned\n",
    "print atom1.prop('charge')"
   ]
  },
  {
   "cell_type": "markdown",
   "metadata": {},
   "source": [
    "__The method prop() can also be used with atype and pos:__"
   ]
  },
  {
   "cell_type": "code",
   "execution_count": 6,
   "metadata": {
    "collapsed": false
   },
   "outputs": [
    {
     "name": "stdout",
     "output_type": "stream",
     "text": [
      "2\n",
      "[ 12.3  45.6  78.9]\n",
      "12.3\n",
      "45.6\n",
      "78.9\n"
     ]
    }
   ],
   "source": [
    "atom1.prop('atype', 2)\n",
    "print atom1.prop('atype')\n",
    "\n",
    "atom1.prop('pos', (12.3, 45.6, 78.9))\n",
    "print atom1.prop('pos')\n",
    "print atom1.prop('pos', 0)\n",
    "print atom1.prop('pos', 1)\n",
    "print atom1.prop('pos', 2)"
   ]
  },
  {
   "cell_type": "markdown",
   "metadata": {},
   "source": [
    "__The full list of assigned atomic properties can be obtained using prop_list():__"
   ]
  },
  {
   "cell_type": "code",
   "execution_count": 7,
   "metadata": {
    "collapsed": false
   },
   "outputs": [
    {
     "name": "stdout",
     "output_type": "stream",
     "text": [
      "['atype', 'pos', 'charge']\n"
     ]
    }
   ],
   "source": [
    "print atom1.prop_list()"
   ]
  },
  {
   "cell_type": "markdown",
   "metadata": {},
   "source": [
    "##Box class\n",
    "\n",
    "__The Box class defines a geometric parallelopid which can be used to define any system that can be periodic in all three directions.  In this way, the parameters of the Box can be associated with either an entire atomic system, or a single unit cell.__"
   ]
  },
  {
   "cell_type": "code",
   "execution_count": 8,
   "metadata": {
    "collapsed": true
   },
   "outputs": [],
   "source": [
    "box1 = iprpy.Box()"
   ]
  },
  {
   "cell_type": "markdown",
   "metadata": {},
   "source": [
    "__By default, the box is initialized to be a unit cube with direction vectors [1, 0, 0], [0, 1, 0], [0, 0, 1] and origin at [0, 0, 0].  The parameters of the box can be retrieved in a number of different formats using the get() method.__"
   ]
  },
  {
   "cell_type": "code",
   "execution_count": 9,
   "metadata": {
    "collapsed": false
   },
   "outputs": [
    {
     "name": "stdout",
     "output_type": "stream",
     "text": [
      "Vector representation:\n",
      "avect  = [ 1.  0.  0.]\n",
      "bvect  = [ 0.  1.  0.]\n",
      "cvect  = [ 0.  0.  1.]\n",
      "origin = [ 0.  0.  0.]\n",
      "\n",
      "Crystallographic representation:\n",
      "a     = 1.0\n",
      "b     = 1.0\n",
      "c     = 1.0\n",
      "alpha = 90.0\n",
      "beta  = 90.0\n",
      "gamma = 90.0\n",
      "\n",
      "LAMMPS representations:\n",
      "xlo xhi  = 0.0 1.0\n",
      "ylo yhi  = 0.0 1.0\n",
      "zlo zhi  = 0.0 1.0\n",
      "lx ly lz = 1.0 1.0 1.0\n",
      "xy xz yz = 0.0 0.0 0.0\n"
     ]
    }
   ],
   "source": [
    "print 'Vector representation:'\n",
    "print 'avect  =', box1.get('avect')\n",
    "print 'bvect  =', box1.get('bvect')\n",
    "print 'cvect  =', box1.get('cvect')\n",
    "print 'origin =', box1.get('origin')\n",
    "print \n",
    "print 'Crystallographic representation:'\n",
    "print 'a     =', box1.get('a')\n",
    "print 'b     =', box1.get('b')\n",
    "print 'c     =', box1.get('c')\n",
    "print 'alpha =', box1.get('alpha')\n",
    "print 'beta  =', box1.get('beta')\n",
    "print 'gamma =', box1.get('gamma')\n",
    "print\n",
    "print 'LAMMPS representations:'\n",
    "print 'xlo xhi  =', box1.get('xlo'), box1.get('xhi')\n",
    "print 'ylo yhi  =', box1.get('ylo'), box1.get('yhi')\n",
    "print 'zlo zhi  =', box1.get('zlo'), box1.get('zhi')\n",
    "print 'lx ly lz =', box1.get('lx'), box1.get('ly'), box1.get('lz')\n",
    "print 'xy xz yz =', box1.get('xy'), box1.get('xz'), box1.get('yz')"
   ]
  },
  {
   "cell_type": "markdown",
   "metadata": {},
   "source": [
    "__The initilizer also allows for Boxes to be constructed by setting any of these above parameters.  However, as the different parameters are not independent of each other, setting the Box parameters is controlled through three different set methods.  The initilizer will call one of the set methods if all supplied parameters are consistent with that method.__  \n",
    "\n",
    "__Note that the various components of the box cannot be independenly set. Rather, all necessary components must be given at the same time either when the Box is created, or using one of the three set methods.__"
   ]
  },
  {
   "cell_type": "markdown",
   "metadata": {},
   "source": [
    "###set_vectors()\n",
    "\n",
    "__The set_vectors() method allows for the Box to be defined using the 3D direction vectors:__"
   ]
  },
  {
   "cell_type": "code",
   "execution_count": 10,
   "metadata": {
    "collapsed": false
   },
   "outputs": [
    {
     "name": "stdout",
     "output_type": "stream",
     "text": [
      "Vector representation:\n",
      "avect  = [ 2.4  0.   0. ]\n",
      "bvect  = [ 0.   3.2  0. ]\n",
      "cvect  = [ 0.   0.   2.7]\n",
      "origin = [1, 1, 1]\n",
      "\n",
      "Crystallographic representation:\n",
      "a     = 2.4\n",
      "b     = 3.2\n",
      "c     = 2.7\n",
      "alpha = 90.0\n",
      "beta  = 90.0\n",
      "gamma = 90.0\n",
      "\n",
      "LAMMPS representations:\n",
      "xlo xhi  = 1 3.4\n",
      "ylo yhi  = 1 4.2\n",
      "zlo zhi  = 1 3.7\n",
      "lx ly lz = 2.4 3.2 2.7\n",
      "xy xz yz = 0.0 0.0 0.0\n"
     ]
    }
   ],
   "source": [
    "box1.set_vectors(avect = [2.4, 0.0, 0.0], \n",
    "                 bvect = [0.0, 3.2, 0.0], \n",
    "                 cvect = [0.0, 0.0, 2.7], \n",
    "                 origin = [1, 1, 1])\n",
    "\n",
    "print 'Vector representation:'\n",
    "print 'avect  =', box1.get('avect')\n",
    "print 'bvect  =', box1.get('bvect')\n",
    "print 'cvect  =', box1.get('cvect')\n",
    "print 'origin =', box1.get('origin')\n",
    "print \n",
    "print 'Crystallographic representation:'\n",
    "print 'a     =', box1.get('a')\n",
    "print 'b     =', box1.get('b')\n",
    "print 'c     =', box1.get('c')\n",
    "print 'alpha =', box1.get('alpha')\n",
    "print 'beta  =', box1.get('beta')\n",
    "print 'gamma =', box1.get('gamma')\n",
    "print\n",
    "print 'LAMMPS representations:'\n",
    "print 'xlo xhi  =', box1.get('xlo'), box1.get('xhi')\n",
    "print 'ylo yhi  =', box1.get('ylo'), box1.get('yhi')\n",
    "print 'zlo zhi  =', box1.get('zlo'), box1.get('zhi')\n",
    "print 'lx ly lz =', box1.get('lx'), box1.get('ly'), box1.get('lz')\n",
    "print 'xy xz yz =', box1.get('xy'), box1.get('xz'), box1.get('yz')"
   ]
  },
  {
   "cell_type": "markdown",
   "metadata": {},
   "source": [
    "__For set vectors avect, bvect and cvect must always be supplied, and they must follow the right hand rule. If origin is not given, then it is set to [0, 0, 0].  Also, the vectors are always transformed to be consistent with how LAMMPS defines them, i.e. avect[1] == avect[2] == bvect[2] == 0.__"
   ]
  },
  {
   "cell_type": "code",
   "execution_count": 11,
   "metadata": {
    "collapsed": false
   },
   "outputs": [
    {
     "name": "stdout",
     "output_type": "stream",
     "text": [
      "Vector representation:\n",
      "avect  = [ 2.40416306  0.          0.        ]\n",
      "bvect  = [ 0.39098846  3.34322121  0.        ]\n",
      "cvect  = [-0.56568542  1.88177093  2.21109434]\n",
      "origin = [ 0.  0.  0.]\n",
      "\n",
      "Crystallographic representation:\n",
      "a     = 2.40416305603\n",
      "b     = 3.36600653594\n",
      "c     = 2.95803989155\n",
      "alpha = 52.4369027887\n",
      "beta  = 101.024958242\n",
      "gamma = 83.3295810437\n",
      "\n",
      "LAMMPS representations:\n",
      "xlo xhi  = 0.0 2.40416305603\n",
      "ylo yhi  = 0.0 3.34322120532\n",
      "zlo zhi  = 0.0 2.21109433854\n",
      "lx ly lz = 2.40416305603 3.34322120532 2.21109433854\n",
      "xy xz yz = 0.39098845548 -0.565685424949 1.88177092816\n"
     ]
    }
   ],
   "source": [
    "box1.set_vectors(avect = [2.4, 0.1, -0.1], \n",
    "                 bvect = [0.3, 3.2, 1.0], \n",
    "                 cvect = [-0.5, 1.1, 2.7])\n",
    "\n",
    "print 'Vector representation:'\n",
    "print 'avect  =', box1.get('avect')\n",
    "print 'bvect  =', box1.get('bvect')\n",
    "print 'cvect  =', box1.get('cvect')\n",
    "print 'origin =', box1.get('origin')\n",
    "print \n",
    "print 'Crystallographic representation:'\n",
    "print 'a     =', box1.get('a')\n",
    "print 'b     =', box1.get('b')\n",
    "print 'c     =', box1.get('c')\n",
    "print 'alpha =', box1.get('alpha')\n",
    "print 'beta  =', box1.get('beta')\n",
    "print 'gamma =', box1.get('gamma')\n",
    "print\n",
    "print 'LAMMPS representations:'\n",
    "print 'xlo xhi  =', box1.get('xlo'), box1.get('xhi')\n",
    "print 'ylo yhi  =', box1.get('ylo'), box1.get('yhi')\n",
    "print 'zlo zhi  =', box1.get('zlo'), box1.get('zhi')\n",
    "print 'lx ly lz =', box1.get('lx'), box1.get('ly'), box1.get('lz')\n",
    "print 'xy xz yz =', box1.get('xy'), box1.get('xz'), box1.get('yz')"
   ]
  },
  {
   "cell_type": "markdown",
   "metadata": {},
   "source": [
    "###set_abc()\n",
    "\n",
    "__The set_abc() method is used to define the system using crystallographic parameters:__  "
   ]
  },
  {
   "cell_type": "code",
   "execution_count": 12,
   "metadata": {
    "collapsed": false
   },
   "outputs": [
    {
     "name": "stdout",
     "output_type": "stream",
     "text": [
      "Vector representation:\n",
      "avect  = [ 4.5  0.   0. ]\n",
      "bvect  = [ 0.   4.5  0. ]\n",
      "cvect  = [ 0.   0.   4.5]\n",
      "origin = [-2.25, -2.25, -2.25]\n",
      "\n",
      "Crystallographic representation:\n",
      "a     = 4.5\n",
      "b     = 4.5\n",
      "c     = 4.5\n",
      "alpha = 90.0\n",
      "beta  = 90.0\n",
      "gamma = 90.0\n",
      "\n",
      "LAMMPS representations:\n",
      "xlo xhi  = -2.25 2.25\n",
      "ylo yhi  = -2.25 2.25\n",
      "zlo zhi  = -2.25 2.25\n",
      "lx ly lz = 4.5 4.5 4.5\n",
      "xy xz yz = 0.0 0.0 0.0\n"
     ]
    }
   ],
   "source": [
    "box1.set_abc(a = 4.5, \n",
    "             b = 4.5, \n",
    "             c = 4.5, \n",
    "             alpha = 90, \n",
    "             beta = 90, \n",
    "             gamma = 90,\n",
    "             origin = [-2.25, -2.25, -2.25])\n",
    "\n",
    "print 'Vector representation:'\n",
    "print 'avect  =', box1.get('avect')\n",
    "print 'bvect  =', box1.get('bvect')\n",
    "print 'cvect  =', box1.get('cvect')\n",
    "print 'origin =', box1.get('origin')\n",
    "print \n",
    "print 'Crystallographic representation:'\n",
    "print 'a     =', box1.get('a')\n",
    "print 'b     =', box1.get('b')\n",
    "print 'c     =', box1.get('c')\n",
    "print 'alpha =', box1.get('alpha')\n",
    "print 'beta  =', box1.get('beta')\n",
    "print 'gamma =', box1.get('gamma')\n",
    "print\n",
    "print 'LAMMPS representations:'\n",
    "print 'xlo xhi  =', box1.get('xlo'), box1.get('xhi')\n",
    "print 'ylo yhi  =', box1.get('ylo'), box1.get('yhi')\n",
    "print 'zlo zhi  =', box1.get('zlo'), box1.get('zhi')\n",
    "print 'lx ly lz =', box1.get('lx'), box1.get('ly'), box1.get('lz')\n",
    "print 'xy xz yz =', box1.get('xy'), box1.get('xz'), box1.get('yz')"
   ]
  },
  {
   "cell_type": "markdown",
   "metadata": {},
   "source": [
    "__By default, any unsupplied angles (alpha, beta, and gamma) are automatically assumed to be 90, and the origin at [0,0,0].__  "
   ]
  },
  {
   "cell_type": "code",
   "execution_count": 13,
   "metadata": {
    "collapsed": false
   },
   "outputs": [
    {
     "name": "stdout",
     "output_type": "stream",
     "text": [
      "Vector representation:\n",
      "avect  = [ 3.2  0.   0. ]\n",
      "bvect  = [ 0.   3.2  0. ]\n",
      "cvect  = [ 0.   0.   3.2]\n",
      "origin = [ 0.  0.  0.]\n",
      "\n",
      "Crystallographic representation:\n",
      "a     = 3.2\n",
      "b     = 3.2\n",
      "c     = 3.2\n",
      "alpha = 90.0\n",
      "beta  = 90.0\n",
      "gamma = 90.0\n",
      "\n",
      "LAMMPS representations:\n",
      "xlo xhi  = 0.0 3.2\n",
      "ylo yhi  = 0.0 3.2\n",
      "zlo zhi  = 0.0 3.2\n",
      "lx ly lz = 3.2 3.2 3.2\n",
      "xy xz yz = 0.0 0.0 0.0\n"
     ]
    }
   ],
   "source": [
    "box1.set_abc(a = 3.2, \n",
    "             b = 3.2, \n",
    "             c = 3.2)\n",
    "\n",
    "print 'Vector representation:'\n",
    "print 'avect  =', box1.get('avect')\n",
    "print 'bvect  =', box1.get('bvect')\n",
    "print 'cvect  =', box1.get('cvect')\n",
    "print 'origin =', box1.get('origin')\n",
    "print \n",
    "print 'Crystallographic representation:'\n",
    "print 'a     =', box1.get('a')\n",
    "print 'b     =', box1.get('b')\n",
    "print 'c     =', box1.get('c')\n",
    "print 'alpha =', box1.get('alpha')\n",
    "print 'beta  =', box1.get('beta')\n",
    "print 'gamma =', box1.get('gamma')\n",
    "print\n",
    "print 'LAMMPS representations:'\n",
    "print 'xlo xhi  =', box1.get('xlo'), box1.get('xhi')\n",
    "print 'ylo yhi  =', box1.get('ylo'), box1.get('yhi')\n",
    "print 'zlo zhi  =', box1.get('zlo'), box1.get('zhi')\n",
    "print 'lx ly lz =', box1.get('lx'), box1.get('ly'), box1.get('lz')\n",
    "print 'xy xz yz =', box1.get('xy'), box1.get('xz'), box1.get('yz')"
   ]
  },
  {
   "cell_type": "markdown",
   "metadata": {},
   "source": [
    "__The three lattice constants a, b, and c either all must be given, or none given.  If they are not given, then they are all set equal to 1.0__"
   ]
  },
  {
   "cell_type": "code",
   "execution_count": 14,
   "metadata": {
    "collapsed": false
   },
   "outputs": [
    {
     "name": "stdout",
     "output_type": "stream",
     "text": [
      "Vector representation:\n",
      "avect  = [ 1.  0.  0.]\n",
      "bvect  = [ 0.  1.  0.]\n",
      "cvect  = [ 0.          0.25881905  0.96592583]\n",
      "origin = [ 0.  0.  0.]\n",
      "\n",
      "Crystallographic representation:\n",
      "a     = 1.0\n",
      "b     = 1.0\n",
      "c     = 1.0\n",
      "alpha = 75.0\n",
      "beta  = 90.0\n",
      "gamma = 90.0\n",
      "\n",
      "LAMMPS representations:\n",
      "xlo xhi  = 0.0 1.0\n",
      "ylo yhi  = 0.0 1.0\n",
      "zlo zhi  = 0.0 0.965925826289\n",
      "lx ly lz = 1.0 1.0 0.965925826289\n",
      "xy xz yz = 0.0 0.0 0.258819045103\n",
      "\n",
      "This next line is supposed to fail:\n"
     ]
    },
    {
     "ename": "AssertionError",
     "evalue": "Incorrect Box magnitude!",
     "output_type": "error",
     "traceback": [
      "\u001b[1;31m---------------------------------------------------------------------------\u001b[0m",
      "\u001b[1;31mAssertionError\u001b[0m                            Traceback (most recent call last)",
      "\u001b[1;32m<ipython-input-14-0cd61d2c069f>\u001b[0m in \u001b[0;36m<module>\u001b[1;34m()\u001b[0m\n\u001b[0;32m     24\u001b[0m \u001b[1;32mprint\u001b[0m\u001b[1;33m\u001b[0m\u001b[0m\n\u001b[0;32m     25\u001b[0m \u001b[1;32mprint\u001b[0m \u001b[1;34m'This next line is supposed to fail:'\u001b[0m\u001b[1;33m\u001b[0m\u001b[0m\n\u001b[1;32m---> 26\u001b[1;33m \u001b[0mbox1\u001b[0m\u001b[1;33m.\u001b[0m\u001b[0mset_abc\u001b[0m\u001b[1;33m(\u001b[0m\u001b[0ma\u001b[0m \u001b[1;33m=\u001b[0m \u001b[1;36m5.2\u001b[0m\u001b[1;33m)\u001b[0m\u001b[1;33m\u001b[0m\u001b[0m\n\u001b[0m",
      "\u001b[1;32mC:\\Users\\lmh1\\Documents\\iprPy\\IPR\\iprpy\\Box.pyc\u001b[0m in \u001b[0;36mset_abc\u001b[1;34m(self, origin, a, b, c, alpha, beta, gamma)\u001b[0m\n\u001b[0;32m     75\u001b[0m \u001b[1;33m\u001b[0m\u001b[0m\n\u001b[0;32m     76\u001b[0m         \u001b[1;32massert\u001b[0m \u001b[0misinstance\u001b[0m\u001b[1;33m(\u001b[0m\u001b[0ma\u001b[0m\u001b[1;33m,\u001b[0m \u001b[1;33m(\u001b[0m\u001b[0mint\u001b[0m\u001b[1;33m,\u001b[0m \u001b[0mlong\u001b[0m\u001b[1;33m,\u001b[0m \u001b[0mfloat\u001b[0m\u001b[1;33m)\u001b[0m\u001b[1;33m)\u001b[0m\u001b[1;33m,\u001b[0m \u001b[1;34m'Incorrect Box magnitude!'\u001b[0m\u001b[1;33m\u001b[0m\u001b[0m\n\u001b[1;32m---> 77\u001b[1;33m         \u001b[1;32massert\u001b[0m \u001b[0misinstance\u001b[0m\u001b[1;33m(\u001b[0m\u001b[0mb\u001b[0m\u001b[1;33m,\u001b[0m \u001b[1;33m(\u001b[0m\u001b[0mint\u001b[0m\u001b[1;33m,\u001b[0m \u001b[0mlong\u001b[0m\u001b[1;33m,\u001b[0m \u001b[0mfloat\u001b[0m\u001b[1;33m)\u001b[0m\u001b[1;33m)\u001b[0m\u001b[1;33m,\u001b[0m \u001b[1;34m'Incorrect Box magnitude!'\u001b[0m\u001b[1;33m\u001b[0m\u001b[0m\n\u001b[0m\u001b[0;32m     78\u001b[0m         \u001b[1;32massert\u001b[0m \u001b[0misinstance\u001b[0m\u001b[1;33m(\u001b[0m\u001b[0mc\u001b[0m\u001b[1;33m,\u001b[0m \u001b[1;33m(\u001b[0m\u001b[0mint\u001b[0m\u001b[1;33m,\u001b[0m \u001b[0mlong\u001b[0m\u001b[1;33m,\u001b[0m \u001b[0mfloat\u001b[0m\u001b[1;33m)\u001b[0m\u001b[1;33m)\u001b[0m\u001b[1;33m,\u001b[0m \u001b[1;34m'Incorrect Box magnitude!'\u001b[0m\u001b[1;33m\u001b[0m\u001b[0m\n\u001b[0;32m     79\u001b[0m \u001b[1;33m\u001b[0m\u001b[0m\n",
      "\u001b[1;31mAssertionError\u001b[0m: Incorrect Box magnitude!"
     ]
    }
   ],
   "source": [
    "box1.set_abc(alpha = 75)\n",
    "\n",
    "print 'Vector representation:'\n",
    "print 'avect  =', box1.get('avect')\n",
    "print 'bvect  =', box1.get('bvect')\n",
    "print 'cvect  =', box1.get('cvect')\n",
    "print 'origin =', box1.get('origin')\n",
    "print \n",
    "print 'Crystallographic representation:'\n",
    "print 'a     =', box1.get('a')\n",
    "print 'b     =', box1.get('b')\n",
    "print 'c     =', box1.get('c')\n",
    "print 'alpha =', box1.get('alpha')\n",
    "print 'beta  =', box1.get('beta')\n",
    "print 'gamma =', box1.get('gamma')\n",
    "print\n",
    "print 'LAMMPS representations:'\n",
    "print 'xlo xhi  =', box1.get('xlo'), box1.get('xhi')\n",
    "print 'ylo yhi  =', box1.get('ylo'), box1.get('yhi')\n",
    "print 'zlo zhi  =', box1.get('zlo'), box1.get('zhi')\n",
    "print 'lx ly lz =', box1.get('lx'), box1.get('ly'), box1.get('lz')\n",
    "print 'xy xz yz =', box1.get('xy'), box1.get('xz'), box1.get('yz')\n",
    "\n",
    "print\n",
    "print 'This next line is supposed to fail:'\n",
    "box1.set_abc(a = 5.2)\n"
   ]
  },
  {
   "cell_type": "markdown",
   "metadata": {},
   "source": [
    "###set_lengths()\n",
    "\n",
    "__The set_lengths() method allows for the Box parameters to be set using the LAMMPS style parameters for the lengths, tilt factors, and hi/lo values.  This method allows for two different Box representations to be used during the creation:__\n",
    "\n",
    "- lengths + tilts + origin\n",
    "- his + los + tilts\n",
    "\n",
    "__Mixing parameters of these two representations is not allowed (eg. origin cannot be defined if hi-los are used).  For the lengths representation, origin will be taken to be (0,0,0) if not supplied.  And for both, the tilts (xy, xz and yz) are assumed to be zero if not given.__"
   ]
  },
  {
   "cell_type": "code",
   "execution_count": 15,
   "metadata": {
    "collapsed": false
   },
   "outputs": [
    {
     "name": "stdout",
     "output_type": "stream",
     "text": [
      "Vector representation:\n",
      "avect  = [ 5.  0.  0.]\n",
      "bvect  = [ 0.5  4.   0. ]\n",
      "cvect  = [ 0.   0.   2.9]\n",
      "origin = [ 0.  0.  0.]\n",
      "\n",
      "Crystallographic representation:\n",
      "a     = 5.0\n",
      "b     = 4.03112887415\n",
      "c     = 2.9\n",
      "alpha = 90.0\n",
      "beta  = 90.0\n",
      "gamma = 82.8749836511\n",
      "\n",
      "LAMMPS representations:\n",
      "xlo xhi  = 0.0 5.0\n",
      "ylo yhi  = 0.0 4.0\n",
      "zlo zhi  = 0.0 2.9\n",
      "lx ly lz = 5.0 4.0 2.9\n",
      "xy xz yz = 0.5 0.0 0.0\n"
     ]
    }
   ],
   "source": [
    "box1.set_lengths(lx = 5, \n",
    "                 ly = 4, \n",
    "                 lz = 2.9, \n",
    "                 xy=0.5)\n",
    "\n",
    "print 'Vector representation:'\n",
    "print 'avect  =', box1.get('avect')\n",
    "print 'bvect  =', box1.get('bvect')\n",
    "print 'cvect  =', box1.get('cvect')\n",
    "print 'origin =', box1.get('origin')\n",
    "print \n",
    "print 'Crystallographic representation:'\n",
    "print 'a     =', box1.get('a')\n",
    "print 'b     =', box1.get('b')\n",
    "print 'c     =', box1.get('c')\n",
    "print 'alpha =', box1.get('alpha')\n",
    "print 'beta  =', box1.get('beta')\n",
    "print 'gamma =', box1.get('gamma')\n",
    "print\n",
    "print 'LAMMPS representations:'\n",
    "print 'xlo xhi  =', box1.get('xlo'), box1.get('xhi')\n",
    "print 'ylo yhi  =', box1.get('ylo'), box1.get('yhi')\n",
    "print 'zlo zhi  =', box1.get('zlo'), box1.get('zhi')\n",
    "print 'lx ly lz =', box1.get('lx'), box1.get('ly'), box1.get('lz')\n",
    "print 'xy xz yz =', box1.get('xy'), box1.get('xz'), box1.get('yz')"
   ]
  },
  {
   "cell_type": "code",
   "execution_count": 16,
   "metadata": {
    "collapsed": false
   },
   "outputs": [
    {
     "name": "stdout",
     "output_type": "stream",
     "text": [
      "Vector representation:\n",
      "avect  = [ 6.  0.  0.]\n",
      "bvect  = [ 0.  8.  0.]\n",
      "cvect  = [  2.6   0.   16.9]\n",
      "origin = [-2.  -2.  -2.9]\n",
      "\n",
      "Crystallographic representation:\n",
      "a     = 6.0\n",
      "b     = 8.0\n",
      "c     = 17.0988303694\n",
      "alpha = 90.0\n",
      "beta  = 81.2538377374\n",
      "gamma = 90.0\n",
      "\n",
      "LAMMPS representations:\n",
      "xlo xhi  = -2.0 4.0\n",
      "ylo yhi  = -2.0 6.0\n",
      "zlo zhi  = -2.9 14.0\n",
      "lx ly lz = 6.0 8.0 16.9\n",
      "xy xz yz = 0.0 2.6 0.0\n"
     ]
    }
   ],
   "source": [
    "box1.set_lengths(xlo = -2, \n",
    "                 xhi = 4, \n",
    "                 ylo = -2, \n",
    "                 yhi = 6, \n",
    "                 zlo = -2.9, \n",
    "                 zhi = 14, \n",
    "                 xz = 2.6)\n",
    "\n",
    "print 'Vector representation:'\n",
    "print 'avect  =', box1.get('avect')\n",
    "print 'bvect  =', box1.get('bvect')\n",
    "print 'cvect  =', box1.get('cvect')\n",
    "print 'origin =', box1.get('origin')\n",
    "print \n",
    "print 'Crystallographic representation:'\n",
    "print 'a     =', box1.get('a')\n",
    "print 'b     =', box1.get('b')\n",
    "print 'c     =', box1.get('c')\n",
    "print 'alpha =', box1.get('alpha')\n",
    "print 'beta  =', box1.get('beta')\n",
    "print 'gamma =', box1.get('gamma')\n",
    "print\n",
    "print 'LAMMPS representations:'\n",
    "print 'xlo xhi  =', box1.get('xlo'), box1.get('xhi')\n",
    "print 'ylo yhi  =', box1.get('ylo'), box1.get('yhi')\n",
    "print 'zlo zhi  =', box1.get('zlo'), box1.get('zhi')\n",
    "print 'lx ly lz =', box1.get('lx'), box1.get('ly'), box1.get('lz')\n",
    "print 'xy xz yz =', box1.get('xy'), box1.get('xz'), box1.get('yz')"
   ]
  },
  {
   "cell_type": "markdown",
   "metadata": {},
   "source": [
    "##System class\n",
    "\n",
    "__Systems are simply combinations of a Box, a list of Atoms, and a tuple of three booleans called pbc.  "
   ]
  }
 ],
 "metadata": {
  "kernelspec": {
   "display_name": "Python 2",
   "language": "python",
   "name": "python2"
  },
  "language_info": {
   "codemirror_mode": {
    "name": "ipython",
    "version": 2
   },
   "file_extension": ".py",
   "mimetype": "text/x-python",
   "name": "python",
   "nbconvert_exporter": "python",
   "pygments_lexer": "ipython2",
   "version": "2.7.10"
  }
 },
 "nbformat": 4,
 "nbformat_minor": 0
}
