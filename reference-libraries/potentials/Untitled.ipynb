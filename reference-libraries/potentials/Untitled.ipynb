{
 "cells": [
  {
   "cell_type": "code",
   "execution_count": 5,
   "metadata": {
    "collapsed": true
   },
   "outputs": [],
   "source": [
    "import os"
   ]
  },
  {
   "cell_type": "code",
   "execution_count": 2,
   "metadata": {
    "collapsed": false
   },
   "outputs": [
    {
     "name": "stdout",
     "output_type": "stream",
     "text": [
      "['1985--Foiles-S-M--Ni-Cu', '1987--Ackland-G-J--Ag', '1987--Ackland-G-J--Au', '1987--Ackland-G-J--Cu', '1987--Ackland-G-J--Mo', '1987--Ackland-G-J--Ni', '1989--Adams-J-B--Ag', '1989--Adams-J-B--Au', '1989--Adams-J-B--Cu', '1989--Adams-J-B--Ni', '1989--Adams-J-B--Pd', '1989--Adams-J-B--Pt', '1992--Ackland-G-J--Ti', '1995--Angelo-J-E--Ni-Al-H', '1996--Farkas-D--Nb-Ti-Al', '1997--Ackland-G-J--Fe', '1997--Liu-X-Y--Al-Mg', '1999--Mishin-Y--Al', '1999--Mishin-Y--Ni', '2000--Landa-A--Al-Pb', '2000--Sturgeon-J-B--Al', '2001--Mishin-Y--Cu-1', '2002--Mishin-Y--Ni-Al', '2003--Han-S--W', '2003--Hoyt-J-J--Cu-Pb', '2003--Li-Y-H--Ta', '2003--Mendelev-M-I--Fe-2', '2003--Mendelev-M-I--Fe-5', '2003--Zope-R-R--Al', '2003--Zope-R-R--Ti-Al', '2004--Ackland-G-J--Fe-P', '2004--Liu-X-Y--Al', '2004--Mishin-Y--Ni-Al', '2004--Zhou-X-W--Ag', '2004--Zhou-X-W--Al', '2004--Zhou-X-W--Au', '2004--Zhou-X-W--Co', '2004--Zhou-X-W--Cu', '2004--Zhou-X-W--Fe', '2004--Zhou-X-W--Mg', '2004--Zhou-X-W--Mo', '2004--Zhou-X-W--Ni', '2004--Zhou-X-W--Pb', '2004--Zhou-X-W--Pd', '2004--Zhou-X-W--Pt', '2004--Zhou-X-W--Ta', '2004--Zhou-X-W--Ti', '2004--Zhou-X-W--W', '2004--Zhou-X-W--Zr', '2005--Grochola-G--Au', '2005--Mendelev-M-I--Al-Fe', '2006--Sun-D-Y--Mg', '2006--Williams-P-L--Ag', '2006--Williams-P-L--Cu-Ag', '2007--Mendelev-M-I--Cu-Zr', '2007--Mendelev-M-I--V-Fe', '2007--Mendelev-M-I--Zr-1', '2007--Mendelev-M-I--Zr-2', '2007--Mendelev-M-I--Zr-3', '2008--Fortini-A--Ru', '2008--Hepburn-D-J--Fe-C', '2008--Mendelev-M-I--Al', '2008--Mendelev-M-I--Cu', '2008--Zhou-X-W--Pd-H', '2009--Bonny-G--Fe-Cu-Ni', '2009--Bonny-G--Fe-Ni', '2009--Mendelev-M-I--Al-Mg', '2009--Mendelev-M-I--Cu-Zr', '2009--Purja-Pun-G-P--Ni-Al', '2009--Wu-H-H--Cu-Ag', '2010--Fellinger-M-R--Nb', '2010--Winey-J-M--Al', '2011--Bonny-G--Fe-Ni-Cr', '2012--Jelinek-B--Al-Si-Mg-Cu-Fe', '2012--Mendelev-M-I--Cu', '2012--Mendelev-M-I--Ni', '2012--Mendelev-M-I--Ni-Zr', '2012--Park-H--Mo', '2012--Purja-Pun-G-P--Co', '2012--Schopf-D--Al-Mn-Pd', '2012--Smirnova-D-E--U', '2013--Bonny-G--Fe-Ni-Cr', '2013--Gao-H--AgTaO3', '2013--Hale-L-M--Pd-Ag-H-Hybrid', '2013--Hale-L-M--Pd-Ag-H-Morse', '2013--Henriksson-K-O-E--Fe-C', '2013--Ravelo-R--Ta-1', '2013--Ravelo-R--Ta-2', '2013--Smirnova-D-E--U-Mo-Xe', '2013--Zhou-X-W--Zn-Cd-Hg-S-Se-Te', '2014--Liyanage-L-S-I--Fe-C', '2015--Mendelev-M-I--Al-Sm', '2015--Purja-Pun-G-P--Al-Co', '2015--Purja-Pun-G-P--Cu-Ta', '2015--Purja-Pun-G-P--Ni-Al-Co', '2015--Purja-Pun-G-P--Ni-Co', '2015--Wilson-S-R--Na', '2015--Wilson-S-R--Ni-Zr', '']\n"
     ]
    }
   ],
   "source": [
    "with open('list.txt.', 'r') as f:\n",
    "    right_list = f.read().split('\\n')\n",
    "for right_name in right_list:\n",
    "    right_name = right_name.strip()\n",
    "print right_list"
   ]
  },
  {
   "cell_type": "code",
   "execution_count": 7,
   "metadata": {
    "collapsed": false
   },
   "outputs": [
    {
     "name": "stdout",
     "output_type": "stream",
     "text": [
      "2003--Ackland-G-J--W\n",
      "2006--Chamati-M--Fe\n",
      "2012--Proville-L--Fe\n",
      "2013--Purja-Pun-G-P--Al-Co\n",
      "2013--Purja-Pun-G-P--Ni-Al-Co\n",
      "2013--Purja-Pun-G-P--Ni-Co\n",
      "2015--Mendelev-M-I--Ni-Zr\n",
      "2015--Thompson-A-P--Ta\n"
     ]
    }
   ],
   "source": [
    "for fname in os.listdir(os.getcwd()):\n",
    "    if fname[-5:] == '.json':\n",
    "        if fname[:-5] not in right_list:\n",
    "            print fname[:-5]"
   ]
  },
  {
   "cell_type": "code",
   "execution_count": 8,
   "metadata": {
    "collapsed": false
   },
   "outputs": [
    {
     "name": "stdout",
     "output_type": "stream",
     "text": [
      "-7.0\n"
     ]
    }
   ],
   "source": [
    "from math import floor\n",
    "print floor(-6.2)"
   ]
  },
  {
   "cell_type": "code",
   "execution_count": 9,
   "metadata": {
    "collapsed": false
   },
   "outputs": [
    {
     "data": {
      "text/plain": [
       "10.5"
      ]
     },
     "execution_count": 9,
     "metadata": {},
     "output_type": "execute_result"
    }
   ],
   "source": [
    "10*1.05"
   ]
  },
  {
   "cell_type": "code",
   "execution_count": null,
   "metadata": {
    "collapsed": true
   },
   "outputs": [],
   "source": []
  }
 ],
 "metadata": {
  "kernelspec": {
   "display_name": "Python 2",
   "language": "python",
   "name": "python2"
  },
  "language_info": {
   "codemirror_mode": {
    "name": "ipython",
    "version": 2
   },
   "file_extension": ".py",
   "mimetype": "text/x-python",
   "name": "python",
   "nbconvert_exporter": "python",
   "pygments_lexer": "ipython2",
   "version": "2.7.11"
  }
 },
 "nbformat": 4,
 "nbformat_minor": 0
}
