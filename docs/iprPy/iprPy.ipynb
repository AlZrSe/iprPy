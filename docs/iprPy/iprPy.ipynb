{
 "cells": [
  {
   "cell_type": "markdown",
   "metadata": {},
   "source": [
    "# iprPy Package"
   ]
  },
  {
   "cell_type": "markdown",
   "metadata": {},
   "source": [
    "## Introduction\n",
    "\n",
    "The iprPy package contains the common codebase used to support rapid development of new calculations into the iprPy framework."
   ]
  },
  {
   "cell_type": "markdown",
   "metadata": {},
   "source": [
    "## Classes\n",
    "\n",
    "- [Database](iprPy.Database.ipynb) class providing a common interface to different databases."
   ]
  },
  {
   "cell_type": "markdown",
   "metadata": {},
   "source": [
    "## Functions\n",
    "\n",
    "General functions:\n",
    "\n",
    "- [check_modules()][g1] prints a statement revealing which calculation, database, record modules passed/failed import. \n",
    "\n",
    "[g1]: #iprPy.check_modules()\n",
    "\n",
    "Calculation-based functions:\n",
    "\n",
    "- [calculation_names()][c1] returns a list of the names of the calculations that were successfully imported.\n",
    "\n",
    "- [get_calculation()][c2] returns the specific calculation module matching the given name.\n",
    "\n",
    "- [calculation_data_model()][c3] calls the data_model() function for a named calculation.\n",
    "\n",
    "- [calculation_read_input()][c4] calls the read_input() function for a named calculation.\n",
    "\n",
    "- [calculation_template()][c5] retrieves the template input file for a named calculation.\n",
    "\n",
    "- [calculation_files()][c6] yields a list of files to copy for a named calculation.\n",
    "\n",
    "[c1]: #iprPy.calculation_names()\n",
    "[c2]: #iprPy.get_calculation(name)\n",
    "[c3]: #iprPy.calculation_data_model(name,-input_dict,-results_dict=None)\n",
    "[c4]: #iprPy.calculation_read_input(name,-fp,-*args)\n",
    "[c5]: #iprPy.calculation_template(name)\n",
    "[c6]: #iprPy.calculation_files(name)\n",
    "\n",
    "Database-based functions:\n",
    "\n",
    "- [database_names()][d1] returns a list of the names of the databases that were successfully imported.\n",
    "\n",
    "- [get_database()][d2] returns the specific database module matching the given name.\n",
    "\n",
    "- [database_fromdict()][d3] takes a dictionary of input terms and returns a corresponding iprPy.Database object.\n",
    "\n",
    "[d1]: #iprPy.database_names()\n",
    "[d2]: #iprPy.get_database(name)\n",
    "[d3]: #iprPy.database_fromdict(input_dict)\n",
    "\n",
    "Record-based functions:\n",
    "\n",
    "- [record_names()][r1] returns a list of the names of the records that were successfully imported.\n",
    "\n",
    "- [get_record()][r2] returns the specific record module matching the given name.\n",
    "\n",
    "- [record_todict()][r3] converts an XML record into a flat dictionary.\n",
    "\n",
    "- [record_schema()][r4] returns the path to a record's XSD schema.\n",
    "\n",
    "[r1]: #iprPy.record_names()\n",
    "[r2]: #iprPy.get_record(name)\n",
    "[r3]: #iprPy.record_todict(record_data,-record_type=None,-**kwargs)\n",
    "[r4]: #iprPy.record_schema(name)"
   ]
  },
  {
   "cell_type": "markdown",
   "metadata": {},
   "source": [
    "## Submodules\n",
    "\n",
    "Submodules of common codebase functions:\n",
    "\n",
    "- [input](iprPy.input.ipynb) collects functions associated with common handling of calculation input files.\n",
    "\n",
    "- [prepare](iprPy.prepare.ipynb) collects functions associated with common handling of calculation prepare scripts.\n",
    "\n",
    "- [tools](iprPy.tools.ipynb) collects tools useful in all parts of the framework.\n",
    " \n",
    "\n",
    "Submodules of modular components:\n",
    "\n",
    "- [calculations](iprPy.calculations.ipynb) contains calculation scripts and supporting files.\n",
    "\n",
    "- [databases](iprPy.databases.ipynb) contains code specific to individual database styles.\n",
    "\n",
    "- [records](iprPy.records.ipynb) contains code specific to individual records and the .xsd schemas for the records.\n",
    " "
   ]
  },
  {
   "cell_type": "markdown",
   "metadata": {},
   "source": [
    "## Demonstration"
   ]
  },
  {
   "cell_type": "markdown",
   "metadata": {},
   "source": [
    "Libary imports"
   ]
  },
  {
   "cell_type": "code",
   "execution_count": 1,
   "metadata": {
    "collapsed": false
   },
   "outputs": [],
   "source": [
    "from __future__ import print_function\n",
    "import iprPy"
   ]
  },
  {
   "cell_type": "markdown",
   "metadata": {},
   "source": [
    "### General functions"
   ]
  },
  {
   "cell_type": "markdown",
   "metadata": {},
   "source": [
    "### iprPy.check_modules()\n",
    "\n",
    "Prints a summary of the included calcuations, database types, and record types outlining which were successfully imported and which failed to import. This gives an indication of which components may require additional libraries to be installed if you want to use them."
   ]
  },
  {
   "cell_type": "code",
   "execution_count": 2,
   "metadata": {
    "collapsed": false
   },
   "outputs": [
    {
     "name": "stdout",
     "output_type": "stream",
     "text": [
      "calculations that passed import:\n",
      " grain_boundary\n",
      " E_vs_r_scan\n",
      " dynamic_relax\n",
      " LAMMPS_ELASTIC\n",
      " refine_structure\n",
      "calculations that failed import:\n",
      "\n",
      "records that passed import:\n",
      " crystal-prototype\n",
      " LAMMPS-potential\n",
      " calculation-cohesive-energy-relation\n",
      " calculation-system-relax\n",
      "records that failed import:\n",
      "\n",
      "databases that passed import:\n",
      " local\n",
      " curator\n",
      "databases that failed import:\n",
      "\n"
     ]
    }
   ],
   "source": [
    "iprPy.check_modules()"
   ]
  },
  {
   "cell_type": "markdown",
   "metadata": {},
   "source": [
    "### Calculation-based functions"
   ]
  },
  {
   "cell_type": "markdown",
   "metadata": {},
   "source": [
    "### iprPy.calculation_styles()\n",
    "\n",
    "Returns a list of the calculations that were successfully loaded."
   ]
  },
  {
   "cell_type": "code",
   "execution_count": 4,
   "metadata": {
    "collapsed": false
   },
   "outputs": [
    {
     "data": {
      "text/plain": [
       "['grain_boundary',\n",
       " 'E_vs_r_scan',\n",
       " 'dynamic_relax',\n",
       " 'LAMMPS_ELASTIC',\n",
       " 'refine_structure']"
      ]
     },
     "execution_count": 4,
     "metadata": {},
     "output_type": "execute_result"
    }
   ],
   "source": [
    "iprPy.calculation_styles()"
   ]
  },
  {
   "cell_type": "markdown",
   "metadata": {},
   "source": [
    "### iprPy.get_calculation(name)\n",
    "\n",
    "Returns the calculation module with the matching name. Issues an KeyError if a matching calculation is not imported. This is mostly just a utility function for the other calculation-based functions to return a meaningful error.\n",
    "\n",
    "Argument:\n",
    "\n",
    "- __name__ -- string calculation name."
   ]
  },
  {
   "cell_type": "code",
   "execution_count": null,
   "metadata": {
    "collapsed": false
   },
   "outputs": [],
   "source": [
    "print(iprPy.get_calculation('E_vs_r_scan'))"
   ]
  },
  {
   "cell_type": "code",
   "execution_count": null,
   "metadata": {
    "collapsed": false
   },
   "outputs": [],
   "source": [
    "try:\n",
    "    calc = iprPy.get_calculation('nonexistent')\n",
    "except KeyError as e:\n",
    "    print(e)"
   ]
  },
  {
   "cell_type": "markdown",
   "metadata": {},
   "source": [
    "### iprPy.calculation_data_model(name, input_dict, results_dict=None)\n",
    "\n",
    "Accesses the calculation's data_model function. Each calculation has a data_model function that converts dictionaries of input parameters and result values into a structured JSON/XML data model (i.e. record). \n",
    "\n",
    "Arguments:\n",
    "\n",
    "- __name__ -- string calculation name.\n",
    "\n",
    "- __input_dict__ -- dictionary containing all the input parameters that are to be recorded by the data model.\n",
    "\n",
    "Keyword Argument:\n",
    "\n",
    "- __results_dict__ -- dictionary containing all the resulting values that are to be recorded by the data model. This is optional to allow for data models/records to be constructed for calculations that have not ran.\n",
    "\n",
    "No demonstration is given here as the terms in input_dict and results_dict are highly specific to the particular calculations. More information can be found in the documentation for the individual calculations in the docs/calculations directory."
   ]
  },
  {
   "cell_type": "markdown",
   "metadata": {},
   "source": [
    "### iprPy.calculation_read_input(name, fp, \\*args)\n",
    "\n",
    "Accesses the calculation's read_input function. Each calculation has a read_input function that interprets a calculation's input file and returns a dictionary of input parameters, input_dict. This can be used by prepare scripts to construct the input_dict for generating a new calculation record. \n",
    "\n",
    "Arguments:\n",
    "\n",
    "- __name__ -- string calculation name.\n",
    "\n",
    "- __fp__ -- file-like object of the calculation's input file.\n",
    "\n",
    "- __\\*args__ -- any additional calculation-specific arguments.\n",
    "\n",
    "No demonstration is given here as the input files and parameters are highly specific to the particular calculations. More information can be found in the documentation for the individual calculations in the docs/calculations directory."
   ]
  },
  {
   "cell_type": "markdown",
   "metadata": {},
   "source": [
    "### iprPy.calculation_template(name)\n",
    "\n",
    "Retrieves a calculation's template input file for use by a prepare script in filling in the variable terms.\n",
    "\n",
    "Aruments:\n",
    "\n",
    "- __name__ -- string calculation name."
   ]
  },
  {
   "cell_type": "code",
   "execution_count": null,
   "metadata": {
    "collapsed": false
   },
   "outputs": [],
   "source": [
    "print(iprPy.calculation_template('E_vs_r_scan'))"
   ]
  },
  {
   "cell_type": "markdown",
   "metadata": {},
   "source": [
    "### iprPy.calculation_files(name)\n",
    "\n",
    "Yields the absolute paths to the files associated with a calculation that must be copied when instances of the calculation are prepared.\n",
    "\n",
    "Aruments:\n",
    "\n",
    "- __name__ -- string calculation name."
   ]
  },
  {
   "cell_type": "code",
   "execution_count": null,
   "metadata": {
    "collapsed": false
   },
   "outputs": [],
   "source": [
    "for fname in iprPy.calculation_files('E_vs_r_scan'):\n",
    "    print(fname)"
   ]
  },
  {
   "cell_type": "markdown",
   "metadata": {},
   "source": [
    "### Database-based functions"
   ]
  },
  {
   "cell_type": "markdown",
   "metadata": {},
   "source": [
    "### iprPy.database_names()\n",
    "\n",
    "Returns a list of the database styles that were successfully loaded."
   ]
  },
  {
   "cell_type": "code",
   "execution_count": null,
   "metadata": {
    "collapsed": false
   },
   "outputs": [],
   "source": [
    "iprPy.database_names()"
   ]
  },
  {
   "cell_type": "markdown",
   "metadata": {},
   "source": [
    "### iprPy.get_database(name)\n",
    "\n",
    "Returns the database module with the matching name (i.e. style). Issues an KeyError if a matching database is not imported. This is mostly just a utility function for the other database-based functions to return a meaningful error.\n",
    "\n",
    "Argument:\n",
    "\n",
    "- __name__ -- string database name."
   ]
  },
  {
   "cell_type": "code",
   "execution_count": null,
   "metadata": {
    "collapsed": false
   },
   "outputs": [],
   "source": [
    "iprPy.get_database('local')"
   ]
  },
  {
   "cell_type": "code",
   "execution_count": null,
   "metadata": {
    "collapsed": false
   },
   "outputs": [],
   "source": [
    "try:\n",
    "    calc = iprPy.get_database('nonexistent')\n",
    "except KeyError as e:\n",
    "    print(e)"
   ]
  },
  {
   "cell_type": "markdown",
   "metadata": {},
   "source": [
    "### iprPy.database_fromdict(input_dict)\n",
    "\n",
    "Returns an iprPy.Database object based on key-value parameter terms within a dictionary.\n",
    "\n",
    "Argument:\n",
    "\n",
    "- __input_dict__ -- dictionary containing database initialization terms.\n",
    "\n",
    "The recognized dictionary terms are:\n",
    "\n",
    "- __'database'__ -- string indicating the database style and the database name/location. The style and name are space delimited. \n",
    "\n",
    "- __'database_something'__ where _something_ matches a particular keyword argument of the database style's initializer.\n",
    "\n",
    "Demonstrations can be found for the different database styles in the docs/databases directory."
   ]
  },
  {
   "cell_type": "markdown",
   "metadata": {},
   "source": [
    "### Record-based functions"
   ]
  },
  {
   "cell_type": "markdown",
   "metadata": {},
   "source": [
    "### iprPy.record_names()\n",
    "\n",
    "Returns a list of the record types that were successfully loaded."
   ]
  },
  {
   "cell_type": "code",
   "execution_count": null,
   "metadata": {
    "collapsed": false
   },
   "outputs": [],
   "source": [
    "iprPy.record_names()"
   ]
  },
  {
   "cell_type": "markdown",
   "metadata": {},
   "source": [
    "### iprPy.get_record(name)\n",
    "\n",
    "Returns the record module with the matching name. Issues an KeyError if a matching record is not imported. This is mostly just a utility function for the other record-based functions to return a meaningful error.\n",
    "\n",
    "Argument:\n",
    "\n",
    "- __record_type__ -- string record type."
   ]
  },
  {
   "cell_type": "code",
   "execution_count": null,
   "metadata": {
    "collapsed": false
   },
   "outputs": [],
   "source": [
    "iprPy.get_record('crystal-prototype')"
   ]
  },
  {
   "cell_type": "code",
   "execution_count": null,
   "metadata": {
    "collapsed": false
   },
   "outputs": [],
   "source": [
    "try:\n",
    "    calc = iprPy.get_record('nonexistent')\n",
    "except KeyError as e:\n",
    "    print(e) "
   ]
  },
  {
   "cell_type": "markdown",
   "metadata": {},
   "source": [
    "### iprPy.record_todict(record_data, record_type=None, **kwargs)\n",
    "\n",
    "Converts an XML record to a flat dictionary representation. This is particularly useful for collecting data across multiple records into a table using pandas. This feature is used in prepare scripts for helping identify duplicate records, and in post-analysis of calculation results.\n",
    "\n",
    "Arguments:\n",
    "\n",
    "- __record_data__ -- string representation of an XML record. \n",
    "\n",
    "Keyword arguments:\n",
    "\n",
    "- __record_type__ -- string record type. If not given, it is taken from the record_data.\n",
    "\n",
    "- __**kwargs__ -- any other keyword arguments specific to a record type. \n",
    "    - __full__ -- boolean indicating if input and results terms should be included, or only input terms. The default value is True (input and results included).\n",
    "\n",
    "Demonstrations can be found elsewhere as this is specific to the record types."
   ]
  },
  {
   "cell_type": "markdown",
   "metadata": {},
   "source": [
    "### iprPy.record_schema(name)\n",
    "\n",
    "Returns the path to a record's .xsd schema file.\n",
    "\n",
    "Argument:\n",
    "\n",
    "- __record_data__ -- string representation of an XML record. "
   ]
  },
  {
   "cell_type": "code",
   "execution_count": null,
   "metadata": {
    "collapsed": false
   },
   "outputs": [],
   "source": [
    "iprPy.record_schema('crystal-prototype')"
   ]
  }
 ],
 "metadata": {
  "anaconda-cloud": {},
  "kernelspec": {
   "display_name": "Python 2",
   "language": "python",
   "name": "python2"
  },
  "language_info": {
   "codemirror_mode": {
    "name": "ipython",
    "version": 2
   },
   "file_extension": ".py",
   "mimetype": "text/x-python",
   "name": "python",
   "nbconvert_exporter": "python",
   "pygments_lexer": "ipython2",
   "version": "2.7.11"
  }
 },
 "nbformat": 4,
 "nbformat_minor": 0
}
