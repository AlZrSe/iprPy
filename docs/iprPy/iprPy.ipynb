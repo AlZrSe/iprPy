{
 "cells": [
  {
   "cell_type": "markdown",
   "metadata": {},
   "source": [
    "# iprPy Package"
   ]
  },
  {
   "cell_type": "markdown",
   "metadata": {},
   "source": [
    "## Introduction\n",
    "\n",
    "The iprPy package contains the common codebase used to support rapid development of new calculations into the iprPy framework."
   ]
  },
  {
   "cell_type": "markdown",
   "metadata": {},
   "source": [
    "## Classes\n",
    "\n",
    "- [Calculations](iprPy.Calculations.ipynb) class providing a common interface to different calculations.\n",
    "\n",
    "- [Database](iprPy.Database.ipynb) class providing a common interface to different databases.\n",
    "\n",
    "- [Records](iprPy.Records.ipynb) class providing a common interface to different records."
   ]
  },
  {
   "cell_type": "markdown",
   "metadata": {},
   "source": [
    "## Functions\n",
    "\n",
    "\n",
    "- [check_modules()][1] prints a statement revealing which calculation, database, record modules passed/failed import. \n",
    "\n",
    "- [calculation_styles()][2] returns a list of the names of the calculations that were successfully imported.\n",
    "\n",
    "- [database_styles()][3] returns a list of the names of the databases that were successfully imported.\n",
    "\n",
    "- [database_fromdict()][4] takes a dictionary of input terms and returns a corresponding iprPy.Database object.\n",
    "\n",
    "- [record_styles()][5] returns a list of the names of the records that were successfully imported.\n",
    "\n",
    "\n",
    "[1]: #iprPy.check_modules()\n",
    "[2]: #iprPy.calculation_styles()\n",
    "[3]: #iprPy.database_styles()\n",
    "[4]: #iprPy.database_fromdict(input_dict)\n",
    "[5]: #iprPy.record_styles()"
   ]
  },
  {
   "cell_type": "markdown",
   "metadata": {},
   "source": [
    "## Submodules\n",
    "\n",
    "Submodules of common codebase functions:\n",
    "\n",
    "- [input](iprPy.input.ipynb) collects functions associated with common handling of calculation input files.\n",
    "\n",
    "- [prepare](iprPy.prepare.ipynb) collects functions associated with common handling of calculation prepare scripts.\n",
    "\n",
    "- [tools](iprPy.tools.ipynb) collects tools useful in all parts of the framework.\n",
    " \n",
    "\n",
    "Submodules of modular components:\n",
    "\n",
    "- [calculations](iprPy.calculations.ipynb) contains calculation scripts and supporting files.\n",
    "\n",
    "- [databases](iprPy.databases.ipynb) contains code specific to individual database styles.\n",
    "\n",
    "- [records](iprPy.records.ipynb) contains code specific to individual records and the .xsd schemas for the records.\n",
    " "
   ]
  },
  {
   "cell_type": "markdown",
   "metadata": {},
   "source": [
    "## Demonstration"
   ]
  },
  {
   "cell_type": "markdown",
   "metadata": {},
   "source": [
    "Libary imports"
   ]
  },
  {
   "cell_type": "code",
   "execution_count": 1,
   "metadata": {
    "collapsed": false
   },
   "outputs": [],
   "source": [
    "from __future__ import print_function\n",
    "import iprPy"
   ]
  },
  {
   "cell_type": "markdown",
   "metadata": {},
   "source": [
    "### iprPy.check_modules()\n",
    "\n",
    "Prints a summary of the included calcuations, database types, and record types outlining which were successfully imported and which failed to import. This gives an indication of which components may require additional libraries to be installed if you want to use them."
   ]
  },
  {
   "cell_type": "code",
   "execution_count": 2,
   "metadata": {
    "collapsed": false
   },
   "outputs": [
    {
     "name": "stdout",
     "output_type": "stream",
     "text": [
      "calculations that passed import:\n",
      " grain_boundary\n",
      " E_vs_r_scan\n",
      " LAMMPS_ELASTIC\n",
      " refine_structure\n",
      "calculations that failed import:\n",
      " dynamic_relax\n",
      "\n",
      "records that passed import:\n",
      " crystal-prototype\n",
      " LAMMPS-potential\n",
      " calculation-cohesive-energy-relation\n",
      " calculation-system-relax\n",
      "records that failed import:\n",
      "\n",
      "databases that passed import:\n",
      " local\n",
      " curator\n",
      "databases that failed import:\n",
      "\n"
     ]
    }
   ],
   "source": [
    "iprPy.check_modules()"
   ]
  },
  {
   "cell_type": "markdown",
   "metadata": {},
   "source": [
    "### iprPy.calculation_styles()\n",
    "\n",
    "Returns a list of the calculation styles that were successfully loaded."
   ]
  },
  {
   "cell_type": "code",
   "execution_count": 3,
   "metadata": {
    "collapsed": false
   },
   "outputs": [
    {
     "data": {
      "text/plain": [
       "['grain_boundary', 'E_vs_r_scan', 'LAMMPS_ELASTIC', 'refine_structure']"
      ]
     },
     "execution_count": 3,
     "metadata": {},
     "output_type": "execute_result"
    }
   ],
   "source": [
    "iprPy.calculation_styles()"
   ]
  },
  {
   "cell_type": "markdown",
   "metadata": {},
   "source": [
    "### iprPy.database_styles()\n",
    "\n",
    "Returns a list of the database styles that were successfully loaded."
   ]
  },
  {
   "cell_type": "code",
   "execution_count": 4,
   "metadata": {
    "collapsed": false
   },
   "outputs": [
    {
     "data": {
      "text/plain": [
       "['local', 'curator']"
      ]
     },
     "execution_count": 4,
     "metadata": {},
     "output_type": "execute_result"
    }
   ],
   "source": [
    "iprPy.database_styles()"
   ]
  },
  {
   "cell_type": "markdown",
   "metadata": {},
   "source": [
    "### iprPy.database_fromdict(input_dict)\n",
    "\n",
    "Returns an iprPy.Database object based on key-value parameter terms within a dictionary. This makes it possible to initialize any database style from lines in an input file.\n",
    "\n",
    "Argument:\n",
    "\n",
    "- __input_dict__ -- dictionary containing database initialization terms.\n",
    "\n",
    "The recognized dictionary terms are:\n",
    "\n",
    "- __'database'__ -- string indicating the database style and host. The style and host are separated by the first space. \n",
    "\n",
    "- __'database_something'__ where _something_ matches a particular keyword argument of the database style's initializer.\n",
    "\n",
    "In-depth demonstrations can be found for each style in the docs/databases folder."
   ]
  },
  {
   "cell_type": "code",
   "execution_count": 5,
   "metadata": {
    "collapsed": false
   },
   "outputs": [
    {
     "name": "stdout",
     "output_type": "stream",
     "text": [
      "iprPy.Database (local) at C:/Users/lmh1/Documents/calculations/ipr/library_test\n"
     ]
    }
   ],
   "source": [
    "#Example for local style\n",
    "ddict = {'database': 'local C:/Users/lmh1/Documents/calculations/ipr/library_test'}\n",
    "\n",
    "dbase = iprPy.database_fromdict(ddict)\n",
    "print(dbase)"
   ]
  },
  {
   "cell_type": "code",
   "execution_count": 6,
   "metadata": {
    "collapsed": false
   },
   "outputs": [
    {
     "name": "stdout",
     "output_type": "stream",
     "text": [
      "iprPy.Database (curator) at http://127.0.0.1:8000/\n"
     ]
    }
   ],
   "source": [
    "#Example for curator style\n",
    "ddict = {'database':      'curator http://127.0.0.1:8000/',\n",
    "         'database_user': 'admin',\n",
    "         'database_pswd': 'admin'}\n",
    "\n",
    "dbase = iprPy.database_fromdict(ddict)\n",
    "print(dbase)"
   ]
  },
  {
   "cell_type": "markdown",
   "metadata": {},
   "source": [
    "### iprPy.record_styles()\n",
    "\n",
    "Returns a list of the record styles that were successfully loaded."
   ]
  },
  {
   "cell_type": "code",
   "execution_count": 7,
   "metadata": {
    "collapsed": false
   },
   "outputs": [
    {
     "data": {
      "text/plain": [
       "['crystal-prototype',\n",
       " 'LAMMPS-potential',\n",
       " 'calculation-cohesive-energy-relation',\n",
       " 'calculation-system-relax']"
      ]
     },
     "execution_count": 7,
     "metadata": {},
     "output_type": "execute_result"
    }
   ],
   "source": [
    "iprPy.record_styles()"
   ]
  }
 ],
 "metadata": {
  "anaconda-cloud": {},
  "kernelspec": {
   "display_name": "Python [Root]",
   "language": "python",
   "name": "Python [Root]"
  },
  "language_info": {
   "codemirror_mode": {
    "name": "ipython",
    "version": 2
   },
   "file_extension": ".py",
   "mimetype": "text/x-python",
   "name": "python",
   "nbconvert_exporter": "python",
   "pygments_lexer": "ipython2",
   "version": "2.7.12"
  }
 },
 "nbformat": 4,
 "nbformat_minor": 0
}
