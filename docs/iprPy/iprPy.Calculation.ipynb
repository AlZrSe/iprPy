{
 "cells": [
  {
   "cell_type": "markdown",
   "metadata": {},
   "source": [
    "# iprPy.Calculation Class"
   ]
  },
  {
   "cell_type": "markdown",
   "metadata": {},
   "source": [
    "## Introduction\n",
    "\n",
    "The iprPy.Calculation class provides a common interface for interacting with the different calculation styles that have been implemented. This class is primarily of use for the prepare scripts by allowing for different prepare scripts to use the same code and structure when working with different calculations, and to access underlying code contained within the calculation scripts themselves. "
   ]
  },
  {
   "cell_type": "markdown",
   "metadata": {},
   "source": [
    "## Class properties\n",
    "\n",
    "- [style][a] is the string calculation style.\n",
    "\n",
    "- [template][b] is the template version of a calculation's input file as a string.\n",
    "\n",
    "- [files][c] yields the absolute paths to files necessary for the calculation to run.\n",
    "\n",
    "\n",
    "## Class methods\n",
    "\n",
    "- [\\_\\_init\\_\\_()][1] class initializer.\n",
    "\n",
    "- [\\_\\_str\\_\\_()][2] string representation.\n",
    "\n",
    "- [data_model()][3] iterates through records matching given conditions.\n",
    "\n",
    "- [read_input()][4] returns a list of records matching given conditions.\n",
    "\n",
    "[a]: #iprPy.Calculation.style\n",
    "[b]: #iprPy.Calculation.template\n",
    "[c]: #iprPy.Calculation.files\n",
    "\n",
    "[1]: #iprPy.Calculation.__init__(self,-style)\n",
    "[2]: #iprPy.Calculation.__str__(self)\n",
    "[3]: #iprPy.Calculation.data_model(self,-input_dict,-results_dict=None)\n",
    "[4]: #iprPy.Calculation.read_input(self,-fp,-*args)\n"
   ]
  },
  {
   "cell_type": "markdown",
   "metadata": {},
   "source": [
    "## Demonstration"
   ]
  },
  {
   "cell_type": "markdown",
   "metadata": {},
   "source": [
    "Library imports"
   ]
  },
  {
   "cell_type": "code",
   "execution_count": 1,
   "metadata": {
    "collapsed": false
   },
   "outputs": [],
   "source": [
    "from __future__ import print_function\n",
    "import iprPy"
   ]
  },
  {
   "cell_type": "markdown",
   "metadata": {},
   "source": [
    "### iprPy.Calculation.__init__(self, style)\n",
    "\n",
    "The initialization method for an iprPy.Calculation object.\n",
    "\n",
    "Arguments:\n",
    "\n",
    "- __style__ -- the string name that corresponds to one of the successfully imported calculation styles contained in the iprPy.calculations folder."
   ]
  },
  {
   "cell_type": "code",
   "execution_count": 2,
   "metadata": {
    "collapsed": true
   },
   "outputs": [],
   "source": [
    "calc = iprPy.Calculation('E_vs_r_scan')"
   ]
  },
  {
   "cell_type": "markdown",
   "metadata": {},
   "source": [
    "### iprPy.Calculation.style\n",
    "\n",
    "Returns the calculation's style name as a string."
   ]
  },
  {
   "cell_type": "code",
   "execution_count": 3,
   "metadata": {
    "collapsed": false
   },
   "outputs": [
    {
     "name": "stdout",
     "output_type": "stream",
     "text": [
      "E_vs_r_scan\n"
     ]
    }
   ],
   "source": [
    "print(calc.style)"
   ]
  },
  {
   "cell_type": "markdown",
   "metadata": {},
   "source": [
    "### iprPy.Calculation.\\_\\_str\\_\\_(self)\n",
    "\n",
    "The string representation states that it is a Calculation, and lists the style."
   ]
  },
  {
   "cell_type": "code",
   "execution_count": 4,
   "metadata": {
    "collapsed": false
   },
   "outputs": [
    {
     "name": "stdout",
     "output_type": "stream",
     "text": [
      "iprPy.Calculation (E_vs_r_scan)\n"
     ]
    }
   ],
   "source": [
    "print(calc)"
   ]
  },
  {
   "cell_type": "markdown",
   "metadata": {},
   "source": [
    "### iprPy.Calculation.template\n",
    "\n",
    "Returns the calculation's input file template as a string."
   ]
  },
  {
   "cell_type": "code",
   "execution_count": 5,
   "metadata": {
    "collapsed": false
   },
   "outputs": [
    {
     "name": "stdout",
     "output_type": "stream",
     "text": [
      "#Run script for calc_refine_structure_static.py\n",
      "\n",
      "#Command lines for LAMMPS (and MPI).\n",
      "#For lammps_command, exclude passing in a script, i.e. no \"-in term\"\n",
      "lammps_command              <lammps_command>\n",
      "mpi_command                 <mpi_command>\n",
      "\n",
      "#Paths to the potential data model file, and directory containing potential parameters\n",
      "potential_file              <potential_file>\n",
      "potential_dir               <potential_dir>\n",
      "\n",
      "#Initial system configuration to load\n",
      "load                        <load>\n",
      "load_options                <load_options>\n",
      "symbols                     <symbols>\n",
      "box_parameters              <box_parameters>\n",
      "\n",
      "#System manipulations\n",
      "x_axis                      <x_axis>\n",
      "y_axis                      <y_axis>\n",
      "z_axis                      <z_axis>\n",
      "shift                       <shift>\n",
      "sizemults                   <sizemults>\n",
      "\n",
      "#Units that input/output values are in\n",
      "length_unit                 <length_unit>\n",
      "pressure_unit               <pressure_unit>\n",
      "energy_unit                 <energy_unit>\n",
      "force_unit                  <force_unit>\n",
      "\n",
      "#Run parameters\n",
      "minimum_r                   <minimum_r>\n",
      "maximum_r                   <maximum_r>\n",
      "number_of_steps_r           <number_of_steps_r>\n",
      "\n"
     ]
    }
   ],
   "source": [
    "print(calc.template)"
   ]
  },
  {
   "cell_type": "markdown",
   "metadata": {},
   "source": [
    "### iprPy.Calculation.files\n",
    "\n",
    "Yields the absolute paths to a list of files that a calculation needs in order to properly run."
   ]
  },
  {
   "cell_type": "code",
   "execution_count": 6,
   "metadata": {
    "collapsed": false
   },
   "outputs": [
    {
     "name": "stdout",
     "output_type": "stream",
     "text": [
      "c:\\users\\lmh1\\documents\\python-packages\\iprpy\\iprPy\\calculations\\E_vs_r_scan\\calc_E_vs_r_scan.py\n",
      "c:\\users\\lmh1\\documents\\python-packages\\iprpy\\iprPy\\calculations\\E_vs_r_scan\\run0.template\n"
     ]
    }
   ],
   "source": [
    "for fname in calc.files:\n",
    "    print(fname)"
   ]
  },
  {
   "cell_type": "markdown",
   "metadata": {},
   "source": [
    "### iprPy.Calculation.read_input(self, fp, \\*args)\n",
    "\n",
    "Reads in an input file associated with the calculation and returns a dictionary of terms. This works by accessing the read_input function contained within the calculation script to provide the same processing logic both inside and outside the calculation.\n",
    "\n",
    "Arguments:\n",
    "\n",
    "- __fp__ -- file-like object of the input file to be read.\n",
    "\n",
    "- __\\*args__ -- any other arguments specific to a given calculation (still necessary?)\n",
    "\n",
    "Demonstrations are left to the individual calculation descriptions in docs/calculations as the terms in an input file and how they are loaded is specific to a given calculation."
   ]
  },
  {
   "cell_type": "markdown",
   "metadata": {},
   "source": [
    "### iprPy.Calculation.data_model(self, input_dict, results_dict=None)\n",
    "\n",
    "Generates a [DataModelDict](https://github.com/usnistgov/DataModelDict) for the calculation's record content based on dictionaries of input and results terms.  \n",
    "\n",
    "Arguments:\n",
    "\n",
    "- __input_dict__ -- dictionary containing input parameters and their values.\n",
    "\n",
    "- __results_dict__ -- dictionary containing resulting values obtained by the calculation. If not given, then an incomplete data model record with status='not calculated' is constructed. \n",
    "\n",
    "Demonstrations are left to the individual calculation descriptions in docs/calculations as the required terms in input_dict and results_dict are specific to a given calculation."
   ]
  }
 ],
 "metadata": {
  "kernelspec": {
   "display_name": "Python [Root]",
   "language": "python",
   "name": "Python [Root]"
  },
  "language_info": {
   "codemirror_mode": {
    "name": "ipython",
    "version": 2
   },
   "file_extension": ".py",
   "mimetype": "text/x-python",
   "name": "python",
   "nbconvert_exporter": "python",
   "pygments_lexer": "ipython2",
   "version": "2.7.12"
  }
 },
 "nbformat": 4,
 "nbformat_minor": 0
}
