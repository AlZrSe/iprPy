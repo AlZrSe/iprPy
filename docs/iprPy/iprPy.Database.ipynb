{
 "cells": [
  {
   "cell_type": "markdown",
   "metadata": {},
   "source": [
    "# iprPy.Database Class"
   ]
  },
  {
   "cell_type": "markdown",
   "metadata": {},
   "source": [
    "## Introduction\n",
    "\n",
    "The iprPy.Database class provides a common interface for interacting with different styles of databases. More information on the different styles can be found in the docs/databases directory."
   ]
  },
  {
   "cell_type": "markdown",
   "metadata": {},
   "source": [
    "## Class methods\n",
    "\n",
    "- [\\_\\_init\\_\\_()][1] class initializer.\n",
    "\n",
    "- [iget_records()][2] iterates through records matching given conditions.\n",
    "\n",
    "- [get_records()][3] returns a list of records matching given conditions.\n",
    "\n",
    "- [get_record()][4] returns a single record matching given conditions.\n",
    "\n",
    "- [add_record()][5] adds a new record to the database.\n",
    "\n",
    "- [update_record()][6] updates an existing record in the database.\n",
    "\n",
    "- [delete_record()][7] deletes a record from the database.\n",
    "\n",
    "- [add_archive()][8] archives a folder and saves it to the database.\n",
    "\n",
    "- [get_archive()][9] retrives an archived folder as a tarfile.\n",
    "\n",
    "[1]: #iprPy.Database.__init__(self,-style,-*args,-**kwargs)\n",
    "[2]: #iprPy.Database.iget_records(self,-record_type=None,-key=None)\n",
    "[3]: #iprPy.Database.get_records(self,-record_type=None,-key=None)\n",
    "[4]: #iprPy.Database.get_record(self,-record_type=None,-key=None)\n",
    "[5]: #iprPy.Database.add_record(self,-record_data,-record_type,-key)\n",
    "[6]: #iprPy.Database.update_record(self,-record_data,-key)\n",
    "[7]: #iprPy.Database.delete_record(self,-key)\n",
    "[8]: #iprPy.Database.add_archive(self,-root_directory,-key)\n",
    "[9]: #iprPy.Database.get_archive(self,-key)"
   ]
  },
  {
   "cell_type": "markdown",
   "metadata": {},
   "source": [
    "## Demonstration"
   ]
  },
  {
   "cell_type": "markdown",
   "metadata": {},
   "source": [
    "Library imports"
   ]
  },
  {
   "cell_type": "code",
   "execution_count": 1,
   "metadata": {
    "collapsed": true
   },
   "outputs": [],
   "source": [
    "from __future__ import print_function\n",
    "import os\n",
    "\n",
    "import iprPy"
   ]
  },
  {
   "cell_type": "markdown",
   "metadata": {},
   "source": [
    "### iprPy.Database.\\_\\_init\\_\\_(self, style, \\*args, \\*\\*kwargs)\n",
    "\n",
    "The initialization method for an iprPy.Database object.\n",
    "\n",
    "Arguments: \n",
    "\n",
    "- __style__ -- the string name that corresponds to one of the successfully imported database types contained in the iprPy.databases folder. \n",
    "\n",
    "- __\\*args__ -- any additional arguments that are specific to a database style.\n",
    "\n",
    "Keyword Arguments:\n",
    "\n",
    "- __\\*\\*kwargs__ -- any keyword arguments that are specific to a database style."
   ]
  },
  {
   "cell_type": "code",
   "execution_count": 2,
   "metadata": {
    "collapsed": true
   },
   "outputs": [],
   "source": [
    "#Open my local database\n",
    "dbase = iprPy.Database('local', 'C:/Users/lmh1/Documents/calculations/ipr/library_test')"
   ]
  },
  {
   "cell_type": "markdown",
   "metadata": {},
   "source": [
    "### iprPy.Database.iget_records(self, record_type=None, key=None)\n",
    "\n",
    "Iterates through records matching given conditions. Records returned as strings.\n",
    "\n",
    "Keyword Arguments: \n",
    "\n",
    "- __record_type__ -- single string or list of strings of record_types (i.e. templates) to limit by.\n",
    "\n",
    "- __key__ -- single string or list of strings of record keys (i.e. titles) to limit by."
   ]
  },
  {
   "cell_type": "code",
   "execution_count": 3,
   "metadata": {
    "collapsed": false
   },
   "outputs": [
    {
     "name": "stdout",
     "output_type": "stream",
     "text": [
      "A1--Cu--fcc\n",
      "A15--beta-W\n",
      "A15--Cr3Si\n",
      "A2--W--bcc\n",
      "A3'--alpha-La--double-hcp\n",
      "A3--Mg--hcp\n",
      "A4--C--dc\n",
      "A5--beta-Sn\n",
      "A6--In--bct\n",
      "A7--alpha-As\n",
      "Ah--alpha-Po--sc\n",
      "B1--NaCl--rock-salt\n",
      "B2--CsCl\n",
      "B3--ZnS--cubic-zinc-blende\n",
      "C1--CaF2--fluorite\n",
      "D0_3--BiF3\n",
      "L1_0--AuCu\n",
      "L1_2--AuCu3\n",
      "L2_1--AlCu2Mn--heusler\n"
     ]
    }
   ],
   "source": [
    "for record in dbase.iget_records(record_type='crystal-prototype'):\n",
    "    s = record.find('<id>') + 4\n",
    "    e = record.find('</id>')\n",
    "    print(record[s:e])"
   ]
  },
  {
   "cell_type": "markdown",
   "metadata": {},
   "source": [
    "### iprPy.Database.get_records(self, record_type=None, key=None)\n",
    "\n",
    "Returns a list of records matching given conditions. Records returned as strings.\n",
    "\n",
    "Keyword Arguments: \n",
    "\n",
    "- __record_type__ -- single string or list of strings of record_types (i.e. templates) to limit by.\n",
    "\n",
    "- __key__ -- single string or list of strings of record keys (i.e. titles) to limit by."
   ]
  },
  {
   "cell_type": "code",
   "execution_count": 4,
   "metadata": {
    "collapsed": false
   },
   "outputs": [
    {
     "name": "stdout",
     "output_type": "stream",
     "text": [
      "121\n"
     ]
    }
   ],
   "source": [
    "records = dbase.get_records(record_type='LAMMPS-potential')\n",
    "print(len(records))"
   ]
  },
  {
   "cell_type": "code",
   "execution_count": 5,
   "metadata": {
    "collapsed": false
   },
   "outputs": [
    {
     "name": "stdout",
     "output_type": "stream",
     "text": [
      "[]\n"
     ]
    }
   ],
   "source": [
    "records = dbase.get_records(record_type='no-such-record')\n",
    "print(records)"
   ]
  },
  {
   "cell_type": "markdown",
   "metadata": {},
   "source": [
    "### iprPy.Database.get_record(self, record_type=None, key=None)\n",
    "\n",
    "Returns a single record as a string matching given conditions. Issues an error if either no matching records or multiple matching records are found.\n",
    "\n",
    "Keyword Arguments: \n",
    "\n",
    "- __record_type__ -- single string or list of strings of record_types (i.e. templates) to limit by.\n",
    "\n",
    "- __key__ -- single string or list of strings of record keys (i.e. titles) to limit by."
   ]
  },
  {
   "cell_type": "code",
   "execution_count": 6,
   "metadata": {
    "collapsed": false
   },
   "outputs": [
    {
     "name": "stdout",
     "output_type": "stream",
     "text": [
      "<?xml version=\"1.0\" encoding=\"utf-8\"?>\n",
      "<crystal-prototype><key>bc13827d-e1e6-4d70-8c3a-59399ad78b0f</key><id>A2--W--bcc</id><name>body-centered cubic</name><prototype>W</prototype><Pearson-symbol>cI2</Pearson-symbol><Strukturbericht>A2</Strukturbericht><space-group><number>229</number><Hermann-Maguin>I m -3 m</Hermann-Maguin><Schoenflies>O^9_h</Schoenflies><Wykoff><letter>a</letter><multiplicity>2</multiplicity></Wykoff></space-group><atomic-system><cell><cubic><a><value>1</value><unit>scaled</unit></a></cubic></cell><atom><component>1</component><position><value>0.0</value><value>0.0</value><value>0.0</value><unit>scaled</unit></position></atom><atom><component>1</component><position><value>0.5</value><value>0.5</value><value>0.5</value><unit>scaled</unit></position></atom></atomic-system></crystal-prototype>\n"
     ]
    }
   ],
   "source": [
    "bcc_record = dbase.get_record(record_type='crystal-prototype', key='A2--W--bcc')\n",
    "print(bcc_record)"
   ]
  },
  {
   "cell_type": "markdown",
   "metadata": {},
   "source": [
    "### iprPy.Database.add_record(self, record_data, record_type, key)\n",
    "\n",
    "Adds a new record to the database. Issues an error if an existing record with the matching key name is found.\n",
    "\n",
    "Arguments: \n",
    "\n",
    "- __record_data__ -- string content of the xml record.\n",
    "\n",
    "- __record_type__ -- string record_type (i.e. template) assoicated with the record.\n",
    "\n",
    "- __key__ -- string unique record key (i.e. title) to name the record."
   ]
  },
  {
   "cell_type": "code",
   "execution_count": 7,
   "metadata": {
    "collapsed": false
   },
   "outputs": [
    {
     "name": "stdout",
     "output_type": "stream",
     "text": [
      "A1--Cu--fcc\n",
      "A15--beta-W\n",
      "A15--Cr3Si\n",
      "A2--W--bcc\n",
      "A3'--alpha-La--double-hcp\n",
      "A3--Mg--hcp\n",
      "A4--C--dc\n",
      "A5--beta-Sn\n",
      "A6--In--bct\n",
      "A7--alpha-As\n",
      "Ah--alpha-Po--sc\n",
      "B1--NaCl--rock-salt\n",
      "B2--CsCl\n",
      "B3--ZnS--cubic-zinc-blende\n",
      "C1--CaF2--fluorite\n",
      "D0_3--BiF3\n",
      "DUPLICATE\n",
      "L1_0--AuCu\n",
      "L1_2--AuCu3\n",
      "L2_1--AlCu2Mn--heusler\n"
     ]
    }
   ],
   "source": [
    "#Modify existing content (simple demo purpose here)\n",
    "duplicate = bcc_record.replace('<id>A2--W--bcc</id>', '<id>DUPLICATE</id>')\n",
    "\n",
    "#Add record to database\n",
    "dbase.add_record(duplicate, 'crystal-prototype', 'DUPLICATE')\n",
    "\n",
    "#Print to show that new record is added\n",
    "for record in dbase.iget_records(record_type='crystal-prototype'):\n",
    "    s = record.find('<id>') + 4\n",
    "    e = record.find('</id>')\n",
    "    print(record[s:e])"
   ]
  },
  {
   "cell_type": "markdown",
   "metadata": {},
   "source": [
    "### iprPy.Database.update_record(self, record_data, key)\n",
    "\n",
    "Updates the content of an existing record.\n",
    "\n",
    "Arguments: \n",
    "\n",
    "- __record_data__ -- new string content of the xml record.\n",
    "\n",
    "- __key__ -- string unique record key (i.e. title) of the record to overwrite."
   ]
  },
  {
   "cell_type": "code",
   "execution_count": 8,
   "metadata": {
    "collapsed": false
   },
   "outputs": [
    {
     "name": "stdout",
     "output_type": "stream",
     "text": [
      "A1--Cu--fcc\n",
      "A15--beta-W\n",
      "A15--Cr3Si\n",
      "A2--W--bcc\n",
      "A3'--alpha-La--double-hcp\n",
      "A3--Mg--hcp\n",
      "A4--C--dc\n",
      "A5--beta-Sn\n",
      "A6--In--bct\n",
      "A7--alpha-As\n",
      "Ah--alpha-Po--sc\n",
      "B1--NaCl--rock-salt\n",
      "B2--CsCl\n",
      "B3--ZnS--cubic-zinc-blende\n",
      "C1--CaF2--fluorite\n",
      "D0_3--BiF3\n",
      "GROOVY!\n",
      "L1_0--AuCu\n",
      "L1_2--AuCu3\n",
      "L2_1--AlCu2Mn--heusler\n"
     ]
    }
   ],
   "source": [
    "#Modify existing content (simple demo purpose here)\n",
    "duplicate = duplicate.replace('<id>DUPLICATE</id>', '<id>GROOVY!</id>')\n",
    "\n",
    "#update record to database\n",
    "dbase.update_record(duplicate, 'DUPLICATE')\n",
    "\n",
    "#Print to show that the record content is changed\n",
    "for record in dbase.iget_records(record_type='crystal-prototype'):\n",
    "    s = record.find('<id>') + 4\n",
    "    e = record.find('</id>')\n",
    "    print(record[s:e])"
   ]
  },
  {
   "cell_type": "markdown",
   "metadata": {},
   "source": [
    "### iprPy.Database.delete_record(self, key)\n",
    "\n",
    "Deletes an existing record from the database.\n",
    "\n",
    "Arguments: \n",
    "\n",
    "- __key__ -- string unique record key (i.e. title) of the record to delete."
   ]
  },
  {
   "cell_type": "code",
   "execution_count": 9,
   "metadata": {
    "collapsed": false
   },
   "outputs": [
    {
     "name": "stdout",
     "output_type": "stream",
     "text": [
      "A1--Cu--fcc\n",
      "A15--beta-W\n",
      "A15--Cr3Si\n",
      "A2--W--bcc\n",
      "A3'--alpha-La--double-hcp\n",
      "A3--Mg--hcp\n",
      "A4--C--dc\n",
      "A5--beta-Sn\n",
      "A6--In--bct\n",
      "A7--alpha-As\n",
      "Ah--alpha-Po--sc\n",
      "B1--NaCl--rock-salt\n",
      "B2--CsCl\n",
      "B3--ZnS--cubic-zinc-blende\n",
      "C1--CaF2--fluorite\n",
      "D0_3--BiF3\n",
      "L1_0--AuCu\n",
      "L1_2--AuCu3\n",
      "L2_1--AlCu2Mn--heusler\n"
     ]
    }
   ],
   "source": [
    "#Delete record from database\n",
    "dbase.delete_record('DUPLICATE')\n",
    "\n",
    "#Print to show that the record content is gone\n",
    "for record in dbase.iget_records(record_type='crystal-prototype'):\n",
    "    s = record.find('<id>') + 4\n",
    "    e = record.find('</id>')\n",
    "    print(record[s:e])"
   ]
  },
  {
   "cell_type": "markdown",
   "metadata": {},
   "source": [
    "### iprPy.Database.add_archive(self, root_directory, key)\n",
    "\n",
    "Archives a folder and saves it to the database. In the current design, all archives are associated with a particular record, and only one archive is allowed per record. Additionally, the name of the folder being archived should match the archive key.\n",
    "\n",
    "Arguments: \n",
    "\n",
    "- __root_directory__ -- string path to the directory containing the folder to be archived.\n",
    "\n",
    "- __key__ -- string unique record key (i.e. title). This is used both as the name of the folder in root_directory to archive, and the particular record to associate the archive with.  "
   ]
  },
  {
   "cell_type": "code",
   "execution_count": 10,
   "metadata": {
    "collapsed": false
   },
   "outputs": [],
   "source": [
    "#Make demo archive\n",
    "os.mkdir('A1--Cu--fcc')\n",
    "with open('A1--Cu--fcc/test.in', 'w') as f:\n",
    "    f.write('hello!')\n",
    "    \n",
    "#Add archive to database\n",
    "dbase.add_archive(os.getcwd(), 'A1--Cu--fcc')"
   ]
  },
  {
   "cell_type": "markdown",
   "metadata": {},
   "source": [
    "### iprPy.Database.get_archive(self, key)\n",
    "\n",
    "Retrieve an archived folder associated with a particular record. The archive is returned as a Tarfile object.\n",
    "\n",
    "Arguments: \n",
    "\n",
    "- __key__ -- string unique record key (i.e. title) of the record for which the archive is associated.  "
   ]
  },
  {
   "cell_type": "code",
   "execution_count": 11,
   "metadata": {
    "collapsed": false
   },
   "outputs": [
    {
     "name": "stdout",
     "output_type": "stream",
     "text": [
      "A1--Cu--fcc\n",
      "A1--Cu--fcc/test.in\n"
     ]
    }
   ],
   "source": [
    "archive = dbase.get_archive('A1--Cu--fcc')\n",
    "for name in archive.getnames():\n",
    "    print(name)"
   ]
  },
  {
   "cell_type": "markdown",
   "metadata": {},
   "source": [
    "#### File cleanup"
   ]
  },
  {
   "cell_type": "code",
   "execution_count": 12,
   "metadata": {
    "collapsed": false
   },
   "outputs": [],
   "source": [
    "import shutil\n",
    "shutil.rmtree('A1--Cu--fcc')\n",
    "archive.close()\n",
    "os.remove('C:/Users/lmh1/Documents/calculations/ipr/library_test/crystal-prototype/A1--Cu--fcc.tar.gz')"
   ]
  }
 ],
 "metadata": {
  "kernelspec": {
   "display_name": "Python [Root]",
   "language": "python",
   "name": "Python [Root]"
  },
  "language_info": {
   "codemirror_mode": {
    "name": "ipython",
    "version": 2
   },
   "file_extension": ".py",
   "mimetype": "text/x-python",
   "name": "python",
   "nbconvert_exporter": "python",
   "pygments_lexer": "ipython2",
   "version": "2.7.12"
  }
 },
 "nbformat": 4,
 "nbformat_minor": 0
}
