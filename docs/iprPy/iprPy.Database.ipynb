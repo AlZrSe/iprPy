{
 "cells": [
  {
   "cell_type": "markdown",
   "metadata": {},
   "source": [
    "# iprPy.Database Class"
   ]
  },
  {
   "cell_type": "markdown",
   "metadata": {},
   "source": [
    "## Introduction\n",
    "\n",
    "The iprPy.Database class provides a common interface for interacting with different styles of databases. More information on the different styles can be found in the docs/databases directory."
   ]
  },
  {
   "cell_type": "markdown",
   "metadata": {},
   "source": [
    "## Class properties\n",
    "\n",
    "- [style][a] is the string database style.\n",
    "\n",
    "- [host][b] is the string database host name or path.\n",
    "\n",
    "## Class methods\n",
    "\n",
    "- [\\_\\_init\\_\\_()][1] class initializer.\n",
    "\n",
    "- [iget_records()][2] iterates through records matching given conditions.\n",
    "\n",
    "- [get_records()][3] returns a list of records matching given conditions.\n",
    "\n",
    "- [get_record()][4] returns a single record matching given conditions.\n",
    "\n",
    "- [add_record()][5] adds a new record to the database.\n",
    "\n",
    "- [update_record()][6] updates an existing record in the database.\n",
    "\n",
    "- [delete_record()][7] deletes a record from the database.\n",
    "\n",
    "- [add_tar()][8] archives a folder and saves it to the database.\n",
    "\n",
    "- [get_tar()][9] retrives an archived tar folder as a tarfile.\n",
    "\n",
    "[a]: #iprPy.Database.style\n",
    "[b]: #iprPy.Database.host\n",
    "[1]: #iprPy.Database.__init__(self,-style,-host,-*args,-**kwargs)\n",
    "[2]: #iprPy.Database.iget_records(self,-name=None,-style=None)\n",
    "[3]: #iprPy.Database.get_records(self,-name=None,-style=None)\n",
    "[4]: #iprPy.Database.get_record(self,-name=None,-style=None)\n",
    "[5]: #iprPy.Database.add_record(self,-record=None,-name=None,-style=None,-content=None)\n",
    "[6]: #iprPy.Database.update_record(self,-record=None,-name=None,-style=None,-content=None)\n",
    "[7]: #iprPy.Database.delete_record(self,-record=None,-name=None,-style=None)\n",
    "[8]: #iprPy.Database.add_tar(self,-record=None,-name=None,-style=None,-root_dir=None)\n",
    "[9]: #iprPy.Database.get_tar(self,-record=None,-name=None,-style=None)"
   ]
  },
  {
   "cell_type": "markdown",
   "metadata": {},
   "source": [
    "## Demonstration"
   ]
  },
  {
   "cell_type": "markdown",
   "metadata": {},
   "source": [
    "Library imports"
   ]
  },
  {
   "cell_type": "code",
   "execution_count": 1,
   "metadata": {
    "collapsed": false
   },
   "outputs": [],
   "source": [
    "from __future__ import print_function\n",
    "import os\n",
    "\n",
    "import iprPy"
   ]
  },
  {
   "cell_type": "markdown",
   "metadata": {},
   "source": [
    "### iprPy.Database.\\_\\_init\\_\\_(self, style, host, \\*args, \\*\\*kwargs)\n",
    "\n",
    "The initialization method for an iprPy.Database object.\n",
    "\n",
    "Arguments: \n",
    "\n",
    "- __style__ -- the string name that corresponds to one of the successfully imported database styles contained in the iprPy.databases folder. \n",
    "\n",
    "- __host__ the string host name for the particular database being accessed.\n",
    "\n",
    "- __\\*args__ -- any additional arguments that are specific to a database style.\n",
    "\n",
    "Keyword Arguments:\n",
    "\n",
    "- __\\*\\*kwargs__ -- any keyword arguments that are specific to a database style."
   ]
  },
  {
   "cell_type": "code",
   "execution_count": 2,
   "metadata": {
    "collapsed": true
   },
   "outputs": [],
   "source": [
    "#Open my local database\n",
    "dbase = iprPy.Database('local', 'C:/Users/lmh1/Documents/calculations/ipr/library_test')"
   ]
  },
  {
   "cell_type": "markdown",
   "metadata": {},
   "source": [
    "### iprPy.Database.style\n",
    "\n",
    "Returns the string name that corresponds to the database's style."
   ]
  },
  {
   "cell_type": "code",
   "execution_count": 3,
   "metadata": {
    "collapsed": false
   },
   "outputs": [
    {
     "data": {
      "text/plain": [
       "'local'"
      ]
     },
     "execution_count": 3,
     "metadata": {},
     "output_type": "execute_result"
    }
   ],
   "source": [
    "dbase.style"
   ]
  },
  {
   "cell_type": "markdown",
   "metadata": {},
   "source": [
    "### iprPy.Database.host\n",
    "\n",
    "Returns the string host name for the particular database."
   ]
  },
  {
   "cell_type": "code",
   "execution_count": 4,
   "metadata": {
    "collapsed": false
   },
   "outputs": [
    {
     "data": {
      "text/plain": [
       "'C:/Users/lmh1/Documents/calculations/ipr/library_test'"
      ]
     },
     "execution_count": 4,
     "metadata": {},
     "output_type": "execute_result"
    }
   ],
   "source": [
    "dbase.host"
   ]
  },
  {
   "cell_type": "markdown",
   "metadata": {},
   "source": [
    "### iprPy.Database.iget_records(self, name=None, style=None)\n",
    "\n",
    "Iterates through records matching given conditions. Yields [iprPy.Record](iprPy.Record.ipynb) objects.\n",
    "\n",
    "Keyword Arguments: \n",
    "\n",
    "- __name__ -- single string or list of strings of record names (i.e. titles/keys) to limit by.\n",
    "\n",
    "- __style__ -- single string or list of strings of record styles (i.e. templates) to limit by."
   ]
  },
  {
   "cell_type": "code",
   "execution_count": 5,
   "metadata": {
    "collapsed": false
   },
   "outputs": [
    {
     "name": "stdout",
     "output_type": "stream",
     "text": [
      "A1--Cu--fcc\n",
      "A15--beta-W\n",
      "A15--Cr3Si\n",
      "A2--W--bcc\n",
      "A3'--alpha-La--double-hcp\n",
      "A3--Mg--hcp\n",
      "A4--C--dc\n",
      "A5--beta-Sn\n",
      "A6--In--bct\n",
      "A7--alpha-As\n",
      "Ah--alpha-Po--sc\n",
      "B1--NaCl--rock-salt\n",
      "B2--CsCl\n",
      "B3--ZnS--cubic-zinc-blende\n",
      "C1--CaF2--fluorite\n",
      "D0_3--BiF3\n",
      "L1_0--AuCu\n",
      "L1_2--AuCu3\n",
      "L2_1--AlCu2Mn--heusler\n"
     ]
    }
   ],
   "source": [
    "for record in dbase.iget_records(style='crystal-prototype'):\n",
    "    print(record.name)"
   ]
  },
  {
   "cell_type": "markdown",
   "metadata": {},
   "source": [
    "### iprPy.Database.get_records(self, name=None, style=None)\n",
    "\n",
    "Returns a list of records matching given conditions. Records returned as [iprPy.Record](iprPy.Record.ipynb) objects.\n",
    "\n",
    "Keyword Arguments: \n",
    "\n",
    "- __name__ -- single string or list of strings of record names (i.e. titles/keys) to limit by.\n",
    "\n",
    "- __style__ -- single string or list of strings of record styles (i.e. templates) to limit by."
   ]
  },
  {
   "cell_type": "code",
   "execution_count": 6,
   "metadata": {
    "collapsed": false
   },
   "outputs": [
    {
     "name": "stdout",
     "output_type": "stream",
     "text": [
      "121\n"
     ]
    }
   ],
   "source": [
    "records = dbase.get_records(style='LAMMPS-potential')\n",
    "print(len(records))"
   ]
  },
  {
   "cell_type": "code",
   "execution_count": 7,
   "metadata": {
    "collapsed": false
   },
   "outputs": [
    {
     "name": "stdout",
     "output_type": "stream",
     "text": [
      "0\n"
     ]
    }
   ],
   "source": [
    "records = dbase.get_records(style='no-such-record')\n",
    "print(len(records))"
   ]
  },
  {
   "cell_type": "markdown",
   "metadata": {},
   "source": [
    "### iprPy.Database.get_record(self, name=None, style=None)\n",
    "\n",
    "Returns a single record as an [iprPy.Record](iprPy.Record.ipynb) matching given conditions. Issues an error if either no matching records or multiple matching records are found.\n",
    "\n",
    "Keyword Arguments: \n",
    "\n",
    "- __name__ -- single string or list of strings of record names (i.e. titles/keys) to limit by.\n",
    "\n",
    "- __style__ -- single string or list of strings of record styles (i.e. templates) to limit by."
   ]
  },
  {
   "cell_type": "code",
   "execution_count": 8,
   "metadata": {
    "collapsed": false
   },
   "outputs": [
    {
     "name": "stdout",
     "output_type": "stream",
     "text": [
      "<iprPy.record_functions.Record object at 0x0000000009AE7E48>\n"
     ]
    }
   ],
   "source": [
    "bcc_record = dbase.get_record(style='crystal-prototype', name='A2--W--bcc')\n",
    "print(bcc_record)"
   ]
  },
  {
   "cell_type": "markdown",
   "metadata": {},
   "source": [
    "### iprPy.Database.add_record(self, record=None, name=None, style=None, content=None)\n",
    "\n",
    "Adds a new record to the database. Issues an error if an existing record with the matching name is found.\n",
    "\n",
    "Keyword Arguments: \n",
    "\n",
    "- __record__ -- an [iprPy.Record](iprPy.Record.ipynb) to add.\n",
    "\n",
    "- __name__ -- string name to assign to the record.\n",
    "\n",
    "- __style__ -- string record style type for the record.\n",
    "\n",
    "- __content__ -- the XML formatted content of the record.\n",
    "\n",
    "Either record needs to be given, or name, style and content all have to be given. Returns an [iprPy.Record](iprPy.Record.ipynb) matching what was uploaded. "
   ]
  },
  {
   "cell_type": "code",
   "execution_count": 9,
   "metadata": {
    "collapsed": false
   },
   "outputs": [
    {
     "name": "stdout",
     "output_type": "stream",
     "text": [
      "DUPLICATE\n",
      "crystal-prototype\n",
      "<?xml version=\"1.0\" encoding=\"utf-8\"?>\n",
      "<crystal-prototype><key>bc13827d-e1e6-4d70-8c3a-59399ad78b0f</key><id>DUPLICATE</id><name>body-centered cubic</name><prototype>W</prototype><Pearson-symbol>cI2</Pearson-symbol><Strukturbericht>A2</Strukturbericht><space-group><number>229</number><Hermann-Maguin>I m -3 m</Hermann-Maguin><Schoenflies>O^9_h</Schoenflies><Wykoff><letter>a</letter><multiplicity>2</multiplicity></Wykoff></space-group><atomic-system><cell><cubic><a><value>1</value><unit>scaled</unit></a></cubic></cell><atom><component>1</component><position><value>0.0</value><value>0.0</value><value>0.0</value><unit>scaled</unit></position></atom><atom><component>1</component><position><value>0.5</value><value>0.5</value><value>0.5</value><unit>scaled</unit></position></atom></atomic-system></crystal-prototype>\n"
     ]
    }
   ],
   "source": [
    "#Modify existing content (simple demo purpose here)\n",
    "duplicate = bcc_record.content.replace('<id>A2--W--bcc</id>', '<id>DUPLICATE</id>')\n",
    "\n",
    "#Add record to database\n",
    "dup_record = dbase.add_record(name='DUPLICATE', content=duplicate, style='crystal-prototype')\n",
    "\n",
    "#Print dup_record's properties\n",
    "print(dup_record.name)\n",
    "print(dup_record.style)\n",
    "print(dup_record.content)"
   ]
  },
  {
   "cell_type": "code",
   "execution_count": 10,
   "metadata": {
    "collapsed": false
   },
   "outputs": [
    {
     "name": "stdout",
     "output_type": "stream",
     "text": [
      "A1--Cu--fcc\n",
      "A15--beta-W\n",
      "A15--Cr3Si\n",
      "A2--W--bcc\n",
      "A3'--alpha-La--double-hcp\n",
      "A3--Mg--hcp\n",
      "A4--C--dc\n",
      "A5--beta-Sn\n",
      "A6--In--bct\n",
      "A7--alpha-As\n",
      "Ah--alpha-Po--sc\n",
      "B1--NaCl--rock-salt\n",
      "B2--CsCl\n",
      "B3--ZnS--cubic-zinc-blende\n",
      "C1--CaF2--fluorite\n",
      "D0_3--BiF3\n",
      "DUPLICATE\n",
      "L1_0--AuCu\n",
      "L1_2--AuCu3\n",
      "L2_1--AlCu2Mn--heusler\n"
     ]
    }
   ],
   "source": [
    "#Print to show that new record was added to the database\n",
    "for record in dbase.iget_records(style='crystal-prototype'):\n",
    "    print(record.name)"
   ]
  },
  {
   "cell_type": "markdown",
   "metadata": {},
   "source": [
    "### iprPy.Database.update_record(self, record=None, name=None, style=None, content=None)\n",
    "\n",
    "Updates the content of an existing record.\n",
    "\n",
    "Keyword Arguments: \n",
    "\n",
    "- __record__ -- an [iprPy.Record](iprPy.Record.ipynb) whose name and style properties identify the database record to update. If the content keyword is not given, this object's content property is used.\n",
    "\n",
    "- __name__ -- string name used for identifying the database record to update. \n",
    "\n",
    "- __style__ -- string record style used for identifying the database record to update. Only necessary when a record cannot be uniquely identified by name alone.\n",
    "\n",
    "- __content__ -- the new XML formatted content for the record. Necessary if name (and style) are given. If record is given, the value of the content keyword is taken over record's content property\n",
    "\n",
    "Either record or name (and style) can be used for identifying the associated record. Returns an [iprPy.Record](iprPy.Record.ipynb) with the old record's name and style, and new content given by either record or the content keyword. "
   ]
  },
  {
   "cell_type": "code",
   "execution_count": 11,
   "metadata": {
    "collapsed": false
   },
   "outputs": [
    {
     "name": "stdout",
     "output_type": "stream",
     "text": [
      "<?xml version=\"1.0\" encoding=\"utf-8\"?>\n",
      "<crystal-prototype><key>bc13827d-e1e6-4d70-8c3a-59399ad78b0f</key><id>GROOVY!</id><name>body-centered cubic</name><prototype>W</prototype><Pearson-symbol>cI2</Pearson-symbol><Strukturbericht>A2</Strukturbericht><space-group><number>229</number><Hermann-Maguin>I m -3 m</Hermann-Maguin><Schoenflies>O^9_h</Schoenflies><Wykoff><letter>a</letter><multiplicity>2</multiplicity></Wykoff></space-group><atomic-system><cell><cubic><a><value>1</value><unit>scaled</unit></a></cubic></cell><atom><component>1</component><position><value>0.0</value><value>0.0</value><value>0.0</value><unit>scaled</unit></position></atom><atom><component>1</component><position><value>0.5</value><value>0.5</value><value>0.5</value><unit>scaled</unit></position></atom></atomic-system></crystal-prototype>\n",
      "\n",
      "<?xml version=\"1.0\" encoding=\"utf-8\"?>\n",
      "<crystal-prototype><key>bc13827d-e1e6-4d70-8c3a-59399ad78b0f</key><id>GROOVY!</id><name>body-centered cubic</name><prototype>W</prototype><Pearson-symbol>cI2</Pearson-symbol><Strukturbericht>A2</Strukturbericht><space-group><number>229</number><Hermann-Maguin>I m -3 m</Hermann-Maguin><Schoenflies>O^9_h</Schoenflies><Wykoff><letter>a</letter><multiplicity>2</multiplicity></Wykoff></space-group><atomic-system><cell><cubic><a><value>1</value><unit>scaled</unit></a></cubic></cell><atom><component>1</component><position><value>0.0</value><value>0.0</value><value>0.0</value><unit>scaled</unit></position></atom><atom><component>1</component><position><value>0.5</value><value>0.5</value><value>0.5</value><unit>scaled</unit></position></atom></atomic-system></crystal-prototype>\n"
     ]
    }
   ],
   "source": [
    "#Modify existing content (simple demo purpose here)\n",
    "duplicate = duplicate.replace('<id>DUPLICATE</id>', '<id>GROOVY!</id>')\n",
    "\n",
    "#update record to database\n",
    "dup_record = dbase.update_record(name='DUPLICATE', content=duplicate)\n",
    "\n",
    "#Print to show that the returned record has the new content\n",
    "print(dup_record.content)\n",
    "print()\n",
    "\n",
    "#Print to show that the database record has the new content\n",
    "dup_record = dbase.get_record(name='DUPLICATE')\n",
    "print(dup_record.content)"
   ]
  },
  {
   "cell_type": "markdown",
   "metadata": {},
   "source": [
    "### iprPy.Database.delete_record(self, record=None, name=None, style=None)\n",
    "\n",
    "Deletes an existing record from the database.\n",
    "\n",
    "Keyword Arguments: \n",
    "\n",
    "- __record__ -- an [iprPy.Record](iprPy.Record.ipynb) whose name and style properties identify the database record to delete.\n",
    "\n",
    "- __name__ -- string name used for identifying the database record to delete. \n",
    "\n",
    "- __style__ -- string record style used for identifying the database record to delete. Only necessary when a record cannot be uniquely identified by name alone.\n",
    "\n",
    "Either record or name (and style) can be used for identifying the associated record."
   ]
  },
  {
   "cell_type": "code",
   "execution_count": 12,
   "metadata": {
    "collapsed": false
   },
   "outputs": [
    {
     "name": "stdout",
     "output_type": "stream",
     "text": [
      "A1--Cu--fcc\n",
      "A15--beta-W\n",
      "A15--Cr3Si\n",
      "A2--W--bcc\n",
      "A3'--alpha-La--double-hcp\n",
      "A3--Mg--hcp\n",
      "A4--C--dc\n",
      "A5--beta-Sn\n",
      "A6--In--bct\n",
      "A7--alpha-As\n",
      "Ah--alpha-Po--sc\n",
      "B1--NaCl--rock-salt\n",
      "B2--CsCl\n",
      "B3--ZnS--cubic-zinc-blende\n",
      "C1--CaF2--fluorite\n",
      "D0_3--BiF3\n",
      "L1_0--AuCu\n",
      "L1_2--AuCu3\n",
      "L2_1--AlCu2Mn--heusler\n"
     ]
    }
   ],
   "source": [
    "#Delete record from database\n",
    "dbase.delete_record(record=dup_record)\n",
    "\n",
    "#Print to show that the record content is gone\n",
    "for record in dbase.iget_records(style='crystal-prototype'):\n",
    "    print(record.name)"
   ]
  },
  {
   "cell_type": "markdown",
   "metadata": {},
   "source": [
    "### iprPy.Database.add_tar(self, record=None, name=None, style=None, root_dir=None)\n",
    "\n",
    "Archives a folder as a .tar.gz file and saves it to the database. All tar files are associated with a particular record, and only one tar file is allowed per record. Additionally, the name of the folder being archived should match the record name.\n",
    "\n",
    "Keyword Arguments: \n",
    "\n",
    "- __record__ -- an [iprPy.Record](iprPy.Record.ipynb) whose name and style properties identify the database record to associate the tar file with.\n",
    "\n",
    "- __name__ -- string name used for identifying the database record to associated the tar file with AND the name of the folder being copied into a tar file.\n",
    "\n",
    "- __style__ -- string record style used for identifying the database record to associated the tar file with. Only necessary when a record cannot be uniquely identified by name alone.\n",
    "\n",
    "- __root_dir__ -- string path to the directory containing the folder to be archived. If not given, then the current working directory is used.\n",
    "\n",
    "Either record or name (and style) can be used for identifying the associated record."
   ]
  },
  {
   "cell_type": "code",
   "execution_count": 13,
   "metadata": {
    "collapsed": false
   },
   "outputs": [],
   "source": [
    "#Make demo archive\n",
    "os.mkdir('A1--Cu--fcc')\n",
    "with open('A1--Cu--fcc/test.in', 'w') as f:\n",
    "    f.write('hello!')\n",
    "    \n",
    "#Add archive to database\n",
    "dbase.add_tar(name='A1--Cu--fcc')"
   ]
  },
  {
   "cell_type": "markdown",
   "metadata": {},
   "source": [
    "### iprPy.Database.get_tar(self, record=None, name=None, style=None)\n",
    "\n",
    "Retrieves a stored tar archive associated with a particular record. \n",
    "\n",
    "Keyword Arguments: \n",
    "\n",
    "- __record__ -- an [iprPy.Record](iprPy.Record.ipynb) whose name and style properties identify the database record associated with the tar file being retrieved.\n",
    "\n",
    "- __name__ -- string name used for identifying the database record associated with the tar file being retrieved.\n",
    "\n",
    "- __style__ -- string record style used for identifying the database record associated with the tar file being retrieved. Only necessary when a record cannot be uniquely identified by name alone.\n",
    "\n",
    "Either record or name (and style) can be used for identifying the associated record. Returns an open Tarfile object containing the tar artifact file content."
   ]
  },
  {
   "cell_type": "code",
   "execution_count": 14,
   "metadata": {
    "collapsed": false
   },
   "outputs": [
    {
     "name": "stdout",
     "output_type": "stream",
     "text": [
      "A1--Cu--fcc\n",
      "A1--Cu--fcc/test.in\n"
     ]
    }
   ],
   "source": [
    "tar = dbase.get_tar(name='A1--Cu--fcc')\n",
    "for name in tar.getnames():\n",
    "    print(name)"
   ]
  },
  {
   "cell_type": "markdown",
   "metadata": {},
   "source": [
    "#### File cleanup"
   ]
  },
  {
   "cell_type": "code",
   "execution_count": 15,
   "metadata": {
    "collapsed": false
   },
   "outputs": [],
   "source": [
    "import shutil\n",
    "shutil.rmtree('A1--Cu--fcc')\n",
    "tar.close()\n",
    "os.remove('C:/Users/lmh1/Documents/calculations/ipr/library_test/crystal-prototype/A1--Cu--fcc.tar.gz')"
   ]
  }
 ],
 "metadata": {
  "kernelspec": {
   "display_name": "Python [Root]",
   "language": "python",
   "name": "Python [Root]"
  },
  "language_info": {
   "codemirror_mode": {
    "name": "ipython",
    "version": 2
   },
   "file_extension": ".py",
   "mimetype": "text/x-python",
   "name": "python",
   "nbconvert_exporter": "python",
   "pygments_lexer": "ipython2",
   "version": "2.7.12"
  }
 },
 "nbformat": 4,
 "nbformat_minor": 0
}
