{
 "cells": [
  {
   "cell_type": "markdown",
   "metadata": {},
   "source": [
    "# iprPy.Record Class"
   ]
  },
  {
   "cell_type": "markdown",
   "metadata": {},
   "source": [
    "## Introduction\n",
    "\n",
    "The iprPy.Record class provides a common means of representing a database record.  It collects together a record's style, name and content, and provides a few convenience methods for helping analyze the data."
   ]
  },
  {
   "cell_type": "markdown",
   "metadata": {},
   "source": [
    "## Class properties\n",
    "\n",
    "- [style][a] is the string record style.\n",
    "\n",
    "- [name][b] is the string name for the record.\n",
    "\n",
    "- [content][c] is the XML formatted content for the record.\n",
    "\n",
    "- [schema][d] is the absolute path to a copy of the record style's XSD schema file.\n",
    "\n",
    "## Class methods\n",
    "\n",
    "- [\\_\\_init\\_\\_()][1] class initializer.\n",
    "\n",
    "- [\\_\\_str\\_\\_()][2] string representation.\n",
    "\n",
    "- [todict()][3] converts the record content into a flat dictionary.\n",
    "\n",
    "[a]: #iprPy.Record.style\n",
    "[b]: #iprPy.Record.name\n",
    "[c]: #iprPy.Record.content\n",
    "[d]: #iprPy.Record.schema\n",
    "\n",
    "[1]: #iprPy.Record.__init__(self,-style,-name,-content)\n",
    "[2]: #iprPy.Record.__str__(self)\n",
    "[3]: #iprPy.Record.todict(self,-**kwargs)"
   ]
  },
  {
   "cell_type": "markdown",
   "metadata": {},
   "source": [
    "## Demonstration"
   ]
  },
  {
   "cell_type": "markdown",
   "metadata": {},
   "source": [
    "Library imports"
   ]
  },
  {
   "cell_type": "code",
   "execution_count": 1,
   "metadata": {
    "collapsed": false
   },
   "outputs": [],
   "source": [
    "from __future__ import print_function\n",
    "import iprPy"
   ]
  },
  {
   "cell_type": "markdown",
   "metadata": {},
   "source": [
    "### iprPy.Record.\\_\\_init\\_\\_(self, style, name, content)\n",
    "\n",
    "The initialization method for an iprPy.Record object. A record is immutable once initialized.\n",
    "\n",
    "Arguments:\n",
    "\n",
    "- __style__ -- the string name that corresponds to one of the successfully imported record styles contained in the iprPy.records folder.\n",
    "\n",
    "- __name__ -- the string name to associate with the record. This name should be unique, or at the very least unique for the given record style.\n",
    "\n",
    "- __content__ -- the XML formatted content for the record. "
   ]
  },
  {
   "cell_type": "code",
   "execution_count": 2,
   "metadata": {
    "collapsed": false
   },
   "outputs": [],
   "source": [
    "style = 'crystal-prototype'\n",
    "\n",
    "name = 'A2--W--bcc'\n",
    "\n",
    "content = \"\"\"<?xml version=\"1.0\" encoding=\"utf-8\"?>\n",
    "<crystal-prototype><key>bc13827d-e1e6-4d70-8c3a-59399ad78b0f</key><id>A2--W--bcc</id><name>body-centered cubic</name><prototype>W</prototype><Pearson-symbol>cI2</Pearson-symbol><Strukturbericht>A2</Strukturbericht><space-group><number>229</number><Hermann-Maguin>I m -3 m</Hermann-Maguin><Schoenflies>O^9_h</Schoenflies><Wykoff><letter>a</letter><multiplicity>2</multiplicity></Wykoff></space-group><atomic-system><cell><cubic><a><value>1</value><unit>scaled</unit></a></cubic></cell><atom><component>1</component><position><value>0.0</value><value>0.0</value><value>0.0</value><unit>scaled</unit></position></atom><atom><component>1</component><position><value>0.5</value><value>0.5</value><value>0.5</value><unit>scaled</unit></position></atom></atomic-system></crystal-prototype>\"\"\"\n",
    "\n",
    "record = iprPy.Record(style, name, content)"
   ]
  },
  {
   "cell_type": "markdown",
   "metadata": {},
   "source": [
    "### iprPy.Record.style\n",
    "\n",
    "Returns the record's style as a string. "
   ]
  },
  {
   "cell_type": "code",
   "execution_count": 3,
   "metadata": {
    "collapsed": false
   },
   "outputs": [
    {
     "name": "stdout",
     "output_type": "stream",
     "text": [
      "crystal-prototype\n"
     ]
    }
   ],
   "source": [
    "print(record.style)"
   ]
  },
  {
   "cell_type": "markdown",
   "metadata": {},
   "source": [
    "### iprPy.Record.name\n",
    "\n",
    "Returns the record's name as a string. "
   ]
  },
  {
   "cell_type": "code",
   "execution_count": 4,
   "metadata": {
    "collapsed": false
   },
   "outputs": [
    {
     "name": "stdout",
     "output_type": "stream",
     "text": [
      "A2--W--bcc\n"
     ]
    }
   ],
   "source": [
    "print(record.name)"
   ]
  },
  {
   "cell_type": "markdown",
   "metadata": {},
   "source": [
    "### iprPy.Record.\\_\\_str\\_\\_(self)\n",
    "\n",
    "The string representation returns the record's name and style."
   ]
  },
  {
   "cell_type": "code",
   "execution_count": 5,
   "metadata": {
    "collapsed": false
   },
   "outputs": [
    {
     "name": "stdout",
     "output_type": "stream",
     "text": [
      "A2--W--bcc (crystal-prototype)\n"
     ]
    }
   ],
   "source": [
    "print(record)"
   ]
  },
  {
   "cell_type": "markdown",
   "metadata": {},
   "source": [
    "### iprPy.Record.content\n",
    "\n",
    "Returns the record's XML formatted content as a string. "
   ]
  },
  {
   "cell_type": "code",
   "execution_count": 6,
   "metadata": {
    "collapsed": false
   },
   "outputs": [
    {
     "name": "stdout",
     "output_type": "stream",
     "text": [
      "<?xml version=\"1.0\" encoding=\"utf-8\"?>\n",
      "<crystal-prototype><key>bc13827d-e1e6-4d70-8c3a-59399ad78b0f</key><id>A2--W--bcc</id><name>body-centered cubic</name><prototype>W</prototype><Pearson-symbol>cI2</Pearson-symbol><Strukturbericht>A2</Strukturbericht><space-group><number>229</number><Hermann-Maguin>I m -3 m</Hermann-Maguin><Schoenflies>O^9_h</Schoenflies><Wykoff><letter>a</letter><multiplicity>2</multiplicity></Wykoff></space-group><atomic-system><cell><cubic><a><value>1</value><unit>scaled</unit></a></cubic></cell><atom><component>1</component><position><value>0.0</value><value>0.0</value><value>0.0</value><unit>scaled</unit></position></atom><atom><component>1</component><position><value>0.5</value><value>0.5</value><value>0.5</value><unit>scaled</unit></position></atom></atomic-system></crystal-prototype>\n"
     ]
    }
   ],
   "source": [
    "print(record.content)"
   ]
  },
  {
   "cell_type": "markdown",
   "metadata": {},
   "source": [
    "### iprPy.Record.schema\n",
    "\n",
    "Returns the absolute path to a copy of the record style's XSD schema. This can be useful for verification purposes."
   ]
  },
  {
   "cell_type": "code",
   "execution_count": 7,
   "metadata": {
    "collapsed": false
   },
   "outputs": [
    {
     "name": "stdout",
     "output_type": "stream",
     "text": [
      "c:\\users\\lmh1\\documents\\python-packages\\iprpy\\iprPy\\records\\record-crystal-prototype.xsd\n"
     ]
    }
   ],
   "source": [
    "print(record.schema)"
   ]
  },
  {
   "cell_type": "markdown",
   "metadata": {},
   "source": [
    "### iprPy.Record.todict(self, \\*\\*kwargs)\n",
    "\n",
    "Returns a flattened dictionary representation of the record's content. The keys and values contained within the returned dictionary are specific to the record's style.\n",
    "\n",
    "Keyword Arguments depend on the record's style."
   ]
  },
  {
   "cell_type": "code",
   "execution_count": 8,
   "metadata": {
    "collapsed": false
   },
   "outputs": [
    {
     "name": "stdout",
     "output_type": "stream",
     "text": [
      "Pearson_symbol: cI2\n",
      "Strukturbericht: A2\n",
      "a: 1\n",
      "b: 1\n",
      "c: 1\n",
      "crystal_family: cubic\n",
      "id: A2--W--bcc\n",
      "key: bc13827d-e1e6-4d70-8c3a-59399ad78b0f\n",
      "name: body-centered cubic\n",
      "natypes: 1\n",
      "prototype: W\n",
      "sg_HG: I m -3 m\n",
      "sg_Schoen: O^9_h\n",
      "sg_number: 229\n"
     ]
    }
   ],
   "source": [
    "rdict = record.todict()\n",
    "for key in sorted(rdict.keys()):\n",
    "    print(key + ': ' + str(rdict[key]))"
   ]
  }
 ],
 "metadata": {
  "anaconda-cloud": {},
  "kernelspec": {
   "display_name": "Python [Root]",
   "language": "python",
   "name": "Python [Root]"
  },
  "language_info": {
   "codemirror_mode": {
    "name": "ipython",
    "version": 2
   },
   "file_extension": ".py",
   "mimetype": "text/x-python",
   "name": "python",
   "nbconvert_exporter": "python",
   "pygments_lexer": "ipython2",
   "version": "2.7.12"
  }
 },
 "nbformat": 4,
 "nbformat_minor": 0
}
