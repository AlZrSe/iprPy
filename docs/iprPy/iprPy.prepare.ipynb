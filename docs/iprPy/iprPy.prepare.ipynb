{
 "cells": [
  {
   "cell_type": "markdown",
   "metadata": {},
   "source": [
    "# iprPy.prepare Submodule"
   ]
  },
  {
   "cell_type": "markdown",
   "metadata": {},
   "source": [
    "## Introduction\n",
    "\n",
    "The iprPy.prepare submodule contains tools that allow for common functionality across the different prepare scripts."
   ]
  },
  {
   "cell_type": "markdown",
   "metadata": {},
   "source": [
    "## Functions\n",
    "\n",
    "- [ipotentials()][1] -- iterates through a selection of interatomic potential records in a database.\n",
    "- [iprototypes()][2] -- iterates through a selection of crystal prototype records in a database.\n",
    "- [isymbolscombos()][3] -- iterates all possible element model symbol combinations given a potential and crystal prototype.\n",
    "\n",
    "[1]: #iprPy.prepare.ipotentials(database,-element=None,-name=None,-pair_style=None,-record_type='LAMMPS-potential')\n",
    "[2]: #iprPy.prepare.iprototypes(database,-natypes=None,-name=None,-spacegroup=None,-crystalfamily=None,-pearson=None,-record_type='crystal-prototype')\n",
    "[3]: #iprPy.prepare.isymbolscombos(proto_record,-potential)"
   ]
  },
  {
   "cell_type": "markdown",
   "metadata": {},
   "source": [
    "## Demonstration"
   ]
  },
  {
   "cell_type": "markdown",
   "metadata": {},
   "source": [
    "Library imports"
   ]
  },
  {
   "cell_type": "code",
   "execution_count": 1,
   "metadata": {
    "collapsed": false
   },
   "outputs": [],
   "source": [
    "from __future__ import print_function\n",
    "import iprPy"
   ]
  },
  {
   "cell_type": "code",
   "execution_count": 2,
   "metadata": {
    "collapsed": true
   },
   "outputs": [],
   "source": [
    "#Open my local database\n",
    "dbase = iprPy.Database('local', 'C:/Users/lmh1/Documents/calculations/ipr/library_test')"
   ]
  },
  {
   "cell_type": "markdown",
   "metadata": {},
   "source": [
    "### iprPy.prepare.ipotentials(database, element=None, name=None, pair_style=None, record_type='LAMMPS-potential')\n",
    "\n",
    "Iterates over potentials in a database that match limiting conditions.\n",
    "    \n",
    "Arguments:\n",
    "\n",
    "- __database__ -- an iprPy.Database object for the database being accessed\n",
    "\n",
    "Keyword Arguments:\n",
    "\n",
    "- __element__ -- single string element tag or list of element tags. Only potentials that contain models for at least one of the listed elements will be returned. Default value is None (i.e. no selection by element).\n",
    "\n",
    "- __name__ -- single string name or list of names for the potentials to include. Default value is None (i.e. no selection by name).\n",
    "\n",
    "- __pair_style__ -- single string LAMMPS pair_style type or list of pair_style types that the potentials must be to be returned. Default value is None (i.e. no selection by pair_style).\n",
    "\n",
    "- __record_type__ -- string name for the record type (i.e. template) to use. Default value is 'LAMMPS-potential'.\n",
    "\n",
    "Returns the potential's name, the potential's record as a string and the potential's archives as an open Tarfile object.    "
   ]
  },
  {
   "cell_type": "code",
   "execution_count": 3,
   "metadata": {
    "collapsed": false
   },
   "outputs": [
    {
     "name": "stdout",
     "output_type": "stream",
     "text": [
      "2000--Sturgeon-J-B--Al\n",
      "\n",
      "<?xml version=\"1.0\" encoding=\"utf-8\"?>\n",
      "<LAMMPS-potential><potential><key>2f8b74ea-a973-4236-ad16-65e370d4d3a4</key><id>2000--Sturgeon-J-B--Al</id></potential><units>metal</units><atom_style>atomic</atom_style><atom><element>Al</element><mass>26.9815</mass></atom><pair_style><type>eam/fs</type></pair_style><pair_coeff><term><file>MDSL.eam.fs</file></term><term><symbols>True</symbols></term></pair_coeff></LAMMPS-potential>\n",
      "\n",
      "2000--Sturgeon-J-B--Al\n",
      "2000--Sturgeon-J-B--Al/MDSL.eam.fs\n"
     ]
    }
   ],
   "source": [
    "for potential_name, potential_record, potential_files in iprPy.prepare.ipotentials(dbase, name='2000--Sturgeon-J-B--Al'):\n",
    "    print(potential_name + '\\n')\n",
    "    print(potential_record + '\\n')\n",
    "    for fname in potential_files.getnames():\n",
    "        print(fname)    "
   ]
  },
  {
   "cell_type": "code",
   "execution_count": 4,
   "metadata": {
    "collapsed": false
   },
   "outputs": [
    {
     "name": "stdout",
     "output_type": "stream",
     "text": [
      "2009--Kim-H-K--Fe-Ti-C\n",
      "2012--Jelinek-B--Al-Si-Mg-Cu-Fe\n",
      "2013--Gao-H--AgTaO3\n",
      "2014--Fernandez-J-R--U\n",
      "2014--Liyanage-L-S-I--Fe-C\n",
      "2015--Ko-W-S--Ni-Ti\n",
      "2015--Pascuet-M-I--Al-U\n",
      "2015--Pascuet-M-I--Al\n"
     ]
    }
   ],
   "source": [
    "for potential_name, potential_record, potential_files in iprPy.prepare.ipotentials(dbase, pair_style='meam'):\n",
    "    print(potential_name)"
   ]
  },
  {
   "cell_type": "markdown",
   "metadata": {},
   "source": [
    "### iprPy.prepare.iprototypes(database, natypes=None, name=None, spacegroup=None, crystalfamily=None, pearson=None, record_type='crystal-prototype')\n",
    "\n",
    "Iterates over potentials in a database that match limiting conditions.\n",
    "    \n",
    "Arguments:\n",
    "\n",
    "- __database__ -- an iprPy.Database object for the database being accessed\n",
    "\n",
    "Keyword Arguments:\n",
    "\n",
    "- __natypes__ -- int or list of ints for the number of atom types (i.e. sites) that the prototype must have. Default value is None (i.e. no selection by natypes)\n",
    "\n",
    "- __name__ -- single string name or list of names for the prototypes to include. Search uses potential's id, name, prototype, and Strukturbericht terms. Default value is None (i.e. no selection by name).\n",
    "\n",
    "- __spacegroup__ -- single term or list of terms for limiting by crystal space group, Search uses space group number, H-M and Schoenflies names. Default value is None (i.e. no selection by space group).\n",
    "\n",
    "- __crystalfamily__ -- single string or list of strings for the crystal families to limit returned prototypes by. Default value is None (i.e. no selection by crystal family).\n",
    "\n",
    "- __pearson__ -- single string or list of strings for Pearson symbols to limit search by. Default value is None (i.e. no selection by Pearson symbol).\n",
    "\n",
    "- __record_type__ -- string name for the record type (i.e. template) to use. Default value is 'crystal-prototype'.\n",
    "\n",
    "Returns the prototype's id and the prototype's record as a string.    "
   ]
  },
  {
   "cell_type": "code",
   "execution_count": 5,
   "metadata": {
    "collapsed": false
   },
   "outputs": [
    {
     "name": "stdout",
     "output_type": "stream",
     "text": [
      "A1--Cu--fcc\n",
      "A15--beta-W\n",
      "A15--Cr3Si\n",
      "A2--W--bcc\n",
      "A3'--alpha-La--double-hcp\n",
      "A3--Mg--hcp\n",
      "A4--C--dc\n",
      "A5--beta-Sn\n",
      "A6--In--bct\n",
      "A7--alpha-As\n",
      "Ah--alpha-Po--sc\n",
      "B1--NaCl--rock-salt\n",
      "B2--CsCl\n",
      "B3--ZnS--cubic-zinc-blende\n",
      "C1--CaF2--fluorite\n",
      "D0_3--BiF3\n",
      "L1_0--AuCu\n",
      "L1_2--AuCu3\n",
      "L2_1--AlCu2Mn--heusler\n"
     ]
    }
   ],
   "source": [
    "for prototype_name, prototype_record, in iprPy.prepare.iprototypes(dbase):\n",
    "    print(prototype_name)"
   ]
  },
  {
   "cell_type": "code",
   "execution_count": 6,
   "metadata": {
    "collapsed": false
   },
   "outputs": [
    {
     "name": "stdout",
     "output_type": "stream",
     "text": [
      "A2--W--bcc\n",
      "<?xml version=\"1.0\" encoding=\"utf-8\"?>\n",
      "<crystal-prototype><key>bc13827d-e1e6-4d70-8c3a-59399ad78b0f</key><id>A2--W--bcc</id><name>body-centered cubic</name><prototype>W</prototype><Pearson-symbol>cI2</Pearson-symbol><Strukturbericht>A2</Strukturbericht><space-group><number>229</number><Hermann-Maguin>I m -3 m</Hermann-Maguin><Schoenflies>O^9_h</Schoenflies><Wykoff><letter>a</letter><multiplicity>2</multiplicity></Wykoff></space-group><atomic-system><cell><cubic><a><value>1</value><unit>scaled</unit></a></cubic></cell><atom><component>1</component><position><value>0.0</value><value>0.0</value><value>0.0</value><unit>scaled</unit></position></atom><atom><component>1</component><position><value>0.5</value><value>0.5</value><value>0.5</value><unit>scaled</unit></position></atom></atomic-system></crystal-prototype>\n"
     ]
    }
   ],
   "source": [
    "for prototype_name, prototype_record, in iprPy.prepare.iprototypes(dbase, spacegroup=229):\n",
    "    print(prototype_name)\n",
    "    print(prototype_record)"
   ]
  },
  {
   "cell_type": "markdown",
   "metadata": {},
   "source": [
    "### iprPy.prepare.isymbolscombos(proto_record, potential)\n",
    "\n",
    "Iterates over all symbols combinations for the unique sites of a crystal prototype using all elemental symbol models described by a potential.\n",
    "    \n",
    "Arguments:\n",
    "\n",
    "- __prototype__ -- the XML record for a crystal prototype.\n",
    "\n",
    "- __potential__ -- the XML record for a potential."
   ]
  },
  {
   "cell_type": "code",
   "execution_count": 7,
   "metadata": {
    "collapsed": false
   },
   "outputs": [
    {
     "name": "stdout",
     "output_type": "stream",
     "text": [
      "['AlS']\n",
      "['SiS']\n",
      "['MgS']\n",
      "['CuS']\n",
      "['FeS']\n"
     ]
    }
   ],
   "source": [
    "potential = dbase.get_record(key='2012--Jelinek-B--Al-Si-Mg-Cu-Fe')\n",
    "prototype = dbase.get_record(key='A1--Cu--fcc')\n",
    "\n",
    "for symbols in iprPy.prepare.isymbolscombos(prototype, potential):\n",
    "    print(symbols)"
   ]
  },
  {
   "cell_type": "code",
   "execution_count": 8,
   "metadata": {
    "collapsed": false
   },
   "outputs": [
    {
     "name": "stdout",
     "output_type": "stream",
     "text": [
      "['Al', 'Al']\n",
      "['Al', 'U']\n",
      "['U', 'Al']\n",
      "['U', 'U']\n"
     ]
    }
   ],
   "source": [
    "potential = dbase.get_record(key='2015--Pascuet-M-I--Al-U')\n",
    "prototype = dbase.get_record(key='B1--NaCl--rock-salt')\n",
    "\n",
    "for symbols in iprPy.prepare.isymbolscombos(prototype, potential):\n",
    "    print(symbols)"
   ]
  }
 ],
 "metadata": {
  "kernelspec": {
   "display_name": "Python [Root]",
   "language": "python",
   "name": "Python [Root]"
  },
  "language_info": {
   "codemirror_mode": {
    "name": "ipython",
    "version": 2
   },
   "file_extension": ".py",
   "mimetype": "text/x-python",
   "name": "python",
   "nbconvert_exporter": "python",
   "pygments_lexer": "ipython2",
   "version": "2.7.12"
  }
 },
 "nbformat": 4,
 "nbformat_minor": 0
}
