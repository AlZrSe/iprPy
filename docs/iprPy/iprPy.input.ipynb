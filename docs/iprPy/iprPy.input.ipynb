{
 "cells": [
  {
   "cell_type": "markdown",
   "metadata": {},
   "source": [
    "# iprPy.input Submodule"
   ]
  },
  {
   "cell_type": "markdown",
   "metadata": {},
   "source": [
    "## Introduction\n",
    "\n",
    "The iprPy.input submodule contains tools that allow for common treatment of parameter terms found in the calculation input parameter files. These help in speeding up development and provide a means of adding consistency across different calculations."
   ]
  },
  {
   "cell_type": "markdown",
   "metadata": {},
   "source": [
    "## Functions\n",
    "\n",
    "- [atomshift()][1] processes input term atomshift.\n",
    "\n",
    "- [axes()][2] processes input terms associated with three axes.\n",
    "\n",
    "- [initialsystem()][3] processes input terms for building an initialsystem.\n",
    "\n",
    "- [sizemults()][4] processes input terms associated with system size multipliers.\n",
    "\n",
    "- [system_family()][5] processes input terms to set the system_family.\n",
    "\n",
    "- [ucell()][6] processes input terms associated with reading an atomic system from a file.\n",
    "\n",
    "- [units()][7] processes input terms associated with defining the units on values for input and output.\n",
    "\n",
    "- [value()][8] processes a numeric input term that may be given with specific units.\n",
    "\n",
    "\n",
    "[1]: #iprPy.input.atomshift(input_dict,-**kwargs)\n",
    "[2]: #iprPy.input.axes(input_dict,-**kwargs)\n",
    "[3]: #iprPy.input.initialsystem(input_dict,-**kwargs)\n",
    "[4]: #iprPy.input.sizemults(input_dict,-**kwargs) \n",
    "[5]: #iprPy.input.system_family(input_dict,-**kwargs)\n",
    "[6]: #iprPy.input.ucell(input_dict,-**kwargs)\n",
    "[7]: #iprPy.input.units(input_dict,-**kwargs)\n",
    "[8]: #iprPy.input.value(input_dict,-key,-default_unit=None,-default_term=None)"
   ]
  },
  {
   "cell_type": "markdown",
   "metadata": {},
   "source": [
    "### Demonstration"
   ]
  },
  {
   "cell_type": "markdown",
   "metadata": {},
   "source": [
    "Library imports"
   ]
  },
  {
   "cell_type": "code",
   "execution_count": 1,
   "metadata": {
    "collapsed": false
   },
   "outputs": [],
   "source": [
    "from __future__ import print_function\n",
    "import iprPy"
   ]
  },
  {
   "cell_type": "markdown",
   "metadata": {
    "collapsed": false
   },
   "source": [
    "### iprPy.input.atomshift(input_dict, **kwargs)\n",
    "\n",
    "Converts the atomshift input term string into a list of floats.\n",
    "    \n",
    "The input_dict keys used by this function (which can be renamed using the function's keyword arguments):\n",
    "\n",
    "- __atomshift__ -- a string of space-delimited numbers. This function converts it to a list of floats.\n",
    "\n",
    "Arguments:\n",
    "\n",
    "- __input_dict__ -- dictionary containing input parameter key-value pairs\n",
    "\n",
    "Keyword Arguments:\n",
    "\n",
    "- __atomshift__ -- replacement parameter key name for 'atomshift'"
   ]
  },
  {
   "cell_type": "markdown",
   "metadata": {},
   "source": [
    "Default value"
   ]
  },
  {
   "cell_type": "code",
   "execution_count": 2,
   "metadata": {
    "collapsed": false
   },
   "outputs": [
    {
     "data": {
      "text/plain": [
       "{'atomshift': [0.0, 0.0, 0.0]}"
      ]
     },
     "execution_count": 2,
     "metadata": {},
     "output_type": "execute_result"
    }
   ],
   "source": [
    "#Construct a test input dictionary\n",
    "test_dict = {}\n",
    "\n",
    "#Call iprPy.input.atomshift()\n",
    "iprPy.input.atomshift(test_dict)\n",
    "\n",
    "#Show contents of the dictionary\n",
    "test_dict"
   ]
  },
  {
   "cell_type": "markdown",
   "metadata": {},
   "source": [
    "String value"
   ]
  },
  {
   "cell_type": "code",
   "execution_count": 3,
   "metadata": {
    "collapsed": false
   },
   "outputs": [
    {
     "data": {
      "text/plain": [
       "{'atomshift': [0.29999999999999999, 0.29999999999999999, 0.10000000000000001]}"
      ]
     },
     "execution_count": 3,
     "metadata": {},
     "output_type": "execute_result"
    }
   ],
   "source": [
    "#Construct a test input dictionary\n",
    "test_dict = {'atomshift': '0.3 0.3 0.1'}\n",
    "\n",
    "#Call iprPy.input.atomshift()\n",
    "iprPy.input.atomshift(test_dict)\n",
    "\n",
    "#Show contents of the dictionary\n",
    "test_dict"
   ]
  },
  {
   "cell_type": "markdown",
   "metadata": {},
   "source": [
    "### iprPy.input.axes(input_dict, **kwargs)\n",
    "\n",
    "Converts a set of axes input terms to lists of three values each.\n",
    "    \n",
    "The input_dict keys used by this function (which can be renamed using the function's keyword arguments):\n",
    "\n",
    "- __x_axis, y_axis, z_axis__ -- three right-handed orthogonal vectors. They are read in as space-delimited strings, and this function converts them to lists of floats.\n",
    "\n",
    "Arguments:\n",
    "\n",
    "- __input_dict__ -- dictionary containing input parameter key-value pairs\n",
    "\n",
    "Keyword Arguments:\n",
    "\n",
    "- __x_axis__ -- replacement parameter key name for 'x_axis'\n",
    "\n",
    "- __y_axis__ -- replacement parameter key name for 'y_axis'\n",
    "\n",
    "- __z_axis__ -- replacement parameter key name for 'z_axis'"
   ]
  },
  {
   "cell_type": "markdown",
   "metadata": {},
   "source": [
    "Default value"
   ]
  },
  {
   "cell_type": "code",
   "execution_count": 4,
   "metadata": {
    "collapsed": false
   },
   "outputs": [
    {
     "data": {
      "text/plain": [
       "{'x_axis': [1.0, 0.0, 0.0],\n",
       " 'y_axis': [0.0, 1.0, 0.0],\n",
       " 'z_axis': [0.0, 0.0, 1.0]}"
      ]
     },
     "execution_count": 4,
     "metadata": {},
     "output_type": "execute_result"
    }
   ],
   "source": [
    "#Construct a test input dictionary\n",
    "test_dict = {}\n",
    "\n",
    "#Call iprPy.input.axes()\n",
    "iprPy.input.axes(test_dict)\n",
    "\n",
    "#Show contents of the dictionary\n",
    "test_dict"
   ]
  },
  {
   "cell_type": "markdown",
   "metadata": {},
   "source": [
    "String values"
   ]
  },
  {
   "cell_type": "code",
   "execution_count": 5,
   "metadata": {
    "collapsed": false
   },
   "outputs": [
    {
     "data": {
      "text/plain": [
       "{'x_axis': [1.0, 1.0, 0.0],\n",
       " 'y_axis': [-1.0, 1.0, 0.0],\n",
       " 'z_axis': [0.0, 0.0, 1.0]}"
      ]
     },
     "execution_count": 5,
     "metadata": {},
     "output_type": "execute_result"
    }
   ],
   "source": [
    "#Construct a test input dictionary\n",
    "test_dict = {'x_axis': ' 1 1 0',\n",
    "             'y_axis': '-1 1 0',\n",
    "             'z_axis': ' 0 0 1'}\n",
    "\n",
    "#Call iprPy.input.axes()\n",
    "iprPy.input.axes(test_dict)\n",
    "\n",
    "#Show contents of the dictionary\n",
    "test_dict"
   ]
  },
  {
   "cell_type": "markdown",
   "metadata": {
    "collapsed": true
   },
   "source": [
    "### iprPy.input.sizemults(input_dict, **kwargs)\n",
    "\n",
    "Converts sizemults input term from a string to a 3x2 array of ints.\n",
    "    \n",
    "The input_dict keys used by this function (which can be renamed using the function's keyword arguments):\n",
    "\n",
    "- __sizemults__ -- a string of three or six space-delimited integers. This gets replaced with a 3x2 array of integers.    \n",
    "\n",
    "Arguments:\n",
    "\n",
    "- __input_dict__ -- dictionary containing input parameter key-value pairs\n",
    "\n",
    "Keyword Arguments:\n",
    "\n",
    "- __sizemults__ -- replacement parameter key name for 'sizemults'"
   ]
  },
  {
   "cell_type": "markdown",
   "metadata": {},
   "source": [
    "Default value"
   ]
  },
  {
   "cell_type": "code",
   "execution_count": 6,
   "metadata": {
    "collapsed": false
   },
   "outputs": [
    {
     "data": {
      "text/plain": [
       "{'sizemults': [[0, 1], [0, 1], [0, 1]]}"
      ]
     },
     "execution_count": 6,
     "metadata": {},
     "output_type": "execute_result"
    }
   ],
   "source": [
    "#Construct a test input dictionary\n",
    "test_dict = {}\n",
    "\n",
    "#Call iprPy.input.sizemults()\n",
    "iprPy.input.sizemults(test_dict)\n",
    "\n",
    "#Show contents of the dictionary\n",
    "test_dict"
   ]
  },
  {
   "cell_type": "markdown",
   "metadata": {},
   "source": [
    "3 number sizemults variation"
   ]
  },
  {
   "cell_type": "code",
   "execution_count": 7,
   "metadata": {
    "collapsed": false
   },
   "outputs": [
    {
     "data": {
      "text/plain": [
       "{'sizemults': [[0, 4], [0, 4], [0, 4]]}"
      ]
     },
     "execution_count": 7,
     "metadata": {},
     "output_type": "execute_result"
    }
   ],
   "source": [
    "#Construct a test input dictionary\n",
    "test_dict = {'sizemults': '4 4 4'}\n",
    "\n",
    "#Call iprPy.input.sizemults()\n",
    "iprPy.input.sizemults(test_dict)\n",
    "\n",
    "#Show contents of the dictionary\n",
    "test_dict"
   ]
  },
  {
   "cell_type": "markdown",
   "metadata": {},
   "source": [
    "6 number sizemults variation"
   ]
  },
  {
   "cell_type": "code",
   "execution_count": 8,
   "metadata": {
    "collapsed": false
   },
   "outputs": [
    {
     "data": {
      "text/plain": [
       "{'sizemults': [[-4, 4], [-4, 4], [-4, 4]]}"
      ]
     },
     "execution_count": 8,
     "metadata": {},
     "output_type": "execute_result"
    }
   ],
   "source": [
    "#Construct a test input dictionary\n",
    "test_dict = {'sizemults': '-4 4 -4 4 -4 4'}\n",
    "\n",
    "#Call iprPy.input.sizemults()\n",
    "iprPy.input.sizemults(test_dict)\n",
    "\n",
    "#Show contents of the dictionary\n",
    "test_dict"
   ]
  },
  {
   "cell_type": "markdown",
   "metadata": {},
   "source": [
    "### iprPy.input.units(input_dict, **kwargs)\n",
    "\n",
    "Defines default input/output units if needed.\n",
    "    \n",
    "The input_dict keys used by this function (which can be renamed using the function's keyword arguments):\n",
    "\n",
    "- __length_unit__ -- the unit of length to use. Default is angstrom.\n",
    "\n",
    "- __energy_unit__ -- the unit of energy to use. Default is eV.\n",
    "\n",
    "- __pressure_unit__ -- the unit of pressure to use. Default is GPa.\n",
    "\n",
    "- __force_unit__ -- the unit of force to use. Default is eV/angstrom.\n",
    "\n",
    "Argument:\n",
    "\n",
    "- __input_dict__ -- dictionary containing input parameter key-value pairs\n",
    "\n",
    "Keyword Arguments:\n",
    "\n",
    "- __length_unit__ -- replacement parameter key name for 'length_unit'\n",
    "\n",
    "- __energy_unit__ -- replacement parameter key name for 'energy_unit'\n",
    "\n",
    "- __pressure_unit__ -- replacement parameter key name for 'pressure_unit'\n",
    "\n",
    "- __force_unit__ -- replacement parameter key name for 'force_unit'"
   ]
  },
  {
   "cell_type": "markdown",
   "metadata": {},
   "source": [
    "Default values"
   ]
  },
  {
   "cell_type": "code",
   "execution_count": 9,
   "metadata": {
    "collapsed": false
   },
   "outputs": [
    {
     "data": {
      "text/plain": [
       "{'energy_unit': 'eV',\n",
       " 'force_unit': 'eV/angstrom',\n",
       " 'length_unit': 'angstrom',\n",
       " 'pressure_unit': 'GPa'}"
      ]
     },
     "execution_count": 9,
     "metadata": {},
     "output_type": "execute_result"
    }
   ],
   "source": [
    "#Construct a test input dictionary\n",
    "test_dict = {}\n",
    "\n",
    "#Call iprPy.input.units()\n",
    "iprPy.input.units(test_dict)\n",
    "\n",
    "#Show contents of the dictionary\n",
    "test_dict"
   ]
  },
  {
   "cell_type": "markdown",
   "metadata": {},
   "source": [
    "With some values specified"
   ]
  },
  {
   "cell_type": "code",
   "execution_count": 10,
   "metadata": {
    "collapsed": false
   },
   "outputs": [
    {
     "data": {
      "text/plain": [
       "{'energy_unit': 'J',\n",
       " 'force_unit': 'N',\n",
       " 'length_unit': 'm',\n",
       " 'pressure_unit': 'GPa'}"
      ]
     },
     "execution_count": 10,
     "metadata": {},
     "output_type": "execute_result"
    }
   ],
   "source": [
    "#Construct a test input dictionary\n",
    "test_dict = {'energy_unit': 'J',\n",
    "             'length_unit': 'm',\n",
    "             'force_unit': 'N'}\n",
    "\n",
    "#Call iprPy.input.units()\n",
    "iprPy.input.units(test_dict)\n",
    "\n",
    "#Show contents of the dictionary\n",
    "test_dict"
   ]
  },
  {
   "cell_type": "markdown",
   "metadata": {},
   "source": [
    "### iprPy.input.value(input_dict, key, default_unit=None, default_term=None)\n",
    "\n",
    "Converts a string dictionary value into a float with proper unit conversion.\n",
    "\n",
    "The string can either be:\n",
    "\n",
    "- a number\n",
    "- a number and unit separated by a single space\n",
    "\n",
    "Arguments:\n",
    "\n",
    "- __input_dict__ -- dictionary containing the term to convert\n",
    "\n",
    "- __key__ -- the dictionary key for the term in input_dict\n",
    "\n",
    "- __default_unit__ -- unit to use for the value if not specified in the string.\n",
    "\n",
    "- __default_term__ -- string of the value (and unit) to use if key is not in input_dict.\n",
    "\n",
    "__Note__ that the unit in default_term does not have to correspond to default_unit. This allows for default values that are constant regardless of preferred units.\n",
    "\n",
    "Returns the value as a float in [atomman.unitconvert](https://github.com/usnistgov/atomman/blob/master/docs/reference/atomman.unitconvert.ipynb)'s working units."
   ]
  },
  {
   "cell_type": "code",
   "execution_count": 11,
   "metadata": {
    "collapsed": true
   },
   "outputs": [],
   "source": [
    "#Specifying some values for testing\n",
    "test_dict = {'number_1': '1.0',\n",
    "             'number_2': '5.0 nm'}"
   ]
  },
  {
   "cell_type": "markdown",
   "metadata": {},
   "source": [
    "Test with unitless number (Default working unit of length is Angstroms)."
   ]
  },
  {
   "cell_type": "code",
   "execution_count": 12,
   "metadata": {
    "collapsed": false
   },
   "outputs": [
    {
     "name": "stdout",
     "output_type": "stream",
     "text": [
      "1.0\n"
     ]
    }
   ],
   "source": [
    "print(iprPy.input.value(test_dict, 'number_1', default_unit='angstrom', default_term='32 angstrom'))"
   ]
  },
  {
   "cell_type": "markdown",
   "metadata": {},
   "source": [
    "Test with number and unit."
   ]
  },
  {
   "cell_type": "code",
   "execution_count": 13,
   "metadata": {
    "collapsed": false
   },
   "outputs": [
    {
     "name": "stdout",
     "output_type": "stream",
     "text": [
      "50.0\n"
     ]
    }
   ],
   "source": [
    "print(iprPy.input.value(test_dict, 'number_2', default_unit='angstrom', default_term='32 angstrom'))"
   ]
  },
  {
   "cell_type": "markdown",
   "metadata": {},
   "source": [
    "Test with nonexistent term."
   ]
  },
  {
   "cell_type": "code",
   "execution_count": 14,
   "metadata": {
    "collapsed": false
   },
   "outputs": [
    {
     "name": "stdout",
     "output_type": "stream",
     "text": [
      "32.0\n"
     ]
    }
   ],
   "source": [
    "print(iprPy.input.value(test_dict, 'number_3', default_unit='angstrom', default_term='32 angstrom'))"
   ]
  },
  {
   "cell_type": "markdown",
   "metadata": {},
   "source": [
    "### iprPy.input.system_family(input_dict, **kwargs)\n",
    "\n",
    "Sets system_family (and system_potential) input terms based on a load file.\n",
    "    \n",
    "The input_dict keys used by this function (which can be renamed using the function's keyword arguments):\n",
    "\n",
    "- __load__ -- load command containing a load style and load file path.\n",
    "\n",
    "- __load_file__ -- if given, this is used instead of the load file path specified by the 'load' term. This is useful for prepare scripts as it allows a file to be interpreted prior to copying it to a calculation instance.\n",
    "\n",
    "- __system_family__ -- if the load file contains a system_family term, then it is passed on. Otherwise, a new system_family is created based on the load file's name.\n",
    "\n",
    "- __system_potential__ -- if the load file is associated with a particular potential (i.e. is a calculation record) then a system_potential term is assigned that potential's id.\n",
    "\n",
    "Arguments:\n",
    "\n",
    "- __input_dict__ -- dictionary containing input parameter key-value pairs\n",
    "\n",
    "Keyword Arguments:\n",
    "\n",
    "- __load__ -- replacement parameter key name for 'load'\n",
    "\n",
    "- __load_file__ -- replacement parameter key name for 'load_file'\n",
    "\n",
    "- __system_family__ -- replacement parameter key name for 'system_family'\n",
    "\n",
    "- __system_potential__ -- replacement parameter key name for 'system_potential'"
   ]
  },
  {
   "cell_type": "markdown",
   "metadata": {},
   "source": [
    "Without using load_file"
   ]
  },
  {
   "cell_type": "code",
   "execution_count": 15,
   "metadata": {
    "collapsed": false
   },
   "outputs": [
    {
     "data": {
      "text/plain": [
       "{'load': 'system_model files/A2--W--bcc.json', 'system_family': 'A2--W--bcc'}"
      ]
     },
     "execution_count": 15,
     "metadata": {},
     "output_type": "execute_result"
    }
   ],
   "source": [
    "#Construct a test input dictionary\n",
    "test_dict = {'load': 'system_model files/A2--W--bcc.json'}\n",
    "\n",
    "#Call iprPy.input.system_family()\n",
    "iprPy.input.system_family(test_dict)\n",
    "\n",
    "#Show contents of the dictionary\n",
    "test_dict"
   ]
  },
  {
   "cell_type": "markdown",
   "metadata": {},
   "source": [
    "With using load_file"
   ]
  },
  {
   "cell_type": "code",
   "execution_count": 16,
   "metadata": {
    "collapsed": false
   },
   "outputs": [
    {
     "data": {
      "text/plain": [
       "{'load': 'system_model files/A2--W--bcc.json',\n",
       " 'load_file': '{\\n    \"crystal-prototype\": {\\n        \"key\": \"bc13827d-e1e6-4d70-8c3a-59399ad78b0f\",\\n        \"id\": \"A2--W--bcc\",\\n        \"name\": \"body-centered cubic\", \\n        \"prototype\": \"W\", \\n        \"Pearson-symbol\": \"cI2\", \\n        \"Strukturbericht\": \"A2\",\\n        \"space-group\": {\\n            \"number\": 229, \\n            \"Hermann-Maguin\": \"I m -3 m\", \\n            \"Schoenflies\": \"O^9_h\", \\n            \"Wykoff\": {\\n                \"letter\": \"a\", \\n                \"multiplicity\": 2\\n            }\\n        }, \\n        \"atomic-system\": {\\n            \"cell\": {\\n                \"cubic\": {\\n                    \"a\": {\\n                        \"value\": 1, \\n                        \"unit\": \"scaled\"\\n                    }\\n                }\\n            }, \\n            \"atom\": [\\n                {\\n                    \"component\": 1, \\n                    \"position\": {\\n                        \"value\": [\\n                            0.0, \\n                            0.0, \\n                            0.0\\n                        ], \\n                        \"unit\": \"scaled\"\\n                    }\\n                }, \\n                {\\n                    \"component\": 1, \\n                    \"position\": {\\n                        \"value\": [\\n                            0.5, \\n                            0.5, \\n                            0.5\\n                        ], \\n                        \"unit\": \"scaled\"\\n                    }\\n                }\\n            ]\\n        }\\n    }\\n}',\n",
       " 'system_family': 'A2--W--bcc'}"
      ]
     },
     "execution_count": 16,
     "metadata": {},
     "output_type": "execute_result"
    }
   ],
   "source": [
    "#Open and read file\n",
    "with open('files/A2--W--bcc.json') as f:\n",
    "    load_file = f.read()\n",
    "\n",
    "#Construct a test input dictionary\n",
    "test_dict = {'load': 'system_model files/A2--W--bcc.json',\n",
    "             'load_file': load_file}\n",
    "\n",
    "#Call iprPy.input.system_family()\n",
    "iprPy.input.system_family(test_dict)\n",
    "\n",
    "#Show contents of the dictionary\n",
    "test_dict"
   ]
  },
  {
   "cell_type": "markdown",
   "metadata": {
    "collapsed": true
   },
   "source": [
    "### iprPy.input.ucell(input_dict, **kwargs)\n",
    "\n",
    "Builds an atomman.System based on input dict terms for loading an atomic configuration. \n",
    "\n",
    "The input_dict keys used by this function (which can be renamed using the function's keyword arguments):\n",
    "\n",
    "- __load__ -- load command containing a load style and load file path.\n",
    "\n",
    "- __load_options__ -- any additional options associated with loading the load file as an atomman.System.\n",
    "\n",
    "- __box_parameters__ -- the string of box parameters to scale the system by. Optional if the load file already is properly scaled.\n",
    "\n",
    "- __symbols__ -- the string list of symbols associated with the system's atomic types. Optional if the load file contains symbols information, in which case symbols is assigned those values.\n",
    "\n",
    "- __ucell__ -- this is where the resulting system is saved.\n",
    "\n",
    "Arguments:\n",
    "\n",
    "- __input_dict__ -- dictionary containing input parameter key-value pairs\n",
    "\n",
    "Keyword Arguments:\n",
    "\n",
    "- __load__ -- replacement parameter key name for 'load'\n",
    "\n",
    "- __load_options__ -- replacement parameter key name for 'load_options'\n",
    "\n",
    "- __box_parameters__ -- replacement parameter key name for 'box_parameters'\n",
    "\n",
    "- __symbols__ -- replacement parameter key name for 'symbols'\n",
    "\n",
    "- __ucell__ -- replacement parameter key name for 'ucell'"
   ]
  },
  {
   "cell_type": "markdown",
   "metadata": {},
   "source": [
    "Show with only load"
   ]
  },
  {
   "cell_type": "code",
   "execution_count": 17,
   "metadata": {
    "collapsed": false
   },
   "outputs": [
    {
     "data": {
      "text/plain": [
       "{'box_parameters': None,\n",
       " 'load': 'system_model files/A2--W--bcc.json',\n",
       " 'load_options': None,\n",
       " 'symbols': [None],\n",
       " 'ucell': <atomman.core.System.System at 0x9b241d0>}"
      ]
     },
     "execution_count": 17,
     "metadata": {},
     "output_type": "execute_result"
    }
   ],
   "source": [
    "#Construct a test input dictionary\n",
    "test_dict = {'load': 'system_model files/A2--W--bcc.json'}\n",
    "\n",
    "#Call iprPy.input.ucell()\n",
    "iprPy.input.ucell(test_dict)\n",
    "\n",
    "#Show contents of the dictionary\n",
    "test_dict"
   ]
  },
  {
   "cell_type": "code",
   "execution_count": 18,
   "metadata": {
    "collapsed": false
   },
   "outputs": [
    {
     "name": "stdout",
     "output_type": "stream",
     "text": [
      "avect =  [ 1.000,  0.000,  0.000]\n",
      "bvect =  [ 0.000,  1.000,  0.000]\n",
      "cvect =  [ 0.000,  0.000,  1.000]\n",
      "origin = [ 0.000,  0.000,  0.000]\n",
      "natoms = 2\n",
      "natypes = 1\n",
      "     id |   atype |  pos[0] |  pos[1] |  pos[2]\n",
      "      0 |       1 |   0.000 |   0.000 |   0.000\n",
      "      1 |       1 |   0.500 |   0.500 |   0.500\n"
     ]
    }
   ],
   "source": [
    "#Show resulting ucell\n",
    "print(test_dict['ucell'])"
   ]
  },
  {
   "cell_type": "markdown",
   "metadata": {},
   "source": [
    "Show with more terms"
   ]
  },
  {
   "cell_type": "code",
   "execution_count": 19,
   "metadata": {
    "collapsed": false
   },
   "outputs": [
    {
     "data": {
      "text/plain": [
       "{'box_parameters': '2.8665 2.8665 2.8665 angstrom',\n",
       " 'load': 'system_model files/A2--W--bcc.json',\n",
       " 'load_options': None,\n",
       " 'symbols': ['Fe'],\n",
       " 'ucell': <atomman.core.System.System at 0x9b24128>}"
      ]
     },
     "execution_count": 19,
     "metadata": {},
     "output_type": "execute_result"
    }
   ],
   "source": [
    "#Construct a test input dictionary\n",
    "test_dict = {'load': 'system_model files/A2--W--bcc.json',\n",
    "             'symbols': 'Fe',\n",
    "             'box_parameters': '2.8665 2.8665 2.8665 angstrom'}\n",
    "\n",
    "#Call iprPy.input.ucell()\n",
    "iprPy.input.ucell(test_dict)\n",
    "\n",
    "#Show contents of the dictionary\n",
    "test_dict"
   ]
  },
  {
   "cell_type": "code",
   "execution_count": 20,
   "metadata": {
    "collapsed": false
   },
   "outputs": [
    {
     "name": "stdout",
     "output_type": "stream",
     "text": [
      "avect =  [ 2.866,  0.000,  0.000]\n",
      "bvect =  [ 0.000,  2.866,  0.000]\n",
      "cvect =  [ 0.000,  0.000,  2.866]\n",
      "origin = [ 0.000,  0.000,  0.000]\n",
      "natoms = 2\n",
      "natypes = 1\n",
      "     id |   atype |  pos[0] |  pos[1] |  pos[2]\n",
      "      0 |       1 |   0.000 |   0.000 |   0.000\n",
      "      1 |       1 |   1.433 |   1.433 |   1.433\n"
     ]
    }
   ],
   "source": [
    "#Show resulting ucell\n",
    "print(test_dict['ucell'])"
   ]
  },
  {
   "cell_type": "markdown",
   "metadata": {
    "collapsed": false
   },
   "source": [
    "### iprPy.input.initialsystem(input_dict, **kwargs)\n",
    "\n",
    "Creates an initialsystem by manipulating a ucell system with the rotation specified by axes terms, atomic shift specified by atomshift, and system supersizing by sizemults.\n",
    "\n",
    "The input_dict keys used by this function (which can be renamed using the function's keyword arguments):\n",
    "\n",
    "- __ucell__ -- unmodified system to manipulate\n",
    "\n",
    "- __x_axis, y_axis, z_axis__ -- three orthogonal axes vectors by which to rotate\n",
    "\n",
    "- __atomshift__ -- scaled vector to shift all atoms by\n",
    "\n",
    "- __sizemults__ -- 3x2 array of ints indicating how to create a supercell\n",
    "\n",
    "- __initialsystem__ -- the resulting system after manipulation is saved here\n",
    "\n",
    "Arguments:\n",
    "\n",
    "- __input_dict__ -- dictionary containing input parameter key-value pairs\n",
    "\n",
    "Keyword Arguments:\n",
    "\n",
    "- __ucell__ -- replacement parameter key name for 'ucell'\n",
    "\n",
    "- __x_axis__ -- replacement parameter key name for 'x_axis'\n",
    "\n",
    "- __y_axis__ -- replacement parameter key name for 'y_axis'\n",
    "\n",
    "- __z_axis__ -- replacement parameter key name for 'z_axis'\n",
    "\n",
    "- __atomshift__ -- replacement parameter key name for 'atomshift'\n",
    "\n",
    "- __sizemults__ -- replacement parameter key name for 'sizemults'\n",
    "\n",
    "- __initialsystem__ -- replacement parameter key name for 'initialsystem'"
   ]
  },
  {
   "cell_type": "markdown",
   "metadata": {},
   "source": [
    "Show with only ucell"
   ]
  },
  {
   "cell_type": "code",
   "execution_count": 21,
   "metadata": {
    "collapsed": false
   },
   "outputs": [
    {
     "data": {
      "text/plain": [
       "{'atomshift': [0.0, 0.0, 0.0],\n",
       " 'initialsystem': <atomman.core.System.System at 0x9b244e0>,\n",
       " 'sizemults': [[0, 1], [0, 1], [0, 1]],\n",
       " 'ucell': <atomman.core.System.System at 0x9b24128>,\n",
       " 'x_axis': [1.0, 0.0, 0.0],\n",
       " 'y_axis': [0.0, 1.0, 0.0],\n",
       " 'z_axis': [0.0, 0.0, 1.0]}"
      ]
     },
     "execution_count": 21,
     "metadata": {},
     "output_type": "execute_result"
    }
   ],
   "source": [
    "#Construct a test input dictionary\n",
    "test_dict = {'ucell': test_dict['ucell']}\n",
    "\n",
    "#Call iprPy.input.initialsystem()\n",
    "iprPy.input.initialsystem(test_dict)\n",
    "\n",
    "#Show contents of the dictionary\n",
    "test_dict"
   ]
  },
  {
   "cell_type": "code",
   "execution_count": 22,
   "metadata": {
    "collapsed": false
   },
   "outputs": [
    {
     "name": "stdout",
     "output_type": "stream",
     "text": [
      "avect =  [ 2.866,  0.000,  0.000]\n",
      "bvect =  [ 0.000,  2.866,  0.000]\n",
      "cvect =  [ 0.000,  0.000,  2.866]\n",
      "origin = [ 0.000,  0.000,  0.000]\n",
      "natoms = 2\n",
      "natypes = 1\n",
      "     id |   atype |  pos[0] |  pos[1] |  pos[2]\n",
      "      0 |       1 |   0.000 |   0.000 |   0.000\n",
      "      1 |       1 |   1.433 |   1.433 |   1.433\n"
     ]
    }
   ],
   "source": [
    "#Show resulting initialsystem\n",
    "print(test_dict['initialsystem'])"
   ]
  },
  {
   "cell_type": "markdown",
   "metadata": {},
   "source": [
    "Show with more terms"
   ]
  },
  {
   "cell_type": "code",
   "execution_count": 25,
   "metadata": {
    "collapsed": false
   },
   "outputs": [
    {
     "data": {
      "text/plain": [
       "{'atomshift': [0.1, 0.1, 0.1],\n",
       " 'initialsystem': <atomman.core.System.System at 0x9b24978>,\n",
       " 'sizemults': [[0, 1], [0, 1], [0, 2]],\n",
       " 'ucell': <atomman.core.System.System at 0x9b24128>,\n",
       " 'x_axis': [1.0, 1.0, 0.0],\n",
       " 'y_axis': [-1.0, 1.0, 0.0],\n",
       " 'z_axis': [0.0, 0.0, 1.0]}"
      ]
     },
     "execution_count": 25,
     "metadata": {},
     "output_type": "execute_result"
    }
   ],
   "source": [
    "#Construct a test input dictionary\n",
    "test_dict = {'ucell':     test_dict['ucell'],\n",
    "             'x_axis':    ' 1 1 0',\n",
    "             'y_axis':    '-1 1 0',\n",
    "             'z_axis':    ' 0 0 1',\n",
    "             'atomshift': '0.1 0.1 0.1',\n",
    "             'sizemults': '1 1 2'}\n",
    "\n",
    "#Call iprPy.input.initialsystem()\n",
    "iprPy.input.initialsystem(test_dict)\n",
    "\n",
    "#Show contents of the dictionary\n",
    "test_dict"
   ]
  },
  {
   "cell_type": "code",
   "execution_count": 24,
   "metadata": {
    "collapsed": false
   },
   "outputs": [
    {
     "name": "stdout",
     "output_type": "stream",
     "text": [
      "avect =  [ 4.054,  0.000,  0.000]\n",
      "bvect =  [ 0.000,  4.054,  0.000]\n",
      "cvect =  [ 0.000,  0.000,  5.733]\n",
      "origin = [ 0.000,  0.000,  0.000]\n",
      "natoms = 8\n",
      "natypes = 1\n",
      "     id |   atype |  pos[0] |  pos[1] |  pos[2]\n",
      "      0 |       1 |   0.405 |   2.432 |   1.720\n",
      "      1 |       1 |   0.405 |   0.405 |   0.287\n",
      "      2 |       1 |   2.432 |   0.405 |   1.720\n",
      "      3 |       1 |   2.432 |   2.432 |   0.287\n",
      "      4 |       1 |   0.405 |   2.432 |   4.586\n",
      "      5 |       1 |   0.405 |   0.405 |   3.153\n",
      "      6 |       1 |   2.432 |   0.405 |   4.586\n",
      "      7 |       1 |   2.432 |   2.432 |   3.153\n"
     ]
    }
   ],
   "source": [
    "#Show resulting initialsystem\n",
    "print(test_dict['initialsystem'])"
   ]
  }
 ],
 "metadata": {
  "kernelspec": {
   "display_name": "Python [Root]",
   "language": "python",
   "name": "Python [Root]"
  },
  "language_info": {
   "codemirror_mode": {
    "name": "ipython",
    "version": 2
   },
   "file_extension": ".py",
   "mimetype": "text/x-python",
   "name": "python",
   "nbconvert_exporter": "python",
   "pygments_lexer": "ipython2",
   "version": "2.7.12"
  }
 },
 "nbformat": 4,
 "nbformat_minor": 0
}
