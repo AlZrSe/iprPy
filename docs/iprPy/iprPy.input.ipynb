{
 "cells": [
  {
   "cell_type": "markdown",
   "metadata": {},
   "source": [
    "# iprPy.input Submodule"
   ]
  },
  {
   "cell_type": "markdown",
   "metadata": {},
   "source": [
    "## Introduction\n",
    "\n",
    "The iprPy.input submodule contains tools that allow for common treatment of parameter terms found in the calculation input parameter files. These help in speeding up development and provide a means of adding consistency across different calculations."
   ]
  },
  {
   "cell_type": "markdown",
   "metadata": {},
   "source": [
    "## Functions\n",
    "\n",
    "- [ipotentials()][1] -- iterates through a selection of interatomic potential records in a database.\n",
    "- [iprototypes()][2] -- iterates through a selection of crystal prototype records in a database.\n",
    "- [isymbolscombos()][3] -- iterates all possible element model symbol combinations given a potential and crystal prototype.\n",
    "\n",
    "[1]: #iprPy.prepare.ipotentials(database,-element=None,-name=None,-pair_style=None,-record_type='LAMMPS-potential')\n",
    "[2]: #iprPy.prepare.iprototypes(database,-natypes=None,-name=None,-spacegroup=None,-crystalfamily=None,-pearson=None,-record_type='crystal-prototype')\n",
    "[3]: #iprPy.prepare.isymbolscombos(proto_record,-potential)"
   ]
  },
  {
   "cell_type": "code",
   "execution_count": 1,
   "metadata": {
    "collapsed": true
   },
   "outputs": [],
   "source": []
  },
  {
   "cell_type": "code",
   "execution_count": 3,
   "metadata": {
    "collapsed": false
   },
   "outputs": [
    {
     "name": "stdout",
     "output_type": "stream",
     "text": [
      "test ho\n"
     ]
    }
   ],
   "source": []
  },
  {
   "cell_type": "code",
   "execution_count": null,
   "metadata": {
    "collapsed": true
   },
   "outputs": [],
   "source": []
  },
  {
   "cell_type": "code",
   "execution_count": null,
   "metadata": {
    "collapsed": true
   },
   "outputs": [],
   "source": []
  }
 ],
 "metadata": {
  "kernelspec": {
   "display_name": "Python [Root]",
   "language": "python",
   "name": "Python [Root]"
  },
  "language_info": {
   "codemirror_mode": {
    "name": "ipython",
    "version": 2
   },
   "file_extension": ".py",
   "mimetype": "text/x-python",
   "name": "python",
   "nbconvert_exporter": "python",
   "pygments_lexer": "ipython2",
   "version": "2.7.12"
  }
 },
 "nbformat": 4,
 "nbformat_minor": 0
}
