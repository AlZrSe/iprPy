{
 "cells": [
  {
   "cell_type": "markdown",
   "metadata": {},
   "source": [
    "# iprPy.input Submodule"
   ]
  },
  {
   "cell_type": "markdown",
   "metadata": {},
   "source": [
    "## Introduction\n",
    "\n",
    "The iprPy.input submodule contains tools that allow for common treatment of parameter terms found in the calculation input parameter files. These help in speeding up development and provide a means of adding consistency across different calculations."
   ]
  },
  {
   "cell_type": "markdown",
   "metadata": {},
   "source": [
    "## Functions\n",
    "\n",
    "- [potential()][1] processes input terms associated with an interatomic potential.\n",
    "\n",
    "- [sizemults()][2] processes input terms associated with system size multipliers.\n",
    "\n",
    "- [system_load()][3] processes input terms associated with loading an atomic system.\n",
    "\n",
    "- [system_manipulate()][4] processes input terms associated with further manipulations to an atomic system.\n",
    "\n",
    "- [units()][5] processes input terms associated with defining the units on values for input and output.\n",
    "\n",
    "- [value()][6] processes a numeric input term that may be given with specific units.\n",
    "\n",
    "\n",
    "[1]: #iprPy.input.potential(input_dict,-**kwargs)\n",
    "[2]: #iprPy.input.sizemults(input_dict,-**kwargs)\n",
    "[3]: #iprPy.input.system_load(input_dict,-**kwargs)\n",
    "[4]: #iprPy.input.system_manipulate(input_dict,-**kwargs)\n",
    "[5]: #iprPy.input.units(input_dict,-**kwargs)\n",
    "[6]: #iprPy.input.value(input_dict,-key,-default_unit=None,-default_term=None)"
   ]
  },
  {
   "cell_type": "markdown",
   "metadata": {},
   "source": [
    "### Demonstration"
   ]
  },
  {
   "cell_type": "markdown",
   "metadata": {},
   "source": [
    "Library imports"
   ]
  },
  {
   "cell_type": "code",
   "execution_count": 1,
   "metadata": {
    "collapsed": false
   },
   "outputs": [],
   "source": [
    "from __future__ import print_function\n",
    "import iprPy"
   ]
  },
  {
   "cell_type": "markdown",
   "metadata": {
    "collapsed": false
   },
   "source": [
    "### iprPy.input.potential(input_dict, **kwargs)\n",
    "\n",
    "Handles input parameters associated with a LAMMPS potential.\n",
    "\n",
    "1. Checks that 'potential_file' is given in input file\n",
    "\n",
    "2. Sets default value of '' to 'potential_dir' term if needed.\n",
    "\n",
    "3. Saves atomman.lammps.Potential object of the potential to the input_dict as 'potential'.\n",
    "\n",
    "Argument:\n",
    "\n",
    "- __input_dict__ -- dictionary containing input parameter key-value pairs\n",
    "\n",
    "Keyword Arguments:\n",
    "\n",
    "- __potential__ -- replacement parameter key name for 'potential'\n",
    "- __potential_file__ -- replacement parameter key name for 'potential_file'\n",
    "- __potential_dir__ -- replacement parameter key name for 'potential_dir'"
   ]
  },
  {
   "cell_type": "code",
   "execution_count": 2,
   "metadata": {
    "collapsed": false
   },
   "outputs": [
    {
     "data": {
      "text/plain": [
       "{'potential': <atomman.lammps.Potential.Potential at 0x9af1780>,\n",
       " 'potential_dir': 'files/2002--Mishin-Y--Ni-Al',\n",
       " 'potential_file': 'files/2002--Mishin-Y--Ni-Al.json'}"
      ]
     },
     "execution_count": 2,
     "metadata": {},
     "output_type": "execute_result"
    }
   ],
   "source": [
    "#Construct a test input dictionary\n",
    "test_dict = {'potential_file': 'files/2002--Mishin-Y--Ni-Al.json',\n",
    "             'potential_dir':  'files/2002--Mishin-Y--Ni-Al'}\n",
    "\n",
    "#Call iprPy.input.potential()\n",
    "iprPy.input.potential(test_dict)\n",
    "\n",
    "#Show contents of the dictionary\n",
    "test_dict"
   ]
  },
  {
   "cell_type": "markdown",
   "metadata": {
    "collapsed": true
   },
   "source": [
    "### iprPy.input.sizemults(input_dict, **kwargs)\n",
    "\n",
    "Handles input parameters associated with system size multipliers.\n",
    "\n",
    "1. Returns numpy 3x2 array of ints associated with the 'sizemults' input parameter string value.    \n",
    "\n",
    "Argument:\n",
    "\n",
    "- __input_dict__ -- dictionary containing input parameter key-value pairs\n",
    "\n",
    "Keyword Arguments:\n",
    "\n",
    "- __sizemults__ -- replacement parameter key name for 'sizemults'"
   ]
  },
  {
   "cell_type": "code",
   "execution_count": 3,
   "metadata": {
    "collapsed": false
   },
   "outputs": [
    {
     "data": {
      "text/plain": [
       "[[0, 4], [0, 4], [0, 4]]"
      ]
     },
     "execution_count": 3,
     "metadata": {},
     "output_type": "execute_result"
    }
   ],
   "source": [
    "# 3 number sizemults variation\n",
    "test_dict = {'sizemults': '4 4 4'}\n",
    "\n",
    "#Call iprPy.input.sizemults()\n",
    "iprPy.input.sizemults(test_dict)"
   ]
  },
  {
   "cell_type": "code",
   "execution_count": 4,
   "metadata": {
    "collapsed": false
   },
   "outputs": [
    {
     "data": {
      "text/plain": [
       "[[-4, 4], [-4, 4], [-4, 4]]"
      ]
     },
     "execution_count": 4,
     "metadata": {},
     "output_type": "execute_result"
    }
   ],
   "source": [
    "# 6 number sizemults variation\n",
    "test_dict = {'sizemults': '-4 4 -4 4 -4 4'}\n",
    "\n",
    "#Call iprPy.input.sizemults()\n",
    "iprPy.input.sizemults(test_dict)"
   ]
  },
  {
   "cell_type": "markdown",
   "metadata": {
    "collapsed": false
   },
   "source": [
    "### iprPy.input.system_load(input_dict, **kwargs)\n",
    "\n",
    "Handles input parameters associated with the initial loading of an atomic system.\n",
    "    \n",
    "1. Checks that 'load' is given in input file\n",
    "\n",
    "2. Sets default value of None to 'load_options' term if needed.\n",
    "\n",
    "3. Sets default value of None to 'box_parameters' term if needed.\n",
    "\n",
    "4. Sets default value of None to 'symbols' term if needed.\n",
    "\n",
    "5. Identifies 'system_family' value from the 'load' file if needed.\n",
    "\n",
    "6. Sets 'system_potential' value if listed in 'load' file.\n",
    "\n",
    "7. Constructs unit cell system 'ucell' by opening 'load' file and applying 'box_parameters' if needed.\n",
    "\n",
    "Argument:\n",
    "\n",
    "- __input_dict__ -- dictionary containing input parameter key-value pairs\n",
    "\n",
    "Keyword Arguments:\n",
    "\n",
    "- __load__ -- replacement parameter key name for 'load'\n",
    "\n",
    "- __load_options__ -- replacement parameter key name for 'load_options'\n",
    "\n",
    "- __box_parameters__ -- replacement parameter key name for 'box_parameters'\n",
    "\n",
    "- __symbols__ -- replacement parameter key name for 'symbols'\n",
    "\n",
    "- __system_family__ -- replacement parameter key name for 'system_family'\n",
    "\n",
    "- __system_potential__ -- replacement parameter key name for 'system_potential'\n",
    "\n",
    "- __ucell__ -- replacement parameter key name for 'ucell'Handles input parameters associated with a LAMMPS potential."
   ]
  },
  {
   "cell_type": "code",
   "execution_count": 5,
   "metadata": {
    "collapsed": false
   },
   "outputs": [
    {
     "data": {
      "text/plain": [
       "{'box_parameters': None,\n",
       " 'load': 'system_model files/A2--W--bcc.json',\n",
       " 'load_options': None,\n",
       " 'symbols': [None],\n",
       " 'system_family': 'A2--W--bcc',\n",
       " 'ucell': <atomman.core.System.System at 0x3d42400>}"
      ]
     },
     "execution_count": 5,
     "metadata": {},
     "output_type": "execute_result"
    }
   ],
   "source": [
    "#Test with only load\n",
    "test_dict = {'load': 'system_model files/A2--W--bcc.json'}\n",
    "\n",
    "#Call iprPy.input.system_load()\n",
    "iprPy.input.system_load(test_dict)\n",
    "\n",
    "#Show contents of the dictionary\n",
    "test_dict"
   ]
  },
  {
   "cell_type": "code",
   "execution_count": 6,
   "metadata": {
    "collapsed": false
   },
   "outputs": [
    {
     "name": "stdout",
     "output_type": "stream",
     "text": [
      "avect =  [ 1.000,  0.000,  0.000]\n",
      "bvect =  [ 0.000,  1.000,  0.000]\n",
      "cvect =  [ 0.000,  0.000,  1.000]\n",
      "origin = [ 0.000,  0.000,  0.000]\n",
      "natoms = 2\n",
      "natypes = 1\n",
      "     id |   atype |  pos[0] |  pos[1] |  pos[2]\n",
      "      0 |       1 |   0.000 |   0.000 |   0.000\n",
      "      1 |       1 |   0.500 |   0.500 |   0.500\n"
     ]
    }
   ],
   "source": [
    "#Show resulting ucell\n",
    "print(test_dict['ucell'])"
   ]
  },
  {
   "cell_type": "code",
   "execution_count": 7,
   "metadata": {
    "collapsed": false
   },
   "outputs": [
    {
     "data": {
      "text/plain": [
       "{'box_parameters': '2.8665 2.8665 2.8665 angstrom',\n",
       " 'load': 'system_model files/A2--W--bcc.json',\n",
       " 'load_options': None,\n",
       " 'symbols': ['Fe'],\n",
       " 'system_family': 'A2--W--bcc',\n",
       " 'ucell': <atomman.core.System.System at 0x9b135c0>}"
      ]
     },
     "execution_count": 7,
     "metadata": {},
     "output_type": "execute_result"
    }
   ],
   "source": [
    "#Test with more terms\n",
    "test_dict = {'load': 'system_model files/A2--W--bcc.json',\n",
    "             'symbols': 'Fe',\n",
    "             'box_parameters': '2.8665 2.8665 2.8665 angstrom'}\n",
    "\n",
    "#Call iprPy.input.system_load()\n",
    "iprPy.input.system_load(test_dict)\n",
    "\n",
    "#Show contents of the dictionary\n",
    "test_dict"
   ]
  },
  {
   "cell_type": "code",
   "execution_count": 8,
   "metadata": {
    "collapsed": false
   },
   "outputs": [
    {
     "name": "stdout",
     "output_type": "stream",
     "text": [
      "avect =  [ 2.866,  0.000,  0.000]\n",
      "bvect =  [ 0.000,  2.866,  0.000]\n",
      "cvect =  [ 0.000,  0.000,  2.866]\n",
      "origin = [ 0.000,  0.000,  0.000]\n",
      "natoms = 2\n",
      "natypes = 1\n",
      "     id |   atype |  pos[0] |  pos[1] |  pos[2]\n",
      "      0 |       1 |   0.000 |   0.000 |   0.000\n",
      "      1 |       1 |   1.433 |   1.433 |   1.433\n"
     ]
    }
   ],
   "source": [
    "#Show resulting ucell\n",
    "print(test_dict['ucell'])"
   ]
  },
  {
   "cell_type": "markdown",
   "metadata": {
    "collapsed": true
   },
   "source": [
    "### iprPy.input.system_manipulate(input_dict, **kwargs)\n",
    "\n",
    "Handles input parameters associated with manipulating a system.\n",
    "\n",
    "1. Takes the 'ucell' unit cell system.\n",
    "\n",
    "2. Sets default values to 'x_axis', 'y_axis', and 'z_axis' if needed.\n",
    "\n",
    "3. Sets default value of '0 0 0' to 'atomshift' term if needed.\n",
    "\n",
    "4. Sets default value of '1 1 1' to 'sizemults' term if needed.\n",
    "\n",
    "5. Applies rotation specified by axes terms, shifts all atoms by 'atomshift' and supersizes by 'sizemults' to 'ucell'. The resulting system is saved to the 'initialsystem' term.\n",
    "\n",
    "Argument:\n",
    "\n",
    "- __input_dict__ -- dictionary containing input parameter key-value pairs\n",
    "\n",
    "Keyword Arguments:\n",
    "\n",
    "- __ucell__ -- replacement parameter key name for 'ucell'\n",
    "\n",
    "- __x_axis__ -- replacement parameter key name for 'x_axis'\n",
    "\n",
    "- __y_axis__ -- replacement parameter key name for 'y_axis'\n",
    "\n",
    "- __z_axis__ -- replacement parameter key name for 'z_axis'\n",
    "\n",
    "- __atomshift__ -- replacement parameter key name for 'atomshift'\n",
    "\n",
    "- __sizemults__ -- replacement parameter key name for 'sizemults'\n",
    "\n",
    "- __initialsystem__ -- replacement parameter key name for 'initialsystem'"
   ]
  },
  {
   "cell_type": "code",
   "execution_count": 9,
   "metadata": {
    "collapsed": false
   },
   "outputs": [
    {
     "data": {
      "text/plain": [
       "{'atomshift': [0.0, 0.0, 0.0],\n",
       " 'initialsystem': <atomman.core.System.System at 0x9af1940>,\n",
       " 'sizemults': [[0, 1], [0, 1], [0, 1]],\n",
       " 'ucell': <atomman.core.System.System at 0x9b135c0>,\n",
       " 'x_axis': [1.0, 0.0, 0.0],\n",
       " 'y_axis': [0.0, 1.0, 0.0],\n",
       " 'z_axis': [0.0, 0.0, 1.0]}"
      ]
     },
     "execution_count": 9,
     "metadata": {},
     "output_type": "execute_result"
    }
   ],
   "source": [
    "#Test with only ucell\n",
    "test_dict = {'ucell': test_dict['ucell']}\n",
    "\n",
    "#Call iprPy.input.system_manipulate()\n",
    "iprPy.input.system_manipulate(test_dict)\n",
    "\n",
    "#Show contents of the dictionary\n",
    "test_dict"
   ]
  },
  {
   "cell_type": "code",
   "execution_count": 10,
   "metadata": {
    "collapsed": false
   },
   "outputs": [
    {
     "name": "stdout",
     "output_type": "stream",
     "text": [
      "avect =  [ 2.866,  0.000,  0.000]\n",
      "bvect =  [ 0.000,  2.866,  0.000]\n",
      "cvect =  [ 0.000,  0.000,  2.866]\n",
      "origin = [ 0.000,  0.000,  0.000]\n",
      "natoms = 2\n",
      "natypes = 1\n",
      "     id |   atype |  pos[0] |  pos[1] |  pos[2]\n",
      "      0 |       1 |   0.000 |   0.000 |   0.000\n",
      "      1 |       1 |   1.433 |   1.433 |   1.433\n"
     ]
    }
   ],
   "source": [
    "#Show resulting initialsystem\n",
    "print(test_dict['initialsystem'])"
   ]
  },
  {
   "cell_type": "code",
   "execution_count": 11,
   "metadata": {
    "collapsed": false
   },
   "outputs": [
    {
     "data": {
      "text/plain": [
       "{'atomshift': [0.10000000000000001, 0.10000000000000001, 0.10000000000000001],\n",
       " 'initialsystem': <atomman.core.System.System at 0x9af18d0>,\n",
       " 'sizemults': [[0, 1], [0, 1], [0, 2]],\n",
       " 'ucell': <atomman.core.System.System at 0x9b135c0>,\n",
       " 'x_axis': [1.0, 1.0, 0.0],\n",
       " 'y_axis': [-1.0, 1.0, 0.0],\n",
       " 'z_axis': [0.0, 0.0, 1.0]}"
      ]
     },
     "execution_count": 11,
     "metadata": {},
     "output_type": "execute_result"
    }
   ],
   "source": [
    "#Test with more parameters\n",
    "test_dict = {'ucell':     test_dict['ucell'],\n",
    "             'x_axis':    ' 1 1 0',\n",
    "             'y_axis':    '-1 1 0',\n",
    "             'z_axis':    ' 0 0 1',\n",
    "             'atomshift': '0.1 0.1 0.1',\n",
    "             'sizemults': '1 1 2'}\n",
    "\n",
    "#Call iprPy.input.system_manipulate()\n",
    "iprPy.input.system_manipulate(test_dict)\n",
    "\n",
    "#Show contents of the dictionary\n",
    "test_dict"
   ]
  },
  {
   "cell_type": "code",
   "execution_count": 12,
   "metadata": {
    "collapsed": false
   },
   "outputs": [
    {
     "name": "stdout",
     "output_type": "stream",
     "text": [
      "avect =  [ 4.054,  0.000,  0.000]\n",
      "bvect =  [ 0.000,  4.054,  0.000]\n",
      "cvect =  [ 0.000,  0.000,  5.733]\n",
      "origin = [ 0.000,  0.000,  0.000]\n",
      "natoms = 8\n",
      "natypes = 1\n",
      "     id |   atype |  pos[0] |  pos[1] |  pos[2]\n",
      "      0 |       1 |   0.405 |   2.432 |   1.720\n",
      "      1 |       1 |   0.405 |   0.405 |   0.287\n",
      "      2 |       1 |   2.432 |   0.405 |   1.720\n",
      "      3 |       1 |   2.432 |   2.432 |   0.287\n",
      "      4 |       1 |   0.405 |   2.432 |   4.586\n",
      "      5 |       1 |   0.405 |   0.405 |   3.153\n",
      "      6 |       1 |   2.432 |   0.405 |   4.586\n",
      "      7 |       1 |   2.432 |   2.432 |   3.153\n"
     ]
    }
   ],
   "source": [
    "#Show resulting initialsystem\n",
    "print(test_dict['initialsystem'])"
   ]
  },
  {
   "cell_type": "markdown",
   "metadata": {},
   "source": [
    "### iprPy.input.units(input_dict, **kwargs)\n",
    "\n",
    "Handles input parameters associated with the input/output units.\n",
    "\n",
    "1. Sets default value of 'angstrom' to 'length_unit' term if needed.\n",
    "\n",
    "2. Sets default value of 'eV' to 'energy_unit' term if needed.\n",
    "\n",
    "3. Sets default value of 'GPa' to 'pressure_unit' term if needed.\n",
    "\n",
    "4. Sets default value of 'eV/angstrom' to 'force_unit' term if needed.\n",
    "\n",
    "Argument:\n",
    "\n",
    "- __input_dict__ -- dictionary containing input parameter key-value pairs\n",
    "\n",
    "Keyword Arguments:\n",
    "\n",
    "- __length_unit__ -- replacement parameter key name for 'length_unit'\n",
    "\n",
    "- __energy_unit__ -- replacement parameter key name for 'energy_unit'\n",
    "\n",
    "- __pressure_unit__ -- replacement parameter key name for 'pressure_unit'\n",
    "\n",
    "- __force_unit__ -- replacement parameter key name for 'force_unit'"
   ]
  },
  {
   "cell_type": "code",
   "execution_count": 13,
   "metadata": {
    "collapsed": false
   },
   "outputs": [
    {
     "data": {
      "text/plain": [
       "{'energy_unit': 'eV',\n",
       " 'force_unit': 'eV/angstrom',\n",
       " 'length_unit': 'angstrom',\n",
       " 'pressure_unit': 'GPa'}"
      ]
     },
     "execution_count": 13,
     "metadata": {},
     "output_type": "execute_result"
    }
   ],
   "source": [
    "#Default settings\n",
    "test_dict = {}\n",
    "\n",
    "#Call iprPy.input.units()\n",
    "iprPy.input.units(test_dict)\n",
    "\n",
    "#Show contents of the dictionary\n",
    "test_dict"
   ]
  },
  {
   "cell_type": "code",
   "execution_count": 14,
   "metadata": {
    "collapsed": false
   },
   "outputs": [
    {
     "data": {
      "text/plain": [
       "{'energy_unit': 'J',\n",
       " 'force_unit': 'N',\n",
       " 'length_unit': 'm',\n",
       " 'pressure_unit': 'GPa'}"
      ]
     },
     "execution_count": 14,
     "metadata": {},
     "output_type": "execute_result"
    }
   ],
   "source": [
    "#Specifying some of the values\n",
    "test_dict = {'energy_unit': 'J',\n",
    "             'length_unit': 'm',\n",
    "             'force_unit': 'N'}\n",
    "\n",
    "#Call iprPy.input.units()\n",
    "iprPy.input.units(test_dict)\n",
    "\n",
    "#Show contents of the dictionary\n",
    "test_dict"
   ]
  },
  {
   "cell_type": "markdown",
   "metadata": {},
   "source": [
    "### iprPy.input.value(input_dict, key, default_unit=None, default_term=None)\n",
    "\n",
    "Converts a string dictionary value into a float with proper unit conversion.\n",
    "\n",
    "The string can either be:\n",
    "\n",
    "- a number\n",
    "- a number and unit separated by a single space\n",
    "\n",
    "Arguments:\n",
    "\n",
    "- __input_dict__ -- dictionary containing the term to convert\n",
    "\n",
    "- __key__ -- the dictionary key for the term in input_dict\n",
    "\n",
    "- __default_unit__ -- unit to use for the value if not specified in the string.\n",
    "\n",
    "- __default_term__ -- string of the value (and unit) to use if key is not in input_dict.\n",
    "\n",
    "__Note__ that the unit in default_term does not have to correspond to default_unit. This allows for default values that are constant regardless of preferred units.\n",
    "\n",
    "Returns the value as a float in [atomman.unitconvert](https://github.com/usnistgov/atomman/blob/master/docs/reference/atomman.unitconvert.ipynb)'s working units."
   ]
  },
  {
   "cell_type": "code",
   "execution_count": 15,
   "metadata": {
    "collapsed": true
   },
   "outputs": [],
   "source": [
    "#Specifying some values for testing\n",
    "test_dict = {'number_1': '1.0',\n",
    "             'number_2': '5.0 nm'}"
   ]
  },
  {
   "cell_type": "markdown",
   "metadata": {},
   "source": [
    "Test with unitless number (Default working unit of length is Angstroms)."
   ]
  },
  {
   "cell_type": "code",
   "execution_count": 16,
   "metadata": {
    "collapsed": false
   },
   "outputs": [
    {
     "data": {
      "text/plain": [
       "1.0"
      ]
     },
     "execution_count": 16,
     "metadata": {},
     "output_type": "execute_result"
    }
   ],
   "source": [
    "iprPy.input.value(test_dict, 'number_1', default_unit='angstrom', default_term='32 angstrom')"
   ]
  },
  {
   "cell_type": "markdown",
   "metadata": {},
   "source": [
    "Test with number and unit."
   ]
  },
  {
   "cell_type": "code",
   "execution_count": 17,
   "metadata": {
    "collapsed": false
   },
   "outputs": [
    {
     "data": {
      "text/plain": [
       "50.0"
      ]
     },
     "execution_count": 17,
     "metadata": {},
     "output_type": "execute_result"
    }
   ],
   "source": [
    "iprPy.input.value(test_dict, 'number_2', default_unit='angstrom', default_term='32 angstrom')"
   ]
  },
  {
   "cell_type": "markdown",
   "metadata": {},
   "source": [
    "Test with nonexistent term."
   ]
  },
  {
   "cell_type": "code",
   "execution_count": 18,
   "metadata": {
    "collapsed": false
   },
   "outputs": [
    {
     "data": {
      "text/plain": [
       "32.0"
      ]
     },
     "execution_count": 18,
     "metadata": {},
     "output_type": "execute_result"
    }
   ],
   "source": [
    "iprPy.input.value(test_dict, 'number_3', default_unit='angstrom', default_term='32 angstrom')"
   ]
  }
 ],
 "metadata": {
  "kernelspec": {
   "display_name": "Python 2",
   "language": "python",
   "name": "python2"
  },
  "language_info": {
   "codemirror_mode": {
    "name": "ipython",
    "version": 2
   },
   "file_extension": ".py",
   "mimetype": "text/x-python",
   "name": "python",
   "nbconvert_exporter": "python",
   "pygments_lexer": "ipython2",
   "version": "2.7.11"
  }
 },
 "nbformat": 4,
 "nbformat_minor": 0
}
