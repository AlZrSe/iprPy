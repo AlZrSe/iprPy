{
 "cells": [
  {
   "cell_type": "markdown",
   "metadata": {},
   "source": [
    "# iprPy.tools Submodule"
   ]
  },
  {
   "cell_type": "markdown",
   "metadata": {},
   "source": [
    "## Introduction\n",
    "\n",
    "The iprPy.tools submodule contains a number of generic utility functions that are useful throughout the iprPy framework."
   ]
  },
  {
   "cell_type": "markdown",
   "metadata": {},
   "source": [
    "## Functions\n",
    "\n",
    "- [aslist()][1] returns a given term as a list. \n",
    "\n",
    "- [iaslist()][2] iterates over items in a term as if they were a list.\n",
    "\n",
    "- [filltemplate()][3] uses delimiters to identify and fill in terms contained within a template file.\n",
    "\n",
    "- [parseinput()][4] reads through an input parameter file and returns a dictionary of parameter terms.\n",
    "\n",
    "[1]: #iprPy.tools.aslist(term)\n",
    "[2]: #iprPy.tools.iaslist(term)\n",
    "[3]: #iprPy.tools.filltemplate(template,-variable,-s_delimiter,-e_delimiter)\n",
    "[4]: #iprPy.tools.parseinput(infile,-singularkeys=[],-allsingular=False)"
   ]
  },
  {
   "cell_type": "markdown",
   "metadata": {},
   "source": [
    "## Demonstration"
   ]
  },
  {
   "cell_type": "markdown",
   "metadata": {},
   "source": [
    "Libary imports"
   ]
  },
  {
   "cell_type": "code",
   "execution_count": 1,
   "metadata": {
    "collapsed": false
   },
   "outputs": [],
   "source": [
    "from __future__ import print_function\n",
    "import iprPy"
   ]
  },
  {
   "cell_type": "markdown",
   "metadata": {},
   "source": [
    "### iprPy.tools.aslist(term)\n",
    "\n",
    "Given a term that may or may not be a list, returns it as a list."
   ]
  },
  {
   "cell_type": "code",
   "execution_count": 2,
   "metadata": {
    "collapsed": false
   },
   "outputs": [
    {
     "data": {
      "text/plain": [
       "[1]"
      ]
     },
     "execution_count": 2,
     "metadata": {},
     "output_type": "execute_result"
    }
   ],
   "source": [
    "t = 1\n",
    "iprPy.tools.aslist(t)"
   ]
  },
  {
   "cell_type": "code",
   "execution_count": 3,
   "metadata": {
    "collapsed": false
   },
   "outputs": [
    {
     "data": {
      "text/plain": [
       "[1, 4, 12]"
      ]
     },
     "execution_count": 3,
     "metadata": {},
     "output_type": "execute_result"
    }
   ],
   "source": [
    "t = (1, 4, 12)\n",
    "iprPy.tools.aslist(t)"
   ]
  },
  {
   "cell_type": "code",
   "execution_count": 4,
   "metadata": {
    "collapsed": false
   },
   "outputs": [
    {
     "data": {
      "text/plain": [
       "['abba']"
      ]
     },
     "execution_count": 4,
     "metadata": {},
     "output_type": "execute_result"
    }
   ],
   "source": [
    "t = 'abba'\n",
    "iprPy.tools.aslist(t)"
   ]
  },
  {
   "cell_type": "code",
   "execution_count": 5,
   "metadata": {
    "collapsed": false
   },
   "outputs": [
    {
     "data": {
      "text/plain": [
       "['abba', 'dooby']"
      ]
     },
     "execution_count": 5,
     "metadata": {},
     "output_type": "execute_result"
    }
   ],
   "source": [
    "t = ['abba', 'dooby']\n",
    "iprPy.tools.aslist(t)"
   ]
  },
  {
   "cell_type": "markdown",
   "metadata": {},
   "source": [
    "### iprPy.tools.iaslist(term)\n",
    "\n",
    "An iterator version of aslist."
   ]
  },
  {
   "cell_type": "code",
   "execution_count": 6,
   "metadata": {
    "collapsed": false
   },
   "outputs": [
    {
     "name": "stdout",
     "output_type": "stream",
     "text": [
      "one\n"
     ]
    }
   ],
   "source": [
    "t = 'one'\n",
    "for i in iprPy.tools.iaslist(t):\n",
    "    print(i)"
   ]
  },
  {
   "cell_type": "code",
   "execution_count": 7,
   "metadata": {
    "collapsed": false
   },
   "outputs": [
    {
     "name": "stdout",
     "output_type": "stream",
     "text": [
      "one\n",
      "at\n",
      "a\n",
      "time\n"
     ]
    }
   ],
   "source": [
    "t = ['one', 'at', 'a', 'time']\n",
    "for i in iprPy.tools.iaslist(t):\n",
    "    print(i)"
   ]
  },
  {
   "cell_type": "markdown",
   "metadata": {},
   "source": [
    "### iprPy.tools.filltemplate(template, variable, s_delimiter, e_delimiter)\n",
    "\n",
    "Takes a template and fills in values for delimited template variable names. Returns a list of strings representing the filled-out file.\n",
    "    \n",
    "Arguments:\n",
    "- __template__ -- string, list of strings or file-like object representing a template file.\n",
    "- __variable__ -- dictionary giving the values to fill in for each tempate variable name.\n",
    "- __s_delimiter__ -- leading delimiter for identifying the template variable names.\n",
    "- __s_delimiter__ -- trailing delimiter for identifying the template variable names."
   ]
  },
  {
   "cell_type": "code",
   "execution_count": 8,
   "metadata": {
    "collapsed": false
   },
   "outputs": [
    {
     "name": "stdout",
     "output_type": "stream",
     "text": [
      "Look at this awesome template!\n",
      "Isn't it the best that you have ever seen?\n",
      "Can you contain your excitement?\n"
     ]
    }
   ],
   "source": [
    "#Yay for mad libs!\n",
    "variable = {'adjective1': 'awesome',\n",
    "            'adjective2': 'best', \n",
    "            'noun':       'excitement'}\n",
    "\n",
    "template = '\\n'.join([\"Look at this <adjective1> template!\",\n",
    "                      \"Isn't it the <adjective2> that you have ever seen?\",\n",
    "                      \"Can you contain your <noun>?\"])\n",
    "\n",
    "print(iprPy.tools.filltemplate(template, variable, '<', '>'))"
   ]
  },
  {
   "cell_type": "markdown",
   "metadata": {},
   "source": [
    "### iprPy.tools.parseinput(infile, singularkeys=[], allsingular=False)\n",
    "\n",
    "Parses an input file and returns a dictionary of parameter terms.\n",
    "    \n",
    "These are the parsing rules:\n",
    "\n",
    "- The first word in a line is taken as the key name of the parameter.\n",
    "\n",
    "- All other words are joined together into a single string value for the \n",
    "  parameter.\n",
    "  \n",
    "- Words that start with # indicate comments with that word and all words to\n",
    "  the right of it in the same line being ignored.\n",
    "  \n",
    "- Any lines with less than two non-comment terms are ignored. In other words, \n",
    "  blank lines and lines with keys but not values are skipped over.    \n",
    "  \n",
    "- Multiple values can be assigned to the same term by repeating the key \n",
    "  name on a different line. \n",
    "  \n",
    "- The keyword arguments can be used to issue an error if multiple values are \n",
    "  trying to be assigned to terms that should only have a single values. \n",
    "\n",
    "Argument:\n",
    "\n",
    "- __infile__ -- string or file-like-object to parse out parameter terms. \n",
    "\n",
    "Keyword Arguments:\n",
    "\n",
    "- __singularkeys__ -- list of term key names that should not have multiple values.  \n",
    "\n",
    "- __allsingular__ -- boolean indicating if all term keys should be singular."
   ]
  },
  {
   "cell_type": "code",
   "execution_count": 9,
   "metadata": {
    "collapsed": false
   },
   "outputs": [
    {
     "data": {
      "text/plain": [
       "{'multi': ['Look at me!', 'Look at me!', 'Look at me!'],\n",
       " 'single': 'all  in  one!'}"
      ]
     },
     "execution_count": 9,
     "metadata": {},
     "output_type": "execute_result"
    }
   ],
   "source": [
    "infile = \"\"\"\n",
    "#This is a comment\n",
    "\n",
    "multi       Look at me!    \n",
    "multi       Look at me!\n",
    "multi       Look at me!\n",
    "multi       #Don't look at me!\n",
    "\n",
    "single      all  in  one!\n",
    "\"\"\"\n",
    "iprPy.tools.parseinput(infile)"
   ]
  },
  {
   "cell_type": "markdown",
   "metadata": {},
   "source": [
    "Show that singularkeys can be used to issue an error if multiple values are given for the indicated terms:"
   ]
  },
  {
   "cell_type": "code",
   "execution_count": 10,
   "metadata": {
    "collapsed": false
   },
   "outputs": [
    {
     "name": "stdout",
     "output_type": "stream",
     "text": [
      "ValueError: multiple values found for singular input parameter multi\n"
     ]
    }
   ],
   "source": [
    "try:\n",
    "    print(iprPy.tools.parseinput(infile, singularkeys=['multi']))\n",
    "except ValueError as e:\n",
    "    print('ValueError: ' + str(e))"
   ]
  },
  {
   "cell_type": "markdown",
   "metadata": {},
   "source": [
    "### iprPy.tools.termtodict(term, keys)\n",
    "\n",
    "Parses a string term and returns a dictionary of parameter terms based on the list of keys given.\n",
    "    \n",
    "Arguments:\n",
    "\n",
    "- __term__ -- string term to parse\n",
    "\n",
    "- __keys__ -- list of keys to search for"
   ]
  },
  {
   "cell_type": "code",
   "execution_count": 11,
   "metadata": {
    "collapsed": false
   },
   "outputs": [
    {
     "data": {
      "text/plain": [
       "{'string': 'to parse', 'this': 'is a'}"
      ]
     },
     "execution_count": 11,
     "metadata": {},
     "output_type": "execute_result"
    }
   ],
   "source": [
    "test = 'this is a string to parse'\n",
    "keys = ['this', 'string']\n",
    "iprPy.tools.termtodict(test, keys)"
   ]
  },
  {
   "cell_type": "code",
   "execution_count": null,
   "metadata": {
    "collapsed": true
   },
   "outputs": [],
   "source": []
  }
 ],
 "metadata": {
  "anaconda-cloud": {},
  "kernelspec": {
   "display_name": "Python 2",
   "language": "python",
   "name": "python2"
  },
  "language_info": {
   "codemirror_mode": {
    "name": "ipython",
    "version": 2
   },
   "file_extension": ".py",
   "mimetype": "text/x-python",
   "name": "python",
   "nbconvert_exporter": "python",
   "pygments_lexer": "ipython2",
   "version": "2.7.11"
  }
 },
 "nbformat": 4,
 "nbformat_minor": 0
}
