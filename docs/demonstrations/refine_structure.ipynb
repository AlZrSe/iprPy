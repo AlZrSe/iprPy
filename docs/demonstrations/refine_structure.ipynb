{
 "cells": [
  {
   "cell_type": "markdown",
   "metadata": {
    "deletable": true,
    "editable": true
   },
   "source": [
    "# refine_structure Calculation Demonstration\n",
    "\n",
    "- - -"
   ]
  },
  {
   "cell_type": "markdown",
   "metadata": {
    "deletable": true,
    "editable": true
   },
   "source": [
    "**Lucas M. Hale**, [lucas.hale@nist.gov](mailto:lucas.hale@nist.gov?Subject=ipr-demo), *Materials Science and Engineering Division, NIST*.\n",
    "\n",
    "**Chandler A. Becker**, [chandler.becker@nist.gov](mailto:chandler.becker@nist.gov?Subject=ipr-demo), *Office of Data and Informatics, NIST*.\n",
    "\n",
    "**Zachary T. Trautt**, [zachary.trautt@nist.gov](mailto:zachary.trautt@nist.gov?Subject=ipr-demo), *Materials Measurement Science Division, NIST*.\n",
    "\n",
    "Version: 2017-07-24\n",
    "\n",
    "[Disclaimers](http://www.nist.gov/public_affairs/disclaimer.cfm) \n",
    " \n",
    "- - -"
   ]
  },
  {
   "cell_type": "markdown",
   "metadata": {
    "deletable": true,
    "editable": true
   },
   "source": [
    "## Introduction\n",
    "\n",
    "The refine_structure calculation refines the lattice parameters of an orthogonal system (crystal structure) by calculating the elastic constants, $C_{ij}$, using small strains, and then iterating the box dimensions towards a given pressure. In refining the lattice parameter values, the box dimensions are allowed to relax, but the relative positions of the atoms within the box are held fixed. \n",
    "\n",
    "This calculations provides a quick tool for obtaining both the lattice and elastic constants for a given structure.\n",
    "\n",
    "__Disclaimer #1__: With this method there is no guarantee that the resulting parameters are for a stable structure. Allowing internal relaxations may result in different values for some structures. Additionally, some transformation paths may be restricted from occurring due to symmetry, i.e. initially cubic structures may remain cubic instead of relaxing to a non-cubic structure.\n",
    "\n",
    "__Disclaimer #2__: The elastic constants are estimated using small strains. Depending on the potential, the values for the elastic constants may vary with the size of the strain. This can come about either if the strain exceeds the linear elastic regime, or if the potential energy is not continuous to the fourth derivative. \n",
    "\n",
    "- - -"
   ]
  },
  {
   "cell_type": "markdown",
   "metadata": {
    "deletable": true,
    "editable": true
   },
   "source": [
    "## Method and Theory\n",
    "\n",
    "The math in this section uses Voigt notation, where indicies i,j correspond to 1=xx, 2=yy, 3=zz, 4=yz, 5=xz, and 6=xy, and x, y and z are orthogonal box vectors.\n",
    "\n",
    "An initial system (and corresponding unit cell system) is supplied with box dimensions, $a_i^0$, close to the equilibrium values. A LAMMPS simulation is performed that evaluates the system's pressures, $P_{i}$, for the initial system as given, and subjected to twelve different strain states corresponding to one of $\\epsilon_{i}$ being given a value of $\\frac{\\Delta \\epsilon}{2}$, where $\\Delta \\epsilon$ is the strain range parameter. Using the $P_{i}$ values obtained from the strained states, the $C_{ij}$ matrix for the system is estimated as\n",
    "\n",
    "$$ C_{ij} \\approx - \\frac{P_i(\\epsilon_j=\\frac{\\Delta \\epsilon}{2}) - P_i(\\epsilon_j=-\\frac{\\Delta \\epsilon}{2})}{\\Delta \\epsilon}.$$\n",
    "\n",
    "The negative out front comes from the fact that the system-wide stress state is $\\sigma_i = -P_i$. Using $C_{ij}$, an attempt is made to compute the elastic compliance matrix as $S_{ij} = C_{ij}^{-1}$. If successful, new box dimensions are estimated using $S_{ij}$, $a_i^0$, and $P_i$ for the unstrained system \n",
    "\n",
    "$$ a_i = \\frac{a_i^0}{1 - (\\sum_{j=1}^3{S_{ij} P_j})}.$$\n",
    "\n",
    "The system is updated using the new box dimensions. The process is repeated until either $a_i$ converge less than a specified tolerance, $a_i$ diverge from $a_i^0$ greater than some limit, or convergence is not reached after 100 iterations. If the calculation is successful, the final $a_i$ and corresponding $C_{ij}$ are reported.\n",
    "\n",
    "- - -"
   ]
  },
  {
   "cell_type": "markdown",
   "metadata": {
    "deletable": true,
    "editable": true
   },
   "source": [
    "## Demonstration"
   ]
  },
  {
   "cell_type": "markdown",
   "metadata": {
    "deletable": true,
    "editable": true
   },
   "source": [
    "### 1. Library imports"
   ]
  },
  {
   "cell_type": "markdown",
   "metadata": {
    "deletable": true,
    "editable": true
   },
   "source": [
    "Import libraries needed by the calculation. The external libraries used are:\n",
    "\n",
    "- [numpy](http://www.numpy.org/)\n",
    "\n",
    "- [DataModelDict](https://github.com/usnistgov/DataModelDict)\n",
    "\n",
    "- [atomman](https://github.com/usnistgov/atomman)\n",
    "\n",
    "- [iprPy](https://github.com/usnistgov/iprPy)"
   ]
  },
  {
   "cell_type": "code",
   "execution_count": 1,
   "metadata": {
    "collapsed": true,
    "deletable": true,
    "editable": true
   },
   "outputs": [],
   "source": [
    "# Standard library imports\n",
    "from __future__ import division, absolute_import, print_function\n",
    "import os\n",
    "import sys\n",
    "import uuid\n",
    "import shutil\n",
    "import datetime\n",
    "from copy import deepcopy\n",
    "\n",
    "# http://www.numpy.org/\n",
    "import numpy as np  \n",
    "\n",
    "# https://github.com/usnistgov/DataModelDict \n",
    "from DataModelDict import DataModelDict as DM\n",
    "\n",
    "# https://github.com/usnistgov/atomman \n",
    "import atomman as am\n",
    "import atomman.lammps as lmp\n",
    "import atomman.unitconvert as uc\n",
    "\n",
    "# https://github.com/usnistgov/iprPy\n",
    "import iprPy"
   ]
  },
  {
   "cell_type": "markdown",
   "metadata": {
    "deletable": true,
    "editable": true
   },
   "source": [
    "### 2. Assign values for the calculation's run parameters"
   ]
  },
  {
   "cell_type": "markdown",
   "metadata": {
    "deletable": true,
    "editable": true
   },
   "source": [
    "#### 2.0 Set the calculation's working directory"
   ]
  },
  {
   "cell_type": "code",
   "execution_count": 2,
   "metadata": {
    "collapsed": false,
    "deletable": true,
    "editable": true
   },
   "outputs": [],
   "source": [
    "calc_name = 'refine_structure'\n",
    "\n",
    "# Check current working directory\n",
    "cwd_name = os.path.basename(os.getcwd())\n",
    "\n",
    "# Change working directory if needed\n",
    "if cwd_name != calc_name:\n",
    "    if not os.path.isdir(calc_name):\n",
    "        os.mkdir(calc_name)\n",
    "    os.chdir(calc_name)"
   ]
  },
  {
   "cell_type": "markdown",
   "metadata": {
    "deletable": true,
    "editable": true
   },
   "source": [
    "#### 2.1 Specify system-specific paths\n",
    "\n",
    "- __lammps_command__ is the LAMMPS command to use (required).\n",
    "\n",
    "- __mpi_command__ MPI command for running LAMMPS in parallel. A value of None will run simulations serially.\n",
    "\n",
    "- __lib_directory__ defines the relative path to the iprPy library. This makes it easier to define paths to reference records later."
   ]
  },
  {
   "cell_type": "code",
   "execution_count": 3,
   "metadata": {
    "collapsed": true,
    "deletable": true,
    "editable": true
   },
   "outputs": [],
   "source": [
    "lammps_command = 'lmp_serial'\n",
    "mpi_command = None\n",
    "lib_directory = '../../../library'"
   ]
  },
  {
   "cell_type": "markdown",
   "metadata": {
    "deletable": true,
    "editable": true
   },
   "source": [
    "#### 2.2 Specify the prototype system\n",
    "\n",
    "- __system__ is an atomman.System to perform the scan on (required). \n",
    "\n",
    "- __ucell__ is an atomman.System representing a fundamental unit cell of the system (required).\n",
    "\n",
    "- __prototype_name__ gives the name of the crystal_prototype reference record in the iprPy library to use for ucell. \n",
    "\n",
    "- __prototype_path__ gives the path to the crystal_prototype reference record to use.\n",
    "\n",
    "- __box_parameters__ defines the initial guess box parameters to scale ucell and system by.\n",
    "\n",
    "- __sizemults__ list of three integers specifying how many times the ucell vectors of $a$, $b$ and $c$ are replicated in creating system."
   ]
  },
  {
   "cell_type": "code",
   "execution_count": 4,
   "metadata": {
    "collapsed": false,
    "deletable": true,
    "editable": true
   },
   "outputs": [
    {
     "name": "stdout",
     "output_type": "stream",
     "text": [
      "# of atoms in ucell = 4\n",
      "# of atoms in system = 108\n"
     ]
    }
   ],
   "source": [
    "prototype_name = 'A1--Cu--fcc'\n",
    "box_parameters = [3.5, 3.5, 3.5]\n",
    "sizemults = [3,3,3]\n",
    "\n",
    "# Define prototype_path using lib_directory and prototype_name\n",
    "prototype_path = os.path.abspath(os.path.join(lib_directory,\n",
    "                                              'crystal_prototype',\n",
    "                                              prototype_name+'.json'))\n",
    "\n",
    "# Create ucell by loading prototype record\n",
    "ucell = am.load('system_model', prototype_path)[0]\n",
    "print('# of atoms in ucell =', ucell.natoms)\n",
    "\n",
    "# Rescale ucell using box_parameters\n",
    "ucell.box_set(a=box_parameters[0], b=box_parameters[1], c=box_parameters[2], scale=True)\n",
    "\n",
    "# Generate system by supersizing ucell\n",
    "system = am.supersize(ucell, *sizemults)\n",
    "print('# of atoms in system =', system.natoms)"
   ]
  },
  {
   "cell_type": "markdown",
   "metadata": {
    "deletable": true,
    "editable": true
   },
   "source": [
    "#### 2.3 Specify the potenital and elemental symbols\n",
    "\n",
    "- __potential__ is the atomman.lammps.Potential representation of a LAMMPS implemented potential to use (required).\n",
    "\n",
    "- __symbols__ is a list of the elemental model symbols of potential to associate with the unique atom types of system (required).\n",
    "\n",
    "- __potential_name__ gives the name of the potential_LAMMPS reference record in the iprPy library to use for potential. \n",
    "\n",
    "- __potential_path__ gives the path to the potential_LAMMPS reference record to use.\n",
    "\n",
    "- __potential_dir_path__ gives the path for the folder containing the artifacts associated with the potential (i.e. eam.alloy file)\n",
    "\n"
   ]
  },
  {
   "cell_type": "code",
   "execution_count": 5,
   "metadata": {
    "collapsed": false,
    "deletable": true,
    "editable": true
   },
   "outputs": [
    {
     "name": "stdout",
     "output_type": "stream",
     "text": [
      "Successfully loaded potential 1999--Mishin-Y--Ni--LAMMPS--ipr1\n"
     ]
    }
   ],
   "source": [
    "potential_name = '1999--Mishin-Y--Ni--LAMMPS--ipr1'\n",
    "symbols = ['Ni']\n",
    "\n",
    "# Define potential_path and potential_dir_path using lib_directory and potential_name\n",
    "potential_dir_path = os.path.abspath(os.path.join(lib_directory, \n",
    "                                                  'potential_LAMMPS',\n",
    "                                                  potential_name))\n",
    "potential_path = potential_dir_path + '.json'\n",
    "\n",
    "# Create potential by loading potential_LAMMPS record\n",
    "with open(potential_path) as f:\n",
    "    potential = lmp.Potential(f, potential_dir_path)\n",
    "print('Successfully loaded potential', potential)"
   ]
  },
  {
   "cell_type": "markdown",
   "metadata": {
    "deletable": true,
    "editable": true
   },
   "source": [
    "#### 2.4 Specify calculation-specific run parameters\n",
    "\n",
    "- __strainrange__ specifies the $\\Delta \\epsilon$ strain range to use in estimating $C_{ij}$.\n",
    "\n",
    "- __pressure_xx__ gives the xx component of the pressure to equilibriate the system to.\n",
    "\n",
    "- __pressure_yy__ gives the yy component of the pressure to equilibriate the system to.\n",
    "\n",
    "- __pressure_zz__ gives the zz component of the pressure to equilibriate the system to.\n",
    "\n",
    "- __convergence_tol__ is the relative tolerance to use in identifying if the lattice constants have converged. \n",
    "\n",
    "- __divergence_scale__ is a factor for identifying if the lattice constants have diverged from the original guess. Divergence is identified if $a > a^0 d$ or $a < a^0 / d$, where d is divergence_scale."
   ]
  },
  {
   "cell_type": "code",
   "execution_count": 6,
   "metadata": {
    "collapsed": true,
    "deletable": true,
    "editable": true
   },
   "outputs": [],
   "source": [
    "strainrange = 1e-7\n",
    "pressure_xx = uc.set_in_units(0.0, 'GPa')\n",
    "pressure_yy = uc.set_in_units(0.0, 'GPa')\n",
    "pressure_zz = uc.set_in_units(0.0, 'GPa')\n",
    "convergence_tol = 1e-11\n",
    "divergence_scale = 3."
   ]
  },
  {
   "cell_type": "markdown",
   "metadata": {
    "deletable": true,
    "editable": true
   },
   "source": [
    "### 3. Define calculation function(s) and generate template LAMMPS script(s)"
   ]
  },
  {
   "cell_type": "markdown",
   "metadata": {
    "deletable": true,
    "editable": true
   },
   "source": [
    "#### 3.1 cij.template\n",
    "\n",
    "This is a template LAMMPS script used by the calc_cij() function for evaluating the elastic constants for a system by using small strains."
   ]
  },
  {
   "cell_type": "code",
   "execution_count": 7,
   "metadata": {
    "collapsed": true,
    "deletable": true,
    "editable": true
   },
   "outputs": [],
   "source": [
    "with open('cij.template', 'w') as f:\n",
    "    f.write(\"\"\"# LAMMPS input script that evaluates the Virial pressure of a system both as\n",
    "# it was given, and with small strains applied.\n",
    "# This can be used to estimate the 0 K elastic constants of the system.\n",
    "\n",
    "<atomman_system_info>\n",
    "\n",
    "<atomman_pair_info>\n",
    "\n",
    "# Specify strain range and number of points to examine in the range\n",
    "variable delta equal <delta>\n",
    "variable steps equal <steps>\n",
    "variable deltax equal ${delta}/(${steps}-1)\n",
    "\n",
    "# Specify variables of the initial configuration's dimensions\n",
    "variable lx0 equal $(lx)\n",
    "variable ly0 equal $(ly)\n",
    "variable lz0 equal $(lz)\n",
    "\n",
    "# Specify the thermo properties to calculate\n",
    "variable peatom equal pe/atoms\n",
    "thermo_style custom step lx ly lz yz xz xy pxx pyy pzz pyz pxz pxy v_peatom pe\n",
    "thermo_modify format float %.13e\n",
    "\n",
    "# Compute properties for the initial configuration\n",
    "run 0\n",
    "\n",
    "# Compute properties for normal x-direction strains\n",
    "variable aratio equal 1-${delta}/2.+(v_a-1)*${deltax}\n",
    "variable xmax equal v_aratio*${lx0}\n",
    "label loopa\n",
    "variable a loop ${steps}\n",
    "change_box all x final 0 ${xmax} remap units box\n",
    "run 0\n",
    "next a\n",
    "jump cij.in loopa\n",
    "change_box all x final 0 ${lx0} remap units box\n",
    "\n",
    "# Compute properties for normal y-direction strains\n",
    "variable bratio equal 1-${delta}/2.+(v_b-1)*${deltax}\n",
    "variable ymax equal v_bratio*${ly0}\n",
    "label loopb\n",
    "variable b loop ${steps}\n",
    "change_box all y final 0 ${ymax} remap units box\n",
    "run 0\n",
    "next b\n",
    "jump cij.in loopb\n",
    "change_box all y final 0 ${ly0} remap units box\n",
    "\n",
    "# Compute properties for normal z-direction strains\n",
    "variable cratio equal 1-${delta}/2.+(v_c-1)*${deltax}\n",
    "variable zmax equal v_cratio*${lz0}\n",
    "label loopc\n",
    "variable c loop ${steps}\n",
    "change_box all z final 0 ${zmax} remap units box\n",
    "run 0\n",
    "next c\n",
    "jump cij.in loopc\n",
    "change_box all z final 0 ${lz0} remap units box\n",
    "\n",
    "change_box all triclinic\n",
    "\n",
    "# Compute properties for yz shear strains\n",
    "variable eyz equal (-${delta}/2.+(v_d-1)*${deltax})*${lz0}\n",
    "label loopd\n",
    "variable d loop ${steps}\n",
    "change_box all yz final ${eyz} remap units box\n",
    "run 0\n",
    "next d\n",
    "jump cij.in loopd\n",
    "change_box all yz final 0 remap units box\n",
    "\n",
    "# Compute properties for xz shear strains\n",
    "variable exz equal (-${delta}/2.+(v_e-1)*${deltax})*${lz0}\n",
    "label loope\n",
    "variable e loop ${steps}\n",
    "change_box all xz final ${exz} remap units box\n",
    "run 0\n",
    "next e\n",
    "jump cij.in loope\n",
    "change_box all xz final 0 remap units box\n",
    "\n",
    "# Compute properties for xy shear strains\n",
    "variable exy equal (-${delta}/2.+(v_f-1)*${deltax})*${ly0}\n",
    "label loopf\n",
    "variable f loop ${steps}\n",
    "change_box all xy final ${exy} remap units box\n",
    "run 0\n",
    "next f\n",
    "jump cij.in loopf\n",
    "change_box all xy final 0 remap units box\n",
    "\"\"\")"
   ]
  },
  {
   "cell_type": "markdown",
   "metadata": {
    "deletable": true,
    "editable": true
   },
   "source": [
    "#### 3.2 quick_a_Cij()\n",
    "\n",
    "This function updates a system's box dimensions by estimating $C_{ij}$ and iteratively moving towards the specified pressure state. \n",
    "\n",
    "Arguments:\n",
    "\n",
    "- __lammps_command__ is the LAMMPS command to use.\n",
    "\n",
    "- __system__ is an atomman.System to perform the scan on.\n",
    "\n",
    "- __potential__ is the atomman.lammps.Potential representation of a LAMMPS implemented potential to use.\n",
    "\n",
    "- __symbols__ is a list of element-model symbols for the Potential that correspond to system's atypes.\n",
    "    \n",
    "- __mpi_command__ MPI command for running LAMMPS in parallel. Default value is None (serial run).  \n",
    "\n",
    "- __ucell__ is an atomman.System representing a fundamental unit cell of the system. If not given, ucell will be taken as system.\n",
    "\n",
    "- __p_xx__ gives the xx component of the pressure to equilibriate the system to. Default value is 0.0.\n",
    "\n",
    "- __p_yy__ gives the yy component of the pressure to equilibriate the system to. Default value is 0.0.\n",
    "\n",
    "- __p_zz__ gives the zz component of the pressure to equilibriate the system to. Default value is 0.0.\n",
    "\n",
    "- __delta__ specifies the $\\Delta \\epsilon$ strain range to use in estimating $C_{ij}$. Default value is 1e-5.\n",
    "\n",
    "- __tol__ is the relative tolerance to use in identifying if the lattice constants have converged. Default value is 1e-10.\n",
    "\n",
    "- __diverge_scale__ is a factor for identifying if the lattice constants have diverged from the original guess. Divergence is identified if $a > a^0 d$ or $a < a^0 / d$, where d is divergence_scale. Default value is 3."
   ]
  },
  {
   "cell_type": "code",
   "execution_count": 8,
   "metadata": {
    "collapsed": false,
    "deletable": true,
    "editable": true
   },
   "outputs": [],
   "source": [
    "def quick_a_Cij(lammps_command, system, potential, symbols,\n",
    "                mpi_command=None, ucell=None, strainrange=1e-6,\n",
    "                p_xx=0.0, p_yy=0.0, p_zz=0.0, tol=1e-10,\n",
    "                diverge_scale=3.):\n",
    "    \"\"\"\n",
    "    Quickly refines static orthorhombic system by evaluating the elastic\n",
    "    constants and the virial pressure.\n",
    "    \n",
    "    Parameters\n",
    "    ----------\n",
    "    lammps_command :str\n",
    "        Command for running LAMMPS.\n",
    "    system : atomman.System\n",
    "        The system to perform the calculation on.\n",
    "    potential : atomman.lammps.Potential\n",
    "        The LAMMPS implemented potential to use.\n",
    "    symbols : list of str\n",
    "        The list of element-model symbols for the Potential that correspond to\n",
    "        system's atypes.\n",
    "    mpi_command : str, optional\n",
    "        The MPI command for running LAMMPS in parallel.  If not given, LAMMPS\n",
    "        will run serially.\n",
    "    ucell : atomman.System, optional\n",
    "        The fundamental unit cell correspodning to system.  This is used to\n",
    "        convert system dimensions to cell dimensions. If not given, ucell will\n",
    "        be taken as system.\n",
    "    strainrange : float, optional\n",
    "        The small strain value to apply when calculating the elastic\n",
    "        constants (default is 1e-6).\n",
    "    p_xx : float, optional\n",
    "        The value to relax the x tensile pressure component to (default is\n",
    "        0.0).\n",
    "    p_yy : float, optional\n",
    "        The value to relax the y tensile pressure component to (default is\n",
    "        0.0).\n",
    "    p_zz : float, optional\n",
    "        The value to relax the z tensile pressure component to (default is\n",
    "        0.0).\n",
    "    tol : float, optional\n",
    "        The relative tolerance used to determine if the lattice constants have\n",
    "        converged (default is 1e-10).\n",
    "    diverge_scale : float, optional\n",
    "        Factor to identify if the system's dimensions have diverged.  Divergence\n",
    "        is identified if either any current box dimension is greater than the\n",
    "        original dimension multiplied by diverge_scale, or if any current box\n",
    "        dimension is less than the original dimension divided by diverge_scale.\n",
    "        (Default is 3.0).\n",
    "    \n",
    "    Returns\n",
    "    -------\n",
    "    dict\n",
    "        Dictionary of results consisting of keys:\n",
    "        \n",
    "        - **'a_lat'** (*float*) - The relaxed a lattice constant.\n",
    "        - **'b_lat'** (*float*) - The relaxed b lattice constant.\n",
    "        - **'c_lat'** (*float*) - The relaxed c lattice constant.\n",
    "        - **'alpha_lat'** (*float*) - The alpha lattice angle.\n",
    "        - **'beta_lat'** (*float*) - The beta lattice angle.\n",
    "        - **'gamma_lat'** (*float*) - The gamma lattice angle.\n",
    "        - **'E_coh'** (*float*) - The cohesive energy of the relaxed system.\n",
    "        - **'stress'** (*numpy.array*) - The measured stress state of the\n",
    "          relaxed system.\n",
    "        - **'C_elastic'** (*atomman.ElasticConstants*) - The relaxed system's\n",
    "          elastic constants.\n",
    "        - **'system_relaxed'** (*atomman.System*) - The relaxed system.\n",
    "    \n",
    "    Raises\n",
    "    ------\n",
    "    RuntimeError\n",
    "        If system diverges or no convergence reached after 100 cycles.\n",
    "    \"\"\"\n",
    "    \n",
    "    # Flag for if values have converged\n",
    "    converged = False\n",
    "    \n",
    "    # Set ucell = system if ucell not given\n",
    "    if ucell is None:\n",
    "        ucell = system\n",
    "    \n",
    "    # Get ratios of lx, ly, and lz of system relative to a of ucell\n",
    "    lx_a = system.box.a / ucell.box.a\n",
    "    ly_b = system.box.b / ucell.box.b\n",
    "    lz_c = system.box.c / ucell.box.c\n",
    "    alpha = system.box.alpha\n",
    "    beta =  system.box.beta\n",
    "    gamma = system.box.gamma\n",
    "    \n",
    "    # Define current and old systems\n",
    "    system_current = deepcopy(system)\n",
    "    system_old = None\n",
    "    \n",
    "    for cycle in xrange(100):\n",
    "        \n",
    "        # Run LAMMPS and evaluate results based on system_old\n",
    "        results = calc_cij(lammps_command, system_current, potential, symbols,\n",
    "                           mpi_command=mpi_command,\n",
    "                           p_xx=p_xx, p_yy=p_yy, p_zz=p_zz,\n",
    "                           strainrange=strainrange, cycle=cycle)\n",
    "        system_new = results['system_new']\n",
    "        \n",
    "        # Compare new and current to test for convergence\n",
    "        if np.allclose(system_new.box.vects,\n",
    "                       system_current.box.vects,\n",
    "                       rtol=tol, atol=0):\n",
    "            converged = True\n",
    "            break\n",
    "        \n",
    "        # Compare old and new to test for double-value convergence\n",
    "        elif system_old is not None and np.allclose(system_new.box.vects,\n",
    "                                                    system_old.box.vects,\n",
    "                                                    rtol=tol, atol=0):\n",
    "            # Update current to average of old and new\n",
    "            system_current.box_set(a = (system_new.box.a+system_old.box.a) / 2.,\n",
    "                                   b = (system_new.box.b+system_old.box.b) / 2.,\n",
    "                                   c = (system_new.box.c+system_old.box.c) / 2.,\n",
    "                                   scale=True)\n",
    "            # Calculate Cij for the averaged system\n",
    "            results = calc_cij(lammps_command, system_current, potential,\n",
    "                               symbols, mpi_command=mpi_command,\n",
    "                               p_xx=p_xx, p_yy=p_yy, p_zz=p_zz, \n",
    "                               strainrange=strainrange, cycle=cycle+1)\n",
    "            converged = True\n",
    "            break\n",
    "        \n",
    "        # Test for divergence\n",
    "        elif system_new.box.a < system.box.a / diverge_scale:\n",
    "            raise RuntimeError('Divergence of box dimensions')\n",
    "        elif system_new.box.a > system.box.a * diverge_scale:\n",
    "            raise RuntimeError('Divergence of box dimensions')\n",
    "        elif system_new.box.b < system.box.b / diverge_scale:\n",
    "            raise RuntimeError('Divergence of box dimensions')\n",
    "        elif system_new.box.b > system.box.b * diverge_scale:\n",
    "            raise RuntimeError('Divergence of box dimensions')\n",
    "        elif system_new.box.c < system.box.c / diverge_scale:\n",
    "            raise RuntimeError('Divergence of box dimensions')\n",
    "        elif system_new.box.c > system.box.c * diverge_scale:\n",
    "            raise RuntimeError('Divergence of box dimensions')\n",
    "        elif results['E_coh'] == 0.0:\n",
    "            raise RuntimeError('Divergence: cohesive energy is 0')\n",
    "                \n",
    "        # If not converged or diverged, current -> old and new -> current\n",
    "        else:\n",
    "            system_old, system_current = system_current, system_new\n",
    "    \n",
    "    # Return values when converged\n",
    "    if converged:\n",
    "        # Extract final ucell parameters\n",
    "        results['a_lat'] = system_new.box.a / lx_a\n",
    "        results['b_lat'] = system_new.box.b / ly_b\n",
    "        results['c_lat'] = system_new.box.c / lz_c\n",
    "        results['alpha_lat'] = alpha\n",
    "        results['beta_lat']  = beta\n",
    "        results['gamma_lat'] = gamma\n",
    "        \n",
    "        # Rename system_new to system_relaxed\n",
    "        results['system_relaxed'] = results.pop('system_new')\n",
    "        return results\n",
    "    else:\n",
    "        raise RuntimeError('Failed to converge after 100 cycles')"
   ]
  },
  {
   "cell_type": "markdown",
   "metadata": {
    "deletable": true,
    "editable": true
   },
   "source": [
    "#### 3.3 calc_cij()\n",
    "\n",
    "This is the underlying function used by quick_a_cij() that creates the cij.in LAMMPS script, evaluates $C_{ij}$, and the new system guess.\n",
    "\n",
    "Arguments:\n",
    "\n",
    "- __lammps_command__ is the LAMMPS command to use.\n",
    "\n",
    "- __system__ is an atomman.System to perform the scan on.\n",
    "\n",
    "- __potential__ is the atomman.lammps.Potential representation of a LAMMPS implemented potential to use.\n",
    "\n",
    "- __symbols__ is a list of element-model symbols for the Potential that correspond to system's atypes.\n",
    "    \n",
    "- __mpi_command__ MPI command for running LAMMPS in parallel. Default value is None (serial run).  \n",
    "\n",
    "- __p_xx__ gives the xx component of the pressure to equilibriate the system to. Default value is 0.0.\n",
    "\n",
    "- __p_yy__ gives the yy component of the pressure to equilibriate the system to. Default value is 0.0.\n",
    "\n",
    "- __p_zz__ gives the zz component of the pressure to equilibriate the system to. Default value is 0.0.\n",
    "\n",
    "- __delta__ specifies the $\\Delta \\epsilon$ strain range to use in estimating $C_{ij}$. Default value is 1e-5.\n",
    "\n",
    "- __cycle__ indicates the current iterative cycle number that the calculation is on. This is only used here for renaming the generated log.lammps files. Default value is 0."
   ]
  },
  {
   "cell_type": "code",
   "execution_count": 9,
   "metadata": {
    "collapsed": true,
    "deletable": true,
    "editable": true
   },
   "outputs": [],
   "source": [
    "def calc_cij(lammps_command, system, potential, symbols,\n",
    "             mpi_command=None, p_xx=0.0, p_yy=0.0, p_zz=0.0,\n",
    "             strainrange=1e-6, cycle=0):\n",
    "    \"\"\"\n",
    "    Runs cij.in LAMMPS script to evaluate Cij, and E_coh of the current system,\n",
    "    and define a new system with updated box dimensions to test.\n",
    "    \n",
    "    Parameters\n",
    "    ----------\n",
    "    lammps_command :str\n",
    "        Command for running LAMMPS.\n",
    "    system : atomman.System\n",
    "        The system to perform the calculation on.\n",
    "    potential : atomman.lammps.Potential\n",
    "        The LAMMPS implemented potential to use.\n",
    "    symbols : list of str\n",
    "        The list of element-model symbols for the Potential that correspond to\n",
    "        system's atypes.\n",
    "    mpi_command : str, optional\n",
    "        The MPI command for running LAMMPS in parallel.  If not given, LAMMPS\n",
    "        will run serially.\n",
    "    strainrange : float, optional\n",
    "        The small strain value to apply when calculating the elastic\n",
    "        constants (default is 1e-6).\n",
    "    p_xx : float, optional\n",
    "        The value to relax the x tensile pressure component to (default is\n",
    "        0.0).\n",
    "    p_yy : float, optional\n",
    "        The value to relax the y tensile pressure component to (default is\n",
    "        0.0).\n",
    "    p_zz : float, optional\n",
    "        The value to relax the z tensile pressure component to (default is\n",
    "        0.0).\n",
    "    cycle : int, optional\n",
    "        Indicates the iteration cycle of quick_a_Cij().  This is used to\n",
    "        uniquely save the LAMMPS input and output files.\n",
    "    \n",
    "    Returns\n",
    "    -------\n",
    "    dict\n",
    "        Dictionary of results consisting of keys:\n",
    "        \n",
    "        - **'E_coh'** (*float*) - The cohesive energy of the supplied system.\n",
    "        - **'stress'** (*numpy.array*) - The measured stress state of the\n",
    "          supplied system.\n",
    "        - **'C_elastic'** (*atomman.ElasticConstants*) - The supplied system's\n",
    "          elastic constants.\n",
    "        - **'system_new'** (*atomman.System*) - System with updated box\n",
    "          dimensions.\n",
    "    \n",
    "    Raises\n",
    "    ------\n",
    "    RuntimeError\n",
    "        If any of the new box dimensions are less than zero.\n",
    "    \"\"\"\n",
    "    \n",
    "    # Get lammps units\n",
    "    lammps_units = lmp.style.unit(potential.units)\n",
    "    \n",
    "    # Define lammps variables\n",
    "    lammps_variables = {}\n",
    "    system_info = lmp.atom_data.dump(system, 'init'+str(cycle)+'.dat',\n",
    "                                     units=potential.units, \n",
    "                                     atom_style=potential.atom_style)\n",
    "    lammps_variables['atomman_system_info'] = system_info\n",
    "    lammps_variables['atomman_pair_info'] = potential.pair_info(symbols)\n",
    "    lammps_variables['delta'] = strainrange\n",
    "    lammps_variables['steps'] = 2\n",
    "    \n",
    "    # Write lammps input script\n",
    "    template_file = 'cij.template'\n",
    "    lammps_script = 'cij.in'\n",
    "    with open(template_file) as f:\n",
    "        template = f.read()\n",
    "    with open(lammps_script, 'w') as f:\n",
    "        f.write(iprPy.tools.filltemplate(template, lammps_variables,\n",
    "                                         '<', '>'))\n",
    "    \n",
    "    # Run lammps \n",
    "    output = lmp.run(lammps_command, lammps_script, mpi_command=mpi_command,\n",
    "                     return_style='model')\n",
    "    shutil.move('log.lammps', 'cij-'+str(cycle)+'-log.lammps')\n",
    "    \n",
    "    # Extract LAMMPS thermo data. Each term ranges i=0-12 where i=0 is undeformed\n",
    "    # The remaining values are for -/+ strain pairs in the six unique directions\n",
    "    lx = uc.set_in_units(np.array(output.finds('Lx')), lammps_units['length'])\n",
    "    ly = uc.set_in_units(np.array(output.finds('Ly')), lammps_units['length'])\n",
    "    lz = uc.set_in_units(np.array(output.finds('Lz')), lammps_units['length'])\n",
    "    xy = uc.set_in_units(np.array(output.finds('Xy')), lammps_units['length'])\n",
    "    xz = uc.set_in_units(np.array(output.finds('Xz')), lammps_units['length'])\n",
    "    yz = uc.set_in_units(np.array(output.finds('Yz')), lammps_units['length'])\n",
    "    \n",
    "    pxx = uc.set_in_units(np.array(output.finds('Pxx')), lammps_units['pressure'])\n",
    "    pyy = uc.set_in_units(np.array(output.finds('Pyy')), lammps_units['pressure'])\n",
    "    pzz = uc.set_in_units(np.array(output.finds('Pzz')), lammps_units['pressure'])\n",
    "    pxy = uc.set_in_units(np.array(output.finds('Pxy')), lammps_units['pressure'])\n",
    "    pxz = uc.set_in_units(np.array(output.finds('Pxz')), lammps_units['pressure'])\n",
    "    pyz = uc.set_in_units(np.array(output.finds('Pyz')), lammps_units['pressure'])\n",
    "    \n",
    "    pe = uc.set_in_units(np.array(output.finds('PotEng')) / system.natoms,\n",
    "                         lammps_units['energy'])\n",
    "    \n",
    "    # Set the six non-zero strain values\n",
    "    strains = np.array([ (lx[2] -  lx[1])  / lx[0],\n",
    "                         (ly[4] -  ly[3])  / ly[0],\n",
    "                         (lz[6] -  lz[5])  / lz[0],\n",
    "                         (yz[8] -  yz[7])  / lz[0],\n",
    "                         (xz[10] - xz[9])  / lz[0],\n",
    "                         (xy[12] - xy[11]) / ly[0] ])\n",
    "\n",
    "    # Calculate cij using stress changes associated with each non-zero strain\n",
    "    cij = np.empty((6,6))\n",
    "    for i in xrange(6):\n",
    "        delta_stress = np.array([ pxx[2*i+1]-pxx[2*i+2],\n",
    "                                  pyy[2*i+1]-pyy[2*i+2],\n",
    "                                  pzz[2*i+1]-pzz[2*i+2],\n",
    "                                  pyz[2*i+1]-pyz[2*i+2],\n",
    "                                  pxz[2*i+1]-pxz[2*i+2],\n",
    "                                  pxy[2*i+1]-pxy[2*i+2] ])\n",
    "\n",
    "        cij[i] = delta_stress / strains[i] \n",
    "        \n",
    "    for i in xrange(6):\n",
    "        for j in xrange(i):\n",
    "            cij[i,j] = cij[j,i] = (cij[i,j] + cij[j,i]) / 2\n",
    "\n",
    "    C = am.ElasticConstants(Cij=cij)\n",
    "    \n",
    "    S = C.Sij\n",
    "    \n",
    "    # Extract the current stress state\n",
    "    stress = -1 * np.array([[pxx[0], pxy[0], pxz[0]],\n",
    "                            [pxy[0], pyy[0], pyz[0]],\n",
    "                            [pxz[0], pyz[0], pzz[0]]])\n",
    "    \n",
    "    s_xx = stress[0,0] + p_xx\n",
    "    s_yy = stress[1,1] + p_yy\n",
    "    s_zz = stress[2,2] + p_zz\n",
    "    \n",
    "    new_a = system.box.a / (S[0,0]*s_xx + S[0,1]*s_yy + S[0,2]*s_zz + 1)\n",
    "    new_b = system.box.b / (S[1,0]*s_xx + S[1,1]*s_yy + S[1,2]*s_zz + 1)\n",
    "    new_c = system.box.c / (S[2,0]*s_xx + S[2,1]*s_yy + S[2,2]*s_zz + 1)\n",
    "    \n",
    "    if new_a <= 0 or new_b <= 0 or new_c <=0:\n",
    "        raise RuntimeError('Divergence of box dimensions to <= 0')\n",
    "    \n",
    "    system_new = deepcopy(system)\n",
    "    system_new.box_set(a=new_a, b=new_b, c=new_c, scale=True)\n",
    "    \n",
    "    results_dict = {}\n",
    "    results_dict['C_elastic'] = C\n",
    "    results_dict['stress'] = stress\n",
    "    results_dict['E_coh'] = pe[0]\n",
    "    results_dict['system_new'] = system_new\n",
    "    \n",
    "    return results_dict"
   ]
  },
  {
   "cell_type": "markdown",
   "metadata": {
    "deletable": true,
    "editable": true
   },
   "source": [
    "### 4. Run calculation function(s)"
   ]
  },
  {
   "cell_type": "code",
   "execution_count": 10,
   "metadata": {
    "collapsed": false,
    "deletable": true,
    "editable": true
   },
   "outputs": [],
   "source": [
    "results_dict = quick_a_Cij(lammps_command, \n",
    "                           system, \n",
    "                           potential,\n",
    "                           symbols,\n",
    "                           mpi_command = mpi_command,\n",
    "                           ucell=ucell,\n",
    "                           p_xx = pressure_xx, \n",
    "                           p_yy = pressure_yy, \n",
    "                           p_zz = pressure_zz,\n",
    "                           strainrange = strainrange,\n",
    "                           tol=convergence_tol,\n",
    "                           diverge_scale=divergence_scale)"
   ]
  },
  {
   "cell_type": "code",
   "execution_count": 11,
   "metadata": {
    "collapsed": false,
    "deletable": true,
    "editable": true
   },
   "outputs": [
    {
     "data": {
      "text/plain": [
       "['stress',\n",
       " 'gamma_lat',\n",
       " 'a_lat',\n",
       " 'beta_lat',\n",
       " 'b_lat',\n",
       " 'E_coh',\n",
       " 'c_lat',\n",
       " 'C_elastic',\n",
       " 'alpha_lat',\n",
       " 'system_relaxed']"
      ]
     },
     "execution_count": 11,
     "metadata": {},
     "output_type": "execute_result"
    }
   ],
   "source": [
    "results_dict.keys()"
   ]
  },
  {
   "cell_type": "markdown",
   "metadata": {
    "deletable": true,
    "editable": true
   },
   "source": [
    "### 5. Report results"
   ]
  },
  {
   "cell_type": "markdown",
   "metadata": {
    "deletable": true,
    "editable": true
   },
   "source": [
    "#### 5.1 Define units for outputting values\n",
    "\n",
    "- __length_unit__ is the unit of length to display relaxed lattice constants in.\n",
    "- __energy_unit__ is the unit of energy to display cohesive energies in.\n",
    "- __pressure_unit__ is the unit of pressure to display Cij and relaxed stress state in."
   ]
  },
  {
   "cell_type": "code",
   "execution_count": 12,
   "metadata": {
    "collapsed": true,
    "deletable": true,
    "editable": true
   },
   "outputs": [],
   "source": [
    "length_unit = 'angstrom'\n",
    "energy_unit = 'eV'\n",
    "pressure_unit = 'GPa'"
   ]
  },
  {
   "cell_type": "markdown",
   "metadata": {
    "deletable": true,
    "editable": true
   },
   "source": [
    "#### 5.2 Print Ecoh and lattice constants of relaxed ucell"
   ]
  },
  {
   "cell_type": "code",
   "execution_count": 13,
   "metadata": {
    "collapsed": false,
    "deletable": true,
    "editable": true
   },
   "outputs": [
    {
     "name": "stdout",
     "output_type": "stream",
     "text": [
      "Ecoh = -4.44999999835 eV\n",
      "a = 3.51999943754 angstrom\n",
      "b = 3.51999943754 angstrom\n",
      "c = 3.51999943754 angstrom\n",
      "alpha = 90.0\n",
      "beta =  90.0\n",
      "gamma = 90.0\n"
     ]
    }
   ],
   "source": [
    "print('Ecoh =', uc.get_in_units(results_dict['E_coh'], energy_unit), energy_unit)\n",
    "print('a =',    uc.get_in_units(results_dict['a_lat'], length_unit), length_unit)\n",
    "print('b =',    uc.get_in_units(results_dict['b_lat'], length_unit), length_unit)\n",
    "print('c =',    uc.get_in_units(results_dict['c_lat'], length_unit), length_unit)\n",
    "print('alpha =', results_dict['alpha_lat'])\n",
    "print('beta = ', results_dict['beta_lat'])\n",
    "print('gamma =', results_dict['gamma_lat'])"
   ]
  },
  {
   "cell_type": "markdown",
   "metadata": {
    "deletable": true,
    "editable": true
   },
   "source": [
    "#### 5.3 Print Cij"
   ]
  },
  {
   "cell_type": "code",
   "execution_count": 14,
   "metadata": {
    "collapsed": false,
    "deletable": true,
    "editable": true
   },
   "outputs": [
    {
     "name": "stdout",
     "output_type": "stream",
     "text": [
      "Cij (GPa) =\n",
      "[ 247.8626  147.8285  147.8285    0.0000    0.0000    0.0000]\n",
      "[ 147.8285  247.8626  147.8285    0.0000    0.0000    0.0000]\n",
      "[ 147.8285  147.8285  247.8626    0.0000    0.0000    0.0000]\n",
      "[   0.0000    0.0000    0.0000  124.8381    0.0000    0.0000]\n",
      "[   0.0000    0.0000    0.0000    0.0000  124.8381    0.0000]\n",
      "[   0.0000    0.0000    0.0000    0.0000    0.0000  124.8381]\n"
     ]
    }
   ],
   "source": [
    "print('Cij ('+pressure_unit+') =')\n",
    "for Ci in uc.get_in_units(results_dict['C_elastic'].Cij, pressure_unit):\n",
    "    print('[%9.4f %9.4f %9.4f %9.4f %9.4f %9.4f]' % tuple(Ci))"
   ]
  },
  {
   "cell_type": "markdown",
   "metadata": {
    "deletable": true,
    "editable": true
   },
   "source": [
    "#### 5.4 Check stress state of relaxed system"
   ]
  },
  {
   "cell_type": "code",
   "execution_count": 15,
   "metadata": {
    "collapsed": false,
    "deletable": true,
    "editable": true
   },
   "outputs": [
    {
     "name": "stdout",
     "output_type": "stream",
     "text": [
      "stress (GPa) =\n",
      "[  -0.0000    0.0000    0.0000]\n",
      "[   0.0000   -0.0000    0.0000]\n",
      "[   0.0000    0.0000   -0.0000]\n"
     ]
    }
   ],
   "source": [
    "print('stress ('+pressure_unit+') =')\n",
    "for Si in uc.get_in_units(results_dict['stress'], pressure_unit):\n",
    "    print('[%9.4f %9.4f %9.4f]' % tuple(Si))"
   ]
  },
  {
   "cell_type": "markdown",
   "metadata": {
    "deletable": true,
    "editable": true
   },
   "source": [
    "#### 5.5 Show relaxed atomic configuration"
   ]
  },
  {
   "cell_type": "code",
   "execution_count": 16,
   "metadata": {
    "collapsed": false,
    "deletable": true,
    "editable": true
   },
   "outputs": [
    {
     "name": "stdout",
     "output_type": "stream",
     "text": [
      "avect =  [10.560,  0.000,  0.000]\n",
      "bvect =  [ 0.000, 10.560,  0.000]\n",
      "cvect =  [ 0.000,  0.000, 10.560]\n",
      "origin = [ 0.000,  0.000,  0.000]\n",
      "natoms = 108\n",
      "natypes = 1\n",
      "     id |   atype |  pos[0] |  pos[1] |  pos[2]\n",
      "      0 |       1 |   0.000 |   0.000 |   0.000\n",
      "      1 |       1 |   0.000 |   1.760 |   1.760\n",
      "      2 |       1 |   1.760 |   0.000 |   1.760\n",
      "      3 |       1 |   1.760 |   1.760 |   0.000\n",
      "      4 |       1 |   3.520 |   0.000 |   0.000\n",
      "      5 |       1 |   3.520 |   1.760 |   1.760\n",
      "      6 |       1 |   5.280 |   0.000 |   1.760\n",
      "      7 |       1 |   5.280 |   1.760 |   0.000\n",
      "      8 |       1 |   7.040 |   0.000 |   0.000\n",
      "      9 |       1 |   7.040 |   1.760 |   1.760\n",
      "     10 |       1 |   8.800 |   0.000 |   1.760\n",
      "     11 |       1 |   8.800 |   1.760 |   0.000\n",
      "     12 |       1 |   0.000 |   3.520 |   0.000\n",
      "     13 |       1 |   0.000 |   5.280 |   1.760\n",
      "     14 |       1 |   1.760 |   3.520 |   1.760\n",
      "     15 |       1 |   1.760 |   5.280 |   0.000\n",
      "     16 |       1 |   3.520 |   3.520 |   0.000\n",
      "     17 |       1 |   3.520 |   5.280 |   1.760\n",
      "     18 |       1 |   5.280 |   3.520 |   1.760\n",
      "     19 |       1 |   5.280 |   5.280 |   0.000\n",
      "     20 |       1 |   7.040 |   3.520 |   0.000\n",
      "     21 |       1 |   7.040 |   5.280 |   1.760\n",
      "     22 |       1 |   8.800 |   3.520 |   1.760\n",
      "     23 |       1 |   8.800 |   5.280 |   0.000\n",
      "     24 |       1 |   0.000 |   7.040 |   0.000\n",
      "     25 |       1 |   0.000 |   8.800 |   1.760\n",
      "     26 |       1 |   1.760 |   7.040 |   1.760\n",
      "     27 |       1 |   1.760 |   8.800 |   0.000\n",
      "     28 |       1 |   3.520 |   7.040 |   0.000\n",
      "     29 |       1 |   3.520 |   8.800 |   1.760\n",
      "     30 |       1 |   5.280 |   7.040 |   1.760\n",
      "     31 |       1 |   5.280 |   8.800 |   0.000\n",
      "     32 |       1 |   7.040 |   7.040 |   0.000\n",
      "     33 |       1 |   7.040 |   8.800 |   1.760\n",
      "     34 |       1 |   8.800 |   7.040 |   1.760\n",
      "     35 |       1 |   8.800 |   8.800 |   0.000\n",
      "     36 |       1 |   0.000 |   0.000 |   3.520\n",
      "     37 |       1 |   0.000 |   1.760 |   5.280\n",
      "     38 |       1 |   1.760 |   0.000 |   5.280\n",
      "     39 |       1 |   1.760 |   1.760 |   3.520\n",
      "     40 |       1 |   3.520 |   0.000 |   3.520\n",
      "     41 |       1 |   3.520 |   1.760 |   5.280\n",
      "     42 |       1 |   5.280 |   0.000 |   5.280\n",
      "     43 |       1 |   5.280 |   1.760 |   3.520\n",
      "     44 |       1 |   7.040 |   0.000 |   3.520\n",
      "     45 |       1 |   7.040 |   1.760 |   5.280\n",
      "     46 |       1 |   8.800 |   0.000 |   5.280\n",
      "     47 |       1 |   8.800 |   1.760 |   3.520\n",
      "     48 |       1 |   0.000 |   3.520 |   3.520\n",
      "     49 |       1 |   0.000 |   5.280 |   5.280\n",
      "     50 |       1 |   1.760 |   3.520 |   5.280\n",
      "     51 |       1 |   1.760 |   5.280 |   3.520\n",
      "     52 |       1 |   3.520 |   3.520 |   3.520\n",
      "     53 |       1 |   3.520 |   5.280 |   5.280\n",
      "     54 |       1 |   5.280 |   3.520 |   5.280\n",
      "     55 |       1 |   5.280 |   5.280 |   3.520\n",
      "     56 |       1 |   7.040 |   3.520 |   3.520\n",
      "     57 |       1 |   7.040 |   5.280 |   5.280\n",
      "     58 |       1 |   8.800 |   3.520 |   5.280\n",
      "     59 |       1 |   8.800 |   5.280 |   3.520\n",
      "     60 |       1 |   0.000 |   7.040 |   3.520\n",
      "     61 |       1 |   0.000 |   8.800 |   5.280\n",
      "     62 |       1 |   1.760 |   7.040 |   5.280\n",
      "     63 |       1 |   1.760 |   8.800 |   3.520\n",
      "     64 |       1 |   3.520 |   7.040 |   3.520\n",
      "     65 |       1 |   3.520 |   8.800 |   5.280\n",
      "     66 |       1 |   5.280 |   7.040 |   5.280\n",
      "     67 |       1 |   5.280 |   8.800 |   3.520\n",
      "     68 |       1 |   7.040 |   7.040 |   3.520\n",
      "     69 |       1 |   7.040 |   8.800 |   5.280\n",
      "     70 |       1 |   8.800 |   7.040 |   5.280\n",
      "     71 |       1 |   8.800 |   8.800 |   3.520\n",
      "     72 |       1 |   0.000 |   0.000 |   7.040\n",
      "     73 |       1 |   0.000 |   1.760 |   8.800\n",
      "     74 |       1 |   1.760 |   0.000 |   8.800\n",
      "     75 |       1 |   1.760 |   1.760 |   7.040\n",
      "     76 |       1 |   3.520 |   0.000 |   7.040\n",
      "     77 |       1 |   3.520 |   1.760 |   8.800\n",
      "     78 |       1 |   5.280 |   0.000 |   8.800\n",
      "     79 |       1 |   5.280 |   1.760 |   7.040\n",
      "     80 |       1 |   7.040 |   0.000 |   7.040\n",
      "     81 |       1 |   7.040 |   1.760 |   8.800\n",
      "     82 |       1 |   8.800 |   0.000 |   8.800\n",
      "     83 |       1 |   8.800 |   1.760 |   7.040\n",
      "     84 |       1 |   0.000 |   3.520 |   7.040\n",
      "     85 |       1 |   0.000 |   5.280 |   8.800\n",
      "     86 |       1 |   1.760 |   3.520 |   8.800\n",
      "     87 |       1 |   1.760 |   5.280 |   7.040\n",
      "     88 |       1 |   3.520 |   3.520 |   7.040\n",
      "     89 |       1 |   3.520 |   5.280 |   8.800\n",
      "     90 |       1 |   5.280 |   3.520 |   8.800\n",
      "     91 |       1 |   5.280 |   5.280 |   7.040\n",
      "     92 |       1 |   7.040 |   3.520 |   7.040\n",
      "     93 |       1 |   7.040 |   5.280 |   8.800\n",
      "     94 |       1 |   8.800 |   3.520 |   8.800\n",
      "     95 |       1 |   8.800 |   5.280 |   7.040\n",
      "     96 |       1 |   0.000 |   7.040 |   7.040\n",
      "     97 |       1 |   0.000 |   8.800 |   8.800\n",
      "     98 |       1 |   1.760 |   7.040 |   8.800\n",
      "     99 |       1 |   1.760 |   8.800 |   7.040\n",
      "    100 |       1 |   3.520 |   7.040 |   7.040\n",
      "    101 |       1 |   3.520 |   8.800 |   8.800\n",
      "    102 |       1 |   5.280 |   7.040 |   8.800\n",
      "    103 |       1 |   5.280 |   8.800 |   7.040\n",
      "    104 |       1 |   7.040 |   7.040 |   7.040\n",
      "    105 |       1 |   7.040 |   8.800 |   8.800\n",
      "    106 |       1 |   8.800 |   7.040 |   8.800\n",
      "    107 |       1 |   8.800 |   8.800 |   7.040\n"
     ]
    }
   ],
   "source": [
    "print(results_dict['system_relaxed'])"
   ]
  }
 ],
 "metadata": {
  "kernelspec": {
   "display_name": "Python 2",
   "language": "python",
   "name": "python2"
  },
  "language_info": {
   "codemirror_mode": {
    "name": "ipython",
    "version": 2
   },
   "file_extension": ".py",
   "mimetype": "text/x-python",
   "name": "python",
   "nbconvert_exporter": "python",
   "pygments_lexer": "ipython2",
   "version": "2.7.13"
  }
 },
 "nbformat": 4,
 "nbformat_minor": 2
}
