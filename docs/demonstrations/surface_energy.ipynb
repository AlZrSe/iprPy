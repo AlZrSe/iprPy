{
 "cells": [
  {
   "cell_type": "markdown",
   "metadata": {
    "deletable": true,
    "editable": true
   },
   "source": [
    "# surface_energy Calculation\n",
    "\n",
    "- - -\n",
    "\n",
    "**Lucas M. Hale**, [lucas.hale@nist.gov](mailto:lucas.hale@nist.gov?Subject=ipr-demo), *Materials Science and Engineering Division, NIST*.\n",
    "\n",
    "**Chandler A. Becker**, [chandler.becker@nist.gov](mailto:chandler.becker@nist.gov?Subject=ipr-demo), *Office of Data and Informatics, NIST*.\n",
    "\n",
    "**Zachary T. Trautt**, [zachary.trautt@nist.gov](mailto:zachary.trautt@nist.gov?Subject=ipr-demo), *Materials Measurement Science Division, NIST*.\n",
    "\n",
    "Version: 2017-07-24\n",
    "\n",
    "[Disclaimers](http://www.nist.gov/public_affairs/disclaimer.cfm) \n",
    " \n",
    "- - -\n",
    "\n",
    "## Introduction\n",
    "\n",
    "The __surface_energy__ calculation evaluates the formation energy for a free surface by slicing an atomic system along a specific plane.\n",
    "\n",
    "__Disclaimer #1__: Other atomic configurations at the free surface for certain planar cuts may have lower energies. The atomic relaxation will find a local minimum, which may not be the global minimum. Additionally, the material cut is planar perfect and therefore does not explore the effects of atomic roughness.\n",
    "\n",
    "__Disclaimer #2__: Currently, the rotation capabilities of atomman limit this calculation such that only cubic prototypes can be rotated. Properties of non-cubic structures can still be explored, as long as the configuration being loaded has the plane of interest perpendicular to one of the three box vectors.\n",
    "\n",
    "- - -"
   ]
  },
  {
   "cell_type": "markdown",
   "metadata": {
    "deletable": true,
    "editable": true
   },
   "source": [
    "## Method and Theory\n",
    "\n",
    "An initial system is supplied, and a LAMMPS simulation performs an energy/force minimization on the system and estimates the total potential energy of the perfect bulk system, $E_{bulk}^{total}$. A corresponding defect system is constructed by changing one of the three boundary conditions from periodic to non-periodic. This effectively slices the system along the boundary plane creating two free surfaces, each with surface area $A_{surface}$. The defect system is then relaxed with an energy/force minimization and the total potential energy of the defect system, $E_{surface}^{total}$, is measured. The formation energy of the free surface, $E_{surface}^f$, is computed in units of energy over area as\n",
    "\n",
    "$$E_{surface}^f = \\frac{E_{surface}^{total} - E_{bulk}^{total}} {2 A_{surface}}.$$\n",
    "\n",
    "The particular free surface created depends on the system's orientation, initial atomic shift, and the specific system box vector ($a$, $b$, or $c$) along which the cut is made. Care should be made such that the atomic shift avoids placing an atomic plane directly at the cut plane.\n",
    "\n",
    "- - -"
   ]
  },
  {
   "cell_type": "markdown",
   "metadata": {
    "deletable": true,
    "editable": true
   },
   "source": [
    "## Demonstration"
   ]
  },
  {
   "cell_type": "markdown",
   "metadata": {
    "deletable": true,
    "editable": true
   },
   "source": [
    "### 1. Library imports"
   ]
  },
  {
   "cell_type": "markdown",
   "metadata": {
    "deletable": true,
    "editable": true
   },
   "source": [
    "Import libraries needed by the calculation. The external libraries used are:\n",
    "\n",
    "- [numpy](http://www.numpy.org/)\n",
    "\n",
    "- [DataModelDict](https://github.com/usnistgov/DataModelDict)\n",
    "\n",
    "- [atomman](https://github.com/usnistgov/atomman)\n",
    "\n",
    "- [iprPy](https://github.com/usnistgov/iprPy)"
   ]
  },
  {
   "cell_type": "code",
   "execution_count": 1,
   "metadata": {
    "collapsed": true,
    "deletable": true,
    "editable": true
   },
   "outputs": [],
   "source": [
    "# Standard library imports\n",
    "from __future__ import division, absolute_import, print_function\n",
    "import os\n",
    "import sys\n",
    "import uuid\n",
    "import shutil\n",
    "import datetime\n",
    "from copy import deepcopy\n",
    "\n",
    "# http://www.numpy.org/\n",
    "import numpy as np \n",
    "\n",
    "# https://github.com/usnistgov/DataModelDict \n",
    "from DataModelDict import DataModelDict as DM\n",
    "\n",
    "# https://github.com/usnistgov/atomman \n",
    "import atomman as am\n",
    "import atomman.lammps as lmp\n",
    "import atomman.unitconvert as uc\n",
    "\n",
    "# https://github.com/usnistgov/iprPy\n",
    "import iprPy"
   ]
  },
  {
   "cell_type": "markdown",
   "metadata": {
    "deletable": true,
    "editable": true
   },
   "source": [
    "### 2. Assign values for the calculation's run parameters"
   ]
  },
  {
   "cell_type": "markdown",
   "metadata": {
    "deletable": true,
    "editable": true
   },
   "source": [
    "#### 2.0 Set the calculation's working directory"
   ]
  },
  {
   "cell_type": "code",
   "execution_count": 2,
   "metadata": {
    "collapsed": false,
    "deletable": true,
    "editable": true
   },
   "outputs": [],
   "source": [
    "calc_name = 'surface_energy'\n",
    "\n",
    "# Check current working directory\n",
    "cwd_name = os.path.basename(os.getcwd())\n",
    "\n",
    "# Change working directory if needed\n",
    "if cwd_name != calc_name:\n",
    "    if not os.path.isdir(calc_name):\n",
    "        os.mkdir(calc_name)\n",
    "    os.chdir(calc_name)"
   ]
  },
  {
   "cell_type": "markdown",
   "metadata": {
    "deletable": true,
    "editable": true
   },
   "source": [
    "#### 2.1 Specify system-specific paths\n",
    "\n",
    "- __lammps_command__ is the LAMMPS command to use (required).\n",
    "\n",
    "- __mpi_command__ MPI command for running LAMMPS in parallel. A value of None will run simulations serially.\n",
    "\n",
    "- __lib_directory__ defines the relative path to the iprPy library. This makes it easier to define paths to reference records later."
   ]
  },
  {
   "cell_type": "code",
   "execution_count": 3,
   "metadata": {
    "collapsed": true,
    "deletable": true,
    "editable": true
   },
   "outputs": [],
   "source": [
    "lammps_command = 'lmp_serial'\n",
    "mpi_command = None\n",
    "lib_directory = '../../../library'"
   ]
  },
  {
   "cell_type": "markdown",
   "metadata": {
    "deletable": true,
    "editable": true
   },
   "source": [
    "#### 2.2 Specify the potenital and elemental symbols\n",
    "\n",
    "- __potential__ is the atomman.lammps.Potential representation of a LAMMPS implemented potential to use (required).\n",
    "\n",
    "- __symbols__ is a list of the elemental model symbols of potential to associate with the unique atom types of system (required).\n",
    "\n",
    "- __potential_name__ gives the name of the potential_LAMMPS reference record in the iprPy library to use for potential. \n",
    "\n",
    "- __potential_path__ gives the path to the potential_LAMMPS reference record to use.\n",
    "\n",
    "- __potential_dir_path__ gives the path for the folder containing the artifacts associated with the potential (i.e. eam.alloy file)\n",
    "\n"
   ]
  },
  {
   "cell_type": "code",
   "execution_count": 4,
   "metadata": {
    "collapsed": false,
    "deletable": true,
    "editable": true
   },
   "outputs": [
    {
     "name": "stdout",
     "output_type": "stream",
     "text": [
      "Successfully loaded potential 1999--Mishin-Y--Ni--LAMMPS--ipr1\n"
     ]
    }
   ],
   "source": [
    "potential_name = '1999--Mishin-Y--Ni--LAMMPS--ipr1'\n",
    "symbols = ['Ni']\n",
    "\n",
    "# Define potential_path and potential_dir_path using lib_directory and potential_name\n",
    "potential_dir_path = os.path.abspath(os.path.join(lib_directory, 'potential_LAMMPS', potential_name))\n",
    "potential_path = potential_dir_path + '.json'\n",
    "\n",
    "# Create potential by loading LAMMPS-potential record\n",
    "with open(potential_path) as f:\n",
    "    potential = lmp.Potential(f, potential_dir_path)\n",
    "print('Successfully loaded potential', potential)"
   ]
  },
  {
   "cell_type": "markdown",
   "metadata": {
    "deletable": true,
    "editable": true
   },
   "source": [
    "#### 2.3 Specify the prototype unit cell system\n",
    " \n",
    "- __ucell__ (required) is an atomman.System representing a fundamental unit cell of the system .\n",
    "\n",
    "- __prototype_name__ gives the name of the crystal_prototype reference record in the iprPy library to use for ucell. \n",
    "\n",
    "- __prototype_path__ gives the path to the crystal_prototype reference record to use.\n",
    "\n",
    "- __box_parameters__ defines the initial guess box parameters to scale ucell and system by."
   ]
  },
  {
   "cell_type": "code",
   "execution_count": 5,
   "metadata": {
    "collapsed": false,
    "deletable": true,
    "editable": true
   },
   "outputs": [
    {
     "name": "stdout",
     "output_type": "stream",
     "text": [
      "# of atoms in ucell = 4\n"
     ]
    }
   ],
   "source": [
    "prototype_name = 'A1--Cu--fcc'\n",
    "box_parameters = [3.52, 3.52, 3.52]\n",
    "\n",
    "# Define prototype_path using lib_directory and prototype_name\n",
    "prototype_path = os.path.abspath(os.path.join(lib_directory, 'crystal_prototype', prototype_name+'.json'))\n",
    "\n",
    "# Create ucell by loading prototype record\n",
    "ucell = am.load('system_model', prototype_path)[0]\n",
    "print('# of atoms in ucell =', ucell.natoms)\n",
    "\n",
    "# Rescale ucell using box_parameters\n",
    "ucell.box_set(a=box_parameters[0], b=box_parameters[1], c=box_parameters[2], scale=True)"
   ]
  },
  {
   "cell_type": "markdown",
   "metadata": {
    "deletable": true,
    "editable": true
   },
   "source": [
    "#### 2.4 Specify the defect \n",
    "\n",
    "__2.4a Specify the defect model__\n",
    "\n",
    "- __surface_name__ gives the name of the free_surface reference record in the iprPy library to use for potential. \n",
    "\n",
    "- __surface_path__ gives the path to the free_surface reference record to use.\n",
    "\n",
    "- __surface_model__ is a DataModelDict of a free_surface record."
   ]
  },
  {
   "cell_type": "code",
   "execution_count": 6,
   "metadata": {
    "collapsed": false,
    "deletable": true,
    "editable": true
   },
   "outputs": [
    {
     "name": "stdout",
     "output_type": "stream",
     "text": [
      "Successfully loaded defect record for A1--Cu--fcc--110\n"
     ]
    }
   ],
   "source": [
    "#surface_name = 'A1--Cu--fcc--100'\n",
    "surface_name = 'A1--Cu--fcc--110'\n",
    "#surface_name = 'A1--Cu--fcc--111'\n",
    "\n",
    "# Define surface_path using lib_directory and surface_name\n",
    "surface_path = os.path.abspath(os.path.join(lib_directory, 'free_surface', surface_name+'.json')) \n",
    "\n",
    "# Load free-surface record as a DataModelDict\n",
    "with open(surface_path) as f:\n",
    "    surface_model = DM(f)\n",
    "\n",
    "print('Successfully loaded defect record for', surface_model['free-surface']['id'])"
   ]
  },
  {
   "cell_type": "markdown",
   "metadata": {
    "deletable": true,
    "editable": true
   },
   "source": [
    "__2.4b Extract the free surface defect parameters__\n",
    "\n",
    "- __surface_kwargs__ is a dictionary containing parameters for generating the defect. Values are extracted from a free-surface record and uniquely define a type of free surface. Alternatively, the associated terms can be directly defined in the next sections. Included keywords are:\n",
    "\n",
    "    - __crystallographic-axes__ specifies how to orient the system. Subelements define each of the x-, y-, and z-axes.\n",
    "    \n",
    "    - __cutboxvector__ specifies which box vector to apply the free surface cut to.\n",
    "    \n",
    "    - __atomshift__ specifies a rigid body shift of all atoms in the initial system."
   ]
  },
  {
   "cell_type": "code",
   "execution_count": 7,
   "metadata": {
    "collapsed": false,
    "deletable": true,
    "editable": true
   },
   "outputs": [
    {
     "name": "stdout",
     "output_type": "stream",
     "text": [
      "{\n",
      "    \"x_axis\": \" 0  0  1\", \n",
      "    \"y_axis\": \" 1 -1  0\", \n",
      "    \"z_axis\": \" 1  1  0\", \n",
      "    \"cutboxvector\": \"c\", \n",
      "    \"atomshift\": \"0.0 0.0 0.1\"\n",
      "}\n"
     ]
    }
   ],
   "source": [
    "# Extract defect parameters    \n",
    "surface_kwargs = surface_model['free-surface']['calculation-parameter']\n",
    "        \n",
    "print(surface_kwargs.json(indent=4))"
   ]
  },
  {
   "cell_type": "markdown",
   "metadata": {
    "deletable": true,
    "editable": true
   },
   "source": [
    "#### 2.5 Generate the initial system\n",
    "\n",
    "- __system__ is an atomman.System to perform the scan on (required).\n",
    "\n",
    "- __x_axis__ is the 3D crystal vector of ucell to align with the x-axis of system.\n",
    "\n",
    "- __y_axis__ is the 3D crystal vector of ucell to align with the y-axis of system.\n",
    "\n",
    "- __z_axis__ is the 3D crystal vector of ucell to align with the z-axis of system.\n",
    "\n",
    "- __atomshift__ applies a rigid-body shift to all atoms in the system.\n",
    "\n",
    "- __sizemults__ list of three integers specifying how many times the ucell vectors of $a$, $b$ and $c$ are replicated in creating system."
   ]
  },
  {
   "cell_type": "code",
   "execution_count": 8,
   "metadata": {
    "collapsed": false,
    "deletable": true,
    "editable": true
   },
   "outputs": [
    {
     "name": "stdout",
     "output_type": "stream",
     "text": [
      "# of atoms in system = 1000\n"
     ]
    }
   ],
   "source": [
    "sizemults = [5,5,5]\n",
    "\n",
    "# -------------- Defect parameters --------------- #\n",
    "x_axis = np.array(surface_kwargs['x_axis'].split(), dtype=float)\n",
    "y_axis = np.array(surface_kwargs['y_axis'].split(), dtype=float)\n",
    "z_axis = np.array(surface_kwargs['z_axis'].split(), dtype=float)\n",
    "atomshift = np.array(surface_kwargs['atomshift'].split(), dtype=float)\n",
    "\n",
    "# -------------- Derived parameters -------------- #\n",
    "# Copy ucell to initialsystem\n",
    "system = deepcopy(ucell)\n",
    "\n",
    "# Build axes from x_axis, y_axis and z_axis\n",
    "axes = np.array([x_axis, y_axis, z_axis])\n",
    "\n",
    "# Rotate using axes_array\n",
    "system = am.rotate_cubic(system, axes)\n",
    "\n",
    "# Apply atomshift\n",
    "shift = (atomshift[0] * system.box.avect \n",
    "         + atomshift[1] * system.box.bvect \n",
    "         + atomshift[2] * system.box.cvect)\n",
    "pos = system.atoms_prop(key='pos')\n",
    "system.atoms_prop(key='pos', value=pos+shift)\n",
    "\n",
    "# Apply sizemults\n",
    "system.supersize(*sizemults)\n",
    "\n",
    "print('# of atoms in system =', system.natoms)"
   ]
  },
  {
   "cell_type": "markdown",
   "metadata": {
    "deletable": true,
    "editable": true
   },
   "source": [
    "#### 2.5 Specify calculation-specific run parameters\n",
    "\n",
    "- __cutboxvector__ defines which of the three system box vector boundaries ($a$, $b$, or $c$) the system will be cut along to create the free surface.\n",
    "\n",
    "- __energytolerance__ is the energy tolerance to use during the minimizations. This is unitless.\n",
    "\n",
    "- __forcetolerance__ is the force tolerance to use during the minimizations. This is in energy/length units.\n",
    "\n",
    "- __maxiterations__ is the maximum number of minimization iterations to use.\n",
    "\n",
    "- __maxevaluations__ is the maximum number of minimization evaluations to use.\n",
    "\n",
    "- __maxatommotion__ is the largest distance that an atom is allowed to move during a minimization iteration. This is in length units."
   ]
  },
  {
   "cell_type": "code",
   "execution_count": 9,
   "metadata": {
    "collapsed": true,
    "deletable": true,
    "editable": true
   },
   "outputs": [],
   "source": [
    "cutboxvector = surface_kwargs['cutboxvector']\n",
    "energytolerance = 1e-8\n",
    "forcetolerance = uc.set_in_units(0.0, 'eV/angstrom')\n",
    "maxiterations = 10000\n",
    "maxevaluations = 100000\n",
    "maxatommotion = uc.set_in_units(0.01, 'angstrom')"
   ]
  },
  {
   "cell_type": "markdown",
   "metadata": {
    "deletable": true,
    "editable": true
   },
   "source": [
    "### 3. Define calculation function(s) and generate template LAMMPS script(s)"
   ]
  },
  {
   "cell_type": "markdown",
   "metadata": {
    "deletable": true,
    "editable": true
   },
   "source": [
    "#### 3.1 min.template"
   ]
  },
  {
   "cell_type": "code",
   "execution_count": 10,
   "metadata": {
    "collapsed": true,
    "deletable": true,
    "editable": true
   },
   "outputs": [],
   "source": [
    "with open('min.template', 'w') as f:\n",
    "    f.write(\"\"\"#LAMMPS input script that performs an energy minimization\n",
    "\n",
    "<atomman_system_info>\n",
    "\n",
    "<atomman_pair_info>\n",
    "\n",
    "thermo_style custom step lx ly lz pxx pyy pzz pe\n",
    "thermo_modify format float %.13e\n",
    "\n",
    "compute peatom all pe/atom \n",
    "\n",
    "min_modify dmax <dmax>\n",
    "\n",
    "dump dumpit all custom <maxeval> atom.* id type x y z c_peatom\n",
    "dump_modify dumpit format <dump_modify_format>\n",
    "\n",
    "minimize <etol> <ftol> <maxiter> <maxeval>\"\"\")"
   ]
  },
  {
   "cell_type": "markdown",
   "metadata": {
    "deletable": true,
    "editable": true
   },
   "source": [
    "#### 3.2 surface_energy()"
   ]
  },
  {
   "cell_type": "code",
   "execution_count": 11,
   "metadata": {
    "collapsed": false,
    "deletable": true,
    "editable": true
   },
   "outputs": [],
   "source": [
    "def surface_energy(lammps_command, system, potential, symbols,\n",
    "                   mpi_command=None, etol=0.0, ftol=0.0, maxiter=10000,\n",
    "                   maxeval=100000, dmax=uc.set_in_units(0.01, 'angstrom'),\n",
    "                   cutboxvector='c'):\n",
    "    \"\"\"\n",
    "    Evaluates surface formation energies by slicing along one periodic\n",
    "    boundary of a bulk system.\n",
    "    \n",
    "    Parameters\n",
    "    ----------\n",
    "    lammps_command :str\n",
    "        Command for running LAMMPS.\n",
    "    system : atomman.System\n",
    "        The system to perform the calculation on.\n",
    "    potential : atomman.lammps.Potential\n",
    "        The LAMMPS implemented potential to use.\n",
    "    symbols : list of str\n",
    "        The list of element-model symbols for the Potential that correspond to\n",
    "        system's atypes.\n",
    "    mpi_command : str, optional\n",
    "        The MPI command for running LAMMPS in parallel.  If not given, LAMMPS\n",
    "        will run serially.\n",
    "    etol : float, optional\n",
    "        The energy tolerance for the structure minimization. This value is\n",
    "        unitless. (Default is 0.0).\n",
    "    ftol : float, optional\n",
    "        The force tolerance for the structure minimization. This value is in\n",
    "        units of force. (Default is 0.0).\n",
    "    maxiter : int, optional\n",
    "        The maximum number of minimization iterations to use (default is \n",
    "        10000).\n",
    "    maxeval : int, optional\n",
    "        The maximum number of minimization evaluations to use (default is \n",
    "        100000).\n",
    "    dmax : float, optional\n",
    "        The maximum distance in length units that any atom is allowed to relax\n",
    "        in any direction during a single minimization iteration (default is\n",
    "        0.01 Angstroms).\n",
    "    cutboxvector : str, optional\n",
    "        Indicates which of the three system box vectors, 'a', 'b', or 'c', to\n",
    "        cut with a non-periodic boundary (default is 'c').\n",
    "    \n",
    "    Returns\n",
    "    -------\n",
    "    dict\n",
    "        Dictionary of results consisting of keys:\n",
    "        \n",
    "        - **'dumpfile_base'** (*str*) - The filename of the LAMMPS dump file\n",
    "          of the relaxed bulk system.\n",
    "        - **'dumpfile_surf'** (*str*) - The filename of the LAMMPS dump file\n",
    "          of the relaxed system containing the free surfaces.\n",
    "        - **'E_total_base'** (*float*) - The total potential energy of the\n",
    "          relaxed bulk system.\n",
    "        - **'E_total_surf'** (*float*) - The total potential energy of the\n",
    "          relaxed system containing the free surfaces.\n",
    "        - **'A_surf'** (*float*) - The area of the free surface.\n",
    "        - **'E_coh'** (*float*) - The cohesive energy of the relaxed bulk\n",
    "          system.\n",
    "        - **'E_surf_f'** (*float*) - The computed surface formation energy.\n",
    "    \n",
    "    Raises\n",
    "    ------\n",
    "    ValueError\n",
    "        For invalid cutboxvectors.\n",
    "    \"\"\"\n",
    "\n",
    "    # Evaluate perfect system\n",
    "    system.pbc = [True, True, True]\n",
    "    perfect = relax_system(lammps_command, system, potential, symbols,\n",
    "                           mpi_command=mpi_command, etol=etol, ftol=ftol,\n",
    "                           maxiter=maxiter, maxeval=maxeval, dmax=dmax)\n",
    "    \n",
    "    # Extract results from perfect system\n",
    "    dumpfile_base = 'perfect.dump'\n",
    "    shutil.move(perfect['finaldumpfile'], dumpfile_base)\n",
    "    shutil.move('log.lammps', 'perfect-log.lammps')\n",
    "    E_total_base = perfect['potentialenergy']\n",
    "\n",
    "    # Set up defect system\n",
    "    # A_surf is area of parallelogram defined by the two box vectors not along\n",
    "    # the cutboxvector\n",
    "    if   cutboxvector == 'a':\n",
    "        system.pbc[0] = False\n",
    "        A_surf = np.linalg.norm(np.cross(system.box.bvect, system.box.cvect))\n",
    "        \n",
    "    elif cutboxvector == 'b':\n",
    "        system.pbc[1] = False\n",
    "        A_surf = np.linalg.norm(np.cross(system.box.avect, system.box.cvect))\n",
    "        \n",
    "    elif cutboxvector == 'c':\n",
    "        system.pbc[2] = False\n",
    "        A_surf = np.linalg.norm(np.cross(system.box.avect, system.box.bvect))\n",
    "        \n",
    "    else:\n",
    "        raise ValueError('Invalid cutboxvector')\n",
    "        \n",
    "    # Evaluate system with free surface\n",
    "    surface = relax_system(lammps_command, system, potential, symbols,\n",
    "                           mpi_command=mpi_command, etol=etol, ftol=ftol,\n",
    "                           maxiter=maxiter, maxeval=maxeval, dmax=dmax)\n",
    "    \n",
    "    # Extract results from system with free surface\n",
    "    dumpfile_surf = 'surface.dump'\n",
    "    shutil.move(surface['finaldumpfile'], dumpfile_surf)\n",
    "    shutil.move('log.lammps', 'surface-log.lammps')\n",
    "    E_total_surf = surface['potentialenergy']\n",
    "    \n",
    "    # Compute the free surface formation energy\n",
    "    E_surf_f = (E_total_surf - E_total_base) / (2 * A_surf)\n",
    "    \n",
    "    # Save values to results dictionary\n",
    "    results_dict = {}\n",
    "    \n",
    "    results_dict['dumpfile_base'] = dumpfile_base\n",
    "    results_dict['dumpfile_surf'] = dumpfile_surf\n",
    "    results_dict['E_total_base'] = E_total_base\n",
    "    results_dict['E_total_surf'] = E_total_surf\n",
    "    results_dict['A_surf'] = A_surf\n",
    "    results_dict['E_coh'] = E_total_base / system.natoms\n",
    "    results_dict['E_surf_f'] = E_surf_f\n",
    "    \n",
    "    return results_dict\n",
    "    \n"
   ]
  },
  {
   "cell_type": "markdown",
   "metadata": {
    "deletable": true,
    "editable": true
   },
   "source": [
    "#### 3.3 relax_system()"
   ]
  },
  {
   "cell_type": "code",
   "execution_count": 12,
   "metadata": {
    "collapsed": true,
    "deletable": true,
    "editable": true
   },
   "outputs": [],
   "source": [
    "def relax_system(lammps_command, system, potential, symbols,\n",
    "                 mpi_command=None, etol=0.0, ftol=0.0, maxiter=10000,\n",
    "                 maxeval=100000, dmax=uc.set_in_units(0.01, 'angstrom')):\n",
    "    \"\"\"\n",
    "    Sets up and runs the min.in LAMMPS script for performing an energy/force\n",
    "    minimization to relax a system.\n",
    "    \n",
    "    Parameters\n",
    "    ----------\n",
    "    lammps_command :str\n",
    "        Command for running LAMMPS.\n",
    "    system : atomman.System\n",
    "        The system to perform the calculation on.\n",
    "    potential : atomman.lammps.Potential\n",
    "        The LAMMPS implemented potential to use.\n",
    "    symbols : list of str\n",
    "        The list of element-model symbols for the Potential that correspond to\n",
    "        system's atypes.\n",
    "    mpi_command : str, optional\n",
    "        The MPI command for running LAMMPS in parallel.  If not given, LAMMPS\n",
    "        will run serially.\n",
    "    etol : float, optional\n",
    "        The energy tolerance for the structure minimization. This value is\n",
    "        unitless. (Default is 0.0).\n",
    "    ftol : float, optional\n",
    "        The force tolerance for the structure minimization. This value is in\n",
    "        units of force. (Default is 0.0).\n",
    "    maxiter : int, optional\n",
    "        The maximum number of minimization iterations to use (default is \n",
    "        10000).\n",
    "    maxeval : int, optional\n",
    "        The maximum number of minimization evaluations to use (default is \n",
    "        100000).\n",
    "    dmax : float, optional\n",
    "        The maximum distance in length units that any atom is allowed to relax\n",
    "        in any direction during a single minimization iteration (default is\n",
    "        0.01 Angstroms).\n",
    "        \n",
    "    Returns\n",
    "    -------\n",
    "    dict\n",
    "        Dictionary of results consisting of keys:\n",
    "        \n",
    "        - **'logfile'** (*str*) - The name of the LAMMPS log file.\n",
    "        - **'initialdatafile'** (*str*) - The name of the LAMMPS data file\n",
    "          used to import an inital configuration.\n",
    "        - **'initialdumpfile'** (*str*) - The name of the LAMMPS dump file\n",
    "          corresponding to the inital configuration.\n",
    "        - **'finaldumpfile'** (*str*) - The name of the LAMMPS dump file\n",
    "          corresponding to the relaxed configuration.\n",
    "        - **'potentialenergy'** (*float*) - The total potential energy of\n",
    "          the relaxed system.\n",
    "    \"\"\"\n",
    "    \n",
    "    # Ensure all atoms are within the system's box\n",
    "    system.wrap()\n",
    "    \n",
    "    # Get lammps units\n",
    "    lammps_units = lmp.style.unit(potential.units)\n",
    "      \n",
    "    #Get lammps version date\n",
    "    lammps_date = iprPy.tools.check_lammps_version(lammps_command)['lammps_date']\n",
    "    \n",
    "    # Define lammps variables\n",
    "    lammps_variables = {}\n",
    "    \n",
    "    # Generate system and pair info\n",
    "    system_info = lmp.atom_data.dump(system, 'system.dat',\n",
    "                                     units=potential.units,\n",
    "                                     atom_style=potential.atom_style)\n",
    "    lammps_variables['atomman_system_info'] = system_info\n",
    "    lammps_variables['atomman_pair_info'] = potential.pair_info(symbols)\n",
    "    \n",
    "    # Pass in run parameters\n",
    "    lammps_variables['etol'] = etol\n",
    "    lammps_variables['ftol'] = uc.get_in_units(ftol, lammps_units['force'])\n",
    "    lammps_variables['maxiter'] = maxiter\n",
    "    lammps_variables['maxeval'] = maxeval\n",
    "    lammps_variables['dmax'] = uc.get_in_units(dmax, lammps_units['length'])\n",
    "    \n",
    "    # Set dump_modify format based on dump_modify_version\n",
    "    if lammps_date < datetime.date(2016, 8, 3):\n",
    "        lammps_variables['dump_modify_format'] = '\"%i %i %.13e %.13e %.13e %.13e\"'\n",
    "    else:\n",
    "        lammps_variables['dump_modify_format'] = 'float %.13e'\n",
    "    \n",
    "    # Write lammps input script\n",
    "    template_file = 'min.template'\n",
    "    lammps_script = 'min.in'\n",
    "    with open(template_file) as f:\n",
    "        template = f.read()\n",
    "    with open(lammps_script, 'w') as f:\n",
    "        f.write(iprPy.tools.filltemplate(template, lammps_variables,\n",
    "                                         '<', '>'))\n",
    "    \n",
    "    # Run LAMMPS\n",
    "    output = lmp.run(lammps_command, lammps_script, mpi_command,\n",
    "                     return_style='object')\n",
    "    \n",
    "    # Extract output values\n",
    "    thermo = output.simulations[-1]['thermo']\n",
    "    results = {}\n",
    "    results['logfile'] =         'log.lammps'\n",
    "    results['initialdatafile'] = 'system.dat'\n",
    "    results['initialdumpfile'] = 'atom.0'\n",
    "    results['finaldumpfile'] =   'atom.%i' % thermo.Step.values[-1]\n",
    "    results['potentialenergy'] = uc.set_in_units(thermo.PotEng.values[-1],\n",
    "                                                 lammps_units['energy'])\n",
    "    \n",
    "    return results\n",
    "\n"
   ]
  },
  {
   "cell_type": "markdown",
   "metadata": {
    "deletable": true,
    "editable": true
   },
   "source": [
    "### 4. Run calculation function(s)"
   ]
  },
  {
   "cell_type": "code",
   "execution_count": 13,
   "metadata": {
    "collapsed": false,
    "deletable": true,
    "editable": true
   },
   "outputs": [],
   "source": [
    "results_dict = surface_energy(lammps_command, \n",
    "                              system, \n",
    "                              potential,\n",
    "                              symbols,  \n",
    "                              mpi_command = mpi_command,\n",
    "                              cutboxvector = cutboxvector,\n",
    "                              etol = energytolerance,\n",
    "                              ftol = forcetolerance,\n",
    "                              maxiter = maxiterations,\n",
    "                              maxeval = maxevaluations,\n",
    "                              dmax = maxatommotion)"
   ]
  },
  {
   "cell_type": "code",
   "execution_count": 14,
   "metadata": {
    "collapsed": false,
    "deletable": true,
    "editable": true
   },
   "outputs": [
    {
     "data": {
      "text/plain": [
       "['dumpfile_surf',\n",
       " 'E_surf_f',\n",
       " 'E_total_surf',\n",
       " 'E_coh',\n",
       " 'A_surf',\n",
       " 'E_total_base',\n",
       " 'dumpfile_base']"
      ]
     },
     "execution_count": 14,
     "metadata": {},
     "output_type": "execute_result"
    }
   ],
   "source": [
    "results_dict.keys()"
   ]
  },
  {
   "cell_type": "markdown",
   "metadata": {
    "deletable": true,
    "editable": true
   },
   "source": [
    "### 5. Report results"
   ]
  },
  {
   "cell_type": "markdown",
   "metadata": {
    "deletable": true,
    "editable": true
   },
   "source": [
    "#### 5.1 Define units for outputting values\n",
    "\n",
    "- __length_unit__ is the unit of length to display results in.\n",
    "- __energy_unit__ is the unit of energy to display cohesive energies in.\n",
    "- __e_A_unit__ is the energy per area to report the surface energy in."
   ]
  },
  {
   "cell_type": "code",
   "execution_count": 15,
   "metadata": {
    "collapsed": true,
    "deletable": true,
    "editable": true
   },
   "outputs": [],
   "source": [
    "length_unit = 'angstrom'\n",
    "energy_unit = 'eV'\n",
    "\n",
    "#e_A_unit = energy_unit+'/'+length_unit+'^2'\n",
    "e_A_unit = 'mJ/m^2'"
   ]
  },
  {
   "cell_type": "markdown",
   "metadata": {
    "deletable": true,
    "editable": true
   },
   "source": [
    "#### 5.2 Print $E_{coh}$, $A_{surface}$, and $E_{surface}^f$"
   ]
  },
  {
   "cell_type": "code",
   "execution_count": 16,
   "metadata": {
    "collapsed": false,
    "deletable": true,
    "editable": true
   },
   "outputs": [
    {
     "name": "stdout",
     "output_type": "stream",
     "text": [
      "E_coh =   -4.44999999835 eV\n",
      "A_surface = 438.066793081 angstrom^2\n",
      "E_surface_f = 2049.39393517 mJ/m^2\n"
     ]
    }
   ],
   "source": [
    "print('E_coh =  ', uc.get_in_units(results_dict['E_coh'], energy_unit), energy_unit)\n",
    "print('A_surface =', uc.get_in_units(results_dict['A_surf'], length_unit+'^2'), length_unit+'^2')\n",
    "print('E_surface_f =', uc.get_in_units(results_dict['E_surf_f'], e_A_unit), e_A_unit)"
   ]
  }
 ],
 "metadata": {
  "kernelspec": {
   "display_name": "Python 2",
   "language": "python",
   "name": "python2"
  },
  "language_info": {
   "codemirror_mode": {
    "name": "ipython",
    "version": 2
   },
   "file_extension": ".py",
   "mimetype": "text/x-python",
   "name": "python",
   "nbconvert_exporter": "python",
   "pygments_lexer": "ipython2",
   "version": "2.7.13"
  }
 },
 "nbformat": 4,
 "nbformat_minor": 2
}
