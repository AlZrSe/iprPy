{
 "cells": [
  {
   "cell_type": "markdown",
   "metadata": {
    "deletable": true,
    "editable": true
   },
   "source": [
    "# stacking_fault Calculation Demonstration\n",
    "\n",
    "- - -"
   ]
  },
  {
   "cell_type": "markdown",
   "metadata": {
    "deletable": true,
    "editable": true
   },
   "source": [
    "**Lucas M. Hale**, [lucas.hale@nist.gov](mailto:lucas.hale@nist.gov?Subject=ipr-demo), *Materials Science and Engineering Division, NIST*.\n",
    "\n",
    "**Chandler A. Becker**, [chandler.becker@nist.gov](mailto:chandler.becker@nist.gov?Subject=ipr-demo), *Office of Data and Informatics, NIST*.\n",
    "\n",
    "**Zachary T. Trautt**, [zachary.trautt@nist.gov](mailto:zachary.trautt@nist.gov?Subject=ipr-demo), *Materials Measurement Science Division, NIST*.\n",
    "\n",
    "Version: 2017-07-24\n",
    "\n",
    "[Disclaimers](http://www.nist.gov/public_affairs/disclaimer.cfm) \n",
    " \n",
    "- - -"
   ]
  },
  {
   "cell_type": "markdown",
   "metadata": {
    "deletable": true,
    "editable": true
   },
   "source": [
    "## Introduction\n",
    "\n",
    "This Notebook describes the methodology for both the __stacking_fault__ and __stacking_fault_multi__ calculations.\n",
    "\n",
    "The __stacking_fault__ calculation evaluates the energy of a single generalized stacking fault shift along a specified crystallographic plane. In other words, this evaluates only a single configuration. This calculation script is better for evaluating critical points with known shifts, or for implementation in an intelligent workflow.   \n",
    "\n",
    "The __stacking_fault_multi__ calculation evaluates the full 2D generalized stacking fault map for an array of shifts along a specified crystallographic plane. A regular grid of points is established and the generalized stacking fault energy is evaluated at each. This calculation script is better optimized for generating the full GSF maps as it reduces simulation setup time and all values are saved to a single record.\n",
    "\n",
    "__Disclaimer #1__: The system's dimension perpendicular to the fault plane should be large to minimize the interaction of the free surface and the stacking fault.\n",
    "\n",
    "__Disclaimer #2__: Currently, the rotation capabilities of atomman limit this calculation such that only cubic prototypes can be rotated. Properties of non-cubic structures can still be explored, as long as the configuration being loaded has the plane of interest perpendicular to one of the three box vectors.\n",
    "\n",
    "- - -"
   ]
  },
  {
   "cell_type": "markdown",
   "metadata": {
    "deletable": true,
    "editable": true
   },
   "source": [
    "## Method and Theory\n",
    "\n",
    "A perfect crystal system is constructed in which two of the system's boundary conditions are periodic and the third is non-periodic (defined by the calculation using cutboxvector). To ensure that the shift is properly handled across the periodic directions, the box vector, $\\vec{a}$, $\\vec{b}$, or $\\vec{c}$, assigned to cutboxvector must have a Cartesian $x$, $y$, or $z$ component that the other two box vectors do not. If true, then the non-periodic boundary will be perpendicular to that Cartesian axis, and the periodic box vectors will be parallel to the cut plane.\n",
    "\n",
    "For LAMMPS compatible systems, the above rule places the following limitations on allowed systems:\n",
    "\n",
    "- cutboxvector = 'c': all systems allowed.\n",
    "\n",
    "- cutboxvector = 'b': the system's yz tilt must be zero.\n",
    "\n",
    "- cutboxvector = 'a': the system's xy and xz tilts must be zero.\n",
    "\n",
    "Once the system is constructed, a LAMMPS simulation performs an energy/force minimization and evaluates the system's total potential energy, $E^{total}(\\vec{0})$. \n",
    "\n",
    "A mathematical fault plane is defined in the middle of the system parallel to the free surface plane created by the non-periodic boundary. All atoms on one side of the fault plane are then shifted by a vector contained within the fault plane, $\\vec{s}$. After shifting, the system is subjected to an energy/force minimization where all atoms are only allowed to relax normal to the plane, and the system's total potential energy, $E^{total}(\\vec{s})$, is measured.\n",
    "\n",
    "For the stacking_fault calculation, only one shift is applied. For the stacking_fault_multi calculation, a regular array of points is constructed based on two non-parallel vectors, $\\vec{s_1}$ and $\\vec{s_2}$, that are in the fault plane. These two shift vectors should each correspond to a full periodic shift of the plane such that applying the full shift results in a system equivalent to the unshifted configuration. The evaluation grid is then constructed by taking fractional steps along both shift vectors.\n",
    "\n",
    "The generalized stacking fault energy, $E_{GSF}(\\vec{s})$, is then measured as\n",
    "\n",
    "$$ E_{GSF}(\\vec{s}) = \\frac{E^{total}(\\vec{s}) - E^{total}(\\vec{0})}{A_{fault}},$$\n",
    "\n",
    "where $A_{fault}$ is the area of the fault plane.\n",
    "\n",
    "Additionally, the relaxation normal to the glide plane, $\\Delta\\delta_{GSF}$,  is characterized by finding the change in the centers of mass of the shifted and unshifted regions perpendicular to the glide plane.\n",
    "\n",
    "- - -"
   ]
  },
  {
   "cell_type": "markdown",
   "metadata": {
    "deletable": true,
    "editable": true
   },
   "source": [
    "## Demonstration"
   ]
  },
  {
   "cell_type": "markdown",
   "metadata": {
    "deletable": true,
    "editable": true
   },
   "source": [
    "### 1. Library imports"
   ]
  },
  {
   "cell_type": "markdown",
   "metadata": {
    "deletable": true,
    "editable": true
   },
   "source": [
    "Import libraries needed by the calculation. The external libraries used are:\n",
    "\n",
    "- [numpy](http://www.numpy.org/)\n",
    "\n",
    "- [DataModelDict](https://github.com/usnistgov/DataModelDict)\n",
    "\n",
    "- [atomman](https://github.com/usnistgov/atomman)\n",
    "\n",
    "- [iprPy](https://github.com/usnistgov/iprPy)"
   ]
  },
  {
   "cell_type": "code",
   "execution_count": 1,
   "metadata": {
    "collapsed": true,
    "deletable": true,
    "editable": true
   },
   "outputs": [],
   "source": [
    "# Standard library imports\n",
    "from __future__ import division, absolute_import, print_function\n",
    "import os\n",
    "import sys\n",
    "import uuid\n",
    "import shutil\n",
    "import datetime\n",
    "from copy import deepcopy\n",
    "\n",
    "# http://www.numpy.org/\n",
    "import numpy as np \n",
    "\n",
    "# https://github.com/usnistgov/DataModelDict \n",
    "from DataModelDict import DataModelDict as DM\n",
    "\n",
    "# https://github.com/usnistgov/atomman \n",
    "import atomman as am\n",
    "import atomman.lammps as lmp\n",
    "import atomman.unitconvert as uc\n",
    "\n",
    "# https://github.com/usnistgov/iprPy\n",
    "import iprPy"
   ]
  },
  {
   "cell_type": "markdown",
   "metadata": {
    "deletable": true,
    "editable": true
   },
   "source": [
    "### 2. Assign values for the calculation's run parameters"
   ]
  },
  {
   "cell_type": "markdown",
   "metadata": {
    "deletable": true,
    "editable": true
   },
   "source": [
    "#### 2.0 Set the calculation's working directory"
   ]
  },
  {
   "cell_type": "code",
   "execution_count": 2,
   "metadata": {
    "collapsed": false,
    "deletable": true,
    "editable": true
   },
   "outputs": [],
   "source": [
    "calc_name = 'stacking_fault'\n",
    "\n",
    "# Check current working directory\n",
    "cwd_name = os.path.basename(os.getcwd())\n",
    "\n",
    "# Change working directory if needed\n",
    "if cwd_name != calc_name:\n",
    "    if not os.path.isdir(calc_name):\n",
    "        os.mkdir(calc_name)\n",
    "    os.chdir(calc_name)"
   ]
  },
  {
   "cell_type": "markdown",
   "metadata": {
    "deletable": true,
    "editable": true
   },
   "source": [
    "#### 2.1 Specify system-specific paths\n",
    "\n",
    "Simple input parameters:\n",
    "\n",
    "- __lammps_command__ is the LAMMPS command to use.\n",
    "\n",
    "- __mpi_command__ MPI command for running LAMMPS in parallel. A value of None will run simulations serially.\n",
    "\n",
    "- __lib_directory__ defines the relative path to the iprPy library. This makes it easier to define paths to reference records later."
   ]
  },
  {
   "cell_type": "code",
   "execution_count": 3,
   "metadata": {
    "collapsed": true,
    "deletable": true,
    "editable": true
   },
   "outputs": [],
   "source": [
    "lammps_command = 'lmp_serial'\n",
    "mpi_command = None\n",
    "lib_directory = '../../../library'"
   ]
  },
  {
   "cell_type": "markdown",
   "metadata": {
    "deletable": true,
    "editable": true
   },
   "source": [
    "#### 2.2 Specify the potenital and elemental symbols\n",
    "\n",
    "Simple input parameters:\n",
    "\n",
    "- __potential_name__ gives the name of the potential_LAMMPS reference record in the iprPy library to use for potential. \n",
    "\n",
    "- __symbols__ is a list of the elemental model symbols of potential to associate with the unique atom types of system.\n",
    "\n",
    "Derived parameters:\n",
    "\n",
    "- __potential_dir_path__ gives the path for the folder containing the artifacts associated with the potential (i.e. eam.alloy file). If an empty string '' is given, the necessary artifacts are taken as being in the working directory. (Here, it is derived from lib_directory and potential_name.)\n",
    "\n",
    "- __potential_path__ gives the path to the potential_LAMMPS reference record to use. (Here, it is derived from lib_directory and potential_name.)\n",
    "\n",
    "- __potential__ is the atomman.lammps.Potential representation of a LAMMPS implemented potential to use. (Here, the class is implemented using potential_path and potential_dir_path.)"
   ]
  },
  {
   "cell_type": "code",
   "execution_count": 4,
   "metadata": {
    "collapsed": false,
    "deletable": true,
    "editable": true
   },
   "outputs": [
    {
     "name": "stdout",
     "output_type": "stream",
     "text": [
      "Successfully loaded potential 1999--Mishin-Y--Ni--LAMMPS--ipr1\n"
     ]
    }
   ],
   "source": [
    "potential_name = '1999--Mishin-Y--Ni--LAMMPS--ipr1'\n",
    "symbols = ['Ni']\n",
    "\n",
    "# -------------- Derived parameters -------------- #\n",
    "# Define potential_path and potential_dir_path using lib_directory and potential_name\n",
    "potential_dir_path = os.path.abspath(os.path.join(lib_directory, 'potential_LAMMPS', potential_name))\n",
    "potential_path = potential_dir_path + '.json'\n",
    "\n",
    "# Create potential by loading LAMMPS-potential record\n",
    "potential = lmp.Potential(potential_path, potential_dir_path)\n",
    "\n",
    "print('Successfully loaded potential', potential)"
   ]
  },
  {
   "cell_type": "markdown",
   "metadata": {
    "deletable": true,
    "editable": true
   },
   "source": [
    "#### 2.3 Specify the prototype unit cell system\n",
    "\n",
    "Simple input parameters:\n",
    "\n",
    "- __prototype_name__ gives the name of the crystal_prototype reference record in the iprPy library to use for ucell. \n",
    "\n",
    "- __box_parameters__ defines the box parameters to scale ucell to. This is a list of either three or six floats\n",
    "    - __[a, b, c]__ are the orthogonal lattice parameters in length units.\n",
    "    - __[a, b, c, alpha, beta, gamma]__ are the triclinic lattice parameters in length units and angles in degrees.\n",
    "\n",
    "Derived parameters:\n",
    "\n",
    "- __prototype_path__ gives the path to the crystal_prototype reference record to use. (Here, it is derived from lib_directory and prototype_name).\n",
    "\n",
    "- __ucell__ is an atomman.System representing a fundamental unit cell of the system. (Here, it is loaded from prototype_path file, then scaled using box_parameters)."
   ]
  },
  {
   "cell_type": "code",
   "execution_count": 5,
   "metadata": {
    "collapsed": false,
    "deletable": true,
    "editable": true
   },
   "outputs": [
    {
     "name": "stdout",
     "output_type": "stream",
     "text": [
      "avect =  [ 3.520,  0.000,  0.000]\n",
      "bvect =  [ 0.000,  3.520,  0.000]\n",
      "cvect =  [ 0.000,  0.000,  3.520]\n",
      "origin = [ 0.000,  0.000,  0.000]\n",
      "natoms = 4\n",
      "natypes = 1\n",
      "     id |   atype |  pos[0] |  pos[1] |  pos[2]\n",
      "      0 |       1 |   0.000 |   0.000 |   0.000\n",
      "      1 |       1 |   0.000 |   1.760 |   1.760\n",
      "      2 |       1 |   1.760 |   0.000 |   1.760\n",
      "      3 |       1 |   1.760 |   1.760 |   0.000\n"
     ]
    }
   ],
   "source": [
    "prototype_name = 'A1--Cu--fcc'\n",
    "box_parameters = uc.set_in_units([3.52, 3.52, 3.52], 'angstrom')\n",
    "\n",
    "# -------------- Derived parameters -------------- #\n",
    "# Define prototype_path using lib_directory and prototype_name\n",
    "prototype_path = os.path.abspath(os.path.join(lib_directory, 'crystal_prototype', prototype_name+'.json'))\n",
    "\n",
    "# Create ucell by loading prototype record\n",
    "ucell = am.load('system_model', prototype_path)[0]\n",
    "\n",
    "# Rescale ucell using box_parameters\n",
    "if len(box_parameters) == 3:\n",
    "    ucell.box_set(a=box_parameters[0], b=box_parameters[1], c=box_parameters[2], scale=True)\n",
    "elif len(box_parameters) == 6:\n",
    "    ucell.box_set(a=box_parameters[0], b=box_parameters[1], c=box_parameters[2], scale=True,\n",
    "                  alpha=box_parameters[3], beta=box_parameters[4], gamma=box_parameters[5])\n",
    "\n",
    "print(ucell)"
   ]
  },
  {
   "cell_type": "markdown",
   "metadata": {
    "deletable": true,
    "editable": true
   },
   "source": [
    "#### 2.4 Specify the defect \n",
    "\n",
    "Simple input parameters:\n",
    "\n",
    "- __stackingfault_name__ gives the name of the stacking_fault reference record in the iprPy library to use for potential. \n",
    "\n",
    "Derived parameters:\n",
    "\n",
    "- __stackingfault_path__ gives the path to the stacking_fault reference record to use. (Here, it is derived from lib_directory and stackingfault_name).\n",
    "\n",
    "- __stackingfault_model__ is a DataModelDict of a stacking_fault record. (Here, the stackingfault_path file is loaded as a DataModelDict.)\n",
    "\n",
    "- __stackingfault_kwargs__ is a dictionary containing parameters for generating the defect. Values are extracted from the stackingfault_model record and uniquely define a type of stacking fault. Included keywords are:\n",
    "\n",
    "    - __crystallographic-axes__ specifies how to orient the system. Subelements define each of the x-, y-, and z-axes.\n",
    "    \n",
    "    - __cutboxvector__ specifies which box vector to apply the free surface cut to.\n",
    "    \n",
    "    - __atomshift__ is a 3D vector rigid-body shift to apply to atoms in the system. The atomshift vector is relative to the rotated unit cell's box vectors.\n",
    "    \n",
    "    - __plane-position__ specifies the location to place the fault plane relative to the box vector being cut of the rotated unit cell. \n",
    "    \n",
    "    - __shift-vector-1, shift-vector-2__ are two non-parallel crystallographic shifting vectors within the fault plane."
   ]
  },
  {
   "cell_type": "code",
   "execution_count": 6,
   "metadata": {
    "collapsed": false,
    "deletable": true,
    "editable": true
   },
   "outputs": [
    {
     "name": "stdout",
     "output_type": "stream",
     "text": [
      "Successfully loaded defect record for A1--Cu--fcc--111sf\n",
      "{\n",
      "    \"x_axis\": \" 1 -1  0\", \n",
      "    \"y_axis\": \" 1  1 -2\", \n",
      "    \"z_axis\": \" 1  1  1\", \n",
      "    \"atomshift\": \" 0.01  0.01  0.01\", \n",
      "    \"cutboxvector\": \"c\", \n",
      "    \"faultpos\": 0.5, \n",
      "    \"shiftvector1\": \" 0.5 -0.5  0.0\", \n",
      "    \"shiftvector2\": \" 0.5  0.5 -1.0\"\n",
      "}\n"
     ]
    }
   ],
   "source": [
    "stackingfault_name = 'A1--Cu--fcc--111sf'\n",
    "\n",
    "# -------------- Derived parameters -------------- #\n",
    "# Define stackingfault_path using lib_directory and stackingfault_name\n",
    "stackingfault_path = os.path.abspath(os.path.join(lib_directory, 'stacking_fault', stackingfault_name+'.json')) \n",
    "\n",
    "# Load stacking-fault record as a DataModelDict\n",
    "with open(stackingfault_path) as f:\n",
    "    stackingfault_model = DM(f)\n",
    "\n",
    "print('Successfully loaded defect record for', stackingfault_model['stacking-fault']['id'])\n",
    "\n",
    "# Extract defect parameters    \n",
    "stackingfault_kwargs = stackingfault_model['stacking-fault']['calculation-parameter']\n",
    "\n",
    "print(stackingfault_kwargs.json(indent=4))"
   ]
  },
  {
   "cell_type": "markdown",
   "metadata": {
    "deletable": true,
    "editable": true
   },
   "source": [
    "#### 2.5 Generate the initial system\n",
    "\n",
    "Simple input parameters:\n",
    "\n",
    "- __sizemults__ list of three integers or three tuple pairs of integers specifying how many times (and in which direction) the ucell vectors of $a$, $b$ and $c$ are replicated in creating system.\n",
    "\n",
    "Defect model parameters:\n",
    "\n",
    "- __x_axis__ is the 3D crystal vector relative to ucell to align with the x-axis of system.\n",
    "\n",
    "- __y_axis__ is the 3D crystal vector relative to ucell to align with the y-axis of system.\n",
    "\n",
    "- __z_axis__ is the 3D crystal vector relative to ucell to align with the z-axis of system.\n",
    "\n",
    "- __atomshift__ is a 3D vector rigid-body shift to apply to atoms in the system. The atomshift vector is relative to the rotated unit cell's box vectors.\n",
    "\n",
    "Derived parameters:\n",
    "\n",
    "- __axes__ is a 3x3 array combining x_axis, y_axis and z_axis.\n",
    "\n",
    "- __shift__ is a 3D vector rigid-body shift to apply to atoms in the system. The shift vector is in absolute Cartesian units. (Here, it is derived from atomshift).\n",
    "\n",
    "- __system__ is the base atomman.System to use. (Here, it is derived by copying ucell, rotating according to axes, applying shift, then sizemults"
   ]
  },
  {
   "cell_type": "code",
   "execution_count": 7,
   "metadata": {
    "collapsed": false,
    "deletable": true,
    "editable": true
   },
   "outputs": [
    {
     "name": "stdout",
     "output_type": "stream",
     "text": [
      "# of atoms in system = 3000\n"
     ]
    }
   ],
   "source": [
    "sizemults = [5,5,5]\n",
    "\n",
    "# -------------- Defect parameters --------------- #\n",
    "x_axis = np.array(stackingfault_kwargs['x_axis'].split(), dtype=float)\n",
    "y_axis = np.array(stackingfault_kwargs['y_axis'].split(), dtype=float)\n",
    "z_axis = np.array(stackingfault_kwargs['z_axis'].split(), dtype=float)\n",
    "atomshift = np.array(stackingfault_kwargs['atomshift'].split(), dtype=float)\n",
    "\n",
    "# -------------- Derived parameters -------------- #\n",
    "# Copy ucell to initialsystem\n",
    "system = deepcopy(ucell)\n",
    "\n",
    "# Build axes from x_axis, y_axis and z_axis\n",
    "axes = np.array([x_axis, y_axis, z_axis])\n",
    "\n",
    "# Rotate using axes\n",
    "system = am.rotate_cubic(system, axes)\n",
    "\n",
    "# Convert atomshift to shift using the rotated system\n",
    "shift = (atomshift[0] * system.box.avect \n",
    "         + atomshift[1] * system.box.bvect \n",
    "         + atomshift[2] * system.box.cvect)\n",
    "\n",
    "# Apply shift\n",
    "system.atoms_prop(key='pos', value=system.atoms_prop(key='pos') + shift)\n",
    "\n",
    "# Apply sizemults\n",
    "system.supersize(*sizemults)\n",
    "\n",
    "print('# of atoms in system =', system.natoms)"
   ]
  },
  {
   "cell_type": "markdown",
   "metadata": {
    "deletable": true,
    "editable": true
   },
   "source": [
    "#### 2.6 Specify calculation-specific run parameters\n",
    "\n",
    "Simple input parameters:\n",
    "\n",
    "- __shiftfraction1__ is the fraction of shiftvector1 to apply in generating the fault.\n",
    "\n",
    "- __shiftfraction2__ is the fraction of shiftvector2 to apply in generating the fault.\n",
    "\n",
    "- __energytolerance__ is the energy tolerance to use during the minimizations. This is unitless.\n",
    "\n",
    "- __forcetolerance__ is the force tolerance to use during the minimizations. This is in energy/length units.\n",
    "\n",
    "- __maxiterations__ is the maximum number of minimization iterations to use.\n",
    "\n",
    "- __maxevaluations__ is the maximum number of minimization evaluations to use.\n",
    "\n",
    "- __maxatommotion__ is the largest distance that an atom is allowed to move during a minimization iteration. This is in length units.\n",
    "\n",
    "Defect model parameters\n",
    "\n",
    "- __cutboxvector__ defines which of the three system box vector boundaries ($a$, $b$, or $c$) the system will be cut along to create the free surface.\n",
    "\n",
    "- __faultpos_ucell__ specifies the location to place the fault plane relative to the box vector being cut of the rotated unit cell.\n",
    "\n",
    "- __shiftvector1_crystal__ is a 3D crystal vector relative to ucell that defines one of the shiftvectors.\n",
    "\n",
    "- __shiftvector2_crystal__ is a 3D crystal vector relative to ucell that defines one of the shiftvectors.\n",
    "\n",
    "Derived parameters\n",
    "\n",
    "- __T__ is the transformation matrix associated with axes.\n",
    "\n",
    "- __shiftvector1__ is one of the shiftvectors in absolute Cartesian units. This is obtained by scaling shiftvector1_crystal by the unit cell box vectors, and then transforming to the defined axes.\n",
    "\n",
    "- __shiftvector2__ is one of the shiftvectors in absolute Cartesian units. This is obtained by scaling shiftvector2_crystal by the unit cell box vectors, and then transforming to the defined axes.\n",
    "\n",
    "- __planepos__ is the fractional position to place the fault plane relative to the full initial system. This is derived using planepos_ucell and sizemults such that the fault is placed in one of the middle cell replicas, and always in the same relative position within the cell replica."
   ]
  },
  {
   "cell_type": "code",
   "execution_count": 8,
   "metadata": {
    "collapsed": false,
    "deletable": true,
    "editable": true
   },
   "outputs": [],
   "source": [
    "shiftfraction1 = 0.5\n",
    "shiftfraction2 = 0.0\n",
    "\n",
    "energytolerance = 1e-8\n",
    "forcetolerance = uc.set_in_units(0.0, 'eV/angstrom')\n",
    "maxiterations = 10000\n",
    "maxevaluations = 100000\n",
    "maxatommotion = uc.set_in_units(0.01, 'angstrom')\n",
    "\n",
    "# -------------- Defect parameters --------------- #\n",
    "faultpos_ucell = float(stackingfault_kwargs['faultpos'])\n",
    "cutboxvector = stackingfault_kwargs['cutboxvector']\n",
    "shiftvector1_crystal = np.array(stackingfault_kwargs['shiftvector1'].split(), dtype=float)\n",
    "shiftvector2_crystal = np.array(stackingfault_kwargs['shiftvector2'].split(), dtype=float)\n",
    "\n",
    "# -------------- Derived parameters -------------- #\n",
    "# Scale and transform the shiftvectors\n",
    "T = am.tools.axes_check(axes)\n",
    "shiftvector1 = T.dot(shiftvector1_crystal[0] * ucell.box.avect + \n",
    "                     shiftvector1_crystal[1] * ucell.box.bvect + \n",
    "                     shiftvector1_crystal[2] * ucell.box.cvect)\n",
    "\n",
    "shiftvector2 = T.dot(shiftvector2_crystal[0] * ucell.box.avect + \n",
    "                     shiftvector2_crystal[1] * ucell.box.bvect + \n",
    "                     shiftvector2_crystal[2] * ucell.box.cvect)\n",
    "\n",
    "# Define faultpos shift function\n",
    "def shift_faultpos(p, m):\n",
    "    \"\"\"This shifts faultpos, p, based on system multiplier, m\"\"\"\n",
    "    # If m is odd, keep p=0.5 at 0.5 \n",
    "    if m % 2 == 1: \n",
    "        return (p + (m-1) * 0.5) / m        \n",
    "    # If m is even, keep p=0.0 at 0.5\n",
    "    else:          \n",
    "        return (2 * p + m) / (2 * m)\n",
    "\n",
    "# Convert faultpos_ucell to faultpos\n",
    "if   cutboxvector == 'a': m = sizemults[0]\n",
    "elif cutboxvector == 'b': m = sizemults[1]\n",
    "elif cutboxvector == 'c': m = sizemults[2]\n",
    "    \n",
    "if isinstance(m, (list, tuple)):\n",
    "    m = m[1] - m[0]\n",
    "    \n",
    "faultpos = shift_faultpos(faultpos_ucell, m)\n",
    "\n",
    "faultshift = shiftfraction1 * shiftvector1 + shiftfraction2 * shiftvector2"
   ]
  },
  {
   "cell_type": "markdown",
   "metadata": {
    "deletable": true,
    "editable": true
   },
   "source": [
    "### 3. Define calculation function(s) and generate template LAMMPS script(s)"
   ]
  },
  {
   "cell_type": "markdown",
   "metadata": {
    "deletable": true,
    "editable": true
   },
   "source": [
    "#### 3.1 sfmin.template\n",
    "\n",
    "This is a template LAMMPS script for performing an energy minimization for a system with a stacking fault."
   ]
  },
  {
   "cell_type": "code",
   "execution_count": 9,
   "metadata": {
    "collapsed": true,
    "deletable": true,
    "editable": true
   },
   "outputs": [],
   "source": [
    "with open('sfmin.template', 'w') as f:\n",
    "    f.write(\"\"\"#LAMMPS input script that performs an energy minimization\n",
    "#for a system with a stacking fault\n",
    "\n",
    "<atomman_system_info>\n",
    "\n",
    "<atomman_pair_info>\n",
    "\n",
    "<fix_cut_setforce>\n",
    "\n",
    "thermo_style custom step lx ly lz pxx pyy pzz pe\n",
    "thermo_modify format float %.13e\n",
    "\n",
    "compute peatom all pe/atom \n",
    "\n",
    "min_modify dmax <dmax>\n",
    "\n",
    "dump dumpit all custom <maxeval> <sim_directory>*.dump id type x y z c_peatom\n",
    "dump_modify dumpit format <dump_modify_format>\n",
    "\n",
    "minimize <etol> <ftol> <maxiter> <maxeval>\n",
    "\"\"\")"
   ]
  },
  {
   "cell_type": "markdown",
   "metadata": {
    "deletable": true,
    "editable": true
   },
   "source": [
    "#### 3.2 stackingfaultpoint()\n",
    "\n",
    "This function creates a system with a stacking fault shift, relaxes the system, and computes the system's total potential energy and center of mass difference between the atoms on either side of the fault plane. \n",
    "\n",
    "Arguments:\n",
    "\n",
    "- __lammps_command__ is the LAMMPS command to use.\n",
    "\n",
    "- __system__ is an atomman.System to perform the scan on.\n",
    "\n",
    "- __potential__ is the atomman.lammps.Potential representation of a LAMMPS implemented potential to use.\n",
    "\n",
    "- __symbols__ is a list of element-model symbols for the Potential that correspond to system's atypes.\n",
    "\n",
    "- __mpi_command__ MPI command for running LAMMPS in parallel. Default value is None (serial run).  \n",
    "\n",
    "- __sim_directory__ is the directory to save log and dump files to. Default value is None (save to current working directory).\n",
    "\n",
    "- __cutboxvector__ is the system box vector boundary along which to make the free surface cut. Default value is 'c'.\n",
    "\n",
    "- __faultpos__ is the position to place the fault plane. This is relative to the system's box vector associated with cutboxvector. Default value is 0.5 (center of the system).\n",
    "\n",
    "- __faultshift__ is the 3D atomic shift vector in length units to apply to the atoms on the positive side of the fault position. Default value is [0.0, 0.0, 0.0] (No shift).\n",
    "\n",
    "- __etol__ is the energy tolerance to use for the minimizations. Default value is 0.0 (don't consider energy).\n",
    "\n",
    "- __ftol__ is the energy tolerance to use for the minimizations. Default value is 0.0 (don't consider force). If given, this should be in atomman's working energy/length units.\n",
    "\n",
    "- __maxiter__ is the maximum number of minimization iterations to perform. Default value is 10000.\n",
    "\n",
    "- __maxeval__ is the maximum number of minimization evaluations to perform. Default value is 100000.\n",
    "\n",
    "- __dmax__ is the maximum distance an atom is allowed to move per minimization iteration. Default value is 0.01 Angstroms."
   ]
  },
  {
   "cell_type": "code",
   "execution_count": 10,
   "metadata": {
    "collapsed": false,
    "deletable": true,
    "editable": true
   },
   "outputs": [],
   "source": [
    "def stackingfaultpoint(lammps_command, system, potential, symbols,\n",
    "                       mpi_command=None, sim_directory=None,\n",
    "                       cutboxvector='c', faultpos=0.5,\n",
    "                       faultshift=[0.0, 0.0, 0.0], etol=0.0, ftol=0.0,\n",
    "                       maxiter=10000, maxeval=100000,\n",
    "                       dmax=uc.set_in_units(0.01, 'angstrom')):\n",
    "    \"\"\"\n",
    "    Perform a stacking fault relaxation simulation for a single faultshift.\n",
    "    \n",
    "    Parameters\n",
    "    ----------\n",
    "    lammps_command :str\n",
    "        Command for running LAMMPS.\n",
    "    system : atomman.System\n",
    "        The system to perform the calculation on.\n",
    "    potential : atomman.lammps.Potential\n",
    "        The LAMMPS implemented potential to use.\n",
    "    symbols : list of str\n",
    "        The list of element-model symbols for the Potential that correspond to\n",
    "        system's atypes.\n",
    "    mpi_command : str, optional\n",
    "        The MPI command for running LAMMPS in parallel.  If not given, LAMMPS\n",
    "        will run serially.\n",
    "    sim_directory : str, optional\n",
    "        The path to the directory to perform the simuation in.  If not\n",
    "        given, will use the current working directory.\n",
    "    etol : float, optional\n",
    "        The energy tolerance for the structure minimization. This value is\n",
    "        unitless. (Default is 0.0).\n",
    "    ftol : float, optional\n",
    "        The force tolerance for the structure minimization. This value is in\n",
    "        units of force. (Default is 0.0).\n",
    "    maxiter : int, optional\n",
    "        The maximum number of minimization iterations to use (default is \n",
    "        10000).\n",
    "    maxeval : int, optional\n",
    "        The maximum number of minimization evaluations to use (default is \n",
    "        100000).\n",
    "    dmax : float, optional\n",
    "        The maximum distance in length units that any atom is allowed to relax\n",
    "        in any direction during a single minimization iteration (default is\n",
    "        0.01 Angstroms).\n",
    "    cutboxvector : str, optional\n",
    "        Indicates which of the three system box vectors, 'a', 'b', or 'c', to\n",
    "        cut with a non-periodic boundary (default is 'c').\n",
    "    faultpos : float, optional\n",
    "        The fractional position along the cutboxvector where the stacking\n",
    "        fault plane will be placed (default is 0.5).\n",
    "    faultshift : list of float, optional\n",
    "        The vector shift to apply to all atoms above the fault plane defined\n",
    "        by faultpos (default is [0,0,0], i.e. no shift applied).\n",
    "    \n",
    "    Returns\n",
    "    -------\n",
    "    dict\n",
    "        Dictionary of results consisting of keys:\n",
    "        \n",
    "        - **'logfile'** (*str*) - The filename of the LAMMPS log file.\n",
    "        - **'dumpfile'** (*str*) - The filename of the LAMMPS dump file\n",
    "          of the relaxed system.\n",
    "        - **'system'** (*atomman.System*) - The relaxed system.\n",
    "        - **'A_fault'** (*float*) - The area of the fault surface.\n",
    "        - **'E_total'** (*float*) - The total potential energy of the relaxed\n",
    "          system.\n",
    "        - **'disp'** (*float*) - The center of mass difference between atoms\n",
    "          above and below the fault plane in the cutboxvector direction.\n",
    "    \n",
    "    Raises\n",
    "    ------\n",
    "    ValueError\n",
    "        For invalid cutboxvectors.\n",
    "    \"\"\"\n",
    "    \n",
    "    # Set options based on cutboxvector\n",
    "    if cutboxvector == 'a':\n",
    "        # Assert system is compatible with planeaxis value\n",
    "        if system.box.xy != 0.0 or system.box.xz != 0.0:\n",
    "            raise ValueError(\"box tilts xy and xz must be 0 for cutboxvector='a'\")\n",
    "        \n",
    "        # Specify cutindex\n",
    "        cutindex = 0\n",
    "        \n",
    "        # Identify atoms above fault\n",
    "        faultpos = system.box.xlo + system.box.lx * faultpos\n",
    "        abovefault = system.atoms.view['pos'][:, cutindex] > (faultpos)\n",
    "        \n",
    "        # Compute fault area\n",
    "        faultarea = np.linalg.norm(np.cross(system.box.bvect,\n",
    "                                            system.box.cvect))\n",
    "        \n",
    "        # Give correct LAMMPS fix setforce command\n",
    "        fix_cut_setforce = 'fix cut all setforce NULL 0 0'\n",
    "        \n",
    "    elif cutboxvector == 'b':\n",
    "        # Assert system is compatible with planeaxis value\n",
    "        if system.box.yz != 0.0:\n",
    "            raise ValueError(\"box tilt yz must be 0 for cutboxvector='b'\")\n",
    "        \n",
    "        # Specify cutindex\n",
    "        cutindex = 1\n",
    "        \n",
    "        # Identify atoms above fault\n",
    "        faultpos = system.box.ylo + system.box.ly * faultpos\n",
    "        abovefault = system.atoms.view['pos'][:, cutindex] > (faultpos)\n",
    "        \n",
    "        # Compute fault area\n",
    "        faultarea = np.linalg.norm(np.cross(system.box.avect,\n",
    "                                            system.box.cvect))\n",
    "        \n",
    "        # Give correct LAMMPS fix setforce command\n",
    "        fix_cut_setforce = 'fix cut all setforce 0 NULL 0'\n",
    "        \n",
    "    elif cutboxvector == 'c':\n",
    "        # Specify cutindex\n",
    "        cutindex = 2\n",
    "        \n",
    "        # Identify atoms above fault\n",
    "        faultpos = system.box.zlo + system.box.lz * faultpos\n",
    "        abovefault = system.atoms.view['pos'][:, cutindex] > (faultpos)\n",
    "        \n",
    "        # Compute fault area\n",
    "        faultarea = np.linalg.norm(np.cross(system.box.avect,\n",
    "                                            system.box.bvect))\n",
    "        \n",
    "        # Give correct LAMMPS fix setforce command\n",
    "        fix_cut_setforce = 'fix cut all setforce 0 0 NULL'\n",
    "        \n",
    "    else: \n",
    "        raise ValueError('Invalid cutboxvector')\n",
    "    \n",
    "    # Assert faultshift is in cut plane\n",
    "    if faultshift[cutindex] != 0.0:\n",
    "        raise ValueError('faultshift must be in cut plane')\n",
    "    \n",
    "    # Generate stacking fault system by shifting atoms above the fault\n",
    "    sfsystem = deepcopy(system)\n",
    "    sfsystem.pbc = [True, True, True]\n",
    "    sfsystem.pbc[cutindex] = False\n",
    "    sfsystem.atoms.view['pos'][abovefault] += faultshift\n",
    "    sfsystem.wrap()\n",
    "    \n",
    "    if sim_directory is not None:\n",
    "        # Create sim_directory if it doesn't exist\n",
    "        if not os.path.isdir(sim_directory):\n",
    "            os.mkdir(sim_directory)\n",
    "            \n",
    "        # Add '/' to end of sim_directory string if needed\n",
    "        if sim_directory[-1] != '/': \n",
    "            sim_directory = sim_directory + '/'\n",
    "    else:\n",
    "        # Set sim_directory if is None\n",
    "        sim_directory = ''\n",
    "    \n",
    "    # Get lammps units\n",
    "    lammps_units = lmp.style.unit(potential.units)\n",
    "       \n",
    "    #Get lammps version date\n",
    "    lammps_date = iprPy.tools.check_lammps_version(lammps_command)['lammps_date']\n",
    "    \n",
    "    # Define lammps variables\n",
    "    lammps_variables = {}\n",
    "    system_info = lmp.atom_data.dump(sfsystem,\n",
    "                                     os.path.join(sim_directory,\n",
    "                                                  'system.dat'),\n",
    "                                     units=potential.units,\n",
    "                                     atom_style=potential.atom_style)\n",
    "    lammps_variables['atomman_system_info'] = system_info\n",
    "    lammps_variables['atomman_pair_info'] = potential.pair_info(symbols)\n",
    "    lammps_variables['fix_cut_setforce'] = fix_cut_setforce\n",
    "    lammps_variables['sim_directory'] = sim_directory\n",
    "    lammps_variables['etol'] = etol\n",
    "    lammps_variables['ftol'] = uc.get_in_units(ftol, lammps_units['force'])\n",
    "    lammps_variables['maxiter'] = maxiter\n",
    "    lammps_variables['maxeval'] = maxeval\n",
    "    lammps_variables['dmax'] = uc.get_in_units(dmax, lammps_units['length'])\n",
    "    \n",
    "    # Set dump_modify format based on dump_modify_version\n",
    "    if lammps_date < datetime.date(2016, 8, 3):\n",
    "        lammps_variables['dump_modify_format'] = '\"%i %i %.13e %.13e %.13e %.13e\"'\n",
    "    else:\n",
    "        lammps_variables['dump_modify_format'] = 'float %.13e'\n",
    "        \n",
    "    # Write lammps input script\n",
    "    template_file = 'sfmin.template'\n",
    "    lammps_script = os.path.join(sim_directory, 'sfmin.in')\n",
    "    with open(template_file) as f:\n",
    "        template = f.read()\n",
    "    with open(lammps_script, 'w') as f:\n",
    "        f.write(iprPy.tools.filltemplate(template, lammps_variables,\n",
    "                                         '<', '>'))\n",
    "    \n",
    "    # Run LAMMPS\n",
    "    output = lmp.run(lammps_command, lammps_script, mpi_command,\n",
    "                     return_style='object',\n",
    "                     logfile=os.path.join(sim_directory, 'log.lammps'))\n",
    "    \n",
    "    # Extract output values\n",
    "    thermo = output.simulations[-1]['thermo']\n",
    "    logfile = os.path.join(sim_directory, 'log.lammps')\n",
    "    dumpfile = os.path.join(sim_directory, '%i.dump' % thermo.Step.values[-1])\n",
    "    E_total = uc.set_in_units(thermo.PotEng.values[-1],\n",
    "                              lammps_units['energy'])\n",
    "    \n",
    "    #Load relaxed system\n",
    "    sfsystem = lmp.atom_dump.load(dumpfile)\n",
    "              \n",
    "    # Find center of mass difference in top/bottom planes\n",
    "    disp = (sfsystem.atoms.view['pos'][abovefault, cutindex].mean()\n",
    "            - sfsystem.atoms.view['pos'][~abovefault, cutindex].mean())\n",
    "    \n",
    "    # Return results\n",
    "    results_dict = {}\n",
    "    results_dict['logfile'] = logfile\n",
    "    results_dict['dumpfile'] = dumpfile\n",
    "    results_dict['system'] = sfsystem\n",
    "    results_dict['A_fault'] = faultarea\n",
    "    results_dict['E_total'] = E_total\n",
    "    results_dict['disp'] = disp\n",
    "    \n",
    "    return results_dict"
   ]
  },
  {
   "cell_type": "markdown",
   "metadata": {
    "deletable": true,
    "editable": true
   },
   "source": [
    "#### 3.2 stackingfault()\n",
    "\n",
    "This function evaluates the stacking fault energy and normal displacement associated with a specified fault plane and shift. It does so by comparing the fault system to an equivalent unshifted (no fault) system.\n",
    "\n",
    "Arguments:\n",
    "\n",
    "- __lammps_command__ is the LAMMPS command to use.\n",
    "\n",
    "- __system__ is an atomman.System to perform the scan on.\n",
    "\n",
    "- __potential__ is the atomman.lammps.Potential representation of a LAMMPS implemented potential to use.\n",
    "\n",
    "- __symbols__ is a list of element-model symbols for the Potential that correspond to system's atypes.\n",
    "\n",
    "- __mpi_command__ MPI command for running LAMMPS in parallel. Default value is None (serial run).  \n",
    "\n",
    "- __cutboxvector__ is the system box vector boundary along which to make the free surface cut. Default value is 'c'.\n",
    "\n",
    "- __faultpos__ is the position to place the fault plane. This is relative to the system's box vector associated with cutboxvector. Default value is 0.5 (center of the system).\n",
    "\n",
    "- __faultshift__ is the 3D atomic shift vector in length units to apply to the atoms on the positive side of the fault position. Default value is [0.0, 0.0, 0.0] (No shift).\n",
    "\n",
    "- __etol__ is the energy tolerance to use for the minimizations. Default value is 0.0 (don't consider energy).\n",
    "\n",
    "- __ftol__ is the energy tolerance to use for the minimizations. Default value is 0.0 (don't consider force). If given, this should be in atomman's working energy/length units.\n",
    "\n",
    "- __maxiter__ is the maximum number of minimization iterations to perform. Default value is 10000.\n",
    "\n",
    "- __maxeval__ is the maximum number of minimization evaluations to perform. Default value is 100000.\n",
    "\n",
    "- __dmax__ is the maximum distance an atom is allowed to move per minimization iteration. Default value is 0.01 Angstroms."
   ]
  },
  {
   "cell_type": "code",
   "execution_count": 11,
   "metadata": {
    "collapsed": true,
    "deletable": true,
    "editable": true
   },
   "outputs": [],
   "source": [
    "def stackingfault(lammps_command, system, potential, symbols,\n",
    "                  mpi_command=None, cutboxvector=None, faultpos=0.5,\n",
    "                  faultshift=[0.0, 0.0, 0.0], etol=0.0, ftol=0.0,\n",
    "                  maxiter=10000, maxeval=100000,\n",
    "                  dmax=uc.set_in_units(0.01, 'angstrom')):\n",
    "    \"\"\"\n",
    "    Computes the generalized stacking fault value for a single faultshift.\n",
    "    \n",
    "    Parameters\n",
    "    ----------\n",
    "    lammps_command :str\n",
    "        Command for running LAMMPS.\n",
    "    system : atomman.System\n",
    "        The system to perform the calculation on.\n",
    "    potential : atomman.lammps.Potential\n",
    "        The LAMMPS implemented potential to use.\n",
    "    symbols : list of str\n",
    "        The list of element-model symbols for the Potential that correspond to\n",
    "        system's atypes.\n",
    "    mpi_command : str, optional\n",
    "        The MPI command for running LAMMPS in parallel.  If not given, LAMMPS\n",
    "        will run serially.\n",
    "    etol : float, optional\n",
    "        The energy tolerance for the structure minimization. This value is\n",
    "        unitless. (Default is 0.0).\n",
    "    ftol : float, optional\n",
    "        The force tolerance for the structure minimization. This value is in\n",
    "        units of force. (Default is 0.0).\n",
    "    maxiter : int, optional\n",
    "        The maximum number of minimization iterations to use (default is \n",
    "        10000).\n",
    "    maxeval : int, optional\n",
    "        The maximum number of minimization evaluations to use (default is \n",
    "        100000).\n",
    "    dmax : float, optional\n",
    "        The maximum distance in length units that any atom is allowed to relax\n",
    "        in any direction during a single minimization iteration (default is\n",
    "        0.01 Angstroms).\n",
    "    cutboxvector : str, optional\n",
    "        Indicates which of the three system box vectors, 'a', 'b', or 'c', to\n",
    "        cut with a non-periodic boundary (default is 'c').\n",
    "    faultpos : float, optional\n",
    "        The fractional position along the cutboxvector where the stacking\n",
    "        fault plane will be placed (default is 0.5).\n",
    "    faultshift : list of float, optional\n",
    "        The vector shift to apply to all atoms above the fault plane defined\n",
    "        by faultpos (default is [0,0,0], i.e. no shift applied).\n",
    "    \n",
    "    Returns\n",
    "    -------\n",
    "    dict\n",
    "        Dictionary of results consisting of keys:\n",
    "        \n",
    "        - **'E_gsf'** (*float*) - The stacking fault formation energy.\n",
    "        - **'E_total_0'** (*float*) - The total potential energy of the\n",
    "          system before applying the faultshift.\n",
    "        - **'E_total_sf'** (*float*) - The total potential energy of the\n",
    "          system after applying the faultshift.\n",
    "        - **'delta_disp'** (*float*) - The change in the center of mass\n",
    "          difference between before and after applying the faultshift.\n",
    "        - **'disp_0'** (*float*) - The center of mass difference between atoms\n",
    "          above and below the fault plane in the cutboxvector direction for\n",
    "          the system before applying the faultshift.\n",
    "        - **'disp_sf'** (*float*) - The center of mass difference between \n",
    "          atoms above and below the fault plane in the cutboxvector direction\n",
    "          for the system after applying the faultshift.\n",
    "        - **'A_fault'** (*float*) - The area of the fault surface.\n",
    "        - **'dumpfile_0'** (*str*) - The name of the LAMMMPS dump file\n",
    "          associated with the relaxed system before applying the faultshift.\n",
    "        - **'dumpfile_sf'** (*str*) - The name of the LAMMMPS dump file\n",
    "          associated with the relaxed system after applying the faultshift.\n",
    "    \"\"\"\n",
    "    \n",
    "    # Evaluate the system without shifting along the fault plane\n",
    "    zeroshift = stackingfaultpoint(lammps_command, system, potential, symbols,\n",
    "                                   mpi_command=mpi_command,\n",
    "                                   cutboxvector=cutboxvector,\n",
    "                                   faultpos=faultpos,\n",
    "                                   etol=etol, ftol=ftol, maxiter=maxiter,\n",
    "                                   maxeval=maxeval, dmax=dmax,\n",
    "                                   faultshift=[0.0, 0.0, 0.0])\n",
    "    \n",
    "    # Extract terms\n",
    "    E_total_0 = zeroshift['E_total']\n",
    "    disp_0 =    zeroshift['disp']\n",
    "    A_fault =   zeroshift['A_fault']\n",
    "    shutil.move('log.lammps', 'zeroshift-log.lammps')\n",
    "    shutil.move(zeroshift['dumpfile'], 'zeroshift.dump')\n",
    "    \n",
    "    # Evaluate the system after shifting along the fault plane\n",
    "    shifted = stackingfaultpoint(lammps_command, system, potential, symbols,\n",
    "                                 mpi_command=mpi_command,\n",
    "                                 cutboxvector=cutboxvector,\n",
    "                                 faultpos=faultpos, etol=etol, ftol=ftol,\n",
    "                                 maxiter=maxiter, maxeval=maxeval, dmax=dmax,\n",
    "                                 faultshift=faultshift)\n",
    "    \n",
    "    # Extract terms\n",
    "    E_total_sf = shifted['E_total']\n",
    "    disp_sf =    shifted['disp']\n",
    "    shutil.move('log.lammps', 'shifted-log.lammps')\n",
    "    shutil.move(shifted['dumpfile'], 'shifted.dump')\n",
    "\n",
    "    # Compute the stacking fault energy\n",
    "    E_gsf = (E_total_sf - E_total_0) / A_fault\n",
    "    \n",
    "    # Compute the change in displacement normal to fault plane\n",
    "    delta_disp = disp_sf - disp_0\n",
    "    \n",
    "    # Return processed results\n",
    "    results = {}\n",
    "    results['E_gsf'] = E_gsf\n",
    "    results['E_total_0'] = E_total_0\n",
    "    results['E_total_sf'] = E_total_sf\n",
    "    results['delta_disp'] = delta_disp\n",
    "    results['disp_0'] = disp_0\n",
    "    results['disp_sf'] = disp_sf\n",
    "    results['A_fault'] = A_fault\n",
    "    results['dumpfile_0'] = 'zeroshift.dump'\n",
    "    results['dumpfile_sf'] = 'shifted.dump'\n",
    "    \n",
    "    return results"
   ]
  },
  {
   "cell_type": "markdown",
   "metadata": {
    "deletable": true,
    "editable": true
   },
   "source": [
    "### 4. Run calculation function(s)"
   ]
  },
  {
   "cell_type": "code",
   "execution_count": 12,
   "metadata": {
    "collapsed": false,
    "deletable": true,
    "editable": true
   },
   "outputs": [],
   "source": [
    "results_dict = stackingfault(lammps_command, \n",
    "                             system, \n",
    "                             potential,\n",
    "                             symbols,  \n",
    "                             mpi_command = mpi_command,\n",
    "                             cutboxvector = cutboxvector,\n",
    "                             faultpos = faultpos,\n",
    "                             faultshift = faultshift,\n",
    "                             etol = energytolerance,\n",
    "                             ftol = forcetolerance,\n",
    "                             maxiter = maxiterations,\n",
    "                             maxeval = maxevaluations,\n",
    "                             dmax = maxatommotion)"
   ]
  },
  {
   "cell_type": "code",
   "execution_count": 13,
   "metadata": {
    "collapsed": false,
    "deletable": true,
    "editable": true
   },
   "outputs": [
    {
     "data": {
      "text/plain": [
       "['E_gsf',\n",
       " 'E_total_0',\n",
       " 'A_fault',\n",
       " 'E_total_sf',\n",
       " 'dumpfile_0',\n",
       " 'disp_0',\n",
       " 'delta_disp',\n",
       " 'dumpfile_sf',\n",
       " 'disp_sf']"
      ]
     },
     "execution_count": 13,
     "metadata": {},
     "output_type": "execute_result"
    }
   ],
   "source": [
    "results_dict.keys()"
   ]
  },
  {
   "cell_type": "markdown",
   "metadata": {
    "deletable": true,
    "editable": true
   },
   "source": [
    "### 5. Report results"
   ]
  },
  {
   "cell_type": "markdown",
   "metadata": {
    "deletable": true,
    "editable": true
   },
   "source": [
    "#### 5.1 Define units for outputting values\n",
    "\n",
    "- __length_unit__ is the unit of length to display results in.\n",
    "- __energy_unit__ is the unit of energy to display cohesive energies in.\n",
    "- __e_A_unit__ is the energy per area to report the surface energy in."
   ]
  },
  {
   "cell_type": "code",
   "execution_count": 14,
   "metadata": {
    "collapsed": true,
    "deletable": true,
    "editable": true
   },
   "outputs": [],
   "source": [
    "length_unit = 'angstrom'\n",
    "energy_unit = 'eV'\n",
    "\n",
    "#e_A_unit = energy_unit+'/'+length_unit+'^2'\n",
    "e_A_unit = 'mJ/m^2'"
   ]
  },
  {
   "cell_type": "markdown",
   "metadata": {
    "deletable": true,
    "editable": true
   },
   "source": [
    "#### 5.2 Print $A_{fault}$, $E_{gsf}$, and $\\Delta\\delta$"
   ]
  },
  {
   "cell_type": "code",
   "execution_count": 15,
   "metadata": {
    "collapsed": false,
    "deletable": true,
    "editable": true
   },
   "outputs": [
    {
     "name": "stdout",
     "output_type": "stream",
     "text": [
      "Values for fractional shift = (0.500000, 0.000000)\n",
      "A_fault =     1073.04011631 angstrom^2\n",
      "E_gsf =       924.337833634 mJ/m^2\n",
      "delta_disp =  0.168427361002 angstrom\n"
     ]
    }
   ],
   "source": [
    "print('Values for fractional shift = (%f, %f)' % (shiftfraction1, shiftfraction2))\n",
    "print('A_fault =    ', uc.get_in_units(results_dict['A_fault'], length_unit+'^2'), length_unit+'^2')\n",
    "print('E_gsf =      ', uc.get_in_units(results_dict['E_gsf'], e_A_unit), e_A_unit)\n",
    "print('delta_disp = ', uc.get_in_units(results_dict['delta_disp'], length_unit), length_unit)"
   ]
  }
 ],
 "metadata": {
  "kernelspec": {
   "display_name": "Python 2",
   "language": "python",
   "name": "python2"
  },
  "language_info": {
   "codemirror_mode": {
    "name": "ipython",
    "version": 2
   },
   "file_extension": ".py",
   "mimetype": "text/x-python",
   "name": "python",
   "nbconvert_exporter": "python",
   "pygments_lexer": "ipython2",
   "version": "2.7.13"
  }
 },
 "nbformat": 4,
 "nbformat_minor": 2
}
