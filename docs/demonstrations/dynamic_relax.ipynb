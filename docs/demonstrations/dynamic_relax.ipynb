{
 "cells": [
  {
   "cell_type": "markdown",
   "metadata": {
    "deletable": true,
    "editable": true
   },
   "source": [
    "# dynamic_relax Calculation Demonstration\n",
    "\n",
    "- - -"
   ]
  },
  {
   "cell_type": "markdown",
   "metadata": {
    "deletable": true,
    "editable": true
   },
   "source": [
    "**Lucas M. Hale**, [lucas.hale@nist.gov](mailto:lucas.hale@nist.gov?Subject=ipr-demo), *Materials Science and Engineering Division, NIST*.\n",
    "\n",
    "**Chandler A. Becker**, [chandler.becker@nist.gov](mailto:chandler.becker@nist.gov?Subject=ipr-demo), *Office of Data and Informatics, NIST*.\n",
    "\n",
    "**Zachary T. Trautt**, [zachary.trautt@nist.gov](mailto:zachary.trautt@nist.gov?Subject=ipr-demo), *Materials Measurement Science Division, NIST*.\n",
    "\n",
    "Version: 2017-07-24\n",
    "\n",
    "[Disclaimers](http://www.nist.gov/public_affairs/disclaimer.cfm) \n",
    " \n",
    "- - -"
   ]
  },
  {
   "cell_type": "markdown",
   "metadata": {
    "deletable": true,
    "editable": true
   },
   "source": [
    "## Introduction\n",
    "\n",
    "The dynamic_relax calculation dynamically relaxes an atomic configuration for a sepcified number of timesteps. Upon completion, the mean, $<X>$, and standard deviation, $\\sigma_X$, of all thermo properties, $X$, are computed for a specified range of times. This method is meant to measure equilibrium properties of bulk materials, both at zero K and at various temperatures. \n",
    "\n",
    "__Disclaimer #1__: The calculation reports the standard deviation, $\\sigma_X$ of the measured properties not the standard error of the mean, $\\sigma_{<X>}$. The two are related to each other according to\n",
    "\n",
    "$$ \\sigma_{<X>} = \\sigma_X \\sqrt{\\frac{C}{N}} $$,\n",
    "\n",
    "where $N$ is the number of samples taken of $X$, and $C$ is a statistical inefficiency due to the autocorrelation of the measurements with time. Obtaining a proper estimate of $\\sigma_{<X>}$ requires either estimating $C$ from the raw thermo data (not done here), or only taking measurements sporatically to ensure the samples are independent. \n",
    "\n",
    "__Disclaimer #2__: Good (low error) results requires running large simulations for a long time. The reasons for this are:\n",
    "\n",
    "- Systems have to be large enough to avoid issues with fluctuations across the periodic boundaries.\n",
    "\n",
    "- Runs must first let the systems equilibriate before meaningful measurements can be taken. \n",
    "\n",
    "- The standard deviation, $\\sigma$, of thermo properties is proportional to the number of atoms, $N_a$ as $\\sigma \\propto \\frac{1}{\\sqrt{N_a}}$.\n",
    "\n",
    "- The standard error, $\\sigma_x$ of thermo properties is proportional to the number of samples taken, $N$ as $\\sigma_x \\propto \\frac{1}{\\sqrt{N}}$.\n",
    "- - -"
   ]
  },
  {
   "cell_type": "markdown",
   "metadata": {
    "deletable": true,
    "editable": true
   },
   "source": [
    "## Method and Theory\n",
    "\n",
    "An initial system (and corresponding unit cell system) is supplied with box dimensions, $a_i^0$, close to the equilibrium values. A LAMMPS simulation then integrates the atomic positions and velocities for a specified number of timesteps. \n",
    "\n",
    "The calculation script allows for the use of different integration methods:\n",
    "\n",
    "- nve integrates atomic positions without changing box dimensions or the system's total energy.\n",
    "\n",
    "- npt integrates atomic positions and applies Nose-Hoover style thermostat and barostat (equilibriate to specified T and P).\n",
    "\n",
    "- nvt integrates atomic positions and applies Nose-Hoover style thermostat (equilibriate to specified T).\n",
    "\n",
    "- nph integrates atomic positions and applies Nose-Hoover style barostat (equilibriate to specified P).\n",
    "\n",
    "- nve+l integrates atomic positions and applies Langevin style thermostat (equilibriate to specified T).\n",
    "\n",
    "- nph+l integrates atomic positions and applies Nose-Hoover style barostat and Langevin style thermostat (equilibriate to specified T and P).\n",
    "\n",
    "__Notes__ on the different control schemes:\n",
    "\n",
    "- The Nose-Hoover barostat works by rescaling the box dimensions according to the measured system pressures.\n",
    "\n",
    "- The Nose-Hoover thermostat works by rescaling the atomic velocities according to the measured system temperature (kinetic energy). Cannot be used with a temperature of 0 K.\n",
    "\n",
    "- The Langevin thermostat works by modifying the forces on all atoms with both a dampener and a random temperature dependent fluctuation. Used at 0 K, only the force dampener is applied.\n",
    "\n",
    "__Notes__ on run parameter values. The proper time to reach equilibrium (equilsteps), and sample frequency to ensure uncorrelated measurements (thermosteps) is simulation dependent. They can be influenced by the potential, timestep size, crystal structure, integration method, presence of defects, etc. The default values of equilsteps = 20,000 and thermosteps = 100 are based on general rule-of-thumb estimates for bulk crystals and EAM potentials, and may or may not be adequate.  \n",
    "\n",
    "- - -"
   ]
  },
  {
   "cell_type": "markdown",
   "metadata": {
    "deletable": true,
    "editable": true
   },
   "source": [
    "## Demonstration"
   ]
  },
  {
   "cell_type": "markdown",
   "metadata": {
    "deletable": true,
    "editable": true
   },
   "source": [
    "### 1. Library imports"
   ]
  },
  {
   "cell_type": "markdown",
   "metadata": {
    "deletable": true,
    "editable": true
   },
   "source": [
    "Import libraries needed by the calculation. The external libraries used are:\n",
    "\n",
    "- [numpy](http://www.numpy.org/)\n",
    "\n",
    "- [DataModelDict](https://github.com/usnistgov/DataModelDict)\n",
    "\n",
    "- [atomman](https://github.com/usnistgov/atomman)\n",
    "\n",
    "- [iprPy](https://github.com/usnistgov/iprPy)"
   ]
  },
  {
   "cell_type": "code",
   "execution_count": 1,
   "metadata": {
    "collapsed": true,
    "deletable": true,
    "editable": true
   },
   "outputs": [],
   "source": [
    "# Standard library imports\n",
    "from __future__ import division, absolute_import, print_function\n",
    "import os\n",
    "import sys\n",
    "import uuid\n",
    "import random\n",
    "import datetime\n",
    "from copy import deepcopy\n",
    "\n",
    "# http://www.numpy.org/\n",
    "import numpy as np\n",
    "\n",
    "# https://github.com/usnistgov/DataModelDict \n",
    "from DataModelDict import DataModelDict as DM\n",
    "\n",
    "# https://github.com/usnistgov/atomman \n",
    "import atomman as am\n",
    "import atomman.lammps as lmp\n",
    "import atomman.unitconvert as uc\n",
    "\n",
    "# https://github.com/usnistgov/iprPy\n",
    "import iprPy"
   ]
  },
  {
   "cell_type": "markdown",
   "metadata": {
    "deletable": true,
    "editable": true
   },
   "source": [
    "### 2. Assign values for the calculation's run parameters"
   ]
  },
  {
   "cell_type": "markdown",
   "metadata": {
    "deletable": true,
    "editable": true
   },
   "source": [
    "#### 2.0 Set the calculation's working directory"
   ]
  },
  {
   "cell_type": "code",
   "execution_count": 2,
   "metadata": {
    "collapsed": false,
    "deletable": true,
    "editable": true
   },
   "outputs": [],
   "source": [
    "calc_name = 'dynamic_relax'\n",
    "\n",
    "# Check current working directory\n",
    "cwd_name = os.path.basename(os.getcwd())\n",
    "\n",
    "# Change working directory if needed\n",
    "if cwd_name != calc_name:\n",
    "    if not os.path.isdir(calc_name):\n",
    "        os.mkdir(calc_name)\n",
    "    os.chdir(calc_name)"
   ]
  },
  {
   "cell_type": "markdown",
   "metadata": {
    "deletable": true,
    "editable": true
   },
   "source": [
    "#### 2.1 Specify system-specific paths\n",
    "\n",
    "- __lammps_command__ is the LAMMPS command to use (required).\n",
    "\n",
    "- __mpi_command__ MPI command for running LAMMPS in parallel. A value of None will run simulations serially.\n",
    "\n",
    "- __lib_directory__ defines the relative path to the iprPy library. This makes it easier to define paths to reference records later."
   ]
  },
  {
   "cell_type": "code",
   "execution_count": 3,
   "metadata": {
    "collapsed": true,
    "deletable": true,
    "editable": true
   },
   "outputs": [],
   "source": [
    "lammps_command = 'lmp_mpi'\n",
    "mpi_command = 'mpiexec -localonly 4'\n",
    "lib_directory = '../../../library'"
   ]
  },
  {
   "cell_type": "markdown",
   "metadata": {
    "deletable": true,
    "editable": true
   },
   "source": [
    "#### 2.2 Specify the prototype system\n",
    "\n",
    "- __system__ is an atomman.System to perform the scan on (required). \n",
    "\n",
    "- __ucell__ is an atomman.System representing a fundamental unit cell of the system (required).\n",
    "\n",
    "- __prototype_name__ gives the name of the crystal_prototype reference record in the iprPy library to use for ucell. \n",
    "\n",
    "- __prototype_path__ gives the path to the crystal_prototype reference record to use.\n",
    "\n",
    "- __box_parameters__ defines the initial guess box parameters to scale ucell and system by.\n",
    "\n",
    "- __sizemults__ list of three integers specifying how many times the ucell vectors of $a$, $b$ and $c$ are replicated in creating system."
   ]
  },
  {
   "cell_type": "code",
   "execution_count": 4,
   "metadata": {
    "collapsed": false,
    "deletable": true,
    "editable": true
   },
   "outputs": [
    {
     "name": "stdout",
     "output_type": "stream",
     "text": [
      "# of atoms in ucell = 4\n",
      "# of atoms in system = 4000\n"
     ]
    }
   ],
   "source": [
    "prototype_name = 'A1--Cu--fcc'\n",
    "box_parameters = [3.5, 3.5, 3.5]\n",
    "sizemults = [10,10,10]\n",
    "\n",
    "# Define prototype_path using lib_directory and prototype_name\n",
    "prototype_path = os.path.abspath(os.path.join(lib_directory, 'crystal_prototype', prototype_name+'.json'))\n",
    "\n",
    "# Create ucell by loading prototype record\n",
    "ucell = am.load('system_model', prototype_path)[0]\n",
    "print('# of atoms in ucell =', ucell.natoms)\n",
    "\n",
    "# Rescale ucell using box_parameters\n",
    "ucell.box_set(a=box_parameters[0], b=box_parameters[1], c=box_parameters[2], scale=True)\n",
    "\n",
    "# Generate system by supersizing ucell\n",
    "system = am.supersize(ucell, *sizemults)\n",
    "print('# of atoms in system =', system.natoms)"
   ]
  },
  {
   "cell_type": "markdown",
   "metadata": {
    "deletable": true,
    "editable": true
   },
   "source": [
    "#### 2.3 Specify the potenital and elemental symbols\n",
    "\n",
    "- __potential__ is the atomman.lammps.Potential representation of a LAMMPS implemented potential to use (required).\n",
    "\n",
    "- __symbols__ is a list of the elemental model symbols of potential to associate with the unique atom types of system (required).\n",
    "\n",
    "- __potential_name__ gives the name of the potential_LAMMPS reference record in the iprPy library to use for potential. \n",
    "\n",
    "- __potential_path__ gives the path to the potential_LAMMPS reference record to use.\n",
    "\n",
    "- __potential_dir_path__ gives the path for the folder containing the artifacts associated with the potential (i.e. eam.alloy file)."
   ]
  },
  {
   "cell_type": "code",
   "execution_count": 5,
   "metadata": {
    "collapsed": false,
    "deletable": true,
    "editable": true
   },
   "outputs": [
    {
     "name": "stdout",
     "output_type": "stream",
     "text": [
      "Successfully loaded potential 1999--Mishin-Y--Ni--LAMMPS--ipr1\n"
     ]
    }
   ],
   "source": [
    "potential_name = '1999--Mishin-Y--Ni--LAMMPS--ipr1'\n",
    "symbols = ['Ni']\n",
    "\n",
    "# Define potential_path and potential_dir_path using lib_directory and potential_name\n",
    "potential_dir_path = os.path.abspath(os.path.join(lib_directory, 'potential_LAMMPS', potential_name))\n",
    "potential_path = potential_dir_path + '.json'\n",
    "\n",
    "# Create potential by loading LAMMPS-potential record\n",
    "potential = lmp.Potential(potential_path, potential_dir_path)\n",
    "print('Successfully loaded potential', potential)"
   ]
  },
  {
   "cell_type": "markdown",
   "metadata": {
    "deletable": true,
    "editable": true
   },
   "source": [
    "#### 2.4 Specify calculation-specific run parameters\n",
    "\n",
    "- __integrator__ specifies the integrator style to use. Default value is 'nph+l' for temperature = 0, and 'npt' otherwise.\n",
    "\n",
    "- __pressure_xx__ gives the xx component of the pressure to equilibriate the system to (npt, nph, and nph+l styles).\n",
    "\n",
    "- __pressure_yy__ gives the yy component of the pressure to equilibriate the system to (npt, nph, and nph+l styles).\n",
    "\n",
    "- __pressure_zz__ gives the zz component of the pressure to equilibriate the system to (npt, nph, and nph+l styles).\n",
    "\n",
    "- __temperature__ gives the temperature to equilibriate the system to (nvt, npt, nve+l, and nph+l styles).\n",
    "\n",
    "- __runsteps__ is the total number of integration timesteps to perform. Default value is 220000.\n",
    "  \n",
    "- __thermosteps__ specifies to output thermo values every this many timesteps. Default value is 100.\n",
    "    \n",
    "- __dumpsteps__ specifies to output dump files every this many timesteps. Default value is runsteps (only first and last steps are outputted as dump files).\n",
    "    \n",
    "- __equilsteps__ is the number of timesteps to equilibriate the system for. Only thermo values associated with timesteps greater than equilsteps will be included in the mean and standard deviation calculations. Default value is 20000. \n",
    "\n",
    "- __randomseed__ specifies a random number seed used to generate the initial atomic velocities and the Langevin thermostat fluctuations. Default value generates a new random integer every time."
   ]
  },
  {
   "cell_type": "code",
   "execution_count": 6,
   "metadata": {
    "collapsed": true,
    "deletable": true,
    "editable": true
   },
   "outputs": [],
   "source": [
    "integrator = 'npt'\n",
    "pressure_xx = uc.set_in_units(0.0, 'GPa')\n",
    "pressure_yy = uc.set_in_units(0.0, 'GPa')\n",
    "pressure_zz = uc.set_in_units(0.0, 'GPa')\n",
    "temperature = 300.0\n",
    "runsteps = 220000\n",
    "thermosteps = 100\n",
    "dumpsteps = runsteps\n",
    "equilsteps = 20000\n",
    "randomseed = None"
   ]
  },
  {
   "cell_type": "markdown",
   "metadata": {
    "deletable": true,
    "editable": true
   },
   "source": [
    "### 3. Define calculation function(s) and generate template LAMMPS script(s)"
   ]
  },
  {
   "cell_type": "markdown",
   "metadata": {
    "deletable": true,
    "editable": true
   },
   "source": [
    "#### 3.1 full_relax.template\n",
    "\n",
    "This is the template for the LAMMPS script to perform the integration relaxation."
   ]
  },
  {
   "cell_type": "code",
   "execution_count": 7,
   "metadata": {
    "collapsed": true,
    "deletable": true,
    "editable": true
   },
   "outputs": [],
   "source": [
    "with open('full_relax.template', 'w') as f:\n",
    "    f.write(\"\"\"\n",
    "#LAMMPS input script that performs a simple dynamic integration\n",
    "\n",
    "<atomman_system_info>\n",
    "\n",
    "<atomman_pair_info>\n",
    "\n",
    "compute pe all pe/atom\n",
    "compute ke all ke/atom\n",
    "compute stress all stress/atom <stressterm>\n",
    "\n",
    "thermo <thermosteps>\n",
    "thermo_style custom step temp pe ke etotal lx ly lz pxx pyy pzz pyz pxz pxy\n",
    "thermo_modify format float %.13e\n",
    "timestep 0.001\n",
    "\n",
    "<integrator_info>\n",
    "\n",
    "dump dump_chkpt all custom <dumpsteps> *.dump id type xu yu zu c_pe c_ke & \n",
    "c_stress[1] c_stress[2] c_stress[3] c_stress[4] c_stress[5] c_stress[6]\n",
    "\n",
    "run <runsteps> upto\n",
    "\"\"\")"
   ]
  },
  {
   "cell_type": "markdown",
   "metadata": {
    "deletable": true,
    "editable": true
   },
   "source": [
    "#### 3.2 integrator_info()\n",
    "\n",
    "The integrator_info function generates the necessary LAMMPS command lines associated with the particular temperature/pressure integration scheme.\n",
    "\n",
    "Arguments:\n",
    "\n",
    "- __integrator__ specifies the integrator style to use. Default value is 'nph+l' for temperature = 0, and 'npt' otherwise.\n",
    "\n",
    "- __p_xx__ gives the xx component of the pressure to equilibriate the system to (npt, nph, and nph+l styles).\n",
    "\n",
    "- __p_yy__ gives the yy component of the pressure to equilibriate the system to (npt, nph, and nph+l styles).\n",
    "\n",
    "- __p_zz__ gives the zz component of the pressure to equilibriate the system to (npt, nph, and nph+l styles).\n",
    "\n",
    "- __temperature__ gives the temperature to equilibriate the system to (nvt, npt, nve+l, and nph+l styles).\n",
    "\n",
    "- __randomseed__ specifies a random number seed used to generate the initial atomic velocities and the Langevin thermostat fluctuations. Default value generates a new random integer every time.\n",
    "\n",
    "- __units__ is the LAMMPS units style to use for the simulation."
   ]
  },
  {
   "cell_type": "code",
   "execution_count": 8,
   "metadata": {
    "collapsed": true,
    "deletable": true,
    "editable": true
   },
   "outputs": [],
   "source": [
    "def integrator_info(integrator=None, p_xx=0.0, p_yy=0.0, p_zz=0.0, \n",
    "                    temperature=0.0, randomseed=None, units='metal'):\n",
    "    \"\"\"\n",
    "    Generates LAMMPS commands for velocity creation and fix integrators. \n",
    "    \n",
    "    Parameters\n",
    "    ----------\n",
    "    integrator : str or None, optional\n",
    "        The integration method to use. Options are 'npt', 'nvt', 'nph',\n",
    "        'nve', 'nve+l', 'nph+l'. The +l options use Langevin thermostat.\n",
    "        (Default is None, which will use 'nph+l' for temperature == 0, and\n",
    "        'npt' otherwise.)\n",
    "    p_xx : float, optional\n",
    "        The value to relax the x tensile pressure component to (default is\n",
    "        0.0).\n",
    "    p_yy : float, optional\n",
    "        The value to relax the y tensile pressure component to (default is\n",
    "        0.0).\n",
    "    p_zz : float, optional\n",
    "        The value to relax the z tensile pressure component to (default is\n",
    "        0.0).\n",
    "    temperature : float, optional\n",
    "        The temperature to relax at (default is 0.0).\n",
    "    randomseed : int or None, optional\n",
    "        Random number seed used by LAMMPS in creating velocities and with\n",
    "        the Langevin thermostat.  (Default is None which will select a\n",
    "        random int between 1 and 900000000.)\n",
    "    units : str, optional\n",
    "        The LAMMPS units style to use (default is 'metal').\n",
    "    \n",
    "    Returns\n",
    "    -------\n",
    "    str\n",
    "        The generated LAMMPS input lines for velocity create and fix\n",
    "        integration commands.\n",
    "    \"\"\"\n",
    "    \n",
    "    # Get lammps units\n",
    "    lammps_units = lmp.style.unit(units)\n",
    "    Px = uc.get_in_units(p_xx, lammps_units['pressure'])\n",
    "    Py = uc.get_in_units(p_yy, lammps_units['pressure'])\n",
    "    Pz = uc.get_in_units(p_zz, lammps_units['pressure'])\n",
    "    T = temperature\n",
    "    \n",
    "    # Check temperature and set default integrator\n",
    "    if temperature == 0.0:\n",
    "        if integrator is None: integrator = 'nph+l'\n",
    "        assert integrator not in ['npt', 'nvt'], 'npt and nvt cannot run at 0 K'\n",
    "    elif temperature > 0:\n",
    "        if integrator is None: integrator = 'npt'\n",
    "    else:\n",
    "        raise ValueError('Temperature must be positive')\n",
    "    \n",
    "    # Set default randomseed\n",
    "    if randomseed is None: randomseed = random.randint(1, 900000000)\n",
    "    \n",
    "    if   integrator == 'npt':\n",
    "        start_temp = T*2.+1\n",
    "        Tdamp = 100 * lmp.style.timestep(units)\n",
    "        Pdamp = 1000 * lmp.style.timestep(units)\n",
    "        int_info = '\\n'.join([\n",
    "                'velocity all create %f %i' % (start_temp, randomseed),\n",
    "                'fix npt all npt temp %f %f %f &' % (T, T, Tdamp),\n",
    "                '                x %f %f %f &' % (Px, Px, Pdamp),\n",
    "                '                y %f %f %f &' % (Py, Py, Pdamp),\n",
    "                '                z %f %f %f' % (Pz, Pz, Pdamp),\n",
    "                ])\n",
    "    \n",
    "    elif integrator == 'nvt':\n",
    "        start_temp = T*2.+1\n",
    "        Tdamp = 100 * lmp.style.timestep(units)\n",
    "        int_info = '\\n'.join([\n",
    "                'velocity all create %f %i' % (start_temp, randomseed),\n",
    "                'fix nvt all nvt temp %f %f %f' % (T, T, Tdamp),\n",
    "                ])\n",
    "    \n",
    "    elif integrator == 'nph':\n",
    "        Pdamp = 1000 * lmp.style.timestep(units)\n",
    "        int_info = '\\n'.join([\n",
    "                'fix nph all nph x %f %f %f &' % (Px, Px, Pdamp),\n",
    "                '                y %f %f %f &' % (Py, Py, Pdamp),\n",
    "                '                z %f %f %f' % (Pz, Pz, Pdamp),\n",
    "                ])\n",
    "    \n",
    "    elif integrator == 'nve':\n",
    "        int_info = 'fix nve all nve'\n",
    "        \n",
    "    elif integrator == 'nve+l':\n",
    "        start_temp = T*2.+1\n",
    "        Tdamp = 100 * lmp.style.timestep(units)\n",
    "        int_info = '\\n'.join([\n",
    "                'velocity all create %f %i' % (start_temp, randomseed),\n",
    "                'fix nve all nve',\n",
    "                'fix langevin all langevin %f %f %f %i' % (T, T, Tdamp,\n",
    "                                                           randomseed),\n",
    "                ])\n",
    "\n",
    "    elif integrator == 'nph+l':\n",
    "        start_temp = T*2.+1\n",
    "        Tdamp = 100 * lmp.style.timestep(units)\n",
    "        Pdamp = 1000 * lmp.style.timestep(units)\n",
    "        int_info = '\\n'.join([\n",
    "                'fix nph all nph x %f %f %f &' % (Px, Px, Pdamp),\n",
    "                '                y %f %f %f &' % (Py, Py, Pdamp),\n",
    "                '                z %f %f %f' % (Pz, Pz, Pdamp),\n",
    "                'fix langevin all langevin %f %f %f %i' % (T, T, Tdamp,\n",
    "                                                           randomseed),\n",
    "                ])\n",
    "    else:\n",
    "        raise ValueError('Invalid integrator style')\n",
    "    \n",
    "    return int_info"
   ]
  },
  {
   "cell_type": "markdown",
   "metadata": {
    "deletable": true,
    "editable": true
   },
   "source": [
    "#### 3.3 full_relax()\n",
    "\n",
    "The full_relax function performs the LAMMPS simulation and extracts and averages the thermo properties.\n",
    "\n",
    "- __lammps_command__ is the LAMMPS command to use.\n",
    "\n",
    "- __system__ is an atomman.System to perform the scan on.\n",
    "\n",
    "- __potential__ is the atomman.lammps.Potential representation of a LAMMPS implemented potential to use.\n",
    "\n",
    "- __symbols__ is a list of element-model symbols for the Potential that correspond to system's atypes.\n",
    "    \n",
    "- __mpi_command__ MPI command for running LAMMPS in parallel. Default value is None (serial run).  \n",
    "\n",
    "- __ucell__ is an atomman.System representing a fundamental unit cell of the system. If not given, ucell will be taken as system.\n",
    "\n",
    "- __integrator__ specifies the integrator style to use. Default value is 'nph+l' for temperature = 0, and 'npt' otherwise.\n",
    "\n",
    "- __pressure_xx__ gives the xx component of the pressure to equilibriate the system to (npt, nph, and nph+l styles).\n",
    "\n",
    "- __pressure_yy__ gives the yy component of the pressure to equilibriate the system to (npt, nph, and nph+l styles).\n",
    "\n",
    "- __pressure_zz__ gives the zz component of the pressure to equilibriate the system to (npt, nph, and nph+l styles).\n",
    "\n",
    "- __temperature__ gives the temperature to equilibriate the system to (nvt, npt, nve+l, and nph+l styles).\n",
    "\n",
    "- __runsteps__ is the total number of integration timesteps to perform. Default value is 220000.\n",
    "  \n",
    "- __thermosteps__ specifies to output thermo values every this many timesteps. Default value is 100.\n",
    "    \n",
    "- __dumpsteps__ specifies to output dump files every this many timesteps. Default value is runsteps (only first and last steps are outputted as dump files).\n",
    "    \n",
    "- __equilsteps__ is the number of timesteps to equilibriate the system for. Only thermo values associated with timesteps greater than equilsteps will be included in the mean and standard deviation calculations. Default value is 20000. \n",
    "\n",
    "- __randomseed__ specifies a random number seed used to generate the initial atomic velocities and the Langevin thermostat fluctuations. Default value generates a new random integer every time."
   ]
  },
  {
   "cell_type": "code",
   "execution_count": 9,
   "metadata": {
    "collapsed": true,
    "deletable": true,
    "editable": true
   },
   "outputs": [],
   "source": [
    "def full_relax(lammps_command, system, potential, symbols,\n",
    "               mpi_command=None, ucell=None, p_xx=0.0, p_yy=0.0, p_zz=0.0,\n",
    "               temperature=0.0, integrator=None, runsteps=220000,\n",
    "               thermosteps=100, dumpsteps=None, equilsteps=20000,\n",
    "               randomseed=None):\n",
    "    \"\"\"\n",
    "    Performs a full dynamic relax on a given system at the given temperature\n",
    "    to the specified pressure state.\n",
    "    \n",
    "    Parameters\n",
    "    ----------\n",
    "    lammps_command :str\n",
    "        Command for running LAMMPS.\n",
    "    system : atomman.System\n",
    "        The system to perform the calculation on.\n",
    "    potential : atomman.lammps.Potential\n",
    "        The LAMMPS implemented potential to use.\n",
    "    symbols : list of str\n",
    "        The list of element-model symbols for the Potential that correspond to\n",
    "        system's atypes.\n",
    "    mpi_command : str, optional\n",
    "        The MPI command for running LAMMPS in parallel.  If not given, LAMMPS\n",
    "        will run serially.\n",
    "    ucell : atomman.System, optional\n",
    "        The fundamental unit cell correspodning to system.  This is used to\n",
    "        convert system dimensions to cell dimensions. If not given, ucell will\n",
    "        be taken as system.\n",
    "    p_xx : float, optional\n",
    "        The value to relax the x tensile pressure component to (default is\n",
    "        0.0).\n",
    "    p_yy : float, optional\n",
    "        The value to relax the y tensile pressure component to (default is\n",
    "        0.0).\n",
    "    p_zz : float, optional\n",
    "        The value to relax the z tensile pressure component to (default is\n",
    "        0.0).\n",
    "    temperature : float, optional\n",
    "        The temperature to relax at (default is 0.0).\n",
    "    runsteps : int, optional\n",
    "        The number of integration steps to perform (default is 220000).\n",
    "    integrator : str or None, optional\n",
    "        The integration method to use. Options are 'npt', 'nvt', 'nph',\n",
    "        'nve', 'nve+l', 'nph+l'. The +l options use Langevin thermostat.\n",
    "        (Default is None, which will use 'nph+l' for temperature == 0, and\n",
    "        'npt' otherwise.)\n",
    "    thermosteps : int, optional\n",
    "        Thermo values will be reported every this many steps (default is\n",
    "        100).\n",
    "    dumpsteps : int or None, optional\n",
    "        Dump files will be saved every this many steps (default is None,\n",
    "        which sets dumpsteps equal to runsteps).\n",
    "    equilsteps : int, optional\n",
    "        The number of timesteps at the beginning of the simulation to\n",
    "        exclude when computing average values (default is 20000).\n",
    "    randomseed : int or None, optional\n",
    "        Random number seed used by LAMMPS in creating velocities and with\n",
    "        the Langevin thermostat.  (Default is None which will select a\n",
    "        random int between 1 and 900000000.)\n",
    "    \n",
    "    Returns\n",
    "    -------\n",
    "    dict\n",
    "        Dictionary of results consisting of keys:\n",
    "        \n",
    "        - **'a_lat'** (*float*) - The mean measured a lattice constant.\n",
    "        - **'b_lat'** (*float*) - The mean measured b lattice constant.\n",
    "        - **'c_lat'** (*float*) - The mean measured c lattice constant.\n",
    "        - **'alpha_lat'** (*float*) - The alpha lattice angle.\n",
    "        - **'beta_lat'** (*float*) - The beta lattice angle.\n",
    "        - **'gamma_lat'** (*float*) - The gamma lattice angle.\n",
    "        - **'E_coh'** (*float*) - The mean measured cohesive energy.\n",
    "        - **'stress'** (*numpy.array*) - The mean measured stress state.\n",
    "        - **'temp'** (*float*) - The mean measured temperature.\n",
    "        - **'a_lat_std'** (*float*) - The standard deviation in the measured\n",
    "          a lattice constant values.\n",
    "        - **'b_lat_std'** (*float*) - The standard deviation in the measured\n",
    "          b lattice constant values.\n",
    "        - **'c_lat_std'** (*float*) - The standard deviation in the measured\n",
    "          c lattice constant values.\n",
    "        - **'E_coh_std'** (*float*) - The standard deviation in the measured\n",
    "          cohesive energy values.\n",
    "        - **'stress_std'** (*numpy.array*) - The standard deviation in the\n",
    "          measured stress state values.\n",
    "        - **'temp_std'** (*float*) - The standard deviation in the measured\n",
    "          temperature values.\n",
    "    \"\"\"\n",
    "    \n",
    "    # Set ucell = system if ucell not given\n",
    "    if ucell is None:\n",
    "        ucell = system\n",
    "    \n",
    "    # Get ratios of lx, ly, and lz of system relative to a of ucell\n",
    "    lx_a = system.box.a / ucell.box.a\n",
    "    ly_b = system.box.b / ucell.box.b\n",
    "    lz_c = system.box.c / ucell.box.c\n",
    "    alpha = system.box.alpha\n",
    "    beta =  system.box.beta\n",
    "    gamma = system.box.gamma\n",
    "    \n",
    "    # Get lammps units\n",
    "    lammps_units = lmp.style.unit(potential.units)\n",
    "    \n",
    "    #Get lammps version date\n",
    "    lammps_date = iprPy.tools.check_lammps_version(lammps_command)['lammps_date']\n",
    "    \n",
    "    # Handle default values\n",
    "    if dumpsteps is None:\n",
    "        dumpsteps = runsteps\n",
    "    \n",
    "    # Define lammps variables\n",
    "    lammps_variables = {}\n",
    "    system_info = lmp.atom_data.dump(system, 'init.dat',\n",
    "                                     units=potential.units,\n",
    "                                     atom_style=potential.atom_style)\n",
    "    lammps_variables['atomman_system_info'] = system_info\n",
    "    lammps_variables['atomman_pair_info'] = potential.pair_info(symbols)\n",
    "    integ_info = integrator_info(integrator=integrator,\n",
    "                                 p_xx=p_xx, p_yy=p_yy, p_zz=p_zz,\n",
    "                                 temperature=temperature,\n",
    "                                 randomseed=randomseed,\n",
    "                                 units=potential.units)\n",
    "    lammps_variables['integrator_info'] = integ_info\n",
    "    lammps_variables['thermosteps'] = thermosteps\n",
    "    lammps_variables['runsteps'] = runsteps\n",
    "    lammps_variables['dumpsteps'] = dumpsteps\n",
    "    \n",
    "    # Set compute stress/atom based on LAMMPS version\n",
    "    if lammps_date < datetime.date(2014, 2, 12):\n",
    "        lammps_variables['stressterm'] = ''\n",
    "    else:\n",
    "        lammps_variables['stressterm'] = 'NULL'\n",
    "    \n",
    "    # Write lammps input script\n",
    "    template_file = 'full_relax.template'\n",
    "    lammps_script = 'full_relax.in'\n",
    "    with open(template_file) as f:\n",
    "        template = f.read()\n",
    "    with open(lammps_script, 'w') as f:\n",
    "        f.write(iprPy.tools.filltemplate(template, lammps_variables,\n",
    "                                         '<', '>'))\n",
    "    \n",
    "    # Run lammps \n",
    "    output = lmp.run(lammps_command, lammps_script, mpi_command)\n",
    "    \n",
    "    # Extract LAMMPS thermo data. \n",
    "    results = {}\n",
    "    thermo = output.simulations[0]['thermo']\n",
    "    \n",
    "    # Load relaxed system from dump file\n",
    "    last_dump_file = str(thermo.Step.values[-1])+'.dump'\n",
    "    results['system_relaxed'] = lmp.atom_dump.load(last_dump_file)\n",
    "    \n",
    "    # Only consider values where Step >= equilsteps\n",
    "    thermo = thermo[thermo.Step >= equilsteps]\n",
    "    results['nsamples'] = len(thermo)\n",
    "    \n",
    "    # Get cohesive energy estimates\n",
    "    natoms = results['system_relaxed'].natoms\n",
    "    results['E_coh'] = uc.set_in_units(thermo.PotEng.mean() / natoms,\n",
    "                                       lammps_units['energy'])\n",
    "    results['E_coh_std'] = uc.set_in_units(thermo.PotEng.std() / natoms,\n",
    "                                           lammps_units['energy'])\n",
    "    \n",
    "    # Get lattice constant estimates\n",
    "    results['a_lat'] = uc.set_in_units(thermo.Lx.mean() / lx_a,\n",
    "                                      lammps_units['length'])\n",
    "    results['b_lat'] = uc.set_in_units(thermo.Ly.mean() / ly_b,\n",
    "                                      lammps_units['length'])\n",
    "    results['c_lat'] = uc.set_in_units(thermo.Lz.mean() / lz_c,\n",
    "                                       lammps_units['length'])\n",
    "    results['a_lat_std'] = uc.set_in_units(thermo.Lx.std() / lx_a,\n",
    "                                           lammps_units['length'])\n",
    "    results['b_lat_std'] = uc.set_in_units(thermo.Ly.std() / ly_b,\n",
    "                                           lammps_units['length'])\n",
    "    results['c_lat_std'] = uc.set_in_units(thermo.Lz.std() / lz_c,\n",
    "                                           lammps_units['length'])\n",
    "    results['alpha_lat'] = alpha\n",
    "    results['beta_lat'] =  beta\n",
    "    results['gamma_lat'] = gamma\n",
    "    \n",
    "    # Get system stress estimates\n",
    "    pxx = uc.set_in_units(thermo.Pxx.mean(), lammps_units['pressure'])\n",
    "    pyy = uc.set_in_units(thermo.Pyy.mean(), lammps_units['pressure'])\n",
    "    pzz = uc.set_in_units(thermo.Pzz.mean(), lammps_units['pressure'])\n",
    "    pxy = uc.set_in_units(thermo.Pxy.mean(), lammps_units['pressure'])\n",
    "    pxz = uc.set_in_units(thermo.Pxz.mean(), lammps_units['pressure'])\n",
    "    pyz = uc.set_in_units(thermo.Pyz.mean(), lammps_units['pressure'])\n",
    "    results['stress'] = -1 * np.array([[pxx, pxy, pxz],\n",
    "                                       [pxy, pyy, pyz],\n",
    "                                       [pxz, pyz, pzz]])\n",
    "    pxx = uc.set_in_units(thermo.Pxx.std(), lammps_units['pressure'])\n",
    "    pyy = uc.set_in_units(thermo.Pyy.std(), lammps_units['pressure'])\n",
    "    pzz = uc.set_in_units(thermo.Pzz.std(), lammps_units['pressure'])\n",
    "    pxy = uc.set_in_units(thermo.Pxy.std(), lammps_units['pressure'])\n",
    "    pxz = uc.set_in_units(thermo.Pxz.std(), lammps_units['pressure'])\n",
    "    pyz = uc.set_in_units(thermo.Pyz.std(), lammps_units['pressure'])\n",
    "    results['stress_std'] = np.array([[pxx, pxy, pxz],\n",
    "                                      [pxy, pyy, pyz],\n",
    "                                      [pxz, pyz, pzz]])\n",
    "\n",
    "    # Get system temperature estimates\n",
    "    results['temp'] = thermo.Temp.mean()\n",
    "    results['temp_std'] = thermo.Temp.std()\n",
    "    \n",
    "    return results"
   ]
  },
  {
   "cell_type": "markdown",
   "metadata": {
    "deletable": true,
    "editable": true
   },
   "source": [
    "### 4. Run calculation function(s)"
   ]
  },
  {
   "cell_type": "code",
   "execution_count": 10,
   "metadata": {
    "collapsed": false,
    "deletable": true,
    "editable": true
   },
   "outputs": [],
   "source": [
    "results_dict = full_relax(lammps_command, \n",
    "                          system, \n",
    "                          potential,\n",
    "                          symbols,\n",
    "                          mpi_command = mpi_command,\n",
    "                          ucell=ucell,\n",
    "                          p_xx=pressure_xx,\n",
    "                          p_yy=pressure_yy,\n",
    "                          p_zz=pressure_zz,\n",
    "                          temperature=temperature,\n",
    "                          integrator=integrator,\n",
    "                          runsteps=runsteps,\n",
    "                          thermosteps=thermosteps,\n",
    "                          dumpsteps=dumpsteps,\n",
    "                          equilsteps=equilsteps,\n",
    "                          randomseed=randomseed)"
   ]
  },
  {
   "cell_type": "code",
   "execution_count": 11,
   "metadata": {
    "collapsed": false,
    "deletable": true,
    "editable": true
   },
   "outputs": [
    {
     "data": {
      "text/plain": [
       "['E_coh_std',\n",
       " 'stress',\n",
       " 'gamma_lat',\n",
       " 'temp',\n",
       " 'stress_std',\n",
       " 'a_lat',\n",
       " 'beta_lat',\n",
       " 'b_lat',\n",
       " 'E_coh',\n",
       " 'c_lat',\n",
       " 'alpha_lat',\n",
       " 'c_lat_std',\n",
       " 'temp_std',\n",
       " 'nsamples',\n",
       " 'a_lat_std',\n",
       " 'system_relaxed',\n",
       " 'b_lat_std']"
      ]
     },
     "execution_count": 11,
     "metadata": {},
     "output_type": "execute_result"
    }
   ],
   "source": [
    "results_dict.keys()"
   ]
  },
  {
   "cell_type": "markdown",
   "metadata": {
    "deletable": true,
    "editable": true
   },
   "source": [
    "### 5. Report results"
   ]
  },
  {
   "cell_type": "markdown",
   "metadata": {
    "deletable": true,
    "editable": true
   },
   "source": [
    "#### 5.1 Define units for outputting values\n",
    "\n",
    "- __length_unit__ is the unit of length to display relaxed lattice constants in.\n",
    "- __energy_unit__ is the unit of energy to display cohesive energies in.\n",
    "- __pressure_unit__ is the unit of pressure to display Cij and relaxed stress state in."
   ]
  },
  {
   "cell_type": "code",
   "execution_count": 12,
   "metadata": {
    "collapsed": true,
    "deletable": true,
    "editable": true
   },
   "outputs": [],
   "source": [
    "length_unit = 'angstrom'\n",
    "energy_unit = 'eV'\n",
    "pressure_unit = 'GPa'"
   ]
  },
  {
   "cell_type": "markdown",
   "metadata": {
    "deletable": true,
    "editable": true
   },
   "source": [
    "#### 5.2 Display number of samples and number of atoms"
   ]
  },
  {
   "cell_type": "code",
   "execution_count": 13,
   "metadata": {
    "collapsed": false,
    "deletable": true,
    "editable": true
   },
   "outputs": [
    {
     "name": "stdout",
     "output_type": "stream",
     "text": [
      "# of samples =  2001\n",
      "# of atoms =    4000\n"
     ]
    }
   ],
   "source": [
    "print('# of samples = ', results_dict['nsamples'])\n",
    "print('# of atoms =   ', results_dict['system_relaxed'].natoms)"
   ]
  },
  {
   "cell_type": "markdown",
   "metadata": {
    "deletable": true,
    "editable": true
   },
   "source": [
    "#### 5.3 Print Ecoh and lattice constants of relaxed ucell"
   ]
  },
  {
   "cell_type": "code",
   "execution_count": 14,
   "metadata": {
    "collapsed": false,
    "deletable": true,
    "editable": true
   },
   "outputs": [
    {
     "name": "stdout",
     "output_type": "stream",
     "text": [
      "Ecoh =      -4.413040 eV\n",
      "std(Ecoh) =  0.000484 eV\n",
      "a =          3.532964 angstrom\n",
      "std(a) =     0.001598 angstrom\n",
      "b =          3.533034 angstrom\n",
      "std(b) =     0.001686 angstrom\n",
      "c =          3.533102 angstrom\n",
      "std(c) =     0.001813 angstrom\n",
      "alpha =     90.000000\n",
      "beta =      90.000000\n",
      "gamma =     90.000000\n"
     ]
    }
   ],
   "source": [
    "print('Ecoh =      %9.6f' % uc.get_in_units(results_dict['E_coh'], energy_unit), energy_unit)\n",
    "print('std(Ecoh) = %9.6f' % uc.get_in_units(results_dict['E_coh_std'], energy_unit), energy_unit)\n",
    "print('a =         %9.6f' % uc.get_in_units(results_dict['a_lat'], length_unit), length_unit)\n",
    "print('std(a) =    %9.6f' % uc.get_in_units(results_dict['a_lat_std'], energy_unit), length_unit)\n",
    "print('b =         %9.6f' % uc.get_in_units(results_dict['b_lat'], length_unit), length_unit)\n",
    "print('std(b) =    %9.6f' % uc.get_in_units(results_dict['b_lat_std'], energy_unit), length_unit)\n",
    "print('c =         %9.6f' % uc.get_in_units(results_dict['c_lat'], length_unit), length_unit)\n",
    "print('std(c) =    %9.6f' % uc.get_in_units(results_dict['c_lat_std'], energy_unit), length_unit)\n",
    "print('alpha =     %9.6f' % results_dict['alpha_lat'])\n",
    "print('beta =      %9.6f' % results_dict['beta_lat'])\n",
    "print('gamma =     %9.6f' % results_dict['gamma_lat'])"
   ]
  },
  {
   "cell_type": "markdown",
   "metadata": {
    "deletable": true,
    "editable": true
   },
   "source": [
    "#### 5.4 Check stress state of relaxed system"
   ]
  },
  {
   "cell_type": "code",
   "execution_count": 15,
   "metadata": {
    "collapsed": false,
    "deletable": true,
    "editable": true
   },
   "outputs": [
    {
     "name": "stdout",
     "output_type": "stream",
     "text": [
      "stress (GPa) =\n",
      "[   0.0007    0.0015    0.0006]\n",
      "[   0.0015    0.0011   -0.0004]\n",
      "[   0.0006   -0.0004    0.0007]\n",
      "\n",
      "std(stress) (GPa) =\n",
      "[   0.0879    0.0257    0.0245]\n",
      "[   0.0257    0.0915    0.0252]\n",
      "[   0.0245    0.0252    0.0932]\n"
     ]
    }
   ],
   "source": [
    "print('stress ('+pressure_unit+') =')\n",
    "for Si in uc.get_in_units(results_dict['stress'], pressure_unit):\n",
    "    print('[%9.4f %9.4f %9.4f]' % tuple(Si))\n",
    "print()\n",
    "print('std(stress) ('+pressure_unit+') =')\n",
    "for Si in uc.get_in_units(results_dict['stress_std'], pressure_unit):\n",
    "    print('[%9.4f %9.4f %9.4f]' % tuple(Si))"
   ]
  },
  {
   "cell_type": "markdown",
   "metadata": {
    "deletable": true,
    "editable": true
   },
   "source": [
    "#### 5.5 Check temperature state of relaxed system"
   ]
  },
  {
   "cell_type": "code",
   "execution_count": 16,
   "metadata": {
    "collapsed": false,
    "deletable": true,
    "editable": true
   },
   "outputs": [
    {
     "name": "stdout",
     "output_type": "stream",
     "text": [
      "T =      300.176572 K\n",
      "std(T) =  3.826057 K\n"
     ]
    }
   ],
   "source": [
    "print('T =      %9.6f K' % results_dict['temp'])\n",
    "print('std(T) = %9.6f K' % results_dict['temp_std'])"
   ]
  }
 ],
 "metadata": {
  "kernelspec": {
   "display_name": "Python 2",
   "language": "python",
   "name": "python2"
  },
  "language_info": {
   "codemirror_mode": {
    "name": "ipython",
    "version": 2
   },
   "file_extension": ".py",
   "mimetype": "text/x-python",
   "name": "python",
   "nbconvert_exporter": "python",
   "pygments_lexer": "ipython2",
   "version": "2.7.13"
  }
 },
 "nbformat": 4,
 "nbformat_minor": 2
}
