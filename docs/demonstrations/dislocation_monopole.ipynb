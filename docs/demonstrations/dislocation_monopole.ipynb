{
 "cells": [
  {
   "cell_type": "markdown",
   "metadata": {
    "deletable": true,
    "editable": true
   },
   "source": [
    "# dislocation_monopole Calculation Demonstration\n",
    "\n",
    "- - -"
   ]
  },
  {
   "cell_type": "markdown",
   "metadata": {
    "deletable": true,
    "editable": true
   },
   "source": [
    "**Lucas M. Hale**, [lucas.hale@nist.gov](mailto:lucas.hale@nist.gov?Subject=ipr-demo), *Materials Science and Engineering Division, NIST*.\n",
    "\n",
    "**Chandler A. Becker**, [chandler.becker@nist.gov](mailto:chandler.becker@nist.gov?Subject=ipr-demo), *Office of Data and Informatics, NIST*.\n",
    "\n",
    "**Zachary T. Trautt**, [zachary.trautt@nist.gov](mailto:zachary.trautt@nist.gov?Subject=ipr-demo), *Materials Measurement Science Division, NIST*.\n",
    "\n",
    "Version: 2017-07-24\n",
    "\n",
    "[Disclaimers](http://www.nist.gov/public_affairs/disclaimer.cfm) \n",
    " \n",
    "- - -"
   ]
  },
  {
   "cell_type": "markdown",
   "metadata": {
    "deletable": true,
    "editable": true
   },
   "source": [
    "## Introduction\n",
    "\n",
    "The __dislocation_monopole__ calculation calculation inserts a dislocation monopole into an atomic system using the anisotropic elasticity solution for a straight perfect dislocation, and relaxes the atomic configuration. The atoms within the active region of the system are then relaxed statically or dynamically. The relaxed dislocation system and corresponding dislocation-free base systems are retained in the calculation's archived record. Various properties associated with the dislocation's elasticity solution are recorded in the calculation's results record.\n",
    "\n",
    "__Disclaimer #1__: In principle, the theory should allow for a straight dislocation monopole to be added to any crystal structure. In practice, the methodology is currently only fully compatible for cubic systems. First, atomman is currently limited to applying rotations to cubic systems. Second, the methodology currently limits the dislocation to being inserted along the z-axis. See Method and Theory for more details.\n",
    "\n",
    "__Disclaimer #2__: Only performing a static relaxation is considerably faster than performing a dynamic relaxation, but it may not fully relax the configuration.\n",
    "\n",
    "__Disclaimer #3__: The sizes of the system and boundary region should be selected to place the dislocation far from the boundary region to reduce the effect of the boundary region on the dislocation. \n",
    "\n",
    "- - -"
   ]
  },
  {
   "cell_type": "markdown",
   "metadata": {
    "deletable": true,
    "editable": true
   },
   "source": [
    "## Method and Theory\n",
    "\n",
    "The calculation follows the convention that the system is oriented with the dislocation line parallel to the Cartesian z-axis and positioned at x,y coordinates (0, 0), and the slip plane normal to the y-axis. The system is periodic along the box's c vector, and non-periodic in the other two box vector directions. The non-periodic bounds are handled by defining a boundary region of atoms held fixed at the elasticity \n",
    " \n",
    " etc. etc\n",
    "- - -"
   ]
  },
  {
   "cell_type": "markdown",
   "metadata": {
    "deletable": true,
    "editable": true
   },
   "source": [
    "## Demonstration"
   ]
  },
  {
   "cell_type": "markdown",
   "metadata": {
    "deletable": true,
    "editable": true
   },
   "source": [
    "### 1. Library imports"
   ]
  },
  {
   "cell_type": "markdown",
   "metadata": {
    "deletable": true,
    "editable": true
   },
   "source": [
    "Import libraries needed by the calculation. The external libraries used are:\n",
    "\n",
    "- [numpy](http://www.numpy.org/)\n",
    "\n",
    "- [DataModelDict](https://github.com/usnistgov/DataModelDict)\n",
    "\n",
    "- [atomman](https://github.com/usnistgov/atomman)\n",
    "\n",
    "- [iprPy](https://github.com/usnistgov/iprPy)"
   ]
  },
  {
   "cell_type": "code",
   "execution_count": 1,
   "metadata": {
    "collapsed": true,
    "deletable": true,
    "editable": true
   },
   "outputs": [],
   "source": [
    "# Standard library imports\n",
    "from __future__ import division, absolute_import, print_function\n",
    "import os\n",
    "import sys\n",
    "import uuid\n",
    "import glob\n",
    "import shutil\n",
    "import random\n",
    "import datetime\n",
    "from copy import deepcopy\n",
    "\n",
    "# http://www.numpy.org/\n",
    "import numpy as np \n",
    "\n",
    "# https://github.com/usnistgov/DataModelDict \n",
    "from DataModelDict import DataModelDict as DM\n",
    "\n",
    "# https://github.com/usnistgov/atomman \n",
    "import atomman as am\n",
    "import atomman.lammps as lmp\n",
    "import atomman.unitconvert as uc\n",
    "\n",
    "# https://github.com/usnistgov/iprPy\n",
    "import iprPy"
   ]
  },
  {
   "cell_type": "markdown",
   "metadata": {
    "deletable": true,
    "editable": true
   },
   "source": [
    "### 2. Assign values for the calculation's run parameters"
   ]
  },
  {
   "cell_type": "markdown",
   "metadata": {
    "deletable": true,
    "editable": true
   },
   "source": [
    "#### 2.0 Set the calculation's working directory"
   ]
  },
  {
   "cell_type": "code",
   "execution_count": 2,
   "metadata": {
    "collapsed": false,
    "deletable": true,
    "editable": true
   },
   "outputs": [],
   "source": [
    "calc_name = 'dislocation_monopole'\n",
    "\n",
    "# Check current working directory\n",
    "cwd_name = os.path.basename(os.getcwd())\n",
    "\n",
    "# Change working directory if needed\n",
    "if cwd_name != calc_name:\n",
    "    if not os.path.isdir(calc_name):\n",
    "        os.mkdir(calc_name)\n",
    "    os.chdir(calc_name)"
   ]
  },
  {
   "cell_type": "markdown",
   "metadata": {
    "deletable": true,
    "editable": true
   },
   "source": [
    "#### 2.1 Specify system-specific paths\n",
    "\n",
    "Simple input parameters:\n",
    "\n",
    "- __lammps_command__ is the LAMMPS command to use.\n",
    "\n",
    "- __mpi_command__ MPI command for running LAMMPS in parallel. A value of None will run simulations serially.\n",
    "\n",
    "- __lib_directory__ defines the relative path to the iprPy library. This makes it easier to define paths to reference records later."
   ]
  },
  {
   "cell_type": "code",
   "execution_count": 3,
   "metadata": {
    "collapsed": true,
    "deletable": true,
    "editable": true
   },
   "outputs": [],
   "source": [
    "lammps_command = 'lmp_mpi'\n",
    "mpi_command = 'mpiexec -localonly 4'\n",
    "lib_directory = '../../../library'"
   ]
  },
  {
   "cell_type": "markdown",
   "metadata": {
    "deletable": true,
    "editable": true
   },
   "source": [
    "#### 2.2 Specify the potenital and elemental symbols\n",
    "\n",
    "Simple input parameters:\n",
    "\n",
    "- __potential_name__ gives the name of the potential_LAMMPS reference record in the iprPy library to use for potential. \n",
    "\n",
    "- __symbols__ is a list of the elemental model symbols of potential to associate with the unique atom types of system.\n",
    "\n",
    "Derived parameters:\n",
    "\n",
    "- __potential_dir_path__ gives the path for the folder containing the artifacts associated with the potential (i.e. eam.alloy file). If an empty string '' is given, the necessary artifacts are taken as being in the working directory. (Here, it is derived from lib_directory and potential_name.)\n",
    "\n",
    "- __potential_path__ gives the path to the potential_LAMMPS reference record to use. (Here, it is derived from lib_directory and potential_name.)\n",
    "\n",
    "- __potential__ is the atomman.lammps.Potential representation of a LAMMPS implemented potential to use. (Here, the class is implemented using potential_path and potential_dir_path.)"
   ]
  },
  {
   "cell_type": "code",
   "execution_count": 4,
   "metadata": {
    "collapsed": false,
    "deletable": true,
    "editable": true
   },
   "outputs": [
    {
     "name": "stdout",
     "output_type": "stream",
     "text": [
      "Successfully loaded potential 1999--Mishin-Y--Ni--LAMMPS--ipr1\n"
     ]
    }
   ],
   "source": [
    "potential_name = '1999--Mishin-Y--Ni--LAMMPS--ipr1'\n",
    "symbols = ['Ni']\n",
    "\n",
    "# -------------- Derived parameters -------------- #\n",
    "# Define potential_path and potential_dir_path using lib_directory and potential_name\n",
    "potential_dir_path = os.path.abspath(os.path.join(lib_directory, 'potential_LAMMPS', potential_name))\n",
    "potential_path = potential_dir_path + '.json'\n",
    "\n",
    "# Create potential by loading LAMMPS-potential record\n",
    "potential = lmp.Potential(potential_path, potential_dir_path)\n",
    "\n",
    "print('Successfully loaded potential', potential)"
   ]
  },
  {
   "cell_type": "markdown",
   "metadata": {
    "deletable": true,
    "editable": true
   },
   "source": [
    "#### 2.3 Specify the prototype unit cell system\n",
    "\n",
    "Simple input parameters:\n",
    "\n",
    "- __prototype_name__ gives the name of the crystal_prototype reference record in the iprPy library to use for ucell. \n",
    "\n",
    "- __box_parameters__ defines the box parameters to scale ucell to. This is a list of either three or six floats\n",
    "    - __[a, b, c]__ are the orthogonal lattice parameters in length units.\n",
    "    - __[a, b, c, alpha, beta, gamma]__ are the triclinic lattice parameters in length units and angles in degrees.\n",
    "\n",
    "Derived parameters:\n",
    "\n",
    "- __prototype_path__ gives the path to the crystal_prototype reference record to use. (Here, it is derived from lib_directory and prototype_name).\n",
    "\n",
    "- __ucell__ is an atomman.System representing a fundamental unit cell of the system. (Here, it is loaded from prototype_path file, then scaled using box_parameters)."
   ]
  },
  {
   "cell_type": "code",
   "execution_count": 5,
   "metadata": {
    "collapsed": false,
    "deletable": true,
    "editable": true
   },
   "outputs": [
    {
     "name": "stdout",
     "output_type": "stream",
     "text": [
      "avect =  [ 3.520,  0.000,  0.000]\n",
      "bvect =  [ 0.000,  3.520,  0.000]\n",
      "cvect =  [ 0.000,  0.000,  3.520]\n",
      "origin = [ 0.000,  0.000,  0.000]\n",
      "natoms = 4\n",
      "natypes = 1\n",
      "     id |   atype |  pos[0] |  pos[1] |  pos[2]\n",
      "      0 |       1 |   0.000 |   0.000 |   0.000\n",
      "      1 |       1 |   0.000 |   1.760 |   1.760\n",
      "      2 |       1 |   1.760 |   0.000 |   1.760\n",
      "      3 |       1 |   1.760 |   1.760 |   0.000\n"
     ]
    }
   ],
   "source": [
    "prototype_name = 'A1--Cu--fcc'\n",
    "box_parameters = uc.set_in_units([3.52, 3.52, 3.52], 'angstrom')\n",
    "\n",
    "# -------------- Derived parameters -------------- #\n",
    "# Define prototype_path using lib_directory and prototype_name\n",
    "prototype_path = os.path.abspath(os.path.join(lib_directory, 'crystal_prototype', prototype_name+'.json'))\n",
    "\n",
    "# Create ucell by loading prototype record\n",
    "ucell = am.load('system_model', prototype_path)[0]\n",
    "\n",
    "# Rescale ucell using box_parameters\n",
    "if len(box_parameters) == 3:\n",
    "    ucell.box_set(a=box_parameters[0], b=box_parameters[1], c=box_parameters[2], scale=True)\n",
    "elif len(box_parameters) == 6:\n",
    "    ucell.box_set(a=box_parameters[0], b=box_parameters[1], c=box_parameters[2], scale=True,\n",
    "                  alpha=box_parameters[3], beta=box_parameters[4], gamma=box_parameters[5])\n",
    "\n",
    "print(ucell)"
   ]
  },
  {
   "cell_type": "markdown",
   "metadata": {
    "deletable": true,
    "editable": true
   },
   "source": [
    "#### 2.4 Specify material elastic constants\n",
    "\n",
    "Simple input parameters:\n",
    "\n",
    "- __C_dict__ is a dictionary containing the unique elastic constants for the potential and crystal structure defined above. \n",
    "\n",
    "Derived parameters\n",
    "\n",
    "- __C__ is an atomman.ElasticConstants object built from C_dict."
   ]
  },
  {
   "cell_type": "code",
   "execution_count": 6,
   "metadata": {
    "collapsed": true,
    "deletable": true,
    "editable": true
   },
   "outputs": [],
   "source": [
    "C_dict = {}\n",
    "C_dict['C11'] = uc.set_in_units(247.86, 'GPa')\n",
    "C_dict['C12'] = uc.set_in_units(147.83, 'GPa')\n",
    "C_dict['C44'] = uc.set_in_units(124.84, 'GPa')\n",
    "\n",
    "# -------------- Derived parameters -------------- #\n",
    "# Build ElasticConstants object from C_dict terms\n",
    "C = am.ElasticConstants(**C_dict)"
   ]
  },
  {
   "cell_type": "markdown",
   "metadata": {
    "deletable": true,
    "editable": true
   },
   "source": [
    "#### 2.5 Specify the defect \n",
    "\n",
    "Simple input parameters:\n",
    "\n",
    "- __dislocation_name__ gives the name of the dislocation_monopole reference record in the iprPy library to use for potential. \n",
    "\n",
    "Derived parameters:\n",
    "\n",
    "- __dislocation_path__ gives the path to the dislocation_monopole reference record to use. (Here, it is derived from lib_directory and dislocation_name).\n",
    "\n",
    "- __dislocation_model__ is a DataModelDict of a dislocation_monopole record. (Here, the dislocation_path file is loaded as a DataModelDict.)\n",
    "\n",
    "- __dislocation_kwargs__ is a dictionary containing parameters for generating the defect. Values are extracted from the dislocation_model record and uniquely define a type of stacking fault. Included keywords are:\n",
    "\n",
    "    - __burgers__ is the crystallographic Burgers vector for the dislocation\n",
    "    \n",
    "    - __crystallographic-axes__ specifies how to orient the system. Subelements define each of the x-, y-, and z-axes.\n",
    "    \n",
    "    - __atomshift__ is a 3D vector rigid-body shift to apply to atoms in the system. The atomshift vector is relative to the rotated unit cell's box vectors."
   ]
  },
  {
   "cell_type": "code",
   "execution_count": 7,
   "metadata": {
    "collapsed": false,
    "deletable": true,
    "editable": true
   },
   "outputs": [
    {
     "name": "stdout",
     "output_type": "stream",
     "text": [
      "Successfully loaded defect record for A1--Cu--fcc--111-edge\n",
      "{\n",
      "    \"x_axis\": \" 1  0 -1\", \n",
      "    \"y_axis\": \" 1  1  1\", \n",
      "    \"z_axis\": \" 1 -2  1\", \n",
      "    \"atomshift\": \" 0.00 0.25 0.00\", \n",
      "    \"burgersvector\": \" 0.5  0.0 -0.5\"\n",
      "}\n"
     ]
    }
   ],
   "source": [
    "dislocation_name = 'A1--Cu--fcc--111-edge'\n",
    "\n",
    "# -------------- Derived parameters -------------- #\n",
    "# Define dislocation_path using lib_directory and dislocation_name\n",
    "dislocation_path = os.path.abspath(os.path.join(lib_directory, 'dislocation_monopole', dislocation_name+'.json')) \n",
    "\n",
    "# Load dislocation-monopole record as a DataModelDict\n",
    "with open(dislocation_path) as f:\n",
    "    dislocation_model = DM(f)\n",
    "\n",
    "print('Successfully loaded defect record for', dislocation_model['dislocation-monopole']['id'])\n",
    "\n",
    "# Extract defect parameters    \n",
    "dislocation_kwargs = dislocation_model['dislocation-monopole']['calculation-parameter']\n",
    "\n",
    "print(dislocation_kwargs.json(indent=4))"
   ]
  },
  {
   "cell_type": "markdown",
   "metadata": {
    "deletable": true,
    "editable": true
   },
   "source": [
    "#### 2.6 Generate the initial system\n",
    "\n",
    "Simple input parameters:\n",
    "\n",
    "- __sizemults__ list of three integers or three tuple pairs of integers specifying how many times (and in which direction) the ucell vectors of $a$, $b$ and $c$ are replicated in creating system.\n",
    "\n",
    "Defect model parameters:\n",
    "\n",
    "- __x_axis__ is the 3D crystal vector relative to ucell to align with the x-axis of system.\n",
    "\n",
    "- __y_axis__ is the 3D crystal vector relative to ucell to align with the y-axis of system.\n",
    "\n",
    "- __z_axis__ is the 3D crystal vector relative to ucell to align with the z-axis of system.\n",
    "\n",
    "- __atomshift__ is a 3D vector rigid-body shift to apply to atoms in the system. The atomshift vector is relative to the rotated unit cell's box vectors.\n",
    "\n",
    "Derived parameters:\n",
    "\n",
    "- __axes__ is a 3x3 array combining x_axis, y_axis and z_axis.\n",
    "\n",
    "- __shift__ is a 3D vector rigid-body shift to apply to atoms in the system. The shift vector is in absolute Cartesian units. (Here, it is derived from atomshift).\n",
    "\n",
    "- __system__ is the base atomman.System to use. (Here, it is derived by copying ucell, rotating according to axes, applying shift, then sizemults"
   ]
  },
  {
   "cell_type": "code",
   "execution_count": 8,
   "metadata": {
    "collapsed": false,
    "deletable": true,
    "editable": true
   },
   "outputs": [
    {
     "name": "stdout",
     "output_type": "stream",
     "text": [
      "# of atoms in system = 34560\n"
     ]
    }
   ],
   "source": [
    "sizemults = [(-15,15), (-12,12), (0,2)]\n",
    "\n",
    "# -------------- Defect parameters --------------- #\n",
    "x_axis = np.array(dislocation_kwargs['x_axis'].split(), dtype=float)\n",
    "y_axis = np.array(dislocation_kwargs['y_axis'].split(), dtype=float)\n",
    "z_axis = np.array(dislocation_kwargs['z_axis'].split(), dtype=float)\n",
    "atomshift = np.array(dislocation_kwargs['atomshift'].split(), dtype=float)\n",
    "\n",
    "# -------------- Derived parameters -------------- #\n",
    "# Copy ucell to initialsystem\n",
    "system = deepcopy(ucell)\n",
    "\n",
    "# Build axes from x_axis, y_axis and z_axis\n",
    "axes = np.array([x_axis, y_axis, z_axis])\n",
    "\n",
    "# Rotate using axes\n",
    "system = am.rotate_cubic(system, axes)\n",
    "\n",
    "# Convert atomshift to shift using the rotated system\n",
    "shift = (atomshift[0] * system.box.avect \n",
    "         + atomshift[1] * system.box.bvect \n",
    "         + atomshift[2] * system.box.cvect)\n",
    "\n",
    "# Apply shift\n",
    "system.atoms_prop(key='pos', value=system.atoms_prop(key='pos') + shift)\n",
    "\n",
    "# Apply sizemults\n",
    "system.supersize(*sizemults)\n",
    "\n",
    "print('# of atoms in system =', system.natoms)"
   ]
  },
  {
   "cell_type": "markdown",
   "metadata": {
    "deletable": true,
    "editable": true
   },
   "source": [
    "#### 2.7 Specify calculation-specific run parameters\n",
    "\n",
    "Simple input parameters:\n",
    "\n",
    "- __boundarywidth__ sets the minimum width of the fixed-atom boundary region. This is taken in units of the a lattice parameter of the unit cell.\n",
    "\n",
    "- __boundaryshape__ specifies what shape to make the fixed-atom boundary region.\n",
    "\n",
    "    - __circle__ will create a cylindrical active region.\n",
    "    \n",
    "    - __rect__ will create a rectangular active region.\n",
    "\n",
    "- __annealtemperature__ is the temperature at which to relax (anneal) the dislocation system. If annealtemperature is 0.0, then only a static relaxation will be performed. Default value is 0.0.\n",
    "\n",
    "- __randomseed__ allows for the random seed used in generating initial atomic velocities for a dynamic relaxation to be specified. This is an integer between 1 and 900000000. Default value is None, which will randomly pick a number in that range.\n",
    "\n",
    "- __energytolerance__ is the energy tolerance to use during the minimizations. This is unitless.\n",
    "\n",
    "- __forcetolerance__ is the force tolerance to use during the minimizations. This is in energy/length units.\n",
    "\n",
    "- __maxiterations__ is the maximum number of minimization iterations to use.\n",
    "\n",
    "- __maxevaluations__ is the maximum number of minimization evaluations to use.\n",
    "\n",
    "- __maxatommotion__ is the largest distance that an atom is allowed to move during a minimization iteration. This is in length units. \n",
    "\n",
    "Defect model parameters\n",
    "\n",
    "- __burgersvector__ defines the crystallographic Burgers vector for the dislocation being added.\n",
    "\n",
    "Derived parameters\n",
    "\n",
    "- __T__ is the transformation matrix associated with axes.\n",
    "\n",
    "- __bwidth__ is the minimum boundary width in length units. This is obtained by scaling boundarywidth by the $a$ unit cell box vector.\n",
    "\n",
    "- __burgers__ is the Burgers vector in absolute Cartesian units. This is obtained by scaling dislocation_burgersvector by the unit cell box vectors, and then transforming to the defined axes."
   ]
  },
  {
   "cell_type": "code",
   "execution_count": 9,
   "metadata": {
    "collapsed": false,
    "deletable": true,
    "editable": true
   },
   "outputs": [],
   "source": [
    "boundarywidth = 3\n",
    "boundaryshape = 'circle'\n",
    "\n",
    "annealtemperature = 0.0\n",
    "randomseed = None\n",
    "\n",
    "energytolerance = 0.0\n",
    "forcetolerance = uc.set_in_units(1e-6, 'eV/angstrom')\n",
    "maxiterations = 10000\n",
    "maxevaluations = 100000\n",
    "maxatommotion = uc.set_in_units(0.01, 'angstrom')\n",
    "\n",
    "# -------------- Defect parameters --------------- #\n",
    "burgersvector = np.array(dislocation_kwargs['burgersvector'].split(), float)\n",
    "\n",
    "# -------------- Derived parameters -------------- #\n",
    "# Scale and transform the Burgers vector\n",
    "T = am.tools.axes_check(axes)\n",
    "burgers = T.dot(burgersvector[0] * ucell.box.avect + \n",
    "                burgersvector[1] * ucell.box.bvect + \n",
    "                burgersvector[2] * ucell.box.cvect)\n",
    "# Scale boundary width\n",
    "bwidth = ucell.box.a * boundarywidth"
   ]
  },
  {
   "cell_type": "markdown",
   "metadata": {
    "deletable": true,
    "editable": true
   },
   "source": [
    "### 3. Define calculation function(s) and generate template LAMMPS script(s)"
   ]
  },
  {
   "cell_type": "markdown",
   "metadata": {
    "deletable": true,
    "editable": true
   },
   "source": [
    "#### 3.1 disl_relax.template\n",
    "\n",
    "This is a template LAMMPS script for relaxing a system with a dislocation monopole."
   ]
  },
  {
   "cell_type": "code",
   "execution_count": 10,
   "metadata": {
    "collapsed": true,
    "deletable": true,
    "editable": true
   },
   "outputs": [],
   "source": [
    "with open('disl_relax.template', 'w') as f:\n",
    "    f.write(\"\"\"#LAMMPS input script for relaxing a dislocation monopole\n",
    "\n",
    "<atomman_system_info>\n",
    "\n",
    "<atomman_pair_info>\n",
    "\n",
    "group move type <group_move>\n",
    "group hold subtract all move\n",
    "\n",
    "compute peatom all pe/atom\n",
    "\n",
    "dump first all custom <maxeval> *.dump id type x y z c_peatom\n",
    "dump_modify first format <dump_modify_format>\n",
    "thermo_style custom step pe\n",
    "\n",
    "fix nomove hold setforce 0.0 0.0 0.0\n",
    "\n",
    "<anneal_info>\n",
    "\n",
    "min_modify dmax <dmax>\n",
    "\n",
    "minimize <etol> <ftol> <maxiter> <maxeval>\n",
    "\"\"\")"
   ]
  },
  {
   "cell_type": "markdown",
   "metadata": {
    "deletable": true,
    "editable": true
   },
   "source": [
    "#### 3.2 dislocationmonopole()\n",
    "\n",
    "This function creates a system with a stacking fault shift, relaxes the system, and computes the system's total potential energy and center of mass difference between the atoms on either side of the fault plane. \n",
    "\n",
    "Arguments:\n",
    "\n",
    "- __lammps_command__ is the LAMMPS command to use.\n",
    "\n",
    "- __system__ is an atomman.System to perform the scan on.\n",
    "\n",
    "- __potential__ is the atomman.lammps.Potential representation of a LAMMPS implemented potential to use.\n",
    "\n",
    "- __symbols__ is a list of element-model symbols for the Potential that correspond to system's atypes.\n",
    "\n",
    "- __burgers__ is the Cartesian Burgers vector in length units.\n",
    "\n",
    "- __C__ is an atomman.ElasticConstants object.\n",
    "\n",
    "- __mpi_command__ MPI command for running LAMMPS in parallel. Default value is None (serial run).  \n",
    "\n",
    "- __axes__ is the directory to save log and dump files to. Default value is None (save to current working directory).\n",
    "\n",
    "- __randomseed__ allows for the random seed used in generating initial atomic velocities for a dynamic relaxation to be specified. This is an integer between 1 and 900000000. Default value is None, which will randomly pick a number in that range.\n",
    "\n",
    "- __annealtemp__ is the temperature at which to relax (anneal) the dislocation system. If annealtemperature is 0.0, then only a static relaxation will be performed. Default value is 0.0.\n",
    "\n",
    "- __bwidth__ is the minimum width of the fixed boundary region in length units. Default value is 10 Angstroms.\n",
    "\n",
    "- __bshape__ defines the shape for the fixed boundary region. Values can be 'circle' or 'rect. Default value is 'circle'.\n",
    "\n",
    "- __etol__ is the energy tolerance to use for the minimizations. Default value is 0.0 (don't consider energy).\n",
    "\n",
    "- __ftol__ is the energy tolerance to use for the minimizations. Default value is 0.0 (don't consider force). If given, this should be in atomman's working energy/length units.\n",
    "\n",
    "- __maxiter__ is the maximum number of minimization iterations to perform. Default value is 10000.\n",
    "\n",
    "- __maxeval__ is the maximum number of minimization evaluations to perform. Default value is 100000.\n",
    "\n",
    "- __dmax__ is the maximum distance an atom is allowed to move per minimization iteration. Default value is 0.01 Angstroms."
   ]
  },
  {
   "cell_type": "code",
   "execution_count": 11,
   "metadata": {
    "collapsed": false,
    "deletable": true,
    "editable": true
   },
   "outputs": [],
   "source": [
    "def dislocationmonopole(lammps_command, system, potential, symbols, burgers,\n",
    "                        C, mpi_command=None, axes=None, randomseed=None,\n",
    "                        etol=0.0, ftol=0.0, maxiter=10000, maxeval=100000,\n",
    "                        dmax=uc.set_in_units(0.01, 'angstrom'),\n",
    "                        annealtemp=0.0, bshape='circle',\n",
    "                        bwidth=uc.set_in_units(10, 'angstrom')):\n",
    "    \"\"\"\n",
    "    Creates and relaxes a dislocation monopole system.\n",
    "    \n",
    "    Parameters\n",
    "    ----------\n",
    "    lammps_command :str\n",
    "        Command for running LAMMPS.\n",
    "    system : atomman.System\n",
    "        The bulk system to add the defect to.\n",
    "    potential : atomman.lammps.Potential\n",
    "        The LAMMPS implemented potential to use.\n",
    "    symbols : list of str\n",
    "        The list of element-model symbols for the Potential that correspond to\n",
    "        system's atypes.\n",
    "    burgers : list or numpy.array of float\n",
    "        The burgers vector for the dislocation being added.\n",
    "    C : atomman.ElasticConstants\n",
    "        The system's elastic constants.\n",
    "    mpi_command : str or None, optional\n",
    "        The MPI command for running LAMMPS in parallel.  If not given, LAMMPS\n",
    "        will run serially.\n",
    "    axes : numpy.array of float or None, optional\n",
    "        The 3x3 axes used to rotate the system by during creation.  If given,\n",
    "        will be used to transform burgers and C from the standard\n",
    "        crystallographic orientations to the system's Cartesian units.\n",
    "    randomseed : int or None, optional\n",
    "        Random number seed used by LAMMPS in creating velocities and with\n",
    "        the Langevin thermostat.  (Default is None which will select a\n",
    "        random int between 1 and 900000000.)\n",
    "    etol : float, optional\n",
    "        The energy tolerance for the structure minimization. This value is\n",
    "        unitless. (Default is 0.0).\n",
    "    ftol : float, optional\n",
    "        The force tolerance for the structure minimization. This value is in\n",
    "        units of force. (Default is 0.0).\n",
    "    maxiter : int, optional\n",
    "        The maximum number of minimization iterations to use (default is \n",
    "        10000).\n",
    "    maxeval : int, optional\n",
    "        The maximum number of minimization evaluations to use (default is \n",
    "        100000).\n",
    "    dmax : float, optional\n",
    "        The maximum distance in length units that any atom is allowed to relax\n",
    "        in any direction during a single minimization iteration (default is\n",
    "        0.01 Angstroms).\n",
    "    annealtemp : float, optional\n",
    "        The temperature to perform a dynamic relaxation at. (Default is 0.0,\n",
    "        which will skip the dynamic relaxation.)\n",
    "    bshape : str, optional\n",
    "        The shape to make the boundary region.  Options are 'circle' and\n",
    "        'rect' (default is 'circle').\n",
    "    bwidth : float, optional\n",
    "        The minimum thickness of the boundary region (default is 10\n",
    "        Angstroms).\n",
    "    \n",
    "    Returns\n",
    "    -------\n",
    "    dict\n",
    "        Dictionary of results consisting of keys:\n",
    "        \n",
    "        - **'dumpfile_base'** (*str*) - The filename of the LAMMPS dump file\n",
    "          for the relaxed base system.\n",
    "        - **'symbols_base'** (*list of str*) - The list of element-model\n",
    "          symbols for the Potential that correspond to the base system's\n",
    "          atypes.\n",
    "        - **'Stroh_preln'** (*float*) - The pre-logarithmic factor in the \n",
    "          dislocation's self-energy expression.\n",
    "        - **'Stroh_K_tensor'** (*numpy.array of float*) - The energy\n",
    "          coefficient tensor based on the dislocation's Stroh solution.\n",
    "        - **'dumpfile_disl'** (*str*) - The filename of the LAMMPS dump file\n",
    "          for the relaxed dislocation monopole system.\n",
    "        - **'symbols_disl'** (*list of str*) - The list of element-model\n",
    "          symbols for the Potential that correspond to the dislocation\n",
    "          monopole system's atypes.\n",
    "        - **'E_total_disl'** (*float*) - The total potential energy of the\n",
    "          dislocation monopole system.\n",
    "    \"\"\"\n",
    "    # Initialize results dict\n",
    "    results_dict = {}\n",
    "    \n",
    "    # Save initial perfect system\n",
    "    am.lammps.atom_dump.dump(system, 'base.dump')\n",
    "    results_dict['dumpfile_base'] = 'base.dump'\n",
    "    results_dict['symbols_base'] = symbols\n",
    "\n",
    "    # Solve Stroh method for dislocation\n",
    "    stroh = am.defect.Stroh(C, burgers, axes=axes)\n",
    "    results_dict['Stroh_preln'] = stroh.preln\n",
    "    results_dict['Stroh_K_tensor'] = stroh.K_tensor\n",
    "    \n",
    "    # Generate dislocation system by displacing atoms\n",
    "    disp = stroh.displacement(system.atoms.view['pos'])\n",
    "    system.atoms.view['pos'] += disp\n",
    "\n",
    "    system.wrap()\n",
    "    \n",
    "    # Apply fixed boundary conditions\n",
    "    system, symbols = disl_boundary_fix(system, symbols, bwidth, bshape)\n",
    "    \n",
    "    # Relax system\n",
    "    relaxed = disl_relax(lammps_command, system, potential, symbols,\n",
    "                         mpi_command = mpi_command, \n",
    "                         annealtemp = annealtemp,\n",
    "                         etol = etol, \n",
    "                         ftol = ftol, \n",
    "                         maxiter = maxiter, \n",
    "                         maxeval = maxeval)\n",
    "    \n",
    "    # Save relaxed dislocation system with original box vects\n",
    "    system_disl = am.load('atom_dump', relaxed['dumpfile'])[0]\n",
    "\n",
    "    system_disl.box_set(vects=system.box.vects, origin=system.box.origin)\n",
    "    lmp.atom_dump.dump(system_disl, 'disl.dump')\n",
    "    results_dict['dumpfile_disl'] = 'disl.dump'\n",
    "    results_dict['symbols_disl'] = symbols\n",
    "    \n",
    "    results_dict['E_total_disl'] = relaxed['E_total']\n",
    "    \n",
    "    # Cleanup files\n",
    "    os.remove('0.dump')\n",
    "    os.remove(relaxed['dumpfile'])\n",
    "    for dumpjsonfile in glob.iglob('*.dump.json'):\n",
    "        os.remove(dumpjsonfile)\n",
    "    \n",
    "    return results_dict"
   ]
  },
  {
   "cell_type": "markdown",
   "metadata": {
    "deletable": true,
    "editable": true
   },
   "source": [
    "#### 3.3 disl_boundary_fix()\n",
    "\n",
    "This function applies the defined fixed boundary region to the system.\n",
    "\n",
    "Arguments:\n",
    "\n"
   ]
  },
  {
   "cell_type": "code",
   "execution_count": 12,
   "metadata": {
    "collapsed": true,
    "deletable": true,
    "editable": true
   },
   "outputs": [],
   "source": [
    "def disl_boundary_fix(system, symbols, bwidth, bshape='circle'):\n",
    "    \"\"\"\n",
    "    Creates a boundary region by changing atom types.\n",
    "    \n",
    "    Parameters\n",
    "    ----------\n",
    "    system : atomman.System\n",
    "        The system to add the boundary region to.\n",
    "    symbols : list of str\n",
    "        The list of element-model symbols for the Potential that correspond to\n",
    "        system's atypes.\n",
    "    bwidth : float\n",
    "        The minimum thickness of the boundary region.\n",
    "    bshape : str, optional\n",
    "        The shape to make the boundary region.  Options are 'circle' and\n",
    "        'rect' (default is 'circle').\n",
    "    \"\"\"\n",
    "    natypes = system.natypes\n",
    "    atypes = system.atoms_prop(key='atype')\n",
    "    pos = system.atoms_prop(key='pos')\n",
    "    \n",
    "    if bshape == 'circle':\n",
    "        # Find x or y bound closest to 0\n",
    "        smallest_xy = min([abs(system.box.xlo), abs(system.box.xhi),\n",
    "                           abs(system.box.ylo), abs(system.box.yhi)])\n",
    "        \n",
    "        radius = smallest_xy - bwidth\n",
    "        xy_mag = np.linalg.norm(system.atoms_prop(key='pos')[:,:2], axis=1)        \n",
    "        atypes[xy_mag > radius] += natypes\n",
    "    \n",
    "    elif bshape == 'rect':\n",
    "        index = np.unique(np.hstack((np.where(pos[:,0] < system.box.xlo + bwidth),\n",
    "                                     np.where(pos[:,0] > system.box.xhi - bwidth),\n",
    "                                     np.where(pos[:,1] < system.box.ylo + bwidth),\n",
    "                                     np.where(pos[:,1] > system.box.yhi - bwidth))))\n",
    "        atypes[index] += natypes\n",
    "           \n",
    "    else:\n",
    "        raise ValueError(\"Unknown boundary shape type! Enter 'circle' or 'rect'\")\n",
    "\n",
    "    new_system = deepcopy(system)\n",
    "    new_system.atoms_prop(key='atype', value=atypes)\n",
    "    symbols.extend(symbols)\n",
    "    \n",
    "    return new_system, symbols"
   ]
  },
  {
   "cell_type": "markdown",
   "metadata": {
    "deletable": true,
    "editable": true
   },
   "source": [
    "#### 3.4 disl_relax()\n",
    "\n",
    "This function sets up and performs a LAMMPS simulation associated with the disl_relax.in input script."
   ]
  },
  {
   "cell_type": "code",
   "execution_count": 13,
   "metadata": {
    "collapsed": true,
    "deletable": true,
    "editable": true
   },
   "outputs": [],
   "source": [
    "def disl_relax(lammps_command, system, potential, symbols, \n",
    "               mpi_command=None, annealtemp=0.0, randomseed=None,\n",
    "               etol=0.0, ftol=1e-6, maxiter=10000, maxeval=100000,\n",
    "               dmax=uc.set_in_units(0.01, 'angstrom')):\n",
    "    \"\"\"\n",
    "    Sets up and runs the disl_relax.in LAMMPS script for relaxing a\n",
    "    dislocation monopole system.\n",
    "    \n",
    "    Parameters\n",
    "    ----------\n",
    "    lammps_command :str\n",
    "        Command for running LAMMPS.\n",
    "    system : atomman.System\n",
    "        The system to perform the calculation on.\n",
    "    potential : atomman.lammps.Potential\n",
    "        The LAMMPS implemented potential to use.\n",
    "    symbols : list of str\n",
    "        The list of element-model symbols for the Potential that correspond to\n",
    "        system's atypes.\n",
    "    mpi_command : str, optional\n",
    "        The MPI command for running LAMMPS in parallel.  If not given, LAMMPS\n",
    "        will run serially.\n",
    "    annealtemp : float, optional\n",
    "        The temperature to perform a dynamic relaxation at. (Default is 0.0,\n",
    "        which will skip the dynamic relaxation.)\n",
    "    randomseed : int or None, optional\n",
    "        Random number seed used by LAMMPS in creating velocities and with\n",
    "        the Langevin thermostat.  (Default is None which will select a\n",
    "        random int between 1 and 900000000.)\n",
    "    etol : float, optional\n",
    "        The energy tolerance for the structure minimization. This value is\n",
    "        unitless. (Default is 0.0).\n",
    "    ftol : float, optional\n",
    "        The force tolerance for the structure minimization. This value is in\n",
    "        units of force. (Default is 0.0).\n",
    "    maxiter : int, optional\n",
    "        The maximum number of minimization iterations to use (default is \n",
    "        10000).\n",
    "    maxeval : int, optional\n",
    "        The maximum number of minimization evaluations to use (default is \n",
    "        100000).\n",
    "    dmax : float, optional\n",
    "        The maximum distance in length units that any atom is allowed to relax\n",
    "        in any direction during a single minimization iteration (default is\n",
    "        0.01 Angstroms).\n",
    "        \n",
    "    Returns\n",
    "    -------\n",
    "    dict\n",
    "        Dictionary of results consisting of keys:\n",
    "        \n",
    "        - **'logfile'** (*str*) - The name of the LAMMPS log file.\n",
    "        - **'dumpfile'** (*str*) - The name of the LAMMPS dump file\n",
    "          for the relaxed system.\n",
    "        - **'E_total'** (*float*) - The total potential energy for the\n",
    "          relaxed system.\n",
    "    \"\"\"\n",
    "    \n",
    "    # Get lammps units\n",
    "    lammps_units = lmp.style.unit(potential.units)\n",
    "    \n",
    "    #Get lammps version date\n",
    "    lammps_date = iprPy.tools.check_lammps_version(lammps_command)['lammps_date']\n",
    "    \n",
    "    # Define lammps variables\n",
    "    lammps_variables = {}\n",
    "    system_info = lmp.atom_data.dump(system, 'system.dat',\n",
    "                                     units=potential.units,\n",
    "                                     atom_style=potential.atom_style)\n",
    "    lammps_variables['atomman_system_info'] = system_info\n",
    "    lammps_variables['atomman_pair_info'] = potential.pair_info(symbols)\n",
    "    ann_info = anneal_info(annealtemp, randomseed, potential.units)\n",
    "    lammps_variables['anneal_info'] = ann_info\n",
    "    lammps_variables['etol'] = etol\n",
    "    lammps_variables['ftol'] = uc.get_in_units(ftol, lammps_units['force'])\n",
    "    lammps_variables['maxiter'] = maxiter\n",
    "    lammps_variables['maxeval'] = maxeval\n",
    "    lammps_variables['dmax'] = dmax\n",
    "    lammps_variables['group_move'] = ' '.join(np.array(range(1,\n",
    "                                                       system.natypes//2+1),\n",
    "                                              dtype=str))\n",
    "    \n",
    "    # Set dump_modify format based on dump_modify_version\n",
    "    if lammps_date < datetime.date(2016, 8, 3):\n",
    "        lammps_variables['dump_modify_format'] = '\"%d %d %.13e %.13e %.13e %.13e\"'\n",
    "    else:\n",
    "        lammps_variables['dump_modify_format'] = 'float %.13e'\n",
    "    \n",
    "    # Write lammps input script\n",
    "    template_file = 'disl_relax.template'\n",
    "    lammps_script = 'disl_relax.in'\n",
    "    with open(template_file) as f:\n",
    "        template = f.read()\n",
    "    with open(lammps_script, 'w') as f:\n",
    "        f.write(iprPy.tools.filltemplate(template, lammps_variables,\n",
    "                                         '<', '>'))\n",
    "\n",
    "    # Run LAMMPS\n",
    "    output = lmp.run(lammps_command, lammps_script, mpi_command,\n",
    "                     return_style='object')\n",
    "    thermo = output.simulations[-1]['thermo']\n",
    "    \n",
    "    # Extract output values\n",
    "    results = {}\n",
    "    results['logfile'] = 'log.lammps'\n",
    "    results['dumpfile'] = '%i.dump' % thermo.Step.values[-1] \n",
    "    results['E_total'] = uc.set_in_units(thermo.PotEng.values[-1],\n",
    "                                         lammps_units['energy'])\n",
    "    \n",
    "    return results"
   ]
  },
  {
   "cell_type": "markdown",
   "metadata": {
    "deletable": true,
    "editable": true
   },
   "source": [
    "#### 3.5 anneal_info()\n",
    "\n",
    "This function sets the LAMMPS input script lines associated with the temperature dependent relaxation. "
   ]
  },
  {
   "cell_type": "code",
   "execution_count": 14,
   "metadata": {
    "collapsed": true,
    "deletable": true,
    "editable": true
   },
   "outputs": [],
   "source": [
    "def anneal_info(temperature=0.0, randomseed=None, units='metal'):\n",
    "    \"\"\"\n",
    "    Generates LAMMPS commands for thermo anneal.\n",
    "    \n",
    "    Parameters\n",
    "    ----------\n",
    "    temperature : float, optional\n",
    "        The temperature to relax at (default is 0.0).\n",
    "    randomseed : int or None, optional\n",
    "        Random number seed used by LAMMPS in creating velocities and with\n",
    "        the Langevin thermostat.  (Default is None which will select a\n",
    "        random int between 1 and 900000000.)\n",
    "    units : str, optional\n",
    "        The LAMMPS units style to use (default is 'metal').\n",
    "    \n",
    "    Returns\n",
    "    -------\n",
    "    str\n",
    "        The generated LAMMPS input lines for performing a dynamic relax.\n",
    "        Will be '' if temperature==0.0.\n",
    "    \"\"\"\n",
    "    # Get lammps units\n",
    "    lammps_units = lmp.style.unit(units)\n",
    "    \n",
    "    # Return nothing if temperature is 0.0 (don't do thermo anneal)\n",
    "    if temperature == 0.0:\n",
    "        return ''\n",
    "    \n",
    "    # Generate velocity, fix nvt, and run LAMMPS command lines\n",
    "    else:\n",
    "        if randomseed is None:\n",
    "            randomseed = random.randint(1, 900000000)\n",
    "            \n",
    "        start_temp = 2 * temperature\n",
    "        tdamp = 100 * lmp.style.timestep(units)\n",
    "        timestep = lmp.style.timestep(units)\n",
    "        info = '\\n'.join([\n",
    "            'velocity move create %f %i mom yes rot yes dist gaussian' % (start_temp, randomseed),\n",
    "            'fix nvt all nvt temp %f %f %f' % (temperature, temperature,\n",
    "                                               tdamp),\n",
    "            'timestep %f' % (timestep),\n",
    "            'thermo 10000',\n",
    "            'run 10000',\n",
    "            ])\n",
    "\n",
    "    return info"
   ]
  },
  {
   "cell_type": "markdown",
   "metadata": {
    "deletable": true,
    "editable": true
   },
   "source": [
    "### 4. Run calculation function(s)"
   ]
  },
  {
   "cell_type": "code",
   "execution_count": 15,
   "metadata": {
    "collapsed": false,
    "deletable": true,
    "editable": true
   },
   "outputs": [],
   "source": [
    "results_dict = dislocationmonopole(lammps_command, \n",
    "                                   system, \n",
    "                                   potential,\n",
    "                                   symbols,  \n",
    "                                   burgers,\n",
    "                                   C,\n",
    "                                   axes = axes,\n",
    "                                   mpi_command = mpi_command,\n",
    "                                   etol = energytolerance,\n",
    "                                   ftol = forcetolerance,\n",
    "                                   maxiter = maxiterations,\n",
    "                                   maxeval = maxevaluations,\n",
    "                                   dmax = maxatommotion,\n",
    "                                   annealtemp = annealtemperature, \n",
    "                                   randomseed = randomseed, \n",
    "                                   bwidth = bwidth, \n",
    "                                   bshape = boundaryshape)"
   ]
  },
  {
   "cell_type": "code",
   "execution_count": 16,
   "metadata": {
    "collapsed": false,
    "deletable": true,
    "editable": true
   },
   "outputs": [
    {
     "data": {
      "text/plain": [
       "['symbols_disl',\n",
       " 'Stroh_K_tensor',\n",
       " 'symbols_base',\n",
       " 'E_total_disl',\n",
       " 'Stroh_preln',\n",
       " 'dumpfile_base',\n",
       " 'dumpfile_disl']"
      ]
     },
     "execution_count": 16,
     "metadata": {},
     "output_type": "execute_result"
    }
   ],
   "source": [
    "results_dict.keys()"
   ]
  },
  {
   "cell_type": "markdown",
   "metadata": {
    "deletable": true,
    "editable": true
   },
   "source": [
    "### 5. Report results"
   ]
  },
  {
   "cell_type": "markdown",
   "metadata": {
    "deletable": true,
    "editable": true
   },
   "source": [
    "#### 5.1 Define units for outputting values\n",
    "\n",
    "- __length_unit__ is the unit of length to display results in.\n",
    "- __energy_unit__ is the unit of energy to display cohesive energies in.\n",
    "- __e_A_unit__ is the energy per area to report the surface energy in."
   ]
  },
  {
   "cell_type": "code",
   "execution_count": 17,
   "metadata": {
    "collapsed": true,
    "deletable": true,
    "editable": true
   },
   "outputs": [],
   "source": [
    "length_unit = 'angstrom'\n",
    "energy_unit = 'eV'\n",
    "pressure_unit = 'GPa'\n",
    "e_l_unit = energy_unit+'/'+length_unit"
   ]
  },
  {
   "cell_type": "markdown",
   "metadata": {
    "deletable": true,
    "editable": true
   },
   "source": [
    "#### 5.2 Print Stroh method parameters"
   ]
  },
  {
   "cell_type": "code",
   "execution_count": 18,
   "metadata": {
    "collapsed": false,
    "deletable": true,
    "editable": true
   },
   "outputs": [
    {
     "name": "stdout",
     "output_type": "stream",
     "text": [
      "pre-ln factor (alpha) = 0.344228972217 eV/angstrom\n",
      "K_tensor =\n",
      "[[ 123.86918865    0.            0.        ]\n",
      " [   0.          127.31323026  -12.76027037]\n",
      " [   0.          -12.76027037   81.07544348]] GPa\n"
     ]
    }
   ],
   "source": [
    "print('pre-ln factor (alpha) =', uc.get_in_units(results_dict['Stroh_preln'], e_l_unit), e_l_unit)\n",
    "print('K_tensor =')\n",
    "print(uc.get_in_units(results_dict['Stroh_K_tensor'], pressure_unit), pressure_unit)"
   ]
  },
  {
   "cell_type": "markdown",
   "metadata": {
    "collapsed": true,
    "deletable": true,
    "editable": true
   },
   "source": [
    "#### 5.3 List dump files"
   ]
  },
  {
   "cell_type": "code",
   "execution_count": 19,
   "metadata": {
    "collapsed": false,
    "deletable": true,
    "editable": true
   },
   "outputs": [
    {
     "name": "stdout",
     "output_type": "stream",
     "text": [
      "Perfect system is saved as base.dump\n",
      "Defect system is saved as disl.dump\n"
     ]
    }
   ],
   "source": [
    "print('Perfect system is saved as', results_dict['dumpfile_base'])\n",
    "print('Defect system is saved as',  results_dict['dumpfile_disl'])"
   ]
  }
 ],
 "metadata": {
  "kernelspec": {
   "display_name": "Python 2",
   "language": "python",
   "name": "python2"
  },
  "language_info": {
   "codemirror_mode": {
    "name": "ipython",
    "version": 2
   },
   "file_extension": ".py",
   "mimetype": "text/x-python",
   "name": "python",
   "nbconvert_exporter": "python",
   "pygments_lexer": "ipython2",
   "version": "2.7.13"
  }
 },
 "nbformat": 4,
 "nbformat_minor": 2
}
