{
 "cells": [
  {
   "cell_type": "markdown",
   "metadata": {
    "deletable": true,
    "editable": true
   },
   "source": [
    "# High-throughput Scripts Basics\n",
    "\n",
    "- - -"
   ]
  },
  {
   "cell_type": "markdown",
   "metadata": {
    "deletable": true,
    "editable": true
   },
   "source": [
    "**Lucas M. Hale**, [lucas.hale@nist.gov](mailto:lucas.hale@nist.gov?Subject=ipr-demo), *Materials Science and Engineering Division, NIST*.\n",
    "\n",
    "**Chandler A. Becker**, [chandler.becker@nist.gov](mailto:chandler.becker@nist.gov?Subject=ipr-demo), *Office of Data and Informatics, NIST*.\n",
    "\n",
    "**Zachary T. Trautt**, [zachary.trautt@nist.gov](mailto:zachary.trautt@nist.gov?Subject=ipr-demo), *Materials Measurement Science Division, NIST*.\n",
    "\n",
    "Version: 2017-03-20\n",
    "\n",
    "[Disclaimers](http://www.nist.gov/public_affairs/disclaimer.cfm) \n",
    " \n",
    "- - -"
   ]
  },
  {
   "cell_type": "markdown",
   "metadata": {
    "deletable": true,
    "editable": true
   },
   "source": [
    "## Introduction\n",
    "\n",
    "Running calculations in a high-throughput manner means setting up and performing multiple calculations all at once as opposed to doing them individually. In the iprPy Framework, this is accomplished using scripts located in the [high-throughput directory](../../../high-throughput).\n",
    "\n",
    "The available high-throughput scripts are:\n",
    "\n",
    "- __build__ copies all reference records in the library directory into a database. \n",
    "\n",
    "- __prepare__ generates multiple instances for a specific calculation as well as corresponding incomplete records.\n",
    "\n",
    "- __runner__ cycles through all prepared calculations in a given run directory, executes them, and uploads the complete records to the database. \n",
    "\n",
    "- __check__ accesses a database and prints a list of all records of a specific records style. Useful for a quick check.\n",
    "\n",
    "- __clean__ resets calculations that failed. \n",
    "\n",
    "- __destroy__ permanently deletes all records of a given record style from a database."
   ]
  },
  {
   "cell_type": "markdown",
   "metadata": {
    "deletable": true,
    "editable": true
   },
   "source": [
    "- - -\n",
    "\n",
    "## The input parameter files\n",
    "\n",
    "Here is a quick explanation of the input parameter files."
   ]
  },
  {
   "cell_type": "markdown",
   "metadata": {
    "deletable": true,
    "editable": true
   },
   "source": [
    "### Formating rules\n",
    "\n",
    "The input parameter files for calculations follow some very simple rules.\n",
    "\n",
    "1.\tEach line is read separately, and divided into whitespace delimited terms.\n",
    "\n",
    "2.\tBlank lines are allowed.\n",
    "\n",
    "3.\tComments are allowed by starting terms with #. The # term and any subsequent terms on the line are ignored. \n",
    "\n",
    "4.\tThe first term in each line is a variable name.\n",
    "\n",
    "5.\tAll remaining (non-comment) terms are collected together as a complete value that is assigned to that variable name.\n",
    "\n",
    "6.\tAny variable names without values are ignored.\n",
    "\n",
    "7.  For all but the prepare scripts, each variable name can appear at most one time.\n",
    "\n",
    "8.  For the prepare scripts, some variables can be assigned multiple values by repeating the variable name on different lines. Which variables allow this is specific to the prepare script."
   ]
  },
  {
   "cell_type": "markdown",
   "metadata": {
    "deletable": true,
    "editable": true
   },
   "source": [
    "### Formatting example\n",
    "\n",
    "Script:\n",
    "    \n",
    "    #This is a comment and will be ignored\n",
    "    \n",
    "    firstvariable    singleterm\n",
    "    \n",
    "    secondvariable   multiple terms   using    spaces\n",
    "    thirdvariable    term #with comments\n",
    "    thirdvariable    again\n",
    "    thirdvariable\n",
    "    \n",
    "    fourthvariable\n",
    "    \n",
    "Gets interpreted as a Python dictionary:\n",
    "    \n",
    "    {'firstvariable':  'singleterm',\n",
    "     'secondvariable': 'multiple terms using spaces',\n",
    "     'thirdvariable':  ['term', 'again']}"
   ]
  },
  {
   "cell_type": "markdown",
   "metadata": {
    "deletable": true,
    "editable": true
   },
   "source": [
    "### Input script parameters unique to the high-throughput scripts\n",
    "\n",
    "#### Database access\n",
    "\n",
    "Specifies access to the records database to use. Used by all of the scripts.\n",
    "\n",
    "- __database__: the style and location of the database.\n",
    "\n",
    "- __database_user__: database user name (if needed).\n",
    "\n",
    "- __database_pswd__: database password (if needed).\n",
    "\n",
    "- __database_cert__: path to a certification file (if needed).\n",
    "\n",
    "#### Directory paths\n",
    "\n",
    "Indicates where to put the prepared calculation instances.\n",
    "\n",
    "- __run_directory__: path to the local directory where the calculation instances will be added. Used by prepare, runner and clean.\n",
    "\n",
    "- __library_directory__: path to the iprPy/library directory. Only used by build and only necessary if the build script is moved. "
   ]
  },
  {
   "cell_type": "markdown",
   "metadata": {},
   "source": [
    "- - -\n",
    "## Build script\n",
    "\n",
    "The build script copies all reference records in the library directory into a database. This effectively tests the access to the database and makes the reference records available for the prepare and runner scripts. Only has to be performed once per database whenever new records in the library need to be added (i.e. when first setting up, and when the library in iprPy is updated). The library location only needs to be supplied to the build script if it is moved to a different directory.\n",
    "\n",
    "Executing build is simple:\n",
    "\n",
    "1. Create an input parameter file with database access information (and library location).\n",
    "\n",
    "2. In a terminal, cd to the high-throughput/build directory, and enter the command\n",
    "    \n",
    "        python build.py [inputscript]"
   ]
  },
  {
   "cell_type": "markdown",
   "metadata": {},
   "source": [
    "- - -\n",
    "\n",
    "## Prepare scripts\n",
    "\n",
    "Prepare scripts interact with a database and create multiple instances of a given calculation. For simplicity, each prepare script is associated with only one calculation, but common input parameter file structures and parameter names are used throughout.\n",
    "\n",
    "Each prepare script is designed to do effectively the same thing:\n",
    "\n",
    "1. All variable parameter values are read in from an input parameter script. This script provides information for accessing a records database, conditions for running the calculations, and terms outlining which calculation parameter values to use.\n",
    "\n",
    "2. The database is accessed and a list is built of all existing records for the calculation being prepared. \n",
    "\n",
    "3. Parameter sets for the calulation are built by looping over combinations of parameter values as specified by the prepare script's input parameters.\n",
    "\n",
    "4. Each unique parameter set is compared against the list of existing records to determine if it is new, or has been executed before.\n",
    "\n",
    "5. If the parameter set is new, a corresponding incomplete record and calculation instance are created.  The record is added to the database, while the calculation instance is placed in the specified run directory.\n",
    "\n",
    "6. The calculation instance is a folder consisting of the calculation's script, a filled in calculation script parameter file, and copies of any other files and records necessary to run the calculation. If the calculation instance needs a record from another calculation as input, the other calculation's record is copied as it currently is (complete or incomplete). \n",
    "\n",
    "\n",
    "#### NOTES:\n",
    "\n",
    "- All calculations prepared in a specific run directory must be associated with only one database. This is because the runner script has to associate each calculation instance to a database record.  \n",
    "\n",
    "- Running multiple prepare scripts at the same time for the same database may cause issues as the list of existing records is only populated at the beginning of the script. This could lead to certain calculation instances not being prepared, or being prepared multiple times.\n",
    "\n",
    "- Runner scripts can be started for a given run directory while a prepare script is still adding calculations to the run directory, but there is a chance that calculations may fail if a runner starts a calculation that is in the process of being prepared.  "
   ]
  },
  {
   "cell_type": "markdown",
   "metadata": {
    "deletable": true,
    "editable": true
   },
   "source": [
    "### Finding the prepare scripts\n",
    "\n",
    "The prepare scripts can be found in the [iprPy/high-throughput/prepare](../../../high-throughput/prepare) directory. The scripts are divided into folders with the appropriate calculation names. "
   ]
  },
  {
   "cell_type": "markdown",
   "metadata": {
    "deletable": true,
    "editable": true
   },
   "source": [
    "### Contents of the prepare script folders\n",
    "\n",
    "With the common design of calculations, the contents of each calculation folder are similar:\n",
    "\n",
    "-\t__prepare\\_[calcname].py__: The Python prepare script for the calculation called calcname.\n",
    "\n",
    "-\t__prepare\\_[calcname].in__: An example version of the input parameter file that the prepare script reads."
   ]
  },
  {
   "cell_type": "markdown",
   "metadata": {
    "deletable": true,
    "editable": true
   },
   "source": [
    "### Preparing a calculation\n",
    "\n",
    "1. Read the Notebook for the calculation that you care about to know the meanings of the script's parameter names.\n",
    "\n",
    "2. Open the prepare\\_[calcname].in file in a text editor and modify as needed.\n",
    "\n",
    "3. In a terminal, cd to the prepare folder for the calculation you want and enter the command:\n",
    "        \n",
    "        python prepare_[calcname].py prepare_[calcname].in\n",
    "        \n",
    "4. Wait (seriously, this can take some time as considerable file access and copying is going on).\n",
    "\n",
    "5. You can check on the progress by exploring the corresponding records in the database, or by counting the number of folders in the run directory."
   ]
  },
  {
   "cell_type": "markdown",
   "metadata": {
    "deletable": true,
    "editable": true
   },
   "source": [
    "- - -\n",
    "\n",
    "## Runner script\n",
    "\n",
    "The runner script iterates over all calculation instances in a given run directory, executes them, and updates the corresponding records in the database when the calcuation finishes. Some cool features of the runner script are:\n",
    "\n",
    "- Multiple runners can operate on the same run directory at the same time. \n",
    "\n",
    "- A runner can be executed directly from a terminal, or submitted to a queuing system with a set number of cores.\n",
    "\n",
    "- The runner queries the database for the complete version of any incomplete input records. If one doesn't exist, the runner tries to perform the reference calculation. This effectively allows for a calculation heierarchy to be handled.\n",
    "\n",
    "- Runners can operate on different run directories (and even computers!) and access the same database. This allows for a heterogeneous distribution of computational resources to different runners.\n",
    "\n",
    "#### NOTES:\n",
    "\n",
    "- All calculations prepared in a specific run directory must be associated with only one database. This is because the runner script has to associate each calculation instance to a database record.  \n",
    "\n",
    "- Runner scripts can be started for a given run directory while a prepare script is still adding calculations to the run directory, but there is a chance that calculations may fail if a runner starts a calculation that is in the process of being prepared.  \n",
    "\n",
    "- When submitting a runner to a cluster for MPI LAMMPS simulations, it's up to you to make certain that the number of cores in the mpi_command calculation input parameter matches the number of cores assigned to the runner. Because of this, it is helpful to have a different run directory for each number of cores."
   ]
  },
  {
   "cell_type": "markdown",
   "metadata": {},
   "source": [
    "### Setting up a runner\n",
    "\n",
    "Each runner only needs to know which run directory to operate on, and how to access a database. This information can be given in an input parameter script. Personally, I like to have a different input script for each combination, then simply access it on submission.\n",
    "\n",
    "Starting a runner from a terminal. \n",
    "\n",
    "1. cd to the high-throughput\\runner directory and enter the command:\n",
    "    \n",
    "        python runner.py [runnerscript]\n",
    "        \n",
    "Submitting a runner to a cluster.\n",
    "\n",
    "1. cd to the high-throughput\\runner directory and enter the command:\n",
    "\n",
    "        [submissioncommand] iprPy_runner [runnerscript]\n",
    "\n",
    "\n",
    "\n"
   ]
  },
  {
   "cell_type": "markdown",
   "metadata": {},
   "source": [
    "- - -\n",
    "## Check script\n",
    "\n",
    "The check script accesses a database and/or run directory and checks on the status.\n",
    "\n",
    "- For a run directory, it returns the current number of calculation instance folders.\n",
    "\n",
    "- For a database, it provides the number of complete, incomplete and errored calculations for a given record style."
   ]
  },
  {
   "cell_type": "markdown",
   "metadata": {},
   "source": [
    "- - -\n",
    "## Clean script\n",
    "\n",
    "The clean script fixes up .\n",
    "\n",
    "- For a run directory, it returns the current number of calculation instance folders.\n",
    "\n",
    "- For a database, it provides the number of complete, incomplete and errored calculations for a given record style."
   ]
  }
 ],
 "metadata": {
  "kernelspec": {
   "display_name": "Python 2",
   "language": "python",
   "name": "python2"
  },
  "language_info": {
   "codemirror_mode": {
    "name": "ipython",
    "version": 2
   },
   "file_extension": ".py",
   "mimetype": "text/x-python",
   "name": "python",
   "nbconvert_exporter": "python",
   "pygments_lexer": "ipython2",
   "version": "2.7.13"
  }
 },
 "nbformat": 4,
 "nbformat_minor": 2
}
