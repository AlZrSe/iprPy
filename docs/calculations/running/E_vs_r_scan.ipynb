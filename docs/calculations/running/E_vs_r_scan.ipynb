{
 "cells": [
  {
   "cell_type": "markdown",
   "metadata": {
    "deletable": true,
    "editable": true
   },
   "source": [
    "# E_vs_r_scan\n",
    "- - -"
   ]
  },
  {
   "cell_type": "markdown",
   "metadata": {
    "deletable": true,
    "editable": true
   },
   "source": [
    "**Lucas M. Hale**, [lucas.hale@nist.gov](mailto:lucas.hale@nist.gov?Subject=ipr-demo), *Materials Science and Engineering Division, NIST*.\n",
    "\n",
    "**Chandler A. Becker**, [chandler.becker@nist.gov](mailto:chandler.becker@nist.gov?Subject=ipr-demo), *Office of Data and Informatics, NIST*.\n",
    "\n",
    "**Zachary T. Trautt**, [zachary.trautt@nist.gov](mailto:zachary.trautt@nist.gov?Subject=ipr-demo), *Materials Measurement Science Division, NIST*.\n",
    "\n",
    "Version: 2016-09-07\n",
    "\n",
    "[Disclaimers](http://www.nist.gov/public_affairs/disclaimer.cfm) \n",
    " \n",
    "- - -"
   ]
  },
  {
   "cell_type": "markdown",
   "metadata": {
    "deletable": true,
    "editable": true
   },
   "source": [
    "## 1. Introduction\n",
    "\n",
    "The __E_vs_r_scan__ calculation creates a plot of the cohesive energy vs interatomic spacing, r, for a given atomic system. The system size is uniformly scaled (b/a and c/a ratios held fixed) and the energy is calculated at a number of sizes without relaxing the system. All box sizes corresponding to energy minima are identified. \n",
    "\n",
    "This calculation was created as a quick method for scanning the phase space of a crystal structure with a given potential in order to identify starting guesses for further structure refinement calculations.\n",
    "\n",
    "__Disclaimer #1__: the minima identified by this calculation do not guarantee that the associated crystal structure will be stable as no relaxation is performed by this calculation. Upon relaxation, the atomic positions and box dimensions may transform the system to a different structure\n",
    "\n",
    "__Disclaimer #2__: it is possible that the calculation may miss an existing minima for a crystal structure if it is ouside the range of r values scanned, or has b/a, c/a values far from the ideal."
   ]
  },
  {
   "cell_type": "markdown",
   "metadata": {
    "deletable": true,
    "editable": true
   },
   "source": [
    "## 2. Calculation Input File Parameters\n",
    "\n",
    "The calculation's input file expects certain key terms.\n",
    "\n",
    "### 2.1 Commands\n",
    "\n",
    "Provides the external commands for running LAMMPS and MPI.\n",
    "\n",
    "- __lammps_command__: the path to the executable for running LAMMPS on your system. Required.\n",
    "\n",
    "- __mpi_command__: the command associated with calling LAMMPS to run in parallel on your system. Default value is None (run serially).\n",
    "\n",
    "### 2.2 Potential\n",
    "\n",
    "Provides the information associated with an interatomic potential implemented for LAMMPS.\n",
    "\n",
    "- __potential_file__: the path to the LAMMPS-potential data model used by atomman to generate the proper LAMMPS commands for an interatomic potential. Required.\n",
    " \n",
    "- __potential_dir__: the path to the directory containing any potential artifacts (eg. eam setfl files) that are used. Default is '' (working directory for the simulation.)\n",
    "\n",
    "### 2.3 System Load\n",
    "\n",
    "Provides the information associated with loading an atomic configuration.\n",
    "\n",
    "- __load__: the style and path to the initial configuration file being read in. The style can be any file type supported by atomman.System.load(). Required.\n",
    " \n",
    "- __load_options__: a list of key-value pairs for the optional arguments in atomman.System.load().\n",
    " \n",
    "- __symbols__: a space-delimited list of atom-model symbols corresponding to the atom types and potential. If not given, the element/symbol information in the loaded file will be used. Required if the load file does not contain element/symbol information. \n",
    " \n",
    "- __box_parameters__: box parameters to scale the loaded system to. If not given, the box parameters of the loaded file are used. \n",
    "    \n",
    "    - three floats: a b c.  Allows for the definintion of orthorhombic lattice parameters.\n",
    "    \n",
    "    - six floats: a b c alpha beta gamma.  Allows for the definition of the lattice parameters and angles.\n",
    "\n",
    "__NOTE__: The absolute box_parameter a,b,c values don't matter for the E_vs_r_scan calculation, but the b/a and c/a ratios and angles will affect the calculation.\n",
    "    \n",
    "### 2.4 System Manipulations\n",
    "\n",
    "Performs manipulations on the loaded system. \n",
    "\n",
    "- __x-axis, y-axis, z-axis__: optional transformation axes for rotating the system. Each vector is given by three space-delimited numbers.  The vectors must be orthogonal to each other.  If the loaded system is cubic these vectors are taken as hkl crystallographic directions and the rotated system is transformed into an orthorhombic box with dimensions given by a\\*sqrt(h<sup>2</sup>+k<sup>2</sup>+l<sup>2</sup>) for each axis. \n",
    "\n",
    "- __shift__: optional positional shift that is applied to all atoms.  The shift is applied after axis rotation, but before size_mults supersizing.\n",
    "\n",
    "- __shift_scale__: Boolean flag indicating if the shift is absolute (False), or should be scaled relative to the system's unit cell (True).\n",
    "\n",
    "- __size_mults__: optional parameters for supersizing the system. This may either be a list of three or six integers.\n",
    "\n",
    "    - Three integers: mx my mz. The absolute values indicate how many times the system is multiplied along a given box axes and the sign indicates the direction.  \n",
    "    \n",
    "    - Six integers: nx px ny py nz pz. This allows for multiplications in both directions for each box axis. The n terms must be less than or equal to zero, and the p terms greater than or equal to zero. \n",
    "    \n",
    "### 2.5 Units\n",
    "\n",
    "Specifies the units for various physical quantities to use in reading/writing values.\n",
    "\n",
    "- __length_unit__: defines the unit of length for results, and input parameters if not specified. Default is 'angstrom'.\n",
    "\n",
    "- __energy_unit__: defines the unit of energy for results, and input parameters if not specified. Default is 'eV'.\n",
    "\n",
    "- __pressure_unit__: defines the unit of pressure for results, and input parameters if not specified. Default is 'GPa'.\n",
    "\n",
    "- __force_unit__: defines the unit of pressure for results, and input parameters if not specified. Default is 'eV/angstrom'.\n",
    "\n",
    "### 2.6 Run Parameters\n",
    "\n",
    "Provides parameters specific to the calculation at hand.\n",
    "\n",
    "- __minimum_r__: specifies the minimum interatomic spacing, r, for the scan. Default value is '2.0 angstrom'.\n",
    "\n",
    "- __maximum_r__: specifies the maximum interatomic spacing, r, for the scan. Default value is '6.0 angstrom'.\n",
    "\n",
    "- __number_of_steps_r__: specifies the number of interatomic spacing values, r, to use. Default value is 200."
   ]
  },
  {
   "cell_type": "markdown",
   "metadata": {
    "deletable": true,
    "editable": true
   },
   "source": [
    "## 3. Prepare Function Parameters\n",
    "\n",
    "The input parameters recognized by the calculation's prepare function correspond to the calculation file input parameters with a few exceptions. Each parameter term can be specified with a list of values, with certain limitations placed on some parameters.\n",
    "\n",
    "### 3.1 Additional terms:\n",
    "\n",
    "These are additional terms that affect how the calculations are prepared.\n",
    "\n",
    "- __run_directory__: the path to the directory where the calculation instances are being prepared. Required.\n",
    "\n",
    "- __lib_directory__: the path to the directory where all XML results records are being stored. Required.\n",
    "\n",
    "- __copy_files__: Boolean indicating if all required files for the calculation are copied into the calculation instance's folder or only the calculation script and input file. __Note__: runner.py currently requires copy_files to be True. Default value is True.\n",
    "\n",
    "- __load_elements__: List of elements to use with the loaded system. User-specified wildcards are allowed. One or more symbols lists are generated from this based on the potential used.\n",
    "\n",
    "### 3.2 Unused terms:\n",
    "\n",
    "These are terms allowed by the calculation that are ignored by the prepare function.\n",
    "\n",
    "- __x-axis, y-axis, z-axis__: Either won't affect results or will cause ambiguous problems.\n",
    "\n",
    "- __shift__: won't affect results\n",
    "\n",
    "- __symbols__: generated using load_elements.\n",
    "\n",
    "### 3.3 Limitations\n",
    "\n",
    "- __run_directory, lib_directory, copy_files, lammps_command, mpi_command, length_unit, pressure_unit, energy_unit, force_unit, minimum_r, maximum_r, number_of_steps_r__: are limited to single values.\n",
    "\n",
    "- __potential_file, potential_dir__: must have the same number of values.\n",
    "\n",
    "- __load, load_options, load_elements, box_parameters__: must have the same number of values."
   ]
  }
 ],
 "metadata": {
  "kernelspec": {
   "display_name": "Python 2",
   "language": "python",
   "name": "python2"
  },
  "language_info": {
   "codemirror_mode": {
    "name": "ipython",
    "version": 2
   },
   "file_extension": ".py",
   "mimetype": "text/x-python",
   "name": "python",
   "nbconvert_exporter": "python",
   "pygments_lexer": "ipython2",
   "version": "2.7.13"
  }
 },
 "nbformat": 4,
 "nbformat_minor": 0
}
