{
 "cells": [
  {
   "cell_type": "markdown",
   "metadata": {},
   "source": [
    "# E_vs_r_scan\n",
    "- - -"
   ]
  },
  {
   "cell_type": "markdown",
   "metadata": {},
   "source": [
    "**Lucas M. Hale**, [lucas.hale@nist.gov](mailto:lucas.hale@nist.gov?Subject=ipr-demo), *Materials Science and Engineering Division, NIST*.\n",
    "\n",
    "**Chandler A. Becker**, [chandler.becker@nist.gov](mailto:chandler.becker@nist.gov?Subject=ipr-demo), *Office of Data and Informatics, NIST*.\n",
    "\n",
    "**Zachary T. Trautt**, [zachary.trautt@nist.gov](mailto:zachary.trautt@nist.gov?Subject=ipr-demo), *Materials Measurement Science Division, NIST*.\n",
    "\n",
    "Version: 2016-09-08\n",
    "\n",
    "[Disclaimers](http://www.nist.gov/public_affairs/disclaimer.cfm) \n",
    " \n",
    "- - -"
   ]
  },
  {
   "cell_type": "markdown",
   "metadata": {},
   "source": [
    "## Introduction\n",
    "\n",
    "The __E_vs_r_scan__ calculation creates a plot of the cohesive energy vs interatomic spacing, r, for a given atomic system. The system size is uniformly scaled (b/a and c/a ratios held fixed) and the energy is calculated at a number of sizes without relaxing the system. All box sizes corresponding to energy minima are identified. \n",
    "\n",
    "This calculation was created as a quick method for scanning the phase space of a crystal structure with a given potential in order to identify starting guesses for further structure refinement calculations.\n",
    "\n",
    "__Disclaimer #1__: the minima identified by this calculation do not guarantee that the associated crystal structure will be stable as no relaxation is performed by this calculation. Upon relaxation, the atomic positions and box dimensions may transform the system to a different structure\n",
    "\n",
    "__Disclaimer #2__: it is possible that the calculation may miss an existing minima for a crystal structure if it is ouside the range of r values scanned, or has b/a, c/a values far from the ideal."
   ]
  },
  {
   "cell_type": "markdown",
   "metadata": {},
   "source": [
    "## Demonstration"
   ]
  },
  {
   "cell_type": "markdown",
   "metadata": {},
   "source": [
    "Library Imports"
   ]
  },
  {
   "cell_type": "code",
   "execution_count": 1,
   "metadata": {
    "collapsed": true
   },
   "outputs": [],
   "source": [
    "#Standard Python imports\n",
    "import os\n",
    "import shutil\n",
    "from collections import OrderedDict\n",
    "from copy import deepcopy\n",
    "\n",
    "#http://matplotlib.org/\n",
    "%matplotlib inline\n",
    "import matplotlib\n",
    "import matplotlib.pyplot as plt\n",
    "\n",
    "#http://www.numpy.org/\n",
    "import numpy as np\n",
    "\n",
    "#https://github.com/usnistgov/atomman \n",
    "import atomman as am\n",
    "import atomman.lammps as lmp\n",
    "import atomman.unitconvert as uc\n",
    "\n",
    "import iprPy"
   ]
  },
  {
   "cell_type": "markdown",
   "metadata": {},
   "source": [
    "### 1. Generate Data Files\n",
    "\n",
    "We have embedded a few files to make the Notebook a self-contained calculation.\n",
    "\n",
    "1. __MEAM Potential.__ Generates library and parameter files for one MEAM potential.\n",
    "\n",
    "2. __Potential Data Model.__ Collects all input parameters assoiciated with running the MEAM potential in LAMMPS.\n",
    "\n",
    "3. __Prototype Data Model.__ Generates an instance of the crystal prototype data model used to generate various structures."
   ]
  },
  {
   "cell_type": "markdown",
   "metadata": {},
   "source": [
    "Create working directory"
   ]
  },
  {
   "cell_type": "code",
   "execution_count": 2,
   "metadata": {
    "collapsed": true
   },
   "outputs": [],
   "source": [
    "working_dir = 'E_vs_r_scan'\n",
    "\n",
    "#This prevents recursive directories upon re-running this cell\n",
    "if os.path.basename(os.getcwd()) == working_dir:\n",
    "    working_dir = os.getcwd()\n",
    "else:\n",
    "    working_dir = os.path.realpath(working_dir)\n",
    "    \n",
    "#move to working_dir\n",
    "try:\n",
    "    os.chdir(working_dir)\n",
    "except:\n",
    "    os.makedirs(working_dir)\n",
    "    os.chdir(working_dir)"
   ]
  },
  {
   "cell_type": "markdown",
   "metadata": {},
   "source": [
    "#### 1.1 MEAM Potential\n",
    "\n",
    "This generates the library and parameter files associated with the following interatomic potential taken from the [NIST Interatomic Potential Repository](http://www.ctcms.nist.gov/potentials/):\n",
    "\n",
    "__2012--Jelinek-B--Al-Si-Mg-Cu-Fe__\n",
    "\n",
    "__Aluminum, Silicon, Magnesium, Copper, and Iron (Al, Si, Mg, Cu, and Fe) Alloys__\n",
    "\n",
    "*B. Jelinek, S. Groh, M. Horstemeyer, J. Houze, S.G. Kim, G.J. Wagner, A. Moitra, and M.I. Baskes, \"Modified embedded atom method potential for Al, Si, Mg, Cu, and Fe alloys,\" Phys. Rev. B 85, 245102 (2012).*\n",
    "\n",
    "__Notes__: This file was provided by Bohumir Jelinek (Mississippi State University) and posted on 3 July 2012. He noted, \"This is a MEAM potential for Al, Si, Mg, Cu, Fe alloys. It works with LAMMPS, version 19 Jul 2011 or later, when compiled with MEAM support.\"\n",
    "\n",
    "__Notice__: Users should consider all available potentials and select one which is appropriate for their use case. Use of this potential within this demonstration should not be construed as an endorsement or a recommendation. "
   ]
  },
  {
   "cell_type": "code",
   "execution_count": 3,
   "metadata": {
    "collapsed": false
   },
   "outputs": [],
   "source": [
    "#Create MEAM library and parameter files for the 2012--Jelinek-B--Al-Si-Mg-Cu-Fe potential\n",
    "   \n",
    "#Create MEAM library file \"Jelinek_2012_meamf\"\n",
    "f = open('Jelinek_2012_meamf', 'w')\n",
    "f.write(\"\"\"# MEAM Al, Si, Mg, Cu, Fe alloy potential, Phys. Rev. B 85, 245102 (2012)\n",
    "# http://dx.doi.org/10.1103/PhysRevB.85.245102\n",
    "# to be used with \"meam.alsimgcufe\" file providing combinational parameters\n",
    "#  elt        lat     z       ielement     atwt\n",
    "#  alpha      b0      b1      b2           b3    alat    esub    asub\n",
    "#  t0         t1              t2           t3            rozero  ibar\n",
    "\n",
    "'AlS'        'fcc'   12.     13           26.9815\n",
    "4.64        2.04    3.00    6.0          1.50  4.05    3.353    1.07\n",
    "1.0         +4.50           -2.30        8.01          1.0    -5\n",
    "'SiS'        'dia'   4.      14           28.086\n",
    "4.87        4.4     5.5     5.5          5.5   5.431   4.63    1.\n",
    "1.0         2.05            4.47         -1.80         2.2    -5\n",
    "'MgS'       'hcp'   12.      12           24.305\n",
    "5.52        4.0    3.0     0.2          1.2  3.194 1.51     0.80\n",
    "1.0         10.04           9.49         -4.3          0.63   -5\n",
    "'CuS'        'fcc'   12.     29           63.54\n",
    "5.11        3.634   2.20    6            2.20  3.62    3.54    1.07\n",
    "1.0         4.91            2.49         2.95          1.10   -5\n",
    "'FeS'        'bcc'   8       26           55.847\n",
    "5.0270      3.500   2       1.00         1     2.851   4.28    0.5550\n",
    "1          -1.6             12.5          -1.40        1.0    -5\"\"\")\n",
    "f.close()\n",
    "\n",
    "#Create MEAM parameter file \"Jelinek_2012_meam.alsimgcufe\"\n",
    "f = open('Jelinek_2012_meam.alsimgcufe', 'w')\n",
    "f.write(\"\"\"# MEAM Al, Si, Mg, Cu, Fe alloy potential, Phys. Rev. B 85, 245102 (2012)\n",
    "# http://dx.doi.org/10.1103/PhysRevB.85.245102\n",
    "# to be used with \"meamf\" file providing single element parameters\n",
    "\n",
    "  Cmin(1,1,1) = 0.8\n",
    "  repuls(1,1) = 0.1\n",
    "  Cmin(3,3,3) = 0.8\n",
    "  Cmin(4,4,4) = 0.8\n",
    "  Cmin(5,5,5) = 0.68\n",
    "  repuls(5,5) = 0.3\n",
    "  Cmax(5,5,5) = 1.9\n",
    "\n",
    "  nn2(1,1)=1\n",
    "  nn2(1,2)=1\n",
    "  nn2(1,3)=1\n",
    "  nn2(1,4)=1\n",
    "  nn2(1,5)=1\n",
    "  nn2(2,2)=1\n",
    "  nn2(2,3)=1\n",
    "  nn2(2,4)=1\n",
    "  nn2(2,5)=1\n",
    "  nn2(3,3)=1\n",
    "  nn2(3,4)=1\n",
    "  nn2(3,5)=1\n",
    "  nn2(4,4)=1\n",
    "  nn2(4,5)=1\n",
    "  nn2(5,5)=1\n",
    "\n",
    "  lattce(1,2)='b1'\n",
    "  delta(1,2)=+0.28\n",
    "  alpha(1,2)=4.56\n",
    "  re(1,2)=2.62\n",
    "  Cmin(1,1,2) = 0.50\n",
    "  Cmin(2,2,1) = 2.00\n",
    "  Cmin(1,2,1) = 2.00\n",
    "  Cmin(1,2,2) = 2.00\n",
    "\n",
    "  lattce(1,3)='b1'\n",
    "  delta(1,3)=+0.23\n",
    "  alpha(1,3)=4.52\n",
    "  re(1,3)=2.87\n",
    "  Cmin(1,1,3) = 2.00\n",
    "  Cmin(3,3,1) = 0.00\n",
    "  Cmin(1,3,1) = 2.00\n",
    "  Cmin(1,3,3) = 0.00\n",
    "\n",
    "  lattce(1,4)='b1'\n",
    "  delta(1,4)=+0.19\n",
    "  alpha(1,4)=4.65\n",
    "  re(1,4)=2.53\n",
    "  Cmin(1,1,4) = 0.00\n",
    "  Cmin(4,4,1) = 2.00\n",
    "  Cmin(1,4,1) = 2.00\n",
    "  Cmin(1,4,4) = 2.00\n",
    "\n",
    "  lattce(1,5)='b1'\n",
    "  delta(1,5)=+0.26\n",
    "  alpha(1,5)=4.64\n",
    "  re(1,5)=2.45\n",
    "  Cmin(1,1,5) = 0.90\n",
    "  Cmin(5,5,1) = 0.10\n",
    "  Cmin(1,5,1) = 2.00\n",
    "  Cmin(1,5,5) = 2.00\n",
    "\n",
    "  lattce(2,3)='b1'\n",
    "  delta(2,3)=+0.2\n",
    "  alpha(2,3)=4.73\n",
    "  re(2,3)=2.75\n",
    "  Cmin(2,2,3) = 1.00\n",
    "  Cmin(3,3,2) = 1.00\n",
    "  Cmin(2,3,2) = 2.00\n",
    "  Cmin(2,3,3) = 2.00\n",
    "\n",
    "  lattce(2,4)='b1'\n",
    "  delta(2,4)=+0.14\n",
    "  alpha(2,4)=4.74\n",
    "  re(2,4)=2.46\n",
    "  Cmin(2,2,4) = 0.00\n",
    "  Cmin(4,4,2) = 0.00\n",
    "  Cmin(2,4,2) = 2.00\n",
    "  Cmin(2,4,4) = 2.00\n",
    "\n",
    "  lattce(2,5)='b1'\n",
    "  delta(2,5)=-0.07\n",
    "  alpha(2,5)=5.17\n",
    "  re(2,5)=2.39\n",
    "  Cmin(2,2,5) = 1.00\n",
    "  Cmin(5,5,2) = 1.00\n",
    "  Cmin(2,5,2) = 2.00\n",
    "  Cmin(2,5,5) = 0.00\n",
    "  attrac(2,5) = 0.1\n",
    "  repuls(2,5) = 0.1\n",
    "\n",
    "  lattce(3,4)='b1'\n",
    "  delta(3,4)=+0.23\n",
    "  alpha(3,4)=4.70\n",
    "  re(3,4)=2.63\n",
    "  Cmin(3,3,4) = 2.00\n",
    "  Cmin(4,4,3) = 0.00\n",
    "  Cmin(3,4,3) = 2.00\n",
    "  Cmin(3,4,4) = 2.00\n",
    "\n",
    "  lattce(3,5)='b1'\n",
    "  delta(3,5)=+0.6\n",
    "  alpha(3,5)=4.96\n",
    "  re(3,5)=2.61\n",
    "  Cmin(3,3,5) = 0.65\n",
    "  Cmin(5,5,3) = 0.00\n",
    "  Cmin(3,5,3) = 2.00\n",
    "  Cmin(3,5,5) = 2.00\n",
    "\n",
    "  lattce(4,5)='b1'\n",
    "  delta(4,5)=+0.63\n",
    "  alpha(4,5)=5.21\n",
    "  re(4,5)=2.42\n",
    "  Cmin(5,5,4)=0.00\n",
    "\n",
    "  attrac(5,2) = 0.1\n",
    "  repuls(5,2) = 0.1\n",
    "\n",
    "  rc = 5.0\n",
    "  ialloy=1\n",
    "  augt1=0\n",
    "  delr=0.25658351\n",
    "  emb_lin_neg=1\n",
    "  bkgd_dyn=1\"\"\")\n",
    "f.close()"
   ]
  },
  {
   "cell_type": "markdown",
   "metadata": {},
   "source": [
    "#### 1.2 Potential Data Model\n",
    "\n",
    "This generates the interatomic potential data model file associated with the 2012--Jelinek-B--Al-Si-Mg-Cu-Fe potential. Additional potential data models and their associated artifacts can be found in the ipyrPy/reference-libraries/potentials directory."
   ]
  },
  {
   "cell_type": "code",
   "execution_count": 4,
   "metadata": {
    "collapsed": true
   },
   "outputs": [],
   "source": [
    "#Creates a interatomic potential data model for using the MEAM potential in LAMMPS\n",
    "f = open('2012--Jelinek-B--Al-Si-Mg-Cu-Fe.json', 'w')\n",
    "f.write(\"\"\"{\n",
    "    \"LAMMPS-potential\": {\n",
    "        \"potential\": {\n",
    "            \"key\": \"1515dd80-1984-49de-bc92-d5724059ff56\", \n",
    "            \"id\": \"2012--Jelinek-B--Al-Si-Mg-Cu-Fe\"\n",
    "        }, \n",
    "        \"units\": \"metal\", \n",
    "        \"atom_style\": \"atomic\", \n",
    "        \"atom\": [\n",
    "            {\n",
    "                \"symbol\": \"AlS\",\n",
    "                \"element\": \"Al\", \n",
    "                \"mass\": 26.9815                \n",
    "            }, \n",
    "            {\n",
    "                \"symbol\": \"SiS\",\n",
    "                \"element\": \"Si\", \n",
    "                \"mass\": 28.086                \n",
    "            }, \n",
    "            {\n",
    "                \"symbol\": \"MgS\", \n",
    "                \"element\": \"Mg\",\n",
    "                \"mass\": 24.305                \n",
    "            }, \n",
    "            {\n",
    "                \"symbol\": \"CuS\", \n",
    "                \"element\": \"Cu\", \n",
    "                \"mass\": 63.54\n",
    "            }, \n",
    "            {\n",
    "                \"symbol\": \"FeS\", \n",
    "                \"element\": \"Fe\", \n",
    "                \"mass\": 55.847\n",
    "            }\n",
    "        ], \n",
    "        \"pair_style\": {\n",
    "            \"type\": \"meam\"\n",
    "        }, \n",
    "        \"pair_coeff\": {\n",
    "            \"term\": [\n",
    "                {\n",
    "                    \"file\": \"Jelinek_2012_meamf\"\n",
    "                }, \n",
    "                {\n",
    "                    \"symbolsList\": \"True\"\n",
    "                }, \n",
    "                {\n",
    "                    \"file\": \"Jelinek_2012_meam.alsimgcufe\"\n",
    "                }, \n",
    "                {\n",
    "                    \"symbols\": \"True\"\n",
    "                }\n",
    "            ]\n",
    "        }\n",
    "    }\n",
    "}\"\"\")\n",
    "f.close()    "
   ]
  },
  {
   "cell_type": "markdown",
   "metadata": {},
   "source": [
    "#### 1.3 Prototype Data Model\n",
    "\n",
    "This generates the crystal prototype data model file associated with the AuCu L1<sub>0</sub> crystal prototype. Additional prototype data models can be found in the ipyrPy/reference-libraries/prototypes directory."
   ]
  },
  {
   "cell_type": "code",
   "execution_count": 5,
   "metadata": {
    "collapsed": true
   },
   "outputs": [],
   "source": [
    "#Creates an instance of a crystal prototype data model for generating crystal structures.\n",
    "f = open('L1_0--AuCu.json', 'w')\n",
    "f.write(\"\"\"{\n",
    "    \"crystal-prototype\": {\n",
    "        \"identifier\": {\n",
    "            \"common\": \"AuCu\", \n",
    "            \"tag\": \"AuCu\", \n",
    "            \"prototype\": \"AuCu\", \n",
    "            \"Pearson-symbol\": \"tP4\", \n",
    "            \"Strukturbericht\": \"L1_0\"\n",
    "        }, \n",
    "        \"space-group\": {\n",
    "            \"number\": 123, \n",
    "            \"Hermann-Maguin\": \"P 4/m m m\", \n",
    "            \"Schoenflies\": \"D4h^1\"\n",
    "        }, \n",
    "        \"atomic-system\": {\n",
    "            \"cell\": {\n",
    "                \"tetragonal\": {\n",
    "                    \"a\": {\n",
    "                        \"value\": 1.0, \n",
    "                        \"unit\": \"scaled\"\n",
    "                    }, \n",
    "                    \"c\": {\n",
    "                        \"value\": 0.926, \n",
    "                        \"unit\": \"scaled\"\n",
    "                    }\n",
    "                }\n",
    "            }, \n",
    "            \"atom\": [\n",
    "                {\n",
    "                    \"component\": 1, \n",
    "                    \"position\": {\n",
    "                        \"value\": [\n",
    "                            0.0, \n",
    "                            0.5, \n",
    "                            0.5\n",
    "                        ], \n",
    "                        \"unit\": \"scaled\"\n",
    "                    }\n",
    "                }, \n",
    "                {\n",
    "                    \"component\": 1, \n",
    "                    \"position\": {\n",
    "                        \"value\": [\n",
    "                            0.5, \n",
    "                            0.0, \n",
    "                            0.5\n",
    "                        ], \n",
    "                        \"unit\": \"scaled\"\n",
    "                    }\n",
    "                }, \n",
    "                {\n",
    "                    \"component\": 2, \n",
    "                    \"position\": {\n",
    "                        \"value\": [\n",
    "                            0.0, \n",
    "                            0.0, \n",
    "                            0.0\n",
    "                        ], \n",
    "                        \"unit\": \"scaled\"\n",
    "                    }\n",
    "                }, \n",
    "                {\n",
    "                    \"component\": 2, \n",
    "                    \"position\": {\n",
    "                        \"value\": [\n",
    "                            0.5, \n",
    "                            0.5, \n",
    "                            0.0\n",
    "                        ], \n",
    "                        \"unit\": \"scaled\"\n",
    "                    }\n",
    "                }\n",
    "            ]\n",
    "        }\n",
    "    }\n",
    "}\"\"\")\n",
    "f.close()"
   ]
  },
  {
   "cell_type": "markdown",
   "metadata": {},
   "source": [
    "### 2. LAMMPS Script Template(s)\n",
    "\n",
    "This generates any LAMMPS imput template files that are used by the calculation functions. The calculation functions fill in variable terms in the templates to create complete LAMMPS simulation scripts.\n",
    "\n",
    "1. run0.template -- Statically evaluates the potential energy of a system without relaxation."
   ]
  },
  {
   "cell_type": "markdown",
   "metadata": {},
   "source": [
    "#### 2.1 run0.template"
   ]
  },
  {
   "cell_type": "code",
   "execution_count": 6,
   "metadata": {
    "collapsed": true
   },
   "outputs": [],
   "source": [
    "f = open('run0.template', 'w')\n",
    "f.write(\"\"\"#LAMMPS input script that evaluates the energy of a system without relaxation\n",
    "\n",
    "<atomman_system_info>\n",
    "\n",
    "<atomman_pair_info>\n",
    "\n",
    "variable peatom equal pe/atoms\n",
    "                  \n",
    "thermo_style custom step lx ly lz pxx pyy pzz pe v_peatom\n",
    "thermo_modify format float %.13e\n",
    "\n",
    "run 0\"\"\")\n",
    "f.close()"
   ]
  },
  {
   "cell_type": "markdown",
   "metadata": {},
   "source": [
    "### 3. Python Calculation Function(s)\n",
    "\n",
    "These are the Python functions that are at the heart of performing the calculation.\n",
    "\n",
    "1. __e_vs_r__: computes the cohesive energy, _Ecoh_, of a system as a function of interatomic spacing, _r_, over a range of _r_ values. Identifies all system configurations corresponding to energy minimums.\n",
    "\n",
    "2. __r_a_ratio__: identifies the shortest interatomic spacing, _r_, for a system and returns it relative to the _a_ lattice parameter.\n"
   ]
  },
  {
   "cell_type": "markdown",
   "metadata": {},
   "source": [
    "#### 3.1 e_vs_r Function\n",
    "\n",
    "Uses LAMMPS and the run0.template script to evaluate the cohesive energy, _Ecoh_, as a function of interatomic spacing, _r_,  for a specific system-potential-symbols.\n",
    "\n",
    "Arguments:\n",
    "    \n",
    "- __lammps_command__ -- command for running LAMMPS.\n",
    "- __system__ -- atomman.System to perform the scan on.\n",
    "- __potential__ -- atomman.lammps.Potential representation of a LAMMPS implemented potential.\n",
    "- __symbols__ -- list of element-model symbols for the Potential that correspond to system's atypes.\n",
    "    \n",
    "Keyword Arguments:\n",
    "    \n",
    "- __mpi_command__ -- MPI command for running LAMMPS in parallel. Default value is None (serial run).  \n",
    "- __ucell__ -- an atomman.System representing a fundamental unit cell of the system. If not given, ucell will be taken as system. \n",
    "- __rmin__ -- the minimum _r_ spacing to use. Default value is 2.0.\n",
    "- __rmax__ -- the maximum _r_ spacing to use. Default value is 6.0.\n",
    "- __rsteps__ -- the number of _r_ spacing steps to evaluate. Default value is 200.\n",
    "\n",
    "Returns a dictionary containing:\n",
    "\n",
    "- __r_values__ -- a list of the _r_ values used.\n",
    "\n",
    "- __a_values__ -- a list of the _a_ lattice parameter values corresponding to r_values.\n",
    "\n",
    "- __Ecoh_values__ -- a list of the _Ecoh_ values corresponding to r_values.\n",
    "\n",
    "- __min_cell__ -- a list of atomman.Systems with positions based on ucell and lattice dimensions corresponding to measured _r_ values with minimum _Ecoh_ values.\n",
    "\n",
    "\n",
    "This code is directly copied from calc_E_vs_r_scan.py."
   ]
  },
  {
   "cell_type": "code",
   "execution_count": 7,
   "metadata": {
    "collapsed": false
   },
   "outputs": [],
   "source": [
    "def e_vs_r(lammps_command, system, potential, symbols, mpi_command=None, ucell=None, rmin=2.0, rmax=6.0, rsteps=200):        \n",
    "    \"\"\"\n",
    "    Performs a cohesive energy scan over a range of interatomic spaces, r.\n",
    "    \n",
    "    Arguments:\n",
    "    lammps_command -- command for running LAMMPS.\n",
    "    system -- atomman.System to perform the scan on.\n",
    "    potential -- atomman.lammps.Potential representation of a LAMMPS \n",
    "                 implemented potential.\n",
    "    symbols -- list of element-model symbols for the Potential that \n",
    "               correspond to system's atypes.\n",
    "    \n",
    "    Keyword Arguments:\n",
    "    \n",
    "    mpi_command -- MPI command for running LAMMPS in parallel. Default value \n",
    "                   is None (serial run).  \n",
    "    ucell -- an atomman.System representing a fundamental unit cell of the \n",
    "             system. If not given, ucell will be taken as system. \n",
    "    rmin -- the minimum r spacing to use. Default value is 2.0.\n",
    "    rmax -- the minimum r spacing to use. Default value is 6.0.\n",
    "    rsteps -- the number of r spacing steps to evaluate. Default value is 200.    \n",
    "    \"\"\"\n",
    "    \n",
    "    #Make system a deepcopy of itself (protect original from changes)\n",
    "    system = deepcopy(system)\n",
    "    \n",
    "    #Set ucell = system if ucell not given\n",
    "    if ucell is None:\n",
    "        ucell = system\n",
    "    \n",
    "    #Calculate the r/a ratio for the unit cell\n",
    "    r_a = r_a_ratio(ucell)\n",
    "    \n",
    "    #Get ratios of lx, ly, and lz of system relative to a of ucell\n",
    "    lx_a = system.box.a / ucell.box.a\n",
    "    ly_a = system.box.b / ucell.box.a\n",
    "    lz_a = system.box.c / ucell.box.a\n",
    "    alpha = system.box.alpha\n",
    "    beta =  system.box.beta\n",
    "    gamma = system.box.gamma\n",
    " \n",
    "    #build lists of values\n",
    "    r_values = np.linspace(rmin, rmax, rsteps)\n",
    "    a_values = r_values / r_a\n",
    "    Ecoh_values = np.empty(rsteps)\n",
    " \n",
    "    #Loop over values\n",
    "    for i in xrange(rsteps):\n",
    "        \n",
    "        #Rescale system's box\n",
    "        a = a_values[i]\n",
    "        system.box_set(a = a * lx_a, \n",
    "                       b = a * ly_a, \n",
    "                       c = a * lz_a, \n",
    "                       alpha=alpha, beta=beta, gamma=gamma, scale=True)\n",
    "        \n",
    "        #Get lammps units\n",
    "        lammps_units = lmp.style.unit(potential.units)\n",
    "        \n",
    "        #Define lammps variables\n",
    "        lammps_variables = {}\n",
    "        lammps_variables['atomman_system_info'] = lmp.atom_data.dump(system, 'atom.dat', units=potential.units, atom_style=potential.atom_style)\n",
    "        lammps_variables['atomman_pair_info'] = potential.pair_info(symbols)\n",
    "        \n",
    "        #Write lammps input script\n",
    "        template_file = 'run0.template'\n",
    "        lammps_script = 'run0.in'\n",
    "        with open(template_file) as f:\n",
    "            template = f.read()\n",
    "        with open(lammps_script, 'w') as f:\n",
    "            f.write('\\n'.join(iprPy.tools.fill_template(template, lammps_variables, '<', '>')))\n",
    "\n",
    "        #Run lammps and extract data\n",
    "        output = lmp.run(lammps_command, lammps_script, mpi_command)\n",
    "        Ecoh_values[i] = uc.set_in_units(output.finds('peatom')[-1], lammps_units['energy'])\n",
    "        shutil.move('log.lammps', 'run0-'+str(i)+'-log.lammps')\n",
    "           \n",
    "    #Find unit cell systems at the energy minimums\n",
    "    min_cells = []\n",
    "    for i in xrange(1, rsteps - 1):\n",
    "        if Ecoh_values[i] < Ecoh_values[i-1] and Ecoh_values[i] < Ecoh_values[i+1]:\n",
    "            a = a_values[i]\n",
    "            cell = deepcopy(ucell)\n",
    "            cell.box_set(a = a,\n",
    "                         b = a * ucell.box.b / ucell.box.a,\n",
    "                         c = a * ucell.box.c / ucell.box.a, \n",
    "                         alpha=alpha, beta=beta, gamma=gamma, scale=True)\n",
    "            min_cells.append(cell)        \n",
    "            \n",
    "    return {'r_values':    r_values, \n",
    "            'a_values':    a_values, \n",
    "            'Ecoh_values': Ecoh_values, \n",
    "            'min_cell':    min_cells}"
   ]
  },
  {
   "cell_type": "markdown",
   "metadata": {},
   "source": [
    "#### 3.2 r_a_ratio Function\n",
    "\n",
    "Calculates the shortest interatomic spacing, r, for a system wrt to lattice constant _a_ for a system.\n",
    "\n",
    "Arguments:\n",
    "\n",
    "- __ucell__ -- atomman.System to calculate r/a for.\n",
    "\n",
    "Returns the r/a ratio.\n",
    "\n",
    "This code is directly copied from calc_E_vs_r_scan.py."
   ]
  },
  {
   "cell_type": "code",
   "execution_count": 8,
   "metadata": {
    "collapsed": true
   },
   "outputs": [],
   "source": [
    "def r_a_ratio(ucell):\n",
    "    \"\"\"Calculates the shortest interatomic spacing, r, for a system wrt to box.a.\"\"\"\n",
    "    r_a = ucell.box.a\n",
    "    for i in xrange(ucell.natoms):\n",
    "        for j in xrange(i):\n",
    "            dmag = np.linalg.norm(ucell.dvect(i,j))\n",
    "            if dmag < r_a:\n",
    "                r_a = dmag\n",
    "    return r_a/ucell.box.a"
   ]
  },
  {
   "cell_type": "markdown",
   "metadata": {},
   "source": [
    "### 4. Run Calculation"
   ]
  },
  {
   "cell_type": "markdown",
   "metadata": {},
   "source": [
    "Specify run parameters"
   ]
  },
  {
   "cell_type": "code",
   "execution_count": 9,
   "metadata": {
    "collapsed": true
   },
   "outputs": [],
   "source": [
    "#Commands for LAMMPS and MPI\n",
    "lammps_command = 'lmp_serial'\n",
    "mpi_command =    None\n",
    "\n",
    "#Paths to the potential data model and directory of artifacts\n",
    "potential_file = '2012--Jelinek-B--Al-Si-Mg-Cu-Fe.json' #Generated above\n",
    "potential_dir  = ''                                     #Files generated above in working directory\n",
    "\n",
    "#System load parameters\n",
    "load_style = 'system_model'\n",
    "load_file =  'L1_0--AuCu.json' #Generated above\n",
    "\n",
    "#Specify symbols combinations to use\n",
    "symbols_lists = [['AlS', 'AlS'], \n",
    "                 ['AlS', 'SiS'], \n",
    "                 ['AlS', 'MgS'],\n",
    "                 ['AlS', 'CuS'],\n",
    "                 ['AlS', 'FeS']]\n",
    "\n",
    "#Range of r values to use\n",
    "rmin = 2.0\n",
    "rmax = 6.0\n",
    "rsteps = 100"
   ]
  },
  {
   "cell_type": "markdown",
   "metadata": {},
   "source": [
    "Read the interatomic potential data model"
   ]
  },
  {
   "cell_type": "code",
   "execution_count": 10,
   "metadata": {
    "collapsed": false
   },
   "outputs": [],
   "source": [
    "with open(potential_file) as f:\n",
    "    potential = lmp.Potential(f, potential_dir)"
   ]
  },
  {
   "cell_type": "markdown",
   "metadata": {},
   "source": [
    "Read the prototype ucell system"
   ]
  },
  {
   "cell_type": "code",
   "execution_count": 11,
   "metadata": {
    "collapsed": true
   },
   "outputs": [],
   "source": [
    "ucell = am.load(load_style, load_file)[0]"
   ]
  },
  {
   "cell_type": "markdown",
   "metadata": {},
   "source": [
    "Make a supercell system of ucell"
   ]
  },
  {
   "cell_type": "code",
   "execution_count": 12,
   "metadata": {
    "collapsed": false
   },
   "outputs": [],
   "source": [
    "system = am.supersize(ucell, 3, 3, 3)"
   ]
  },
  {
   "cell_type": "markdown",
   "metadata": {},
   "source": [
    "Perform e_vs_r calculation for every set of symbols"
   ]
  },
  {
   "cell_type": "code",
   "execution_count": 13,
   "metadata": {
    "collapsed": false
   },
   "outputs": [],
   "source": [
    "results = OrderedDict()\n",
    "\n",
    "#Iterate over all sets of symbols\n",
    "for symbols in symbols_lists:\n",
    "    name = '-'.join(symbols)\n",
    "    \n",
    "    results[name] = e_vs_r(lammps_command, system, potential, symbols, \n",
    "                           mpi_command=mpi_command, ucell=ucell, \n",
    "                           rmin=rmin, rmax=rmax, rsteps=rsteps)   "
   ]
  },
  {
   "cell_type": "markdown",
   "metadata": {},
   "source": [
    "### 5. Display Results"
   ]
  },
  {
   "cell_type": "markdown",
   "metadata": {},
   "source": [
    "Plot _Ecoh_ vs. _r_ "
   ]
  },
  {
   "cell_type": "code",
   "execution_count": 14,
   "metadata": {
    "collapsed": false
   },
   "outputs": [
    {
     "data": {
      "image/png": "[encoded data removed]",
      "text/plain": [
       "<matplotlib.figure.Figure at 0x7f7a320>"
      ]
     },
     "metadata": {},
     "output_type": "display_data"
    }
   ],
   "source": [
    "#Initial plot setup\n",
    "matplotlib.rc('lines',lw=2)\n",
    "matplotlib.rc('font',size=15)\n",
    "plt.figure(figsize=(10,8))   \n",
    "emin = 0.0\n",
    "\n",
    "#plot values\n",
    "for name in results:\n",
    "    plt.plot(results[name]['r_values'], results[name]['Ecoh_values'], lw=2, label=name) \n",
    "    if min(results[name]['Ecoh_values']) < emin: \n",
    "        emin = min(results[name]['Ecoh_values'])\n",
    "\n",
    "#Final plot setup and show\n",
    "plt.legend(loc=0)\n",
    "plt.xlabel('Nearest Neighbor Distance, r (A)', size='x-large')\n",
    "plt.ylabel('Cohesive Energy, E (eV/atom)', size='x-large')\n",
    "plt.ylim(round(emin, 1)-.5, 0.0)\n",
    "plt.xlim(rmin, rmax)\n",
    "plt.show()   "
   ]
  },
  {
   "cell_type": "markdown",
   "metadata": {},
   "source": [
    "Show the minimum energy cells"
   ]
  },
  {
   "cell_type": "code",
   "execution_count": 15,
   "metadata": {
    "collapsed": false
   },
   "outputs": [
    {
     "name": "stdout",
     "output_type": "stream",
     "text": [
      "AlS-AlS\n",
      "avect =  [ 4.180,  0.000,  0.000]\n",
      "bvect =  [ 0.000,  4.180,  0.000]\n",
      "cvect =  [ 0.000,  0.000,  3.871]\n",
      "origin = [ 0.000,  0.000,  0.000]\n",
      "natoms = 4\n",
      "natypes = 2\n",
      "     id |   atype |  pos[0] |  pos[1] |  pos[2]\n",
      "      0 |       1 |   0.000 |   2.090 |   1.935\n",
      "      1 |       1 |   2.090 |   0.000 |   1.935\n",
      "      2 |       2 |   0.000 |   0.000 |   0.000\n",
      "      3 |       2 |   2.090 |   2.090 |   0.000\n",
      "\n",
      "AlS-SiS\n",
      "avect =  [ 4.180,  0.000,  0.000]\n",
      "bvect =  [ 0.000,  4.180,  0.000]\n",
      "cvect =  [ 0.000,  0.000,  3.871]\n",
      "origin = [ 0.000,  0.000,  0.000]\n",
      "natoms = 4\n",
      "natypes = 2\n",
      "     id |   atype |  pos[0] |  pos[1] |  pos[2]\n",
      "      0 |       1 |   0.000 |   2.090 |   1.935\n",
      "      1 |       1 |   2.090 |   0.000 |   1.935\n",
      "      2 |       2 |   0.000 |   0.000 |   0.000\n",
      "      3 |       2 |   2.090 |   2.090 |   0.000\n",
      "\n",
      "AlS-MgS\n",
      "avect =  [ 4.239,  0.000,  0.000]\n",
      "bvect =  [ 0.000,  4.239,  0.000]\n",
      "cvect =  [ 0.000,  0.000,  3.926]\n",
      "origin = [ 0.000,  0.000,  0.000]\n",
      "natoms = 4\n",
      "natypes = 2\n",
      "     id |   atype |  pos[0] |  pos[1] |  pos[2]\n",
      "      0 |       1 |   0.000 |   2.120 |   1.963\n",
      "      1 |       1 |   2.120 |   0.000 |   1.963\n",
      "      2 |       2 |   0.000 |   0.000 |   0.000\n",
      "      3 |       2 |   2.120 |   2.120 |   0.000\n",
      "\n",
      "AlS-MgS\n",
      "avect =  [ 7.085,  0.000,  0.000]\n",
      "bvect =  [ 0.000,  7.085,  0.000]\n",
      "cvect =  [ 0.000,  0.000,  6.561]\n",
      "origin = [ 0.000,  0.000,  0.000]\n",
      "natoms = 4\n",
      "natypes = 2\n",
      "     id |   atype |  pos[0] |  pos[1] |  pos[2]\n",
      "      0 |       1 |   0.000 |   3.543 |   3.281\n",
      "      1 |       1 |   3.543 |   0.000 |   3.281\n",
      "      2 |       2 |   0.000 |   0.000 |   0.000\n",
      "      3 |       2 |   3.543 |   3.543 |   0.000\n",
      "\n",
      "AlS-CuS\n",
      "avect =  [ 4.061,  0.000,  0.000]\n",
      "bvect =  [ 0.000,  4.061,  0.000]\n",
      "cvect =  [ 0.000,  0.000,  3.761]\n",
      "origin = [ 0.000,  0.000,  0.000]\n",
      "natoms = 4\n",
      "natypes = 2\n",
      "     id |   atype |  pos[0] |  pos[1] |  pos[2]\n",
      "      0 |       1 |   0.000 |   2.031 |   1.880\n",
      "      1 |       1 |   2.031 |   0.000 |   1.880\n",
      "      2 |       2 |   0.000 |   0.000 |   0.000\n",
      "      3 |       2 |   2.031 |   2.031 |   0.000\n",
      "\n",
      "AlS-FeS\n",
      "avect =  [ 4.061,  0.000,  0.000]\n",
      "bvect =  [ 0.000,  4.061,  0.000]\n",
      "cvect =  [ 0.000,  0.000,  3.761]\n",
      "origin = [ 0.000,  0.000,  0.000]\n",
      "natoms = 4\n",
      "natypes = 2\n",
      "     id |   atype |  pos[0] |  pos[1] |  pos[2]\n",
      "      0 |       1 |   0.000 |   2.031 |   1.880\n",
      "      1 |       1 |   2.031 |   0.000 |   1.880\n",
      "      2 |       2 |   0.000 |   0.000 |   0.000\n",
      "      3 |       2 |   2.031 |   2.031 |   0.000\n",
      "\n",
      "AlS-FeS\n",
      "avect =  [ 7.085,  0.000,  0.000]\n",
      "bvect =  [ 0.000,  7.085,  0.000]\n",
      "cvect =  [ 0.000,  0.000,  6.561]\n",
      "origin = [ 0.000,  0.000,  0.000]\n",
      "natoms = 4\n",
      "natypes = 2\n",
      "     id |   atype |  pos[0] |  pos[1] |  pos[2]\n",
      "      0 |       1 |   0.000 |   3.543 |   3.281\n",
      "      1 |       1 |   3.543 |   0.000 |   3.281\n",
      "      2 |       2 |   0.000 |   0.000 |   0.000\n",
      "      3 |       2 |   3.543 |   3.543 |   0.000\n",
      "\n"
     ]
    }
   ],
   "source": [
    "for name in results:\n",
    "    for cell in results[name]['min_cell']:\n",
    "        print name\n",
    "        print cell\n",
    "        print"
   ]
  },
  {
   "cell_type": "code",
   "execution_count": null,
   "metadata": {
    "collapsed": true
   },
   "outputs": [],
   "source": []
  }
 ],
 "metadata": {
  "kernelspec": {
   "display_name": "Python [Root]",
   "language": "python",
   "name": "Python [Root]"
  },
  "language_info": {
   "codemirror_mode": {
    "name": "ipython",
    "version": 2
   },
   "file_extension": ".py",
   "mimetype": "text/x-python",
   "name": "python",
   "nbconvert_exporter": "python",
   "pygments_lexer": "ipython2",
   "version": "2.7.12"
  }
 },
 "nbformat": 4,
 "nbformat_minor": 0
}
