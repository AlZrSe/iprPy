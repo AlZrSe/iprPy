{
 "cells": [
  {
   "cell_type": "markdown",
   "metadata": {
    "deletable": true,
    "editable": true
   },
   "source": [
    "# iprPy.Calculation.data_model(self, fp, \\*args)\n",
    "- - -"
   ]
  },
  {
   "cell_type": "markdown",
   "metadata": {
    "deletable": true,
    "editable": true
   },
   "source": [
    "**Lucas M. Hale**, [lucas.hale@nist.gov](mailto:lucas.hale@nist.gov?Subject=ipr-demo), *Materials Science and Engineering Division, NIST*.\n",
    "\n",
    "**Chandler A. Becker**, [chandler.becker@nist.gov](mailto:chandler.becker@nist.gov?Subject=ipr-demo), *Office of Data and Informatics, NIST*.\n",
    "\n",
    "**Zachary T. Trautt**, [zachary.trautt@nist.gov](mailto:zachary.trautt@nist.gov?Subject=ipr-demo), *Materials Measurement Science Division, NIST*.\n",
    "\n",
    "Version: 2017-05-03\n",
    "\n",
    "[Disclaimers](http://www.nist.gov/public_affairs/disclaimer.cfm) \n",
    " \n",
    "- - -"
   ]
  },
  {
   "cell_type": "markdown",
   "metadata": {
    "deletable": true,
    "editable": true
   },
   "source": [
    "## Introduction\n",
    "\n",
    "The data_model method of Calculation builds a DataModelDict record for the calculation.\n",
    "\n",
    "Arguments:\n",
    "\n",
    "- __input_dict__ is a dictionary of input parameter file terms and their direct derivatives that help uniquely define the calculation instance that has been prepared. \n",
    "\n",
    "- __results_dict__ is a dictionary of variables resulting from the calculation successfully running. If not given, then the resulting record will be an incomplete record.\n",
    "\n",
    "__Note__: the action being performed by this method is more associated with a given record style than a calculation style. As such, future plans are to remove this method from Calculation and add a comparable method to Record. \n",
    "\n",
    "The underlying code can be found in [iprPy/calculation_functions.py](../../iprPy/calculation_functions.py)."
   ]
  },
  {
   "cell_type": "markdown",
   "metadata": {
    "deletable": true,
    "editable": true
   },
   "source": [
    "## Demonstration"
   ]
  },
  {
   "cell_type": "markdown",
   "metadata": {
    "deletable": true,
    "editable": true
   },
   "source": [
    "Library Imports"
   ]
  },
  {
   "cell_type": "code",
   "execution_count": 1,
   "metadata": {
    "collapsed": true,
    "deletable": true,
    "editable": true
   },
   "outputs": [],
   "source": [
    "#Standard libraries\n",
    "from __future__ import print_function\n",
    "from StringIO import StringIO\n",
    "\n",
    "#https://github.com/usnistgov/iprPy\n",
    "import atomman.lammps as lmp\n",
    "import iprPy"
   ]
  },
  {
   "cell_type": "markdown",
   "metadata": {
    "deletable": true,
    "editable": true
   },
   "source": [
    "Initialize a Calculation object with the E_vs_r_scan style."
   ]
  },
  {
   "cell_type": "code",
   "execution_count": 2,
   "metadata": {
    "collapsed": false,
    "deletable": true,
    "editable": true
   },
   "outputs": [
    {
     "name": "stdout",
     "output_type": "stream",
     "text": [
      "iprPy.Calculation (E_vs_r_scan)\n"
     ]
    }
   ],
   "source": [
    "calc = iprPy.Calculation('E_vs_r_scan')\n",
    "print(calc)"
   ]
  },
  {
   "cell_type": "markdown",
   "metadata": {
    "deletable": true,
    "editable": true
   },
   "source": [
    "Show the calculation's input parameter template file."
   ]
  },
  {
   "cell_type": "code",
   "execution_count": 3,
   "metadata": {
    "collapsed": false,
    "deletable": true,
    "editable": true
   },
   "outputs": [
    {
     "name": "stdout",
     "output_type": "stream",
     "text": [
      "#Run script for calc_E_vs_r_scan.py\n",
      "\n",
      "#Command lines for LAMMPS (and MPI).\n",
      "#For lammps_command, exclude passing in a script, i.e. no \"-in term\"\n",
      "lammps_command              <lammps_command>\n",
      "mpi_command                 <mpi_command>\n",
      "\n",
      "#Paths to the potential data model file, and directory containing potential parameters\n",
      "potential_file              <potential_file>\n",
      "potential_dir               <potential_dir>\n",
      "\n",
      "#Initial system configuration to load\n",
      "load                        <load>\n",
      "load_options                <load_options>\n",
      "symbols                     <symbols>\n",
      "box_parameters              <box_parameters>\n",
      "\n",
      "#System manipulations\n",
      "x_axis                      <x_axis>\n",
      "y_axis                      <y_axis>\n",
      "z_axis                      <z_axis>\n",
      "atomshift                   <atomshift>\n",
      "sizemults                   <sizemults>\n",
      "\n",
      "#Units that input/output values are in\n",
      "length_unit                 <length_unit>\n",
      "pressure_unit               <pressure_unit>\n",
      "energy_unit                 <energy_unit>\n",
      "force_unit                  <force_unit>\n",
      "\n",
      "#Run parameters\n",
      "minimum_r                   <minimum_r>\n",
      "maximum_r                   <maximum_r>\n",
      "number_of_steps_r           <number_of_steps_r>\n",
      "\n"
     ]
    }
   ],
   "source": [
    "print(calc.template)"
   ]
  },
  {
   "cell_type": "markdown",
   "metadata": {
    "deletable": true,
    "editable": true
   },
   "source": [
    "Assign values to the input parameter terms and fill in the template using [iprPy.tools.filltemplate](iprPy.tools.filltemplate.ipynb)."
   ]
  },
  {
   "cell_type": "code",
   "execution_count": 4,
   "metadata": {
    "collapsed": false,
    "deletable": true,
    "editable": true
   },
   "outputs": [
    {
     "name": "stdout",
     "output_type": "stream",
     "text": [
      "#Run script for calc_E_vs_r_scan.py\n",
      "\n",
      "#Command lines for LAMMPS (and MPI).\n",
      "#For lammps_command, exclude passing in a script, i.e. no \"-in term\"\n",
      "lammps_command              lmp_serial\n",
      "mpi_command                 \n",
      "\n",
      "#Paths to the potential data model file, and directory containing potential parameters\n",
      "potential_file              files/iprPy.Calculation.data_model/1999--Mishin-Y--Al.json\n",
      "potential_dir               files/iprPy.Calculation.data_model/1999--Mishin-Y--Al\n",
      "\n",
      "#Initial system configuration to load\n",
      "load                        system_model files/iprPy.Calculation.data_model/A1--Cu--fcc.json\n",
      "load_options                \n",
      "symbols                     Al\n",
      "box_parameters              4.05 4.05 4.05\n",
      "\n",
      "#System manipulations\n",
      "x_axis                      \n",
      "y_axis                      \n",
      "z_axis                      \n",
      "atomshift                   \n",
      "sizemults                   \n",
      "\n",
      "#Units that input/output values are in\n",
      "length_unit                 \n",
      "pressure_unit               \n",
      "energy_unit                 \n",
      "force_unit                  \n",
      "\n",
      "#Run parameters\n",
      "minimum_r                   \n",
      "maximum_r                   \n",
      "number_of_steps_r           \n",
      "\n"
     ]
    }
   ],
   "source": [
    "parameter_dict = {}\n",
    "\n",
    "#Command lines for LAMMPS (and MPI).\n",
    "#For lammps_command, exclude passing in a script, i.e. no \"-in term\"\n",
    "parameter_dict['lammps_command'] =  'lmp_serial'       \n",
    "parameter_dict['mpi_command'] =     ''\n",
    "parameter_dict['potential_file'] =  'files/iprPy.Calculation.data_model/1999--Mishin-Y--Al.json'\n",
    "parameter_dict['potential_dir'] =   'files/iprPy.Calculation.data_model/1999--Mishin-Y--Al'\n",
    "\n",
    "#Initial system configuration to load\n",
    "parameter_dict['load'] =           'system_model files/iprPy.Calculation.data_model/A1--Cu--fcc.json'\n",
    "parameter_dict['load_options'] =   ''\n",
    "parameter_dict['symbols'] =        'Al'\n",
    "parameter_dict['box_parameters'] = '4.05 4.05 4.05'\n",
    "\n",
    "#System manipulations\n",
    "parameter_dict['x_axis'] =    ''\n",
    "parameter_dict['y_axis'] =    ''\n",
    "parameter_dict['z_axis'] =    ''\n",
    "parameter_dict['atomshift'] = ''\n",
    "parameter_dict['sizemults'] = ''\n",
    "\n",
    "#Units that input/output values are in\n",
    "parameter_dict['length_unit'] =   ''\n",
    "parameter_dict['pressure_unit'] = ''\n",
    "parameter_dict['energy_unit'] =   ''\n",
    "parameter_dict['force_unit'] =    ''\n",
    "\n",
    "#Run parameters\n",
    "parameter_dict['minimum_r'] =         ''\n",
    "parameter_dict['maximum_r'] =         ''\n",
    "parameter_dict['number_of_steps_r'] = ''\n",
    "\n",
    "#Fill in template\n",
    "infile = iprPy.tools.filltemplate(calc.template, parameter_dict, '<', '>')\n",
    "print(infile)"
   ]
  },
  {
   "cell_type": "markdown",
   "metadata": {
    "deletable": true,
    "editable": true
   },
   "source": [
    "Pass infile to the calculation's [read_input](iprPy.Calculation.read_input.ipynb), and perform further interpretation of some of the input parameters."
   ]
  },
  {
   "cell_type": "code",
   "execution_count": 5,
   "metadata": {
    "collapsed": false,
    "deletable": true,
    "editable": true
   },
   "outputs": [],
   "source": [
    "input_dict = calc.read_input(StringIO(infile))\n",
    "\n",
    "with open(input_dict['potential_file']) as f:\n",
    "    input_dict['potential'] = lmp.Potential(f, input_dict['potential_dir'])\n",
    "        \n",
    "iprPy.input.system_family(input_dict)\n",
    "\n",
    "iprPy.input.ucell(input_dict)\n",
    "\n",
    "iprPy.input.initialsystem(input_dict)"
   ]
  },
  {
   "cell_type": "markdown",
   "metadata": {
    "deletable": true,
    "editable": true
   },
   "source": [
    "Pass input_dict to data_model to generate an incomplete record, and display the record as JSON."
   ]
  },
  {
   "cell_type": "code",
   "execution_count": 6,
   "metadata": {
    "collapsed": false,
    "deletable": true,
    "editable": true
   },
   "outputs": [
    {
     "name": "stdout",
     "output_type": "stream",
     "text": [
      "{\n",
      "    \"calculation-cohesive-energy-relation\": {\n",
      "        \"key\": \"3842e079-fa03-473c-96ce-33745dd17a39\", \n",
      "        \"calculation\": {\n",
      "            \"script\": \"calc_E_vs_r_scan\", \n",
      "            \"run-parameter\": {\n",
      "                \"size-multipliers\": {\n",
      "                    \"a\": [\n",
      "                        0, \n",
      "                        3\n",
      "                    ], \n",
      "                    \"b\": [\n",
      "                        0, \n",
      "                        3\n",
      "                    ], \n",
      "                    \"c\": [\n",
      "                        0, \n",
      "                        3\n",
      "                    ]\n",
      "                }, \n",
      "                \"minimum_r\": {\n",
      "                    \"value\": 2.0, \n",
      "                    \"unit\": \"angstrom\"\n",
      "                }, \n",
      "                \"maximum_r\": {\n",
      "                    \"value\": 6.0, \n",
      "                    \"unit\": \"angstrom\"\n",
      "                }, \n",
      "                \"number_of_steps_r\": 200\n",
      "            }\n",
      "        }, \n",
      "        \"potential\": {\n",
      "            \"key\": \"0c2ddffb-e644-4e5c-8e53-9bf722bb5dee\", \n",
      "            \"id\": \"1999--Mishin-Y--Al\"\n",
      "        }, \n",
      "        \"system-info\": {\n",
      "            \"artifact\": {\n",
      "                \"file\": \"A1--Cu--fcc.json\", \n",
      "                \"format\": \"system_model\", \n",
      "                \"family\": \"A1--Cu--fcc\"\n",
      "            }, \n",
      "            \"symbols\": [\n",
      "                \"Al\"\n",
      "            ]\n",
      "        }, \n",
      "        \"status\": \"not calculated\"\n",
      "    }\n",
      "}\n"
     ]
    }
   ],
   "source": [
    "model = calc.data_model(input_dict)\n",
    "print(model.json(indent=4))"
   ]
  },
  {
   "cell_type": "markdown",
   "metadata": {},
   "source": [
    "Creation of a complete record is not shown here as it relies on values produced by performing a calculation, and the results_dict terms are specific to the calculation/record styles."
   ]
  },
  {
   "cell_type": "markdown",
   "metadata": {
    "deletable": true,
    "editable": true
   },
   "source": [
    "- - -"
   ]
  },
  {
   "cell_type": "markdown",
   "metadata": {
    "deletable": true,
    "editable": true
   },
   "source": [
    "__Docs Navigation:__\n",
    "\n",
    "Tutorial:\n",
    "\n",
    "1. [Basics](../tutorial/1 Basics.ipynb)\n",
    "\n",
    "Reference:\n",
    "\n",
    "- [iprPy](../reference/iprPy.ipynb)\n",
    "\n",
    "- [iprPy.calculations](../reference/iprPy.convert.ipynb)\n",
    "\n",
    "- [iprPy.databases](../reference/iprPy.databases.ipynb)\n",
    "\n",
    "- [iprPy.highthroughput](../reference/iprPy.highthroughput.ipynb)\n",
    "\n",
    "- [iprPy.input](../reference/iprPy.input.ipynb)\n",
    "\n",
    "- [iprPy.prepare](../reference/iprPy.prepare.ipynb)\n",
    "\n",
    "- [iprPy.records](../reference/iprPy.records.ipynb)\n",
    "\n",
    "- [iprPy.tools](../reference/iprPy.tools.ipynb)"
   ]
  }
 ],
 "metadata": {
  "kernelspec": {
   "display_name": "Python 2",
   "language": "python",
   "name": "python2"
  },
  "language_info": {
   "codemirror_mode": {
    "name": "ipython",
    "version": 2
   },
   "file_extension": ".py",
   "mimetype": "text/x-python",
   "name": "python",
   "nbconvert_exporter": "python",
   "pygments_lexer": "ipython2",
   "version": "2.7.13"
  }
 },
 "nbformat": 4,
 "nbformat_minor": 0
}
