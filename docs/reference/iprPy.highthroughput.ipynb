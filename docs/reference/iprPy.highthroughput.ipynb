{
 "cells": [
  {
   "cell_type": "markdown",
   "metadata": {
    "deletable": true,
    "editable": true
   },
   "source": [
    "# iprPy.highthroughput Submodule \n",
    "\n",
    "- - -"
   ]
  },
  {
   "cell_type": "markdown",
   "metadata": {
    "deletable": true,
    "editable": true
   },
   "source": [
    "**Lucas M. Hale**, [lucas.hale@nist.gov](mailto:lucas.hale@nist.gov?Subject=ipr-demo), *Materials Science and Engineering Division, NIST*.\n",
    "\n",
    "**Chandler A. Becker**, [chandler.becker@nist.gov](mailto:chandler.becker@nist.gov?Subject=ipr-demo), *Office of Data and Informatics, NIST*.\n",
    "\n",
    "**Zachary T. Trautt**, [zachary.trautt@nist.gov](mailto:zachary.trautt@nist.gov?Subject=ipr-demo), *Materials Measurement Science Division, NIST*.\n",
    "\n",
    "Version: 2017-05-03\n",
    "\n",
    "[Disclaimers](http://www.nist.gov/public_affairs/disclaimer.cfm) \n",
    " \n",
    "- - -"
   ]
  },
  {
   "cell_type": "markdown",
   "metadata": {
    "deletable": true,
    "editable": true
   },
   "source": [
    "## Introduction\n",
    "\n",
    "The iprPy.highthroughput submodule consists of functions designed for interacting with the calculations and records consistent with high-throughout runs."
   ]
  },
  {
   "cell_type": "markdown",
   "metadata": {
    "deletable": true,
    "editable": true
   },
   "source": [
    "## Functions\n",
    "\n",
    "- [build(dbase, lib_directory=None)](iprPy.highthroughput.build.ipynb) fills a database with all reference library records.\n",
    "\n",
    "- [check(dbase=None, run_directory=None, record_style=None)](iprPy.highthroughput.check.ipynb) checks the progress of calculations with a given record style.\n",
    "\n",
    "- [clean(dbase=None, run_directory=None, record_style=None)](iprPy.highthroughput.clean.ipynb) resets error calculations for running again.\n",
    "\n",
    "- [copy(dbase1, dbase2, record_style=None, includetar=True)](iprPy.highthroughput.copy.ipynb) copies records from one database to another.\n",
    "\n",
    "- [destroy(dbase, record_style=None)](iprPy.highthroughput.destroy.ipynb) permanently deletes all records of a given style.\n",
    "\n",
    "- [get_database(name=None)](iprPy.highthroughput.settings.ipynb) accesses database information stored in iprPy settings.\n",
    "\n",
    "- [get_run_directory(name=None)](iprPy.highthroughput.settings.ipynb) accesses run_directory information stored in iprPy settings.\n",
    "\n",
    "- [load_settings()](iprPy.highthroughput.settings.ipynb) accesses iprPy settings.\n",
    "\n",
    "- [prepare(calc_style, dbase, run_directory, input_file=None, input_dict=None)](iprPy.highthroughput.prepare.ipynb) prepares a calculation for high-throughput runs.\n",
    "\n",
    "- [runner(dbase, run_directory, orphan_directory=None)](iprPy.highthroughput.runner.ipynb) cycles through and performs prepared calculations.\n",
    "\n",
    "- [set_database(name=None, style=None, host=None)](iprPy.highthroughput.settings.ipynb) adds database information to iprPy settings.\n",
    "\n",
    "- [set_run_directory(name=None, path=None)](iprPy.highthroughput.settings.ipynb) adds run_directory information to iprPy settings.\n",
    "\n",
    "- [unset_database(name=None)](iprPy.highthroughput.settings.ipynb) deletes database information from iprPy settings. "
   ]
  },
  {
   "cell_type": "markdown",
   "metadata": {
    "deletable": true,
    "editable": true
   },
   "source": [
    "- - -"
   ]
  },
  {
   "cell_type": "markdown",
   "metadata": {
    "deletable": true,
    "editable": true
   },
   "source": [
    "__Docs Navigation:__\n",
    "\n",
    "Tutorial:\n",
    "\n",
    "1. [Basics](../tutorial/1 Basics.ipynb)\n",
    "\n",
    "Reference:\n",
    "\n",
    "- [iprPy](../reference/iprPy.ipynb)\n",
    "\n",
    "- [iprPy.calculations](../reference/iprPy.convert.ipynb)\n",
    "\n",
    "- [iprPy.databases](../reference/iprPy.databases.ipynb)\n",
    "\n",
    "- [iprPy.highthroughput](../reference/iprPy.highthroughput.ipynb)\n",
    "\n",
    "- [iprPy.input](../reference/iprPy.input.ipynb)\n",
    "\n",
    "- [iprPy.prepare](../reference/iprPy.prepare.ipynb)\n",
    "\n",
    "- [iprPy.records](../reference/iprPy.records.ipynb)\n",
    "\n",
    "- [iprPy.tools](../reference/iprPy.tools.ipynb)"
   ]
  }
 ],
 "metadata": {
  "kernelspec": {
   "display_name": "Python 2",
   "language": "python",
   "name": "python2"
  },
  "language_info": {
   "codemirror_mode": {
    "name": "ipython",
    "version": 2
   },
   "file_extension": ".py",
   "mimetype": "text/x-python",
   "name": "python",
   "nbconvert_exporter": "python",
   "pygments_lexer": "ipython2",
   "version": "2.7.13"
  }
 },
 "nbformat": 4,
 "nbformat_minor": 0
}
