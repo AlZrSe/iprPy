{
 "cells": [
  {
   "cell_type": "markdown",
   "metadata": {
    "deletable": true,
    "editable": true
   },
   "source": [
    "# iprPy.prepare.icalculations(database, record_style=None, symbol=None, prototype=None, potential=None)\n",
    "\n",
    "- - -"
   ]
  },
  {
   "cell_type": "markdown",
   "metadata": {
    "deletable": true,
    "editable": true
   },
   "source": [
    "**Lucas M. Hale**, [lucas.hale@nist.gov](mailto:lucas.hale@nist.gov?Subject=ipr-demo), *Materials Science and Engineering Division, NIST*.\n",
    "\n",
    "**Chandler A. Becker**, [chandler.becker@nist.gov](mailto:chandler.becker@nist.gov?Subject=ipr-demo), *Office of Data and Informatics, NIST*.\n",
    "\n",
    "**Zachary T. Trautt**, [zachary.trautt@nist.gov](mailto:zachary.trautt@nist.gov?Subject=ipr-demo), *Materials Measurement Science Division, NIST*.\n",
    "\n",
    "Version: 2017-05-05\n",
    "\n",
    "[Disclaimers](http://www.nist.gov/public_affairs/disclaimer.cfm) \n",
    " \n",
    "- - -"
   ]
  },
  {
   "cell_type": "markdown",
   "metadata": {
    "deletable": true,
    "editable": true
   },
   "source": [
    "## Introduction\n",
    "\n",
    "The icalculations function iterates over all calculation records of a specified record_style in a database that match limiting symbol, potential and prototype conditions. If no condition limiters are used, then all records of the given style are iterated over. The matching records are yielded as iprPy.Record objects.\n",
    "       \n",
    "Arguments:\n",
    "\n",
    "- __database__ is an iprPy.Database object for the database being accessed.\n",
    "    \n",
    "- __record_style__ is the string name for the record style to get records from the database for.\n",
    "      \n",
    "- __symbol__ is either a single string or list of string element models symbols. Only potentials that contain models for at least one of the listed symbols will be returned. Default value is None (i.e. no selection by symbol).\n",
    "      \n",
    "- __prototype__ is either a single string or list of string names for the prototypes to include. Default value is None (i.e. no selection by prototype).\n",
    "      \n",
    "- __potential__ is either a single string or list of string name or list of names for the potentials to include. Default value is None (i.e. no selection by potential).\n",
    "\n",
    "The underlying code can be found in [iprPy/prepare/icalculations.py](../../iprPy/prepare/icalculations.py)."
   ]
  },
  {
   "cell_type": "markdown",
   "metadata": {
    "deletable": true,
    "editable": true
   },
   "source": [
    "## Demonstration"
   ]
  },
  {
   "cell_type": "markdown",
   "metadata": {
    "deletable": true,
    "editable": true
   },
   "source": [
    "Library imports"
   ]
  },
  {
   "cell_type": "code",
   "execution_count": 1,
   "metadata": {
    "collapsed": true,
    "deletable": true,
    "editable": true
   },
   "outputs": [],
   "source": [
    "#Standard libraries\n",
    "from __future__ import print_function\n",
    "\n",
    "import pandas as pd\n",
    "import numpy as np\n",
    "\n",
    "#https://github.com/usnistgov/iprPy\n",
    "import iprPy"
   ]
  },
  {
   "cell_type": "markdown",
   "metadata": {
    "deletable": true,
    "editable": true
   },
   "source": [
    "Initialize a Database object to a database containing calculation records."
   ]
  },
  {
   "cell_type": "code",
   "execution_count": 2,
   "metadata": {
    "collapsed": false,
    "deletable": true,
    "editable": true
   },
   "outputs": [],
   "source": [
    "dbase = iprPy.Database('local', 'C:\\\\Users\\\\lmh1\\\\Documents\\\\calculations\\\\ipr\\\\library_test')"
   ]
  },
  {
   "cell_type": "markdown",
   "metadata": {
    "deletable": true,
    "editable": true
   },
   "source": [
    "Use Database and pandas to explore the calculation-cohesive-energy-relation records."
   ]
  },
  {
   "cell_type": "code",
   "execution_count": 3,
   "metadata": {
    "collapsed": false,
    "deletable": true,
    "editable": true
   },
   "outputs": [
    {
     "name": "stdout",
     "output_type": "stream",
     "text": [
      "57 total records\n",
      "\n",
      "Using potentials:\n",
      "1987--Ackland-G-J--Ag\n",
      "1999--Mishin-Y--Al\n",
      "2006--Chamati-H--Fe\n",
      "\n",
      "and prototypes:\n",
      "A1--Cu--fcc\n",
      "A15--Cr3Si\n",
      "A15--beta-W\n",
      "A2--W--bcc\n",
      "A3'--alpha-La--double-hcp\n",
      "A3--Mg--hcp\n",
      "A4--C--dc\n",
      "A5--beta-Sn\n",
      "A6--In--bct\n",
      "A7--alpha-As\n",
      "Ah--alpha-Po--sc\n",
      "B1--NaCl--rock-salt\n",
      "B2--CsCl\n",
      "B3--ZnS--cubic-zinc-blende\n",
      "C1--CaF2--fluorite\n",
      "D0_3--BiF3\n",
      "L1_0--AuCu\n",
      "L1_2--AuCu3\n",
      "L2_1--AlCu2Mn--heusler\n"
     ]
    }
   ],
   "source": [
    "calc_df = []\n",
    "for calc in dbase.iget_records(style = 'calculation-cohesive-energy-relation'):\n",
    "    calc_df.append(calc.todict(full=False))\n",
    "calc_df = pd.DataFrame(calc_df)\n",
    "print(len(calc_df), 'total records')\n",
    "print()\n",
    "\n",
    "print('Using potentials:')\n",
    "for pot in np.unique(calc_df.potential_id):\n",
    "    print(pot)\n",
    "print()\n",
    "\n",
    "print('and prototypes:')\n",
    "for proto in np.unique(calc_df.prototype):\n",
    "    print(proto)"
   ]
  },
  {
   "cell_type": "markdown",
   "metadata": {
    "deletable": true,
    "editable": true
   },
   "source": [
    "Using icalculations without any limiters will loop over all records of that style."
   ]
  },
  {
   "cell_type": "code",
   "execution_count": 4,
   "metadata": {
    "collapsed": false,
    "deletable": true,
    "editable": true
   },
   "outputs": [
    {
     "name": "stdout",
     "output_type": "stream",
     "text": [
      "57 records iterated through\n"
     ]
    }
   ],
   "source": [
    "count = 0\n",
    "for calc_record in iprPy.prepare.icalculations(dbase, record_style='calculation-cohesive-energy-relation'):\n",
    "    count += 1\n",
    "print(count, 'records iterated through')"
   ]
  },
  {
   "cell_type": "markdown",
   "metadata": {
    "deletable": true,
    "editable": true
   },
   "source": [
    "Limiting by potential"
   ]
  },
  {
   "cell_type": "code",
   "execution_count": 5,
   "metadata": {
    "collapsed": false,
    "deletable": true,
    "editable": true
   },
   "outputs": [
    {
     "name": "stdout",
     "output_type": "stream",
     "text": [
      "19 records iterated through\n"
     ]
    }
   ],
   "source": [
    "count = 0\n",
    "for calc_record in iprPy.prepare.icalculations(dbase, record_style='calculation-cohesive-energy-relation',\n",
    "                                              potential='1999--Mishin-Y--Al'):\n",
    "    count += 1\n",
    "print(count, 'records iterated through')"
   ]
  },
  {
   "cell_type": "markdown",
   "metadata": {
    "deletable": true,
    "editable": true
   },
   "source": [
    "Limiting by prototype"
   ]
  },
  {
   "cell_type": "code",
   "execution_count": 6,
   "metadata": {
    "collapsed": false,
    "deletable": true,
    "editable": true
   },
   "outputs": [
    {
     "name": "stdout",
     "output_type": "stream",
     "text": [
      "6 records iterated through\n"
     ]
    }
   ],
   "source": [
    "count = 0\n",
    "for calc_record in iprPy.prepare.icalculations(dbase, record_style='calculation-cohesive-energy-relation',\n",
    "                                              prototype=['A1--Cu--fcc', 'A2--W--bcc']):\n",
    "    count += 1\n",
    "print(count, 'records iterated through')"
   ]
  },
  {
   "cell_type": "markdown",
   "metadata": {
    "deletable": true,
    "editable": true
   },
   "source": [
    "Limiting by symbols"
   ]
  },
  {
   "cell_type": "code",
   "execution_count": 7,
   "metadata": {
    "collapsed": false,
    "deletable": true,
    "editable": true
   },
   "outputs": [
    {
     "name": "stdout",
     "output_type": "stream",
     "text": [
      "19 records iterated through\n"
     ]
    }
   ],
   "source": [
    "count = 0\n",
    "for calc_record in iprPy.prepare.icalculations(dbase, record_style='calculation-cohesive-energy-relation', symbol=['Al']):\n",
    "    count += 1\n",
    "print(count, 'records iterated through')"
   ]
  },
  {
   "cell_type": "markdown",
   "metadata": {
    "deletable": true,
    "editable": true
   },
   "source": [
    "- - -"
   ]
  },
  {
   "cell_type": "markdown",
   "metadata": {
    "deletable": true,
    "editable": true
   },
   "source": [
    "__Docs Navigation:__\n",
    "\n",
    "Tutorial:\n",
    "\n",
    "1. [Basics](../tutorial/1 Basics.ipynb)\n",
    "\n",
    "Reference:\n",
    "\n",
    "- [iprPy](../reference/iprPy.ipynb)\n",
    "\n",
    "- [iprPy.calculations](../reference/iprPy.convert.ipynb)\n",
    "\n",
    "- [iprPy.databases](../reference/iprPy.databases.ipynb)\n",
    "\n",
    "- [iprPy.highthroughput](../reference/iprPy.highthroughput.ipynb)\n",
    "\n",
    "- [iprPy.input](../reference/iprPy.input.ipynb)\n",
    "\n",
    "- [iprPy.prepare](../reference/iprPy.prepare.ipynb)\n",
    "\n",
    "- [iprPy.records](../reference/iprPy.records.ipynb)\n",
    "\n",
    "- [iprPy.tools](../reference/iprPy.tools.ipynb)"
   ]
  }
 ],
 "metadata": {
  "kernelspec": {
   "display_name": "Python 2",
   "language": "python",
   "name": "python2"
  },
  "language_info": {
   "codemirror_mode": {
    "name": "ipython",
    "version": 2
   },
   "file_extension": ".py",
   "mimetype": "text/x-python",
   "name": "python",
   "nbconvert_exporter": "python",
   "pygments_lexer": "ipython2",
   "version": "2.7.13"
  }
 },
 "nbformat": 4,
 "nbformat_minor": 0
}
