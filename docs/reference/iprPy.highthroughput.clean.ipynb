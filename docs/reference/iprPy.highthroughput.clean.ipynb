{
 "cells": [
  {
   "cell_type": "markdown",
   "metadata": {
    "deletable": true,
    "editable": true
   },
   "source": [
    "# iprPy High-throughput Clean\n",
    "\n",
    "- - -"
   ]
  },
  {
   "cell_type": "markdown",
   "metadata": {
    "deletable": true,
    "editable": true
   },
   "source": [
    "**Lucas M. Hale**, [lucas.hale@nist.gov](mailto:lucas.hale@nist.gov?Subject=ipr-demo), *Materials Science and Engineering Division, NIST*.\n",
    "\n",
    "**Chandler A. Becker**, [chandler.becker@nist.gov](mailto:chandler.becker@nist.gov?Subject=ipr-demo), *Office of Data and Informatics, NIST*.\n",
    "\n",
    "**Zachary T. Trautt**, [zachary.trautt@nist.gov](mailto:zachary.trautt@nist.gov?Subject=ipr-demo), *Materials Measurement Science Division, NIST*.\n",
    "\n",
    "Version: 2017-05-03\n",
    "\n",
    "[Disclaimers](http://www.nist.gov/public_affairs/disclaimer.cfm) \n",
    " \n",
    "- - -"
   ]
  },
  {
   "cell_type": "markdown",
   "metadata": {
    "deletable": true,
    "editable": true
   },
   "source": [
    "## Introduction\n",
    "\n",
    "The clean routine is useful for running and debugging calculations in that it will reset all calculations of a given style that issued errors. \n",
    "\n",
    "Cleaning calculations consists of a number of steps:\n",
    "\n",
    "- All records of a given style are retrieved from a database and those that issued errors are identified. The records are modified by removing the error field and resetting the status to 'not calculated'.\n",
    "\n",
    "- The tar files associated with the error records are extracted from the database and placed in the run_directory.\n",
    "\n",
    "- All .bid and results.json files for calculation instances in the run directory are deleted.\n",
    "\n",
    "__Note__: Issues are possible if any runners are operating on the run directory when clean is called. This can be avioded either by waiting for the runners to finish, killing the runners, or by using a different run directory.\n",
    "\n",
    "This capability can be accessed in one of three ways:\n",
    "\n",
    "1. Load iprPy in a Python script and directly call the function.\n",
    "\n",
    "2. Run the associated script with an input parameter file.\n",
    "\n",
    "3. Use the iprPy command line with the corresponding option. "
   ]
  },
  {
   "cell_type": "markdown",
   "metadata": {},
   "source": [
    "The underlying code can be found in [iprPy/highthroughput/clean.py](../../iprPy/highthroughput/clean.py)."
   ]
  },
  {
   "cell_type": "markdown",
   "metadata": {
    "deletable": true,
    "editable": true
   },
   "source": [
    "## clean(dbase=None, run_directory=None, record_style=None)\n",
    "\n",
    "This is accessing the function through the iprPy package.\n",
    "\n",
    "Arguments:\n",
    "\n",
    "- __dbase__ is an iprPy.Database object.\n",
    "\n",
    "- __run_directory__ is a directory for running the calculation instances from.\n",
    "\n",
    "- __record_style__ specifies a record style. If not given, all loaded iprPy record styles will be listed and a prompt given."
   ]
  },
  {
   "cell_type": "markdown",
   "metadata": {
    "deletable": true,
    "editable": true
   },
   "source": [
    "## $./clean.py clean.in\n",
    "\n",
    "This is running the associated isolated script with an input parameter file.\n",
    "\n",
    "Input file parameters:\n",
    "\n",
    "- __database__ is the 'style host' for initializing the database.\n",
    "\n",
    "- __database_*__  define any values for any other database initialization parameters named \\*.\n",
    "\n",
    "- __run_directory__ is a directory for running the calculation instances from.\n",
    "\n",
    "- __record_style__ specifies a record style. If not given, all loaded iprPy record styles will be listed and a prompt given."
   ]
  },
  {
   "cell_type": "markdown",
   "metadata": {
    "deletable": true,
    "editable": true
   },
   "source": [
    "## $./iprPy clean [database] [run_directory] [record_style]\n",
    "\n",
    "This is using the associated command line option.\n",
    "\n",
    "Command line options:\n",
    "\n",
    "- __database__ is the name associated with database settings saved to the [.iprPy settings](iprPy.highthroughput.settings.ipynb). If not given, the current stored database names will be listed and a prompt given.\n",
    "\n",
    "- __run_directory__ is a directory for running the calculation instances from. If not given, the current stored run_directory names will be listed and a prompt given.\n",
    "\n",
    "- __record_style__ specifies a record style. If not given, all loaded iprPy record styles will be listed and a prompt given."
   ]
  },
  {
   "cell_type": "markdown",
   "metadata": {
    "deletable": true,
    "editable": true
   },
   "source": [
    "## Demonstration"
   ]
  },
  {
   "cell_type": "markdown",
   "metadata": {
    "deletable": true,
    "editable": true
   },
   "source": [
    "Demonstration is left for the tutorials."
   ]
  },
  {
   "cell_type": "markdown",
   "metadata": {
    "deletable": true,
    "editable": true
   },
   "source": [
    "- - -"
   ]
  },
  {
   "cell_type": "markdown",
   "metadata": {
    "deletable": true,
    "editable": true
   },
   "source": [
    "__Docs Navigation:__\n",
    "\n",
    "Tutorial:\n",
    "\n",
    "1. [Basics](../tutorial/1 Basics.ipynb)\n",
    "\n",
    "Reference:\n",
    "\n",
    "- [iprPy](../reference/iprPy.ipynb)\n",
    "\n",
    "- [iprPy.calculations](../reference/iprPy.convert.ipynb)\n",
    "\n",
    "- [iprPy.databases](../reference/iprPy.databases.ipynb)\n",
    "\n",
    "- [iprPy.highthroughput](../reference/iprPy.highthroughput.ipynb)\n",
    "\n",
    "- [iprPy.input](../reference/iprPy.input.ipynb)\n",
    "\n",
    "- [iprPy.prepare](../reference/iprPy.prepare.ipynb)\n",
    "\n",
    "- [iprPy.records](../reference/iprPy.records.ipynb)\n",
    "\n",
    "- [iprPy.tools](../reference/iprPy.tools.ipynb)"
   ]
  }
 ],
 "metadata": {
  "kernelspec": {
   "display_name": "Python 2",
   "language": "python",
   "name": "python2"
  },
  "language_info": {
   "codemirror_mode": {
    "name": "ipython",
    "version": 2
   },
   "file_extension": ".py",
   "mimetype": "text/x-python",
   "name": "python",
   "nbconvert_exporter": "python",
   "pygments_lexer": "ipython2",
   "version": "2.7.13"
  }
 },
 "nbformat": 4,
 "nbformat_minor": 0
}
