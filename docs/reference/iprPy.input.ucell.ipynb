{
 "cells": [
  {
   "cell_type": "markdown",
   "metadata": {
    "deletable": true,
    "editable": true
   },
   "source": [
    "# iprPy.input.ucell(input_dict, \\*\\*kwargs)\n",
    "\n",
    "- - -"
   ]
  },
  {
   "cell_type": "markdown",
   "metadata": {
    "deletable": true,
    "editable": true
   },
   "source": [
    "**Lucas M. Hale**, [lucas.hale@nist.gov](mailto:lucas.hale@nist.gov?Subject=ipr-demo), *Materials Science and Engineering Division, NIST*.\n",
    "\n",
    "**Chandler A. Becker**, [chandler.becker@nist.gov](mailto:chandler.becker@nist.gov?Subject=ipr-demo), *Office of Data and Informatics, NIST*.\n",
    "\n",
    "**Zachary T. Trautt**, [zachary.trautt@nist.gov](mailto:zachary.trautt@nist.gov?Subject=ipr-demo), *Materials Measurement Science Division, NIST*.\n",
    "\n",
    "Version: 2017-05-05\n",
    "\n",
    "[Disclaimers](http://www.nist.gov/public_affairs/disclaimer.cfm) \n",
    " \n",
    "- - -"
   ]
  },
  {
   "cell_type": "markdown",
   "metadata": {
    "deletable": true,
    "editable": true
   },
   "source": [
    "## Introduction\n",
    "\n",
    "The ucell function uses the load, load_options, box_parameters, and symbols input parameters to construct the ucell atomman.System. First, an atomic configuration is loaded using the load and load_options terms. If box_parameters is specified, then the loaded system's dimensions are scaled accordingly. If symbols is not specified, then the elemental symbol information found in the load file is used (if it exists).\n",
    "  \n",
    "Arguments:\n",
    "\n",
    "- __input_dict__ is a dictionary containing input parameter key-value pairs.\n",
    "\n",
    "- __load__ allows for a replacement parameter key name for 'load'.\n",
    "\n",
    "- __load_options__ allows for a replacement parameter key name for 'load_options'.\n",
    "\n",
    "- __box_parameters__ allows for a replacement parameter key name for 'box_parameters'.\n",
    "\n",
    "- __symbols__ allows for a replacement parameter key name for 'symbols'.\n",
    "\n",
    "- __ucell__ allows for a replacement parameter key name for 'ucell'.\n",
    "\n",
    "The underlying code can be found in [iprPy/input/ucell.py](../../iprPy/input/ucell.py)."
   ]
  },
  {
   "cell_type": "markdown",
   "metadata": {
    "deletable": true,
    "editable": true
   },
   "source": [
    "## Demonstration"
   ]
  },
  {
   "cell_type": "markdown",
   "metadata": {
    "deletable": true,
    "editable": true
   },
   "source": [
    "Library imports"
   ]
  },
  {
   "cell_type": "code",
   "execution_count": 1,
   "metadata": {
    "collapsed": true,
    "deletable": true,
    "editable": true
   },
   "outputs": [],
   "source": [
    "#Standard libraries\n",
    "from __future__ import print_function\n",
    "\n",
    "#https://github.com/usnistgov/iprPy\n",
    "import iprPy"
   ]
  },
  {
   "cell_type": "markdown",
   "metadata": {
    "deletable": true,
    "editable": true
   },
   "source": [
    "Define keywords"
   ]
  },
  {
   "cell_type": "code",
   "execution_count": 2,
   "metadata": {
    "collapsed": false,
    "deletable": true,
    "editable": true
   },
   "outputs": [],
   "source": [
    "input_dict = {}\n",
    "input_dict['load'] = 'system_model files/iprPy.input/A1--Cu--fcc.json'\n",
    "input_dict['box_parameters'] = '4.05 4.05 4.05'\n",
    "input_dict['symbols'] = 'Al'"
   ]
  },
  {
   "cell_type": "markdown",
   "metadata": {},
   "source": [
    "The ucell function needs to have the units terms already defined."
   ]
  },
  {
   "cell_type": "code",
   "execution_count": 3,
   "metadata": {
    "collapsed": true
   },
   "outputs": [],
   "source": [
    "iprPy.input.units(input_dict)"
   ]
  },
  {
   "cell_type": "markdown",
   "metadata": {
    "deletable": true,
    "editable": true
   },
   "source": [
    "Call ucell."
   ]
  },
  {
   "cell_type": "code",
   "execution_count": 4,
   "metadata": {
    "collapsed": false,
    "deletable": true,
    "editable": true
   },
   "outputs": [
    {
     "name": "stdout",
     "output_type": "stream",
     "text": [
      "{'load': 'system_model files/iprPy.input/A1--Cu--fcc.json', 'load_options': None, 'length_unit': 'angstrom', 'symbols': ['Al'], 'energy_unit': 'eV', 'force_unit': 'eV/angstrom', 'box_parameters': '4.05 4.05 4.05', 'ucell': <atomman.core.System.System object at 0x0000000007E16828>, 'pressure_unit': 'GPa'}\n"
     ]
    }
   ],
   "source": [
    "iprPy.input.ucell(input_dict)\n",
    "print(input_dict)"
   ]
  },
  {
   "cell_type": "markdown",
   "metadata": {},
   "source": [
    "input_dict['ucell'] is added, which is an [atomman.System]() based on the loaded file and box_parameters."
   ]
  },
  {
   "cell_type": "code",
   "execution_count": 5,
   "metadata": {
    "collapsed": false
   },
   "outputs": [
    {
     "name": "stdout",
     "output_type": "stream",
     "text": [
      "avect =  [ 4.050,  0.000,  0.000]\n",
      "bvect =  [ 0.000,  4.050,  0.000]\n",
      "cvect =  [ 0.000,  0.000,  4.050]\n",
      "origin = [ 0.000,  0.000,  0.000]\n",
      "natoms = 4\n",
      "natypes = 1\n",
      "     id |   atype |  pos[0] |  pos[1] |  pos[2]\n",
      "      0 |       1 |   0.000 |   0.000 |   0.000\n",
      "      1 |       1 |   0.000 |   2.025 |   2.025\n",
      "      2 |       1 |   2.025 |   0.000 |   2.025\n",
      "      3 |       1 |   2.025 |   2.025 |   0.000\n"
     ]
    }
   ],
   "source": [
    "print(input_dict['ucell'])"
   ]
  },
  {
   "cell_type": "markdown",
   "metadata": {},
   "source": [
    "input_dict['symbols'] has also been converted to a list."
   ]
  },
  {
   "cell_type": "code",
   "execution_count": 6,
   "metadata": {
    "collapsed": false
   },
   "outputs": [
    {
     "name": "stdout",
     "output_type": "stream",
     "text": [
      "['Al']\n"
     ]
    }
   ],
   "source": [
    "print(input_dict['symbols'])"
   ]
  },
  {
   "cell_type": "markdown",
   "metadata": {
    "deletable": true,
    "editable": true
   },
   "source": [
    "The default term name(s) can be changed using keyword arguments."
   ]
  },
  {
   "cell_type": "code",
   "execution_count": 7,
   "metadata": {
    "collapsed": false,
    "deletable": true,
    "editable": true
   },
   "outputs": [
    {
     "name": "stdout",
     "output_type": "stream",
     "text": [
      "pressure_unit =\n",
      "GPa\n",
      "\n",
      "ucell2 =\n",
      "avect =  [ 4.050,  0.000,  0.000]\n",
      "bvect =  [ 0.000,  4.050,  0.000]\n",
      "cvect =  [ 0.000,  0.000,  4.050]\n",
      "origin = [ 0.000,  0.000,  0.000]\n",
      "natoms = 4\n",
      "natypes = 1\n",
      "     id |   atype |  pos[0] |  pos[1] |  pos[2]\n",
      "      0 |       1 |   0.000 |   0.000 |   0.000\n",
      "      1 |       1 |   0.000 |   2.025 |   2.025\n",
      "      2 |       1 |   2.025 |   0.000 |   2.025\n",
      "      3 |       1 |   2.025 |   2.025 |   0.000\n",
      "\n",
      "box_parameters2 =\n",
      "4.05 4.05 4.05\n",
      "\n",
      "length_unit =\n",
      "angstrom\n",
      "\n",
      "energy_unit =\n",
      "eV\n",
      "\n",
      "force_unit =\n",
      "eV/angstrom\n",
      "\n",
      "load2 =\n",
      "system_model files/iprPy.input/A1--Cu--fcc.json\n",
      "\n",
      "load_options2 =\n",
      "None\n",
      "\n",
      "symbols2 =\n",
      "['Al']\n",
      "\n"
     ]
    }
   ],
   "source": [
    "input_dict = {}\n",
    "input_dict['load2'] = 'system_model files/iprPy.input/A1--Cu--fcc.json'\n",
    "input_dict['box_parameters2'] = '4.05 4.05 4.05'\n",
    "input_dict['symbols2'] = 'Al'\n",
    "iprPy.input.units(input_dict)\n",
    "\n",
    "#Call ucell, but have it save to 'load2', etc. instead of 'load', etc.\n",
    "iprPy.input.ucell(input_dict, \n",
    "                  load='load2', load_options='load_options2',\n",
    "                  box_parameters='box_parameters2', \n",
    "                  symbols='symbols2', \n",
    "                  ucell='ucell2')\n",
    "\n",
    "for key in input_dict:\n",
    "    print(key, '=')\n",
    "    print(input_dict[key])\n",
    "    print()"
   ]
  },
  {
   "cell_type": "markdown",
   "metadata": {
    "deletable": true,
    "editable": true
   },
   "source": [
    "- - -"
   ]
  },
  {
   "cell_type": "markdown",
   "metadata": {
    "deletable": true,
    "editable": true
   },
   "source": [
    "__Docs Navigation:__\n",
    "\n",
    "Tutorial:\n",
    "\n",
    "1. [Basics](../tutorial/1 Basics.ipynb)\n",
    "\n",
    "Reference:\n",
    "\n",
    "- [iprPy](../reference/iprPy.ipynb)\n",
    "\n",
    "- [iprPy.calculations](../reference/iprPy.convert.ipynb)\n",
    "\n",
    "- [iprPy.databases](../reference/iprPy.databases.ipynb)\n",
    "\n",
    "- [iprPy.highthroughput](../reference/iprPy.highthroughput.ipynb)\n",
    "\n",
    "- [iprPy.input](../reference/iprPy.input.ipynb)\n",
    "\n",
    "- [iprPy.prepare](../reference/iprPy.prepare.ipynb)\n",
    "\n",
    "- [iprPy.records](../reference/iprPy.records.ipynb)\n",
    "\n",
    "- [iprPy.tools](../reference/iprPy.tools.ipynb)"
   ]
  }
 ],
 "metadata": {
  "kernelspec": {
   "display_name": "Python 2",
   "language": "python",
   "name": "python2"
  },
  "language_info": {
   "codemirror_mode": {
    "name": "ipython",
    "version": 2
   },
   "file_extension": ".py",
   "mimetype": "text/x-python",
   "name": "python",
   "nbconvert_exporter": "python",
   "pygments_lexer": "ipython2",
   "version": "2.7.13"
  }
 },
 "nbformat": 4,
 "nbformat_minor": 0
}
