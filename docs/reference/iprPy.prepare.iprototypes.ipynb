{
 "cells": [
  {
   "cell_type": "markdown",
   "metadata": {
    "deletable": true,
    "editable": true
   },
   "source": [
    "# iprPy.prepare.iprototypes(database, record_style='crystal-prototype', natypes=None, name=None, spacegroup=None, crystalfamily=None, pearson=None)\n",
    "\n",
    "- - -"
   ]
  },
  {
   "cell_type": "markdown",
   "metadata": {
    "deletable": true,
    "editable": true
   },
   "source": [
    "**Lucas M. Hale**, [lucas.hale@nist.gov](mailto:lucas.hale@nist.gov?Subject=ipr-demo), *Materials Science and Engineering Division, NIST*.\n",
    "\n",
    "**Chandler A. Becker**, [chandler.becker@nist.gov](mailto:chandler.becker@nist.gov?Subject=ipr-demo), *Office of Data and Informatics, NIST*.\n",
    "\n",
    "**Zachary T. Trautt**, [zachary.trautt@nist.gov](mailto:zachary.trautt@nist.gov?Subject=ipr-demo), *Materials Measurement Science Division, NIST*.\n",
    "\n",
    "Version: 2017-05-05\n",
    "\n",
    "[Disclaimers](http://www.nist.gov/public_affairs/disclaimer.cfm) \n",
    " \n",
    "- - -"
   ]
  },
  {
   "cell_type": "markdown",
   "metadata": {
    "deletable": true,
    "editable": true
   },
   "source": [
    "## Introduction\n",
    "\n",
    "The iprototypes function iterates over all crystal prototyle records of a specified record_style in a database that match limiting natypes, name, spacegroup, crystalfamily and pearson conditions. If no condition limiters are used, then all records of the given style are iterated over. The matching records are yielded as iprPy.Record objects.\n",
    "       \n",
    "Arguments:\n",
    "\n",
    "- __database__ is an iprPy.Database object for the database being accessed.\n",
    "    \n",
    "- __record_style__ is the string name for the record style to get records from the database for. Default value is 'LAMMPS-potential'.\n",
    "\n",
    "- __natypes__ is either a single integer or list of integers for the number of atom types (i.e. sites) that the prototype must have. Default value is None (i.e. no selection by natypes).\n",
    "    \n",
    "- __name__ is either a single string or list of string names for the prototypes to include. Search uses prototypes's id, name, prototype, and Strukturbericht terms. Default value is None (i.e. no selection by name).\n",
    "      \n",
    "- __spacegroup__ is either a single string or list of string crystal space group to limit by. Search uses space group number, H-M and Schoenflies names. Default value is None (i.e. no selection by space group).\n",
    "      \n",
    "- __crystalfamily__ is either a single string or list of string crystal families to limit by. Default value is None (i.e. no selection by crystal family).\n",
    "      \n",
    "- __pearson__ is either a single string or list of string Pearson symbols to limit by. Default value is None (i.e. no selection by Pearson symbol).\n",
    "\n",
    "The underlying code can be found in [iprPy/prepare/iprototypes.py](../../iprPy/prepare/iprototypes.py)."
   ]
  },
  {
   "cell_type": "markdown",
   "metadata": {
    "deletable": true,
    "editable": true
   },
   "source": [
    "## Demonstration"
   ]
  },
  {
   "cell_type": "markdown",
   "metadata": {
    "deletable": true,
    "editable": true
   },
   "source": [
    "Library imports"
   ]
  },
  {
   "cell_type": "code",
   "execution_count": 1,
   "metadata": {
    "collapsed": true,
    "deletable": true,
    "editable": true
   },
   "outputs": [],
   "source": [
    "#Standard libraries\n",
    "from __future__ import print_function\n",
    "\n",
    "#https://github.com/usnistgov/iprPy\n",
    "import iprPy"
   ]
  },
  {
   "cell_type": "markdown",
   "metadata": {
    "deletable": true,
    "editable": true
   },
   "source": [
    "Initialize a Database object to a database containing calculation records."
   ]
  },
  {
   "cell_type": "code",
   "execution_count": 2,
   "metadata": {
    "collapsed": false,
    "deletable": true,
    "editable": true
   },
   "outputs": [],
   "source": [
    "dbase = iprPy.Database('local', 'C:\\\\Users\\\\lmh1\\\\Documents\\\\calculations\\\\ipr\\\\library_test')"
   ]
  },
  {
   "cell_type": "markdown",
   "metadata": {
    "deletable": true,
    "editable": true
   },
   "source": [
    "Using iprototypes without any limiters will loop over all crystal prototype records."
   ]
  },
  {
   "cell_type": "code",
   "execution_count": 3,
   "metadata": {
    "collapsed": false,
    "deletable": true,
    "editable": true
   },
   "outputs": [
    {
     "name": "stdout",
     "output_type": "stream",
     "text": [
      "A1--Cu--fcc (crystal-prototype)\n",
      "A15--beta-W (crystal-prototype)\n",
      "A15--Cr3Si (crystal-prototype)\n",
      "A2--W--bcc (crystal-prototype)\n",
      "A3'--alpha-La--double-hcp (crystal-prototype)\n",
      "A3--Mg--hcp (crystal-prototype)\n",
      "A4--C--dc (crystal-prototype)\n",
      "A5--beta-Sn (crystal-prototype)\n",
      "A6--In--bct (crystal-prototype)\n",
      "A7--alpha-As (crystal-prototype)\n",
      "Ah--alpha-Po--sc (crystal-prototype)\n",
      "B1--NaCl--rock-salt (crystal-prototype)\n",
      "B2--CsCl (crystal-prototype)\n",
      "B3--ZnS--cubic-zinc-blende (crystal-prototype)\n",
      "C1--CaF2--fluorite (crystal-prototype)\n",
      "D0_3--BiF3 (crystal-prototype)\n",
      "L1_0--AuCu (crystal-prototype)\n",
      "L1_2--AuCu3 (crystal-prototype)\n",
      "L2_1--AlCu2Mn--heusler (crystal-prototype)\n"
     ]
    }
   ],
   "source": [
    "for calc_record in iprPy.prepare.iprototypes(dbase):\n",
    "    print(calc_record)"
   ]
  },
  {
   "cell_type": "markdown",
   "metadata": {
    "deletable": true,
    "editable": true
   },
   "source": [
    "Limiting by name"
   ]
  },
  {
   "cell_type": "code",
   "execution_count": 4,
   "metadata": {
    "collapsed": false,
    "deletable": true,
    "editable": true
   },
   "outputs": [
    {
     "name": "stdout",
     "output_type": "stream",
     "text": [
      "A2--W--bcc (crystal-prototype)\n",
      "A5--beta-Sn (crystal-prototype)\n",
      "B1--NaCl--rock-salt (crystal-prototype)\n"
     ]
    }
   ],
   "source": [
    "names = ['A2--W--bcc', 'NaCl', 'A5']\n",
    "\n",
    "for calc_record in iprPy.prepare.iprototypes(dbase, name=names):\n",
    "    print(calc_record)"
   ]
  },
  {
   "cell_type": "markdown",
   "metadata": {
    "deletable": true,
    "editable": true
   },
   "source": [
    "Limiting by natypes"
   ]
  },
  {
   "cell_type": "code",
   "execution_count": 5,
   "metadata": {
    "collapsed": false,
    "deletable": true,
    "editable": true
   },
   "outputs": [
    {
     "name": "stdout",
     "output_type": "stream",
     "text": [
      "A1--Cu--fcc (crystal-prototype)\n",
      "A15--beta-W (crystal-prototype)\n",
      "A2--W--bcc (crystal-prototype)\n",
      "A3'--alpha-La--double-hcp (crystal-prototype)\n",
      "A3--Mg--hcp (crystal-prototype)\n",
      "A4--C--dc (crystal-prototype)\n",
      "A5--beta-Sn (crystal-prototype)\n",
      "A6--In--bct (crystal-prototype)\n",
      "A7--alpha-As (crystal-prototype)\n",
      "Ah--alpha-Po--sc (crystal-prototype)\n"
     ]
    }
   ],
   "source": [
    "for calc_record in iprPy.prepare.iprototypes(dbase, natypes=1):\n",
    "    print(calc_record)"
   ]
  },
  {
   "cell_type": "markdown",
   "metadata": {
    "deletable": true,
    "editable": true
   },
   "source": [
    "Limiting by spacegroup"
   ]
  },
  {
   "cell_type": "code",
   "execution_count": 6,
   "metadata": {
    "collapsed": false,
    "deletable": true,
    "editable": true
   },
   "outputs": [
    {
     "name": "stdout",
     "output_type": "stream",
     "text": [
      "A1--Cu--fcc (crystal-prototype)\n",
      "A2--W--bcc (crystal-prototype)\n",
      "B1--NaCl--rock-salt (crystal-prototype)\n",
      "C1--CaF2--fluorite (crystal-prototype)\n",
      "D0_3--BiF3 (crystal-prototype)\n",
      "L2_1--AlCu2Mn--heusler (crystal-prototype)\n"
     ]
    }
   ],
   "source": [
    "spacegroups = [225, 'I m -3 m']\n",
    "\n",
    "for calc_record in iprPy.prepare.iprototypes(dbase, spacegroup=spacegroups):\n",
    "    print(calc_record)"
   ]
  },
  {
   "cell_type": "markdown",
   "metadata": {
    "deletable": true,
    "editable": true
   },
   "source": [
    "Limiting by crystalfamily"
   ]
  },
  {
   "cell_type": "code",
   "execution_count": 7,
   "metadata": {
    "collapsed": false,
    "deletable": true,
    "editable": true
   },
   "outputs": [
    {
     "name": "stdout",
     "output_type": "stream",
     "text": [
      "A5--beta-Sn (crystal-prototype)\n",
      "A6--In--bct (crystal-prototype)\n",
      "L1_0--AuCu (crystal-prototype)\n"
     ]
    }
   ],
   "source": [
    "for calc_record in iprPy.prepare.iprototypes(dbase, crystalfamily='tetragonal'):\n",
    "    print(calc_record)"
   ]
  },
  {
   "cell_type": "markdown",
   "metadata": {
    "deletable": true,
    "editable": true
   },
   "source": [
    "- - -"
   ]
  },
  {
   "cell_type": "markdown",
   "metadata": {
    "deletable": true,
    "editable": true
   },
   "source": [
    "__Docs Navigation:__\n",
    "\n",
    "Tutorial:\n",
    "\n",
    "1. [Basics](../tutorial/1 Basics.ipynb)\n",
    "\n",
    "Reference:\n",
    "\n",
    "- [iprPy](../reference/iprPy.ipynb)\n",
    "\n",
    "- [iprPy.calculations](../reference/iprPy.convert.ipynb)\n",
    "\n",
    "- [iprPy.databases](../reference/iprPy.databases.ipynb)\n",
    "\n",
    "- [iprPy.highthroughput](../reference/iprPy.highthroughput.ipynb)\n",
    "\n",
    "- [iprPy.input](../reference/iprPy.input.ipynb)\n",
    "\n",
    "- [iprPy.prepare](../reference/iprPy.prepare.ipynb)\n",
    "\n",
    "- [iprPy.records](../reference/iprPy.records.ipynb)\n",
    "\n",
    "- [iprPy.tools](../reference/iprPy.tools.ipynb)"
   ]
  }
 ],
 "metadata": {
  "kernelspec": {
   "display_name": "Python 2",
   "language": "python",
   "name": "python2"
  },
  "language_info": {
   "codemirror_mode": {
    "name": "ipython",
    "version": 2
   },
   "file_extension": ".py",
   "mimetype": "text/x-python",
   "name": "python",
   "nbconvert_exporter": "python",
   "pygments_lexer": "ipython2",
   "version": "2.7.13"
  }
 },
 "nbformat": 4,
 "nbformat_minor": 0
}
