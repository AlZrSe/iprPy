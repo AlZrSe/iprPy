{
 "cells": [
  {
   "cell_type": "markdown",
   "metadata": {
    "deletable": true,
    "editable": true
   },
   "source": [
    "# iprPy High-throughput Copy\n",
    "\n",
    "- - -"
   ]
  },
  {
   "cell_type": "markdown",
   "metadata": {
    "deletable": true,
    "editable": true
   },
   "source": [
    "**Lucas M. Hale**, [lucas.hale@nist.gov](mailto:lucas.hale@nist.gov?Subject=ipr-demo), *Materials Science and Engineering Division, NIST*.\n",
    "\n",
    "**Chandler A. Becker**, [chandler.becker@nist.gov](mailto:chandler.becker@nist.gov?Subject=ipr-demo), *Office of Data and Informatics, NIST*.\n",
    "\n",
    "**Zachary T. Trautt**, [zachary.trautt@nist.gov](mailto:zachary.trautt@nist.gov?Subject=ipr-demo), *Materials Measurement Science Division, NIST*.\n",
    "\n",
    "Version: 2017-05-03\n",
    "\n",
    "[Disclaimers](http://www.nist.gov/public_affairs/disclaimer.cfm) \n",
    " \n",
    "- - -"
   ]
  },
  {
   "cell_type": "markdown",
   "metadata": {
    "deletable": true,
    "editable": true
   },
   "source": [
    "## Introduction\n",
    "\n",
    "The coly routine will copy all records (and associated tars) of a specified record style from one database to another.\n",
    "\n",
    "This capability can be accessed in one of three ways:\n",
    "\n",
    "1. Load iprPy in a Python script and directly call the function.\n",
    "\n",
    "2. Run the associated script with an input parameter file.\n",
    "\n",
    "3. Use the iprPy command line with the corresponding option. "
   ]
  },
  {
   "cell_type": "markdown",
   "metadata": {},
   "source": [
    "The underlying code can be found in [iprPy/highthroughput/copy.py](../../iprPy/highthroughput/copy.py)."
   ]
  },
  {
   "cell_type": "markdown",
   "metadata": {
    "deletable": true,
    "editable": true
   },
   "source": [
    "## copy(dbase1, dbase2, record_style=None, includetar=True)\n",
    "\n",
    "This is accessing the function through the iprPy package.\n",
    "\n",
    "Arguments:\n",
    "\n",
    "- __dbase1__ is an iprPy.Database object. This is the database to copy from.\n",
    "\n",
    "- __dbase2__ is an iprPy.Database object. This is the database to copy to.\n",
    "\n",
    "- __record_style__ specifies a record style. If not given, all loaded iprPy record styles will be listed and a prompt given.\n",
    "\n",
    "- __includetar__ is a boolean flag indicating if the associated tar archives are copied with the records. Default value is True (tars will be copied)."
   ]
  },
  {
   "cell_type": "markdown",
   "metadata": {
    "deletable": true,
    "editable": true
   },
   "source": [
    "## $./copy.py copy.in\n",
    "\n",
    "This is running the associated isolated script with an input parameter file.\n",
    "\n",
    "Input file parameters:\n",
    "\n",
    "- __database1__ is the 'style host' for initializing the database to copy from.\n",
    "\n",
    "- __database1_*__  define any values for any other database initialization parameters named \\* for database1.\n",
    "\n",
    "- __database2__ is the 'style host' for initializing the database to copy to.\n",
    "\n",
    "- __database2_*__  define any values for any other database initialization parameters named \\* for database2.\n",
    "\n",
    "- __record_style__ specifies a record style. If not given, all loaded iprPy record styles will be listed and a prompt given.\n",
    "\n",
    "- __includetar__ is a boolean flag indicating if the associated tar archives are copied with the records. Default value is True (tars will be copied)."
   ]
  },
  {
   "cell_type": "markdown",
   "metadata": {
    "deletable": true,
    "editable": true
   },
   "source": [
    "## $./iprPy copy [database1] [database2] [record_style]\n",
    "\n",
    "This is using the associated command line option.\n",
    "\n",
    "Command line options:\n",
    "\n",
    "- __database1__ is the name associated with database settings saved to the [.iprPy settings](iprPy.highthroughput.settings.ipynb). If not given, the current stored database names will be listed and a prompt given. This is the database to copy from.\n",
    "\n",
    "- __database2__ is the name associated with database settings saved to the [.iprPy settings](iprPy.highthroughput.settings.ipynb). If not given, the current stored database names will be listed and a prompt given. This is the database to copy to.\n",
    "\n",
    "- __record_style__ specifies a record style. If not given, all loaded iprPy record styles will be listed and a prompt given."
   ]
  },
  {
   "cell_type": "markdown",
   "metadata": {
    "deletable": true,
    "editable": true
   },
   "source": [
    "## Demonstration"
   ]
  },
  {
   "cell_type": "markdown",
   "metadata": {
    "deletable": true,
    "editable": true
   },
   "source": [
    "Demonstration is left for the tutorials."
   ]
  },
  {
   "cell_type": "markdown",
   "metadata": {
    "deletable": true,
    "editable": true
   },
   "source": [
    "- - -"
   ]
  },
  {
   "cell_type": "markdown",
   "metadata": {
    "deletable": true,
    "editable": true
   },
   "source": [
    "__Docs Navigation:__\n",
    "\n",
    "Tutorial:\n",
    "\n",
    "1. [Basics](../tutorial/1 Basics.ipynb)\n",
    "\n",
    "Reference:\n",
    "\n",
    "- [iprPy](../reference/iprPy.ipynb)\n",
    "\n",
    "- [iprPy.calculations](../reference/iprPy.convert.ipynb)\n",
    "\n",
    "- [iprPy.databases](../reference/iprPy.databases.ipynb)\n",
    "\n",
    "- [iprPy.highthroughput](../reference/iprPy.highthroughput.ipynb)\n",
    "\n",
    "- [iprPy.input](../reference/iprPy.input.ipynb)\n",
    "\n",
    "- [iprPy.prepare](../reference/iprPy.prepare.ipynb)\n",
    "\n",
    "- [iprPy.records](../reference/iprPy.records.ipynb)\n",
    "\n",
    "- [iprPy.tools](../reference/iprPy.tools.ipynb)"
   ]
  }
 ],
 "metadata": {
  "kernelspec": {
   "display_name": "Python 2",
   "language": "python",
   "name": "python2"
  },
  "language_info": {
   "codemirror_mode": {
    "name": "ipython",
    "version": 2
   },
   "file_extension": ".py",
   "mimetype": "text/x-python",
   "name": "python",
   "nbconvert_exporter": "python",
   "pygments_lexer": "ipython2",
   "version": "2.7.13"
  }
 },
 "nbformat": 4,
 "nbformat_minor": 0
}
