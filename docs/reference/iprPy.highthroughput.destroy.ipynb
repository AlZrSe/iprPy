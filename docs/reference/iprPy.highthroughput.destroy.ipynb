{
 "cells": [
  {
   "cell_type": "markdown",
   "metadata": {
    "deletable": true,
    "editable": true
   },
   "source": [
    "# iprPy High-throughput Destroy\n",
    "\n",
    "- - -"
   ]
  },
  {
   "cell_type": "markdown",
   "metadata": {
    "deletable": true,
    "editable": true
   },
   "source": [
    "**Lucas M. Hale**, [lucas.hale@nist.gov](mailto:lucas.hale@nist.gov?Subject=ipr-demo), *Materials Science and Engineering Division, NIST*.\n",
    "\n",
    "**Chandler A. Becker**, [chandler.becker@nist.gov](mailto:chandler.becker@nist.gov?Subject=ipr-demo), *Office of Data and Informatics, NIST*.\n",
    "\n",
    "**Zachary T. Trautt**, [zachary.trautt@nist.gov](mailto:zachary.trautt@nist.gov?Subject=ipr-demo), *Materials Measurement Science Division, NIST*.\n",
    "\n",
    "Version: 2017-05-03\n",
    "\n",
    "[Disclaimers](http://www.nist.gov/public_affairs/disclaimer.cfm) \n",
    " \n",
    "- - -"
   ]
  },
  {
   "cell_type": "markdown",
   "metadata": {
    "deletable": true,
    "editable": true
   },
   "source": [
    "## Introduction\n",
    "\n",
    "The destroy routine will delete all records and associated tar files of a given record style within a database. A verification prompt will be given, which requires the full 'yes' to be entered in order to delete. \n",
    "\n",
    "__Note__: This permanently deletes all records of the given style.\n",
    "\n",
    "This capability can be accessed in one of three ways:\n",
    "\n",
    "1. Load iprPy in a Python script and directly call the function.\n",
    "\n",
    "2. Run the associated script with an input parameter file.\n",
    "\n",
    "3. Use the iprPy command line with the corresponding option. "
   ]
  },
  {
   "cell_type": "markdown",
   "metadata": {},
   "source": [
    "The underlying code can be found in [iprPy/highthroughput/destroy.py](../../iprPy/highthroughput/destroy.py)."
   ]
  },
  {
   "cell_type": "markdown",
   "metadata": {
    "deletable": true,
    "editable": true
   },
   "source": [
    "## destroy(dbase, record_style=None)\n",
    "\n",
    "This is accessing the function through the iprPy package.\n",
    "\n",
    "Arguments:\n",
    "\n",
    "- __dbase__ is an iprPy.Database object.\n",
    "\n",
    "- __record_style__ specifies a record style. If not given, all loaded iprPy record styles will be listed and a prompt given."
   ]
  },
  {
   "cell_type": "markdown",
   "metadata": {
    "deletable": true,
    "editable": true
   },
   "source": [
    "## $./destroy.py destroy.in\n",
    "\n",
    "This is running the associated isolated script with an input parameter file.\n",
    "\n",
    "Input file parameters:\n",
    "\n",
    "- __database__ is the 'style host' for initializing the database.\n",
    "\n",
    "- __database_*__  define any values for any other database initialization parameters named \\*.\n",
    "\n",
    "- __record_style__ specifies a record style. If not given, all loaded iprPy record styles will be listed and a prompt given."
   ]
  },
  {
   "cell_type": "markdown",
   "metadata": {
    "deletable": true,
    "editable": true
   },
   "source": [
    "## $./iprPy destroy [database] [record_style]\n",
    "\n",
    "This is using the associated command line option.\n",
    "\n",
    "Command line options:\n",
    "\n",
    "- __database__ is the name associated with database settings saved to the [.iprPy settings](iprPy.highthroughput.settings.ipynb). If not given, the current stored database names will be listed and a prompt given.\n",
    "\n",
    "- __record_style__ specifies a record style. If not given, all loaded iprPy record styles will be listed and a prompt given."
   ]
  },
  {
   "cell_type": "markdown",
   "metadata": {
    "deletable": true,
    "editable": true
   },
   "source": [
    "## Demonstration"
   ]
  },
  {
   "cell_type": "markdown",
   "metadata": {
    "deletable": true,
    "editable": true
   },
   "source": [
    "Demonstration is left for the tutorials."
   ]
  },
  {
   "cell_type": "markdown",
   "metadata": {
    "deletable": true,
    "editable": true
   },
   "source": [
    "- - -"
   ]
  },
  {
   "cell_type": "markdown",
   "metadata": {
    "deletable": true,
    "editable": true
   },
   "source": [
    "__Docs Navigation:__\n",
    "\n",
    "Tutorial:\n",
    "\n",
    "1. [Basics](../tutorial/1 Basics.ipynb)\n",
    "\n",
    "Reference:\n",
    "\n",
    "- [iprPy](../reference/iprPy.ipynb)\n",
    "\n",
    "- [iprPy.calculations](../reference/iprPy.convert.ipynb)\n",
    "\n",
    "- [iprPy.databases](../reference/iprPy.databases.ipynb)\n",
    "\n",
    "- [iprPy.highthroughput](../reference/iprPy.highthroughput.ipynb)\n",
    "\n",
    "- [iprPy.input](../reference/iprPy.input.ipynb)\n",
    "\n",
    "- [iprPy.prepare](../reference/iprPy.prepare.ipynb)\n",
    "\n",
    "- [iprPy.records](../reference/iprPy.records.ipynb)\n",
    "\n",
    "- [iprPy.tools](../reference/iprPy.tools.ipynb)"
   ]
  }
 ],
 "metadata": {
  "kernelspec": {
   "display_name": "Python 2",
   "language": "python",
   "name": "python2"
  },
  "language_info": {
   "codemirror_mode": {
    "name": "ipython",
    "version": 2
   },
   "file_extension": ".py",
   "mimetype": "text/x-python",
   "name": "python",
   "nbconvert_exporter": "python",
   "pygments_lexer": "ipython2",
   "version": "2.7.13"
  }
 },
 "nbformat": 4,
 "nbformat_minor": 0
}
