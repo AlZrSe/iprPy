{
 "cells": [
  {
   "cell_type": "markdown",
   "metadata": {
    "deletable": true,
    "editable": true
   },
   "source": [
    "# iprPy.Database tar Archive Access Functions\n",
    "\n",
    "- - -"
   ]
  },
  {
   "cell_type": "markdown",
   "metadata": {
    "deletable": true,
    "editable": true
   },
   "source": [
    "**Lucas M. Hale**, [lucas.hale@nist.gov](mailto:lucas.hale@nist.gov?Subject=ipr-demo), *Materials Science and Engineering Division, NIST*.\n",
    "\n",
    "**Chandler A. Becker**, [chandler.becker@nist.gov](mailto:chandler.becker@nist.gov?Subject=ipr-demo), *Office of Data and Informatics, NIST*.\n",
    "\n",
    "**Zachary T. Trautt**, [zachary.trautt@nist.gov](mailto:zachary.trautt@nist.gov?Subject=ipr-demo), *Materials Measurement Science Division, NIST*.\n",
    "\n",
    "Version: 2017-05-03\n",
    "\n",
    "[Disclaimers](http://www.nist.gov/public_affairs/disclaimer.cfm) \n",
    " \n",
    "- - -"
   ]
  },
  {
   "cell_type": "markdown",
   "metadata": {
    "deletable": true,
    "editable": true
   },
   "source": [
    "## Introduction\n",
    "\n",
    "The Database class offers a number of methods for finding, accessing, changing and deleting the tar calculation archives associated with records. These functions all follow similar conventions on how they handle the information.\n",
    "\n",
    "### add_tar(self, record=None, name=None, style=None, root_dir=None)\n",
    "\n",
    "Archives a folder as a zipped tar file and saves it to the database associated with a particular record. The folder being archived is identified by having a name matching the record's name, and in being located in the specified root_dir. Issues an error if a matching record is not found, or if multiple matching records are found.\n",
    "\n",
    "Aruments:\n",
    "\n",
    "- __record__ is an iprPy.Record object. Cannot be given with the name and style.\n",
    "\n",
    "- __name__ is the name of the record associated with the tar file.\n",
    "\n",
    "- __style__ is the record style for the record associated with the tar file. Can be given with name if the same record name may exist in multiple styles.\n",
    "\n",
    "- __root_dir__ specifies the root directory for finding the folder to archive. If not given, the current working directory is used.\n",
    "\n",
    "### delete_tar(self, record=None, name=None, style=None)\n",
    "\n",
    "Deletes a tar archive associated with a record. Issues an error if a matching record is not found, or if multiple matching records are found. __Deleting a tar is permanent__.\n",
    "\n",
    "Aruments:\n",
    "\n",
    "- __record__ is an iprPy.Record object. Cannot be given with the other arguments.\n",
    "\n",
    "- __name__ is the name of a record in the database.\n",
    "\n",
    "- __style__ is a record style. Can be given with name if the same record name may exist in multiple styles.\n",
    "\n",
    "\n",
    "### get_tar(self, record=None, name=None, style=None)\n",
    "\n",
    "Retrieves the archived tar folder associated with a record. Issues an error if a matching record is not found, or if multiple matching records are found. The retrieved archive is returned as an open Python TarFile object.\n",
    "\n",
    "Aruments:\n",
    "\n",
    "- __record__ is an iprPy.Record object. Cannot be given with the other arguments.\n",
    "\n",
    "- __name__ is the name of a record in the database.\n",
    "\n",
    "- __style__ is a record style. Can be given with name if the same record name may exist in multiple styles.\n",
    "\n",
    "### update_tar(self, record=None, name=None, style=None, root_dir=None)\n",
    "\n",
    "Allows for the content stored in a record's tar archive to be replaced and updated. The folder being archived is identified by having a name matching the record's name, and in being located in the specified root_dir. Issues an error if a matching record is not found, or if multiple matching records are found.\n",
    "\n",
    "Aruments:\n",
    "\n",
    "- __record__ is an iprPy.Record object. Cannot be given with the name and style.\n",
    "\n",
    "- __name__ is the name of the record associated with the tar file.\n",
    "\n",
    "- __style__ is the record style for the record associated with the tar file. Can be given with name if the same record name may exist in multiple styles.\n",
    "\n",
    "- __root_dir__ specifies the root directory for finding the folder to archive. If not given, the current working directory is used.\n",
    "\n",
    "The underlying code can be found in [iprPy/database_functions.py](../../iprPy/database_functions.py)."
   ]
  },
  {
   "cell_type": "markdown",
   "metadata": {
    "deletable": true,
    "editable": true
   },
   "source": [
    "## Demonstration"
   ]
  },
  {
   "cell_type": "markdown",
   "metadata": {
    "deletable": true,
    "editable": true
   },
   "source": [
    "Library Imports"
   ]
  },
  {
   "cell_type": "code",
   "execution_count": 1,
   "metadata": {
    "collapsed": true,
    "deletable": true,
    "editable": true
   },
   "outputs": [],
   "source": [
    "#Standard libraries\n",
    "from __future__ import print_function\n",
    "import os\n",
    "import shutil\n",
    "\n",
    "#https://github.com/usnistgov/DataModelDict\n",
    "from DataModelDict import DataModelDict as DM\n",
    "\n",
    "#https://github.com/usnistgov/iprPy\n",
    "import iprPy"
   ]
  },
  {
   "cell_type": "markdown",
   "metadata": {
    "deletable": true,
    "editable": true
   },
   "source": [
    "Define content for a LAMMPS-potential record by using DataModelDict to convert from JSON to XML."
   ]
  },
  {
   "cell_type": "code",
   "execution_count": 2,
   "metadata": {
    "collapsed": false,
    "deletable": true,
    "editable": true
   },
   "outputs": [],
   "source": [
    "model = DM('''{\n",
    "    \"LAMMPS-potential\": {\n",
    "        \"potential\": {\n",
    "            \"key\": \"dc4149ce-3592-4131-8683-ecf654d5a519\", \n",
    "            \"id\": \"1987--Ackland-G-J--Ag\"\n",
    "        }, \n",
    "        \"units\": \"metal\", \n",
    "        \"atom_style\": \"atomic\", \n",
    "        \"atom\": {\n",
    "            \"element\": \"Ag\", \n",
    "            \"mass\": 107.8682\n",
    "        }, \n",
    "        \"pair_style\": {\n",
    "            \"type\": \"eam/fs\"\n",
    "        }, \n",
    "        \"pair_coeff\": {\n",
    "            \"term\": [\n",
    "                {\n",
    "                    \"file\": \"Ag.eam.fs\"\n",
    "                }, \n",
    "                {\n",
    "                    \"symbols\": \"True\"\n",
    "                }\n",
    "            ]\n",
    "        }\n",
    "    }\n",
    "}''')\n",
    "\n",
    "content = model.xml()"
   ]
  },
  {
   "cell_type": "markdown",
   "metadata": {},
   "source": [
    "Generate a corresponding folder to be archived."
   ]
  },
  {
   "cell_type": "code",
   "execution_count": 3,
   "metadata": {
    "collapsed": true
   },
   "outputs": [],
   "source": [
    "os.mkdir('1987--Ackland-G-J--Ag')\n",
    "with open(os.path.join('1987--Ackland-G-J--Ag', 'test.txt'), 'w') as f:\n",
    "    f.write('test file content!')"
   ]
  },
  {
   "cell_type": "markdown",
   "metadata": {
    "deletable": true,
    "editable": true
   },
   "source": [
    "Initialize a local style database stored in the test directory."
   ]
  },
  {
   "cell_type": "code",
   "execution_count": 4,
   "metadata": {
    "collapsed": false,
    "deletable": true,
    "editable": true
   },
   "outputs": [],
   "source": [
    "dbase = iprPy.Database('local', 'test')"
   ]
  },
  {
   "cell_type": "markdown",
   "metadata": {
    "deletable": true,
    "editable": true
   },
   "source": [
    "Add the record to the database by providing name, style and content. A Record object is initialized based on the arguments and returned."
   ]
  },
  {
   "cell_type": "code",
   "execution_count": 5,
   "metadata": {
    "collapsed": false,
    "deletable": true,
    "editable": true
   },
   "outputs": [],
   "source": [
    "record = dbase.add_record(style='LAMMPS-potential', name='1987--Ackland-G-J--Ag', content=content)"
   ]
  },
  {
   "cell_type": "markdown",
   "metadata": {
    "deletable": true,
    "editable": true
   },
   "source": [
    "Add the associated folder to the database associated with the record."
   ]
  },
  {
   "cell_type": "code",
   "execution_count": 6,
   "metadata": {
    "collapsed": false,
    "deletable": true,
    "editable": true
   },
   "outputs": [],
   "source": [
    "dbase.add_tar(record=record)"
   ]
  },
  {
   "cell_type": "markdown",
   "metadata": {
    "deletable": true,
    "editable": true
   },
   "source": [
    "Retrieve the record as a TarFile object."
   ]
  },
  {
   "cell_type": "code",
   "execution_count": 7,
   "metadata": {
    "collapsed": false,
    "deletable": true,
    "editable": true
   },
   "outputs": [
    {
     "name": "stdout",
     "output_type": "stream",
     "text": [
      "['1987--Ackland-G-J--Ag', '1987--Ackland-G-J--Ag/test.txt']\n"
     ]
    }
   ],
   "source": [
    "tar = dbase.get_tar(record=record)\n",
    "\n",
    "print(tar.getnames())\n",
    "tar.close()"
   ]
  },
  {
   "cell_type": "markdown",
   "metadata": {
    "deletable": true,
    "editable": true
   },
   "source": [
    "Modify the local folder by adding test2.txt"
   ]
  },
  {
   "cell_type": "code",
   "execution_count": 8,
   "metadata": {
    "collapsed": false,
    "deletable": true,
    "editable": true
   },
   "outputs": [],
   "source": [
    "with open(os.path.join('1987--Ackland-G-J--Ag', 'test2.txt'), 'w') as f:\n",
    "    f.write('test file #2 content!')"
   ]
  },
  {
   "cell_type": "markdown",
   "metadata": {
    "deletable": true,
    "editable": true
   },
   "source": [
    "Update the tar archive, then get it from the database to show that it has been changed"
   ]
  },
  {
   "cell_type": "code",
   "execution_count": 9,
   "metadata": {
    "collapsed": false,
    "deletable": true,
    "editable": true
   },
   "outputs": [
    {
     "name": "stdout",
     "output_type": "stream",
     "text": [
      "['1987--Ackland-G-J--Ag', '1987--Ackland-G-J--Ag/test.txt', '1987--Ackland-G-J--Ag/test2.txt']\n"
     ]
    }
   ],
   "source": [
    "dbase.update_tar(record=record)\n",
    "\n",
    "tar = dbase.get_tar(record=record)\n",
    "\n",
    "print(tar.getnames())\n",
    "tar.close()"
   ]
  },
  {
   "cell_type": "markdown",
   "metadata": {
    "deletable": true,
    "editable": true
   },
   "source": [
    "Delete the archive"
   ]
  },
  {
   "cell_type": "code",
   "execution_count": 10,
   "metadata": {
    "collapsed": false,
    "deletable": true,
    "editable": true
   },
   "outputs": [
    {
     "name": "stdout",
     "output_type": "stream",
     "text": [
      "No tar file\n"
     ]
    }
   ],
   "source": [
    "dbase.delete_tar(record=record)\n",
    "\n",
    "try:\n",
    "    tar = dbase.get_tar(record=record)\n",
    "except:\n",
    "    print('No tar file')"
   ]
  },
  {
   "cell_type": "markdown",
   "metadata": {},
   "source": [
    "Cleanup"
   ]
  },
  {
   "cell_type": "code",
   "execution_count": 11,
   "metadata": {
    "collapsed": false
   },
   "outputs": [],
   "source": [
    "dbase.delete_record(name='1987--Ackland-G-J--Ag')\n",
    "shutil.rmtree('1987--Ackland-G-J--Ag')"
   ]
  },
  {
   "cell_type": "markdown",
   "metadata": {
    "deletable": true,
    "editable": true
   },
   "source": [
    "- - -"
   ]
  },
  {
   "cell_type": "markdown",
   "metadata": {
    "deletable": true,
    "editable": true
   },
   "source": [
    "__Docs Navigation:__\n",
    "\n",
    "Tutorial:\n",
    "\n",
    "1. [Basics](../tutorial/1 Basics.ipynb)\n",
    "\n",
    "Reference:\n",
    "\n",
    "- [iprPy](../reference/iprPy.ipynb)\n",
    "\n",
    "- [iprPy.calculations](../reference/iprPy.convert.ipynb)\n",
    "\n",
    "- [iprPy.databases](../reference/iprPy.databases.ipynb)\n",
    "\n",
    "- [iprPy.highthroughput](../reference/iprPy.highthroughput.ipynb)\n",
    "\n",
    "- [iprPy.input](../reference/iprPy.input.ipynb)\n",
    "\n",
    "- [iprPy.prepare](../reference/iprPy.prepare.ipynb)\n",
    "\n",
    "- [iprPy.records](../reference/iprPy.records.ipynb)\n",
    "\n",
    "- [iprPy.tools](../reference/iprPy.tools.ipynb)"
   ]
  }
 ],
 "metadata": {
  "kernelspec": {
   "display_name": "Python 2",
   "language": "python",
   "name": "python2"
  },
  "language_info": {
   "codemirror_mode": {
    "name": "ipython",
    "version": 2
   },
   "file_extension": ".py",
   "mimetype": "text/x-python",
   "name": "python",
   "nbconvert_exporter": "python",
   "pygments_lexer": "ipython2",
   "version": "2.7.13"
  }
 },
 "nbformat": 4,
 "nbformat_minor": 0
}
