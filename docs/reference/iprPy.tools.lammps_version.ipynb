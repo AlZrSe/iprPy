{
 "cells": [
  {
   "cell_type": "markdown",
   "metadata": {
    "deletable": true,
    "editable": true
   },
   "source": [
    "# iprPy.tools.lammps_version Submodule\n",
    "- - -"
   ]
  },
  {
   "cell_type": "markdown",
   "metadata": {
    "deletable": true,
    "editable": true
   },
   "source": [
    "**Lucas M. Hale**, [lucas.hale@nist.gov](mailto:lucas.hale@nist.gov?Subject=ipr-demo), *Materials Science and Engineering Division, NIST*.\n",
    "\n",
    "**Chandler A. Becker**, [chandler.becker@nist.gov](mailto:chandler.becker@nist.gov?Subject=ipr-demo), *Office of Data and Informatics, NIST*.\n",
    "\n",
    "**Zachary T. Trautt**, [zachary.trautt@nist.gov](mailto:zachary.trautt@nist.gov?Subject=ipr-demo), *Materials Measurement Science Division, NIST*.\n",
    "\n",
    "Version: 2017-05-03\n",
    "\n",
    "[Disclaimers](http://www.nist.gov/public_affairs/disclaimer.cfm) \n",
    " \n",
    "- - -"
   ]
  },
  {
   "cell_type": "markdown",
   "metadata": {
    "deletable": true,
    "editable": true
   },
   "source": [
    "## Introduction\n",
    "\n",
    "The iprPy.tools.lammps_version submodule contains some test functions for testing a LAMMPS command. While LAMMPS is fairly consistent across different versions, there are occasionally changes made that alter the syntax of the LAMMPS input command lines. The functions in iprPy.tools.lammps_version are designed to help identify a few known cases of syntax change in recent LAMMPS versions that directly impact input lines that are used by implemented calculations. This allows for the calculations to be compatible across LAMMPS versions."
   ]
  },
  {
   "cell_type": "markdown",
   "metadata": {},
   "source": [
    "## Functions"
   ]
  },
  {
   "cell_type": "markdown",
   "metadata": {},
   "source": [
    "### compute_stress(lammps_command)\n",
    "\n",
    "Identifies the version of the compute stress/atom command supported by the lammps_command given. Newer versions of LAMMPS require a temp-ID term that older versions do not. Returns 0 for the newer version and 1 for the older version.\n",
    "\n",
    "Arguments:\n",
    "\n",
    "- __lammps_command__ -- the path to the LAMMPS executable to test.\n",
    "\n",
    "The underlying code can be found in [iprPy/tools/lammps_version/compute_stress.py](../../iprPy/tools/lammps_version/compute_stress.py)."
   ]
  },
  {
   "cell_type": "markdown",
   "metadata": {
    "deletable": true,
    "editable": true
   },
   "source": [
    "### dump_modify(lammps_command)\n",
    "\n",
    "Identifies the version of the dump_modify command supported by the lammps_command given. In particular, this is used relative to the format option which changed from specifying a c-style format string for all values in a dump line to specifying c-style format strings for each data type. Returns 0 for the newer version and 1 for the older version.\n",
    "\n",
    "Arguments:\n",
    "\n",
    "- __lammps_command__ -- the path to the LAMMPS executable to test.\n",
    "\n",
    "The underlying code can be found in [iprPy/tools/lammps_version/dump_modify.py](../../iprPy/tools/lammps_version/dump_modify.py)."
   ]
  },
  {
   "cell_type": "markdown",
   "metadata": {
    "deletable": true,
    "editable": true
   },
   "source": [
    "## Demonstration"
   ]
  },
  {
   "cell_type": "markdown",
   "metadata": {
    "deletable": true,
    "editable": true
   },
   "source": [
    "Library imports"
   ]
  },
  {
   "cell_type": "code",
   "execution_count": 1,
   "metadata": {
    "collapsed": true,
    "deletable": true,
    "editable": true
   },
   "outputs": [],
   "source": [
    "#Standard libraries\n",
    "from __future__ import print_function\n",
    "\n",
    "#https://github.com/usnistgov/iprPy\n",
    "import iprPy"
   ]
  },
  {
   "cell_type": "markdown",
   "metadata": {},
   "source": [
    "Test LAMMPS"
   ]
  },
  {
   "cell_type": "code",
   "execution_count": 2,
   "metadata": {
    "collapsed": false,
    "deletable": true,
    "editable": true
   },
   "outputs": [
    {
     "data": {
      "text/plain": [
       "0"
      ]
     },
     "execution_count": 2,
     "metadata": {},
     "output_type": "execute_result"
    }
   ],
   "source": [
    "iprPy.tools.lammps_version.compute_stress('lmp_serial')"
   ]
  },
  {
   "cell_type": "code",
   "execution_count": 3,
   "metadata": {
    "collapsed": false,
    "deletable": true,
    "editable": true
   },
   "outputs": [
    {
     "data": {
      "text/plain": [
       "0"
      ]
     },
     "execution_count": 3,
     "metadata": {},
     "output_type": "execute_result"
    }
   ],
   "source": [
    "iprPy.tools.lammps_version.dump_modify('lmp_serial')"
   ]
  },
  {
   "cell_type": "markdown",
   "metadata": {
    "deletable": true,
    "editable": true
   },
   "source": [
    "- - -"
   ]
  },
  {
   "cell_type": "markdown",
   "metadata": {
    "deletable": true,
    "editable": true
   },
   "source": [
    "__Docs Navigation:__\n",
    "\n",
    "Tutorial:\n",
    "\n",
    "1. [Basics](../tutorial/1 Basics.ipynb)\n",
    "\n",
    "Reference:\n",
    "\n",
    "- [iprPy](../reference/iprPy.ipynb)\n",
    "\n",
    "- [iprPy.calculations](../reference/iprPy.convert.ipynb)\n",
    "\n",
    "- [iprPy.databases](../reference/iprPy.databases.ipynb)\n",
    "\n",
    "- [iprPy.highthroughput](../reference/iprPy.highthroughput.ipynb)\n",
    "\n",
    "- [iprPy.input](../reference/iprPy.input.ipynb)\n",
    "\n",
    "- [iprPy.prepare](../reference/iprPy.prepare.ipynb)\n",
    "\n",
    "- [iprPy.records](../reference/iprPy.records.ipynb)\n",
    "\n",
    "- [iprPy.tools](../reference/iprPy.tools.ipynb)"
   ]
  }
 ],
 "metadata": {
  "kernelspec": {
   "display_name": "Python 2",
   "language": "python",
   "name": "python2"
  },
  "language_info": {
   "codemirror_mode": {
    "name": "ipython",
    "version": 2
   },
   "file_extension": ".py",
   "mimetype": "text/x-python",
   "name": "python",
   "nbconvert_exporter": "python",
   "pygments_lexer": "ipython2",
   "version": "2.7.13"
  }
 },
 "nbformat": 4,
 "nbformat_minor": 0
}
