{
 "cells": [
  {
   "cell_type": "markdown",
   "metadata": {
    "deletable": true,
    "editable": true
   },
   "source": [
    "# iprPy.Database Class \n",
    "\n",
    "- - -"
   ]
  },
  {
   "cell_type": "markdown",
   "metadata": {
    "deletable": true,
    "editable": true
   },
   "source": [
    "**Lucas M. Hale**, [lucas.hale@nist.gov](mailto:lucas.hale@nist.gov?Subject=ipr-demo), *Materials Science and Engineering Division, NIST*.\n",
    "\n",
    "**Chandler A. Becker**, [chandler.becker@nist.gov](mailto:chandler.becker@nist.gov?Subject=ipr-demo), *Office of Data and Informatics, NIST*.\n",
    "\n",
    "**Zachary T. Trautt**, [zachary.trautt@nist.gov](mailto:zachary.trautt@nist.gov?Subject=ipr-demo), *Materials Measurement Science Division, NIST*.\n",
    "\n",
    "Version: 2017-05-03\n",
    "\n",
    "[Disclaimers](http://www.nist.gov/public_affairs/disclaimer.cfm) \n",
    " \n",
    "- - -"
   ]
  },
  {
   "cell_type": "markdown",
   "metadata": {
    "deletable": true,
    "editable": true
   },
   "source": [
    "## Introduction\n",
    "\n",
    "Class Database provides a standard interface for working with the various database styles implemented into the iprPy framework. The class defines a number of generic methods that are common across the different styles which call the corresponding functions in the associated records/style submodule. "
   ]
  },
  {
   "cell_type": "markdown",
   "metadata": {
    "deletable": true,
    "editable": true
   },
   "source": [
    "## Methods\n",
    "\n",
    "- [\\_\\_init\\_\\_(self, style, host, \\*args, \\*\\*kwargs)](iprPy.Database.__init__.ipynb) class initializer.\n",
    "\n",
    "- [\\_\\_str\\_\\_(self)](iprPy.Database.__str__.ipynb) generates string representation of class.\n",
    "\n",
    "- [add_record(self, record=None, name=None, style=None, content=None)](iprPy.Database.access_records.ipynb) adds a new record to the database.\n",
    "  \n",
    "- [add_tar(self, record=None, name=None, style=None, root_dir=None)](iprPy.Database.access_tars.ipynb) archives a folder as a zipped tar file and saves it to the database associated with a particular record. \n",
    "\n",
    "- [delete_record(self, record=None, name=None, style=None)](iprPy.Database.access_records.ipynb) deletes a single record from the database. \n",
    "  \n",
    "- [delete_tar(self, record=None, name=None, style=None)](iprPy.Database.access_tars.ipynb) deletes the tar archive associated with a record. \n",
    "\n",
    "- [get_record(self, name=None, style=None)](iprPy.Database.access_records.ipynb) finds and retrieves a single matching record in the database.\n",
    "\n",
    "- [get_records(self, name=None, style=None)](iprPy.Database.access_records.ipynb) returns a list of Records from the database matching the given conditions. \n",
    "\n",
    "- [get_tar(self, record=None, name=None, style=None)](iprPy.Database.access_tars.ipynb) retrives the archived tar folder associated with a record. \n",
    "\n",
    "- [iget_records(self, name=None, style=None)](iprPy.Database.access_records.ipynb) iterates through Records from the database matching the given conditions. \n",
    "\n",
    "- [update_record(self, record=None, name=None, style=None, content=None)](iprPy.Database.access_records.ipynb) updates the content of a pre-existing record.\n",
    "\n",
    "- [update_tar(self, record=None, name=None, style=None, root_dir=None)](iprPy.Database.access_tars.ipynb) updates the associated tar archive for a pre-existing record."
   ]
  },
  {
   "cell_type": "markdown",
   "metadata": {
    "deletable": true,
    "editable": true
   },
   "source": [
    "## Attributes\n",
    "\n",
    "- [host](iprPy.Database.host.ipynb) gives the database's host name (path or url) as a string.\n",
    "\n",
    "- [style](iprPy.Database.style.ipynb) gives the string style name."
   ]
  },
  {
   "cell_type": "markdown",
   "metadata": {
    "deletable": true,
    "editable": true
   },
   "source": [
    "- - -"
   ]
  },
  {
   "cell_type": "markdown",
   "metadata": {
    "deletable": true,
    "editable": true
   },
   "source": [
    "__Docs Navigation:__\n",
    "\n",
    "Tutorial:\n",
    "\n",
    "1. [Basics](../tutorial/1 Basics.ipynb)\n",
    "\n",
    "Reference:\n",
    "\n",
    "- [iprPy](../reference/iprPy.ipynb)\n",
    "\n",
    "- [iprPy.calculations](../reference/iprPy.convert.ipynb)\n",
    "\n",
    "- [iprPy.databases](../reference/iprPy.databases.ipynb)\n",
    "\n",
    "- [iprPy.highthroughput](../reference/iprPy.highthroughput.ipynb)\n",
    "\n",
    "- [iprPy.input](../reference/iprPy.input.ipynb)\n",
    "\n",
    "- [iprPy.prepare](../reference/iprPy.prepare.ipynb)\n",
    "\n",
    "- [iprPy.records](../reference/iprPy.records.ipynb)\n",
    "\n",
    "- [iprPy.tools](../reference/iprPy.tools.ipynb)"
   ]
  }
 ],
 "metadata": {
  "kernelspec": {
   "display_name": "Python 2",
   "language": "python",
   "name": "python2"
  },
  "language_info": {
   "codemirror_mode": {
    "name": "ipython",
    "version": 2
   },
   "file_extension": ".py",
   "mimetype": "text/x-python",
   "name": "python",
   "nbconvert_exporter": "python",
   "pygments_lexer": "ipython2",
   "version": "2.7.13"
  }
 },
 "nbformat": 4,
 "nbformat_minor": 0
}
