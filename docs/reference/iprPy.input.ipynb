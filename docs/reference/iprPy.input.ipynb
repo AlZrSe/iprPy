{
 "cells": [
  {
   "cell_type": "markdown",
   "metadata": {
    "deletable": true,
    "editable": true
   },
   "source": [
    "# iprPy.input Submodule \n",
    "\n",
    "- - -"
   ]
  },
  {
   "cell_type": "markdown",
   "metadata": {
    "deletable": true,
    "editable": true
   },
   "source": [
    "**Lucas M. Hale**, [lucas.hale@nist.gov](mailto:lucas.hale@nist.gov?Subject=ipr-demo), *Materials Science and Engineering Division, NIST*.\n",
    "\n",
    "**Chandler A. Becker**, [chandler.becker@nist.gov](mailto:chandler.becker@nist.gov?Subject=ipr-demo), *Office of Data and Informatics, NIST*.\n",
    "\n",
    "**Zachary T. Trautt**, [zachary.trautt@nist.gov](mailto:zachary.trautt@nist.gov?Subject=ipr-demo), *Materials Measurement Science Division, NIST*.\n",
    "\n",
    "Version: 2017-05-03\n",
    "\n",
    "[Disclaimers](http://www.nist.gov/public_affairs/disclaimer.cfm) \n",
    " \n",
    "- - -"
   ]
  },
  {
   "cell_type": "markdown",
   "metadata": {
    "deletable": true,
    "editable": true
   },
   "source": [
    "## Introduction\n",
    "\n",
    "The iprPy.input submodule consists of functions designed to allow for common handling of input parameter terms across multiple calculations. Except for [boolean]() and [value](), all of the input functions behave in a similar manner:\n",
    "\n",
    "1. The first and only mandatory argument is input_dict, a dictionary containing terms read in from the input parameter file. \n",
    "\n",
    "2. Each function accesses specific keys of input_dict for interpretation and manipulation. \n",
    "   \n",
    "3. All interpreted information is saved to input_dict, either by updating the values accessed or by saving to new keys. The functions return nothing.\n",
    "   \n",
    "4. The optional keyword arguments of an input function allows for the redefinition of which input_dict keys the function accesses. The names of the function's keyword arguments match the default keyword values. For example, if input.fxn(input_dict) accesses input_dict['this'], then input.fxn(input_dict, this='that') will access input_dict['that'] instead. This capability makes it possible for the same functions to be used when a calculation requires multiple versions of a given input set."
   ]
  },
  {
   "cell_type": "markdown",
   "metadata": {
    "deletable": true,
    "editable": true
   },
   "source": [
    "## Functions\n",
    "\n",
    "- [atomshift(input_dict, \\*\\*kwargs)](iprPy.input.atomshift.ipynb) interprets the atomshift input term.\n",
    "\n",
    "- [axes(input_dict, \\*\\*kwargs)](iprPy.input.axes.ipynb) interprets the x_axis, y_axis, and z_axis input terms.\n",
    "\n",
    "- [boolean(value)](iprPy.input.boolean.ipynb) converts strings to equivalent Booleans.\n",
    "\n",
    "- [initialsystem(input_dict, \\*\\*kwargs)](iprPy.input.initialsystem.ipynb) creates initialsystem based on the ucell, atomshift, x_axis, y_axis, z_axis and sizemults input terms.\n",
    "\n",
    "- [sizemults(input_dict, \\*\\*kwargs)](iprPy.input.sizemults.ipynb) interprets the sizemults input term.\n",
    "\n",
    "- [system_family(input_dict, \\*\\*kwargs)](iprPy.input.system_family.ipynb) identifies the system_family for an atomic configuration being loaded.\n",
    "\n",
    "- [ucell(input_dict, \\*\\*kwargs)](iprPy.input.ucell.ipynb) builds ucell based on load, load_options,box_parameters, and symbols input terms. \n",
    "\n",
    "- [units(input_dict, \\*\\*kwargs)](iprPy.input.units.ipynb) interprets the input terms related to defining default units for input/output terms.\n",
    "\n",
    "- [value(input_dict, key, default_unit=None, default_term=None)](iprPy.input.value.ipynb) interprets the value of an input term that may or may not have specified units."
   ]
  },
  {
   "cell_type": "markdown",
   "metadata": {
    "deletable": true,
    "editable": true
   },
   "source": [
    "- - -"
   ]
  },
  {
   "cell_type": "markdown",
   "metadata": {
    "deletable": true,
    "editable": true
   },
   "source": [
    "__Docs Navigation:__\n",
    "\n",
    "Tutorial:\n",
    "\n",
    "1. [Basics](../tutorial/1 Basics.ipynb)\n",
    "\n",
    "Reference:\n",
    "\n",
    "- [iprPy](../reference/iprPy.ipynb)\n",
    "\n",
    "- [iprPy.calculations](../reference/iprPy.convert.ipynb)\n",
    "\n",
    "- [iprPy.databases](../reference/iprPy.databases.ipynb)\n",
    "\n",
    "- [iprPy.highthroughput](../reference/iprPy.highthroughput.ipynb)\n",
    "\n",
    "- [iprPy.input](../reference/iprPy.input.ipynb)\n",
    "\n",
    "- [iprPy.prepare](../reference/iprPy.prepare.ipynb)\n",
    "\n",
    "- [iprPy.records](../reference/iprPy.records.ipynb)\n",
    "\n",
    "- [iprPy.tools](../reference/iprPy.tools.ipynb)"
   ]
  }
 ],
 "metadata": {
  "kernelspec": {
   "display_name": "Python 2",
   "language": "python",
   "name": "python2"
  },
  "language_info": {
   "codemirror_mode": {
    "name": "ipython",
    "version": 2
   },
   "file_extension": ".py",
   "mimetype": "text/x-python",
   "name": "python",
   "nbconvert_exporter": "python",
   "pygments_lexer": "ipython2",
   "version": "2.7.13"
  }
 },
 "nbformat": 4,
 "nbformat_minor": 0
}
