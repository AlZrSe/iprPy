{
 "cells": [
  {
   "cell_type": "markdown",
   "metadata": {
    "deletable": true,
    "editable": true
   },
   "source": [
    "# iprPy.Calculation.data_model(self, input_dict, results_dict=None)\n",
    "\n",
    "- - -"
   ]
  },
  {
   "cell_type": "markdown",
   "metadata": {
    "deletable": true,
    "editable": true
   },
   "source": [
    "**Lucas M. Hale**, [lucas.hale@nist.gov](mailto:lucas.hale@nist.gov?Subject=ipr-demo), *Materials Science and Engineering Division, NIST*.\n",
    "\n",
    "**Chandler A. Becker**, [chandler.becker@nist.gov](mailto:chandler.becker@nist.gov?Subject=ipr-demo), *Office of Data and Informatics, NIST*.\n",
    "\n",
    "**Zachary T. Trautt**, [zachary.trautt@nist.gov](mailto:zachary.trautt@nist.gov?Subject=ipr-demo), *Materials Measurement Science Division, NIST*.\n",
    "\n",
    "Version: 2017-05-03\n",
    "\n",
    "[Disclaimers](http://www.nist.gov/public_affairs/disclaimer.cfm) \n",
    " \n",
    "- - -"
   ]
  },
  {
   "cell_type": "markdown",
   "metadata": {
    "deletable": true,
    "editable": true
   },
   "source": [
    "## Introduction\n",
    "\n",
    "The data_model method of Calculation builds a DataModelDict record for the calculation.\n",
    "\n",
    "- __input_dict__ is a dictionary of input parameter file terms and their direct derivatives that help uniquely define the calculation instance that has been prepared. \n",
    "\n",
    "- __results_dict__ is a dictionary of variables resulting from the calculation successfully running. If not given, then the resulting record will be an incomplete record.\n",
    "\n",
    "__Note__: the action being performed by this method is more associated with a given record style than a calculation style. As such, future plans are to remove this method from Calculation and add a comparable method to Record. "
   ]
  },
  {
   "cell_type": "markdown",
   "metadata": {
    "deletable": true,
    "editable": true
   },
   "source": [
    "## Demonstration\n",
    "\n",
    "This demonstration takes functions directly from the calc_E_vs_r_scan.py script."
   ]
  },
  {
   "cell_type": "markdown",
   "metadata": {
    "deletable": true,
    "editable": true
   },
   "source": [
    "Library Imports"
   ]
  },
  {
   "cell_type": "code",
   "execution_count": 1,
   "metadata": {
    "collapsed": true,
    "deletable": true,
    "editable": true
   },
   "outputs": [],
   "source": [
    "#Standard libraries\n",
    "from __future__ import print_function\n",
    "\n",
    "#https://github.com/usnistgov/iprPy\n",
    "import iprPy"
   ]
  },
  {
   "cell_type": "markdown",
   "metadata": {
    "deletable": true,
    "editable": true
   },
   "source": [
    "Checking which calculations are implemented, and selecting the first one listed."
   ]
  },
  {
   "cell_type": "code",
   "execution_count": 2,
   "metadata": {
    "collapsed": false,
    "deletable": true,
    "editable": true
   },
   "outputs": [
    {
     "name": "stdout",
     "output_type": "stream",
     "text": [
      "['point_defect_static', 'dynamic_relax', 'surface_energy', 'E_vs_r_scan', 'dislocation_monopole', 'stacking_fault', 'refine_structure', 'stacking_fault_multi', 'LAMMPS_ELASTIC']\n"
     ]
    }
   ],
   "source": [
    "print(iprPy.calculation_styles())\n",
    "style = iprPy.calculation_styles()[0]"
   ]
  },
  {
   "cell_type": "markdown",
   "metadata": {
    "deletable": true,
    "editable": true
   },
   "source": [
    "Initialize a Calculation object and print the calculation's string representation."
   ]
  },
  {
   "cell_type": "code",
   "execution_count": 3,
   "metadata": {
    "collapsed": false,
    "deletable": true,
    "editable": true
   },
   "outputs": [
    {
     "name": "stdout",
     "output_type": "stream",
     "text": [
      "iprPy.Calculation (point_defect_static)\n"
     ]
    }
   ],
   "source": [
    "calc = iprPy.Calculation(style)\n",
    "print(calc)"
   ]
  },
  {
   "cell_type": "markdown",
   "metadata": {
    "deletable": true,
    "editable": true
   },
   "source": [
    "Show the calculation's input parameter template file."
   ]
  },
  {
   "cell_type": "code",
   "execution_count": 4,
   "metadata": {
    "collapsed": false,
    "deletable": true,
    "editable": true
   },
   "outputs": [
    {
     "name": "stdout",
     "output_type": "stream",
     "text": [
      "#Run script for calc_point_defect_formation.py\n",
      "\n",
      "#Command lines for LAMMPS (and MPI).\n",
      "#For lammps_command, exclude passing in a script, i.e. no \"-in term\"\n",
      "lammps_command              <lammps_command>\n",
      "mpi_command                 <mpi_command>\n",
      "\n",
      "#Paths to the potential data model file, and directory containing potential parameters\n",
      "potential_file              <potential_file>\n",
      "potential_dir               <potential_dir>\n",
      "\n",
      "#Initial system configuration to load\n",
      "load                        <load>\n",
      "load_options                <load_options>\n",
      "symbols                     <symbols>\n",
      "box_parameters              <box_parameters>\n",
      "\n",
      "#System manipulations\n",
      "x_axis                      <x_axis>\n",
      "y_axis                      <y_axis>\n",
      "z_axis                      <z_axis>\n",
      "atomshift                   <atomshift>\n",
      "sizemults                   <sizemults>\n",
      "\n",
      "#Defect parameters\n",
      "pointdefect_model           <pointdefect_model>\n",
      "pointdefect_type            <pointdefect_type>\n",
      "pointdefect_atype           <pointdefect_atype>\n",
      "pointdefect_pos             <pointdefect_pos>\n",
      "pointdefect_dumbbell_vect   <pointdefect_dumbbell_vect>\n",
      "pointdefect_scale           <pointdefect_scale>\n",
      "\n",
      "#Units that input/output values are in\n",
      "length_unit                 <length_unit>\n",
      "pressure_unit               <pressure_unit>\n",
      "energy_unit                 <energy_unit>\n",
      "force_unit                  <force_unit>\n",
      "\n",
      "#Run parameters\n",
      "energytolerance             <energytolerance>\n",
      "forcetolerance              <forcetolerance>\n",
      "maxiterations               <maxiterations>\n",
      "maxevaluations              <maxevaluations>\n",
      "maxatommotion               <maxatommotion>\n"
     ]
    }
   ],
   "source": [
    "print(calc.template)"
   ]
  },
  {
   "cell_type": "markdown",
   "metadata": {
    "deletable": true,
    "editable": true
   },
   "source": [
    "- - -"
   ]
  },
  {
   "cell_type": "markdown",
   "metadata": {
    "deletable": true,
    "editable": true
   },
   "source": [
    "__Docs Navigation:__\n",
    "\n",
    "Tutorial:\n",
    "\n",
    "1. [Basics](../tutorial/1 Basics.ipynb)\n",
    "\n",
    "Reference:\n",
    "\n",
    "- [iprPy](../reference/iprPy.ipynb)\n",
    "\n",
    "- [iprPy.calculations](../reference/iprPy.convert.ipynb)\n",
    "\n",
    "- [iprPy.databases](../reference/iprPy.databases.ipynb)\n",
    "\n",
    "- [iprPy.highthroughput](../reference/iprPy.highthroughput.ipynb)\n",
    "\n",
    "- [iprPy.input](../reference/iprPy.input.ipynb)\n",
    "\n",
    "- [iprPy.prepare](../reference/iprPy.prepare.ipynb)\n",
    "\n",
    "- [iprPy.records](../reference/iprPy.records.ipynb)\n",
    "\n",
    "- [iprPy.tools](../reference/iprPy.tools.ipynb)"
   ]
  }
 ],
 "metadata": {
  "kernelspec": {
   "display_name": "Python 2",
   "language": "python",
   "name": "python2"
  },
  "language_info": {
   "codemirror_mode": {
    "name": "ipython",
    "version": 2
   },
   "file_extension": ".py",
   "mimetype": "text/x-python",
   "name": "python",
   "nbconvert_exporter": "python",
   "pygments_lexer": "ipython2",
   "version": "2.7.13"
  }
 },
 "nbformat": 4,
 "nbformat_minor": 0
}
