{
 "cells": [
  {
   "cell_type": "markdown",
   "metadata": {
    "deletable": true,
    "editable": true
   },
   "source": [
    "# iprPy.input.initialsystem(input_dict, \\*\\*kwargs)\n",
    "\n",
    "- - -"
   ]
  },
  {
   "cell_type": "markdown",
   "metadata": {
    "deletable": true,
    "editable": true
   },
   "source": [
    "**Lucas M. Hale**, [lucas.hale@nist.gov](mailto:lucas.hale@nist.gov?Subject=ipr-demo), *Materials Science and Engineering Division, NIST*.\n",
    "\n",
    "**Chandler A. Becker**, [chandler.becker@nist.gov](mailto:chandler.becker@nist.gov?Subject=ipr-demo), *Office of Data and Informatics, NIST*.\n",
    "\n",
    "**Zachary T. Trautt**, [zachary.trautt@nist.gov](mailto:zachary.trautt@nist.gov?Subject=ipr-demo), *Materials Measurement Science Division, NIST*.\n",
    "\n",
    "Version: 2017-05-05\n",
    "\n",
    "[Disclaimers](http://www.nist.gov/public_affairs/disclaimer.cfm) \n",
    " \n",
    "- - -"
   ]
  },
  {
   "cell_type": "markdown",
   "metadata": {
    "deletable": true,
    "editable": true
   },
   "source": [
    "## Introduction\n",
    "\n",
    "The initialsystem function creates initialsystem after manipulating ucell by rotating according to x_axis, y_axis, and z_axis, shifting atoms by atomshift, and multiplying the system size by sizemults.\n",
    "       \n",
    "Arguments:\n",
    "\n",
    "- __input_dict__ is a dictionary containing input parameter key-value pairs.\n",
    "\n",
    "- __ucell__ allows for a replacement parameter key name for 'ucell'.\n",
    "\n",
    "- __x_axis__ allows for a replacement parameter key name for 'x_axis'.\n",
    "\n",
    "- __y_axis__ allows for a replacement parameter key name for 'y_axis'.\n",
    "\n",
    "- __z_axis__ allows for a replacement parameter key name for 'z_axis'.\n",
    "\n",
    "- __atomshift__ allows for a replacement parameter key name for 'atomshift'.\n",
    "\n",
    "- __sizemults__ allows for a replacement parameter key name for 'sizemults'.\n",
    "\n",
    "- __initialsystem__ allows for a replacement parameter key name for 'initialsystem'.\n",
    "\n",
    "The underlying code can be found in [iprPy/input/initialsystem.py](../../iprPy/input/initialsystem.py)."
   ]
  },
  {
   "cell_type": "markdown",
   "metadata": {
    "deletable": true,
    "editable": true
   },
   "source": [
    "## Demonstration"
   ]
  },
  {
   "cell_type": "markdown",
   "metadata": {
    "deletable": true,
    "editable": true
   },
   "source": [
    "Library imports"
   ]
  },
  {
   "cell_type": "code",
   "execution_count": 1,
   "metadata": {
    "collapsed": true,
    "deletable": true,
    "editable": true
   },
   "outputs": [],
   "source": [
    "#Standard libraries\n",
    "from __future__ import print_function\n",
    "\n",
    "#https://github.com/usnistgov/iprPy\n",
    "import iprPy"
   ]
  },
  {
   "cell_type": "markdown",
   "metadata": {
    "deletable": true,
    "editable": true
   },
   "source": [
    "Define keywords"
   ]
  },
  {
   "cell_type": "code",
   "execution_count": 2,
   "metadata": {
    "collapsed": false,
    "deletable": true,
    "editable": true
   },
   "outputs": [],
   "source": [
    "input_dict = {}\n",
    "input_dict['load'] = 'system_model files/iprPy.input/A1--Cu--fcc.json'\n",
    "input_dict['box_parameters'] = '4.05 4.05 4.05'\n",
    "input_dict['symbols'] = 'Al'\n",
    "input_dict['x_axis'] = ' 1  0  0'\n",
    "input_dict['y_axis'] = ' 0  1  1'\n",
    "input_dict['z_axis'] = ' 0  1 -1'\n",
    "input_dict['sizemults'] = '2 1 1'"
   ]
  },
  {
   "cell_type": "markdown",
   "metadata": {
    "deletable": true,
    "editable": true
   },
   "source": [
    "Before initialsystem can be called, ucell, atomshift, axes, sizemults, and units need to be set up."
   ]
  },
  {
   "cell_type": "code",
   "execution_count": 3,
   "metadata": {
    "collapsed": false,
    "deletable": true,
    "editable": true
   },
   "outputs": [
    {
     "name": "stdout",
     "output_type": "stream",
     "text": [
      "{'y_axis': [0.0, 1.0, 1.0], 'x_axis': [1.0, 0.0, 0.0], 'z_axis': [0.0, -1.0, 0.0]}\n"
     ]
    }
   ],
   "source": [
    "input_dict = {'x_axis': ' 1  0  0',\n",
    "              'y_axis': ' 0  1  1',\n",
    "              'z_axis': ' 0 -1  0'}\n",
    "iprPy.input.axes(input_dict)\n",
    "print(input_dict)"
   ]
  },
  {
   "cell_type": "markdown",
   "metadata": {
    "deletable": true,
    "editable": true
   },
   "source": [
    "The default term name(s) can be changed using keyword arguments."
   ]
  },
  {
   "cell_type": "code",
   "execution_count": 4,
   "metadata": {
    "collapsed": false,
    "deletable": true,
    "editable": true
   },
   "outputs": [
    {
     "name": "stdout",
     "output_type": "stream",
     "text": [
      "{'z_axis1': [0.0, -1.0, 0.0], 'x_axis1': [1.0, 0.0, 0.0], 'y_axis1': [0.0, 1.0, 1.0]}\n"
     ]
    }
   ],
   "source": [
    "input_dict = {'x_axis1': ' 1  0  0',\n",
    "              'y_axis1': ' 0  1  1',\n",
    "              'z_axis1': ' 0 -1  0'}\n",
    "\n",
    "#Call axes, but have it operate on 'x_axis1', etc. instead of 'x_axis', etc.\n",
    "iprPy.input.axes(input_dict, x_axis='x_axis1', y_axis='y_axis1', z_axis='z_axis1')\n",
    "print(input_dict)"
   ]
  },
  {
   "cell_type": "markdown",
   "metadata": {
    "deletable": true,
    "editable": true
   },
   "source": [
    "- - -"
   ]
  },
  {
   "cell_type": "markdown",
   "metadata": {
    "deletable": true,
    "editable": true
   },
   "source": [
    "__Docs Navigation:__\n",
    "\n",
    "Tutorial:\n",
    "\n",
    "1. [Basics](../tutorial/1 Basics.ipynb)\n",
    "\n",
    "Reference:\n",
    "\n",
    "- [iprPy](../reference/iprPy.ipynb)\n",
    "\n",
    "- [iprPy.calculations](../reference/iprPy.convert.ipynb)\n",
    "\n",
    "- [iprPy.databases](../reference/iprPy.databases.ipynb)\n",
    "\n",
    "- [iprPy.highthroughput](../reference/iprPy.highthroughput.ipynb)\n",
    "\n",
    "- [iprPy.input](../reference/iprPy.input.ipynb)\n",
    "\n",
    "- [iprPy.prepare](../reference/iprPy.prepare.ipynb)\n",
    "\n",
    "- [iprPy.records](../reference/iprPy.records.ipynb)\n",
    "\n",
    "- [iprPy.tools](../reference/iprPy.tools.ipynb)"
   ]
  }
 ],
 "metadata": {
  "kernelspec": {
   "display_name": "Python 2",
   "language": "python",
   "name": "python2"
  },
  "language_info": {
   "codemirror_mode": {
    "name": "ipython",
    "version": 2
   },
   "file_extension": ".py",
   "mimetype": "text/x-python",
   "name": "python",
   "nbconvert_exporter": "python",
   "pygments_lexer": "ipython2",
   "version": "2.7.13"
  }
 },
 "nbformat": 4,
 "nbformat_minor": 0
}
