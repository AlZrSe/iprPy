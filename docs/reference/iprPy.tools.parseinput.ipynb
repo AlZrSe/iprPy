{
 "cells": [
  {
   "cell_type": "markdown",
   "metadata": {
    "deletable": true,
    "editable": true
   },
   "source": [
    "# iprPy.tools.parseinput(infile, singularkeys=[], allsingular=False)\n",
    "- - -"
   ]
  },
  {
   "cell_type": "markdown",
   "metadata": {
    "deletable": true,
    "editable": true
   },
   "source": [
    "**Lucas M. Hale**, [lucas.hale@nist.gov](mailto:lucas.hale@nist.gov?Subject=ipr-demo), *Materials Science and Engineering Division, NIST*.\n",
    "\n",
    "**Chandler A. Becker**, [chandler.becker@nist.gov](mailto:chandler.becker@nist.gov?Subject=ipr-demo), *Office of Data and Informatics, NIST*.\n",
    "\n",
    "**Zachary T. Trautt**, [zachary.trautt@nist.gov](mailto:zachary.trautt@nist.gov?Subject=ipr-demo), *Materials Measurement Science Division, NIST*.\n",
    "\n",
    "Version: 2017-05-03\n",
    "\n",
    "[Disclaimers](http://www.nist.gov/public_affairs/disclaimer.cfm) \n",
    " \n",
    "- - -"
   ]
  },
  {
   "cell_type": "markdown",
   "metadata": {
    "deletable": true,
    "editable": true
   },
   "source": [
    "## Introduction\n",
    "\n",
    "The parseinput function parses an input parameter file and returns a dictionary of parameter terms. These are the parsing rules:\n",
    "\n",
    "1. The first space-delimited word in a line is taken as the key name of the parameter.\n",
    "\n",
    "2. All other words are joined together into a single string value for the parameter.\n",
    "\n",
    "3. Words that start with # indicate comments with that word and all words to the right of it in the same line being ignored.\n",
    "\n",
    "4. Any lines with less than two non-comment terms are ignored. In other words, blank lines and lines with keys but not values are skipped over.\n",
    "\n",
    "5. Multiple values can be assigned to the same term by repeating the key name on a different line. \n",
    "\n",
    "6. The keyword arguments can be used to issue an error if multiple values are trying to be assigned to terms that should only have a single values. \n",
    "\n",
    "Arguments:\n",
    "    \n",
    "- __infile__ string or file-like-object to parse out parameter terms. \n",
    "\n",
    "- __singularkeys__ list of term key names that should not have multiple values.  \n",
    "\n",
    "- __allsingular__ is a Boolean indicating if all term keys should be singular. Default value is False.\n",
    "\n",
    "The underlying code can be found in [iprPy/tools/parseinput.py](../../iprPy/tools/parseinput.py)."
   ]
  },
  {
   "cell_type": "markdown",
   "metadata": {
    "deletable": true,
    "editable": true
   },
   "source": [
    "## Demonstration"
   ]
  },
  {
   "cell_type": "markdown",
   "metadata": {
    "deletable": true,
    "editable": true
   },
   "source": [
    "Library imports"
   ]
  },
  {
   "cell_type": "code",
   "execution_count": 1,
   "metadata": {
    "collapsed": true,
    "deletable": true,
    "editable": true
   },
   "outputs": [],
   "source": [
    "#Standard libraries\n",
    "from __future__ import print_function\n",
    "\n",
    "#https://github.com/usnistgov/iprPy\n",
    "import iprPy"
   ]
  },
  {
   "cell_type": "markdown",
   "metadata": {
    "deletable": true,
    "editable": true
   },
   "source": [
    "Let's create a demonstration input parameter file."
   ]
  },
  {
   "cell_type": "code",
   "execution_count": 2,
   "metadata": {
    "collapsed": false,
    "deletable": true,
    "editable": true
   },
   "outputs": [],
   "source": [
    "infile = \"\"\"\n",
    "# This is a demonstration input parameter file\n",
    "\n",
    "# Hashes indicate comment lines. Blank lines are also ignored\n",
    "\n",
    "# All lines consist of key-value pairs\n",
    "firstkey    value\n",
    "\n",
    "# All terms after the key are joined as a single value\n",
    "secondkey   value1 value2\n",
    "\n",
    "# Multiple values can be assigned to the same key using different input lines\n",
    "thirdkey    value1\n",
    "thirdkey    value2 #comment after value is also ignored\n",
    "\n",
    "# Keys without values are also ignored.\n",
    "fourthkey\n",
    "\"\"\""
   ]
  },
  {
   "cell_type": "markdown",
   "metadata": {},
   "source": [
    "Call parseinput without any options, and display contents of the returned dictionary."
   ]
  },
  {
   "cell_type": "code",
   "execution_count": 3,
   "metadata": {
    "collapsed": false,
    "deletable": true,
    "editable": true
   },
   "outputs": [
    {
     "name": "stdout",
     "output_type": "stream",
     "text": [
      "secondkey = value1 value2\n",
      "thirdkey = ['value1', 'value2']\n",
      "firstkey = value\n"
     ]
    }
   ],
   "source": [
    "input_dict = iprPy.tools.parseinput(infile)\n",
    "\n",
    "for key in input_dict:\n",
    "    print(key, '=', input_dict[key])"
   ]
  },
  {
   "cell_type": "markdown",
   "metadata": {
    "deletable": true,
    "editable": true
   },
   "source": [
    "Singularkeys allows for terms that cannot have multiple values to be defined. "
   ]
  },
  {
   "cell_type": "code",
   "execution_count": 4,
   "metadata": {
    "collapsed": false,
    "deletable": true,
    "editable": true
   },
   "outputs": [
    {
     "name": "stdout",
     "output_type": "stream",
     "text": [
      "ValueError: multiple values found for singular input parameter thirdkey\n"
     ]
    }
   ],
   "source": [
    "#This is fine as both firstkey and secondkey have singular values\n",
    "input_dict = iprPy.tools.parseinput(infile, singularkeys=['firstkey', 'secondkey'])\n",
    "\n",
    "#This is not because thirdkey has multiple values\n",
    "try:\n",
    "    input_dict = iprPy.tools.parseinput(infile, singularkeys=['thirdkey'])\n",
    "except ValueError as e:\n",
    "    print('ValueError:', e)\n",
    "    "
   ]
  },
  {
   "cell_type": "markdown",
   "metadata": {},
   "source": [
    "Setting allsingular to True will issue an error if any terms have multiple values"
   ]
  },
  {
   "cell_type": "code",
   "execution_count": 5,
   "metadata": {
    "collapsed": false,
    "deletable": true,
    "editable": true
   },
   "outputs": [
    {
     "name": "stdout",
     "output_type": "stream",
     "text": [
      "ValueError: multiple values found for singular input parameter thirdkey\n"
     ]
    }
   ],
   "source": [
    "try:\n",
    "    input_dict = iprPy.tools.parseinput(infile, allsingular=True)\n",
    "except ValueError as e:\n",
    "    print('ValueError:', e)"
   ]
  },
  {
   "cell_type": "markdown",
   "metadata": {
    "deletable": true,
    "editable": true
   },
   "source": [
    "- - -"
   ]
  },
  {
   "cell_type": "markdown",
   "metadata": {
    "deletable": true,
    "editable": true
   },
   "source": [
    "__Docs Navigation:__\n",
    "\n",
    "Tutorial:\n",
    "\n",
    "1. [Basics](../tutorial/1 Basics.ipynb)\n",
    "\n",
    "Reference:\n",
    "\n",
    "- [iprPy](../reference/iprPy.ipynb)\n",
    "\n",
    "- [iprPy.calculations](../reference/iprPy.convert.ipynb)\n",
    "\n",
    "- [iprPy.databases](../reference/iprPy.databases.ipynb)\n",
    "\n",
    "- [iprPy.highthroughput](../reference/iprPy.highthroughput.ipynb)\n",
    "\n",
    "- [iprPy.input](../reference/iprPy.input.ipynb)\n",
    "\n",
    "- [iprPy.prepare](../reference/iprPy.prepare.ipynb)\n",
    "\n",
    "- [iprPy.records](../reference/iprPy.records.ipynb)\n",
    "\n",
    "- [iprPy.tools](../reference/iprPy.tools.ipynb)"
   ]
  }
 ],
 "metadata": {
  "kernelspec": {
   "display_name": "Python 2",
   "language": "python",
   "name": "python2"
  },
  "language_info": {
   "codemirror_mode": {
    "name": "ipython",
    "version": 2
   },
   "file_extension": ".py",
   "mimetype": "text/x-python",
   "name": "python",
   "nbconvert_exporter": "python",
   "pygments_lexer": "ipython2",
   "version": "2.7.13"
  }
 },
 "nbformat": 4,
 "nbformat_minor": 0
}
