{
 "cells": [
  {
   "cell_type": "markdown",
   "metadata": {
    "deletable": true,
    "editable": true
   },
   "source": [
    "# iprPy.Database Record Access Functions\n",
    "\n",
    "- - -"
   ]
  },
  {
   "cell_type": "markdown",
   "metadata": {
    "deletable": true,
    "editable": true
   },
   "source": [
    "**Lucas M. Hale**, [lucas.hale@nist.gov](mailto:lucas.hale@nist.gov?Subject=ipr-demo), *Materials Science and Engineering Division, NIST*.\n",
    "\n",
    "**Chandler A. Becker**, [chandler.becker@nist.gov](mailto:chandler.becker@nist.gov?Subject=ipr-demo), *Office of Data and Informatics, NIST*.\n",
    "\n",
    "**Zachary T. Trautt**, [zachary.trautt@nist.gov](mailto:zachary.trautt@nist.gov?Subject=ipr-demo), *Materials Measurement Science Division, NIST*.\n",
    "\n",
    "Version: 2017-05-03\n",
    "\n",
    "[Disclaimers](http://www.nist.gov/public_affairs/disclaimer.cfm) \n",
    " \n",
    "- - -"
   ]
  },
  {
   "cell_type": "markdown",
   "metadata": {
    "deletable": true,
    "editable": true
   },
   "source": [
    "## Introduction\n",
    "\n",
    "The Database class offers a number of methods for finding, accessing, changing and deleting records stored within. These functions all follow similar conventions on how they handle the information.\n",
    "\n",
    "### add_record(self, record=None, name=None, style=None, content=None)\n",
    "\n",
    "Adds a new record to the database. The record argument allows for an existing iprPy.Record object to be passed in. Alternatively, the record's name, style, and content can be specified separately. Returns an iprPy.Record object corresponding to the supplied arguments. Issues an error if a record with the same name and style already exists in the database.\n",
    "\n",
    "Aruments:\n",
    "\n",
    "- __record__ is an iprPy.Record object. Cannot be given with the other arguments.\n",
    "\n",
    "- __name__ is the name to assign to the record being stored. name, style and content must be given together.\n",
    "\n",
    "- __style__ is the record style to store the record as. name, style and content must be given together.\n",
    "\n",
    "- __content__ is the record content (XML string) to store. name, style and content must be given together.\n",
    "\n",
    "### delete_record(self, record=None, name=None, style=None)\n",
    "\n",
    "Deletes a single record from the database. The record can be identified either by passing a corresponding iprPy.Record object as record, or by specifying the record's name and/or style. Issues an error if a matching record is not found, or if multiple matching records are found. __Deleting a record is permanent__.\n",
    "\n",
    "Aruments:\n",
    "\n",
    "- __record__ is an iprPy.Record object. Cannot be given with the other arguments.\n",
    "\n",
    "- __name__ is the name of a record in the database.\n",
    "\n",
    "- __style__ is a record style. Can be given with name if the same record name may exist in multiple styles.\n",
    "\n",
    "\n",
    "### get_record(self, name=None, style=None)\n",
    "\n",
    "Finds and retrieves a single matching record in the database as an iprPy.Record object. Issues an error if a matching record is not found, or if multiple matching records are found.\n",
    "\n",
    "Aruments:\n",
    "\n",
    "- __name__ is the name of a record in the database.\n",
    "\n",
    "- __style__ is a record style. Can be given with name if the same record name may exist in multiple styles.\n",
    "\n",
    "### get_records(self, name=None, style=None)\n",
    "\n",
    "Finds and retrieves all matching records in the database as a list of iprPy.Record objects.\n",
    "\n",
    "Aruments:\n",
    "\n",
    "- __name__ is the name of a record in the database.\n",
    "\n",
    "- __style__ is a record style. \n",
    "\n",
    "### iget_records(self, name=None, style=None)\n",
    "\n",
    "Finds and retrieves all matching records in the database as an iterator over iprPy.Record objects.\n",
    "\n",
    "Aruments:\n",
    "\n",
    "- __name__ is the name of a record in the database.\n",
    "\n",
    "- __style__ is a record style. \n",
    "\n",
    "### update_record(self, record=None, name=None, style=None, content=None)\n",
    "\n",
    "Allows for the content of an existing record in the database to be updated. The supplied name and style (either given explicitly or as part of a iprPy.Record object) identify the existing record, and the supplied content replaces the existing record content. Returns an iprPy.Record object corresponding to the supplied arguments. Issues an error if a matching record is not found, or if multiple matching records are found.\n",
    "\n",
    "Aruments:\n",
    "\n",
    "- __record__ is an iprPy.Record object. Cannot be given with the other arguments.\n",
    "\n",
    "- __name__ is the name of the record being updated. name, style and content must be given together.\n",
    "\n",
    "- __style__ is the record style for the record being updated. name, style and content must be given together.\n",
    "\n",
    "- __content__ is the new record content (XML string) to replace the current. name, style and content must be given together.\n",
    "\n",
    "The underlying code can be found in [iprPy/database_functions.py](../../iprPy/database_functions.py)."
   ]
  },
  {
   "cell_type": "markdown",
   "metadata": {
    "deletable": true,
    "editable": true
   },
   "source": [
    "## Demonstration"
   ]
  },
  {
   "cell_type": "markdown",
   "metadata": {
    "deletable": true,
    "editable": true
   },
   "source": [
    "Library Imports"
   ]
  },
  {
   "cell_type": "code",
   "execution_count": 1,
   "metadata": {
    "collapsed": true,
    "deletable": true,
    "editable": true
   },
   "outputs": [],
   "source": [
    "#Standard libraries\n",
    "from __future__ import print_function\n",
    "\n",
    "#https://github.com/usnistgov/DataModelDict\n",
    "from DataModelDict import DataModelDict as DM\n",
    "\n",
    "#https://github.com/usnistgov/iprPy\n",
    "import iprPy"
   ]
  },
  {
   "cell_type": "markdown",
   "metadata": {},
   "source": [
    "Define content for a LAMMPS-potential record by using DataModelDict to convert from JSON to XML."
   ]
  },
  {
   "cell_type": "code",
   "execution_count": 2,
   "metadata": {
    "collapsed": false
   },
   "outputs": [
    {
     "name": "stdout",
     "output_type": "stream",
     "text": [
      "<?xml version=\"1.0\" encoding=\"utf-8\"?>\n",
      "<LAMMPS-potential><potential><key>dc4149ce-3592-4131-8683-ecf654d5a519</key><id>1987--Ackland-G-J--Ag</id></potential><units>metal</units><atom_style>atomic</atom_style><atom><element>Ag</element><mass>107.8682</mass></atom><pair_style><type>eam/fs</type></pair_style><pair_coeff><term><file>Ag.eam.fs</file></term><term><symbols>True</symbols></term></pair_coeff></LAMMPS-potential>\n"
     ]
    }
   ],
   "source": [
    "model = DM('''{\n",
    "    \"LAMMPS-potential\": {\n",
    "        \"potential\": {\n",
    "            \"key\": \"dc4149ce-3592-4131-8683-ecf654d5a519\", \n",
    "            \"id\": \"1987--Ackland-G-J--Ag\"\n",
    "        }, \n",
    "        \"units\": \"metal\", \n",
    "        \"atom_style\": \"atomic\", \n",
    "        \"atom\": {\n",
    "            \"element\": \"Ag\", \n",
    "            \"mass\": 107.8682\n",
    "        }, \n",
    "        \"pair_style\": {\n",
    "            \"type\": \"eam/fs\"\n",
    "        }, \n",
    "        \"pair_coeff\": {\n",
    "            \"term\": [\n",
    "                {\n",
    "                    \"file\": \"Ag.eam.fs\"\n",
    "                }, \n",
    "                {\n",
    "                    \"symbols\": \"True\"\n",
    "                }\n",
    "            ]\n",
    "        }\n",
    "    }\n",
    "}''')\n",
    "\n",
    "content = model.xml()\n",
    "print(content)"
   ]
  },
  {
   "cell_type": "markdown",
   "metadata": {
    "deletable": true,
    "editable": true
   },
   "source": [
    "Initialize a local style database stored in the test directory."
   ]
  },
  {
   "cell_type": "code",
   "execution_count": 3,
   "metadata": {
    "collapsed": false,
    "deletable": true,
    "editable": true
   },
   "outputs": [],
   "source": [
    "dbase = iprPy.Database('local', 'test')"
   ]
  },
  {
   "cell_type": "markdown",
   "metadata": {},
   "source": [
    "Add the record to the database by providing name, style and content. A Record object is initialized based on the arguments and returned."
   ]
  },
  {
   "cell_type": "code",
   "execution_count": 4,
   "metadata": {
    "collapsed": false
   },
   "outputs": [
    {
     "name": "stdout",
     "output_type": "stream",
     "text": [
      "1987--Ackland-G-J--Ag (LAMMPS-potential)\n",
      "<?xml version=\"1.0\" encoding=\"utf-8\"?>\n",
      "<LAMMPS-potential><potential><key>dc4149ce-3592-4131-8683-ecf654d5a519</key><id>1987--Ackland-G-J--Ag</id></potential><units>metal</units><atom_style>atomic</atom_style><atom><element>Ag</element><mass>107.8682</mass></atom><pair_style><type>eam/fs</type></pair_style><pair_coeff><term><file>Ag.eam.fs</file></term><term><symbols>True</symbols></term></pair_coeff></LAMMPS-potential>\n"
     ]
    }
   ],
   "source": [
    "record = dbase.add_record(style='LAMMPS-potential', name='1987--Ackland-G-J--Ag', content=content)\n",
    "\n",
    "#Show the record\n",
    "print(record)\n",
    "print(record.content)"
   ]
  },
  {
   "cell_type": "markdown",
   "metadata": {},
   "source": [
    "Get the version of the record from the database by searching using the record's name."
   ]
  },
  {
   "cell_type": "code",
   "execution_count": 5,
   "metadata": {
    "collapsed": false
   },
   "outputs": [
    {
     "name": "stdout",
     "output_type": "stream",
     "text": [
      "1987--Ackland-G-J--Ag (LAMMPS-potential)\n",
      "<?xml version=\"1.0\" encoding=\"utf-8\"?>\n",
      "<LAMMPS-potential><potential><key>dc4149ce-3592-4131-8683-ecf654d5a519</key><id>1987--Ackland-G-J--Ag</id></potential><units>metal</units><atom_style>atomic</atom_style><atom><element>Ag</element><mass>107.8682</mass></atom><pair_style><type>eam/fs</type></pair_style><pair_coeff><term><file>Ag.eam.fs</file></term><term><symbols>True</symbols></term></pair_coeff></LAMMPS-potential>\n"
     ]
    }
   ],
   "source": [
    "record = dbase.get_record(name=record.name)\n",
    "\n",
    "#Show the record\n",
    "print(record)\n",
    "print(record.content)"
   ]
  },
  {
   "cell_type": "markdown",
   "metadata": {},
   "source": [
    "Get a list of all records in the database of the given style"
   ]
  },
  {
   "cell_type": "code",
   "execution_count": 6,
   "metadata": {
    "collapsed": false
   },
   "outputs": [
    {
     "name": "stdout",
     "output_type": "stream",
     "text": [
      "1 record of style LAMMPS-potential :\n",
      "1987--Ackland-G-J--Ag (LAMMPS-potential)\n"
     ]
    }
   ],
   "source": [
    "records = dbase.get_records(style=record.style)\n",
    "print(len(records), 'record of style', record.style, ':')\n",
    "for r in records:\n",
    "    print(r)    "
   ]
  },
  {
   "cell_type": "markdown",
   "metadata": {},
   "source": [
    "Iterate over all records in the database of the given style"
   ]
  },
  {
   "cell_type": "code",
   "execution_count": 7,
   "metadata": {
    "collapsed": false
   },
   "outputs": [
    {
     "name": "stdout",
     "output_type": "stream",
     "text": [
      "1987--Ackland-G-J--Ag (LAMMPS-potential)\n"
     ]
    }
   ],
   "source": [
    "for r in dbase.iget_records(style=record.style):\n",
    "    print(r)    "
   ]
  },
  {
   "cell_type": "markdown",
   "metadata": {},
   "source": [
    "Modify the record's content by changing the pair_style-type value from 'eam/fs' to 'eam/alloy'."
   ]
  },
  {
   "cell_type": "code",
   "execution_count": 8,
   "metadata": {
    "collapsed": false
   },
   "outputs": [],
   "source": [
    "newmodel = DM(record.content)\n",
    "newmodel['LAMMPS-potential']['pair_style']['type'] = 'eam/alloy'\n",
    "record.content = newmodel.xml()"
   ]
  },
  {
   "cell_type": "code",
   "execution_count": 9,
   "metadata": {
    "collapsed": false
   },
   "outputs": [
    {
     "name": "stdout",
     "output_type": "stream",
     "text": [
      "<?xml version=\"1.0\" encoding=\"utf-8\"?>\n",
      "<LAMMPS-potential><potential><key>dc4149ce-3592-4131-8683-ecf654d5a519</key><id>1987--Ackland-G-J--Ag</id></potential><units>metal</units><atom_style>atomic</atom_style><atom><element>Ag</element><mass>107.8682</mass></atom><pair_style><type>eam/alloy</type></pair_style><pair_coeff><term><file>Ag.eam.fs</file></term><term><symbols>True</symbols></term></pair_coeff></LAMMPS-potential>\n",
      "<?xml version=\"1.0\" encoding=\"utf-8\"?>\n",
      "<LAMMPS-potential><potential><key>dc4149ce-3592-4131-8683-ecf654d5a519</key><id>1987--Ackland-G-J--Ag</id></potential><units>metal</units><atom_style>atomic</atom_style><atom><element>Ag</element><mass>107.8682</mass></atom><pair_style><type>eam/alloy</type></pair_style><pair_coeff><term><file>Ag.eam.fs</file></term><term><symbols>True</symbols></term></pair_coeff></LAMMPS-potential>\n"
     ]
    }
   ],
   "source": [
    "record = dbase.update_record(record=record)\n",
    "\n",
    "#Show that the content of the returned record and the database version of the record has been updated.\n",
    "print(record.content)\n",
    "print(dbase.get_record(name=record.name).content)"
   ]
  },
  {
   "cell_type": "markdown",
   "metadata": {},
   "source": [
    "Delete the record"
   ]
  },
  {
   "cell_type": "code",
   "execution_count": 10,
   "metadata": {
    "collapsed": false
   },
   "outputs": [
    {
     "name": "stdout",
     "output_type": "stream",
     "text": [
      "0 record of style LAMMPS-potential\n"
     ]
    }
   ],
   "source": [
    "dbase.delete_record(name='1987--Ackland-G-J--Ag')\n",
    "\n",
    "#Show that no records of that style remain \n",
    "print(len(dbase.get_records(style='LAMMPS-potential')), 'record of style LAMMPS-potential')"
   ]
  },
  {
   "cell_type": "markdown",
   "metadata": {
    "deletable": true,
    "editable": true
   },
   "source": [
    "- - -"
   ]
  },
  {
   "cell_type": "markdown",
   "metadata": {
    "deletable": true,
    "editable": true
   },
   "source": [
    "__Docs Navigation:__\n",
    "\n",
    "Tutorial:\n",
    "\n",
    "1. [Basics](../tutorial/1 Basics.ipynb)\n",
    "\n",
    "Reference:\n",
    "\n",
    "- [iprPy](../reference/iprPy.ipynb)\n",
    "\n",
    "- [iprPy.calculations](../reference/iprPy.convert.ipynb)\n",
    "\n",
    "- [iprPy.databases](../reference/iprPy.databases.ipynb)\n",
    "\n",
    "- [iprPy.highthroughput](../reference/iprPy.highthroughput.ipynb)\n",
    "\n",
    "- [iprPy.input](../reference/iprPy.input.ipynb)\n",
    "\n",
    "- [iprPy.prepare](../reference/iprPy.prepare.ipynb)\n",
    "\n",
    "- [iprPy.records](../reference/iprPy.records.ipynb)\n",
    "\n",
    "- [iprPy.tools](../reference/iprPy.tools.ipynb)"
   ]
  }
 ],
 "metadata": {
  "kernelspec": {
   "display_name": "Python 2",
   "language": "python",
   "name": "python2"
  },
  "language_info": {
   "codemirror_mode": {
    "name": "ipython",
    "version": 2
   },
   "file_extension": ".py",
   "mimetype": "text/x-python",
   "name": "python",
   "nbconvert_exporter": "python",
   "pygments_lexer": "ipython2",
   "version": "2.7.13"
  }
 },
 "nbformat": 4,
 "nbformat_minor": 0
}
