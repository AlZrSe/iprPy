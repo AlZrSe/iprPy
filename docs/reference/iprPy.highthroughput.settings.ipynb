{
 "cells": [
  {
   "cell_type": "markdown",
   "metadata": {
    "deletable": true,
    "editable": true
   },
   "source": [
    "# iprPy.highthroughput Settings Functions\n",
    "\n",
    "- - -"
   ]
  },
  {
   "cell_type": "markdown",
   "metadata": {
    "deletable": true,
    "editable": true
   },
   "source": [
    "**Lucas M. Hale**, [lucas.hale@nist.gov](mailto:lucas.hale@nist.gov?Subject=ipr-demo), *Materials Science and Engineering Division, NIST*.\n",
    "\n",
    "**Chandler A. Becker**, [chandler.becker@nist.gov](mailto:chandler.becker@nist.gov?Subject=ipr-demo), *Office of Data and Informatics, NIST*.\n",
    "\n",
    "**Zachary T. Trautt**, [zachary.trautt@nist.gov](mailto:zachary.trautt@nist.gov?Subject=ipr-demo), *Materials Measurement Science Division, NIST*.\n",
    "\n",
    "Version: 2017-05-03\n",
    "\n",
    "[Disclaimers](http://www.nist.gov/public_affairs/disclaimer.cfm) \n",
    " \n",
    "- - -"
   ]
  },
  {
   "cell_type": "markdown",
   "metadata": {
    "deletable": true,
    "editable": true
   },
   "source": [
    "## Introduction\n",
    "\n",
    "The iprPy.highthroughput submodule contains a number of functions that allow for pre-defined database settings and run_directory paths to be stored and accessed. These functions offer the convenience of only having to define settings once. The settings are saved to a file .iprPy in the root iprPy directory in JSON format. \n",
    "\n",
    "The underlying code can be found in [iprPy/highthroughput/settings.py](../../iprPy/highthroughput/settings.py)."
   ]
  },
  {
   "cell_type": "markdown",
   "metadata": {
    "deletable": true,
    "editable": true
   },
   "source": [
    "### get_database(name=None)\n",
    "\n",
    "The get_database function retrieves the stored information for a given database, and returns an iprPy.Database initialized according to the settings.\n",
    "\n",
    "Arguments:\n",
    "\n",
    "- __name__ is the name the database is saved under. If not given, the current stored database names will be listed and a prompt given.\n",
    "\n",
    "### get_run_directory(name=None)\n",
    "\n",
    "The get_run_directory function retrieves the stored information for a given run_directory, and returns the directory's path.\n",
    "\n",
    "Arguments:\n",
    "\n",
    "- __name__ is the name the run_directory is saved under. If not given, the current stored run_directory names will be listed and a prompt given.\n",
    "\n",
    "\n",
    "### load_settings()\n",
    "\n",
    "The load_settings function opens and returns the contents of the .iprPy settings file as a DataModelDict object. This allows for direct access and manipulation of the settings file if needed, but use of the other functions is preferred.\n",
    "\n",
    "### save_settings(settings)\n",
    "\n",
    "The save_settings function saves a DataModelDict with root key 'iprPy-defined-parameters' to the .iprPy settings file. This allows for direct access and manipulation of the settings file if needed, but use of the other functions is preferred. \n",
    "\n",
    "Arguments:\n",
    "\n",
    "- __settings__ is a DataModelDict whose first key is 'iprPy-defined-parameters'. \n",
    "\n",
    "### set_database(name=None, style=None, host=None)\n",
    "\n",
    "The set_database function allows for the access parameter settings for a database to be saved under a given name. The style and host parameters are given directly as arguments, and a prompt allows for any other database access parameters to be freely defined.\n",
    "\n",
    "Arguments:\n",
    "\n",
    "- __name__ is the name the database is saved under.\n",
    "\n",
    "- __style__ is the database style to use.\n",
    "\n",
    "- __host__ is the database's host name.\n",
    "\n",
    "### set_run_directory(name=None, path=None)\n",
    "\n",
    "The set_run_directory function allows for a run_directory's path to be saved under a given name.\n",
    "\n",
    "Arguments:\n",
    "\n",
    "- __name__ is the name the run_directory is saved under.\n",
    "\n",
    "- __path__ is the path for the run_directory.\n",
    "\n",
    "### unset_database(name=None)\n",
    "\n",
    "The unset_database function deletes the access information for a stored database. __Deleting is permanent.__\n",
    "\n",
    "Arguments:\n",
    "\n",
    "- __name__ is the name the database is saved under. If not given, the current stored database names will be listed and a prompt given.\n",
    "\n",
    "### unset_run_directory(name=None)\n",
    "\n",
    "The unset_run_directory function deletes the path information for a stored run_directory. __Deleting is permanent.__\n",
    "\n",
    "Arguments:\n",
    "\n",
    "- __name__ is the name the run_directory is saved under. If not given, the current stored run_directory names will be listed and a prompt given."
   ]
  },
  {
   "cell_type": "markdown",
   "metadata": {},
   "source": [
    "## Demonstration"
   ]
  },
  {
   "cell_type": "markdown",
   "metadata": {},
   "source": [
    "Library imports"
   ]
  },
  {
   "cell_type": "code",
   "execution_count": 1,
   "metadata": {
    "collapsed": true
   },
   "outputs": [],
   "source": [
    "#Standard libraries\n",
    "from __future__ import print_function\n",
    "\n",
    "#https://github.com/usnistgov/iprPy\n",
    "import iprPy"
   ]
  },
  {
   "cell_type": "markdown",
   "metadata": {},
   "source": [
    "Set demonstration database and run_directory settings "
   ]
  },
  {
   "cell_type": "code",
   "execution_count": 2,
   "metadata": {
    "collapsed": false
   },
   "outputs": [
    {
     "name": "stdout",
     "output_type": "stream",
     "text": [
      "Enter any other database parameters as key, value\n",
      "Exit by leaving key blank\n",
      "key: \n"
     ]
    }
   ],
   "source": [
    "iprPy.highthroughput.set_database('demo-test', style='local', host='test')"
   ]
  },
  {
   "cell_type": "code",
   "execution_count": 3,
   "metadata": {
    "collapsed": true
   },
   "outputs": [],
   "source": [
    "iprPy.highthroughput.set_run_directory('demo-testing', 'torun')"
   ]
  },
  {
   "cell_type": "markdown",
   "metadata": {},
   "source": [
    "Get the saved settings"
   ]
  },
  {
   "cell_type": "code",
   "execution_count": 4,
   "metadata": {
    "collapsed": false
   },
   "outputs": [
    {
     "name": "stdout",
     "output_type": "stream",
     "text": [
      "iprPy.Database (local) at test\n"
     ]
    }
   ],
   "source": [
    "print(iprPy.highthroughput.get_database('demo-test'))"
   ]
  },
  {
   "cell_type": "code",
   "execution_count": 5,
   "metadata": {
    "collapsed": false
   },
   "outputs": [
    {
     "name": "stdout",
     "output_type": "stream",
     "text": [
      "torun\n"
     ]
    }
   ],
   "source": [
    "print(iprPy.highthroughput.get_run_directory('demo-testing'))"
   ]
  },
  {
   "cell_type": "markdown",
   "metadata": {},
   "source": [
    "If a name is not given, all stored names are listed and a prompt given"
   ]
  },
  {
   "cell_type": "code",
   "execution_count": 6,
   "metadata": {
    "collapsed": false
   },
   "outputs": [
    {
     "name": "stdout",
     "output_type": "stream",
     "text": [
      "Select a database:\n",
      "1 test\n",
      "2 iprhub-local\n",
      "3 iprhub\n",
      "4 demo-test\n",
      ": 4\n",
      "iprPy.Database (local) at test\n"
     ]
    }
   ],
   "source": [
    "print(iprPy.highthroughput.get_database())"
   ]
  },
  {
   "cell_type": "markdown",
   "metadata": {},
   "source": [
    "Delete the test settings"
   ]
  },
  {
   "cell_type": "code",
   "execution_count": 7,
   "metadata": {
    "collapsed": false
   },
   "outputs": [
    {
     "name": "stdout",
     "output_type": "stream",
     "text": [
      "Database demo-test found\n",
      "Delete settings? (must type yes): yes\n",
      "Settings for database demo-test successfully deleted\n"
     ]
    }
   ],
   "source": [
    "iprPy.highthroughput.unset_database('demo-test')"
   ]
  },
  {
   "cell_type": "code",
   "execution_count": 8,
   "metadata": {
    "collapsed": false
   },
   "outputs": [
    {
     "name": "stdout",
     "output_type": "stream",
     "text": [
      "run_directory demo-testing found\n",
      "Delete settings? (must type yes): yes\n",
      "Settings for run_directory demo-testing successfully deleted\n"
     ]
    }
   ],
   "source": [
    "iprPy.highthroughput.unset_run_directory('demo-testing')"
   ]
  },
  {
   "cell_type": "markdown",
   "metadata": {},
   "source": [
    "If you really want, you can also directly view and interact with the stored data using load_settings and save_settings."
   ]
  },
  {
   "cell_type": "code",
   "execution_count": 9,
   "metadata": {
    "collapsed": false
   },
   "outputs": [
    {
     "name": "stdout",
     "output_type": "stream",
     "text": [
      "{\n",
      "    \"iprPy-defined-parameters\": {\n",
      "        \"database\": [\n",
      "            {\n",
      "                \"name\": \"test\", \n",
      "                \"style\": \"local\", \n",
      "                \"host\": \"C:\\\\Users\\\\lmh1\\\\Documents\\\\calculations\\\\ipr\\\\library_test\"\n",
      "            }, \n",
      "            {\n",
      "                \"name\": \"iprhub-local\", \n",
      "                \"style\": \"local\", \n",
      "                \"host\": \"C:\\\\Users\\\\lmh1\\\\Documents\\\\calculations\\\\ipr\\\\library\"\n",
      "            }, \n",
      "            {\n",
      "                \"name\": \"iprhub\", \n",
      "                \"style\": \"curator\", \n",
      "                \"host\": \"https://iprhub.nist.gov/\", \n",
      "                \"params\": [\n",
      "                    {\n",
      "                        \"user\": \"lmh1\"\n",
      "                    }, \n",
      "                    {\n",
      "                        \"pswd\": \"C:/users/lmh1/documents/iprhub/iprhub_password.txt\"\n",
      "                    }, \n",
      "                    {\n",
      "                        \"cert\": \"C:/users/lmh1/documents/iprhub/iprhub-ca.pem\"\n",
      "                    }\n",
      "                ]\n",
      "            }\n",
      "        ], \n",
      "        \"run_directory\": [\n",
      "            {\n",
      "                \"name\": \"test1\", \n",
      "                \"path\": \"C:\\\\Users\\\\lmh1\\\\Documents\\\\calculations\\\\ipr\\\\torun\\\\test\\\\1\"\n",
      "            }, \n",
      "            {\n",
      "                \"name\": \"iprhub-local1\", \n",
      "                \"path\": \"C:\\\\Users\\\\lmh1\\\\Documents\\\\calculations\\\\ipr\\\\torun\\\\iprhub-local\\\\1\"\n",
      "            }, \n",
      "            {\n",
      "                \"name\": \"iprhub-local2\", \n",
      "                \"path\": \"C:\\\\Users\\\\lmh1\\\\Documents\\\\calculations\\\\ipr\\\\torun\\\\iprhub-local\\\\2\"\n",
      "            }, \n",
      "            {\n",
      "                \"name\": \"test4\", \n",
      "                \"path\": \"C:\\\\Users\\\\lmh1\\\\Documents\\\\calculations\\\\ipr\\\\torun\\\\test\\\\4\"\n",
      "            }, \n",
      "            {\n",
      "                \"name\": \"iprhub-local4\", \n",
      "                \"path\": \"C:\\\\Users\\\\lmh1\\\\Documents\\\\calculations\\\\ipr\\\\torun\\\\iprhub-local\\\\4\"\n",
      "            }\n",
      "        ]\n",
      "    }\n",
      "}\n"
     ]
    }
   ],
   "source": [
    "settings = iprPy.highthroughput.load_settings()\n",
    "print(settings.json(indent=4))"
   ]
  },
  {
   "cell_type": "markdown",
   "metadata": {
    "deletable": true,
    "editable": true
   },
   "source": [
    "- - -"
   ]
  },
  {
   "cell_type": "markdown",
   "metadata": {
    "deletable": true,
    "editable": true
   },
   "source": [
    "__Docs Navigation:__\n",
    "\n",
    "Tutorial:\n",
    "\n",
    "1. [Basics](../tutorial/1 Basics.ipynb)\n",
    "\n",
    "Reference:\n",
    "\n",
    "- [iprPy](../reference/iprPy.ipynb)\n",
    "\n",
    "- [iprPy.calculations](../reference/iprPy.convert.ipynb)\n",
    "\n",
    "- [iprPy.databases](../reference/iprPy.databases.ipynb)\n",
    "\n",
    "- [iprPy.highthroughput](../reference/iprPy.highthroughput.ipynb)\n",
    "\n",
    "- [iprPy.input](../reference/iprPy.input.ipynb)\n",
    "\n",
    "- [iprPy.prepare](../reference/iprPy.prepare.ipynb)\n",
    "\n",
    "- [iprPy.records](../reference/iprPy.records.ipynb)\n",
    "\n",
    "- [iprPy.tools](../reference/iprPy.tools.ipynb)"
   ]
  }
 ],
 "metadata": {
  "kernelspec": {
   "display_name": "Python 2",
   "language": "python",
   "name": "python2"
  },
  "language_info": {
   "codemirror_mode": {
    "name": "ipython",
    "version": 2
   },
   "file_extension": ".py",
   "mimetype": "text/x-python",
   "name": "python",
   "nbconvert_exporter": "python",
   "pygments_lexer": "ipython2",
   "version": "2.7.13"
  }
 },
 "nbformat": 4,
 "nbformat_minor": 0
}
