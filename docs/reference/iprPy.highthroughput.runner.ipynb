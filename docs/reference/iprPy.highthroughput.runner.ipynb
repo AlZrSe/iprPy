{
 "cells": [
  {
   "cell_type": "markdown",
   "metadata": {
    "deletable": true,
    "editable": true
   },
   "source": [
    "# iprPy High-throughput Runner\n",
    "\n",
    "- - -"
   ]
  },
  {
   "cell_type": "markdown",
   "metadata": {
    "deletable": true,
    "editable": true
   },
   "source": [
    "**Lucas M. Hale**, [lucas.hale@nist.gov](mailto:lucas.hale@nist.gov?Subject=ipr-demo), *Materials Science and Engineering Division, NIST*.\n",
    "\n",
    "**Chandler A. Becker**, [chandler.becker@nist.gov](mailto:chandler.becker@nist.gov?Subject=ipr-demo), *Office of Data and Informatics, NIST*.\n",
    "\n",
    "**Zachary T. Trautt**, [zachary.trautt@nist.gov](mailto:zachary.trautt@nist.gov?Subject=ipr-demo), *Materials Measurement Science Division, NIST*.\n",
    "\n",
    "Version: 2017-05-03\n",
    "\n",
    "[Disclaimers](http://www.nist.gov/public_affairs/disclaimer.cfm) \n",
    " \n",
    "- - -"
   ]
  },
  {
   "cell_type": "markdown",
   "metadata": {
    "deletable": true,
    "editable": true
   },
   "source": [
    "## Introduction\n",
    "\n",
    "The runner routine is used to perform prepared calculation instances within a run directory. Multiple runners can simultaneously operate on the same run directory and/or same database. The runner also handles errors and dependencies in a simple manner. Each runner records its progress in a log file, which are saved in the runner-log directory.\n",
    "\n",
    "The full description of the runner's processes is provided here:\n",
    "\n",
    "1. The runner randomly selects a calculation instance in the run directory.\n",
    "\n",
    "2. It bids on the calculation. If the bid fails, runner returns to 1.\n",
    "    \n",
    "    1. If a .bid file is already in the calculation, bid fails.\n",
    "    \n",
    "    2. A .bid file is created and the runner pauses for a few seconds. It then checks if the instance still exists and if it has the winning bid (lowest pid). If not, bid fails.\n",
    "\n",
    "3. A check is done to verify that the calculation instance folder contains calc\\_\\*.py and calc\\_\\*.in files, and that an associated record exists in the database. If any of these are missing:\n",
    "\n",
    "    1. The calculation instance is archived as a gzipped tar file and placed in the orphan directory. \n",
    "    \n",
    "    2. The calculation instance folder is deleted from the run directory, and the runner returns to 1. \n",
    "\n",
    "4. The runner checks any parent record .xml and .json files in the calculation instance folder for the status field. \n",
    "\n",
    "    1. If status is 'error', results.json file is created from the partial record and given error message saying parent record issued error. Runner skips to 6.\n",
    "    \n",
    "    2. If status is 'not calculated', the copy of the up-to-date version of the parent record is accessed from the database. \n",
    "    \n",
    "        1. If the status has changed, the new version of the parent record is copied to the run directory, and 3 is tried again.\n",
    "        \n",
    "        2. If the status is still 'not calculated', then the runner tries 2 for the parent calculation's instance.\n",
    "\n",
    "5. The runner performs the Python calculation script as a subprocess.\n",
    "\n",
    "6. If an error is raised, results.json file is created from the partial record and the error message. \n",
    "\n",
    "7. When the calculation is complete, the results.json file produced is uploaded to the database as the calculation's record.\n",
    "\n",
    "8. The calculation instance folder is archived in the database as a gzipped tar file.\n",
    "\n",
    "9. The calculation instance folder is deleted from the run directory, and the runner returns to 1.\n"
   ]
  },
  {
   "cell_type": "markdown",
   "metadata": {
    "deletable": true,
    "editable": true
   },
   "source": [
    "This capability can be accessed in one of three ways:\n",
    "\n",
    "1. Load iprPy in a Python script and directly call the function.\n",
    "\n",
    "2. Run the associated script with an input parameter file.\n",
    "\n",
    "3. Use the iprPy command line with the corresponding option. "
   ]
  },
  {
   "cell_type": "markdown",
   "metadata": {},
   "source": [
    "The underlying code can be found in [iprPy/highthroughput/runner.py](../../iprPy/highthroughput/runner.py)."
   ]
  },
  {
   "cell_type": "markdown",
   "metadata": {
    "deletable": true,
    "editable": true
   },
   "source": [
    "## runner(dbase, run_directory, orphan_directory=None)\n",
    "\n",
    "This is accessing the function through the iprPy package.\n",
    "\n",
    "Arguments:\n",
    "\n",
    "- __dbase__ is an iprPy.Database object.\n",
    "\n",
    "- __run_directory__ is a directory for running the calculation instances from.\n",
    "\n",
    "- __orphan_directory__ is the directory to place incomplete calculation instances. If not specified, will create/use a directory at the same level as the run_directory called 'orphan'."
   ]
  },
  {
   "cell_type": "markdown",
   "metadata": {
    "deletable": true,
    "editable": true
   },
   "source": [
    "## $./runner.py runner.in\n",
    "\n",
    "This is running the associated isolated script with an input parameter file.\n",
    "\n",
    "Input file parameters:\n",
    "\n",
    "- __database__ is the 'style host' for initializing the database.\n",
    "\n",
    "- __database_*__  define any values for any other database initialization parameters named \\*.\n",
    "\n",
    "- __run_directory__ is a directory for running the calculation instances from.\n",
    "\n",
    "- __orphan_directory__ is the directory to place incomplete calculation instances. If not specified, will create/use a directory at the same level as the run_directory called 'orphan'."
   ]
  },
  {
   "cell_type": "markdown",
   "metadata": {
    "deletable": true,
    "editable": true
   },
   "source": [
    "## $./iprPy runner [database] [run_directory]\n",
    "\n",
    "This is using the associated command line option.\n",
    "\n",
    "Command line options:\n",
    "\n",
    "- __database__ is the name associated with database settings saved to the [.iprPy settings](iprPy.highthroughput.settings.ipynb). If not given, the current stored database names will be listed and a prompt given.\n",
    "\n",
    "- __run_directory__ is a directory for running the calculation instances from. If not given, the current stored run_directory names will be listed and a prompt given."
   ]
  },
  {
   "cell_type": "markdown",
   "metadata": {
    "deletable": true,
    "editable": true
   },
   "source": [
    "## Demonstration"
   ]
  },
  {
   "cell_type": "markdown",
   "metadata": {
    "deletable": true,
    "editable": true
   },
   "source": [
    "Demonstration is left for the tutorials."
   ]
  },
  {
   "cell_type": "markdown",
   "metadata": {
    "deletable": true,
    "editable": true
   },
   "source": [
    "- - -"
   ]
  },
  {
   "cell_type": "markdown",
   "metadata": {
    "deletable": true,
    "editable": true
   },
   "source": [
    "__Docs Navigation:__\n",
    "\n",
    "Tutorial:\n",
    "\n",
    "1. [Basics](../tutorial/1 Basics.ipynb)\n",
    "\n",
    "Reference:\n",
    "\n",
    "- [iprPy](../reference/iprPy.ipynb)\n",
    "\n",
    "- [iprPy.calculations](../reference/iprPy.convert.ipynb)\n",
    "\n",
    "- [iprPy.databases](../reference/iprPy.databases.ipynb)\n",
    "\n",
    "- [iprPy.highthroughput](../reference/iprPy.highthroughput.ipynb)\n",
    "\n",
    "- [iprPy.input](../reference/iprPy.input.ipynb)\n",
    "\n",
    "- [iprPy.prepare](../reference/iprPy.prepare.ipynb)\n",
    "\n",
    "- [iprPy.records](../reference/iprPy.records.ipynb)\n",
    "\n",
    "- [iprPy.tools](../reference/iprPy.tools.ipynb)"
   ]
  }
 ],
 "metadata": {
  "kernelspec": {
   "display_name": "Python 2",
   "language": "python",
   "name": "python2"
  },
  "language_info": {
   "codemirror_mode": {
    "name": "ipython",
    "version": 2
   },
   "file_extension": ".py",
   "mimetype": "text/x-python",
   "name": "python",
   "nbconvert_exporter": "python",
   "pygments_lexer": "ipython2",
   "version": "2.7.13"
  }
 },
 "nbformat": 4,
 "nbformat_minor": 0
}
