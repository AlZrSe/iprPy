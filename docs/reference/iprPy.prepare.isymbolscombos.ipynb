{
 "cells": [
  {
   "cell_type": "markdown",
   "metadata": {
    "deletable": true,
    "editable": true
   },
   "source": [
    "# iprPy.prepare.isymbolscombos(prototype, potential)\n",
    "- - -"
   ]
  },
  {
   "cell_type": "markdown",
   "metadata": {
    "deletable": true,
    "editable": true
   },
   "source": [
    "**Lucas M. Hale**, [lucas.hale@nist.gov](mailto:lucas.hale@nist.gov?Subject=ipr-demo), *Materials Science and Engineering Division, NIST*.\n",
    "\n",
    "**Chandler A. Becker**, [chandler.becker@nist.gov](mailto:chandler.becker@nist.gov?Subject=ipr-demo), *Office of Data and Informatics, NIST*.\n",
    "\n",
    "**Zachary T. Trautt**, [zachary.trautt@nist.gov](mailto:zachary.trautt@nist.gov?Subject=ipr-demo), *Materials Measurement Science Division, NIST*.\n",
    "\n",
    "Version: 2017-05-05\n",
    "\n",
    "[Disclaimers](http://www.nist.gov/public_affairs/disclaimer.cfm) \n",
    " \n",
    "- - -"
   ]
  },
  {
   "cell_type": "markdown",
   "metadata": {
    "deletable": true,
    "editable": true
   },
   "source": [
    "## Introduction\n",
    "\n",
    "The isymbolscombos function iterates over all possible symbols lists associated with a particular prototype record and a particular potential record (both iprPy.Record objects). Each yielded list of symbols will have a length matching the number of unique atomic sites associated with the prototype, and consist of only elemental symbols supported by the potential.\n",
    "  \n",
    "\n",
    "Arguments:\n",
    "\n",
    "- __prototype__ is the prototype record to use.\n",
    "    \n",
    "- __potential__ is the potential record to use.\n",
    "\n",
    "The underlying code can be found in [iprPy/prepare/isymbolscombos.py](../../iprPy/prepare/isymbolscombos.py)."
   ]
  },
  {
   "cell_type": "markdown",
   "metadata": {
    "deletable": true,
    "editable": true
   },
   "source": [
    "## Demonstration"
   ]
  },
  {
   "cell_type": "markdown",
   "metadata": {
    "deletable": true,
    "editable": true
   },
   "source": [
    "Library imports"
   ]
  },
  {
   "cell_type": "code",
   "execution_count": 1,
   "metadata": {
    "collapsed": true,
    "deletable": true,
    "editable": true
   },
   "outputs": [],
   "source": [
    "#Standard libraries\n",
    "from __future__ import print_function\n",
    "\n",
    "#https://github.com/usnistgov/iprPy\n",
    "import iprPy"
   ]
  },
  {
   "cell_type": "markdown",
   "metadata": {
    "deletable": true,
    "editable": true
   },
   "source": [
    "Initialize a Database object to a database containing calculation records."
   ]
  },
  {
   "cell_type": "code",
   "execution_count": 2,
   "metadata": {
    "collapsed": false,
    "deletable": true,
    "editable": true
   },
   "outputs": [],
   "source": [
    "dbase = iprPy.Database('local', 'C:\\\\Users\\\\lmh1\\\\Documents\\\\calculations\\\\ipr\\\\library_test')"
   ]
  },
  {
   "cell_type": "markdown",
   "metadata": {
    "deletable": true,
    "editable": true
   },
   "source": [
    "Get a prototype and potential record from the database"
   ]
  },
  {
   "cell_type": "code",
   "execution_count": 3,
   "metadata": {
    "collapsed": false,
    "deletable": true,
    "editable": true
   },
   "outputs": [],
   "source": [
    "prototype = dbase.get_record(name='C1--CaF2--fluorite', style='crystal-prototype')\n",
    "potential = dbase.get_record(name='1985--Foiles-S-M--Ni-Cu', style='LAMMPS-potential')"
   ]
  },
  {
   "cell_type": "markdown",
   "metadata": {
    "deletable": true,
    "editable": true
   },
   "source": [
    "Use isymbolscombos to generate all atom site - element symbol combinations"
   ]
  },
  {
   "cell_type": "code",
   "execution_count": 4,
   "metadata": {
    "collapsed": false,
    "deletable": true,
    "editable": true
   },
   "outputs": [
    {
     "name": "stdout",
     "output_type": "stream",
     "text": [
      "['Cu', 'Cu']\n",
      "['Cu', 'Ni']\n",
      "['Ni', 'Cu']\n",
      "['Ni', 'Ni']\n"
     ]
    }
   ],
   "source": [
    "for symbols in iprPy.prepare.isymbolscombos(prototype, potential):\n",
    "    print(symbols)"
   ]
  },
  {
   "cell_type": "markdown",
   "metadata": {
    "deletable": true,
    "editable": true
   },
   "source": [
    "- - -"
   ]
  },
  {
   "cell_type": "markdown",
   "metadata": {
    "deletable": true,
    "editable": true
   },
   "source": [
    "__Docs Navigation:__\n",
    "\n",
    "Tutorial:\n",
    "\n",
    "1. [Basics](../tutorial/1 Basics.ipynb)\n",
    "\n",
    "Reference:\n",
    "\n",
    "- [iprPy](../reference/iprPy.ipynb)\n",
    "\n",
    "- [iprPy.calculations](../reference/iprPy.convert.ipynb)\n",
    "\n",
    "- [iprPy.databases](../reference/iprPy.databases.ipynb)\n",
    "\n",
    "- [iprPy.highthroughput](../reference/iprPy.highthroughput.ipynb)\n",
    "\n",
    "- [iprPy.input](../reference/iprPy.input.ipynb)\n",
    "\n",
    "- [iprPy.prepare](../reference/iprPy.prepare.ipynb)\n",
    "\n",
    "- [iprPy.records](../reference/iprPy.records.ipynb)\n",
    "\n",
    "- [iprPy.tools](../reference/iprPy.tools.ipynb)"
   ]
  }
 ],
 "metadata": {
  "kernelspec": {
   "display_name": "Python 2",
   "language": "python",
   "name": "python2"
  },
  "language_info": {
   "codemirror_mode": {
    "name": "ipython",
    "version": 2
   },
   "file_extension": ".py",
   "mimetype": "text/x-python",
   "name": "python",
   "nbconvert_exporter": "python",
   "pygments_lexer": "ipython2",
   "version": "2.7.13"
  }
 },
 "nbformat": 4,
 "nbformat_minor": 0
}
