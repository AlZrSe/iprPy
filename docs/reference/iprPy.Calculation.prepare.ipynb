{
 "cells": [
  {
   "cell_type": "markdown",
   "metadata": {
    "deletable": true,
    "editable": true
   },
   "source": [
    "# iprPy.Calculation.prepare(self, dbase, run_directory, \\*args, \\*\\*kwargs)\n",
    "- - -"
   ]
  },
  {
   "cell_type": "markdown",
   "metadata": {
    "deletable": true,
    "editable": true
   },
   "source": [
    "**Lucas M. Hale**, [lucas.hale@nist.gov](mailto:lucas.hale@nist.gov?Subject=ipr-demo), *Materials Science and Engineering Division, NIST*.\n",
    "\n",
    "**Chandler A. Becker**, [chandler.becker@nist.gov](mailto:chandler.becker@nist.gov?Subject=ipr-demo), *Office of Data and Informatics, NIST*.\n",
    "\n",
    "**Zachary T. Trautt**, [zachary.trautt@nist.gov](mailto:zachary.trautt@nist.gov?Subject=ipr-demo), *Materials Measurement Science Division, NIST*.\n",
    "\n",
    "Version: 2017-05-03\n",
    "\n",
    "[Disclaimers](http://www.nist.gov/public_affairs/disclaimer.cfm) \n",
    " \n",
    "- - -"
   ]
  },
  {
   "cell_type": "markdown",
   "metadata": {
    "deletable": true,
    "editable": true
   },
   "source": [
    "## Introduction\n",
    "\n",
    "The prepare method of Calculation calls the primary function of the calculation's high-throughput prepare script. Calling the prepare function directly as opposed to running the script can be advantageous in designing workflow scripts that prepare multiple calculation styles.\n",
    "\n",
    "Arguments:\n",
    "\n",
    "- __dbase__ is an iprPy.Database object. The specific calculation instances prepared depends on which records are currently in dbase. Also, every calculation instance that is prepared will have a corresponding record added to dbase.\n",
    "\n",
    "- __run_directory__ is the path for the local directory where all of the prepared calculation instance folders are to be placed. This is the directory from which all the calculation instances will be executed from.\n",
    "\n",
    "- __\\*args, \\*\\*kwargs__ are all of the other allowed arguments that are specific to the calculation style. The allowed terms mostly correspond to the calculation style's prepare_keys, with exceptions being\n",
    "\n",
    "    - The redundant database, database\\_\\* and run_directory keys are excluded.\n",
    "\n",
    "    - Additional arguments can be defined for passing complex data type parameters directly.\n",
    "    \n",
    "The underlying code can be found in [iprPy/calculation_functions.py](../../iprPy/calculation_functions.py)."
   ]
  },
  {
   "cell_type": "markdown",
   "metadata": {
    "deletable": true,
    "editable": true
   },
   "source": [
    "## Demonstration"
   ]
  },
  {
   "cell_type": "markdown",
   "metadata": {
    "deletable": true,
    "editable": true
   },
   "source": [
    "Library Imports"
   ]
  },
  {
   "cell_type": "code",
   "execution_count": 1,
   "metadata": {
    "collapsed": true,
    "deletable": true,
    "editable": true
   },
   "outputs": [],
   "source": [
    "#Standard libraries\n",
    "from __future__ import print_function\n",
    "import os\n",
    "import shutil\n",
    "\n",
    "#https://github.com/usnistgov/iprPy\n",
    "import iprPy"
   ]
  },
  {
   "cell_type": "markdown",
   "metadata": {},
   "source": [
    "Define paths for run_directory and database's host."
   ]
  },
  {
   "cell_type": "code",
   "execution_count": 2,
   "metadata": {
    "collapsed": false
   },
   "outputs": [
    {
     "name": "stdout",
     "output_type": "stream",
     "text": [
      "dbase_host:\n",
      "C:\\Users\\lmh1\\Documents\\Python-packages\\iprPy\\docs\\reference\\files\\iprPy.Calulation.prepare\\database\n",
      "run_directory:\n",
      "C:\\Users\\lmh1\\Documents\\Python-packages\\iprPy\\docs\\reference\\files\\iprPy.Calulation.prepare\\torun\n"
     ]
    }
   ],
   "source": [
    "dbase_host = os.path.abspath(os.path.join('files', 'iprPy.Calulation.prepare', 'database'))\n",
    "run_directory = os.path.abspath(os.path.join('files', 'iprPy.Calulation.prepare', 'torun'))\n",
    "print('dbase_host:')\n",
    "print(dbase_host)\n",
    "print('run_directory:')\n",
    "print(run_directory)"
   ]
  },
  {
   "cell_type": "markdown",
   "metadata": {
    "deletable": true,
    "editable": true
   },
   "source": [
    "Initialize a local demonstration [Database](iprPy.Database.ipynb)."
   ]
  },
  {
   "cell_type": "code",
   "execution_count": 3,
   "metadata": {
    "collapsed": false,
    "deletable": true,
    "editable": true
   },
   "outputs": [
    {
     "name": "stdout",
     "output_type": "stream",
     "text": [
      "iprPy.Database (local) at C:\\Users\\lmh1\\Documents\\Python-packages\\iprPy\\docs\\reference\\files\\iprPy.Calulation.prepare\\database\n"
     ]
    }
   ],
   "source": [
    "dbase = iprPy.Database('local', dbase_host)\n",
    "print(dbase)"
   ]
  },
  {
   "cell_type": "markdown",
   "metadata": {
    "deletable": true,
    "editable": true
   },
   "source": [
    "Add all reference records to the database using high-throughput [build](iprPy.highthroughput.build.ipynb)."
   ]
  },
  {
   "cell_type": "code",
   "execution_count": 4,
   "metadata": {
    "collapsed": false,
    "deletable": true,
    "editable": true
   },
   "outputs": [],
   "source": [
    "iprPy.highthroughput.build(dbase)"
   ]
  },
  {
   "cell_type": "markdown",
   "metadata": {
    "deletable": true,
    "editable": true
   },
   "source": [
    "Create a [Calculation](iprPy.Calculation.ipynb) of style E_vs_r_scan."
   ]
  },
  {
   "cell_type": "code",
   "execution_count": 5,
   "metadata": {
    "collapsed": false,
    "deletable": true,
    "editable": true
   },
   "outputs": [],
   "source": [
    "calc = iprPy.Calculation('E_vs_r_scan')"
   ]
  },
  {
   "cell_type": "markdown",
   "metadata": {
    "deletable": true,
    "editable": true
   },
   "source": [
    "Check the calculation style's [prepare_keys](iprPy.Calculation.prepare_keys.ipynb)."
   ]
  },
  {
   "cell_type": "code",
   "execution_count": 6,
   "metadata": {
    "collapsed": false,
    "deletable": true,
    "editable": true
   },
   "outputs": [
    {
     "name": "stdout",
     "output_type": "stream",
     "text": [
      "{'multi': ['potential_element', 'potential_name', 'potential_pair_style', 'prototype_natypes', 'prototype_name', 'prototype_spacegroup', 'prototype_crystalfamily', 'prototype_Pearsonsymbol'], 'singular': ['database', 'run_directory', 'lammps_command', 'mpi_command', 'sizemults', 'minimum_r', 'maximum_r', 'number_of_steps_r', 'length_unit', 'pressure_unit', 'energy_unit', 'force_unit']}\n"
     ]
    }
   ],
   "source": [
    "print(calc.prepare_keys)"
   ]
  },
  {
   "cell_type": "markdown",
   "metadata": {},
   "source": [
    "Call prepare with a few extra arguments:\n",
    "\n",
    "- 'lammps_command' is required.\n",
    "\n",
    "- 'potential_name' limits the calculation instances prepared to only the listed potential(s).\n",
    "\n",
    "- 'prototype_name' limits the calculation instances prepared to only the listed crystal prototype(s)."
   ]
  },
  {
   "cell_type": "code",
   "execution_count": 7,
   "metadata": {
    "collapsed": true
   },
   "outputs": [],
   "source": [
    "calc.prepare(dbase, run_directory, \n",
    "             lammps_command='lmp_serial',\n",
    "             potential_name = '2003--Mendelev-M-I--Fe-2',\n",
    "             prototype_name = ['A1--Cu--fcc', 'A2--W--bcc'])"
   ]
  },
  {
   "cell_type": "markdown",
   "metadata": {
    "deletable": true,
    "editable": true
   },
   "source": [
    "Show that prepared calculation instances are in run_directory, and corresponding 'calculation-cohesive-energy-relation' records are in the database."
   ]
  },
  {
   "cell_type": "code",
   "execution_count": 8,
   "metadata": {
    "collapsed": false
   },
   "outputs": [
    {
     "name": "stdout",
     "output_type": "stream",
     "text": [
      "Calculation folders in run_directory:\n",
      "c120115f-d063-454d-8818-fd07a0c40e5f\n",
      "ca732492-5a4a-4f36-ad07-3100265fe2c8\n",
      "\n",
      "calculation-cohesive-energy-relation XML records in the database:\n",
      "c120115f-d063-454d-8818-fd07a0c40e5f (calculation-cohesive-energy-relation)\n",
      "ca732492-5a4a-4f36-ad07-3100265fe2c8 (calculation-cohesive-energy-relation)\n"
     ]
    }
   ],
   "source": [
    "print('Calculation folders in run_directory:')\n",
    "for fname in os.listdir(run_directory):\n",
    "    print(fname)\n",
    "print()\n",
    "\n",
    "print('calculation-cohesive-energy-relation XML records in the database:')\n",
    "for record in dbase.iget_records(style='calculation-cohesive-energy-relation'):\n",
    "    print(record)"
   ]
  },
  {
   "cell_type": "markdown",
   "metadata": {},
   "source": [
    "File cleanup"
   ]
  },
  {
   "cell_type": "code",
   "execution_count": 9,
   "metadata": {
    "collapsed": true
   },
   "outputs": [],
   "source": [
    "shutil.rmtree(run_directory)\n",
    "shutil.rmtree(dbase_host)"
   ]
  },
  {
   "cell_type": "markdown",
   "metadata": {
    "deletable": true,
    "editable": true
   },
   "source": [
    "- - -"
   ]
  },
  {
   "cell_type": "markdown",
   "metadata": {
    "deletable": true,
    "editable": true
   },
   "source": [
    "__Docs Navigation:__\n",
    "\n",
    "Tutorial:\n",
    "\n",
    "1. [Basics](../tutorial/1 Basics.ipynb)\n",
    "\n",
    "Reference:\n",
    "\n",
    "- [iprPy](../reference/iprPy.ipynb)\n",
    "\n",
    "- [iprPy.calculations](../reference/iprPy.convert.ipynb)\n",
    "\n",
    "- [iprPy.databases](../reference/iprPy.databases.ipynb)\n",
    "\n",
    "- [iprPy.highthroughput](../reference/iprPy.highthroughput.ipynb)\n",
    "\n",
    "- [iprPy.input](../reference/iprPy.input.ipynb)\n",
    "\n",
    "- [iprPy.prepare](../reference/iprPy.prepare.ipynb)\n",
    "\n",
    "- [iprPy.records](../reference/iprPy.records.ipynb)\n",
    "\n",
    "- [iprPy.tools](../reference/iprPy.tools.ipynb)"
   ]
  }
 ],
 "metadata": {
  "kernelspec": {
   "display_name": "Python 2",
   "language": "python",
   "name": "python2"
  },
  "language_info": {
   "codemirror_mode": {
    "name": "ipython",
    "version": 2
   },
   "file_extension": ".py",
   "mimetype": "text/x-python",
   "name": "python",
   "nbconvert_exporter": "python",
   "pygments_lexer": "ipython2",
   "version": "2.7.13"
  }
 },
 "nbformat": 4,
 "nbformat_minor": 0
}
