{
 "cells": [
  {
   "cell_type": "markdown",
   "metadata": {
    "deletable": true,
    "editable": true
   },
   "source": [
    "# iprPy.Calculation.read_input(self, fp, \\*args)\n",
    "- - -"
   ]
  },
  {
   "cell_type": "markdown",
   "metadata": {
    "deletable": true,
    "editable": true
   },
   "source": [
    "**Lucas M. Hale**, [lucas.hale@nist.gov](mailto:lucas.hale@nist.gov?Subject=ipr-demo), *Materials Science and Engineering Division, NIST*.\n",
    "\n",
    "**Chandler A. Becker**, [chandler.becker@nist.gov](mailto:chandler.becker@nist.gov?Subject=ipr-demo), *Office of Data and Informatics, NIST*.\n",
    "\n",
    "**Zachary T. Trautt**, [zachary.trautt@nist.gov](mailto:zachary.trautt@nist.gov?Subject=ipr-demo), *Materials Measurement Science Division, NIST*.\n",
    "\n",
    "Version: 2017-05-03\n",
    "\n",
    "[Disclaimers](http://www.nist.gov/public_affairs/disclaimer.cfm) \n",
    " \n",
    "- - -"
   ]
  },
  {
   "cell_type": "markdown",
   "metadata": {
    "deletable": true,
    "editable": true
   },
   "source": [
    "## Introduction\n",
    "\n",
    "The read_input method of Calculation reads in the terms associated with a calculation's input parameter file, assigns default values if necessary, and returns a dictionary of the terms read in.\n",
    "\n",
    "Arguments:\n",
    "\n",
    "- __fp__ is an open file-like object of the input paramter file.  \n",
    "\n",
    "- __UUID__ (optional) is the calculation instance's unique key (id). If not given, a random uuid4 will be generated and assigned to the calculation, which is included in the returned dictionary as 'calc_key'.\n",
    "\n",
    "__Note__: read_input should only do minimal processing of the terms being read in (assign default values, interpret numbers, convert units, etc.). More complex actions, such as reading in listed files (or even verifying that the files exist), is handled elsewhere. This makes it possible to use read_input not only for running calculations but also for generating associated records based on the input parameter files.\n",
    "\n",
    "The underlying code can be found in [iprPy/calculation_functions.py](../../iprPy/calculation_functions.py)."
   ]
  },
  {
   "cell_type": "markdown",
   "metadata": {
    "deletable": true,
    "editable": true
   },
   "source": [
    "## Demonstration"
   ]
  },
  {
   "cell_type": "markdown",
   "metadata": {
    "deletable": true,
    "editable": true
   },
   "source": [
    "Library Imports"
   ]
  },
  {
   "cell_type": "code",
   "execution_count": 1,
   "metadata": {
    "collapsed": true,
    "deletable": true,
    "editable": true
   },
   "outputs": [],
   "source": [
    "#Standard libraries\n",
    "from __future__ import print_function\n",
    "from StringIO import StringIO\n",
    "\n",
    "#https://github.com/usnistgov/iprPy\n",
    "import iprPy"
   ]
  },
  {
   "cell_type": "markdown",
   "metadata": {
    "deletable": true,
    "editable": true
   },
   "source": [
    "Initialize a Calculation object with the E_vs_r_scan style."
   ]
  },
  {
   "cell_type": "code",
   "execution_count": 2,
   "metadata": {
    "collapsed": false,
    "deletable": true,
    "editable": true
   },
   "outputs": [
    {
     "name": "stdout",
     "output_type": "stream",
     "text": [
      "iprPy.Calculation (E_vs_r_scan)\n"
     ]
    }
   ],
   "source": [
    "calc = iprPy.Calculation('E_vs_r_scan')\n",
    "print(calc)"
   ]
  },
  {
   "cell_type": "markdown",
   "metadata": {
    "deletable": true,
    "editable": true
   },
   "source": [
    "Show the calculation's input parameter template file."
   ]
  },
  {
   "cell_type": "code",
   "execution_count": 3,
   "metadata": {
    "collapsed": false,
    "deletable": true,
    "editable": true
   },
   "outputs": [
    {
     "name": "stdout",
     "output_type": "stream",
     "text": [
      "#Run script for calc_E_vs_r_scan.py\n",
      "\n",
      "#Command lines for LAMMPS (and MPI).\n",
      "#For lammps_command, exclude passing in a script, i.e. no \"-in term\"\n",
      "lammps_command              <lammps_command>\n",
      "mpi_command                 <mpi_command>\n",
      "\n",
      "#Paths to the potential data model file, and directory containing potential parameters\n",
      "potential_file              <potential_file>\n",
      "potential_dir               <potential_dir>\n",
      "\n",
      "#Initial system configuration to load\n",
      "load                        <load>\n",
      "load_options                <load_options>\n",
      "symbols                     <symbols>\n",
      "box_parameters              <box_parameters>\n",
      "\n",
      "#System manipulations\n",
      "x_axis                      <x_axis>\n",
      "y_axis                      <y_axis>\n",
      "z_axis                      <z_axis>\n",
      "atomshift                   <atomshift>\n",
      "sizemults                   <sizemults>\n",
      "\n",
      "#Units that input/output values are in\n",
      "length_unit                 <length_unit>\n",
      "pressure_unit               <pressure_unit>\n",
      "energy_unit                 <energy_unit>\n",
      "force_unit                  <force_unit>\n",
      "\n",
      "#Run parameters\n",
      "minimum_r                   <minimum_r>\n",
      "maximum_r                   <maximum_r>\n",
      "number_of_steps_r           <number_of_steps_r>\n",
      "\n"
     ]
    }
   ],
   "source": [
    "print(calc.template)"
   ]
  },
  {
   "cell_type": "markdown",
   "metadata": {},
   "source": [
    "Assign values to the input parameter terms and fill in the template using [iprPy.tools.filltemplate](iprPy.tools.filltemplate.ipynb)."
   ]
  },
  {
   "cell_type": "code",
   "execution_count": 4,
   "metadata": {
    "collapsed": false
   },
   "outputs": [
    {
     "name": "stdout",
     "output_type": "stream",
     "text": [
      "#Run script for calc_E_vs_r_scan.py\n",
      "\n",
      "#Command lines for LAMMPS (and MPI).\n",
      "#For lammps_command, exclude passing in a script, i.e. no \"-in term\"\n",
      "lammps_command              lmp_serial\n",
      "mpi_command                 \n",
      "\n",
      "#Paths to the potential data model file, and directory containing potential parameters\n",
      "potential_file              my_potential.json\n",
      "potential_dir               \n",
      "\n",
      "#Initial system configuration to load\n",
      "load                        system_model this_system.json\n",
      "load_options                \n",
      "symbols                     \n",
      "box_parameters              \n",
      "\n",
      "#System manipulations\n",
      "x_axis                      \n",
      "y_axis                      \n",
      "z_axis                      \n",
      "atomshift                   \n",
      "sizemults                   \n",
      "\n",
      "#Units that input/output values are in\n",
      "length_unit                 \n",
      "pressure_unit               \n",
      "energy_unit                 \n",
      "force_unit                  \n",
      "\n",
      "#Run parameters\n",
      "minimum_r                   \n",
      "maximum_r                   \n",
      "number_of_steps_r           \n",
      "\n"
     ]
    }
   ],
   "source": [
    "parameter_dict = {}\n",
    "\n",
    "#Command lines for LAMMPS (and MPI).\n",
    "#For lammps_command, exclude passing in a script, i.e. no \"-in term\"\n",
    "parameter_dict['lammps_command'] =  'lmp_serial'       \n",
    "parameter_dict['mpi_command'] =     ''\n",
    "parameter_dict['potential_file'] =  'my_potential.json'\n",
    "parameter_dict['potential_dir'] =   ''\n",
    "\n",
    "#Initial system configuration to load\n",
    "parameter_dict['load'] =           'system_model this_system.json'\n",
    "parameter_dict['load_options'] =   ''\n",
    "parameter_dict['symbols'] =        ''\n",
    "parameter_dict['box_parameters'] = ''\n",
    "\n",
    "#System manipulations\n",
    "parameter_dict['x_axis'] =    ''\n",
    "parameter_dict['y_axis'] =    ''\n",
    "parameter_dict['z_axis'] =    ''\n",
    "parameter_dict['atomshift'] = ''\n",
    "parameter_dict['sizemults'] = ''\n",
    "\n",
    "#Units that input/output values are in\n",
    "parameter_dict['length_unit'] =   ''\n",
    "parameter_dict['pressure_unit'] = ''\n",
    "parameter_dict['energy_unit'] =   ''\n",
    "parameter_dict['force_unit'] =    ''\n",
    "\n",
    "#Run parameters\n",
    "parameter_dict['minimum_r'] =         ''\n",
    "parameter_dict['maximum_r'] =         ''\n",
    "parameter_dict['number_of_steps_r'] = ''\n",
    "\n",
    "#Fill in template\n",
    "infile = iprPy.tools.filltemplate(calc.template, parameter_dict, '<', '>')\n",
    "print(infile)"
   ]
  },
  {
   "cell_type": "markdown",
   "metadata": {},
   "source": [
    "Pass infile to the calculation's read_input. The returned dictionary will replace blank values with default values. "
   ]
  },
  {
   "cell_type": "code",
   "execution_count": 5,
   "metadata": {
    "collapsed": true
   },
   "outputs": [],
   "source": [
    "input_dict = calc.read_input(StringIO(infile))"
   ]
  },
  {
   "cell_type": "markdown",
   "metadata": {},
   "source": [
    "Show all values in input_dict"
   ]
  },
  {
   "cell_type": "code",
   "execution_count": 6,
   "metadata": {
    "collapsed": false
   },
   "outputs": [
    {
     "name": "stdout",
     "output_type": "stream",
     "text": [
      "load = system_model this_system.json\n",
      "potential_file = my_potential.json\n",
      "potential_dir = \n",
      "mpi_command = None\n",
      "atomshift = [0.0, 0.0, 0.0]\n",
      "length_unit = angstrom\n",
      "load_options = None\n",
      "minimum_r = 2.0\n",
      "lammps_command = lmp_serial\n",
      "sizemults = [[0, 3], [0, 3], [0, 3]]\n",
      "energy_unit = eV\n",
      "force_unit = eV/angstrom\n",
      "number_of_steps_r = 200\n",
      "symbols = None\n",
      "calc_key = 63e4ce85-e576-407c-9aa4-0588e4866cc6\n",
      "box_parameters = None\n",
      "y_axis = [0.0, 1.0, 0.0]\n",
      "maximum_r = 6.0\n",
      "pressure_unit = GPa\n",
      "z_axis = [0.0, 0.0, 1.0]\n",
      "x_axis = [1.0, 0.0, 0.0]\n"
     ]
    }
   ],
   "source": [
    "for key in input_dict:\n",
    "    print(key, '=', input_dict[key])"
   ]
  },
  {
   "cell_type": "markdown",
   "metadata": {},
   "source": [
    "If only the input file is passed to read_input, then calc_key is randomly generated. Passing a second argument allows for the calc_key to be set explicitly."
   ]
  },
  {
   "cell_type": "code",
   "execution_count": 7,
   "metadata": {
    "collapsed": false
   },
   "outputs": [
    {
     "name": "stdout",
     "output_type": "stream",
     "text": [
      "calc_key = my_calc_key\n"
     ]
    }
   ],
   "source": [
    "input_dict = calc.read_input(StringIO(infile), 'my_calc_key')\n",
    "print('calc_key', '=', input_dict['calc_key'])"
   ]
  },
  {
   "cell_type": "markdown",
   "metadata": {
    "deletable": true,
    "editable": true
   },
   "source": [
    "- - -"
   ]
  },
  {
   "cell_type": "markdown",
   "metadata": {
    "deletable": true,
    "editable": true
   },
   "source": [
    "__Docs Navigation:__\n",
    "\n",
    "Tutorial:\n",
    "\n",
    "1. [Basics](../tutorial/1 Basics.ipynb)\n",
    "\n",
    "Reference:\n",
    "\n",
    "- [iprPy](../reference/iprPy.ipynb)\n",
    "\n",
    "- [iprPy.calculations](../reference/iprPy.convert.ipynb)\n",
    "\n",
    "- [iprPy.databases](../reference/iprPy.databases.ipynb)\n",
    "\n",
    "- [iprPy.highthroughput](../reference/iprPy.highthroughput.ipynb)\n",
    "\n",
    "- [iprPy.input](../reference/iprPy.input.ipynb)\n",
    "\n",
    "- [iprPy.prepare](../reference/iprPy.prepare.ipynb)\n",
    "\n",
    "- [iprPy.records](../reference/iprPy.records.ipynb)\n",
    "\n",
    "- [iprPy.tools](../reference/iprPy.tools.ipynb)"
   ]
  }
 ],
 "metadata": {
  "kernelspec": {
   "display_name": "Python 2",
   "language": "python",
   "name": "python2"
  },
  "language_info": {
   "codemirror_mode": {
    "name": "ipython",
    "version": 2
   },
   "file_extension": ".py",
   "mimetype": "text/x-python",
   "name": "python",
   "nbconvert_exporter": "python",
   "pygments_lexer": "ipython2",
   "version": "2.7.13"
  }
 },
 "nbformat": 4,
 "nbformat_minor": 0
}
