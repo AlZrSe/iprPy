{
 "cells": [
  {
   "cell_type": "markdown",
   "metadata": {
    "deletable": true,
    "editable": true
   },
   "source": [
    "# iprPy.input.sizemults(input_dict, \\*\\*kwargs)\n",
    "\n",
    "- - -"
   ]
  },
  {
   "cell_type": "markdown",
   "metadata": {
    "deletable": true,
    "editable": true
   },
   "source": [
    "**Lucas M. Hale**, [lucas.hale@nist.gov](mailto:lucas.hale@nist.gov?Subject=ipr-demo), *Materials Science and Engineering Division, NIST*.\n",
    "\n",
    "**Chandler A. Becker**, [chandler.becker@nist.gov](mailto:chandler.becker@nist.gov?Subject=ipr-demo), *Office of Data and Informatics, NIST*.\n",
    "\n",
    "**Zachary T. Trautt**, [zachary.trautt@nist.gov](mailto:zachary.trautt@nist.gov?Subject=ipr-demo), *Materials Measurement Science Division, NIST*.\n",
    "\n",
    "Version: 2017-05-05\n",
    "\n",
    "[Disclaimers](http://www.nist.gov/public_affairs/disclaimer.cfm) \n",
    " \n",
    "- - -"
   ]
  },
  {
   "cell_type": "markdown",
   "metadata": {
    "deletable": true,
    "editable": true
   },
   "source": [
    "## Introduction\n",
    "\n",
    "The sizemults function converts input_dict term sizemults from a string to a list of tuples. If sizemults is not in input_dict, then a default value of [[0,1],[0,1],[0,1]] is set. The vaule of sizemults can be a string of either three or six space-delimited integers.\n",
    "\n",
    "- 'ma mb mc' are non-zero integers indicating how many times the system is to be replicated along a box vector. Positive values replicate above the system's original origin and negative values replicate below the system's original origin (not mirrored).\n",
    "    \n",
    "- 'na pa nb pb nc pc' are integers allowing multiplication in both positive and negative box vector directions. The n values must be $\\le$ 0, the p values $\\ge$ 0, and for a given box vector the n and p values cannot both be zero.\n",
    "\n",
    "Arguments:\n",
    "\n",
    "- __input_dict__ is a dictionary containing input parameter key-value pairs.\n",
    "\n",
    "- __sizemults__ allows for a replacement parameter key name for 'sizemults'.\n",
    "\n",
    "The underlying code can be found in [iprPy/input/sizemults.py](../../iprPy/input/sizemults.py)."
   ]
  },
  {
   "cell_type": "markdown",
   "metadata": {
    "deletable": true,
    "editable": true
   },
   "source": [
    "## Demonstration"
   ]
  },
  {
   "cell_type": "markdown",
   "metadata": {
    "deletable": true,
    "editable": true
   },
   "source": [
    "Library imports"
   ]
  },
  {
   "cell_type": "code",
   "execution_count": 1,
   "metadata": {
    "collapsed": true,
    "deletable": true,
    "editable": true
   },
   "outputs": [],
   "source": [
    "#Standard libraries\n",
    "from __future__ import print_function\n",
    "\n",
    "#https://github.com/usnistgov/iprPy\n",
    "import iprPy"
   ]
  },
  {
   "cell_type": "markdown",
   "metadata": {
    "deletable": true,
    "editable": true
   },
   "source": [
    "If the sizemults term is not in input_dict, the default value will be assigned to it."
   ]
  },
  {
   "cell_type": "code",
   "execution_count": 2,
   "metadata": {
    "collapsed": false,
    "deletable": true,
    "editable": true
   },
   "outputs": [
    {
     "name": "stdout",
     "output_type": "stream",
     "text": [
      "{'sizemults': [[0, 1], [0, 1], [0, 1]]}\n"
     ]
    }
   ],
   "source": [
    "input_dict = {}\n",
    "iprPy.input.sizemults(input_dict)\n",
    "print(input_dict)"
   ]
  },
  {
   "cell_type": "markdown",
   "metadata": {
    "deletable": true,
    "editable": true
   },
   "source": [
    "The initial value of sizemults can be a string of either three or six space-delimited integers."
   ]
  },
  {
   "cell_type": "code",
   "execution_count": 3,
   "metadata": {
    "collapsed": false
   },
   "outputs": [
    {
     "name": "stdout",
     "output_type": "stream",
     "text": [
      "{'sizemults': [[0, 1], [0, 5], [-9, 0]]}\n"
     ]
    }
   ],
   "source": [
    "input_dict = {'sizemults': '1 5 -9'}\n",
    "iprPy.input.sizemults(input_dict)\n",
    "print(input_dict)"
   ]
  },
  {
   "cell_type": "code",
   "execution_count": 4,
   "metadata": {
    "collapsed": false,
    "deletable": true,
    "editable": true
   },
   "outputs": [
    {
     "name": "stdout",
     "output_type": "stream",
     "text": [
      "{'sizemults': [[0, 1], [-2, 5], [-9, 8]]}\n"
     ]
    }
   ],
   "source": [
    "input_dict = {'sizemults': '0 1 -2 5 -9 8'}\n",
    "iprPy.input.sizemults(input_dict)\n",
    "print(input_dict)"
   ]
  },
  {
   "cell_type": "markdown",
   "metadata": {
    "deletable": true,
    "editable": true
   },
   "source": [
    "The default term name(s) can be changed using keyword arguments."
   ]
  },
  {
   "cell_type": "code",
   "execution_count": 5,
   "metadata": {
    "collapsed": false,
    "deletable": true,
    "editable": true
   },
   "outputs": [
    {
     "name": "stdout",
     "output_type": "stream",
     "text": [
      "{'sizemults2': [[0, 1], [-2, 5], [-9, 8]]}\n"
     ]
    }
   ],
   "source": [
    "input_dict = {'sizemults2': '0 1 -2 5 -9 8'}\n",
    "\n",
    "#Call axes, but have it operate on 'sizemults2' instead of 'sizemults'.\n",
    "iprPy.input.sizemults(input_dict, sizemults='sizemults2')\n",
    "print(input_dict)"
   ]
  },
  {
   "cell_type": "markdown",
   "metadata": {
    "deletable": true,
    "editable": true
   },
   "source": [
    "- - -"
   ]
  },
  {
   "cell_type": "markdown",
   "metadata": {
    "deletable": true,
    "editable": true
   },
   "source": [
    "__Docs Navigation:__\n",
    "\n",
    "Tutorial:\n",
    "\n",
    "1. [Basics](../tutorial/1 Basics.ipynb)\n",
    "\n",
    "Reference:\n",
    "\n",
    "- [iprPy](../reference/iprPy.ipynb)\n",
    "\n",
    "- [iprPy.calculations](../reference/iprPy.convert.ipynb)\n",
    "\n",
    "- [iprPy.databases](../reference/iprPy.databases.ipynb)\n",
    "\n",
    "- [iprPy.highthroughput](../reference/iprPy.highthroughput.ipynb)\n",
    "\n",
    "- [iprPy.input](../reference/iprPy.input.ipynb)\n",
    "\n",
    "- [iprPy.prepare](../reference/iprPy.prepare.ipynb)\n",
    "\n",
    "- [iprPy.records](../reference/iprPy.records.ipynb)\n",
    "\n",
    "- [iprPy.tools](../reference/iprPy.tools.ipynb)"
   ]
  }
 ],
 "metadata": {
  "kernelspec": {
   "display_name": "Python 2",
   "language": "python",
   "name": "python2"
  },
  "language_info": {
   "codemirror_mode": {
    "name": "ipython",
    "version": 2
   },
   "file_extension": ".py",
   "mimetype": "text/x-python",
   "name": "python",
   "nbconvert_exporter": "python",
   "pygments_lexer": "ipython2",
   "version": "2.7.13"
  }
 },
 "nbformat": 4,
 "nbformat_minor": 0
}
