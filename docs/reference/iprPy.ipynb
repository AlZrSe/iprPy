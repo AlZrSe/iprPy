{
 "cells": [
  {
   "cell_type": "markdown",
   "metadata": {
    "deletable": true,
    "editable": true
   },
   "source": [
    "# iprPy Package \n",
    "\n",
    "- - -"
   ]
  },
  {
   "cell_type": "markdown",
   "metadata": {
    "deletable": true,
    "editable": true
   },
   "source": [
    "**Lucas M. Hale**, [lucas.hale@nist.gov](mailto:lucas.hale@nist.gov?Subject=ipr-demo), *Materials Science and Engineering Division, NIST*.\n",
    "\n",
    "**Chandler A. Becker**, [chandler.becker@nist.gov](mailto:chandler.becker@nist.gov?Subject=ipr-demo), *Office of Data and Informatics, NIST*.\n",
    "\n",
    "**Zachary T. Trautt**, [zachary.trautt@nist.gov](mailto:zachary.trautt@nist.gov?Subject=ipr-demo), *Materials Measurement Science Division, NIST*.\n",
    "\n",
    "Version: 2017-05-03\n",
    "\n",
    "[Disclaimers](http://www.nist.gov/public_affairs/disclaimer.cfm) \n",
    " \n",
    "- - -"
   ]
  },
  {
   "cell_type": "markdown",
   "metadata": {
    "deletable": true,
    "editable": true
   },
   "source": [
    "## Introduction\n",
    "\n",
    "The iprPy Python package is at the core of the iprPy framework by supplying the framework's functionality. It is meant to tie the different components together, and provides a common codebase set of tools for the different implemented calculations and high-throughput methods. "
   ]
  },
  {
   "cell_type": "markdown",
   "metadata": {
    "deletable": true,
    "editable": true
   },
   "source": [
    "## Classes\n",
    "\n",
    "- [Calculation](iprPy.Calculation.ipynb) class providing a common interface to different calculation styles.\n",
    "\n",
    "- [Database](iprPy.Database.ipynb) class providing a common interface to different database styles.\n",
    "\n",
    "- [Record](iprPy.Record.ipynb) class providing a common interface to different record styles."
   ]
  },
  {
   "cell_type": "markdown",
   "metadata": {
    "deletable": true,
    "editable": true
   },
   "source": [
    "## Properties\n",
    "\n",
    "- [rootdir](iprPy.rootdir.ipynb) returns the absolute path for the root directory where the iprPy package is installed. "
   ]
  },
  {
   "cell_type": "markdown",
   "metadata": {
    "deletable": true,
    "editable": true
   },
   "source": [
    "## Functions\n",
    "\n",
    "- [calculation_styles()](iprPy.calculation_styles.ipynb) returns a list of the calculation styles that were successfully loaded.\n",
    "\n",
    "- [check_modules()](iprPy.check_modules.ipynb) prints a statement revealing which calculation, database and record styles passed/failed being loaded when iprPy was imported. \n",
    "\n",
    "- [database_styles()](iprPy.database_styles.ipynb) returns a list of the database styles that were successfully loaded.\n",
    "\n",
    "- [database_fromdict(input_dict, database_key='database')](iprPy.database_fromdict.ipynb) takes a dictionary of input terms and returns a corresponding iprPy.Database object.\n",
    "\n",
    "- [record_styles()](iprPy.record_styles.ipynb) returns a list of the record styles that were successfully loaded."
   ]
  },
  {
   "cell_type": "markdown",
   "metadata": {
    "deletable": true,
    "editable": true
   },
   "source": [
    "## Submodules\n",
    "\n",
    "- [calculations](iprPy.calculations.ipynb) defines Calculation class styles in a modular fashion. \n",
    "\n",
    "- [databases](iprPy.databases.ipynb) defines Database class styles in a modular fashion.\n",
    "\n",
    "- [highthroughput](iprPy.highthroughput.ipynb) contains methods and scripts for performing calculations in a high-throughput manner.\n",
    "\n",
    "- [input](iprPy.input.ipynb) defines functions associated with the common handling of input parameter files.\n",
    "\n",
    "- [prepare](iprPy.prepare.ipynb) defines functions associated with the common design for calculation prepare scripts.\n",
    "\n",
    "- [records](iprPy.records.ipynb) defines Record class styles in a modular fashion.\n",
    "\n",
    "- [tools](iprPy.tools.ipynb) contains a number of generic utility functions that are useful throughout the iprPy framework."
   ]
  },
  {
   "cell_type": "markdown",
   "metadata": {
    "deletable": true,
    "editable": true
   },
   "source": [
    "- - -"
   ]
  },
  {
   "cell_type": "markdown",
   "metadata": {
    "deletable": true,
    "editable": true
   },
   "source": [
    "__Docs Navigation:__\n",
    "\n",
    "Tutorial:\n",
    "\n",
    "1. [Basics](../tutorial/1 Basics.ipynb)\n",
    "\n",
    "Reference:\n",
    "\n",
    "- [iprPy](../reference/iprPy.ipynb)\n",
    "\n",
    "- [iprPy.calculations](../reference/iprPy.convert.ipynb)\n",
    "\n",
    "- [iprPy.databases](../reference/iprPy.databases.ipynb)\n",
    "\n",
    "- [iprPy.highthroughput](../reference/iprPy.highthroughput.ipynb)\n",
    "\n",
    "- [iprPy.input](../reference/iprPy.input.ipynb)\n",
    "\n",
    "- [iprPy.prepare](../reference/iprPy.prepare.ipynb)\n",
    "\n",
    "- [iprPy.records](../reference/iprPy.records.ipynb)\n",
    "\n",
    "- [iprPy.tools](../reference/iprPy.tools.ipynb)"
   ]
  }
 ],
 "metadata": {
  "kernelspec": {
   "display_name": "Python 2",
   "language": "python",
   "name": "python2"
  },
  "language_info": {
   "codemirror_mode": {
    "name": "ipython",
    "version": 2
   },
   "file_extension": ".py",
   "mimetype": "text/x-python",
   "name": "python",
   "nbconvert_exporter": "python",
   "pygments_lexer": "ipython2",
   "version": "2.7.13"
  }
 },
 "nbformat": 4,
 "nbformat_minor": 0
}
