{
 "cells": [
  {
   "cell_type": "markdown",
   "metadata": {},
   "source": [
    "# Docs generator"
   ]
  },
  {
   "cell_type": "markdown",
   "metadata": {},
   "source": [
    "The purpose of this Notebook is to automatically generate html documentation from the README.md files located inside the iprPy package. This makes it so that the html in the docs section matches the descriptions paired with the code."
   ]
  },
  {
   "cell_type": "code",
   "execution_count": 1,
   "metadata": {
    "collapsed": true
   },
   "outputs": [],
   "source": [
    "#Python standard library imports\n",
    "from __future__ import print_function\n",
    "import os\n",
    "import sys\n",
    "import glob\n",
    "import StringIO\n",
    "\n",
    "#http://pythonhosted.org/Markdown\n",
    "import markdown"
   ]
  },
  {
   "cell_type": "code",
   "execution_count": 2,
   "metadata": {
    "collapsed": true
   },
   "outputs": [],
   "source": [
    "def build_html(md_file, html_file, subdirs):\n",
    "    \n",
    "    #Set style.css relative to html_file\n",
    "    numup = len(html_file.split(os.sep))-2\n",
    "    css_file = ['..' for i in xrange(numup)] + ['style.css']\n",
    "    css_file = '/'.join(css_file)\n",
    "    \n",
    "    content = StringIO.StringIO()\n",
    "    markdown.markdownFromFile(input=md_file, \n",
    "                              output=content,\n",
    "                              output_format=\"html5\")\n",
    "    \n",
    "    head = '\\n'.join(['<!DOCTYPE html>',\n",
    "                      '<html lang=\"en\">',\n",
    "                      '<head>',\n",
    "                      '<style TYPE=\"text/css\">',\n",
    "                      'code.has-jax {font: inherit; font-size: 100%; background: inherit; border: inherit;}',\n",
    "                      '</style>',\n",
    "                      '<script type=\"text/x-mathjax-config\">',\n",
    "                      '  MathJax.Hub.Config({',\n",
    "                      '    tex2jax: {',\n",
    "                      \"      inlineMath: [['$','$']],\",\n",
    "                      \"      skipTags: ['script', 'noscript', 'style', 'textarea', 'pre'] // removed 'code' entry\",\n",
    "                      '    }',\n",
    "                      '  });',\n",
    "                      'MathJax.Hub.Queue(function() {',\n",
    "                      '  var all = MathJax.Hub.getAllJax(), i;',\n",
    "                      '  for(i = 0; i < all.length; i += 1) {',\n",
    "                      \"    all[i].SourceElement().parentNode.className += ' has-jax';\",\n",
    "                      '  }',\n",
    "                      '});',\n",
    "                      '</script>',\n",
    "                      '<script type=\"text/javascript\" src=\"http://cdn.mathjax.org/mathjax/latest/MathJax.js?config=TeX-AMS-MML_HTMLorMML\"></script>,'\n",
    "                      '    <meta http-equiv=\"Content-Type\" content=\"text/html; charset=UTF-8\">',\n",
    "                      '    <meta http-equiv=\"X-UA-Compatible\" content=\"IE=edge\">',\n",
    "                      '    <meta name=\"viewport\" content=\"width=device-width, initial-scale=1\">',\n",
    "                      '    <meta name=\"description\" id=\"Description\" content=\"iprPy Calculation Framework\">',\n",
    "                      '    <meta name=\"dcterms.description\" id=\"Description\" content=\"iprPy Calculation Framework\">',\n",
    "                      '    <meta name=\"dcterms.creator\" content=\"U.S. Department of Commerce, National Institute of Standards and Technology\">',\n",
    "                      '    <title>iprPy Calculation Framework</title>',\n",
    "                      '    <link rel=\"stylesheet\" type=\"text/css\" href=\"'+css_file+'\">',\n",
    "                      '</head>'])    \n",
    "    \n",
    "    body = '\\n'.join(['<body>',\n",
    "                      '<!-- Content -->',\n",
    "                      '<div id=\"content\" class=\"colM\">',\n",
    "                      ' <div id=\"content-wrapper\">',\n",
    "                      '  <div class=\"center-wrapper\">',\n",
    "                      '   <div class=\"content\">',\n",
    "                      '    <div id=\"featured-wrapper\">',\n",
    "                      '     <div id=\"featured\">',\n",
    "                      '      <div class=\"left\">',\n",
    "                      content.getvalue(),\n",
    "                      '      </div>',\n",
    "                      '      <div class=\"clearer\">&nbsp;</div>',\n",
    "                      '     </div>',\n",
    "                      '    </div>',\n",
    "                      '   </div>',\n",
    "                      '  </div>',\n",
    "                      ' </div>',\n",
    "                      '</div>',\n",
    "                      '<!-- END Content -->',\n",
    "                      '</body>',\n",
    "                      '</html>'])\n",
    "    content.close()\n",
    "    try:\n",
    "        with open(html_file, 'w') as f:\n",
    "            f.write(head+body)\n",
    "    except:\n",
    "        os.makedirs(os.path.dirname(html_file))\n",
    "        with open(html_file, 'w') as f:\n",
    "            f.write(head+body)"
   ]
  },
  {
   "cell_type": "code",
   "execution_count": 3,
   "metadata": {
    "collapsed": true
   },
   "outputs": [],
   "source": [
    "def recursive_build(search_dir, root_dir=None):\n",
    "    if root_dir is None:\n",
    "        root_dir = search_dir\n",
    "    subdirs = []\n",
    "    md_file = None\n",
    "    for name in glob.iglob(os.path.join(search_dir, '*')):\n",
    "        if os.path.isdir(name):\n",
    "            subdirs.append(os.path.basename(name))\n",
    "            recursive_build(name, root_dir)\n",
    "        elif os.path.basename(name) == 'README.md':\n",
    "            md_file = name\n",
    "            parent_dir = os.path.dirname(name)\n",
    "            html_file = os.path.join('html', os.path.relpath(parent_dir, root_dir) +'.html')\n",
    "            \n",
    "    if md_file is not None:\n",
    "        build_html(md_file, html_file, subdirs)"
   ]
  },
  {
   "cell_type": "code",
   "execution_count": 4,
   "metadata": {
    "collapsed": false
   },
   "outputs": [],
   "source": [
    "code_dir = os.path.abspath(os.path.join('..', 'iprPy'))"
   ]
  },
  {
   "cell_type": "code",
   "execution_count": 10,
   "metadata": {
    "collapsed": false
   },
   "outputs": [],
   "source": [
    "recursive_build(code_dir)        "
   ]
  },
  {
   "cell_type": "code",
   "execution_count": null,
   "metadata": {
    "collapsed": true
   },
   "outputs": [],
   "source": []
  }
 ],
 "metadata": {
  "kernelspec": {
   "display_name": "Python 2",
   "language": "python",
   "name": "python2"
  },
  "language_info": {
   "codemirror_mode": {
    "name": "ipython",
    "version": 2
   },
   "file_extension": ".py",
   "mimetype": "text/x-python",
   "name": "python",
   "nbconvert_exporter": "python",
   "pygments_lexer": "ipython2",
   "version": "2.7.13"
  }
 },
 "nbformat": 4,
 "nbformat_minor": 2
}
