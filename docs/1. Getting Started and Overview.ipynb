{
 "cells": [
  {
   "cell_type": "markdown",
   "metadata": {
    "deletable": true,
    "editable": true
   },
   "source": [
    "# iprPy Calculation Framework Introduction"
   ]
  },
  {
   "cell_type": "markdown",
   "metadata": {
    "deletable": true,
    "editable": true
   },
   "source": [
    "This Notebook provides an introduction for getting the iprPy framework up and running and basic instructions for how to use the different features. "
   ]
  },
  {
   "cell_type": "markdown",
   "metadata": {
    "deletable": true,
    "editable": true
   },
   "source": [
    "# 1. Installing iprPy"
   ]
  },
  {
   "cell_type": "markdown",
   "metadata": {
    "deletable": true,
    "editable": true
   },
   "source": [
    "## 1.1. Installing Python\n",
    "\n",
    "The first step is installing Python 2.7. The easiest way to do this on any platform is to install a personal version of Anaconda. Doing so will not only give you basic Python, but a number of highly useful packages, such as the scipy family, as well as some development tools, such as Jupyter Notebooks. The scipy family (scipy, numpy, pandas) are highly integrated into the iprPy frameword do to their usefulness. "
   ]
  },
  {
   "cell_type": "markdown",
   "metadata": {
    "deletable": true,
    "editable": true
   },
   "source": [
    "## 1.2. Installing iprPy\n",
    "\n",
    "The iprPy framework consists of a python package aptly called iprPy as well as additional scripts and data files that support performing calculations in a high-throughput manner. There are two primary options that are available for installing iprPy:\n",
    "\n",
    "1. __Download the full iprPy framework.__ This is for users who want to use the high-throughput tools. \n",
    "\n",
    "2. __Install only the iprPy package.__ This is for users who want to run the individual calculations outside of the framework. \n",
    "\n",
    "In either case, the underlying iprPy package needs to be installed to Python. The other required packages are:\n",
    "\n",
    "- [numpy](http://www.numpy.org/) Allows for handling and manipulation of arrays of data.\n",
    "\n",
    "- [matplotlib](http://matplotlib.org/) Tools for plotting data.\n",
    "\n",
    "- [scipy](https://www.scipy.org/scipylib/index.html) Contains efficient mathematical operations.\n",
    "\n",
    "- [pandas](http://pandas.pydata.org/) Data structure and analysis tools. \n",
    "\n",
    "- [DataModelDict](https://github.com/usnistgov/DataModelDict) extends OrderedDict for easy manipulation of JSON/XML records.\n",
    "\n",
    "- [atomman](https://github.com/usnistgov/atomman) represent atomic systems and interact with LAMMPS.\n",
    "\n",
    "If you installed Anaconda, you should already have the first four. As for DataModelDict and atomman, both can be installed using pip. DataModelDict requires [xmltodict](https://github.com/martinblech/xmltodict), which for some reason has to be installed separately. In a terminal:\n",
    "\n",
    "    >>pip install xmltodict\n",
    "    >>pip install DataModelDict\n",
    "    >>pip install atomman"
   ]
  },
  {
   "cell_type": "markdown",
   "metadata": {
    "deletable": true,
    "editable": true
   },
   "source": [
    "### 1.2.1. The full iprPy framework\n",
    "\n",
    "You can download/clone the full iprPy framework from github:\n",
    "\n",
    "- Stable release version: [https://github.com/usnistgov/iprPy](https://github.com/usnistgov/iprPy)\n",
    "\n",
    "- Active development version: [https://github.com/lmhale99/iprPy](https://github.com/lmhale99/iprPy)\n",
    "\n",
    "__Note__: The active version truly is a working version; it is my personal repository that I use for sharing across the computers that I use. There may be new features that I haven't yet added to the stable release, but I can't guarantee that everything will be working or documented in the development version and changes may be frequent or sporatic. \n",
    "\n",
    "Once downloaded, use a terminal to get to the root iprPy directory for your local copy (the one containing setup.py). Then, in the terminal:\n",
    "    \n",
    "    >>python setup.py develop\n",
    "    \n",
    "The develop option allows for changes made to the code in the package to be updated everytime the package is imported. "
   ]
  },
  {
   "cell_type": "markdown",
   "metadata": {
    "deletable": true,
    "editable": true
   },
   "source": [
    "### 1.2.2. Only the iprPy package (comming soon)\n",
    "\n",
    "The iprPy package alone can be installed with pip:\n",
    "\n",
    "    >>pip install iprPy\n",
    "    \n",
    "This makes it possible to run calculations developed for the iprPy framework without requiring the full framework to be downloaded."
   ]
  },
  {
   "cell_type": "markdown",
   "metadata": {
    "deletable": true,
    "editable": true
   },
   "source": [
    "# 2. The iprPy package\n",
    "\n",
    "The iprPy package contained within the iprPy framework has two main uses:\n",
    "\n",
    "1. Provide a common codebase to assist in the rapid implementation of new calculations.\n",
    "\n",
    "2. Allow for the modular treatment of calculations, records and databases so that new features can easily be added."
   ]
  },
  {
   "cell_type": "markdown",
   "metadata": {
    "deletable": true,
    "editable": true
   },
   "source": [
    "## 2.1. Common codebase\n",
    "\n",
    "The design of the framework is such that the individual components have few design restrictions placed on them. This opens things up so that calculations of vastly different natures may be handled. The downside to this is that a lack of standardization can slow calculation development as there is no consistency across calculations and specific functionality may be constantly reinvented with slight variations. To avoid this, the iprPy package contains a number of tools that allow for a common treatment of terms/actions across calcuations without forcing design limitations onto the calculation developers.\n",
    "\n",
    "The associated submodules of iprPy for these common tools are:\n",
    "\n",
    "- [iprPy.tools](reference/iprPy.tools.ipynb) contains the generic tools that are useful throughout all aspects of the framework.\n",
    "\n",
    "- [iprPy.input](reference/iprPy.input.ipynb) contains methods associated with common handling of terms for the calculation's input files.\n",
    "\n",
    "- [iprPy.prepare](reference/iprPy.prepare.ipynb) contains methods associated with common handling of terms for the prepare high-throughput scripts."
   ]
  },
  {
   "cell_type": "markdown",
   "metadata": {
    "deletable": true,
    "editable": true
   },
   "source": [
    "## 2.2. Modular components\n",
    "\n",
    "New calculations, associated records and database access information can easily be added in a modular format using \n",
    "\n",
    "The associated submodules of iprPy containing modular components are:\n",
    "\n",
    "- iprPy.calculations\n",
    "\n",
    "- iprPy.databases\n",
    "\n",
    "- iprPy.records"
   ]
  },
  {
   "cell_type": "markdown",
   "metadata": {
    "deletable": true,
    "editable": true
   },
   "source": [
    "# 3. Calculations\n",
    "\n"
   ]
  },
  {
   "cell_type": "code",
   "execution_count": null,
   "metadata": {
    "collapsed": true,
    "deletable": true,
    "editable": true
   },
   "outputs": [],
   "source": []
  }
 ],
 "metadata": {
  "kernelspec": {
   "display_name": "Python 2",
   "language": "python",
   "name": "python2"
  },
  "language_info": {
   "codemirror_mode": {
    "name": "ipython",
    "version": 2
   },
   "file_extension": ".py",
   "mimetype": "text/x-python",
   "name": "python",
   "nbconvert_exporter": "python",
   "pygments_lexer": "ipython2",
   "version": "2.7.13"
  }
 },
 "nbformat": 4,
 "nbformat_minor": 0
}
