{
 "cells": [
  {
   "cell_type": "markdown",
   "metadata": {},
   "source": [
    "# dislocation_monopole\n",
    "- - -"
   ]
  },
  {
   "cell_type": "markdown",
   "metadata": {},
   "source": [
    "**Lucas M. Hale**, [lucas.hale@nist.gov](mailto:lucas.hale@nist.gov?Subject=ipr-demo), *Materials Science and Engineering Division, NIST*.\n",
    "\n",
    "**Chandler A. Becker**, [chandler.becker@nist.gov](mailto:chandler.becker@nist.gov?Subject=ipr-demo), *Office of Data and Informatics, NIST*.\n",
    "\n",
    "**Zachary T. Trautt**, [zachary.trautt@nist.gov](mailto:zachary.trautt@nist.gov?Subject=ipr-demo), *Materials Measurement Science Division, NIST*.\n",
    "\n",
    "Version: 2016-10-12\n",
    "\n",
    "[Disclaimers](http://www.nist.gov/public_affairs/disclaimer.cfm) \n",
    " \n",
    "- - -"
   ]
  },
  {
   "cell_type": "markdown",
   "metadata": {},
   "source": [
    "## Introduction\n",
    "\n",
    "The __dislocation_monopole__ calculation creates a dislocation monopole system in which the dislocation line is oriented along the z-axis and has a xz slip plane. The dislocation is inserted into an initially perfect crystal by computing atomic displacements of the Eshelby anisotropic elasticity solution using the Stroh calculation method. \n",
    "\n",
    "__Disclaimer__: This routine uses a fixed boundary region in the xy directions. The constructed systems should be large to minimize the incompatibility forces that arise when the atoms in the center of the system are allowed to relax. Additionally, a dynamic thermal anneal may be necessary to relax the core structure to its true equilibrium configuration."
   ]
  },
  {
   "cell_type": "markdown",
   "metadata": {},
   "source": [
    "## Demonstration"
   ]
  },
  {
   "cell_type": "markdown",
   "metadata": {},
   "source": [
    "Library Imports"
   ]
  },
  {
   "cell_type": "code",
   "execution_count": 1,
   "metadata": {
    "collapsed": true
   },
   "outputs": [],
   "source": [
    "#Standard Python imports\n",
    "import os\n",
    "from copy import deepcopy\n",
    "\n",
    "#\n",
    "%matplotlib inline\n",
    "\n",
    "#http://www.numpy.org/\n",
    "import numpy as np\n",
    "\n",
    "#https://github.com/usnistgov/DataModelDict\n",
    "from DataModelDict import DataModelDict as DM\n",
    "\n",
    "#https://github.com/usnistgov/atomman \n",
    "import atomman as am\n",
    "import atomman.lammps as lmp\n",
    "import atomman.unitconvert as uc\n",
    "\n",
    "import iprPy"
   ]
  },
  {
   "cell_type": "markdown",
   "metadata": {},
   "source": [
    "### 1. Generate Data Files\n",
    "\n",
    "We have embedded a few files to make the Notebook a self-contained calculation.\n",
    "\n",
    "1. __MEAM Potential.__ Generates library and parameter files for one MEAM potential.\n",
    "\n",
    "2. __Potential Data Model.__ Collects all input parameters assoiciated with running the MEAM potential in LAMMPS.\n",
    "\n",
    "3. __Prototype Data Model.__ Generates an instance of the crystal prototype data model used to generate various structures.\n",
    "\n",
    "4. __Point Defect Data Model.__ Collects metadata and input parameters associated with adding a particular point defect to a system."
   ]
  },
  {
   "cell_type": "markdown",
   "metadata": {},
   "source": [
    "Create working directory"
   ]
  },
  {
   "cell_type": "code",
   "execution_count": 2,
   "metadata": {
    "collapsed": false
   },
   "outputs": [],
   "source": [
    "working_dir = 'dislocation_monopole'\n",
    "\n",
    "#This prevents recursive directories upon re-running this cell\n",
    "if os.path.basename(os.getcwd()) == working_dir:\n",
    "    working_dir = os.getcwd()\n",
    "else:\n",
    "    working_dir = os.path.realpath(working_dir)\n",
    "    \n",
    "#move to working_dir\n",
    "try:\n",
    "    os.chdir(working_dir)\n",
    "except:\n",
    "    os.makedirs(working_dir)\n",
    "    os.chdir(working_dir)"
   ]
  },
  {
   "cell_type": "markdown",
   "metadata": {},
   "source": [
    "#### 1.1 MEAM Potential\n",
    "\n",
    "This generates the library and parameter files associated with the following interatomic potential taken from the [NIST Interatomic Potential Repository](http://www.ctcms.nist.gov/potentials/):\n",
    "\n",
    "__2012--Jelinek-B--Al-Si-Mg-Cu-Fe__\n",
    "\n",
    "__Aluminum, Silicon, Magnesium, Copper, and Iron (Al, Si, Mg, Cu, and Fe) Alloys__\n",
    "\n",
    "*B. Jelinek, S. Groh, M. Horstemeyer, J. Houze, S.G. Kim, G.J. Wagner, A. Moitra, and M.I. Baskes, \"Modified embedded atom method potential for Al, Si, Mg, Cu, and Fe alloys,\" Phys. Rev. B 85, 245102 (2012).*\n",
    "\n",
    "__Notes__: This file was provided by Bohumir Jelinek (Mississippi State University) and posted on 3 July 2012. He noted, \"This is a MEAM potential for Al, Si, Mg, Cu, Fe alloys. It works with LAMMPS, version 19 Jul 2011 or later, when compiled with MEAM support.\"\n",
    "\n",
    "__Notice__: Users should consider all available potentials and select one which is appropriate for their use case. Use of this potential within this demonstration should not be construed as an endorsement or a recommendation. "
   ]
  },
  {
   "cell_type": "code",
   "execution_count": 3,
   "metadata": {
    "collapsed": true
   },
   "outputs": [],
   "source": [
    "#Create MEAM library and parameter files for the 2012--Jelinek-B--Al-Si-Mg-Cu-Fe potential\n",
    "   \n",
    "#Create MEAM library file \"Jelinek_2012_meamf\"\n",
    "f = open('Jelinek_2012_meamf', 'w')\n",
    "f.write(\"\"\"# MEAM Al, Si, Mg, Cu, Fe alloy potential, Phys. Rev. B 85, 245102 (2012)\n",
    "# http://dx.doi.org/10.1103/PhysRevB.85.245102\n",
    "# to be used with \"meam.alsimgcufe\" file providing combinational parameters\n",
    "#  elt        lat     z       ielement     atwt\n",
    "#  alpha      b0      b1      b2           b3    alat    esub    asub\n",
    "#  t0         t1              t2           t3            rozero  ibar\n",
    "\n",
    "'AlS'        'fcc'   12.     13           26.9815\n",
    "4.64        2.04    3.00    6.0          1.50  4.05    3.353    1.07\n",
    "1.0         +4.50           -2.30        8.01          1.0    -5\n",
    "'SiS'        'dia'   4.      14           28.086\n",
    "4.87        4.4     5.5     5.5          5.5   5.431   4.63    1.\n",
    "1.0         2.05            4.47         -1.80         2.2    -5\n",
    "'MgS'       'hcp'   12.      12           24.305\n",
    "5.52        4.0    3.0     0.2          1.2  3.194 1.51     0.80\n",
    "1.0         10.04           9.49         -4.3          0.63   -5\n",
    "'CuS'        'fcc'   12.     29           63.54\n",
    "5.11        3.634   2.20    6            2.20  3.62    3.54    1.07\n",
    "1.0         4.91            2.49         2.95          1.10   -5\n",
    "'FeS'        'bcc'   8       26           55.847\n",
    "5.0270      3.500   2       1.00         1     2.851   4.28    0.5550\n",
    "1          -1.6             12.5          -1.40        1.0    -5\"\"\")\n",
    "f.close()\n",
    "\n",
    "#Create MEAM parameter file \"Jelinek_2012_meam.alsimgcufe\"\n",
    "f = open('Jelinek_2012_meam.alsimgcufe', 'w')\n",
    "f.write(\"\"\"# MEAM Al, Si, Mg, Cu, Fe alloy potential, Phys. Rev. B 85, 245102 (2012)\n",
    "# http://dx.doi.org/10.1103/PhysRevB.85.245102\n",
    "# to be used with \"meamf\" file providing single element parameters\n",
    "\n",
    "  Cmin(1,1,1) = 0.8\n",
    "  repuls(1,1) = 0.1\n",
    "  Cmin(3,3,3) = 0.8\n",
    "  Cmin(4,4,4) = 0.8\n",
    "  Cmin(5,5,5) = 0.68\n",
    "  repuls(5,5) = 0.3\n",
    "  Cmax(5,5,5) = 1.9\n",
    "\n",
    "  nn2(1,1)=1\n",
    "  nn2(1,2)=1\n",
    "  nn2(1,3)=1\n",
    "  nn2(1,4)=1\n",
    "  nn2(1,5)=1\n",
    "  nn2(2,2)=1\n",
    "  nn2(2,3)=1\n",
    "  nn2(2,4)=1\n",
    "  nn2(2,5)=1\n",
    "  nn2(3,3)=1\n",
    "  nn2(3,4)=1\n",
    "  nn2(3,5)=1\n",
    "  nn2(4,4)=1\n",
    "  nn2(4,5)=1\n",
    "  nn2(5,5)=1\n",
    "\n",
    "  lattce(1,2)='b1'\n",
    "  delta(1,2)=+0.28\n",
    "  alpha(1,2)=4.56\n",
    "  re(1,2)=2.62\n",
    "  Cmin(1,1,2) = 0.50\n",
    "  Cmin(2,2,1) = 2.00\n",
    "  Cmin(1,2,1) = 2.00\n",
    "  Cmin(1,2,2) = 2.00\n",
    "\n",
    "  lattce(1,3)='b1'\n",
    "  delta(1,3)=+0.23\n",
    "  alpha(1,3)=4.52\n",
    "  re(1,3)=2.87\n",
    "  Cmin(1,1,3) = 2.00\n",
    "  Cmin(3,3,1) = 0.00\n",
    "  Cmin(1,3,1) = 2.00\n",
    "  Cmin(1,3,3) = 0.00\n",
    "\n",
    "  lattce(1,4)='b1'\n",
    "  delta(1,4)=+0.19\n",
    "  alpha(1,4)=4.65\n",
    "  re(1,4)=2.53\n",
    "  Cmin(1,1,4) = 0.00\n",
    "  Cmin(4,4,1) = 2.00\n",
    "  Cmin(1,4,1) = 2.00\n",
    "  Cmin(1,4,4) = 2.00\n",
    "\n",
    "  lattce(1,5)='b1'\n",
    "  delta(1,5)=+0.26\n",
    "  alpha(1,5)=4.64\n",
    "  re(1,5)=2.45\n",
    "  Cmin(1,1,5) = 0.90\n",
    "  Cmin(5,5,1) = 0.10\n",
    "  Cmin(1,5,1) = 2.00\n",
    "  Cmin(1,5,5) = 2.00\n",
    "\n",
    "  lattce(2,3)='b1'\n",
    "  delta(2,3)=+0.2\n",
    "  alpha(2,3)=4.73\n",
    "  re(2,3)=2.75\n",
    "  Cmin(2,2,3) = 1.00\n",
    "  Cmin(3,3,2) = 1.00\n",
    "  Cmin(2,3,2) = 2.00\n",
    "  Cmin(2,3,3) = 2.00\n",
    "\n",
    "  lattce(2,4)='b1'\n",
    "  delta(2,4)=+0.14\n",
    "  alpha(2,4)=4.74\n",
    "  re(2,4)=2.46\n",
    "  Cmin(2,2,4) = 0.00\n",
    "  Cmin(4,4,2) = 0.00\n",
    "  Cmin(2,4,2) = 2.00\n",
    "  Cmin(2,4,4) = 2.00\n",
    "\n",
    "  lattce(2,5)='b1'\n",
    "  delta(2,5)=-0.07\n",
    "  alpha(2,5)=5.17\n",
    "  re(2,5)=2.39\n",
    "  Cmin(2,2,5) = 1.00\n",
    "  Cmin(5,5,2) = 1.00\n",
    "  Cmin(2,5,2) = 2.00\n",
    "  Cmin(2,5,5) = 0.00\n",
    "  attrac(2,5) = 0.1\n",
    "  repuls(2,5) = 0.1\n",
    "\n",
    "  lattce(3,4)='b1'\n",
    "  delta(3,4)=+0.23\n",
    "  alpha(3,4)=4.70\n",
    "  re(3,4)=2.63\n",
    "  Cmin(3,3,4) = 2.00\n",
    "  Cmin(4,4,3) = 0.00\n",
    "  Cmin(3,4,3) = 2.00\n",
    "  Cmin(3,4,4) = 2.00\n",
    "\n",
    "  lattce(3,5)='b1'\n",
    "  delta(3,5)=+0.6\n",
    "  alpha(3,5)=4.96\n",
    "  re(3,5)=2.61\n",
    "  Cmin(3,3,5) = 0.65\n",
    "  Cmin(5,5,3) = 0.00\n",
    "  Cmin(3,5,3) = 2.00\n",
    "  Cmin(3,5,5) = 2.00\n",
    "\n",
    "  lattce(4,5)='b1'\n",
    "  delta(4,5)=+0.63\n",
    "  alpha(4,5)=5.21\n",
    "  re(4,5)=2.42\n",
    "  Cmin(5,5,4)=0.00\n",
    "\n",
    "  attrac(5,2) = 0.1\n",
    "  repuls(5,2) = 0.1\n",
    "\n",
    "  rc = 5.0\n",
    "  ialloy=1\n",
    "  augt1=0\n",
    "  delr=0.25658351\n",
    "  emb_lin_neg=1\n",
    "  bkgd_dyn=1\"\"\")\n",
    "f.close()"
   ]
  },
  {
   "cell_type": "markdown",
   "metadata": {},
   "source": [
    "#### 1.2 Potential Data Model\n",
    "\n",
    "This generates the interatomic potential data model file associated with the 2012--Jelinek-B--Al-Si-Mg-Cu-Fe potential. Additional potential data models and their associated artifacts can be found in the ipyrPy/reference-libraries/potentials directory."
   ]
  },
  {
   "cell_type": "code",
   "execution_count": 4,
   "metadata": {
    "collapsed": true
   },
   "outputs": [],
   "source": [
    "#Creates a interatomic potential data model for using the MEAM potential in LAMMPS\n",
    "f = open('2012--Jelinek-B--Al-Si-Mg-Cu-Fe.json', 'w')\n",
    "f.write(\"\"\"{\n",
    "    \"LAMMPS-potential\": {\n",
    "        \"potential\": {\n",
    "            \"key\": \"1515dd80-1984-49de-bc92-d5724059ff56\", \n",
    "            \"id\": \"2012--Jelinek-B--Al-Si-Mg-Cu-Fe\"\n",
    "        }, \n",
    "        \"units\": \"metal\", \n",
    "        \"atom_style\": \"atomic\", \n",
    "        \"atom\": [\n",
    "            {\n",
    "                \"symbol\": \"AlS\",\n",
    "                \"element\": \"Al\", \n",
    "                \"mass\": 26.9815                \n",
    "            }, \n",
    "            {\n",
    "                \"symbol\": \"SiS\",\n",
    "                \"element\": \"Si\", \n",
    "                \"mass\": 28.086                \n",
    "            }, \n",
    "            {\n",
    "                \"symbol\": \"MgS\", \n",
    "                \"element\": \"Mg\",\n",
    "                \"mass\": 24.305                \n",
    "            }, \n",
    "            {\n",
    "                \"symbol\": \"CuS\", \n",
    "                \"element\": \"Cu\", \n",
    "                \"mass\": 63.54\n",
    "            }, \n",
    "            {\n",
    "                \"symbol\": \"FeS\", \n",
    "                \"element\": \"Fe\", \n",
    "                \"mass\": 55.847\n",
    "            }\n",
    "        ], \n",
    "        \"pair_style\": {\n",
    "            \"type\": \"meam\"\n",
    "        }, \n",
    "        \"pair_coeff\": {\n",
    "            \"term\": [\n",
    "                {\n",
    "                    \"file\": \"Jelinek_2012_meamf\"\n",
    "                }, \n",
    "                {\n",
    "                    \"symbolsList\": \"True\"\n",
    "                }, \n",
    "                {\n",
    "                    \"file\": \"Jelinek_2012_meam.alsimgcufe\"\n",
    "                }, \n",
    "                {\n",
    "                    \"symbols\": \"True\"\n",
    "                }\n",
    "            ]\n",
    "        }\n",
    "    }\n",
    "}\"\"\")\n",
    "f.close()    "
   ]
  },
  {
   "cell_type": "markdown",
   "metadata": {},
   "source": [
    "#### 1.3 Prototype Data Model\n",
    "\n",
    "This generates the crystal prototype data model file associated with the fcc A1 crystal prototype. Additional prototype data models can be found in the ipyrPy/reference-libraries/prototypes directory."
   ]
  },
  {
   "cell_type": "code",
   "execution_count": 5,
   "metadata": {
    "collapsed": true
   },
   "outputs": [],
   "source": [
    "#Creates an instance of a crystal prototype data model for generating crystal structures.\n",
    "f = open('A1--Cu--fcc.json', 'w')\n",
    "f.write(\"\"\"{\n",
    "    \"crystal-prototype\": {\n",
    "        \"identifier\": {\n",
    "            \"common\": \"face-centered cubic\", \n",
    "            \"tag\": \"fcc\", \n",
    "            \"prototype\": \"Cu\", \n",
    "            \"Pearson-symbol\": \"cF4\", \n",
    "            \"Strukturbericht\": \"A1\"\n",
    "        }, \n",
    "        \"space-group\": {\n",
    "            \"number\": 225, \n",
    "            \"Hermann-Maguin\": \"F m -3 m\", \n",
    "            \"Schoenflies\": \"O^5_h\", \n",
    "            \"Wykoff\": {\n",
    "                \"letter\": \"a\", \n",
    "                \"multiplicity\": 4\n",
    "            }\n",
    "        }, \n",
    "        \"atomic-system\": {\n",
    "            \"cell\": {\n",
    "                \"cubic\": {\n",
    "                    \"a\": {\n",
    "                        \"value\": 1.0, \n",
    "                        \"unit\": \"scaled\"\n",
    "                    }\n",
    "                }\n",
    "            }, \n",
    "            \"atom\": [\n",
    "                {\n",
    "                    \"component\": 1, \n",
    "                    \"position\": {\n",
    "                        \"value\": [\n",
    "                            0.0, \n",
    "                            0.0, \n",
    "                            0.0\n",
    "                        ], \n",
    "                        \"unit\": \"scaled\"\n",
    "                    }\n",
    "                }, \n",
    "                {\n",
    "                    \"component\": 1, \n",
    "                    \"position\": {\n",
    "                        \"value\": [\n",
    "                            0.0, \n",
    "                            0.5, \n",
    "                            0.5\n",
    "                        ], \n",
    "                        \"unit\": \"scaled\"\n",
    "                    }\n",
    "                }, \n",
    "                {\n",
    "                    \"component\": 1, \n",
    "                    \"position\": {\n",
    "                        \"value\": [\n",
    "                            0.5, \n",
    "                            0.0, \n",
    "                            0.5\n",
    "                        ], \n",
    "                        \"unit\": \"scaled\"\n",
    "                    }\n",
    "                }, \n",
    "                {\n",
    "                    \"component\": 1, \n",
    "                    \"position\": {\n",
    "                        \"value\": [\n",
    "                            0.5, \n",
    "                            0.5, \n",
    "                            0.0\n",
    "                        ], \n",
    "                        \"unit\": \"scaled\"\n",
    "                    }\n",
    "                }\n",
    "            ]\n",
    "        }\n",
    "    }\n",
    "}\"\"\")\n",
    "f.close()"
   ]
  },
  {
   "cell_type": "markdown",
   "metadata": {},
   "source": [
    "#### 1.4 Dislocation Monopole Data Model\n",
    "\n",
    "This generates a dislocation monopole data model file associated with an fcc edge dislocation. Additional dislocation monopole data models can be found in the ipyrPy/reference-libraries/dislocations directory."
   ]
  },
  {
   "cell_type": "code",
   "execution_count": 6,
   "metadata": {
    "collapsed": true
   },
   "outputs": [],
   "source": [
    "#Creates an instance of a dislocation monopole data model.\n",
    "f = open('111-edge.json', 'w')\n",
    "f.write(\"\"\"{\n",
    "    \"dislocation-monopole-parameters\": {    \n",
    "        \"dislocation\": {\n",
    "            \"key\": \"d59f2382-17e5-4fbd-b398-407c75e6009a\", \n",
    "            \"id\": \"111-edge\"\n",
    "        },\n",
    "        \"character\": {\n",
    "            \"type\": \"edge\",\n",
    "            \"Burgers-vector\": \"a/2[ 1, 0,-1]\",\n",
    "            \"slip-plane\": [ 1, 1, 1],\n",
    "            \"line-direction\": [ 1,-2, 1]\n",
    "        },\n",
    "        \"system-family\": \"A1--Cu--fcc\",\n",
    "        \"atomman-defect-Stroh-parameters\": {\n",
    "            \"burgers\": [ 0.5, 0.0,-0.5],\n",
    "            \"crystallographic-axes\": {\n",
    "                \"x-axis\": [ 1, 0,-1],\n",
    "                \"y-axis\": [ 1, 1, 1],\n",
    "                \"z-axis\": [ 1,-2, 1]\n",
    "            },\n",
    "            \"shift\": [ 0.00000000000000, 0.25000000000000, 0.00000000000000]\n",
    "        }\n",
    "    }\n",
    "}\"\"\")\n",
    "f.close()"
   ]
  },
  {
   "cell_type": "markdown",
   "metadata": {},
   "source": [
    "### 2. LAMMPS Script Template(s)\n",
    "\n",
    "This generates any LAMMPS imput template files that are used by the calculation functions. The calculation functions fill in variable terms in the templates to create complete LAMMPS simulation scripts.\n",
    "\n",
    "1. disl_relax.template -- thermally relaxes the dislocation system for 10000 nvt iterations at a specified temperature before performing an energy/force minimization.\n",
    "\n",
    "2. disl_relax_no_temp.template -- performs an energy/force minimization on the system without first doing a thermal anneal."
   ]
  },
  {
   "cell_type": "markdown",
   "metadata": {},
   "source": [
    "#### 2.1 disl_relax.template"
   ]
  },
  {
   "cell_type": "code",
   "execution_count": 7,
   "metadata": {
    "collapsed": true
   },
   "outputs": [],
   "source": [
    "f = open('disl_relax.template', 'w')\n",
    "f.write(\"\"\"#LAMMPS input script for relaxing a dislocation monopole\n",
    "\n",
    "<atomman_system_info>\n",
    "\n",
    "<atomman_pair_info>\n",
    "\n",
    "variable anneal_temp equal <anneal_temp>\n",
    "variable two_temp equal 2*${anneal_temp}\n",
    "\n",
    "group move type <group_move>\n",
    "group hold subtract all move\n",
    "\n",
    "compute peatom all pe/atom\n",
    "\n",
    "dump first all custom 100000 atom.* id type x y z c_peatom\n",
    "dump_modify first format \"%d %d %.13e %.13e %.13e %.13e\"\n",
    "thermo_style custom step pe\n",
    "\n",
    "velocity move create ${two_temp} 9467 mom yes rot yes dist gaussian\n",
    "fix nomove hold setforce 0.0 0.0 0.0\n",
    "timestep 0.001\n",
    "thermo 10000\n",
    "fix 1 all nvt temp ${anneal_temp} ${anneal_temp} 0.1\n",
    "\n",
    "run 10000\n",
    "    \n",
    "minimize <energy_tolerance> <force_tolerance> <maximum_iterations> <maximum_evaluations>\"\"\")\n",
    "f.close()"
   ]
  },
  {
   "cell_type": "markdown",
   "metadata": {},
   "source": [
    "#### 2.2 disl_relax_no_temp.template"
   ]
  },
  {
   "cell_type": "code",
   "execution_count": 8,
   "metadata": {
    "collapsed": true
   },
   "outputs": [],
   "source": [
    "f = open('disl_relax_no_temp.template', 'w')\n",
    "f.write(\"\"\"#LAMMPS input script for relaxing a dislocation monopole\n",
    "\n",
    "<atomman_system_info>\n",
    "\n",
    "<atomman_pair_info>\n",
    "\n",
    "group move type <group_move>\n",
    "group hold subtract all move\n",
    "\n",
    "compute peatom all pe/atom\n",
    "\n",
    "dump first all custom 100000 atom.* id type x y z c_peatom\n",
    "dump_modify first format \"%d %d %.13e %.13e %.13e %.13e\"\n",
    "thermo_style custom step pe\n",
    "\n",
    "fix nomove hold setforce 0.0 0.0 0.0\n",
    "\n",
    "minimize <energy_tolerance> <force_tolerance> <maximum_iterations> <maximum_evaluations>\"\"\")\n",
    "f.close()"
   ]
  },
  {
   "cell_type": "markdown",
   "metadata": {},
   "source": [
    "### 3. Python Calculation Function(s)\n",
    "\n",
    "These are the Python functions that are at the heart of performing the calculation.\n",
    "\n",
    "1. __disl_monopole_gen__: constructs a dislocation monopole system.\n",
    "\n",
    "2. __disl_boundary_fix__: identifies boundary region atoms by changing their atom types.\n",
    "\n",
    "3. __disl_relax__: runs the disl_relax script for LAMMPS on the system."
   ]
  },
  {
   "cell_type": "markdown",
   "metadata": {},
   "source": [
    "#### 3.1 disl_monopole_gen Function\n",
    "\n",
    "Adds a dislocation monopole to a System.\n",
    "\n",
    "Arguments:\n",
    "\n",
    "- __system__ -- atomman.System to add the dislocation monopole to.\n",
    "\n",
    "- __C__ -- atomman.ElasticConstants representation of the system's elastic constant matrix.\n",
    "\n",
    "- __burgers__ -- 3D Burgers vector of the dislocation.\n",
    "    \n",
    "Keyword Arguments:\n",
    "    \n",
    "- __axes__ -- transformation axes associated with the supplied system. If given, C and burgers will be transformed accordingly.\n",
    "\n",
    "Returns a dictionary containing:\n",
    "\n",
    "- __system_disl_unrelaxed__ -- a new system where atoms have been displaced according to the anisotropic elasticity solution.\n",
    "\n",
    "- __stroh__ -- an atomman.defect.Stroh object associated with the elasticity solution.\n",
    "\n",
    "This code is directly copied from calc_dislocation_monopole.py."
   ]
  },
  {
   "cell_type": "code",
   "execution_count": 9,
   "metadata": {
    "collapsed": true
   },
   "outputs": [],
   "source": [
    "def disl_monopole_gen(system, C, burgers, axes=None):\n",
    "    \"\"\"Add a dislocation monopole to a system using the Stroh method.\"\"\"\n",
    "    \n",
    "    system_disl_unrelaxed = deepcopy(system)\n",
    "    \n",
    "    stroh = am.defect.Stroh(C, burgers, axes=axes)\n",
    "    \n",
    "    disp = stroh.displacement(system_disl_unrelaxed.atoms.view['pos'])\n",
    "    system_disl_unrelaxed.atoms.view['pos'] += disp\n",
    "    \n",
    "    system_disl_unrelaxed.wrap()\n",
    "    \n",
    "    return {'system_disl_unrelaxed':system_disl_unrelaxed, 'stroh':stroh}"
   ]
  },
  {
   "cell_type": "markdown",
   "metadata": {},
   "source": [
    "#### 3.2 disl_boundary_fix Function\n",
    "\n",
    "Defines a boundary region for a dislocation monopole system by returning a new system with changed atom types.\n",
    "\n",
    "Arguments:\n",
    "\n",
    "- __system__ -- atomman.System containing a dislocation monopole.\n",
    "\n",
    "- __symbols__ -- list of atom model symbols associated with the supplied system.\n",
    "\n",
    "- __b_width__ -- minimum thickness of the boundary region.\n",
    "\n",
    "Keyword Argument:\n",
    "\n",
    "- __b_shape__ -- specifies the geometry to use in defining the boundary region. Default value is 'circle'.\n",
    "    \n",
    "    - = 'circle' -- the boundary region is all atoms outside an xy radius that is b_width shorter than the smallest xy lo/hi dimension.\n",
    "    \n",
    "    - = 'rect' -- the boundary region is all atoms within b_width of the xy lo/hi dimensions.\n",
    "    \n",
    "Returns a new system and corresponding list of symbols where the atom types of all atoms in the boundary region have been changed.\n",
    "\n",
    "This code is directly copied from calc_dislocation_monopole.py."
   ]
  },
  {
   "cell_type": "code",
   "execution_count": 10,
   "metadata": {
    "collapsed": true
   },
   "outputs": [],
   "source": [
    "def disl_boundary_fix(system, symbols, b_width, b_shape='circle'):\n",
    "    \"\"\"Create boundary region by changing atom types. Returns a new system and symbols list.\"\"\"\n",
    "    natypes = system.natypes\n",
    "    atypes = system.atoms_prop(key='atype')\n",
    "    pos = system.atoms_prop(key='pos')\n",
    "    \n",
    "    if b_shape == 'circle':\n",
    "        #find x or y bound closest to 0\n",
    "        smallest_xy = min([abs(system.box.xlo), abs(system.box.xhi),\n",
    "                           abs(system.box.ylo), abs(system.box.yhi)])\n",
    "        \n",
    "        radius = smallest_xy - b_width\n",
    "        xy_mag = np.linalg.norm(system.atoms_prop(key='pos')[:,:2], axis=1)        \n",
    "        atypes[xy_mag > radius] += natypes\n",
    "    \n",
    "    elif b_shape == 'rect':\n",
    "        index = np.unique(np.hstack((np.where(pos[:,0] < system.box.xlo + b_width),\n",
    "                                     np.where(pos[:,0] > system.box.xhi - b_width),\n",
    "                                     np.where(pos[:,1] < system.box.ylo + b_width),\n",
    "                                     np.where(pos[:,1] > system.box.yhi - b_width))))\n",
    "        atypes[index] += natypes\n",
    "           \n",
    "    else:\n",
    "        raise ValueError(\"Unknown b_shape type! Enter 'circle' or 'rect'\")\n",
    "\n",
    "    new_system = deepcopy(system)\n",
    "    new_system.atoms_prop(key='atype', value=atypes)\n",
    "    symbols.extend(symbols)\n",
    "    \n",
    "    return new_system, symbols"
   ]
  },
  {
   "cell_type": "markdown",
   "metadata": {},
   "source": [
    "#### 3.3 disl_relax Function\n",
    "\n",
    "Runs the disl_relax.in LAMMPS script on a dislocation containing system.\n",
    "\n",
    "Arguments:\n",
    "    \n",
    "- __lammps_command__ -- command for running LAMMPS.\n",
    "\n",
    "- __system__ -- atomman.System to relax.\n",
    "\n",
    "- __potential__ -- atomman.lammps.Potential representation of a LAMMPS implemented potential.\n",
    "\n",
    "- __symbols__ -- list of element-model symbols for the Potential that correspond to system's atypes.\n",
    "    \n",
    "Keyword Arguments:\n",
    "    \n",
    "- __mpi_command__ -- MPI command for running LAMMPS in parallel. Default value is None (serial run). \n",
    "\n",
    "- __anneal_temperature__ -- temperature to use in thermally annealing the system prior to minimization. No thermal anneal will be performed if givena value of 0.0. Default value is 0.0.\n",
    "\n",
    "- __etol__ -- energy tolerance to use for the LAMMPS minimization. Default value is 0.0 (i.e. only uses ftol). \n",
    "\n",
    "- __ftol__ -- force tolerance to use for the LAMMPS minimization. Default value is 1e-6.\n",
    "\n",
    "- __maxiter__ -- the maximum number of iterations for the LAMMPS minimization. Default value is 100000.\n",
    "\n",
    "- __maxeval__ -- the maximum number of evaluations for the LAMMPS minimization. Default value is 100000.\n",
    "\n",
    "Returns a dictionary containing:\n",
    "\n",
    "- __E_total_disl__ -- the total energy of the defect containing system.\n",
    "\n",
    "- __system_disl__ -- an atomman.System of the relaxed defect containing system.\n",
    "\n",
    "This code is directly copied from calc_dislocation_monopole.py."
   ]
  },
  {
   "cell_type": "code",
   "execution_count": 11,
   "metadata": {
    "collapsed": true
   },
   "outputs": [],
   "source": [
    "def disl_relax(lammps_command, system, potential, symbols, \n",
    "               mpi_command=None, anneal_temperature=0.0,\n",
    "               etol=0.0, ftol=1e-6, maxiter=100000, maxeval=100000):\n",
    "    \"\"\"Runs LAMMPS using the disl_relax.in script for relaxing a dislocation monopole system.\"\"\"\n",
    "    \n",
    "    #Get lammps units\n",
    "    lammps_units = lmp.style.unit(potential.units)\n",
    "    \n",
    "    #Read LAMMPS input template\n",
    "    if anneal_temperature == 0.0:\n",
    "        with open('disl_relax_no_temp.template') as f:\n",
    "            template = f.read()\n",
    "    else:\n",
    "        with open('disl_relax.template') as f:\n",
    "            template = f.read()\n",
    "    \n",
    "    #Define lammps variables\n",
    "    lammps_variables = {}\n",
    "    lammps_variables['atomman_system_info'] = lmp.atom_data.dump(system, 'disl_unrelaxed.dat', \n",
    "                                                                 units=potential.units, \n",
    "                                                                 atom_style=potential.atom_style)\n",
    "    lammps_variables['atomman_pair_info'] =   potential.pair_info(symbols)\n",
    "    lammps_variables['atomman_pair_info'] =   potential.pair_info(symbols)\n",
    "    lammps_variables['anneal_temp'] =         anneal_temperature\n",
    "    lammps_variables['energy_tolerance'] =    etol\n",
    "    lammps_variables['force_tolerance'] =     uc.get_in_units(ftol, lammps_units['force'])\n",
    "    lammps_variables['maximum_iterations'] =  maxiter\n",
    "    lammps_variables['maximum_evaluations'] = maxeval\n",
    "    lammps_variables['group_move'] =          ' '.join(np.array(range(1, system.natypes/2+1), dtype=str))\n",
    "    \n",
    "    #Write lammps input script\n",
    "    with open('disl_relax.in', 'w') as f:\n",
    "        f.write('\\n'.join(iprPy.tools.fill_template(template, lammps_variables, '<', '>')))\n",
    "\n",
    "    #run lammps to relax perfect.dat\n",
    "    output = lmp.run(lammps_command, 'disl_relax.in', mpi_command)\n",
    "    \n",
    "    #Extract LAMMPS thermo data.\n",
    "    E_total_disl = uc.set_in_units(output.finds('PotEng')[-1], lammps_units['energy'])\n",
    "    \n",
    "    #Load relaxed system from dump file and copy old vects as dump files crop values\n",
    "    last_dump_file = 'atom.'+str(int(output.finds('Step')[-1]))\n",
    "    system_disl = lmp.atom_dump.load(last_dump_file)\n",
    "    system_disl.box_set(vects=system.box.vects)\n",
    "    \n",
    "    return {'E_total_disl':E_total_disl, 'system_disl':system_disl}"
   ]
  },
  {
   "cell_type": "markdown",
   "metadata": {},
   "source": [
    "### 4. Run Calculation"
   ]
  },
  {
   "cell_type": "markdown",
   "metadata": {},
   "source": [
    "Specify run parameters"
   ]
  },
  {
   "cell_type": "code",
   "execution_count": 12,
   "metadata": {
    "collapsed": true
   },
   "outputs": [],
   "source": [
    "#Commands for LAMMPS and MPI\n",
    "lammps_command = 'lmp_serial'\n",
    "mpi_command =    None\n",
    "\n",
    "#Paths to the potential data model and directory of artifacts\n",
    "potential_file = '2012--Jelinek-B--Al-Si-Mg-Cu-Fe.json' #Generated above\n",
    "potential_dir  = ''                                     #Files generated above in working directory\n",
    "\n",
    "#System load parameters\n",
    "load_style = 'system_model'\n",
    "load_file =  'A1--Cu--fcc.json' #Generated above\n",
    "\n",
    "#Specify symbols combinations to use\n",
    "symbols = ['AlS']\n",
    "\n",
    "#Specify lattice parameters to use\n",
    "a = b = c = uc.set_in_units(4.05, 'angstrom')\n",
    "\n",
    "#Specify elastic constants parameters to use\n",
    "C11 = uc.set_in_units(110.53, 'GPa')\n",
    "C12 = uc.set_in_units( 60.90, 'GPa')\n",
    "C44 = uc.set_in_units( 28.39, 'GPa')\n",
    "\n",
    "#Specify system size multipliers\n",
    "a_mult = (-5, 5)\n",
    "b_mult = (-5, 5)\n",
    "c_mult = (-1, 1)\n",
    "\n",
    "#Specify dislocation monopole model to use\n",
    "disl_model_file = '111-edge.json' #Generated above\n",
    "\n",
    "#Specify boundary region parameters\n",
    "b_width = 3 * a\n",
    "b_shape = 'circle'"
   ]
  },
  {
   "cell_type": "markdown",
   "metadata": {},
   "source": [
    "Extract dislocation model parameters. Alternatively, axes, burgers, and shift could be manually specified."
   ]
  },
  {
   "cell_type": "code",
   "execution_count": 13,
   "metadata": {
    "collapsed": true
   },
   "outputs": [],
   "source": [
    "with open(disl_model_file) as f:\n",
    "    disl_model = DM(f).find('atomman-defect-Stroh-parameters')\n",
    "\n",
    "#axes is the crystallographic/transformation axes to rotate the system by\n",
    "axes = np.array([disl_model[['crystallographic-axes', 'x-axis']],\n",
    "                 disl_model[['crystallographic-axes', 'y-axis']],\n",
    "                 disl_model[['crystallographic-axes', 'z-axis']]])\n",
    "\n",
    "#burgers is the Burgers vector.\n",
    "burgers = a * np.array(disl_model['burgers'])\n",
    "\n",
    "#shift displaces atoms ideally so that the slip plane is not on top of an atomic plane.\n",
    "shift = np.array(disl_model['shift'])"
   ]
  },
  {
   "cell_type": "markdown",
   "metadata": {},
   "source": [
    "Read the interatomic potential data model"
   ]
  },
  {
   "cell_type": "code",
   "execution_count": 14,
   "metadata": {
    "collapsed": true
   },
   "outputs": [],
   "source": [
    "with open(potential_file) as f:\n",
    "    potential = lmp.Potential(f, potential_dir)"
   ]
  },
  {
   "cell_type": "markdown",
   "metadata": {},
   "source": [
    "Build initial perfect system"
   ]
  },
  {
   "cell_type": "code",
   "execution_count": 15,
   "metadata": {
    "collapsed": false
   },
   "outputs": [],
   "source": [
    "#Load initial system\n",
    "system = am.load(load_style, load_file)[0]\n",
    "    \n",
    "#Set alat and rotate to axes\n",
    "system.box_set(a=a, b=b, c=c, scale=True)\n",
    "system = am.rotate_cubic(system, axes)\n",
    "\n",
    "#Apply shift\n",
    "shift = shift[0] * system.box.avect + shift[1] * system.box.bvect + shift[2] * system.box.cvect\n",
    "system.atoms.view['pos'] += shift\n",
    "\n",
    "#Supersize\n",
    "system.supersize(a_mult, b_mult, c_mult)"
   ]
  },
  {
   "cell_type": "markdown",
   "metadata": {},
   "source": [
    "Generate dislocation monopole system"
   ]
  },
  {
   "cell_type": "code",
   "execution_count": 16,
   "metadata": {
    "collapsed": false
   },
   "outputs": [],
   "source": [
    "#Define Elastic Constants matrix\n",
    "C = am.ElasticConstants(C11=C11, C12=C12, C44=C44)\n",
    "\n",
    "#Call disl_monopole_gen\n",
    "results = disl_monopole_gen(system, C, burgers, axes=axes)\n",
    "\n",
    "#Extract results\n",
    "system_disl_unrelaxed = results['system_disl_unrelaxed']\n",
    "stroh = results['stroh']\n",
    "\n",
    "#Define boundary region\n",
    "system_disl_unrelaxed, symbols = disl_boundary_fix(system_disl_unrelaxed, symbols, b_width, b_shape)\n",
    "\n",
    "\n",
    "#Relax system\n",
    "results = disl_relax(lammps_command, system_disl_unrelaxed, potential, symbols)\n",
    "\n",
    "#Extract results\n",
    "system_disl = results['system_disl']"
   ]
  },
  {
   "cell_type": "markdown",
   "metadata": {},
   "source": [
    "### 5. Display results"
   ]
  },
  {
   "cell_type": "code",
   "execution_count": 17,
   "metadata": {
    "collapsed": false
   },
   "outputs": [
    {
     "data": {
      "image/png": "[encoded data removed]",
      "text/plain": [
       "<matplotlib.figure.Figure at 0x79c0fd0>"
      ]
     },
     "metadata": {},
     "output_type": "display_data"
    }
   ],
   "source": [
    "plot_range = np.array([[-10, 10], [-10, 10], [system.box.zlo, 0.0001]])\n",
    "am.defect.differential_displacement(system, system_disl, burgers, plot_range, axes=axes, neighbor_list_cutoff=0.9*a)"
   ]
  },
  {
   "cell_type": "code",
   "execution_count": null,
   "metadata": {
    "collapsed": true
   },
   "outputs": [],
   "source": []
  }
 ],
 "metadata": {
  "anaconda-cloud": {},
  "kernelspec": {
   "display_name": "Python [Root]",
   "language": "python",
   "name": "Python [Root]"
  },
  "language_info": {
   "codemirror_mode": {
    "name": "ipython",
    "version": 2
   },
   "file_extension": ".py",
   "mimetype": "text/x-python",
   "name": "python",
   "nbconvert_exporter": "python",
   "pygments_lexer": "ipython2",
   "version": "2.7.12"
  }
 },
 "nbformat": 4,
 "nbformat_minor": 0
}
