{
 "cells": [
  {
   "cell_type": "markdown",
   "metadata": {},
   "source": [
    "# refine_structure_static\n",
    "- - -"
   ]
  },
  {
   "cell_type": "markdown",
   "metadata": {},
   "source": [
    "**Lucas M. Hale**, [lucas.hale@nist.gov](mailto:lucas.hale@nist.gov?Subject=ipr-demo), *Materials Science and Engineering Division, NIST*.\n",
    "\n",
    "**Chandler A. Becker**, [chandler.becker@nist.gov](mailto:chandler.becker@nist.gov?Subject=ipr-demo), *Office of Data and Informatics, NIST*.\n",
    "\n",
    "**Zachary T. Trautt**, [zachary.trautt@nist.gov](mailto:zachary.trautt@nist.gov?Subject=ipr-demo), *Materials Measurement Science Division, NIST*.\n",
    "\n",
    "Version: 2016-09-08\n",
    "\n",
    "[Disclaimers](http://www.nist.gov/public_affairs/disclaimer.cfm) \n",
    " \n",
    "- - -"
   ]
  },
  {
   "cell_type": "markdown",
   "metadata": {},
   "source": [
    "## Introduction\n",
    "\n",
    "The __refine_structure_static__ calculation refines the lattice parameters of an orthogonal system (crystal structure) by calculating the elastic constant using small displacements, and then using the elastic stiffnesses to iterate towards zero pressure. In refining the lattice parameter values, the box dimensions are allowed to relax, but the relative positions of the atoms within the box are held fixed. \n",
    "\n",
    "This calculations provides a quick tool for obtaining both the lattice and elastic constants for a given structure.\n",
    "\n",
    "__Disclaimer__: With this method there is no guarantee that the resulting parameters are for a stable structure. Allowing internal relaxations may result in different values for some structures. Additionally, some transformation paths may be restricted from ocurring, which allows for unstable structures to be refined."
   ]
  },
  {
   "cell_type": "markdown",
   "metadata": {},
   "source": [
    "## Demonstration"
   ]
  },
  {
   "cell_type": "markdown",
   "metadata": {},
   "source": [
    "Library Imports"
   ]
  },
  {
   "cell_type": "code",
   "execution_count": 1,
   "metadata": {
    "collapsed": true
   },
   "outputs": [],
   "source": [
    "#Standard Python imports\n",
    "import os\n",
    "import shutil\n",
    "from copy import deepcopy\n",
    "\n",
    "#http://www.numpy.org/\n",
    "import numpy as np\n",
    "\n",
    "#https://github.com/usnistgov/atomman \n",
    "import atomman as am\n",
    "import atomman.lammps as lmp\n",
    "import atomman.unitconvert as uc\n",
    "\n",
    "import iprPy"
   ]
  },
  {
   "cell_type": "markdown",
   "metadata": {},
   "source": [
    "### 1. Generate Data Files\n",
    "\n",
    "We have embedded a few files to make the Notebook a self-contained calculation.\n",
    "\n",
    "1. __MEAM Potential.__ Generates library and parameter files for one MEAM potential.\n",
    "\n",
    "2. __Potential Data Model.__ Collects all input parameters assoiciated with running the MEAM potential in LAMMPS.\n",
    "\n",
    "3. __Prototype Data Model.__ Generates an instance of the crystal prototype data model used to generate various structures."
   ]
  },
  {
   "cell_type": "markdown",
   "metadata": {},
   "source": [
    "Create working directory"
   ]
  },
  {
   "cell_type": "code",
   "execution_count": 2,
   "metadata": {
    "collapsed": true
   },
   "outputs": [],
   "source": [
    "working_dir = 'refine_structure_static'\n",
    "\n",
    "#This prevents recursive directories upon re-running this cell\n",
    "if os.path.basename(os.getcwd()) == working_dir:\n",
    "    working_dir = os.getcwd()\n",
    "else:\n",
    "    working_dir = os.path.realpath(working_dir)\n",
    "    \n",
    "#move to working_dir\n",
    "try:\n",
    "    os.chdir(working_dir)\n",
    "except:\n",
    "    os.makedirs(working_dir)\n",
    "    os.chdir(working_dir)"
   ]
  },
  {
   "cell_type": "markdown",
   "metadata": {},
   "source": [
    "#### 1.1 MEAM Potential\n",
    "\n",
    "This generates the library and parameter files associated with the following interatomic potential taken from the [NIST Interatomic Potential Repository](http://www.ctcms.nist.gov/potentials/):\n",
    "\n",
    "__2012--Jelinek-B--Al-Si-Mg-Cu-Fe__\n",
    "\n",
    "__Aluminum, Silicon, Magnesium, Copper, and Iron (Al, Si, Mg, Cu, and Fe) Alloys__\n",
    "\n",
    "*B. Jelinek, S. Groh, M. Horstemeyer, J. Houze, S.G. Kim, G.J. Wagner, A. Moitra, and M.I. Baskes, \"Modified embedded atom method potential for Al, Si, Mg, Cu, and Fe alloys,\" Phys. Rev. B 85, 245102 (2012).*\n",
    "\n",
    "__Notes__: This file was provided by Bohumir Jelinek (Mississippi State University) and posted on 3 July 2012. He noted, \"This is a MEAM potential for Al, Si, Mg, Cu, Fe alloys. It works with LAMMPS, version 19 Jul 2011 or later, when compiled with MEAM support.\"\n",
    "\n",
    "__Notice__: Users should consider all available potentials and select one which is appropriate for their use case. Use of this potential within this demonstration should not be construed as an endorsement or a recommendation. "
   ]
  },
  {
   "cell_type": "code",
   "execution_count": 3,
   "metadata": {
    "collapsed": false
   },
   "outputs": [],
   "source": [
    "#Create MEAM library and parameter files for the 2012--Jelinek-B--Al-Si-Mg-Cu-Fe potential\n",
    "   \n",
    "#Create MEAM library file \"Jelinek_2012_meamf\"\n",
    "f = open('Jelinek_2012_meamf', 'w')\n",
    "f.write(\"\"\"# MEAM Al, Si, Mg, Cu, Fe alloy potential, Phys. Rev. B 85, 245102 (2012)\n",
    "# http://dx.doi.org/10.1103/PhysRevB.85.245102\n",
    "# to be used with \"meam.alsimgcufe\" file providing combinational parameters\n",
    "#  elt        lat     z       ielement     atwt\n",
    "#  alpha      b0      b1      b2           b3    alat    esub    asub\n",
    "#  t0         t1              t2           t3            rozero  ibar\n",
    "\n",
    "'AlS'        'fcc'   12.     13           26.9815\n",
    "4.64        2.04    3.00    6.0          1.50  4.05    3.353    1.07\n",
    "1.0         +4.50           -2.30        8.01          1.0    -5\n",
    "'SiS'        'dia'   4.      14           28.086\n",
    "4.87        4.4     5.5     5.5          5.5   5.431   4.63    1.\n",
    "1.0         2.05            4.47         -1.80         2.2    -5\n",
    "'MgS'       'hcp'   12.      12           24.305\n",
    "5.52        4.0    3.0     0.2          1.2  3.194 1.51     0.80\n",
    "1.0         10.04           9.49         -4.3          0.63   -5\n",
    "'CuS'        'fcc'   12.     29           63.54\n",
    "5.11        3.634   2.20    6            2.20  3.62    3.54    1.07\n",
    "1.0         4.91            2.49         2.95          1.10   -5\n",
    "'FeS'        'bcc'   8       26           55.847\n",
    "5.0270      3.500   2       1.00         1     2.851   4.28    0.5550\n",
    "1          -1.6             12.5          -1.40        1.0    -5\"\"\")\n",
    "f.close()\n",
    "\n",
    "#Create MEAM parameter file \"Jelinek_2012_meam.alsimgcufe\"\n",
    "f = open('Jelinek_2012_meam.alsimgcufe', 'w')\n",
    "f.write(\"\"\"# MEAM Al, Si, Mg, Cu, Fe alloy potential, Phys. Rev. B 85, 245102 (2012)\n",
    "# http://dx.doi.org/10.1103/PhysRevB.85.245102\n",
    "# to be used with \"meamf\" file providing single element parameters\n",
    "\n",
    "  Cmin(1,1,1) = 0.8\n",
    "  repuls(1,1) = 0.1\n",
    "  Cmin(3,3,3) = 0.8\n",
    "  Cmin(4,4,4) = 0.8\n",
    "  Cmin(5,5,5) = 0.68\n",
    "  repuls(5,5) = 0.3\n",
    "  Cmax(5,5,5) = 1.9\n",
    "\n",
    "  nn2(1,1)=1\n",
    "  nn2(1,2)=1\n",
    "  nn2(1,3)=1\n",
    "  nn2(1,4)=1\n",
    "  nn2(1,5)=1\n",
    "  nn2(2,2)=1\n",
    "  nn2(2,3)=1\n",
    "  nn2(2,4)=1\n",
    "  nn2(2,5)=1\n",
    "  nn2(3,3)=1\n",
    "  nn2(3,4)=1\n",
    "  nn2(3,5)=1\n",
    "  nn2(4,4)=1\n",
    "  nn2(4,5)=1\n",
    "  nn2(5,5)=1\n",
    "\n",
    "  lattce(1,2)='b1'\n",
    "  delta(1,2)=+0.28\n",
    "  alpha(1,2)=4.56\n",
    "  re(1,2)=2.62\n",
    "  Cmin(1,1,2) = 0.50\n",
    "  Cmin(2,2,1) = 2.00\n",
    "  Cmin(1,2,1) = 2.00\n",
    "  Cmin(1,2,2) = 2.00\n",
    "\n",
    "  lattce(1,3)='b1'\n",
    "  delta(1,3)=+0.23\n",
    "  alpha(1,3)=4.52\n",
    "  re(1,3)=2.87\n",
    "  Cmin(1,1,3) = 2.00\n",
    "  Cmin(3,3,1) = 0.00\n",
    "  Cmin(1,3,1) = 2.00\n",
    "  Cmin(1,3,3) = 0.00\n",
    "\n",
    "  lattce(1,4)='b1'\n",
    "  delta(1,4)=+0.19\n",
    "  alpha(1,4)=4.65\n",
    "  re(1,4)=2.53\n",
    "  Cmin(1,1,4) = 0.00\n",
    "  Cmin(4,4,1) = 2.00\n",
    "  Cmin(1,4,1) = 2.00\n",
    "  Cmin(1,4,4) = 2.00\n",
    "\n",
    "  lattce(1,5)='b1'\n",
    "  delta(1,5)=+0.26\n",
    "  alpha(1,5)=4.64\n",
    "  re(1,5)=2.45\n",
    "  Cmin(1,1,5) = 0.90\n",
    "  Cmin(5,5,1) = 0.10\n",
    "  Cmin(1,5,1) = 2.00\n",
    "  Cmin(1,5,5) = 2.00\n",
    "\n",
    "  lattce(2,3)='b1'\n",
    "  delta(2,3)=+0.2\n",
    "  alpha(2,3)=4.73\n",
    "  re(2,3)=2.75\n",
    "  Cmin(2,2,3) = 1.00\n",
    "  Cmin(3,3,2) = 1.00\n",
    "  Cmin(2,3,2) = 2.00\n",
    "  Cmin(2,3,3) = 2.00\n",
    "\n",
    "  lattce(2,4)='b1'\n",
    "  delta(2,4)=+0.14\n",
    "  alpha(2,4)=4.74\n",
    "  re(2,4)=2.46\n",
    "  Cmin(2,2,4) = 0.00\n",
    "  Cmin(4,4,2) = 0.00\n",
    "  Cmin(2,4,2) = 2.00\n",
    "  Cmin(2,4,4) = 2.00\n",
    "\n",
    "  lattce(2,5)='b1'\n",
    "  delta(2,5)=-0.07\n",
    "  alpha(2,5)=5.17\n",
    "  re(2,5)=2.39\n",
    "  Cmin(2,2,5) = 1.00\n",
    "  Cmin(5,5,2) = 1.00\n",
    "  Cmin(2,5,2) = 2.00\n",
    "  Cmin(2,5,5) = 0.00\n",
    "  attrac(2,5) = 0.1\n",
    "  repuls(2,5) = 0.1\n",
    "\n",
    "  lattce(3,4)='b1'\n",
    "  delta(3,4)=+0.23\n",
    "  alpha(3,4)=4.70\n",
    "  re(3,4)=2.63\n",
    "  Cmin(3,3,4) = 2.00\n",
    "  Cmin(4,4,3) = 0.00\n",
    "  Cmin(3,4,3) = 2.00\n",
    "  Cmin(3,4,4) = 2.00\n",
    "\n",
    "  lattce(3,5)='b1'\n",
    "  delta(3,5)=+0.6\n",
    "  alpha(3,5)=4.96\n",
    "  re(3,5)=2.61\n",
    "  Cmin(3,3,5) = 0.65\n",
    "  Cmin(5,5,3) = 0.00\n",
    "  Cmin(3,5,3) = 2.00\n",
    "  Cmin(3,5,5) = 2.00\n",
    "\n",
    "  lattce(4,5)='b1'\n",
    "  delta(4,5)=+0.63\n",
    "  alpha(4,5)=5.21\n",
    "  re(4,5)=2.42\n",
    "  Cmin(5,5,4)=0.00\n",
    "\n",
    "  attrac(5,2) = 0.1\n",
    "  repuls(5,2) = 0.1\n",
    "\n",
    "  rc = 5.0\n",
    "  ialloy=1\n",
    "  augt1=0\n",
    "  delr=0.25658351\n",
    "  emb_lin_neg=1\n",
    "  bkgd_dyn=1\"\"\")\n",
    "f.close()"
   ]
  },
  {
   "cell_type": "markdown",
   "metadata": {},
   "source": [
    "#### 1.2 Potential Data Model\n",
    "\n",
    "This generates the interatomic potential data model file associated with the 2012--Jelinek-B--Al-Si-Mg-Cu-Fe potential. Additional potential data models and their associated artifacts can be found in the ipyrPy/reference-libraries/potentials directory."
   ]
  },
  {
   "cell_type": "code",
   "execution_count": 4,
   "metadata": {
    "collapsed": true
   },
   "outputs": [],
   "source": [
    "#Creates a interatomic potential data model for using the MEAM potential in LAMMPS\n",
    "f = open('2012--Jelinek-B--Al-Si-Mg-Cu-Fe.json', 'w')\n",
    "f.write(\"\"\"{\n",
    "    \"LAMMPS-potential\": {\n",
    "        \"potential\": {\n",
    "            \"key\": \"1515dd80-1984-49de-bc92-d5724059ff56\", \n",
    "            \"id\": \"2012--Jelinek-B--Al-Si-Mg-Cu-Fe\"\n",
    "        }, \n",
    "        \"units\": \"metal\", \n",
    "        \"atom_style\": \"atomic\", \n",
    "        \"atom\": [\n",
    "            {\n",
    "                \"symbol\": \"AlS\",\n",
    "                \"element\": \"Al\", \n",
    "                \"mass\": 26.9815                \n",
    "            }, \n",
    "            {\n",
    "                \"symbol\": \"SiS\",\n",
    "                \"element\": \"Si\", \n",
    "                \"mass\": 28.086                \n",
    "            }, \n",
    "            {\n",
    "                \"symbol\": \"MgS\", \n",
    "                \"element\": \"Mg\",\n",
    "                \"mass\": 24.305                \n",
    "            }, \n",
    "            {\n",
    "                \"symbol\": \"CuS\", \n",
    "                \"element\": \"Cu\", \n",
    "                \"mass\": 63.54\n",
    "            }, \n",
    "            {\n",
    "                \"symbol\": \"FeS\", \n",
    "                \"element\": \"Fe\", \n",
    "                \"mass\": 55.847\n",
    "            }\n",
    "        ], \n",
    "        \"pair_style\": {\n",
    "            \"type\": \"meam\"\n",
    "        }, \n",
    "        \"pair_coeff\": {\n",
    "            \"term\": [\n",
    "                {\n",
    "                    \"file\": \"Jelinek_2012_meamf\"\n",
    "                }, \n",
    "                {\n",
    "                    \"symbolsList\": \"True\"\n",
    "                }, \n",
    "                {\n",
    "                    \"file\": \"Jelinek_2012_meam.alsimgcufe\"\n",
    "                }, \n",
    "                {\n",
    "                    \"symbols\": \"True\"\n",
    "                }\n",
    "            ]\n",
    "        }\n",
    "    }\n",
    "}\"\"\")\n",
    "f.close()    "
   ]
  },
  {
   "cell_type": "markdown",
   "metadata": {},
   "source": [
    "#### 1.3 Prototype Data Model\n",
    "\n",
    "This generates the crystal prototype data model file associated with the fcc A1 crystal prototype. Additional prototype data models can be found in the ipyrPy/reference-libraries/prototypes directory."
   ]
  },
  {
   "cell_type": "code",
   "execution_count": 5,
   "metadata": {
    "collapsed": true
   },
   "outputs": [],
   "source": [
    "#Creates an instance of a crystal prototype data model for generating crystal structures.\n",
    "f = open('A1--Cu--fcc.json', 'w')\n",
    "f.write(\"\"\"{\n",
    "    \"crystal-prototype\": {\n",
    "        \"identifier\": {\n",
    "            \"common\": \"face-centered cubic\", \n",
    "            \"tag\": \"fcc\", \n",
    "            \"prototype\": \"Cu\", \n",
    "            \"Pearson-symbol\": \"cF4\", \n",
    "            \"Strukturbericht\": \"A1\"\n",
    "        }, \n",
    "        \"space-group\": {\n",
    "            \"number\": 225, \n",
    "            \"Hermann-Maguin\": \"F m -3 m\", \n",
    "            \"Schoenflies\": \"O^5_h\", \n",
    "            \"Wykoff\": {\n",
    "                \"letter\": \"a\", \n",
    "                \"multiplicity\": 4\n",
    "            }\n",
    "        }, \n",
    "        \"atomic-system\": {\n",
    "            \"cell\": {\n",
    "                \"cubic\": {\n",
    "                    \"a\": {\n",
    "                        \"value\": 1.0, \n",
    "                        \"unit\": \"scaled\"\n",
    "                    }\n",
    "                }\n",
    "            }, \n",
    "            \"atom\": [\n",
    "                {\n",
    "                    \"component\": 1, \n",
    "                    \"position\": {\n",
    "                        \"value\": [\n",
    "                            0.0, \n",
    "                            0.0, \n",
    "                            0.0\n",
    "                        ], \n",
    "                        \"unit\": \"scaled\"\n",
    "                    }\n",
    "                }, \n",
    "                {\n",
    "                    \"component\": 1, \n",
    "                    \"position\": {\n",
    "                        \"value\": [\n",
    "                            0.0, \n",
    "                            0.5, \n",
    "                            0.5\n",
    "                        ], \n",
    "                        \"unit\": \"scaled\"\n",
    "                    }\n",
    "                }, \n",
    "                {\n",
    "                    \"component\": 1, \n",
    "                    \"position\": {\n",
    "                        \"value\": [\n",
    "                            0.5, \n",
    "                            0.0, \n",
    "                            0.5\n",
    "                        ], \n",
    "                        \"unit\": \"scaled\"\n",
    "                    }\n",
    "                }, \n",
    "                {\n",
    "                    \"component\": 1, \n",
    "                    \"position\": {\n",
    "                        \"value\": [\n",
    "                            0.5, \n",
    "                            0.5, \n",
    "                            0.0\n",
    "                        ], \n",
    "                        \"unit\": \"scaled\"\n",
    "                    }\n",
    "                }\n",
    "            ]\n",
    "        }\n",
    "    }\n",
    "}\"\"\")\n",
    "f.close()"
   ]
  },
  {
   "cell_type": "markdown",
   "metadata": {},
   "source": [
    "### 2. LAMMPS Script Template(s)\n",
    "\n",
    "This generates any LAMMPS imput template files that are used by the calculation functions. The calculation functions fill in variable terms in the templates to create complete LAMMPS simulation scripts.\n",
    "\n",
    "1. cij.template -- Statically evaluates the cohesive energy and pressures for a system both as given and with small strains applied. Provides all the necessary information to calculate the elastic constants for the given system."
   ]
  },
  {
   "cell_type": "markdown",
   "metadata": {},
   "source": [
    "#### 2.1 cij.template"
   ]
  },
  {
   "cell_type": "code",
   "execution_count": 6,
   "metadata": {
    "collapsed": true
   },
   "outputs": [],
   "source": [
    "f = open('cij.template', 'w')\n",
    "f.write(\"\"\"#LAMMPS input script that evaluates the Virial pressure of a system both as\n",
    "#it was given, and with small strains applied.\n",
    "#This can be used to estimate the 0 K elastic constants of the system.\n",
    "\n",
    "<atomman_system_info>\n",
    "\n",
    "<atomman_pair_info>\n",
    "\n",
    "#Specify strain range and number of points to examine in the range\n",
    "variable delta equal <delta>\n",
    "variable steps equal <steps>\n",
    "variable deltax equal ${delta}/(${steps}-1)\n",
    "\n",
    "#Specify variables of the initial configuration's dimensions\n",
    "variable lx0 equal $(lx)\n",
    "variable ly0 equal $(ly)\n",
    "variable lz0 equal $(lz)\n",
    "\n",
    "#Specify the thermo properties to calculate\n",
    "variable peatom equal pe/atoms\n",
    "thermo_style custom step lx ly lz yz xz xy pxx pyy pzz pyz pxz pxy v_peatom pe\n",
    "thermo_modify format float %.13e\n",
    "\n",
    "#Compute properties for the initial configuration\n",
    "run 0\n",
    "\n",
    "#Compute properties for normal x-direction strains\n",
    "variable aratio equal 1-${delta}/2.+(v_a-1)*${deltax}\n",
    "variable xmax equal v_aratio*${lx0}\n",
    "label loopa\n",
    "variable a loop ${steps}\n",
    "change_box all x final 0 ${xmax} remap units box\n",
    "run 0\n",
    "next a\n",
    "jump cij.in loopa\n",
    "change_box all x final 0 ${lx0} remap units box\n",
    "\n",
    "#Compute properties for normal y-direction strains\n",
    "variable bratio equal 1-${delta}/2.+(v_b-1)*${deltax}\n",
    "variable ymax equal v_bratio*${ly0}\n",
    "label loopb\n",
    "variable b loop ${steps}\n",
    "change_box all y final 0 ${ymax} remap units box\n",
    "run 0\n",
    "next b\n",
    "jump cij.in loopb\n",
    "change_box all y final 0 ${ly0} remap units box\n",
    "\n",
    "#Compute properties for normal z-direction strains\n",
    "variable cratio equal 1-${delta}/2.+(v_c-1)*${deltax}\n",
    "variable zmax equal v_cratio*${lz0}\n",
    "label loopc\n",
    "variable c loop ${steps}\n",
    "change_box all z final 0 ${zmax} remap units box\n",
    "run 0\n",
    "next c\n",
    "jump cij.in loopc\n",
    "change_box all z final 0 ${lz0} remap units box\n",
    "\n",
    "change_box all triclinic\n",
    "\n",
    "#Compute properties for yz shear strains\n",
    "variable eyz equal (-${delta}/2.+(v_d-1)*${deltax})*${lz0}\n",
    "label loopd\n",
    "variable d loop ${steps}\n",
    "change_box all yz final ${eyz} remap units box\n",
    "run 0\n",
    "next d\n",
    "jump cij.in loopd\n",
    "change_box all yz final 0 remap units box\n",
    "\n",
    "#Compute properties for xz shear strains\n",
    "variable exz equal (-${delta}/2.+(v_e-1)*${deltax})*${lz0}\n",
    "label loope\n",
    "variable e loop ${steps}\n",
    "change_box all xz final ${exz} remap units box\n",
    "run 0\n",
    "next e\n",
    "jump cij.in loope\n",
    "change_box all xz final 0 remap units box\n",
    "\n",
    "#Compute properties for xy shear strains\n",
    "variable exy equal (-${delta}/2.+(v_f-1)*${deltax})*${ly0}\n",
    "label loopf\n",
    "variable f loop ${steps}\n",
    "change_box all xy final ${exy} remap units box\n",
    "run 0\n",
    "next f\n",
    "jump cij.in loopf\n",
    "change_box all xy final 0 remap units box\"\"\")\n",
    "f.close()"
   ]
  },
  {
   "cell_type": "markdown",
   "metadata": {},
   "source": [
    "### 3. Python Calculation Function(s)\n",
    "\n",
    "These are the Python functions that are at the heart of performing the calculation.\n",
    "\n",
    "1. __quick_a_Cij__: iteratively relaxes an orthorhombic system to a specified pressure state by using the current elastic constants and pressures to adjust the system's dimensions.\n",
    "\n",
    "2. __calc_cij__: computes the cohesive energy, pressures and elastic constants for a system by calling LAMMPS to run a script based on cij.template."
   ]
  },
  {
   "cell_type": "markdown",
   "metadata": {},
   "source": [
    "#### 3.1 quick_a_Cij Function\n",
    "\n",
    "Iteratively calls calc_cij to refine a system to the specified pressure state.\n",
    "\n",
    "Arguments:\n",
    "    \n",
    "- __lammps_command__ -- command for running LAMMPS.\n",
    "\n",
    "- __system__ -- atomman.System to refine.\n",
    "\n",
    "- __potential__ -- atomman.lammps.Potential representation of a LAMMPS implemented potential.\n",
    "\n",
    "- __symbols__ -- list of element-model symbols for the Potential that correspond to system's atypes.\n",
    "    \n",
    "Keyword Arguments:\n",
    "    \n",
    "- __mpi_command__ -- MPI command for running LAMMPS in parallel. Default value is None (serial run).  \n",
    "\n",
    "- __p_xx, p_yy, p_zz__ -- normal pressures to refine the system to. Default values are 0.0. \n",
    "\n",
    "- __delta__ -- the strain range to use in calculating the elastic constants. Default value is 1e-5.\n",
    "\n",
    "- __tol__ -- the relative tolerance criterion for identifying box size convergence. Default value is 1e-10.\n",
    "\n",
    "- __diverge_scale__ -- identifies a divergent system if x / diverge_scale < x < x * diverge_scale is not True for x = a,b,c. Default value is 3.\n",
    "\n",
    "Returns a dictionary containing:\n",
    "\n",
    "- __system_new__ -- an atomman.System that has been refined from system.\n",
    "\n",
    "- __C__ -- an atomman.ElasticConstants object for system_new.\n",
    "\n",
    "- __stress__ -- the virial stress state for system_new.\n",
    "\n",
    "- __ecoh__ -- the cohesive energy for system_new.\n",
    "\n",
    "This code is directly copied from calc_refine_structure_static.py."
   ]
  },
  {
   "cell_type": "code",
   "execution_count": 7,
   "metadata": {
    "collapsed": false
   },
   "outputs": [],
   "source": [
    "def quick_a_Cij(lammps_command, system, potential, symbols, mpi_command=None, p_xx=0.0, p_yy=0.0, p_zz=0.0, delta = 1e-5, tol=1e-10, diverge_scale=3.):\n",
    "    \"\"\"\n",
    "    Quickly refines static orthorhombic system by evaluating the elastic constants and the virial pressure.\n",
    "    \n",
    "    Arguments:\n",
    "    lammps_command -- directory location for lammps executable\n",
    "    system -- atomman.System to statically deform and evaluate a,b,c and Cij at a given pressure\n",
    "    potential -- atomman.lammps.Potential representation of a LAMMPS implemented potential\n",
    "    symbols -- list of element-model symbols for the Potential that correspond to the System's atypes\n",
    "    \n",
    "    Keyword Arguments:\n",
    "    pxx, pyy, pzz -- tensile pressures to equilibriate to.  Default is 0.0 for all. \n",
    "    delta -- the strain range to use in calculating the elastic constants. Default is 1e-5.    \n",
    "    tol -- the relative tolerance criterion for identifying box size convergence. Default is 1e-10.\n",
    "    diverge_scale -- identifies a divergent system if x / diverge_scale < x < x * diverge_scale is not True for x = a,b,c.\n",
    "    \"\"\"\n",
    "    \n",
    "    #initial parameter setup\n",
    "    converged = False                   #flag for if values have converged\n",
    "    \n",
    "    #define boxes for iterating\n",
    "    system_current = deepcopy(system)       #system with box parameters being evaluated\n",
    "    system_old = None                     #system with previous box parameters evaluated\n",
    "    \n",
    "    for cycle in xrange(100):\n",
    "        \n",
    "        #Run LAMMPS and evaluate results based on system_old\n",
    "        results = calc_cij(lammps_command, system_current, potential, symbols, p_xx, p_yy, p_zz, delta, cycle)\n",
    "        system_new = results['system_new']\n",
    "        \n",
    "        #Test if box has converged to a single size\n",
    "        if np.allclose(system_new.box.vects, system_current.box.vects, rtol=tol):\n",
    "            converged = True\n",
    "            break\n",
    "        \n",
    "        #Test if box has converged to two sizes\n",
    "        elif system_old is not None and np.allclose(system_new.box.vects, system_old.box.vects, rtol=tol):\n",
    "            #Run LAMMPS Cij script using average between alat0 and alat1\n",
    "            box = am.Box(a = (system_new.box.a + system_old.box.a) / 2.,\n",
    "                         b = (system_new.box.b + system_old.box.b) / 2.,\n",
    "                         c = (system_new.box.c + system_old.box.c) / 2.)\n",
    "            system_current.box_set(vects=box.vects, scale=True)\n",
    "            results = calc_cij(lammps_command, system_current, potential, symbols, p_xx, p_yy, p_zz, delta, cycle+1)                 \n",
    "            \n",
    "            converged = True\n",
    "            break\n",
    "        \n",
    "        #Test if values have diverged from initial guess\n",
    "        elif system_new.box.a < system.box.a / diverge_scale or system_new.box.a > system.box.a * diverge_scale:\n",
    "            raise RuntimeError('Divergence of box dimensions')\n",
    "        elif system_new.box.b < system.box.b / diverge_scale or system_new.box.b > system.box.b * diverge_scale:\n",
    "            raise RuntimeError('Divergence of box dimensions')\n",
    "        elif system_new.box.c < system.box.c / diverge_scale or system_new.box.c > system.box.c * diverge_scale:\n",
    "            raise RuntimeError('Divergence of box dimensions')  \n",
    "        elif results['ecoh'] == 0.0:\n",
    "            raise RuntimeError('Divergence: cohesive energy is 0')\n",
    "                \n",
    "        #if not converged or diverged, update system_old and system_current\n",
    "        else:\n",
    "            system_old, system_current = system_current, system_new\n",
    "    \n",
    "    #Return values if converged\n",
    "    if converged:        \n",
    "        return results\n",
    "    else:\n",
    "        raise RuntimeError('Failed to converge after 100 cycles')"
   ]
  },
  {
   "cell_type": "markdown",
   "metadata": {},
   "source": [
    "#### 3.2 calc_cij Function\n",
    "\n",
    "Uses LAMMPS and the cij.template script to evaluate the elastic constants and stress state of a system. Assuming linear elasticity, the elastic compliance values and the stress state are used to predict a new system size closer to a target stress state.\n",
    "\n",
    "Arguments:\n",
    "    \n",
    "- __lammps_command__ -- command for running LAMMPS.\n",
    "\n",
    "- __system__ -- atomman.System to refine.\n",
    "\n",
    "- __potential__ -- atomman.lammps.Potential representation of a LAMMPS implemented potential.\n",
    "\n",
    "- __symbols__ -- list of element-model symbols for the Potential that correspond to system's atypes.\n",
    "    \n",
    "Keyword Arguments:\n",
    "    \n",
    "- __mpi_command__ -- MPI command for running LAMMPS in parallel. Default value is None (serial run).  \n",
    "\n",
    "- __p_xx, p_yy, p_zz__ -- normal pressures to refine the system to. Default values are 0.0. \n",
    "\n",
    "- __delta__ -- the strain range to use in calculating the elastic constants. Default value is 1e-5.\n",
    "\n",
    "- __cycle__ -- the integer number of the current cycle in quick_a_Cij. Used in renaming the log.lammps file created by cij.template to a unique file name. \n",
    "\n",
    "Returns a dictionary containing:\n",
    "\n",
    "- __system_new__ -- an atomman.System created by scaling system to the new box size guess.\n",
    "\n",
    "- __C__ -- an atomman.ElasticConstants object for system_new.\n",
    "\n",
    "- __stress__ -- the virial stress state for system_new.\n",
    "\n",
    "- __ecoh__ -- the cohesive energy for system_new.\n",
    "\n",
    "This code is directly copied from calc_refine_structure_static.py."
   ]
  },
  {
   "cell_type": "code",
   "execution_count": 8,
   "metadata": {
    "collapsed": true
   },
   "outputs": [],
   "source": [
    "def calc_cij(lammps_command, system, potential, symbols, p_xx=0.0, p_yy=0.0, p_zz=0.0, delta=1e-5, cycle=0):\n",
    "    \"\"\"Runs cij_script and returns current Cij, stress, Ecoh, and new system guess.\"\"\"\n",
    "    \n",
    "    #Get lammps units\n",
    "    lammps_units = lmp.style.unit(potential.units)\n",
    "    \n",
    "    #Define lammps variables\n",
    "    lammps_variables = {}\n",
    "    lammps_variables['atomman_system_info'] = lmp.sys_gen(units =       potential.units,\n",
    "                                                          atom_style =  potential.atom_style,\n",
    "                                                          ucell =       system,\n",
    "                                                          size =        np.array([[0,3], [0,3], [0,3]]))\n",
    "    lammps_variables['atomman_pair_info'] = potential.pair_info(symbols)\n",
    "    lammps_variables['delta'] = delta\n",
    "    lammps_variables['steps'] = 2\n",
    "    \n",
    "    #Write lammps input script\n",
    "    template_file = 'cij.template'\n",
    "    lammps_script = 'cij.in'\n",
    "    with open(template_file) as f:\n",
    "        template = f.read()\n",
    "    with open(lammps_script, 'w') as f:\n",
    "        f.write('\\n'.join(iprPy.tools.fill_template(template, lammps_variables, '<', '>')))\n",
    "    \n",
    "    #Run lammps \n",
    "    output = lmp.run(lammps_command, lammps_script)\n",
    "    shutil.move('log.lammps', 'cij-'+str(cycle)+'-log.lammps')\n",
    "    \n",
    "    #Extract LAMMPS thermo data. Each term ranges i=0-12 where i=0 is undeformed\n",
    "    #The remaining values are for -/+ strain pairs in the six unique directions\n",
    "    lx = uc.set_in_units(np.array(output.finds('Lx')), lammps_units['length'])\n",
    "    ly = uc.set_in_units(np.array(output.finds('Ly')), lammps_units['length'])\n",
    "    lz = uc.set_in_units(np.array(output.finds('Lz')), lammps_units['length'])\n",
    "    xy = uc.set_in_units(np.array(output.finds('Xy')), lammps_units['length'])\n",
    "    xz = uc.set_in_units(np.array(output.finds('Xz')), lammps_units['length'])\n",
    "    yz = uc.set_in_units(np.array(output.finds('Yz')), lammps_units['length'])\n",
    "    \n",
    "    pxx = uc.set_in_units(np.array(output.finds('Pxx')), lammps_units['pressure'])\n",
    "    pyy = uc.set_in_units(np.array(output.finds('Pyy')), lammps_units['pressure'])\n",
    "    pzz = uc.set_in_units(np.array(output.finds('Pzz')), lammps_units['pressure'])\n",
    "    pxy = uc.set_in_units(np.array(output.finds('Pxy')), lammps_units['pressure'])\n",
    "    pxz = uc.set_in_units(np.array(output.finds('Pxz')), lammps_units['pressure'])\n",
    "    pyz = uc.set_in_units(np.array(output.finds('Pyz')), lammps_units['pressure'])\n",
    "    \n",
    "    pe = uc.set_in_units(np.array(output.finds('peatom')), lammps_units['energy'])\n",
    "    \n",
    "    #Set the six non-zero strain values\n",
    "    strains = np.array([ (lx[2] -  lx[1])  / lx[0],\n",
    "                         (ly[4] -  ly[3])  / ly[0],\n",
    "                         (lz[6] -  lz[5])  / lz[0],\n",
    "                         (yz[8] -  yz[7])  / lz[0],\n",
    "                         (xz[10] - xz[9])  / lz[0],\n",
    "                         (xy[12] - xy[11]) / ly[0] ])\n",
    "\n",
    "    #calculate cij using stress changes associated with each non-zero strain\n",
    "    cij = np.empty((6,6))\n",
    "    for i in xrange(6):\n",
    "        delta_stress = np.array([ pxx[2*i+1]-pxx[2*i+2],\n",
    "                                  pyy[2*i+1]-pyy[2*i+2],\n",
    "                                  pzz[2*i+1]-pzz[2*i+2],\n",
    "                                  pyz[2*i+1]-pyz[2*i+2],\n",
    "                                  pxz[2*i+1]-pxz[2*i+2],\n",
    "                                  pxy[2*i+1]-pxy[2*i+2] ])\n",
    "\n",
    "        cij[i] = delta_stress / strains[i] \n",
    "        \n",
    "    for i in xrange(6):\n",
    "        for j in xrange(i):\n",
    "            cij[i,j] = cij[j,i] = (cij[i,j] + cij[j,i]) / 2\n",
    "\n",
    "    C = am.ElasticConstants(Cij=cij)\n",
    "    \n",
    "    if np.allclose(C.Cij, 0.0):\n",
    "        raise RuntimeError('Divergence of elastic constants to <= 0')\n",
    "    try:\n",
    "        S = C.Sij\n",
    "    except:\n",
    "        raise RuntimeError('singular C:\\n'+str(C.Cij))\n",
    "\n",
    "    \n",
    "    #extract the current stress state\n",
    "    stress = -1 * np.array([[pxx[0], pxy[0], pxz[0]],\n",
    "                            [pxy[0], pyy[0], pyz[0]],\n",
    "                            [pxz[0], pyz[0], pzz[0]]])\n",
    "    \n",
    "    s_xx = stress[0,0] + p_xx\n",
    "    s_yy = stress[1,1] + p_yy\n",
    "    s_zz = stress[2,2] + p_zz\n",
    "    \n",
    "    new_a = system.box.a / (S[0,0]*s_xx + S[0,1]*s_yy + S[0,2]*s_zz + 1)\n",
    "    new_b = system.box.b / (S[1,0]*s_xx + S[1,1]*s_yy + S[1,2]*s_zz + 1)\n",
    "    new_c = system.box.c / (S[2,0]*s_xx + S[2,1]*s_yy + S[2,2]*s_zz + 1)\n",
    "    \n",
    "    if new_a <= 0 or new_b <= 0 or new_c <=0:\n",
    "        raise RuntimeError('Divergence of box dimensions to <= 0')\n",
    "    \n",
    "    newbox = am.Box(a=new_a, b=new_b, c=new_c)\n",
    "    system_new = deepcopy(system)\n",
    "    system_new.box_set(vects=newbox.vects, scale=True)\n",
    "    \n",
    "    return {'C':C, 'stress':stress, 'ecoh':pe[0], 'system_new':system_new}"
   ]
  },
  {
   "cell_type": "markdown",
   "metadata": {},
   "source": [
    "### 4. Run Calculation"
   ]
  },
  {
   "cell_type": "markdown",
   "metadata": {},
   "source": [
    "Specify run parameters"
   ]
  },
  {
   "cell_type": "code",
   "execution_count": 9,
   "metadata": {
    "collapsed": true
   },
   "outputs": [],
   "source": [
    "#Commands for LAMMPS and MPI\n",
    "lammps_command = 'lmp_serial'\n",
    "mpi_command =    None\n",
    "\n",
    "#Paths to the potential data model and directory of artifacts\n",
    "potential_file = '2012--Jelinek-B--Al-Si-Mg-Cu-Fe.json' #Generated above\n",
    "potential_dir  = ''                                     #Files generated above in working directory\n",
    "\n",
    "#System load parameters\n",
    "load_style = 'system_model'\n",
    "load_file =  'A1--Cu--fcc.json' #Generated above\n",
    "\n",
    "#Specify symbols combinations to use\n",
    "symbols = ['AlS']\n",
    "\n",
    "#Initial lattice parameter guess\n",
    "a0 = 4.00"
   ]
  },
  {
   "cell_type": "markdown",
   "metadata": {},
   "source": [
    "Read the interatomic potential data model"
   ]
  },
  {
   "cell_type": "code",
   "execution_count": 10,
   "metadata": {
    "collapsed": false
   },
   "outputs": [],
   "source": [
    "with open(potential_file) as f:\n",
    "    potential = lmp.Potential(f, potential_dir)"
   ]
  },
  {
   "cell_type": "markdown",
   "metadata": {},
   "source": [
    "Read the prototype system"
   ]
  },
  {
   "cell_type": "code",
   "execution_count": 11,
   "metadata": {
    "collapsed": true
   },
   "outputs": [],
   "source": [
    "system = am.load(load_style, load_file)[0]"
   ]
  },
  {
   "cell_type": "markdown",
   "metadata": {},
   "source": [
    "Resize the system according to the initial lattice parameter guess"
   ]
  },
  {
   "cell_type": "code",
   "execution_count": 12,
   "metadata": {
    "collapsed": false
   },
   "outputs": [],
   "source": [
    "system.box_set(a=a0, b=a0, c=a0, scale=True)"
   ]
  },
  {
   "cell_type": "markdown",
   "metadata": {},
   "source": [
    "Perform quick_a_Cij"
   ]
  },
  {
   "cell_type": "code",
   "execution_count": 13,
   "metadata": {
    "collapsed": false
   },
   "outputs": [],
   "source": [
    "results = quick_a_Cij(lammps_command, system, potential, symbols, mpi_command=mpi_command)  "
   ]
  },
  {
   "cell_type": "markdown",
   "metadata": {},
   "source": [
    "### 5. Display Results"
   ]
  },
  {
   "cell_type": "markdown",
   "metadata": {},
   "source": [
    "Print the refined lattice parameters"
   ]
  },
  {
   "cell_type": "code",
   "execution_count": 14,
   "metadata": {
    "collapsed": false
   },
   "outputs": [
    {
     "name": "stdout",
     "output_type": "stream",
     "text": [
      "a = 4.04999918098 A\n",
      "b = 4.04999918098 A\n",
      "c = 4.04999918098 A\n"
     ]
    }
   ],
   "source": [
    "print 'a =', uc.get_in_units(results['system_new'].box.a, 'angstrom'), 'A'\n",
    "print 'b =', uc.get_in_units(results['system_new'].box.b, 'angstrom'), 'A'\n",
    "print 'c =', uc.get_in_units(results['system_new'].box.c, 'angstrom'), 'A'"
   ]
  },
  {
   "cell_type": "markdown",
   "metadata": {},
   "source": [
    "Print the cohesive energy"
   ]
  },
  {
   "cell_type": "code",
   "execution_count": 15,
   "metadata": {
    "collapsed": false
   },
   "outputs": [
    {
     "name": "stdout",
     "output_type": "stream",
     "text": [
      "Ecoh = -3.35300001418 eV\n"
     ]
    }
   ],
   "source": [
    "print 'Ecoh =', uc.get_in_units(results['ecoh'], 'eV'), 'eV'"
   ]
  },
  {
   "cell_type": "markdown",
   "metadata": {
    "collapsed": true
   },
   "source": [
    "Print the measured stress state"
   ]
  },
  {
   "cell_type": "code",
   "execution_count": 16,
   "metadata": {
    "collapsed": false
   },
   "outputs": [
    {
     "name": "stdout",
     "output_type": "stream",
     "text": [
      "Stress_xx = -6.74234854894e-08 GPa\n",
      "Stress_yy = -6.74234853072e-08 GPa\n",
      "Stress_zz = -6.74234849847e-08 GPa\n",
      "Stress_xy = 3.6147192209e-17 GPa\n",
      "Stress_xz = -6.90334775834e-17 GPa\n",
      "Stress_yz = 2.01521969915e-16 GPa\n"
     ]
    }
   ],
   "source": [
    "stress = uc.get_in_units(results['stress'], 'GPa')\n",
    "print 'Stress_xx =', stress[0,0], 'GPa'\n",
    "print 'Stress_yy =', stress[1,1], 'GPa'\n",
    "print 'Stress_zz =', stress[2,2], 'GPa'\n",
    "print 'Stress_xy =', stress[0,1], 'GPa'\n",
    "print 'Stress_xz =', stress[0,2], 'GPa'\n",
    "print 'Stress_yz =', stress[1,2], 'GPa'"
   ]
  },
  {
   "cell_type": "markdown",
   "metadata": {},
   "source": [
    "Print the orthorhombic elastic constants"
   ]
  },
  {
   "cell_type": "code",
   "execution_count": 17,
   "metadata": {
    "collapsed": false
   },
   "outputs": [
    {
     "name": "stdout",
     "output_type": "stream",
     "text": [
      "C11 = 110.529294076 GPa\n",
      "C22 = 110.529294076 GPa\n",
      "C33 = 110.529294076 GPa\n",
      "C12 = 60.904408294 GPa\n",
      "C13 = 60.9044082939 GPa\n",
      "C23 = 60.9044082939 GPa\n",
      "C44 = 28.3919826474 GPa\n",
      "C55 = 28.3919826474 GPa\n",
      "C66 = 28.3919826474 GPa\n"
     ]
    }
   ],
   "source": [
    "cij = uc.get_in_units(results['C'].Cij, 'GPa')\n",
    "print 'C11 =', cij[0,0], 'GPa' \n",
    "print 'C22 =', cij[1,1], 'GPa'\n",
    "print 'C33 =', cij[2,2], 'GPa'\n",
    "print 'C12 =', cij[0,1], 'GPa'\n",
    "print 'C13 =', cij[0,2], 'GPa'\n",
    "print 'C23 =', cij[1,2], 'GPa'\n",
    "print 'C44 =', cij[3,3], 'GPa'\n",
    "print 'C55 =', cij[4,4], 'GPa'\n",
    "print 'C66 =', cij[5,5], 'GPa'"
   ]
  }
 ],
 "metadata": {
  "kernelspec": {
   "display_name": "Python [Root]",
   "language": "python",
   "name": "Python [Root]"
  },
  "language_info": {
   "codemirror_mode": {
    "name": "ipython",
    "version": 2
   },
   "file_extension": ".py",
   "mimetype": "text/x-python",
   "name": "python",
   "nbconvert_exporter": "python",
   "pygments_lexer": "ipython2",
   "version": "2.7.12"
  }
 },
 "nbformat": 4,
 "nbformat_minor": 0
}
