{
 "cells": [
  {
   "cell_type": "code",
   "execution_count": 1,
   "metadata": {
    "collapsed": true,
    "deletable": true,
    "editable": true
   },
   "outputs": [],
   "source": [
    "#Standard library imports\n",
    "from __future__ import print_function, division\n",
    "import os\n",
    "import sys\n",
    "import glob\n",
    "import uuid\n",
    "import shutil\n",
    "\n",
    "#http://www.numpy.org/\n",
    "import numpy as np\n",
    "\n",
    "#http://pandas.pydata.org/\n",
    "import pandas as pd\n",
    "\n",
    "from DataModelDict import DataModelDict as DM\n",
    "\n",
    "#https://github.com/usnistgov/atomman\n",
    "import atomman as am\n",
    "import atomman.lammps as lmp\n",
    "import atomman.unitconvert as uc\n",
    "\n",
    "#https://github.com/usnistgov/iprPy\n",
    "import iprPy\n",
    "\n",
    "import matplotlib.pyplot as plt\n",
    "from matplotlib import cm\n",
    "%matplotlib inline\n",
    "\n",
    "from scipy.interpolate import griddata, Rbf"
   ]
  },
  {
   "cell_type": "code",
   "execution_count": 2,
   "metadata": {
    "collapsed": true,
    "deletable": true,
    "editable": true
   },
   "outputs": [],
   "source": [
    "dbase = iprPy.Database('local', 'C:\\\\Users\\\\lmh1\\\\Documents\\\\calculations\\\\ipr\\\\library_test')"
   ]
  },
  {
   "cell_type": "code",
   "execution_count": 7,
   "metadata": {
    "collapsed": false,
    "deletable": true,
    "editable": true
   },
   "outputs": [
    {
     "data": {
      "text/html": [
       "<div>\n",
       "<table border=\"1\" class=\"dataframe\">\n",
       "  <thead>\n",
       "    <tr style=\"text-align: right;\">\n",
       "      <th></th>\n",
       "      <th>calc_key</th>\n",
       "      <th>calc_script</th>\n",
       "      <th>energytolerance</th>\n",
       "      <th>forcetolerance</th>\n",
       "      <th>gsf_plot</th>\n",
       "      <th>load</th>\n",
       "      <th>load_options</th>\n",
       "      <th>maxatommotion</th>\n",
       "      <th>maxevaluations</th>\n",
       "      <th>maxiterations</th>\n",
       "      <th>...</th>\n",
       "      <th>potential_id</th>\n",
       "      <th>potential_key</th>\n",
       "      <th>prototype</th>\n",
       "      <th>shiftvector1</th>\n",
       "      <th>shiftvector2</th>\n",
       "      <th>sizemults</th>\n",
       "      <th>stackingfault_id</th>\n",
       "      <th>stackingfault_key</th>\n",
       "      <th>status</th>\n",
       "      <th>symbols</th>\n",
       "    </tr>\n",
       "  </thead>\n",
       "  <tbody>\n",
       "    <tr>\n",
       "      <th>0</th>\n",
       "      <td>225e3dcc-cfee-4850-a8fc-30675a9cb80e</td>\n",
       "      <td>calc_stacking_fault_multi</td>\n",
       "      <td>0.0</td>\n",
       "      <td>0.000001</td>\n",
       "      <td>NaN</td>\n",
       "      <td>system_model 467dd109-2e4b-46eb-a06a-8ba46bd25...</td>\n",
       "      <td>key relaxed-atomic-system</td>\n",
       "      <td>0.01</td>\n",
       "      <td>100000</td>\n",
       "      <td>100000</td>\n",
       "      <td>...</td>\n",
       "      <td>1987--Ackland-G-J--Ag</td>\n",
       "      <td>dc4149ce-3592-4131-8683-ecf654d5a519</td>\n",
       "      <td>A1--Cu--fcc</td>\n",
       "      <td>[0.5, -0.5, 0.0]</td>\n",
       "      <td>[0.5, 0.5, -1.0]</td>\n",
       "      <td>[[0, 3], [0, 3], [0, 9]]</td>\n",
       "      <td>A1--Cu--fcc--111sf</td>\n",
       "      <td>dfb2cdad-46b0-4164-8cb2-4eb55a84f0ba</td>\n",
       "      <td>error</td>\n",
       "      <td>[None]</td>\n",
       "    </tr>\n",
       "  </tbody>\n",
       "</table>\n",
       "<p>1 rows × 22 columns</p>\n",
       "</div>"
      ],
      "text/plain": [
       "                               calc_key                calc_script  \\\n",
       "0  225e3dcc-cfee-4850-a8fc-30675a9cb80e  calc_stacking_fault_multi   \n",
       "\n",
       "   energytolerance  forcetolerance  gsf_plot  \\\n",
       "0              0.0        0.000001       NaN   \n",
       "\n",
       "                                                load  \\\n",
       "0  system_model 467dd109-2e4b-46eb-a06a-8ba46bd25...   \n",
       "\n",
       "                load_options  maxatommotion  maxevaluations  maxiterations  \\\n",
       "0  key relaxed-atomic-system           0.01          100000         100000   \n",
       "\n",
       "    ...             potential_id                         potential_key  \\\n",
       "0   ...    1987--Ackland-G-J--Ag  dc4149ce-3592-4131-8683-ecf654d5a519   \n",
       "\n",
       "     prototype      shiftvector1      shiftvector2                 sizemults  \\\n",
       "0  A1--Cu--fcc  [0.5, -0.5, 0.0]  [0.5, 0.5, -1.0]  [[0, 3], [0, 3], [0, 9]]   \n",
       "\n",
       "     stackingfault_id                     stackingfault_key status symbols  \n",
       "0  A1--Cu--fcc--111sf  dfb2cdad-46b0-4164-8cb2-4eb55a84f0ba  error  [None]  \n",
       "\n",
       "[1 rows x 22 columns]"
      ]
     },
     "execution_count": 7,
     "metadata": {},
     "output_type": "execute_result"
    }
   ],
   "source": [
    "record_df = []\n",
    "for record in dbase.iget_records(style='calculation-generalized-stacking-fault'):\n",
    "    record_df.append(record.todict())\n",
    "record_df = pd.DataFrame(record_df)\n",
    "record_df"
   ]
  },
  {
   "cell_type": "code",
   "execution_count": 4,
   "metadata": {
    "collapsed": false,
    "deletable": true,
    "editable": true
   },
   "outputs": [],
   "source": [
    "condition1 = record_df.stackingfault_id == 'A1--Cu--fcc--111sf'\n",
    "condition2 = record_df.status == 'finished'\n",
    "\n",
    "lookie_record_df = record_df[condition1 & condition2]"
   ]
  },
  {
   "cell_type": "code",
   "execution_count": 5,
   "metadata": {
    "collapsed": false,
    "deletable": true,
    "editable": true
   },
   "outputs": [],
   "source": [
    "for i in xrange(len(lookie_record_df)):\n",
    "    gsf_df = lookie_record_df.iloc[0].gsf_plot\n",
    "\n",
    "    fig, (ax1, ax2) = plt.subplots(nrows=1, ncols=2, figsize = [16,7])\n",
    "\n",
    "    gamma = uc.get_in_units(gsf_df.energy, 'mJ/m^2')\n",
    "    points = gsf_df.loc[:, ['shift1', 'shift2']]\n",
    "    a1_grid, a2_grid = np.meshgrid(np.linspace(0, 1, 500), np.linspace(0, 1, 500))\n",
    "    E_grid_raw = griddata(points, gamma, (a1_grid, a2_grid), method='nearest')\n",
    "    im = ax1.pcolormesh(a1_grid, a2_grid, E_grid_raw, cmap=cm.bwr)\n",
    "\n",
    "    \n",
    "    gsffit = Rbf(gsf_df.shift1, gsf_df.shift2, gamma)\n",
    "    E_grid_fit = gsffit(a1_grid, a2_grid)\n",
    "    im = ax2.pcolormesh(a1_grid, a2_grid, E_grid_fit, cmap=cm.bwr)\n",
    "    \n",
    "    cbar_ax = fig.add_axes([0.95, 0.12, 0.01, 0.77])\n",
    "    cbar = fig.colorbar(im, cax=cbar_ax)\n",
    "    plt.show()"
   ]
  },
  {
   "cell_type": "code",
   "execution_count": 6,
   "metadata": {
    "collapsed": false,
    "deletable": true,
    "editable": true
   },
   "outputs": [
    {
     "ename": "NameError",
     "evalue": "name 'gamma' is not defined",
     "output_type": "error",
     "traceback": [
      "\u001b[1;31m---------------------------------------------------------------------------\u001b[0m",
      "\u001b[1;31mNameError\u001b[0m                                 Traceback (most recent call last)",
      "\u001b[1;32m<ipython-input-6-13a1c5ca0b64>\u001b[0m in \u001b[0;36m<module>\u001b[1;34m()\u001b[0m\n\u001b[1;32m----> 1\u001b[1;33m \u001b[0mgamma\u001b[0m\u001b[1;33m.\u001b[0m\u001b[0mmax\u001b[0m\u001b[1;33m(\u001b[0m\u001b[1;33m)\u001b[0m\u001b[1;33m\u001b[0m\u001b[0m\n\u001b[0m",
      "\u001b[1;31mNameError\u001b[0m: name 'gamma' is not defined"
     ]
    }
   ],
   "source": [
    "gamma.max()"
   ]
  },
  {
   "cell_type": "code",
   "execution_count": null,
   "metadata": {
    "collapsed": true,
    "deletable": true,
    "editable": true
   },
   "outputs": [],
   "source": []
  }
 ],
 "metadata": {
  "kernelspec": {
   "display_name": "Python 2",
   "language": "python",
   "name": "python2"
  },
  "language_info": {
   "codemirror_mode": {
    "name": "ipython",
    "version": 2
   },
   "file_extension": ".py",
   "mimetype": "text/x-python",
   "name": "python",
   "nbconvert_exporter": "python",
   "pygments_lexer": "ipython2",
   "version": "2.7.13"
  }
 },
 "nbformat": 4,
 "nbformat_minor": 2
}
