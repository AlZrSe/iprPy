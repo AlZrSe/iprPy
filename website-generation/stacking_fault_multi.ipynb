{
 "cells": [
  {
   "cell_type": "code",
   "execution_count": 14,
   "metadata": {
    "collapsed": true,
    "deletable": true,
    "editable": true
   },
   "outputs": [],
   "source": [
    "#Standard library imports\n",
    "from __future__ import print_function, division\n",
    "import os\n",
    "import sys\n",
    "import glob\n",
    "import uuid\n",
    "import shutil\n",
    "\n",
    "#http://www.numpy.org/\n",
    "import numpy as np\n",
    "\n",
    "#http://pandas.pydata.org/\n",
    "import pandas as pd\n",
    "\n",
    "from DataModelDict import DataModelDict as DM\n",
    "\n",
    "#https://github.com/usnistgov/atomman\n",
    "import atomman as am\n",
    "import atomman.lammps as lmp\n",
    "import atomman.unitconvert as uc\n",
    "\n",
    "#https://github.com/usnistgov/iprPy\n",
    "import iprPy\n",
    "\n",
    "import matplotlib.pyplot as plt\n",
    "from matplotlib import cm\n",
    "%matplotlib inline\n",
    "\n",
    "from scipy.interpolate import griddata, Rbf"
   ]
  },
  {
   "cell_type": "code",
   "execution_count": 15,
   "metadata": {
    "collapsed": true,
    "deletable": true,
    "editable": true
   },
   "outputs": [],
   "source": [
    "dbase = iprPy.Database('local', 'C:\\\\Users\\\\lmh1\\\\Documents\\\\calculations\\\\ipr\\\\library_test')"
   ]
  },
  {
   "cell_type": "code",
   "execution_count": 16,
   "metadata": {
    "collapsed": false,
    "deletable": true,
    "editable": true
   },
   "outputs": [],
   "source": [
    "record_df = []\n",
    "for record in dbase.iget_records(style='calculation-generalized-stacking-fault'):\n",
    "    record_df.append(record.todict())\n",
    "record_df = pd.DataFrame(record_df)"
   ]
  },
  {
   "cell_type": "code",
   "execution_count": 25,
   "metadata": {
    "collapsed": false,
    "deletable": true,
    "editable": true
   },
   "outputs": [],
   "source": [
    "condition1 = record_df.stackingfault_id == 'A1--Cu--fcc--100sf'\n",
    "condition2 = record_df.status == 'finished'\n",
    "\n",
    "lookie_record_df = record_df[condition1 & condition2]"
   ]
  },
  {
   "cell_type": "code",
   "execution_count": 26,
   "metadata": {
    "collapsed": false,
    "deletable": true,
    "editable": true
   },
   "outputs": [],
   "source": [
    "for i in xrange(len(lookie_record_df)):\n",
    "    gsf_df = lookie_record_df.iloc[0].gsf_plot\n",
    "\n",
    "    fig, (ax1, ax2) = plt.subplots(nrows=1, ncols=2, figsize = [16,7])\n",
    "\n",
    "    gamma = uc.get_in_units(gsf_df.energy, 'mJ/m^2')\n",
    "    points = gsf_df.loc[:, ['shift1', 'shift2']]\n",
    "    a1_grid, a2_grid = np.meshgrid(np.linspace(0, 1, 500), np.linspace(0, 1, 500))\n",
    "    E_grid_raw = griddata(points, gamma, (a1_grid, a2_grid), method='nearest')\n",
    "    im = ax1.pcolormesh(a1_grid, a2_grid, E_grid_raw, cmap=cm.bwr)\n",
    "\n",
    "    \n",
    "    gsffit = Rbf(gsf_df.shift1, gsf_df.shift2, gamma)\n",
    "    E_grid_fit = gsffit(a1_grid, a2_grid)\n",
    "    im = ax2.pcolormesh(a1_grid, a2_grid, E_grid_fit, cmap=cm.bwr)\n",
    "    \n",
    "    cbar_ax = fig.add_axes([0.95, 0.12, 0.01, 0.77])\n",
    "    cbar = fig.colorbar(im, cax=cbar_ax)\n",
    "    plt.show()"
   ]
  },
  {
   "cell_type": "code",
   "execution_count": 27,
   "metadata": {
    "collapsed": false
   },
   "outputs": [
    {
     "data": {
      "text/plain": [
       "1416.8750486722784"
      ]
     },
     "execution_count": 27,
     "metadata": {},
     "output_type": "execute_result"
    }
   ],
   "source": [
    "gamma.max()"
   ]
  },
  {
   "cell_type": "code",
   "execution_count": null,
   "metadata": {
    "collapsed": true
   },
   "outputs": [],
   "source": []
  }
 ],
 "metadata": {
  "kernelspec": {
   "display_name": "Python 2",
   "language": "python",
   "name": "python2"
  },
  "language_info": {
   "codemirror_mode": {
    "name": "ipython",
    "version": 2
   },
   "file_extension": ".py",
   "mimetype": "text/x-python",
   "name": "python",
   "nbconvert_exporter": "python",
   "pygments_lexer": "ipython2",
   "version": "2.7.13"
  }
 },
 "nbformat": 4,
 "nbformat_minor": 2
}
