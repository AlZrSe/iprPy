{
 "cells": [
  {
   "cell_type": "markdown",
   "metadata": {},
   "source": [
    "# Demonstration: Dislocation Differential Displacement Plot\n",
    "\n",
    "**Lucas M. Hale**, [lucas.hale@nist.gov](mailto:lucas.hale@nist.gov?Subject=ipr-demo), *Materials Science and Engineering Division, NIST*.\n",
    "\n",
    "**Chandler A. Becker**, [chandler.becker@nist.gov](mailto:chandler.becker@nist.gov?Subject=ipr-demo), *Materials Science and Engineering Division, NIST*.\n",
    "\n",
    "**Zachary T. Trautt**, [zachary.trautt@nist.gov](mailto:zachary.trautt@nist.gov?Subject=ipr-demo), *Materials Measurement Science Division, NIST*.\n",
    "\n",
    "Version: 2015-08-28\n",
    "\n",
    "[Disclaimers](http://www.nist.gov/public_affairs/disclaimer.cfm)\n",
    "\n",
    "- - -\n",
    "\n",
    "## Software\n",
    "\n",
    "This notebook was tested with:\n",
    "\n",
    "- LAMMPS (Version 2015-03-27)\n",
    "\n",
    "- Python (Version 2.7.6)\n",
    "\n",
    "- IPython (Version 2.0.0)\n",
    "\n",
    "- - -\n",
    "\n",
    "## Introduction\n",
    "\n",
    "This Notebook creates a differential displacement plot for a dislocation monopole system. \n",
    "\n",
    "Related calculations:\n",
    "\n",
    "- tool-Dislocation-Creation: creates an atomic system containing a dislocation monopole.\n",
    "\n",
    "- tool-Dislocation-Nye-Tensor: calculates the Nye Tensor for all atoms in a system.\n"
   ]
  },
  {
   "cell_type": "markdown",
   "metadata": {},
   "source": [
    "- - -\n",
    "\n",
    "##1. Initial Setup\n",
    "\n",
    "1. __Necessary Python Libraries__: This is a list of the Python libraries used to run this code. \n",
    "\n",
    "2. __Necessary Parameters__: These are the parameters that need to be specified to run the code.\n",
    "\n",
    "3. __Calculation Parameters__: These are user-specified parameters that control how the calculation proceeds, such as number of data points."
   ]
  },
  {
   "cell_type": "markdown",
   "metadata": {},
   "source": [
    "###1.1 Necessary Python Libraries\n",
    "\n",
    "This is a list of the Python libraries used to run this code. \n",
    "\n",
    "- Numpy can be found [here](http://www.numpy.org/).\n",
    "\n",
    "- Matplotlib can be found [here](http://matplotlib.org/).\n",
    "\n",
    "- iprp is contained in the IPR code download."
   ]
  },
  {
   "cell_type": "code",
   "execution_count": 1,
   "metadata": {
    "collapsed": false
   },
   "outputs": [],
   "source": [
    "#Standard Python Libraries\n",
    "import os\n",
    "from copy import deepcopy\n",
    "import sys\n",
    "\n",
    "#Additional Python Libraries\n",
    "import numpy as np\n",
    "%matplotlib inline\n",
    "import matplotlib\n",
    "import matplotlib.patches as mpatches\n",
    "import matplotlib.pyplot as plt\n",
    "from matplotlib import cm\n",
    "from matplotlib.collections import PatchCollection\n",
    "\n",
    "#Custom package\n",
    "import atomman as am"
   ]
  },
  {
   "cell_type": "markdown",
   "metadata": {},
   "source": [
    "###1.2 Necessary Parameters\n",
    "\n",
    "These are the parameters that need to be specified to run the code.\n",
    "\n",
    "__Note:__ The default example shown here assumes that you have previously run the default example for the tool-Dislocation-Creation Notebook.  The directory and file information supplied here refers to what was created using that tool.\n",
    "\n",
    "- working_dir is the working directory where you want this Notebook to run. \n",
    "\n",
    "- base_file is the name (and location) of the LAMMPS dump file associated with the dump_file but does not contain a dislocation.\n",
    "\n",
    "- dump_file is the name (and location) of the LAMMPS dump file that you want to create the differential displacement plot for.\n",
    "\n",
    "- base_elements is a list of the elements to be associated with the atom types in the base_file.  \n",
    "\n",
    "- dump_elements is a list of the elements to be associated with the atom types in the dump_file.  Note that with systems created by the tool-Dislocation-Creation Notebook, the atom types are doubled.  For example, if you have a three element system, then elements = [El1, El2, El3, El1, El2, El3].\n",
    "\n",
    "- a0 is the lattice parameter a for the system. This is used here to properly scale dimensions used in the plotting. \n",
    "\n",
    "- disl_file is the name (and location) of the dislocation monopole library data model file.  This is used here as each crystal prototype requires specific inputs related to performing the Nye tensor calculation.\n",
    "\n",
    "- disl_type is the specific tag associated with a particular dislocation type listed in the disl_file. "
   ]
  },
  {
   "cell_type": "code",
   "execution_count": 2,
   "metadata": {
    "collapsed": false
   },
   "outputs": [],
   "source": [
    "#Specify working directory\n",
    "working_dir = 'tool-Dislocation'\n",
    "os.chdir(working_dir)\n",
    "working_dir = os.getcwd()\n",
    "\n",
    "#Specify LAMMPS dump files to calculate DD plot\n",
    "base_file = 'fcc--Al--(a-2)[(1)(0)(-1)]--((1)(1)(1))--u[(1)(0)(-1)]--base.dump'\n",
    "dump_file = 'fcc--Al--(a-2)[(1)(0)(-1)]--((1)(1)(1))--u[(1)(0)(-1)]--disl.dump'\n",
    "\n",
    "#base_file = 'fcc--Al--(a-2)[(1)(0)(-1)]--((1)(1)(1))--u[(1)(-2)(1)]--base.dump'\n",
    "#dump_file = 'fcc--Al--(a-2)[(1)(0)(-1)]--((1)(1)(1))--u[(1)(-2)(1)]--disl.dump'\n",
    "\n",
    "#Give the cubic lattice parameter, a0\n",
    "a = 4.0500\n",
    "\n",
    "#Specify point defect library data model file\n",
    "disl_file = 'fcc-disl.json'\n",
    "\n",
    "#Specify which dislocation type was used\n",
    "disl_type = '(a-2)[(1)(0)(-1)]--((1)(1)(1))--u[(1)(0)(-1)]'\n",
    "#disl_type = '(a-2)[(1)(0)(-1)]--((1)(1)(1))--u[(1)(-2)(1)]'"
   ]
  },
  {
   "cell_type": "markdown",
   "metadata": {},
   "source": [
    "###1.3 Calculation Parameters\n",
    "\n",
    "These are user-specified parameters that control how the calculation proceeds, such as number of data points.\n",
    "\n",
    "- xy_plot_range defines the xy window of the system to use in creating the plot.\n",
    "\n",
    "- ddscale is a multiplying factor that is performed on the magnitude of the differential displacement vectors.  \n",
    "\n",
    "__Note:__ for bcc screw dislocations, the typical ddscale factor used in papers is 1.8856.  Adding a second number in the brackets will create the edge component map for this type of dislocation, however there is some discrepancy in the positive-negative sense of the edge component vectors with published plots.  "
   ]
  },
  {
   "cell_type": "code",
   "execution_count": 3,
   "metadata": {
    "collapsed": false
   },
   "outputs": [],
   "source": [
    "#Define the xy plot range window\n",
    "xy_plot_range = [[-15, 15], [-15, 15]]\n",
    "\n",
    "#Scale the differential displacement vectors\n",
    "ddscale = [1]"
   ]
  },
  {
   "cell_type": "markdown",
   "metadata": {},
   "source": [
    "##2. Additional Data Files\n",
    "\n",
    "To make this notebook self-contained, we have embedded a few files.\n",
    "\n",
    "None for this calculation.\n",
    "\n",
    "__Note:__ The default example shown here assumes that you have previously run the default example for the tool-Dislocation-Creation Notebook.  The necessary files are created using that tool."
   ]
  },
  {
   "cell_type": "markdown",
   "metadata": {},
   "source": [
    "##3. LAMMPS Script Generation Function(s)\n",
    "\n",
    "This code generates the underlying LAMMPS script(s) for performing the necessary simulations.  \n",
    "\n",
    "None for this calculation"
   ]
  },
  {
   "cell_type": "markdown",
   "metadata": {},
   "source": [
    "##4. Python Calculation Function(s)\n",
    "\n",
    "These functions are associated with setting up the atomic systems, running LAMMPS, extracting the simulation data, and refining the results.\n",
    "\n",
    "- ax_check() checks that a crystallographic axes set is orthogonal and returns both the associated normalization vectors and the magnitudes associated with those directions.  Note that the normalized vector array is the transformation matrix, T, relative to a [100],[010],[001] orientation.\n",
    "\n",
    "- mag() returns the magnitude of a vector of any dimension.\n",
    "\n",
    "- dd() computes and plots the differential displacement map. base is a dislocation-free system corresponding to the dislocation-containing system. A neighbor list needs to be built for the base system.  data is the dislocation-containing system. prange defines the xyz box dimensions for including atoms in the plot. burgers is the Burgers vector for the system (in the system's Cartesian coordinates). scale is a scaling factor. save sets whether the figure is saved to a file 'dd.png'. show sets whether the figure is displayed."
   ]
  },
  {
   "cell_type": "code",
   "execution_count": 4,
   "metadata": {
    "collapsed": false
   },
   "outputs": [],
   "source": [
    "#Checks that the axes are orthogonal and returns normalized direction vectors\n",
    "#The normalized array is the transformation matrix, T, relative to a [1,0,0],[0,1,0],[0,0,1] orientation\n",
    "def axes_check(axes, tol=1e-8):\n",
    "    mag = np.apply_along_axis(np.linalg.norm, 1, axes)\n",
    "    uaxes = axes / mag[:,None]\n",
    "    if (np.isclose(np.dot(uaxes[0], uaxes[1]), 0., atol=tol) == False or \n",
    "        np.isclose(np.dot(uaxes[0], uaxes[2]), 0., atol=tol) == False or \n",
    "        np.isclose(np.dot(uaxes[1], uaxes[2]), 0., atol=tol) == False):\n",
    "        raise ValueError('dots are not 0!')\n",
    "    if np.allclose(np.cross(uaxes[0], uaxes[1]) - uaxes[2], np.zeros(3), atol=tol) == False:\n",
    "        raise ValueError('cross does not check!')\n",
    "    return uaxes, mag\n",
    "\n",
    "def mag(vect):\n",
    "    #return np.linalg.norm(vect)  Runs slower...\n",
    "    m = 0\n",
    "    for v in vect:\n",
    "        m += v**2\n",
    "    return (m)**.5  \n",
    "\n",
    "def dd(base, data, prange, burgers, scale=[1], save=False, show=True):\n",
    "    #initialize fig and define image size\n",
    "    if len(scale)==1:\n",
    "        fig, ax1, = plt.subplots(1, 1, squeeze=True, figsize=(7,7), dpi=72)\n",
    "    elif len(scale)==2:\n",
    "        fig, (ax1, ax2) = plt.subplots(1, 2, squeeze=True, figsize=(16,7), dpi=72)\n",
    "    wscale = 1./200.\n",
    "    bmag = mag(burgers)\n",
    "    radius = bmag/10\n",
    "    bvect = burgers/bmag\n",
    "    \n",
    "    natoms = base.natoms()\n",
    "    nlist = base.prop('nlist')\n",
    "    \n",
    "    for i in xrange(natoms):\n",
    "        #identify all base atoms i in prange\n",
    "        pos = base.atoms(i, 'pos')\n",
    "        if (pos[2] > prange[2,0] and pos[2] < prange[2,1] and\n",
    "            pos[1] > prange[1,0] and pos[1] < prange[1,1] and\n",
    "            pos[0] > prange[0,0] and pos[0] < prange[0,1]):\n",
    "            \n",
    "            #Construct xy map of base atom positions colored by z position\n",
    "            color = cm.hsv((pos[2] - prange[2,0]) / (prange[2,1] - prange[2,0]) )\n",
    "            ax1.add_patch(mpatches.Circle((pos[0], pos[1]), radius, fc=color))\n",
    "            if len(scale)==2:\n",
    "                ax2.add_patch(mpatches.Circle((pos[0], pos[1]), radius, fc=color))\n",
    "            \n",
    "            #for all neighbors j of base atoms i\n",
    "            for jj in xrange(nlist[i][0]):\n",
    "                j = nlist[i][jj+1] \n",
    "                \n",
    "                deltabase = base.dvect(i, j)\n",
    "                #if the base atoms have different xy coordinates\n",
    "                if mag(deltabase[:2]>1e-5):\n",
    "                    deltadata = data.dvect(i, j)\n",
    "                    \n",
    "                    #c = centerpoint, dd = differential displacement vector for i-j\n",
    "                    c = (base.atoms(i, 'pos') + base.atoms(j, 'pos')) / 2\n",
    "                    dd = (deltadata - deltabase)\n",
    "                    ddcomp = dd.dot(bvect)\n",
    "                    if ddcomp > bmag / 2:\n",
    "                        ddcomp -= bmag\n",
    "                    elif ddcomp < -bmag / 2:\n",
    "                        ddcomp += bmag\n",
    "                    \n",
    "                    dds = deltabase[:2] / mag(deltabase[:2]) * ddcomp * scale[0]\n",
    "                    wide = mag(dds) * wscale\n",
    "                    ax1.quiver(c[0], c[1], dds[0], dds[1], angles='xy', scale_units='xy', scale=1, pivot='middle', width=wide)\n",
    "                    ax1.axis([prange[0,0], prange[0,1], prange[1,0], prange[1,1]])\n",
    "                    \n",
    "                    if len(scale)==2:\n",
    "                        dde = dd[:2] * scale[1]\n",
    "                        if deltabase[2] > 0:\n",
    "                            dde = -dde\n",
    "\n",
    "                        wide = mag(dde) * wscale\n",
    "                        ax2.quiver(c[0], c[1], dde[0], dde[1], angles='xy', scale_units='xy', scale=1, pivot='middle', width=wide)\n",
    "                        ax2.axis([prange[0,0], prange[0,1], prange[1,0], prange[1,1]])\n",
    "    \n",
    "    if save:\n",
    "        plt.savefig('DD.png', dpi=800)\n",
    "    if show==False:\n",
    "        plt.close(fig)\n",
    "    plt.show()        \n"
   ]
  },
  {
   "cell_type": "markdown",
   "metadata": {},
   "source": [
    "##5. Run Calculation and Display Results\n",
    "\n",
    "This is the code that runs the calculation function(s) for the supplied inputs and displays the resulting data."
   ]
  },
  {
   "cell_type": "code",
   "execution_count": 5,
   "metadata": {
    "collapsed": false
   },
   "outputs": [
    {
     "data": {
      "image/png": "[encoded data removed]",
      "text/plain": [
       "<matplotlib.figure.Figure at 0xa6744e0>"
      ]
     },
     "metadata": {},
     "output_type": "display_data"
    }
   ],
   "source": [
    "#Read the data model files\n",
    "dislocations = am.tools.DislocationMonopole(disl_file)\n",
    "\n",
    "#Define run parameters\n",
    "burgers = a * dislocations.get(disl_type, 'burgers')\n",
    "axes = dislocations.get(disl_type, 'axes')\n",
    "T,vmag = axes_check(axes)\n",
    "b = T.dot(burgers)\n",
    "\n",
    "#Read in the dislocation-free base system\n",
    "sys0 = am.lammps.read_dump(base_file) \n",
    "\n",
    "#Calculate nearest neighbor list\n",
    "sys0.neighbors(a * dislocations.get('Nye_cutoff'))\n",
    "\n",
    "#Read in the dislocation containing system\n",
    "sys2 = am.lammps.read_dump(dump_file)\n",
    "\n",
    "#Calculate the DD plot \n",
    "plot_range = np.array([xy_plot_range[0], xy_plot_range[1], a * dislocations.get(disl_type, 'zwidth') ])\n",
    "dd(sys0, sys2, plot_range, b, scale=ddscale, save=True)\n",
    "\n",
    "#Change plot file names to avoid conflicts\n",
    "dot_index = dump_file.index('.')\n",
    "fname = dump_file[:dot_index] + '--ddplot.png'\n",
    "\n",
    "try:\n",
    "    os.rename('dd.png', fname)\n",
    "except:\n",
    "    os.remove(fname)\n",
    "    os.rename('dd.png', fname)"
   ]
  },
  {
   "cell_type": "code",
   "execution_count": null,
   "metadata": {
    "collapsed": true
   },
   "outputs": [],
   "source": []
  }
 ],
 "metadata": {
  "kernelspec": {
   "display_name": "Python 2",
   "language": "python",
   "name": "python2"
  },
  "language_info": {
   "codemirror_mode": {
    "name": "ipython",
    "version": 2
   },
   "file_extension": ".py",
   "mimetype": "text/x-python",
   "name": "python",
   "nbconvert_exporter": "python",
   "pygments_lexer": "ipython2",
   "version": "2.7.10"
  }
 },
 "nbformat": 4,
 "nbformat_minor": 0
}
