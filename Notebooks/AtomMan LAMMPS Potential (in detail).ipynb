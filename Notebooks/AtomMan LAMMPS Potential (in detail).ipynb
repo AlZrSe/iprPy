{
 "cells": [
  {
   "cell_type": "markdown",
   "metadata": {},
   "source": [
    "#Demonstration of atomman.lammps code design"
   ]
  },
  {
   "cell_type": "markdown",
   "metadata": {},
   "source": [
    "__The atomman.lammps module has a number of tools for interactions with the LAMMPS molecular dynamics program. The principle actions of atomman.lammps are:__\n",
    "\n",
    "1. Generating the LAMMPS input script lines associated with a given interatomic potential.\n",
    "\n",
    "2. Generating the LAMMPS input script lines associated with creating a new system. \n",
    "\n",
    "3. Reading and writing system information to and from LAMMPS data and dump files.\n",
    "\n",
    "4. Reading the standard output or log.lammps file and parsing out the thermo data.\n",
    "\n",
    "__These actions allow for the integration of LAMMPS simulations into a Python framework to facilitate rapid development of new simulations and easy adaption to different potentials or material systems.__"
   ]
  },
  {
   "cell_type": "markdown",
   "metadata": {},
   "source": [
    "##0. Initial Setup"
   ]
  },
  {
   "cell_type": "markdown",
   "metadata": {},
   "source": [
    "###0.1 Python package imports"
   ]
  },
  {
   "cell_type": "code",
   "execution_count": 1,
   "metadata": {
    "collapsed": false
   },
   "outputs": [],
   "source": [
    "#Standard Python Libraries\n",
    "import subprocess\n",
    "import os\n",
    "\n",
    "import numpy as np\n",
    "\n",
    "#Custom package\n",
    "import atomman"
   ]
  },
  {
   "cell_type": "markdown",
   "metadata": {},
   "source": [
    "###0.2 LAMMPS Executable\n",
    "\n",
    "__Running LAMMPS simulations requires having a LAMMPS executable accessible.  This needs to be specified for your system.__"
   ]
  },
  {
   "cell_type": "code",
   "execution_count": 2,
   "metadata": {
    "collapsed": false
   },
   "outputs": [],
   "source": [
    "#Specify which LAMMPS executible to use\n",
    "lammps_exe = 'C:/Users/lmh1/Documents/lmp_serial.exe'\n",
    "\n",
    "#Test that lammps_exe is a file\n",
    "if not os.path.isfile(lammps_exe):\n",
    "    raise ValueError('Could not find LAMMPS executable ' + lammps_exe)"
   ]
  },
  {
   "cell_type": "markdown",
   "metadata": {},
   "source": [
    "##1.  Representing a LAMMPS potential\n",
    "\n",
    "__The LAMMPS molecular dynamics program is capable of performing simulations and calculations using a wide variety of interatomic potentials.  To facilitate this, the LAMMPS input scripts allow for the specification of numerous parameters that define or influence the interatomic interaction models.  Across potentials, the values, types and numbers of necessary parameters may drastically vary.  However, an implementation of a potential into LAMMPS is associated with a particular set of parameters that fully defines that atomistic model.__\n",
    "\n",
    "__The parameter set associated with running LAMMPS with a particular potential implementation can be collected together into a data model.  For AtomMan, a json/XML based data model is used that is capable of fully representing the broad spectrum of interatomic potential parameters in a format that is easily accessible both for human and machine readability. A class atomman.lammps.Potential reads in data model files and handles all conversions, etc. using methods.  This Potential class, along with it being decoupled from System, allows for different interatomic potentials to be easily assigned and exchanged.__"
   ]
  },
  {
   "cell_type": "markdown",
   "metadata": {},
   "source": [
    "##1.1 Data model format\n",
    "\n",
    "__This section outlines the various fields in the data model and what they mean.__\n",
    "\n",
    "__\"potentialID\"__ lists the identifiers associated with this particular potential instance. \n",
    "\n",
    "- \"descriptionIdentifier\" is used to give the potential instance a name.  It should match the file name.\n",
    "\n",
    "__\"units\"__ specifies the LAMMPS units type.\n",
    "\n",
    "__\"atom_style\"__ specifies the LAMMPS atom_style type.\n",
    "\n",
    "__\"atom\"__ lists the element types used by this potential, and any other parameters specific to that element type. \n",
    "\n",
    "- \"element\" specifies the name of the element (using the standard symbol tag).\n",
    "\n",
    "- \"symbol\" specifies the unique tag for the element to associate with atomic interactions.  This often is equivalent to \"element\", but allows for multiple models to exist for the same element (e.g. Si1, Si2, etc.).  If \"symbol\" is not listed, its value is set to be equal to \"element\"'s value.\n",
    "\n",
    "- \"mass\" is the atomic mass to be used.  If \"mass\" is not listed, its value is set to the standard value associated with \"element\".\n",
    "\n",
    "- Other per-atom type properties can also be specified, such as \"charge\".  These are supported by the data model, but not fully integrated into AtomMan yet...\n",
    "\n",
    "__\"pair_style\"__ specifies the LAMMPS pair_style type and any associated terms.\n",
    "\n",
    "- \"type\" is the pair_style type.\n",
    "\n",
    "- \"term\" is a list of any additional terms to include on the pair_style line of the LAMMPS input file. The choices for terms are listed below.\n",
    "\n",
    "__\"pair_coeff\"__ lists the interaction parameters associated with this potential implementation.  The order of terms is retained allowing for hybrid styles to be used.  \n",
    "\n",
    "- \"interaction\" specifies the element symbols associated with specific interaction terms.  For pair potentials, this is a list of the two atom symbols of a pair interaction.  For many-body potentials, this is a list of all unique atom symbols associated with the interaction model.  If \"interaction\" is not listed, then the following terms are assumed to be associated with all atom symbols.\n",
    "\n",
    "- \"term\" is a list of all terms of an interaction set to include on a pair_coeff line of the LAMMPS input file. The choices for terms are listed below. \n",
    "\n",
    "Both __\"pair_style\"__ and __\"pair_coeff\"__ use the same convention for the __\"term\"__ choices.  Each choice is appended in the same order as they are listed in the data model.  The choices are:\n",
    "\n",
    "- \"option\" is a value or string that is appended on.\n",
    "\n",
    "- \"file\" is a file name associated with the interaction model, e.g. an EAM setfl file.\n",
    "\n",
    "- \"symbols\": True indicates that the potential style requires a list of the element symbols associated with the System's atypes.\n",
    "\n",
    "- \"symbolsList\": True indicates that the potential style requires a list of all unique element symbols associated with the interaction.  This is needed for some pair styles that use complex library files, such as MEAM. \n",
    "\n"
   ]
  },
  {
   "cell_type": "code",
   "execution_count": 3,
   "metadata": {
    "collapsed": false
   },
   "outputs": [
    {
     "name": "stdout",
     "output_type": "stream",
     "text": [
      "{\n",
      "    \"interatomicPotentialImplementationLAMMPS\": {\n",
      "        \"potentialID\": {\n",
      "            \"descriptionIdentifier\": \"pot-name\"\n",
      "        },\n",
      "        \"units\": \"units\",\n",
      "        \"atom_style\": \"style\",\n",
      "        \"atom\": {\n",
      "            \"element\": \"El\",\n",
      "            \"symbol\": \"El1\",\n",
      "            \"mass\": 1.00\n",
      "        },     \n",
      "        \"pair_style\": {\n",
      "            \"type\": \"pair\",\n",
      "            \"term\": {\n",
      "                \"option\": 1.0\n",
      "            }\n",
      "        },\n",
      "        \"pair_coeff\": {\n",
      "            \"interaction\": {\n",
      "                \"element\": [\n",
      "                    \"El\",\n",
      "                    \"El\"\n",
      "                ]\n",
      "            },\n",
      "            \"term\": [\n",
      "                {\n",
      "                    \"option\": 1.0\n",
      "                },\n",
      "                {\n",
      "                    \"symbolsList\": True\n",
      "                },\n",
      "                {\n",
      "                    \"file\": \"filename\"\n",
      "                },\n",
      "                {\n",
      "                    \"symbols\": True\n",
      "                }\n",
      "            ]\n",
      "        }\n",
      "    }\n",
      "}\n"
     ]
    }
   ],
   "source": [
    "print \"\"\"{\n",
    "    \"interatomicPotentialImplementationLAMMPS\": {\n",
    "        \"potentialID\": {\n",
    "            \"descriptionIdentifier\": \"pot-name\"\n",
    "        },\n",
    "        \"units\": \"units\",\n",
    "        \"atom_style\": \"style\",\n",
    "        \"atom\": {\n",
    "            \"element\": \"El\",\n",
    "            \"symbol\": \"El1\",\n",
    "            \"mass\": 1.00\n",
    "        },     \n",
    "        \"pair_style\": {\n",
    "            \"type\": \"pair\",\n",
    "            \"term\": {\n",
    "                \"option\": 1.0\n",
    "            }\n",
    "        },\n",
    "        \"pair_coeff\": {\n",
    "            \"interaction\": {\n",
    "                \"element\": [\n",
    "                    \"El\",\n",
    "                    \"El\"\n",
    "                ]\n",
    "            },\n",
    "            \"term\": [\n",
    "                {\n",
    "                    \"option\": 1.0\n",
    "                },\n",
    "                {\n",
    "                    \"symbolsList\": True\n",
    "                },\n",
    "                {\n",
    "                    \"file\": \"filename\"\n",
    "                },\n",
    "                {\n",
    "                    \"symbols\": True\n",
    "                }\n",
    "            ]\n",
    "        }\n",
    "    }\n",
    "}\"\"\""
   ]
  },
  {
   "cell_type": "markdown",
   "metadata": {
    "collapsed": false
   },
   "source": [
    "###1.2 Examples\n",
    "\n",
    "__This section contains example potential instance data models and code showing how the Potential class can be used to access and represent the data.__"
   ]
  },
  {
   "cell_type": "markdown",
   "metadata": {},
   "source": [
    "###1.2.1 Simple style potential, i.e. Lennard-Jones."
   ]
  },
  {
   "cell_type": "markdown",
   "metadata": {
    "collapsed": false
   },
   "source": [
    "__Potential instance data model file generator.  NOT A REAL POTENTIAL! ONLY FOR DEMO!__"
   ]
  },
  {
   "cell_type": "code",
   "execution_count": 4,
   "metadata": {
    "collapsed": true
   },
   "outputs": [],
   "source": [
    "#Creates a interatomic potential data model for using the MEAM potential in LAMMPS\n",
    "f = open('lj-example.json', 'w')\n",
    "f.write(\"\"\"{\n",
    "    \"interatomicPotentialImplementationLAMMPS\": {\n",
    "        \"potentialID\": {\n",
    "            \"descriptionIdentifier\": \"lj-example\"\n",
    "        },\n",
    "        \"units\": \"lj\",\n",
    "        \"atom_style\": \"atomic\",\n",
    "        \"atom\": [\n",
    "            {\n",
    "                \"element\": \"He\"\n",
    "            },\n",
    "            {\n",
    "                \"element\": \"Ar\"\n",
    "            }\n",
    "        ],\n",
    "        \"pair_style\": {\n",
    "            \"type\": \"lj/cut\",\n",
    "            \"term\": {\n",
    "                \"option\": 10.0\n",
    "            }\n",
    "        },\n",
    "        \"pair_coeff\": [\n",
    "            {\n",
    "                \"interaction\": {\n",
    "                    \"element\": [\n",
    "                        \"He\",\n",
    "                        \"He\"\n",
    "                    ]\n",
    "                },\n",
    "                \"term\": {\n",
    "                    \"option\": \"1.0 1.0\"\n",
    "                }\n",
    "            },\n",
    "            {\n",
    "                \"interaction\": {\n",
    "                    \"element\": [\n",
    "                        \"Ar\",\n",
    "                        \"Ar\"\n",
    "                    ]\n",
    "                },\n",
    "                \"term\": {\n",
    "                    \"option\": \"2.0 2.0\"\n",
    "                }\n",
    "            },\n",
    "            {\n",
    "                \"interaction\": {\n",
    "                    \"element\": [\n",
    "                        \"He\",\n",
    "                        \"Ar\"\n",
    "                    ]\n",
    "                },\n",
    "                \"term\": {\n",
    "                    \"option\": \"1.0 2.0\"\n",
    "                }\n",
    "            }            \n",
    "        ]\n",
    "    }\n",
    "}\"\"\")\n",
    "f.close()      "
   ]
  },
  {
   "cell_type": "markdown",
   "metadata": {},
   "source": [
    "__With the AtomMan package, this file can be easily read in creating a object instance.__"
   ]
  },
  {
   "cell_type": "code",
   "execution_count": 5,
   "metadata": {
    "collapsed": false
   },
   "outputs": [
    {
     "name": "stdout",
     "output_type": "stream",
     "text": [
      "Potential name is: lj-example\n"
     ]
    }
   ],
   "source": [
    "pot = atomman.lammps.Potential('lj-example.json')\n",
    "print 'Potential name is:', pot"
   ]
  },
  {
   "cell_type": "markdown",
   "metadata": {},
   "source": [
    "__The units and atom_style can be easily retrieved using appropriately named methods:__"
   ]
  },
  {
   "cell_type": "code",
   "execution_count": 6,
   "metadata": {
    "collapsed": false
   },
   "outputs": [
    {
     "name": "stdout",
     "output_type": "stream",
     "text": [
      "units lj\n",
      "atom_style atomic\n"
     ]
    }
   ],
   "source": [
    "print 'units', pot.units()\n",
    "print 'atom_style', pot.atom_style()"
   ]
  },
  {
   "cell_type": "markdown",
   "metadata": {},
   "source": [
    "__The elements(), symbols() and masses() methods return lists of the associated values.  elements() and masses() also can take arguments to return a specific value or list of values associated with a particular element symbol or list of symbols.__"
   ]
  },
  {
   "cell_type": "code",
   "execution_count": 7,
   "metadata": {
    "collapsed": false
   },
   "outputs": [
    {
     "name": "stdout",
     "output_type": "stream",
     "text": [
      "Default method calls:\n",
      "symbols = [u'He', u'Ar']\n",
      "elements = [u'He', u'Ar']\n",
      "masses = [4.002602, 39.948]\n",
      "\n",
      "Values using a single specified element symbol:\n",
      "Mass of He is 4.002602\n",
      "Mass of Ar is 39.948\n",
      "\n",
      "Values using the symbol list [u'He', u'He', u'Ar', u'Ar', u'He', u'Ar']\n",
      "elements = [u'He', u'He', u'Ar', u'Ar', u'He', u'Ar']\n",
      "masses = [4.002602, 4.002602, 39.948, 39.948, 4.002602, 39.948]\n"
     ]
    }
   ],
   "source": [
    "symbols = pot.symbols()\n",
    "symbol_list = [symbols[0], symbols[0], symbols[1], symbols[1], symbols[0], symbols[1]]\n",
    "print 'Default method calls:'\n",
    "print 'symbols =',  symbols\n",
    "print 'elements =', pot.elements()\n",
    "print 'masses =',   pot.masses()\n",
    "print\n",
    "\n",
    "print 'Values using a single specified element symbol:'\n",
    "for i in xrange(len(symbols)):\n",
    "    print 'Mass of', pot.elements(symbols[i]), 'is', pot.masses(symbols[i])\n",
    "print\n",
    "\n",
    "print 'Values using the symbol list', symbol_list\n",
    "print 'elements =', pot.elements(symbol_list)\n",
    "print 'masses =',   pot.masses(symbol_list)"
   ]
  },
  {
   "cell_type": "markdown",
   "metadata": {},
   "source": [
    "__Finally, a method pair_info() generates the mass, pair_style and pair_coeff lines__ "
   ]
  },
  {
   "cell_type": "code",
   "execution_count": 8,
   "metadata": {
    "collapsed": false
   },
   "outputs": [
    {
     "name": "stdout",
     "output_type": "stream",
     "text": [
      "Default pair_info:\n",
      "mass 1 4.002602\n",
      "mass 2 39.948000\n",
      "\n",
      "pair_style lj/cut 10.0\n",
      "pair_coeff 1 1 1.0 1.0\n",
      "pair_coeff 2 2 2.0 2.0\n",
      "pair_coeff 1 2 1.0 2.0\n",
      "\n",
      "\n",
      "pair_info with one element symbol specified:\n",
      "mass 1 4.002602\n",
      "\n",
      "pair_style lj/cut 10.0\n",
      "pair_coeff 1 1 1.0 1.0\n",
      "\n",
      "\n",
      "pair_info using the symbol list [u'He', u'He', u'Ar', u'Ar', u'He', u'Ar']\n",
      "mass 1 4.002602\n",
      "mass 2 4.002602\n",
      "mass 3 39.948000\n",
      "mass 4 39.948000\n",
      "mass 5 4.002602\n",
      "mass 6 39.948000\n",
      "\n",
      "pair_style lj/cut 10.0\n",
      "pair_coeff 1 1 1.0 1.0\n",
      "pair_coeff 1 2 1.0 1.0\n",
      "pair_coeff 1 5 1.0 1.0\n",
      "pair_coeff 2 2 1.0 1.0\n",
      "pair_coeff 2 5 1.0 1.0\n",
      "pair_coeff 5 5 1.0 1.0\n",
      "pair_coeff 3 3 2.0 2.0\n",
      "pair_coeff 3 4 2.0 2.0\n",
      "pair_coeff 3 6 2.0 2.0\n",
      "pair_coeff 4 4 2.0 2.0\n",
      "pair_coeff 4 6 2.0 2.0\n",
      "pair_coeff 6 6 2.0 2.0\n",
      "pair_coeff 1 3 1.0 2.0\n",
      "pair_coeff 1 4 1.0 2.0\n",
      "pair_coeff 1 6 1.0 2.0\n",
      "pair_coeff 2 3 1.0 2.0\n",
      "pair_coeff 2 4 1.0 2.0\n",
      "pair_coeff 2 6 1.0 2.0\n",
      "pair_coeff 3 5 1.0 2.0\n",
      "pair_coeff 4 5 1.0 2.0\n",
      "pair_coeff 5 6 1.0 2.0\n",
      "\n"
     ]
    }
   ],
   "source": [
    "print 'Default pair_info:'\n",
    "print pot.pair_info()\n",
    "print\n",
    "print 'pair_info with one element symbol specified:'\n",
    "print pot.pair_info(symbols[0])\n",
    "print\n",
    "\n",
    "print 'pair_info using the symbol list', symbol_list\n",
    "print pot.pair_info(symbol_list)"
   ]
  },
  {
   "cell_type": "markdown",
   "metadata": {},
   "source": [
    "###1.2.2 Many-body potential with an associated potential parameter file, i.e. eam/alloy."
   ]
  },
  {
   "cell_type": "markdown",
   "metadata": {
    "collapsed": false
   },
   "source": [
    "__Potential instance data model file generator.  NOT A REAL POTENTIAL! ONLY FOR DEMO!__"
   ]
  },
  {
   "cell_type": "code",
   "execution_count": 9,
   "metadata": {
    "collapsed": true
   },
   "outputs": [],
   "source": [
    "#Creates a interatomic potential data model for using the MEAM potential in LAMMPS\n",
    "f = open('eam-alloy-example.json', 'w')\n",
    "f.write(\"\"\"{\n",
    "    \"interatomicPotentialImplementationLAMMPS\": {\n",
    "        \"potentialID\": {\n",
    "            \"descriptionIdentifier\": \"eam-alloy-example\"\n",
    "        },\n",
    "        \"units\": \"metal\",\n",
    "        \"atom_style\": \"atomic\",\n",
    "        \"atom\": [\n",
    "            {\n",
    "                \"element\": \"Ni\",\n",
    "                \"mass\": 58.6934\n",
    "            },\n",
    "            {\n",
    "                \"element\": \"Al\",\n",
    "                \"mass\": 26.981539\n",
    "            },\n",
    "            {\n",
    "                \"element\": \"Co\",\n",
    "                \"mass\": 58.9332\n",
    "            }\n",
    "        ],\n",
    "        \"pair_style\": {\n",
    "            \"type\": \"eam/alloy\"\n",
    "        },\n",
    "        \"pair_coeff\": {\n",
    "            \"term\": [\n",
    "                {\n",
    "                    \"file\": \"file.eam.alloy\"\n",
    "                },\n",
    "                {\n",
    "                    \"symbols\": \"True\"\n",
    "                }\n",
    "            ]\n",
    "        }\n",
    "    }\n",
    "}\"\"\")\n",
    "f.close()      "
   ]
  },
  {
   "cell_type": "markdown",
   "metadata": {},
   "source": [
    "__With the AtomMan package, this file can be easily read in creating a object instance.__"
   ]
  },
  {
   "cell_type": "code",
   "execution_count": 10,
   "metadata": {
    "collapsed": false
   },
   "outputs": [
    {
     "name": "stdout",
     "output_type": "stream",
     "text": [
      "Potential name is: eam-alloy-example\n"
     ]
    }
   ],
   "source": [
    "pot = atomman.lammps.Potential('eam-alloy-example.json')\n",
    "print 'Potential name is:', pot"
   ]
  },
  {
   "cell_type": "markdown",
   "metadata": {},
   "source": [
    "__The units and atom_style can be easily retrieved using appropriately named methods:__"
   ]
  },
  {
   "cell_type": "code",
   "execution_count": 11,
   "metadata": {
    "collapsed": false
   },
   "outputs": [
    {
     "name": "stdout",
     "output_type": "stream",
     "text": [
      "units metal\n",
      "atom_style atomic\n"
     ]
    }
   ],
   "source": [
    "print 'units', pot.units()\n",
    "print 'atom_style', pot.atom_style()"
   ]
  },
  {
   "cell_type": "markdown",
   "metadata": {},
   "source": [
    "__The elements(), symbols() and masses() methods return lists of the associated values.  elements() and masses() also can take arguments to return a specific value or list of values associated with a particular element symbol or list of symbols.__"
   ]
  },
  {
   "cell_type": "code",
   "execution_count": 12,
   "metadata": {
    "collapsed": false
   },
   "outputs": [
    {
     "name": "stdout",
     "output_type": "stream",
     "text": [
      "Default method calls:\n",
      "symbols = [u'Ni', u'Al', u'Co']\n",
      "elements = [u'Ni', u'Al', u'Co']\n",
      "masses = [58.6934, 26.981539, 58.9332]\n",
      "\n",
      "Values using a single specified element symbol:\n",
      "Mass of Ni is 58.6934\n",
      "Mass of Al is 26.981539\n",
      "Mass of Co is 58.9332\n",
      "\n",
      "Values using the symbol list [u'Ni', u'Ni', u'Al', u'Al', u'Ni', u'Al']\n",
      "elements = [u'Ni', u'Ni', u'Al', u'Al', u'Ni', u'Al']\n",
      "masses = [58.6934, 58.6934, 26.981539, 26.981539, 58.6934, 26.981539]\n"
     ]
    }
   ],
   "source": [
    "symbols = pot.symbols()\n",
    "symbol_list = [symbols[0], symbols[0], symbols[1], symbols[1], symbols[0], symbols[1]]\n",
    "print 'Default method calls:'\n",
    "print 'symbols =',  symbols\n",
    "print 'elements =', pot.elements()\n",
    "print 'masses =',   pot.masses()\n",
    "print\n",
    "\n",
    "print 'Values using a single specified element symbol:'\n",
    "for i in xrange(len(symbols)):\n",
    "    print 'Mass of', pot.elements(symbols[i]), 'is', pot.masses(symbols[i])\n",
    "print\n",
    "\n",
    "print 'Values using the symbol list', symbol_list\n",
    "print 'elements =', pot.elements(symbol_list)\n",
    "print 'masses =',   pot.masses(symbol_list)"
   ]
  },
  {
   "cell_type": "markdown",
   "metadata": {},
   "source": [
    "__Finally, a method pair_info() generates the mass, pair_style and pair_coeff lines__ "
   ]
  },
  {
   "cell_type": "code",
   "execution_count": 13,
   "metadata": {
    "collapsed": false
   },
   "outputs": [
    {
     "name": "stdout",
     "output_type": "stream",
     "text": [
      "Default pair_info:\n",
      "mass 1 58.693400\n",
      "mass 2 26.981539\n",
      "mass 3 58.933200\n",
      "\n",
      "pair_style eam/alloy\n",
      "pair_coeff * * file.eam.alloy Ni Al Co\n",
      "\n",
      "\n",
      "pair_info with one element symbol specified:\n",
      "mass 1 58.693400\n",
      "\n",
      "pair_style eam/alloy\n",
      "pair_coeff * * file.eam.alloy Ni\n",
      "\n",
      "\n",
      "pair_info using the symbol list [u'Ni', u'Ni', u'Al', u'Al', u'Ni', u'Al']\n",
      "mass 1 58.693400\n",
      "mass 2 58.693400\n",
      "mass 3 26.981539\n",
      "mass 4 26.981539\n",
      "mass 5 58.693400\n",
      "mass 6 26.981539\n",
      "\n",
      "pair_style eam/alloy\n",
      "pair_coeff * * file.eam.alloy Ni Ni Al Al Ni Al\n",
      "\n"
     ]
    }
   ],
   "source": [
    "print 'Default pair_info:'\n",
    "print pot.pair_info()\n",
    "print\n",
    "print 'pair_info with one element symbol specified:'\n",
    "print pot.pair_info(symbols[0])\n",
    "print\n",
    "\n",
    "print 'pair_info using the symbol list', symbol_list\n",
    "print pot.pair_info(symbol_list)"
   ]
  },
  {
   "cell_type": "code",
   "execution_count": null,
   "metadata": {
    "collapsed": true
   },
   "outputs": [],
   "source": []
  }
 ],
 "metadata": {
  "kernelspec": {
   "display_name": "Python 2",
   "language": "python",
   "name": "python2"
  },
  "language_info": {
   "codemirror_mode": {
    "name": "ipython",
    "version": 2
   },
   "file_extension": ".py",
   "mimetype": "text/x-python",
   "name": "python",
   "nbconvert_exporter": "python",
   "pygments_lexer": "ipython2",
   "version": "2.7.10"
  }
 },
 "nbformat": 4,
 "nbformat_minor": 0
}
