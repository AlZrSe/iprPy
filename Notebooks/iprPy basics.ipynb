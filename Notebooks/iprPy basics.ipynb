{
 "cells": [
  {
   "cell_type": "markdown",
   "metadata": {},
   "source": [
    "#Demonstration of iprpy code design"
   ]
  },
  {
   "cell_type": "markdown",
   "metadata": {},
   "source": [
    "###Initial Imports"
   ]
  },
  {
   "cell_type": "code",
   "execution_count": 1,
   "metadata": {
    "collapsed": true
   },
   "outputs": [],
   "source": [
    "#standard library imports\n",
    "import sys\n",
    "\n",
    "#external library imports\n",
    "import numpy as np\n",
    "\n",
    "#custom library import\n",
    "#Need to specify path to the folder containing iprpy\n",
    "sys.path.append('IPR')\n",
    "import iprpy"
   ]
  },
  {
   "cell_type": "markdown",
   "metadata": {},
   "source": [
    "##Atom Class\n",
    "\n",
    "__Class Atom is used to hold per-atom properties.  The Atom always has an integer type, atype, and 3D position vector, pos.  Interacting with the per-atom properties is controlled by methods.__"
   ]
  },
  {
   "cell_type": "code",
   "execution_count": 2,
   "metadata": {
    "collapsed": true
   },
   "outputs": [],
   "source": [
    "atom1 = iprpy.Atom(atype = 1, pos = [1.23, 4.56, 7.89])"
   ]
  },
  {
   "cell_type": "markdown",
   "metadata": {},
   "source": [
    "__Accessing the values:__"
   ]
  },
  {
   "cell_type": "code",
   "execution_count": 3,
   "metadata": {
    "collapsed": false
   },
   "outputs": [
    {
     "name": "stdout",
     "output_type": "stream",
     "text": [
      "atom1 returns: 1 1.2300000000000e+00 4.5600000000000e+00 7.8900000000000e+00\n",
      "atom1.atype() returns: 1\n",
      "atom1.pos() returns: [ 1.23  4.56  7.89]\n",
      "atom1.pos(0) returns: 1.23\n",
      "atom1.pos(1) returns: 4.56\n",
      "atom1.pos(2) returns: 7.89\n"
     ]
    }
   ],
   "source": [
    "#The string of Atom will return a formatted version of the atype and pos\n",
    "print 'atom1 returns:', atom1\n",
    "\n",
    "#No arguments returns the values\n",
    "print 'atom1.atype() returns:', atom1.atype()\n",
    "print 'atom1.pos() returns:', atom1.pos()\n",
    "\n",
    "#integer arguments 0,1,2 return the specified component of the position\n",
    "print 'atom1.pos(0) returns:', atom1.pos(0)\n",
    "print 'atom1.pos(1) returns:', atom1.pos(1)\n",
    "print 'atom1.pos(2) returns:', atom1.pos(2)"
   ]
  },
  {
   "cell_type": "markdown",
   "metadata": {},
   "source": [
    "__The same methods can be used to set the per-atom properties:__"
   ]
  },
  {
   "cell_type": "code",
   "execution_count": 4,
   "metadata": {
    "collapsed": false
   },
   "outputs": [
    {
     "name": "stdout",
     "output_type": "stream",
     "text": [
      "atom1.atype() returns: 4\n",
      "atom1.pos() returns: [-9.87 -6.54 -3.21]\n"
     ]
    }
   ],
   "source": [
    "#Atype can be set with any integer\n",
    "atom1.atype(4)\n",
    "print 'atom1.atype() returns:', atom1.atype()\n",
    "\n",
    "#pos can be set by giving a list/tuple of three numbers.\n",
    "atom1.pos((-9.87, -6.54, -3.21))\n",
    "print 'atom1.pos() returns:', atom1.pos()"
   ]
  },
  {
   "cell_type": "markdown",
   "metadata": {},
   "source": [
    "__While these are the only two properties the atom must have, others can be dynamically assigned and accessed using the prop() method.__"
   ]
  },
  {
   "cell_type": "code",
   "execution_count": 5,
   "metadata": {
    "collapsed": false
   },
   "outputs": [
    {
     "name": "stdout",
     "output_type": "stream",
     "text": [
      "atom1.prop('charge') returns: None\n",
      "atom1.prop('charge') returns: -1.9\n"
     ]
    }
   ],
   "source": [
    "#All non-defined property names return None\n",
    "print \"atom1.prop('charge') returns:\",  atom1.prop('charge')\n",
    "\n",
    "#Set the propery\n",
    "atom1.prop('charge', -1.9)\n",
    "\n",
    "#Now it's value is returned\n",
    "print \"atom1.prop('charge') returns:\",  atom1.prop('charge')"
   ]
  },
  {
   "cell_type": "markdown",
   "metadata": {},
   "source": [
    "__The method prop() can also be used with atype and pos:__"
   ]
  },
  {
   "cell_type": "code",
   "execution_count": 6,
   "metadata": {
    "collapsed": false
   },
   "outputs": [
    {
     "name": "stdout",
     "output_type": "stream",
     "text": [
      "atom1.prop('atype') returns: 2\n",
      "atom1.prop('pos') returns: [ 12.3  45.6  78.9]\n",
      "atom1.prop('pos', 0) returns: 12.3\n",
      "atom1.prop('pos', 1) returns: 45.6\n",
      "atom1.prop('pos', 2) returns: 78.9\n"
     ]
    }
   ],
   "source": [
    "atom1.prop('atype', 2)\n",
    "print \"atom1.prop('atype') returns:\", atom1.prop('atype')\n",
    "\n",
    "atom1.prop('pos', (12.3, 45.6, 78.9))\n",
    "print \"atom1.prop('pos') returns:\", atom1.prop('pos')\n",
    "print \"atom1.prop('pos', 0) returns:\", atom1.prop('pos', 0)\n",
    "print \"atom1.prop('pos', 1) returns:\", atom1.prop('pos', 1)\n",
    "print \"atom1.prop('pos', 2) returns:\", atom1.prop('pos', 2)"
   ]
  },
  {
   "cell_type": "markdown",
   "metadata": {},
   "source": [
    "__The full list of assigned atomic properties can be obtained using prop_list():__"
   ]
  },
  {
   "cell_type": "code",
   "execution_count": 7,
   "metadata": {
    "collapsed": false
   },
   "outputs": [
    {
     "name": "stdout",
     "output_type": "stream",
     "text": [
      "atom1.prop_list() returns: ['atype', 'pos', 'charge']\n"
     ]
    }
   ],
   "source": [
    "print \"atom1.prop_list() returns:\", atom1.prop_list()"
   ]
  },
  {
   "cell_type": "markdown",
   "metadata": {},
   "source": [
    "__Properties can be scalers, vectors or 2D arrays with corresponding interactivity.  Once a property has been defined, its size, shape and type (int or float) are fixed.__"
   ]
  },
  {
   "cell_type": "code",
   "execution_count": 8,
   "metadata": {
    "collapsed": false
   },
   "outputs": [
    {
     "name": "stdout",
     "output_type": "stream",
     "text": [
      "[-1.2  2.2  1.2]\n",
      "-1.2\n",
      "2.2\n",
      "1.2\n"
     ]
    }
   ],
   "source": [
    "atom1.prop('slip', [-1.2, 2.2, 1.2])\n",
    "print atom1.prop('slip')\n",
    "print atom1.prop('slip', 0)\n",
    "print atom1.prop('slip', 1)\n",
    "print atom1.prop('slip', 2)"
   ]
  },
  {
   "cell_type": "code",
   "execution_count": 9,
   "metadata": {
    "collapsed": false
   },
   "outputs": [
    {
     "name": "stdout",
     "output_type": "stream",
     "text": [
      "[[11 12 13 14 15 16]\n",
      " [21 22 23 24 25 26]\n",
      " [31 32 33 34 35 36]\n",
      " [41 42 43 44 45 46]\n",
      " [51 52 53 54 55 56]\n",
      " [61 62 63 64 65 66]]\n"
     ]
    }
   ],
   "source": [
    "atom1.prop('stress', [[11, 12, 13, 14, 15, 16],\n",
    "                      [21, 22, 23, 24, 25, 26],\n",
    "                      [31, 32, 33, 34, 35, 36],\n",
    "                      [41, 42, 43, 44, 45, 46],\n",
    "                      [51, 52, 53, 54, 55, 56],\n",
    "                      [61, 62, 63, 64, 65, 66]])\n",
    "print atom1.prop('stress')"
   ]
  },
  {
   "cell_type": "code",
   "execution_count": 10,
   "metadata": {
    "collapsed": false
   },
   "outputs": [
    {
     "name": "stdout",
     "output_type": "stream",
     "text": [
      "[11 12 13 14 15 16]\n",
      "\n",
      "12\n",
      "['atype', 'pos', 'charge', 'slip', 'stress']\n"
     ]
    }
   ],
   "source": [
    "print atom1.prop('stress', 0)\n",
    "print\n",
    "print atom1.prop('stress', 0, 1)\n",
    "print atom1.prop_list()"
   ]
  },
  {
   "cell_type": "code",
   "execution_count": 11,
   "metadata": {
    "collapsed": false
   },
   "outputs": [],
   "source": [
    "atom1.prop('stress', [[11, 12, 13, 14, 15, 16],\n",
    "                      [21, 22, 23, 24, 25, 26],\n",
    "                      [31, 32, 33, 34, 35, 36],\n",
    "                      [41, 42, 43, 44, 45, 46],\n",
    "                      [51, 52, 53, 54, 55, 56],\n",
    "                      [61, 62, 63, 64, 65, 66]])"
   ]
  },
  {
   "cell_type": "markdown",
   "metadata": {},
   "source": [
    "##Box class\n",
    "\n",
    "__The Box class defines a geometric parallelopid which can be used to define any system that can be periodic in all three directions.  In this way, the parameters of the Box can be associated with either an entire atomic system, or a single unit cell.__"
   ]
  },
  {
   "cell_type": "code",
   "execution_count": 12,
   "metadata": {
    "collapsed": true
   },
   "outputs": [],
   "source": [
    "box1 = iprpy.Box()"
   ]
  },
  {
   "cell_type": "markdown",
   "metadata": {},
   "source": [
    "__By default, the box is initialized to be a unit cube with direction vectors [1, 0, 0], [0, 1, 0], [0, 0, 1] and origin at [0, 0, 0].  The parameters of the box can be retrieved in a number of different formats using the get() method.__"
   ]
  },
  {
   "cell_type": "code",
   "execution_count": 13,
   "metadata": {
    "collapsed": false
   },
   "outputs": [
    {
     "name": "stdout",
     "output_type": "stream",
     "text": [
      "Vector representation:\n",
      "avect  = [ 1.  0.  0.]\n",
      "bvect  = [ 0.  1.  0.]\n",
      "cvect  = [ 0.  0.  1.]\n",
      "origin = [ 0.  0.  0.]\n",
      "\n",
      "Crystallographic representation:\n",
      "a     = 1.0\n",
      "b     = 1.0\n",
      "c     = 1.0\n",
      "alpha = 90.0\n",
      "beta  = 90.0\n",
      "gamma = 90.0\n",
      "\n",
      "LAMMPS representations:\n",
      "xlo xhi  = 0.0 1.0\n",
      "ylo yhi  = 0.0 1.0\n",
      "zlo zhi  = 0.0 1.0\n",
      "lx ly lz = 1.0 1.0 1.0\n",
      "xy xz yz = 0.0 0.0 0.0\n"
     ]
    }
   ],
   "source": [
    "print 'Vector representation:'\n",
    "print 'avect  =', box1.get('avect')\n",
    "print 'bvect  =', box1.get('bvect')\n",
    "print 'cvect  =', box1.get('cvect')\n",
    "print 'origin =', box1.get('origin')\n",
    "print \n",
    "print 'Crystallographic representation:'\n",
    "print 'a     =', box1.get('a')\n",
    "print 'b     =', box1.get('b')\n",
    "print 'c     =', box1.get('c')\n",
    "print 'alpha =', box1.get('alpha')\n",
    "print 'beta  =', box1.get('beta')\n",
    "print 'gamma =', box1.get('gamma')\n",
    "print\n",
    "print 'LAMMPS representations:'\n",
    "print 'xlo xhi  =', box1.get('xlo'), box1.get('xhi')\n",
    "print 'ylo yhi  =', box1.get('ylo'), box1.get('yhi')\n",
    "print 'zlo zhi  =', box1.get('zlo'), box1.get('zhi')\n",
    "print 'lx ly lz =', box1.get('lx'), box1.get('ly'), box1.get('lz')\n",
    "print 'xy xz yz =', box1.get('xy'), box1.get('xz'), box1.get('yz')"
   ]
  },
  {
   "cell_type": "markdown",
   "metadata": {},
   "source": [
    "__The initilizer also allows for Boxes to be constructed by setting any of these above parameters.  However, as the different parameters are not independent of each other, setting the Box parameters is controlled through three different set methods.  The initilizer will call one of the set methods if all supplied parameters are consistent with that method.__  \n",
    "\n",
    "__Note that the various components of the box cannot be independenly set. Rather, all necessary components must be given at the same time either when the Box is created, or using one of the three set methods.__"
   ]
  },
  {
   "cell_type": "markdown",
   "metadata": {},
   "source": [
    "###set_vectors()\n",
    "\n",
    "__The set_vectors() method allows for the Box to be defined using the 3D direction vectors:__"
   ]
  },
  {
   "cell_type": "code",
   "execution_count": 14,
   "metadata": {
    "collapsed": false
   },
   "outputs": [
    {
     "name": "stdout",
     "output_type": "stream",
     "text": [
      "Vector representation:\n",
      "avect  = [ 2.4  0.   0. ]\n",
      "bvect  = [ 0.   3.2  0. ]\n",
      "cvect  = [ 0.   0.   2.7]\n",
      "origin = [1, 1, 1]\n",
      "\n",
      "Crystallographic representation:\n",
      "a     = 2.4\n",
      "b     = 3.2\n",
      "c     = 2.7\n",
      "alpha = 90.0\n",
      "beta  = 90.0\n",
      "gamma = 90.0\n",
      "\n",
      "LAMMPS representations:\n",
      "xlo xhi  = 1 3.4\n",
      "ylo yhi  = 1 4.2\n",
      "zlo zhi  = 1 3.7\n",
      "lx ly lz = 2.4 3.2 2.7\n",
      "xy xz yz = 0.0 0.0 0.0\n"
     ]
    }
   ],
   "source": [
    "box1.set_vectors(avect = [2.4, 0.0, 0.0], \n",
    "                 bvect = [0.0, 3.2, 0.0], \n",
    "                 cvect = [0.0, 0.0, 2.7], \n",
    "                 origin = [1, 1, 1])\n",
    "\n",
    "print 'Vector representation:'\n",
    "print 'avect  =', box1.get('avect')\n",
    "print 'bvect  =', box1.get('bvect')\n",
    "print 'cvect  =', box1.get('cvect')\n",
    "print 'origin =', box1.get('origin')\n",
    "print \n",
    "print 'Crystallographic representation:'\n",
    "print 'a     =', box1.get('a')\n",
    "print 'b     =', box1.get('b')\n",
    "print 'c     =', box1.get('c')\n",
    "print 'alpha =', box1.get('alpha')\n",
    "print 'beta  =', box1.get('beta')\n",
    "print 'gamma =', box1.get('gamma')\n",
    "print\n",
    "print 'LAMMPS representations:'\n",
    "print 'xlo xhi  =', box1.get('xlo'), box1.get('xhi')\n",
    "print 'ylo yhi  =', box1.get('ylo'), box1.get('yhi')\n",
    "print 'zlo zhi  =', box1.get('zlo'), box1.get('zhi')\n",
    "print 'lx ly lz =', box1.get('lx'), box1.get('ly'), box1.get('lz')\n",
    "print 'xy xz yz =', box1.get('xy'), box1.get('xz'), box1.get('yz')"
   ]
  },
  {
   "cell_type": "markdown",
   "metadata": {},
   "source": [
    "__For set vectors avect, bvect and cvect must always be supplied, and they must follow the right hand rule. If origin is not given, then it is set to [0, 0, 0].  Also, the vectors are always transformed to be consistent with how LAMMPS defines them, i.e. avect[1] == avect[2] == bvect[2] == 0.__"
   ]
  },
  {
   "cell_type": "code",
   "execution_count": 15,
   "metadata": {
    "collapsed": false
   },
   "outputs": [
    {
     "name": "stdout",
     "output_type": "stream",
     "text": [
      "Vector representation:\n",
      "avect  = [ 2.40416306  0.          0.        ]\n",
      "bvect  = [ 0.39098846  3.34322121  0.        ]\n",
      "cvect  = [-0.56568542  1.88177093  2.21109434]\n",
      "origin = [ 0.  0.  0.]\n",
      "\n",
      "Crystallographic representation:\n",
      "a     = 2.40416305603\n",
      "b     = 3.36600653594\n",
      "c     = 2.95803989155\n",
      "alpha = 52.4369027887\n",
      "beta  = 101.024958242\n",
      "gamma = 83.3295810437\n",
      "\n",
      "LAMMPS representations:\n",
      "xlo xhi  = 0.0 2.40416305603\n",
      "ylo yhi  = 0.0 3.34322120532\n",
      "zlo zhi  = 0.0 2.21109433854\n",
      "lx ly lz = 2.40416305603 3.34322120532 2.21109433854\n",
      "xy xz yz = 0.39098845548 -0.565685424949 1.88177092816\n"
     ]
    }
   ],
   "source": [
    "box1.set_vectors(avect = [2.4, 0.1, -0.1], \n",
    "                 bvect = [0.3, 3.2, 1.0], \n",
    "                 cvect = [-0.5, 1.1, 2.7])\n",
    "\n",
    "print 'Vector representation:'\n",
    "print 'avect  =', box1.get('avect')\n",
    "print 'bvect  =', box1.get('bvect')\n",
    "print 'cvect  =', box1.get('cvect')\n",
    "print 'origin =', box1.get('origin')\n",
    "print \n",
    "print 'Crystallographic representation:'\n",
    "print 'a     =', box1.get('a')\n",
    "print 'b     =', box1.get('b')\n",
    "print 'c     =', box1.get('c')\n",
    "print 'alpha =', box1.get('alpha')\n",
    "print 'beta  =', box1.get('beta')\n",
    "print 'gamma =', box1.get('gamma')\n",
    "print\n",
    "print 'LAMMPS representations:'\n",
    "print 'xlo xhi  =', box1.get('xlo'), box1.get('xhi')\n",
    "print 'ylo yhi  =', box1.get('ylo'), box1.get('yhi')\n",
    "print 'zlo zhi  =', box1.get('zlo'), box1.get('zhi')\n",
    "print 'lx ly lz =', box1.get('lx'), box1.get('ly'), box1.get('lz')\n",
    "print 'xy xz yz =', box1.get('xy'), box1.get('xz'), box1.get('yz')"
   ]
  },
  {
   "cell_type": "markdown",
   "metadata": {},
   "source": [
    "###set_abc()\n",
    "\n",
    "__The set_abc() method is used to define the system using crystallographic parameters:__  "
   ]
  },
  {
   "cell_type": "code",
   "execution_count": 16,
   "metadata": {
    "collapsed": false
   },
   "outputs": [
    {
     "name": "stdout",
     "output_type": "stream",
     "text": [
      "Vector representation:\n",
      "avect  = [ 4.5  0.   0. ]\n",
      "bvect  = [ 0.   4.5  0. ]\n",
      "cvect  = [ 0.   0.   4.5]\n",
      "origin = [-2.25, -2.25, -2.25]\n",
      "\n",
      "Crystallographic representation:\n",
      "a     = 4.5\n",
      "b     = 4.5\n",
      "c     = 4.5\n",
      "alpha = 90.0\n",
      "beta  = 90.0\n",
      "gamma = 90.0\n",
      "\n",
      "LAMMPS representations:\n",
      "xlo xhi  = -2.25 2.25\n",
      "ylo yhi  = -2.25 2.25\n",
      "zlo zhi  = -2.25 2.25\n",
      "lx ly lz = 4.5 4.5 4.5\n",
      "xy xz yz = 0.0 0.0 0.0\n"
     ]
    }
   ],
   "source": [
    "box1.set_abc(a = 4.5, \n",
    "             b = 4.5, \n",
    "             c = 4.5, \n",
    "             alpha = 90, \n",
    "             beta = 90, \n",
    "             gamma = 90,\n",
    "             origin = [-2.25, -2.25, -2.25])\n",
    "\n",
    "print 'Vector representation:'\n",
    "print 'avect  =', box1.get('avect')\n",
    "print 'bvect  =', box1.get('bvect')\n",
    "print 'cvect  =', box1.get('cvect')\n",
    "print 'origin =', box1.get('origin')\n",
    "print \n",
    "print 'Crystallographic representation:'\n",
    "print 'a     =', box1.get('a')\n",
    "print 'b     =', box1.get('b')\n",
    "print 'c     =', box1.get('c')\n",
    "print 'alpha =', box1.get('alpha')\n",
    "print 'beta  =', box1.get('beta')\n",
    "print 'gamma =', box1.get('gamma')\n",
    "print\n",
    "print 'LAMMPS representations:'\n",
    "print 'xlo xhi  =', box1.get('xlo'), box1.get('xhi')\n",
    "print 'ylo yhi  =', box1.get('ylo'), box1.get('yhi')\n",
    "print 'zlo zhi  =', box1.get('zlo'), box1.get('zhi')\n",
    "print 'lx ly lz =', box1.get('lx'), box1.get('ly'), box1.get('lz')\n",
    "print 'xy xz yz =', box1.get('xy'), box1.get('xz'), box1.get('yz')"
   ]
  },
  {
   "cell_type": "markdown",
   "metadata": {},
   "source": [
    "__By default, any unsupplied angles (alpha, beta, and gamma) are automatically assumed to be 90, and the origin at [0,0,0].__  "
   ]
  },
  {
   "cell_type": "code",
   "execution_count": 17,
   "metadata": {
    "collapsed": false
   },
   "outputs": [
    {
     "name": "stdout",
     "output_type": "stream",
     "text": [
      "Vector representation:\n",
      "avect  = [ 3.2  0.   0. ]\n",
      "bvect  = [ 0.   3.2  0. ]\n",
      "cvect  = [ 0.   0.   3.2]\n",
      "origin = [ 0.  0.  0.]\n",
      "\n",
      "Crystallographic representation:\n",
      "a     = 3.2\n",
      "b     = 3.2\n",
      "c     = 3.2\n",
      "alpha = 90.0\n",
      "beta  = 90.0\n",
      "gamma = 90.0\n",
      "\n",
      "LAMMPS representations:\n",
      "xlo xhi  = 0.0 3.2\n",
      "ylo yhi  = 0.0 3.2\n",
      "zlo zhi  = 0.0 3.2\n",
      "lx ly lz = 3.2 3.2 3.2\n",
      "xy xz yz = 0.0 0.0 0.0\n"
     ]
    }
   ],
   "source": [
    "box1.set_abc(a = 3.2, \n",
    "             b = 3.2, \n",
    "             c = 3.2)\n",
    "\n",
    "print 'Vector representation:'\n",
    "print 'avect  =', box1.get('avect')\n",
    "print 'bvect  =', box1.get('bvect')\n",
    "print 'cvect  =', box1.get('cvect')\n",
    "print 'origin =', box1.get('origin')\n",
    "print \n",
    "print 'Crystallographic representation:'\n",
    "print 'a     =', box1.get('a')\n",
    "print 'b     =', box1.get('b')\n",
    "print 'c     =', box1.get('c')\n",
    "print 'alpha =', box1.get('alpha')\n",
    "print 'beta  =', box1.get('beta')\n",
    "print 'gamma =', box1.get('gamma')\n",
    "print\n",
    "print 'LAMMPS representations:'\n",
    "print 'xlo xhi  =', box1.get('xlo'), box1.get('xhi')\n",
    "print 'ylo yhi  =', box1.get('ylo'), box1.get('yhi')\n",
    "print 'zlo zhi  =', box1.get('zlo'), box1.get('zhi')\n",
    "print 'lx ly lz =', box1.get('lx'), box1.get('ly'), box1.get('lz')\n",
    "print 'xy xz yz =', box1.get('xy'), box1.get('xz'), box1.get('yz')"
   ]
  },
  {
   "cell_type": "markdown",
   "metadata": {},
   "source": [
    "__The three lattice constants a, b, and c either all must be given, or none given.  If they are not given, then they are all set equal to 1.0__"
   ]
  },
  {
   "cell_type": "code",
   "execution_count": 18,
   "metadata": {
    "collapsed": false
   },
   "outputs": [
    {
     "name": "stdout",
     "output_type": "stream",
     "text": [
      "Vector representation:\n",
      "avect  = [ 1.  0.  0.]\n",
      "bvect  = [ 0.  1.  0.]\n",
      "cvect  = [ 0.          0.25881905  0.96592583]\n",
      "origin = [ 0.  0.  0.]\n",
      "\n",
      "Crystallographic representation:\n",
      "a     = 1.0\n",
      "b     = 1.0\n",
      "c     = 1.0\n",
      "alpha = 75.0\n",
      "beta  = 90.0\n",
      "gamma = 90.0\n",
      "\n",
      "LAMMPS representations:\n",
      "xlo xhi  = 0.0 1.0\n",
      "ylo yhi  = 0.0 1.0\n",
      "zlo zhi  = 0.0 0.965925826289\n",
      "lx ly lz = 1.0 1.0 0.965925826289\n",
      "xy xz yz = 0.0 0.0 0.258819045103\n",
      "\n",
      "This next line is supposed to fail:\n"
     ]
    }
   ],
   "source": [
    "box1.set_abc(alpha = 75)\n",
    "\n",
    "print 'Vector representation:'\n",
    "print 'avect  =', box1.get('avect')\n",
    "print 'bvect  =', box1.get('bvect')\n",
    "print 'cvect  =', box1.get('cvect')\n",
    "print 'origin =', box1.get('origin')\n",
    "print \n",
    "print 'Crystallographic representation:'\n",
    "print 'a     =', box1.get('a')\n",
    "print 'b     =', box1.get('b')\n",
    "print 'c     =', box1.get('c')\n",
    "print 'alpha =', box1.get('alpha')\n",
    "print 'beta  =', box1.get('beta')\n",
    "print 'gamma =', box1.get('gamma')\n",
    "print\n",
    "print 'LAMMPS representations:'\n",
    "print 'xlo xhi  =', box1.get('xlo'), box1.get('xhi')\n",
    "print 'ylo yhi  =', box1.get('ylo'), box1.get('yhi')\n",
    "print 'zlo zhi  =', box1.get('zlo'), box1.get('zhi')\n",
    "print 'lx ly lz =', box1.get('lx'), box1.get('ly'), box1.get('lz')\n",
    "print 'xy xz yz =', box1.get('xy'), box1.get('xz'), box1.get('yz')\n",
    "\n",
    "print\n",
    "print 'This next line is supposed to fail:'\n",
    "#box1.set_abc(a = 5.2)\n"
   ]
  },
  {
   "cell_type": "markdown",
   "metadata": {},
   "source": [
    "###set_lengths()\n",
    "\n",
    "__The set_lengths() method allows for the Box parameters to be set using the LAMMPS style parameters for the lengths, tilt factors, and hi/lo values.  This method allows for two different Box representations to be used during the creation:__\n",
    "\n",
    "- lengths + tilts + origin\n",
    "- his + los + tilts\n",
    "\n",
    "__Mixing parameters of these two representations is not allowed (eg. origin cannot be defined if hi-los are used).  For the lengths representation, origin will be taken to be (0,0,0) if not supplied.  And for both, the tilts (xy, xz and yz) are assumed to be zero if not given.__"
   ]
  },
  {
   "cell_type": "code",
   "execution_count": 19,
   "metadata": {
    "collapsed": false
   },
   "outputs": [
    {
     "name": "stdout",
     "output_type": "stream",
     "text": [
      "Vector representation:\n",
      "avect  = [ 5.  0.  0.]\n",
      "bvect  = [ 0.5  4.   0. ]\n",
      "cvect  = [ 0.   0.   2.9]\n",
      "origin = [ 0.  0.  0.]\n",
      "\n",
      "Crystallographic representation:\n",
      "a     = 5.0\n",
      "b     = 4.03112887415\n",
      "c     = 2.9\n",
      "alpha = 90.0\n",
      "beta  = 90.0\n",
      "gamma = 82.8749836511\n",
      "\n",
      "LAMMPS representations:\n",
      "xlo xhi  = 0.0 5.0\n",
      "ylo yhi  = 0.0 4.0\n",
      "zlo zhi  = 0.0 2.9\n",
      "lx ly lz = 5.0 4.0 2.9\n",
      "xy xz yz = 0.5 0.0 0.0\n"
     ]
    }
   ],
   "source": [
    "box1.set_lengths(lx = 5, \n",
    "                 ly = 4, \n",
    "                 lz = 2.9, \n",
    "                 xy=0.5)\n",
    "\n",
    "print 'Vector representation:'\n",
    "print 'avect  =', box1.get('avect')\n",
    "print 'bvect  =', box1.get('bvect')\n",
    "print 'cvect  =', box1.get('cvect')\n",
    "print 'origin =', box1.get('origin')\n",
    "print \n",
    "print 'Crystallographic representation:'\n",
    "print 'a     =', box1.get('a')\n",
    "print 'b     =', box1.get('b')\n",
    "print 'c     =', box1.get('c')\n",
    "print 'alpha =', box1.get('alpha')\n",
    "print 'beta  =', box1.get('beta')\n",
    "print 'gamma =', box1.get('gamma')\n",
    "print\n",
    "print 'LAMMPS representations:'\n",
    "print 'xlo xhi  =', box1.get('xlo'), box1.get('xhi')\n",
    "print 'ylo yhi  =', box1.get('ylo'), box1.get('yhi')\n",
    "print 'zlo zhi  =', box1.get('zlo'), box1.get('zhi')\n",
    "print 'lx ly lz =', box1.get('lx'), box1.get('ly'), box1.get('lz')\n",
    "print 'xy xz yz =', box1.get('xy'), box1.get('xz'), box1.get('yz')"
   ]
  },
  {
   "cell_type": "code",
   "execution_count": 20,
   "metadata": {
    "collapsed": false
   },
   "outputs": [
    {
     "name": "stdout",
     "output_type": "stream",
     "text": [
      "Vector representation:\n",
      "avect  = [ 6.  0.  0.]\n",
      "bvect  = [ 0.  8.  0.]\n",
      "cvect  = [  2.6   0.   16.9]\n",
      "origin = [-2.  -2.  -2.9]\n",
      "\n",
      "Crystallographic representation:\n",
      "a     = 6.0\n",
      "b     = 8.0\n",
      "c     = 17.0988303694\n",
      "alpha = 90.0\n",
      "beta  = 81.2538377374\n",
      "gamma = 90.0\n",
      "\n",
      "LAMMPS representations:\n",
      "xlo xhi  = -2.0 4.0\n",
      "ylo yhi  = -2.0 6.0\n",
      "zlo zhi  = -2.9 14.0\n",
      "lx ly lz = 6.0 8.0 16.9\n",
      "xy xz yz = 0.0 2.6 0.0\n"
     ]
    }
   ],
   "source": [
    "box1.set_lengths(xlo = -2, \n",
    "                 xhi = 4, \n",
    "                 ylo = -2, \n",
    "                 yhi = 6, \n",
    "                 zlo = -2.9, \n",
    "                 zhi = 14, \n",
    "                 xz = 2.6)\n",
    "\n",
    "print 'Vector representation:'\n",
    "print 'avect  =', box1.get('avect')\n",
    "print 'bvect  =', box1.get('bvect')\n",
    "print 'cvect  =', box1.get('cvect')\n",
    "print 'origin =', box1.get('origin')\n",
    "print \n",
    "print 'Crystallographic representation:'\n",
    "print 'a     =', box1.get('a')\n",
    "print 'b     =', box1.get('b')\n",
    "print 'c     =', box1.get('c')\n",
    "print 'alpha =', box1.get('alpha')\n",
    "print 'beta  =', box1.get('beta')\n",
    "print 'gamma =', box1.get('gamma')\n",
    "print\n",
    "print 'LAMMPS representations:'\n",
    "print 'xlo xhi  =', box1.get('xlo'), box1.get('xhi')\n",
    "print 'ylo yhi  =', box1.get('ylo'), box1.get('yhi')\n",
    "print 'zlo zhi  =', box1.get('zlo'), box1.get('zhi')\n",
    "print 'lx ly lz =', box1.get('lx'), box1.get('ly'), box1.get('lz')\n",
    "print 'xy xz yz =', box1.get('xy'), box1.get('xz'), box1.get('yz')"
   ]
  },
  {
   "cell_type": "markdown",
   "metadata": {},
   "source": [
    "##System class\n",
    "\n",
    "__The System class is a combination of a Box, box, a list of Atoms, atoms, and a tuple of three booleans, pbc.  The system is initilized by giving values for these three components.  If box is not supplied, then the default Box is used.  If atoms is not supplied, then a blank list is used.  And if pbc is not supplied, the value is set to (True, True, True) indicating that all three directions are periodic.__"
   ]
  },
  {
   "cell_type": "code",
   "execution_count": 21,
   "metadata": {
    "collapsed": false
   },
   "outputs": [],
   "source": [
    "sys0 = iprpy.System()\n",
    "\n",
    "sys1 = iprpy.System(box = iprpy.Box(a=3.54, b=3.54, c=3.54),\n",
    "                    atoms = [iprpy.Atom(1, (0.00, 0.00, 0.00)),\n",
    "                             iprpy.Atom(1, (1.77, 1.77, 0.00)),\n",
    "                             iprpy.Atom(1, (0.00, 1.77, 1.77)),\n",
    "                             iprpy.Atom(1, (1.77, 0.00, 1.77))],\n",
    "                    pbc = (True, True, True))               "
   ]
  },
  {
   "cell_type": "markdown",
   "metadata": {},
   "source": [
    "__Similar to the Atom class, appropriately named methods are used to get and set different parameters.__"
   ]
  },
  {
   "cell_type": "markdown",
   "metadata": {},
   "source": [
    "__pbc values can be retrieved and set with pbc():__"
   ]
  },
  {
   "cell_type": "code",
   "execution_count": 22,
   "metadata": {
    "collapsed": false
   },
   "outputs": [
    {
     "name": "stdout",
     "output_type": "stream",
     "text": [
      "sys0.pbc() returns: (True, True, True)\n",
      "sys0.pbc(0) returns: True\n",
      "\n",
      "sys0.pbc(0) returns: False\n"
     ]
    }
   ],
   "source": [
    "print 'sys0.pbc() returns:', sys0.pbc()\n",
    "print 'sys0.pbc(0) returns:', sys0.pbc(0)\n",
    "print\n",
    "\n",
    "sys0.pbc(0, False)\n",
    "print 'sys0.pbc(0) returns:', sys0.pbc(0)"
   ]
  },
  {
   "cell_type": "markdown",
   "metadata": {},
   "source": [
    "__The Box and the individual parameters can be accessed using box().  This method, however, does not allow for the box parameters to be set or changed as a separate deform() method is needed to properly handle changes in atom positions due to the box changing (deform() not added yet).__"
   ]
  },
  {
   "cell_type": "code",
   "execution_count": 23,
   "metadata": {
    "collapsed": false
   },
   "outputs": [
    {
     "name": "stdout",
     "output_type": "stream",
     "text": [
      "sys0.box() returns: <iprpy.Box.Box instance at 0x000000000464FDC8>\n",
      "\n",
      "sys0.box('avect') returns: [ 1.  0.  0.]\n",
      "sys0.box('bvect') returns: [ 0.  1.  0.]\n",
      "sys0.box('cvect') returns: [ 0.  0.  1.]\n",
      "sys0.box('origin') returns: [ 0.  0.  0.]\n",
      "\n",
      "sys0.box('a') returns: 1.0\n",
      "sys0.box('b') returns: 1.0\n",
      "sys0.box('c') returns: 1.0\n",
      "sys0.box('alpha') returns: 90.0\n",
      "sys0.box('beta') returns: 90.0\n",
      "sys0.box('gamma') returns: 90.0\n",
      "\n",
      "sys0.box('xlo') returns: 0.0\n",
      "sys0.box('xhi') returns: 1.0\n",
      "sys0.box('ylo') returns: 0.0\n",
      "sys0.box('yhi') returns: 1.0\n",
      "sys0.box('zlo') returns: 0.0\n",
      "sys0.box('zhi') returns: 1.0\n",
      "sys0.box('lx') returns: 1.0\n",
      "sys0.box('ly') returns: 1.0\n",
      "sys0.box('lz') returns: 1.0\n",
      "sys0.box('xy') returns: 0.0\n",
      "sys0.box('xz') returns: 0.0\n",
      "sys0.box('yz') returns: 0.0\n"
     ]
    }
   ],
   "source": [
    "print \"sys0.box() returns:\", sys0.box()\n",
    "print\n",
    "print \"sys0.box('avect') returns:\", sys0.box('avect')\n",
    "print \"sys0.box('bvect') returns:\", sys0.box('bvect')\n",
    "print \"sys0.box('cvect') returns:\", sys0.box('cvect')\n",
    "print \"sys0.box('origin') returns:\", sys0.box('origin')\n",
    "print\n",
    "print \"sys0.box('a') returns:\", sys0.box('a')\n",
    "print \"sys0.box('b') returns:\", sys0.box('b')\n",
    "print \"sys0.box('c') returns:\", sys0.box('c')\n",
    "print \"sys0.box('alpha') returns:\", sys0.box('alpha')\n",
    "print \"sys0.box('beta') returns:\", sys0.box('beta')\n",
    "print \"sys0.box('gamma') returns:\", sys0.box('gamma')\n",
    "print\n",
    "print \"sys0.box('xlo') returns:\", sys0.box('xlo')\n",
    "print \"sys0.box('xhi') returns:\", sys0.box('yhi')\n",
    "print \"sys0.box('ylo') returns:\", sys0.box('ylo')\n",
    "print \"sys0.box('yhi') returns:\", sys0.box('yhi')\n",
    "print \"sys0.box('zlo') returns:\", sys0.box('zlo')\n",
    "print \"sys0.box('zhi') returns:\", sys0.box('zhi')\n",
    "print \"sys0.box('lx') returns:\", sys0.box('lx')\n",
    "print \"sys0.box('ly') returns:\", sys0.box('ly')\n",
    "print \"sys0.box('lz') returns:\", sys0.box('lz')\n",
    "print \"sys0.box('xy') returns:\", sys0.box('xy')\n",
    "print \"sys0.box('xz') returns:\", sys0.box('xz')\n",
    "print \"sys0.box('yz') returns:\", sys0.box('yz')"
   ]
  },
  {
   "cell_type": "markdown",
   "metadata": {},
   "source": [
    "__The list of Atoms and individual atomic properties can be accessed using the atoms() method.  The order of optional arguments can be thought of as: index, property, value.__"
   ]
  },
  {
   "cell_type": "code",
   "execution_count": 24,
   "metadata": {
    "collapsed": false
   },
   "outputs": [
    {
     "name": "stdout",
     "output_type": "stream",
     "text": [
      "sys1.atoms() returns [<iprpy.Atom.Atom instance at 0x0000000004721E88>, <iprpy.Atom.Atom instance at 0x0000000004721AC8>, <iprpy.Atom.Atom instance at 0x0000000004721A08>, <iprpy.Atom.Atom instance at 0x00000000047219C8>]\n",
      "\n",
      "sys1.natoms() returns the number of atoms: 4\n",
      "sys1.natypes() returns the largest atype: 1\n",
      "\n",
      "sys1.atoms(1) returns 1 1.7700000000000e+00 1.7700000000000e+00 0.0000000000000e+00\n",
      "sys1.atoms(1, 'atype') returns 1\n",
      "sys1.atoms(1, 'pos') returns [ 1.77  1.77  0.  ]\n",
      "sys1.atoms(1, 'pos', 0) returns 1.77\n",
      "sys1.atoms(1, 'pos', 1) returns 1.77\n",
      "sys1.atoms(1, 'pos', 2) returns 0.0\n",
      "\n",
      "set value using sys1.atoms(1, 'atype', 2)\n",
      "sys1.atoms(1, 'atype') returns 2\n",
      "set value using sys1.atoms(1, 'pos', (1.65, 1.89, 0.10))\n",
      "sys1.atoms(1, 'pos') returns [ 1.65  1.89  0.1 ]\n",
      "\n",
      "sys1.atoms(1, 'my_prop') returns None\n",
      "set value using sys1.atoms(1, 'my_prop', 42)\n",
      "sys1.atoms(1, 'my_prop') returns 42\n"
     ]
    }
   ],
   "source": [
    "print \"sys1.atoms() returns\", sys1.atoms()\n",
    "print \n",
    "print \"sys1.natoms() returns the number of atoms:\", sys1.natoms()\n",
    "print \"sys1.natypes() returns the largest atype:\", sys1.natypes()\n",
    "print\n",
    "print \"sys1.atoms(1) returns\", sys1.atoms(1)\n",
    "print \"sys1.atoms(1, 'atype') returns\", sys1.atoms(1, 'atype')\n",
    "print \"sys1.atoms(1, 'pos') returns\", sys1.atoms(1, 'pos')\n",
    "print \"sys1.atoms(1, 'pos', 0) returns\", sys1.atoms(1, 'pos', 0)\n",
    "print \"sys1.atoms(1, 'pos', 1) returns\", sys1.atoms(1, 'pos', 1)\n",
    "print \"sys1.atoms(1, 'pos', 2) returns\", sys1.atoms(1, 'pos', 2)\n",
    "print \n",
    "\n",
    "print \"set value using sys1.atoms(1, 'atype', 2)\"\n",
    "sys1.atoms(1, 'atype', 2)\n",
    "print \"sys1.atoms(1, 'atype') returns\", sys1.atoms(1, 'atype')\n",
    "print \"set value using sys1.atoms(1, 'pos', (1.65, 1.89, 0.10))\"\n",
    "sys1.atoms(1, 'pos', (1.65, 1.89, 0.10))\n",
    "print \"sys1.atoms(1, 'pos') returns\", sys1.atoms(1, 'pos')\n",
    "print \n",
    "\n",
    "print \"sys1.atoms(1, 'my_prop') returns\", sys1.atoms(1, 'my_prop')\n",
    "print \"set value using sys1.atoms(1, 'my_prop', 42)\"\n",
    "sys1.atoms(1, 'my_prop', 42)\n",
    "print \"sys1.atoms(1, 'my_prop') returns\", sys1.atoms(1, 'my_prop')"
   ]
  },
  {
   "cell_type": "markdown",
   "metadata": {},
   "source": [
    "__Also, now that the atoms and the Box are tied together, the atomic positions can be given and assigned in scaled fractional coordinates as well.  These are accessed by including scale=True in the arguments for any basic system method that sets or returns atomic values.  Note that accessing the different components of position doesn't work with scale=True.  Not sure that this should be allowed...__"
   ]
  },
  {
   "cell_type": "code",
   "execution_count": 25,
   "metadata": {
    "collapsed": false
   },
   "outputs": [
    {
     "name": "stdout",
     "output_type": "stream",
     "text": [
      "Atom 1 at Cartesian position: [ 2.5  2.5  2.5]\n",
      "Atom 1 at fractional position: [ 0.5  0.5  0.5]\n",
      "\n",
      "Atom 1 being set at fractional position using sys2.atoms(1, 'pos', (0.25, 0.5, 0.5), scale=True)\n",
      "Atom 1 at Cartesian position: [ 1.25  2.5   2.5 ]\n",
      "Atom 1 at fractional position: [ 0.25  0.5   0.5 ]\n"
     ]
    }
   ],
   "source": [
    "sys2 = iprpy.System(box = iprpy.Box(a=5, b=5, c=5),\n",
    "                    atoms = [iprpy.Atom(1, (0.0, 0.0, 0.0)),\n",
    "                             iprpy.Atom(1, (0.5, 0.5, 0.5))],\n",
    "                    scale = True)\n",
    "\n",
    "print \"Atom 1 at Cartesian position:\", sys2.atoms(1, 'pos')\n",
    "print \"Atom 1 at fractional position:\", sys2.atoms(1, 'pos', scale=True)\n",
    "print \n",
    "print \"Atom 1 being set at fractional position using sys2.atoms(1, 'pos', (0.25, 0.5, 0.5), scale=True)\"\n",
    "sys2.atoms(1, 'pos', (0.25, 0.5, 0.5), scale=True)\n",
    "print \"Atom 1 at Cartesian position:\", sys2.atoms(1, 'pos')\n",
    "print \"Atom 1 at fractional position:\", sys2.atoms(1, 'pos', scale=True)"
   ]
  },
  {
   "cell_type": "markdown",
   "metadata": {},
   "source": [
    "__Other methods can also be handled at the System level that are dependent on the atoms, box and pbc.  These methods are:__\n",
    "\n",
    "\n",
    "- scale() converts an atom or 3D vector position from absolute to fractional coordinates.\n",
    "\n",
    "- unscale() converts an atom or 3D vector position from fractional to absolute coordinates.\n",
    "\n",
    "- dvect() gives the shortest distance between two points/atoms in the system by considering the periodic boundaries.\n",
    "\n",
    "- wrap() compares the atomic positions to the box and translates any atoms ouside the periodic box dimensions to an eqivalent position inside the box.\n",
    "\n",
    "- neighbors() constructs a neighbor list for each atom associated with a supplied cutoff value.\n",
    "\n",
    "- pt_defect() creates a duplicate system with a point defect added to it.\n",
    "\n",
    "__The first four of these methods are simple and don't really need much explaining, while the last two are complicated enough that their explanations are better suited elsewhere.__\n"
   ]
  },
  {
   "cell_type": "code",
   "execution_count": 26,
   "metadata": {
    "collapsed": true
   },
   "outputs": [],
   "source": [
    "\n",
    "    for i in xrange(len(sterms)):\n",
    "        try:\n",
    "            start = sterms[i].index('[')\n",
    "            end = sterms[i].index(']')\n",
    "            pname = sterms[i][:start-1]\n",
    "            i_index = int(sterms[i][start:end])\n",
    "            try:\n",
    "                ssterms = sterms[i][end+1]\n",
    "                start = ssterms.index('[')\n",
    "                end = ssterms.index(']')\n",
    "                j_index = int(ssterms[start:end])\n",
    "                sterms[i] = (pname, i_index, j_index)\n",
    "            except:\n",
    "                sterms[i] = (pname, i_index)\n",
    "        except:\n",
    "            pass"
   ]
  },
  {
   "cell_type": "code",
   "execution_count": 63,
   "metadata": {
    "collapsed": false
   },
   "outputs": [
    {
     "name": "stdout",
     "output_type": "stream",
     "text": [
      "['id', 'type', 'x', 'y', 'z', 'slip[1]', 'slip[2]', 'slip[3]', 'nye[1][1]', 'nye[1][2]', 'nye[1][3]', 'nye[2][1]', 'nye[2][2]', 'nye[2][3]', 'nye[3][1]', 'nye[3][2]', 'nye[3][3]']\n",
      "('atype',)\n",
      "[('id',), ('atype',), ('pos', 0), ('pos', 1), ('pos', 2), ('slip', 0), ('slip', 1), ('slip', 2), ('nye', 0, 0), ('nye', 0, 1), ('nye', 0, 2), ('nye', 1, 0), ('nye', 1, 1), ('nye', 1, 2), ('nye', 2, 0), ('nye', 2, 1), ('nye', 2, 2)]\n",
      "['id', 'atype', 'pos', 'slip', 'nye']\n",
      "[(), (), (3L,), (3L,), (3L, 3L)]\n"
     ]
    }
   ],
   "source": [
    "sterms = ['id', 'type', 'x', 'y', 'z', 'slip[1]', 'slip[2]', 'slip[3]', \n",
    "          'nye[1][1]', 'nye[1][2]', 'nye[1][3]', 'nye[2][1]', 'nye[2][2]', 'nye[2][3]', 'nye[3][1]', 'nye[3][2]', 'nye[3][3]']\n",
    "print sterms\n",
    "for i in xrange(len(sterms)):        \n",
    "    try:\n",
    "        start = sterms[i].index('[')\n",
    "        end = sterms[i].index(']')\n",
    "        pname = sterms[i][:start]\n",
    "        i_index = int(sterms[i][start+1:end])\n",
    "        try:\n",
    "            start2 = sterms[i][end+1:].index('[')\n",
    "            end2 = sterms[i][end+1:].index(']')\n",
    "            j_index = int(sterms[i][end+1:][start2+1:end2])\n",
    "            sterms[i] = (pname, i_index-1, j_index-1)\n",
    "        except:\n",
    "            sterms[i] = (pname, i_index-1)\n",
    "    except:\n",
    "        sterms[i] = (sterms[i],)\n",
    "    \n",
    "    #Change special names\n",
    "    if sterms[i][0] == 'type':\n",
    "        assert len(sterms[i]) == 1\n",
    "        sterms[i] = ('atype',)\n",
    "        print sterms[i]\n",
    "    elif sterms[i][0] == 'x':\n",
    "        assert len(sterms[i]) == 1\n",
    "        sterms[i] = ('pos', 0)\n",
    "    elif sterms[i][0] == 'y':\n",
    "        assert len(sterms[i]) == 1\n",
    "        sterms[i] = ('pos', 1)\n",
    "    elif sterms[i][0] == 'z':\n",
    "        assert len(sterms[i]) == 1\n",
    "        sterms[i] = ('pos', 2)\n",
    "    elif sterms[i][0] == 'xs':\n",
    "        assert len(sterms[i]) == 1\n",
    "        sterms[i] = ('spos', 0)\n",
    "    elif sterms[i][0] == 'ys':\n",
    "        assert len(sterms[i]) == 1\n",
    "        sterms[i] = ('spos', 1)\n",
    "    elif sterms[i][0] == 'zs':\n",
    "        assert len(sterms[i]) == 1\n",
    "        sterms[i] = ('spos', 2)\n",
    "    elif sterms[i][0] == 'xu':\n",
    "        assert len(sterms[i]) == 1\n",
    "        sterms[i] = ('pos_u', 0)\n",
    "    elif sterms[i][0] == 'yu':\n",
    "        assert len(sterms[i]) == 1\n",
    "        sterms[i] = ('pos_u', 1)\n",
    "    elif sterms[i][0] == 'zu':\n",
    "        assert len(sterms[i]) == 1\n",
    "        sterms[i] = ('pos_u', 2)\n",
    "    elif sterms[i][0] == 'xsu':\n",
    "        assert len(sterms[i]) == 1\n",
    "        sterms[i] = ('spos_u', 0)\n",
    "    elif sterms[i][0] == 'ysu':\n",
    "        assert len(sterms[i]) == 1\n",
    "        sterms[i] = ('spos_u', 1)\n",
    "    elif sterms[i][0] == 'zsu':\n",
    "        assert len(sterms[i]) == 1\n",
    "        sterms[i] = ('spos_u', 2)\n",
    "    \n",
    "#build prop_list and prop_shape    \n",
    "prop_list = []\n",
    "prop_shape = []\n",
    "for i in xrange(len(sterms)):\n",
    "    if sterms[i][0] not in prop_list:\n",
    "        prop_list.append(sterms[i][0])\n",
    "        if len(sterms[i]) == 1:\n",
    "            prop_shape.append(())\n",
    "        elif len(sterms[i]) == 2:\n",
    "            maxi = 0\n",
    "            for j in xrange(i, len(sterms)):\n",
    "                if sterms[i][0] == sterms[j][0]:\n",
    "                    if sterms[j][1] > maxi:\n",
    "                        maxi = sterms[j][1]\n",
    "            maxi = long(maxi+1)\n",
    "            prop_shape.append((maxi,))\n",
    "        elif len(sterms[i]) == 3:\n",
    "            maxi = 0\n",
    "            maxj = 0\n",
    "            for j in xrange(i, len(sterms)):\n",
    "                if sterms[i][0] == sterms[j][0]:\n",
    "                    if sterms[j][1] > maxi:\n",
    "                        maxi = sterms[j][1]\n",
    "                    if sterms[j][2] > maxj:\n",
    "                        maxj = sterms[j][2]\n",
    "            maxi = long(maxi+1)\n",
    "            maxj = long(maxj+1)\n",
    "            prop_shape.append((maxi, maxj))\n",
    "print sterms\n",
    "print prop_list\n",
    "print prop_shape\n",
    "    \n",
    "        "
   ]
  },
  {
   "cell_type": "code",
   "execution_count": 64,
   "metadata": {
    "collapsed": false
   },
   "outputs": [
    {
     "name": "stdout",
     "output_type": "stream",
     "text": [
      "a 4\n",
      "1241 poo\n"
     ]
    }
   ],
   "source": [
    "prop_dict = {}\n",
    "prop_dict['a'] = 4\n",
    "prop_dict['1241'] = 'poo'\n",
    "\n",
    "for prop_name, prop_value in prop_dict.iteritems():\n",
    "    print prop_name, prop_value"
   ]
  },
  {
   "cell_type": "code",
   "execution_count": null,
   "metadata": {
    "collapsed": true
   },
   "outputs": [],
   "source": []
  }
 ],
 "metadata": {
  "kernelspec": {
   "display_name": "Python 2",
   "language": "python",
   "name": "python2"
  },
  "language_info": {
   "codemirror_mode": {
    "name": "ipython",
    "version": 2
   },
   "file_extension": ".py",
   "mimetype": "text/x-python",
   "name": "python",
   "nbconvert_exporter": "python",
   "pygments_lexer": "ipython2",
   "version": "2.7.10"
  }
 },
 "nbformat": 4,
 "nbformat_minor": 0
}
