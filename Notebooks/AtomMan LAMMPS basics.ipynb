{
 "cells": [
  {
   "cell_type": "markdown",
   "metadata": {},
   "source": [
    "#Demonstration of atomman.lammps code design"
   ]
  },
  {
   "cell_type": "markdown",
   "metadata": {},
   "source": [
    "__The atomman.lammps module has a number of tools for interactions with the LAMMPS molecular dynamics program. The principle actions of atomman.lammps are:__\n",
    "\n",
    "1. Generating the LAMMPS input script lines associated with a given interatomic potential.\n",
    "\n",
    "2. Generating the LAMMPS input script lines associated with creating a new system. \n",
    "\n",
    "3. Exchanging information to/from LAMMPS.\n",
    "\n",
    "__These actions allow for the integration of LAMMPS simulations into a Python framework to facilitate rapid development of new simulations and easy adaption to different potentials or material systems.__"
   ]
  },
  {
   "cell_type": "markdown",
   "metadata": {},
   "source": [
    "##0. Initial Setup"
   ]
  },
  {
   "cell_type": "markdown",
   "metadata": {},
   "source": [
    "###0.1 Python package imports"
   ]
  },
  {
   "cell_type": "code",
   "execution_count": 1,
   "metadata": {
    "collapsed": false
   },
   "outputs": [],
   "source": [
    "#Standard Python Libraries\n",
    "import subprocess\n",
    "import os\n",
    "\n",
    "import numpy as np\n",
    "\n",
    "#Custom package\n",
    "import atomman"
   ]
  },
  {
   "cell_type": "markdown",
   "metadata": {},
   "source": [
    "###0.2 LAMMPS Executable\n",
    "\n",
    "__Running LAMMPS simulations requires having a LAMMPS executable accessible.  This needs to be specified for your system.__"
   ]
  },
  {
   "cell_type": "code",
   "execution_count": 2,
   "metadata": {
    "collapsed": false
   },
   "outputs": [],
   "source": [
    "#Specify which LAMMPS executible to use\n",
    "lammps_exe = 'C:/Users/lmh1/Documents/lmp_serial.exe'\n",
    "\n",
    "#Test that lammps_exe is a file\n",
    "if not os.path.isfile(lammps_exe):\n",
    "    raise ValueError('Could not find LAMMPS executable ' + lammps_exe)"
   ]
  },
  {
   "cell_type": "markdown",
   "metadata": {},
   "source": [
    "##1.  Representing a LAMMPS potential\n",
    "\n",
    "__The LAMMPS molecular dynamics program is capable of performing simulations and calculations using a wide variety of interatomic potentials.  To facilitate this, the LAMMPS input scripts allow for the specification of numerous parameters that define or influence the interatomic interaction models.  Across potentials, the values, types and numbers of necessary parameters may drastically vary.  However, an implementation of a potential into LAMMPS is associated with a particular set of parameters that fully defines that atomistic model.__\n",
    "\n",
    "__The parameter set associated with running LAMMPS with a particular potential implementation can be collected together into a data model.  For AtomMan, a json/XML based data model is used that is capable of fully representing the broad spectrum of interatomic potential parameters in a format that is easily accessible both for human and machine readability. A class atomman.lammps.Potential reads in data model files and handles all conversions, etc. using methods.  This Potential class, along with it being decoupled from System, allows for different interatomic potentials to be easily assigned and exchanged.__"
   ]
  },
  {
   "cell_type": "markdown",
   "metadata": {
    "collapsed": false
   },
   "source": [
    "###1.1 Example data models\n",
    "\n",
    "__This section contains example potential instance data models.  More information on their structure and design can be found in the AtomMan LAMMPS Potential Notebook.__\n",
    "\n",
    "__THESE ARE NOT REAL POTENTIALS! ONLY FOR DEMONSTRATION PURPOSES!__"
   ]
  },
  {
   "cell_type": "markdown",
   "metadata": {},
   "source": [
    "###1.1.1 Simple style potential, i.e. Lennard-Jones."
   ]
  },
  {
   "cell_type": "code",
   "execution_count": 3,
   "metadata": {
    "collapsed": true
   },
   "outputs": [],
   "source": [
    "#Creates an interatomic potential data model consistent with an lj/cut potential\n",
    "f = open('lj-example.json', 'w')\n",
    "f.write(\"\"\"{\n",
    "    \"interatomicPotentialImplementationLAMMPS\": {\n",
    "        \"potentialID\": {\n",
    "            \"descriptionIdentifier\": \"lj-example\"\n",
    "        },\n",
    "        \"units\": \"lj\",\n",
    "        \"atom_style\": \"atomic\",\n",
    "        \"atom\": [\n",
    "            {\n",
    "                \"element\": \"He\"\n",
    "            },\n",
    "            {\n",
    "                \"element\": \"Ar\"\n",
    "            }\n",
    "        ],\n",
    "        \"pair_style\": {\n",
    "            \"type\": \"lj/cut\",\n",
    "            \"term\": {\n",
    "                \"option\": 10.0\n",
    "            }\n",
    "        },\n",
    "        \"pair_coeff\": [\n",
    "            {\n",
    "                \"interaction\": {\n",
    "                    \"element\": [\n",
    "                        \"He\",\n",
    "                        \"He\"\n",
    "                    ]\n",
    "                },\n",
    "                \"term\": {\n",
    "                    \"option\": \"1.0 1.0\"\n",
    "                }\n",
    "            },\n",
    "            {\n",
    "                \"interaction\": {\n",
    "                    \"element\": [\n",
    "                        \"Ar\",\n",
    "                        \"Ar\"\n",
    "                    ]\n",
    "                },\n",
    "                \"term\": {\n",
    "                    \"option\": \"2.0 2.0\"\n",
    "                }\n",
    "            },\n",
    "            {\n",
    "                \"interaction\": {\n",
    "                    \"element\": [\n",
    "                        \"He\",\n",
    "                        \"Ar\"\n",
    "                    ]\n",
    "                },\n",
    "                \"term\": {\n",
    "                    \"option\": \"1.0 2.0\"\n",
    "                }\n",
    "            }            \n",
    "        ]\n",
    "    }\n",
    "}\"\"\")\n",
    "f.close()      "
   ]
  },
  {
   "cell_type": "markdown",
   "metadata": {},
   "source": [
    "###1.1.2 Many-body potential with an associated potential parameter file, i.e. eam/alloy."
   ]
  },
  {
   "cell_type": "code",
   "execution_count": 4,
   "metadata": {
    "collapsed": true
   },
   "outputs": [],
   "source": [
    "#Creates an interatomic potential data model consistent with an eam/alloy potential\n",
    "f = open('eam-alloy-example.json', 'w')\n",
    "f.write(\"\"\"{\n",
    "    \"interatomicPotentialImplementationLAMMPS\": {\n",
    "        \"potentialID\": {\n",
    "            \"descriptionIdentifier\": \"eam-alloy-example\"\n",
    "        },\n",
    "        \"units\": \"metal\",\n",
    "        \"atom_style\": \"atomic\",\n",
    "        \"atom\": [\n",
    "            {\n",
    "                \"element\": \"Ni\",\n",
    "                \"mass\": 58.6934\n",
    "            },\n",
    "            {\n",
    "                \"element\": \"Al\",\n",
    "                \"mass\": 26.981539\n",
    "            },\n",
    "            {\n",
    "                \"element\": \"Co\",\n",
    "                \"mass\": 58.9332\n",
    "            }\n",
    "        ],\n",
    "        \"pair_style\": {\n",
    "            \"type\": \"eam/alloy\"\n",
    "        },\n",
    "        \"pair_coeff\": {\n",
    "            \"term\": [\n",
    "                {\n",
    "                    \"file\": \"file.eam.alloy\"\n",
    "                },\n",
    "                {\n",
    "                    \"symbols\": \"True\"\n",
    "                }\n",
    "            ]\n",
    "        }\n",
    "    }\n",
    "}\"\"\")\n",
    "f.close()      "
   ]
  },
  {
   "cell_type": "markdown",
   "metadata": {},
   "source": [
    "###1.2 Potential class usage\n",
    "\n",
    "__This section contains code demonstrating the usage of the atomman.lammps.Potential class to generate script information from a potential instance data model file.__"
   ]
  },
  {
   "cell_type": "markdown",
   "metadata": {},
   "source": [
    "__A potential instance data model file can be easily read in creating a Potential object instance.__"
   ]
  },
  {
   "cell_type": "code",
   "execution_count": 5,
   "metadata": {
    "collapsed": false
   },
   "outputs": [
    {
     "name": "stdout",
     "output_type": "stream",
     "text": [
      "Potential is: eam-alloy-example\n"
     ]
    }
   ],
   "source": [
    "#pot = atomman.lammps.Potential('lj-example.json')\n",
    "#or\n",
    "pot = atomman.lammps.Potential('eam-alloy-example.json')\n",
    "\n",
    "#The str() of the class returns the potential's name.\n",
    "print 'Potential is:', pot"
   ]
  },
  {
   "cell_type": "markdown",
   "metadata": {},
   "source": [
    "__The units and atom_style can be easily retrieved using appropriately named methods:__"
   ]
  },
  {
   "cell_type": "code",
   "execution_count": 6,
   "metadata": {
    "collapsed": false
   },
   "outputs": [
    {
     "name": "stdout",
     "output_type": "stream",
     "text": [
      "units metal\n",
      "atom_style atomic\n"
     ]
    }
   ],
   "source": [
    "print 'units', pot.units()\n",
    "print 'atom_style', pot.atom_style()"
   ]
  },
  {
   "cell_type": "markdown",
   "metadata": {},
   "source": [
    "__The elements(), symbols() and masses() methods return lists of the associated values.  elements() and masses() also can take arguments to return a specific value or list of values associated with a particular element symbol or list of symbols.__"
   ]
  },
  {
   "cell_type": "code",
   "execution_count": 7,
   "metadata": {
    "collapsed": false
   },
   "outputs": [
    {
     "name": "stdout",
     "output_type": "stream",
     "text": [
      "Default method calls:\n",
      "symbols = [u'Ni', u'Al', u'Co']\n",
      "elements = [u'Ni', u'Al', u'Co']\n",
      "masses = [58.6934, 26.981539, 58.9332]\n",
      "\n",
      "Values using a single specified element symbol:\n",
      "Mass of Ni is 58.6934\n",
      "Mass of Al is 26.981539\n",
      "Mass of Co is 58.9332\n",
      "\n",
      "Values using the symbol list [u'Ni', u'Ni', u'Al', u'Al', u'Ni', u'Al']\n",
      "elements = [u'Ni', u'Ni', u'Al', u'Al', u'Ni', u'Al']\n",
      "masses = [58.6934, 58.6934, 26.981539, 26.981539, 58.6934, 26.981539]\n"
     ]
    }
   ],
   "source": [
    "symbols = pot.symbols()\n",
    "\n",
    "print 'Default method calls:'\n",
    "print 'symbols =',  symbols\n",
    "print 'elements =', pot.elements()\n",
    "print 'masses =',   pot.masses()\n",
    "print\n",
    "\n",
    "print 'Values using a single specified element symbol:'\n",
    "for i in xrange(len(symbols)):\n",
    "    print 'Mass of', pot.elements(symbols[i]), 'is', pot.masses(symbols[i])\n",
    "print\n",
    "\n",
    "#Create arbitrary list of symbols for demonstration purposes\n",
    "symbol_list = [symbols[0], symbols[0], symbols[1], symbols[1], symbols[0], symbols[1]]\n",
    "print 'Values using the symbol list', symbol_list\n",
    "print 'elements =', pot.elements(symbol_list)\n",
    "print 'masses =',   pot.masses(symbol_list)"
   ]
  },
  {
   "cell_type": "markdown",
   "metadata": {},
   "source": [
    "__Finally, a method pair_info() generates the mass, pair_style and pair_coeff lines__ "
   ]
  },
  {
   "cell_type": "code",
   "execution_count": 8,
   "metadata": {
    "collapsed": false
   },
   "outputs": [
    {
     "name": "stdout",
     "output_type": "stream",
     "text": [
      "Default pair_info:\n",
      "mass 1 58.693400\n",
      "mass 2 26.981539\n",
      "mass 3 58.933200\n",
      "\n",
      "pair_style eam/alloy\n",
      "pair_coeff * * file.eam.alloy Ni Al Co\n",
      "\n",
      "\n",
      "pair_info with one element symbol specified:\n",
      "mass 1 58.693400\n",
      "\n",
      "pair_style eam/alloy\n",
      "pair_coeff * * file.eam.alloy Ni\n",
      "\n",
      "\n",
      "pair_info using the symbol list [u'Ni', u'Ni', u'Al', u'Al', u'Ni', u'Al']\n",
      "mass 1 58.693400\n",
      "mass 2 58.693400\n",
      "mass 3 26.981539\n",
      "mass 4 26.981539\n",
      "mass 5 58.693400\n",
      "mass 6 26.981539\n",
      "\n",
      "pair_style eam/alloy\n",
      "pair_coeff * * file.eam.alloy Ni Ni Al Al Ni Al\n",
      "\n"
     ]
    }
   ],
   "source": [
    "print 'Default pair_info:'\n",
    "print pot.pair_info()\n",
    "print\n",
    "print 'pair_info with one element symbol specified:'\n",
    "print pot.pair_info(symbols[0])\n",
    "print\n",
    "\n",
    "print 'pair_info using the symbol list', symbol_list\n",
    "print pot.pair_info(symbol_list)"
   ]
  },
  {
   "cell_type": "markdown",
   "metadata": {},
   "source": [
    "##2. Generating new systems using LAMMPS.\n",
    "\n",
    "__AtomMan also contains a function atomman.lammps.sys_gen() that generates the LAMMPS input script lines associated with creating a new system.  The available arguments are:__\n",
    "\n",
    "- units = the LAMMPS units type.\n",
    "\n",
    "- atom_style = the LAMMPS atom_style type.\n",
    "\n",
    "- pbc = list of three boolean values indicating which directions are periodic.\n",
    "\n",
    "- ucell_box = an atomman.Box representing the unit cell size and dimensions.\n",
    "\n",
    "- ucell_atoms = a list of atomman.Atom instances in the unit cell.\n",
    "\n",
    "- axes = the cubic crystallographic axes to rotate the system by. Note that this will rotate any system as if the axes were a transformation matrix, but will only correspond to crystallographic axes for cubic systems.\n",
    "\n",
    "- shift = a shift of atomic positions.\n",
    "\n",
    "- size = multipliers used in generating the system.\n",
    "\n",
    "__Note: This funcion simply creates the script telling LAMMPS to generate a block of atoms.  As such, it has the same limitations as LAMMPS does when generating atoms (most notably some issues at periodic boundaries).__\n",
    "\n",
    "__Note 2: The spacing value differs from the default value calculated by LAMMPS.  The values used by AtomMan \"should\" give periodic systems for rotated cubic systems, and non-rotated triclinic systems.__  "
   ]
  },
  {
   "cell_type": "code",
   "execution_count": 9,
   "metadata": {
    "collapsed": false
   },
   "outputs": [
    {
     "name": "stdout",
     "output_type": "stream",
     "text": [
      "#Atomic system info generated by AtomMan package\n",
      "\n",
      "units metal\n",
      "atom_style atomic\n",
      "boundary p p p \n",
      "\n",
      "lattice custom 1.0 &\n",
      "        a1 1.000000000000 0.000000000000 0.000000000000 &\n",
      "        a2 0.000000000000 1.000000000000 0.000000000000 &\n",
      "        a3 0.000000000000 0.000000000000 1.000000000000 &\n",
      "        origin 0.100000 0.100000 0.100000 &\n",
      "        spacing 1.000000000000 1.000000000000 1.000000000000 &\n",
      "        orient x 1 0 0 &\n",
      "        orient y 0 1 0 &\n",
      "        orient z 0 0 1 &\n",
      "        basis 0.000000 0.000000 0.000000 &\n",
      "        basis 0.500000 0.500000 0.000000 &\n",
      "        basis 0.000000 0.500000 0.500000 &\n",
      "        basis 0.500000 0.000000 0.500000\n",
      "\n",
      "region box block -3 3 -3 3 -3 3\n",
      "create_box 1 box\n",
      "create_atoms 1 box\n"
     ]
    }
   ],
   "source": [
    "#Call to sys_gen with all default argument values listed.\n",
    "system_info = atomman.lammps.sys_gen(units = 'metal', \n",
    "                                     atom_style = 'atomic', \n",
    "                                     pbc = (True, True, True), \n",
    "                                     ucell_box = atomman.Box(),\n",
    "                                     ucell_atoms = [atomman.Atom(1, np.array([0.0, 0.0, 0.0])),\n",
    "                                                    atomman.Atom(1, np.array([0.5, 0.5, 0.0])),\n",
    "                                                    atomman.Atom(1, np.array([0.0, 0.5, 0.5])),\n",
    "                                                    atomman.Atom(1, np.array([0.5, 0.0, 0.5]))],\n",
    "                                     axes = np.array([[1, 0, 0], [0, 1, 0], [0, 0, 1]]),\n",
    "                                     shift = np.array([0.1, 0.1, 0.1]),\n",
    "                                     size = np.array([[-3,3], [-3,3], [-3,3]], dtype=np.int))\n",
    "\n",
    "print system_info"
   ]
  },
  {
   "cell_type": "markdown",
   "metadata": {},
   "source": [
    "##3. Interacting with LAMMPS atomic data\n",
    "\n",
    "__AtomMan handles the exchange of information with LAMMPS by reading atomic data files, dump files and log files, and writing atomic data files, dump files and input scripts.__  "
   ]
  },
  {
   "cell_type": "markdown",
   "metadata": {},
   "source": [
    "###3.1 Writing System information to an atomic data file.\n",
    "\n",
    "__Atomic data files can be created using atomman.lammps.write_data().  For arguments, the function takes a file name, an atomman.System, the units type, and the atom_style type.__"
   ]
  },
  {
   "cell_type": "code",
   "execution_count": 10,
   "metadata": {
    "collapsed": false
   },
   "outputs": [
    {
     "name": "stdout",
     "output_type": "stream",
     "text": [
      "Contents of system.data are:\n",
      "\n",
      "2 atoms\n",
      "1 atom types\n",
      "0.000000 3.200000 xlo xhi\n",
      "0.000000 3.200000 ylo yhi\n",
      "0.000000 3.200000 zlo zhi\n",
      "\n",
      "Atoms\n",
      "\n",
      "1 1 0.0000000000000e+00 0.0000000000000e+00 0.0000000000000e+00\n",
      "2 1 1.6000000000000e+00 1.6000000000000e+00 1.6000000000000e+00\n",
      "\n"
     ]
    }
   ],
   "source": [
    "#Create a generic system\n",
    "system = atomman.System(box=atomman.Box(a=3.2, b=3.2, c=3.2),\n",
    "                        atoms=[atomman.Atom(1, [0.0, 0.0, 0.0]),\n",
    "                               atomman.Atom(1, [0.5, 0.5, 0.5])], \n",
    "                        pbc=(True, True, True),\n",
    "                        scale=True)\n",
    "\n",
    "#Write to an atomic style data file\n",
    "system_info = atomman.lammps.write_data('system.data', system, units='metal', atom_style='atomic')\n",
    "\n",
    "print \"Contents of system.data are:\"\n",
    "with open('system.data') as f:\n",
    "    print f.read()"
   ]
  },
  {
   "cell_type": "markdown",
   "metadata": {},
   "source": [
    "__write_data() also returns a string containing the input script lines associated with having LAMMPS read the data file.__"
   ]
  },
  {
   "cell_type": "code",
   "execution_count": 11,
   "metadata": {
    "collapsed": false
   },
   "outputs": [
    {
     "name": "stdout",
     "output_type": "stream",
     "text": [
      "#Script and data file prepared by AtomMan package\n",
      "\n",
      "units metal\n",
      "atom_style atomic\n",
      "boundary p p p \n",
      "read_data system.data\n"
     ]
    }
   ],
   "source": [
    "print system_info"
   ]
  },
  {
   "cell_type": "markdown",
   "metadata": {},
   "source": [
    "###3.2 Reading System information from an atomic data file.\n",
    "\n",
    "__If you ned to read the atomic information back in from an atomic data file you can use atomman.lammps.read_data().  For arguments, the function takes a file name, the periodic boundary conditions (pbc), and the atom_style type.  atom_style is necessary to properly interpret the data, and pbc is needed as the data files do not include this information.__"
   ]
  },
  {
   "cell_type": "code",
   "execution_count": 12,
   "metadata": {
    "collapsed": false
   },
   "outputs": [
    {
     "name": "stdout",
     "output_type": "stream",
     "text": [
      "a =     3.2\n",
      "b =     3.2\n",
      "c =     3.2\n",
      "alpha = 90.0\n",
      "beta =  90.0\n",
      "gamma = 90.0\n",
      "\n",
      "pbc = (True, True, True)\n",
      "\n",
      "1 [ 0.  0.  0.]\n",
      "1 [ 1.6  1.6  1.6]\n"
     ]
    }
   ],
   "source": [
    "system_check = atomman.lammps.read_data('system.data', pbc=(True, True, True), atom_style='atomic')\n",
    "\n",
    "print 'a =    ', system_check.box('a')\n",
    "print 'b =    ', system_check.box('b')\n",
    "print 'c =    ', system_check.box('c')\n",
    "print 'alpha =', system_check.box('alpha')\n",
    "print 'beta = ', system_check.box('beta')\n",
    "print 'gamma =', system_check.box('gamma')\n",
    "print\n",
    "print 'pbc =', system_check.pbc()\n",
    "print \n",
    "for i in xrange(system_check.natoms()):\n",
    "    print system_check.atoms(i, 'atype'), system_check.atoms(i, 'pos') "
   ]
  },
  {
   "cell_type": "markdown",
   "metadata": {},
   "source": [
    "###3.3 Writing System information to a dump file.\n",
    "\n",
    "__Working with the atomic data files is useful for setting up simulations, but post-analysis is better apt to interacting with dump style files.  A System's atomic information can be written to a dump file using atomman.lammps.write_dump().__ "
   ]
  },
  {
   "cell_type": "code",
   "execution_count": 13,
   "metadata": {
    "collapsed": false
   },
   "outputs": [
    {
     "name": "stdout",
     "output_type": "stream",
     "text": [
      "Contents of system.dump are:\n",
      "ITEM: TIMESTEP\n",
      "0\n",
      "ITEM: NUMBER OF ATOMS\n",
      "2\n",
      "ITEM: BOX BOUNDS pp pp pp\n",
      "0.000000 3.200000\n",
      "0.000000 3.200000\n",
      "0.000000 3.200000\n",
      "ITEM: ATOMS id type x y z scalar vector[0] vector[1] vector[2] matrix[0][0] matrix[0][1] matrix[1][0] matrix[1][1]\n",
      "1 1 0.0000000000000e+00 0.0000000000000e+00 0.0000000000000e+00 0.0000000000000e+00 1.0000000000000e+00 2.0000000000000e+00 3.0000000000000e+00 11 12 21 22\n",
      "2 1 1.6000000000000e+00 1.6000000000000e+00 1.6000000000000e+00 0.0000000000000e+00 1.0000000000000e+00 2.0000000000000e+00 3.0000000000000e+00 11 12 21 22\n",
      "\n"
     ]
    }
   ],
   "source": [
    "#assign additional per-atom properties to the system\n",
    "for i in xrange(2):\n",
    "    system.atoms(i, 'scalar', 0.0)\n",
    "    system.atoms(i, 'vector', [1.0, 2.0, 3.0])\n",
    "    system.atoms(i, 'matrix', [[11, 12], [21, 22]])\n",
    "    \n",
    "atomman.lammps.write_dump('system.dump', system)\n",
    "\n",
    "print \"Contents of system.dump are:\"\n",
    "with open('system.dump') as f:\n",
    "    print f.read()"
   ]
  },
  {
   "cell_type": "markdown",
   "metadata": {},
   "source": [
    "__write_dump() has two optional arguments.  xf allows for the format of floating point numbers to be changed by specifying a c-style format string.  scale=True converts the atomic positions to be relative to the system box.__"
   ]
  },
  {
   "cell_type": "code",
   "execution_count": 14,
   "metadata": {
    "collapsed": false
   },
   "outputs": [
    {
     "name": "stdout",
     "output_type": "stream",
     "text": [
      "Contents of system.dump are:\n",
      "ITEM: TIMESTEP\n",
      "0\n",
      "ITEM: NUMBER OF ATOMS\n",
      "2\n",
      "ITEM: BOX BOUNDS pp pp pp\n",
      "0.000000 3.200000\n",
      "0.000000 3.200000\n",
      "0.000000 3.200000\n",
      "ITEM: ATOMS id type xs ys zs scalar vector[0] vector[1] vector[2] matrix[0][0] matrix[0][1] matrix[1][0] matrix[1][1]\n",
      "1 1 0.000 0.000 0.000 0.000 1.000 2.000 3.000 11 12 21 22\n",
      "2 1 0.500 0.500 0.500 0.000 1.000 2.000 3.000 11 12 21 22\n",
      "\n"
     ]
    }
   ],
   "source": [
    "atomman.lammps.write_dump('system.dump', system, xf='%.3f', scale=True)\n",
    "\n",
    "print \"Contents of system.dump are:\"\n",
    "with open('system.dump') as f:\n",
    "    print f.read()"
   ]
  },
  {
   "cell_type": "markdown",
   "metadata": {},
   "source": [
    "###3.4 Reading System information from a dump file.\n",
    "\n",
    "__Finally, a System can be constructed by reading from a dump file using atomman.lammps.read_dump().__"
   ]
  },
  {
   "cell_type": "code",
   "execution_count": 15,
   "metadata": {
    "collapsed": false
   },
   "outputs": [
    {
     "name": "stdout",
     "output_type": "stream",
     "text": [
      "a =     3.2\n",
      "b =     3.2\n",
      "c =     3.2\n",
      "alpha = 90.0\n",
      "beta =  90.0\n",
      "gamma = 90.0\n",
      "\n",
      "pbc = (True, True, True)\n",
      "\n",
      "Atom #: 1\n",
      "atype =  1\n",
      "pos =    [ 0.  0.  0.]\n",
      "scalar = 0.0\n",
      "vector = [ 1.  2.  3.]\n",
      "matrix =\n",
      "[[11 12]\n",
      " [21 22]]\n",
      "\n",
      "Atom #: 2\n",
      "atype =  1\n",
      "pos =    [ 1.6  1.6  1.6]\n",
      "scalar = 0.0\n",
      "vector = [ 1.  2.  3.]\n",
      "matrix =\n",
      "[[11 12]\n",
      " [21 22]]\n",
      "\n"
     ]
    }
   ],
   "source": [
    "system_check = atomman.lammps.read_dump('system.dump')\n",
    "\n",
    "print 'a =    ', system_check.box('a')\n",
    "print 'b =    ', system_check.box('b')\n",
    "print 'c =    ', system_check.box('c')\n",
    "print 'alpha =', system_check.box('alpha')\n",
    "print 'beta = ', system_check.box('beta')\n",
    "print 'gamma =', system_check.box('gamma')\n",
    "print\n",
    "print 'pbc =', system_check.pbc()\n",
    "print \n",
    "for i in xrange(system_check.natoms()):\n",
    "    print 'Atom #:', i+1\n",
    "    print 'atype = ', system_check.atoms(i, 'atype')\n",
    "    print 'pos =   ', system_check.atoms(i, 'pos')\n",
    "    print 'scalar =', system_check.atoms(i, 'scalar')\n",
    "    print 'vector =', system_check.atoms(i, 'vector')\n",
    "    print 'matrix ='\n",
    "    print system_check.atoms(i, 'matrix') \n",
    "    print"
   ]
  },
  {
   "cell_type": "markdown",
   "metadata": {},
   "source": [
    "##4. Running LAMMPS"
   ]
  },
  {
   "cell_type": "markdown",
   "metadata": {},
   "source": [
    "###4.1 Generating LAMMPS input scripts\n",
    "\n",
    "__The previously mentioned commands make generating and reusing LAMMPS input scripts easy.  All input lines associated with a given system can be obtained from either sys_gen() or write_data(), and all input lines associated with an interatomic potential can be obtained from Potential.pair_info()__"
   ]
  },
  {
   "cell_type": "code",
   "execution_count": 17,
   "metadata": {
    "collapsed": false
   },
   "outputs": [
    {
     "name": "stdout",
     "output_type": "stream",
     "text": [
      "#Atomic system info generated by AtomMan package\n",
      "\n",
      "units metal\n",
      "atom_style atomic\n",
      "boundary p p p \n",
      "\n",
      "lattice custom 1.0 &\n",
      "        a1 1.000000000000 0.000000000000 0.000000000000 &\n",
      "        a2 0.000000000000 1.000000000000 0.000000000000 &\n",
      "        a3 0.000000000000 0.000000000000 1.000000000000 &\n",
      "        origin 0.100000 0.100000 0.100000 &\n",
      "        spacing 1.000000000000 1.000000000000 1.000000000000 &\n",
      "        orient x 1 0 0 &\n",
      "        orient y 0 1 0 &\n",
      "        orient z 0 0 1 &\n",
      "        basis 0.000000 0.000000 0.000000 &\n",
      "        basis 0.500000 0.500000 0.000000 &\n",
      "        basis 0.000000 0.500000 0.500000 &\n",
      "        basis 0.500000 0.000000 0.500000\n",
      "\n",
      "region box block -3 3 -3 3 -3 3\n",
      "create_box 1 box\n",
      "create_atoms 1 box\n",
      "mass 1 1.000000\n",
      "\n",
      "pair_style morse 0.001\n",
      "pair_coeff * * 0.0 0.0 0.0\n",
      "\n"
     ]
    }
   ],
   "source": [
    "#Creates an interatomic potential data model with no resulting interaction\n",
    "f = open('none.json', 'w')\n",
    "f.write(\"\"\"{\n",
    "    \"interatomicPotentialImplementationLAMMPS\": {\n",
    "        \"potentialID\": {\n",
    "            \"descriptionIdentifier\": \"none\"\n",
    "        },\n",
    "        \"units\": \"metal\",\n",
    "        \"atom_style\": \"atomic\",\n",
    "        \"atom\": {\n",
    "            \"element\": \"X\",\n",
    "            \"mass\": 1.0\n",
    "        },\n",
    "        \"pair_style\": {\n",
    "            \"type\": \"morse 0.001\"\n",
    "        },\n",
    "        \"pair_coeff\": {\n",
    "            \"term\": {\n",
    "                \"option\": \"0.0 0.0 0.0\"\n",
    "            }\n",
    "        }\n",
    "    }\n",
    "}\"\"\")\n",
    "f.close() \n",
    "\n",
    "#Create a Potential associated with the none.json data model\n",
    "none_pot = atomman.lammps.Potential('none.json')\n",
    "pair_info = none_pot.pair_info()\n",
    "\n",
    "#Use the default sys_gen() to build an atomic system\n",
    "system_info = atomman.lammps.sys_gen(units=none_pot.units(), atom_style=none_pot.atom_style())\n",
    "\n",
    "#Show system_info and pair_info\n",
    "print system_info\n",
    "print pair_info"
   ]
  },
  {
   "cell_type": "markdown",
   "metadata": {},
   "source": [
    "__From this, LAMMPS input scripts can be developed that are independent of the potential and/or the system.__"
   ]
  },
  {
   "cell_type": "code",
   "execution_count": 23,
   "metadata": {
    "collapsed": false
   },
   "outputs": [
    {
     "name": "stdout",
     "output_type": "stream",
     "text": [
      "#Atomic system info generated by AtomMan package\n",
      "\n",
      "units metal\n",
      "atom_style atomic\n",
      "boundary p p p \n",
      "\n",
      "lattice custom 1.0 &\n",
      "        a1 1.000000000000 0.000000000000 0.000000000000 &\n",
      "        a2 0.000000000000 1.000000000000 0.000000000000 &\n",
      "        a3 0.000000000000 0.000000000000 1.000000000000 &\n",
      "        origin 0.100000 0.100000 0.100000 &\n",
      "        spacing 1.000000000000 1.000000000000 1.000000000000 &\n",
      "        orient x 1 0 0 &\n",
      "        orient y 0 1 0 &\n",
      "        orient z 0 0 1 &\n",
      "        basis 0.000000 0.000000 0.000000 &\n",
      "        basis 0.500000 0.500000 0.000000 &\n",
      "        basis 0.000000 0.500000 0.500000 &\n",
      "        basis 0.500000 0.000000 0.500000\n",
      "\n",
      "region box block -3 3 -3 3 -3 3\n",
      "create_box 1 box\n",
      "create_atoms 1 box\n",
      "\n",
      "mass 1 1.000000\n",
      "\n",
      "pair_style morse 0.001\n",
      "pair_coeff * * 0.0 0.0 0.0\n",
      "\n",
      "\n",
      "compute peatom all pe/atom\n",
      "thermo 1\n",
      "thermo_style custom step pe\n",
      "thermo_modify format float %.13e\n",
      "\n",
      "dump dumpit all custom 100 atom.0 id type x y z c_peatom\n",
      "dump_modify dumpit format \"%i %i %.13e %.13e %.13e %.13e\"\n",
      "\n",
      "run 10\n"
     ]
    }
   ],
   "source": [
    "def run10_script(system_info, pair_info):\n",
    "    #Performs a run0 energy calculation\n",
    "    nl = '\\n'\n",
    "    script = nl.join([system_info,\n",
    "                      '',\n",
    "                      pair_info,\n",
    "                      '',\n",
    "                      'compute peatom all pe/atom',\n",
    "                      ''\n",
    "                      'thermo 1',\n",
    "                      'thermo_style custom step pe',\n",
    "                      'thermo_modify format float %.13e',\n",
    "                      '',\n",
    "                      'dump dumpit all custom 100 atom.0 id type x y z c_peatom',\n",
    "                      'dump_modify dumpit format \"%i %i %.13e %.13e %.13e %.13e\"',\n",
    "                      '',\n",
    "                      'run 10'])\n",
    "    return script\n",
    "\n",
    "input_script = run10_script(system_info, pair_info)\n",
    "print input_script"
   ]
  },
  {
   "cell_type": "markdown",
   "metadata": {},
   "source": [
    "###4.2 Calling LAMMPS and processing the results\n",
    "\n",
    "__The standard Python library subprocess allows for LAMMPS to be called directly from a Python script or an IPython Notebook.  In particular, subprocess.check_output() will run the argument and return the standard screen output.  This output (or a log.lammps file) can be parsed for the thermo information using atomman.lammps.log_extract().__ "
   ]
  },
  {
   "cell_type": "code",
   "execution_count": 24,
   "metadata": {
    "collapsed": false
   },
   "outputs": [],
   "source": [
    "#Write script to a file\n",
    "with open('test.in', 'w') as f:\n",
    "    f.write(input_script)\n",
    "    \n",
    "#Run LAMMPS\n",
    "output = subprocess.check_output(lammps_exe + ' -in ' + 'test.in')\n",
    "data = atomman.lammps.log_extract(output)"
   ]
  },
  {
   "cell_type": "markdown",
   "metadata": {},
   "source": [
    "__The extracted thermo data is stored in a 2D list. The first row is the names of the thermo properties.  All other rows are the values assigned to those properties.__\n",
    "\n",
    "__NOTE: If your LAMMPS input script runs multiple simulations the thermo values are all collected into one 2D list.  Inherent to this is the assumption that the thermo style is the same for all simulations.__"
   ]
  },
  {
   "cell_type": "code",
   "execution_count": 26,
   "metadata": {
    "collapsed": false
   },
   "outputs": [
    {
     "name": "stdout",
     "output_type": "stream",
     "text": [
      "['Step', 'PotEng']\n",
      "['0', '0.0000000000000e+000']\n",
      "['1', '0.0000000000000e+000']\n",
      "['2', '0.0000000000000e+000']\n",
      "['3', '0.0000000000000e+000']\n",
      "['4', '0.0000000000000e+000']\n",
      "['5', '0.0000000000000e+000']\n",
      "['6', '0.0000000000000e+000']\n",
      "['7', '0.0000000000000e+000']\n",
      "['8', '0.0000000000000e+000']\n",
      "['9', '0.0000000000000e+000']\n",
      "['10', '0.0000000000000e+000']\n"
     ]
    }
   ],
   "source": [
    "for row in data:\n",
    "    print row"
   ]
  },
  {
   "cell_type": "markdown",
   "metadata": {},
   "source": [
    "__Demo of extracting data from log.lammps instead of from standard output.__"
   ]
  },
  {
   "cell_type": "code",
   "execution_count": 27,
   "metadata": {
    "collapsed": false
   },
   "outputs": [
    {
     "name": "stdout",
     "output_type": "stream",
     "text": [
      "['Step', 'PotEng']\n",
      "['0', '0.0000000000000e+000']\n",
      "['1', '0.0000000000000e+000']\n",
      "['2', '0.0000000000000e+000']\n",
      "['3', '0.0000000000000e+000']\n",
      "['4', '0.0000000000000e+000']\n",
      "['5', '0.0000000000000e+000']\n",
      "['6', '0.0000000000000e+000']\n",
      "['7', '0.0000000000000e+000']\n",
      "['8', '0.0000000000000e+000']\n",
      "['9', '0.0000000000000e+000']\n",
      "['10', '0.0000000000000e+000']\n"
     ]
    }
   ],
   "source": [
    "with open('log.lammps') as f:\n",
    "    data = atomman.lammps.log_extract(f.read())\n",
    "\n",
    "for row in data:\n",
    "    print row    "
   ]
  },
  {
   "cell_type": "code",
   "execution_count": null,
   "metadata": {
    "collapsed": true
   },
   "outputs": [],
   "source": []
  }
 ],
 "metadata": {
  "kernelspec": {
   "display_name": "Python 2",
   "language": "python",
   "name": "python2"
  },
  "language_info": {
   "codemirror_mode": {
    "name": "ipython",
    "version": 2
   },
   "file_extension": ".py",
   "mimetype": "text/x-python",
   "name": "python",
   "nbconvert_exporter": "python",
   "pygments_lexer": "ipython2",
   "version": "2.7.10"
  }
 },
 "nbformat": 4,
 "nbformat_minor": 0
}
