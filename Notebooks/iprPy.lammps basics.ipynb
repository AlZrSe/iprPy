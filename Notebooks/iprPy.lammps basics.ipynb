{
 "cells": [
  {
   "cell_type": "markdown",
   "metadata": {},
   "source": [
    "#Demonstration of iprpy.lammps code design"
   ]
  },
  {
   "cell_type": "markdown",
   "metadata": {},
   "source": [
    "__Required personal directory information__"
   ]
  },
  {
   "cell_type": "code",
   "execution_count": 1,
   "metadata": {
    "collapsed": true
   },
   "outputs": [],
   "source": [
    "iprpy_dir = 'C:\\\\users\\\\lmh1\\\\documents\\\\iprpy\\\\IPR'\n",
    "lammps_exe = 'C:\\\\users\\\\lmh1\\\\Documents\\\\lmp_serial.exe'"
   ]
  },
  {
   "cell_type": "markdown",
   "metadata": {},
   "source": [
    "__Library imports__"
   ]
  },
  {
   "cell_type": "code",
   "execution_count": 2,
   "metadata": {
    "collapsed": false
   },
   "outputs": [],
   "source": [
    "#Standard Python Libraries\n",
    "import subprocess\n",
    "import os\n",
    "import sys\n",
    "\n",
    "#Additional Python Libraries\n",
    "import numpy as np\n",
    "\n",
    "#Custom package\n",
    "sys.path.append(iprpy_dir)  \n",
    "import iprpy"
   ]
  },
  {
   "cell_type": "markdown",
   "metadata": {},
   "source": [
    "##Interacting with a LAMMPS potential\n",
    "\n",
    "__Running an implementation of an interatomic potential in LAMMPS requires properly setting a number of parameters that are specific to that potential and implementation. To help facilitate easy switching of potentials, a data model \"potentialInstances-LAMMPS\" was created that archives the parameter sets for properly running potentials.__\n",
    "\n",
    "__The iprpy code makes use of this data model through the iprpy.lammps.Potential class.  A Potential is initialized by reading in a potentialInstances-LAMMPS data model file.  There is an optional argument associated with identifying the location of any artifacts (i.e. parameter files, function tables) that the potential uses. While the data model files and artifacts can be located anywhere, a reference library is included containing the necessary files for a number of potentials.__"
   ]
  },
  {
   "cell_type": "code",
   "execution_count": 3,
   "metadata": {
    "collapsed": false
   },
   "outputs": [
    {
     "name": "stdout",
     "output_type": "stream",
     "text": [
      "The LAMMPS implemented potentials included in the library directories are:\n",
      "Ag--AcklandGJ--1987\n",
      "Ag--AdamsJB--1989\n",
      "Ag--WilliamsPL--2006\n",
      "Ag--ZhouXW--2004\n",
      "Ag-Ta-O--GaoH--2013\n",
      "Al--LiuX-Y--2004\n",
      "Al--MendelevMI--2008\n",
      "Al--MishinY--1999\n",
      "Al--SturgeonJB--2000\n",
      "Al--WineyJM--2010\n",
      "Al--ZhouXW--2004\n",
      "Al--ZopeRR--2003\n",
      "Al-Co--PurjaPunGP--2013\n",
      "Al-Fe--MendelevMI--2005\n",
      "Al-Mg--LiuX-Y--1997\n",
      "Al-Mg--MendelevMI--2009\n",
      "Al-Mn-Pd--SchopfD--2012\n",
      "Al-Pb--LandaA--2000\n",
      "Al-Si-Mg-Cu-Fe--JelinekB--2012\n",
      "Al-Sm--MendelevMI--2015\n",
      "Au--AcklandGJ--1987\n",
      "Au--AdamsJB--1989\n",
      "Au--GrocholaG--2005\n",
      "Au--ZhouXW--2004\n",
      "Co--PurjaPunGP--2012\n",
      "Co--ZhouXW--2004\n",
      "Cu--AcklandGJ--1987\n",
      "Cu--AdamsJB--1989\n",
      "Cu--MendelevMI--2008\n",
      "Cu--MendelevMI--2012\n",
      "Cu--MishinY--2001--1\n",
      "Cu--ZhouXW--2004\n",
      "Cu-Ag--WilliamsPL--2006\n",
      "Cu-Ag--WuHH--2009\n",
      "Cu-Pb--HoytJJ--2003\n",
      "Cu-Ta--PurjaPunGP--2015\n",
      "Cu-Zr--MendelevMI--2007\n",
      "Cu-Zr--MendelevMI--2009\n",
      "Fe--AcklandGJ--1997\n",
      "Fe--ChamatiM--2006\n",
      "Fe--MendelevMI--2003--2\n",
      "Fe--MendelevMI--2003--5\n",
      "Fe--ProvilleL--2012\n",
      "Fe--ZhouXW--2004\n",
      "Fe-C--HenrikssonKOE--2013\n",
      "Fe-C--HepburnDJ--2008\n",
      "Fe-C--LiyanageLSI--2014\n",
      "Fe-Cu-Ni--BonnyG--2009\n",
      "Fe-Ni--BonnyG--2009\n",
      "Fe-Ni-Cr--BonnyG--2011\n",
      "Fe-Ni-Cr--BonnyG--2013\n",
      "Fe-P--AcklandGJ--2004\n",
      "Mg--SunDY--2006\n",
      "Mg--ZhouXW--2004\n",
      "Mo--AcklandGJ--1987\n",
      "Mo--ParkH--2012\n",
      "Mo--ZhouXW--2004\n",
      "Na--WilsonSR--2015\n",
      "Nb--FellingerMR--2010\n",
      "Nb-Ti-Al--FarkasD--1996\n",
      "Ni--AcklandGJ--1987\n",
      "Ni--AdamsJB--1989\n",
      "Ni--MendelevMI--2012\n",
      "Ni--MishinY--1999\n",
      "Ni--ZhouXW--2004\n",
      "Ni-Al--MishinY--2002\n",
      "Ni-Al--MishinY--2004\n",
      "Ni-Al--PurjaPunGP--2009\n",
      "Ni-Al-Co--PurjaPunGP--2013\n",
      "Ni-Al-H--AngeloJE--1995\n",
      "Ni-Co--PurjaPunGP--2013\n",
      "Ni-Cu--FoilesSM--1985\n",
      "Ni-Zr--MendelevMI--2012\n",
      "Ni-Zr--MendelevMI--2015\n",
      "Pb--ZhouXW--2004\n",
      "Pd--AdamsJB--1989\n",
      "Pd--ZhouXW--2004\n",
      "Pd-Ag-H--HaleLM--2013--H\n",
      "Pd-Ag-H--HaleLM--2013--M\n",
      "Pd-H--ZhouXW--2008\n",
      "Pt--AdamsJB--1989\n",
      "Pt--ZhouXW--2004\n",
      "Ru--FortiniA--2008\n",
      "Ta--LiYH--2003\n",
      "Ta--RaveloR--2013--1\n",
      "Ta--RaveloR--2013--2\n",
      "Ta--ThompsonAP--2015\n",
      "Ta--ZhouXW--2004\n",
      "Ti--AcklandGJ--1992\n",
      "Ti--ZhouXW--2004\n",
      "Ti-Al--ZopeRR--2003\n",
      "U--SmirnovaDE--2012\n",
      "U-Mo-Xe--SmirnovaDE--2013\n",
      "V-Fe--MendelevMI--2007\n",
      "W--AcklandGJ--2003\n",
      "W--ZhouXW--2004\n",
      "Zn-Cd-Hg-S-Se-Te--ZhouXW--2013\n",
      "Zr--MendelevMI--2007--1\n",
      "Zr--MendelevMI--2007--2\n",
      "Zr--MendelevMI--2007--3\n",
      "Zr--ZhouXW--2004\n"
     ]
    }
   ],
   "source": [
    "#Here are the relative paths of the directories containing the potential artifacts and LAMMPS data models \n",
    "potential_dir  = os.path.join(iprpy_dir, 'ref', 'potentials')\n",
    "lammps_imp_dir = os.path.join(iprpy_dir, 'ref', 'potentialInstances-LAMMPS')\n",
    "\n",
    "#This will generate a list of all LAMMPS implemented potentials in the library\n",
    "flist = os.listdir(lammps_imp_dir)\n",
    "print 'The LAMMPS implemented potentials included in the library directories are:'\n",
    "for fname in flist:\n",
    "    if fname[-5:] == '.json':\n",
    "        print fname[:-5]"
   ]
  },
  {
   "cell_type": "markdown",
   "metadata": {},
   "source": [
    "__Using the list above, any potential can be selected and the necessary file information can be obtained from the potential's name.  This lets you create an instance of the Potential class for any.__"
   ]
  },
  {
   "cell_type": "code",
   "execution_count": 5,
   "metadata": {
    "collapsed": false
   },
   "outputs": [],
   "source": [
    "#Select a potential from the list above\n",
    "potential_name = 'Ni-Al--PurjaPunGP--2009'\n",
    "\n",
    "#For the potential above, the implementation file and artifact directories can be easily found as:\n",
    "implementation_file = os.path.join(lammps_imp_dir, potential_name + '.json')\n",
    "artifact_dir = os.path.join(potential_dir, potential_name)\n",
    "\n",
    "#Create an instance of Potential\n",
    "potential = iprpy.lammps.Potential(implementation_file, artifact_dir)"
   ]
  },
  {
   "cell_type": "markdown",
   "metadata": {},
   "source": [
    "__Now that you've created an instance of Potential, you can easily access the underlying parameters.__"
   ]
  },
  {
   "cell_type": "code",
   "execution_count": 7,
   "metadata": {
    "collapsed": false
   },
   "outputs": [
    {
     "name": "stdout",
     "output_type": "stream",
     "text": [
      " potential.atom_style() returns atomic\n",
      "potential.units() returns metal\n"
     ]
    }
   ],
   "source": [
    "print 'potential.atom_style() returns', potential.atom_style()\n",
    "print 'potential.units() returns', potential.units()"
   ]
  },
  {
   "cell_type": "code",
   "execution_count": null,
   "metadata": {
    "collapsed": true
   },
   "outputs": [],
   "source": []
  }
 ],
 "metadata": {
  "kernelspec": {
   "display_name": "Python 2",
   "language": "python",
   "name": "python2"
  }
 },
 "nbformat": 4,
 "nbformat_minor": 0
}
