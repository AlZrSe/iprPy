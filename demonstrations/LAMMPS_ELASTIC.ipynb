{
 "cells": [
  {
   "cell_type": "markdown",
   "metadata": {
    "deletable": true,
    "editable": true
   },
   "source": [
    "# LAMMPS_ELASTIC Calculation\n",
    "\n",
    "- - -\n",
    "\n",
    "**Lucas M. Hale**, [lucas.hale@nist.gov](mailto:lucas.hale@nist.gov?Subject=ipr-demo), *Materials Science and Engineering Division, NIST*.\n",
    "\n",
    "**Chandler A. Becker**, [chandler.becker@nist.gov](mailto:chandler.becker@nist.gov?Subject=ipr-demo), *Office of Data and Informatics, NIST*.\n",
    "\n",
    "**Zachary T. Trautt**, [zachary.trautt@nist.gov](mailto:zachary.trautt@nist.gov?Subject=ipr-demo), *Materials Measurement Science Division, NIST*.\n",
    "\n",
    "Version: 2017-07-24\n",
    "\n",
    "[Disclaimers](http://www.nist.gov/public_affairs/disclaimer.cfm) \n",
    " \n",
    "- - -\n",
    "\n",
    "## Introduction\n",
    "\n",
    "The LAMMPS_ELASTIC calculation refines the lattice parameters of a structure\n",
    "and computes the structure's elastic constants, $C_{ij}$, using the ELASTIC script\n",
    "distributed with the LAMMPS MD software. Energy minimization is used to relax \n",
    "the system's box dimensions and local atomic configurations. Once the system \n",
    "converges, the elastic constants are estimated by applying small strains. For \n",
    "better convergence of the box dimensions, the calculation script runs the \n",
    "ELASTIC script multiple times until the box dimensions stop changing.\n",
    "\n",
    "This calculation provides a quick tool for obtaining both the lattice and\n",
    "elastic constants for a given structure.\n",
    "\n",
    "__Disclaimer #1__: With this method there is no guarantee that the resulting\n",
    "parameters are for a stable structure. The minimization algorithm can have \n",
    "trouble relaxing box dimensions if the initial guess is far from the \n",
    "equilibrium dimensions. Additionally, some transformation paths may be \n",
    "restricted from occurring due to symmetry, i.e. initially cubic structures may \n",
    "remain cubic instead of relaxing to a non-cubic structure.\n",
    "\n",
    "__Disclaimer #2__: The elastic constants are estimated using small strains. \n",
    "Depending on the potential, the values for the elastic constants may vary with \n",
    "the size of the strain. This can come about either if the strain exceeds the \n",
    "linear elastic regime, or if the potential energy is not continuous to the \n",
    "fourth derivative. \n",
    "\n",
    "- - -"
   ]
  },
  {
   "cell_type": "markdown",
   "metadata": {
    "deletable": true,
    "editable": true
   },
   "source": [
    "## Method and Theory\n",
    "\n",
    "The math in this section uses Voigt notation, where indicies i,j correspond to 1=xx, 2=yy, 3=zz, 4=yz, 5=xz, and 6=xy, and x, y and z are orthogonal box vectors.\n",
    "\n",
    "An initial system (and corresponding unit cell system) is supplied with box dimensions, $a_i^0$, close to the equilibrium values. A LAMMPS simulation performs an energy/force minimization with a fix box_relax option to relax both the local atomic coordinates and the system's dimensions. The pressures, $P_{i}$, of the relaxed state are recorded.\n",
    "\n",
    "Further energy/force minimizations are then performed without box_relax to evaluate $P_{i}$ at twelve different strain states corresponding to one of $\\epsilon_{i}$ being given a value of $\\pm \\Delta \\epsilon$, where $\\Delta \\epsilon$ is the strain range parameter. Using the $P_{i}$ values obtained from the strained states, the $C_{ij}$ matrix for the system is estimated as\n",
    "\n",
    "$$ C_{ij} \\approx \\frac{C_{ij}^+ + C_{ij}^-}{2}, $$\n",
    "\n",
    "where\n",
    "\n",
    "$$ C_{ij}^+ = - \\frac{P_i(\\epsilon_j=\\Delta \\epsilon) - P_i(\\epsilon_j=0)}{\\Delta \\epsilon}.$$\n",
    "\n",
    "$$ C_{ij}^- = - \\frac{P_i(\\epsilon_j=0) - P_i(\\epsilon_j=-\\Delta \\epsilon)}{\\Delta \\epsilon}.$$\n",
    "\n",
    "The negative out front comes from the fact that the system-wide stress state is $\\sigma_i = -P_i$. \n",
    "\n",
    "The full process is repeated until the box dimensions from one iteration to the next are within the specified relative convergence tolerance.\n",
    "\n",
    "- - -"
   ]
  },
  {
   "cell_type": "markdown",
   "metadata": {
    "deletable": true,
    "editable": true
   },
   "source": [
    "## Demonstration"
   ]
  },
  {
   "cell_type": "markdown",
   "metadata": {
    "deletable": true,
    "editable": true
   },
   "source": [
    "### 1. Library imports"
   ]
  },
  {
   "cell_type": "markdown",
   "metadata": {
    "deletable": true,
    "editable": true
   },
   "source": [
    "Import libraries needed by the calculation. The external libraries used are:\n",
    "\n",
    "- [numpy](http://www.numpy.org/)\n",
    "\n",
    "- [DataModelDict](https://github.com/usnistgov/DataModelDict)\n",
    "\n",
    "- [atomman](https://github.com/usnistgov/atomman)\n",
    "\n",
    "- [iprPy](https://github.com/usnistgov/iprPy)"
   ]
  },
  {
   "cell_type": "code",
   "execution_count": 1,
   "metadata": {
    "collapsed": true,
    "deletable": true,
    "editable": true
   },
   "outputs": [],
   "source": [
    "# Standard library imports\n",
    "from __future__ import division, absolute_import, print_function\n",
    "import os\n",
    "import sys\n",
    "import uuid\n",
    "import glob\n",
    "import shutil\n",
    "import datetime\n",
    "from copy import deepcopy\n",
    "\n",
    "# http://www.numpy.org/\n",
    "import numpy as np\n",
    "\n",
    "# https://github.com/usnistgov/DataModelDict \n",
    "from DataModelDict import DataModelDict as DM\n",
    "\n",
    "# https://github.com/usnistgov/atomman \n",
    "import atomman as am\n",
    "import atomman.lammps as lmp\n",
    "import atomman.unitconvert as uc\n",
    "\n",
    "# https://github.com/usnistgov/iprPy\n",
    "import iprPy"
   ]
  },
  {
   "cell_type": "markdown",
   "metadata": {
    "deletable": true,
    "editable": true
   },
   "source": [
    "### 2. Assign values for the calculation's run parameters"
   ]
  },
  {
   "cell_type": "markdown",
   "metadata": {
    "deletable": true,
    "editable": true
   },
   "source": [
    "#### 2.0 Set the calculation's working directory"
   ]
  },
  {
   "cell_type": "code",
   "execution_count": 2,
   "metadata": {
    "collapsed": false,
    "deletable": true,
    "editable": true
   },
   "outputs": [],
   "source": [
    "calc_name = 'LAMMPS_ELASTIC'\n",
    "\n",
    "# Check current working directory\n",
    "cwd_name = os.path.basename(os.getcwd())\n",
    "\n",
    "# Change working directory if needed\n",
    "if cwd_name != calc_name:\n",
    "    if not os.path.isdir(calc_name):\n",
    "        os.mkdir(calc_name)\n",
    "    os.chdir(calc_name)"
   ]
  },
  {
   "cell_type": "markdown",
   "metadata": {
    "deletable": true,
    "editable": true
   },
   "source": [
    "#### 2.1 Specify system-specific paths\n",
    "\n",
    "- __lammps_command__ is the LAMMPS command to use (required).\n",
    "\n",
    "- __mpi_command__ MPI command for running LAMMPS in parallel. A value of None will run simulations serially.\n",
    "\n",
    "- __lib_directory__ defines the relative path to the iprPy library. This makes it easier to define paths to reference records later."
   ]
  },
  {
   "cell_type": "code",
   "execution_count": 3,
   "metadata": {
    "collapsed": true,
    "deletable": true,
    "editable": true
   },
   "outputs": [],
   "source": [
    "lammps_command = 'lmp_serial'\n",
    "mpi_command = None\n",
    "lib_directory = '../../../library'"
   ]
  },
  {
   "cell_type": "markdown",
   "metadata": {
    "deletable": true,
    "editable": true
   },
   "source": [
    "#### 2.2 Specify the prototype system\n",
    "\n",
    "- __system__ is an atomman.System to perform the scan on (required). \n",
    "\n",
    "- __ucell__ is an atomman.System representing a fundamental unit cell of the system (required).\n",
    "\n",
    "- __prototype_name__ gives the name of the crystal_prototype reference record in the iprPy library to use for ucell. \n",
    "\n",
    "- __prototype_path__ gives the path to the crystal_prototype reference record to use.\n",
    "\n",
    "- __box_parameters__ defines the initial guess box parameters to scale ucell and system by.\n",
    "\n",
    "- __sizemults__ list of three integers specifying how many times the ucell vectors of $a$, $b$ and $c$ are replicated in creating system."
   ]
  },
  {
   "cell_type": "code",
   "execution_count": 4,
   "metadata": {
    "collapsed": false,
    "deletable": true,
    "editable": true
   },
   "outputs": [
    {
     "name": "stdout",
     "output_type": "stream",
     "text": [
      "# of atoms in ucell = 4\n",
      "# of atoms in system = 108\n"
     ]
    }
   ],
   "source": [
    "prototype_name = 'A1--Cu--fcc'\n",
    "box_parameters = [3.5, 3.5, 3.5]\n",
    "sizemults = [3,3,3]\n",
    "\n",
    "# Define prototype_path using lib_directory and prototype_name\n",
    "prototype_path = os.path.abspath(os.path.join(lib_directory, \n",
    "                                              'crystal_prototype', \n",
    "                                              prototype_name+'.json'))\n",
    "\n",
    "# Create ucell by loading prototype record\n",
    "ucell = am.load('system_model', prototype_path)[0]\n",
    "print('# of atoms in ucell =', ucell.natoms)\n",
    "\n",
    "# Rescale ucell using box_parameters\n",
    "ucell.box_set(a=box_parameters[0], \n",
    "              b=box_parameters[1], \n",
    "              c=box_parameters[2], scale=True)\n",
    "\n",
    "# Generate system by supersizing ucell\n",
    "system = am.supersize(ucell, *sizemults)\n",
    "print('# of atoms in system =', system.natoms)"
   ]
  },
  {
   "cell_type": "markdown",
   "metadata": {
    "deletable": true,
    "editable": true
   },
   "source": [
    "#### 2.3 Specify the potenital and elemental symbols\n",
    "\n",
    "- __potential__ is the atomman.lammps.Potential representation of a LAMMPS implemented potential to use (required).\n",
    "\n",
    "- __symbols__ is a list of the elemental model symbols of potential to associate with the unique atom types of system (required).\n",
    "\n",
    "- __potential_name__ gives the name of the potential_LAMMPS reference record in the iprPy library to use for potential. \n",
    "\n",
    "- __potential_path__ gives the path to the potential_LAMMPS reference record to use.\n",
    "\n",
    "- __potential_dir_path__ gives the path for the folder containing the artifacts associated with the potential (i.e. eam.alloy file)\n",
    "\n"
   ]
  },
  {
   "cell_type": "code",
   "execution_count": 5,
   "metadata": {
    "collapsed": false,
    "deletable": true,
    "editable": true
   },
   "outputs": [
    {
     "name": "stdout",
     "output_type": "stream",
     "text": [
      "Successfully loaded potential 1999--Mishin-Y--Ni--LAMMPS--ipr1\n"
     ]
    }
   ],
   "source": [
    "potential_name = '1999--Mishin-Y--Ni--LAMMPS--ipr1'\n",
    "symbols = ['Ni']\n",
    "\n",
    "# Define potential_path and potential_dir_path using lib_directory and potential_name\n",
    "potential_dir_path = os.path.abspath(os.path.join(lib_directory, \n",
    "                                                  'potential_LAMMPS',\n",
    "                                                  potential_name))\n",
    "potential_path = potential_dir_path + '.json'\n",
    "\n",
    "# Create potential by loading LAMMPS-potential record\n",
    "with open(potential_path) as f:\n",
    "    potential = lmp.Potential(f, potential_dir_path)\n",
    "print('Successfully loaded potential', potential)"
   ]
  },
  {
   "cell_type": "markdown",
   "metadata": {
    "deletable": true,
    "editable": true
   },
   "source": [
    "#### 2.4 Specify calculation-specific run parameters\n",
    "\n",
    "- __strainrange__ specifies the $\\Delta \\epsilon$ strain range to use in estimating $C_{ij}$.\n",
    "\n",
    "- __energytolerance__ is the energy tolerance to use during the minimizations. This is unitless.\n",
    "\n",
    "- __forcetolerance__ is the force tolerance to use during the minimizations. This is in energy/length units.\n",
    "\n",
    "- __maxiterations__ is the maximum number of minimization iterations to use.\n",
    "\n",
    "- __maxevaluations__ is the maximum number of minimization evaluations to use.\n",
    "\n",
    "- __maxatommotion__ is the largest distance that an atom is allowed to move during a minimization iteration. This is in length units.\n",
    "\n",
    "- __pressure_unit__ is the unit of pressure to use for reporting the elastic constants. \n",
    "\n",
    "- __convergence_tol__ is the relative tolerance to use in identifying if the lattice constants have converged. "
   ]
  },
  {
   "cell_type": "code",
   "execution_count": 6,
   "metadata": {
    "collapsed": true,
    "deletable": true,
    "editable": true
   },
   "outputs": [],
   "source": [
    "strainrange = 1e-7\n",
    "energytolerance = 1e-8\n",
    "forcetolerance = uc.set_in_units(0.0, 'eV/angstrom')\n",
    "maxiterations = 10000\n",
    "maxevaluations = 100000\n",
    "maxatommotion = uc.set_in_units(0.01, 'angstrom')\n",
    "pressure_unit = 'GPa'\n",
    "convergence_tol = 1e-10"
   ]
  },
  {
   "cell_type": "markdown",
   "metadata": {
    "deletable": true,
    "editable": true
   },
   "source": [
    "### 3. Define calculation function(s) and generate template LAMMPS script(s)"
   ]
  },
  {
   "cell_type": "markdown",
   "metadata": {
    "deletable": true,
    "editable": true
   },
   "source": [
    "#### 3.1 in.elastic"
   ]
  },
  {
   "cell_type": "code",
   "execution_count": 7,
   "metadata": {
    "collapsed": true,
    "deletable": true,
    "editable": true
   },
   "outputs": [],
   "source": [
    "with open('in.elastic', 'w') as f:\n",
    "    f.write(\"\"\"# Compute elastic constant tensor for a crystal\n",
    "#\n",
    "# Written by Aidan Thompson (Sandia, athomps@sandia.gov)\n",
    "#\n",
    "#  This script uses the following three include files.\n",
    "#\n",
    "#   init.mod      (must be modified for different crystal structures)\n",
    "# \t       \t  Define units, deformation parameters and initial\n",
    "#\t\t  configuration of the atoms and simulation cell.  \n",
    "#\n",
    "#\n",
    "#   potential.mod    (must be modified for different pair styles)\n",
    "# \t\t     Define pair style and other attributes \n",
    "#\t\t     not stored in restart file\n",
    "#\n",
    "#\n",
    "#   displace.mod    (displace.mod should not need to be modified)\n",
    "# \t\t    Perform positive and negative box displacements \n",
    "# \t\t    in direction ${dir} and size ${up}. \n",
    "# \t\t    It uses the resultant changes \n",
    "#\t\t    in stress to compute one\n",
    "# \t\t    row of the elastic stiffness tensor\n",
    "#\t\t    \n",
    "#\t\t    Inputs variables:\n",
    "#\t\t    \t   dir = the Voigt deformation component \n",
    "#\t\t    \t\t    (1,2,3,4,5,6)  \n",
    "#\t\t    Global constants:\n",
    "#       \t    \t   up = the deformation magnitude (strain units)\n",
    "#       \t\t   cfac = conversion from LAMMPS pressure units to \n",
    "#               \t   output units for elastic constants \n",
    "#\n",
    "#\n",
    "#  To run this on a different system, it should only be necessary to \n",
    "#  modify the files init.mod and potential.mod. In order to calculate\n",
    "#  the elastic constants correctly, care must be taken to specify\n",
    "#  the correct units in init.mod (units, cfac and cunits). It is also\n",
    "#  important to verify that the minimization of energy w.r.t atom\n",
    "#  positions in the deformed cell is fully converged.\n",
    "#  One indication of this is that the elastic constants are insensitive\n",
    "#  to the choice of the variable ${up} in init.mod. Another is to check\n",
    "#  the final max and two-norm forces reported in the log file. If you know\n",
    "#  that minimization is not required, you can set maxiter = 0.0 in \n",
    "#  init.mod. \n",
    "#\n",
    "#  There are two alternate versions of displace.mod provided.\n",
    "#  They are displace_restart.mod and displace_reverse.mod. \n",
    "#  The former resets the box using a restart file while \n",
    "#  the latter reverses the deformation. Copy whichever\n",
    "#  one you like best to displace.mod.\n",
    "#\n",
    "\n",
    "include init.mod\n",
    "include potential.mod\n",
    "\n",
    "# Compute initial state\n",
    "fix 3 all box/relax  aniso 0.0\n",
    "dump config all custom ${maxiter} atom.* id type x y z\n",
    "minimize ${etol} ${ftol} ${maxiter} ${maxeval}\n",
    "undump config\n",
    "\n",
    "variable tmp equal pxx\n",
    "variable pxx0 equal ${tmp}\n",
    "variable tmp equal pyy\n",
    "variable pyy0 equal ${tmp}\n",
    "variable tmp equal pzz\n",
    "variable pzz0 equal ${tmp}\n",
    "variable tmp equal pyz\n",
    "variable pyz0 equal ${tmp}\n",
    "variable tmp equal pxz\n",
    "variable pxz0 equal ${tmp}\n",
    "variable tmp equal pxy\n",
    "variable pxy0 equal ${tmp}\n",
    "\n",
    "variable tmp equal lx\n",
    "variable lx0 equal ${tmp}\n",
    "variable tmp equal ly\n",
    "variable ly0 equal ${tmp}\n",
    "variable tmp equal lz\n",
    "variable lz0 equal ${tmp}\n",
    "\n",
    "# These formulas define the derivatives w.r.t. strain components\n",
    "# Constants uses $, variables use v_ \n",
    "variable d1 equal -(v_pxx1-${pxx0})/(v_delta/v_len0)*${cfac}\n",
    "variable d2 equal -(v_pyy1-${pyy0})/(v_delta/v_len0)*${cfac}\n",
    "variable d3 equal -(v_pzz1-${pzz0})/(v_delta/v_len0)*${cfac}\n",
    "variable d4 equal -(v_pyz1-${pyz0})/(v_delta/v_len0)*${cfac}\n",
    "variable d5 equal -(v_pxz1-${pxz0})/(v_delta/v_len0)*${cfac}\n",
    "variable d6 equal -(v_pxy1-${pxy0})/(v_delta/v_len0)*${cfac}\n",
    "\n",
    "# Write restart\n",
    "unfix 3\n",
    "write_restart restart.equil\n",
    "\n",
    "# uxx Perturbation\n",
    "\n",
    "variable dir equal 1\n",
    "include displace.mod\n",
    "\n",
    "# uyy Perturbation\n",
    "\n",
    "variable dir equal 2\n",
    "include displace.mod\n",
    "\n",
    "# uzz Perturbation\n",
    "\n",
    "variable dir equal 3\n",
    "include displace.mod\n",
    "\n",
    "# uyz Perturbation\n",
    "\n",
    "variable dir equal 4\n",
    "include displace.mod\n",
    "\n",
    "# uxz Perturbation\n",
    "\n",
    "variable dir equal 5\n",
    "include displace.mod\n",
    "\n",
    "# uxy Perturbation\n",
    "\n",
    "variable dir equal 6\n",
    "include displace.mod\n",
    "\n",
    "# Output final values\n",
    "\n",
    "variable C11all equal ${C11}\n",
    "variable C22all equal ${C22}\n",
    "variable C33all equal ${C33}\n",
    "\n",
    "variable C12all equal 0.5*(${C12}+${C21})\n",
    "variable C13all equal 0.5*(${C13}+${C31})\n",
    "variable C23all equal 0.5*(${C23}+${C32})\n",
    "\n",
    "variable C44all equal ${C44}\n",
    "variable C55all equal ${C55}\n",
    "variable C66all equal ${C66}\n",
    "\n",
    "variable C14all equal 0.5*(${C14}+${C41})\n",
    "variable C15all equal 0.5*(${C15}+${C51})\n",
    "variable C16all equal 0.5*(${C16}+${C61})\n",
    "\n",
    "variable C24all equal 0.5*(${C24}+${C42})\n",
    "variable C25all equal 0.5*(${C25}+${C52})\n",
    "variable C26all equal 0.5*(${C26}+${C62})\n",
    "\n",
    "variable C34all equal 0.5*(${C34}+${C43})\n",
    "variable C35all equal 0.5*(${C35}+${C53})\n",
    "variable C36all equal 0.5*(${C36}+${C63})\n",
    "\n",
    "variable C45all equal 0.5*(${C45}+${C54})\n",
    "variable C46all equal 0.5*(${C46}+${C64})\n",
    "variable C56all equal 0.5*(${C56}+${C65})\n",
    "\n",
    "print \"Elastic Constant C11all = ${C11all} ${cunits}\"\n",
    "print \"Elastic Constant C22all = ${C22all} ${cunits}\"\n",
    "print \"Elastic Constant C33all = ${C33all} ${cunits}\"\n",
    "\n",
    "print \"Elastic Constant C12all = ${C12all} ${cunits}\"\n",
    "print \"Elastic Constant C13all = ${C13all} ${cunits}\"\n",
    "print \"Elastic Constant C23all = ${C23all} ${cunits}\"\n",
    "\n",
    "print \"Elastic Constant C44all = ${C44all} ${cunits}\"\n",
    "print \"Elastic Constant C55all = ${C55all} ${cunits}\"\n",
    "print \"Elastic Constant C66all = ${C66all} ${cunits}\"\n",
    "\n",
    "print \"Elastic Constant C14all = ${C14all} ${cunits}\"\n",
    "print \"Elastic Constant C15all = ${C15all} ${cunits}\"\n",
    "print \"Elastic Constant C16all = ${C16all} ${cunits}\"\n",
    "\n",
    "print \"Elastic Constant C24all = ${C24all} ${cunits}\"\n",
    "print \"Elastic Constant C25all = ${C25all} ${cunits}\"\n",
    "print \"Elastic Constant C26all = ${C26all} ${cunits}\"\n",
    "\n",
    "print \"Elastic Constant C34all = ${C34all} ${cunits}\"\n",
    "print \"Elastic Constant C35all = ${C35all} ${cunits}\"\n",
    "print \"Elastic Constant C36all = ${C36all} ${cunits}\"\n",
    "\n",
    "print \"Elastic Constant C45all = ${C45all} ${cunits}\"\n",
    "print \"Elastic Constant C46all = ${C46all} ${cunits}\"\n",
    "print \"Elastic Constant C56all = ${C56all} ${cunits}\"\n",
    "\"\"\")"
   ]
  },
  {
   "cell_type": "markdown",
   "metadata": {
    "deletable": true,
    "editable": true
   },
   "source": [
    "#### 3.2 displace.mod"
   ]
  },
  {
   "cell_type": "code",
   "execution_count": 8,
   "metadata": {
    "collapsed": true,
    "deletable": true,
    "editable": true
   },
   "outputs": [],
   "source": [
    "with open('displace.mod', 'w') as f:\n",
    "    f.write(\"\"\"# NOTE: This script should not need to be\n",
    "# modified. See in.elastic for more info.\n",
    "#\n",
    "# Find which reference length to use\n",
    "\n",
    "if \"${dir} == 1\" then &\n",
    "   \"variable len0 equal ${lx0}\" \n",
    "if \"${dir} == 2\" then &\n",
    "   \"variable len0 equal ${ly0}\" \n",
    "if \"${dir} == 3\" then &\n",
    "   \"variable len0 equal ${lz0}\" \n",
    "if \"${dir} == 4\" then &\n",
    "   \"variable len0 equal ${lz0}\" \n",
    "if \"${dir} == 5\" then &\n",
    "   \"variable len0 equal ${lz0}\" \n",
    "if \"${dir} == 6\" then &\n",
    "   \"variable len0 equal ${ly0}\" \n",
    "\n",
    "# Reset box and simulation parameters\n",
    "\n",
    "clear\n",
    "read_restart restart.equil\n",
    "include potential.mod\n",
    "\n",
    "# Negative deformation\n",
    "\n",
    "variable delta equal -${up}*${len0}\n",
    "if \"${dir} == 1\" then &\n",
    "   \"change_box all x delta 0 ${delta} remap units box\"\n",
    "if \"${dir} == 2\" then &\n",
    "   \"change_box all y delta 0 ${delta} remap units box\"\n",
    "if \"${dir} == 3\" then &\n",
    "   \"change_box all z delta 0 ${delta} remap units box\"\n",
    "if \"${dir} == 4\" then &\n",
    "   \"change_box all yz delta ${delta} remap units box\"\n",
    "if \"${dir} == 5\" then &\n",
    "   \"change_box all xz delta ${delta} remap units box\"\n",
    "if \"${dir} == 6\" then &\n",
    "   \"change_box all xy delta ${delta} remap units box\"\n",
    "\n",
    "# Relax atoms positions\n",
    "\n",
    "minimize ${etol} ${ftol} ${maxiter} ${maxeval}\n",
    "\n",
    "# Obtain new stress tensor\n",
    " \n",
    "variable tmp equal pxx\n",
    "variable pxx1 equal ${tmp}\n",
    "variable tmp equal pyy\n",
    "variable pyy1 equal ${tmp}\n",
    "variable tmp equal pzz\n",
    "variable pzz1 equal ${tmp}\n",
    "variable tmp equal pxy\n",
    "variable pxy1 equal ${tmp}\n",
    "variable tmp equal pxz\n",
    "variable pxz1 equal ${tmp}\n",
    "variable tmp equal pyz\n",
    "variable pyz1 equal ${tmp}\n",
    "\n",
    "# Compute elastic constant from pressure tensor\n",
    "\n",
    "variable C1neg equal ${d1}\n",
    "variable C2neg equal ${d2}\n",
    "variable C3neg equal ${d3}\n",
    "variable C4neg equal ${d4}\n",
    "variable C5neg equal ${d5}\n",
    "variable C6neg equal ${d6}\n",
    "\n",
    "# Reset box and simulation parameters\n",
    "\n",
    "clear\n",
    "read_restart restart.equil\n",
    "include potential.mod\n",
    "\n",
    "# Positive deformation\n",
    "\n",
    "variable delta equal ${up}*${len0}\n",
    "if \"${dir} == 1\" then &\n",
    "   \"change_box all x delta 0 ${delta} remap units box\"\n",
    "if \"${dir} == 2\" then &\n",
    "   \"change_box all y delta 0 ${delta} remap units box\"\n",
    "if \"${dir} == 3\" then &\n",
    "   \"change_box all z delta 0 ${delta} remap units box\"\n",
    "if \"${dir} == 4\" then &\n",
    "   \"change_box all yz delta ${delta} remap units box\"\n",
    "if \"${dir} == 5\" then &\n",
    "   \"change_box all xz delta ${delta} remap units box\"\n",
    "if \"${dir} == 6\" then &\n",
    "   \"change_box all xy delta ${delta} remap units box\"\n",
    "\n",
    "# Relax atoms positions\n",
    "\n",
    "minimize ${etol} ${ftol} ${maxiter} ${maxeval}\n",
    "\n",
    "# Obtain new stress tensor\n",
    " \n",
    "variable tmp equal pe\n",
    "variable e1 equal ${tmp}\n",
    "variable tmp equal press\n",
    "variable p1 equal ${tmp}\n",
    "variable tmp equal pxx\n",
    "variable pxx1 equal ${tmp}\n",
    "variable tmp equal pyy\n",
    "variable pyy1 equal ${tmp}\n",
    "variable tmp equal pzz\n",
    "variable pzz1 equal ${tmp}\n",
    "variable tmp equal pxy\n",
    "variable pxy1 equal ${tmp}\n",
    "variable tmp equal pxz\n",
    "variable pxz1 equal ${tmp}\n",
    "variable tmp equal pyz\n",
    "variable pyz1 equal ${tmp}\n",
    "\n",
    "# Compute elastic constant from pressure tensor\n",
    "\n",
    "variable C1pos equal ${d1}\n",
    "variable C2pos equal ${d2}\n",
    "variable C3pos equal ${d3}\n",
    "variable C4pos equal ${d4}\n",
    "variable C5pos equal ${d5}\n",
    "variable C6pos equal ${d6}\n",
    "\n",
    "# Combine positive and negative \n",
    "\n",
    "variable C1${dir} equal 0.5*(${C1neg}+${C1pos})\n",
    "variable C2${dir} equal 0.5*(${C2neg}+${C2pos})\n",
    "variable C3${dir} equal 0.5*(${C3neg}+${C3pos})\n",
    "variable C4${dir} equal 0.5*(${C4neg}+${C4pos})\n",
    "variable C5${dir} equal 0.5*(${C5neg}+${C5pos})\n",
    "variable C6${dir} equal 0.5*(${C6neg}+${C6pos})\n",
    "\n",
    "# Delete dir to make sure it is not reused\n",
    "\n",
    "variable dir delete\n",
    "\"\"\")"
   ]
  },
  {
   "cell_type": "markdown",
   "metadata": {
    "deletable": true,
    "editable": true
   },
   "source": [
    "#### 3.3 init.mod.template"
   ]
  },
  {
   "cell_type": "code",
   "execution_count": 9,
   "metadata": {
    "collapsed": true,
    "deletable": true,
    "editable": true
   },
   "outputs": [],
   "source": [
    "with open('init.mod.template', 'w') as f:\n",
    "    f.write(\"\"\"# NOTE: This script can be modified for different atomic structures, \n",
    "# units, etc. See in.elastic for more info.\n",
    "#\n",
    "\n",
    "# Define the finite deformation size. Try several values of this\n",
    "# variable to verify that results do not depend on it.\n",
    "variable up equal <strainrange>\n",
    " \n",
    "# pressure unit scaling factor and string\n",
    "variable cfac equal 1.0e-4\n",
    "variable cunits string GPa\n",
    "\n",
    "# Define minimization parameters\n",
    "variable etol equal <etol>\n",
    "variable ftol equal <ftol>\n",
    "variable maxiter equal <maxiter>\n",
    "variable maxeval equal <maxeval>\n",
    "variable dmax equal <dmax>\n",
    "\n",
    "# generate system\n",
    "<atomman_system_info>\n",
    "\n",
    "change_box all triclinic\n",
    "\"\"\")"
   ]
  },
  {
   "cell_type": "markdown",
   "metadata": {
    "deletable": true,
    "editable": true
   },
   "source": [
    "#### 3.4 potential.mod.template"
   ]
  },
  {
   "cell_type": "code",
   "execution_count": 10,
   "metadata": {
    "collapsed": true,
    "deletable": true,
    "editable": true
   },
   "outputs": [],
   "source": [
    "with open('potential.mod.template', 'w') as f:\n",
    "    f.write(\"\"\"# NOTE: This script can be modified for different pair styles \n",
    "# See in.elastic for more info.\n",
    "\n",
    "# Choose potential\n",
    "<atomman_pair_info>\n",
    "\n",
    "# Setup neighbor style\n",
    "neighbor 1.0 nsq\n",
    "neigh_modify once no every 1 delay 0 check yes\n",
    "\n",
    "# Setup minimization style\n",
    "min_style\t     cg\n",
    "min_modify\t     dmax ${dmax} line quadratic\n",
    "\n",
    "# Setup output\n",
    "thermo\t\t1\n",
    "thermo_style custom step temp pe press pxx pyy pzz pxy pxz pyz lx ly lz vol\n",
    "thermo_modify norm no\n",
    "\"\"\")"
   ]
  },
  {
   "cell_type": "markdown",
   "metadata": {
    "deletable": true,
    "editable": true
   },
   "source": [
    "#### 3.5 lammps_ELASTIC_refine()"
   ]
  },
  {
   "cell_type": "code",
   "execution_count": 11,
   "metadata": {
    "collapsed": false,
    "deletable": true,
    "editable": true
   },
   "outputs": [],
   "source": [
    "def lammps_ELASTIC_refine(lammps_command, system, potential, symbols,\n",
    "                          mpi_command=None, ucell=None,\n",
    "                          strainrange=1e-6, etol=0.0, ftol=0.0, maxiter=10000,\n",
    "                          maxeval=100000, dmax=uc.set_in_units(0.01, 'angstrom'),\n",
    "                          pressure_unit='GPa', tol=1e-10):\n",
    "    \"\"\"\n",
    "    Repeatedly runs the ELASTIC example distributed with LAMMPS until box\n",
    "    dimensions converge within a tolerance.\n",
    "    \n",
    "    Parameters\n",
    "    ----------\n",
    "    lammps_command :str\n",
    "        Command for running LAMMPS.\n",
    "    system : atomman.System\n",
    "        The system to perform the calculation on.\n",
    "    potential : atomman.lammps.Potential\n",
    "        The LAMMPS implemented potential to use.\n",
    "    symbols : list of str\n",
    "        The list of element-model symbols for the Potential that correspond to\n",
    "        system's atypes.\n",
    "    mpi_command : str, optional\n",
    "        The MPI command for running LAMMPS in parallel.  If not given, LAMMPS\n",
    "        will run serially.\n",
    "    ucell : atomman.System, optional\n",
    "        The fundamental unit cell correspodning to system.  This is used to\n",
    "        convert system dimensions to cell dimensions. If not given, ucell will\n",
    "        be taken as system.\n",
    "    strainrange : float, optional\n",
    "        The small strain value to apply when calculating the elastic\n",
    "        constants (default is 1e-6).\n",
    "    etol : float, optional\n",
    "        The energy tolerance for the structure minimization. This value is\n",
    "        unitless. (Default is 0.0).\n",
    "    ftol : float, optional\n",
    "        The force tolerance for the structure minimization. This value is in\n",
    "        units of force. (Default is 0.0).\n",
    "    maxiter : int, optional\n",
    "        The maximum number of minimization iterations to use (default is 10000).\n",
    "    maxeval : int, optional\n",
    "        The maximum number of minimization evaluations to use (default is \n",
    "        100000).\n",
    "    dmax : float, optional\n",
    "        The maximum distance in length units that any atom is allowed to relax\n",
    "        in any direction during a single minimization iteration (default is\n",
    "        0.01 Angstroms).\n",
    "    pressure_unit : str, optional\n",
    "        The unit of pressure to calculate the elastic constants in (default is\n",
    "        'GPa').\n",
    "    tol : float, optional\n",
    "        The relative tolerance used to determine if the lattice constants have\n",
    "        converged (default is 1e-10).\n",
    "    \n",
    "    Returns\n",
    "    -------\n",
    "    dict\n",
    "        Dictionary of results consisting of keys:\n",
    "        \n",
    "        - **'a_lat'** (*float*) - The relaxed a lattice constant.\n",
    "        - **'b_lat'** (*float*) - The relaxed b lattice constant.\n",
    "        - **'c_lat'** (*float*) - The relaxed c lattice constant.\n",
    "        - **'alpha_lat'** (*float*) - The alpha lattice angle.\n",
    "        - **'beta_lat'** (*float*) - The beta lattice angle.\n",
    "        - **'gamma_lat'** (*float*) - The gamma lattice angle.\n",
    "        - **'E_coh'** (*float*) - The cohesive energy of the relaxed system.\n",
    "        - **'stress'** (*numpy.array*) - The measured stress state of the\n",
    "          relaxed system.\n",
    "        - **'C_elastic'** (*atomman.ElasticConstants*) - The relaxed system's\n",
    "          elastic constants.\n",
    "        - **'system_relaxed'** (*atomman.System*) - The relaxed system.\n",
    "    \"\"\"\n",
    "    \n",
    "    # Set ucell = system if ucell not given\n",
    "    if ucell is None:\n",
    "        ucell = system\n",
    "    \n",
    "    # Get ratios of lx, ly, and lz of system relative to a of ucell\n",
    "    lx_a = system.box.a / ucell.box.a\n",
    "    ly_b = system.box.b / ucell.box.b\n",
    "    lz_c = system.box.c / ucell.box.c\n",
    "    alpha = system.box.alpha\n",
    "    beta =  system.box.beta\n",
    "    gamma = system.box.gamma\n",
    "    \n",
    "    old_results = lammps_ELASTIC(lammps_command, system, potential, symbols,\n",
    "                                 mpi_command=mpi_command, ucell=None,\n",
    "                                 strainrange=strainrange,\n",
    "                                 etol=etol, ftol=ftol,\n",
    "                                 maxiter=maxiter, maxeval=maxeval,\n",
    "                                 dmax=dmax, pressure_unit=pressure_unit)\n",
    "    shutil.move('log.lammps', 'elastic-0-log.lammps')\n",
    "    os.remove('atom.0')\n",
    "    for atom_dump in glob.iglob('atom.*'):\n",
    "        shutil.move(atom_dump, 'elastic-0-config.dump')\n",
    "    \n",
    "    converged = False\n",
    "    for cycle in xrange(1, 100):\n",
    "        new_results = lammps_ELASTIC(lammps_command,\n",
    "                                     old_results['system_relaxed'],\n",
    "                                     potential, symbols, \n",
    "                                     mpi_command=mpi_command,\n",
    "                                     ucell=None,\n",
    "                                     strainrange=strainrange,\n",
    "                                     etol=etol, ftol=ftol, \n",
    "                                     maxiter=maxiter, maxeval=maxeval,\n",
    "                                     dmax=dmax, pressure_unit=pressure_unit)\n",
    "        shutil.move('log.lammps', 'elastic-'+str(cycle)+'-log.lammps')\n",
    "        os.remove('atom.0')\n",
    "        for atom_dump in glob.iglob('atom.*'):\n",
    "            shutil.move(atom_dump, 'elastic-'+str(cycle)+'-config.dump')\n",
    "        \n",
    "        # Test if box dimensions have converged\n",
    "        if (np.isclose(old_results['a_lat'],\n",
    "                       new_results['a_lat'],\n",
    "                       rtol=tol, atol=0)\n",
    "          and\n",
    "            np.isclose(old_results['b_lat'],\n",
    "                       new_results['b_lat'],\n",
    "                       rtol=tol, atol=0)\n",
    "          and\n",
    "            np.isclose(old_results['c_lat'],\n",
    "                       new_results['c_lat'],\n",
    "                       rtol=tol, atol=0)):\n",
    "            converged = True\n",
    "            break\n",
    "        else:\n",
    "            old_results = new_results\n",
    "    \n",
    "    # Return values if converged\n",
    "    if converged:\n",
    "        # Scale lattice constants to ucell \n",
    "        new_results['a_lat'] = new_results['a_lat'] / lx_a\n",
    "        new_results['b_lat'] = new_results['b_lat'] / ly_b\n",
    "        new_results['c_lat'] = new_results['c_lat'] / lz_c\n",
    "        \n",
    "        return new_results\n",
    "    else:\n",
    "        raise RuntimeError('Failed to converge after 100 cycles')\n",
    "        \n"
   ]
  },
  {
   "cell_type": "markdown",
   "metadata": {
    "deletable": true,
    "editable": true
   },
   "source": [
    "#### 3.6 lammps_ELASTIC()"
   ]
  },
  {
   "cell_type": "code",
   "execution_count": 12,
   "metadata": {
    "collapsed": true,
    "deletable": true,
    "editable": true
   },
   "outputs": [],
   "source": [
    "def lammps_ELASTIC(lammps_command, system, potential, symbols,\n",
    "                   mpi_command=None, ucell=None,\n",
    "                   strainrange=1e-6, etol=0.0, ftol=0.0, maxiter=10000,\n",
    "                   maxeval=100000, dmax=uc.set_in_units(0.01, 'angstrom'),\n",
    "                   pressure_unit='GPa'):\n",
    "    \"\"\"\n",
    "    Sets up and runs the ELASTIC example distributed with LAMMPS.\n",
    "    \n",
    "    Parameters\n",
    "    ----------\n",
    "    lammps_command :str\n",
    "        Command for running LAMMPS.\n",
    "    system : atomman.System\n",
    "        The system to perform the calculation on.\n",
    "    potential : atomman.lammps.Potential\n",
    "        The LAMMPS implemented potential to use.\n",
    "    symbols : list of str\n",
    "        The list of element-model symbols for the Potential that correspond to\n",
    "        system's atypes.\n",
    "    mpi_command : str, optional\n",
    "        The MPI command for running LAMMPS in parallel.  If not given, LAMMPS\n",
    "        will run serially.\n",
    "    ucell : atomman.System, optional\n",
    "        The fundamental unit cell correspodning to system.  This is used to\n",
    "        convert system dimensions to cell dimensions. If not given, ucell will\n",
    "        be taken as system.\n",
    "    strainrange : float, optional\n",
    "        The small strain value to apply when calculating the elastic\n",
    "        constants (default is 1e-6).\n",
    "    etol : float, optional\n",
    "        The energy tolerance for the structure minimization. This value is\n",
    "        unitless. (Default is 0.0).\n",
    "    ftol : float, optional\n",
    "        The force tolerance for the structure minimization. This value is in\n",
    "        units of force. (Default is 0.0).\n",
    "    maxiter : int, optional\n",
    "        The maximum number of minimization iterations to use (default is 10000).\n",
    "    maxeval : int, optional\n",
    "        The maximum number of minimization evaluations to use (default is \n",
    "        100000).\n",
    "    dmax : float, optional\n",
    "        The maximum distance in length units that any atom is allowed to relax\n",
    "        in any direction during a single minimization iteration (default is \n",
    "        0.01 Angstroms).\n",
    "    pressure_unit : str, optional\n",
    "        The unit of pressure to calculate the elastic constants in (default is\n",
    "        'GPa').\n",
    "    \n",
    "    Returns\n",
    "    -------\n",
    "    dict\n",
    "        Dictionary of results consisting of keys:\n",
    "        \n",
    "        - **'a_lat'** (*float*) - The relaxed a lattice constant.\n",
    "        - **'b_lat'** (*float*) - The relaxed b lattice constant.\n",
    "        - **'c_lat'** (*float*) - The relaxed c lattice constant.\n",
    "        - **'alpha_lat'** (*float*) - The alpha lattice angle.\n",
    "        - **'beta_lat'** (*float*) - The beta lattice angle.\n",
    "        - **'gamma_lat'** (*float*) - The gamma lattice angle.\n",
    "        - **'E_coh'** (*float*) - The cohesive energy of the relaxed system.\n",
    "        - **'stress'** (*numpy.array*) - The measured stress state of the\n",
    "          relaxed system.\n",
    "        - **'C_elastic'** (*atomman.ElasticConstants*) - The relaxed system's\n",
    "          elastic constants.\n",
    "        - **'system_relaxed'** (*atomman.System*) - The relaxed system.\n",
    "    \"\"\"\n",
    "\n",
    "    # Set ucell = system if ucell not given\n",
    "    if ucell is None:\n",
    "        ucell = system\n",
    "    \n",
    "    # Get ratios of lx, ly, and lz of system relative to a of ucell\n",
    "    lx_a = system.box.a / ucell.box.a\n",
    "    ly_b = system.box.b / ucell.box.b\n",
    "    lz_c = system.box.c / ucell.box.c\n",
    "    alpha = system.box.alpha\n",
    "    beta =  system.box.beta\n",
    "    gamma = system.box.gamma\n",
    "    \n",
    "    # Get lammps units\n",
    "    lammps_units = lmp.style.unit(potential.units)\n",
    "\n",
    "    # Define lammps variables\n",
    "    lammps_variables = {}\n",
    "    system_info = lmp.atom_data.dump(system, 'init.dat',\n",
    "                                     units=potential.units,\n",
    "                                     atom_style=potential.atom_style)\n",
    "    lammps_variables['atomman_system_info'] = system_info\n",
    "    lammps_variables['atomman_pair_info'] = potential.pair_info(symbols)\n",
    "    lammps_variables['strainrange'] = strainrange\n",
    "    pressure_scale = uc.get_in_units(uc.set_in_units(1.0,\n",
    "                                                    lammps_units['pressure']),\n",
    "                                     pressure_unit)\n",
    "    lammps_variables['pressure_unit_scaling'] = pressure_scale\n",
    "    lammps_variables['pressure_unit'] = pressure_unit\n",
    "    lammps_variables['etol'] = etol\n",
    "    lammps_variables['ftol'] = uc.get_in_units(ftol, lammps_units['force'])\n",
    "    lammps_variables['maxiter'] = maxiter\n",
    "    lammps_variables['maxeval'] = maxeval\n",
    "    lammps_variables['dmax'] = uc.get_in_units(dmax, lammps_units['length'])\n",
    "    \n",
    "    # Fill in mod.template files\n",
    "    with open('init.mod.template') as template_file:\n",
    "        template = template_file.read()\n",
    "    with open('init.mod', 'w') as in_file:\n",
    "        in_file.write(iprPy.tools.filltemplate(template, lammps_variables,\n",
    "                                               '<', '>'))\n",
    "    with open('potential.mod.template') as template_file:\n",
    "        template = template_file.read()\n",
    "    with open('potential.mod', 'w') as in_file:\n",
    "        in_file.write(iprPy.tools.filltemplate(template, lammps_variables,\n",
    "                                               '<', '>'))\n",
    "    \n",
    "    output = lmp.run(lammps_command, 'in.elastic', mpi_command)\n",
    "    \n",
    "    # Extract output values\n",
    "    thermo = output.simulations[0]['thermo']\n",
    "    \n",
    "    results = {}\n",
    "    results['E_coh'] = uc.set_in_units(thermo.PotEng.values[-1] / system.natoms,\n",
    "                                       lammps_units['energy'])\n",
    "    results['a_lat'] = uc.set_in_units(thermo.Lx.values[-1] / lx_a,\n",
    "                                       lammps_units['length'])\n",
    "    results['b_lat'] = uc.set_in_units(thermo.Ly.values[-1] / ly_b,\n",
    "                                       lammps_units['length'])\n",
    "    results['c_lat'] = uc.set_in_units(thermo.Lz.values[-1] / lz_c,\n",
    "                                       lammps_units['length'])\n",
    "    results['alpha_lat'] = alpha\n",
    "    results['beta_lat'] =  beta\n",
    "    results['gamma_lat'] = gamma\n",
    "    \n",
    "    pxx = uc.set_in_units(thermo.Pxx.values[-1], lammps_units['pressure'])\n",
    "    pyy = uc.set_in_units(thermo.Pyy.values[-1], lammps_units['pressure'])\n",
    "    pzz = uc.set_in_units(thermo.Pzz.values[-1], lammps_units['pressure'])\n",
    "    pxy = uc.set_in_units(thermo.Pxy.values[-1], lammps_units['pressure'])\n",
    "    pxz = uc.set_in_units(thermo.Pxz.values[-1], lammps_units['pressure'])\n",
    "    pyz = uc.set_in_units(thermo.Pyz.values[-1], lammps_units['pressure'])\n",
    "    results['stress'] = -1 * np.array([[pxx, pxy, pxz],\n",
    "                                       [pxy, pyy, pyz],\n",
    "                                       [pxz, pyz, pzz]])\n",
    "    \n",
    "    # Load relaxed system from dump file\n",
    "    last_dump_file = 'atom.'+str(thermo.Step.values[-1])\n",
    "    results['system_relaxed'] = lmp.atom_dump.load(last_dump_file)\n",
    "    \n",
    "    with open('log.lammps') as log_file:\n",
    "        log = log_file.read()\n",
    "    \n",
    "    start = log.find('print \"Elastic Constant C11all = ${C11all} ${cunits}\"')\n",
    "    lines = log[start+54:].split('\\n')\n",
    "\n",
    "    Cdict = {}\n",
    "    for line in lines:\n",
    "        terms = line.split()\n",
    "        if len(terms) > 0 and terms[0] == 'Elastic':\n",
    "            c_term = terms[2][:3]\n",
    "            c_value = float(terms[4])\n",
    "            c_unit = terms[5]\n",
    "            \n",
    "            Cdict[c_term] = uc.set_in_units(c_value, c_unit)\n",
    "    results['C_elastic'] = am.ElasticConstants(**Cdict)\n",
    "                \n",
    "    return results\n",
    "\n"
   ]
  },
  {
   "cell_type": "markdown",
   "metadata": {
    "deletable": true,
    "editable": true
   },
   "source": [
    "### 4. Run calculation function(s)"
   ]
  },
  {
   "cell_type": "code",
   "execution_count": 13,
   "metadata": {
    "collapsed": false,
    "deletable": true,
    "editable": true
   },
   "outputs": [],
   "source": [
    "results_dict = lammps_ELASTIC_refine(lammps_command, \n",
    "                                     system, \n",
    "                                     potential,\n",
    "                                     symbols,\n",
    "                                     mpi_command = mpi_command,\n",
    "                                     ucell=ucell,\n",
    "                                     etol=1e-8,\n",
    "                                     strainrange = strainrange,\n",
    "                                     maxiter=1000,\n",
    "                                     maxeval=10000)"
   ]
  },
  {
   "cell_type": "code",
   "execution_count": 14,
   "metadata": {
    "collapsed": false,
    "deletable": true,
    "editable": true
   },
   "outputs": [
    {
     "data": {
      "text/plain": [
       "['stress',\n",
       " 'gamma_lat',\n",
       " 'a_lat',\n",
       " 'beta_lat',\n",
       " 'b_lat',\n",
       " 'alpha_lat',\n",
       " 'c_lat',\n",
       " 'C_elastic',\n",
       " 'E_coh',\n",
       " 'system_relaxed']"
      ]
     },
     "execution_count": 14,
     "metadata": {},
     "output_type": "execute_result"
    }
   ],
   "source": [
    "results_dict.keys()"
   ]
  },
  {
   "cell_type": "markdown",
   "metadata": {
    "deletable": true,
    "editable": true
   },
   "source": [
    "### 5. Report results"
   ]
  },
  {
   "cell_type": "markdown",
   "metadata": {
    "deletable": true,
    "editable": true
   },
   "source": [
    "#### 5.1 Define units for outputting values\n",
    "\n",
    "- __length_unit__ is the unit of length to display relaxed lattice constants in.\n",
    "- __energy_unit__ is the unit of energy to display cohesive energies in.\n",
    "- __pressure_unit__ is the unit of pressure to display Cij and relaxed stress state in."
   ]
  },
  {
   "cell_type": "code",
   "execution_count": 15,
   "metadata": {
    "collapsed": true,
    "deletable": true,
    "editable": true
   },
   "outputs": [],
   "source": [
    "length_unit = 'angstrom'\n",
    "energy_unit = 'eV'\n",
    "pressure_unit = 'GPa'"
   ]
  },
  {
   "cell_type": "markdown",
   "metadata": {
    "deletable": true,
    "editable": true
   },
   "source": [
    "#### 5.2 Print Ecoh and lattice constants of relaxed ucell"
   ]
  },
  {
   "cell_type": "code",
   "execution_count": 16,
   "metadata": {
    "collapsed": false,
    "deletable": true,
    "editable": true
   },
   "outputs": [
    {
     "name": "stdout",
     "output_type": "stream",
     "text": [
      "Ecoh = -4.45 eV\n",
      "a = 3.51999933333 angstrom\n",
      "b = 3.51999933333 angstrom\n",
      "c = 3.51999933333 angstrom\n",
      "alpha = 90.0\n",
      "beta =  90.0\n",
      "gamma = 90.0\n"
     ]
    }
   ],
   "source": [
    "print('Ecoh =', uc.get_in_units(results_dict['E_coh'], energy_unit), energy_unit)\n",
    "print('a =',    uc.get_in_units(results_dict['a_lat'], length_unit), length_unit)\n",
    "print('b =',    uc.get_in_units(results_dict['b_lat'], length_unit), length_unit)\n",
    "print('c =',    uc.get_in_units(results_dict['c_lat'], length_unit), length_unit)\n",
    "print('alpha =', results_dict['alpha_lat'])\n",
    "print('beta = ', results_dict['beta_lat'])\n",
    "print('gamma =', results_dict['gamma_lat'])"
   ]
  },
  {
   "cell_type": "markdown",
   "metadata": {
    "deletable": true,
    "editable": true
   },
   "source": [
    "#### 5.3 Print Cij"
   ]
  },
  {
   "cell_type": "code",
   "execution_count": 17,
   "metadata": {
    "collapsed": false,
    "deletable": true,
    "editable": true
   },
   "outputs": [
    {
     "name": "stdout",
     "output_type": "stream",
     "text": [
      "Cij (GPa) =\n",
      "[ 247.8624  147.8284  147.8284    0.0000    0.0000    0.0000]\n",
      "[ 147.8284  247.8624  147.8284    0.0000    0.0000    0.0000]\n",
      "[ 147.8284  147.8284  247.8624    0.0000    0.0000    0.0000]\n",
      "[   0.0000    0.0000    0.0000  124.8381    0.0000    0.0000]\n",
      "[   0.0000    0.0000    0.0000    0.0000  124.8381    0.0000]\n",
      "[   0.0000    0.0000    0.0000    0.0000    0.0000  124.8381]\n"
     ]
    }
   ],
   "source": [
    "print('Cij ('+pressure_unit+') =')\n",
    "for Ci in uc.get_in_units(results_dict['C_elastic'].Cij, pressure_unit):\n",
    "    print('[%9.4f %9.4f %9.4f %9.4f %9.4f %9.4f]' % tuple(Ci))"
   ]
  },
  {
   "cell_type": "markdown",
   "metadata": {
    "deletable": true,
    "editable": true
   },
   "source": [
    "#### 5.4 Check stress state of relaxed system"
   ]
  },
  {
   "cell_type": "code",
   "execution_count": 18,
   "metadata": {
    "collapsed": false,
    "deletable": true,
    "editable": true
   },
   "outputs": [
    {
     "name": "stdout",
     "output_type": "stream",
     "text": [
      "stress (GPa) =\n",
      "[  -0.0000    0.0000    0.0000]\n",
      "[   0.0000   -0.0000    0.0000]\n",
      "[   0.0000    0.0000   -0.0000]\n"
     ]
    }
   ],
   "source": [
    "print('stress ('+pressure_unit+') =')\n",
    "for Si in uc.get_in_units(results_dict['stress'], pressure_unit):\n",
    "    print('[%9.4f %9.4f %9.4f]' % tuple(Si))"
   ]
  },
  {
   "cell_type": "markdown",
   "metadata": {
    "deletable": true,
    "editable": true
   },
   "source": [
    "#### 5.5 Show relaxed atomic configuration"
   ]
  },
  {
   "cell_type": "code",
   "execution_count": 19,
   "metadata": {
    "collapsed": false,
    "deletable": true,
    "editable": true
   },
   "outputs": [
    {
     "name": "stdout",
     "output_type": "stream",
     "text": [
      "avect =  [10.560,  0.000,  0.000]\n",
      "bvect =  [ 0.000, 10.560,  0.000]\n",
      "cvect =  [ 0.000,  0.000, 10.560]\n",
      "origin = [-0.030, -0.030, -0.030]\n",
      "natoms = 108\n",
      "natypes = 1\n",
      "     id |   atype |  pos[0] |  pos[1] |  pos[2]\n",
      "      0 |       1 |  -0.030 |  -0.030 |  -0.030\n",
      "      1 |       1 |  -0.030 |   1.730 |   1.730\n",
      "      2 |       1 |   1.730 |  -0.030 |   1.730\n",
      "      3 |       1 |   1.730 |   1.730 |  -0.030\n",
      "      4 |       1 |   3.490 |  -0.030 |  -0.030\n",
      "      5 |       1 |   3.490 |   1.730 |   1.730\n",
      "      6 |       1 |   5.250 |  -0.030 |   1.730\n",
      "      7 |       1 |   5.250 |   1.730 |  -0.030\n",
      "      8 |       1 |   7.010 |  -0.030 |  -0.030\n",
      "      9 |       1 |   7.010 |   1.730 |   1.730\n",
      "     10 |       1 |   8.770 |  -0.030 |   1.730\n",
      "     11 |       1 |   8.770 |   1.730 |  -0.030\n",
      "     12 |       1 |  -0.030 |   3.490 |  -0.030\n",
      "     13 |       1 |  -0.030 |   5.250 |   1.730\n",
      "     14 |       1 |   1.730 |   3.490 |   1.730\n",
      "     15 |       1 |   1.730 |   5.250 |  -0.030\n",
      "     16 |       1 |   3.490 |   3.490 |  -0.030\n",
      "     17 |       1 |   3.490 |   5.250 |   1.730\n",
      "     18 |       1 |   5.250 |   3.490 |   1.730\n",
      "     19 |       1 |   5.250 |   5.250 |  -0.030\n",
      "     20 |       1 |   7.010 |   3.490 |  -0.030\n",
      "     21 |       1 |   7.010 |   5.250 |   1.730\n",
      "     22 |       1 |   8.770 |   3.490 |   1.730\n",
      "     23 |       1 |   8.770 |   5.250 |  -0.030\n",
      "     24 |       1 |  -0.030 |   7.010 |  -0.030\n",
      "     25 |       1 |  -0.030 |   8.770 |   1.730\n",
      "     26 |       1 |   1.730 |   7.010 |   1.730\n",
      "     27 |       1 |   1.730 |   8.770 |  -0.030\n",
      "     28 |       1 |   3.490 |   7.010 |  -0.030\n",
      "     29 |       1 |   3.490 |   8.770 |   1.730\n",
      "     30 |       1 |   5.250 |   7.010 |   1.730\n",
      "     31 |       1 |   5.250 |   8.770 |  -0.030\n",
      "     32 |       1 |   7.010 |   7.010 |  -0.030\n",
      "     33 |       1 |   7.010 |   8.770 |   1.730\n",
      "     34 |       1 |   8.770 |   7.010 |   1.730\n",
      "     35 |       1 |   8.770 |   8.770 |  -0.030\n",
      "     36 |       1 |  -0.030 |  -0.030 |   3.490\n",
      "     37 |       1 |  -0.030 |   1.730 |   5.250\n",
      "     38 |       1 |   1.730 |  -0.030 |   5.250\n",
      "     39 |       1 |   1.730 |   1.730 |   3.490\n",
      "     40 |       1 |   3.490 |  -0.030 |   3.490\n",
      "     41 |       1 |   3.490 |   1.730 |   5.250\n",
      "     42 |       1 |   5.250 |  -0.030 |   5.250\n",
      "     43 |       1 |   5.250 |   1.730 |   3.490\n",
      "     44 |       1 |   7.010 |  -0.030 |   3.490\n",
      "     45 |       1 |   7.010 |   1.730 |   5.250\n",
      "     46 |       1 |   8.770 |  -0.030 |   5.250\n",
      "     47 |       1 |   8.770 |   1.730 |   3.490\n",
      "     48 |       1 |  -0.030 |   3.490 |   3.490\n",
      "     49 |       1 |  -0.030 |   5.250 |   5.250\n",
      "     50 |       1 |   1.730 |   3.490 |   5.250\n",
      "     51 |       1 |   1.730 |   5.250 |   3.490\n",
      "     52 |       1 |   3.490 |   3.490 |   3.490\n",
      "     53 |       1 |   3.490 |   5.250 |   5.250\n",
      "     54 |       1 |   5.250 |   3.490 |   5.250\n",
      "     55 |       1 |   5.250 |   5.250 |   3.490\n",
      "     56 |       1 |   7.010 |   3.490 |   3.490\n",
      "     57 |       1 |   7.010 |   5.250 |   5.250\n",
      "     58 |       1 |   8.770 |   3.490 |   5.250\n",
      "     59 |       1 |   8.770 |   5.250 |   3.490\n",
      "     60 |       1 |  -0.030 |   7.010 |   3.490\n",
      "     61 |       1 |  -0.030 |   8.770 |   5.250\n",
      "     62 |       1 |   1.730 |   7.010 |   5.250\n",
      "     63 |       1 |   1.730 |   8.770 |   3.490\n",
      "     64 |       1 |   3.490 |   7.010 |   3.490\n",
      "     65 |       1 |   3.490 |   8.770 |   5.250\n",
      "     66 |       1 |   5.250 |   7.010 |   5.250\n",
      "     67 |       1 |   5.250 |   8.770 |   3.490\n",
      "     68 |       1 |   7.010 |   7.010 |   3.490\n",
      "     69 |       1 |   7.010 |   8.770 |   5.250\n",
      "     70 |       1 |   8.770 |   7.010 |   5.250\n",
      "     71 |       1 |   8.770 |   8.770 |   3.490\n",
      "     72 |       1 |  -0.030 |  -0.030 |   7.010\n",
      "     73 |       1 |  -0.030 |   1.730 |   8.770\n",
      "     74 |       1 |   1.730 |  -0.030 |   8.770\n",
      "     75 |       1 |   1.730 |   1.730 |   7.010\n",
      "     76 |       1 |   3.490 |  -0.030 |   7.010\n",
      "     77 |       1 |   3.490 |   1.730 |   8.770\n",
      "     78 |       1 |   5.250 |  -0.030 |   8.770\n",
      "     79 |       1 |   5.250 |   1.730 |   7.010\n",
      "     80 |       1 |   7.010 |  -0.030 |   7.010\n",
      "     81 |       1 |   7.010 |   1.730 |   8.770\n",
      "     82 |       1 |   8.770 |  -0.030 |   8.770\n",
      "     83 |       1 |   8.770 |   1.730 |   7.010\n",
      "     84 |       1 |  -0.030 |   3.490 |   7.010\n",
      "     85 |       1 |  -0.030 |   5.250 |   8.770\n",
      "     86 |       1 |   1.730 |   3.490 |   8.770\n",
      "     87 |       1 |   1.730 |   5.250 |   7.010\n",
      "     88 |       1 |   3.490 |   3.490 |   7.010\n",
      "     89 |       1 |   3.490 |   5.250 |   8.770\n",
      "     90 |       1 |   5.250 |   3.490 |   8.770\n",
      "     91 |       1 |   5.250 |   5.250 |   7.010\n",
      "     92 |       1 |   7.010 |   3.490 |   7.010\n",
      "     93 |       1 |   7.010 |   5.250 |   8.770\n",
      "     94 |       1 |   8.770 |   3.490 |   8.770\n",
      "     95 |       1 |   8.770 |   5.250 |   7.010\n",
      "     96 |       1 |  -0.030 |   7.010 |   7.010\n",
      "     97 |       1 |  -0.030 |   8.770 |   8.770\n",
      "     98 |       1 |   1.730 |   7.010 |   8.770\n",
      "     99 |       1 |   1.730 |   8.770 |   7.010\n",
      "    100 |       1 |   3.490 |   7.010 |   7.010\n",
      "    101 |       1 |   3.490 |   8.770 |   8.770\n",
      "    102 |       1 |   5.250 |   7.010 |   8.770\n",
      "    103 |       1 |   5.250 |   8.770 |   7.010\n",
      "    104 |       1 |   7.010 |   7.010 |   7.010\n",
      "    105 |       1 |   7.010 |   8.770 |   8.770\n",
      "    106 |       1 |   8.770 |   7.010 |   8.770\n",
      "    107 |       1 |   8.770 |   8.770 |   7.010\n"
     ]
    }
   ],
   "source": [
    "print(results_dict['system_relaxed'])"
   ]
  }
 ],
 "metadata": {
  "kernelspec": {
   "display_name": "Python 2",
   "language": "python",
   "name": "python2"
  },
  "language_info": {
   "codemirror_mode": {
    "name": "ipython",
    "version": 2
   },
   "file_extension": ".py",
   "mimetype": "text/x-python",
   "name": "python",
   "nbconvert_exporter": "python",
   "pygments_lexer": "ipython2",
   "version": "2.7.13"
  }
 },
 "nbformat": 4,
 "nbformat_minor": 2
}
