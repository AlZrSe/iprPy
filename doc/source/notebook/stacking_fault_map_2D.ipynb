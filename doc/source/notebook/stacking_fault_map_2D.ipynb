{
 "cells": [
  {
   "cell_type": "markdown",
   "metadata": {},
   "source": [
    "# stacking_fault_map_2D Calculation\n",
    "\n",
    "**Lucas M. Hale**, [lucas.hale@nist.gov](mailto:lucas.hale@nist.gov?Subject=ipr-demo), *Materials Science and Engineering Division, NIST*.\n",
    "\n",
    "**Chandler A. Becker**, [chandler.becker@nist.gov](mailto:chandler.becker@nist.gov?Subject=ipr-demo), *Office of Data and Informatics, NIST*.\n",
    "\n",
    "**Zachary T. Trautt**, [zachary.trautt@nist.gov](mailto:zachary.trautt@nist.gov?Subject=ipr-demo), *Materials Measurement Science Division, NIST*.\n",
    "\n",
    "Version: 2018-06-24\n",
    "\n",
    "[Disclaimers](http://www.nist.gov/public_affairs/disclaimer.cfm) \n",
    "\n",
    "## Introduction\n",
    "\n",
    "The __stacking_fault_map_2D__ calculation evaluates the full 2D generalized stacking fault map for an array of shifts along a specified crystallographic plane.  A regular grid of points is established and the generalized stacking fault energy is evaluated at each.\n",
    "\n",
    "__Version notes__: This was previously called the stacking_fault_multi calculation and was renamed for clarity.\n",
    "\n",
    "__Disclaimer #1__: The system's dimension perpendicular to the fault plane should be large to minimize the interaction of the free surface and the stacking fault."
   ]
  },
  {
   "cell_type": "markdown",
   "metadata": {},
   "source": [
    "## Method and Theory\n",
    "\n",
    "First, an initial system is generated.  This is accomplished by\n",
    "\n",
    "1. Starting with a unit cell system.\n",
    "\n",
    "2. Generating a transformed system by rotating the unit cell such that the new system's box vectors correspond to crystallographic directions, and filled in with atoms to remain a perfect bulk cell when the three boundaries are periodic.\n",
    "\n",
    "3. All atoms are shifted by a fractional amount of the box vectors if needed.\n",
    "\n",
    "4. A supercell system is constructed by combining multiple replicas of the transformed system.\n",
    "\n",
    "The system is then cut by making one of the box boundaries non-periodic.  A limitation placed on the calculation is that the normal to the cut plane must correspond to one of the three Cartesian ($x$, $y$, or $z$) axes.  If true, then of the system's three box vectors ($\\vec{a}$, $\\vec{b}$, and $\\vec{c}$), two will be parallel to the plane, and the third will not.  The non-parallel box vector is called the cutboxvector, and for LAMMPS compatible systems, the following conditions can be used to check the system's compatibility:\n",
    "\n",
    "- cutboxvector = 'c': all systems allowed.\n",
    "\n",
    "- cutboxvector = 'b': the system's yz tilt must be zero.\n",
    "\n",
    "- cutboxvector = 'a': the system's xy and xz tilts must be zero.\n",
    "\n",
    "A LAMMPS simulation performs an energy/force minimization on the system where the atoms are confined to only relax along the Cartesian direction normal to the cut plane. \n",
    "\n",
    "A mathematical fault plane parallel to the cut plane is defined in the middle of the system.  A generalized stacking fault system can then be created by shifting all atoms on one side of the fault plane by a vector, $\\vec{s}$.  The shifted system is then relaxed using the same confined energy/force minimization used on the non-shifted system.  The generalized stacking fault energy, $\\gamma_{gsf}$, can then be computed by comparing the total energy of the system, $E^{total}$, before and after $\\vec{s}$ is applied\n",
    "\n",
    "$$ \\gamma_{gsf}(\\vec{s}) = \\frac{E^{total}(\\vec{s}) - E^{total}(\\vec{0})}{A_{fault}},$$\n",
    "\n",
    "where $A_{fault}$ is the area of the fault plane, which can be computed using the two box vectors, $\\vec{a_1}$ and $\\vec{a_2}$, that are not the cutboxvector.\n",
    "\n",
    "$$A_{fault} = \\left| \\vec{a_1} \\times \\vec{a_2} \\right|,$$\n",
    "\n",
    "Additionally, the relaxation normal to the glide plane is characterized using the center of mass of the atoms above and below the cut plane.  Notably, the component of the center of mass normal to the glide/cut plane is calculated for the two halves of the the system, and the difference is computed\n",
    "\n",
    "$$ delta_{gsf} = \\left<x\\right>^{above} - \\left<x\\right>^{below}.$$\n",
    "\n",
    "The relaxation normal is then taken as the change in the center of mass difference after the shift is applied.\n",
    "\n",
    "$$ \\Delta\\delta_{gsf} = delta_{gsf}(\\vec{s}) - delta_{gsf}(\\vec{0}).$$\n",
    "\n",
    "The stacking_fault_multi calculation evaluates both $\\gamma_{gsf}$ and $\\Delta\\delta_{gsf}$ for a complete 2D grid of $\\vec{s}$ values.  The grid is built by taking fractional steps along two vectors parallel to the shift plane."
   ]
  },
  {
   "cell_type": "markdown",
   "metadata": {},
   "source": [
    "## Demonstration"
   ]
  },
  {
   "cell_type": "markdown",
   "metadata": {},
   "source": [
    "### 1. Library imports"
   ]
  },
  {
   "cell_type": "markdown",
   "metadata": {},
   "source": [
    "Import libraries needed by the calculation. The external libraries used are:\n",
    "\n",
    "- [numpy](http://www.numpy.org/)\n",
    "\n",
    "- [pandas](https://pandas.pydata.org/)\n",
    "\n",
    "- [DataModelDict](https://github.com/usnistgov/DataModelDict)\n",
    "\n",
    "- [atomman](https://github.com/usnistgov/atomman)\n",
    "\n",
    "- [iprPy](https://github.com/usnistgov/iprPy)"
   ]
  },
  {
   "cell_type": "code",
   "execution_count": 1,
   "metadata": {},
   "outputs": [],
   "source": [
    "# Standard library imports\n",
    "from __future__ import division, absolute_import, print_function\n",
    "import os\n",
    "import sys\n",
    "import uuid\n",
    "import shutil\n",
    "import datetime\n",
    "from copy import deepcopy\n",
    "\n",
    "# http://www.numpy.org/\n",
    "import numpy as np \n",
    "\n",
    "# https://pandas.pydata.org/\n",
    "import pandas as pd\n",
    "\n",
    "# https://github.com/usnistgov/DataModelDict \n",
    "from DataModelDict import DataModelDict as DM\n",
    "\n",
    "# https://github.com/usnistgov/atomman \n",
    "import atomman as am\n",
    "import atomman.lammps as lmp\n",
    "import atomman.unitconvert as uc\n",
    "\n",
    "# https://github.com/usnistgov/iprPy\n",
    "import iprPy"
   ]
  },
  {
   "cell_type": "markdown",
   "metadata": {},
   "source": [
    "Import plotting library for the Notebook\n",
    "\n",
    "- [matplotlib](https://matplotlib.org/)"
   ]
  },
  {
   "cell_type": "code",
   "execution_count": 2,
   "metadata": {},
   "outputs": [],
   "source": [
    "import matplotlib.pyplot as plt\n",
    "from matplotlib import cm\n",
    "%matplotlib inline"
   ]
  },
  {
   "cell_type": "markdown",
   "metadata": {},
   "source": [
    "#### 1.2. Default calculation setup"
   ]
  },
  {
   "cell_type": "code",
   "execution_count": 3,
   "metadata": {},
   "outputs": [],
   "source": [
    "# Specify calculation style\n",
    "calc_style = 'stacking_fault_map_2D'\n",
    "\n",
    "# If workingdir is already set, then do nothing (already in correct folder)\n",
    "try:\n",
    "    workingdir = workingdir\n",
    "\n",
    "# Change to workingdir if not already there\n",
    "except:\n",
    "    workingdir = os.path.join(os.getcwd(), 'calculationfiles', calc_style)\n",
    "    if not os.path.isdir(workingdir):\n",
    "        os.mkdir(workingdir)\n",
    "    os.chdir(workingdir)\n",
    "\n",
    "# Default iprPy library directory\n",
    "librarydir = os.path.join(iprPy.rootdir, '..', 'library')"
   ]
  },
  {
   "cell_type": "markdown",
   "metadata": {},
   "source": [
    "### 2. Assign values for the calculation's run parameters"
   ]
  },
  {
   "cell_type": "markdown",
   "metadata": {},
   "source": [
    "#### 2.1 Specify system-specific paths\n",
    "\n",
    "Simple input parameters:\n",
    "\n",
    "- __lammps_command__ is the LAMMPS command to use.\n",
    "\n",
    "- __mpi_command__ MPI command for running LAMMPS in parallel. A value of None will run simulations serially."
   ]
  },
  {
   "cell_type": "code",
   "execution_count": 4,
   "metadata": {},
   "outputs": [],
   "source": [
    "lammps_command = 'lmp_serial'\n",
    "mpi_command = None"
   ]
  },
  {
   "cell_type": "markdown",
   "metadata": {},
   "source": [
    "#### 2.2. Load interatomic potential\n",
    "\n",
    "- __potential_name__ gives the name of the potential_LAMMPS reference record in the iprPy library to use for the calculation.  \n",
    "\n",
    "- __potential_file__ gives the path to the potential_LAMMPS reference record to use.  Here, this parameter is automatically generated using potential_name and librarydir.\n",
    "\n",
    "- __potential_dir__ gives the path for the folder containing the artifacts associated with the potential (i.e. eam.alloy file).  Here, this parameter is automatically generated using potential_name and librarydir.\n",
    "\n",
    "- __potential__ is an atomman.lammps.Potential object (required).  Here, this parameter is automatically generated from potential_file and potential_dir."
   ]
  },
  {
   "cell_type": "code",
   "execution_count": 5,
   "metadata": {},
   "outputs": [
    {
     "name": "stdout",
     "output_type": "stream",
     "text": [
      "Successfully loaded potential 1999--Mishin-Y--Ni--LAMMPS--ipr1\n"
     ]
    }
   ],
   "source": [
    "potential_name = '1999--Mishin-Y--Ni--LAMMPS--ipr1'\n",
    "\n",
    "# Define potential_file and potential_dir using librarydir and potential_name\n",
    "potential_file = os.path.join(librarydir, 'potential_LAMMPS', potential_name) + '.json'\n",
    "potential_dir = os.path.join(librarydir, 'potential_LAMMPS', potential_name)\n",
    "\n",
    "# Initialize Potential object using potential_file and potential_dir.\n",
    "potential = lmp.Potential(potential_file, potential_dir)\n",
    "print('Successfully loaded potential', potential)"
   ]
  },
  {
   "cell_type": "markdown",
   "metadata": {},
   "source": [
    "#### 2.3. Load initial unit cell system\n",
    "\n",
    "- __prototype_name__ gives the name of the crystal_prototype reference record in the iprPy library to load. \n",
    "\n",
    "- __symbols__ is a list of the potential's elemental model symbols to associate with the unique atom types of the loaded system. \n",
    "\n",
    "- __box_parameters__ is a list of the a, b, c lattice constants to assign to the loaded file.\n",
    "\n",
    "- __load_file__ gives the path to the atomic configuration file to load for the ucell system.  Here, this is generated automatically using prototype_name and librarydir.\n",
    "\n",
    "- __load_style__ specifies the format of load_file.  Here, this is automatically set for crystal_prototype records.\n",
    "\n",
    "- __load_options__ specifies any other keyword options for properly loading the load_file.  Here, this is automatically set for crystal_prototype records.\n",
    "\n",
    "- __ucell__ is an atomman.System representing a fundamental unit cell of the system (required).  Here, this is generated using the load_* parameters and symbols."
   ]
  },
  {
   "cell_type": "code",
   "execution_count": 6,
   "metadata": {},
   "outputs": [
    {
     "name": "stdout",
     "output_type": "stream",
     "text": [
      "avect =  [ 3.520,  0.000,  0.000]\n",
      "bvect =  [ 0.000,  3.520,  0.000]\n",
      "cvect =  [ 0.000,  0.000,  3.520]\n",
      "origin = [ 0.000,  0.000,  0.000]\n",
      "natoms = 4\n",
      "natypes = 1\n",
      "symbols = ('Ni',)\n",
      "pbc = [ True  True  True]\n",
      "     id |   atype |  pos[0] |  pos[1] |  pos[2]\n",
      "      0 |       1 |   0.000 |   0.000 |   0.000\n",
      "      1 |       1 |   0.000 |   1.760 |   1.760\n",
      "      2 |       1 |   1.760 |   0.000 |   1.760\n",
      "      3 |       1 |   1.760 |   1.760 |   0.000\n"
     ]
    }
   ],
   "source": [
    "prototype_name = 'A1--Cu--fcc'\n",
    "symbols = ['Ni']\n",
    "box_parameters = uc.set_in_units([3.52, 3.52, 3.52], 'angstrom')\n",
    "\n",
    "# Define load_file using librarydir and prototype_name\n",
    "load_file = os.path.join(librarydir, 'crystal_prototype', prototype_name+'.json')\n",
    "\n",
    "# Define load_style and load_options for crystal_prototype records\n",
    "load_style = 'system_model'\n",
    "load_options = {}\n",
    "\n",
    "# Create ucell by loading prototype record\n",
    "ucell = am.load(load_style, load_file, symbols=symbols, **load_options)\n",
    "\n",
    "# Rescale ucell using box_parameters\n",
    "ucell.box_set(a=box_parameters[0], b=box_parameters[1], c=box_parameters[2], scale=True)\n",
    "\n",
    "print(ucell)"
   ]
  },
  {
   "cell_type": "markdown",
   "metadata": {},
   "source": [
    "#### 2.4. Specify the defect parameters\n",
    "\n",
    "- __stackingfault_name__ gives the name of the stacking_fault reference record in the iprPy library to use. \n",
    "\n",
    "- __numshifts1__ is the number of shifts along shiftvector1 to evaluate. \n",
    "\n",
    "- __numshifts2__ is the number of shifts along shiftvector2 to evaluate. \n",
    "\n",
    "- __stackingfault_file__ gives the path to the stacking_fault reference record to use. Here, this is built automatically using stackingfault_name and librarydir.\n",
    "\n",
    "- __cutboxvector__ specifies which of the three box vectors ('a', 'b', or 'c') is to be made non-periodic to create the free surface.  Here, this is extracted from the defect model.\n",
    "\n",
    "- __faultpos__ specifies the relative position within the rotated cell before applying sizemults where the fault plane is placed.  Here, this is extracted from the defect model.\n",
    "\n",
    "- __shiftvector1, shiftvector2__ specify two non-parallel Miller crystal vectors within the fault plane corresponding to full planar shifts from one perfect crystal configuration to another.  Here, these are extracted from the defect model."
   ]
  },
  {
   "cell_type": "code",
   "execution_count": 7,
   "metadata": {},
   "outputs": [
    {
     "name": "stdout",
     "output_type": "stream",
     "text": [
      "cutboxvector = c\n",
      "faultpos = 0.5\n",
      "shiftvector1 =  0.5 -0.5  0.0\n",
      "shiftvector2 =  0.5  0.5 -1.0\n"
     ]
    }
   ],
   "source": [
    "stackingfault_name = 'A1--Cu--fcc--111sf'\n",
    "\n",
    "numshifts1 = 11\n",
    "numshifts2 = 11\n",
    "\n",
    "# Define surface_file using librarydir and surface_name\n",
    "stackingfault_file = os.path.join(librarydir, 'stacking_fault', stackingfault_name+'.json')\n",
    "\n",
    "# Parse freesurface_file using iprPy.input.interpret()\n",
    "defectinputs = {'stackingfault_file':stackingfault_file}\n",
    "iprPy.input.interpret('stackingfaultpart1', defectinputs)\n",
    "\n",
    "# Extract parameters from defect model\n",
    "cutboxvector = defectinputs['stackingfault_cutboxvector']\n",
    "faultpos = defectinputs['stackingfault_faultpos']\n",
    "shiftvector1 = defectinputs['stackingfault_shiftvector1']\n",
    "shiftvector2 = defectinputs['stackingfault_shiftvector2']\n",
    "print('cutboxvector =', cutboxvector)\n",
    "print('faultpos =', faultpos)\n",
    "print('shiftvector1 =', shiftvector1)\n",
    "print('shiftvector2 =', shiftvector2)"
   ]
  },
  {
   "cell_type": "markdown",
   "metadata": {},
   "source": [
    "#### 2.5. Modify system\n",
    "\n",
    "- __a_uvw__ Miller crystal vector used to generate a rotated system from ucell.  The a box vector of the rotated system will correspond to the crystal vector relative to ucell.  Here, this is extracted from the defect model.\n",
    "\n",
    "- __b_uvw__ Miller crystal vector used to generate a rotated system from ucell.  The a box vector of the rotated system will correspond to the crystal vector relative to ucell.  Here, this is extracted from the defect model.\n",
    "\n",
    "- __c_uvw__ Miller crystal vector used to generate a rotated system from ucell.  The a box vector of the rotated system will correspond to the crystal vector relative to ucell.  Here, this is extracted from the defect model.\n",
    "\n",
    "- __atomshift__ fractional rigid body shift to apply to the rotated system. Here, this is extracted from the defect model.\n",
    "\n",
    "- __sizemults__ list of three integers specifying how many times the ucell vectors of $a$, $b$ and $c$ are replicated in creating system.\n",
    "\n",
    "- __system__ is an atomman.System to use as the input system for the calculation (required). "
   ]
  },
  {
   "cell_type": "code",
   "execution_count": 8,
   "metadata": {},
   "outputs": [
    {
     "name": "stdout",
     "output_type": "stream",
     "text": [
      "a_uvw = [ 1. -1.  0.]\n",
      "b_uvw = [ 1.  1. -2.]\n",
      "c_uvw = [ 1.  1.  1.]\n",
      "atomshift = [ 0.01  0.01  0.01]\n",
      "# of atoms in system = 6000\n"
     ]
    }
   ],
   "source": [
    "sizemults = [5, 5, 10]\n",
    "\n",
    "# Extract parameters from defect model\n",
    "a_uvw = np.array(defectinputs['a_uvw'].strip().split(), dtype=float)\n",
    "b_uvw = np.array(defectinputs['b_uvw'].strip().split(), dtype=float)\n",
    "c_uvw = np.array(defectinputs['c_uvw'].strip().split(), dtype=float)\n",
    "atomshift = np.array(defectinputs['atomshift'].strip().split(), dtype=float)\n",
    "print('a_uvw =', a_uvw)\n",
    "print('b_uvw =', b_uvw)\n",
    "print('c_uvw =', c_uvw)\n",
    "print('atomshift =', atomshift)\n",
    "\n",
    "# Rotate to specified uvws\n",
    "system, transform = ucell.rotate(np.array([a_uvw, b_uvw, c_uvw]), return_transform=True)\n",
    "\n",
    "# Scale atomshift by rotated system's box vectors\n",
    "shift = (atomshift[0] * system.box.avect +\n",
    "         atomshift[1] * system.box.bvect +\n",
    "         atomshift[2] * system.box.cvect)\n",
    "system.atoms.pos += shift\n",
    "\n",
    "# Generate system by supersizing ucell\n",
    "system = system.supersize(*sizemults)\n",
    "print('# of atoms in system =', system.natoms)"
   ]
  },
  {
   "cell_type": "markdown",
   "metadata": {},
   "source": [
    "#### 2.6. Modify defect parameters based on modified system information\n",
    "\n",
    "- __shiftvector1, shiftvector2__ are converted to Cartesian vectors and transformed relative to the rotated system.\n",
    "\n",
    "- __faultpos__ is adjusted to be relative to the supercell system by placing the cut inside a/the center cell replica."
   ]
  },
  {
   "cell_type": "code",
   "execution_count": 9,
   "metadata": {},
   "outputs": [
    {
     "name": "stdout",
     "output_type": "stream",
     "text": [
      "faultpos = 0.55\n",
      "cartshiftvector1 = [ 2.48901587  0.          0.        ]\n",
      "cartshiftvector2 = [ 0.          4.31110195  0.        ]\n"
     ]
    }
   ],
   "source": [
    "# Convert shift vectors from crystallographic to Cartesian vectors\n",
    "shiftvector1 = np.array(shiftvector1.strip().split(), dtype=float)\n",
    "shiftvector2 = np.array(shiftvector2.strip().split(), dtype=float)\n",
    "cartshiftvector1 = ucell.box.vects.T.dot(shiftvector1)\n",
    "cartshiftvector2 = ucell.box.vects.T.dot(shiftvector2)\n",
    "\n",
    "# Transform shift vectors\n",
    "cartshiftvector1 = transform.dot(cartshiftvector1)\n",
    "cartshiftvector1[np.isclose(cartshiftvector1, 0.0, atol=1e-10, rtol=0.0)] = 0.0\n",
    "cartshiftvector2 = transform.dot(cartshiftvector2)\n",
    "cartshiftvector2[np.isclose(cartshiftvector2, 0.0, atol=1e-10, rtol=0.0)] = 0.0\n",
    "\n",
    "# Identify number of size multiples, m, along cutboxvector\n",
    "if   cutboxvector == 'a': \n",
    "    m = sizemults[0]\n",
    "elif cutboxvector == 'b': \n",
    "    m = sizemults[1]\n",
    "elif cutboxvector == 'c': \n",
    "    m = sizemults[2]\n",
    "\n",
    "# For odd m, initial position of 0.5 goes to 0.5\n",
    "if m % 2 == 1:\n",
    "    faultpos = (faultpos + (m-1) * 0.5) / m\n",
    "# For even m, initial position of 0.0 goes to 0.5\n",
    "else:\n",
    "    faultpos = (2 * faultpos + m) / (2 * m)\n",
    "    \n",
    "print('faultpos =', faultpos)\n",
    "print('cartshiftvector1 =', cartshiftvector1)\n",
    "print('cartshiftvector2 =', cartshiftvector2)"
   ]
  },
  {
   "cell_type": "markdown",
   "metadata": {},
   "source": [
    "#### 2.6. Specify calculation-specific run parameters\n",
    "\n",
    "- __energytolerance__ is the energy tolerance to use during the minimizations. This is unitless.\n",
    "\n",
    "- __forcetolerance__ is the force tolerance to use during the minimizations. This is in energy/length units.\n",
    "\n",
    "- __maxiterations__ is the maximum number of minimization iterations to use.\n",
    "\n",
    "- __maxevaluations__ is the maximum number of minimization evaluations to use.\n",
    "\n",
    "- __maxatommotion__ is the largest distance that an atom is allowed to move during a minimization iteration. This is in length units."
   ]
  },
  {
   "cell_type": "code",
   "execution_count": 10,
   "metadata": {},
   "outputs": [],
   "source": [
    "energytolerance = 1e-8\n",
    "forcetolerance = uc.set_in_units(0.0, 'eV/angstrom')\n",
    "maxiterations = 10000\n",
    "maxevaluations = 100000\n",
    "maxatommotion = uc.set_in_units(0.01, 'angstrom')"
   ]
  },
  {
   "cell_type": "markdown",
   "metadata": {},
   "source": [
    "### 3. Define calculation function(s) and generate template LAMMPS script(s)"
   ]
  },
  {
   "cell_type": "markdown",
   "metadata": {},
   "source": [
    "#### 3.1. sfmin.template"
   ]
  },
  {
   "cell_type": "code",
   "execution_count": 11,
   "metadata": {},
   "outputs": [],
   "source": [
    "with open('sfmin.template', 'w') as f:\n",
    "    f.write(\"\"\"#LAMMPS input script that performs an energy minimization\n",
    "#for a system with a stacking fault\n",
    "\n",
    "<atomman_system_info>\n",
    "\n",
    "<atomman_pair_info>\n",
    "\n",
    "<fix_cut_setforce>\n",
    "\n",
    "thermo_style custom step lx ly lz pxx pyy pzz pe\n",
    "thermo_modify format float %.13e\n",
    "\n",
    "compute peatom all pe/atom \n",
    "\n",
    "min_modify dmax <dmax>\n",
    "\n",
    "dump dumpit all custom <maxeval> <sim_directory>*.dump id type x y z c_peatom\n",
    "dump_modify dumpit format <dump_modify_format>\n",
    "\n",
    "minimize <etol> <ftol> <maxiter> <maxeval>\"\"\")"
   ]
  },
  {
   "cell_type": "markdown",
   "metadata": {},
   "source": [
    "#### 3.2. stackingfaultpoint()"
   ]
  },
  {
   "cell_type": "code",
   "execution_count": 12,
   "metadata": {},
   "outputs": [],
   "source": [
    "def stackingfaultpoint(lammps_command, system, potential,\n",
    "                       mpi_command=None, sim_directory=None,\n",
    "                       cutboxvector='c', faultpos=0.5,\n",
    "                       faultshift=[0.0, 0.0, 0.0], etol=0.0, ftol=0.0,\n",
    "                       maxiter=10000, maxeval=100000,\n",
    "                       dmax=uc.set_in_units(0.01, 'angstrom'),\n",
    "                       lammps_date=None):\n",
    "    \"\"\"\n",
    "    Perform a stacking fault relaxation simulation for a single faultshift.\n",
    "    \n",
    "    Parameters\n",
    "    ----------\n",
    "    lammps_command :str\n",
    "        Command for running LAMMPS.\n",
    "    system : atomman.System\n",
    "        The system to perform the calculation on.\n",
    "    potential : atomman.lammps.Potential\n",
    "        The LAMMPS implemented potential to use.\n",
    "    mpi_command : str, optional\n",
    "        The MPI command for running LAMMPS in parallel.  If not given, LAMMPS\n",
    "        will run serially.\n",
    "    sim_directory : str, optional\n",
    "        The path to the directory to perform the simuation in.  If not\n",
    "        given, will use the current working directory.\n",
    "    etol : float, optional\n",
    "        The energy tolerance for the structure minimization. This value is\n",
    "        unitless. (Default is 0.0).\n",
    "    ftol : float, optional\n",
    "        The force tolerance for the structure minimization. This value is in\n",
    "        units of force. (Default is 0.0).\n",
    "    maxiter : int, optional\n",
    "        The maximum number of minimization iterations to use (default is \n",
    "        10000).\n",
    "    maxeval : int, optional\n",
    "        The maximum number of minimization evaluations to use (default is \n",
    "        100000).\n",
    "    dmax : float, optional\n",
    "        The maximum distance in length units that any atom is allowed to relax\n",
    "        in any direction during a single minimization iteration (default is\n",
    "        0.01 Angstroms).\n",
    "    cutboxvector : str, optional\n",
    "        Indicates which of the three system box vectors, 'a', 'b', or 'c', to\n",
    "        cut with a non-periodic boundary (default is 'c').\n",
    "    faultpos : float, optional\n",
    "        The fractional position along the cutboxvector where the stacking\n",
    "        fault plane will be placed (default is 0.5).\n",
    "    faultshift : list of float, optional\n",
    "        The vector shift to apply to all atoms above the fault plane defined\n",
    "        by faultpos (default is [0,0,0], i.e. no shift applied).\n",
    "    lammps_date : datetime.date or None, optional\n",
    "        The date version of the LAMMPS executable.  If None, will be identified from the lammps_command (default is None).\n",
    "    \n",
    "    Returns\n",
    "    -------\n",
    "    dict\n",
    "        Dictionary of results consisting of keys:\n",
    "        \n",
    "        - **'logfile'** (*str*) - The filename of the LAMMPS log file.\n",
    "        - **'dumpfile'** (*str*) - The filename of the LAMMPS dump file\n",
    "          of the relaxed system.\n",
    "        - **'system'** (*atomman.System*) - The relaxed system.\n",
    "        - **'A_fault'** (*float*) - The area of the fault surface.\n",
    "        - **'E_total'** (*float*) - The total potential energy of the relaxed\n",
    "          system.\n",
    "        - **'disp'** (*float*) - The center of mass difference between atoms\n",
    "          above and below the fault plane in the cutboxvector direction.\n",
    "    \n",
    "    Raises\n",
    "    ------\n",
    "    ValueError\n",
    "        For invalid cutboxvectors.\n",
    "    \"\"\"\n",
    "    \n",
    "    # Set options based on cutboxvector\n",
    "    if cutboxvector == 'a':\n",
    "        # Assert system is compatible with planeaxis value\n",
    "        if system.box.xy != 0.0 or system.box.xz != 0.0:\n",
    "            raise ValueError(\"box tilts xy and xz must be 0 for cutboxvector='a'\")\n",
    "        \n",
    "        # Specify cutindex\n",
    "        cutindex = 0\n",
    "        \n",
    "        # Identify atoms above fault\n",
    "        faultpos = system.box.xlo + system.box.lx * faultpos\n",
    "        abovefault = system.atoms.pos[:, cutindex] > (faultpos)\n",
    "        \n",
    "        # Compute fault area\n",
    "        faultarea = np.linalg.norm(np.cross(system.box.bvect,\n",
    "                                            system.box.cvect))\n",
    "        \n",
    "        # Give correct LAMMPS fix setforce command\n",
    "        fix_cut_setforce = 'fix cut all setforce NULL 0 0'\n",
    "    \n",
    "    elif cutboxvector == 'b':\n",
    "        # Assert system is compatible with planeaxis value\n",
    "        if system.box.yz != 0.0:\n",
    "            raise ValueError(\"box tilt yz must be 0 for cutboxvector='b'\")\n",
    "        \n",
    "        # Specify cutindex\n",
    "        cutindex = 1\n",
    "        \n",
    "        # Identify atoms above fault\n",
    "        faultpos = system.box.ylo + system.box.ly * faultpos\n",
    "        abovefault = system.atoms.pos[:, cutindex] > (faultpos)\n",
    "        \n",
    "        # Compute fault area\n",
    "        faultarea = np.linalg.norm(np.cross(system.box.avect,\n",
    "                                            system.box.cvect))\n",
    "        \n",
    "        # Give correct LAMMPS fix setforce command\n",
    "        fix_cut_setforce = 'fix cut all setforce 0 NULL 0'\n",
    "        \n",
    "    elif cutboxvector == 'c':\n",
    "        # Specify cutindex\n",
    "        cutindex = 2\n",
    "        \n",
    "        # Identify atoms above fault\n",
    "        faultpos = system.box.zlo + system.box.lz * faultpos\n",
    "        abovefault = system.atoms.pos[:, cutindex] > (faultpos)\n",
    "        \n",
    "        # Compute fault area\n",
    "        faultarea = np.linalg.norm(np.cross(system.box.avect,\n",
    "                                            system.box.bvect))\n",
    "        \n",
    "        # Give correct LAMMPS fix setforce command\n",
    "        fix_cut_setforce = 'fix cut all setforce 0 0 NULL'\n",
    "        \n",
    "    else: \n",
    "        raise ValueError('Invalid cutboxvector')\n",
    "    \n",
    "    # Assert faultshift is in cut plane\n",
    "    if faultshift[cutindex] != 0.0:\n",
    "        raise ValueError('faultshift must be in cut plane')\n",
    "    \n",
    "    # Generate stacking fault system by shifting atoms above the fault\n",
    "    sfsystem = deepcopy(system)\n",
    "    sfsystem.pbc = [True, True, True]\n",
    "    sfsystem.pbc[cutindex] = False\n",
    "    sfsystem.atoms.pos[abovefault] += faultshift\n",
    "    sfsystem.wrap()\n",
    "    \n",
    "    if sim_directory is not None:\n",
    "        # Create sim_directory if it doesn't exist\n",
    "        if not os.path.isdir(sim_directory):\n",
    "            os.mkdir(sim_directory)\n",
    "        \n",
    "        # Add '/' to end of sim_directory string if needed\n",
    "        if sim_directory[-1] != '/': \n",
    "            sim_directory = sim_directory + '/'\n",
    "    else:\n",
    "        # Set sim_directory if is None\n",
    "        sim_directory = ''\n",
    "    \n",
    "    # Get lammps units\n",
    "    lammps_units = lmp.style.unit(potential.units)\n",
    "       \n",
    "    #Get lammps version date\n",
    "    if lammps_date is None:\n",
    "        lammps_date = lmp.checkversion(lammps_command)['date']\n",
    "    \n",
    "    # Define lammps variables\n",
    "    lammps_variables = {}\n",
    "    system_info = sfsystem.dump('atom_data',\n",
    "                                f=os.path.join(sim_directory, 'system.dat'),\n",
    "                                units=potential.units,\n",
    "                                atom_style=potential.atom_style)\n",
    "    lammps_variables['atomman_system_info'] = system_info\n",
    "    lammps_variables['atomman_pair_info'] = potential.pair_info(sfsystem.symbols)\n",
    "    lammps_variables['fix_cut_setforce'] = fix_cut_setforce\n",
    "    lammps_variables['sim_directory'] = sim_directory\n",
    "    lammps_variables['etol'] = etol\n",
    "    lammps_variables['ftol'] = uc.get_in_units(ftol, lammps_units['force'])\n",
    "    lammps_variables['maxiter'] = maxiter\n",
    "    lammps_variables['maxeval'] = maxeval\n",
    "    lammps_variables['dmax'] = uc.get_in_units(dmax, lammps_units['length'])\n",
    "    \n",
    "    # Set dump_modify format based on dump_modify_version\n",
    "    if lammps_date < datetime.date(2016, 8, 3):\n",
    "        lammps_variables['dump_modify_format'] = '\"%i %i %.13e %.13e %.13e %.13e\"'\n",
    "    else:\n",
    "        lammps_variables['dump_modify_format'] = 'float %.13e'\n",
    "    \n",
    "    # Write lammps input script\n",
    "    template_file = 'sfmin.template'\n",
    "    lammps_script = os.path.join(sim_directory, 'sfmin.in')\n",
    "    with open(template_file) as f:\n",
    "        template = f.read()\n",
    "    with open(lammps_script, 'w') as f:\n",
    "        f.write(iprPy.tools.filltemplate(template, lammps_variables,\n",
    "                                         '<', '>'))\n",
    "    \n",
    "    # Run LAMMPS\n",
    "    output = lmp.run(lammps_command, lammps_script, mpi_command,\n",
    "                     return_style='object',\n",
    "                     logfile=os.path.join(sim_directory, 'log.lammps'))\n",
    "    \n",
    "    # Extract output values\n",
    "    thermo = output.simulations[-1]['thermo']\n",
    "    logfile = os.path.join(sim_directory, 'log.lammps')\n",
    "    dumpfile = os.path.join(sim_directory, '%i.dump' % thermo.Step.values[-1])\n",
    "    E_total = uc.set_in_units(thermo.PotEng.values[-1],\n",
    "                              lammps_units['energy'])\n",
    "    \n",
    "    #Load relaxed system\n",
    "    sfsystem = am.load('atom_dump', dumpfile, symbols=sfsystem.symbols)\n",
    "    \n",
    "    # Find center of mass difference in top/bottom planes\n",
    "    disp = (sfsystem.atoms.pos[abovefault, cutindex].mean()\n",
    "            - sfsystem.atoms.pos[~abovefault, cutindex].mean())\n",
    "    \n",
    "    # Return results\n",
    "    results_dict = {}\n",
    "    results_dict['logfile'] = logfile\n",
    "    results_dict['dumpfile'] = dumpfile\n",
    "    results_dict['system'] = sfsystem\n",
    "    results_dict['A_fault'] = faultarea\n",
    "    results_dict['E_total'] = E_total\n",
    "    results_dict['disp'] = disp\n",
    "    \n",
    "    return results_dict\n",
    "\n"
   ]
  },
  {
   "cell_type": "markdown",
   "metadata": {},
   "source": [
    "#### 3.3. stackingfaultworker()"
   ]
  },
  {
   "cell_type": "code",
   "execution_count": 13,
   "metadata": {},
   "outputs": [],
   "source": [
    "def stackingfaultworker(lammps_command, system, potential,\n",
    "                        shiftvector1, shiftvector2, shiftfraction1,\n",
    "                        shiftfraction2, mpi_command=None, cutboxvector=None,\n",
    "                        faultpos=0.5, etol=0.0, ftol=0.0, maxiter=10000,\n",
    "                        maxeval=100000, \n",
    "                        dmax=uc.set_in_units(0.01, 'angstrom'),\n",
    "                        lammps_date=None):\n",
    "    \"\"\"\n",
    "    A wrapper function around stackingfaultpoint. Converts\n",
    "    shiftfractions and shiftvectors to a faultshift, runs stackingfaultpoint,\n",
    "    and adds keys 'shift1' and 'shift2' to the returned dictionary\n",
    "    corresponding to the shiftfractions.\n",
    "    \"\"\"\n",
    "    \n",
    "    # Compute the faultshift\n",
    "    faultshift = shiftfraction1 * shiftvector1 + shiftfraction2 * shiftvector2\n",
    "    \n",
    "    # Name the simulation directory based on shiftfractions\n",
    "    sim_directory = 'a%.10f-b%.10f' % (shiftfraction1, shiftfraction2)\n",
    "    \n",
    "    # Evaluate the system at the shift\n",
    "    sf = stackingfaultpoint(lammps_command, system, potential,\n",
    "                            mpi_command=mpi_command,\n",
    "                            cutboxvector=cutboxvector,\n",
    "                            faultpos=faultpos,\n",
    "                            etol=etol,\n",
    "                            ftol=ftol,\n",
    "                            maxiter=maxiter,\n",
    "                            maxeval=maxeval,\n",
    "                            dmax=dmax,\n",
    "                            faultshift=faultshift,\n",
    "                            sim_directory=sim_directory,\n",
    "                            lammps_date=lammps_date)\n",
    "    \n",
    "    # Add shiftfractions to sf results\n",
    "    sf['shift1'] = shiftfraction1\n",
    "    sf['shift2'] = shiftfraction2\n",
    "    \n",
    "    return sf\n",
    "\n"
   ]
  },
  {
   "cell_type": "markdown",
   "metadata": {},
   "source": [
    "#### 3.4. stackingfaultmap()"
   ]
  },
  {
   "cell_type": "code",
   "execution_count": 14,
   "metadata": {},
   "outputs": [],
   "source": [
    "def stackingfaultmap(lammps_command, system, potential,\n",
    "                     shiftvector1, shiftvector2, mpi_command=None,\n",
    "                     numshifts1=11, numshifts2=11,\n",
    "                     cutboxvector=None, faultpos=0.5,\n",
    "                     etol=0.0, ftol=0.0, maxiter=10000, maxeval=100000,\n",
    "                     dmax=uc.set_in_units(0.01, 'angstrom')):\n",
    "    \"\"\"\n",
    "    Computes a generalized stacking fault map for shifts along a regular 2D\n",
    "    grid.\n",
    "    \n",
    "    Parameters\n",
    "    ----------\n",
    "    lammps_command :str\n",
    "        Command for running LAMMPS.\n",
    "    system : atomman.System\n",
    "        The system to perform the calculation on.\n",
    "    potential : atomman.lammps.Potential\n",
    "        The LAMMPS implemented potential to use.\n",
    "    shiftvector1 : list of floats or numpy.array\n",
    "        One of the generalized stacking fault shifting vectors.\n",
    "    shiftvector2 : list of floats or numpy.array\n",
    "        One of the generalized stacking fault shifting vectors.\n",
    "    mpi_command : str, optional\n",
    "        The MPI command for running LAMMPS in parallel.  If not given, LAMMPS\n",
    "        will run serially.\n",
    "    etol : float, optional\n",
    "        The energy tolerance for the structure minimization. This value is\n",
    "        unitless. (Default is 0.0).\n",
    "    ftol : float, optional\n",
    "        The force tolerance for the structure minimization. This value is in\n",
    "        units of force. (Default is 0.0).\n",
    "    maxiter : int, optional\n",
    "        The maximum number of minimization iterations to use (default is \n",
    "        10000).\n",
    "    maxeval : int, optional\n",
    "        The maximum number of minimization evaluations to use (default is \n",
    "        100000).\n",
    "    dmax : float, optional\n",
    "        The maximum distance in length units that any atom is allowed to relax\n",
    "        in any direction during a single minimization iteration (default is\n",
    "        0.01 Angstroms).\n",
    "    cutboxvector : str, optional\n",
    "        Indicates which of the three system box vectors, 'a', 'b', or 'c', to\n",
    "        cut with a non-periodic boundary (default is 'c').\n",
    "    numshifts1 : int, optional\n",
    "        The number of equally spaced shiftfractions to evaluate along\n",
    "        shiftvector1.\n",
    "    numshifts2 : int, optional\n",
    "        The number of equally spaced shiftfractions to evaluate along\n",
    "        shiftvector2.\n",
    "    \n",
    "    Returns\n",
    "    -------\n",
    "    dict\n",
    "        Dictionary of results consisting of keys:\n",
    "        \n",
    "        - **'shift1'** (*numpy.array of float*) - The fractional shifts along\n",
    "          shiftvector1 where the stacking fault was evaluated.\n",
    "        - **'shift2'** (*numpy.array of float*) - The fractional shifts along\n",
    "          shiftvector2 where the stacking fault was evaluated.\n",
    "        - **'E_gsf'** (*numpy.array of float*) - The stacking fault formation\n",
    "          energies measured for all the (shift1, shift2) coordinates.\n",
    "        - **'delta_disp'** (*numpy.array of float*) - The change in the center\n",
    "          of mass difference between before and after applying the faultshift\n",
    "          for all the (shift1, shift2) coordinates.\n",
    "        - **'A_fault'** (*float*) - The area of the fault surface.\n",
    "    \"\"\"\n",
    "   \n",
    "    # Start sf_df as empty list\n",
    "    sf_df = []\n",
    "\n",
    "    # Construct mesh of regular points\n",
    "    shifts1, shifts2 = np.meshgrid(np.linspace(0, 1, numshifts1),\n",
    "                                   np.linspace(0, 1, numshifts2))\n",
    "    \n",
    "    # Identify lammps_date version\n",
    "    lammps_date = lmp.checkversion(lammps_command)['date']\n",
    "    \n",
    "    # Loop over all shift combinations\n",
    "    for shiftfraction1, shiftfraction2 in zip(shifts1.flat, shifts2.flat):\n",
    "        \n",
    "        # Evaluate the system at the shift\n",
    "        sf_df.append(stackingfaultworker(lammps_command, system, potential,\n",
    "                                         shiftvector1, shiftvector2,\n",
    "                                         shiftfraction1, shiftfraction2,\n",
    "                                         mpi_command=mpi_command,\n",
    "                                         cutboxvector=cutboxvector,\n",
    "                                         faultpos=faultpos,\n",
    "                                         etol=etol,\n",
    "                                         ftol=ftol,\n",
    "                                         maxiter=maxiter,\n",
    "                                         maxeval=maxeval,\n",
    "                                         dmax=dmax,\n",
    "                                         lammps_date=lammps_date))\n",
    "    \n",
    "    # Convert sf_df to pandas DataFrame\n",
    "    sf_df = pd.DataFrame(sf_df)\n",
    "    \n",
    "    # Identify the zeroshift column\n",
    "    zeroshift = sf_df[(np.isclose(sf_df.shift1, 0.0, atol=1e-10, rtol=0.0)\n",
    "                     & np.isclose(sf_df.shift2, 0.0, atol=1e-10, rtol=0.0))]\n",
    "    assert len(zeroshift) == 1, 'zeroshift simulation not uniquely identified'\n",
    "    \n",
    "    # Get zeroshift values\n",
    "    E_total_0 = zeroshift.E_total.values[0]\n",
    "    A_fault = zeroshift.A_fault.values[0]\n",
    "    disp_0 = zeroshift.disp.values[0]\n",
    "    \n",
    "    # Compute the stacking fault energy\n",
    "    E_gsf = (sf_df.E_total.values - E_total_0) / A_fault\n",
    "    \n",
    "    # Compute the change in displacement normal to fault plane\n",
    "    delta_disp = sf_df.disp.values - disp_0\n",
    "    \n",
    "    results_dict = {}\n",
    "    results_dict['shift1'] = sf_df.shift1.values\n",
    "    results_dict['shift2'] = sf_df.shift2.values\n",
    "    results_dict['E_gsf'] = E_gsf\n",
    "    results_dict['delta_disp'] = delta_disp\n",
    "    results_dict['A_fault'] = A_fault\n",
    "    \n",
    "    return results_dict\n",
    "\n"
   ]
  },
  {
   "cell_type": "markdown",
   "metadata": {},
   "source": [
    "### 4. Run calculation function(s)"
   ]
  },
  {
   "cell_type": "code",
   "execution_count": 15,
   "metadata": {},
   "outputs": [],
   "source": [
    "results_dict = stackingfaultmap(lammps_command, system, potential,\n",
    "                                cartshiftvector1, cartshiftvector2,\n",
    "                                mpi_command = mpi_command,\n",
    "                                numshifts1 = numshifts1, \n",
    "                                numshifts2 = numshifts2,\n",
    "                                cutboxvector = cutboxvector,\n",
    "                                faultpos = faultpos,\n",
    "                                etol = energytolerance,\n",
    "                                ftol = forcetolerance,\n",
    "                                maxiter = maxiterations,\n",
    "                                maxeval = maxevaluations,\n",
    "                                dmax = maxatommotion)"
   ]
  },
  {
   "cell_type": "code",
   "execution_count": 16,
   "metadata": {},
   "outputs": [
    {
     "data": {
      "text/plain": [
       "dict_keys(['shift1', 'shift2', 'E_gsf', 'delta_disp', 'A_fault'])"
      ]
     },
     "execution_count": 16,
     "metadata": {},
     "output_type": "execute_result"
    }
   ],
   "source": [
    "results_dict.keys()"
   ]
  },
  {
   "cell_type": "markdown",
   "metadata": {},
   "source": [
    "### 5. Report results"
   ]
  },
  {
   "cell_type": "markdown",
   "metadata": {},
   "source": [
    "#### 5.1. Define units for outputting values\n",
    "\n",
    "- __length_unit__ is the unit of area to display delta displacemets in.\n",
    "\n",
    "- __area_unit__ is the unit of area to display fault area in.\n",
    "\n",
    "- __energy_unit__ is the unit of energy to display cohesive energies in.\n",
    "\n",
    "- __energyperarea_unit__ is the energy per area to report the surface energy in."
   ]
  },
  {
   "cell_type": "code",
   "execution_count": 17,
   "metadata": {},
   "outputs": [],
   "source": [
    "length_unit = 'nm'\n",
    "area_unit = 'nm^2'\n",
    "energy_unit = 'eV'\n",
    "energyperarea_unit = 'mJ/m^2'"
   ]
  },
  {
   "cell_type": "markdown",
   "metadata": {},
   "source": [
    "#### 5.2. Print $A_{fault}$"
   ]
  },
  {
   "cell_type": "code",
   "execution_count": 18,
   "metadata": {},
   "outputs": [
    {
     "name": "stdout",
     "output_type": "stream",
     "text": [
      "A_fault = 10.7304011631 nm^2\n"
     ]
    }
   ],
   "source": [
    "print('A_fault =', uc.get_in_units(results_dict['A_fault'], area_unit), area_unit)"
   ]
  },
  {
   "cell_type": "markdown",
   "metadata": {},
   "source": [
    "#### 5.3. Load results as an atomman.defect.GammaSurface object and plot data"
   ]
  },
  {
   "cell_type": "code",
   "execution_count": 19,
   "metadata": {},
   "outputs": [],
   "source": [
    "gamma = am.defect.GammaSurface(a1vect=shiftvector1,\n",
    "                               a2vect=shiftvector2,\n",
    "                               box=ucell.box,\n",
    "                               a1=results_dict['shift1'],\n",
    "                               a2=results_dict['shift2'],\n",
    "                               E_gsf=results_dict['E_gsf'],\n",
    "                               delta=results_dict['delta_disp'])"
   ]
  },
  {
   "cell_type": "code",
   "execution_count": 20,
   "metadata": {},
   "outputs": [
    {
     "data": {
      "image/png": "[encoded data removed]",
      "text/plain": [
       "<matplotlib.figure.Figure at 0x1c82acf8>"
      ]
     },
     "metadata": {},
     "output_type": "display_data"
    }
   ],
   "source": [
    "gamma.E_gsf_surface_plot(length_unit=length_unit, energyperarea_unit=energyperarea_unit)\n",
    "plt.show()"
   ]
  },
  {
   "cell_type": "code",
   "execution_count": 21,
   "metadata": {},
   "outputs": [
    {
     "data": {
      "image/png": "[encoded data removed]",
      "text/plain": [
       "<matplotlib.figure.Figure at 0x1c93b5c0>"
      ]
     },
     "metadata": {},
     "output_type": "display_data"
    }
   ],
   "source": [
    "gamma.E_gsf_line_plot(vect=[0.5, 0.5, -1], length_unit=length_unit,\n",
    "                      energyperarea_unit=energyperarea_unit)\n",
    "plt.show()"
   ]
  },
  {
   "cell_type": "code",
   "execution_count": 22,
   "metadata": {},
   "outputs": [
    {
     "data": {
      "image/png": "[encoded data removed]",
      "text/plain": [
       "<matplotlib.figure.Figure at 0x1c97d780>"
      ]
     },
     "metadata": {},
     "output_type": "display_data"
    }
   ],
   "source": [
    "gamma.delta_line_plot(vect=[0.5, 0.5, -1], length_unit=length_unit)\n",
    "plt.show()"
   ]
  }
 ],
 "metadata": {
  "kernelspec": {
   "display_name": "Python 3",
   "language": "python",
   "name": "python3"
  },
  "language_info": {
   "codemirror_mode": {
    "name": "ipython",
    "version": 3
   },
   "file_extension": ".py",
   "mimetype": "text/x-python",
   "name": "python",
   "nbconvert_exporter": "python",
   "pygments_lexer": "ipython3",
   "version": "3.6.4"
  }
 },
 "nbformat": 4,
 "nbformat_minor": 2
}
