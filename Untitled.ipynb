{
 "cells": [
  {
   "cell_type": "code",
   "execution_count": 1,
   "metadata": {
    "collapsed": false
   },
   "outputs": [],
   "source": [
    "import os\n",
    "import numpy as np\n",
    "import sys\n",
    "\n",
    "iprPy_dir = 'C:/Users/lmh1/Documents/iprPy/IPR/'\n",
    "working_dir = 'E:/Current Sims/big/1400f/analysis/' \n",
    "\n",
    "sys.path.append(iprPy_dir)\n",
    "import iprpy\n",
    "import iprpy.lammps as lmp\n",
    "\n",
    "os.chdir(working_dir)\n",
    "\n",
    "system = lmp.read_dump('atomq.0')"
   ]
  },
  {
   "cell_type": "code",
   "execution_count": 2,
   "metadata": {
    "collapsed": false
   },
   "outputs": [
    {
     "name": "stdout",
     "output_type": "stream",
     "text": [
      "3\n",
      "[ 3 13 18 20  0  0  0  0  0  0  0  0  0  0  0  0  0  0  0  0  0  0  0  0  0\n",
      "  0  0  0  0  0  0  0  0  0  0  0  0  0  0  0  0]\n"
     ]
    }
   ],
   "source": [
    "a0 = 2.9269\n",
    "system.neighbors(0.933*a0)\n",
    "nlist = system.prop('nlist') \n",
    "print system.atoms(0, 'coordination')\n",
    "print nlist[0]\n",
    "system.write_nlist('nlist.0')"
   ]
  },
  {
   "cell_type": "code",
   "execution_count": 3,
   "metadata": {
    "collapsed": true
   },
   "outputs": [],
   "source": [
    "system.read_nlist('nlist.0')\n",
    "system.write_nlist('nlista.0')"
   ]
  },
  {
   "cell_type": "code",
   "execution_count": null,
   "metadata": {
    "collapsed": true
   },
   "outputs": [],
   "source": []
  }
 ],
 "metadata": {
  "kernelspec": {
   "display_name": "Python 2",
   "language": "python",
   "name": "python2"
  },
  "language_info": {
   "codemirror_mode": {
    "name": "ipython",
    "version": 2
   },
   "file_extension": ".py",
   "mimetype": "text/x-python",
   "name": "python",
   "nbconvert_exporter": "python",
   "pygments_lexer": "ipython2",
   "version": "2.7.10"
  }
 },
 "nbformat": 4,
 "nbformat_minor": 0
}
